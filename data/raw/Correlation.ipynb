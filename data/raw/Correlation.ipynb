{
 "cells": [
  {
   "cell_type": "code",
   "execution_count": 57,
   "id": "efab08c5",
   "metadata": {},
   "outputs": [],
   "source": [
    "import pandas as pd\n",
    "import numpy as np\n",
    "import warnings\n",
    "from datetime import datetime\n",
    "import plotly.graph_objects as go\n",
    "import matplotlib.pyplot as plt\n",
    "import seaborn as sns\n",
    "import plotly.express as px"
   ]
  },
  {
   "cell_type": "code",
   "execution_count": 58,
   "id": "b5f75aca",
   "metadata": {
    "scrolled": true
   },
   "outputs": [
    {
     "data": {
      "text/html": [
       "<div>\n",
       "<style scoped>\n",
       "    .dataframe tbody tr th:only-of-type {\n",
       "        vertical-align: middle;\n",
       "    }\n",
       "\n",
       "    .dataframe tbody tr th {\n",
       "        vertical-align: top;\n",
       "    }\n",
       "\n",
       "    .dataframe thead th {\n",
       "        text-align: right;\n",
       "    }\n",
       "</style>\n",
       "<table border=\"1\" class=\"dataframe\">\n",
       "  <thead>\n",
       "    <tr style=\"text-align: right;\">\n",
       "      <th></th>\n",
       "      <th>year</th>\n",
       "      <th>Country</th>\n",
       "      <th>continent</th>\n",
       "      <th>AverageTemperature</th>\n",
       "      <th>AverageTemperatureUncertainty</th>\n",
       "      <th>Latitude</th>\n",
       "      <th>Longitude</th>\n",
       "      <th>GHG</th>\n",
       "      <th>temp_diff</th>\n",
       "    </tr>\n",
       "  </thead>\n",
       "  <tbody>\n",
       "    <tr>\n",
       "      <th>0</th>\n",
       "      <td>1900</td>\n",
       "      <td>AFGHANISTAN</td>\n",
       "      <td>Asia</td>\n",
       "      <td>13.749333</td>\n",
       "      <td>0.748833</td>\n",
       "      <td>33.00</td>\n",
       "      <td>65.0</td>\n",
       "      <td>0.0</td>\n",
       "      <td>0.0</td>\n",
       "    </tr>\n",
       "    <tr>\n",
       "      <th>1</th>\n",
       "      <td>1900</td>\n",
       "      <td>ALBANIA</td>\n",
       "      <td>Europe</td>\n",
       "      <td>13.068583</td>\n",
       "      <td>0.723417</td>\n",
       "      <td>41.00</td>\n",
       "      <td>20.0</td>\n",
       "      <td>0.0</td>\n",
       "      <td>0.0</td>\n",
       "    </tr>\n",
       "    <tr>\n",
       "      <th>2</th>\n",
       "      <td>1900</td>\n",
       "      <td>ALGERIA</td>\n",
       "      <td>Africa</td>\n",
       "      <td>22.864167</td>\n",
       "      <td>0.826667</td>\n",
       "      <td>28.00</td>\n",
       "      <td>3.0</td>\n",
       "      <td>0.0</td>\n",
       "      <td>0.0</td>\n",
       "    </tr>\n",
       "    <tr>\n",
       "      <th>3</th>\n",
       "      <td>1900</td>\n",
       "      <td>AMERICAN SAMOA</td>\n",
       "      <td>Oceania</td>\n",
       "      <td>26.273500</td>\n",
       "      <td>0.891000</td>\n",
       "      <td>-14.33</td>\n",
       "      <td>-170.0</td>\n",
       "      <td>NaN</td>\n",
       "      <td>0.0</td>\n",
       "    </tr>\n",
       "    <tr>\n",
       "      <th>4</th>\n",
       "      <td>1900</td>\n",
       "      <td>ANDORRA</td>\n",
       "      <td>Europe</td>\n",
       "      <td>11.348333</td>\n",
       "      <td>0.542167</td>\n",
       "      <td>42.50</td>\n",
       "      <td>1.5</td>\n",
       "      <td>0.0</td>\n",
       "      <td>0.0</td>\n",
       "    </tr>\n",
       "  </tbody>\n",
       "</table>\n",
       "</div>"
      ],
      "text/plain": [
       "   year         Country continent  AverageTemperature  \\\n",
       "0  1900     AFGHANISTAN      Asia           13.749333   \n",
       "1  1900         ALBANIA    Europe           13.068583   \n",
       "2  1900         ALGERIA    Africa           22.864167   \n",
       "3  1900  AMERICAN SAMOA   Oceania           26.273500   \n",
       "4  1900         ANDORRA    Europe           11.348333   \n",
       "\n",
       "   AverageTemperatureUncertainty  Latitude  Longitude  GHG  temp_diff  \n",
       "0                       0.748833     33.00       65.0  0.0        0.0  \n",
       "1                       0.723417     41.00       20.0  0.0        0.0  \n",
       "2                       0.826667     28.00        3.0  0.0        0.0  \n",
       "3                       0.891000    -14.33     -170.0  NaN        0.0  \n",
       "4                       0.542167     42.50        1.5  0.0        0.0  "
      ]
     },
     "execution_count": 58,
     "metadata": {},
     "output_type": "execute_result"
    }
   ],
   "source": [
    "original_df = pd.read_csv(\"CountryTemperatures_byYear.csv\").drop(columns=[\"Unnamed: 0\"])\n",
    "original_df.head()"
   ]
  },
  {
   "cell_type": "code",
   "execution_count": 59,
   "id": "5683fd17",
   "metadata": {
    "scrolled": false
   },
   "outputs": [
    {
     "name": "stdout",
     "output_type": "stream",
     "text": [
      "<class 'pandas.core.frame.DataFrame'>\n",
      "RangeIndex: 24342 entries, 0 to 24341\n",
      "Data columns (total 9 columns):\n",
      " #   Column                         Non-Null Count  Dtype  \n",
      "---  ------                         --------------  -----  \n",
      " 0   year                           24342 non-null  int64  \n",
      " 1   Country                        24342 non-null  object \n",
      " 2   continent                      24342 non-null  object \n",
      " 3   AverageTemperature             24341 non-null  float64\n",
      " 4   AverageTemperatureUncertainty  24341 non-null  float64\n",
      " 5   Latitude                       24342 non-null  float64\n",
      " 6   Longitude                      24342 non-null  float64\n",
      " 7   GHG                            22458 non-null  float64\n",
      " 8   temp_diff                      24341 non-null  float64\n",
      "dtypes: float64(6), int64(1), object(2)\n",
      "memory usage: 1.7+ MB\n"
     ]
    }
   ],
   "source": [
    "original_df.info()"
   ]
  },
  {
   "cell_type": "code",
   "execution_count": 60,
   "id": "ce6be5b4",
   "metadata": {},
   "outputs": [],
   "source": [
    "def get_temperature_diff_between(df_by_year,start_date,end_date):\n",
    "    df = df_by_year.loc[(df_by_year[\"year\"] >= start_date) & \n",
    "                        (df_by_year[\"year\"] <= end_date)].groupby([\"Country\",\"continent\"]).sum().reset_index()\n",
    "    \n",
    "    return df"
   ]
  },
  {
   "cell_type": "code",
   "execution_count": 61,
   "id": "43189e75",
   "metadata": {},
   "outputs": [
    {
     "data": {
      "text/html": [
       "<div>\n",
       "<style scoped>\n",
       "    .dataframe tbody tr th:only-of-type {\n",
       "        vertical-align: middle;\n",
       "    }\n",
       "\n",
       "    .dataframe tbody tr th {\n",
       "        vertical-align: top;\n",
       "    }\n",
       "\n",
       "    .dataframe thead th {\n",
       "        text-align: right;\n",
       "    }\n",
       "</style>\n",
       "<table border=\"1\" class=\"dataframe\">\n",
       "  <thead>\n",
       "    <tr style=\"text-align: right;\">\n",
       "      <th></th>\n",
       "      <th>Country</th>\n",
       "      <th>continent</th>\n",
       "      <th>year</th>\n",
       "      <th>AverageTemperature</th>\n",
       "      <th>AverageTemperatureUncertainty</th>\n",
       "      <th>Latitude</th>\n",
       "      <th>Longitude</th>\n",
       "      <th>GHG</th>\n",
       "      <th>temp_diff</th>\n",
       "    </tr>\n",
       "  </thead>\n",
       "  <tbody>\n",
       "    <tr>\n",
       "      <th>0</th>\n",
       "      <td>AFGHANISTAN</td>\n",
       "      <td>Asia</td>\n",
       "      <td>120780</td>\n",
       "      <td>882.743167</td>\n",
       "      <td>26.149500</td>\n",
       "      <td>2013.00</td>\n",
       "      <td>3965.0</td>\n",
       "      <td>2.249394e+09</td>\n",
       "      <td>2.478583</td>\n",
       "    </tr>\n",
       "    <tr>\n",
       "      <th>1</th>\n",
       "      <td>ALBANIA</td>\n",
       "      <td>Europe</td>\n",
       "      <td>120780</td>\n",
       "      <td>793.627083</td>\n",
       "      <td>20.248083</td>\n",
       "      <td>2501.00</td>\n",
       "      <td>1220.0</td>\n",
       "      <td>6.573183e+09</td>\n",
       "      <td>1.257167</td>\n",
       "    </tr>\n",
       "    <tr>\n",
       "      <th>2</th>\n",
       "      <td>ALGERIA</td>\n",
       "      <td>Africa</td>\n",
       "      <td>120780</td>\n",
       "      <td>1431.353250</td>\n",
       "      <td>23.001000</td>\n",
       "      <td>1708.00</td>\n",
       "      <td>183.0</td>\n",
       "      <td>5.690670e+10</td>\n",
       "      <td>2.027500</td>\n",
       "    </tr>\n",
       "    <tr>\n",
       "      <th>3</th>\n",
       "      <td>AMERICAN SAMOA</td>\n",
       "      <td>Oceania</td>\n",
       "      <td>120780</td>\n",
       "      <td>1641.876083</td>\n",
       "      <td>23.710083</td>\n",
       "      <td>-874.13</td>\n",
       "      <td>-10370.0</td>\n",
       "      <td>0.000000e+00</td>\n",
       "      <td>0.602417</td>\n",
       "    </tr>\n",
       "    <tr>\n",
       "      <th>4</th>\n",
       "      <td>ANDORRA</td>\n",
       "      <td>Europe</td>\n",
       "      <td>120780</td>\n",
       "      <td>710.201500</td>\n",
       "      <td>18.835667</td>\n",
       "      <td>2592.50</td>\n",
       "      <td>91.5</td>\n",
       "      <td>1.068606e+08</td>\n",
       "      <td>-0.837083</td>\n",
       "    </tr>\n",
       "  </tbody>\n",
       "</table>\n",
       "</div>"
      ],
      "text/plain": [
       "          Country continent    year  AverageTemperature  \\\n",
       "0     AFGHANISTAN      Asia  120780          882.743167   \n",
       "1         ALBANIA    Europe  120780          793.627083   \n",
       "2         ALGERIA    Africa  120780         1431.353250   \n",
       "3  AMERICAN SAMOA   Oceania  120780         1641.876083   \n",
       "4         ANDORRA    Europe  120780          710.201500   \n",
       "\n",
       "   AverageTemperatureUncertainty  Latitude  Longitude           GHG  temp_diff  \n",
       "0                      26.149500   2013.00     3965.0  2.249394e+09   2.478583  \n",
       "1                      20.248083   2501.00     1220.0  6.573183e+09   1.257167  \n",
       "2                      23.001000   1708.00      183.0  5.690670e+10   2.027500  \n",
       "3                      23.710083   -874.13   -10370.0  0.000000e+00   0.602417  \n",
       "4                      18.835667   2592.50       91.5  1.068606e+08  -0.837083  "
      ]
     },
     "execution_count": 61,
     "metadata": {},
     "output_type": "execute_result"
    }
   ],
   "source": [
    "df = get_temperature_diff_between(original_df,1950,2010)\n",
    "df.head()"
   ]
  },
  {
   "cell_type": "code",
   "execution_count": 64,
   "id": "4cd5d54f",
   "metadata": {
    "scrolled": false
   },
   "outputs": [
    {
     "data": {
      "application/vnd.plotly.v1+json": {
       "config": {
        "plotlyServerURL": "https://plot.ly"
       },
       "data": [
        {
         "hovertemplate": "<b>%{hovertext}</b><br><br>continent=Asia<br>Increase in average temperature=%{x}<br>Greenhouse Gases Emissions=%{y}<extra></extra>",
         "hovertext": [
          "AFGHANISTAN",
          "ARMENIA",
          "AZERBAIJAN",
          "BAHRAIN",
          "BANGLADESH",
          "BHUTAN",
          "CAMBODIA",
          "CHINA",
          "CHRISTMAS ISLAND",
          "CYPRUS",
          "DEM. REP. KOREA",
          "GEORGIA",
          "HONG KONG",
          "INDIA",
          "INDONESIA",
          "IRAN",
          "IRAQ",
          "ISRAEL",
          "JAPAN",
          "JORDAN",
          "KAZAKHSTAN",
          "KUWAIT",
          "KYRGYZSTAN",
          "LAOS",
          "LEBANON",
          "MACAU",
          "MALAYSIA",
          "MONGOLIA",
          "MYANMAR",
          "NEPAL",
          "OMAN",
          "PAKISTAN",
          "PALESTINE",
          "PHILIPPINES",
          "QATAR",
          "REPUBLIC OF KOREA",
          "SAUDI ARABIA",
          "SINGAPORE",
          "SRI LANKA",
          "SYRIA",
          "TAIWAN",
          "TAJIKISTAN",
          "THAILAND",
          "TURKEY",
          "TURKMENISTAN",
          "UNITED ARAB EMIRATES",
          "UZBEKISTAN",
          "VIETNAM",
          "YEMEN"
         ],
         "legendgroup": "Asia",
         "marker": {
          "color": "#1F77B4",
          "symbol": "circle"
         },
         "mode": "markers",
         "name": "Asia",
         "orientation": "v",
         "showlegend": true,
         "type": "scatter",
         "x": [
          2.4785833333333325,
          3.487166666666667,
          3.3393333333333306,
          2.672916666666666,
          1.2801666666666625,
          1.171083333333332,
          0.8913333333333284,
          0.5729166666666666,
          1.0428333333333344,
          2.7194166666666675,
          0.22466666666666552,
          3.4551666666666687,
          -0.12924999999999878,
          1.003583333333332,
          0.7794166666666696,
          3.314666666666667,
          3.5953333333333357,
          3.434083333333331,
          1.1129999999999995,
          3.6454166666666703,
          2.1317500000000007,
          3.00341666666667,
          2.0244999999999997,
          1.0404166666666652,
          3.2490833333333353,
          -0.18075000000000344,
          0.8262500000000015,
          0.25266666666666737,
          1.1531666666666671,
          1.2686666666666666,
          1.6177500000000016,
          1.5519166666666675,
          1.8377499999999993,
          0.8033333333333311,
          2.4935833333333335,
          0.581916666666666,
          2.434583333333332,
          0.8639166666666682,
          0.8738333333333331,
          3.4318333333333335,
          0.3804166666666654,
          2.2904166666666663,
          1.1400833333333327,
          3.320666666666665,
          3.4390833333333344,
          2.1739166666666705,
          3.2020833333333334,
          0.7890000000000015,
          1.1745000000000023
         ],
         "xaxis": "x",
         "y": [
          2249394235,
          6057145511,
          58581661678,
          12248426923,
          11573719915,
          79923040,
          853553343,
          2178712396101,
          45836640,
          4053018712,
          118298718262,
          15229230635,
          21555464811,
          653724134575,
          164621520877,
          244542442000,
          58541436324,
          32465936877,
          1360467513555,
          6931765555,
          271272738175,
          37600960160,
          1185883960,
          417144590,
          9437854348,
          0,
          49790572527,
          7013161653,
          9948966492,
          877124908,
          8095205550,
          49503078101,
          281743280,
          44130141727,
          17012646862,
          176652457607,
          159024772507,
          30311668105,
          6237498871,
          25248008714,
          105225142108,
          7323041520,
          64299342321,
          125356901508,
          37253720623,
          40993894127,
          124264445532,
          30875146803,
          8539413425
         ],
         "yaxis": "y"
        },
        {
         "hovertemplate": "<b>%{hovertext}</b><br><br>continent=Europe<br>Increase in average temperature=%{x}<br>Greenhouse Gases Emissions=%{y}<extra></extra>",
         "hovertext": [
          "ALBANIA",
          "ANDORRA",
          "AUSTRIA",
          "BELARUS",
          "BELGIUM",
          "BOSNIA AND HERZEGOVINA",
          "BULGARIA",
          "CROATIA",
          "CZECH REPUBLIC",
          "DENMARK",
          "ESTONIA",
          "FAROE ISLANDS",
          "FINLAND",
          "FRANCE",
          "GERMANY",
          "GREECE",
          "HUNGARY",
          "ICELAND",
          "IRELAND",
          "ITALY",
          "LATVIA",
          "LIECHTENSTEIN",
          "LITHUANIA",
          "LUXEMBOURG",
          "MACEDONIA",
          "MALTA",
          "MOLDOVA",
          "MONACO",
          "MONTENEGRO",
          "NETHERLANDS",
          "NORWAY",
          "POLAND",
          "PORTUGAL",
          "ROMANIA",
          "RUSSIAN FEDERATION",
          "SAN MARINO",
          "SERBIA",
          "SLOVAKIA",
          "SLOVENIA",
          "SPAIN",
          "SVALBARD AND JAN MAYEN",
          "SWEDEN",
          "SWITZERLAND",
          "UKRAINE",
          "UNITED KINGDOM"
         ],
         "legendgroup": "Europe",
         "marker": {
          "color": "#FF7F0E",
          "symbol": "circle"
         },
         "mode": "markers",
         "name": "Europe",
         "orientation": "v",
         "showlegend": true,
         "type": "scatter",
         "x": [
          1.257166666666667,
          -0.8370833333333323,
          -0.3137499999999993,
          -0.1273333333333334,
          -1.0928333333333347,
          0.6206666666666663,
          1.4659166666666688,
          0.15225000000000033,
          -0.7454999999999992,
          -1.9415833333333352,
          -1.7034166666666664,
          -0.31216666666666626,
          -1.902166666666667,
          -0.9943333333333333,
          -1.1674999999999982,
          1.9895000000000016,
          0.058999999999999275,
          1.4280833333333334,
          -1.318416666666668,
          -0.029749999999999832,
          -1.4706666666666677,
          -0.7018333333333334,
          -1.3467499999999994,
          -0.9860833333333334,
          1.5600833333333333,
          0.8739166666666695,
          0.8712499999999995,
          -0.8885000000000007,
          1.0025833333333318,
          -1.281083333333335,
          -1.432833333333333,
          -0.9849166666666667,
          -0.0744166666666683,
          0.8634999999999999,
          0.40716666666666596,
          0.053916666666667945,
          0.8939999999999997,
          -0.18091666666666795,
          -0.09175000000000144,
          -0.2640833333333339,
          1.061166666666667,
          -2.3648333333333342,
          -0.7693333333333336,
          1.2139166666666679,
          -1.3344999999999987
         ],
         "xaxis": "x",
         "y": [
          6573183024,
          106860560,
          182208850085,
          92639658102,
          485959811518,
          15704387075,
          95062125213,
          18535818993,
          202164215805,
          125209730311,
          25848155198,
          0,
          68098519421,
          1389996149315,
          3440961007211,
          64640147631,
          155304907218,
          2809295838,
          50700091485,
          554720251205,
          14970935281,
          2063078,
          23919186961,
          20460568544,
          11869832248,
          1590736968,
          1783963950,
          0,
          2104565652,
          327507701818,
          69822234594,
          859595053111,
          49561686877,
          235898261907,
          2230720034062,
          0,
          47574201736,
          65566723662,
          14219799032,
          304787782594,
          0,
          165739589487,
          85200162910,
          648823010915,
          3460301296530
         ],
         "yaxis": "y"
        },
        {
         "hovertemplate": "<b>%{hovertext}</b><br><br>continent=Africa<br>Increase in average temperature=%{x}<br>Greenhouse Gases Emissions=%{y}<extra></extra>",
         "hovertext": [
          "ALGERIA",
          "ANGOLA",
          "BENIN",
          "BOTSWANA",
          "BURKINA FASO",
          "BURUNDI",
          "CAMEROON",
          "CAPE VERDE",
          "CENTRAL AFRICAN REPUBLIC",
          "CHAD",
          "COMOROS",
          "CÔTE D'IVOIRE",
          "DEMOCRATIC REPUBLIC OF THE CONGO",
          "DJIBOUTI",
          "EGYPT",
          "EQUATORIAL GUINEA",
          "ERITREA",
          "ETHIOPIA",
          "GABON",
          "GHANA",
          "GUINEA",
          "GUINEA-BISSAU",
          "KENYA",
          "LESOTHO",
          "LIBERIA",
          "LIBYA",
          "MADAGASCAR",
          "MALAWI",
          "MALI",
          "MAURITANIA",
          "MAURITIUS",
          "MAYOTTE",
          "MOROCCO",
          "MOZAMBIQUE",
          "NIGER",
          "NIGERIA",
          "REPUBLIC OF CONGO",
          "RWANDA",
          "SAO TOME AND PRINCIPE",
          "SENEGAL",
          "SEYCHELLES",
          "SIERRA LEONE",
          "SOMALIA",
          "SOUTH AFRICA",
          "SUDAN",
          "SWAZILAND",
          "TANZANIA",
          "THE GAMBIA",
          "TOGO",
          "TUNISIA",
          "UGANDA",
          "ZAMBIA",
          "ZIMBABWE"
         ],
         "legendgroup": "Africa",
         "marker": {
          "color": "#2CA02C",
          "symbol": "circle"
         },
         "mode": "markers",
         "name": "Africa",
         "orientation": "v",
         "showlegend": true,
         "type": "scatter",
         "x": [
          2.0274999999999963,
          0.7532499999999986,
          0.6894166666666626,
          0.4561666666666645,
          0.6920000000000038,
          0.6155833333333335,
          0.7876666666666666,
          1.7032500000000046,
          0.8455000000000003,
          1.766499999999997,
          0.9905833333333335,
          0.9707500000000028,
          0.681333333333328,
          1.1381666666666665,
          3.259416666666667,
          0.41600000000000037,
          1.3627499999999948,
          0.9907499999999984,
          0.38241666666666796,
          0.8430000000000035,
          0.9885000000000017,
          1.0511666666666708,
          0.5875000000000019,
          0.7536666666666676,
          1.0540833333333348,
          2.7373333333333356,
          0.8575833333333307,
          0.7715833333333362,
          1.3872499999999977,
          1.7652499999999984,
          1.1045000000000014,
          0.9957500000000008,
          1.2846666666666664,
          0.8074166666666686,
          1.833166666666663,
          0.9357499999999984,
          0.5797500000000042,
          0.6188333333333349,
          0.38474999999999665,
          1.2280833333333303,
          0.9954999999999958,
          1.071749999999998,
          0.8384166666666671,
          0.6356666666666695,
          1.88925,
          0.8235833333333356,
          0.543833333333335,
          1.18825,
          0.744916666666669,
          1.463750000000001,
          0.5834999999999939,
          0.5829166666666622,
          0.451166666666666
         ],
         "xaxis": "x",
         "y": [
          56906698634,
          5829567886,
          690169538,
          1158443522,
          458883556,
          161341289,
          2776469222,
          125007454,
          204348608,
          194987088,
          51120128,
          0,
          0,
          300546928,
          73039083751,
          359101312,
          117713498,
          2345123357,
          4625062421,
          4393328355,
          1220493005,
          149370288,
          6887810294,
          402208272,
          1207999613,
          29537020271,
          1459733620,
          759718072,
          439714425,
          846743072,
          1171095008,
          0,
          20642936849,
          3711303419,
          578468989,
          54039419247,
          1036545236,
          368634338,
          40783984,
          2807267225,
          141708864,
          796615888,
          591790532,
          416776389384,
          5641790560,
          460213056,
          2131332793,
          150022480,
          748700105,
          11118679435,
          1277657839,
          4823554376,
          18261247205
         ],
         "yaxis": "y"
        },
        {
         "hovertemplate": "<b>%{hovertext}</b><br><br>continent=Oceania<br>Increase in average temperature=%{x}<br>Greenhouse Gases Emissions=%{y}<extra></extra>",
         "hovertext": [
          "AMERICAN SAMOA",
          "AUSTRALIA",
          "FEDERATED STATES OF MICRONESIA",
          "FIJI",
          "FRENCH POLYNESIA",
          "GUAM",
          "KIRIBATI",
          "NEW CALEDONIA",
          "NEW ZEALAND",
          "NIUE",
          "NORTHERN MARIANA ISLANDS",
          "PALAU",
          "PAPUA NEW GUINEA",
          "SAMOA",
          "SOLOMON ISLANDS",
          "TONGA"
         ],
         "legendgroup": "Oceania",
         "marker": {
          "color": "#D62728",
          "symbol": "circle"
         },
         "mode": "markers",
         "name": "Oceania",
         "orientation": "v",
         "showlegend": true,
         "type": "scatter",
         "x": [
          0.6024166666666667,
          1.0932499999999976,
          0.968,
          0.7043333333333307,
          0.6790000000000026,
          0.316416666666665,
          1.0782499999999973,
          0.9370833333333339,
          0.8710833333333328,
          0.6715000000000015,
          0.316416666666665,
          0.5418333333333365,
          0.6003333333333354,
          0.5929999999999962,
          1.0529166666666714,
          0.6588333333333377
         ],
         "xaxis": "x",
         "y": [
          0,
          369776999271,
          0,
          840965621,
          384489168,
          0,
          30378224,
          2537973384,
          45035697634,
          3880176,
          0,
          190143280,
          1870049470,
          94864624,
          109212848,
          54685200
         ],
         "yaxis": "y"
        },
        {
         "hovertemplate": "<b>%{hovertext}</b><br><br>continent=North America<br>Increase in average temperature=%{x}<br>Greenhouse Gases Emissions=%{y}<extra></extra>",
         "hovertext": [
          "ANGUILLA",
          "ANTIGUA AND BARBUDA",
          "ARUBA",
          "BAHAMAS",
          "BARBADOS",
          "BELIZE",
          "BRITISH VIRGIN ISLANDS",
          "CANADA",
          "CAYMAN ISLANDS",
          "COSTA RICA",
          "CUBA",
          "DOMINICA",
          "DOMINICAN REPUBLIC",
          "EL SALVADOR",
          "GREENLAND",
          "GRENADA",
          "GUADELOUPE",
          "GUATEMALA",
          "HAITI",
          "HONDURAS",
          "JAMAICA",
          "MARTINIQUE",
          "MEXICO",
          "MONTSERRAT",
          "NICARAGUA",
          "PANAMA",
          "PUERTO RICO",
          "SAINT KITTS AND NEVIS",
          "SAINT LUCIA",
          "SAINT PIERRE AND MIQUELON",
          "SAINT VINCENT AND THE GRENADINES",
          "TRINIDAD AND TOBAGO",
          "TURKS AND CAICOS ISLANDS",
          "UNITED STATES",
          "VIRGIN ISLANDS, BRITISH"
         ],
         "legendgroup": "North America",
         "marker": {
          "color": "#9467BD",
          "symbol": "circle"
         },
         "mode": "markers",
         "name": "North America",
         "orientation": "v",
         "showlegend": true,
         "type": "scatter",
         "x": [
          1.4429166666666653,
          1.5035833333333277,
          1.1528333333333334,
          -0.35549999999999926,
          1.5192499999999995,
          0.2813333333333354,
          1.4234999999999969,
          3.060666666666666,
          0.0033333333333375736,
          0.9889999999999972,
          -0.05449999999999716,
          1.5131666666666703,
          0.8704999999999993,
          0.49708333333333565,
          3.613500000000003,
          1.4665000000000032,
          1.520499999999998,
          0.31341666666666446,
          0.6604999999999988,
          0.5731666666666693,
          0.48375000000000046,
          1.5131666666666703,
          -0.06316666666666726,
          1.5221666666666671,
          0.8340833333333321,
          0.9305833333333344,
          1.350166666666666,
          1.5236666666666667,
          1.4892500000000017,
          1.7381666666666655,
          1.4618333333333309,
          1.4464166666666642,
          0.4942500000000044,
          0.6175000000000019,
          1.4234999999999969
         ],
         "xaxis": "x",
         "y": [
          17920624,
          456050752,
          1220752090,
          4135783199,
          842414965,
          256117264,
          46397232,
          848470227284,
          169822736,
          3087904410,
          36071323382,
          50347024,
          8716815662,
          3071869522,
          671556240,
          91178640,
          930216320,
          5272487759,
          950083727,
          2761120219,
          8306515069,
          1162261104,
          357637604206,
          21892400,
          2558816347,
          4094550368,
          0,
          46811264,
          146252224,
          81344464,
          70843440,
          29109776799,
          14216320,
          12684760067776,
          0
         ],
         "yaxis": "y"
        },
        {
         "hovertemplate": "<b>%{hovertext}</b><br><br>continent=South America<br>Increase in average temperature=%{x}<br>Greenhouse Gases Emissions=%{y}<extra></extra>",
         "hovertext": [
          "ARGENTINA",
          "BOLIVIA",
          "BRAZIL",
          "CHILE",
          "COLOMBIA",
          "ECUADOR",
          "FALKLAND ISLANDS (MALVINAS)",
          "FRENCH GUIANA",
          "GUYANA",
          "PARAGUAY",
          "PERU",
          "SOUTH GEORGIA AND THE SOUTH SANDWICH ISLANDS",
          "SURINAME",
          "URUGUAY",
          "VENEZUELA"
         ],
         "legendgroup": "South America",
         "marker": {
          "color": "#8C564B",
          "symbol": "circle"
         },
         "mode": "markers",
         "name": "South America",
         "orientation": "v",
         "showlegend": true,
         "type": "scatter",
         "x": [
          0.3075000000000015,
          0.6685000000000015,
          1.195583333333335,
          0.34366666666666756,
          0.9340833333333334,
          0.9095833333333337,
          0.8944999999999999,
          1.4759999999999984,
          1.345749999999998,
          0.285499999999999,
          0.7330833333333332,
          1.2552499999999998,
          1.4136666666666642,
          0.6308333333333349,
          1.1865833333333315
         ],
         "xaxis": "x",
         "y": [
          175622373240,
          5936901532,
          222747823695,
          52479240874,
          60246260011,
          15123260221,
          0,
          343800448,
          2002192800,
          1873978263,
          39854338148,
          0,
          2203956290,
          8777689674,
          159264418610
         ],
         "yaxis": "y"
        },
        {
         "hovertemplate": "<b>%{hovertext}</b><br><br>continent=Antartica<br>Increase in average temperature=%{x}<br>Greenhouse Gases Emissions=%{y}<extra></extra>",
         "hovertext": [
          "HEARD ISLAND AND MCDONALD ISLANDS"
         ],
         "legendgroup": "Antartica",
         "marker": {
          "color": "#E377C2",
          "symbol": "circle"
         },
         "mode": "markers",
         "name": "Antartica",
         "orientation": "v",
         "showlegend": true,
         "type": "scatter",
         "x": [
          1.8003833333333334
         ],
         "xaxis": "x",
         "y": [
          0
         ],
         "yaxis": "y"
        }
       ],
       "layout": {
        "legend": {
         "title": {
          "text": "continent"
         },
         "tracegroupgap": 0
        },
        "margin": {
         "t": 60
        },
        "template": {
         "data": {
          "bar": [
           {
            "error_x": {
             "color": "rgb(36,36,36)"
            },
            "error_y": {
             "color": "rgb(36,36,36)"
            },
            "marker": {
             "line": {
              "color": "white",
              "width": 0.5
             },
             "pattern": {
              "fillmode": "overlay",
              "size": 10,
              "solidity": 0.2
             }
            },
            "type": "bar"
           }
          ],
          "barpolar": [
           {
            "marker": {
             "line": {
              "color": "white",
              "width": 0.5
             },
             "pattern": {
              "fillmode": "overlay",
              "size": 10,
              "solidity": 0.2
             }
            },
            "type": "barpolar"
           }
          ],
          "carpet": [
           {
            "aaxis": {
             "endlinecolor": "rgb(36,36,36)",
             "gridcolor": "white",
             "linecolor": "white",
             "minorgridcolor": "white",
             "startlinecolor": "rgb(36,36,36)"
            },
            "baxis": {
             "endlinecolor": "rgb(36,36,36)",
             "gridcolor": "white",
             "linecolor": "white",
             "minorgridcolor": "white",
             "startlinecolor": "rgb(36,36,36)"
            },
            "type": "carpet"
           }
          ],
          "choropleth": [
           {
            "colorbar": {
             "outlinewidth": 1,
             "tickcolor": "rgb(36,36,36)",
             "ticks": "outside"
            },
            "type": "choropleth"
           }
          ],
          "contour": [
           {
            "colorbar": {
             "outlinewidth": 1,
             "tickcolor": "rgb(36,36,36)",
             "ticks": "outside"
            },
            "colorscale": [
             [
              0,
              "#440154"
             ],
             [
              0.1111111111111111,
              "#482878"
             ],
             [
              0.2222222222222222,
              "#3e4989"
             ],
             [
              0.3333333333333333,
              "#31688e"
             ],
             [
              0.4444444444444444,
              "#26828e"
             ],
             [
              0.5555555555555556,
              "#1f9e89"
             ],
             [
              0.6666666666666666,
              "#35b779"
             ],
             [
              0.7777777777777778,
              "#6ece58"
             ],
             [
              0.8888888888888888,
              "#b5de2b"
             ],
             [
              1,
              "#fde725"
             ]
            ],
            "type": "contour"
           }
          ],
          "contourcarpet": [
           {
            "colorbar": {
             "outlinewidth": 1,
             "tickcolor": "rgb(36,36,36)",
             "ticks": "outside"
            },
            "type": "contourcarpet"
           }
          ],
          "heatmap": [
           {
            "colorbar": {
             "outlinewidth": 1,
             "tickcolor": "rgb(36,36,36)",
             "ticks": "outside"
            },
            "colorscale": [
             [
              0,
              "#440154"
             ],
             [
              0.1111111111111111,
              "#482878"
             ],
             [
              0.2222222222222222,
              "#3e4989"
             ],
             [
              0.3333333333333333,
              "#31688e"
             ],
             [
              0.4444444444444444,
              "#26828e"
             ],
             [
              0.5555555555555556,
              "#1f9e89"
             ],
             [
              0.6666666666666666,
              "#35b779"
             ],
             [
              0.7777777777777778,
              "#6ece58"
             ],
             [
              0.8888888888888888,
              "#b5de2b"
             ],
             [
              1,
              "#fde725"
             ]
            ],
            "type": "heatmap"
           }
          ],
          "heatmapgl": [
           {
            "colorbar": {
             "outlinewidth": 1,
             "tickcolor": "rgb(36,36,36)",
             "ticks": "outside"
            },
            "colorscale": [
             [
              0,
              "#440154"
             ],
             [
              0.1111111111111111,
              "#482878"
             ],
             [
              0.2222222222222222,
              "#3e4989"
             ],
             [
              0.3333333333333333,
              "#31688e"
             ],
             [
              0.4444444444444444,
              "#26828e"
             ],
             [
              0.5555555555555556,
              "#1f9e89"
             ],
             [
              0.6666666666666666,
              "#35b779"
             ],
             [
              0.7777777777777778,
              "#6ece58"
             ],
             [
              0.8888888888888888,
              "#b5de2b"
             ],
             [
              1,
              "#fde725"
             ]
            ],
            "type": "heatmapgl"
           }
          ],
          "histogram": [
           {
            "marker": {
             "line": {
              "color": "white",
              "width": 0.6
             }
            },
            "type": "histogram"
           }
          ],
          "histogram2d": [
           {
            "colorbar": {
             "outlinewidth": 1,
             "tickcolor": "rgb(36,36,36)",
             "ticks": "outside"
            },
            "colorscale": [
             [
              0,
              "#440154"
             ],
             [
              0.1111111111111111,
              "#482878"
             ],
             [
              0.2222222222222222,
              "#3e4989"
             ],
             [
              0.3333333333333333,
              "#31688e"
             ],
             [
              0.4444444444444444,
              "#26828e"
             ],
             [
              0.5555555555555556,
              "#1f9e89"
             ],
             [
              0.6666666666666666,
              "#35b779"
             ],
             [
              0.7777777777777778,
              "#6ece58"
             ],
             [
              0.8888888888888888,
              "#b5de2b"
             ],
             [
              1,
              "#fde725"
             ]
            ],
            "type": "histogram2d"
           }
          ],
          "histogram2dcontour": [
           {
            "colorbar": {
             "outlinewidth": 1,
             "tickcolor": "rgb(36,36,36)",
             "ticks": "outside"
            },
            "colorscale": [
             [
              0,
              "#440154"
             ],
             [
              0.1111111111111111,
              "#482878"
             ],
             [
              0.2222222222222222,
              "#3e4989"
             ],
             [
              0.3333333333333333,
              "#31688e"
             ],
             [
              0.4444444444444444,
              "#26828e"
             ],
             [
              0.5555555555555556,
              "#1f9e89"
             ],
             [
              0.6666666666666666,
              "#35b779"
             ],
             [
              0.7777777777777778,
              "#6ece58"
             ],
             [
              0.8888888888888888,
              "#b5de2b"
             ],
             [
              1,
              "#fde725"
             ]
            ],
            "type": "histogram2dcontour"
           }
          ],
          "mesh3d": [
           {
            "colorbar": {
             "outlinewidth": 1,
             "tickcolor": "rgb(36,36,36)",
             "ticks": "outside"
            },
            "type": "mesh3d"
           }
          ],
          "parcoords": [
           {
            "line": {
             "colorbar": {
              "outlinewidth": 1,
              "tickcolor": "rgb(36,36,36)",
              "ticks": "outside"
             }
            },
            "type": "parcoords"
           }
          ],
          "pie": [
           {
            "automargin": true,
            "type": "pie"
           }
          ],
          "scatter": [
           {
            "marker": {
             "colorbar": {
              "outlinewidth": 1,
              "tickcolor": "rgb(36,36,36)",
              "ticks": "outside"
             }
            },
            "type": "scatter"
           }
          ],
          "scatter3d": [
           {
            "line": {
             "colorbar": {
              "outlinewidth": 1,
              "tickcolor": "rgb(36,36,36)",
              "ticks": "outside"
             }
            },
            "marker": {
             "colorbar": {
              "outlinewidth": 1,
              "tickcolor": "rgb(36,36,36)",
              "ticks": "outside"
             }
            },
            "type": "scatter3d"
           }
          ],
          "scattercarpet": [
           {
            "marker": {
             "colorbar": {
              "outlinewidth": 1,
              "tickcolor": "rgb(36,36,36)",
              "ticks": "outside"
             }
            },
            "type": "scattercarpet"
           }
          ],
          "scattergeo": [
           {
            "marker": {
             "colorbar": {
              "outlinewidth": 1,
              "tickcolor": "rgb(36,36,36)",
              "ticks": "outside"
             }
            },
            "type": "scattergeo"
           }
          ],
          "scattergl": [
           {
            "marker": {
             "colorbar": {
              "outlinewidth": 1,
              "tickcolor": "rgb(36,36,36)",
              "ticks": "outside"
             }
            },
            "type": "scattergl"
           }
          ],
          "scattermapbox": [
           {
            "marker": {
             "colorbar": {
              "outlinewidth": 1,
              "tickcolor": "rgb(36,36,36)",
              "ticks": "outside"
             }
            },
            "type": "scattermapbox"
           }
          ],
          "scatterpolar": [
           {
            "marker": {
             "colorbar": {
              "outlinewidth": 1,
              "tickcolor": "rgb(36,36,36)",
              "ticks": "outside"
             }
            },
            "type": "scatterpolar"
           }
          ],
          "scatterpolargl": [
           {
            "marker": {
             "colorbar": {
              "outlinewidth": 1,
              "tickcolor": "rgb(36,36,36)",
              "ticks": "outside"
             }
            },
            "type": "scatterpolargl"
           }
          ],
          "scatterternary": [
           {
            "marker": {
             "colorbar": {
              "outlinewidth": 1,
              "tickcolor": "rgb(36,36,36)",
              "ticks": "outside"
             }
            },
            "type": "scatterternary"
           }
          ],
          "surface": [
           {
            "colorbar": {
             "outlinewidth": 1,
             "tickcolor": "rgb(36,36,36)",
             "ticks": "outside"
            },
            "colorscale": [
             [
              0,
              "#440154"
             ],
             [
              0.1111111111111111,
              "#482878"
             ],
             [
              0.2222222222222222,
              "#3e4989"
             ],
             [
              0.3333333333333333,
              "#31688e"
             ],
             [
              0.4444444444444444,
              "#26828e"
             ],
             [
              0.5555555555555556,
              "#1f9e89"
             ],
             [
              0.6666666666666666,
              "#35b779"
             ],
             [
              0.7777777777777778,
              "#6ece58"
             ],
             [
              0.8888888888888888,
              "#b5de2b"
             ],
             [
              1,
              "#fde725"
             ]
            ],
            "type": "surface"
           }
          ],
          "table": [
           {
            "cells": {
             "fill": {
              "color": "rgb(237,237,237)"
             },
             "line": {
              "color": "white"
             }
            },
            "header": {
             "fill": {
              "color": "rgb(217,217,217)"
             },
             "line": {
              "color": "white"
             }
            },
            "type": "table"
           }
          ]
         },
         "layout": {
          "annotationdefaults": {
           "arrowhead": 0,
           "arrowwidth": 1
          },
          "autotypenumbers": "strict",
          "coloraxis": {
           "colorbar": {
            "outlinewidth": 1,
            "tickcolor": "rgb(36,36,36)",
            "ticks": "outside"
           }
          },
          "colorscale": {
           "diverging": [
            [
             0,
             "rgb(103,0,31)"
            ],
            [
             0.1,
             "rgb(178,24,43)"
            ],
            [
             0.2,
             "rgb(214,96,77)"
            ],
            [
             0.3,
             "rgb(244,165,130)"
            ],
            [
             0.4,
             "rgb(253,219,199)"
            ],
            [
             0.5,
             "rgb(247,247,247)"
            ],
            [
             0.6,
             "rgb(209,229,240)"
            ],
            [
             0.7,
             "rgb(146,197,222)"
            ],
            [
             0.8,
             "rgb(67,147,195)"
            ],
            [
             0.9,
             "rgb(33,102,172)"
            ],
            [
             1,
             "rgb(5,48,97)"
            ]
           ],
           "sequential": [
            [
             0,
             "#440154"
            ],
            [
             0.1111111111111111,
             "#482878"
            ],
            [
             0.2222222222222222,
             "#3e4989"
            ],
            [
             0.3333333333333333,
             "#31688e"
            ],
            [
             0.4444444444444444,
             "#26828e"
            ],
            [
             0.5555555555555556,
             "#1f9e89"
            ],
            [
             0.6666666666666666,
             "#35b779"
            ],
            [
             0.7777777777777778,
             "#6ece58"
            ],
            [
             0.8888888888888888,
             "#b5de2b"
            ],
            [
             1,
             "#fde725"
            ]
           ],
           "sequentialminus": [
            [
             0,
             "#440154"
            ],
            [
             0.1111111111111111,
             "#482878"
            ],
            [
             0.2222222222222222,
             "#3e4989"
            ],
            [
             0.3333333333333333,
             "#31688e"
            ],
            [
             0.4444444444444444,
             "#26828e"
            ],
            [
             0.5555555555555556,
             "#1f9e89"
            ],
            [
             0.6666666666666666,
             "#35b779"
            ],
            [
             0.7777777777777778,
             "#6ece58"
            ],
            [
             0.8888888888888888,
             "#b5de2b"
            ],
            [
             1,
             "#fde725"
            ]
           ]
          },
          "colorway": [
           "#1F77B4",
           "#FF7F0E",
           "#2CA02C",
           "#D62728",
           "#9467BD",
           "#8C564B",
           "#E377C2",
           "#7F7F7F",
           "#BCBD22",
           "#17BECF"
          ],
          "font": {
           "color": "rgb(36,36,36)"
          },
          "geo": {
           "bgcolor": "white",
           "lakecolor": "white",
           "landcolor": "white",
           "showlakes": true,
           "showland": true,
           "subunitcolor": "white"
          },
          "hoverlabel": {
           "align": "left"
          },
          "hovermode": "closest",
          "mapbox": {
           "style": "light"
          },
          "paper_bgcolor": "white",
          "plot_bgcolor": "white",
          "polar": {
           "angularaxis": {
            "gridcolor": "rgb(232,232,232)",
            "linecolor": "rgb(36,36,36)",
            "showgrid": false,
            "showline": true,
            "ticks": "outside"
           },
           "bgcolor": "white",
           "radialaxis": {
            "gridcolor": "rgb(232,232,232)",
            "linecolor": "rgb(36,36,36)",
            "showgrid": false,
            "showline": true,
            "ticks": "outside"
           }
          },
          "scene": {
           "xaxis": {
            "backgroundcolor": "white",
            "gridcolor": "rgb(232,232,232)",
            "gridwidth": 2,
            "linecolor": "rgb(36,36,36)",
            "showbackground": true,
            "showgrid": false,
            "showline": true,
            "ticks": "outside",
            "zeroline": false,
            "zerolinecolor": "rgb(36,36,36)"
           },
           "yaxis": {
            "backgroundcolor": "white",
            "gridcolor": "rgb(232,232,232)",
            "gridwidth": 2,
            "linecolor": "rgb(36,36,36)",
            "showbackground": true,
            "showgrid": false,
            "showline": true,
            "ticks": "outside",
            "zeroline": false,
            "zerolinecolor": "rgb(36,36,36)"
           },
           "zaxis": {
            "backgroundcolor": "white",
            "gridcolor": "rgb(232,232,232)",
            "gridwidth": 2,
            "linecolor": "rgb(36,36,36)",
            "showbackground": true,
            "showgrid": false,
            "showline": true,
            "ticks": "outside",
            "zeroline": false,
            "zerolinecolor": "rgb(36,36,36)"
           }
          },
          "shapedefaults": {
           "fillcolor": "black",
           "line": {
            "width": 0
           },
           "opacity": 0.3
          },
          "ternary": {
           "aaxis": {
            "gridcolor": "rgb(232,232,232)",
            "linecolor": "rgb(36,36,36)",
            "showgrid": false,
            "showline": true,
            "ticks": "outside"
           },
           "baxis": {
            "gridcolor": "rgb(232,232,232)",
            "linecolor": "rgb(36,36,36)",
            "showgrid": false,
            "showline": true,
            "ticks": "outside"
           },
           "bgcolor": "white",
           "caxis": {
            "gridcolor": "rgb(232,232,232)",
            "linecolor": "rgb(36,36,36)",
            "showgrid": false,
            "showline": true,
            "ticks": "outside"
           }
          },
          "title": {
           "x": 0.05
          },
          "xaxis": {
           "automargin": true,
           "gridcolor": "rgb(232,232,232)",
           "linecolor": "rgb(36,36,36)",
           "showgrid": false,
           "showline": true,
           "ticks": "outside",
           "title": {
            "standoff": 15
           },
           "zeroline": false,
           "zerolinecolor": "rgb(36,36,36)"
          },
          "yaxis": {
           "automargin": true,
           "gridcolor": "rgb(232,232,232)",
           "linecolor": "rgb(36,36,36)",
           "showgrid": false,
           "showline": true,
           "ticks": "outside",
           "title": {
            "standoff": 15
           },
           "zeroline": false,
           "zerolinecolor": "rgb(36,36,36)"
          }
         }
        },
        "xaxis": {
         "anchor": "y",
         "domain": [
          0,
          1
         ],
         "title": {
          "text": "Increase in average temperature"
         }
        },
        "yaxis": {
         "anchor": "x",
         "domain": [
          0,
          1
         ],
         "title": {
          "text": "Greenhouse Gases Emissions"
         }
        }
       }
      },
      "text/html": [
       "<div>                            <div id=\"75284115-5e54-4671-8016-6998f8eb649d\" class=\"plotly-graph-div\" style=\"height:525px; width:100%;\"></div>            <script type=\"text/javascript\">                require([\"plotly\"], function(Plotly) {                    window.PLOTLYENV=window.PLOTLYENV || {};                                    if (document.getElementById(\"75284115-5e54-4671-8016-6998f8eb649d\")) {                    Plotly.newPlot(                        \"75284115-5e54-4671-8016-6998f8eb649d\",                        [{\"hovertemplate\":\"<b>%{hovertext}</b><br><br>continent=Asia<br>Increase in average temperature=%{x}<br>Greenhouse Gases Emissions=%{y}<extra></extra>\",\"hovertext\":[\"AFGHANISTAN\",\"ARMENIA\",\"AZERBAIJAN\",\"BAHRAIN\",\"BANGLADESH\",\"BHUTAN\",\"CAMBODIA\",\"CHINA\",\"CHRISTMAS ISLAND\",\"CYPRUS\",\"DEM. REP. KOREA\",\"GEORGIA\",\"HONG KONG\",\"INDIA\",\"INDONESIA\",\"IRAN\",\"IRAQ\",\"ISRAEL\",\"JAPAN\",\"JORDAN\",\"KAZAKHSTAN\",\"KUWAIT\",\"KYRGYZSTAN\",\"LAOS\",\"LEBANON\",\"MACAU\",\"MALAYSIA\",\"MONGOLIA\",\"MYANMAR\",\"NEPAL\",\"OMAN\",\"PAKISTAN\",\"PALESTINE\",\"PHILIPPINES\",\"QATAR\",\"REPUBLIC OF KOREA\",\"SAUDI ARABIA\",\"SINGAPORE\",\"SRI LANKA\",\"SYRIA\",\"TAIWAN\",\"TAJIKISTAN\",\"THAILAND\",\"TURKEY\",\"TURKMENISTAN\",\"UNITED ARAB EMIRATES\",\"UZBEKISTAN\",\"VIETNAM\",\"YEMEN\"],\"legendgroup\":\"Asia\",\"marker\":{\"color\":\"#1F77B4\",\"symbol\":\"circle\"},\"mode\":\"markers\",\"name\":\"Asia\",\"orientation\":\"v\",\"showlegend\":true,\"x\":[2.4785833333333325,3.487166666666667,3.3393333333333306,2.672916666666666,1.2801666666666625,1.171083333333332,0.8913333333333284,0.5729166666666666,1.0428333333333344,2.7194166666666675,0.22466666666666552,3.4551666666666687,-0.12924999999999878,1.003583333333332,0.7794166666666696,3.314666666666667,3.5953333333333357,3.434083333333331,1.1129999999999995,3.6454166666666703,2.1317500000000007,3.00341666666667,2.0244999999999997,1.0404166666666652,3.2490833333333353,-0.18075000000000344,0.8262500000000015,0.25266666666666737,1.1531666666666671,1.2686666666666666,1.6177500000000016,1.5519166666666675,1.8377499999999993,0.8033333333333311,2.4935833333333335,0.581916666666666,2.434583333333332,0.8639166666666682,0.8738333333333331,3.4318333333333335,0.3804166666666654,2.2904166666666663,1.1400833333333327,3.320666666666665,3.4390833333333344,2.1739166666666705,3.2020833333333334,0.7890000000000015,1.1745000000000023],\"xaxis\":\"x\",\"y\":[2249394235.0,6057145511.0,58581661678.0,12248426923.0,11573719915.0,79923040.0,853553343.0,2178712396101.0,45836640.0,4053018712.0,118298718262.0,15229230635.0,21555464811.0,653724134575.0,164621520877.0,244542442000.0,58541436324.0,32465936877.0,1360467513555.0,6931765555.0,271272738175.0,37600960160.0,1185883960.0,417144590.0,9437854348.0,0.0,49790572527.0,7013161653.0,9948966492.0,877124908.0,8095205550.0,49503078101.0,281743280.0,44130141727.0,17012646862.0,176652457607.0,159024772507.0,30311668105.0,6237498871.0,25248008714.0,105225142108.0,7323041520.0,64299342321.0,125356901508.0,37253720623.0,40993894127.0,124264445532.0,30875146803.0,8539413425.0],\"yaxis\":\"y\",\"type\":\"scatter\"},{\"hovertemplate\":\"<b>%{hovertext}</b><br><br>continent=Europe<br>Increase in average temperature=%{x}<br>Greenhouse Gases Emissions=%{y}<extra></extra>\",\"hovertext\":[\"ALBANIA\",\"ANDORRA\",\"AUSTRIA\",\"BELARUS\",\"BELGIUM\",\"BOSNIA AND HERZEGOVINA\",\"BULGARIA\",\"CROATIA\",\"CZECH REPUBLIC\",\"DENMARK\",\"ESTONIA\",\"FAROE ISLANDS\",\"FINLAND\",\"FRANCE\",\"GERMANY\",\"GREECE\",\"HUNGARY\",\"ICELAND\",\"IRELAND\",\"ITALY\",\"LATVIA\",\"LIECHTENSTEIN\",\"LITHUANIA\",\"LUXEMBOURG\",\"MACEDONIA\",\"MALTA\",\"MOLDOVA\",\"MONACO\",\"MONTENEGRO\",\"NETHERLANDS\",\"NORWAY\",\"POLAND\",\"PORTUGAL\",\"ROMANIA\",\"RUSSIAN FEDERATION\",\"SAN MARINO\",\"SERBIA\",\"SLOVAKIA\",\"SLOVENIA\",\"SPAIN\",\"SVALBARD AND JAN MAYEN\",\"SWEDEN\",\"SWITZERLAND\",\"UKRAINE\",\"UNITED KINGDOM\"],\"legendgroup\":\"Europe\",\"marker\":{\"color\":\"#FF7F0E\",\"symbol\":\"circle\"},\"mode\":\"markers\",\"name\":\"Europe\",\"orientation\":\"v\",\"showlegend\":true,\"x\":[1.257166666666667,-0.8370833333333323,-0.3137499999999993,-0.1273333333333334,-1.0928333333333347,0.6206666666666663,1.4659166666666688,0.15225000000000033,-0.7454999999999992,-1.9415833333333352,-1.7034166666666664,-0.31216666666666626,-1.902166666666667,-0.9943333333333333,-1.1674999999999982,1.9895000000000016,0.058999999999999275,1.4280833333333334,-1.318416666666668,-0.029749999999999832,-1.4706666666666677,-0.7018333333333334,-1.3467499999999994,-0.9860833333333334,1.5600833333333333,0.8739166666666695,0.8712499999999995,-0.8885000000000007,1.0025833333333318,-1.281083333333335,-1.432833333333333,-0.9849166666666667,-0.0744166666666683,0.8634999999999999,0.40716666666666596,0.053916666666667945,0.8939999999999997,-0.18091666666666795,-0.09175000000000144,-0.2640833333333339,1.061166666666667,-2.3648333333333342,-0.7693333333333336,1.2139166666666679,-1.3344999999999987],\"xaxis\":\"x\",\"y\":[6573183024.0,106860560.0,182208850085.0,92639658102.0,485959811518.0,15704387075.0,95062125213.0,18535818993.0,202164215805.0,125209730311.0,25848155198.0,0.0,68098519421.0,1389996149315.0,3440961007211.0,64640147631.0,155304907218.0,2809295838.0,50700091485.0,554720251205.0,14970935281.0,2063078.0,23919186961.0,20460568544.0,11869832248.0,1590736968.0,1783963950.0,0.0,2104565652.0,327507701818.0,69822234594.0,859595053111.0,49561686877.0,235898261907.0,2230720034062.0,0.0,47574201736.0,65566723662.0,14219799032.0,304787782594.0,0.0,165739589487.0,85200162910.0,648823010915.0,3460301296530.0],\"yaxis\":\"y\",\"type\":\"scatter\"},{\"hovertemplate\":\"<b>%{hovertext}</b><br><br>continent=Africa<br>Increase in average temperature=%{x}<br>Greenhouse Gases Emissions=%{y}<extra></extra>\",\"hovertext\":[\"ALGERIA\",\"ANGOLA\",\"BENIN\",\"BOTSWANA\",\"BURKINA FASO\",\"BURUNDI\",\"CAMEROON\",\"CAPE VERDE\",\"CENTRAL AFRICAN REPUBLIC\",\"CHAD\",\"COMOROS\",\"C\\u00d4TE D'IVOIRE\",\"DEMOCRATIC REPUBLIC OF THE CONGO\",\"DJIBOUTI\",\"EGYPT\",\"EQUATORIAL GUINEA\",\"ERITREA\",\"ETHIOPIA\",\"GABON\",\"GHANA\",\"GUINEA\",\"GUINEA-BISSAU\",\"KENYA\",\"LESOTHO\",\"LIBERIA\",\"LIBYA\",\"MADAGASCAR\",\"MALAWI\",\"MALI\",\"MAURITANIA\",\"MAURITIUS\",\"MAYOTTE\",\"MOROCCO\",\"MOZAMBIQUE\",\"NIGER\",\"NIGERIA\",\"REPUBLIC OF CONGO\",\"RWANDA\",\"SAO TOME AND PRINCIPE\",\"SENEGAL\",\"SEYCHELLES\",\"SIERRA LEONE\",\"SOMALIA\",\"SOUTH AFRICA\",\"SUDAN\",\"SWAZILAND\",\"TANZANIA\",\"THE GAMBIA\",\"TOGO\",\"TUNISIA\",\"UGANDA\",\"ZAMBIA\",\"ZIMBABWE\"],\"legendgroup\":\"Africa\",\"marker\":{\"color\":\"#2CA02C\",\"symbol\":\"circle\"},\"mode\":\"markers\",\"name\":\"Africa\",\"orientation\":\"v\",\"showlegend\":true,\"x\":[2.0274999999999963,0.7532499999999986,0.6894166666666626,0.4561666666666645,0.6920000000000038,0.6155833333333335,0.7876666666666666,1.7032500000000046,0.8455000000000003,1.766499999999997,0.9905833333333335,0.9707500000000028,0.681333333333328,1.1381666666666665,3.259416666666667,0.41600000000000037,1.3627499999999948,0.9907499999999984,0.38241666666666796,0.8430000000000035,0.9885000000000017,1.0511666666666708,0.5875000000000019,0.7536666666666676,1.0540833333333348,2.7373333333333356,0.8575833333333307,0.7715833333333362,1.3872499999999977,1.7652499999999984,1.1045000000000014,0.9957500000000008,1.2846666666666664,0.8074166666666686,1.833166666666663,0.9357499999999984,0.5797500000000042,0.6188333333333349,0.38474999999999665,1.2280833333333303,0.9954999999999958,1.071749999999998,0.8384166666666671,0.6356666666666695,1.88925,0.8235833333333356,0.543833333333335,1.18825,0.744916666666669,1.463750000000001,0.5834999999999939,0.5829166666666622,0.451166666666666],\"xaxis\":\"x\",\"y\":[56906698634.0,5829567886.0,690169538.0,1158443522.0,458883556.0,161341289.0,2776469222.0,125007454.0,204348608.0,194987088.0,51120128.0,0.0,0.0,300546928.0,73039083751.0,359101312.0,117713498.0,2345123357.0,4625062421.0,4393328355.0,1220493005.0,149370288.0,6887810294.0,402208272.0,1207999613.0,29537020271.0,1459733620.0,759718072.0,439714425.0,846743072.0,1171095008.0,0.0,20642936849.0,3711303419.0,578468989.0,54039419247.0,1036545236.0,368634338.0,40783984.0,2807267225.0,141708864.0,796615888.0,591790532.0,416776389384.0,5641790560.0,460213056.0,2131332793.0,150022480.0,748700105.0,11118679435.0,1277657839.0,4823554376.0,18261247205.0],\"yaxis\":\"y\",\"type\":\"scatter\"},{\"hovertemplate\":\"<b>%{hovertext}</b><br><br>continent=Oceania<br>Increase in average temperature=%{x}<br>Greenhouse Gases Emissions=%{y}<extra></extra>\",\"hovertext\":[\"AMERICAN SAMOA\",\"AUSTRALIA\",\"FEDERATED STATES OF MICRONESIA\",\"FIJI\",\"FRENCH POLYNESIA\",\"GUAM\",\"KIRIBATI\",\"NEW CALEDONIA\",\"NEW ZEALAND\",\"NIUE\",\"NORTHERN MARIANA ISLANDS\",\"PALAU\",\"PAPUA NEW GUINEA\",\"SAMOA\",\"SOLOMON ISLANDS\",\"TONGA\"],\"legendgroup\":\"Oceania\",\"marker\":{\"color\":\"#D62728\",\"symbol\":\"circle\"},\"mode\":\"markers\",\"name\":\"Oceania\",\"orientation\":\"v\",\"showlegend\":true,\"x\":[0.6024166666666667,1.0932499999999976,0.968,0.7043333333333307,0.6790000000000026,0.316416666666665,1.0782499999999973,0.9370833333333339,0.8710833333333328,0.6715000000000015,0.316416666666665,0.5418333333333365,0.6003333333333354,0.5929999999999962,1.0529166666666714,0.6588333333333377],\"xaxis\":\"x\",\"y\":[0.0,369776999271.0,0.0,840965621.0,384489168.0,0.0,30378224.0,2537973384.0,45035697634.0,3880176.0,0.0,190143280.0,1870049470.0,94864624.0,109212848.0,54685200.0],\"yaxis\":\"y\",\"type\":\"scatter\"},{\"hovertemplate\":\"<b>%{hovertext}</b><br><br>continent=North America<br>Increase in average temperature=%{x}<br>Greenhouse Gases Emissions=%{y}<extra></extra>\",\"hovertext\":[\"ANGUILLA\",\"ANTIGUA AND BARBUDA\",\"ARUBA\",\"BAHAMAS\",\"BARBADOS\",\"BELIZE\",\"BRITISH VIRGIN ISLANDS\",\"CANADA\",\"CAYMAN ISLANDS\",\"COSTA RICA\",\"CUBA\",\"DOMINICA\",\"DOMINICAN REPUBLIC\",\"EL SALVADOR\",\"GREENLAND\",\"GRENADA\",\"GUADELOUPE\",\"GUATEMALA\",\"HAITI\",\"HONDURAS\",\"JAMAICA\",\"MARTINIQUE\",\"MEXICO\",\"MONTSERRAT\",\"NICARAGUA\",\"PANAMA\",\"PUERTO RICO\",\"SAINT KITTS AND NEVIS\",\"SAINT LUCIA\",\"SAINT PIERRE AND MIQUELON\",\"SAINT VINCENT AND THE GRENADINES\",\"TRINIDAD AND TOBAGO\",\"TURKS AND CAICOS ISLANDS\",\"UNITED STATES\",\"VIRGIN ISLANDS, BRITISH\"],\"legendgroup\":\"North America\",\"marker\":{\"color\":\"#9467BD\",\"symbol\":\"circle\"},\"mode\":\"markers\",\"name\":\"North America\",\"orientation\":\"v\",\"showlegend\":true,\"x\":[1.4429166666666653,1.5035833333333277,1.1528333333333334,-0.35549999999999926,1.5192499999999995,0.2813333333333354,1.4234999999999969,3.060666666666666,0.0033333333333375736,0.9889999999999972,-0.05449999999999716,1.5131666666666703,0.8704999999999993,0.49708333333333565,3.613500000000003,1.4665000000000032,1.520499999999998,0.31341666666666446,0.6604999999999988,0.5731666666666693,0.48375000000000046,1.5131666666666703,-0.06316666666666726,1.5221666666666671,0.8340833333333321,0.9305833333333344,1.350166666666666,1.5236666666666667,1.4892500000000017,1.7381666666666655,1.4618333333333309,1.4464166666666642,0.4942500000000044,0.6175000000000019,1.4234999999999969],\"xaxis\":\"x\",\"y\":[17920624.0,456050752.0,1220752090.0,4135783199.0,842414965.0,256117264.0,46397232.0,848470227284.0,169822736.0,3087904410.0,36071323382.0,50347024.0,8716815662.0,3071869522.0,671556240.0,91178640.0,930216320.0,5272487759.0,950083727.0,2761120219.0,8306515069.0,1162261104.0,357637604206.0,21892400.0,2558816347.0,4094550368.0,0.0,46811264.0,146252224.0,81344464.0,70843440.0,29109776799.0,14216320.0,12684760067776.0,0.0],\"yaxis\":\"y\",\"type\":\"scatter\"},{\"hovertemplate\":\"<b>%{hovertext}</b><br><br>continent=South America<br>Increase in average temperature=%{x}<br>Greenhouse Gases Emissions=%{y}<extra></extra>\",\"hovertext\":[\"ARGENTINA\",\"BOLIVIA\",\"BRAZIL\",\"CHILE\",\"COLOMBIA\",\"ECUADOR\",\"FALKLAND ISLANDS (MALVINAS)\",\"FRENCH GUIANA\",\"GUYANA\",\"PARAGUAY\",\"PERU\",\"SOUTH GEORGIA AND THE SOUTH SANDWICH ISLANDS\",\"SURINAME\",\"URUGUAY\",\"VENEZUELA\"],\"legendgroup\":\"South America\",\"marker\":{\"color\":\"#8C564B\",\"symbol\":\"circle\"},\"mode\":\"markers\",\"name\":\"South America\",\"orientation\":\"v\",\"showlegend\":true,\"x\":[0.3075000000000015,0.6685000000000015,1.195583333333335,0.34366666666666756,0.9340833333333334,0.9095833333333337,0.8944999999999999,1.4759999999999984,1.345749999999998,0.285499999999999,0.7330833333333332,1.2552499999999998,1.4136666666666642,0.6308333333333349,1.1865833333333315],\"xaxis\":\"x\",\"y\":[175622373240.0,5936901532.0,222747823695.0,52479240874.0,60246260011.0,15123260221.0,0.0,343800448.0,2002192800.0,1873978263.0,39854338148.0,0.0,2203956290.0,8777689674.0,159264418610.0],\"yaxis\":\"y\",\"type\":\"scatter\"},{\"hovertemplate\":\"<b>%{hovertext}</b><br><br>continent=Antartica<br>Increase in average temperature=%{x}<br>Greenhouse Gases Emissions=%{y}<extra></extra>\",\"hovertext\":[\"HEARD ISLAND AND MCDONALD ISLANDS\"],\"legendgroup\":\"Antartica\",\"marker\":{\"color\":\"#E377C2\",\"symbol\":\"circle\"},\"mode\":\"markers\",\"name\":\"Antartica\",\"orientation\":\"v\",\"showlegend\":true,\"x\":[1.8003833333333334],\"xaxis\":\"x\",\"y\":[0.0],\"yaxis\":\"y\",\"type\":\"scatter\"}],                        {\"template\":{\"data\":{\"barpolar\":[{\"marker\":{\"line\":{\"color\":\"white\",\"width\":0.5},\"pattern\":{\"fillmode\":\"overlay\",\"size\":10,\"solidity\":0.2}},\"type\":\"barpolar\"}],\"bar\":[{\"error_x\":{\"color\":\"rgb(36,36,36)\"},\"error_y\":{\"color\":\"rgb(36,36,36)\"},\"marker\":{\"line\":{\"color\":\"white\",\"width\":0.5},\"pattern\":{\"fillmode\":\"overlay\",\"size\":10,\"solidity\":0.2}},\"type\":\"bar\"}],\"carpet\":[{\"aaxis\":{\"endlinecolor\":\"rgb(36,36,36)\",\"gridcolor\":\"white\",\"linecolor\":\"white\",\"minorgridcolor\":\"white\",\"startlinecolor\":\"rgb(36,36,36)\"},\"baxis\":{\"endlinecolor\":\"rgb(36,36,36)\",\"gridcolor\":\"white\",\"linecolor\":\"white\",\"minorgridcolor\":\"white\",\"startlinecolor\":\"rgb(36,36,36)\"},\"type\":\"carpet\"}],\"choropleth\":[{\"colorbar\":{\"outlinewidth\":1,\"tickcolor\":\"rgb(36,36,36)\",\"ticks\":\"outside\"},\"type\":\"choropleth\"}],\"contourcarpet\":[{\"colorbar\":{\"outlinewidth\":1,\"tickcolor\":\"rgb(36,36,36)\",\"ticks\":\"outside\"},\"type\":\"contourcarpet\"}],\"contour\":[{\"colorbar\":{\"outlinewidth\":1,\"tickcolor\":\"rgb(36,36,36)\",\"ticks\":\"outside\"},\"colorscale\":[[0.0,\"#440154\"],[0.1111111111111111,\"#482878\"],[0.2222222222222222,\"#3e4989\"],[0.3333333333333333,\"#31688e\"],[0.4444444444444444,\"#26828e\"],[0.5555555555555556,\"#1f9e89\"],[0.6666666666666666,\"#35b779\"],[0.7777777777777778,\"#6ece58\"],[0.8888888888888888,\"#b5de2b\"],[1.0,\"#fde725\"]],\"type\":\"contour\"}],\"heatmapgl\":[{\"colorbar\":{\"outlinewidth\":1,\"tickcolor\":\"rgb(36,36,36)\",\"ticks\":\"outside\"},\"colorscale\":[[0.0,\"#440154\"],[0.1111111111111111,\"#482878\"],[0.2222222222222222,\"#3e4989\"],[0.3333333333333333,\"#31688e\"],[0.4444444444444444,\"#26828e\"],[0.5555555555555556,\"#1f9e89\"],[0.6666666666666666,\"#35b779\"],[0.7777777777777778,\"#6ece58\"],[0.8888888888888888,\"#b5de2b\"],[1.0,\"#fde725\"]],\"type\":\"heatmapgl\"}],\"heatmap\":[{\"colorbar\":{\"outlinewidth\":1,\"tickcolor\":\"rgb(36,36,36)\",\"ticks\":\"outside\"},\"colorscale\":[[0.0,\"#440154\"],[0.1111111111111111,\"#482878\"],[0.2222222222222222,\"#3e4989\"],[0.3333333333333333,\"#31688e\"],[0.4444444444444444,\"#26828e\"],[0.5555555555555556,\"#1f9e89\"],[0.6666666666666666,\"#35b779\"],[0.7777777777777778,\"#6ece58\"],[0.8888888888888888,\"#b5de2b\"],[1.0,\"#fde725\"]],\"type\":\"heatmap\"}],\"histogram2dcontour\":[{\"colorbar\":{\"outlinewidth\":1,\"tickcolor\":\"rgb(36,36,36)\",\"ticks\":\"outside\"},\"colorscale\":[[0.0,\"#440154\"],[0.1111111111111111,\"#482878\"],[0.2222222222222222,\"#3e4989\"],[0.3333333333333333,\"#31688e\"],[0.4444444444444444,\"#26828e\"],[0.5555555555555556,\"#1f9e89\"],[0.6666666666666666,\"#35b779\"],[0.7777777777777778,\"#6ece58\"],[0.8888888888888888,\"#b5de2b\"],[1.0,\"#fde725\"]],\"type\":\"histogram2dcontour\"}],\"histogram2d\":[{\"colorbar\":{\"outlinewidth\":1,\"tickcolor\":\"rgb(36,36,36)\",\"ticks\":\"outside\"},\"colorscale\":[[0.0,\"#440154\"],[0.1111111111111111,\"#482878\"],[0.2222222222222222,\"#3e4989\"],[0.3333333333333333,\"#31688e\"],[0.4444444444444444,\"#26828e\"],[0.5555555555555556,\"#1f9e89\"],[0.6666666666666666,\"#35b779\"],[0.7777777777777778,\"#6ece58\"],[0.8888888888888888,\"#b5de2b\"],[1.0,\"#fde725\"]],\"type\":\"histogram2d\"}],\"histogram\":[{\"marker\":{\"line\":{\"color\":\"white\",\"width\":0.6}},\"type\":\"histogram\"}],\"mesh3d\":[{\"colorbar\":{\"outlinewidth\":1,\"tickcolor\":\"rgb(36,36,36)\",\"ticks\":\"outside\"},\"type\":\"mesh3d\"}],\"parcoords\":[{\"line\":{\"colorbar\":{\"outlinewidth\":1,\"tickcolor\":\"rgb(36,36,36)\",\"ticks\":\"outside\"}},\"type\":\"parcoords\"}],\"pie\":[{\"automargin\":true,\"type\":\"pie\"}],\"scatter3d\":[{\"line\":{\"colorbar\":{\"outlinewidth\":1,\"tickcolor\":\"rgb(36,36,36)\",\"ticks\":\"outside\"}},\"marker\":{\"colorbar\":{\"outlinewidth\":1,\"tickcolor\":\"rgb(36,36,36)\",\"ticks\":\"outside\"}},\"type\":\"scatter3d\"}],\"scattercarpet\":[{\"marker\":{\"colorbar\":{\"outlinewidth\":1,\"tickcolor\":\"rgb(36,36,36)\",\"ticks\":\"outside\"}},\"type\":\"scattercarpet\"}],\"scattergeo\":[{\"marker\":{\"colorbar\":{\"outlinewidth\":1,\"tickcolor\":\"rgb(36,36,36)\",\"ticks\":\"outside\"}},\"type\":\"scattergeo\"}],\"scattergl\":[{\"marker\":{\"colorbar\":{\"outlinewidth\":1,\"tickcolor\":\"rgb(36,36,36)\",\"ticks\":\"outside\"}},\"type\":\"scattergl\"}],\"scattermapbox\":[{\"marker\":{\"colorbar\":{\"outlinewidth\":1,\"tickcolor\":\"rgb(36,36,36)\",\"ticks\":\"outside\"}},\"type\":\"scattermapbox\"}],\"scatterpolargl\":[{\"marker\":{\"colorbar\":{\"outlinewidth\":1,\"tickcolor\":\"rgb(36,36,36)\",\"ticks\":\"outside\"}},\"type\":\"scatterpolargl\"}],\"scatterpolar\":[{\"marker\":{\"colorbar\":{\"outlinewidth\":1,\"tickcolor\":\"rgb(36,36,36)\",\"ticks\":\"outside\"}},\"type\":\"scatterpolar\"}],\"scatter\":[{\"marker\":{\"colorbar\":{\"outlinewidth\":1,\"tickcolor\":\"rgb(36,36,36)\",\"ticks\":\"outside\"}},\"type\":\"scatter\"}],\"scatterternary\":[{\"marker\":{\"colorbar\":{\"outlinewidth\":1,\"tickcolor\":\"rgb(36,36,36)\",\"ticks\":\"outside\"}},\"type\":\"scatterternary\"}],\"surface\":[{\"colorbar\":{\"outlinewidth\":1,\"tickcolor\":\"rgb(36,36,36)\",\"ticks\":\"outside\"},\"colorscale\":[[0.0,\"#440154\"],[0.1111111111111111,\"#482878\"],[0.2222222222222222,\"#3e4989\"],[0.3333333333333333,\"#31688e\"],[0.4444444444444444,\"#26828e\"],[0.5555555555555556,\"#1f9e89\"],[0.6666666666666666,\"#35b779\"],[0.7777777777777778,\"#6ece58\"],[0.8888888888888888,\"#b5de2b\"],[1.0,\"#fde725\"]],\"type\":\"surface\"}],\"table\":[{\"cells\":{\"fill\":{\"color\":\"rgb(237,237,237)\"},\"line\":{\"color\":\"white\"}},\"header\":{\"fill\":{\"color\":\"rgb(217,217,217)\"},\"line\":{\"color\":\"white\"}},\"type\":\"table\"}]},\"layout\":{\"annotationdefaults\":{\"arrowhead\":0,\"arrowwidth\":1},\"autotypenumbers\":\"strict\",\"coloraxis\":{\"colorbar\":{\"outlinewidth\":1,\"tickcolor\":\"rgb(36,36,36)\",\"ticks\":\"outside\"}},\"colorscale\":{\"diverging\":[[0.0,\"rgb(103,0,31)\"],[0.1,\"rgb(178,24,43)\"],[0.2,\"rgb(214,96,77)\"],[0.3,\"rgb(244,165,130)\"],[0.4,\"rgb(253,219,199)\"],[0.5,\"rgb(247,247,247)\"],[0.6,\"rgb(209,229,240)\"],[0.7,\"rgb(146,197,222)\"],[0.8,\"rgb(67,147,195)\"],[0.9,\"rgb(33,102,172)\"],[1.0,\"rgb(5,48,97)\"]],\"sequential\":[[0.0,\"#440154\"],[0.1111111111111111,\"#482878\"],[0.2222222222222222,\"#3e4989\"],[0.3333333333333333,\"#31688e\"],[0.4444444444444444,\"#26828e\"],[0.5555555555555556,\"#1f9e89\"],[0.6666666666666666,\"#35b779\"],[0.7777777777777778,\"#6ece58\"],[0.8888888888888888,\"#b5de2b\"],[1.0,\"#fde725\"]],\"sequentialminus\":[[0.0,\"#440154\"],[0.1111111111111111,\"#482878\"],[0.2222222222222222,\"#3e4989\"],[0.3333333333333333,\"#31688e\"],[0.4444444444444444,\"#26828e\"],[0.5555555555555556,\"#1f9e89\"],[0.6666666666666666,\"#35b779\"],[0.7777777777777778,\"#6ece58\"],[0.8888888888888888,\"#b5de2b\"],[1.0,\"#fde725\"]]},\"colorway\":[\"#1F77B4\",\"#FF7F0E\",\"#2CA02C\",\"#D62728\",\"#9467BD\",\"#8C564B\",\"#E377C2\",\"#7F7F7F\",\"#BCBD22\",\"#17BECF\"],\"font\":{\"color\":\"rgb(36,36,36)\"},\"geo\":{\"bgcolor\":\"white\",\"lakecolor\":\"white\",\"landcolor\":\"white\",\"showlakes\":true,\"showland\":true,\"subunitcolor\":\"white\"},\"hoverlabel\":{\"align\":\"left\"},\"hovermode\":\"closest\",\"mapbox\":{\"style\":\"light\"},\"paper_bgcolor\":\"white\",\"plot_bgcolor\":\"white\",\"polar\":{\"angularaxis\":{\"gridcolor\":\"rgb(232,232,232)\",\"linecolor\":\"rgb(36,36,36)\",\"showgrid\":false,\"showline\":true,\"ticks\":\"outside\"},\"bgcolor\":\"white\",\"radialaxis\":{\"gridcolor\":\"rgb(232,232,232)\",\"linecolor\":\"rgb(36,36,36)\",\"showgrid\":false,\"showline\":true,\"ticks\":\"outside\"}},\"scene\":{\"xaxis\":{\"backgroundcolor\":\"white\",\"gridcolor\":\"rgb(232,232,232)\",\"gridwidth\":2,\"linecolor\":\"rgb(36,36,36)\",\"showbackground\":true,\"showgrid\":false,\"showline\":true,\"ticks\":\"outside\",\"zeroline\":false,\"zerolinecolor\":\"rgb(36,36,36)\"},\"yaxis\":{\"backgroundcolor\":\"white\",\"gridcolor\":\"rgb(232,232,232)\",\"gridwidth\":2,\"linecolor\":\"rgb(36,36,36)\",\"showbackground\":true,\"showgrid\":false,\"showline\":true,\"ticks\":\"outside\",\"zeroline\":false,\"zerolinecolor\":\"rgb(36,36,36)\"},\"zaxis\":{\"backgroundcolor\":\"white\",\"gridcolor\":\"rgb(232,232,232)\",\"gridwidth\":2,\"linecolor\":\"rgb(36,36,36)\",\"showbackground\":true,\"showgrid\":false,\"showline\":true,\"ticks\":\"outside\",\"zeroline\":false,\"zerolinecolor\":\"rgb(36,36,36)\"}},\"shapedefaults\":{\"fillcolor\":\"black\",\"line\":{\"width\":0},\"opacity\":0.3},\"ternary\":{\"aaxis\":{\"gridcolor\":\"rgb(232,232,232)\",\"linecolor\":\"rgb(36,36,36)\",\"showgrid\":false,\"showline\":true,\"ticks\":\"outside\"},\"baxis\":{\"gridcolor\":\"rgb(232,232,232)\",\"linecolor\":\"rgb(36,36,36)\",\"showgrid\":false,\"showline\":true,\"ticks\":\"outside\"},\"bgcolor\":\"white\",\"caxis\":{\"gridcolor\":\"rgb(232,232,232)\",\"linecolor\":\"rgb(36,36,36)\",\"showgrid\":false,\"showline\":true,\"ticks\":\"outside\"}},\"title\":{\"x\":0.05},\"xaxis\":{\"automargin\":true,\"gridcolor\":\"rgb(232,232,232)\",\"linecolor\":\"rgb(36,36,36)\",\"showgrid\":false,\"showline\":true,\"ticks\":\"outside\",\"title\":{\"standoff\":15},\"zeroline\":false,\"zerolinecolor\":\"rgb(36,36,36)\"},\"yaxis\":{\"automargin\":true,\"gridcolor\":\"rgb(232,232,232)\",\"linecolor\":\"rgb(36,36,36)\",\"showgrid\":false,\"showline\":true,\"ticks\":\"outside\",\"title\":{\"standoff\":15},\"zeroline\":false,\"zerolinecolor\":\"rgb(36,36,36)\"}}},\"xaxis\":{\"anchor\":\"y\",\"domain\":[0.0,1.0],\"title\":{\"text\":\"Increase in average temperature\"}},\"yaxis\":{\"anchor\":\"x\",\"domain\":[0.0,1.0],\"title\":{\"text\":\"Greenhouse Gases Emissions\"}},\"legend\":{\"title\":{\"text\":\"continent\"},\"tracegroupgap\":0},\"margin\":{\"t\":60}},                        {\"responsive\": true}                    ).then(function(){\n",
       "                            \n",
       "var gd = document.getElementById('75284115-5e54-4671-8016-6998f8eb649d');\n",
       "var x = new MutationObserver(function (mutations, observer) {{\n",
       "        var display = window.getComputedStyle(gd).display;\n",
       "        if (!display || display === 'none') {{\n",
       "            console.log([gd, 'removed!']);\n",
       "            Plotly.purge(gd);\n",
       "            observer.disconnect();\n",
       "        }}\n",
       "}});\n",
       "\n",
       "// Listen for the removal of the full notebook cells\n",
       "var notebookContainer = gd.closest('#notebook-container');\n",
       "if (notebookContainer) {{\n",
       "    x.observe(notebookContainer, {childList: true});\n",
       "}}\n",
       "\n",
       "// Listen for the clearing of the current output cell\n",
       "var outputEl = gd.closest('.output');\n",
       "if (outputEl) {{\n",
       "    x.observe(outputEl, {childList: true});\n",
       "}}\n",
       "\n",
       "                        })                };                });            </script>        </div>"
      ]
     },
     "metadata": {},
     "output_type": "display_data"
    }
   ],
   "source": [
    "fig = px.scatter(df, x=\"temp_diff\", y=\"GHG\", color=\"continent\", template=\"simple_white\", hover_name=\"Country\",\n",
    "                labels={\n",
    "                     \"temp_diff\": \"Increase in average temperature\",\n",
    "                     \"GHG\": \"Greenhouse Gases Emissions\"\n",
    "\n",
    "                 },)\n",
    "fig.show()"
   ]
  },
  {
   "cell_type": "code",
   "execution_count": 30,
   "id": "fddd9baa",
   "metadata": {},
   "outputs": [
    {
     "name": "stderr",
     "output_type": "stream",
     "text": [
      "C:\\Users\\asus\\miniconda3\\envs\\data_vis\\lib\\site-packages\\pandas\\core\\arraylike.py:397: RuntimeWarning:\n",
      "\n",
      "divide by zero encountered in log\n",
      "\n"
     ]
    },
    {
     "ename": "ValueError",
     "evalue": "\n    Invalid element(s) received for the 'size' property of scatter.marker\n        Invalid elements include: [-inf, -inf, -inf, -inf, -inf, -inf, -inf, -inf, -inf, -inf]\n\n    The 'size' property is a number and may be specified as:\n      - An int or float in the interval [0, inf]\n      - A tuple, list, or one-dimensional numpy array of the above",
     "output_type": "error",
     "traceback": [
      "\u001b[1;31m---------------------------------------------------------------------------\u001b[0m",
      "\u001b[1;31mValueError\u001b[0m                                Traceback (most recent call last)",
      "Input \u001b[1;32mIn [30]\u001b[0m, in \u001b[0;36m<cell line: 4>\u001b[1;34m()\u001b[0m\n\u001b[0;32m      1\u001b[0m \u001b[38;5;28;01mimport\u001b[39;00m \u001b[38;5;21;01mplotly\u001b[39;00m\u001b[38;5;21;01m.\u001b[39;00m\u001b[38;5;21;01mgraph_objs\u001b[39;00m \u001b[38;5;28;01mas\u001b[39;00m \u001b[38;5;21;01mgo\u001b[39;00m\n\u001b[0;32m      2\u001b[0m \u001b[38;5;28;01mimport\u001b[39;00m \u001b[38;5;21;01mstatsmodels\u001b[39;00m\u001b[38;5;21;01m.\u001b[39;00m\u001b[38;5;21;01mapi\u001b[39;00m \u001b[38;5;28;01mas\u001b[39;00m \u001b[38;5;21;01msm\u001b[39;00m\n\u001b[1;32m----> 4\u001b[0m fig \u001b[38;5;241m=\u001b[39m \u001b[43mpx\u001b[49m\u001b[38;5;241;43m.\u001b[39;49m\u001b[43mscatter\u001b[49m\u001b[43m(\u001b[49m\u001b[43mdf\u001b[49m\u001b[43m,\u001b[49m\u001b[43m \u001b[49m\u001b[43mx\u001b[49m\u001b[38;5;241;43m=\u001b[39;49m\u001b[38;5;124;43m\"\u001b[39;49m\u001b[38;5;124;43mtemp_diff\u001b[39;49m\u001b[38;5;124;43m\"\u001b[39;49m\u001b[43m,\u001b[49m\u001b[43m \u001b[49m\u001b[43my\u001b[49m\u001b[43m \u001b[49m\u001b[38;5;241;43m=\u001b[39;49m\u001b[38;5;124;43m\"\u001b[39;49m\u001b[38;5;124;43mGHG\u001b[39;49m\u001b[38;5;124;43m\"\u001b[39;49m\u001b[43m,\u001b[49m\u001b[43m \u001b[49m\u001b[43msize\u001b[49m\u001b[38;5;241;43m=\u001b[39;49m\u001b[43mnp\u001b[49m\u001b[38;5;241;43m.\u001b[39;49m\u001b[43mlog\u001b[49m\u001b[43m(\u001b[49m\u001b[43mdf\u001b[49m\u001b[43m[\u001b[49m\u001b[38;5;124;43m\"\u001b[39;49m\u001b[38;5;124;43mGHG\u001b[39;49m\u001b[38;5;124;43m\"\u001b[39;49m\u001b[43m]\u001b[49m\u001b[43m)\u001b[49m\u001b[43m,\u001b[49m\u001b[43m \u001b[49m\u001b[43mcolor\u001b[49m\u001b[38;5;241;43m=\u001b[39;49m\u001b[38;5;124;43m\"\u001b[39;49m\u001b[38;5;124;43mtemp_diff\u001b[39;49m\u001b[38;5;124;43m\"\u001b[39;49m\u001b[43m,\u001b[49m\u001b[43m \u001b[49m\u001b[43mhover_name\u001b[49m\u001b[38;5;241;43m=\u001b[39;49m\u001b[43mdf\u001b[49m\u001b[38;5;241;43m.\u001b[39;49m\u001b[43mindex\u001b[49m\u001b[43m,\u001b[49m\u001b[43m \u001b[49m\u001b[43mlog_x\u001b[49m\u001b[38;5;241;43m=\u001b[39;49m\u001b[38;5;28;43;01mFalse\u001b[39;49;00m\u001b[43m,\u001b[49m\u001b[43mmarginal_x\u001b[49m\u001b[43m \u001b[49m\u001b[38;5;241;43m=\u001b[39;49m\u001b[43m \u001b[49m\u001b[38;5;124;43m\"\u001b[39;49m\u001b[38;5;124;43mbox\u001b[39;49m\u001b[38;5;124;43m\"\u001b[39;49m\u001b[43m,\u001b[49m\u001b[43mmarginal_y\u001b[49m\u001b[43m \u001b[49m\u001b[38;5;241;43m=\u001b[39;49m\u001b[43m \u001b[49m\u001b[38;5;124;43m\"\u001b[39;49m\u001b[38;5;124;43mbox\u001b[39;49m\u001b[38;5;124;43m\"\u001b[39;49m\u001b[43m,\u001b[49m\u001b[43m \u001b[49m\u001b[43mtemplate\u001b[49m\u001b[38;5;241;43m=\u001b[39;49m\u001b[38;5;124;43m\"\u001b[39;49m\u001b[38;5;124;43msimple_white\u001b[39;49m\u001b[38;5;124;43m\"\u001b[39;49m\u001b[43m,\u001b[49m\u001b[43m \u001b[49m\u001b[43mcolor_discrete_sequence\u001b[49m\u001b[38;5;241;43m=\u001b[39;49m\u001b[43m[\u001b[49m\u001b[38;5;124;43m\"\u001b[39;49m\u001b[38;5;124;43m#0d0887\u001b[39;49m\u001b[38;5;124;43m\"\u001b[39;49m\u001b[43m,\u001b[49m\u001b[43m \u001b[49m\u001b[38;5;124;43m\"\u001b[39;49m\u001b[38;5;124;43m#9c179e\u001b[39;49m\u001b[38;5;124;43m\"\u001b[39;49m\u001b[43m]\u001b[49m\u001b[43m)\u001b[49m\n\u001b[0;32m      6\u001b[0m \u001b[38;5;66;03m# linear regression\u001b[39;00m\n\u001b[0;32m      7\u001b[0m regline \u001b[38;5;241m=\u001b[39m sm\u001b[38;5;241m.\u001b[39mOLS(df[\u001b[38;5;124m\"\u001b[39m\u001b[38;5;124mAverageTemperature\u001b[39m\u001b[38;5;124m\"\u001b[39m],sm\u001b[38;5;241m.\u001b[39madd_constant(np\u001b[38;5;241m.\u001b[39mlog(df[\u001b[38;5;124m\"\u001b[39m\u001b[38;5;124mGHG\u001b[39m\u001b[38;5;124m\"\u001b[39m])))\u001b[38;5;241m.\u001b[39mfit()\u001b[38;5;241m.\u001b[39mfittedvalues\n",
      "File \u001b[1;32m~\\miniconda3\\envs\\data_vis\\lib\\site-packages\\plotly\\express\\_chart_types.py:66\u001b[0m, in \u001b[0;36mscatter\u001b[1;34m(data_frame, x, y, color, symbol, size, hover_name, hover_data, custom_data, text, facet_row, facet_col, facet_col_wrap, facet_row_spacing, facet_col_spacing, error_x, error_x_minus, error_y, error_y_minus, animation_frame, animation_group, category_orders, labels, orientation, color_discrete_sequence, color_discrete_map, color_continuous_scale, range_color, color_continuous_midpoint, symbol_sequence, symbol_map, opacity, size_max, marginal_x, marginal_y, trendline, trendline_options, trendline_color_override, trendline_scope, log_x, log_y, range_x, range_y, render_mode, title, template, width, height)\u001b[0m\n\u001b[0;32m     12\u001b[0m \u001b[38;5;28;01mdef\u001b[39;00m \u001b[38;5;21mscatter\u001b[39m(\n\u001b[0;32m     13\u001b[0m     data_frame\u001b[38;5;241m=\u001b[39m\u001b[38;5;28;01mNone\u001b[39;00m,\n\u001b[0;32m     14\u001b[0m     x\u001b[38;5;241m=\u001b[39m\u001b[38;5;28;01mNone\u001b[39;00m,\n\u001b[1;32m   (...)\u001b[0m\n\u001b[0;32m     60\u001b[0m     height\u001b[38;5;241m=\u001b[39m\u001b[38;5;28;01mNone\u001b[39;00m,\n\u001b[0;32m     61\u001b[0m ):\n\u001b[0;32m     62\u001b[0m     \u001b[38;5;124;03m\"\"\"\u001b[39;00m\n\u001b[0;32m     63\u001b[0m \u001b[38;5;124;03m    In a scatter plot, each row of `data_frame` is represented by a symbol\u001b[39;00m\n\u001b[0;32m     64\u001b[0m \u001b[38;5;124;03m    mark in 2D space.\u001b[39;00m\n\u001b[0;32m     65\u001b[0m \u001b[38;5;124;03m    \"\"\"\u001b[39;00m\n\u001b[1;32m---> 66\u001b[0m     \u001b[38;5;28;01mreturn\u001b[39;00m \u001b[43mmake_figure\u001b[49m\u001b[43m(\u001b[49m\u001b[43margs\u001b[49m\u001b[38;5;241;43m=\u001b[39;49m\u001b[38;5;28;43mlocals\u001b[39;49m\u001b[43m(\u001b[49m\u001b[43m)\u001b[49m\u001b[43m,\u001b[49m\u001b[43m \u001b[49m\u001b[43mconstructor\u001b[49m\u001b[38;5;241;43m=\u001b[39;49m\u001b[43mgo\u001b[49m\u001b[38;5;241;43m.\u001b[39;49m\u001b[43mScatter\u001b[49m\u001b[43m)\u001b[49m\n",
      "File \u001b[1;32m~\\miniconda3\\envs\\data_vis\\lib\\site-packages\\plotly\\express\\_core.py:2126\u001b[0m, in \u001b[0;36mmake_figure\u001b[1;34m(args, constructor, trace_patch, layout_patch)\u001b[0m\n\u001b[0;32m   2121\u001b[0m         group[var] \u001b[38;5;241m=\u001b[39m \u001b[38;5;241m100.0\u001b[39m \u001b[38;5;241m*\u001b[39m group[var] \u001b[38;5;241m/\u001b[39m group_sum\n\u001b[0;32m   2123\u001b[0m patch, fit_results \u001b[38;5;241m=\u001b[39m make_trace_kwargs(\n\u001b[0;32m   2124\u001b[0m     args, trace_spec, group, mapping_labels\u001b[38;5;241m.\u001b[39mcopy(), sizeref\n\u001b[0;32m   2125\u001b[0m )\n\u001b[1;32m-> 2126\u001b[0m \u001b[43mtrace\u001b[49m\u001b[38;5;241;43m.\u001b[39;49m\u001b[43mupdate\u001b[49m\u001b[43m(\u001b[49m\u001b[43mpatch\u001b[49m\u001b[43m)\u001b[49m\n\u001b[0;32m   2127\u001b[0m \u001b[38;5;28;01mif\u001b[39;00m fit_results \u001b[38;5;129;01mis\u001b[39;00m \u001b[38;5;129;01mnot\u001b[39;00m \u001b[38;5;28;01mNone\u001b[39;00m:\n\u001b[0;32m   2128\u001b[0m     trendline_rows\u001b[38;5;241m.\u001b[39mappend(mapping_labels\u001b[38;5;241m.\u001b[39mcopy())\n",
      "File \u001b[1;32m~\\miniconda3\\envs\\data_vis\\lib\\site-packages\\plotly\\basedatatypes.py:5092\u001b[0m, in \u001b[0;36mBasePlotlyType.update\u001b[1;34m(self, dict1, overwrite, **kwargs)\u001b[0m\n\u001b[0;32m   5090\u001b[0m         BaseFigure\u001b[38;5;241m.\u001b[39m_perform_update(\u001b[38;5;28mself\u001b[39m, kwargs, overwrite\u001b[38;5;241m=\u001b[39moverwrite)\n\u001b[0;32m   5091\u001b[0m \u001b[38;5;28;01melse\u001b[39;00m:\n\u001b[1;32m-> 5092\u001b[0m     \u001b[43mBaseFigure\u001b[49m\u001b[38;5;241;43m.\u001b[39;49m\u001b[43m_perform_update\u001b[49m\u001b[43m(\u001b[49m\u001b[38;5;28;43mself\u001b[39;49m\u001b[43m,\u001b[49m\u001b[43m \u001b[49m\u001b[43mdict1\u001b[49m\u001b[43m,\u001b[49m\u001b[43m \u001b[49m\u001b[43moverwrite\u001b[49m\u001b[38;5;241;43m=\u001b[39;49m\u001b[43moverwrite\u001b[49m\u001b[43m)\u001b[49m\n\u001b[0;32m   5093\u001b[0m     BaseFigure\u001b[38;5;241m.\u001b[39m_perform_update(\u001b[38;5;28mself\u001b[39m, kwargs, overwrite\u001b[38;5;241m=\u001b[39moverwrite)\n\u001b[0;32m   5095\u001b[0m \u001b[38;5;28;01mreturn\u001b[39;00m \u001b[38;5;28mself\u001b[39m\n",
      "File \u001b[1;32m~\\miniconda3\\envs\\data_vis\\lib\\site-packages\\plotly\\basedatatypes.py:3908\u001b[0m, in \u001b[0;36mBaseFigure._perform_update\u001b[1;34m(plotly_obj, update_obj, overwrite)\u001b[0m\n\u001b[0;32m   3902\u001b[0m validator \u001b[38;5;241m=\u001b[39m plotly_obj\u001b[38;5;241m.\u001b[39m_get_prop_validator(key)\n\u001b[0;32m   3904\u001b[0m \u001b[38;5;28;01mif\u001b[39;00m \u001b[38;5;28misinstance\u001b[39m(validator, CompoundValidator) \u001b[38;5;129;01mand\u001b[39;00m \u001b[38;5;28misinstance\u001b[39m(val, \u001b[38;5;28mdict\u001b[39m):\n\u001b[0;32m   3905\u001b[0m \n\u001b[0;32m   3906\u001b[0m     \u001b[38;5;66;03m# Update compound objects recursively\u001b[39;00m\n\u001b[0;32m   3907\u001b[0m     \u001b[38;5;66;03m# plotly_obj[key].update(val)\u001b[39;00m\n\u001b[1;32m-> 3908\u001b[0m     \u001b[43mBaseFigure\u001b[49m\u001b[38;5;241;43m.\u001b[39;49m\u001b[43m_perform_update\u001b[49m\u001b[43m(\u001b[49m\u001b[43mplotly_obj\u001b[49m\u001b[43m[\u001b[49m\u001b[43mkey\u001b[49m\u001b[43m]\u001b[49m\u001b[43m,\u001b[49m\u001b[43m \u001b[49m\u001b[43mval\u001b[49m\u001b[43m)\u001b[49m\n\u001b[0;32m   3909\u001b[0m \u001b[38;5;28;01melif\u001b[39;00m \u001b[38;5;28misinstance\u001b[39m(validator, CompoundArrayValidator):\n\u001b[0;32m   3910\u001b[0m     \u001b[38;5;28;01mif\u001b[39;00m plotly_obj[key]:\n\u001b[0;32m   3911\u001b[0m         \u001b[38;5;66;03m# plotly_obj has an existing non-empty array for key\u001b[39;00m\n\u001b[0;32m   3912\u001b[0m         \u001b[38;5;66;03m# In this case we merge val into the existing elements\u001b[39;00m\n",
      "File \u001b[1;32m~\\miniconda3\\envs\\data_vis\\lib\\site-packages\\plotly\\basedatatypes.py:3929\u001b[0m, in \u001b[0;36mBaseFigure._perform_update\u001b[1;34m(plotly_obj, update_obj, overwrite)\u001b[0m\n\u001b[0;32m   3926\u001b[0m                 plotly_obj[key] \u001b[38;5;241m=\u001b[39m val\n\u001b[0;32m   3927\u001b[0m         \u001b[38;5;28;01melse\u001b[39;00m:\n\u001b[0;32m   3928\u001b[0m             \u001b[38;5;66;03m# Assign non-compound value\u001b[39;00m\n\u001b[1;32m-> 3929\u001b[0m             plotly_obj[key] \u001b[38;5;241m=\u001b[39m val\n\u001b[0;32m   3931\u001b[0m \u001b[38;5;28;01melif\u001b[39;00m \u001b[38;5;28misinstance\u001b[39m(plotly_obj, \u001b[38;5;28mtuple\u001b[39m):\n\u001b[0;32m   3933\u001b[0m     \u001b[38;5;28;01mif\u001b[39;00m \u001b[38;5;28mlen\u001b[39m(update_obj) \u001b[38;5;241m==\u001b[39m \u001b[38;5;241m0\u001b[39m:\n\u001b[0;32m   3934\u001b[0m         \u001b[38;5;66;03m# Nothing to do\u001b[39;00m\n",
      "File \u001b[1;32m~\\miniconda3\\envs\\data_vis\\lib\\site-packages\\plotly\\basedatatypes.py:4827\u001b[0m, in \u001b[0;36mBasePlotlyType.__setitem__\u001b[1;34m(self, prop, value)\u001b[0m\n\u001b[0;32m   4823\u001b[0m         \u001b[38;5;28mself\u001b[39m\u001b[38;5;241m.\u001b[39m_set_array_prop(prop, value)\n\u001b[0;32m   4825\u001b[0m     \u001b[38;5;66;03m# ### Handle simple property ###\u001b[39;00m\n\u001b[0;32m   4826\u001b[0m     \u001b[38;5;28;01melse\u001b[39;00m:\n\u001b[1;32m-> 4827\u001b[0m         \u001b[38;5;28;43mself\u001b[39;49m\u001b[38;5;241;43m.\u001b[39;49m\u001b[43m_set_prop\u001b[49m\u001b[43m(\u001b[49m\u001b[43mprop\u001b[49m\u001b[43m,\u001b[49m\u001b[43m \u001b[49m\u001b[43mvalue\u001b[49m\u001b[43m)\u001b[49m\n\u001b[0;32m   4828\u001b[0m \u001b[38;5;28;01melse\u001b[39;00m:\n\u001b[0;32m   4829\u001b[0m     \u001b[38;5;66;03m# Make sure properties dict is initialized\u001b[39;00m\n\u001b[0;32m   4830\u001b[0m     \u001b[38;5;28mself\u001b[39m\u001b[38;5;241m.\u001b[39m_init_props()\n",
      "File \u001b[1;32m~\\miniconda3\\envs\\data_vis\\lib\\site-packages\\plotly\\basedatatypes.py:5171\u001b[0m, in \u001b[0;36mBasePlotlyType._set_prop\u001b[1;34m(self, prop, val)\u001b[0m\n\u001b[0;32m   5169\u001b[0m         \u001b[38;5;28;01mreturn\u001b[39;00m\n\u001b[0;32m   5170\u001b[0m     \u001b[38;5;28;01melse\u001b[39;00m:\n\u001b[1;32m-> 5171\u001b[0m         \u001b[38;5;28;01mraise\u001b[39;00m err\n\u001b[0;32m   5173\u001b[0m \u001b[38;5;66;03m# val is None\u001b[39;00m\n\u001b[0;32m   5174\u001b[0m \u001b[38;5;66;03m# -----------\u001b[39;00m\n\u001b[0;32m   5175\u001b[0m \u001b[38;5;28;01mif\u001b[39;00m val \u001b[38;5;129;01mis\u001b[39;00m \u001b[38;5;28;01mNone\u001b[39;00m:\n\u001b[0;32m   5176\u001b[0m     \u001b[38;5;66;03m# Check if we should send null update\u001b[39;00m\n",
      "File \u001b[1;32m~\\miniconda3\\envs\\data_vis\\lib\\site-packages\\plotly\\basedatatypes.py:5166\u001b[0m, in \u001b[0;36mBasePlotlyType._set_prop\u001b[1;34m(self, prop, val)\u001b[0m\n\u001b[0;32m   5163\u001b[0m validator \u001b[38;5;241m=\u001b[39m \u001b[38;5;28mself\u001b[39m\u001b[38;5;241m.\u001b[39m_get_validator(prop)\n\u001b[0;32m   5165\u001b[0m \u001b[38;5;28;01mtry\u001b[39;00m:\n\u001b[1;32m-> 5166\u001b[0m     val \u001b[38;5;241m=\u001b[39m \u001b[43mvalidator\u001b[49m\u001b[38;5;241;43m.\u001b[39;49m\u001b[43mvalidate_coerce\u001b[49m\u001b[43m(\u001b[49m\u001b[43mval\u001b[49m\u001b[43m)\u001b[49m\n\u001b[0;32m   5167\u001b[0m \u001b[38;5;28;01mexcept\u001b[39;00m \u001b[38;5;167;01mValueError\u001b[39;00m \u001b[38;5;28;01mas\u001b[39;00m err:\n\u001b[0;32m   5168\u001b[0m     \u001b[38;5;28;01mif\u001b[39;00m \u001b[38;5;28mself\u001b[39m\u001b[38;5;241m.\u001b[39m_skip_invalid:\n",
      "File \u001b[1;32m~\\miniconda3\\envs\\data_vis\\lib\\site-packages\\_plotly_utils\\basevalidators.py:785\u001b[0m, in \u001b[0;36mNumberValidator.validate_coerce\u001b[1;34m(self, v)\u001b[0m\n\u001b[0;32m    780\u001b[0m             v_invalid \u001b[38;5;241m=\u001b[39m np\u001b[38;5;241m.\u001b[39mlogical_not(v_valid)\n\u001b[0;32m    781\u001b[0m             some_invalid_els \u001b[38;5;241m=\u001b[39m np\u001b[38;5;241m.\u001b[39marray(v, dtype\u001b[38;5;241m=\u001b[39m\u001b[38;5;124m\"\u001b[39m\u001b[38;5;124mobject\u001b[39m\u001b[38;5;124m\"\u001b[39m)[v_invalid][\n\u001b[0;32m    782\u001b[0m                 :\u001b[38;5;241m10\u001b[39m\n\u001b[0;32m    783\u001b[0m             ]\u001b[38;5;241m.\u001b[39mtolist()\n\u001b[1;32m--> 785\u001b[0m             \u001b[38;5;28;43mself\u001b[39;49m\u001b[38;5;241;43m.\u001b[39;49m\u001b[43mraise_invalid_elements\u001b[49m\u001b[43m(\u001b[49m\u001b[43msome_invalid_els\u001b[49m\u001b[43m)\u001b[49m\n\u001b[0;32m    787\u001b[0m     v \u001b[38;5;241m=\u001b[39m v_array  \u001b[38;5;66;03m# Always numeric numpy array\u001b[39;00m\n\u001b[0;32m    788\u001b[0m \u001b[38;5;28;01melif\u001b[39;00m \u001b[38;5;28mself\u001b[39m\u001b[38;5;241m.\u001b[39marray_ok \u001b[38;5;129;01mand\u001b[39;00m is_simple_array(v):\n\u001b[0;32m    789\u001b[0m     \u001b[38;5;66;03m# Check numeric\u001b[39;00m\n",
      "File \u001b[1;32m~\\miniconda3\\envs\\data_vis\\lib\\site-packages\\_plotly_utils\\basevalidators.py:305\u001b[0m, in \u001b[0;36mBaseValidator.raise_invalid_elements\u001b[1;34m(self, invalid_els)\u001b[0m\n\u001b[0;32m    303\u001b[0m     \u001b[38;5;28;01mdef\u001b[39;00m \u001b[38;5;21mraise_invalid_elements\u001b[39m(\u001b[38;5;28mself\u001b[39m, invalid_els):\n\u001b[0;32m    304\u001b[0m         \u001b[38;5;28;01mif\u001b[39;00m invalid_els:\n\u001b[1;32m--> 305\u001b[0m             \u001b[38;5;28;01mraise\u001b[39;00m \u001b[38;5;167;01mValueError\u001b[39;00m(\n\u001b[0;32m    306\u001b[0m                 \u001b[38;5;124;03m\"\"\"\u001b[39;00m\n\u001b[0;32m    307\u001b[0m \u001b[38;5;124;03m    Invalid element(s) received for the '{name}' property of {pname}\u001b[39;00m\n\u001b[0;32m    308\u001b[0m \u001b[38;5;124;03m        Invalid elements include: {invalid}\u001b[39;00m\n\u001b[0;32m    309\u001b[0m \n\u001b[0;32m    310\u001b[0m \u001b[38;5;124;03m{valid_clr_desc}\"\"\"\u001b[39;00m\u001b[38;5;241m.\u001b[39mformat(\n\u001b[0;32m    311\u001b[0m                     name\u001b[38;5;241m=\u001b[39m\u001b[38;5;28mself\u001b[39m\u001b[38;5;241m.\u001b[39mplotly_name,\n\u001b[0;32m    312\u001b[0m                     pname\u001b[38;5;241m=\u001b[39m\u001b[38;5;28mself\u001b[39m\u001b[38;5;241m.\u001b[39mparent_name,\n\u001b[0;32m    313\u001b[0m                     invalid\u001b[38;5;241m=\u001b[39minvalid_els[:\u001b[38;5;241m10\u001b[39m],\n\u001b[0;32m    314\u001b[0m                     valid_clr_desc\u001b[38;5;241m=\u001b[39m\u001b[38;5;28mself\u001b[39m\u001b[38;5;241m.\u001b[39mdescription(),\n\u001b[0;32m    315\u001b[0m                 )\n\u001b[0;32m    316\u001b[0m             )\n",
      "\u001b[1;31mValueError\u001b[0m: \n    Invalid element(s) received for the 'size' property of scatter.marker\n        Invalid elements include: [-inf, -inf, -inf, -inf, -inf, -inf, -inf, -inf, -inf, -inf]\n\n    The 'size' property is a number and may be specified as:\n      - An int or float in the interval [0, inf]\n      - A tuple, list, or one-dimensional numpy array of the above"
     ]
    }
   ],
   "source": [
    "import plotly.graph_objs as go\n",
    "import statsmodels.api as sm\n",
    "\n",
    "fig = px.scatter(df, x=\"temp_diff\", y =\"GHG\", size=np.log(df[\"GHG\"]), color=\"temp_diff\", hover_name=df.index, log_x=False,marginal_x = \"box\",marginal_y = \"box\", template=\"simple_white\", color_discrete_sequence=[\"#0d0887\", \"#9c179e\"])\n",
    "\n",
    "# linear regression\n",
    "regline = sm.OLS(df[\"AverageTemperature\"],sm.add_constant(np.log(df[\"GHG\"]))).fit().fittedvalues\n",
    "\n",
    "# add linear regression line for whole sample\n",
    "fig.add_traces(go.Scatter(x=np.log(df[\"GHG\"]), y=regline,\n",
    "                          mode = 'lines',\n",
    "                          marker_color='#fb9f3a',\n",
    "                          name='OLS Trendline')\n",
    "                          )\n",
    "\n",
    "fig.show()"
   ]
  },
  {
   "cell_type": "code",
   "execution_count": 45,
   "id": "ba8c8d4d",
   "metadata": {
    "scrolled": true
   },
   "outputs": [
    {
     "ename": "KeyError",
     "evalue": "'GHG'",
     "output_type": "error",
     "traceback": [
      "\u001b[1;31m---------------------------------------------------------------------------\u001b[0m",
      "\u001b[1;31mKeyError\u001b[0m                                  Traceback (most recent call last)",
      "File \u001b[1;32m~\\miniconda3\\envs\\data_vis\\lib\\site-packages\\pandas\\core\\indexes\\base.py:3621\u001b[0m, in \u001b[0;36mIndex.get_loc\u001b[1;34m(self, key, method, tolerance)\u001b[0m\n\u001b[0;32m   3620\u001b[0m \u001b[38;5;28;01mtry\u001b[39;00m:\n\u001b[1;32m-> 3621\u001b[0m     \u001b[38;5;28;01mreturn\u001b[39;00m \u001b[38;5;28;43mself\u001b[39;49m\u001b[38;5;241;43m.\u001b[39;49m\u001b[43m_engine\u001b[49m\u001b[38;5;241;43m.\u001b[39;49m\u001b[43mget_loc\u001b[49m\u001b[43m(\u001b[49m\u001b[43mcasted_key\u001b[49m\u001b[43m)\u001b[49m\n\u001b[0;32m   3622\u001b[0m \u001b[38;5;28;01mexcept\u001b[39;00m \u001b[38;5;167;01mKeyError\u001b[39;00m \u001b[38;5;28;01mas\u001b[39;00m err:\n",
      "File \u001b[1;32m~\\miniconda3\\envs\\data_vis\\lib\\site-packages\\pandas\\_libs\\index.pyx:136\u001b[0m, in \u001b[0;36mpandas._libs.index.IndexEngine.get_loc\u001b[1;34m()\u001b[0m\n",
      "File \u001b[1;32m~\\miniconda3\\envs\\data_vis\\lib\\site-packages\\pandas\\_libs\\index.pyx:163\u001b[0m, in \u001b[0;36mpandas._libs.index.IndexEngine.get_loc\u001b[1;34m()\u001b[0m\n",
      "File \u001b[1;32mpandas\\_libs\\hashtable_class_helper.pxi:5198\u001b[0m, in \u001b[0;36mpandas._libs.hashtable.PyObjectHashTable.get_item\u001b[1;34m()\u001b[0m\n",
      "File \u001b[1;32mpandas\\_libs\\hashtable_class_helper.pxi:5206\u001b[0m, in \u001b[0;36mpandas._libs.hashtable.PyObjectHashTable.get_item\u001b[1;34m()\u001b[0m\n",
      "\u001b[1;31mKeyError\u001b[0m: 'GHG'",
      "\nThe above exception was the direct cause of the following exception:\n",
      "\u001b[1;31mKeyError\u001b[0m                                  Traceback (most recent call last)",
      "Input \u001b[1;32mIn [45]\u001b[0m, in \u001b[0;36m<cell line: 2>\u001b[1;34m()\u001b[0m\n\u001b[0;32m      1\u001b[0m df \u001b[38;5;241m=\u001b[39m df\u001b[38;5;241m.\u001b[39mdropna()\n\u001b[1;32m----> 2\u001b[0m df\u001b[38;5;241m=\u001b[39m df[\u001b[43mdf\u001b[49m\u001b[43m[\u001b[49m\u001b[38;5;124;43m'\u001b[39;49m\u001b[38;5;124;43mGHG\u001b[39;49m\u001b[38;5;124;43m'\u001b[39;49m\u001b[43m]\u001b[49m \u001b[38;5;241m!=\u001b[39m \u001b[38;5;241m0\u001b[39m]\n\u001b[0;32m      3\u001b[0m df\n",
      "File \u001b[1;32m~\\miniconda3\\envs\\data_vis\\lib\\site-packages\\pandas\\core\\frame.py:3505\u001b[0m, in \u001b[0;36mDataFrame.__getitem__\u001b[1;34m(self, key)\u001b[0m\n\u001b[0;32m   3503\u001b[0m \u001b[38;5;28;01mif\u001b[39;00m \u001b[38;5;28mself\u001b[39m\u001b[38;5;241m.\u001b[39mcolumns\u001b[38;5;241m.\u001b[39mnlevels \u001b[38;5;241m>\u001b[39m \u001b[38;5;241m1\u001b[39m:\n\u001b[0;32m   3504\u001b[0m     \u001b[38;5;28;01mreturn\u001b[39;00m \u001b[38;5;28mself\u001b[39m\u001b[38;5;241m.\u001b[39m_getitem_multilevel(key)\n\u001b[1;32m-> 3505\u001b[0m indexer \u001b[38;5;241m=\u001b[39m \u001b[38;5;28;43mself\u001b[39;49m\u001b[38;5;241;43m.\u001b[39;49m\u001b[43mcolumns\u001b[49m\u001b[38;5;241;43m.\u001b[39;49m\u001b[43mget_loc\u001b[49m\u001b[43m(\u001b[49m\u001b[43mkey\u001b[49m\u001b[43m)\u001b[49m\n\u001b[0;32m   3506\u001b[0m \u001b[38;5;28;01mif\u001b[39;00m is_integer(indexer):\n\u001b[0;32m   3507\u001b[0m     indexer \u001b[38;5;241m=\u001b[39m [indexer]\n",
      "File \u001b[1;32m~\\miniconda3\\envs\\data_vis\\lib\\site-packages\\pandas\\core\\indexes\\base.py:3623\u001b[0m, in \u001b[0;36mIndex.get_loc\u001b[1;34m(self, key, method, tolerance)\u001b[0m\n\u001b[0;32m   3621\u001b[0m     \u001b[38;5;28;01mreturn\u001b[39;00m \u001b[38;5;28mself\u001b[39m\u001b[38;5;241m.\u001b[39m_engine\u001b[38;5;241m.\u001b[39mget_loc(casted_key)\n\u001b[0;32m   3622\u001b[0m \u001b[38;5;28;01mexcept\u001b[39;00m \u001b[38;5;167;01mKeyError\u001b[39;00m \u001b[38;5;28;01mas\u001b[39;00m err:\n\u001b[1;32m-> 3623\u001b[0m     \u001b[38;5;28;01mraise\u001b[39;00m \u001b[38;5;167;01mKeyError\u001b[39;00m(key) \u001b[38;5;28;01mfrom\u001b[39;00m \u001b[38;5;21;01merr\u001b[39;00m\n\u001b[0;32m   3624\u001b[0m \u001b[38;5;28;01mexcept\u001b[39;00m \u001b[38;5;167;01mTypeError\u001b[39;00m:\n\u001b[0;32m   3625\u001b[0m     \u001b[38;5;66;03m# If we have a listlike key, _check_indexing_error will raise\u001b[39;00m\n\u001b[0;32m   3626\u001b[0m     \u001b[38;5;66;03m#  InvalidIndexError. Otherwise we fall through and re-raise\u001b[39;00m\n\u001b[0;32m   3627\u001b[0m     \u001b[38;5;66;03m#  the TypeError.\u001b[39;00m\n\u001b[0;32m   3628\u001b[0m     \u001b[38;5;28mself\u001b[39m\u001b[38;5;241m.\u001b[39m_check_indexing_error(key)\n",
      "\u001b[1;31mKeyError\u001b[0m: 'GHG'"
     ]
    }
   ],
   "source": [
    "df = df.dropna()\n",
    "df= df[df['GHG'] != 0]\n",
    "df"
   ]
  },
  {
   "cell_type": "code",
   "execution_count": 31,
   "id": "18245ea2",
   "metadata": {},
   "outputs": [],
   "source": [
    "df = df.loc[(df['year'] == 1949)].groupby('Country')[['AverageTemperature', 'GHG']].mean().reset_index()"
   ]
  },
  {
   "cell_type": "code",
   "execution_count": 32,
   "id": "dda5e42e",
   "metadata": {},
   "outputs": [
    {
     "data": {
      "application/vnd.plotly.v1+json": {
       "config": {
        "plotlyServerURL": "https://plot.ly"
       },
       "data": [],
       "layout": {
        "legend": {
         "tracegroupgap": 0
        },
        "margin": {
         "t": 60
        },
        "template": {
         "data": {
          "bar": [
           {
            "error_x": {
             "color": "rgb(36,36,36)"
            },
            "error_y": {
             "color": "rgb(36,36,36)"
            },
            "marker": {
             "line": {
              "color": "white",
              "width": 0.5
             },
             "pattern": {
              "fillmode": "overlay",
              "size": 10,
              "solidity": 0.2
             }
            },
            "type": "bar"
           }
          ],
          "barpolar": [
           {
            "marker": {
             "line": {
              "color": "white",
              "width": 0.5
             },
             "pattern": {
              "fillmode": "overlay",
              "size": 10,
              "solidity": 0.2
             }
            },
            "type": "barpolar"
           }
          ],
          "carpet": [
           {
            "aaxis": {
             "endlinecolor": "rgb(36,36,36)",
             "gridcolor": "white",
             "linecolor": "white",
             "minorgridcolor": "white",
             "startlinecolor": "rgb(36,36,36)"
            },
            "baxis": {
             "endlinecolor": "rgb(36,36,36)",
             "gridcolor": "white",
             "linecolor": "white",
             "minorgridcolor": "white",
             "startlinecolor": "rgb(36,36,36)"
            },
            "type": "carpet"
           }
          ],
          "choropleth": [
           {
            "colorbar": {
             "outlinewidth": 1,
             "tickcolor": "rgb(36,36,36)",
             "ticks": "outside"
            },
            "type": "choropleth"
           }
          ],
          "contour": [
           {
            "colorbar": {
             "outlinewidth": 1,
             "tickcolor": "rgb(36,36,36)",
             "ticks": "outside"
            },
            "colorscale": [
             [
              0,
              "#440154"
             ],
             [
              0.1111111111111111,
              "#482878"
             ],
             [
              0.2222222222222222,
              "#3e4989"
             ],
             [
              0.3333333333333333,
              "#31688e"
             ],
             [
              0.4444444444444444,
              "#26828e"
             ],
             [
              0.5555555555555556,
              "#1f9e89"
             ],
             [
              0.6666666666666666,
              "#35b779"
             ],
             [
              0.7777777777777778,
              "#6ece58"
             ],
             [
              0.8888888888888888,
              "#b5de2b"
             ],
             [
              1,
              "#fde725"
             ]
            ],
            "type": "contour"
           }
          ],
          "contourcarpet": [
           {
            "colorbar": {
             "outlinewidth": 1,
             "tickcolor": "rgb(36,36,36)",
             "ticks": "outside"
            },
            "type": "contourcarpet"
           }
          ],
          "heatmap": [
           {
            "colorbar": {
             "outlinewidth": 1,
             "tickcolor": "rgb(36,36,36)",
             "ticks": "outside"
            },
            "colorscale": [
             [
              0,
              "#440154"
             ],
             [
              0.1111111111111111,
              "#482878"
             ],
             [
              0.2222222222222222,
              "#3e4989"
             ],
             [
              0.3333333333333333,
              "#31688e"
             ],
             [
              0.4444444444444444,
              "#26828e"
             ],
             [
              0.5555555555555556,
              "#1f9e89"
             ],
             [
              0.6666666666666666,
              "#35b779"
             ],
             [
              0.7777777777777778,
              "#6ece58"
             ],
             [
              0.8888888888888888,
              "#b5de2b"
             ],
             [
              1,
              "#fde725"
             ]
            ],
            "type": "heatmap"
           }
          ],
          "heatmapgl": [
           {
            "colorbar": {
             "outlinewidth": 1,
             "tickcolor": "rgb(36,36,36)",
             "ticks": "outside"
            },
            "colorscale": [
             [
              0,
              "#440154"
             ],
             [
              0.1111111111111111,
              "#482878"
             ],
             [
              0.2222222222222222,
              "#3e4989"
             ],
             [
              0.3333333333333333,
              "#31688e"
             ],
             [
              0.4444444444444444,
              "#26828e"
             ],
             [
              0.5555555555555556,
              "#1f9e89"
             ],
             [
              0.6666666666666666,
              "#35b779"
             ],
             [
              0.7777777777777778,
              "#6ece58"
             ],
             [
              0.8888888888888888,
              "#b5de2b"
             ],
             [
              1,
              "#fde725"
             ]
            ],
            "type": "heatmapgl"
           }
          ],
          "histogram": [
           {
            "marker": {
             "line": {
              "color": "white",
              "width": 0.6
             }
            },
            "type": "histogram"
           }
          ],
          "histogram2d": [
           {
            "colorbar": {
             "outlinewidth": 1,
             "tickcolor": "rgb(36,36,36)",
             "ticks": "outside"
            },
            "colorscale": [
             [
              0,
              "#440154"
             ],
             [
              0.1111111111111111,
              "#482878"
             ],
             [
              0.2222222222222222,
              "#3e4989"
             ],
             [
              0.3333333333333333,
              "#31688e"
             ],
             [
              0.4444444444444444,
              "#26828e"
             ],
             [
              0.5555555555555556,
              "#1f9e89"
             ],
             [
              0.6666666666666666,
              "#35b779"
             ],
             [
              0.7777777777777778,
              "#6ece58"
             ],
             [
              0.8888888888888888,
              "#b5de2b"
             ],
             [
              1,
              "#fde725"
             ]
            ],
            "type": "histogram2d"
           }
          ],
          "histogram2dcontour": [
           {
            "colorbar": {
             "outlinewidth": 1,
             "tickcolor": "rgb(36,36,36)",
             "ticks": "outside"
            },
            "colorscale": [
             [
              0,
              "#440154"
             ],
             [
              0.1111111111111111,
              "#482878"
             ],
             [
              0.2222222222222222,
              "#3e4989"
             ],
             [
              0.3333333333333333,
              "#31688e"
             ],
             [
              0.4444444444444444,
              "#26828e"
             ],
             [
              0.5555555555555556,
              "#1f9e89"
             ],
             [
              0.6666666666666666,
              "#35b779"
             ],
             [
              0.7777777777777778,
              "#6ece58"
             ],
             [
              0.8888888888888888,
              "#b5de2b"
             ],
             [
              1,
              "#fde725"
             ]
            ],
            "type": "histogram2dcontour"
           }
          ],
          "mesh3d": [
           {
            "colorbar": {
             "outlinewidth": 1,
             "tickcolor": "rgb(36,36,36)",
             "ticks": "outside"
            },
            "type": "mesh3d"
           }
          ],
          "parcoords": [
           {
            "line": {
             "colorbar": {
              "outlinewidth": 1,
              "tickcolor": "rgb(36,36,36)",
              "ticks": "outside"
             }
            },
            "type": "parcoords"
           }
          ],
          "pie": [
           {
            "automargin": true,
            "type": "pie"
           }
          ],
          "scatter": [
           {
            "marker": {
             "colorbar": {
              "outlinewidth": 1,
              "tickcolor": "rgb(36,36,36)",
              "ticks": "outside"
             }
            },
            "type": "scatter"
           }
          ],
          "scatter3d": [
           {
            "line": {
             "colorbar": {
              "outlinewidth": 1,
              "tickcolor": "rgb(36,36,36)",
              "ticks": "outside"
             }
            },
            "marker": {
             "colorbar": {
              "outlinewidth": 1,
              "tickcolor": "rgb(36,36,36)",
              "ticks": "outside"
             }
            },
            "type": "scatter3d"
           }
          ],
          "scattercarpet": [
           {
            "marker": {
             "colorbar": {
              "outlinewidth": 1,
              "tickcolor": "rgb(36,36,36)",
              "ticks": "outside"
             }
            },
            "type": "scattercarpet"
           }
          ],
          "scattergeo": [
           {
            "marker": {
             "colorbar": {
              "outlinewidth": 1,
              "tickcolor": "rgb(36,36,36)",
              "ticks": "outside"
             }
            },
            "type": "scattergeo"
           }
          ],
          "scattergl": [
           {
            "marker": {
             "colorbar": {
              "outlinewidth": 1,
              "tickcolor": "rgb(36,36,36)",
              "ticks": "outside"
             }
            },
            "type": "scattergl"
           }
          ],
          "scattermapbox": [
           {
            "marker": {
             "colorbar": {
              "outlinewidth": 1,
              "tickcolor": "rgb(36,36,36)",
              "ticks": "outside"
             }
            },
            "type": "scattermapbox"
           }
          ],
          "scatterpolar": [
           {
            "marker": {
             "colorbar": {
              "outlinewidth": 1,
              "tickcolor": "rgb(36,36,36)",
              "ticks": "outside"
             }
            },
            "type": "scatterpolar"
           }
          ],
          "scatterpolargl": [
           {
            "marker": {
             "colorbar": {
              "outlinewidth": 1,
              "tickcolor": "rgb(36,36,36)",
              "ticks": "outside"
             }
            },
            "type": "scatterpolargl"
           }
          ],
          "scatterternary": [
           {
            "marker": {
             "colorbar": {
              "outlinewidth": 1,
              "tickcolor": "rgb(36,36,36)",
              "ticks": "outside"
             }
            },
            "type": "scatterternary"
           }
          ],
          "surface": [
           {
            "colorbar": {
             "outlinewidth": 1,
             "tickcolor": "rgb(36,36,36)",
             "ticks": "outside"
            },
            "colorscale": [
             [
              0,
              "#440154"
             ],
             [
              0.1111111111111111,
              "#482878"
             ],
             [
              0.2222222222222222,
              "#3e4989"
             ],
             [
              0.3333333333333333,
              "#31688e"
             ],
             [
              0.4444444444444444,
              "#26828e"
             ],
             [
              0.5555555555555556,
              "#1f9e89"
             ],
             [
              0.6666666666666666,
              "#35b779"
             ],
             [
              0.7777777777777778,
              "#6ece58"
             ],
             [
              0.8888888888888888,
              "#b5de2b"
             ],
             [
              1,
              "#fde725"
             ]
            ],
            "type": "surface"
           }
          ],
          "table": [
           {
            "cells": {
             "fill": {
              "color": "rgb(237,237,237)"
             },
             "line": {
              "color": "white"
             }
            },
            "header": {
             "fill": {
              "color": "rgb(217,217,217)"
             },
             "line": {
              "color": "white"
             }
            },
            "type": "table"
           }
          ]
         },
         "layout": {
          "annotationdefaults": {
           "arrowhead": 0,
           "arrowwidth": 1
          },
          "autotypenumbers": "strict",
          "coloraxis": {
           "colorbar": {
            "outlinewidth": 1,
            "tickcolor": "rgb(36,36,36)",
            "ticks": "outside"
           }
          },
          "colorscale": {
           "diverging": [
            [
             0,
             "rgb(103,0,31)"
            ],
            [
             0.1,
             "rgb(178,24,43)"
            ],
            [
             0.2,
             "rgb(214,96,77)"
            ],
            [
             0.3,
             "rgb(244,165,130)"
            ],
            [
             0.4,
             "rgb(253,219,199)"
            ],
            [
             0.5,
             "rgb(247,247,247)"
            ],
            [
             0.6,
             "rgb(209,229,240)"
            ],
            [
             0.7,
             "rgb(146,197,222)"
            ],
            [
             0.8,
             "rgb(67,147,195)"
            ],
            [
             0.9,
             "rgb(33,102,172)"
            ],
            [
             1,
             "rgb(5,48,97)"
            ]
           ],
           "sequential": [
            [
             0,
             "#440154"
            ],
            [
             0.1111111111111111,
             "#482878"
            ],
            [
             0.2222222222222222,
             "#3e4989"
            ],
            [
             0.3333333333333333,
             "#31688e"
            ],
            [
             0.4444444444444444,
             "#26828e"
            ],
            [
             0.5555555555555556,
             "#1f9e89"
            ],
            [
             0.6666666666666666,
             "#35b779"
            ],
            [
             0.7777777777777778,
             "#6ece58"
            ],
            [
             0.8888888888888888,
             "#b5de2b"
            ],
            [
             1,
             "#fde725"
            ]
           ],
           "sequentialminus": [
            [
             0,
             "#440154"
            ],
            [
             0.1111111111111111,
             "#482878"
            ],
            [
             0.2222222222222222,
             "#3e4989"
            ],
            [
             0.3333333333333333,
             "#31688e"
            ],
            [
             0.4444444444444444,
             "#26828e"
            ],
            [
             0.5555555555555556,
             "#1f9e89"
            ],
            [
             0.6666666666666666,
             "#35b779"
            ],
            [
             0.7777777777777778,
             "#6ece58"
            ],
            [
             0.8888888888888888,
             "#b5de2b"
            ],
            [
             1,
             "#fde725"
            ]
           ]
          },
          "colorway": [
           "#1F77B4",
           "#FF7F0E",
           "#2CA02C",
           "#D62728",
           "#9467BD",
           "#8C564B",
           "#E377C2",
           "#7F7F7F",
           "#BCBD22",
           "#17BECF"
          ],
          "font": {
           "color": "rgb(36,36,36)"
          },
          "geo": {
           "bgcolor": "white",
           "lakecolor": "white",
           "landcolor": "white",
           "showlakes": true,
           "showland": true,
           "subunitcolor": "white"
          },
          "hoverlabel": {
           "align": "left"
          },
          "hovermode": "closest",
          "mapbox": {
           "style": "light"
          },
          "paper_bgcolor": "white",
          "plot_bgcolor": "white",
          "polar": {
           "angularaxis": {
            "gridcolor": "rgb(232,232,232)",
            "linecolor": "rgb(36,36,36)",
            "showgrid": false,
            "showline": true,
            "ticks": "outside"
           },
           "bgcolor": "white",
           "radialaxis": {
            "gridcolor": "rgb(232,232,232)",
            "linecolor": "rgb(36,36,36)",
            "showgrid": false,
            "showline": true,
            "ticks": "outside"
           }
          },
          "scene": {
           "xaxis": {
            "backgroundcolor": "white",
            "gridcolor": "rgb(232,232,232)",
            "gridwidth": 2,
            "linecolor": "rgb(36,36,36)",
            "showbackground": true,
            "showgrid": false,
            "showline": true,
            "ticks": "outside",
            "zeroline": false,
            "zerolinecolor": "rgb(36,36,36)"
           },
           "yaxis": {
            "backgroundcolor": "white",
            "gridcolor": "rgb(232,232,232)",
            "gridwidth": 2,
            "linecolor": "rgb(36,36,36)",
            "showbackground": true,
            "showgrid": false,
            "showline": true,
            "ticks": "outside",
            "zeroline": false,
            "zerolinecolor": "rgb(36,36,36)"
           },
           "zaxis": {
            "backgroundcolor": "white",
            "gridcolor": "rgb(232,232,232)",
            "gridwidth": 2,
            "linecolor": "rgb(36,36,36)",
            "showbackground": true,
            "showgrid": false,
            "showline": true,
            "ticks": "outside",
            "zeroline": false,
            "zerolinecolor": "rgb(36,36,36)"
           }
          },
          "shapedefaults": {
           "fillcolor": "black",
           "line": {
            "width": 0
           },
           "opacity": 0.3
          },
          "ternary": {
           "aaxis": {
            "gridcolor": "rgb(232,232,232)",
            "linecolor": "rgb(36,36,36)",
            "showgrid": false,
            "showline": true,
            "ticks": "outside"
           },
           "baxis": {
            "gridcolor": "rgb(232,232,232)",
            "linecolor": "rgb(36,36,36)",
            "showgrid": false,
            "showline": true,
            "ticks": "outside"
           },
           "bgcolor": "white",
           "caxis": {
            "gridcolor": "rgb(232,232,232)",
            "linecolor": "rgb(36,36,36)",
            "showgrid": false,
            "showline": true,
            "ticks": "outside"
           }
          },
          "title": {
           "x": 0.05
          },
          "xaxis": {
           "automargin": true,
           "gridcolor": "rgb(232,232,232)",
           "linecolor": "rgb(36,36,36)",
           "showgrid": false,
           "showline": true,
           "ticks": "outside",
           "title": {
            "standoff": 15
           },
           "zeroline": false,
           "zerolinecolor": "rgb(36,36,36)"
          },
          "yaxis": {
           "automargin": true,
           "gridcolor": "rgb(232,232,232)",
           "linecolor": "rgb(36,36,36)",
           "showgrid": false,
           "showline": true,
           "ticks": "outside",
           "title": {
            "standoff": 15
           },
           "zeroline": false,
           "zerolinecolor": "rgb(36,36,36)"
          }
         }
        },
        "xaxis": {
         "anchor": "y",
         "domain": [
          0,
          0.7363
         ],
         "title": {
          "text": "AverageTemperature"
         }
        },
        "xaxis2": {
         "anchor": "y2",
         "domain": [
          0.7413,
          1
         ],
         "matches": "x2",
         "showline": false,
         "showticklabels": false,
         "ticks": ""
        },
        "xaxis3": {
         "anchor": "y3",
         "domain": [
          0,
          0.7363
         ],
         "matches": "x",
         "showticklabels": false
        },
        "xaxis4": {
         "anchor": "y4",
         "domain": [
          0.7413,
          1
         ],
         "matches": "x2",
         "showline": false,
         "showticklabels": false,
         "ticks": ""
        },
        "yaxis": {
         "anchor": "x",
         "domain": [
          0,
          0.7326
         ],
         "title": {
          "text": "GHG"
         }
        },
        "yaxis2": {
         "anchor": "x2",
         "domain": [
          0,
          0.7326
         ],
         "matches": "y",
         "showticklabels": false
        },
        "yaxis3": {
         "anchor": "x3",
         "domain": [
          0.7426,
          1
         ],
         "matches": "y3",
         "showline": false,
         "showticklabels": false,
         "ticks": ""
        },
        "yaxis4": {
         "anchor": "x4",
         "domain": [
          0.7426,
          1
         ],
         "matches": "y3",
         "showline": false,
         "showticklabels": false,
         "ticks": ""
        }
       }
      },
      "text/html": [
       "<div>                            <div id=\"1f527921-129e-4014-9be8-f7fc8223e3fd\" class=\"plotly-graph-div\" style=\"height:525px; width:100%;\"></div>            <script type=\"text/javascript\">                require([\"plotly\"], function(Plotly) {                    window.PLOTLYENV=window.PLOTLYENV || {};                                    if (document.getElementById(\"1f527921-129e-4014-9be8-f7fc8223e3fd\")) {                    Plotly.newPlot(                        \"1f527921-129e-4014-9be8-f7fc8223e3fd\",                        [],                        {\"template\":{\"data\":{\"barpolar\":[{\"marker\":{\"line\":{\"color\":\"white\",\"width\":0.5},\"pattern\":{\"fillmode\":\"overlay\",\"size\":10,\"solidity\":0.2}},\"type\":\"barpolar\"}],\"bar\":[{\"error_x\":{\"color\":\"rgb(36,36,36)\"},\"error_y\":{\"color\":\"rgb(36,36,36)\"},\"marker\":{\"line\":{\"color\":\"white\",\"width\":0.5},\"pattern\":{\"fillmode\":\"overlay\",\"size\":10,\"solidity\":0.2}},\"type\":\"bar\"}],\"carpet\":[{\"aaxis\":{\"endlinecolor\":\"rgb(36,36,36)\",\"gridcolor\":\"white\",\"linecolor\":\"white\",\"minorgridcolor\":\"white\",\"startlinecolor\":\"rgb(36,36,36)\"},\"baxis\":{\"endlinecolor\":\"rgb(36,36,36)\",\"gridcolor\":\"white\",\"linecolor\":\"white\",\"minorgridcolor\":\"white\",\"startlinecolor\":\"rgb(36,36,36)\"},\"type\":\"carpet\"}],\"choropleth\":[{\"colorbar\":{\"outlinewidth\":1,\"tickcolor\":\"rgb(36,36,36)\",\"ticks\":\"outside\"},\"type\":\"choropleth\"}],\"contourcarpet\":[{\"colorbar\":{\"outlinewidth\":1,\"tickcolor\":\"rgb(36,36,36)\",\"ticks\":\"outside\"},\"type\":\"contourcarpet\"}],\"contour\":[{\"colorbar\":{\"outlinewidth\":1,\"tickcolor\":\"rgb(36,36,36)\",\"ticks\":\"outside\"},\"colorscale\":[[0.0,\"#440154\"],[0.1111111111111111,\"#482878\"],[0.2222222222222222,\"#3e4989\"],[0.3333333333333333,\"#31688e\"],[0.4444444444444444,\"#26828e\"],[0.5555555555555556,\"#1f9e89\"],[0.6666666666666666,\"#35b779\"],[0.7777777777777778,\"#6ece58\"],[0.8888888888888888,\"#b5de2b\"],[1.0,\"#fde725\"]],\"type\":\"contour\"}],\"heatmapgl\":[{\"colorbar\":{\"outlinewidth\":1,\"tickcolor\":\"rgb(36,36,36)\",\"ticks\":\"outside\"},\"colorscale\":[[0.0,\"#440154\"],[0.1111111111111111,\"#482878\"],[0.2222222222222222,\"#3e4989\"],[0.3333333333333333,\"#31688e\"],[0.4444444444444444,\"#26828e\"],[0.5555555555555556,\"#1f9e89\"],[0.6666666666666666,\"#35b779\"],[0.7777777777777778,\"#6ece58\"],[0.8888888888888888,\"#b5de2b\"],[1.0,\"#fde725\"]],\"type\":\"heatmapgl\"}],\"heatmap\":[{\"colorbar\":{\"outlinewidth\":1,\"tickcolor\":\"rgb(36,36,36)\",\"ticks\":\"outside\"},\"colorscale\":[[0.0,\"#440154\"],[0.1111111111111111,\"#482878\"],[0.2222222222222222,\"#3e4989\"],[0.3333333333333333,\"#31688e\"],[0.4444444444444444,\"#26828e\"],[0.5555555555555556,\"#1f9e89\"],[0.6666666666666666,\"#35b779\"],[0.7777777777777778,\"#6ece58\"],[0.8888888888888888,\"#b5de2b\"],[1.0,\"#fde725\"]],\"type\":\"heatmap\"}],\"histogram2dcontour\":[{\"colorbar\":{\"outlinewidth\":1,\"tickcolor\":\"rgb(36,36,36)\",\"ticks\":\"outside\"},\"colorscale\":[[0.0,\"#440154\"],[0.1111111111111111,\"#482878\"],[0.2222222222222222,\"#3e4989\"],[0.3333333333333333,\"#31688e\"],[0.4444444444444444,\"#26828e\"],[0.5555555555555556,\"#1f9e89\"],[0.6666666666666666,\"#35b779\"],[0.7777777777777778,\"#6ece58\"],[0.8888888888888888,\"#b5de2b\"],[1.0,\"#fde725\"]],\"type\":\"histogram2dcontour\"}],\"histogram2d\":[{\"colorbar\":{\"outlinewidth\":1,\"tickcolor\":\"rgb(36,36,36)\",\"ticks\":\"outside\"},\"colorscale\":[[0.0,\"#440154\"],[0.1111111111111111,\"#482878\"],[0.2222222222222222,\"#3e4989\"],[0.3333333333333333,\"#31688e\"],[0.4444444444444444,\"#26828e\"],[0.5555555555555556,\"#1f9e89\"],[0.6666666666666666,\"#35b779\"],[0.7777777777777778,\"#6ece58\"],[0.8888888888888888,\"#b5de2b\"],[1.0,\"#fde725\"]],\"type\":\"histogram2d\"}],\"histogram\":[{\"marker\":{\"line\":{\"color\":\"white\",\"width\":0.6}},\"type\":\"histogram\"}],\"mesh3d\":[{\"colorbar\":{\"outlinewidth\":1,\"tickcolor\":\"rgb(36,36,36)\",\"ticks\":\"outside\"},\"type\":\"mesh3d\"}],\"parcoords\":[{\"line\":{\"colorbar\":{\"outlinewidth\":1,\"tickcolor\":\"rgb(36,36,36)\",\"ticks\":\"outside\"}},\"type\":\"parcoords\"}],\"pie\":[{\"automargin\":true,\"type\":\"pie\"}],\"scatter3d\":[{\"line\":{\"colorbar\":{\"outlinewidth\":1,\"tickcolor\":\"rgb(36,36,36)\",\"ticks\":\"outside\"}},\"marker\":{\"colorbar\":{\"outlinewidth\":1,\"tickcolor\":\"rgb(36,36,36)\",\"ticks\":\"outside\"}},\"type\":\"scatter3d\"}],\"scattercarpet\":[{\"marker\":{\"colorbar\":{\"outlinewidth\":1,\"tickcolor\":\"rgb(36,36,36)\",\"ticks\":\"outside\"}},\"type\":\"scattercarpet\"}],\"scattergeo\":[{\"marker\":{\"colorbar\":{\"outlinewidth\":1,\"tickcolor\":\"rgb(36,36,36)\",\"ticks\":\"outside\"}},\"type\":\"scattergeo\"}],\"scattergl\":[{\"marker\":{\"colorbar\":{\"outlinewidth\":1,\"tickcolor\":\"rgb(36,36,36)\",\"ticks\":\"outside\"}},\"type\":\"scattergl\"}],\"scattermapbox\":[{\"marker\":{\"colorbar\":{\"outlinewidth\":1,\"tickcolor\":\"rgb(36,36,36)\",\"ticks\":\"outside\"}},\"type\":\"scattermapbox\"}],\"scatterpolargl\":[{\"marker\":{\"colorbar\":{\"outlinewidth\":1,\"tickcolor\":\"rgb(36,36,36)\",\"ticks\":\"outside\"}},\"type\":\"scatterpolargl\"}],\"scatterpolar\":[{\"marker\":{\"colorbar\":{\"outlinewidth\":1,\"tickcolor\":\"rgb(36,36,36)\",\"ticks\":\"outside\"}},\"type\":\"scatterpolar\"}],\"scatter\":[{\"marker\":{\"colorbar\":{\"outlinewidth\":1,\"tickcolor\":\"rgb(36,36,36)\",\"ticks\":\"outside\"}},\"type\":\"scatter\"}],\"scatterternary\":[{\"marker\":{\"colorbar\":{\"outlinewidth\":1,\"tickcolor\":\"rgb(36,36,36)\",\"ticks\":\"outside\"}},\"type\":\"scatterternary\"}],\"surface\":[{\"colorbar\":{\"outlinewidth\":1,\"tickcolor\":\"rgb(36,36,36)\",\"ticks\":\"outside\"},\"colorscale\":[[0.0,\"#440154\"],[0.1111111111111111,\"#482878\"],[0.2222222222222222,\"#3e4989\"],[0.3333333333333333,\"#31688e\"],[0.4444444444444444,\"#26828e\"],[0.5555555555555556,\"#1f9e89\"],[0.6666666666666666,\"#35b779\"],[0.7777777777777778,\"#6ece58\"],[0.8888888888888888,\"#b5de2b\"],[1.0,\"#fde725\"]],\"type\":\"surface\"}],\"table\":[{\"cells\":{\"fill\":{\"color\":\"rgb(237,237,237)\"},\"line\":{\"color\":\"white\"}},\"header\":{\"fill\":{\"color\":\"rgb(217,217,217)\"},\"line\":{\"color\":\"white\"}},\"type\":\"table\"}]},\"layout\":{\"annotationdefaults\":{\"arrowhead\":0,\"arrowwidth\":1},\"autotypenumbers\":\"strict\",\"coloraxis\":{\"colorbar\":{\"outlinewidth\":1,\"tickcolor\":\"rgb(36,36,36)\",\"ticks\":\"outside\"}},\"colorscale\":{\"diverging\":[[0.0,\"rgb(103,0,31)\"],[0.1,\"rgb(178,24,43)\"],[0.2,\"rgb(214,96,77)\"],[0.3,\"rgb(244,165,130)\"],[0.4,\"rgb(253,219,199)\"],[0.5,\"rgb(247,247,247)\"],[0.6,\"rgb(209,229,240)\"],[0.7,\"rgb(146,197,222)\"],[0.8,\"rgb(67,147,195)\"],[0.9,\"rgb(33,102,172)\"],[1.0,\"rgb(5,48,97)\"]],\"sequential\":[[0.0,\"#440154\"],[0.1111111111111111,\"#482878\"],[0.2222222222222222,\"#3e4989\"],[0.3333333333333333,\"#31688e\"],[0.4444444444444444,\"#26828e\"],[0.5555555555555556,\"#1f9e89\"],[0.6666666666666666,\"#35b779\"],[0.7777777777777778,\"#6ece58\"],[0.8888888888888888,\"#b5de2b\"],[1.0,\"#fde725\"]],\"sequentialminus\":[[0.0,\"#440154\"],[0.1111111111111111,\"#482878\"],[0.2222222222222222,\"#3e4989\"],[0.3333333333333333,\"#31688e\"],[0.4444444444444444,\"#26828e\"],[0.5555555555555556,\"#1f9e89\"],[0.6666666666666666,\"#35b779\"],[0.7777777777777778,\"#6ece58\"],[0.8888888888888888,\"#b5de2b\"],[1.0,\"#fde725\"]]},\"colorway\":[\"#1F77B4\",\"#FF7F0E\",\"#2CA02C\",\"#D62728\",\"#9467BD\",\"#8C564B\",\"#E377C2\",\"#7F7F7F\",\"#BCBD22\",\"#17BECF\"],\"font\":{\"color\":\"rgb(36,36,36)\"},\"geo\":{\"bgcolor\":\"white\",\"lakecolor\":\"white\",\"landcolor\":\"white\",\"showlakes\":true,\"showland\":true,\"subunitcolor\":\"white\"},\"hoverlabel\":{\"align\":\"left\"},\"hovermode\":\"closest\",\"mapbox\":{\"style\":\"light\"},\"paper_bgcolor\":\"white\",\"plot_bgcolor\":\"white\",\"polar\":{\"angularaxis\":{\"gridcolor\":\"rgb(232,232,232)\",\"linecolor\":\"rgb(36,36,36)\",\"showgrid\":false,\"showline\":true,\"ticks\":\"outside\"},\"bgcolor\":\"white\",\"radialaxis\":{\"gridcolor\":\"rgb(232,232,232)\",\"linecolor\":\"rgb(36,36,36)\",\"showgrid\":false,\"showline\":true,\"ticks\":\"outside\"}},\"scene\":{\"xaxis\":{\"backgroundcolor\":\"white\",\"gridcolor\":\"rgb(232,232,232)\",\"gridwidth\":2,\"linecolor\":\"rgb(36,36,36)\",\"showbackground\":true,\"showgrid\":false,\"showline\":true,\"ticks\":\"outside\",\"zeroline\":false,\"zerolinecolor\":\"rgb(36,36,36)\"},\"yaxis\":{\"backgroundcolor\":\"white\",\"gridcolor\":\"rgb(232,232,232)\",\"gridwidth\":2,\"linecolor\":\"rgb(36,36,36)\",\"showbackground\":true,\"showgrid\":false,\"showline\":true,\"ticks\":\"outside\",\"zeroline\":false,\"zerolinecolor\":\"rgb(36,36,36)\"},\"zaxis\":{\"backgroundcolor\":\"white\",\"gridcolor\":\"rgb(232,232,232)\",\"gridwidth\":2,\"linecolor\":\"rgb(36,36,36)\",\"showbackground\":true,\"showgrid\":false,\"showline\":true,\"ticks\":\"outside\",\"zeroline\":false,\"zerolinecolor\":\"rgb(36,36,36)\"}},\"shapedefaults\":{\"fillcolor\":\"black\",\"line\":{\"width\":0},\"opacity\":0.3},\"ternary\":{\"aaxis\":{\"gridcolor\":\"rgb(232,232,232)\",\"linecolor\":\"rgb(36,36,36)\",\"showgrid\":false,\"showline\":true,\"ticks\":\"outside\"},\"baxis\":{\"gridcolor\":\"rgb(232,232,232)\",\"linecolor\":\"rgb(36,36,36)\",\"showgrid\":false,\"showline\":true,\"ticks\":\"outside\"},\"bgcolor\":\"white\",\"caxis\":{\"gridcolor\":\"rgb(232,232,232)\",\"linecolor\":\"rgb(36,36,36)\",\"showgrid\":false,\"showline\":true,\"ticks\":\"outside\"}},\"title\":{\"x\":0.05},\"xaxis\":{\"automargin\":true,\"gridcolor\":\"rgb(232,232,232)\",\"linecolor\":\"rgb(36,36,36)\",\"showgrid\":false,\"showline\":true,\"ticks\":\"outside\",\"title\":{\"standoff\":15},\"zeroline\":false,\"zerolinecolor\":\"rgb(36,36,36)\"},\"yaxis\":{\"automargin\":true,\"gridcolor\":\"rgb(232,232,232)\",\"linecolor\":\"rgb(36,36,36)\",\"showgrid\":false,\"showline\":true,\"ticks\":\"outside\",\"title\":{\"standoff\":15},\"zeroline\":false,\"zerolinecolor\":\"rgb(36,36,36)\"}}},\"xaxis\":{\"anchor\":\"y\",\"domain\":[0.0,0.7363],\"title\":{\"text\":\"AverageTemperature\"}},\"yaxis\":{\"anchor\":\"x\",\"domain\":[0.0,0.7326],\"title\":{\"text\":\"GHG\"}},\"xaxis2\":{\"anchor\":\"y2\",\"domain\":[0.7413,1.0],\"matches\":\"x2\",\"showticklabels\":false,\"showline\":false,\"ticks\":\"\"},\"yaxis2\":{\"anchor\":\"x2\",\"domain\":[0.0,0.7326],\"matches\":\"y\",\"showticklabels\":false},\"xaxis3\":{\"anchor\":\"y3\",\"domain\":[0.0,0.7363],\"matches\":\"x\",\"showticklabels\":false},\"yaxis3\":{\"anchor\":\"x3\",\"domain\":[0.7426,1.0],\"matches\":\"y3\",\"showticklabels\":false,\"showline\":false,\"ticks\":\"\"},\"xaxis4\":{\"anchor\":\"y4\",\"domain\":[0.7413,1.0],\"matches\":\"x2\",\"showticklabels\":false,\"showline\":false,\"ticks\":\"\"},\"yaxis4\":{\"anchor\":\"x4\",\"domain\":[0.7426,1.0],\"matches\":\"y3\",\"showticklabels\":false,\"showline\":false,\"ticks\":\"\"},\"legend\":{\"tracegroupgap\":0},\"margin\":{\"t\":60}},                        {\"responsive\": true}                    ).then(function(){\n",
       "                            \n",
       "var gd = document.getElementById('1f527921-129e-4014-9be8-f7fc8223e3fd');\n",
       "var x = new MutationObserver(function (mutations, observer) {{\n",
       "        var display = window.getComputedStyle(gd).display;\n",
       "        if (!display || display === 'none') {{\n",
       "            console.log([gd, 'removed!']);\n",
       "            Plotly.purge(gd);\n",
       "            observer.disconnect();\n",
       "        }}\n",
       "}});\n",
       "\n",
       "// Listen for the removal of the full notebook cells\n",
       "var notebookContainer = gd.closest('#notebook-container');\n",
       "if (notebookContainer) {{\n",
       "    x.observe(notebookContainer, {childList: true});\n",
       "}}\n",
       "\n",
       "// Listen for the clearing of the current output cell\n",
       "var outputEl = gd.closest('.output');\n",
       "if (outputEl) {{\n",
       "    x.observe(outputEl, {childList: true});\n",
       "}}\n",
       "\n",
       "                        })                };                });            </script>        </div>"
      ]
     },
     "metadata": {},
     "output_type": "display_data"
    }
   ],
   "source": [
    "fig = px.scatter(df, x=\"AverageTemperature\", y=\"GHG\", color=\"Country\", marginal_y=\"violin\",\n",
    "           marginal_x=\"box\", trendline=\"ols\", template=\"simple_white\")\n",
    "fig.show()"
   ]
  },
  {
   "cell_type": "code",
   "execution_count": 33,
   "id": "49dd905b",
   "metadata": {},
   "outputs": [
    {
     "ename": "ValueError",
     "evalue": "zero-size array to reduction operation maximum which has no identity",
     "output_type": "error",
     "traceback": [
      "\u001b[1;31m---------------------------------------------------------------------------\u001b[0m",
      "\u001b[1;31mValueError\u001b[0m                                Traceback (most recent call last)",
      "Input \u001b[1;32mIn [33]\u001b[0m, in \u001b[0;36m<cell line: 10>\u001b[1;34m()\u001b[0m\n\u001b[0;32m      7\u001b[0m fig \u001b[38;5;241m=\u001b[39m px\u001b[38;5;241m.\u001b[39mscatter(df, x\u001b[38;5;241m=\u001b[39m\u001b[38;5;124m\"\u001b[39m\u001b[38;5;124mAverageTemperature\u001b[39m\u001b[38;5;124m\"\u001b[39m, y \u001b[38;5;241m=\u001b[39m\u001b[38;5;124m\"\u001b[39m\u001b[38;5;124mGHG\u001b[39m\u001b[38;5;124m\"\u001b[39m, size\u001b[38;5;241m=\u001b[39mnp\u001b[38;5;241m.\u001b[39mlog(df[\u001b[38;5;124m\"\u001b[39m\u001b[38;5;124mGHG\u001b[39m\u001b[38;5;124m\"\u001b[39m]), color\u001b[38;5;241m=\u001b[39mcol_name, hover_name\u001b[38;5;241m=\u001b[39mdf\u001b[38;5;241m.\u001b[39mindex, log_x\u001b[38;5;241m=\u001b[39m\u001b[38;5;28;01mFalse\u001b[39;00m,marginal_x \u001b[38;5;241m=\u001b[39m \u001b[38;5;124m\"\u001b[39m\u001b[38;5;124mbox\u001b[39m\u001b[38;5;124m\"\u001b[39m,marginal_y \u001b[38;5;241m=\u001b[39m \u001b[38;5;124m\"\u001b[39m\u001b[38;5;124mbox\u001b[39m\u001b[38;5;124m\"\u001b[39m, template\u001b[38;5;241m=\u001b[39m\u001b[38;5;124m\"\u001b[39m\u001b[38;5;124msimple_white\u001b[39m\u001b[38;5;124m\"\u001b[39m, color_discrete_sequence\u001b[38;5;241m=\u001b[39m[\u001b[38;5;124m\"\u001b[39m\u001b[38;5;124m#0d0887\u001b[39m\u001b[38;5;124m\"\u001b[39m, \u001b[38;5;124m\"\u001b[39m\u001b[38;5;124m#9c179e\u001b[39m\u001b[38;5;124m\"\u001b[39m])\n\u001b[0;32m      9\u001b[0m \u001b[38;5;66;03m# linear regression\u001b[39;00m\n\u001b[1;32m---> 10\u001b[0m regline \u001b[38;5;241m=\u001b[39m \u001b[43msm\u001b[49m\u001b[38;5;241;43m.\u001b[39;49m\u001b[43mOLS\u001b[49m\u001b[43m(\u001b[49m\u001b[43mdf\u001b[49m\u001b[43m[\u001b[49m\u001b[38;5;124;43m\"\u001b[39;49m\u001b[38;5;124;43mAverageTemperature\u001b[39;49m\u001b[38;5;124;43m\"\u001b[39;49m\u001b[43m]\u001b[49m\u001b[43m,\u001b[49m\u001b[43msm\u001b[49m\u001b[38;5;241;43m.\u001b[39;49m\u001b[43madd_constant\u001b[49m\u001b[43m(\u001b[49m\u001b[43mnp\u001b[49m\u001b[38;5;241;43m.\u001b[39;49m\u001b[43mlog\u001b[49m\u001b[43m(\u001b[49m\u001b[43mdf\u001b[49m\u001b[43m[\u001b[49m\u001b[38;5;124;43m\"\u001b[39;49m\u001b[38;5;124;43mGHG\u001b[39;49m\u001b[38;5;124;43m\"\u001b[39;49m\u001b[43m]\u001b[49m\u001b[43m)\u001b[49m\u001b[43m)\u001b[49m\u001b[43m)\u001b[49m\u001b[38;5;241m.\u001b[39mfit()\u001b[38;5;241m.\u001b[39mfittedvalues\n\u001b[0;32m     12\u001b[0m \u001b[38;5;66;03m# add linear regression line for whole sample\u001b[39;00m\n\u001b[0;32m     13\u001b[0m fig\u001b[38;5;241m.\u001b[39madd_traces(go\u001b[38;5;241m.\u001b[39mScatter(x\u001b[38;5;241m=\u001b[39mnp\u001b[38;5;241m.\u001b[39mlog(df[\u001b[38;5;124m\"\u001b[39m\u001b[38;5;124mGHG\u001b[39m\u001b[38;5;124m\"\u001b[39m]), y\u001b[38;5;241m=\u001b[39mregline,\n\u001b[0;32m     14\u001b[0m                           mode \u001b[38;5;241m=\u001b[39m \u001b[38;5;124m'\u001b[39m\u001b[38;5;124mlines\u001b[39m\u001b[38;5;124m'\u001b[39m,\n\u001b[0;32m     15\u001b[0m                           marker_color\u001b[38;5;241m=\u001b[39m\u001b[38;5;124m'\u001b[39m\u001b[38;5;124m#fb9f3a\u001b[39m\u001b[38;5;124m'\u001b[39m,\n\u001b[0;32m     16\u001b[0m                           name\u001b[38;5;241m=\u001b[39m\u001b[38;5;124m'\u001b[39m\u001b[38;5;124mOLS Trendline\u001b[39m\u001b[38;5;124m'\u001b[39m)\n\u001b[0;32m     17\u001b[0m                           )\n",
      "File \u001b[1;32m~\\miniconda3\\envs\\data_vis\\lib\\site-packages\\statsmodels\\regression\\linear_model.py:890\u001b[0m, in \u001b[0;36mOLS.__init__\u001b[1;34m(self, endog, exog, missing, hasconst, **kwargs)\u001b[0m\n\u001b[0;32m    887\u001b[0m     msg \u001b[38;5;241m=\u001b[39m (\u001b[38;5;124m\"\u001b[39m\u001b[38;5;124mWeights are not supported in OLS and will be ignored\u001b[39m\u001b[38;5;124m\"\u001b[39m\n\u001b[0;32m    888\u001b[0m            \u001b[38;5;124m\"\u001b[39m\u001b[38;5;124mAn exception will be raised in the next version.\u001b[39m\u001b[38;5;124m\"\u001b[39m)\n\u001b[0;32m    889\u001b[0m     warnings\u001b[38;5;241m.\u001b[39mwarn(msg, ValueWarning)\n\u001b[1;32m--> 890\u001b[0m \u001b[38;5;28msuper\u001b[39m(OLS, \u001b[38;5;28mself\u001b[39m)\u001b[38;5;241m.\u001b[39m\u001b[38;5;21m__init__\u001b[39m(endog, exog, missing\u001b[38;5;241m=\u001b[39mmissing,\n\u001b[0;32m    891\u001b[0m                           hasconst\u001b[38;5;241m=\u001b[39mhasconst, \u001b[38;5;241m*\u001b[39m\u001b[38;5;241m*\u001b[39mkwargs)\n\u001b[0;32m    892\u001b[0m \u001b[38;5;28;01mif\u001b[39;00m \u001b[38;5;124m\"\u001b[39m\u001b[38;5;124mweights\u001b[39m\u001b[38;5;124m\"\u001b[39m \u001b[38;5;129;01min\u001b[39;00m \u001b[38;5;28mself\u001b[39m\u001b[38;5;241m.\u001b[39m_init_keys:\n\u001b[0;32m    893\u001b[0m     \u001b[38;5;28mself\u001b[39m\u001b[38;5;241m.\u001b[39m_init_keys\u001b[38;5;241m.\u001b[39mremove(\u001b[38;5;124m\"\u001b[39m\u001b[38;5;124mweights\u001b[39m\u001b[38;5;124m\"\u001b[39m)\n",
      "File \u001b[1;32m~\\miniconda3\\envs\\data_vis\\lib\\site-packages\\statsmodels\\regression\\linear_model.py:717\u001b[0m, in \u001b[0;36mWLS.__init__\u001b[1;34m(self, endog, exog, weights, missing, hasconst, **kwargs)\u001b[0m\n\u001b[0;32m    715\u001b[0m \u001b[38;5;28;01melse\u001b[39;00m:\n\u001b[0;32m    716\u001b[0m     weights \u001b[38;5;241m=\u001b[39m weights\u001b[38;5;241m.\u001b[39msqueeze()\n\u001b[1;32m--> 717\u001b[0m \u001b[38;5;28msuper\u001b[39m(WLS, \u001b[38;5;28mself\u001b[39m)\u001b[38;5;241m.\u001b[39m\u001b[38;5;21m__init__\u001b[39m(endog, exog, missing\u001b[38;5;241m=\u001b[39mmissing,\n\u001b[0;32m    718\u001b[0m                           weights\u001b[38;5;241m=\u001b[39mweights, hasconst\u001b[38;5;241m=\u001b[39mhasconst, \u001b[38;5;241m*\u001b[39m\u001b[38;5;241m*\u001b[39mkwargs)\n\u001b[0;32m    719\u001b[0m nobs \u001b[38;5;241m=\u001b[39m \u001b[38;5;28mself\u001b[39m\u001b[38;5;241m.\u001b[39mexog\u001b[38;5;241m.\u001b[39mshape[\u001b[38;5;241m0\u001b[39m]\n\u001b[0;32m    720\u001b[0m weights \u001b[38;5;241m=\u001b[39m \u001b[38;5;28mself\u001b[39m\u001b[38;5;241m.\u001b[39mweights\n",
      "File \u001b[1;32m~\\miniconda3\\envs\\data_vis\\lib\\site-packages\\statsmodels\\regression\\linear_model.py:191\u001b[0m, in \u001b[0;36mRegressionModel.__init__\u001b[1;34m(self, endog, exog, **kwargs)\u001b[0m\n\u001b[0;32m    190\u001b[0m \u001b[38;5;28;01mdef\u001b[39;00m \u001b[38;5;21m__init__\u001b[39m(\u001b[38;5;28mself\u001b[39m, endog, exog, \u001b[38;5;241m*\u001b[39m\u001b[38;5;241m*\u001b[39mkwargs):\n\u001b[1;32m--> 191\u001b[0m     \u001b[38;5;28msuper\u001b[39m(RegressionModel, \u001b[38;5;28mself\u001b[39m)\u001b[38;5;241m.\u001b[39m\u001b[38;5;21m__init__\u001b[39m(endog, exog, \u001b[38;5;241m*\u001b[39m\u001b[38;5;241m*\u001b[39mkwargs)\n\u001b[0;32m    192\u001b[0m     \u001b[38;5;28mself\u001b[39m\u001b[38;5;241m.\u001b[39m_data_attr\u001b[38;5;241m.\u001b[39mextend([\u001b[38;5;124m'\u001b[39m\u001b[38;5;124mpinv_wexog\u001b[39m\u001b[38;5;124m'\u001b[39m, \u001b[38;5;124m'\u001b[39m\u001b[38;5;124mwendog\u001b[39m\u001b[38;5;124m'\u001b[39m, \u001b[38;5;124m'\u001b[39m\u001b[38;5;124mwexog\u001b[39m\u001b[38;5;124m'\u001b[39m, \u001b[38;5;124m'\u001b[39m\u001b[38;5;124mweights\u001b[39m\u001b[38;5;124m'\u001b[39m])\n",
      "File \u001b[1;32m~\\miniconda3\\envs\\data_vis\\lib\\site-packages\\statsmodels\\base\\model.py:267\u001b[0m, in \u001b[0;36mLikelihoodModel.__init__\u001b[1;34m(self, endog, exog, **kwargs)\u001b[0m\n\u001b[0;32m    266\u001b[0m \u001b[38;5;28;01mdef\u001b[39;00m \u001b[38;5;21m__init__\u001b[39m(\u001b[38;5;28mself\u001b[39m, endog, exog\u001b[38;5;241m=\u001b[39m\u001b[38;5;28;01mNone\u001b[39;00m, \u001b[38;5;241m*\u001b[39m\u001b[38;5;241m*\u001b[39mkwargs):\n\u001b[1;32m--> 267\u001b[0m     \u001b[38;5;28msuper\u001b[39m()\u001b[38;5;241m.\u001b[39m\u001b[38;5;21m__init__\u001b[39m(endog, exog, \u001b[38;5;241m*\u001b[39m\u001b[38;5;241m*\u001b[39mkwargs)\n\u001b[0;32m    268\u001b[0m     \u001b[38;5;28mself\u001b[39m\u001b[38;5;241m.\u001b[39minitialize()\n",
      "File \u001b[1;32m~\\miniconda3\\envs\\data_vis\\lib\\site-packages\\statsmodels\\base\\model.py:92\u001b[0m, in \u001b[0;36mModel.__init__\u001b[1;34m(self, endog, exog, **kwargs)\u001b[0m\n\u001b[0;32m     90\u001b[0m missing \u001b[38;5;241m=\u001b[39m kwargs\u001b[38;5;241m.\u001b[39mpop(\u001b[38;5;124m'\u001b[39m\u001b[38;5;124mmissing\u001b[39m\u001b[38;5;124m'\u001b[39m, \u001b[38;5;124m'\u001b[39m\u001b[38;5;124mnone\u001b[39m\u001b[38;5;124m'\u001b[39m)\n\u001b[0;32m     91\u001b[0m hasconst \u001b[38;5;241m=\u001b[39m kwargs\u001b[38;5;241m.\u001b[39mpop(\u001b[38;5;124m'\u001b[39m\u001b[38;5;124mhasconst\u001b[39m\u001b[38;5;124m'\u001b[39m, \u001b[38;5;28;01mNone\u001b[39;00m)\n\u001b[1;32m---> 92\u001b[0m \u001b[38;5;28mself\u001b[39m\u001b[38;5;241m.\u001b[39mdata \u001b[38;5;241m=\u001b[39m \u001b[38;5;28mself\u001b[39m\u001b[38;5;241m.\u001b[39m_handle_data(endog, exog, missing, hasconst,\n\u001b[0;32m     93\u001b[0m                               \u001b[38;5;241m*\u001b[39m\u001b[38;5;241m*\u001b[39mkwargs)\n\u001b[0;32m     94\u001b[0m \u001b[38;5;28mself\u001b[39m\u001b[38;5;241m.\u001b[39mk_constant \u001b[38;5;241m=\u001b[39m \u001b[38;5;28mself\u001b[39m\u001b[38;5;241m.\u001b[39mdata\u001b[38;5;241m.\u001b[39mk_constant\n\u001b[0;32m     95\u001b[0m \u001b[38;5;28mself\u001b[39m\u001b[38;5;241m.\u001b[39mexog \u001b[38;5;241m=\u001b[39m \u001b[38;5;28mself\u001b[39m\u001b[38;5;241m.\u001b[39mdata\u001b[38;5;241m.\u001b[39mexog\n",
      "File \u001b[1;32m~\\miniconda3\\envs\\data_vis\\lib\\site-packages\\statsmodels\\base\\model.py:132\u001b[0m, in \u001b[0;36mModel._handle_data\u001b[1;34m(self, endog, exog, missing, hasconst, **kwargs)\u001b[0m\n\u001b[0;32m    131\u001b[0m \u001b[38;5;28;01mdef\u001b[39;00m \u001b[38;5;21m_handle_data\u001b[39m(\u001b[38;5;28mself\u001b[39m, endog, exog, missing, hasconst, \u001b[38;5;241m*\u001b[39m\u001b[38;5;241m*\u001b[39mkwargs):\n\u001b[1;32m--> 132\u001b[0m     data \u001b[38;5;241m=\u001b[39m handle_data(endog, exog, missing, hasconst, \u001b[38;5;241m*\u001b[39m\u001b[38;5;241m*\u001b[39mkwargs)\n\u001b[0;32m    133\u001b[0m     \u001b[38;5;66;03m# kwargs arrays could have changed, easier to just attach here\u001b[39;00m\n\u001b[0;32m    134\u001b[0m     \u001b[38;5;28;01mfor\u001b[39;00m key \u001b[38;5;129;01min\u001b[39;00m kwargs:\n",
      "File \u001b[1;32m~\\miniconda3\\envs\\data_vis\\lib\\site-packages\\statsmodels\\base\\data.py:673\u001b[0m, in \u001b[0;36mhandle_data\u001b[1;34m(endog, exog, missing, hasconst, **kwargs)\u001b[0m\n\u001b[0;32m    670\u001b[0m     exog \u001b[38;5;241m=\u001b[39m np\u001b[38;5;241m.\u001b[39masarray(exog)\n\u001b[0;32m    672\u001b[0m klass \u001b[38;5;241m=\u001b[39m handle_data_class_factory(endog, exog)\n\u001b[1;32m--> 673\u001b[0m \u001b[38;5;28;01mreturn\u001b[39;00m klass(endog, exog\u001b[38;5;241m=\u001b[39mexog, missing\u001b[38;5;241m=\u001b[39mmissing, hasconst\u001b[38;5;241m=\u001b[39mhasconst,\n\u001b[0;32m    674\u001b[0m              \u001b[38;5;241m*\u001b[39m\u001b[38;5;241m*\u001b[39mkwargs)\n",
      "File \u001b[1;32m~\\miniconda3\\envs\\data_vis\\lib\\site-packages\\statsmodels\\base\\data.py:86\u001b[0m, in \u001b[0;36mModelData.__init__\u001b[1;34m(self, endog, exog, missing, hasconst, **kwargs)\u001b[0m\n\u001b[0;32m     84\u001b[0m \u001b[38;5;28mself\u001b[39m\u001b[38;5;241m.\u001b[39mconst_idx \u001b[38;5;241m=\u001b[39m \u001b[38;5;28;01mNone\u001b[39;00m\n\u001b[0;32m     85\u001b[0m \u001b[38;5;28mself\u001b[39m\u001b[38;5;241m.\u001b[39mk_constant \u001b[38;5;241m=\u001b[39m \u001b[38;5;241m0\u001b[39m\n\u001b[1;32m---> 86\u001b[0m \u001b[38;5;28;43mself\u001b[39;49m\u001b[38;5;241;43m.\u001b[39;49m\u001b[43m_handle_constant\u001b[49m\u001b[43m(\u001b[49m\u001b[43mhasconst\u001b[49m\u001b[43m)\u001b[49m\n\u001b[0;32m     87\u001b[0m \u001b[38;5;28mself\u001b[39m\u001b[38;5;241m.\u001b[39m_check_integrity()\n\u001b[0;32m     88\u001b[0m \u001b[38;5;28mself\u001b[39m\u001b[38;5;241m.\u001b[39m_cache \u001b[38;5;241m=\u001b[39m {}\n",
      "File \u001b[1;32m~\\miniconda3\\envs\\data_vis\\lib\\site-packages\\statsmodels\\base\\data.py:130\u001b[0m, in \u001b[0;36mModelData._handle_constant\u001b[1;34m(self, hasconst)\u001b[0m\n\u001b[0;32m    127\u001b[0m \u001b[38;5;28;01melse\u001b[39;00m:\n\u001b[0;32m    128\u001b[0m     \u001b[38;5;66;03m# detect where the constant is\u001b[39;00m\n\u001b[0;32m    129\u001b[0m     check_implicit \u001b[38;5;241m=\u001b[39m \u001b[38;5;28;01mFalse\u001b[39;00m\n\u001b[1;32m--> 130\u001b[0m     exog_max \u001b[38;5;241m=\u001b[39m \u001b[43mnp\u001b[49m\u001b[38;5;241;43m.\u001b[39;49m\u001b[43mmax\u001b[49m\u001b[43m(\u001b[49m\u001b[38;5;28;43mself\u001b[39;49m\u001b[38;5;241;43m.\u001b[39;49m\u001b[43mexog\u001b[49m\u001b[43m,\u001b[49m\u001b[43m \u001b[49m\u001b[43maxis\u001b[49m\u001b[38;5;241;43m=\u001b[39;49m\u001b[38;5;241;43m0\u001b[39;49m\u001b[43m)\u001b[49m\n\u001b[0;32m    131\u001b[0m     \u001b[38;5;28;01mif\u001b[39;00m \u001b[38;5;129;01mnot\u001b[39;00m np\u001b[38;5;241m.\u001b[39misfinite(exog_max)\u001b[38;5;241m.\u001b[39mall():\n\u001b[0;32m    132\u001b[0m         \u001b[38;5;28;01mraise\u001b[39;00m MissingDataError(\u001b[38;5;124m'\u001b[39m\u001b[38;5;124mexog contains inf or nans\u001b[39m\u001b[38;5;124m'\u001b[39m)\n",
      "File \u001b[1;32m<__array_function__ internals>:5\u001b[0m, in \u001b[0;36mamax\u001b[1;34m(*args, **kwargs)\u001b[0m\n",
      "File \u001b[1;32m~\\miniconda3\\envs\\data_vis\\lib\\site-packages\\numpy\\core\\fromnumeric.py:2754\u001b[0m, in \u001b[0;36mamax\u001b[1;34m(a, axis, out, keepdims, initial, where)\u001b[0m\n\u001b[0;32m   2638\u001b[0m \u001b[38;5;129m@array_function_dispatch\u001b[39m(_amax_dispatcher)\n\u001b[0;32m   2639\u001b[0m \u001b[38;5;28;01mdef\u001b[39;00m \u001b[38;5;21mamax\u001b[39m(a, axis\u001b[38;5;241m=\u001b[39m\u001b[38;5;28;01mNone\u001b[39;00m, out\u001b[38;5;241m=\u001b[39m\u001b[38;5;28;01mNone\u001b[39;00m, keepdims\u001b[38;5;241m=\u001b[39mnp\u001b[38;5;241m.\u001b[39m_NoValue, initial\u001b[38;5;241m=\u001b[39mnp\u001b[38;5;241m.\u001b[39m_NoValue,\n\u001b[0;32m   2640\u001b[0m          where\u001b[38;5;241m=\u001b[39mnp\u001b[38;5;241m.\u001b[39m_NoValue):\n\u001b[0;32m   2641\u001b[0m     \u001b[38;5;124;03m\"\"\"\u001b[39;00m\n\u001b[0;32m   2642\u001b[0m \u001b[38;5;124;03m    Return the maximum of an array or maximum along an axis.\u001b[39;00m\n\u001b[0;32m   2643\u001b[0m \n\u001b[1;32m   (...)\u001b[0m\n\u001b[0;32m   2752\u001b[0m \u001b[38;5;124;03m    5\u001b[39;00m\n\u001b[0;32m   2753\u001b[0m \u001b[38;5;124;03m    \"\"\"\u001b[39;00m\n\u001b[1;32m-> 2754\u001b[0m     \u001b[38;5;28;01mreturn\u001b[39;00m \u001b[43m_wrapreduction\u001b[49m\u001b[43m(\u001b[49m\u001b[43ma\u001b[49m\u001b[43m,\u001b[49m\u001b[43m \u001b[49m\u001b[43mnp\u001b[49m\u001b[38;5;241;43m.\u001b[39;49m\u001b[43mmaximum\u001b[49m\u001b[43m,\u001b[49m\u001b[43m \u001b[49m\u001b[38;5;124;43m'\u001b[39;49m\u001b[38;5;124;43mmax\u001b[39;49m\u001b[38;5;124;43m'\u001b[39;49m\u001b[43m,\u001b[49m\u001b[43m \u001b[49m\u001b[43maxis\u001b[49m\u001b[43m,\u001b[49m\u001b[43m \u001b[49m\u001b[38;5;28;43;01mNone\u001b[39;49;00m\u001b[43m,\u001b[49m\u001b[43m \u001b[49m\u001b[43mout\u001b[49m\u001b[43m,\u001b[49m\n\u001b[0;32m   2755\u001b[0m \u001b[43m                          \u001b[49m\u001b[43mkeepdims\u001b[49m\u001b[38;5;241;43m=\u001b[39;49m\u001b[43mkeepdims\u001b[49m\u001b[43m,\u001b[49m\u001b[43m \u001b[49m\u001b[43minitial\u001b[49m\u001b[38;5;241;43m=\u001b[39;49m\u001b[43minitial\u001b[49m\u001b[43m,\u001b[49m\u001b[43m \u001b[49m\u001b[43mwhere\u001b[49m\u001b[38;5;241;43m=\u001b[39;49m\u001b[43mwhere\u001b[49m\u001b[43m)\u001b[49m\n",
      "File \u001b[1;32m~\\miniconda3\\envs\\data_vis\\lib\\site-packages\\numpy\\core\\fromnumeric.py:86\u001b[0m, in \u001b[0;36m_wrapreduction\u001b[1;34m(obj, ufunc, method, axis, dtype, out, **kwargs)\u001b[0m\n\u001b[0;32m     83\u001b[0m         \u001b[38;5;28;01melse\u001b[39;00m:\n\u001b[0;32m     84\u001b[0m             \u001b[38;5;28;01mreturn\u001b[39;00m reduction(axis\u001b[38;5;241m=\u001b[39maxis, out\u001b[38;5;241m=\u001b[39mout, \u001b[38;5;241m*\u001b[39m\u001b[38;5;241m*\u001b[39mpasskwargs)\n\u001b[1;32m---> 86\u001b[0m \u001b[38;5;28;01mreturn\u001b[39;00m ufunc\u001b[38;5;241m.\u001b[39mreduce(obj, axis, dtype, out, \u001b[38;5;241m*\u001b[39m\u001b[38;5;241m*\u001b[39mpasskwargs)\n",
      "\u001b[1;31mValueError\u001b[0m: zero-size array to reduction operation maximum which has no identity"
     ]
    }
   ],
   "source": [
    "import plotly.graph_objs as go\n",
    "import statsmodels.api as sm\n",
    "\n",
    "col_name = str(\"AverageTemperature\") + \"(above Average)\"\n",
    "df[col_name] = (df[(\"AverageTemperature\")] > df[(\"AverageTemperature\")].mean())#.astype(int)\n",
    "\n",
    "fig = px.scatter(df, x=\"AverageTemperature\", y =\"GHG\", size=np.log(df[\"GHG\"]), color=col_name, hover_name=df.index, log_x=False,marginal_x = \"box\",marginal_y = \"box\", template=\"simple_white\", color_discrete_sequence=[\"#0d0887\", \"#9c179e\"])\n",
    "\n",
    "# linear regression\n",
    "regline = sm.OLS(df[\"AverageTemperature\"],sm.add_constant(np.log(df[\"GHG\"]))).fit().fittedvalues\n",
    "\n",
    "# add linear regression line for whole sample\n",
    "fig.add_traces(go.Scatter(x=np.log(df[\"GHG\"]), y=regline,\n",
    "                          mode = 'lines',\n",
    "                          marker_color='#fb9f3a',\n",
    "                          name='OLS Trendline')\n",
    "                          )\n",
    "\n",
    "fig.show()"
   ]
  },
  {
   "cell_type": "code",
   "execution_count": 26,
   "id": "04b6ccd2",
   "metadata": {},
   "outputs": [
    {
     "ename": "ValueError",
     "evalue": "\n    Invalid element(s) received for the 'size' property of scatter.marker\n        Invalid elements include: [-4.948583333333334]\n\n    The 'size' property is a number and may be specified as:\n      - An int or float in the interval [0, inf]\n      - A tuple, list, or one-dimensional numpy array of the above",
     "output_type": "error",
     "traceback": [
      "\u001b[1;31m---------------------------------------------------------------------------\u001b[0m",
      "\u001b[1;31mValueError\u001b[0m                                Traceback (most recent call last)",
      "Input \u001b[1;32mIn [26]\u001b[0m, in \u001b[0;36m<cell line: 7>\u001b[1;34m()\u001b[0m\n\u001b[0;32m      2\u001b[0m df[col_name] \u001b[38;5;241m=\u001b[39m (df[(\u001b[38;5;124m\"\u001b[39m\u001b[38;5;124mAverageTemperature\u001b[39m\u001b[38;5;124m\"\u001b[39m)] \u001b[38;5;241m>\u001b[39m df[(\u001b[38;5;124m\"\u001b[39m\u001b[38;5;124mAverageTemperature\u001b[39m\u001b[38;5;124m\"\u001b[39m)]\u001b[38;5;241m.\u001b[39mmean())\u001b[38;5;66;03m#.astype(int)\u001b[39;00m\n\u001b[0;32m      5\u001b[0m size \u001b[38;5;241m=\u001b[39m df[\u001b[38;5;124m\"\u001b[39m\u001b[38;5;124mAverageTemperature\u001b[39m\u001b[38;5;124m\"\u001b[39m]\n\u001b[1;32m----> 7\u001b[0m fig \u001b[38;5;241m=\u001b[39m \u001b[43mpx\u001b[49m\u001b[38;5;241;43m.\u001b[39;49m\u001b[43mscatter\u001b[49m\u001b[43m(\u001b[49m\u001b[43mdf\u001b[49m\u001b[43m,\u001b[49m\u001b[43m \u001b[49m\u001b[43mx\u001b[49m\u001b[38;5;241;43m=\u001b[39;49m\u001b[38;5;124;43m\"\u001b[39;49m\u001b[38;5;124;43mAverageTemperature\u001b[39;49m\u001b[38;5;124;43m\"\u001b[39;49m\u001b[43m,\u001b[49m\u001b[43m \u001b[49m\u001b[43my\u001b[49m\u001b[43m \u001b[49m\u001b[38;5;241;43m=\u001b[39;49m\u001b[38;5;124;43m\"\u001b[39;49m\u001b[38;5;124;43mGHG\u001b[39;49m\u001b[38;5;124;43m\"\u001b[39;49m\u001b[43m,\u001b[49m\u001b[43m \u001b[49m\u001b[43msize\u001b[49m\u001b[38;5;241;43m=\u001b[39;49m\u001b[43msize\u001b[49m\u001b[43m,\u001b[49m\u001b[43m \u001b[49m\u001b[43mcolor\u001b[49m\u001b[38;5;241;43m=\u001b[39;49m\u001b[43mcol_name\u001b[49m\u001b[43m,\u001b[49m\u001b[43mhover_name\u001b[49m\u001b[38;5;241;43m=\u001b[39;49m\u001b[43mdf\u001b[49m\u001b[38;5;241;43m.\u001b[39;49m\u001b[43mindex\u001b[49m\u001b[43m,\u001b[49m\u001b[43m \u001b[49m\u001b[43mlog_x\u001b[49m\u001b[38;5;241;43m=\u001b[39;49m\u001b[38;5;28;43;01mFalse\u001b[39;49;00m\u001b[43m,\u001b[49m\u001b[43m \u001b[49m\u001b[43mtrendline\u001b[49m\u001b[43m \u001b[49m\u001b[38;5;241;43m=\u001b[39;49m\u001b[43m \u001b[49m\u001b[38;5;124;43m\"\u001b[39;49m\u001b[38;5;124;43mols\u001b[39;49m\u001b[38;5;124;43m\"\u001b[39;49m\u001b[43m,\u001b[49m\u001b[43m  \u001b[49m\u001b[43mtrendline_color_override\u001b[49m\u001b[38;5;241;43m=\u001b[39;49m\u001b[38;5;124;43m\"\u001b[39;49m\u001b[38;5;124;43m#bd3786\u001b[39;49m\u001b[38;5;124;43m\"\u001b[39;49m\u001b[43m,\u001b[49m\u001b[43mmarginal_x\u001b[49m\u001b[43m \u001b[49m\u001b[38;5;241;43m=\u001b[39;49m\u001b[43m \u001b[49m\u001b[38;5;124;43m\"\u001b[39;49m\u001b[38;5;124;43mbox\u001b[39;49m\u001b[38;5;124;43m\"\u001b[39;49m\u001b[43m,\u001b[49m\u001b[43mmarginal_y\u001b[49m\u001b[43m \u001b[49m\u001b[38;5;241;43m=\u001b[39;49m\u001b[43m \u001b[49m\u001b[38;5;124;43m\"\u001b[39;49m\u001b[38;5;124;43mbox\u001b[39;49m\u001b[38;5;124;43m\"\u001b[39;49m\u001b[43m,\u001b[49m\u001b[43m \u001b[49m\u001b[43mtemplate\u001b[49m\u001b[38;5;241;43m=\u001b[39;49m\u001b[38;5;124;43m\"\u001b[39;49m\u001b[38;5;124;43msimple_white\u001b[39;49m\u001b[38;5;124;43m\"\u001b[39;49m\u001b[43m,\u001b[49m\u001b[43m \u001b[49m\u001b[43mcolor_discrete_sequence\u001b[49m\u001b[38;5;241;43m=\u001b[39;49m\u001b[43mpx\u001b[49m\u001b[38;5;241;43m.\u001b[39;49m\u001b[43mcolors\u001b[49m\u001b[38;5;241;43m.\u001b[39;49m\u001b[43mqualitative\u001b[49m\u001b[38;5;241;43m.\u001b[39;49m\u001b[43mG10\u001b[49m\u001b[43m)\u001b[49m\n\u001b[0;32m      8\u001b[0m fig\u001b[38;5;241m.\u001b[39mshow()\n",
      "File \u001b[1;32m~\\miniconda3\\envs\\data_vis\\lib\\site-packages\\plotly\\express\\_chart_types.py:66\u001b[0m, in \u001b[0;36mscatter\u001b[1;34m(data_frame, x, y, color, symbol, size, hover_name, hover_data, custom_data, text, facet_row, facet_col, facet_col_wrap, facet_row_spacing, facet_col_spacing, error_x, error_x_minus, error_y, error_y_minus, animation_frame, animation_group, category_orders, labels, orientation, color_discrete_sequence, color_discrete_map, color_continuous_scale, range_color, color_continuous_midpoint, symbol_sequence, symbol_map, opacity, size_max, marginal_x, marginal_y, trendline, trendline_options, trendline_color_override, trendline_scope, log_x, log_y, range_x, range_y, render_mode, title, template, width, height)\u001b[0m\n\u001b[0;32m     12\u001b[0m \u001b[38;5;28;01mdef\u001b[39;00m \u001b[38;5;21mscatter\u001b[39m(\n\u001b[0;32m     13\u001b[0m     data_frame\u001b[38;5;241m=\u001b[39m\u001b[38;5;28;01mNone\u001b[39;00m,\n\u001b[0;32m     14\u001b[0m     x\u001b[38;5;241m=\u001b[39m\u001b[38;5;28;01mNone\u001b[39;00m,\n\u001b[1;32m   (...)\u001b[0m\n\u001b[0;32m     60\u001b[0m     height\u001b[38;5;241m=\u001b[39m\u001b[38;5;28;01mNone\u001b[39;00m,\n\u001b[0;32m     61\u001b[0m ):\n\u001b[0;32m     62\u001b[0m     \u001b[38;5;124;03m\"\"\"\u001b[39;00m\n\u001b[0;32m     63\u001b[0m \u001b[38;5;124;03m    In a scatter plot, each row of `data_frame` is represented by a symbol\u001b[39;00m\n\u001b[0;32m     64\u001b[0m \u001b[38;5;124;03m    mark in 2D space.\u001b[39;00m\n\u001b[0;32m     65\u001b[0m \u001b[38;5;124;03m    \"\"\"\u001b[39;00m\n\u001b[1;32m---> 66\u001b[0m     \u001b[38;5;28;01mreturn\u001b[39;00m \u001b[43mmake_figure\u001b[49m\u001b[43m(\u001b[49m\u001b[43margs\u001b[49m\u001b[38;5;241;43m=\u001b[39;49m\u001b[38;5;28;43mlocals\u001b[39;49m\u001b[43m(\u001b[49m\u001b[43m)\u001b[49m\u001b[43m,\u001b[49m\u001b[43m \u001b[49m\u001b[43mconstructor\u001b[49m\u001b[38;5;241;43m=\u001b[39;49m\u001b[43mgo\u001b[49m\u001b[38;5;241;43m.\u001b[39;49m\u001b[43mScatter\u001b[49m\u001b[43m)\u001b[49m\n",
      "File \u001b[1;32m~\\miniconda3\\envs\\data_vis\\lib\\site-packages\\plotly\\express\\_core.py:2126\u001b[0m, in \u001b[0;36mmake_figure\u001b[1;34m(args, constructor, trace_patch, layout_patch)\u001b[0m\n\u001b[0;32m   2121\u001b[0m         group[var] \u001b[38;5;241m=\u001b[39m \u001b[38;5;241m100.0\u001b[39m \u001b[38;5;241m*\u001b[39m group[var] \u001b[38;5;241m/\u001b[39m group_sum\n\u001b[0;32m   2123\u001b[0m patch, fit_results \u001b[38;5;241m=\u001b[39m make_trace_kwargs(\n\u001b[0;32m   2124\u001b[0m     args, trace_spec, group, mapping_labels\u001b[38;5;241m.\u001b[39mcopy(), sizeref\n\u001b[0;32m   2125\u001b[0m )\n\u001b[1;32m-> 2126\u001b[0m \u001b[43mtrace\u001b[49m\u001b[38;5;241;43m.\u001b[39;49m\u001b[43mupdate\u001b[49m\u001b[43m(\u001b[49m\u001b[43mpatch\u001b[49m\u001b[43m)\u001b[49m\n\u001b[0;32m   2127\u001b[0m \u001b[38;5;28;01mif\u001b[39;00m fit_results \u001b[38;5;129;01mis\u001b[39;00m \u001b[38;5;129;01mnot\u001b[39;00m \u001b[38;5;28;01mNone\u001b[39;00m:\n\u001b[0;32m   2128\u001b[0m     trendline_rows\u001b[38;5;241m.\u001b[39mappend(mapping_labels\u001b[38;5;241m.\u001b[39mcopy())\n",
      "File \u001b[1;32m~\\miniconda3\\envs\\data_vis\\lib\\site-packages\\plotly\\basedatatypes.py:5092\u001b[0m, in \u001b[0;36mBasePlotlyType.update\u001b[1;34m(self, dict1, overwrite, **kwargs)\u001b[0m\n\u001b[0;32m   5090\u001b[0m         BaseFigure\u001b[38;5;241m.\u001b[39m_perform_update(\u001b[38;5;28mself\u001b[39m, kwargs, overwrite\u001b[38;5;241m=\u001b[39moverwrite)\n\u001b[0;32m   5091\u001b[0m \u001b[38;5;28;01melse\u001b[39;00m:\n\u001b[1;32m-> 5092\u001b[0m     \u001b[43mBaseFigure\u001b[49m\u001b[38;5;241;43m.\u001b[39;49m\u001b[43m_perform_update\u001b[49m\u001b[43m(\u001b[49m\u001b[38;5;28;43mself\u001b[39;49m\u001b[43m,\u001b[49m\u001b[43m \u001b[49m\u001b[43mdict1\u001b[49m\u001b[43m,\u001b[49m\u001b[43m \u001b[49m\u001b[43moverwrite\u001b[49m\u001b[38;5;241;43m=\u001b[39;49m\u001b[43moverwrite\u001b[49m\u001b[43m)\u001b[49m\n\u001b[0;32m   5093\u001b[0m     BaseFigure\u001b[38;5;241m.\u001b[39m_perform_update(\u001b[38;5;28mself\u001b[39m, kwargs, overwrite\u001b[38;5;241m=\u001b[39moverwrite)\n\u001b[0;32m   5095\u001b[0m \u001b[38;5;28;01mreturn\u001b[39;00m \u001b[38;5;28mself\u001b[39m\n",
      "File \u001b[1;32m~\\miniconda3\\envs\\data_vis\\lib\\site-packages\\plotly\\basedatatypes.py:3908\u001b[0m, in \u001b[0;36mBaseFigure._perform_update\u001b[1;34m(plotly_obj, update_obj, overwrite)\u001b[0m\n\u001b[0;32m   3902\u001b[0m validator \u001b[38;5;241m=\u001b[39m plotly_obj\u001b[38;5;241m.\u001b[39m_get_prop_validator(key)\n\u001b[0;32m   3904\u001b[0m \u001b[38;5;28;01mif\u001b[39;00m \u001b[38;5;28misinstance\u001b[39m(validator, CompoundValidator) \u001b[38;5;129;01mand\u001b[39;00m \u001b[38;5;28misinstance\u001b[39m(val, \u001b[38;5;28mdict\u001b[39m):\n\u001b[0;32m   3905\u001b[0m \n\u001b[0;32m   3906\u001b[0m     \u001b[38;5;66;03m# Update compound objects recursively\u001b[39;00m\n\u001b[0;32m   3907\u001b[0m     \u001b[38;5;66;03m# plotly_obj[key].update(val)\u001b[39;00m\n\u001b[1;32m-> 3908\u001b[0m     \u001b[43mBaseFigure\u001b[49m\u001b[38;5;241;43m.\u001b[39;49m\u001b[43m_perform_update\u001b[49m\u001b[43m(\u001b[49m\u001b[43mplotly_obj\u001b[49m\u001b[43m[\u001b[49m\u001b[43mkey\u001b[49m\u001b[43m]\u001b[49m\u001b[43m,\u001b[49m\u001b[43m \u001b[49m\u001b[43mval\u001b[49m\u001b[43m)\u001b[49m\n\u001b[0;32m   3909\u001b[0m \u001b[38;5;28;01melif\u001b[39;00m \u001b[38;5;28misinstance\u001b[39m(validator, CompoundArrayValidator):\n\u001b[0;32m   3910\u001b[0m     \u001b[38;5;28;01mif\u001b[39;00m plotly_obj[key]:\n\u001b[0;32m   3911\u001b[0m         \u001b[38;5;66;03m# plotly_obj has an existing non-empty array for key\u001b[39;00m\n\u001b[0;32m   3912\u001b[0m         \u001b[38;5;66;03m# In this case we merge val into the existing elements\u001b[39;00m\n",
      "File \u001b[1;32m~\\miniconda3\\envs\\data_vis\\lib\\site-packages\\plotly\\basedatatypes.py:3929\u001b[0m, in \u001b[0;36mBaseFigure._perform_update\u001b[1;34m(plotly_obj, update_obj, overwrite)\u001b[0m\n\u001b[0;32m   3926\u001b[0m                 plotly_obj[key] \u001b[38;5;241m=\u001b[39m val\n\u001b[0;32m   3927\u001b[0m         \u001b[38;5;28;01melse\u001b[39;00m:\n\u001b[0;32m   3928\u001b[0m             \u001b[38;5;66;03m# Assign non-compound value\u001b[39;00m\n\u001b[1;32m-> 3929\u001b[0m             plotly_obj[key] \u001b[38;5;241m=\u001b[39m val\n\u001b[0;32m   3931\u001b[0m \u001b[38;5;28;01melif\u001b[39;00m \u001b[38;5;28misinstance\u001b[39m(plotly_obj, \u001b[38;5;28mtuple\u001b[39m):\n\u001b[0;32m   3933\u001b[0m     \u001b[38;5;28;01mif\u001b[39;00m \u001b[38;5;28mlen\u001b[39m(update_obj) \u001b[38;5;241m==\u001b[39m \u001b[38;5;241m0\u001b[39m:\n\u001b[0;32m   3934\u001b[0m         \u001b[38;5;66;03m# Nothing to do\u001b[39;00m\n",
      "File \u001b[1;32m~\\miniconda3\\envs\\data_vis\\lib\\site-packages\\plotly\\basedatatypes.py:4827\u001b[0m, in \u001b[0;36mBasePlotlyType.__setitem__\u001b[1;34m(self, prop, value)\u001b[0m\n\u001b[0;32m   4823\u001b[0m         \u001b[38;5;28mself\u001b[39m\u001b[38;5;241m.\u001b[39m_set_array_prop(prop, value)\n\u001b[0;32m   4825\u001b[0m     \u001b[38;5;66;03m# ### Handle simple property ###\u001b[39;00m\n\u001b[0;32m   4826\u001b[0m     \u001b[38;5;28;01melse\u001b[39;00m:\n\u001b[1;32m-> 4827\u001b[0m         \u001b[38;5;28;43mself\u001b[39;49m\u001b[38;5;241;43m.\u001b[39;49m\u001b[43m_set_prop\u001b[49m\u001b[43m(\u001b[49m\u001b[43mprop\u001b[49m\u001b[43m,\u001b[49m\u001b[43m \u001b[49m\u001b[43mvalue\u001b[49m\u001b[43m)\u001b[49m\n\u001b[0;32m   4828\u001b[0m \u001b[38;5;28;01melse\u001b[39;00m:\n\u001b[0;32m   4829\u001b[0m     \u001b[38;5;66;03m# Make sure properties dict is initialized\u001b[39;00m\n\u001b[0;32m   4830\u001b[0m     \u001b[38;5;28mself\u001b[39m\u001b[38;5;241m.\u001b[39m_init_props()\n",
      "File \u001b[1;32m~\\miniconda3\\envs\\data_vis\\lib\\site-packages\\plotly\\basedatatypes.py:5171\u001b[0m, in \u001b[0;36mBasePlotlyType._set_prop\u001b[1;34m(self, prop, val)\u001b[0m\n\u001b[0;32m   5169\u001b[0m         \u001b[38;5;28;01mreturn\u001b[39;00m\n\u001b[0;32m   5170\u001b[0m     \u001b[38;5;28;01melse\u001b[39;00m:\n\u001b[1;32m-> 5171\u001b[0m         \u001b[38;5;28;01mraise\u001b[39;00m err\n\u001b[0;32m   5173\u001b[0m \u001b[38;5;66;03m# val is None\u001b[39;00m\n\u001b[0;32m   5174\u001b[0m \u001b[38;5;66;03m# -----------\u001b[39;00m\n\u001b[0;32m   5175\u001b[0m \u001b[38;5;28;01mif\u001b[39;00m val \u001b[38;5;129;01mis\u001b[39;00m \u001b[38;5;28;01mNone\u001b[39;00m:\n\u001b[0;32m   5176\u001b[0m     \u001b[38;5;66;03m# Check if we should send null update\u001b[39;00m\n",
      "File \u001b[1;32m~\\miniconda3\\envs\\data_vis\\lib\\site-packages\\plotly\\basedatatypes.py:5166\u001b[0m, in \u001b[0;36mBasePlotlyType._set_prop\u001b[1;34m(self, prop, val)\u001b[0m\n\u001b[0;32m   5163\u001b[0m validator \u001b[38;5;241m=\u001b[39m \u001b[38;5;28mself\u001b[39m\u001b[38;5;241m.\u001b[39m_get_validator(prop)\n\u001b[0;32m   5165\u001b[0m \u001b[38;5;28;01mtry\u001b[39;00m:\n\u001b[1;32m-> 5166\u001b[0m     val \u001b[38;5;241m=\u001b[39m \u001b[43mvalidator\u001b[49m\u001b[38;5;241;43m.\u001b[39;49m\u001b[43mvalidate_coerce\u001b[49m\u001b[43m(\u001b[49m\u001b[43mval\u001b[49m\u001b[43m)\u001b[49m\n\u001b[0;32m   5167\u001b[0m \u001b[38;5;28;01mexcept\u001b[39;00m \u001b[38;5;167;01mValueError\u001b[39;00m \u001b[38;5;28;01mas\u001b[39;00m err:\n\u001b[0;32m   5168\u001b[0m     \u001b[38;5;28;01mif\u001b[39;00m \u001b[38;5;28mself\u001b[39m\u001b[38;5;241m.\u001b[39m_skip_invalid:\n",
      "File \u001b[1;32m~\\miniconda3\\envs\\data_vis\\lib\\site-packages\\_plotly_utils\\basevalidators.py:785\u001b[0m, in \u001b[0;36mNumberValidator.validate_coerce\u001b[1;34m(self, v)\u001b[0m\n\u001b[0;32m    780\u001b[0m             v_invalid \u001b[38;5;241m=\u001b[39m np\u001b[38;5;241m.\u001b[39mlogical_not(v_valid)\n\u001b[0;32m    781\u001b[0m             some_invalid_els \u001b[38;5;241m=\u001b[39m np\u001b[38;5;241m.\u001b[39marray(v, dtype\u001b[38;5;241m=\u001b[39m\u001b[38;5;124m\"\u001b[39m\u001b[38;5;124mobject\u001b[39m\u001b[38;5;124m\"\u001b[39m)[v_invalid][\n\u001b[0;32m    782\u001b[0m                 :\u001b[38;5;241m10\u001b[39m\n\u001b[0;32m    783\u001b[0m             ]\u001b[38;5;241m.\u001b[39mtolist()\n\u001b[1;32m--> 785\u001b[0m             \u001b[38;5;28;43mself\u001b[39;49m\u001b[38;5;241;43m.\u001b[39;49m\u001b[43mraise_invalid_elements\u001b[49m\u001b[43m(\u001b[49m\u001b[43msome_invalid_els\u001b[49m\u001b[43m)\u001b[49m\n\u001b[0;32m    787\u001b[0m     v \u001b[38;5;241m=\u001b[39m v_array  \u001b[38;5;66;03m# Always numeric numpy array\u001b[39;00m\n\u001b[0;32m    788\u001b[0m \u001b[38;5;28;01melif\u001b[39;00m \u001b[38;5;28mself\u001b[39m\u001b[38;5;241m.\u001b[39marray_ok \u001b[38;5;129;01mand\u001b[39;00m is_simple_array(v):\n\u001b[0;32m    789\u001b[0m     \u001b[38;5;66;03m# Check numeric\u001b[39;00m\n",
      "File \u001b[1;32m~\\miniconda3\\envs\\data_vis\\lib\\site-packages\\_plotly_utils\\basevalidators.py:305\u001b[0m, in \u001b[0;36mBaseValidator.raise_invalid_elements\u001b[1;34m(self, invalid_els)\u001b[0m\n\u001b[0;32m    303\u001b[0m     \u001b[38;5;28;01mdef\u001b[39;00m \u001b[38;5;21mraise_invalid_elements\u001b[39m(\u001b[38;5;28mself\u001b[39m, invalid_els):\n\u001b[0;32m    304\u001b[0m         \u001b[38;5;28;01mif\u001b[39;00m invalid_els:\n\u001b[1;32m--> 305\u001b[0m             \u001b[38;5;28;01mraise\u001b[39;00m \u001b[38;5;167;01mValueError\u001b[39;00m(\n\u001b[0;32m    306\u001b[0m                 \u001b[38;5;124;03m\"\"\"\u001b[39;00m\n\u001b[0;32m    307\u001b[0m \u001b[38;5;124;03m    Invalid element(s) received for the '{name}' property of {pname}\u001b[39;00m\n\u001b[0;32m    308\u001b[0m \u001b[38;5;124;03m        Invalid elements include: {invalid}\u001b[39;00m\n\u001b[0;32m    309\u001b[0m \n\u001b[0;32m    310\u001b[0m \u001b[38;5;124;03m{valid_clr_desc}\"\"\"\u001b[39;00m\u001b[38;5;241m.\u001b[39mformat(\n\u001b[0;32m    311\u001b[0m                     name\u001b[38;5;241m=\u001b[39m\u001b[38;5;28mself\u001b[39m\u001b[38;5;241m.\u001b[39mplotly_name,\n\u001b[0;32m    312\u001b[0m                     pname\u001b[38;5;241m=\u001b[39m\u001b[38;5;28mself\u001b[39m\u001b[38;5;241m.\u001b[39mparent_name,\n\u001b[0;32m    313\u001b[0m                     invalid\u001b[38;5;241m=\u001b[39minvalid_els[:\u001b[38;5;241m10\u001b[39m],\n\u001b[0;32m    314\u001b[0m                     valid_clr_desc\u001b[38;5;241m=\u001b[39m\u001b[38;5;28mself\u001b[39m\u001b[38;5;241m.\u001b[39mdescription(),\n\u001b[0;32m    315\u001b[0m                 )\n\u001b[0;32m    316\u001b[0m             )\n",
      "\u001b[1;31mValueError\u001b[0m: \n    Invalid element(s) received for the 'size' property of scatter.marker\n        Invalid elements include: [-4.948583333333334]\n\n    The 'size' property is a number and may be specified as:\n      - An int or float in the interval [0, inf]\n      - A tuple, list, or one-dimensional numpy array of the above"
     ]
    }
   ],
   "source": [
    "col_name = str(\"AverageTemperature\") + \": above Average\"\n",
    "df[col_name] = (df[(\"AverageTemperature\")] > df[(\"AverageTemperature\")].mean())#.astype(int)\n",
    "\n",
    "    \n",
    "size = df[\"AverageTemperature\"]\n",
    "    \n",
    "fig = px.scatter(df, x=\"AverageTemperature\", y =\"GHG\", size=size, color=col_name,hover_name=df.index, log_x=False, trendline = \"ols\",  trendline_color_override=\"#bd3786\",marginal_x = \"box\",marginal_y = \"box\", template=\"simple_white\", color_discrete_sequence=px.colors.qualitative.G10)\n",
    "fig.show()"
   ]
  },
  {
   "cell_type": "code",
   "execution_count": 27,
   "id": "55b1239d",
   "metadata": {},
   "outputs": [],
   "source": [
    "def scatter_plot(df, x, y, size):\n",
    "    '''insert x and y as string while x entails color coding (abv avg...)'''\n",
    "    \n",
    "    # feature engineering\n",
    "    col_name = str(y) + \" above avg\"\n",
    "    df[col_name] = (df[y] > df[y].mean()).astype(int)\n",
    "    \n",
    "    size = df[size] * 1/4\n",
    "    \n",
    "    # plotting\n",
    "    fig = px.scatter(df, x=x, y =y, size=size, color_continuous_scale=px.colors.sequential.Plasma, color=col_name,hover_name=df.index, log_x=False, trendline = \"ols\",  trendline_color_override=\"#bd3786\",marginal_x = \"box\",marginal_y = \"box\", template=\"simple_white\")\n",
    "    fig.show()"
   ]
  },
  {
   "cell_type": "code",
   "execution_count": 28,
   "id": "eaee5521",
   "metadata": {},
   "outputs": [
    {
     "ename": "ValueError",
     "evalue": "\n    Invalid element(s) received for the 'size' property of scatter.marker\n        Invalid elements include: [-1.2371458333333334]\n\n    The 'size' property is a number and may be specified as:\n      - An int or float in the interval [0, inf]\n      - A tuple, list, or one-dimensional numpy array of the above",
     "output_type": "error",
     "traceback": [
      "\u001b[1;31m---------------------------------------------------------------------------\u001b[0m",
      "\u001b[1;31mValueError\u001b[0m                                Traceback (most recent call last)",
      "Input \u001b[1;32mIn [28]\u001b[0m, in \u001b[0;36m<cell line: 1>\u001b[1;34m()\u001b[0m\n\u001b[1;32m----> 1\u001b[0m \u001b[43mscatter_plot\u001b[49m\u001b[43m(\u001b[49m\u001b[43mdf\u001b[49m\u001b[43m \u001b[49m\u001b[43m,\u001b[49m\u001b[43m \u001b[49m\u001b[38;5;124;43m\"\u001b[39;49m\u001b[38;5;124;43mAverageTemperature\u001b[39;49m\u001b[38;5;124;43m\"\u001b[39;49m\u001b[43m,\u001b[49m\u001b[43m \u001b[49m\u001b[38;5;124;43m\"\u001b[39;49m\u001b[38;5;124;43mGHG\u001b[39;49m\u001b[38;5;124;43m\"\u001b[39;49m\u001b[43m,\u001b[49m\u001b[43m \u001b[49m\u001b[38;5;124;43m\"\u001b[39;49m\u001b[38;5;124;43mAverageTemperature\u001b[39;49m\u001b[38;5;124;43m\"\u001b[39;49m\u001b[43m)\u001b[49m\n",
      "Input \u001b[1;32mIn [27]\u001b[0m, in \u001b[0;36mscatter_plot\u001b[1;34m(df, x, y, size)\u001b[0m\n\u001b[0;32m      8\u001b[0m size \u001b[38;5;241m=\u001b[39m df[size] \u001b[38;5;241m*\u001b[39m \u001b[38;5;241m1\u001b[39m\u001b[38;5;241m/\u001b[39m\u001b[38;5;241m4\u001b[39m\n\u001b[0;32m     10\u001b[0m \u001b[38;5;66;03m# plotting\u001b[39;00m\n\u001b[1;32m---> 11\u001b[0m fig \u001b[38;5;241m=\u001b[39m \u001b[43mpx\u001b[49m\u001b[38;5;241;43m.\u001b[39;49m\u001b[43mscatter\u001b[49m\u001b[43m(\u001b[49m\u001b[43mdf\u001b[49m\u001b[43m,\u001b[49m\u001b[43m \u001b[49m\u001b[43mx\u001b[49m\u001b[38;5;241;43m=\u001b[39;49m\u001b[43mx\u001b[49m\u001b[43m,\u001b[49m\u001b[43m \u001b[49m\u001b[43my\u001b[49m\u001b[43m \u001b[49m\u001b[38;5;241;43m=\u001b[39;49m\u001b[43my\u001b[49m\u001b[43m,\u001b[49m\u001b[43m \u001b[49m\u001b[43msize\u001b[49m\u001b[38;5;241;43m=\u001b[39;49m\u001b[43msize\u001b[49m\u001b[43m,\u001b[49m\u001b[43m \u001b[49m\u001b[43mcolor_continuous_scale\u001b[49m\u001b[38;5;241;43m=\u001b[39;49m\u001b[43mpx\u001b[49m\u001b[38;5;241;43m.\u001b[39;49m\u001b[43mcolors\u001b[49m\u001b[38;5;241;43m.\u001b[39;49m\u001b[43msequential\u001b[49m\u001b[38;5;241;43m.\u001b[39;49m\u001b[43mPlasma\u001b[49m\u001b[43m,\u001b[49m\u001b[43m \u001b[49m\u001b[43mcolor\u001b[49m\u001b[38;5;241;43m=\u001b[39;49m\u001b[43mcol_name\u001b[49m\u001b[43m,\u001b[49m\u001b[43mhover_name\u001b[49m\u001b[38;5;241;43m=\u001b[39;49m\u001b[43mdf\u001b[49m\u001b[38;5;241;43m.\u001b[39;49m\u001b[43mindex\u001b[49m\u001b[43m,\u001b[49m\u001b[43m \u001b[49m\u001b[43mlog_x\u001b[49m\u001b[38;5;241;43m=\u001b[39;49m\u001b[38;5;28;43;01mFalse\u001b[39;49;00m\u001b[43m,\u001b[49m\u001b[43m \u001b[49m\u001b[43mtrendline\u001b[49m\u001b[43m \u001b[49m\u001b[38;5;241;43m=\u001b[39;49m\u001b[43m \u001b[49m\u001b[38;5;124;43m\"\u001b[39;49m\u001b[38;5;124;43mols\u001b[39;49m\u001b[38;5;124;43m\"\u001b[39;49m\u001b[43m,\u001b[49m\u001b[43m  \u001b[49m\u001b[43mtrendline_color_override\u001b[49m\u001b[38;5;241;43m=\u001b[39;49m\u001b[38;5;124;43m\"\u001b[39;49m\u001b[38;5;124;43m#bd3786\u001b[39;49m\u001b[38;5;124;43m\"\u001b[39;49m\u001b[43m,\u001b[49m\u001b[43mmarginal_x\u001b[49m\u001b[43m \u001b[49m\u001b[38;5;241;43m=\u001b[39;49m\u001b[43m \u001b[49m\u001b[38;5;124;43m\"\u001b[39;49m\u001b[38;5;124;43mbox\u001b[39;49m\u001b[38;5;124;43m\"\u001b[39;49m\u001b[43m,\u001b[49m\u001b[43mmarginal_y\u001b[49m\u001b[43m \u001b[49m\u001b[38;5;241;43m=\u001b[39;49m\u001b[43m \u001b[49m\u001b[38;5;124;43m\"\u001b[39;49m\u001b[38;5;124;43mbox\u001b[39;49m\u001b[38;5;124;43m\"\u001b[39;49m\u001b[43m,\u001b[49m\u001b[43m \u001b[49m\u001b[43mtemplate\u001b[49m\u001b[38;5;241;43m=\u001b[39;49m\u001b[38;5;124;43m\"\u001b[39;49m\u001b[38;5;124;43msimple_white\u001b[39;49m\u001b[38;5;124;43m\"\u001b[39;49m\u001b[43m)\u001b[49m\n\u001b[0;32m     12\u001b[0m fig\u001b[38;5;241m.\u001b[39mshow()\n",
      "File \u001b[1;32m~\\miniconda3\\envs\\data_vis\\lib\\site-packages\\plotly\\express\\_chart_types.py:66\u001b[0m, in \u001b[0;36mscatter\u001b[1;34m(data_frame, x, y, color, symbol, size, hover_name, hover_data, custom_data, text, facet_row, facet_col, facet_col_wrap, facet_row_spacing, facet_col_spacing, error_x, error_x_minus, error_y, error_y_minus, animation_frame, animation_group, category_orders, labels, orientation, color_discrete_sequence, color_discrete_map, color_continuous_scale, range_color, color_continuous_midpoint, symbol_sequence, symbol_map, opacity, size_max, marginal_x, marginal_y, trendline, trendline_options, trendline_color_override, trendline_scope, log_x, log_y, range_x, range_y, render_mode, title, template, width, height)\u001b[0m\n\u001b[0;32m     12\u001b[0m \u001b[38;5;28;01mdef\u001b[39;00m \u001b[38;5;21mscatter\u001b[39m(\n\u001b[0;32m     13\u001b[0m     data_frame\u001b[38;5;241m=\u001b[39m\u001b[38;5;28;01mNone\u001b[39;00m,\n\u001b[0;32m     14\u001b[0m     x\u001b[38;5;241m=\u001b[39m\u001b[38;5;28;01mNone\u001b[39;00m,\n\u001b[1;32m   (...)\u001b[0m\n\u001b[0;32m     60\u001b[0m     height\u001b[38;5;241m=\u001b[39m\u001b[38;5;28;01mNone\u001b[39;00m,\n\u001b[0;32m     61\u001b[0m ):\n\u001b[0;32m     62\u001b[0m     \u001b[38;5;124;03m\"\"\"\u001b[39;00m\n\u001b[0;32m     63\u001b[0m \u001b[38;5;124;03m    In a scatter plot, each row of `data_frame` is represented by a symbol\u001b[39;00m\n\u001b[0;32m     64\u001b[0m \u001b[38;5;124;03m    mark in 2D space.\u001b[39;00m\n\u001b[0;32m     65\u001b[0m \u001b[38;5;124;03m    \"\"\"\u001b[39;00m\n\u001b[1;32m---> 66\u001b[0m     \u001b[38;5;28;01mreturn\u001b[39;00m \u001b[43mmake_figure\u001b[49m\u001b[43m(\u001b[49m\u001b[43margs\u001b[49m\u001b[38;5;241;43m=\u001b[39;49m\u001b[38;5;28;43mlocals\u001b[39;49m\u001b[43m(\u001b[49m\u001b[43m)\u001b[49m\u001b[43m,\u001b[49m\u001b[43m \u001b[49m\u001b[43mconstructor\u001b[49m\u001b[38;5;241;43m=\u001b[39;49m\u001b[43mgo\u001b[49m\u001b[38;5;241;43m.\u001b[39;49m\u001b[43mScatter\u001b[49m\u001b[43m)\u001b[49m\n",
      "File \u001b[1;32m~\\miniconda3\\envs\\data_vis\\lib\\site-packages\\plotly\\express\\_core.py:2126\u001b[0m, in \u001b[0;36mmake_figure\u001b[1;34m(args, constructor, trace_patch, layout_patch)\u001b[0m\n\u001b[0;32m   2121\u001b[0m         group[var] \u001b[38;5;241m=\u001b[39m \u001b[38;5;241m100.0\u001b[39m \u001b[38;5;241m*\u001b[39m group[var] \u001b[38;5;241m/\u001b[39m group_sum\n\u001b[0;32m   2123\u001b[0m patch, fit_results \u001b[38;5;241m=\u001b[39m make_trace_kwargs(\n\u001b[0;32m   2124\u001b[0m     args, trace_spec, group, mapping_labels\u001b[38;5;241m.\u001b[39mcopy(), sizeref\n\u001b[0;32m   2125\u001b[0m )\n\u001b[1;32m-> 2126\u001b[0m \u001b[43mtrace\u001b[49m\u001b[38;5;241;43m.\u001b[39;49m\u001b[43mupdate\u001b[49m\u001b[43m(\u001b[49m\u001b[43mpatch\u001b[49m\u001b[43m)\u001b[49m\n\u001b[0;32m   2127\u001b[0m \u001b[38;5;28;01mif\u001b[39;00m fit_results \u001b[38;5;129;01mis\u001b[39;00m \u001b[38;5;129;01mnot\u001b[39;00m \u001b[38;5;28;01mNone\u001b[39;00m:\n\u001b[0;32m   2128\u001b[0m     trendline_rows\u001b[38;5;241m.\u001b[39mappend(mapping_labels\u001b[38;5;241m.\u001b[39mcopy())\n",
      "File \u001b[1;32m~\\miniconda3\\envs\\data_vis\\lib\\site-packages\\plotly\\basedatatypes.py:5092\u001b[0m, in \u001b[0;36mBasePlotlyType.update\u001b[1;34m(self, dict1, overwrite, **kwargs)\u001b[0m\n\u001b[0;32m   5090\u001b[0m         BaseFigure\u001b[38;5;241m.\u001b[39m_perform_update(\u001b[38;5;28mself\u001b[39m, kwargs, overwrite\u001b[38;5;241m=\u001b[39moverwrite)\n\u001b[0;32m   5091\u001b[0m \u001b[38;5;28;01melse\u001b[39;00m:\n\u001b[1;32m-> 5092\u001b[0m     \u001b[43mBaseFigure\u001b[49m\u001b[38;5;241;43m.\u001b[39;49m\u001b[43m_perform_update\u001b[49m\u001b[43m(\u001b[49m\u001b[38;5;28;43mself\u001b[39;49m\u001b[43m,\u001b[49m\u001b[43m \u001b[49m\u001b[43mdict1\u001b[49m\u001b[43m,\u001b[49m\u001b[43m \u001b[49m\u001b[43moverwrite\u001b[49m\u001b[38;5;241;43m=\u001b[39;49m\u001b[43moverwrite\u001b[49m\u001b[43m)\u001b[49m\n\u001b[0;32m   5093\u001b[0m     BaseFigure\u001b[38;5;241m.\u001b[39m_perform_update(\u001b[38;5;28mself\u001b[39m, kwargs, overwrite\u001b[38;5;241m=\u001b[39moverwrite)\n\u001b[0;32m   5095\u001b[0m \u001b[38;5;28;01mreturn\u001b[39;00m \u001b[38;5;28mself\u001b[39m\n",
      "File \u001b[1;32m~\\miniconda3\\envs\\data_vis\\lib\\site-packages\\plotly\\basedatatypes.py:3908\u001b[0m, in \u001b[0;36mBaseFigure._perform_update\u001b[1;34m(plotly_obj, update_obj, overwrite)\u001b[0m\n\u001b[0;32m   3902\u001b[0m validator \u001b[38;5;241m=\u001b[39m plotly_obj\u001b[38;5;241m.\u001b[39m_get_prop_validator(key)\n\u001b[0;32m   3904\u001b[0m \u001b[38;5;28;01mif\u001b[39;00m \u001b[38;5;28misinstance\u001b[39m(validator, CompoundValidator) \u001b[38;5;129;01mand\u001b[39;00m \u001b[38;5;28misinstance\u001b[39m(val, \u001b[38;5;28mdict\u001b[39m):\n\u001b[0;32m   3905\u001b[0m \n\u001b[0;32m   3906\u001b[0m     \u001b[38;5;66;03m# Update compound objects recursively\u001b[39;00m\n\u001b[0;32m   3907\u001b[0m     \u001b[38;5;66;03m# plotly_obj[key].update(val)\u001b[39;00m\n\u001b[1;32m-> 3908\u001b[0m     \u001b[43mBaseFigure\u001b[49m\u001b[38;5;241;43m.\u001b[39;49m\u001b[43m_perform_update\u001b[49m\u001b[43m(\u001b[49m\u001b[43mplotly_obj\u001b[49m\u001b[43m[\u001b[49m\u001b[43mkey\u001b[49m\u001b[43m]\u001b[49m\u001b[43m,\u001b[49m\u001b[43m \u001b[49m\u001b[43mval\u001b[49m\u001b[43m)\u001b[49m\n\u001b[0;32m   3909\u001b[0m \u001b[38;5;28;01melif\u001b[39;00m \u001b[38;5;28misinstance\u001b[39m(validator, CompoundArrayValidator):\n\u001b[0;32m   3910\u001b[0m     \u001b[38;5;28;01mif\u001b[39;00m plotly_obj[key]:\n\u001b[0;32m   3911\u001b[0m         \u001b[38;5;66;03m# plotly_obj has an existing non-empty array for key\u001b[39;00m\n\u001b[0;32m   3912\u001b[0m         \u001b[38;5;66;03m# In this case we merge val into the existing elements\u001b[39;00m\n",
      "File \u001b[1;32m~\\miniconda3\\envs\\data_vis\\lib\\site-packages\\plotly\\basedatatypes.py:3929\u001b[0m, in \u001b[0;36mBaseFigure._perform_update\u001b[1;34m(plotly_obj, update_obj, overwrite)\u001b[0m\n\u001b[0;32m   3926\u001b[0m                 plotly_obj[key] \u001b[38;5;241m=\u001b[39m val\n\u001b[0;32m   3927\u001b[0m         \u001b[38;5;28;01melse\u001b[39;00m:\n\u001b[0;32m   3928\u001b[0m             \u001b[38;5;66;03m# Assign non-compound value\u001b[39;00m\n\u001b[1;32m-> 3929\u001b[0m             plotly_obj[key] \u001b[38;5;241m=\u001b[39m val\n\u001b[0;32m   3931\u001b[0m \u001b[38;5;28;01melif\u001b[39;00m \u001b[38;5;28misinstance\u001b[39m(plotly_obj, \u001b[38;5;28mtuple\u001b[39m):\n\u001b[0;32m   3933\u001b[0m     \u001b[38;5;28;01mif\u001b[39;00m \u001b[38;5;28mlen\u001b[39m(update_obj) \u001b[38;5;241m==\u001b[39m \u001b[38;5;241m0\u001b[39m:\n\u001b[0;32m   3934\u001b[0m         \u001b[38;5;66;03m# Nothing to do\u001b[39;00m\n",
      "File \u001b[1;32m~\\miniconda3\\envs\\data_vis\\lib\\site-packages\\plotly\\basedatatypes.py:4827\u001b[0m, in \u001b[0;36mBasePlotlyType.__setitem__\u001b[1;34m(self, prop, value)\u001b[0m\n\u001b[0;32m   4823\u001b[0m         \u001b[38;5;28mself\u001b[39m\u001b[38;5;241m.\u001b[39m_set_array_prop(prop, value)\n\u001b[0;32m   4825\u001b[0m     \u001b[38;5;66;03m# ### Handle simple property ###\u001b[39;00m\n\u001b[0;32m   4826\u001b[0m     \u001b[38;5;28;01melse\u001b[39;00m:\n\u001b[1;32m-> 4827\u001b[0m         \u001b[38;5;28;43mself\u001b[39;49m\u001b[38;5;241;43m.\u001b[39;49m\u001b[43m_set_prop\u001b[49m\u001b[43m(\u001b[49m\u001b[43mprop\u001b[49m\u001b[43m,\u001b[49m\u001b[43m \u001b[49m\u001b[43mvalue\u001b[49m\u001b[43m)\u001b[49m\n\u001b[0;32m   4828\u001b[0m \u001b[38;5;28;01melse\u001b[39;00m:\n\u001b[0;32m   4829\u001b[0m     \u001b[38;5;66;03m# Make sure properties dict is initialized\u001b[39;00m\n\u001b[0;32m   4830\u001b[0m     \u001b[38;5;28mself\u001b[39m\u001b[38;5;241m.\u001b[39m_init_props()\n",
      "File \u001b[1;32m~\\miniconda3\\envs\\data_vis\\lib\\site-packages\\plotly\\basedatatypes.py:5171\u001b[0m, in \u001b[0;36mBasePlotlyType._set_prop\u001b[1;34m(self, prop, val)\u001b[0m\n\u001b[0;32m   5169\u001b[0m         \u001b[38;5;28;01mreturn\u001b[39;00m\n\u001b[0;32m   5170\u001b[0m     \u001b[38;5;28;01melse\u001b[39;00m:\n\u001b[1;32m-> 5171\u001b[0m         \u001b[38;5;28;01mraise\u001b[39;00m err\n\u001b[0;32m   5173\u001b[0m \u001b[38;5;66;03m# val is None\u001b[39;00m\n\u001b[0;32m   5174\u001b[0m \u001b[38;5;66;03m# -----------\u001b[39;00m\n\u001b[0;32m   5175\u001b[0m \u001b[38;5;28;01mif\u001b[39;00m val \u001b[38;5;129;01mis\u001b[39;00m \u001b[38;5;28;01mNone\u001b[39;00m:\n\u001b[0;32m   5176\u001b[0m     \u001b[38;5;66;03m# Check if we should send null update\u001b[39;00m\n",
      "File \u001b[1;32m~\\miniconda3\\envs\\data_vis\\lib\\site-packages\\plotly\\basedatatypes.py:5166\u001b[0m, in \u001b[0;36mBasePlotlyType._set_prop\u001b[1;34m(self, prop, val)\u001b[0m\n\u001b[0;32m   5163\u001b[0m validator \u001b[38;5;241m=\u001b[39m \u001b[38;5;28mself\u001b[39m\u001b[38;5;241m.\u001b[39m_get_validator(prop)\n\u001b[0;32m   5165\u001b[0m \u001b[38;5;28;01mtry\u001b[39;00m:\n\u001b[1;32m-> 5166\u001b[0m     val \u001b[38;5;241m=\u001b[39m \u001b[43mvalidator\u001b[49m\u001b[38;5;241;43m.\u001b[39;49m\u001b[43mvalidate_coerce\u001b[49m\u001b[43m(\u001b[49m\u001b[43mval\u001b[49m\u001b[43m)\u001b[49m\n\u001b[0;32m   5167\u001b[0m \u001b[38;5;28;01mexcept\u001b[39;00m \u001b[38;5;167;01mValueError\u001b[39;00m \u001b[38;5;28;01mas\u001b[39;00m err:\n\u001b[0;32m   5168\u001b[0m     \u001b[38;5;28;01mif\u001b[39;00m \u001b[38;5;28mself\u001b[39m\u001b[38;5;241m.\u001b[39m_skip_invalid:\n",
      "File \u001b[1;32m~\\miniconda3\\envs\\data_vis\\lib\\site-packages\\_plotly_utils\\basevalidators.py:785\u001b[0m, in \u001b[0;36mNumberValidator.validate_coerce\u001b[1;34m(self, v)\u001b[0m\n\u001b[0;32m    780\u001b[0m             v_invalid \u001b[38;5;241m=\u001b[39m np\u001b[38;5;241m.\u001b[39mlogical_not(v_valid)\n\u001b[0;32m    781\u001b[0m             some_invalid_els \u001b[38;5;241m=\u001b[39m np\u001b[38;5;241m.\u001b[39marray(v, dtype\u001b[38;5;241m=\u001b[39m\u001b[38;5;124m\"\u001b[39m\u001b[38;5;124mobject\u001b[39m\u001b[38;5;124m\"\u001b[39m)[v_invalid][\n\u001b[0;32m    782\u001b[0m                 :\u001b[38;5;241m10\u001b[39m\n\u001b[0;32m    783\u001b[0m             ]\u001b[38;5;241m.\u001b[39mtolist()\n\u001b[1;32m--> 785\u001b[0m             \u001b[38;5;28;43mself\u001b[39;49m\u001b[38;5;241;43m.\u001b[39;49m\u001b[43mraise_invalid_elements\u001b[49m\u001b[43m(\u001b[49m\u001b[43msome_invalid_els\u001b[49m\u001b[43m)\u001b[49m\n\u001b[0;32m    787\u001b[0m     v \u001b[38;5;241m=\u001b[39m v_array  \u001b[38;5;66;03m# Always numeric numpy array\u001b[39;00m\n\u001b[0;32m    788\u001b[0m \u001b[38;5;28;01melif\u001b[39;00m \u001b[38;5;28mself\u001b[39m\u001b[38;5;241m.\u001b[39marray_ok \u001b[38;5;129;01mand\u001b[39;00m is_simple_array(v):\n\u001b[0;32m    789\u001b[0m     \u001b[38;5;66;03m# Check numeric\u001b[39;00m\n",
      "File \u001b[1;32m~\\miniconda3\\envs\\data_vis\\lib\\site-packages\\_plotly_utils\\basevalidators.py:305\u001b[0m, in \u001b[0;36mBaseValidator.raise_invalid_elements\u001b[1;34m(self, invalid_els)\u001b[0m\n\u001b[0;32m    303\u001b[0m     \u001b[38;5;28;01mdef\u001b[39;00m \u001b[38;5;21mraise_invalid_elements\u001b[39m(\u001b[38;5;28mself\u001b[39m, invalid_els):\n\u001b[0;32m    304\u001b[0m         \u001b[38;5;28;01mif\u001b[39;00m invalid_els:\n\u001b[1;32m--> 305\u001b[0m             \u001b[38;5;28;01mraise\u001b[39;00m \u001b[38;5;167;01mValueError\u001b[39;00m(\n\u001b[0;32m    306\u001b[0m                 \u001b[38;5;124;03m\"\"\"\u001b[39;00m\n\u001b[0;32m    307\u001b[0m \u001b[38;5;124;03m    Invalid element(s) received for the '{name}' property of {pname}\u001b[39;00m\n\u001b[0;32m    308\u001b[0m \u001b[38;5;124;03m        Invalid elements include: {invalid}\u001b[39;00m\n\u001b[0;32m    309\u001b[0m \n\u001b[0;32m    310\u001b[0m \u001b[38;5;124;03m{valid_clr_desc}\"\"\"\u001b[39;00m\u001b[38;5;241m.\u001b[39mformat(\n\u001b[0;32m    311\u001b[0m                     name\u001b[38;5;241m=\u001b[39m\u001b[38;5;28mself\u001b[39m\u001b[38;5;241m.\u001b[39mplotly_name,\n\u001b[0;32m    312\u001b[0m                     pname\u001b[38;5;241m=\u001b[39m\u001b[38;5;28mself\u001b[39m\u001b[38;5;241m.\u001b[39mparent_name,\n\u001b[0;32m    313\u001b[0m                     invalid\u001b[38;5;241m=\u001b[39minvalid_els[:\u001b[38;5;241m10\u001b[39m],\n\u001b[0;32m    314\u001b[0m                     valid_clr_desc\u001b[38;5;241m=\u001b[39m\u001b[38;5;28mself\u001b[39m\u001b[38;5;241m.\u001b[39mdescription(),\n\u001b[0;32m    315\u001b[0m                 )\n\u001b[0;32m    316\u001b[0m             )\n",
      "\u001b[1;31mValueError\u001b[0m: \n    Invalid element(s) received for the 'size' property of scatter.marker\n        Invalid elements include: [-1.2371458333333334]\n\n    The 'size' property is a number and may be specified as:\n      - An int or float in the interval [0, inf]\n      - A tuple, list, or one-dimensional numpy array of the above"
     ]
    }
   ],
   "source": [
    "scatter_plot(df , \"AverageTemperature\", \"GHG\", \"AverageTemperature\")"
   ]
  },
  {
   "cell_type": "code",
   "execution_count": 29,
   "id": "e9550e7e",
   "metadata": {},
   "outputs": [
    {
     "data": {
      "application/vnd.plotly.v1+json": {
       "config": {
        "plotlyServerURL": "https://plot.ly"
       },
       "data": [
        {
         "marker": {
          "color": "#0d0887"
         },
         "name": "GHG EMission",
         "type": "bar",
         "x": [
          "AFGHANISTAN",
          "ALBANIA",
          "ALGERIA",
          "ARGENTINA",
          "AUSTRALIA",
          "AUSTRIA",
          "BAHRAIN",
          "BARBADOS",
          "BELGIUM",
          "BOLIVIA",
          "BRAZIL",
          "BULGARIA",
          "CANADA",
          "CHILE",
          "CHINA",
          "COLOMBIA",
          "CUBA",
          "DEM. REP. KOREA",
          "DENMARK",
          "DOMINICAN REPUBLIC",
          "ECUADOR",
          "EGYPT",
          "ERITREA",
          "ESTONIA",
          "ETHIOPIA",
          "FINLAND",
          "FRANCE",
          "GERMANY",
          "GREECE",
          "GUATEMALA",
          "HONG KONG",
          "HUNGARY",
          "ICELAND",
          "INDIA",
          "INDONESIA",
          "IRAN",
          "IRAQ",
          "IRELAND",
          "ISRAEL",
          "ITALY",
          "JAPAN",
          "KUWAIT",
          "LATVIA",
          "LEBANON",
          "LUXEMBOURG",
          "MADAGASCAR",
          "MALAYSIA",
          "MEXICO",
          "MOROCCO",
          "MOZAMBIQUE",
          "MYANMAR",
          "NETHERLANDS",
          "NEW ZEALAND",
          "NICARAGUA",
          "NIGERIA",
          "NORWAY",
          "PANAMA",
          "PERU",
          "PHILIPPINES",
          "POLAND",
          "PORTUGAL",
          "QATAR",
          "REPUBLIC OF KOREA",
          "ROMANIA",
          "SAUDI ARABIA",
          "SOUTH AFRICA",
          "SPAIN",
          "SWEDEN",
          "SWITZERLAND",
          "SYRIA",
          "TAIWAN",
          "THAILAND",
          "TRINIDAD AND TOBAGO",
          "TUNISIA",
          "TURKEY",
          "UNITED KINGDOM",
          "UNITED STATES",
          "URUGUAY",
          "VENEZUELA",
          "VIETNAM",
          "ZIMBABWE"
         ],
         "y": [
          9.592605086913911,
          15.784967576388784,
          15.803707046006815,
          20.08107676980715,
          20.97430792058933,
          21.2208282794972,
          17.646253744145152,
          10.69121737558202,
          22.25498961859955,
          14.572781173525458,
          19.27723675792811,
          18.532775811522946,
          22.193947713072166,
          19.087616753495507,
          21.30706019652562,
          18.03394262602661,
          13.971501828578866,
          15.038264291359877,
          20.328164455419742,
          10.914360926896231,
          16.877768876221687,
          17.982078536727776,
          11.150749704960461,
          12.625151333590619,
          10.604205998592391,
          18.57877012547175,
          23.181332039096855,
          24.07943060240522,
          17.87824445965597,
          11.7028182872605,
          12.380697995689658,
          20.442349857441666,
          12.05645832750408,
          21.47843631060827,
          20.166374131327395,
          20.59174638928828,
          18.676077530281106,
          19.23056337163939,
          14.288529636170468,
          21.22425536615002,
          22.11325304311299,
          16.17670563298545,
          13.111585504232451,
          14.05563550574088,
          12.28384816969974,
          10.40353530313024,
          18.00087587110596,
          20.918170322271962,
          15.928545470503629,
          13.879633992965513,
          17.63602756251517,
          21.32429452683904,
          19.320443770674036,
          10.69121737558202,
          17.207287169864365,
          19.830822287216268,
          10.771260083255557,
          19.059639833715387,
          14.981676816730412,
          22.419676174144847,
          19.13752304465051,
          12.468990602835337,
          15.471040903723889,
          20.363838926963176,
          18.61154279335995,
          21.08232077684655,
          20.848629835021793,
          20.623304532612508,
          19.953272203244882,
          13.203522999558135,
          18.853139399209343,
          13.268905758820988,
          19.060200539833072,
          14.177572565584484,
          18.976667646870585,
          24.37778684647327,
          25.214940517211346,
          14.30886932040759,
          19.47060815090865,
          18.71345829238856,
          18.354468460188638
         ]
        },
        {
         "marker": {
          "color": "#fdca26"
         },
         "name": "Average Temperature",
         "type": "bar",
         "x": [
          "AFGHANISTAN",
          "ALBANIA",
          "ALGERIA",
          "ARGENTINA",
          "AUSTRALIA",
          "AUSTRIA",
          "BAHRAIN",
          "BARBADOS",
          "BELGIUM",
          "BOLIVIA",
          "BRAZIL",
          "BULGARIA",
          "CANADA",
          "CHILE",
          "CHINA",
          "COLOMBIA",
          "CUBA",
          "DEM. REP. KOREA",
          "DENMARK",
          "DOMINICAN REPUBLIC",
          "ECUADOR",
          "EGYPT",
          "ERITREA",
          "ESTONIA",
          "ETHIOPIA",
          "FINLAND",
          "FRANCE",
          "GERMANY",
          "GREECE",
          "GUATEMALA",
          "HONG KONG",
          "HUNGARY",
          "ICELAND",
          "INDIA",
          "INDONESIA",
          "IRAN",
          "IRAQ",
          "IRELAND",
          "ISRAEL",
          "ITALY",
          "JAPAN",
          "KUWAIT",
          "LATVIA",
          "LEBANON",
          "LUXEMBOURG",
          "MADAGASCAR",
          "MALAYSIA",
          "MEXICO",
          "MOROCCO",
          "MOZAMBIQUE",
          "MYANMAR",
          "NETHERLANDS",
          "NEW ZEALAND",
          "NICARAGUA",
          "NIGERIA",
          "NORWAY",
          "PANAMA",
          "PERU",
          "PHILIPPINES",
          "POLAND",
          "PORTUGAL",
          "QATAR",
          "REPUBLIC OF KOREA",
          "ROMANIA",
          "SAUDI ARABIA",
          "SOUTH AFRICA",
          "SPAIN",
          "SWEDEN",
          "SWITZERLAND",
          "SYRIA",
          "TAIWAN",
          "THAILAND",
          "TRINIDAD AND TOBAGO",
          "TUNISIA",
          "TURKEY",
          "UNITED KINGDOM",
          "UNITED STATES",
          "URUGUAY",
          "VENEZUELA",
          "VIETNAM",
          "ZIMBABWE"
         ],
         "y": [
          13.350083333333332,
          12.51825,
          23.18816666666667,
          14.771333333333333,
          20.984916666666667,
          6.962833333333333,
          25.39675,
          26.32541666666667,
          10.454583333333334,
          20.777916666666663,
          24.61683333333333,
          10.300416666666663,
          -4.948583333333334,
          9.369166666666668,
          6.9755,
          24.75358333333333,
          25.681833333333334,
          7.137250000000001,
          9.236916666666668,
          25.585083333333333,
          21.73033333333333,
          21.8925,
          26.69141666666667,
          6.746416666666666,
          22.93675,
          3.045916666666667,
          11.525916666666667,
          9.1765,
          14.381749999999998,
          23.374166666666667,
          23.27308333333333,
          10.288833333333336,
          1.248333333333333,
          24.04725,
          25.757583333333333,
          16.7755,
          21.055,
          10.576583333333334,
          18.87708333333333,
          13.354666666666668,
          12.102583333333332,
          24.63525,
          7.181750000000001,
          17.01975,
          10.12075,
          22.98858333333333,
          25.980416666666667,
          20.916083333333336,
          18.15033333333333,
          23.79833333333333,
          23.7055,
          10.1195,
          10.464666666666666,
          25.78483333333333,
          27.0685,
          1.2173333333333334,
          26.09858333333333,
          19.85141666666667,
          26.55316666666667,
          8.606333333333334,
          15.758666666666668,
          26.396,
          12.057833333333331,
          8.988166666666666,
          25.0955,
          17.666999999999998,
          14.510083333333334,
          4.023333333333333,
          7.995833333333334,
          17.2775,
          22.36491666666667,
          26.249583333333334,
          26.09991666666667,
          20.146,
          10.961,
          9.814333333333332,
          8.888083333333332,
          17.28925,
          24.96366666666667,
          24.04433333333333,
          21.535083333333333
         ]
        }
       ],
       "layout": {
        "template": {
         "data": {
          "bar": [
           {
            "error_x": {
             "color": "#2a3f5f"
            },
            "error_y": {
             "color": "#2a3f5f"
            },
            "marker": {
             "line": {
              "color": "#E5ECF6",
              "width": 0.5
             },
             "pattern": {
              "fillmode": "overlay",
              "size": 10,
              "solidity": 0.2
             }
            },
            "type": "bar"
           }
          ],
          "barpolar": [
           {
            "marker": {
             "line": {
              "color": "#E5ECF6",
              "width": 0.5
             },
             "pattern": {
              "fillmode": "overlay",
              "size": 10,
              "solidity": 0.2
             }
            },
            "type": "barpolar"
           }
          ],
          "carpet": [
           {
            "aaxis": {
             "endlinecolor": "#2a3f5f",
             "gridcolor": "white",
             "linecolor": "white",
             "minorgridcolor": "white",
             "startlinecolor": "#2a3f5f"
            },
            "baxis": {
             "endlinecolor": "#2a3f5f",
             "gridcolor": "white",
             "linecolor": "white",
             "minorgridcolor": "white",
             "startlinecolor": "#2a3f5f"
            },
            "type": "carpet"
           }
          ],
          "choropleth": [
           {
            "colorbar": {
             "outlinewidth": 0,
             "ticks": ""
            },
            "type": "choropleth"
           }
          ],
          "contour": [
           {
            "colorbar": {
             "outlinewidth": 0,
             "ticks": ""
            },
            "colorscale": [
             [
              0,
              "#0d0887"
             ],
             [
              0.1111111111111111,
              "#46039f"
             ],
             [
              0.2222222222222222,
              "#7201a8"
             ],
             [
              0.3333333333333333,
              "#9c179e"
             ],
             [
              0.4444444444444444,
              "#bd3786"
             ],
             [
              0.5555555555555556,
              "#d8576b"
             ],
             [
              0.6666666666666666,
              "#ed7953"
             ],
             [
              0.7777777777777778,
              "#fb9f3a"
             ],
             [
              0.8888888888888888,
              "#fdca26"
             ],
             [
              1,
              "#f0f921"
             ]
            ],
            "type": "contour"
           }
          ],
          "contourcarpet": [
           {
            "colorbar": {
             "outlinewidth": 0,
             "ticks": ""
            },
            "type": "contourcarpet"
           }
          ],
          "heatmap": [
           {
            "colorbar": {
             "outlinewidth": 0,
             "ticks": ""
            },
            "colorscale": [
             [
              0,
              "#0d0887"
             ],
             [
              0.1111111111111111,
              "#46039f"
             ],
             [
              0.2222222222222222,
              "#7201a8"
             ],
             [
              0.3333333333333333,
              "#9c179e"
             ],
             [
              0.4444444444444444,
              "#bd3786"
             ],
             [
              0.5555555555555556,
              "#d8576b"
             ],
             [
              0.6666666666666666,
              "#ed7953"
             ],
             [
              0.7777777777777778,
              "#fb9f3a"
             ],
             [
              0.8888888888888888,
              "#fdca26"
             ],
             [
              1,
              "#f0f921"
             ]
            ],
            "type": "heatmap"
           }
          ],
          "heatmapgl": [
           {
            "colorbar": {
             "outlinewidth": 0,
             "ticks": ""
            },
            "colorscale": [
             [
              0,
              "#0d0887"
             ],
             [
              0.1111111111111111,
              "#46039f"
             ],
             [
              0.2222222222222222,
              "#7201a8"
             ],
             [
              0.3333333333333333,
              "#9c179e"
             ],
             [
              0.4444444444444444,
              "#bd3786"
             ],
             [
              0.5555555555555556,
              "#d8576b"
             ],
             [
              0.6666666666666666,
              "#ed7953"
             ],
             [
              0.7777777777777778,
              "#fb9f3a"
             ],
             [
              0.8888888888888888,
              "#fdca26"
             ],
             [
              1,
              "#f0f921"
             ]
            ],
            "type": "heatmapgl"
           }
          ],
          "histogram": [
           {
            "marker": {
             "pattern": {
              "fillmode": "overlay",
              "size": 10,
              "solidity": 0.2
             }
            },
            "type": "histogram"
           }
          ],
          "histogram2d": [
           {
            "colorbar": {
             "outlinewidth": 0,
             "ticks": ""
            },
            "colorscale": [
             [
              0,
              "#0d0887"
             ],
             [
              0.1111111111111111,
              "#46039f"
             ],
             [
              0.2222222222222222,
              "#7201a8"
             ],
             [
              0.3333333333333333,
              "#9c179e"
             ],
             [
              0.4444444444444444,
              "#bd3786"
             ],
             [
              0.5555555555555556,
              "#d8576b"
             ],
             [
              0.6666666666666666,
              "#ed7953"
             ],
             [
              0.7777777777777778,
              "#fb9f3a"
             ],
             [
              0.8888888888888888,
              "#fdca26"
             ],
             [
              1,
              "#f0f921"
             ]
            ],
            "type": "histogram2d"
           }
          ],
          "histogram2dcontour": [
           {
            "colorbar": {
             "outlinewidth": 0,
             "ticks": ""
            },
            "colorscale": [
             [
              0,
              "#0d0887"
             ],
             [
              0.1111111111111111,
              "#46039f"
             ],
             [
              0.2222222222222222,
              "#7201a8"
             ],
             [
              0.3333333333333333,
              "#9c179e"
             ],
             [
              0.4444444444444444,
              "#bd3786"
             ],
             [
              0.5555555555555556,
              "#d8576b"
             ],
             [
              0.6666666666666666,
              "#ed7953"
             ],
             [
              0.7777777777777778,
              "#fb9f3a"
             ],
             [
              0.8888888888888888,
              "#fdca26"
             ],
             [
              1,
              "#f0f921"
             ]
            ],
            "type": "histogram2dcontour"
           }
          ],
          "mesh3d": [
           {
            "colorbar": {
             "outlinewidth": 0,
             "ticks": ""
            },
            "type": "mesh3d"
           }
          ],
          "parcoords": [
           {
            "line": {
             "colorbar": {
              "outlinewidth": 0,
              "ticks": ""
             }
            },
            "type": "parcoords"
           }
          ],
          "pie": [
           {
            "automargin": true,
            "type": "pie"
           }
          ],
          "scatter": [
           {
            "marker": {
             "colorbar": {
              "outlinewidth": 0,
              "ticks": ""
             }
            },
            "type": "scatter"
           }
          ],
          "scatter3d": [
           {
            "line": {
             "colorbar": {
              "outlinewidth": 0,
              "ticks": ""
             }
            },
            "marker": {
             "colorbar": {
              "outlinewidth": 0,
              "ticks": ""
             }
            },
            "type": "scatter3d"
           }
          ],
          "scattercarpet": [
           {
            "marker": {
             "colorbar": {
              "outlinewidth": 0,
              "ticks": ""
             }
            },
            "type": "scattercarpet"
           }
          ],
          "scattergeo": [
           {
            "marker": {
             "colorbar": {
              "outlinewidth": 0,
              "ticks": ""
             }
            },
            "type": "scattergeo"
           }
          ],
          "scattergl": [
           {
            "marker": {
             "colorbar": {
              "outlinewidth": 0,
              "ticks": ""
             }
            },
            "type": "scattergl"
           }
          ],
          "scattermapbox": [
           {
            "marker": {
             "colorbar": {
              "outlinewidth": 0,
              "ticks": ""
             }
            },
            "type": "scattermapbox"
           }
          ],
          "scatterpolar": [
           {
            "marker": {
             "colorbar": {
              "outlinewidth": 0,
              "ticks": ""
             }
            },
            "type": "scatterpolar"
           }
          ],
          "scatterpolargl": [
           {
            "marker": {
             "colorbar": {
              "outlinewidth": 0,
              "ticks": ""
             }
            },
            "type": "scatterpolargl"
           }
          ],
          "scatterternary": [
           {
            "marker": {
             "colorbar": {
              "outlinewidth": 0,
              "ticks": ""
             }
            },
            "type": "scatterternary"
           }
          ],
          "surface": [
           {
            "colorbar": {
             "outlinewidth": 0,
             "ticks": ""
            },
            "colorscale": [
             [
              0,
              "#0d0887"
             ],
             [
              0.1111111111111111,
              "#46039f"
             ],
             [
              0.2222222222222222,
              "#7201a8"
             ],
             [
              0.3333333333333333,
              "#9c179e"
             ],
             [
              0.4444444444444444,
              "#bd3786"
             ],
             [
              0.5555555555555556,
              "#d8576b"
             ],
             [
              0.6666666666666666,
              "#ed7953"
             ],
             [
              0.7777777777777778,
              "#fb9f3a"
             ],
             [
              0.8888888888888888,
              "#fdca26"
             ],
             [
              1,
              "#f0f921"
             ]
            ],
            "type": "surface"
           }
          ],
          "table": [
           {
            "cells": {
             "fill": {
              "color": "#EBF0F8"
             },
             "line": {
              "color": "white"
             }
            },
            "header": {
             "fill": {
              "color": "#C8D4E3"
             },
             "line": {
              "color": "white"
             }
            },
            "type": "table"
           }
          ]
         },
         "layout": {
          "annotationdefaults": {
           "arrowcolor": "#2a3f5f",
           "arrowhead": 0,
           "arrowwidth": 1
          },
          "autotypenumbers": "strict",
          "coloraxis": {
           "colorbar": {
            "outlinewidth": 0,
            "ticks": ""
           }
          },
          "colorscale": {
           "diverging": [
            [
             0,
             "#8e0152"
            ],
            [
             0.1,
             "#c51b7d"
            ],
            [
             0.2,
             "#de77ae"
            ],
            [
             0.3,
             "#f1b6da"
            ],
            [
             0.4,
             "#fde0ef"
            ],
            [
             0.5,
             "#f7f7f7"
            ],
            [
             0.6,
             "#e6f5d0"
            ],
            [
             0.7,
             "#b8e186"
            ],
            [
             0.8,
             "#7fbc41"
            ],
            [
             0.9,
             "#4d9221"
            ],
            [
             1,
             "#276419"
            ]
           ],
           "sequential": [
            [
             0,
             "#0d0887"
            ],
            [
             0.1111111111111111,
             "#46039f"
            ],
            [
             0.2222222222222222,
             "#7201a8"
            ],
            [
             0.3333333333333333,
             "#9c179e"
            ],
            [
             0.4444444444444444,
             "#bd3786"
            ],
            [
             0.5555555555555556,
             "#d8576b"
            ],
            [
             0.6666666666666666,
             "#ed7953"
            ],
            [
             0.7777777777777778,
             "#fb9f3a"
            ],
            [
             0.8888888888888888,
             "#fdca26"
            ],
            [
             1,
             "#f0f921"
            ]
           ],
           "sequentialminus": [
            [
             0,
             "#0d0887"
            ],
            [
             0.1111111111111111,
             "#46039f"
            ],
            [
             0.2222222222222222,
             "#7201a8"
            ],
            [
             0.3333333333333333,
             "#9c179e"
            ],
            [
             0.4444444444444444,
             "#bd3786"
            ],
            [
             0.5555555555555556,
             "#d8576b"
            ],
            [
             0.6666666666666666,
             "#ed7953"
            ],
            [
             0.7777777777777778,
             "#fb9f3a"
            ],
            [
             0.8888888888888888,
             "#fdca26"
            ],
            [
             1,
             "#f0f921"
            ]
           ]
          },
          "colorway": [
           "#636efa",
           "#EF553B",
           "#00cc96",
           "#ab63fa",
           "#FFA15A",
           "#19d3f3",
           "#FF6692",
           "#B6E880",
           "#FF97FF",
           "#FECB52"
          ],
          "font": {
           "color": "#2a3f5f"
          },
          "geo": {
           "bgcolor": "white",
           "lakecolor": "white",
           "landcolor": "#E5ECF6",
           "showlakes": true,
           "showland": true,
           "subunitcolor": "white"
          },
          "hoverlabel": {
           "align": "left"
          },
          "hovermode": "closest",
          "mapbox": {
           "style": "light"
          },
          "paper_bgcolor": "white",
          "plot_bgcolor": "#E5ECF6",
          "polar": {
           "angularaxis": {
            "gridcolor": "white",
            "linecolor": "white",
            "ticks": ""
           },
           "bgcolor": "#E5ECF6",
           "radialaxis": {
            "gridcolor": "white",
            "linecolor": "white",
            "ticks": ""
           }
          },
          "scene": {
           "xaxis": {
            "backgroundcolor": "#E5ECF6",
            "gridcolor": "white",
            "gridwidth": 2,
            "linecolor": "white",
            "showbackground": true,
            "ticks": "",
            "zerolinecolor": "white"
           },
           "yaxis": {
            "backgroundcolor": "#E5ECF6",
            "gridcolor": "white",
            "gridwidth": 2,
            "linecolor": "white",
            "showbackground": true,
            "ticks": "",
            "zerolinecolor": "white"
           },
           "zaxis": {
            "backgroundcolor": "#E5ECF6",
            "gridcolor": "white",
            "gridwidth": 2,
            "linecolor": "white",
            "showbackground": true,
            "ticks": "",
            "zerolinecolor": "white"
           }
          },
          "shapedefaults": {
           "line": {
            "color": "#2a3f5f"
           }
          },
          "ternary": {
           "aaxis": {
            "gridcolor": "white",
            "linecolor": "white",
            "ticks": ""
           },
           "baxis": {
            "gridcolor": "white",
            "linecolor": "white",
            "ticks": ""
           },
           "bgcolor": "#E5ECF6",
           "caxis": {
            "gridcolor": "white",
            "linecolor": "white",
            "ticks": ""
           }
          },
          "title": {
           "x": 0.05
          },
          "xaxis": {
           "automargin": true,
           "gridcolor": "white",
           "linecolor": "white",
           "ticks": "",
           "title": {
            "standoff": 15
           },
           "zerolinecolor": "white",
           "zerolinewidth": 2
          },
          "yaxis": {
           "automargin": true,
           "gridcolor": "white",
           "linecolor": "white",
           "ticks": "",
           "title": {
            "standoff": 15
           },
           "zerolinecolor": "white",
           "zerolinewidth": 2
          }
         }
        }
       }
      },
      "text/html": [
       "<div>                            <div id=\"24f89ed3-ce64-474f-bcec-5dca77c17ecc\" class=\"plotly-graph-div\" style=\"height:525px; width:100%;\"></div>            <script type=\"text/javascript\">                require([\"plotly\"], function(Plotly) {                    window.PLOTLYENV=window.PLOTLYENV || {};                                    if (document.getElementById(\"24f89ed3-ce64-474f-bcec-5dca77c17ecc\")) {                    Plotly.newPlot(                        \"24f89ed3-ce64-474f-bcec-5dca77c17ecc\",                        [{\"marker\":{\"color\":\"#0d0887\"},\"name\":\"GHG EMission\",\"x\":[\"AFGHANISTAN\",\"ALBANIA\",\"ALGERIA\",\"ARGENTINA\",\"AUSTRALIA\",\"AUSTRIA\",\"BAHRAIN\",\"BARBADOS\",\"BELGIUM\",\"BOLIVIA\",\"BRAZIL\",\"BULGARIA\",\"CANADA\",\"CHILE\",\"CHINA\",\"COLOMBIA\",\"CUBA\",\"DEM. REP. KOREA\",\"DENMARK\",\"DOMINICAN REPUBLIC\",\"ECUADOR\",\"EGYPT\",\"ERITREA\",\"ESTONIA\",\"ETHIOPIA\",\"FINLAND\",\"FRANCE\",\"GERMANY\",\"GREECE\",\"GUATEMALA\",\"HONG KONG\",\"HUNGARY\",\"ICELAND\",\"INDIA\",\"INDONESIA\",\"IRAN\",\"IRAQ\",\"IRELAND\",\"ISRAEL\",\"ITALY\",\"JAPAN\",\"KUWAIT\",\"LATVIA\",\"LEBANON\",\"LUXEMBOURG\",\"MADAGASCAR\",\"MALAYSIA\",\"MEXICO\",\"MOROCCO\",\"MOZAMBIQUE\",\"MYANMAR\",\"NETHERLANDS\",\"NEW ZEALAND\",\"NICARAGUA\",\"NIGERIA\",\"NORWAY\",\"PANAMA\",\"PERU\",\"PHILIPPINES\",\"POLAND\",\"PORTUGAL\",\"QATAR\",\"REPUBLIC OF KOREA\",\"ROMANIA\",\"SAUDI ARABIA\",\"SOUTH AFRICA\",\"SPAIN\",\"SWEDEN\",\"SWITZERLAND\",\"SYRIA\",\"TAIWAN\",\"THAILAND\",\"TRINIDAD AND TOBAGO\",\"TUNISIA\",\"TURKEY\",\"UNITED KINGDOM\",\"UNITED STATES\",\"URUGUAY\",\"VENEZUELA\",\"VIETNAM\",\"ZIMBABWE\"],\"y\":[9.592605086913911,15.784967576388784,15.803707046006815,20.08107676980715,20.97430792058933,21.2208282794972,17.646253744145152,10.69121737558202,22.25498961859955,14.572781173525458,19.27723675792811,18.532775811522946,22.193947713072166,19.087616753495507,21.30706019652562,18.03394262602661,13.971501828578866,15.038264291359877,20.328164455419742,10.914360926896231,16.877768876221687,17.982078536727776,11.150749704960461,12.625151333590619,10.604205998592391,18.57877012547175,23.181332039096855,24.07943060240522,17.87824445965597,11.7028182872605,12.380697995689658,20.442349857441666,12.05645832750408,21.47843631060827,20.166374131327395,20.59174638928828,18.676077530281106,19.23056337163939,14.288529636170468,21.22425536615002,22.11325304311299,16.17670563298545,13.111585504232451,14.05563550574088,12.28384816969974,10.40353530313024,18.00087587110596,20.918170322271962,15.928545470503629,13.879633992965513,17.63602756251517,21.32429452683904,19.320443770674036,10.69121737558202,17.207287169864365,19.830822287216268,10.771260083255557,19.059639833715387,14.981676816730412,22.419676174144847,19.13752304465051,12.468990602835337,15.471040903723889,20.363838926963176,18.61154279335995,21.08232077684655,20.848629835021793,20.623304532612508,19.953272203244882,13.203522999558135,18.853139399209343,13.268905758820988,19.060200539833072,14.177572565584484,18.976667646870585,24.37778684647327,25.214940517211346,14.30886932040759,19.47060815090865,18.71345829238856,18.354468460188638],\"type\":\"bar\"},{\"marker\":{\"color\":\"#fdca26\"},\"name\":\"Average Temperature\",\"x\":[\"AFGHANISTAN\",\"ALBANIA\",\"ALGERIA\",\"ARGENTINA\",\"AUSTRALIA\",\"AUSTRIA\",\"BAHRAIN\",\"BARBADOS\",\"BELGIUM\",\"BOLIVIA\",\"BRAZIL\",\"BULGARIA\",\"CANADA\",\"CHILE\",\"CHINA\",\"COLOMBIA\",\"CUBA\",\"DEM. REP. KOREA\",\"DENMARK\",\"DOMINICAN REPUBLIC\",\"ECUADOR\",\"EGYPT\",\"ERITREA\",\"ESTONIA\",\"ETHIOPIA\",\"FINLAND\",\"FRANCE\",\"GERMANY\",\"GREECE\",\"GUATEMALA\",\"HONG KONG\",\"HUNGARY\",\"ICELAND\",\"INDIA\",\"INDONESIA\",\"IRAN\",\"IRAQ\",\"IRELAND\",\"ISRAEL\",\"ITALY\",\"JAPAN\",\"KUWAIT\",\"LATVIA\",\"LEBANON\",\"LUXEMBOURG\",\"MADAGASCAR\",\"MALAYSIA\",\"MEXICO\",\"MOROCCO\",\"MOZAMBIQUE\",\"MYANMAR\",\"NETHERLANDS\",\"NEW ZEALAND\",\"NICARAGUA\",\"NIGERIA\",\"NORWAY\",\"PANAMA\",\"PERU\",\"PHILIPPINES\",\"POLAND\",\"PORTUGAL\",\"QATAR\",\"REPUBLIC OF KOREA\",\"ROMANIA\",\"SAUDI ARABIA\",\"SOUTH AFRICA\",\"SPAIN\",\"SWEDEN\",\"SWITZERLAND\",\"SYRIA\",\"TAIWAN\",\"THAILAND\",\"TRINIDAD AND TOBAGO\",\"TUNISIA\",\"TURKEY\",\"UNITED KINGDOM\",\"UNITED STATES\",\"URUGUAY\",\"VENEZUELA\",\"VIETNAM\",\"ZIMBABWE\"],\"y\":[13.350083333333332,12.51825,23.18816666666667,14.771333333333333,20.984916666666667,6.962833333333333,25.39675,26.32541666666667,10.454583333333334,20.777916666666663,24.61683333333333,10.300416666666663,-4.948583333333334,9.369166666666668,6.9755,24.75358333333333,25.681833333333334,7.137250000000001,9.236916666666668,25.585083333333333,21.73033333333333,21.8925,26.69141666666667,6.746416666666666,22.93675,3.045916666666667,11.525916666666667,9.1765,14.381749999999998,23.374166666666667,23.27308333333333,10.288833333333336,1.248333333333333,24.04725,25.757583333333333,16.7755,21.055,10.576583333333334,18.87708333333333,13.354666666666668,12.102583333333332,24.63525,7.181750000000001,17.01975,10.12075,22.98858333333333,25.980416666666667,20.916083333333336,18.15033333333333,23.79833333333333,23.7055,10.1195,10.464666666666666,25.78483333333333,27.0685,1.2173333333333334,26.09858333333333,19.85141666666667,26.55316666666667,8.606333333333334,15.758666666666668,26.396,12.057833333333331,8.988166666666666,25.0955,17.666999999999998,14.510083333333334,4.023333333333333,7.995833333333334,17.2775,22.36491666666667,26.249583333333334,26.09991666666667,20.146,10.961,9.814333333333332,8.888083333333332,17.28925,24.96366666666667,24.04433333333333,21.535083333333333],\"type\":\"bar\"}],                        {\"template\":{\"data\":{\"bar\":[{\"error_x\":{\"color\":\"#2a3f5f\"},\"error_y\":{\"color\":\"#2a3f5f\"},\"marker\":{\"line\":{\"color\":\"#E5ECF6\",\"width\":0.5},\"pattern\":{\"fillmode\":\"overlay\",\"size\":10,\"solidity\":0.2}},\"type\":\"bar\"}],\"barpolar\":[{\"marker\":{\"line\":{\"color\":\"#E5ECF6\",\"width\":0.5},\"pattern\":{\"fillmode\":\"overlay\",\"size\":10,\"solidity\":0.2}},\"type\":\"barpolar\"}],\"carpet\":[{\"aaxis\":{\"endlinecolor\":\"#2a3f5f\",\"gridcolor\":\"white\",\"linecolor\":\"white\",\"minorgridcolor\":\"white\",\"startlinecolor\":\"#2a3f5f\"},\"baxis\":{\"endlinecolor\":\"#2a3f5f\",\"gridcolor\":\"white\",\"linecolor\":\"white\",\"minorgridcolor\":\"white\",\"startlinecolor\":\"#2a3f5f\"},\"type\":\"carpet\"}],\"choropleth\":[{\"colorbar\":{\"outlinewidth\":0,\"ticks\":\"\"},\"type\":\"choropleth\"}],\"contour\":[{\"colorbar\":{\"outlinewidth\":0,\"ticks\":\"\"},\"colorscale\":[[0.0,\"#0d0887\"],[0.1111111111111111,\"#46039f\"],[0.2222222222222222,\"#7201a8\"],[0.3333333333333333,\"#9c179e\"],[0.4444444444444444,\"#bd3786\"],[0.5555555555555556,\"#d8576b\"],[0.6666666666666666,\"#ed7953\"],[0.7777777777777778,\"#fb9f3a\"],[0.8888888888888888,\"#fdca26\"],[1.0,\"#f0f921\"]],\"type\":\"contour\"}],\"contourcarpet\":[{\"colorbar\":{\"outlinewidth\":0,\"ticks\":\"\"},\"type\":\"contourcarpet\"}],\"heatmap\":[{\"colorbar\":{\"outlinewidth\":0,\"ticks\":\"\"},\"colorscale\":[[0.0,\"#0d0887\"],[0.1111111111111111,\"#46039f\"],[0.2222222222222222,\"#7201a8\"],[0.3333333333333333,\"#9c179e\"],[0.4444444444444444,\"#bd3786\"],[0.5555555555555556,\"#d8576b\"],[0.6666666666666666,\"#ed7953\"],[0.7777777777777778,\"#fb9f3a\"],[0.8888888888888888,\"#fdca26\"],[1.0,\"#f0f921\"]],\"type\":\"heatmap\"}],\"heatmapgl\":[{\"colorbar\":{\"outlinewidth\":0,\"ticks\":\"\"},\"colorscale\":[[0.0,\"#0d0887\"],[0.1111111111111111,\"#46039f\"],[0.2222222222222222,\"#7201a8\"],[0.3333333333333333,\"#9c179e\"],[0.4444444444444444,\"#bd3786\"],[0.5555555555555556,\"#d8576b\"],[0.6666666666666666,\"#ed7953\"],[0.7777777777777778,\"#fb9f3a\"],[0.8888888888888888,\"#fdca26\"],[1.0,\"#f0f921\"]],\"type\":\"heatmapgl\"}],\"histogram\":[{\"marker\":{\"pattern\":{\"fillmode\":\"overlay\",\"size\":10,\"solidity\":0.2}},\"type\":\"histogram\"}],\"histogram2d\":[{\"colorbar\":{\"outlinewidth\":0,\"ticks\":\"\"},\"colorscale\":[[0.0,\"#0d0887\"],[0.1111111111111111,\"#46039f\"],[0.2222222222222222,\"#7201a8\"],[0.3333333333333333,\"#9c179e\"],[0.4444444444444444,\"#bd3786\"],[0.5555555555555556,\"#d8576b\"],[0.6666666666666666,\"#ed7953\"],[0.7777777777777778,\"#fb9f3a\"],[0.8888888888888888,\"#fdca26\"],[1.0,\"#f0f921\"]],\"type\":\"histogram2d\"}],\"histogram2dcontour\":[{\"colorbar\":{\"outlinewidth\":0,\"ticks\":\"\"},\"colorscale\":[[0.0,\"#0d0887\"],[0.1111111111111111,\"#46039f\"],[0.2222222222222222,\"#7201a8\"],[0.3333333333333333,\"#9c179e\"],[0.4444444444444444,\"#bd3786\"],[0.5555555555555556,\"#d8576b\"],[0.6666666666666666,\"#ed7953\"],[0.7777777777777778,\"#fb9f3a\"],[0.8888888888888888,\"#fdca26\"],[1.0,\"#f0f921\"]],\"type\":\"histogram2dcontour\"}],\"mesh3d\":[{\"colorbar\":{\"outlinewidth\":0,\"ticks\":\"\"},\"type\":\"mesh3d\"}],\"parcoords\":[{\"line\":{\"colorbar\":{\"outlinewidth\":0,\"ticks\":\"\"}},\"type\":\"parcoords\"}],\"pie\":[{\"automargin\":true,\"type\":\"pie\"}],\"scatter\":[{\"marker\":{\"colorbar\":{\"outlinewidth\":0,\"ticks\":\"\"}},\"type\":\"scatter\"}],\"scatter3d\":[{\"line\":{\"colorbar\":{\"outlinewidth\":0,\"ticks\":\"\"}},\"marker\":{\"colorbar\":{\"outlinewidth\":0,\"ticks\":\"\"}},\"type\":\"scatter3d\"}],\"scattercarpet\":[{\"marker\":{\"colorbar\":{\"outlinewidth\":0,\"ticks\":\"\"}},\"type\":\"scattercarpet\"}],\"scattergeo\":[{\"marker\":{\"colorbar\":{\"outlinewidth\":0,\"ticks\":\"\"}},\"type\":\"scattergeo\"}],\"scattergl\":[{\"marker\":{\"colorbar\":{\"outlinewidth\":0,\"ticks\":\"\"}},\"type\":\"scattergl\"}],\"scattermapbox\":[{\"marker\":{\"colorbar\":{\"outlinewidth\":0,\"ticks\":\"\"}},\"type\":\"scattermapbox\"}],\"scatterpolar\":[{\"marker\":{\"colorbar\":{\"outlinewidth\":0,\"ticks\":\"\"}},\"type\":\"scatterpolar\"}],\"scatterpolargl\":[{\"marker\":{\"colorbar\":{\"outlinewidth\":0,\"ticks\":\"\"}},\"type\":\"scatterpolargl\"}],\"scatterternary\":[{\"marker\":{\"colorbar\":{\"outlinewidth\":0,\"ticks\":\"\"}},\"type\":\"scatterternary\"}],\"surface\":[{\"colorbar\":{\"outlinewidth\":0,\"ticks\":\"\"},\"colorscale\":[[0.0,\"#0d0887\"],[0.1111111111111111,\"#46039f\"],[0.2222222222222222,\"#7201a8\"],[0.3333333333333333,\"#9c179e\"],[0.4444444444444444,\"#bd3786\"],[0.5555555555555556,\"#d8576b\"],[0.6666666666666666,\"#ed7953\"],[0.7777777777777778,\"#fb9f3a\"],[0.8888888888888888,\"#fdca26\"],[1.0,\"#f0f921\"]],\"type\":\"surface\"}],\"table\":[{\"cells\":{\"fill\":{\"color\":\"#EBF0F8\"},\"line\":{\"color\":\"white\"}},\"header\":{\"fill\":{\"color\":\"#C8D4E3\"},\"line\":{\"color\":\"white\"}},\"type\":\"table\"}]},\"layout\":{\"annotationdefaults\":{\"arrowcolor\":\"#2a3f5f\",\"arrowhead\":0,\"arrowwidth\":1},\"autotypenumbers\":\"strict\",\"coloraxis\":{\"colorbar\":{\"outlinewidth\":0,\"ticks\":\"\"}},\"colorscale\":{\"diverging\":[[0,\"#8e0152\"],[0.1,\"#c51b7d\"],[0.2,\"#de77ae\"],[0.3,\"#f1b6da\"],[0.4,\"#fde0ef\"],[0.5,\"#f7f7f7\"],[0.6,\"#e6f5d0\"],[0.7,\"#b8e186\"],[0.8,\"#7fbc41\"],[0.9,\"#4d9221\"],[1,\"#276419\"]],\"sequential\":[[0.0,\"#0d0887\"],[0.1111111111111111,\"#46039f\"],[0.2222222222222222,\"#7201a8\"],[0.3333333333333333,\"#9c179e\"],[0.4444444444444444,\"#bd3786\"],[0.5555555555555556,\"#d8576b\"],[0.6666666666666666,\"#ed7953\"],[0.7777777777777778,\"#fb9f3a\"],[0.8888888888888888,\"#fdca26\"],[1.0,\"#f0f921\"]],\"sequentialminus\":[[0.0,\"#0d0887\"],[0.1111111111111111,\"#46039f\"],[0.2222222222222222,\"#7201a8\"],[0.3333333333333333,\"#9c179e\"],[0.4444444444444444,\"#bd3786\"],[0.5555555555555556,\"#d8576b\"],[0.6666666666666666,\"#ed7953\"],[0.7777777777777778,\"#fb9f3a\"],[0.8888888888888888,\"#fdca26\"],[1.0,\"#f0f921\"]]},\"colorway\":[\"#636efa\",\"#EF553B\",\"#00cc96\",\"#ab63fa\",\"#FFA15A\",\"#19d3f3\",\"#FF6692\",\"#B6E880\",\"#FF97FF\",\"#FECB52\"],\"font\":{\"color\":\"#2a3f5f\"},\"geo\":{\"bgcolor\":\"white\",\"lakecolor\":\"white\",\"landcolor\":\"#E5ECF6\",\"showlakes\":true,\"showland\":true,\"subunitcolor\":\"white\"},\"hoverlabel\":{\"align\":\"left\"},\"hovermode\":\"closest\",\"mapbox\":{\"style\":\"light\"},\"paper_bgcolor\":\"white\",\"plot_bgcolor\":\"#E5ECF6\",\"polar\":{\"angularaxis\":{\"gridcolor\":\"white\",\"linecolor\":\"white\",\"ticks\":\"\"},\"bgcolor\":\"#E5ECF6\",\"radialaxis\":{\"gridcolor\":\"white\",\"linecolor\":\"white\",\"ticks\":\"\"}},\"scene\":{\"xaxis\":{\"backgroundcolor\":\"#E5ECF6\",\"gridcolor\":\"white\",\"gridwidth\":2,\"linecolor\":\"white\",\"showbackground\":true,\"ticks\":\"\",\"zerolinecolor\":\"white\"},\"yaxis\":{\"backgroundcolor\":\"#E5ECF6\",\"gridcolor\":\"white\",\"gridwidth\":2,\"linecolor\":\"white\",\"showbackground\":true,\"ticks\":\"\",\"zerolinecolor\":\"white\"},\"zaxis\":{\"backgroundcolor\":\"#E5ECF6\",\"gridcolor\":\"white\",\"gridwidth\":2,\"linecolor\":\"white\",\"showbackground\":true,\"ticks\":\"\",\"zerolinecolor\":\"white\"}},\"shapedefaults\":{\"line\":{\"color\":\"#2a3f5f\"}},\"ternary\":{\"aaxis\":{\"gridcolor\":\"white\",\"linecolor\":\"white\",\"ticks\":\"\"},\"baxis\":{\"gridcolor\":\"white\",\"linecolor\":\"white\",\"ticks\":\"\"},\"bgcolor\":\"#E5ECF6\",\"caxis\":{\"gridcolor\":\"white\",\"linecolor\":\"white\",\"ticks\":\"\"}},\"title\":{\"x\":0.05},\"xaxis\":{\"automargin\":true,\"gridcolor\":\"white\",\"linecolor\":\"white\",\"ticks\":\"\",\"title\":{\"standoff\":15},\"zerolinecolor\":\"white\",\"zerolinewidth\":2},\"yaxis\":{\"automargin\":true,\"gridcolor\":\"white\",\"linecolor\":\"white\",\"ticks\":\"\",\"title\":{\"standoff\":15},\"zerolinecolor\":\"white\",\"zerolinewidth\":2}}}},                        {\"responsive\": true}                    ).then(function(){\n",
       "                            \n",
       "var gd = document.getElementById('24f89ed3-ce64-474f-bcec-5dca77c17ecc');\n",
       "var x = new MutationObserver(function (mutations, observer) {{\n",
       "        var display = window.getComputedStyle(gd).display;\n",
       "        if (!display || display === 'none') {{\n",
       "            console.log([gd, 'removed!']);\n",
       "            Plotly.purge(gd);\n",
       "            observer.disconnect();\n",
       "        }}\n",
       "}});\n",
       "\n",
       "// Listen for the removal of the full notebook cells\n",
       "var notebookContainer = gd.closest('#notebook-container');\n",
       "if (notebookContainer) {{\n",
       "    x.observe(notebookContainer, {childList: true});\n",
       "}}\n",
       "\n",
       "// Listen for the clearing of the current output cell\n",
       "var outputEl = gd.closest('.output');\n",
       "if (outputEl) {{\n",
       "    x.observe(outputEl, {childList: true});\n",
       "}}\n",
       "\n",
       "                        })                };                });            </script>        </div>"
      ]
     },
     "metadata": {},
     "output_type": "display_data"
    }
   ],
   "source": [
    "fig = go.Figure()\n",
    "fig.add_trace(go.Bar(\n",
    "    x=df[\"Country\"],\n",
    "    y=np.log(df[\"GHG\"]),\n",
    "    name=\"GHG EMission\",\n",
    "    marker_color='#0d0887'\n",
    "))\n",
    "fig.add_trace(go.Bar(\n",
    "    x=df[\"Country\"],\n",
    "    y=df[\"AverageTemperature\"],\n",
    "    name=\"Average Temperature\",\n",
    "    marker_color='#fdca26'\n",
    "))"
   ]
  },
  {
   "cell_type": "code",
   "execution_count": 30,
   "id": "ba7c0650",
   "metadata": {},
   "outputs": [],
   "source": [
    "def get_temperature_diff_between(df_by_year,start_date,end_date):\n",
    "    df = df_by_year.loc[(df_by_year[\"year\"] >= start_date) & \n",
    "                        (df_by_year[\"year\"] <= end_date)].groupby([\"Country\"]).sum()[[\"temp_diff\"]]\n",
    "    \n",
    "    return df"
   ]
  },
  {
   "cell_type": "code",
   "execution_count": null,
   "id": "500770c8",
   "metadata": {},
   "outputs": [],
   "source": []
  }
 ],
 "metadata": {
  "kernelspec": {
   "display_name": "Python 3 (ipykernel)",
   "language": "python",
   "name": "python3"
  },
  "language_info": {
   "codemirror_mode": {
    "name": "ipython",
    "version": 3
   },
   "file_extension": ".py",
   "mimetype": "text/x-python",
   "name": "python",
   "nbconvert_exporter": "python",
   "pygments_lexer": "ipython3",
   "version": "3.10.4"
  }
 },
 "nbformat": 4,
 "nbformat_minor": 5
}
