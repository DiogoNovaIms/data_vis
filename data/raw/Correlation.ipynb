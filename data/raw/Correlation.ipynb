{
 "cells": [
  {
   "cell_type": "code",
   "execution_count": 56,
   "id": "efab08c5",
   "metadata": {},
   "outputs": [],
   "source": [
    "import pandas as pd\n",
    "import numpy as np\n",
    "import warnings\n",
    "from datetime import datetime\n",
    "import plotly.graph_objects as go\n",
    "import matplotlib.pyplot as plt\n",
    "import seaborn as sns\n",
    "import plotly.express as px"
   ]
  },
  {
   "cell_type": "code",
   "execution_count": 57,
   "id": "b5f75aca",
   "metadata": {
    "scrolled": true
   },
   "outputs": [],
   "source": [
    "#original_df = pd.read_csv(\"GlobalTemperatures_byYear.csv\").drop(columns=[\"Unnamed: 0\"])\n",
    "#original_df.head()"
   ]
  },
  {
   "cell_type": "code",
   "execution_count": 58,
   "id": "5683fd17",
   "metadata": {
    "scrolled": false
   },
   "outputs": [],
   "source": [
    "#original_df.info()"
   ]
  },
  {
   "cell_type": "code",
   "execution_count": 59,
   "id": "3d373504",
   "metadata": {},
   "outputs": [],
   "source": [
    "#original_df.dropna(inplace = True)"
   ]
  },
  {
   "cell_type": "code",
   "execution_count": 60,
   "id": "ce6be5b4",
   "metadata": {},
   "outputs": [],
   "source": [
    "#def get_temperature_diff_between(df_by_year,start_date,end_date):\n",
    "   # df = df_by_year.loc[(df_by_year[\"year\"] >= start_date) & \n",
    "     #                   (df_by_year[\"year\"] <= end_date)].groupby([\"Country\",\"continent\"]).mean().reset_index()\n",
    "    \n",
    "  #  return df"
   ]
  },
  {
   "cell_type": "code",
   "execution_count": 61,
   "id": "a8ed47ad",
   "metadata": {},
   "outputs": [],
   "source": [
    "df = pd.read_csv(\"Correlation.csv\")"
   ]
  },
  {
   "cell_type": "code",
   "execution_count": 62,
   "id": "db1af685",
   "metadata": {},
   "outputs": [
    {
     "name": "stdout",
     "output_type": "stream",
     "text": [
      "<class 'pandas.core.frame.DataFrame'>\n",
      "RangeIndex: 7158 entries, 0 to 7157\n",
      "Data columns (total 13 columns):\n",
      " #   Column                         Non-Null Count  Dtype  \n",
      "---  ------                         --------------  -----  \n",
      " 0   Unnamed: 0                     7158 non-null   int64  \n",
      " 1   year                           7158 non-null   int64  \n",
      " 2   Country                        7158 non-null   object \n",
      " 3   continent                      7158 non-null   object \n",
      " 4   AverageTemperature             7158 non-null   float64\n",
      " 5   AverageTemperatureUncertainty  7158 non-null   float64\n",
      " 6   Latitude                       7158 non-null   float64\n",
      " 7   Longitude                      7158 non-null   float64\n",
      " 8   GHG                            7158 non-null   float64\n",
      " 9   temp_diff                      7158 non-null   float64\n",
      " 10  Code                           7158 non-null   object \n",
      " 11  gdp                            7158 non-null   float64\n",
      " 12  gdp_test                       7158 non-null   float64\n",
      "dtypes: float64(8), int64(2), object(3)\n",
      "memory usage: 727.1+ KB\n"
     ]
    }
   ],
   "source": [
    "df.info()"
   ]
  },
  {
   "cell_type": "code",
   "execution_count": 63,
   "id": "8b98c63a",
   "metadata": {},
   "outputs": [],
   "source": [
    "def get_temperature_diff_between(df_by_year,start_date,end_date):\n",
    "    df = df_by_year.loc[(df_by_year[\"year\"] >= start_date) & \n",
    "                        (df_by_year[\"year\"] <= end_date)].groupby([\"Country\",\"continent\"]).agg({\"gdp\":np.sum, \"AverageTemperature\": np.mean, \"GHG\": np.sum, \"temp_diff\": np.sum}).reset_index()\n",
    "        \n",
    "    return df"
   ]
  },
  {
   "cell_type": "code",
   "execution_count": 64,
   "id": "43189e75",
   "metadata": {
    "scrolled": true
   },
   "outputs": [
    {
     "data": {
      "text/html": [
       "<div>\n",
       "<style scoped>\n",
       "    .dataframe tbody tr th:only-of-type {\n",
       "        vertical-align: middle;\n",
       "    }\n",
       "\n",
       "    .dataframe tbody tr th {\n",
       "        vertical-align: top;\n",
       "    }\n",
       "\n",
       "    .dataframe thead th {\n",
       "        text-align: right;\n",
       "    }\n",
       "</style>\n",
       "<table border=\"1\" class=\"dataframe\">\n",
       "  <thead>\n",
       "    <tr style=\"text-align: right;\">\n",
       "      <th></th>\n",
       "      <th>Country</th>\n",
       "      <th>continent</th>\n",
       "      <th>gdp</th>\n",
       "      <th>AverageTemperature</th>\n",
       "      <th>GHG</th>\n",
       "      <th>temp_diff</th>\n",
       "    </tr>\n",
       "  </thead>\n",
       "  <tbody>\n",
       "    <tr>\n",
       "      <th>0</th>\n",
       "      <td>AFGHANISTAN</td>\n",
       "      <td>Asia</td>\n",
       "      <td>4.110511e+10</td>\n",
       "      <td>14.078186</td>\n",
       "      <td>3.311163e+08</td>\n",
       "      <td>0.707500</td>\n",
       "    </tr>\n",
       "    <tr>\n",
       "      <th>1</th>\n",
       "      <td>ALBANIA</td>\n",
       "      <td>Europe</td>\n",
       "      <td>4.009485e+10</td>\n",
       "      <td>13.134764</td>\n",
       "      <td>3.119427e+09</td>\n",
       "      <td>1.179500</td>\n",
       "    </tr>\n",
       "    <tr>\n",
       "      <th>2</th>\n",
       "      <td>ALGERIA</td>\n",
       "      <td>Africa</td>\n",
       "      <td>1.311925e+12</td>\n",
       "      <td>23.382044</td>\n",
       "      <td>3.237042e+10</td>\n",
       "      <td>1.390750</td>\n",
       "    </tr>\n",
       "    <tr>\n",
       "      <th>3</th>\n",
       "      <td>ANDORRA</td>\n",
       "      <td>Europe</td>\n",
       "      <td>2.124760e+10</td>\n",
       "      <td>11.679135</td>\n",
       "      <td>3.347064e+07</td>\n",
       "      <td>1.331250</td>\n",
       "    </tr>\n",
       "    <tr>\n",
       "      <th>4</th>\n",
       "      <td>ANGOLA</td>\n",
       "      <td>Africa</td>\n",
       "      <td>1.367624e+11</td>\n",
       "      <td>22.355035</td>\n",
       "      <td>2.340391e+09</td>\n",
       "      <td>0.533583</td>\n",
       "    </tr>\n",
       "  </tbody>\n",
       "</table>\n",
       "</div>"
      ],
      "text/plain": [
       "       Country continent           gdp  AverageTemperature           GHG  \\\n",
       "0  AFGHANISTAN      Asia  4.110511e+10           14.078186  3.311163e+08   \n",
       "1      ALBANIA    Europe  4.009485e+10           13.134764  3.119427e+09   \n",
       "2      ALGERIA    Africa  1.311925e+12           23.382044  3.237042e+10   \n",
       "3      ANDORRA    Europe  2.124760e+10           11.679135  3.347064e+07   \n",
       "4       ANGOLA    Africa  1.367624e+11           22.355035  2.340391e+09   \n",
       "\n",
       "   temp_diff  \n",
       "0   0.707500  \n",
       "1   1.179500  \n",
       "2   1.390750  \n",
       "3   1.331250  \n",
       "4   0.533583  "
      ]
     },
     "execution_count": 64,
     "metadata": {},
     "output_type": "execute_result"
    }
   ],
   "source": [
    "df = get_temperature_diff_between(df,1960,2001)\n",
    "df.head()"
   ]
  },
  {
   "cell_type": "code",
   "execution_count": 65,
   "id": "9b7045c4",
   "metadata": {},
   "outputs": [],
   "source": [
    "df[\"gdp_test\"] = df[\"gdp\"]*2"
   ]
  },
  {
   "cell_type": "code",
   "execution_count": 67,
   "id": "4cd5d54f",
   "metadata": {
    "scrolled": false
   },
   "outputs": [],
   "source": [
    "# This plot is for all years\n",
    "\n",
    "fig = px.scatter(df, x=\"temp_diff\", y=\"GHG\", color=\"continent\", template=\"simple_white\", hover_name=\"Country\",\n",
    "                 size = \"gdp_test\",size_max=80,\n",
    "                labels={\n",
    "                     \"temp_diff\": \"Increase in average temperature\",\n",
    "                     \"GHG\": \"Greenhouse Gases Emissions\"\n",
    "\n",
    "                 },)\n",
    "fig.show(renderer = \"browser\")"
   ]
  },
  {
   "cell_type": "code",
   "execution_count": 26,
   "id": "70a3d161",
   "metadata": {},
   "outputs": [],
   "source": [
    "#original_df.to_csv(\"Correlation.csv\")"
   ]
  },
  {
   "cell_type": "code",
   "execution_count": 55,
   "id": "543f0fed",
   "metadata": {},
   "outputs": [],
   "source": [
    "fig_1 = px.scatter(df, x=\"temp_diff\", y=\"GHG\", size=\"gdp_test\", color=\"continent\",\n",
    "           hover_name=\"Country\", log_x=False, size_max=100,\n",
    "                  labels={\n",
    "                     \"temp_diff\": \"Increase in average temperature between 1960 and 2001 years\",\n",
    "                     \"GHG\": \"Greenhouse Gases Emissions\"\n",
    "                      }, custom_data=['Country', 'gdp'])\n",
    "\n",
    "\n",
    "fig_1.update_traces(\n",
    "    hovertemplate=\"<br>\".join([\n",
    "        \"Country: %{customdata[0]}\",\n",
    "        \"GDP: %{customdata[1]}\",\n",
    "        \"Increase in average temperature: %{x}\",\n",
    "        \"Greenhouse Gases Emissions: %{y}\",\n",
    "    ])\n",
    ")\n",
    "\n",
    "\n",
    "fig_1.show(renderer = \"browser\")"
   ]
  },
  {
   "cell_type": "code",
   "execution_count": null,
   "id": "150a7839",
   "metadata": {},
   "outputs": [],
   "source": []
  }
 ],
 "metadata": {
  "kernelspec": {
   "display_name": "Python 3 (ipykernel)",
   "language": "python",
   "name": "python3"
  },
  "language_info": {
   "codemirror_mode": {
    "name": "ipython",
    "version": 3
   },
   "file_extension": ".py",
   "mimetype": "text/x-python",
   "name": "python",
   "nbconvert_exporter": "python",
   "pygments_lexer": "ipython3",
   "version": "3.10.4"
  }
 },
 "nbformat": 4,
 "nbformat_minor": 5
}
