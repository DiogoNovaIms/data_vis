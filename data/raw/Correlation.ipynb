{
 "cells": [
  {
   "cell_type": "code",
   "execution_count": 12,
   "id": "efab08c5",
   "metadata": {},
   "outputs": [],
   "source": [
    "import pandas as pd\n",
    "import numpy as np\n",
    "import warnings\n",
    "from datetime import datetime\n",
    "import plotly.graph_objects as go\n",
    "import matplotlib.pyplot as plt\n",
    "import seaborn as sns\n",
    "import plotly.express as px"
   ]
  },
  {
   "cell_type": "code",
   "execution_count": 13,
   "id": "a8ed47ad",
   "metadata": {},
   "outputs": [],
   "source": [
    "df = pd.read_csv(\"Correlation.csv\")"
   ]
  },
  {
   "cell_type": "code",
   "execution_count": 14,
   "id": "db1af685",
   "metadata": {},
   "outputs": [
    {
     "name": "stdout",
     "output_type": "stream",
     "text": [
      "<class 'pandas.core.frame.DataFrame'>\n",
      "RangeIndex: 7158 entries, 0 to 7157\n",
      "Data columns (total 13 columns):\n",
      " #   Column                         Non-Null Count  Dtype  \n",
      "---  ------                         --------------  -----  \n",
      " 0   Unnamed: 0                     7158 non-null   int64  \n",
      " 1   year                           7158 non-null   int64  \n",
      " 2   Country                        7158 non-null   object \n",
      " 3   continent                      7158 non-null   object \n",
      " 4   AverageTemperature             7158 non-null   float64\n",
      " 5   AverageTemperatureUncertainty  7158 non-null   float64\n",
      " 6   Latitude                       7158 non-null   float64\n",
      " 7   Longitude                      7158 non-null   float64\n",
      " 8   GHG                            7158 non-null   float64\n",
      " 9   temp_diff                      7158 non-null   float64\n",
      " 10  Code                           7158 non-null   object \n",
      " 11  gdp                            7158 non-null   float64\n",
      " 12  gdp_test                       7158 non-null   float64\n",
      "dtypes: float64(8), int64(2), object(3)\n",
      "memory usage: 727.1+ KB\n"
     ]
    }
   ],
   "source": [
    "df.info()"
   ]
  },
  {
   "cell_type": "code",
   "execution_count": 15,
   "id": "8b98c63a",
   "metadata": {},
   "outputs": [],
   "source": [
    "def get_temperature_diff_between(df_by_year,start_date,end_date):\n",
    "    df = df_by_year.loc[(df_by_year[\"year\"] >= start_date) & \n",
    "                        (df_by_year[\"year\"] <= end_date)].groupby([\"Country\",\"continent\"]).agg({\"gdp\":np.mean, \"AverageTemperature\": np.mean, \"GHG\": np.sum, \"temp_diff\": np.sum}).reset_index()\n",
    "        \n",
    "    return df"
   ]
  },
  {
   "cell_type": "code",
   "execution_count": 16,
   "id": "43189e75",
   "metadata": {
    "scrolled": true
   },
   "outputs": [
    {
     "data": {
      "text/html": [
       "<div>\n",
       "<style scoped>\n",
       "    .dataframe tbody tr th:only-of-type {\n",
       "        vertical-align: middle;\n",
       "    }\n",
       "\n",
       "    .dataframe tbody tr th {\n",
       "        vertical-align: top;\n",
       "    }\n",
       "\n",
       "    .dataframe thead th {\n",
       "        text-align: right;\n",
       "    }\n",
       "</style>\n",
       "<table border=\"1\" class=\"dataframe\">\n",
       "  <thead>\n",
       "    <tr style=\"text-align: right;\">\n",
       "      <th></th>\n",
       "      <th>Country</th>\n",
       "      <th>continent</th>\n",
       "      <th>gdp</th>\n",
       "      <th>AverageTemperature</th>\n",
       "      <th>GHG</th>\n",
       "      <th>temp_diff</th>\n",
       "    </tr>\n",
       "  </thead>\n",
       "  <tbody>\n",
       "    <tr>\n",
       "      <th>0</th>\n",
       "      <td>AFGHANISTAN</td>\n",
       "      <td>Asia</td>\n",
       "      <td>5.119762e+09</td>\n",
       "      <td>14.543016</td>\n",
       "      <td>1.438586e+09</td>\n",
       "      <td>1.463042</td>\n",
       "    </tr>\n",
       "    <tr>\n",
       "      <th>1</th>\n",
       "      <td>ALBANIA</td>\n",
       "      <td>Europe</td>\n",
       "      <td>5.323462e+09</td>\n",
       "      <td>13.342171</td>\n",
       "      <td>5.849004e+09</td>\n",
       "      <td>2.482958</td>\n",
       "    </tr>\n",
       "    <tr>\n",
       "      <th>2</th>\n",
       "      <td>ALGERIA</td>\n",
       "      <td>Africa</td>\n",
       "      <td>5.491352e+10</td>\n",
       "      <td>23.586074</td>\n",
       "      <td>6.674535e+10</td>\n",
       "      <td>1.787833</td>\n",
       "    </tr>\n",
       "    <tr>\n",
       "      <th>3</th>\n",
       "      <td>ANDORRA</td>\n",
       "      <td>Europe</td>\n",
       "      <td>1.364792e+09</td>\n",
       "      <td>11.847656</td>\n",
       "      <td>1.406610e+08</td>\n",
       "      <td>1.423042</td>\n",
       "    </tr>\n",
       "    <tr>\n",
       "      <th>4</th>\n",
       "      <td>ANGOLA</td>\n",
       "      <td>Africa</td>\n",
       "      <td>3.120093e+10</td>\n",
       "      <td>22.406356</td>\n",
       "      <td>6.293289e+09</td>\n",
       "      <td>0.538542</td>\n",
       "    </tr>\n",
       "  </tbody>\n",
       "</table>\n",
       "</div>"
      ],
      "text/plain": [
       "       Country continent           gdp  AverageTemperature           GHG  \\\n",
       "0  AFGHANISTAN      Asia  5.119762e+09           14.543016  1.438586e+09   \n",
       "1      ALBANIA    Europe  5.323462e+09           13.342171  5.849004e+09   \n",
       "2      ALGERIA    Africa  5.491352e+10           23.586074  6.674535e+10   \n",
       "3      ANDORRA    Europe  1.364792e+09           11.847656  1.406610e+08   \n",
       "4       ANGOLA    Africa  3.120093e+10           22.406356  6.293289e+09   \n",
       "\n",
       "   temp_diff  \n",
       "0   1.463042  \n",
       "1   2.482958  \n",
       "2   1.787833  \n",
       "3   1.423042  \n",
       "4   0.538542  "
      ]
     },
     "execution_count": 16,
     "metadata": {},
     "output_type": "execute_result"
    }
   ],
   "source": [
    "df = get_temperature_diff_between(df,1960,2013)\n",
    "df.head()"
   ]
  },
  {
   "cell_type": "code",
   "execution_count": 17,
   "id": "9b7045c4",
   "metadata": {},
   "outputs": [],
   "source": [
    "df[\"gdp\"] = round(df[\"gdp\"] / 1000000000, 2)\n",
    "df[\"gdp_test\"] = df[\"gdp\"]*2\n",
    "df[\"temp_diff\"] = round(df[\"temp_diff\"], 2)"
   ]
  },
  {
   "cell_type": "code",
   "execution_count": 18,
   "id": "4cd5d54f",
   "metadata": {
    "scrolled": false
   },
   "outputs": [],
   "source": [
    "# This plot is for all years\n",
    "\n",
    "fig = px.scatter(df, x=\"temp_diff\", y=\"GHG\", color=\"continent\", template=\"simple_white\", hover_name=\"Country\",\n",
    "                 size = \"gdp_test\",size_max=80,\n",
    "                labels={\n",
    "                     \"temp_diff\": \"Increase in average temperature\",\n",
    "                     \"GHG\": \"Greenhouse Gases Emissions\"\n",
    "\n",
    "                 },)\n",
    "fig.show(renderer = \"browser\")"
   ]
  },
  {
   "cell_type": "code",
   "execution_count": 19,
   "id": "543f0fed",
   "metadata": {},
   "outputs": [],
   "source": [
    "fig_1 = px.scatter(df, x=\"temp_diff\", y=\"GHG\", size=\"gdp_test\", color=\"continent\",\n",
    "           hover_name=\"Country\", log_x=False, size_max=100,\n",
    "                  labels={\n",
    "                     \"temp_diff\": \"Increase in average temperature between 1960 and 2001 years\",\n",
    "                     \"GHG\": \"Greenhouse Gases Emissions\"\n",
    "                      }, custom_data=['Country', 'gdp'])\n",
    "\n",
    "\n",
    "fig_1.update_traces(\n",
    "    hovertemplate=\"<br>\".join([\n",
    "        \"Country: %{customdata[0]}\",\n",
    "        \"GDP: %{customdata[1]} billion $\",\n",
    "        \"Increase in average temperature: %{x} °C\",\n",
    "        \"Greenhouse Gases Emissions: %{y}\",\n",
    "    ])\n",
    ")\n",
    "\n",
    "\n",
    "fig_1.show(renderer = \"browser\")"
   ]
  },
  {
   "cell_type": "code",
   "execution_count": null,
   "id": "150a7839",
   "metadata": {},
   "outputs": [],
   "source": []
  }
 ],
 "metadata": {
  "kernelspec": {
   "display_name": "Python 3 (ipykernel)",
   "language": "python",
   "name": "python3"
  },
  "language_info": {
   "codemirror_mode": {
    "name": "ipython",
    "version": 3
   },
   "file_extension": ".py",
   "mimetype": "text/x-python",
   "name": "python",
   "nbconvert_exporter": "python",
   "pygments_lexer": "ipython3",
   "version": "3.9.11"
  }
 },
 "nbformat": 4,
 "nbformat_minor": 5
}
