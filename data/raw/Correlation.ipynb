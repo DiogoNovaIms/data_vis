{
 "cells": [
  {
   "cell_type": "code",
   "execution_count": 225,
   "id": "efab08c5",
   "metadata": {},
   "outputs": [],
   "source": [
    "import pandas as pd\n",
    "import numpy as np\n",
    "import warnings\n",
    "from datetime import datetime\n",
    "import plotly.graph_objects as go\n",
    "import matplotlib.pyplot as plt\n",
    "import seaborn as sns\n",
    "import plotly.express as px"
   ]
  },
  {
   "cell_type": "code",
   "execution_count": 226,
   "id": "b5f75aca",
   "metadata": {
    "scrolled": true
   },
   "outputs": [
    {
     "data": {
      "text/html": [
       "<div>\n",
       "<style scoped>\n",
       "    .dataframe tbody tr th:only-of-type {\n",
       "        vertical-align: middle;\n",
       "    }\n",
       "\n",
       "    .dataframe tbody tr th {\n",
       "        vertical-align: top;\n",
       "    }\n",
       "\n",
       "    .dataframe thead th {\n",
       "        text-align: right;\n",
       "    }\n",
       "</style>\n",
       "<table border=\"1\" class=\"dataframe\">\n",
       "  <thead>\n",
       "    <tr style=\"text-align: right;\">\n",
       "      <th></th>\n",
       "      <th>year</th>\n",
       "      <th>Country</th>\n",
       "      <th>continent</th>\n",
       "      <th>AverageTemperature</th>\n",
       "      <th>AverageTemperatureUncertainty</th>\n",
       "      <th>Latitude</th>\n",
       "      <th>Longitude</th>\n",
       "      <th>GHG</th>\n",
       "      <th>temp_diff</th>\n",
       "      <th>Code</th>\n",
       "      <th>gdp</th>\n",
       "    </tr>\n",
       "  </thead>\n",
       "  <tbody>\n",
       "    <tr>\n",
       "      <th>0</th>\n",
       "      <td>1900</td>\n",
       "      <td>AFGHANISTAN</td>\n",
       "      <td>Asia</td>\n",
       "      <td>13.749333</td>\n",
       "      <td>0.748833</td>\n",
       "      <td>33.00</td>\n",
       "      <td>65.0</td>\n",
       "      <td>0.0</td>\n",
       "      <td>0.0</td>\n",
       "      <td>NaN</td>\n",
       "      <td>NaN</td>\n",
       "    </tr>\n",
       "    <tr>\n",
       "      <th>1</th>\n",
       "      <td>1900</td>\n",
       "      <td>ALBANIA</td>\n",
       "      <td>Europe</td>\n",
       "      <td>13.068583</td>\n",
       "      <td>0.723417</td>\n",
       "      <td>41.00</td>\n",
       "      <td>20.0</td>\n",
       "      <td>0.0</td>\n",
       "      <td>0.0</td>\n",
       "      <td>NaN</td>\n",
       "      <td>NaN</td>\n",
       "    </tr>\n",
       "    <tr>\n",
       "      <th>2</th>\n",
       "      <td>1900</td>\n",
       "      <td>ALGERIA</td>\n",
       "      <td>Africa</td>\n",
       "      <td>22.864167</td>\n",
       "      <td>0.826667</td>\n",
       "      <td>28.00</td>\n",
       "      <td>3.0</td>\n",
       "      <td>0.0</td>\n",
       "      <td>0.0</td>\n",
       "      <td>NaN</td>\n",
       "      <td>NaN</td>\n",
       "    </tr>\n",
       "    <tr>\n",
       "      <th>3</th>\n",
       "      <td>1900</td>\n",
       "      <td>AMERICAN SAMOA</td>\n",
       "      <td>Oceania</td>\n",
       "      <td>26.273500</td>\n",
       "      <td>0.891000</td>\n",
       "      <td>-14.33</td>\n",
       "      <td>-170.0</td>\n",
       "      <td>NaN</td>\n",
       "      <td>0.0</td>\n",
       "      <td>NaN</td>\n",
       "      <td>NaN</td>\n",
       "    </tr>\n",
       "    <tr>\n",
       "      <th>4</th>\n",
       "      <td>1900</td>\n",
       "      <td>ANDORRA</td>\n",
       "      <td>Europe</td>\n",
       "      <td>11.348333</td>\n",
       "      <td>0.542167</td>\n",
       "      <td>42.50</td>\n",
       "      <td>1.5</td>\n",
       "      <td>0.0</td>\n",
       "      <td>0.0</td>\n",
       "      <td>NaN</td>\n",
       "      <td>NaN</td>\n",
       "    </tr>\n",
       "  </tbody>\n",
       "</table>\n",
       "</div>"
      ],
      "text/plain": [
       "   year         Country continent  AverageTemperature  \\\n",
       "0  1900     AFGHANISTAN      Asia           13.749333   \n",
       "1  1900         ALBANIA    Europe           13.068583   \n",
       "2  1900         ALGERIA    Africa           22.864167   \n",
       "3  1900  AMERICAN SAMOA   Oceania           26.273500   \n",
       "4  1900         ANDORRA    Europe           11.348333   \n",
       "\n",
       "   AverageTemperatureUncertainty  Latitude  Longitude  GHG  temp_diff Code  \\\n",
       "0                       0.748833     33.00       65.0  0.0        0.0  NaN   \n",
       "1                       0.723417     41.00       20.0  0.0        0.0  NaN   \n",
       "2                       0.826667     28.00        3.0  0.0        0.0  NaN   \n",
       "3                       0.891000    -14.33     -170.0  NaN        0.0  NaN   \n",
       "4                       0.542167     42.50        1.5  0.0        0.0  NaN   \n",
       "\n",
       "   gdp  \n",
       "0  NaN  \n",
       "1  NaN  \n",
       "2  NaN  \n",
       "3  NaN  \n",
       "4  NaN  "
      ]
     },
     "execution_count": 226,
     "metadata": {},
     "output_type": "execute_result"
    }
   ],
   "source": [
    "original_df = pd.read_csv(\"GlobalLandTemperaturesByCountry+GHG.csv\").drop(columns=[\"Unnamed: 0\"])\n",
    "original_df.head()"
   ]
  },
  {
   "cell_type": "code",
   "execution_count": 227,
   "id": "5683fd17",
   "metadata": {
    "scrolled": false
   },
   "outputs": [
    {
     "name": "stdout",
     "output_type": "stream",
     "text": [
      "<class 'pandas.core.frame.DataFrame'>\n",
      "RangeIndex: 24342 entries, 0 to 24341\n",
      "Data columns (total 11 columns):\n",
      " #   Column                         Non-Null Count  Dtype  \n",
      "---  ------                         --------------  -----  \n",
      " 0   year                           24342 non-null  int64  \n",
      " 1   Country                        24342 non-null  object \n",
      " 2   continent                      24342 non-null  object \n",
      " 3   AverageTemperature             24341 non-null  float64\n",
      " 4   AverageTemperatureUncertainty  24341 non-null  float64\n",
      " 5   Latitude                       24342 non-null  float64\n",
      " 6   Longitude                      24342 non-null  float64\n",
      " 7   GHG                            22458 non-null  float64\n",
      " 8   temp_diff                      24341 non-null  float64\n",
      " 9   Code                           9396 non-null   object \n",
      " 10  gdp                            7323 non-null   float64\n",
      "dtypes: float64(7), int64(1), object(3)\n",
      "memory usage: 2.0+ MB\n"
     ]
    }
   ],
   "source": [
    "original_df.info()"
   ]
  },
  {
   "cell_type": "code",
   "execution_count": 228,
   "id": "3d373504",
   "metadata": {},
   "outputs": [],
   "source": [
    "original_df.dropna(inplace = True)"
   ]
  },
  {
   "cell_type": "code",
   "execution_count": 229,
   "id": "ce6be5b4",
   "metadata": {},
   "outputs": [],
   "source": [
    "#def get_temperature_diff_between(df_by_year,start_date,end_date):\n",
    "   # df = df_by_year.loc[(df_by_year[\"year\"] >= start_date) & \n",
    "     #                   (df_by_year[\"year\"] <= end_date)].groupby([\"Country\",\"continent\"]).mean().reset_index()\n",
    "    \n",
    "  #  return df"
   ]
  },
  {
   "cell_type": "code",
   "execution_count": 230,
   "id": "8b98c63a",
   "metadata": {},
   "outputs": [],
   "source": [
    "def get_temperature_diff_between(df_by_year,start_date,end_date):\n",
    "    df = df_by_year.loc[(df_by_year[\"year\"] >= start_date) & \n",
    "                        (df_by_year[\"year\"] <= end_date)].groupby([\"Country\",\"continent\"]).agg({\"gdp\":np.sum, \"AverageTemperature\": np.mean, \"GHG\": np.sum, \"temp_diff\": np.sum}).reset_index()\n",
    "        \n",
    "    return df"
   ]
  },
  {
   "cell_type": "code",
   "execution_count": 231,
   "id": "43189e75",
   "metadata": {
    "scrolled": true
   },
   "outputs": [],
   "source": [
    "# df = get_temperature_diff_between(original_df,1900,2013)\n",
    "# df.head()"
   ]
  },
  {
   "cell_type": "code",
   "execution_count": 232,
   "id": "9b7045c4",
   "metadata": {},
   "outputs": [],
   "source": [
    "original_df[\"gdp_test\"] = original_df[\"gdp\"]*2"
   ]
  },
  {
   "cell_type": "code",
   "execution_count": 233,
   "id": "4cd5d54f",
   "metadata": {
    "scrolled": false
   },
   "outputs": [],
   "source": [
    "fig = px.scatter(original_df, x=\"temp_diff\", y=\"GHG\", color=\"continent\", template=\"simple_white\", hover_name=\"Country\",\n",
    "                 size = \"gdp_test\",size_max=80,\n",
    "                labels={\n",
    "                     \"temp_diff\": \"Increase in average temperature\",\n",
    "                     \"GHG\": \"Greenhouse Gases Emissions\"\n",
    "\n",
    "                 },)\n",
    "fig.show(renderer = \"browser\")"
   ]
  },
  {
   "cell_type": "code",
   "execution_count": 234,
   "id": "70a3d161",
   "metadata": {},
   "outputs": [],
   "source": [
    "original_df.to_csv(\"Correlation.csv\")"
   ]
  },
  {
   "cell_type": "code",
   "execution_count": 235,
   "id": "ba7c0650",
   "metadata": {},
   "outputs": [],
   "source": [
    "#def get_temperature_diff_between(df_by_year,start_date,end_date):\n",
    "   # df = df_by_year.loc[(df_by_year[\"year\"] >= start_date) & \n",
    "             #           (df_by_year[\"year\"] <= end_date)].groupby([\"Country\"]).sum()[[\"temp_diff\"]]\n",
    "    \n",
    "    #return df"
   ]
  },
  {
   "cell_type": "code",
   "execution_count": null,
   "id": "150a7839",
   "metadata": {},
   "outputs": [],
   "source": []
  }
 ],
 "metadata": {
  "kernelspec": {
   "display_name": "Python 3 (ipykernel)",
   "language": "python",
   "name": "python3"
  },
  "language_info": {
   "codemirror_mode": {
    "name": "ipython",
    "version": 3
   },
   "file_extension": ".py",
   "mimetype": "text/x-python",
   "name": "python",
   "nbconvert_exporter": "python",
   "pygments_lexer": "ipython3",
   "version": "3.9.11"
  }
 },
 "nbformat": 4,
 "nbformat_minor": 5
}
