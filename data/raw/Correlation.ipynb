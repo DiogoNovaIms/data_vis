{
 "cells": [
  {
   "cell_type": "code",
   "execution_count": 33,
   "id": "efab08c5",
   "metadata": {},
   "outputs": [],
   "source": [
    "import pandas as pd\n",
    "import numpy as np\n",
    "import warnings\n",
    "from datetime import datetime\n",
    "import plotly.graph_objects as go\n",
    "import matplotlib.pyplot as plt\n",
    "import seaborn as sns\n",
    "import plotly.express as px"
   ]
  },
  {
   "cell_type": "code",
   "execution_count": 46,
   "id": "b5f75aca",
   "metadata": {
    "scrolled": true
   },
   "outputs": [
    {
     "data": {
      "text/html": [
       "<div>\n",
       "<style scoped>\n",
       "    .dataframe tbody tr th:only-of-type {\n",
       "        vertical-align: middle;\n",
       "    }\n",
       "\n",
       "    .dataframe tbody tr th {\n",
       "        vertical-align: top;\n",
       "    }\n",
       "\n",
       "    .dataframe thead th {\n",
       "        text-align: right;\n",
       "    }\n",
       "</style>\n",
       "<table border=\"1\" class=\"dataframe\">\n",
       "  <thead>\n",
       "    <tr style=\"text-align: right;\">\n",
       "      <th></th>\n",
       "      <th>year</th>\n",
       "      <th>Country</th>\n",
       "      <th>AverageTemperature</th>\n",
       "      <th>AverageTemperatureUncertainty</th>\n",
       "      <th>Latitude</th>\n",
       "      <th>Longitude</th>\n",
       "      <th>GHG</th>\n",
       "      <th>temp_diff</th>\n",
       "    </tr>\n",
       "  </thead>\n",
       "  <tbody>\n",
       "    <tr>\n",
       "      <th>0</th>\n",
       "      <td>1900</td>\n",
       "      <td>AFGHANISTAN</td>\n",
       "      <td>13.749333</td>\n",
       "      <td>0.748833</td>\n",
       "      <td>33.00</td>\n",
       "      <td>65.0</td>\n",
       "      <td>0.0</td>\n",
       "      <td>0.0</td>\n",
       "    </tr>\n",
       "    <tr>\n",
       "      <th>1</th>\n",
       "      <td>1900</td>\n",
       "      <td>ALBANIA</td>\n",
       "      <td>13.068583</td>\n",
       "      <td>0.723417</td>\n",
       "      <td>41.00</td>\n",
       "      <td>20.0</td>\n",
       "      <td>0.0</td>\n",
       "      <td>0.0</td>\n",
       "    </tr>\n",
       "    <tr>\n",
       "      <th>2</th>\n",
       "      <td>1900</td>\n",
       "      <td>ALGERIA</td>\n",
       "      <td>22.864167</td>\n",
       "      <td>0.826667</td>\n",
       "      <td>28.00</td>\n",
       "      <td>3.0</td>\n",
       "      <td>0.0</td>\n",
       "      <td>0.0</td>\n",
       "    </tr>\n",
       "    <tr>\n",
       "      <th>3</th>\n",
       "      <td>1900</td>\n",
       "      <td>AMERICAN SAMOA</td>\n",
       "      <td>26.273500</td>\n",
       "      <td>0.891000</td>\n",
       "      <td>-14.33</td>\n",
       "      <td>-170.0</td>\n",
       "      <td>NaN</td>\n",
       "      <td>0.0</td>\n",
       "    </tr>\n",
       "    <tr>\n",
       "      <th>4</th>\n",
       "      <td>1900</td>\n",
       "      <td>ANDORRA</td>\n",
       "      <td>11.348333</td>\n",
       "      <td>0.542167</td>\n",
       "      <td>42.50</td>\n",
       "      <td>1.5</td>\n",
       "      <td>0.0</td>\n",
       "      <td>0.0</td>\n",
       "    </tr>\n",
       "  </tbody>\n",
       "</table>\n",
       "</div>"
      ],
      "text/plain": [
       "   year         Country  AverageTemperature  AverageTemperatureUncertainty  \\\n",
       "0  1900     AFGHANISTAN           13.749333                       0.748833   \n",
       "1  1900         ALBANIA           13.068583                       0.723417   \n",
       "2  1900         ALGERIA           22.864167                       0.826667   \n",
       "3  1900  AMERICAN SAMOA           26.273500                       0.891000   \n",
       "4  1900         ANDORRA           11.348333                       0.542167   \n",
       "\n",
       "   Latitude  Longitude  GHG  temp_diff  \n",
       "0     33.00       65.0  0.0        0.0  \n",
       "1     41.00       20.0  0.0        0.0  \n",
       "2     28.00        3.0  0.0        0.0  \n",
       "3    -14.33     -170.0  NaN        0.0  \n",
       "4     42.50        1.5  0.0        0.0  "
      ]
     },
     "execution_count": 46,
     "metadata": {},
     "output_type": "execute_result"
    }
   ],
   "source": [
    "original_df = pd.read_csv(\"CountryTemperatures_byYear.csv\").drop(columns=[\"Unnamed: 0\"])\n",
    "original_df.head()"
   ]
  },
  {
   "cell_type": "code",
   "execution_count": 47,
   "id": "5683fd17",
   "metadata": {
    "scrolled": false
   },
   "outputs": [
    {
     "name": "stdout",
     "output_type": "stream",
     "text": [
      "<class 'pandas.core.frame.DataFrame'>\n",
      "RangeIndex: 24342 entries, 0 to 24341\n",
      "Data columns (total 8 columns):\n",
      " #   Column                         Non-Null Count  Dtype  \n",
      "---  ------                         --------------  -----  \n",
      " 0   year                           24342 non-null  int64  \n",
      " 1   Country                        24342 non-null  object \n",
      " 2   AverageTemperature             24341 non-null  float64\n",
      " 3   AverageTemperatureUncertainty  24341 non-null  float64\n",
      " 4   Latitude                       24342 non-null  float64\n",
      " 5   Longitude                      24342 non-null  float64\n",
      " 6   GHG                            22458 non-null  float64\n",
      " 7   temp_diff                      24341 non-null  float64\n",
      "dtypes: float64(6), int64(1), object(1)\n",
      "memory usage: 1.5+ MB\n"
     ]
    }
   ],
   "source": [
    "original_df.info()"
   ]
  },
  {
   "cell_type": "code",
   "execution_count": 51,
   "id": "ce6be5b4",
   "metadata": {},
   "outputs": [],
   "source": [
    "def get_temperature_diff_between(df_by_year,start_date,end_date):\n",
    "    df = df_by_year.loc[(df_by_year[\"year\"] >= start_date) & \n",
    "                        (df_by_year[\"year\"] <= end_date)].groupby([\"Country\"]).sum().reset_index()\n",
    "    \n",
    "    return df"
   ]
  },
  {
   "cell_type": "code",
   "execution_count": 52,
   "id": "43189e75",
   "metadata": {},
   "outputs": [
    {
     "data": {
      "text/html": [
       "<div>\n",
       "<style scoped>\n",
       "    .dataframe tbody tr th:only-of-type {\n",
       "        vertical-align: middle;\n",
       "    }\n",
       "\n",
       "    .dataframe tbody tr th {\n",
       "        vertical-align: top;\n",
       "    }\n",
       "\n",
       "    .dataframe thead th {\n",
       "        text-align: right;\n",
       "    }\n",
       "</style>\n",
       "<table border=\"1\" class=\"dataframe\">\n",
       "  <thead>\n",
       "    <tr style=\"text-align: right;\">\n",
       "      <th></th>\n",
       "      <th>Country</th>\n",
       "      <th>year</th>\n",
       "      <th>AverageTemperature</th>\n",
       "      <th>AverageTemperatureUncertainty</th>\n",
       "      <th>Latitude</th>\n",
       "      <th>Longitude</th>\n",
       "      <th>GHG</th>\n",
       "      <th>temp_diff</th>\n",
       "    </tr>\n",
       "  </thead>\n",
       "  <tbody>\n",
       "    <tr>\n",
       "      <th>0</th>\n",
       "      <td>AFGHANISTAN</td>\n",
       "      <td>100725</td>\n",
       "      <td>728.755833</td>\n",
       "      <td>21.659750</td>\n",
       "      <td>1683.00</td>\n",
       "      <td>3315.0</td>\n",
       "      <td>1.438653e+09</td>\n",
       "      <td>2.147750</td>\n",
       "    </tr>\n",
       "    <tr>\n",
       "      <th>1</th>\n",
       "      <td>ALBANIA</td>\n",
       "      <td>100725</td>\n",
       "      <td>658.302667</td>\n",
       "      <td>17.186667</td>\n",
       "      <td>2091.00</td>\n",
       "      <td>1020.0</td>\n",
       "      <td>4.387325e+09</td>\n",
       "      <td>1.228333</td>\n",
       "    </tr>\n",
       "    <tr>\n",
       "      <th>2</th>\n",
       "      <td>ALGERIA</td>\n",
       "      <td>100725</td>\n",
       "      <td>1188.247167</td>\n",
       "      <td>19.266083</td>\n",
       "      <td>1428.00</td>\n",
       "      <td>153.0</td>\n",
       "      <td>3.047590e+10</td>\n",
       "      <td>0.844083</td>\n",
       "    </tr>\n",
       "    <tr>\n",
       "      <th>3</th>\n",
       "      <td>AMERICAN SAMOA</td>\n",
       "      <td>100725</td>\n",
       "      <td>1369.174667</td>\n",
       "      <td>19.267583</td>\n",
       "      <td>-730.83</td>\n",
       "      <td>-8670.0</td>\n",
       "      <td>0.000000e+00</td>\n",
       "      <td>0.368833</td>\n",
       "    </tr>\n",
       "    <tr>\n",
       "      <th>4</th>\n",
       "      <td>ANDORRA</td>\n",
       "      <td>100725</td>\n",
       "      <td>588.063083</td>\n",
       "      <td>16.091250</td>\n",
       "      <td>2167.50</td>\n",
       "      <td>76.5</td>\n",
       "      <td>2.803693e+07</td>\n",
       "      <td>-0.006000</td>\n",
       "    </tr>\n",
       "  </tbody>\n",
       "</table>\n",
       "</div>"
      ],
      "text/plain": [
       "          Country    year  AverageTemperature  AverageTemperatureUncertainty  \\\n",
       "0     AFGHANISTAN  100725          728.755833                      21.659750   \n",
       "1         ALBANIA  100725          658.302667                      17.186667   \n",
       "2         ALGERIA  100725         1188.247167                      19.266083   \n",
       "3  AMERICAN SAMOA  100725         1369.174667                      19.267583   \n",
       "4         ANDORRA  100725          588.063083                      16.091250   \n",
       "\n",
       "   Latitude  Longitude           GHG  temp_diff  \n",
       "0   1683.00     3315.0  1.438653e+09   2.147750  \n",
       "1   2091.00     1020.0  4.387325e+09   1.228333  \n",
       "2   1428.00      153.0  3.047590e+10   0.844083  \n",
       "3   -730.83    -8670.0  0.000000e+00   0.368833  \n",
       "4   2167.50       76.5  2.803693e+07  -0.006000  "
      ]
     },
     "execution_count": 52,
     "metadata": {},
     "output_type": "execute_result"
    }
   ],
   "source": [
    "df = get_temperature_diff_between(original_df,1950,2000)\n",
    "df.head()"
   ]
  },
  {
   "cell_type": "code",
   "execution_count": 61,
   "id": "4cd5d54f",
   "metadata": {
    "scrolled": false
   },
   "outputs": [
    {
     "data": {
      "application/vnd.plotly.v1+json": {
       "config": {
        "plotlyServerURL": "https://plot.ly"
       },
       "data": [
        {
         "hovertemplate": "Country=AFGHANISTAN<br>Average Temperature evolution=%{x}<br>Greenhouse Gases Emissions=%{y}<extra></extra>",
         "legendgroup": "AFGHANISTAN",
         "marker": {
          "color": "#1F77B4",
          "symbol": "circle"
         },
         "mode": "markers",
         "name": "AFGHANISTAN",
         "orientation": "v",
         "showlegend": true,
         "type": "scatter",
         "x": [
          2.147750000000002
         ],
         "xaxis": "x",
         "y": [
          1438653192
         ],
         "yaxis": "y"
        },
        {
         "hovertemplate": "Country=AFGHANISTAN<extra></extra>",
         "legendgroup": "AFGHANISTAN",
         "marker": {
          "color": "#1F77B4",
          "symbol": "circle"
         },
         "mode": "lines",
         "name": "AFGHANISTAN",
         "showlegend": false,
         "type": "scatter",
         "xaxis": "x",
         "yaxis": "y"
        },
        {
         "hovertemplate": "Country=ALBANIA<br>Average Temperature evolution=%{x}<br>Greenhouse Gases Emissions=%{y}<extra></extra>",
         "legendgroup": "ALBANIA",
         "marker": {
          "color": "#FF7F0E",
          "symbol": "circle"
         },
         "mode": "markers",
         "name": "ALBANIA",
         "orientation": "v",
         "showlegend": true,
         "type": "scatter",
         "x": [
          1.228333333333334
         ],
         "xaxis": "x",
         "y": [
          4387324896
         ],
         "yaxis": "y"
        },
        {
         "hovertemplate": "Country=ALBANIA<extra></extra>",
         "legendgroup": "ALBANIA",
         "marker": {
          "color": "#FF7F0E",
          "symbol": "circle"
         },
         "mode": "lines",
         "name": "ALBANIA",
         "showlegend": false,
         "type": "scatter",
         "xaxis": "x",
         "yaxis": "y"
        },
        {
         "hovertemplate": "Country=ALGERIA<br>Average Temperature evolution=%{x}<br>Greenhouse Gases Emissions=%{y}<extra></extra>",
         "legendgroup": "ALGERIA",
         "marker": {
          "color": "#2CA02C",
          "symbol": "circle"
         },
         "mode": "markers",
         "name": "ALGERIA",
         "orientation": "v",
         "showlegend": true,
         "type": "scatter",
         "x": [
          0.84408333333333
         ],
         "xaxis": "x",
         "y": [
          30475901144
         ],
         "yaxis": "y"
        },
        {
         "hovertemplate": "Country=ALGERIA<extra></extra>",
         "legendgroup": "ALGERIA",
         "marker": {
          "color": "#2CA02C",
          "symbol": "circle"
         },
         "mode": "lines",
         "name": "ALGERIA",
         "showlegend": false,
         "type": "scatter",
         "xaxis": "x",
         "yaxis": "y"
        },
        {
         "hovertemplate": "Country=AMERICAN SAMOA<br>Average Temperature evolution=%{x}<br>Greenhouse Gases Emissions=%{y}<extra></extra>",
         "legendgroup": "AMERICAN SAMOA",
         "marker": {
          "color": "#D62728",
          "symbol": "circle"
         },
         "mode": "markers",
         "name": "AMERICAN SAMOA",
         "orientation": "v",
         "showlegend": true,
         "type": "scatter",
         "x": [
          0.36883333333333845
         ],
         "xaxis": "x",
         "y": [
          0
         ],
         "yaxis": "y"
        },
        {
         "hovertemplate": "Country=AMERICAN SAMOA<extra></extra>",
         "legendgroup": "AMERICAN SAMOA",
         "marker": {
          "color": "#D62728",
          "symbol": "circle"
         },
         "mode": "lines",
         "name": "AMERICAN SAMOA",
         "showlegend": false,
         "type": "scatter",
         "xaxis": "x",
         "yaxis": "y"
        },
        {
         "hovertemplate": "Country=ANDORRA<br>Average Temperature evolution=%{x}<br>Greenhouse Gases Emissions=%{y}<extra></extra>",
         "legendgroup": "ANDORRA",
         "marker": {
          "color": "#9467BD",
          "symbol": "circle"
         },
         "mode": "markers",
         "name": "ANDORRA",
         "orientation": "v",
         "showlegend": true,
         "type": "scatter",
         "x": [
          -0.006000000000000311
         ],
         "xaxis": "x",
         "y": [
          28036928
         ],
         "yaxis": "y"
        },
        {
         "hovertemplate": "Country=ANDORRA<extra></extra>",
         "legendgroup": "ANDORRA",
         "marker": {
          "color": "#9467BD",
          "symbol": "circle"
         },
         "mode": "lines",
         "name": "ANDORRA",
         "showlegend": false,
         "type": "scatter",
         "xaxis": "x",
         "yaxis": "y"
        },
        {
         "hovertemplate": "Country=ANGOLA<br>Average Temperature evolution=%{x}<br>Greenhouse Gases Emissions=%{y}<extra></extra>",
         "legendgroup": "ANGOLA",
         "marker": {
          "color": "#8C564B",
          "symbol": "circle"
         },
         "mode": "markers",
         "name": "ANGOLA",
         "orientation": "v",
         "showlegend": true,
         "type": "scatter",
         "x": [
          0.43241666666666223
         ],
         "xaxis": "x",
         "y": [
          3030333308
         ],
         "yaxis": "y"
        },
        {
         "hovertemplate": "Country=ANGOLA<extra></extra>",
         "legendgroup": "ANGOLA",
         "marker": {
          "color": "#8C564B",
          "symbol": "circle"
         },
         "mode": "lines",
         "name": "ANGOLA",
         "showlegend": false,
         "type": "scatter",
         "xaxis": "x",
         "yaxis": "y"
        },
        {
         "hovertemplate": "Country=ANGUILLA<br>Average Temperature evolution=%{x}<br>Greenhouse Gases Emissions=%{y}<extra></extra>",
         "legendgroup": "ANGUILLA",
         "marker": {
          "color": "#E377C2",
          "symbol": "circle"
         },
         "mode": "markers",
         "name": "ANGUILLA",
         "orientation": "v",
         "showlegend": true,
         "type": "scatter",
         "x": [
          0.639666666666667
         ],
         "xaxis": "x",
         "y": [
          4063376
         ],
         "yaxis": "y"
        },
        {
         "hovertemplate": "Country=ANGUILLA<extra></extra>",
         "legendgroup": "ANGUILLA",
         "marker": {
          "color": "#E377C2",
          "symbol": "circle"
         },
         "mode": "lines",
         "name": "ANGUILLA",
         "showlegend": false,
         "type": "scatter",
         "xaxis": "x",
         "yaxis": "y"
        },
        {
         "hovertemplate": "Country=ANTIGUA AND BARBUDA<br>Average Temperature evolution=%{x}<br>Greenhouse Gases Emissions=%{y}<extra></extra>",
         "legendgroup": "ANTIGUA AND BARBUDA",
         "marker": {
          "color": "#7F7F7F",
          "symbol": "circle"
         },
         "mode": "markers",
         "name": "ANTIGUA AND BARBUDA",
         "orientation": "v",
         "showlegend": true,
         "type": "scatter",
         "x": [
          0.6602499999999942
         ],
         "xaxis": "x",
         "y": [
          297593744
         ],
         "yaxis": "y"
        },
        {
         "hovertemplate": "Country=ANTIGUA AND BARBUDA<extra></extra>",
         "legendgroup": "ANTIGUA AND BARBUDA",
         "marker": {
          "color": "#7F7F7F",
          "symbol": "circle"
         },
         "mode": "lines",
         "name": "ANTIGUA AND BARBUDA",
         "showlegend": false,
         "type": "scatter",
         "xaxis": "x",
         "yaxis": "y"
        },
        {
         "hovertemplate": "Country=ARGENTINA<br>Average Temperature evolution=%{x}<br>Greenhouse Gases Emissions=%{y}<extra></extra>",
         "legendgroup": "ARGENTINA",
         "marker": {
          "color": "#BCBD22",
          "symbol": "circle"
         },
         "mode": "markers",
         "name": "ARGENTINA",
         "orientation": "v",
         "showlegend": true,
         "type": "scatter",
         "x": [
          -0.020833333333331816
         ],
         "xaxis": "x",
         "y": [
          117606430083
         ],
         "yaxis": "y"
        },
        {
         "hovertemplate": "Country=ARGENTINA<extra></extra>",
         "legendgroup": "ARGENTINA",
         "marker": {
          "color": "#BCBD22",
          "symbol": "circle"
         },
         "mode": "lines",
         "name": "ARGENTINA",
         "showlegend": false,
         "type": "scatter",
         "xaxis": "x",
         "yaxis": "y"
        },
        {
         "hovertemplate": "Country=ARMENIA<br>Average Temperature evolution=%{x}<br>Greenhouse Gases Emissions=%{y}<extra></extra>",
         "legendgroup": "ARMENIA",
         "marker": {
          "color": "#17BECF",
          "symbol": "circle"
         },
         "mode": "markers",
         "name": "ARMENIA",
         "orientation": "v",
         "showlegend": true,
         "type": "scatter",
         "x": [
          1.895833333333334
         ],
         "xaxis": "x",
         "y": [
          3915964549
         ],
         "yaxis": "y"
        },
        {
         "hovertemplate": "Country=ARMENIA<extra></extra>",
         "legendgroup": "ARMENIA",
         "marker": {
          "color": "#17BECF",
          "symbol": "circle"
         },
         "mode": "lines",
         "name": "ARMENIA",
         "showlegend": false,
         "type": "scatter",
         "xaxis": "x",
         "yaxis": "y"
        },
        {
         "hovertemplate": "Country=ARUBA<br>Average Temperature evolution=%{x}<br>Greenhouse Gases Emissions=%{y}<extra></extra>",
         "legendgroup": "ARUBA",
         "marker": {
          "color": "#1F77B4",
          "symbol": "circle"
         },
         "mode": "markers",
         "name": "ARUBA",
         "orientation": "v",
         "showlegend": true,
         "type": "scatter",
         "x": [
          0.31250000000000006
         ],
         "xaxis": "x",
         "y": [
          680850880
         ],
         "yaxis": "y"
        },
        {
         "hovertemplate": "Country=ARUBA<extra></extra>",
         "legendgroup": "ARUBA",
         "marker": {
          "color": "#1F77B4",
          "symbol": "circle"
         },
         "mode": "lines",
         "name": "ARUBA",
         "showlegend": false,
         "type": "scatter",
         "xaxis": "x",
         "yaxis": "y"
        },
        {
         "hovertemplate": "Country=AUSTRALIA<br>Average Temperature evolution=%{x}<br>Greenhouse Gases Emissions=%{y}<extra></extra>",
         "legendgroup": "AUSTRALIA",
         "marker": {
          "color": "#FF7F0E",
          "symbol": "circle"
         },
         "mode": "markers",
         "name": "AUSTRALIA",
         "orientation": "v",
         "showlegend": true,
         "type": "scatter",
         "x": [
          0.7247500000000002
         ],
         "xaxis": "x",
         "y": [
          242422416648
         ],
         "yaxis": "y"
        },
        {
         "hovertemplate": "Country=AUSTRALIA<extra></extra>",
         "legendgroup": "AUSTRALIA",
         "marker": {
          "color": "#FF7F0E",
          "symbol": "circle"
         },
         "mode": "lines",
         "name": "AUSTRALIA",
         "showlegend": false,
         "type": "scatter",
         "xaxis": "x",
         "yaxis": "y"
        },
        {
         "hovertemplate": "Country=AUSTRIA<br>Average Temperature evolution=%{x}<br>Greenhouse Gases Emissions=%{y}<extra></extra>",
         "legendgroup": "AUSTRIA",
         "marker": {
          "color": "#2CA02C",
          "symbol": "circle"
         },
         "mode": "markers",
         "name": "AUSTRIA",
         "orientation": "v",
         "showlegend": true,
         "type": "scatter",
         "x": [
          1.1220833333333338
         ],
         "xaxis": "x",
         "y": [
          137227402232
         ],
         "yaxis": "y"
        },
        {
         "hovertemplate": "Country=AUSTRIA<extra></extra>",
         "legendgroup": "AUSTRIA",
         "marker": {
          "color": "#2CA02C",
          "symbol": "circle"
         },
         "mode": "lines",
         "name": "AUSTRIA",
         "showlegend": false,
         "type": "scatter",
         "xaxis": "x",
         "yaxis": "y"
        },
        {
         "hovertemplate": "Country=AZERBAIJAN<br>Average Temperature evolution=%{x}<br>Greenhouse Gases Emissions=%{y}<extra></extra>",
         "legendgroup": "AZERBAIJAN",
         "marker": {
          "color": "#D62728",
          "symbol": "circle"
         },
         "mode": "markers",
         "name": "AZERBAIJAN",
         "orientation": "v",
         "showlegend": true,
         "type": "scatter",
         "x": [
          2.008666666666665
         ],
         "xaxis": "x",
         "y": [
          37945403248
         ],
         "yaxis": "y"
        },
        {
         "hovertemplate": "Country=AZERBAIJAN<extra></extra>",
         "legendgroup": "AZERBAIJAN",
         "marker": {
          "color": "#D62728",
          "symbol": "circle"
         },
         "mode": "lines",
         "name": "AZERBAIJAN",
         "showlegend": false,
         "type": "scatter",
         "xaxis": "x",
         "yaxis": "y"
        },
        {
         "hovertemplate": "Country=BAHAMAS<br>Average Temperature evolution=%{x}<br>Greenhouse Gases Emissions=%{y}<extra></extra>",
         "legendgroup": "BAHAMAS",
         "marker": {
          "color": "#9467BD",
          "symbol": "circle"
         },
         "mode": "markers",
         "name": "BAHAMAS",
         "orientation": "v",
         "showlegend": true,
         "type": "scatter",
         "x": [
          -0.135499999999997
         ],
         "xaxis": "x",
         "y": [
          2801799151
         ],
         "yaxis": "y"
        },
        {
         "hovertemplate": "Country=BAHAMAS<extra></extra>",
         "legendgroup": "BAHAMAS",
         "marker": {
          "color": "#9467BD",
          "symbol": "circle"
         },
         "mode": "lines",
         "name": "BAHAMAS",
         "showlegend": false,
         "type": "scatter",
         "xaxis": "x",
         "yaxis": "y"
        },
        {
         "hovertemplate": "Country=BAHRAIN<br>Average Temperature evolution=%{x}<br>Greenhouse Gases Emissions=%{y}<extra></extra>",
         "legendgroup": "BAHRAIN",
         "marker": {
          "color": "#8C564B",
          "symbol": "circle"
         },
         "mode": "markers",
         "name": "BAHRAIN",
         "orientation": "v",
         "showlegend": true,
         "type": "scatter",
         "x": [
          1.674
         ],
         "xaxis": "x",
         "y": [
          7295437192
         ],
         "yaxis": "y"
        },
        {
         "hovertemplate": "Country=BAHRAIN<extra></extra>",
         "legendgroup": "BAHRAIN",
         "marker": {
          "color": "#8C564B",
          "symbol": "circle"
         },
         "mode": "lines",
         "name": "BAHRAIN",
         "showlegend": false,
         "type": "scatter",
         "xaxis": "x",
         "yaxis": "y"
        },
        {
         "hovertemplate": "Country=BANGLADESH<br>Average Temperature evolution=%{x}<br>Greenhouse Gases Emissions=%{y}<extra></extra>",
         "legendgroup": "BANGLADESH",
         "marker": {
          "color": "#E377C2",
          "symbol": "circle"
         },
         "mode": "markers",
         "name": "BANGLADESH",
         "orientation": "v",
         "showlegend": true,
         "type": "scatter",
         "x": [
          0.4899999999999983
         ],
         "xaxis": "x",
         "y": [
          5319912307
         ],
         "yaxis": "y"
        },
        {
         "hovertemplate": "Country=BANGLADESH<extra></extra>",
         "legendgroup": "BANGLADESH",
         "marker": {
          "color": "#E377C2",
          "symbol": "circle"
         },
         "mode": "lines",
         "name": "BANGLADESH",
         "showlegend": false,
         "type": "scatter",
         "xaxis": "x",
         "yaxis": "y"
        },
        {
         "hovertemplate": "Country=BARBADOS<br>Average Temperature evolution=%{x}<br>Greenhouse Gases Emissions=%{y}<extra></extra>",
         "legendgroup": "BARBADOS",
         "marker": {
          "color": "#7F7F7F",
          "symbol": "circle"
         },
         "mode": "markers",
         "name": "BARBADOS",
         "orientation": "v",
         "showlegend": true,
         "type": "scatter",
         "x": [
          0.576666666666668
         ],
         "xaxis": "x",
         "y": [
          487590628
         ],
         "yaxis": "y"
        },
        {
         "hovertemplate": "Country=BARBADOS<extra></extra>",
         "legendgroup": "BARBADOS",
         "marker": {
          "color": "#7F7F7F",
          "symbol": "circle"
         },
         "mode": "lines",
         "name": "BARBADOS",
         "showlegend": false,
         "type": "scatter",
         "xaxis": "x",
         "yaxis": "y"
        },
        {
         "hovertemplate": "Country=BELARUS<br>Average Temperature evolution=%{x}<br>Greenhouse Gases Emissions=%{y}<extra></extra>",
         "legendgroup": "BELARUS",
         "marker": {
          "color": "#BCBD22",
          "symbol": "circle"
         },
         "mode": "markers",
         "name": "BELARUS",
         "orientation": "v",
         "showlegend": true,
         "type": "scatter",
         "x": [
          0.74525
         ],
         "xaxis": "x",
         "y": [
          59258725973
         ],
         "yaxis": "y"
        },
        {
         "hovertemplate": "Country=BELARUS<extra></extra>",
         "legendgroup": "BELARUS",
         "marker": {
          "color": "#BCBD22",
          "symbol": "circle"
         },
         "mode": "lines",
         "name": "BELARUS",
         "showlegend": false,
         "type": "scatter",
         "xaxis": "x",
         "yaxis": "y"
        },
        {
         "hovertemplate": "Country=BELGIUM<br>Average Temperature evolution=%{x}<br>Greenhouse Gases Emissions=%{y}<extra></extra>",
         "legendgroup": "BELGIUM",
         "marker": {
          "color": "#17BECF",
          "symbol": "circle"
         },
         "mode": "markers",
         "name": "BELGIUM",
         "orientation": "v",
         "showlegend": true,
         "type": "scatter",
         "x": [
          0.5796666666666668
         ],
         "xaxis": "x",
         "y": [
          375773208983
         ],
         "yaxis": "y"
        },
        {
         "hovertemplate": "Country=BELGIUM<extra></extra>",
         "legendgroup": "BELGIUM",
         "marker": {
          "color": "#17BECF",
          "symbol": "circle"
         },
         "mode": "lines",
         "name": "BELGIUM",
         "showlegend": false,
         "type": "scatter",
         "xaxis": "x",
         "yaxis": "y"
        },
        {
         "hovertemplate": "Country=BELIZE<br>Average Temperature evolution=%{x}<br>Greenhouse Gases Emissions=%{y}<extra></extra>",
         "legendgroup": "BELIZE",
         "marker": {
          "color": "#1F77B4",
          "symbol": "circle"
         },
         "mode": "markers",
         "name": "BELIZE",
         "orientation": "v",
         "showlegend": true,
         "type": "scatter",
         "x": [
          0.06399999999999943
         ],
         "xaxis": "x",
         "y": [
          143471248
         ],
         "yaxis": "y"
        },
        {
         "hovertemplate": "Country=BELIZE<extra></extra>",
         "legendgroup": "BELIZE",
         "marker": {
          "color": "#1F77B4",
          "symbol": "circle"
         },
         "mode": "lines",
         "name": "BELIZE",
         "showlegend": false,
         "type": "scatter",
         "xaxis": "x",
         "yaxis": "y"
        },
        {
         "hovertemplate": "Country=BENIN<br>Average Temperature evolution=%{x}<br>Greenhouse Gases Emissions=%{y}<extra></extra>",
         "legendgroup": "BENIN",
         "marker": {
          "color": "#FF7F0E",
          "symbol": "circle"
         },
         "mode": "markers",
         "name": "BENIN",
         "orientation": "v",
         "showlegend": true,
         "type": "scatter",
         "x": [
          0.0014999999999964625
         ],
         "xaxis": "x",
         "y": [
          309019501
         ],
         "yaxis": "y"
        },
        {
         "hovertemplate": "Country=BENIN<extra></extra>",
         "legendgroup": "BENIN",
         "marker": {
          "color": "#FF7F0E",
          "symbol": "circle"
         },
         "mode": "lines",
         "name": "BENIN",
         "showlegend": false,
         "type": "scatter",
         "xaxis": "x",
         "yaxis": "y"
        },
        {
         "hovertemplate": "Country=BHUTAN<br>Average Temperature evolution=%{x}<br>Greenhouse Gases Emissions=%{y}<extra></extra>",
         "legendgroup": "BHUTAN",
         "marker": {
          "color": "#2CA02C",
          "symbol": "circle"
         },
         "mode": "markers",
         "name": "BHUTAN",
         "orientation": "v",
         "showlegend": true,
         "type": "scatter",
         "x": [
          0.22224999999999895
         ],
         "xaxis": "x",
         "y": [
          24456162
         ],
         "yaxis": "y"
        },
        {
         "hovertemplate": "Country=BHUTAN<extra></extra>",
         "legendgroup": "BHUTAN",
         "marker": {
          "color": "#2CA02C",
          "symbol": "circle"
         },
         "mode": "lines",
         "name": "BHUTAN",
         "showlegend": false,
         "type": "scatter",
         "xaxis": "x",
         "yaxis": "y"
        },
        {
         "hovertemplate": "Country=BOLIVIA<br>Average Temperature evolution=%{x}<br>Greenhouse Gases Emissions=%{y}<extra></extra>",
         "legendgroup": "BOLIVIA",
         "marker": {
          "color": "#D62728",
          "symbol": "circle"
         },
         "mode": "markers",
         "name": "BOLIVIA",
         "orientation": "v",
         "showlegend": true,
         "type": "scatter",
         "x": [
          0.29925000000000074
         ],
         "xaxis": "x",
         "y": [
          3264756988
         ],
         "yaxis": "y"
        },
        {
         "hovertemplate": "Country=BOLIVIA<extra></extra>",
         "legendgroup": "BOLIVIA",
         "marker": {
          "color": "#D62728",
          "symbol": "circle"
         },
         "mode": "lines",
         "name": "BOLIVIA",
         "showlegend": false,
         "type": "scatter",
         "xaxis": "x",
         "yaxis": "y"
        },
        {
         "hovertemplate": "Country=BOSNIA AND HERZEGOVINA<br>Average Temperature evolution=%{x}<br>Greenhouse Gases Emissions=%{y}<extra></extra>",
         "legendgroup": "BOSNIA AND HERZEGOVINA",
         "marker": {
          "color": "#9467BD",
          "symbol": "circle"
         },
         "mode": "markers",
         "name": "BOSNIA AND HERZEGOVINA",
         "orientation": "v",
         "showlegend": true,
         "type": "scatter",
         "x": [
          1.4973333333333334
         ],
         "xaxis": "x",
         "y": [
          9821514401
         ],
         "yaxis": "y"
        },
        {
         "hovertemplate": "Country=BOSNIA AND HERZEGOVINA<extra></extra>",
         "legendgroup": "BOSNIA AND HERZEGOVINA",
         "marker": {
          "color": "#9467BD",
          "symbol": "circle"
         },
         "mode": "lines",
         "name": "BOSNIA AND HERZEGOVINA",
         "showlegend": false,
         "type": "scatter",
         "xaxis": "x",
         "yaxis": "y"
        },
        {
         "hovertemplate": "Country=BOTSWANA<br>Average Temperature evolution=%{x}<br>Greenhouse Gases Emissions=%{y}<extra></extra>",
         "legendgroup": "BOTSWANA",
         "marker": {
          "color": "#8C564B",
          "symbol": "circle"
         },
         "mode": "markers",
         "name": "BOTSWANA",
         "orientation": "v",
         "showlegend": true,
         "type": "scatter",
         "x": [
          -0.4016666666666674
         ],
         "xaxis": "x",
         "y": [
          457831456
         ],
         "yaxis": "y"
        },
        {
         "hovertemplate": "Country=BOTSWANA<extra></extra>",
         "legendgroup": "BOTSWANA",
         "marker": {
          "color": "#8C564B",
          "symbol": "circle"
         },
         "mode": "lines",
         "name": "BOTSWANA",
         "showlegend": false,
         "type": "scatter",
         "xaxis": "x",
         "yaxis": "y"
        },
        {
         "hovertemplate": "Country=BRAZIL<br>Average Temperature evolution=%{x}<br>Greenhouse Gases Emissions=%{y}<extra></extra>",
         "legendgroup": "BRAZIL",
         "marker": {
          "color": "#E377C2",
          "symbol": "circle"
         },
         "mode": "markers",
         "name": "BRAZIL",
         "orientation": "v",
         "showlegend": true,
         "type": "scatter",
         "x": [
          0.5796666666666679
         ],
         "xaxis": "x",
         "y": [
          130918820247
         ],
         "yaxis": "y"
        },
        {
         "hovertemplate": "Country=BRAZIL<extra></extra>",
         "legendgroup": "BRAZIL",
         "marker": {
          "color": "#E377C2",
          "symbol": "circle"
         },
         "mode": "lines",
         "name": "BRAZIL",
         "showlegend": false,
         "type": "scatter",
         "xaxis": "x",
         "yaxis": "y"
        },
        {
         "hovertemplate": "Country=BRITISH VIRGIN ISLANDS<br>Average Temperature evolution=%{x}<br>Greenhouse Gases Emissions=%{y}<extra></extra>",
         "legendgroup": "BRITISH VIRGIN ISLANDS",
         "marker": {
          "color": "#7F7F7F",
          "symbol": "circle"
         },
         "mode": "markers",
         "name": "BRITISH VIRGIN ISLANDS",
         "orientation": "v",
         "showlegend": true,
         "type": "scatter",
         "x": [
          0.5604166666666612
         ],
         "xaxis": "x",
         "y": [
          21866752
         ],
         "yaxis": "y"
        },
        {
         "hovertemplate": "Country=BRITISH VIRGIN ISLANDS<extra></extra>",
         "legendgroup": "BRITISH VIRGIN ISLANDS",
         "marker": {
          "color": "#7F7F7F",
          "symbol": "circle"
         },
         "mode": "lines",
         "name": "BRITISH VIRGIN ISLANDS",
         "showlegend": false,
         "type": "scatter",
         "xaxis": "x",
         "yaxis": "y"
        },
        {
         "hovertemplate": "Country=BULGARIA<br>Average Temperature evolution=%{x}<br>Greenhouse Gases Emissions=%{y}<extra></extra>",
         "legendgroup": "BULGARIA",
         "marker": {
          "color": "#BCBD22",
          "symbol": "circle"
         },
         "mode": "markers",
         "name": "BULGARIA",
         "orientation": "v",
         "showlegend": true,
         "type": "scatter",
         "x": [
          1.606416666666668
         ],
         "xaxis": "x",
         "y": [
          63609762131
         ],
         "yaxis": "y"
        },
        {
         "hovertemplate": "Country=BULGARIA<extra></extra>",
         "legendgroup": "BULGARIA",
         "marker": {
          "color": "#BCBD22",
          "symbol": "circle"
         },
         "mode": "lines",
         "name": "BULGARIA",
         "showlegend": false,
         "type": "scatter",
         "xaxis": "x",
         "yaxis": "y"
        },
        {
         "hovertemplate": "Country=BURKINA FASO<br>Average Temperature evolution=%{x}<br>Greenhouse Gases Emissions=%{y}<extra></extra>",
         "legendgroup": "BURKINA FASO",
         "marker": {
          "color": "#17BECF",
          "symbol": "circle"
         },
         "mode": "markers",
         "name": "BURKINA FASO",
         "orientation": "v",
         "showlegend": true,
         "type": "scatter",
         "x": [
          -0.005333333333328999
         ],
         "xaxis": "x",
         "y": [
          225012897
         ],
         "yaxis": "y"
        },
        {
         "hovertemplate": "Country=BURKINA FASO<extra></extra>",
         "legendgroup": "BURKINA FASO",
         "marker": {
          "color": "#17BECF",
          "symbol": "circle"
         },
         "mode": "lines",
         "name": "BURKINA FASO",
         "showlegend": false,
         "type": "scatter",
         "xaxis": "x",
         "yaxis": "y"
        },
        {
         "hovertemplate": "Country=BURUNDI<br>Average Temperature evolution=%{x}<br>Greenhouse Gases Emissions=%{y}<extra></extra>",
         "legendgroup": "BURUNDI",
         "marker": {
          "color": "#1F77B4",
          "symbol": "circle"
         },
         "mode": "markers",
         "name": "BURUNDI",
         "orientation": "v",
         "showlegend": true,
         "type": "scatter",
         "x": [
          0.14266666666666705
         ],
         "xaxis": "x",
         "y": [
          89977565
         ],
         "yaxis": "y"
        },
        {
         "hovertemplate": "Country=BURUNDI<extra></extra>",
         "legendgroup": "BURUNDI",
         "marker": {
          "color": "#1F77B4",
          "symbol": "circle"
         },
         "mode": "lines",
         "name": "BURUNDI",
         "showlegend": false,
         "type": "scatter",
         "xaxis": "x",
         "yaxis": "y"
        },
        {
         "hovertemplate": "Country=CAMBODIA<br>Average Temperature evolution=%{x}<br>Greenhouse Gases Emissions=%{y}<extra></extra>",
         "legendgroup": "CAMBODIA",
         "marker": {
          "color": "#FF7F0E",
          "symbol": "circle"
         },
         "mode": "markers",
         "name": "CAMBODIA",
         "orientation": "v",
         "showlegend": true,
         "type": "scatter",
         "x": [
          0.07325000000000176
         ],
         "xaxis": "x",
         "y": [
          417769830
         ],
         "yaxis": "y"
        },
        {
         "hovertemplate": "Country=CAMBODIA<extra></extra>",
         "legendgroup": "CAMBODIA",
         "marker": {
          "color": "#FF7F0E",
          "symbol": "circle"
         },
         "mode": "lines",
         "name": "CAMBODIA",
         "showlegend": false,
         "type": "scatter",
         "xaxis": "x",
         "yaxis": "y"
        },
        {
         "hovertemplate": "Country=CAMEROON<br>Average Temperature evolution=%{x}<br>Greenhouse Gases Emissions=%{y}<extra></extra>",
         "legendgroup": "CAMEROON",
         "marker": {
          "color": "#2CA02C",
          "symbol": "circle"
         },
         "mode": "markers",
         "name": "CAMEROON",
         "orientation": "v",
         "showlegend": true,
         "type": "scatter",
         "x": [
          -0.06408333333333227
         ],
         "xaxis": "x",
         "y": [
          1544771416
         ],
         "yaxis": "y"
        },
        {
         "hovertemplate": "Country=CAMEROON<extra></extra>",
         "legendgroup": "CAMEROON",
         "marker": {
          "color": "#2CA02C",
          "symbol": "circle"
         },
         "mode": "lines",
         "name": "CAMEROON",
         "showlegend": false,
         "type": "scatter",
         "xaxis": "x",
         "yaxis": "y"
        },
        {
         "hovertemplate": "Country=CANADA<br>Average Temperature evolution=%{x}<br>Greenhouse Gases Emissions=%{y}<extra></extra>",
         "legendgroup": "CANADA",
         "marker": {
          "color": "#D62728",
          "symbol": "circle"
         },
         "mode": "markers",
         "name": "CANADA",
         "orientation": "v",
         "showlegend": true,
         "type": "scatter",
         "x": [
          0.9226666666666661
         ],
         "xaxis": "x",
         "y": [
          594489000075
         ],
         "yaxis": "y"
        },
        {
         "hovertemplate": "Country=CANADA<extra></extra>",
         "legendgroup": "CANADA",
         "marker": {
          "color": "#D62728",
          "symbol": "circle"
         },
         "mode": "lines",
         "name": "CANADA",
         "showlegend": false,
         "type": "scatter",
         "xaxis": "x",
         "yaxis": "y"
        },
        {
         "hovertemplate": "Country=CAPE VERDE<br>Average Temperature evolution=%{x}<br>Greenhouse Gases Emissions=%{y}<extra></extra>",
         "legendgroup": "CAPE VERDE",
         "marker": {
          "color": "#9467BD",
          "symbol": "circle"
         },
         "mode": "markers",
         "name": "CAPE VERDE",
         "orientation": "v",
         "showlegend": true,
         "type": "scatter",
         "x": [
          0.5867500000000023
         ],
         "xaxis": "x",
         "y": [
          68201880
         ],
         "yaxis": "y"
        },
        {
         "hovertemplate": "Country=CAPE VERDE<extra></extra>",
         "legendgroup": "CAPE VERDE",
         "marker": {
          "color": "#9467BD",
          "symbol": "circle"
         },
         "mode": "lines",
         "name": "CAPE VERDE",
         "showlegend": false,
         "type": "scatter",
         "xaxis": "x",
         "yaxis": "y"
        },
        {
         "hovertemplate": "Country=CAYMAN ISLANDS<br>Average Temperature evolution=%{x}<br>Greenhouse Gases Emissions=%{y}<extra></extra>",
         "legendgroup": "CAYMAN ISLANDS",
         "marker": {
          "color": "#8C564B",
          "symbol": "circle"
         },
         "mode": "markers",
         "name": "CAYMAN ISLANDS",
         "orientation": "v",
         "showlegend": true,
         "type": "scatter",
         "x": [
          0.07075000000000028
         ],
         "xaxis": "x",
         "y": [
          75328176
         ],
         "yaxis": "y"
        },
        {
         "hovertemplate": "Country=CAYMAN ISLANDS<extra></extra>",
         "legendgroup": "CAYMAN ISLANDS",
         "marker": {
          "color": "#8C564B",
          "symbol": "circle"
         },
         "mode": "lines",
         "name": "CAYMAN ISLANDS",
         "showlegend": false,
         "type": "scatter",
         "xaxis": "x",
         "yaxis": "y"
        },
        {
         "hovertemplate": "Country=CENTRAL AFRICAN REPUBLIC<br>Average Temperature evolution=%{x}<br>Greenhouse Gases Emissions=%{y}<extra></extra>",
         "legendgroup": "CENTRAL AFRICAN REPUBLIC",
         "marker": {
          "color": "#E377C2",
          "symbol": "circle"
         },
         "mode": "markers",
         "name": "CENTRAL AFRICAN REPUBLIC",
         "orientation": "v",
         "showlegend": true,
         "type": "scatter",
         "x": [
          0.12899999999999684
         ],
         "xaxis": "x",
         "y": [
          122091808
         ],
         "yaxis": "y"
        },
        {
         "hovertemplate": "Country=CENTRAL AFRICAN REPUBLIC<extra></extra>",
         "legendgroup": "CENTRAL AFRICAN REPUBLIC",
         "marker": {
          "color": "#E377C2",
          "symbol": "circle"
         },
         "mode": "lines",
         "name": "CENTRAL AFRICAN REPUBLIC",
         "showlegend": false,
         "type": "scatter",
         "xaxis": "x",
         "yaxis": "y"
        },
        {
         "hovertemplate": "Country=CHAD<br>Average Temperature evolution=%{x}<br>Greenhouse Gases Emissions=%{y}<extra></extra>",
         "legendgroup": "CHAD",
         "marker": {
          "color": "#7F7F7F",
          "symbol": "circle"
         },
         "mode": "markers",
         "name": "CHAD",
         "orientation": "v",
         "showlegend": true,
         "type": "scatter",
         "x": [
          0.5178333333333321
         ],
         "xaxis": "x",
         "y": [
          118424144
         ],
         "yaxis": "y"
        },
        {
         "hovertemplate": "Country=CHAD<extra></extra>",
         "legendgroup": "CHAD",
         "marker": {
          "color": "#7F7F7F",
          "symbol": "circle"
         },
         "mode": "lines",
         "name": "CHAD",
         "showlegend": false,
         "type": "scatter",
         "xaxis": "x",
         "yaxis": "y"
        },
        {
         "hovertemplate": "Country=CHILE<br>Average Temperature evolution=%{x}<br>Greenhouse Gases Emissions=%{y}<extra></extra>",
         "legendgroup": "CHILE",
         "marker": {
          "color": "#BCBD22",
          "symbol": "circle"
         },
         "mode": "markers",
         "name": "CHILE",
         "orientation": "v",
         "showlegend": true,
         "type": "scatter",
         "x": [
          0.1949166666666678
         ],
         "xaxis": "x",
         "y": [
          34621927092
         ],
         "yaxis": "y"
        },
        {
         "hovertemplate": "Country=CHILE<extra></extra>",
         "legendgroup": "CHILE",
         "marker": {
          "color": "#BCBD22",
          "symbol": "circle"
         },
         "mode": "lines",
         "name": "CHILE",
         "showlegend": false,
         "type": "scatter",
         "xaxis": "x",
         "yaxis": "y"
        },
        {
         "hovertemplate": "Country=CHINA<br>Average Temperature evolution=%{x}<br>Greenhouse Gases Emissions=%{y}<extra></extra>",
         "legendgroup": "CHINA",
         "marker": {
          "color": "#17BECF",
          "symbol": "circle"
         },
         "mode": "markers",
         "name": "CHINA",
         "orientation": "v",
         "showlegend": true,
         "type": "scatter",
         "x": [
          0.2625833333333325
         ],
         "xaxis": "x",
         "y": [
          1170042995201
         ],
         "yaxis": "y"
        },
        {
         "hovertemplate": "Country=CHINA<extra></extra>",
         "legendgroup": "CHINA",
         "marker": {
          "color": "#17BECF",
          "symbol": "circle"
         },
         "mode": "lines",
         "name": "CHINA",
         "showlegend": false,
         "type": "scatter",
         "xaxis": "x",
         "yaxis": "y"
        },
        {
         "hovertemplate": "Country=CHRISTMAS ISLAND<br>Average Temperature evolution=%{x}<br>Greenhouse Gases Emissions=%{y}<extra></extra>",
         "legendgroup": "CHRISTMAS ISLAND",
         "marker": {
          "color": "#1F77B4",
          "symbol": "circle"
         },
         "mode": "markers",
         "name": "CHRISTMAS ISLAND",
         "orientation": "v",
         "showlegend": true,
         "type": "scatter",
         "x": [
          0.5783333333333334
         ],
         "xaxis": "x",
         "y": [
          32536320
         ],
         "yaxis": "y"
        },
        {
         "hovertemplate": "Country=CHRISTMAS ISLAND<extra></extra>",
         "legendgroup": "CHRISTMAS ISLAND",
         "marker": {
          "color": "#1F77B4",
          "symbol": "circle"
         },
         "mode": "lines",
         "name": "CHRISTMAS ISLAND",
         "showlegend": false,
         "type": "scatter",
         "xaxis": "x",
         "yaxis": "y"
        },
        {
         "hovertemplate": "Country=COLOMBIA<br>Average Temperature evolution=%{x}<br>Greenhouse Gases Emissions=%{y}<extra></extra>",
         "legendgroup": "COLOMBIA",
         "marker": {
          "color": "#FF7F0E",
          "symbol": "circle"
         },
         "mode": "markers",
         "name": "COLOMBIA",
         "orientation": "v",
         "showlegend": true,
         "type": "scatter",
         "x": [
          0.2765833333333276
         ],
         "xaxis": "x",
         "y": [
          37933646111
         ],
         "yaxis": "y"
        },
        {
         "hovertemplate": "Country=COLOMBIA<extra></extra>",
         "legendgroup": "COLOMBIA",
         "marker": {
          "color": "#FF7F0E",
          "symbol": "circle"
         },
         "mode": "lines",
         "name": "COLOMBIA",
         "showlegend": false,
         "type": "scatter",
         "xaxis": "x",
         "yaxis": "y"
        },
        {
         "hovertemplate": "Country=COMOROS<br>Average Temperature evolution=%{x}<br>Greenhouse Gases Emissions=%{y}<extra></extra>",
         "legendgroup": "COMOROS",
         "marker": {
          "color": "#2CA02C",
          "symbol": "circle"
         },
         "mode": "markers",
         "name": "COMOROS",
         "orientation": "v",
         "showlegend": true,
         "type": "scatter",
         "x": [
          0.1992500000000031
         ],
         "xaxis": "x",
         "y": [
          26402784
         ],
         "yaxis": "y"
        },
        {
         "hovertemplate": "Country=COMOROS<extra></extra>",
         "legendgroup": "COMOROS",
         "marker": {
          "color": "#2CA02C",
          "symbol": "circle"
         },
         "mode": "lines",
         "name": "COMOROS",
         "showlegend": false,
         "type": "scatter",
         "xaxis": "x",
         "yaxis": "y"
        },
        {
         "hovertemplate": "Country=COSTA RICA<br>Average Temperature evolution=%{x}<br>Greenhouse Gases Emissions=%{y}<extra></extra>",
         "legendgroup": "COSTA RICA",
         "marker": {
          "color": "#D62728",
          "symbol": "circle"
         },
         "mode": "markers",
         "name": "COSTA RICA",
         "orientation": "v",
         "showlegend": true,
         "type": "scatter",
         "x": [
          0.8344166666666624
         ],
         "xaxis": "x",
         "y": [
          1659665553
         ],
         "yaxis": "y"
        },
        {
         "hovertemplate": "Country=COSTA RICA<extra></extra>",
         "legendgroup": "COSTA RICA",
         "marker": {
          "color": "#D62728",
          "symbol": "circle"
         },
         "mode": "lines",
         "name": "COSTA RICA",
         "showlegend": false,
         "type": "scatter",
         "xaxis": "x",
         "yaxis": "y"
        },
        {
         "hovertemplate": "Country=CROATIA<br>Average Temperature evolution=%{x}<br>Greenhouse Gases Emissions=%{y}<extra></extra>",
         "legendgroup": "CROATIA",
         "marker": {
          "color": "#9467BD",
          "symbol": "circle"
         },
         "mode": "markers",
         "name": "CROATIA",
         "orientation": "v",
         "showlegend": true,
         "type": "scatter",
         "x": [
          1.4178333333333322
         ],
         "xaxis": "x",
         "y": [
          11051731793
         ],
         "yaxis": "y"
        },
        {
         "hovertemplate": "Country=CROATIA<extra></extra>",
         "legendgroup": "CROATIA",
         "marker": {
          "color": "#9467BD",
          "symbol": "circle"
         },
         "mode": "lines",
         "name": "CROATIA",
         "showlegend": false,
         "type": "scatter",
         "xaxis": "x",
         "yaxis": "y"
        },
        {
         "hovertemplate": "Country=CUBA<br>Average Temperature evolution=%{x}<br>Greenhouse Gases Emissions=%{y}<extra></extra>",
         "legendgroup": "CUBA",
         "marker": {
          "color": "#8C564B",
          "symbol": "circle"
         },
         "mode": "markers",
         "name": "CUBA",
         "orientation": "v",
         "showlegend": true,
         "type": "scatter",
         "x": [
          0.10316666666666671
         ],
         "xaxis": "x",
         "y": [
          23345578988
         ],
         "yaxis": "y"
        },
        {
         "hovertemplate": "Country=CUBA<extra></extra>",
         "legendgroup": "CUBA",
         "marker": {
          "color": "#8C564B",
          "symbol": "circle"
         },
         "mode": "lines",
         "name": "CUBA",
         "showlegend": false,
         "type": "scatter",
         "xaxis": "x",
         "yaxis": "y"
        },
        {
         "hovertemplate": "Country=CYPRUS<br>Average Temperature evolution=%{x}<br>Greenhouse Gases Emissions=%{y}<extra></extra>",
         "legendgroup": "CYPRUS",
         "marker": {
          "color": "#E377C2",
          "symbol": "circle"
         },
         "mode": "markers",
         "name": "CYPRUS",
         "orientation": "v",
         "showlegend": true,
         "type": "scatter",
         "x": [
          1.209416666666666
         ],
         "xaxis": "x",
         "y": [
          2212290284
         ],
         "yaxis": "y"
        },
        {
         "hovertemplate": "Country=CYPRUS<extra></extra>",
         "legendgroup": "CYPRUS",
         "marker": {
          "color": "#E377C2",
          "symbol": "circle"
         },
         "mode": "lines",
         "name": "CYPRUS",
         "showlegend": false,
         "type": "scatter",
         "xaxis": "x",
         "yaxis": "y"
        },
        {
         "hovertemplate": "Country=CZECH REPUBLIC<br>Average Temperature evolution=%{x}<br>Greenhouse Gases Emissions=%{y}<extra></extra>",
         "legendgroup": "CZECH REPUBLIC",
         "marker": {
          "color": "#7F7F7F",
          "symbol": "circle"
         },
         "mode": "markers",
         "name": "CZECH REPUBLIC",
         "orientation": "v",
         "showlegend": true,
         "type": "scatter",
         "x": [
          1.1612500000000014
         ],
         "xaxis": "x",
         "y": [
          132007772069
         ],
         "yaxis": "y"
        },
        {
         "hovertemplate": "Country=CZECH REPUBLIC<extra></extra>",
         "legendgroup": "CZECH REPUBLIC",
         "marker": {
          "color": "#7F7F7F",
          "symbol": "circle"
         },
         "mode": "lines",
         "name": "CZECH REPUBLIC",
         "showlegend": false,
         "type": "scatter",
         "xaxis": "x",
         "yaxis": "y"
        },
        {
         "hovertemplate": "Country=CÔTE D'IVOIRE<br>Average Temperature evolution=%{x}<br>Greenhouse Gases Emissions=%{y}<extra></extra>",
         "legendgroup": "CÔTE D'IVOIRE",
         "marker": {
          "color": "#BCBD22",
          "symbol": "circle"
         },
         "mode": "markers",
         "name": "CÔTE D'IVOIRE",
         "orientation": "v",
         "showlegend": true,
         "type": "scatter",
         "x": [
          0.22650000000000198
         ],
         "xaxis": "x",
         "y": [
          0
         ],
         "yaxis": "y"
        },
        {
         "hovertemplate": "Country=CÔTE D'IVOIRE<extra></extra>",
         "legendgroup": "CÔTE D'IVOIRE",
         "marker": {
          "color": "#BCBD22",
          "symbol": "circle"
         },
         "mode": "lines",
         "name": "CÔTE D'IVOIRE",
         "showlegend": false,
         "type": "scatter",
         "xaxis": "x",
         "yaxis": "y"
        },
        {
         "hovertemplate": "Country=DEM. REP. KOREA<br>Average Temperature evolution=%{x}<br>Greenhouse Gases Emissions=%{y}<extra></extra>",
         "legendgroup": "DEM. REP. KOREA",
         "marker": {
          "color": "#17BECF",
          "symbol": "circle"
         },
         "mode": "markers",
         "name": "DEM. REP. KOREA",
         "orientation": "v",
         "showlegend": true,
         "type": "scatter",
         "x": [
          0.3877499999999985
         ],
         "xaxis": "x",
         "y": [
          74982435038
         ],
         "yaxis": "y"
        },
        {
         "hovertemplate": "Country=DEM. REP. KOREA<extra></extra>",
         "legendgroup": "DEM. REP. KOREA",
         "marker": {
          "color": "#17BECF",
          "symbol": "circle"
         },
         "mode": "lines",
         "name": "DEM. REP. KOREA",
         "showlegend": false,
         "type": "scatter",
         "xaxis": "x",
         "yaxis": "y"
        },
        {
         "hovertemplate": "Country=DEMOCRATIC REPUBLIC OF THE CONGO<br>Average Temperature evolution=%{x}<br>Greenhouse Gases Emissions=%{y}<extra></extra>",
         "legendgroup": "DEMOCRATIC REPUBLIC OF THE CONGO",
         "marker": {
          "color": "#1F77B4",
          "symbol": "circle"
         },
         "mode": "markers",
         "name": "DEMOCRATIC REPUBLIC OF THE CONGO",
         "orientation": "v",
         "showlegend": true,
         "type": "scatter",
         "x": [
          0.12858333333332847
         ],
         "xaxis": "x",
         "y": [
          0
         ],
         "yaxis": "y"
        },
        {
         "hovertemplate": "Country=DEMOCRATIC REPUBLIC OF THE CONGO<extra></extra>",
         "legendgroup": "DEMOCRATIC REPUBLIC OF THE CONGO",
         "marker": {
          "color": "#1F77B4",
          "symbol": "circle"
         },
         "mode": "lines",
         "name": "DEMOCRATIC REPUBLIC OF THE CONGO",
         "showlegend": false,
         "type": "scatter",
         "xaxis": "x",
         "yaxis": "y"
        },
        {
         "hovertemplate": "Country=DENMARK<br>Average Temperature evolution=%{x}<br>Greenhouse Gases Emissions=%{y}<extra></extra>",
         "legendgroup": "DENMARK",
         "marker": {
          "color": "#FF7F0E",
          "symbol": "circle"
         },
         "mode": "markers",
         "name": "DENMARK",
         "orientation": "v",
         "showlegend": true,
         "type": "scatter",
         "x": [
          0.34600000000000003
         ],
         "xaxis": "x",
         "y": [
          90364582843
         ],
         "yaxis": "y"
        },
        {
         "hovertemplate": "Country=DENMARK<extra></extra>",
         "legendgroup": "DENMARK",
         "marker": {
          "color": "#FF7F0E",
          "symbol": "circle"
         },
         "mode": "lines",
         "name": "DENMARK",
         "showlegend": false,
         "type": "scatter",
         "xaxis": "x",
         "yaxis": "y"
        },
        {
         "hovertemplate": "Country=DJIBOUTI<br>Average Temperature evolution=%{x}<br>Greenhouse Gases Emissions=%{y}<extra></extra>",
         "legendgroup": "DJIBOUTI",
         "marker": {
          "color": "#2CA02C",
          "symbol": "circle"
         },
         "mode": "markers",
         "name": "DJIBOUTI",
         "orientation": "v",
         "showlegend": true,
         "type": "scatter",
         "x": [
          1.1611666666666665
         ],
         "xaxis": "x",
         "y": [
          175674144
         ],
         "yaxis": "y"
        },
        {
         "hovertemplate": "Country=DJIBOUTI<extra></extra>",
         "legendgroup": "DJIBOUTI",
         "marker": {
          "color": "#2CA02C",
          "symbol": "circle"
         },
         "mode": "lines",
         "name": "DJIBOUTI",
         "showlegend": false,
         "type": "scatter",
         "xaxis": "x",
         "yaxis": "y"
        },
        {
         "hovertemplate": "Country=DOMINICA<br>Average Temperature evolution=%{x}<br>Greenhouse Gases Emissions=%{y}<extra></extra>",
         "legendgroup": "DOMINICA",
         "marker": {
          "color": "#D62728",
          "symbol": "circle"
         },
         "mode": "markers",
         "name": "DOMINICA",
         "orientation": "v",
         "showlegend": true,
         "type": "scatter",
         "x": [
          0.5978333333333374
         ],
         "xaxis": "x",
         "y": [
          26611632
         ],
         "yaxis": "y"
        },
        {
         "hovertemplate": "Country=DOMINICA<extra></extra>",
         "legendgroup": "DOMINICA",
         "marker": {
          "color": "#D62728",
          "symbol": "circle"
         },
         "mode": "lines",
         "name": "DOMINICA",
         "showlegend": false,
         "type": "scatter",
         "xaxis": "x",
         "yaxis": "y"
        },
        {
         "hovertemplate": "Country=DOMINICAN REPUBLIC<br>Average Temperature evolution=%{x}<br>Greenhouse Gases Emissions=%{y}<extra></extra>",
         "legendgroup": "DOMINICAN REPUBLIC",
         "marker": {
          "color": "#9467BD",
          "symbol": "circle"
         },
         "mode": "markers",
         "name": "DOMINICAN REPUBLIC",
         "orientation": "v",
         "showlegend": true,
         "type": "scatter",
         "x": [
          0.295333333333332
         ],
         "xaxis": "x",
         "y": [
          4441986873
         ],
         "yaxis": "y"
        },
        {
         "hovertemplate": "Country=DOMINICAN REPUBLIC<extra></extra>",
         "legendgroup": "DOMINICAN REPUBLIC",
         "marker": {
          "color": "#9467BD",
          "symbol": "circle"
         },
         "mode": "lines",
         "name": "DOMINICAN REPUBLIC",
         "showlegend": false,
         "type": "scatter",
         "xaxis": "x",
         "yaxis": "y"
        },
        {
         "hovertemplate": "Country=ECUADOR<br>Average Temperature evolution=%{x}<br>Greenhouse Gases Emissions=%{y}<extra></extra>",
         "legendgroup": "ECUADOR",
         "marker": {
          "color": "#8C564B",
          "symbol": "circle"
         },
         "mode": "markers",
         "name": "ECUADOR",
         "orientation": "v",
         "showlegend": true,
         "type": "scatter",
         "x": [
          0.29566666666666563
         ],
         "xaxis": "x",
         "y": [
          8365825027
         ],
         "yaxis": "y"
        },
        {
         "hovertemplate": "Country=ECUADOR<extra></extra>",
         "legendgroup": "ECUADOR",
         "marker": {
          "color": "#8C564B",
          "symbol": "circle"
         },
         "mode": "lines",
         "name": "ECUADOR",
         "showlegend": false,
         "type": "scatter",
         "xaxis": "x",
         "yaxis": "y"
        },
        {
         "hovertemplate": "Country=EGYPT<br>Average Temperature evolution=%{x}<br>Greenhouse Gases Emissions=%{y}<extra></extra>",
         "legendgroup": "EGYPT",
         "marker": {
          "color": "#E377C2",
          "symbol": "circle"
         },
         "mode": "markers",
         "name": "EGYPT",
         "orientation": "v",
         "showlegend": true,
         "type": "scatter",
         "x": [
          0.9889166666666689
         ],
         "xaxis": "x",
         "y": [
          40314686259
         ],
         "yaxis": "y"
        },
        {
         "hovertemplate": "Country=EGYPT<extra></extra>",
         "legendgroup": "EGYPT",
         "marker": {
          "color": "#E377C2",
          "symbol": "circle"
         },
         "mode": "lines",
         "name": "EGYPT",
         "showlegend": false,
         "type": "scatter",
         "xaxis": "x",
         "yaxis": "y"
        },
        {
         "hovertemplate": "Country=EL SALVADOR<br>Average Temperature evolution=%{x}<br>Greenhouse Gases Emissions=%{y}<extra></extra>",
         "legendgroup": "EL SALVADOR",
         "marker": {
          "color": "#7F7F7F",
          "symbol": "circle"
         },
         "mode": "markers",
         "name": "EL SALVADOR",
         "orientation": "v",
         "showlegend": true,
         "type": "scatter",
         "x": [
          0.445583333333335
         ],
         "xaxis": "x",
         "y": [
          1685255119
         ],
         "yaxis": "y"
        },
        {
         "hovertemplate": "Country=EL SALVADOR<extra></extra>",
         "legendgroup": "EL SALVADOR",
         "marker": {
          "color": "#7F7F7F",
          "symbol": "circle"
         },
         "mode": "lines",
         "name": "EL SALVADOR",
         "showlegend": false,
         "type": "scatter",
         "xaxis": "x",
         "yaxis": "y"
        },
        {
         "hovertemplate": "Country=EQUATORIAL GUINEA<br>Average Temperature evolution=%{x}<br>Greenhouse Gases Emissions=%{y}<extra></extra>",
         "legendgroup": "EQUATORIAL GUINEA",
         "marker": {
          "color": "#BCBD22",
          "symbol": "circle"
         },
         "mode": "markers",
         "name": "EQUATORIAL GUINEA",
         "orientation": "v",
         "showlegend": true,
         "type": "scatter",
         "x": [
          -0.2659166666666692
         ],
         "xaxis": "x",
         "y": [
          59576640
         ],
         "yaxis": "y"
        },
        {
         "hovertemplate": "Country=EQUATORIAL GUINEA<extra></extra>",
         "legendgroup": "EQUATORIAL GUINEA",
         "marker": {
          "color": "#BCBD22",
          "symbol": "circle"
         },
         "mode": "lines",
         "name": "EQUATORIAL GUINEA",
         "showlegend": false,
         "type": "scatter",
         "xaxis": "x",
         "yaxis": "y"
        },
        {
         "hovertemplate": "Country=ERITREA<br>Average Temperature evolution=%{x}<br>Greenhouse Gases Emissions=%{y}<extra></extra>",
         "legendgroup": "ERITREA",
         "marker": {
          "color": "#17BECF",
          "symbol": "circle"
         },
         "mode": "markers",
         "name": "ERITREA",
         "orientation": "v",
         "showlegend": true,
         "type": "scatter",
         "x": [
          0.8258333333333316
         ],
         "xaxis": "x",
         "y": [
          27218264
         ],
         "yaxis": "y"
        },
        {
         "hovertemplate": "Country=ERITREA<extra></extra>",
         "legendgroup": "ERITREA",
         "marker": {
          "color": "#17BECF",
          "symbol": "circle"
         },
         "mode": "lines",
         "name": "ERITREA",
         "showlegend": false,
         "type": "scatter",
         "xaxis": "x",
         "yaxis": "y"
        },
        {
         "hovertemplate": "Country=ESTONIA<br>Average Temperature evolution=%{x}<br>Greenhouse Gases Emissions=%{y}<extra></extra>",
         "legendgroup": "ESTONIA",
         "marker": {
          "color": "#1F77B4",
          "symbol": "circle"
         },
         "mode": "markers",
         "name": "ESTONIA",
         "orientation": "v",
         "showlegend": true,
         "type": "scatter",
         "x": [
          0.26233333333333375
         ],
         "xaxis": "x",
         "y": [
          16444370948
         ],
         "yaxis": "y"
        },
        {
         "hovertemplate": "Country=ESTONIA<extra></extra>",
         "legendgroup": "ESTONIA",
         "marker": {
          "color": "#1F77B4",
          "symbol": "circle"
         },
         "mode": "lines",
         "name": "ESTONIA",
         "showlegend": false,
         "type": "scatter",
         "xaxis": "x",
         "yaxis": "y"
        },
        {
         "hovertemplate": "Country=ETHIOPIA<br>Average Temperature evolution=%{x}<br>Greenhouse Gases Emissions=%{y}<extra></extra>",
         "legendgroup": "ETHIOPIA",
         "marker": {
          "color": "#FF7F0E",
          "symbol": "circle"
         },
         "mode": "markers",
         "name": "ETHIOPIA",
         "orientation": "v",
         "showlegend": true,
         "type": "scatter",
         "x": [
          0.8258333333333351
         ],
         "xaxis": "x",
         "y": [
          1292017060
         ],
         "yaxis": "y"
        },
        {
         "hovertemplate": "Country=ETHIOPIA<extra></extra>",
         "legendgroup": "ETHIOPIA",
         "marker": {
          "color": "#FF7F0E",
          "symbol": "circle"
         },
         "mode": "lines",
         "name": "ETHIOPIA",
         "showlegend": false,
         "type": "scatter",
         "xaxis": "x",
         "yaxis": "y"
        },
        {
         "hovertemplate": "Country=FALKLAND ISLANDS (MALVINAS)<br>Average Temperature evolution=%{x}<br>Greenhouse Gases Emissions=%{y}<extra></extra>",
         "legendgroup": "FALKLAND ISLANDS (MALVINAS)",
         "marker": {
          "color": "#2CA02C",
          "symbol": "circle"
         },
         "mode": "markers",
         "name": "FALKLAND ISLANDS (MALVINAS)",
         "orientation": "v",
         "showlegend": true,
         "type": "scatter",
         "x": [
          0.42758333333333365
         ],
         "xaxis": "x",
         "y": [
          0
         ],
         "yaxis": "y"
        },
        {
         "hovertemplate": "Country=FALKLAND ISLANDS (MALVINAS)<extra></extra>",
         "legendgroup": "FALKLAND ISLANDS (MALVINAS)",
         "marker": {
          "color": "#2CA02C",
          "symbol": "circle"
         },
         "mode": "lines",
         "name": "FALKLAND ISLANDS (MALVINAS)",
         "showlegend": false,
         "type": "scatter",
         "xaxis": "x",
         "yaxis": "y"
        },
        {
         "hovertemplate": "Country=FAROE ISLANDS<br>Average Temperature evolution=%{x}<br>Greenhouse Gases Emissions=%{y}<extra></extra>",
         "legendgroup": "FAROE ISLANDS",
         "marker": {
          "color": "#D62728",
          "symbol": "circle"
         },
         "mode": "markers",
         "name": "FAROE ISLANDS",
         "orientation": "v",
         "showlegend": true,
         "type": "scatter",
         "x": [
          0.05283333333333298
         ],
         "xaxis": "x",
         "y": [
          0
         ],
         "yaxis": "y"
        },
        {
         "hovertemplate": "Country=FAROE ISLANDS<extra></extra>",
         "legendgroup": "FAROE ISLANDS",
         "marker": {
          "color": "#D62728",
          "symbol": "circle"
         },
         "mode": "lines",
         "name": "FAROE ISLANDS",
         "showlegend": false,
         "type": "scatter",
         "xaxis": "x",
         "yaxis": "y"
        },
        {
         "hovertemplate": "Country=FEDERATED STATES OF MICRONESIA<br>Average Temperature evolution=%{x}<br>Greenhouse Gases Emissions=%{y}<extra></extra>",
         "legendgroup": "FEDERATED STATES OF MICRONESIA",
         "marker": {
          "color": "#9467BD",
          "symbol": "circle"
         },
         "mode": "markers",
         "name": "FEDERATED STATES OF MICRONESIA",
         "orientation": "v",
         "showlegend": true,
         "type": "scatter",
         "x": [
          0.6786666666666685
         ],
         "xaxis": "x",
         "y": [
          0
         ],
         "yaxis": "y"
        },
        {
         "hovertemplate": "Country=FEDERATED STATES OF MICRONESIA<extra></extra>",
         "legendgroup": "FEDERATED STATES OF MICRONESIA",
         "marker": {
          "color": "#9467BD",
          "symbol": "circle"
         },
         "mode": "lines",
         "name": "FEDERATED STATES OF MICRONESIA",
         "showlegend": false,
         "type": "scatter",
         "xaxis": "x",
         "yaxis": "y"
        },
        {
         "hovertemplate": "Country=FIJI<br>Average Temperature evolution=%{x}<br>Greenhouse Gases Emissions=%{y}<extra></extra>",
         "legendgroup": "FIJI",
         "marker": {
          "color": "#8C564B",
          "symbol": "circle"
         },
         "mode": "markers",
         "name": "FIJI",
         "orientation": "v",
         "showlegend": true,
         "type": "scatter",
         "x": [
          0.6230000000000046
         ],
         "xaxis": "x",
         "y": [
          519129258
         ],
         "yaxis": "y"
        },
        {
         "hovertemplate": "Country=FIJI<extra></extra>",
         "legendgroup": "FIJI",
         "marker": {
          "color": "#8C564B",
          "symbol": "circle"
         },
         "mode": "lines",
         "name": "FIJI",
         "showlegend": false,
         "type": "scatter",
         "xaxis": "x",
         "yaxis": "y"
        },
        {
         "hovertemplate": "Country=FINLAND<br>Average Temperature evolution=%{x}<br>Greenhouse Gases Emissions=%{y}<extra></extra>",
         "legendgroup": "FINLAND",
         "marker": {
          "color": "#E377C2",
          "symbol": "circle"
         },
         "mode": "markers",
         "name": "FINLAND",
         "orientation": "v",
         "showlegend": true,
         "type": "scatter",
         "x": [
          0.5447499999999996
         ],
         "xaxis": "x",
         "y": [
          43719702699
         ],
         "yaxis": "y"
        },
        {
         "hovertemplate": "Country=FINLAND<extra></extra>",
         "legendgroup": "FINLAND",
         "marker": {
          "color": "#E377C2",
          "symbol": "circle"
         },
         "mode": "lines",
         "name": "FINLAND",
         "showlegend": false,
         "type": "scatter",
         "xaxis": "x",
         "yaxis": "y"
        },
        {
         "hovertemplate": "Country=FRANCE<br>Average Temperature evolution=%{x}<br>Greenhouse Gases Emissions=%{y}<extra></extra>",
         "legendgroup": "FRANCE",
         "marker": {
          "color": "#7F7F7F",
          "symbol": "circle"
         },
         "mode": "markers",
         "name": "FRANCE",
         "orientation": "v",
         "showlegend": true,
         "type": "scatter",
         "x": [
          0.2121666666666668
         ],
         "xaxis": "x",
         "y": [
          1055914787866
         ],
         "yaxis": "y"
        },
        {
         "hovertemplate": "Country=FRANCE<extra></extra>",
         "legendgroup": "FRANCE",
         "marker": {
          "color": "#7F7F7F",
          "symbol": "circle"
         },
         "mode": "lines",
         "name": "FRANCE",
         "showlegend": false,
         "type": "scatter",
         "xaxis": "x",
         "yaxis": "y"
        },
        {
         "hovertemplate": "Country=FRENCH GUIANA<br>Average Temperature evolution=%{x}<br>Greenhouse Gases Emissions=%{y}<extra></extra>",
         "legendgroup": "FRENCH GUIANA",
         "marker": {
          "color": "#BCBD22",
          "symbol": "circle"
         },
         "mode": "markers",
         "name": "FRENCH GUIANA",
         "orientation": "v",
         "showlegend": true,
         "type": "scatter",
         "x": [
          0.5699999999999996
         ],
         "xaxis": "x",
         "y": [
          181822336
         ],
         "yaxis": "y"
        },
        {
         "hovertemplate": "Country=FRENCH GUIANA<extra></extra>",
         "legendgroup": "FRENCH GUIANA",
         "marker": {
          "color": "#BCBD22",
          "symbol": "circle"
         },
         "mode": "lines",
         "name": "FRENCH GUIANA",
         "showlegend": false,
         "type": "scatter",
         "xaxis": "x",
         "yaxis": "y"
        },
        {
         "hovertemplate": "Country=FRENCH POLYNESIA<br>Average Temperature evolution=%{x}<br>Greenhouse Gases Emissions=%{y}<extra></extra>",
         "legendgroup": "FRENCH POLYNESIA",
         "marker": {
          "color": "#17BECF",
          "symbol": "circle"
         },
         "mode": "markers",
         "name": "FRENCH POLYNESIA",
         "orientation": "v",
         "showlegend": true,
         "type": "scatter",
         "x": [
          0.37341666666666784
         ],
         "xaxis": "x",
         "y": [
          209643088
         ],
         "yaxis": "y"
        },
        {
         "hovertemplate": "Country=FRENCH POLYNESIA<extra></extra>",
         "legendgroup": "FRENCH POLYNESIA",
         "marker": {
          "color": "#17BECF",
          "symbol": "circle"
         },
         "mode": "lines",
         "name": "FRENCH POLYNESIA",
         "showlegend": false,
         "type": "scatter",
         "xaxis": "x",
         "yaxis": "y"
        },
        {
         "hovertemplate": "Country=GABON<br>Average Temperature evolution=%{x}<br>Greenhouse Gases Emissions=%{y}<extra></extra>",
         "legendgroup": "GABON",
         "marker": {
          "color": "#1F77B4",
          "symbol": "circle"
         },
         "mode": "markers",
         "name": "GABON",
         "orientation": "v",
         "showlegend": true,
         "type": "scatter",
         "x": [
          -0.2661666666666632
         ],
         "xaxis": "x",
         "y": [
          2733599490
         ],
         "yaxis": "y"
        },
        {
         "hovertemplate": "Country=GABON<extra></extra>",
         "legendgroup": "GABON",
         "marker": {
          "color": "#1F77B4",
          "symbol": "circle"
         },
         "mode": "lines",
         "name": "GABON",
         "showlegend": false,
         "type": "scatter",
         "xaxis": "x",
         "yaxis": "y"
        },
        {
         "hovertemplate": "Country=GEORGIA<br>Average Temperature evolution=%{x}<br>Greenhouse Gases Emissions=%{y}<extra></extra>",
         "legendgroup": "GEORGIA",
         "marker": {
          "color": "#FF7F0E",
          "symbol": "circle"
         },
         "mode": "markers",
         "name": "GEORGIA",
         "orientation": "v",
         "showlegend": true,
         "type": "scatter",
         "x": [
          1.6639166666666674
         ],
         "xaxis": "x",
         "y": [
          10178562886
         ],
         "yaxis": "y"
        },
        {
         "hovertemplate": "Country=GEORGIA<extra></extra>",
         "legendgroup": "GEORGIA",
         "marker": {
          "color": "#FF7F0E",
          "symbol": "circle"
         },
         "mode": "lines",
         "name": "GEORGIA",
         "showlegend": false,
         "type": "scatter",
         "xaxis": "x",
         "yaxis": "y"
        },
        {
         "hovertemplate": "Country=GERMANY<br>Average Temperature evolution=%{x}<br>Greenhouse Gases Emissions=%{y}<extra></extra>",
         "legendgroup": "GERMANY",
         "marker": {
          "color": "#2CA02C",
          "symbol": "circle"
         },
         "mode": "markers",
         "name": "GERMANY",
         "orientation": "v",
         "showlegend": true,
         "type": "scatter",
         "x": [
          0.8439166666666669
         ],
         "xaxis": "x",
         "y": [
          2629957446676
         ],
         "yaxis": "y"
        },
        {
         "hovertemplate": "Country=GERMANY<extra></extra>",
         "legendgroup": "GERMANY",
         "marker": {
          "color": "#2CA02C",
          "symbol": "circle"
         },
         "mode": "lines",
         "name": "GERMANY",
         "showlegend": false,
         "type": "scatter",
         "xaxis": "x",
         "yaxis": "y"
        },
        {
         "hovertemplate": "Country=GHANA<br>Average Temperature evolution=%{x}<br>Greenhouse Gases Emissions=%{y}<extra></extra>",
         "legendgroup": "GHANA",
         "marker": {
          "color": "#D62728",
          "symbol": "circle"
         },
         "mode": "markers",
         "name": "GHANA",
         "orientation": "v",
         "showlegend": true,
         "type": "scatter",
         "x": [
          0.15391666666667111
         ],
         "xaxis": "x",
         "y": [
          2571990500
         ],
         "yaxis": "y"
        },
        {
         "hovertemplate": "Country=GHANA<extra></extra>",
         "legendgroup": "GHANA",
         "marker": {
          "color": "#D62728",
          "symbol": "circle"
         },
         "mode": "lines",
         "name": "GHANA",
         "showlegend": false,
         "type": "scatter",
         "xaxis": "x",
         "yaxis": "y"
        },
        {
         "hovertemplate": "Country=GREECE<br>Average Temperature evolution=%{x}<br>Greenhouse Gases Emissions=%{y}<extra></extra>",
         "legendgroup": "GREECE",
         "marker": {
          "color": "#9467BD",
          "symbol": "circle"
         },
         "mode": "markers",
         "name": "GREECE",
         "orientation": "v",
         "showlegend": true,
         "type": "scatter",
         "x": [
          1.2915833333333353
         ],
         "xaxis": "x",
         "y": [
          36327738344
         ],
         "yaxis": "y"
        },
        {
         "hovertemplate": "Country=GREECE<extra></extra>",
         "legendgroup": "GREECE",
         "marker": {
          "color": "#9467BD",
          "symbol": "circle"
         },
         "mode": "lines",
         "name": "GREECE",
         "showlegend": false,
         "type": "scatter",
         "xaxis": "x",
         "yaxis": "y"
        },
        {
         "hovertemplate": "Country=GREENLAND<br>Average Temperature evolution=%{x}<br>Greenhouse Gases Emissions=%{y}<extra></extra>",
         "legendgroup": "GREENLAND",
         "marker": {
          "color": "#8C564B",
          "symbol": "circle"
         },
         "mode": "markers",
         "name": "GREENLAND",
         "orientation": "v",
         "showlegend": true,
         "type": "scatter",
         "x": [
          1.7919166666666686
         ],
         "xaxis": "x",
         "y": [
          436884368
         ],
         "yaxis": "y"
        },
        {
         "hovertemplate": "Country=GREENLAND<extra></extra>",
         "legendgroup": "GREENLAND",
         "marker": {
          "color": "#8C564B",
          "symbol": "circle"
         },
         "mode": "lines",
         "name": "GREENLAND",
         "showlegend": false,
         "type": "scatter",
         "xaxis": "x",
         "yaxis": "y"
        },
        {
         "hovertemplate": "Country=GRENADA<br>Average Temperature evolution=%{x}<br>Greenhouse Gases Emissions=%{y}<extra></extra>",
         "legendgroup": "GRENADA",
         "marker": {
          "color": "#E377C2",
          "symbol": "circle"
         },
         "mode": "markers",
         "name": "GRENADA",
         "orientation": "v",
         "showlegend": true,
         "type": "scatter",
         "x": [
          0.5485000000000004
         ],
         "xaxis": "x",
         "y": [
          47419488
         ],
         "yaxis": "y"
        },
        {
         "hovertemplate": "Country=GRENADA<extra></extra>",
         "legendgroup": "GRENADA",
         "marker": {
          "color": "#E377C2",
          "symbol": "circle"
         },
         "mode": "lines",
         "name": "GRENADA",
         "showlegend": false,
         "type": "scatter",
         "xaxis": "x",
         "yaxis": "y"
        },
        {
         "hovertemplate": "Country=GUADELOUPE<br>Average Temperature evolution=%{x}<br>Greenhouse Gases Emissions=%{y}<extra></extra>",
         "legendgroup": "GUADELOUPE",
         "marker": {
          "color": "#7F7F7F",
          "symbol": "circle"
         },
         "mode": "markers",
         "name": "GUADELOUPE",
         "orientation": "v",
         "showlegend": true,
         "type": "scatter",
         "x": [
          0.6531666666666706
         ],
         "xaxis": "x",
         "y": [
          472568064
         ],
         "yaxis": "y"
        },
        {
         "hovertemplate": "Country=GUADELOUPE<extra></extra>",
         "legendgroup": "GUADELOUPE",
         "marker": {
          "color": "#7F7F7F",
          "symbol": "circle"
         },
         "mode": "lines",
         "name": "GUADELOUPE",
         "showlegend": false,
         "type": "scatter",
         "xaxis": "x",
         "yaxis": "y"
        },
        {
         "hovertemplate": "Country=GUAM<br>Average Temperature evolution=%{x}<br>Greenhouse Gases Emissions=%{y}<extra></extra>",
         "legendgroup": "GUAM",
         "marker": {
          "color": "#BCBD22",
          "symbol": "circle"
         },
         "mode": "markers",
         "name": "GUAM",
         "orientation": "v",
         "showlegend": true,
         "type": "scatter",
         "x": [
          0.5476666666666642
         ],
         "xaxis": "x",
         "y": [
          0
         ],
         "yaxis": "y"
        },
        {
         "hovertemplate": "Country=GUAM<extra></extra>",
         "legendgroup": "GUAM",
         "marker": {
          "color": "#BCBD22",
          "symbol": "circle"
         },
         "mode": "lines",
         "name": "GUAM",
         "showlegend": false,
         "type": "scatter",
         "xaxis": "x",
         "yaxis": "y"
        },
        {
         "hovertemplate": "Country=GUATEMALA<br>Average Temperature evolution=%{x}<br>Greenhouse Gases Emissions=%{y}<extra></extra>",
         "legendgroup": "GUATEMALA",
         "marker": {
          "color": "#17BECF",
          "symbol": "circle"
         },
         "mode": "markers",
         "name": "GUATEMALA",
         "orientation": "v",
         "showlegend": true,
         "type": "scatter",
         "x": [
          0.054666666666665545
         ],
         "xaxis": "x",
         "y": [
          2914525407
         ],
         "yaxis": "y"
        },
        {
         "hovertemplate": "Country=GUATEMALA<extra></extra>",
         "legendgroup": "GUATEMALA",
         "marker": {
          "color": "#17BECF",
          "symbol": "circle"
         },
         "mode": "lines",
         "name": "GUATEMALA",
         "showlegend": false,
         "type": "scatter",
         "xaxis": "x",
         "yaxis": "y"
        },
        {
         "hovertemplate": "Country=GUINEA<br>Average Temperature evolution=%{x}<br>Greenhouse Gases Emissions=%{y}<extra></extra>",
         "legendgroup": "GUINEA",
         "marker": {
          "color": "#1F77B4",
          "symbol": "circle"
         },
         "mode": "markers",
         "name": "GUINEA",
         "orientation": "v",
         "showlegend": true,
         "type": "scatter",
         "x": [
          0.3604166666666655
         ],
         "xaxis": "x",
         "y": [
          722297735
         ],
         "yaxis": "y"
        },
        {
         "hovertemplate": "Country=GUINEA<extra></extra>",
         "legendgroup": "GUINEA",
         "marker": {
          "color": "#1F77B4",
          "symbol": "circle"
         },
         "mode": "lines",
         "name": "GUINEA",
         "showlegend": false,
         "type": "scatter",
         "xaxis": "x",
         "yaxis": "y"
        },
        {
         "hovertemplate": "Country=GUINEA-BISSAU<br>Average Temperature evolution=%{x}<br>Greenhouse Gases Emissions=%{y}<extra></extra>",
         "legendgroup": "GUINEA-BISSAU",
         "marker": {
          "color": "#FF7F0E",
          "symbol": "circle"
         },
         "mode": "markers",
         "name": "GUINEA-BISSAU",
         "orientation": "v",
         "showlegend": true,
         "type": "scatter",
         "x": [
          0.42108333333333237
         ],
         "xaxis": "x",
         "y": [
          86419104
         ],
         "yaxis": "y"
        },
        {
         "hovertemplate": "Country=GUINEA-BISSAU<extra></extra>",
         "legendgroup": "GUINEA-BISSAU",
         "marker": {
          "color": "#FF7F0E",
          "symbol": "circle"
         },
         "mode": "lines",
         "name": "GUINEA-BISSAU",
         "showlegend": false,
         "type": "scatter",
         "xaxis": "x",
         "yaxis": "y"
        },
        {
         "hovertemplate": "Country=GUYANA<br>Average Temperature evolution=%{x}<br>Greenhouse Gases Emissions=%{y}<extra></extra>",
         "legendgroup": "GUYANA",
         "marker": {
          "color": "#2CA02C",
          "symbol": "circle"
         },
         "mode": "markers",
         "name": "GUYANA",
         "orientation": "v",
         "showlegend": true,
         "type": "scatter",
         "x": [
          0.6232499999999981
         ],
         "xaxis": "x",
         "y": [
          1314251152
         ],
         "yaxis": "y"
        },
        {
         "hovertemplate": "Country=GUYANA<extra></extra>",
         "legendgroup": "GUYANA",
         "marker": {
          "color": "#2CA02C",
          "symbol": "circle"
         },
         "mode": "lines",
         "name": "GUYANA",
         "showlegend": false,
         "type": "scatter",
         "xaxis": "x",
         "yaxis": "y"
        },
        {
         "hovertemplate": "Country=HAITI<br>Average Temperature evolution=%{x}<br>Greenhouse Gases Emissions=%{y}<extra></extra>",
         "legendgroup": "HAITI",
         "marker": {
          "color": "#D62728",
          "symbol": "circle"
         },
         "mode": "markers",
         "name": "HAITI",
         "orientation": "v",
         "showlegend": true,
         "type": "scatter",
         "x": [
          0.2567499999999968
         ],
         "xaxis": "x",
         "y": [
          542813266
         ],
         "yaxis": "y"
        },
        {
         "hovertemplate": "Country=HAITI<extra></extra>",
         "legendgroup": "HAITI",
         "marker": {
          "color": "#D62728",
          "symbol": "circle"
         },
         "mode": "lines",
         "name": "HAITI",
         "showlegend": false,
         "type": "scatter",
         "xaxis": "x",
         "yaxis": "y"
        },
        {
         "hovertemplate": "Country=HEARD ISLAND AND MCDONALD ISLANDS<br>Average Temperature evolution=%{x}<br>Greenhouse Gases Emissions=%{y}<extra></extra>",
         "legendgroup": "HEARD ISLAND AND MCDONALD ISLANDS",
         "marker": {
          "color": "#9467BD",
          "symbol": "circle"
         },
         "mode": "markers",
         "name": "HEARD ISLAND AND MCDONALD ISLANDS",
         "orientation": "v",
         "showlegend": true,
         "type": "scatter",
         "x": [
          1.5748
         ],
         "xaxis": "x",
         "y": [
          0
         ],
         "yaxis": "y"
        },
        {
         "hovertemplate": "Country=HEARD ISLAND AND MCDONALD ISLANDS<extra></extra>",
         "legendgroup": "HEARD ISLAND AND MCDONALD ISLANDS",
         "marker": {
          "color": "#9467BD",
          "symbol": "circle"
         },
         "mode": "lines",
         "name": "HEARD ISLAND AND MCDONALD ISLANDS",
         "showlegend": false,
         "type": "scatter",
         "xaxis": "x",
         "yaxis": "y"
        },
        {
         "hovertemplate": "Country=HONDURAS<br>Average Temperature evolution=%{x}<br>Greenhouse Gases Emissions=%{y}<extra></extra>",
         "legendgroup": "HONDURAS",
         "marker": {
          "color": "#8C564B",
          "symbol": "circle"
         },
         "mode": "markers",
         "name": "HONDURAS",
         "orientation": "v",
         "showlegend": true,
         "type": "scatter",
         "x": [
          0.48116666666666696
         ],
         "xaxis": "x",
         "y": [
          1482600934
         ],
         "yaxis": "y"
        },
        {
         "hovertemplate": "Country=HONDURAS<extra></extra>",
         "legendgroup": "HONDURAS",
         "marker": {
          "color": "#8C564B",
          "symbol": "circle"
         },
         "mode": "lines",
         "name": "HONDURAS",
         "showlegend": false,
         "type": "scatter",
         "xaxis": "x",
         "yaxis": "y"
        },
        {
         "hovertemplate": "Country=HONG KONG<br>Average Temperature evolution=%{x}<br>Greenhouse Gases Emissions=%{y}<extra></extra>",
         "legendgroup": "HONG KONG",
         "marker": {
          "color": "#E377C2",
          "symbol": "circle"
         },
         "mode": "markers",
         "name": "HONG KONG",
         "orientation": "v",
         "showlegend": true,
         "type": "scatter",
         "x": [
          -0.0715833333333328
         ],
         "xaxis": "x",
         "y": [
          11435529215
         ],
         "yaxis": "y"
        },
        {
         "hovertemplate": "Country=HONG KONG<extra></extra>",
         "legendgroup": "HONG KONG",
         "marker": {
          "color": "#E377C2",
          "symbol": "circle"
         },
         "mode": "lines",
         "name": "HONG KONG",
         "showlegend": false,
         "type": "scatter",
         "xaxis": "x",
         "yaxis": "y"
        },
        {
         "hovertemplate": "Country=HUNGARY<br>Average Temperature evolution=%{x}<br>Greenhouse Gases Emissions=%{y}<extra></extra>",
         "legendgroup": "HUNGARY",
         "marker": {
          "color": "#7F7F7F",
          "symbol": "circle"
         },
         "mode": "markers",
         "name": "HUNGARY",
         "orientation": "v",
         "showlegend": true,
         "type": "scatter",
         "x": [
          1.4114999999999984
         ],
         "xaxis": "x",
         "y": [
          112431356586
         ],
         "yaxis": "y"
        },
        {
         "hovertemplate": "Country=HUNGARY<extra></extra>",
         "legendgroup": "HUNGARY",
         "marker": {
          "color": "#7F7F7F",
          "symbol": "circle"
         },
         "mode": "lines",
         "name": "HUNGARY",
         "showlegend": false,
         "type": "scatter",
         "xaxis": "x",
         "yaxis": "y"
        },
        {
         "hovertemplate": "Country=ICELAND<br>Average Temperature evolution=%{x}<br>Greenhouse Gases Emissions=%{y}<extra></extra>",
         "legendgroup": "ICELAND",
         "marker": {
          "color": "#BCBD22",
          "symbol": "circle"
         },
         "mode": "markers",
         "name": "ICELAND",
         "orientation": "v",
         "showlegend": true,
         "type": "scatter",
         "x": [
          0.8549166666666665
         ],
         "xaxis": "x",
         "y": [
          1794444798
         ],
         "yaxis": "y"
        },
        {
         "hovertemplate": "Country=ICELAND<extra></extra>",
         "legendgroup": "ICELAND",
         "marker": {
          "color": "#BCBD22",
          "symbol": "circle"
         },
         "mode": "lines",
         "name": "ICELAND",
         "showlegend": false,
         "type": "scatter",
         "xaxis": "x",
         "yaxis": "y"
        },
        {
         "hovertemplate": "Country=INDIA<br>Average Temperature evolution=%{x}<br>Greenhouse Gases Emissions=%{y}<extra></extra>",
         "legendgroup": "INDIA",
         "marker": {
          "color": "#17BECF",
          "symbol": "circle"
         },
         "mode": "markers",
         "name": "INDIA",
         "orientation": "v",
         "showlegend": true,
         "type": "scatter",
         "x": [
          0.4507499999999996
         ],
         "xaxis": "x",
         "y": [
          385598110245
         ],
         "yaxis": "y"
        },
        {
         "hovertemplate": "Country=INDIA<extra></extra>",
         "legendgroup": "INDIA",
         "marker": {
          "color": "#17BECF",
          "symbol": "circle"
         },
         "mode": "lines",
         "name": "INDIA",
         "showlegend": false,
         "type": "scatter",
         "xaxis": "x",
         "yaxis": "y"
        },
        {
         "hovertemplate": "Country=INDONESIA<br>Average Temperature evolution=%{x}<br>Greenhouse Gases Emissions=%{y}<extra></extra>",
         "legendgroup": "INDONESIA",
         "marker": {
          "color": "#1F77B4",
          "symbol": "circle"
         },
         "mode": "markers",
         "name": "INDONESIA",
         "orientation": "v",
         "showlegend": true,
         "type": "scatter",
         "x": [
          0.4326666666666695
         ],
         "xaxis": "x",
         "y": [
          93923394279
         ],
         "yaxis": "y"
        },
        {
         "hovertemplate": "Country=INDONESIA<extra></extra>",
         "legendgroup": "INDONESIA",
         "marker": {
          "color": "#1F77B4",
          "symbol": "circle"
         },
         "mode": "lines",
         "name": "INDONESIA",
         "showlegend": false,
         "type": "scatter",
         "xaxis": "x",
         "yaxis": "y"
        },
        {
         "hovertemplate": "Country=IRAN<br>Average Temperature evolution=%{x}<br>Greenhouse Gases Emissions=%{y}<extra></extra>",
         "legendgroup": "IRAN",
         "marker": {
          "color": "#FF7F0E",
          "symbol": "circle"
         },
         "mode": "markers",
         "name": "IRAN",
         "orientation": "v",
         "showlegend": true,
         "type": "scatter",
         "x": [
          2.1165833333333337
         ],
         "xaxis": "x",
         "y": [
          145620650439
         ],
         "yaxis": "y"
        },
        {
         "hovertemplate": "Country=IRAN<extra></extra>",
         "legendgroup": "IRAN",
         "marker": {
          "color": "#FF7F0E",
          "symbol": "circle"
         },
         "mode": "lines",
         "name": "IRAN",
         "showlegend": false,
         "type": "scatter",
         "xaxis": "x",
         "yaxis": "y"
        },
        {
         "hovertemplate": "Country=IRAQ<br>Average Temperature evolution=%{x}<br>Greenhouse Gases Emissions=%{y}<extra></extra>",
         "legendgroup": "IRAQ",
         "marker": {
          "color": "#2CA02C",
          "symbol": "circle"
         },
         "mode": "markers",
         "name": "IRAQ",
         "orientation": "v",
         "showlegend": true,
         "type": "scatter",
         "x": [
          1.933833333333332
         ],
         "xaxis": "x",
         "y": [
          34703738415
         ],
         "yaxis": "y"
        },
        {
         "hovertemplate": "Country=IRAQ<extra></extra>",
         "legendgroup": "IRAQ",
         "marker": {
          "color": "#2CA02C",
          "symbol": "circle"
         },
         "mode": "lines",
         "name": "IRAQ",
         "showlegend": false,
         "type": "scatter",
         "xaxis": "x",
         "yaxis": "y"
        },
        {
         "hovertemplate": "Country=IRELAND<br>Average Temperature evolution=%{x}<br>Greenhouse Gases Emissions=%{y}<extra></extra>",
         "legendgroup": "IRELAND",
         "marker": {
          "color": "#D62728",
          "symbol": "circle"
         },
         "mode": "markers",
         "name": "IRELAND",
         "orientation": "v",
         "showlegend": true,
         "type": "scatter",
         "x": [
          -0.44583333333333297
         ],
         "xaxis": "x",
         "y": [
          34289900779
         ],
         "yaxis": "y"
        },
        {
         "hovertemplate": "Country=IRELAND<extra></extra>",
         "legendgroup": "IRELAND",
         "marker": {
          "color": "#D62728",
          "symbol": "circle"
         },
         "mode": "lines",
         "name": "IRELAND",
         "showlegend": false,
         "type": "scatter",
         "xaxis": "x",
         "yaxis": "y"
        },
        {
         "hovertemplate": "Country=ISRAEL<br>Average Temperature evolution=%{x}<br>Greenhouse Gases Emissions=%{y}<extra></extra>",
         "legendgroup": "ISRAEL",
         "marker": {
          "color": "#9467BD",
          "symbol": "circle"
         },
         "mode": "markers",
         "name": "ISRAEL",
         "orientation": "v",
         "showlegend": true,
         "type": "scatter",
         "x": [
          1.3533333333333326
         ],
         "xaxis": "x",
         "y": [
          17836125259
         ],
         "yaxis": "y"
        },
        {
         "hovertemplate": "Country=ISRAEL<extra></extra>",
         "legendgroup": "ISRAEL",
         "marker": {
          "color": "#9467BD",
          "symbol": "circle"
         },
         "mode": "lines",
         "name": "ISRAEL",
         "showlegend": false,
         "type": "scatter",
         "xaxis": "x",
         "yaxis": "y"
        },
        {
         "hovertemplate": "Country=ITALY<br>Average Temperature evolution=%{x}<br>Greenhouse Gases Emissions=%{y}<extra></extra>",
         "legendgroup": "ITALY",
         "marker": {
          "color": "#8C564B",
          "symbol": "circle"
         },
         "mode": "markers",
         "name": "ITALY",
         "orientation": "v",
         "showlegend": true,
         "type": "scatter",
         "x": [
          0.7708333333333339
         ],
         "xaxis": "x",
         "y": [
          364733477281
         ],
         "yaxis": "y"
        },
        {
         "hovertemplate": "Country=ITALY<extra></extra>",
         "legendgroup": "ITALY",
         "marker": {
          "color": "#8C564B",
          "symbol": "circle"
         },
         "mode": "lines",
         "name": "ITALY",
         "showlegend": false,
         "type": "scatter",
         "xaxis": "x",
         "yaxis": "y"
        },
        {
         "hovertemplate": "Country=JAMAICA<br>Average Temperature evolution=%{x}<br>Greenhouse Gases Emissions=%{y}<extra></extra>",
         "legendgroup": "JAMAICA",
         "marker": {
          "color": "#E377C2",
          "symbol": "circle"
         },
         "mode": "markers",
         "name": "JAMAICA",
         "orientation": "v",
         "showlegend": true,
         "type": "scatter",
         "x": [
          0.43191666666666606
         ],
         "xaxis": "x",
         "y": [
          5019864038
         ],
         "yaxis": "y"
        },
        {
         "hovertemplate": "Country=JAMAICA<extra></extra>",
         "legendgroup": "JAMAICA",
         "marker": {
          "color": "#E377C2",
          "symbol": "circle"
         },
         "mode": "lines",
         "name": "JAMAICA",
         "showlegend": false,
         "type": "scatter",
         "xaxis": "x",
         "yaxis": "y"
        },
        {
         "hovertemplate": "Country=JAPAN<br>Average Temperature evolution=%{x}<br>Greenhouse Gases Emissions=%{y}<extra></extra>",
         "legendgroup": "JAPAN",
         "marker": {
          "color": "#7F7F7F",
          "symbol": "circle"
         },
         "mode": "markers",
         "name": "JAPAN",
         "orientation": "v",
         "showlegend": true,
         "type": "scatter",
         "x": [
          0.7312499999999994
         ],
         "xaxis": "x",
         "y": [
          880908690865
         ],
         "yaxis": "y"
        },
        {
         "hovertemplate": "Country=JAPAN<extra></extra>",
         "legendgroup": "JAPAN",
         "marker": {
          "color": "#7F7F7F",
          "symbol": "circle"
         },
         "mode": "lines",
         "name": "JAPAN",
         "showlegend": false,
         "type": "scatter",
         "xaxis": "x",
         "yaxis": "y"
        },
        {
         "hovertemplate": "Country=JORDAN<br>Average Temperature evolution=%{x}<br>Greenhouse Gases Emissions=%{y}<extra></extra>",
         "legendgroup": "JORDAN",
         "marker": {
          "color": "#BCBD22",
          "symbol": "circle"
         },
         "mode": "markers",
         "name": "JORDAN",
         "orientation": "v",
         "showlegend": true,
         "type": "scatter",
         "x": [
          1.4626666666666646
         ],
         "xaxis": "x",
         "y": [
          3311197250
         ],
         "yaxis": "y"
        },
        {
         "hovertemplate": "Country=JORDAN<extra></extra>",
         "legendgroup": "JORDAN",
         "marker": {
          "color": "#BCBD22",
          "symbol": "circle"
         },
         "mode": "lines",
         "name": "JORDAN",
         "showlegend": false,
         "type": "scatter",
         "xaxis": "x",
         "yaxis": "y"
        },
        {
         "hovertemplate": "Country=KAZAKHSTAN<br>Average Temperature evolution=%{x}<br>Greenhouse Gases Emissions=%{y}<extra></extra>",
         "legendgroup": "KAZAKHSTAN",
         "marker": {
          "color": "#17BECF",
          "symbol": "circle"
         },
         "mode": "markers",
         "name": "KAZAKHSTAN",
         "orientation": "v",
         "showlegend": true,
         "type": "scatter",
         "x": [
          2.1831666666666663
         ],
         "xaxis": "x",
         "y": [
          175508369644
         ],
         "yaxis": "y"
        },
        {
         "hovertemplate": "Country=KAZAKHSTAN<extra></extra>",
         "legendgroup": "KAZAKHSTAN",
         "marker": {
          "color": "#17BECF",
          "symbol": "circle"
         },
         "mode": "lines",
         "name": "KAZAKHSTAN",
         "showlegend": false,
         "type": "scatter",
         "xaxis": "x",
         "yaxis": "y"
        },
        {
         "hovertemplate": "Country=KENYA<br>Average Temperature evolution=%{x}<br>Greenhouse Gases Emissions=%{y}<extra></extra>",
         "legendgroup": "KENYA",
         "marker": {
          "color": "#1F77B4",
          "symbol": "circle"
         },
         "mode": "markers",
         "name": "KENYA",
         "orientation": "v",
         "showlegend": true,
         "type": "scatter",
         "x": [
          0.3429166666666672
         ],
         "xaxis": "x",
         "y": [
          4207302273
         ],
         "yaxis": "y"
        },
        {
         "hovertemplate": "Country=KENYA<extra></extra>",
         "legendgroup": "KENYA",
         "marker": {
          "color": "#1F77B4",
          "symbol": "circle"
         },
         "mode": "lines",
         "name": "KENYA",
         "showlegend": false,
         "type": "scatter",
         "xaxis": "x",
         "yaxis": "y"
        },
        {
         "hovertemplate": "Country=KIRIBATI<br>Average Temperature evolution=%{x}<br>Greenhouse Gases Emissions=%{y}<extra></extra>",
         "legendgroup": "KIRIBATI",
         "marker": {
          "color": "#FF7F0E",
          "symbol": "circle"
         },
         "mode": "markers",
         "name": "KIRIBATI",
         "orientation": "v",
         "showlegend": true,
         "type": "scatter",
         "x": [
          0.6258333333333328
         ],
         "xaxis": "x",
         "y": [
          18257712
         ],
         "yaxis": "y"
        },
        {
         "hovertemplate": "Country=KIRIBATI<extra></extra>",
         "legendgroup": "KIRIBATI",
         "marker": {
          "color": "#FF7F0E",
          "symbol": "circle"
         },
         "mode": "lines",
         "name": "KIRIBATI",
         "showlegend": false,
         "type": "scatter",
         "xaxis": "x",
         "yaxis": "y"
        },
        {
         "hovertemplate": "Country=KUWAIT<br>Average Temperature evolution=%{x}<br>Greenhouse Gases Emissions=%{y}<extra></extra>",
         "legendgroup": "KUWAIT",
         "marker": {
          "color": "#2CA02C",
          "symbol": "circle"
         },
         "mode": "markers",
         "name": "KUWAIT",
         "orientation": "v",
         "showlegend": true,
         "type": "scatter",
         "x": [
          1.7408333333333381
         ],
         "xaxis": "x",
         "y": [
          21827550292
         ],
         "yaxis": "y"
        },
        {
         "hovertemplate": "Country=KUWAIT<extra></extra>",
         "legendgroup": "KUWAIT",
         "marker": {
          "color": "#2CA02C",
          "symbol": "circle"
         },
         "mode": "lines",
         "name": "KUWAIT",
         "showlegend": false,
         "type": "scatter",
         "xaxis": "x",
         "yaxis": "y"
        },
        {
         "hovertemplate": "Country=KYRGYZSTAN<br>Average Temperature evolution=%{x}<br>Greenhouse Gases Emissions=%{y}<extra></extra>",
         "legendgroup": "KYRGYZSTAN",
         "marker": {
          "color": "#D62728",
          "symbol": "circle"
         },
         "mode": "markers",
         "name": "KYRGYZSTAN",
         "orientation": "v",
         "showlegend": true,
         "type": "scatter",
         "x": [
          2.1594999999999995
         ],
         "xaxis": "x",
         "y": [
          321930327
         ],
         "yaxis": "y"
        },
        {
         "hovertemplate": "Country=KYRGYZSTAN<extra></extra>",
         "legendgroup": "KYRGYZSTAN",
         "marker": {
          "color": "#D62728",
          "symbol": "circle"
         },
         "mode": "lines",
         "name": "KYRGYZSTAN",
         "showlegend": false,
         "type": "scatter",
         "xaxis": "x",
         "yaxis": "y"
        },
        {
         "hovertemplate": "Country=LAOS<br>Average Temperature evolution=%{x}<br>Greenhouse Gases Emissions=%{y}<extra></extra>",
         "legendgroup": "LAOS",
         "marker": {
          "color": "#9467BD",
          "symbol": "circle"
         },
         "mode": "markers",
         "name": "LAOS",
         "orientation": "v",
         "showlegend": true,
         "type": "scatter",
         "x": [
          -0.058583333333334695
         ],
         "xaxis": "x",
         "y": [
          227442331
         ],
         "yaxis": "y"
        },
        {
         "hovertemplate": "Country=LAOS<extra></extra>",
         "legendgroup": "LAOS",
         "marker": {
          "color": "#9467BD",
          "symbol": "circle"
         },
         "mode": "lines",
         "name": "LAOS",
         "showlegend": false,
         "type": "scatter",
         "xaxis": "x",
         "yaxis": "y"
        },
        {
         "hovertemplate": "Country=LATVIA<br>Average Temperature evolution=%{x}<br>Greenhouse Gases Emissions=%{y}<extra></extra>",
         "legendgroup": "LATVIA",
         "marker": {
          "color": "#8C564B",
          "symbol": "circle"
         },
         "mode": "markers",
         "name": "LATVIA",
         "orientation": "v",
         "showlegend": true,
         "type": "scatter",
         "x": [
          0.31533333333333186
         ],
         "xaxis": "x",
         "y": [
          9671352782
         ],
         "yaxis": "y"
        },
        {
         "hovertemplate": "Country=LATVIA<extra></extra>",
         "legendgroup": "LATVIA",
         "marker": {
          "color": "#8C564B",
          "symbol": "circle"
         },
         "mode": "lines",
         "name": "LATVIA",
         "showlegend": false,
         "type": "scatter",
         "xaxis": "x",
         "yaxis": "y"
        },
        {
         "hovertemplate": "Country=LEBANON<br>Average Temperature evolution=%{x}<br>Greenhouse Gases Emissions=%{y}<extra></extra>",
         "legendgroup": "LEBANON",
         "marker": {
          "color": "#E377C2",
          "symbol": "circle"
         },
         "mode": "markers",
         "name": "LEBANON",
         "orientation": "v",
         "showlegend": true,
         "type": "scatter",
         "x": [
          1.357583333333338
         ],
         "xaxis": "x",
         "y": [
          5380291315
         ],
         "yaxis": "y"
        },
        {
         "hovertemplate": "Country=LEBANON<extra></extra>",
         "legendgroup": "LEBANON",
         "marker": {
          "color": "#E377C2",
          "symbol": "circle"
         },
         "mode": "lines",
         "name": "LEBANON",
         "showlegend": false,
         "type": "scatter",
         "xaxis": "x",
         "yaxis": "y"
        },
        {
         "hovertemplate": "Country=LESOTHO<br>Average Temperature evolution=%{x}<br>Greenhouse Gases Emissions=%{y}<extra></extra>",
         "legendgroup": "LESOTHO",
         "marker": {
          "color": "#7F7F7F",
          "symbol": "circle"
         },
         "mode": "markers",
         "name": "LESOTHO",
         "orientation": "v",
         "showlegend": true,
         "type": "scatter",
         "x": [
          -0.09924999999999962
         ],
         "xaxis": "x",
         "y": [
          107468784
         ],
         "yaxis": "y"
        },
        {
         "hovertemplate": "Country=LESOTHO<extra></extra>",
         "legendgroup": "LESOTHO",
         "marker": {
          "color": "#7F7F7F",
          "symbol": "circle"
         },
         "mode": "lines",
         "name": "LESOTHO",
         "showlegend": false,
         "type": "scatter",
         "xaxis": "x",
         "yaxis": "y"
        },
        {
         "hovertemplate": "Country=LIBERIA<br>Average Temperature evolution=%{x}<br>Greenhouse Gases Emissions=%{y}<extra></extra>",
         "legendgroup": "LIBERIA",
         "marker": {
          "color": "#BCBD22",
          "symbol": "circle"
         },
         "mode": "markers",
         "name": "LIBERIA",
         "orientation": "v",
         "showlegend": true,
         "type": "scatter",
         "x": [
          0.3810833333333333
         ],
         "xaxis": "x",
         "y": [
          824554509
         ],
         "yaxis": "y"
        },
        {
         "hovertemplate": "Country=LIBERIA<extra></extra>",
         "legendgroup": "LIBERIA",
         "marker": {
          "color": "#BCBD22",
          "symbol": "circle"
         },
         "mode": "lines",
         "name": "LIBERIA",
         "showlegend": false,
         "type": "scatter",
         "xaxis": "x",
         "yaxis": "y"
        },
        {
         "hovertemplate": "Country=LIBYA<br>Average Temperature evolution=%{x}<br>Greenhouse Gases Emissions=%{y}<extra></extra>",
         "legendgroup": "LIBYA",
         "marker": {
          "color": "#17BECF",
          "symbol": "circle"
         },
         "mode": "markers",
         "name": "LIBYA",
         "orientation": "v",
         "showlegend": true,
         "type": "scatter",
         "x": [
          1.0565
         ],
         "xaxis": "x",
         "y": [
          16086228557
         ],
         "yaxis": "y"
        },
        {
         "hovertemplate": "Country=LIBYA<extra></extra>",
         "legendgroup": "LIBYA",
         "marker": {
          "color": "#17BECF",
          "symbol": "circle"
         },
         "mode": "lines",
         "name": "LIBYA",
         "showlegend": false,
         "type": "scatter",
         "xaxis": "x",
         "yaxis": "y"
        },
        {
         "hovertemplate": "Country=LIECHTENSTEIN<br>Average Temperature evolution=%{x}<br>Greenhouse Gases Emissions=%{y}<extra></extra>",
         "legendgroup": "LIECHTENSTEIN",
         "marker": {
          "color": "#1F77B4",
          "symbol": "circle"
         },
         "mode": "markers",
         "name": "LIECHTENSTEIN",
         "orientation": "v",
         "showlegend": true,
         "type": "scatter",
         "x": [
          0.7790833333333329
         ],
         "xaxis": "x",
         "y": [
          0
         ],
         "yaxis": "y"
        },
        {
         "hovertemplate": "Country=LIECHTENSTEIN<extra></extra>",
         "legendgroup": "LIECHTENSTEIN",
         "marker": {
          "color": "#1F77B4",
          "symbol": "circle"
         },
         "mode": "lines",
         "name": "LIECHTENSTEIN",
         "showlegend": false,
         "type": "scatter",
         "xaxis": "x",
         "yaxis": "y"
        },
        {
         "hovertemplate": "Country=LITHUANIA<br>Average Temperature evolution=%{x}<br>Greenhouse Gases Emissions=%{y}<extra></extra>",
         "legendgroup": "LITHUANIA",
         "marker": {
          "color": "#FF7F0E",
          "symbol": "circle"
         },
         "mode": "markers",
         "name": "LITHUANIA",
         "orientation": "v",
         "showlegend": true,
         "type": "scatter",
         "x": [
          0.435083333333331
         ],
         "xaxis": "x",
         "y": [
          15334666468
         ],
         "yaxis": "y"
        },
        {
         "hovertemplate": "Country=LITHUANIA<extra></extra>",
         "legendgroup": "LITHUANIA",
         "marker": {
          "color": "#FF7F0E",
          "symbol": "circle"
         },
         "mode": "lines",
         "name": "LITHUANIA",
         "showlegend": false,
         "type": "scatter",
         "xaxis": "x",
         "yaxis": "y"
        },
        {
         "hovertemplate": "Country=LUXEMBOURG<br>Average Temperature evolution=%{x}<br>Greenhouse Gases Emissions=%{y}<extra></extra>",
         "legendgroup": "LUXEMBOURG",
         "marker": {
          "color": "#2CA02C",
          "symbol": "circle"
         },
         "mode": "markers",
         "name": "LUXEMBOURG",
         "orientation": "v",
         "showlegend": true,
         "type": "scatter",
         "x": [
          0.6720000000000004
         ],
         "xaxis": "x",
         "y": [
          14407184605
         ],
         "yaxis": "y"
        },
        {
         "hovertemplate": "Country=LUXEMBOURG<extra></extra>",
         "legendgroup": "LUXEMBOURG",
         "marker": {
          "color": "#2CA02C",
          "symbol": "circle"
         },
         "mode": "lines",
         "name": "LUXEMBOURG",
         "showlegend": false,
         "type": "scatter",
         "xaxis": "x",
         "yaxis": "y"
        },
        {
         "hovertemplate": "Country=MACAU<br>Average Temperature evolution=%{x}<br>Greenhouse Gases Emissions=%{y}<extra></extra>",
         "legendgroup": "MACAU",
         "marker": {
          "color": "#D62728",
          "symbol": "circle"
         },
         "mode": "markers",
         "name": "MACAU",
         "orientation": "v",
         "showlegend": true,
         "type": "scatter",
         "x": [
          -0.13866666666666913
         ],
         "xaxis": "x",
         "y": [
          0
         ],
         "yaxis": "y"
        },
        {
         "hovertemplate": "Country=MACAU<extra></extra>",
         "legendgroup": "MACAU",
         "marker": {
          "color": "#D62728",
          "symbol": "circle"
         },
         "mode": "lines",
         "name": "MACAU",
         "showlegend": false,
         "type": "scatter",
         "xaxis": "x",
         "yaxis": "y"
        },
        {
         "hovertemplate": "Country=MACEDONIA<br>Average Temperature evolution=%{x}<br>Greenhouse Gases Emissions=%{y}<extra></extra>",
         "legendgroup": "MACEDONIA",
         "marker": {
          "color": "#9467BD",
          "symbol": "circle"
         },
         "mode": "markers",
         "name": "MACEDONIA",
         "orientation": "v",
         "showlegend": true,
         "type": "scatter",
         "x": [
          1.4010833333333341
         ],
         "xaxis": "x",
         "y": [
          7241044406
         ],
         "yaxis": "y"
        },
        {
         "hovertemplate": "Country=MACEDONIA<extra></extra>",
         "legendgroup": "MACEDONIA",
         "marker": {
          "color": "#9467BD",
          "symbol": "circle"
         },
         "mode": "lines",
         "name": "MACEDONIA",
         "showlegend": false,
         "type": "scatter",
         "xaxis": "x",
         "yaxis": "y"
        },
        {
         "hovertemplate": "Country=MADAGASCAR<br>Average Temperature evolution=%{x}<br>Greenhouse Gases Emissions=%{y}<extra></extra>",
         "legendgroup": "MADAGASCAR",
         "marker": {
          "color": "#8C564B",
          "symbol": "circle"
         },
         "mode": "markers",
         "name": "MADAGASCAR",
         "orientation": "v",
         "showlegend": true,
         "type": "scatter",
         "x": [
          0.3317499999999996
         ],
         "xaxis": "x",
         "y": [
          907826189
         ],
         "yaxis": "y"
        },
        {
         "hovertemplate": "Country=MADAGASCAR<extra></extra>",
         "legendgroup": "MADAGASCAR",
         "marker": {
          "color": "#8C564B",
          "symbol": "circle"
         },
         "mode": "lines",
         "name": "MADAGASCAR",
         "showlegend": false,
         "type": "scatter",
         "xaxis": "x",
         "yaxis": "y"
        },
        {
         "hovertemplate": "Country=MALAWI<br>Average Temperature evolution=%{x}<br>Greenhouse Gases Emissions=%{y}<extra></extra>",
         "legendgroup": "MALAWI",
         "marker": {
          "color": "#E377C2",
          "symbol": "circle"
         },
         "mode": "markers",
         "name": "MALAWI",
         "orientation": "v",
         "showlegend": true,
         "type": "scatter",
         "x": [
          -0.11466666666666799
         ],
         "xaxis": "x",
         "y": [
          458373388
         ],
         "yaxis": "y"
        },
        {
         "hovertemplate": "Country=MALAWI<extra></extra>",
         "legendgroup": "MALAWI",
         "marker": {
          "color": "#E377C2",
          "symbol": "circle"
         },
         "mode": "lines",
         "name": "MALAWI",
         "showlegend": false,
         "type": "scatter",
         "xaxis": "x",
         "yaxis": "y"
        },
        {
         "hovertemplate": "Country=MALAYSIA<br>Average Temperature evolution=%{x}<br>Greenhouse Gases Emissions=%{y}<extra></extra>",
         "legendgroup": "MALAYSIA",
         "marker": {
          "color": "#7F7F7F",
          "symbol": "circle"
         },
         "mode": "markers",
         "name": "MALAYSIA",
         "orientation": "v",
         "showlegend": true,
         "type": "scatter",
         "x": [
          0.39099999999999796
         ],
         "xaxis": "x",
         "y": [
          23028983573
         ],
         "yaxis": "y"
        },
        {
         "hovertemplate": "Country=MALAYSIA<extra></extra>",
         "legendgroup": "MALAYSIA",
         "marker": {
          "color": "#7F7F7F",
          "symbol": "circle"
         },
         "mode": "lines",
         "name": "MALAYSIA",
         "showlegend": false,
         "type": "scatter",
         "xaxis": "x",
         "yaxis": "y"
        },
        {
         "hovertemplate": "Country=MALI<br>Average Temperature evolution=%{x}<br>Greenhouse Gases Emissions=%{y}<extra></extra>",
         "legendgroup": "MALI",
         "marker": {
          "color": "#BCBD22",
          "symbol": "circle"
         },
         "mode": "markers",
         "name": "MALI",
         "orientation": "v",
         "showlegend": true,
         "type": "scatter",
         "x": [
          0.4104999999999989
         ],
         "xaxis": "x",
         "y": [
          241886161
         ],
         "yaxis": "y"
        },
        {
         "hovertemplate": "Country=MALI<extra></extra>",
         "legendgroup": "MALI",
         "marker": {
          "color": "#BCBD22",
          "symbol": "circle"
         },
         "mode": "lines",
         "name": "MALI",
         "showlegend": false,
         "type": "scatter",
         "xaxis": "x",
         "yaxis": "y"
        },
        {
         "hovertemplate": "Country=MALTA<br>Average Temperature evolution=%{x}<br>Greenhouse Gases Emissions=%{y}<extra></extra>",
         "legendgroup": "MALTA",
         "marker": {
          "color": "#17BECF",
          "symbol": "circle"
         },
         "mode": "markers",
         "name": "MALTA",
         "orientation": "v",
         "showlegend": true,
         "type": "scatter",
         "x": [
          0.8186666666666687
         ],
         "xaxis": "x",
         "y": [
          886167296
         ],
         "yaxis": "y"
        },
        {
         "hovertemplate": "Country=MALTA<extra></extra>",
         "legendgroup": "MALTA",
         "marker": {
          "color": "#17BECF",
          "symbol": "circle"
         },
         "mode": "lines",
         "name": "MALTA",
         "showlegend": false,
         "type": "scatter",
         "xaxis": "x",
         "yaxis": "y"
        },
        {
         "hovertemplate": "Country=MARTINIQUE<br>Average Temperature evolution=%{x}<br>Greenhouse Gases Emissions=%{y}<extra></extra>",
         "legendgroup": "MARTINIQUE",
         "marker": {
          "color": "#1F77B4",
          "symbol": "circle"
         },
         "mode": "markers",
         "name": "MARTINIQUE",
         "orientation": "v",
         "showlegend": true,
         "type": "scatter",
         "x": [
          0.5978333333333374
         ],
         "xaxis": "x",
         "y": [
          640291328
         ],
         "yaxis": "y"
        },
        {
         "hovertemplate": "Country=MARTINIQUE<extra></extra>",
         "legendgroup": "MARTINIQUE",
         "marker": {
          "color": "#1F77B4",
          "symbol": "circle"
         },
         "mode": "lines",
         "name": "MARTINIQUE",
         "showlegend": false,
         "type": "scatter",
         "xaxis": "x",
         "yaxis": "y"
        },
        {
         "hovertemplate": "Country=MAURITANIA<br>Average Temperature evolution=%{x}<br>Greenhouse Gases Emissions=%{y}<extra></extra>",
         "legendgroup": "MAURITANIA",
         "marker": {
          "color": "#FF7F0E",
          "symbol": "circle"
         },
         "mode": "markers",
         "name": "MAURITANIA",
         "orientation": "v",
         "showlegend": true,
         "type": "scatter",
         "x": [
          0.7479166666666688
         ],
         "xaxis": "x",
         "y": [
          454372640
         ],
         "yaxis": "y"
        },
        {
         "hovertemplate": "Country=MAURITANIA<extra></extra>",
         "legendgroup": "MAURITANIA",
         "marker": {
          "color": "#FF7F0E",
          "symbol": "circle"
         },
         "mode": "lines",
         "name": "MAURITANIA",
         "showlegend": false,
         "type": "scatter",
         "xaxis": "x",
         "yaxis": "y"
        },
        {
         "hovertemplate": "Country=MAURITIUS<br>Average Temperature evolution=%{x}<br>Greenhouse Gases Emissions=%{y}<extra></extra>",
         "legendgroup": "MAURITIUS",
         "marker": {
          "color": "#2CA02C",
          "symbol": "circle"
         },
         "mode": "markers",
         "name": "MAURITIUS",
         "orientation": "v",
         "showlegend": true,
         "type": "scatter",
         "x": [
          0.4380000000000023
         ],
         "xaxis": "x",
         "y": [
          597649696
         ],
         "yaxis": "y"
        },
        {
         "hovertemplate": "Country=MAURITIUS<extra></extra>",
         "legendgroup": "MAURITIUS",
         "marker": {
          "color": "#2CA02C",
          "symbol": "circle"
         },
         "mode": "lines",
         "name": "MAURITIUS",
         "showlegend": false,
         "type": "scatter",
         "xaxis": "x",
         "yaxis": "y"
        },
        {
         "hovertemplate": "Country=MAYOTTE<br>Average Temperature evolution=%{x}<br>Greenhouse Gases Emissions=%{y}<extra></extra>",
         "legendgroup": "MAYOTTE",
         "marker": {
          "color": "#D62728",
          "symbol": "circle"
         },
         "mode": "markers",
         "name": "MAYOTTE",
         "orientation": "v",
         "showlegend": true,
         "type": "scatter",
         "x": [
          0.15366666666666595
         ],
         "xaxis": "x",
         "y": [
          0
         ],
         "yaxis": "y"
        },
        {
         "hovertemplate": "Country=MAYOTTE<extra></extra>",
         "legendgroup": "MAYOTTE",
         "marker": {
          "color": "#D62728",
          "symbol": "circle"
         },
         "mode": "lines",
         "name": "MAYOTTE",
         "showlegend": false,
         "type": "scatter",
         "xaxis": "x",
         "yaxis": "y"
        },
        {
         "hovertemplate": "Country=MEXICO<br>Average Temperature evolution=%{x}<br>Greenhouse Gases Emissions=%{y}<extra></extra>",
         "legendgroup": "MEXICO",
         "marker": {
          "color": "#9467BD",
          "symbol": "circle"
         },
         "mode": "markers",
         "name": "MEXICO",
         "orientation": "v",
         "showlegend": true,
         "type": "scatter",
         "x": [
          0.3159999999999957
         ],
         "xaxis": "x",
         "y": [
          223507522009
         ],
         "yaxis": "y"
        },
        {
         "hovertemplate": "Country=MEXICO<extra></extra>",
         "legendgroup": "MEXICO",
         "marker": {
          "color": "#9467BD",
          "symbol": "circle"
         },
         "mode": "lines",
         "name": "MEXICO",
         "showlegend": false,
         "type": "scatter",
         "xaxis": "x",
         "yaxis": "y"
        },
        {
         "hovertemplate": "Country=MOLDOVA<br>Average Temperature evolution=%{x}<br>Greenhouse Gases Emissions=%{y}<extra></extra>",
         "legendgroup": "MOLDOVA",
         "marker": {
          "color": "#8C564B",
          "symbol": "circle"
         },
         "mode": "markers",
         "name": "MOLDOVA",
         "orientation": "v",
         "showlegend": true,
         "type": "scatter",
         "x": [
          1.335583333333332
         ],
         "xaxis": "x",
         "y": [
          592568119
         ],
         "yaxis": "y"
        },
        {
         "hovertemplate": "Country=MOLDOVA<extra></extra>",
         "legendgroup": "MOLDOVA",
         "marker": {
          "color": "#8C564B",
          "symbol": "circle"
         },
         "mode": "lines",
         "name": "MOLDOVA",
         "showlegend": false,
         "type": "scatter",
         "xaxis": "x",
         "yaxis": "y"
        },
        {
         "hovertemplate": "Country=MONACO<br>Average Temperature evolution=%{x}<br>Greenhouse Gases Emissions=%{y}<extra></extra>",
         "legendgroup": "MONACO",
         "marker": {
          "color": "#E377C2",
          "symbol": "circle"
         },
         "mode": "markers",
         "name": "MONACO",
         "orientation": "v",
         "showlegend": true,
         "type": "scatter",
         "x": [
          0.1173333333333326
         ],
         "xaxis": "x",
         "y": [
          0
         ],
         "yaxis": "y"
        },
        {
         "hovertemplate": "Country=MONACO<extra></extra>",
         "legendgroup": "MONACO",
         "marker": {
          "color": "#E377C2",
          "symbol": "circle"
         },
         "mode": "lines",
         "name": "MONACO",
         "showlegend": false,
         "type": "scatter",
         "xaxis": "x",
         "yaxis": "y"
        },
        {
         "hovertemplate": "Country=MONGOLIA<br>Average Temperature evolution=%{x}<br>Greenhouse Gases Emissions=%{y}<extra></extra>",
         "legendgroup": "MONGOLIA",
         "marker": {
          "color": "#7F7F7F",
          "symbol": "circle"
         },
         "mode": "markers",
         "name": "MONGOLIA",
         "orientation": "v",
         "showlegend": true,
         "type": "scatter",
         "x": [
          0.7463333333333334
         ],
         "xaxis": "x",
         "y": [
          4026998777
         ],
         "yaxis": "y"
        },
        {
         "hovertemplate": "Country=MONGOLIA<extra></extra>",
         "legendgroup": "MONGOLIA",
         "marker": {
          "color": "#7F7F7F",
          "symbol": "circle"
         },
         "mode": "lines",
         "name": "MONGOLIA",
         "showlegend": false,
         "type": "scatter",
         "xaxis": "x",
         "yaxis": "y"
        },
        {
         "hovertemplate": "Country=MONTENEGRO<br>Average Temperature evolution=%{x}<br>Greenhouse Gases Emissions=%{y}<extra></extra>",
         "legendgroup": "MONTENEGRO",
         "marker": {
          "color": "#BCBD22",
          "symbol": "circle"
         },
         "mode": "markers",
         "name": "MONTENEGRO",
         "orientation": "v",
         "showlegend": true,
         "type": "scatter",
         "x": [
          1.319499999999998
         ],
         "xaxis": "x",
         "y": [
          1282882588
         ],
         "yaxis": "y"
        },
        {
         "hovertemplate": "Country=MONTENEGRO<extra></extra>",
         "legendgroup": "MONTENEGRO",
         "marker": {
          "color": "#BCBD22",
          "symbol": "circle"
         },
         "mode": "lines",
         "name": "MONTENEGRO",
         "showlegend": false,
         "type": "scatter",
         "xaxis": "x",
         "yaxis": "y"
        },
        {
         "hovertemplate": "Country=MONTSERRAT<br>Average Temperature evolution=%{x}<br>Greenhouse Gases Emissions=%{y}<extra></extra>",
         "legendgroup": "MONTSERRAT",
         "marker": {
          "color": "#17BECF",
          "symbol": "circle"
         },
         "mode": "markers",
         "name": "MONTSERRAT",
         "orientation": "v",
         "showlegend": true,
         "type": "scatter",
         "x": [
          0.6666666666666645
         ],
         "xaxis": "x",
         "y": [
          11937312
         ],
         "yaxis": "y"
        },
        {
         "hovertemplate": "Country=MONTSERRAT<extra></extra>",
         "legendgroup": "MONTSERRAT",
         "marker": {
          "color": "#17BECF",
          "symbol": "circle"
         },
         "mode": "lines",
         "name": "MONTSERRAT",
         "showlegend": false,
         "type": "scatter",
         "xaxis": "x",
         "yaxis": "y"
        },
        {
         "hovertemplate": "Country=MOROCCO<br>Average Temperature evolution=%{x}<br>Greenhouse Gases Emissions=%{y}<extra></extra>",
         "legendgroup": "MOROCCO",
         "marker": {
          "color": "#1F77B4",
          "symbol": "circle"
         },
         "mode": "markers",
         "name": "MOROCCO",
         "orientation": "v",
         "showlegend": true,
         "type": "scatter",
         "x": [
          0.4147500000000016
         ],
         "xaxis": "x",
         "y": [
          11247726955
         ],
         "yaxis": "y"
        },
        {
         "hovertemplate": "Country=MOROCCO<extra></extra>",
         "legendgroup": "MOROCCO",
         "marker": {
          "color": "#1F77B4",
          "symbol": "circle"
         },
         "mode": "lines",
         "name": "MOROCCO",
         "showlegend": false,
         "type": "scatter",
         "xaxis": "x",
         "yaxis": "y"
        },
        {
         "hovertemplate": "Country=MOZAMBIQUE<br>Average Temperature evolution=%{x}<br>Greenhouse Gases Emissions=%{y}<extra></extra>",
         "legendgroup": "MOZAMBIQUE",
         "marker": {
          "color": "#FF7F0E",
          "symbol": "circle"
         },
         "mode": "markers",
         "name": "MOZAMBIQUE",
         "orientation": "v",
         "showlegend": true,
         "type": "scatter",
         "x": [
          0.1219166666666675
         ],
         "xaxis": "x",
         "y": [
          2652509379
         ],
         "yaxis": "y"
        },
        {
         "hovertemplate": "Country=MOZAMBIQUE<extra></extra>",
         "legendgroup": "MOZAMBIQUE",
         "marker": {
          "color": "#FF7F0E",
          "symbol": "circle"
         },
         "mode": "lines",
         "name": "MOZAMBIQUE",
         "showlegend": false,
         "type": "scatter",
         "xaxis": "x",
         "yaxis": "y"
        },
        {
         "hovertemplate": "Country=MYANMAR<br>Average Temperature evolution=%{x}<br>Greenhouse Gases Emissions=%{y}<extra></extra>",
         "legendgroup": "MYANMAR",
         "marker": {
          "color": "#2CA02C",
          "symbol": "circle"
         },
         "mode": "markers",
         "name": "MYANMAR",
         "orientation": "v",
         "showlegend": true,
         "type": "scatter",
         "x": [
          0.22533333333333488
         ],
         "xaxis": "x",
         "y": [
          6688744202
         ],
         "yaxis": "y"
        },
        {
         "hovertemplate": "Country=MYANMAR<extra></extra>",
         "legendgroup": "MYANMAR",
         "marker": {
          "color": "#2CA02C",
          "symbol": "circle"
         },
         "mode": "lines",
         "name": "MYANMAR",
         "showlegend": false,
         "type": "scatter",
         "xaxis": "x",
         "yaxis": "y"
        },
        {
         "hovertemplate": "Country=NEPAL<br>Average Temperature evolution=%{x}<br>Greenhouse Gases Emissions=%{y}<extra></extra>",
         "legendgroup": "NEPAL",
         "marker": {
          "color": "#D62728",
          "symbol": "circle"
         },
         "mode": "markers",
         "name": "NEPAL",
         "orientation": "v",
         "showlegend": true,
         "type": "scatter",
         "x": [
          0.4339999999999995
         ],
         "xaxis": "x",
         "y": [
          376690599
         ],
         "yaxis": "y"
        },
        {
         "hovertemplate": "Country=NEPAL<extra></extra>",
         "legendgroup": "NEPAL",
         "marker": {
          "color": "#D62728",
          "symbol": "circle"
         },
         "mode": "lines",
         "name": "NEPAL",
         "showlegend": false,
         "type": "scatter",
         "xaxis": "x",
         "yaxis": "y"
        },
        {
         "hovertemplate": "Country=NETHERLANDS<br>Average Temperature evolution=%{x}<br>Greenhouse Gases Emissions=%{y}<extra></extra>",
         "legendgroup": "NETHERLANDS",
         "marker": {
          "color": "#9467BD",
          "symbol": "circle"
         },
         "mode": "markers",
         "name": "NETHERLANDS",
         "orientation": "v",
         "showlegend": true,
         "type": "scatter",
         "x": [
          0.6192500000000012
         ],
         "xaxis": "x",
         "y": [
          233850390606
         ],
         "yaxis": "y"
        },
        {
         "hovertemplate": "Country=NETHERLANDS<extra></extra>",
         "legendgroup": "NETHERLANDS",
         "marker": {
          "color": "#9467BD",
          "symbol": "circle"
         },
         "mode": "lines",
         "name": "NETHERLANDS",
         "showlegend": false,
         "type": "scatter",
         "xaxis": "x",
         "yaxis": "y"
        },
        {
         "hovertemplate": "Country=NEW CALEDONIA<br>Average Temperature evolution=%{x}<br>Greenhouse Gases Emissions=%{y}<extra></extra>",
         "legendgroup": "NEW CALEDONIA",
         "marker": {
          "color": "#8C564B",
          "symbol": "circle"
         },
         "mode": "markers",
         "name": "NEW CALEDONIA",
         "orientation": "v",
         "showlegend": true,
         "type": "scatter",
         "x": [
          0.3516666666666666
         ],
         "xaxis": "x",
         "y": [
          1645765265
         ],
         "yaxis": "y"
        },
        {
         "hovertemplate": "Country=NEW CALEDONIA<extra></extra>",
         "legendgroup": "NEW CALEDONIA",
         "marker": {
          "color": "#8C564B",
          "symbol": "circle"
         },
         "mode": "lines",
         "name": "NEW CALEDONIA",
         "showlegend": false,
         "type": "scatter",
         "xaxis": "x",
         "yaxis": "y"
        },
        {
         "hovertemplate": "Country=NEW ZEALAND<br>Average Temperature evolution=%{x}<br>Greenhouse Gases Emissions=%{y}<extra></extra>",
         "legendgroup": "NEW ZEALAND",
         "marker": {
          "color": "#E377C2",
          "symbol": "circle"
         },
         "mode": "markers",
         "name": "NEW ZEALAND",
         "orientation": "v",
         "showlegend": true,
         "type": "scatter",
         "x": [
          0.650916666666667
         ],
         "xaxis": "x",
         "y": [
          31349577768
         ],
         "yaxis": "y"
        },
        {
         "hovertemplate": "Country=NEW ZEALAND<extra></extra>",
         "legendgroup": "NEW ZEALAND",
         "marker": {
          "color": "#E377C2",
          "symbol": "circle"
         },
         "mode": "lines",
         "name": "NEW ZEALAND",
         "showlegend": false,
         "type": "scatter",
         "xaxis": "x",
         "yaxis": "y"
        },
        {
         "hovertemplate": "Country=NICARAGUA<br>Average Temperature evolution=%{x}<br>Greenhouse Gases Emissions=%{y}<extra></extra>",
         "legendgroup": "NICARAGUA",
         "marker": {
          "color": "#7F7F7F",
          "symbol": "circle"
         },
         "mode": "markers",
         "name": "NICARAGUA",
         "orientation": "v",
         "showlegend": true,
         "type": "scatter",
         "x": [
          0.5964999999999989
         ],
         "xaxis": "x",
         "y": [
          1494121469
         ],
         "yaxis": "y"
        },
        {
         "hovertemplate": "Country=NICARAGUA<extra></extra>",
         "legendgroup": "NICARAGUA",
         "marker": {
          "color": "#7F7F7F",
          "symbol": "circle"
         },
         "mode": "lines",
         "name": "NICARAGUA",
         "showlegend": false,
         "type": "scatter",
         "xaxis": "x",
         "yaxis": "y"
        },
        {
         "hovertemplate": "Country=NIGER<br>Average Temperature evolution=%{x}<br>Greenhouse Gases Emissions=%{y}<extra></extra>",
         "legendgroup": "NIGER",
         "marker": {
          "color": "#BCBD22",
          "symbol": "circle"
         },
         "mode": "markers",
         "name": "NIGER",
         "orientation": "v",
         "showlegend": true,
         "type": "scatter",
         "x": [
          0.5090833333333362
         ],
         "xaxis": "x",
         "y": [
          316854458
         ],
         "yaxis": "y"
        },
        {
         "hovertemplate": "Country=NIGER<extra></extra>",
         "legendgroup": "NIGER",
         "marker": {
          "color": "#BCBD22",
          "symbol": "circle"
         },
         "mode": "lines",
         "name": "NIGER",
         "showlegend": false,
         "type": "scatter",
         "xaxis": "x",
         "yaxis": "y"
        },
        {
         "hovertemplate": "Country=NIGERIA<br>Average Temperature evolution=%{x}<br>Greenhouse Gases Emissions=%{y}<extra></extra>",
         "legendgroup": "NIGERIA",
         "marker": {
          "color": "#17BECF",
          "symbol": "circle"
         },
         "mode": "markers",
         "name": "NIGERIA",
         "orientation": "v",
         "showlegend": true,
         "type": "scatter",
         "x": [
          -0.0350000000000002
         ],
         "xaxis": "x",
         "y": [
          31417093281
         ],
         "yaxis": "y"
        },
        {
         "hovertemplate": "Country=NIGERIA<extra></extra>",
         "legendgroup": "NIGERIA",
         "marker": {
          "color": "#17BECF",
          "symbol": "circle"
         },
         "mode": "lines",
         "name": "NIGERIA",
         "showlegend": false,
         "type": "scatter",
         "xaxis": "x",
         "yaxis": "y"
        },
        {
         "hovertemplate": "Country=NIUE<br>Average Temperature evolution=%{x}<br>Greenhouse Gases Emissions=%{y}<extra></extra>",
         "legendgroup": "NIUE",
         "marker": {
          "color": "#1F77B4",
          "symbol": "circle"
         },
         "mode": "markers",
         "name": "NIUE",
         "orientation": "v",
         "showlegend": true,
         "type": "scatter",
         "x": [
          0.4654999999999986
         ],
         "xaxis": "x",
         "y": [
          2059168
         ],
         "yaxis": "y"
        },
        {
         "hovertemplate": "Country=NIUE<extra></extra>",
         "legendgroup": "NIUE",
         "marker": {
          "color": "#1F77B4",
          "symbol": "circle"
         },
         "mode": "lines",
         "name": "NIUE",
         "showlegend": false,
         "type": "scatter",
         "xaxis": "x",
         "yaxis": "y"
        },
        {
         "hovertemplate": "Country=NORTHERN MARIANA ISLANDS<br>Average Temperature evolution=%{x}<br>Greenhouse Gases Emissions=%{y}<extra></extra>",
         "legendgroup": "NORTHERN MARIANA ISLANDS",
         "marker": {
          "color": "#FF7F0E",
          "symbol": "circle"
         },
         "mode": "markers",
         "name": "NORTHERN MARIANA ISLANDS",
         "orientation": "v",
         "showlegend": true,
         "type": "scatter",
         "x": [
          0.5476666666666642
         ],
         "xaxis": "x",
         "y": [
          0
         ],
         "yaxis": "y"
        },
        {
         "hovertemplate": "Country=NORTHERN MARIANA ISLANDS<extra></extra>",
         "legendgroup": "NORTHERN MARIANA ISLANDS",
         "marker": {
          "color": "#FF7F0E",
          "symbol": "circle"
         },
         "mode": "lines",
         "name": "NORTHERN MARIANA ISLANDS",
         "showlegend": false,
         "type": "scatter",
         "xaxis": "x",
         "yaxis": "y"
        },
        {
         "hovertemplate": "Country=NORWAY<br>Average Temperature evolution=%{x}<br>Greenhouse Gases Emissions=%{y}<extra></extra>",
         "legendgroup": "NORWAY",
         "marker": {
          "color": "#2CA02C",
          "symbol": "circle"
         },
         "mode": "markers",
         "name": "NORWAY",
         "orientation": "v",
         "showlegend": true,
         "type": "scatter",
         "x": [
          0.5795833333333331
         ],
         "xaxis": "x",
         "y": [
          49087775729
         ],
         "yaxis": "y"
        },
        {
         "hovertemplate": "Country=NORWAY<extra></extra>",
         "legendgroup": "NORWAY",
         "marker": {
          "color": "#2CA02C",
          "symbol": "circle"
         },
         "mode": "lines",
         "name": "NORWAY",
         "showlegend": false,
         "type": "scatter",
         "xaxis": "x",
         "yaxis": "y"
        },
        {
         "hovertemplate": "Country=OMAN<br>Average Temperature evolution=%{x}<br>Greenhouse Gases Emissions=%{y}<extra></extra>",
         "legendgroup": "OMAN",
         "marker": {
          "color": "#D62728",
          "symbol": "circle"
         },
         "mode": "markers",
         "name": "OMAN",
         "orientation": "v",
         "showlegend": true,
         "type": "scatter",
         "x": [
          1.0814999999999988
         ],
         "xaxis": "x",
         "y": [
          3428731247
         ],
         "yaxis": "y"
        },
        {
         "hovertemplate": "Country=OMAN<extra></extra>",
         "legendgroup": "OMAN",
         "marker": {
          "color": "#D62728",
          "symbol": "circle"
         },
         "mode": "lines",
         "name": "OMAN",
         "showlegend": false,
         "type": "scatter",
         "xaxis": "x",
         "yaxis": "y"
        },
        {
         "hovertemplate": "Country=PAKISTAN<br>Average Temperature evolution=%{x}<br>Greenhouse Gases Emissions=%{y}<extra></extra>",
         "legendgroup": "PAKISTAN",
         "marker": {
          "color": "#9467BD",
          "symbol": "circle"
         },
         "mode": "markers",
         "name": "PAKISTAN",
         "orientation": "v",
         "showlegend": true,
         "type": "scatter",
         "x": [
          1.2865000000000009
         ],
         "xaxis": "x",
         "y": [
          24570778283
         ],
         "yaxis": "y"
        },
        {
         "hovertemplate": "Country=PAKISTAN<extra></extra>",
         "legendgroup": "PAKISTAN",
         "marker": {
          "color": "#9467BD",
          "symbol": "circle"
         },
         "mode": "lines",
         "name": "PAKISTAN",
         "showlegend": false,
         "type": "scatter",
         "xaxis": "x",
         "yaxis": "y"
        },
        {
         "hovertemplate": "Country=PALAU<br>Average Temperature evolution=%{x}<br>Greenhouse Gases Emissions=%{y}<extra></extra>",
         "legendgroup": "PALAU",
         "marker": {
          "color": "#8C564B",
          "symbol": "circle"
         },
         "mode": "markers",
         "name": "PALAU",
         "orientation": "v",
         "showlegend": true,
         "type": "scatter",
         "x": [
          0.4648333333333314
         ],
         "xaxis": "x",
         "y": [
          110462272
         ],
         "yaxis": "y"
        },
        {
         "hovertemplate": "Country=PALAU<extra></extra>",
         "legendgroup": "PALAU",
         "marker": {
          "color": "#8C564B",
          "symbol": "circle"
         },
         "mode": "lines",
         "name": "PALAU",
         "showlegend": false,
         "type": "scatter",
         "xaxis": "x",
         "yaxis": "y"
        },
        {
         "hovertemplate": "Country=PALESTINE<br>Average Temperature evolution=%{x}<br>Greenhouse Gases Emissions=%{y}<extra></extra>",
         "legendgroup": "PALESTINE",
         "marker": {
          "color": "#E377C2",
          "symbol": "circle"
         },
         "mode": "markers",
         "name": "PALESTINE",
         "orientation": "v",
         "showlegend": true,
         "type": "scatter",
         "x": [
          0.9117499999999972
         ],
         "xaxis": "x",
         "y": [
          63885504
         ],
         "yaxis": "y"
        },
        {
         "hovertemplate": "Country=PALESTINE<extra></extra>",
         "legendgroup": "PALESTINE",
         "marker": {
          "color": "#E377C2",
          "symbol": "circle"
         },
         "mode": "lines",
         "name": "PALESTINE",
         "showlegend": false,
         "type": "scatter",
         "xaxis": "x",
         "yaxis": "y"
        },
        {
         "hovertemplate": "Country=PANAMA<br>Average Temperature evolution=%{x}<br>Greenhouse Gases Emissions=%{y}<extra></extra>",
         "legendgroup": "PANAMA",
         "marker": {
          "color": "#7F7F7F",
          "symbol": "circle"
         },
         "mode": "markers",
         "name": "PANAMA",
         "orientation": "v",
         "showlegend": true,
         "type": "scatter",
         "x": [
          0.6132500000000005
         ],
         "xaxis": "x",
         "y": [
          2419946736
         ],
         "yaxis": "y"
        },
        {
         "hovertemplate": "Country=PANAMA<extra></extra>",
         "legendgroup": "PANAMA",
         "marker": {
          "color": "#7F7F7F",
          "symbol": "circle"
         },
         "mode": "lines",
         "name": "PANAMA",
         "showlegend": false,
         "type": "scatter",
         "xaxis": "x",
         "yaxis": "y"
        },
        {
         "hovertemplate": "Country=PAPUA NEW GUINEA<br>Average Temperature evolution=%{x}<br>Greenhouse Gases Emissions=%{y}<extra></extra>",
         "legendgroup": "PAPUA NEW GUINEA",
         "marker": {
          "color": "#BCBD22",
          "symbol": "circle"
         },
         "mode": "markers",
         "name": "PAPUA NEW GUINEA",
         "orientation": "v",
         "showlegend": true,
         "type": "scatter",
         "x": [
          0.2003333333333333
         ],
         "xaxis": "x",
         "y": [
          1002682912
         ],
         "yaxis": "y"
        },
        {
         "hovertemplate": "Country=PAPUA NEW GUINEA<extra></extra>",
         "legendgroup": "PAPUA NEW GUINEA",
         "marker": {
          "color": "#BCBD22",
          "symbol": "circle"
         },
         "mode": "lines",
         "name": "PAPUA NEW GUINEA",
         "showlegend": false,
         "type": "scatter",
         "xaxis": "x",
         "yaxis": "y"
        },
        {
         "hovertemplate": "Country=PARAGUAY<br>Average Temperature evolution=%{x}<br>Greenhouse Gases Emissions=%{y}<extra></extra>",
         "legendgroup": "PARAGUAY",
         "marker": {
          "color": "#17BECF",
          "symbol": "circle"
         },
         "mode": "markers",
         "name": "PARAGUAY",
         "orientation": "v",
         "showlegend": true,
         "type": "scatter",
         "x": [
          0.2961666666666717
         ],
         "xaxis": "x",
         "y": [
          955241532
         ],
         "yaxis": "y"
        },
        {
         "hovertemplate": "Country=PARAGUAY<extra></extra>",
         "legendgroup": "PARAGUAY",
         "marker": {
          "color": "#17BECF",
          "symbol": "circle"
         },
         "mode": "lines",
         "name": "PARAGUAY",
         "showlegend": false,
         "type": "scatter",
         "xaxis": "x",
         "yaxis": "y"
        },
        {
         "hovertemplate": "Country=PERU<br>Average Temperature evolution=%{x}<br>Greenhouse Gases Emissions=%{y}<extra></extra>",
         "legendgroup": "PERU",
         "marker": {
          "color": "#1F77B4",
          "symbol": "circle"
         },
         "mode": "markers",
         "name": "PERU",
         "orientation": "v",
         "showlegend": true,
         "type": "scatter",
         "x": [
          0.38049999999999795
         ],
         "xaxis": "x",
         "y": [
          27358416734
         ],
         "yaxis": "y"
        },
        {
         "hovertemplate": "Country=PERU<extra></extra>",
         "legendgroup": "PERU",
         "marker": {
          "color": "#1F77B4",
          "symbol": "circle"
         },
         "mode": "lines",
         "name": "PERU",
         "showlegend": false,
         "type": "scatter",
         "xaxis": "x",
         "yaxis": "y"
        },
        {
         "hovertemplate": "Country=PHILIPPINES<br>Average Temperature evolution=%{x}<br>Greenhouse Gases Emissions=%{y}<extra></extra>",
         "legendgroup": "PHILIPPINES",
         "marker": {
          "color": "#FF7F0E",
          "symbol": "circle"
         },
         "mode": "markers",
         "name": "PHILIPPINES",
         "orientation": "v",
         "showlegend": true,
         "type": "scatter",
         "x": [
          0.456583333333331
         ],
         "xaxis": "x",
         "y": [
          25224501113
         ],
         "yaxis": "y"
        },
        {
         "hovertemplate": "Country=PHILIPPINES<extra></extra>",
         "legendgroup": "PHILIPPINES",
         "marker": {
          "color": "#FF7F0E",
          "symbol": "circle"
         },
         "mode": "lines",
         "name": "PHILIPPINES",
         "showlegend": false,
         "type": "scatter",
         "xaxis": "x",
         "yaxis": "y"
        },
        {
         "hovertemplate": "Country=POLAND<br>Average Temperature evolution=%{x}<br>Greenhouse Gases Emissions=%{y}<extra></extra>",
         "legendgroup": "POLAND",
         "marker": {
          "color": "#2CA02C",
          "symbol": "circle"
         },
         "mode": "markers",
         "name": "POLAND",
         "orientation": "v",
         "showlegend": true,
         "type": "scatter",
         "x": [
          1.0158333333333345
         ],
         "xaxis": "x",
         "y": [
          628205834654
         ],
         "yaxis": "y"
        },
        {
         "hovertemplate": "Country=POLAND<extra></extra>",
         "legendgroup": "POLAND",
         "marker": {
          "color": "#2CA02C",
          "symbol": "circle"
         },
         "mode": "lines",
         "name": "POLAND",
         "showlegend": false,
         "type": "scatter",
         "xaxis": "x",
         "yaxis": "y"
        },
        {
         "hovertemplate": "Country=PORTUGAL<br>Average Temperature evolution=%{x}<br>Greenhouse Gases Emissions=%{y}<extra></extra>",
         "legendgroup": "PORTUGAL",
         "marker": {
          "color": "#D62728",
          "symbol": "circle"
         },
         "mode": "markers",
         "name": "PORTUGAL",
         "orientation": "v",
         "showlegend": true,
         "type": "scatter",
         "x": [
          -0.36566666666666786
         ],
         "xaxis": "x",
         "y": [
          31071820488
         ],
         "yaxis": "y"
        },
        {
         "hovertemplate": "Country=PORTUGAL<extra></extra>",
         "legendgroup": "PORTUGAL",
         "marker": {
          "color": "#D62728",
          "symbol": "circle"
         },
         "mode": "lines",
         "name": "PORTUGAL",
         "showlegend": false,
         "type": "scatter",
         "xaxis": "x",
         "yaxis": "y"
        },
        {
         "hovertemplate": "Country=PUERTO RICO<br>Average Temperature evolution=%{x}<br>Greenhouse Gases Emissions=%{y}<extra></extra>",
         "legendgroup": "PUERTO RICO",
         "marker": {
          "color": "#9467BD",
          "symbol": "circle"
         },
         "mode": "markers",
         "name": "PUERTO RICO",
         "orientation": "v",
         "showlegend": true,
         "type": "scatter",
         "x": [
          0.4984166666666673
         ],
         "xaxis": "x",
         "y": [
          0
         ],
         "yaxis": "y"
        },
        {
         "hovertemplate": "Country=PUERTO RICO<extra></extra>",
         "legendgroup": "PUERTO RICO",
         "marker": {
          "color": "#9467BD",
          "symbol": "circle"
         },
         "mode": "lines",
         "name": "PUERTO RICO",
         "showlegend": false,
         "type": "scatter",
         "xaxis": "x",
         "yaxis": "y"
        },
        {
         "hovertemplate": "Country=QATAR<br>Average Temperature evolution=%{x}<br>Greenhouse Gases Emissions=%{y}<extra></extra>",
         "legendgroup": "QATAR",
         "marker": {
          "color": "#8C564B",
          "symbol": "circle"
         },
         "mode": "markers",
         "name": "QATAR",
         "orientation": "v",
         "showlegend": true,
         "type": "scatter",
         "x": [
          1.5969999999999978
         ],
         "xaxis": "x",
         "y": [
          8349834565
         ],
         "yaxis": "y"
        },
        {
         "hovertemplate": "Country=QATAR<extra></extra>",
         "legendgroup": "QATAR",
         "marker": {
          "color": "#8C564B",
          "symbol": "circle"
         },
         "mode": "lines",
         "name": "QATAR",
         "showlegend": false,
         "type": "scatter",
         "xaxis": "x",
         "yaxis": "y"
        },
        {
         "hovertemplate": "Country=REPUBLIC OF CONGO<br>Average Temperature evolution=%{x}<br>Greenhouse Gases Emissions=%{y}<extra></extra>",
         "legendgroup": "REPUBLIC OF CONGO",
         "marker": {
          "color": "#E377C2",
          "symbol": "circle"
         },
         "mode": "markers",
         "name": "REPUBLIC OF CONGO",
         "orientation": "v",
         "showlegend": true,
         "type": "scatter",
         "x": [
          -0.19366666666666174
         ],
         "xaxis": "x",
         "y": [
          606449419
         ],
         "yaxis": "y"
        },
        {
         "hovertemplate": "Country=REPUBLIC OF CONGO<extra></extra>",
         "legendgroup": "REPUBLIC OF CONGO",
         "marker": {
          "color": "#E377C2",
          "symbol": "circle"
         },
         "mode": "lines",
         "name": "REPUBLIC OF CONGO",
         "showlegend": false,
         "type": "scatter",
         "xaxis": "x",
         "yaxis": "y"
        },
        {
         "hovertemplate": "Country=REPUBLIC OF KOREA<br>Average Temperature evolution=%{x}<br>Greenhouse Gases Emissions=%{y}<extra></extra>",
         "legendgroup": "REPUBLIC OF KOREA",
         "marker": {
          "color": "#7F7F7F",
          "symbol": "circle"
         },
         "mode": "markers",
         "name": "REPUBLIC OF KOREA",
         "orientation": "v",
         "showlegend": true,
         "type": "scatter",
         "x": [
          0.5174999999999996
         ],
         "xaxis": "x",
         "y": [
          82943136277
         ],
         "yaxis": "y"
        },
        {
         "hovertemplate": "Country=REPUBLIC OF KOREA<extra></extra>",
         "legendgroup": "REPUBLIC OF KOREA",
         "marker": {
          "color": "#7F7F7F",
          "symbol": "circle"
         },
         "mode": "lines",
         "name": "REPUBLIC OF KOREA",
         "showlegend": false,
         "type": "scatter",
         "xaxis": "x",
         "yaxis": "y"
        },
        {
         "hovertemplate": "Country=ROMANIA<br>Average Temperature evolution=%{x}<br>Greenhouse Gases Emissions=%{y}<extra></extra>",
         "legendgroup": "ROMANIA",
         "marker": {
          "color": "#BCBD22",
          "symbol": "circle"
         },
         "mode": "markers",
         "name": "ROMANIA",
         "orientation": "v",
         "showlegend": true,
         "type": "scatter",
         "x": [
          1.4840833333333339
         ],
         "xaxis": "x",
         "y": [
          162663288592
         ],
         "yaxis": "y"
        },
        {
         "hovertemplate": "Country=ROMANIA<extra></extra>",
         "legendgroup": "ROMANIA",
         "marker": {
          "color": "#BCBD22",
          "symbol": "circle"
         },
         "mode": "lines",
         "name": "ROMANIA",
         "showlegend": false,
         "type": "scatter",
         "xaxis": "x",
         "yaxis": "y"
        },
        {
         "hovertemplate": "Country=RUSSIAN FEDERATION<br>Average Temperature evolution=%{x}<br>Greenhouse Gases Emissions=%{y}<extra></extra>",
         "legendgroup": "RUSSIAN FEDERATION",
         "marker": {
          "color": "#17BECF",
          "symbol": "circle"
         },
         "mode": "markers",
         "name": "RUSSIAN FEDERATION",
         "orientation": "v",
         "showlegend": true,
         "type": "scatter",
         "x": [
          0.382083333333333
         ],
         "xaxis": "x",
         "y": [
          1415979765750
         ],
         "yaxis": "y"
        },
        {
         "hovertemplate": "Country=RUSSIAN FEDERATION<extra></extra>",
         "legendgroup": "RUSSIAN FEDERATION",
         "marker": {
          "color": "#17BECF",
          "symbol": "circle"
         },
         "mode": "lines",
         "name": "RUSSIAN FEDERATION",
         "showlegend": false,
         "type": "scatter",
         "xaxis": "x",
         "yaxis": "y"
        },
        {
         "hovertemplate": "Country=RWANDA<br>Average Temperature evolution=%{x}<br>Greenhouse Gases Emissions=%{y}<extra></extra>",
         "legendgroup": "RWANDA",
         "marker": {
          "color": "#1F77B4",
          "symbol": "circle"
         },
         "mode": "markers",
         "name": "RWANDA",
         "orientation": "v",
         "showlegend": true,
         "type": "scatter",
         "x": [
          0.10483333333333206
         ],
         "xaxis": "x",
         "y": [
          200404026
         ],
         "yaxis": "y"
        },
        {
         "hovertemplate": "Country=RWANDA<extra></extra>",
         "legendgroup": "RWANDA",
         "marker": {
          "color": "#1F77B4",
          "symbol": "circle"
         },
         "mode": "lines",
         "name": "RWANDA",
         "showlegend": false,
         "type": "scatter",
         "xaxis": "x",
         "yaxis": "y"
        },
        {
         "hovertemplate": "Country=SAINT KITTS AND NEVIS<br>Average Temperature evolution=%{x}<br>Greenhouse Gases Emissions=%{y}<extra></extra>",
         "legendgroup": "SAINT KITTS AND NEVIS",
         "marker": {
          "color": "#FF7F0E",
          "symbol": "circle"
         },
         "mode": "markers",
         "name": "SAINT KITTS AND NEVIS",
         "orientation": "v",
         "showlegend": true,
         "type": "scatter",
         "x": [
          0.6330833333333313
         ],
         "xaxis": "x",
         "y": [
          16187552
         ],
         "yaxis": "y"
        },
        {
         "hovertemplate": "Country=SAINT KITTS AND NEVIS<extra></extra>",
         "legendgroup": "SAINT KITTS AND NEVIS",
         "marker": {
          "color": "#FF7F0E",
          "symbol": "circle"
         },
         "mode": "lines",
         "name": "SAINT KITTS AND NEVIS",
         "showlegend": false,
         "type": "scatter",
         "xaxis": "x",
         "yaxis": "y"
        },
        {
         "hovertemplate": "Country=SAINT LUCIA<br>Average Temperature evolution=%{x}<br>Greenhouse Gases Emissions=%{y}<extra></extra>",
         "legendgroup": "SAINT LUCIA",
         "marker": {
          "color": "#2CA02C",
          "symbol": "circle"
         },
         "mode": "markers",
         "name": "SAINT LUCIA",
         "orientation": "v",
         "showlegend": true,
         "type": "scatter",
         "x": [
          0.5617500000000034
         ],
         "xaxis": "x",
         "y": [
          72246752
         ],
         "yaxis": "y"
        },
        {
         "hovertemplate": "Country=SAINT LUCIA<extra></extra>",
         "legendgroup": "SAINT LUCIA",
         "marker": {
          "color": "#2CA02C",
          "symbol": "circle"
         },
         "mode": "lines",
         "name": "SAINT LUCIA",
         "showlegend": false,
         "type": "scatter",
         "xaxis": "x",
         "yaxis": "y"
        },
        {
         "hovertemplate": "Country=SAINT PIERRE AND MIQUELON<br>Average Temperature evolution=%{x}<br>Greenhouse Gases Emissions=%{y}<extra></extra>",
         "legendgroup": "SAINT PIERRE AND MIQUELON",
         "marker": {
          "color": "#D62728",
          "symbol": "circle"
         },
         "mode": "markers",
         "name": "SAINT PIERRE AND MIQUELON",
         "orientation": "v",
         "showlegend": true,
         "type": "scatter",
         "x": [
          1.034583333333332
         ],
         "xaxis": "x",
         "y": [
          53695920
         ],
         "yaxis": "y"
        },
        {
         "hovertemplate": "Country=SAINT PIERRE AND MIQUELON<extra></extra>",
         "legendgroup": "SAINT PIERRE AND MIQUELON",
         "marker": {
          "color": "#D62728",
          "symbol": "circle"
         },
         "mode": "lines",
         "name": "SAINT PIERRE AND MIQUELON",
         "showlegend": false,
         "type": "scatter",
         "xaxis": "x",
         "yaxis": "y"
        },
        {
         "hovertemplate": "Country=SAINT VINCENT AND THE GRENADINES<br>Average Temperature evolution=%{x}<br>Greenhouse Gases Emissions=%{y}<extra></extra>",
         "legendgroup": "SAINT VINCENT AND THE GRENADINES",
         "marker": {
          "color": "#9467BD",
          "symbol": "circle"
         },
         "mode": "markers",
         "name": "SAINT VINCENT AND THE GRENADINES",
         "orientation": "v",
         "showlegend": true,
         "type": "scatter",
         "x": [
          0.5476666666666679
         ],
         "xaxis": "x",
         "y": [
          34514880
         ],
         "yaxis": "y"
        },
        {
         "hovertemplate": "Country=SAINT VINCENT AND THE GRENADINES<extra></extra>",
         "legendgroup": "SAINT VINCENT AND THE GRENADINES",
         "marker": {
          "color": "#9467BD",
          "symbol": "circle"
         },
         "mode": "lines",
         "name": "SAINT VINCENT AND THE GRENADINES",
         "showlegend": false,
         "type": "scatter",
         "xaxis": "x",
         "yaxis": "y"
        },
        {
         "hovertemplate": "Country=SAMOA<br>Average Temperature evolution=%{x}<br>Greenhouse Gases Emissions=%{y}<extra></extra>",
         "legendgroup": "SAMOA",
         "marker": {
          "color": "#8C564B",
          "symbol": "circle"
         },
         "mode": "markers",
         "name": "SAMOA",
         "orientation": "v",
         "showlegend": true,
         "type": "scatter",
         "x": [
          0.26966666666666583
         ],
         "xaxis": "x",
         "y": [
          52875184
         ],
         "yaxis": "y"
        },
        {
         "hovertemplate": "Country=SAMOA<extra></extra>",
         "legendgroup": "SAMOA",
         "marker": {
          "color": "#8C564B",
          "symbol": "circle"
         },
         "mode": "lines",
         "name": "SAMOA",
         "showlegend": false,
         "type": "scatter",
         "xaxis": "x",
         "yaxis": "y"
        },
        {
         "hovertemplate": "Country=SAN MARINO<br>Average Temperature evolution=%{x}<br>Greenhouse Gases Emissions=%{y}<extra></extra>",
         "legendgroup": "SAN MARINO",
         "marker": {
          "color": "#E377C2",
          "symbol": "circle"
         },
         "mode": "markers",
         "name": "SAN MARINO",
         "orientation": "v",
         "showlegend": true,
         "type": "scatter",
         "x": [
          1.0814166666666658
         ],
         "xaxis": "x",
         "y": [
          0
         ],
         "yaxis": "y"
        },
        {
         "hovertemplate": "Country=SAN MARINO<extra></extra>",
         "legendgroup": "SAN MARINO",
         "marker": {
          "color": "#E377C2",
          "symbol": "circle"
         },
         "mode": "lines",
         "name": "SAN MARINO",
         "showlegend": false,
         "type": "scatter",
         "xaxis": "x",
         "yaxis": "y"
        },
        {
         "hovertemplate": "Country=SAO TOME AND PRINCIPE<br>Average Temperature evolution=%{x}<br>Greenhouse Gases Emissions=%{y}<extra></extra>",
         "legendgroup": "SAO TOME AND PRINCIPE",
         "marker": {
          "color": "#7F7F7F",
          "symbol": "circle"
         },
         "mode": "markers",
         "name": "SAO TOME AND PRINCIPE",
         "orientation": "v",
         "showlegend": true,
         "type": "scatter",
         "x": [
          -0.19274999999999684
         ],
         "xaxis": "x",
         "y": [
          23024576
         ],
         "yaxis": "y"
        },
        {
         "hovertemplate": "Country=SAO TOME AND PRINCIPE<extra></extra>",
         "legendgroup": "SAO TOME AND PRINCIPE",
         "marker": {
          "color": "#7F7F7F",
          "symbol": "circle"
         },
         "mode": "lines",
         "name": "SAO TOME AND PRINCIPE",
         "showlegend": false,
         "type": "scatter",
         "xaxis": "x",
         "yaxis": "y"
        },
        {
         "hovertemplate": "Country=SAUDI ARABIA<br>Average Temperature evolution=%{x}<br>Greenhouse Gases Emissions=%{y}<extra></extra>",
         "legendgroup": "SAUDI ARABIA",
         "marker": {
          "color": "#BCBD22",
          "symbol": "circle"
         },
         "mode": "markers",
         "name": "SAUDI ARABIA",
         "orientation": "v",
         "showlegend": true,
         "type": "scatter",
         "x": [
          1.5474166666666667
         ],
         "xaxis": "x",
         "y": [
          81137571609
         ],
         "yaxis": "y"
        },
        {
         "hovertemplate": "Country=SAUDI ARABIA<extra></extra>",
         "legendgroup": "SAUDI ARABIA",
         "marker": {
          "color": "#BCBD22",
          "symbol": "circle"
         },
         "mode": "lines",
         "name": "SAUDI ARABIA",
         "showlegend": false,
         "type": "scatter",
         "xaxis": "x",
         "yaxis": "y"
        },
        {
         "hovertemplate": "Country=SENEGAL<br>Average Temperature evolution=%{x}<br>Greenhouse Gases Emissions=%{y}<extra></extra>",
         "legendgroup": "SENEGAL",
         "marker": {
          "color": "#17BECF",
          "symbol": "circle"
         },
         "mode": "markers",
         "name": "SENEGAL",
         "orientation": "v",
         "showlegend": true,
         "type": "scatter",
         "x": [
          0.4518333333333295
         ],
         "xaxis": "x",
         "y": [
          1577765408
         ],
         "yaxis": "y"
        },
        {
         "hovertemplate": "Country=SENEGAL<extra></extra>",
         "legendgroup": "SENEGAL",
         "marker": {
          "color": "#17BECF",
          "symbol": "circle"
         },
         "mode": "lines",
         "name": "SENEGAL",
         "showlegend": false,
         "type": "scatter",
         "xaxis": "x",
         "yaxis": "y"
        },
        {
         "hovertemplate": "Country=SERBIA<br>Average Temperature evolution=%{x}<br>Greenhouse Gases Emissions=%{y}<extra></extra>",
         "legendgroup": "SERBIA",
         "marker": {
          "color": "#1F77B4",
          "symbol": "circle"
         },
         "mode": "markers",
         "name": "SERBIA",
         "orientation": "v",
         "showlegend": true,
         "type": "scatter",
         "x": [
          1.6924999999999986
         ],
         "xaxis": "x",
         "y": [
          29020903804
         ],
         "yaxis": "y"
        },
        {
         "hovertemplate": "Country=SERBIA<extra></extra>",
         "legendgroup": "SERBIA",
         "marker": {
          "color": "#1F77B4",
          "symbol": "circle"
         },
         "mode": "lines",
         "name": "SERBIA",
         "showlegend": false,
         "type": "scatter",
         "xaxis": "x",
         "yaxis": "y"
        },
        {
         "hovertemplate": "Country=SEYCHELLES<br>Average Temperature evolution=%{x}<br>Greenhouse Gases Emissions=%{y}<extra></extra>",
         "legendgroup": "SEYCHELLES",
         "marker": {
          "color": "#FF7F0E",
          "symbol": "circle"
         },
         "mode": "markers",
         "name": "SEYCHELLES",
         "orientation": "v",
         "showlegend": true,
         "type": "scatter",
         "x": [
          0.42991666666666334
         ],
         "xaxis": "x",
         "y": [
          54315136
         ],
         "yaxis": "y"
        },
        {
         "hovertemplate": "Country=SEYCHELLES<extra></extra>",
         "legendgroup": "SEYCHELLES",
         "marker": {
          "color": "#FF7F0E",
          "symbol": "circle"
         },
         "mode": "lines",
         "name": "SEYCHELLES",
         "showlegend": false,
         "type": "scatter",
         "xaxis": "x",
         "yaxis": "y"
        },
        {
         "hovertemplate": "Country=SIERRA LEONE<br>Average Temperature evolution=%{x}<br>Greenhouse Gases Emissions=%{y}<extra></extra>",
         "legendgroup": "SIERRA LEONE",
         "marker": {
          "color": "#2CA02C",
          "symbol": "circle"
         },
         "mode": "markers",
         "name": "SIERRA LEONE",
         "orientation": "v",
         "showlegend": true,
         "type": "scatter",
         "x": [
          0.4414166666666654
         ],
         "xaxis": "x",
         "y": [
          538164656
         ],
         "yaxis": "y"
        },
        {
         "hovertemplate": "Country=SIERRA LEONE<extra></extra>",
         "legendgroup": "SIERRA LEONE",
         "marker": {
          "color": "#2CA02C",
          "symbol": "circle"
         },
         "mode": "lines",
         "name": "SIERRA LEONE",
         "showlegend": false,
         "type": "scatter",
         "xaxis": "x",
         "yaxis": "y"
        },
        {
         "hovertemplate": "Country=SINGAPORE<br>Average Temperature evolution=%{x}<br>Greenhouse Gases Emissions=%{y}<extra></extra>",
         "legendgroup": "SINGAPORE",
         "marker": {
          "color": "#D62728",
          "symbol": "circle"
         },
         "mode": "markers",
         "name": "SINGAPORE",
         "orientation": "v",
         "showlegend": true,
         "type": "scatter",
         "x": [
          0.35691666666667027
         ],
         "xaxis": "x",
         "y": [
          16553406994
         ],
         "yaxis": "y"
        },
        {
         "hovertemplate": "Country=SINGAPORE<extra></extra>",
         "legendgroup": "SINGAPORE",
         "marker": {
          "color": "#D62728",
          "symbol": "circle"
         },
         "mode": "lines",
         "name": "SINGAPORE",
         "showlegend": false,
         "type": "scatter",
         "xaxis": "x",
         "yaxis": "y"
        },
        {
         "hovertemplate": "Country=SLOVAKIA<br>Average Temperature evolution=%{x}<br>Greenhouse Gases Emissions=%{y}<extra></extra>",
         "legendgroup": "SLOVAKIA",
         "marker": {
          "color": "#9467BD",
          "symbol": "circle"
         },
         "mode": "markers",
         "name": "SLOVAKIA",
         "orientation": "v",
         "showlegend": true,
         "type": "scatter",
         "x": [
          1.2280833333333327
         ],
         "xaxis": "x",
         "y": [
          42556606401
         ],
         "yaxis": "y"
        },
        {
         "hovertemplate": "Country=SLOVAKIA<extra></extra>",
         "legendgroup": "SLOVAKIA",
         "marker": {
          "color": "#9467BD",
          "symbol": "circle"
         },
         "mode": "lines",
         "name": "SLOVAKIA",
         "showlegend": false,
         "type": "scatter",
         "xaxis": "x",
         "yaxis": "y"
        },
        {
         "hovertemplate": "Country=SLOVENIA<br>Average Temperature evolution=%{x}<br>Greenhouse Gases Emissions=%{y}<extra></extra>",
         "legendgroup": "SLOVENIA",
         "marker": {
          "color": "#8C564B",
          "symbol": "circle"
         },
         "mode": "markers",
         "name": "SLOVENIA",
         "orientation": "v",
         "showlegend": true,
         "type": "scatter",
         "x": [
          1.3048333333333324
         ],
         "xaxis": "x",
         "y": [
          8453121825
         ],
         "yaxis": "y"
        },
        {
         "hovertemplate": "Country=SLOVENIA<extra></extra>",
         "legendgroup": "SLOVENIA",
         "marker": {
          "color": "#8C564B",
          "symbol": "circle"
         },
         "mode": "lines",
         "name": "SLOVENIA",
         "showlegend": false,
         "type": "scatter",
         "xaxis": "x",
         "yaxis": "y"
        },
        {
         "hovertemplate": "Country=SOLOMON ISLANDS<br>Average Temperature evolution=%{x}<br>Greenhouse Gases Emissions=%{y}<extra></extra>",
         "legendgroup": "SOLOMON ISLANDS",
         "marker": {
          "color": "#E377C2",
          "symbol": "circle"
         },
         "mode": "markers",
         "name": "SOLOMON ISLANDS",
         "orientation": "v",
         "showlegend": true,
         "type": "scatter",
         "x": [
          0.7314166666666712
         ],
         "xaxis": "x",
         "y": [
          60499968
         ],
         "yaxis": "y"
        },
        {
         "hovertemplate": "Country=SOLOMON ISLANDS<extra></extra>",
         "legendgroup": "SOLOMON ISLANDS",
         "marker": {
          "color": "#E377C2",
          "symbol": "circle"
         },
         "mode": "lines",
         "name": "SOLOMON ISLANDS",
         "showlegend": false,
         "type": "scatter",
         "xaxis": "x",
         "yaxis": "y"
        },
        {
         "hovertemplate": "Country=SOMALIA<br>Average Temperature evolution=%{x}<br>Greenhouse Gases Emissions=%{y}<extra></extra>",
         "legendgroup": "SOMALIA",
         "marker": {
          "color": "#7F7F7F",
          "symbol": "circle"
         },
         "mode": "markers",
         "name": "SOMALIA",
         "orientation": "v",
         "showlegend": true,
         "type": "scatter",
         "x": [
          0.7276666666666677
         ],
         "xaxis": "x",
         "y": [
          352507758
         ],
         "yaxis": "y"
        },
        {
         "hovertemplate": "Country=SOMALIA<extra></extra>",
         "legendgroup": "SOMALIA",
         "marker": {
          "color": "#7F7F7F",
          "symbol": "circle"
         },
         "mode": "lines",
         "name": "SOMALIA",
         "showlegend": false,
         "type": "scatter",
         "xaxis": "x",
         "yaxis": "y"
        },
        {
         "hovertemplate": "Country=SOUTH AFRICA<br>Average Temperature evolution=%{x}<br>Greenhouse Gases Emissions=%{y}<extra></extra>",
         "legendgroup": "SOUTH AFRICA",
         "marker": {
          "color": "#BCBD22",
          "symbol": "circle"
         },
         "mode": "markers",
         "name": "SOUTH AFRICA",
         "orientation": "v",
         "showlegend": true,
         "type": "scatter",
         "x": [
          -0.08141666666666192
         ],
         "xaxis": "x",
         "y": [
          272546282418
         ],
         "yaxis": "y"
        },
        {
         "hovertemplate": "Country=SOUTH AFRICA<extra></extra>",
         "legendgroup": "SOUTH AFRICA",
         "marker": {
          "color": "#BCBD22",
          "symbol": "circle"
         },
         "mode": "lines",
         "name": "SOUTH AFRICA",
         "showlegend": false,
         "type": "scatter",
         "xaxis": "x",
         "yaxis": "y"
        },
        {
         "hovertemplate": "Country=SOUTH GEORGIA AND THE SOUTH SANDWICH ISLANDS<br>Average Temperature evolution=%{x}<br>Greenhouse Gases Emissions=%{y}<extra></extra>",
         "legendgroup": "SOUTH GEORGIA AND THE SOUTH SANDWICH ISLANDS",
         "marker": {
          "color": "#17BECF",
          "symbol": "circle"
         },
         "mode": "markers",
         "name": "SOUTH GEORGIA AND THE SOUTH SANDWICH ISLANDS",
         "orientation": "v",
         "showlegend": true,
         "type": "scatter",
         "x": [
          0.70275
         ],
         "xaxis": "x",
         "y": [
          0
         ],
         "yaxis": "y"
        },
        {
         "hovertemplate": "Country=SOUTH GEORGIA AND THE SOUTH SANDWICH ISLANDS<extra></extra>",
         "legendgroup": "SOUTH GEORGIA AND THE SOUTH SANDWICH ISLANDS",
         "marker": {
          "color": "#17BECF",
          "symbol": "circle"
         },
         "mode": "lines",
         "name": "SOUTH GEORGIA AND THE SOUTH SANDWICH ISLANDS",
         "showlegend": false,
         "type": "scatter",
         "xaxis": "x",
         "yaxis": "y"
        },
        {
         "hovertemplate": "Country=SPAIN<br>Average Temperature evolution=%{x}<br>Greenhouse Gases Emissions=%{y}<extra></extra>",
         "legendgroup": "SPAIN",
         "marker": {
          "color": "#1F77B4",
          "symbol": "circle"
         },
         "mode": "markers",
         "name": "SPAIN",
         "orientation": "v",
         "showlegend": true,
         "type": "scatter",
         "x": [
          -0.04133333333333422
         ],
         "xaxis": "x",
         "y": [
          197132913987
         ],
         "yaxis": "y"
        },
        {
         "hovertemplate": "Country=SPAIN<extra></extra>",
         "legendgroup": "SPAIN",
         "marker": {
          "color": "#1F77B4",
          "symbol": "circle"
         },
         "mode": "lines",
         "name": "SPAIN",
         "showlegend": false,
         "type": "scatter",
         "xaxis": "x",
         "yaxis": "y"
        },
        {
         "hovertemplate": "Country=SRI LANKA<br>Average Temperature evolution=%{x}<br>Greenhouse Gases Emissions=%{y}<extra></extra>",
         "legendgroup": "SRI LANKA",
         "marker": {
          "color": "#FF7F0E",
          "symbol": "circle"
         },
         "mode": "markers",
         "name": "SRI LANKA",
         "orientation": "v",
         "showlegend": true,
         "type": "scatter",
         "x": [
          0.46008333333333673
         ],
         "xaxis": "x",
         "y": [
          3727251672
         ],
         "yaxis": "y"
        },
        {
         "hovertemplate": "Country=SRI LANKA<extra></extra>",
         "legendgroup": "SRI LANKA",
         "marker": {
          "color": "#FF7F0E",
          "symbol": "circle"
         },
         "mode": "lines",
         "name": "SRI LANKA",
         "showlegend": false,
         "type": "scatter",
         "xaxis": "x",
         "yaxis": "y"
        },
        {
         "hovertemplate": "Country=SUDAN<br>Average Temperature evolution=%{x}<br>Greenhouse Gases Emissions=%{y}<extra></extra>",
         "legendgroup": "SUDAN",
         "marker": {
          "color": "#2CA02C",
          "symbol": "circle"
         },
         "mode": "markers",
         "name": "SUDAN",
         "orientation": "v",
         "showlegend": true,
         "type": "scatter",
         "x": [
          0.6981666666666653
         ],
         "xaxis": "x",
         "y": [
          3401459744
         ],
         "yaxis": "y"
        },
        {
         "hovertemplate": "Country=SUDAN<extra></extra>",
         "legendgroup": "SUDAN",
         "marker": {
          "color": "#2CA02C",
          "symbol": "circle"
         },
         "mode": "lines",
         "name": "SUDAN",
         "showlegend": false,
         "type": "scatter",
         "xaxis": "x",
         "yaxis": "y"
        },
        {
         "hovertemplate": "Country=SURINAME<br>Average Temperature evolution=%{x}<br>Greenhouse Gases Emissions=%{y}<extra></extra>",
         "legendgroup": "SURINAME",
         "marker": {
          "color": "#D62728",
          "symbol": "circle"
         },
         "mode": "markers",
         "name": "SURINAME",
         "orientation": "v",
         "showlegend": true,
         "type": "scatter",
         "x": [
          0.5871666666666648
         ],
         "xaxis": "x",
         "y": [
          1387767433
         ],
         "yaxis": "y"
        },
        {
         "hovertemplate": "Country=SURINAME<extra></extra>",
         "legendgroup": "SURINAME",
         "marker": {
          "color": "#D62728",
          "symbol": "circle"
         },
         "mode": "lines",
         "name": "SURINAME",
         "showlegend": false,
         "type": "scatter",
         "xaxis": "x",
         "yaxis": "y"
        },
        {
         "hovertemplate": "Country=SVALBARD AND JAN MAYEN<br>Average Temperature evolution=%{x}<br>Greenhouse Gases Emissions=%{y}<extra></extra>",
         "legendgroup": "SVALBARD AND JAN MAYEN",
         "marker": {
          "color": "#9467BD",
          "symbol": "circle"
         },
         "mode": "markers",
         "name": "SVALBARD AND JAN MAYEN",
         "orientation": "v",
         "showlegend": true,
         "type": "scatter",
         "x": [
          1.3470833333333323
         ],
         "xaxis": "x",
         "y": [
          0
         ],
         "yaxis": "y"
        },
        {
         "hovertemplate": "Country=SVALBARD AND JAN MAYEN<extra></extra>",
         "legendgroup": "SVALBARD AND JAN MAYEN",
         "marker": {
          "color": "#9467BD",
          "symbol": "circle"
         },
         "mode": "lines",
         "name": "SVALBARD AND JAN MAYEN",
         "showlegend": false,
         "type": "scatter",
         "xaxis": "x",
         "yaxis": "y"
        },
        {
         "hovertemplate": "Country=SWAZILAND<br>Average Temperature evolution=%{x}<br>Greenhouse Gases Emissions=%{y}<extra></extra>",
         "legendgroup": "SWAZILAND",
         "marker": {
          "color": "#8C564B",
          "symbol": "circle"
         },
         "mode": "markers",
         "name": "SWAZILAND",
         "orientation": "v",
         "showlegend": true,
         "type": "scatter",
         "x": [
          0.09075000000000366
         ],
         "xaxis": "x",
         "y": [
          238119696
         ],
         "yaxis": "y"
        },
        {
         "hovertemplate": "Country=SWAZILAND<extra></extra>",
         "legendgroup": "SWAZILAND",
         "marker": {
          "color": "#8C564B",
          "symbol": "circle"
         },
         "mode": "lines",
         "name": "SWAZILAND",
         "showlegend": false,
         "type": "scatter",
         "xaxis": "x",
         "yaxis": "y"
        },
        {
         "hovertemplate": "Country=SWEDEN<br>Average Temperature evolution=%{x}<br>Greenhouse Gases Emissions=%{y}<extra></extra>",
         "legendgroup": "SWEDEN",
         "marker": {
          "color": "#E377C2",
          "symbol": "circle"
         },
         "mode": "markers",
         "name": "SWEDEN",
         "orientation": "v",
         "showlegend": true,
         "type": "scatter",
         "x": [
          0.3976666666666664
         ],
         "xaxis": "x",
         "y": [
          122610257089
         ],
         "yaxis": "y"
        },
        {
         "hovertemplate": "Country=SWEDEN<extra></extra>",
         "legendgroup": "SWEDEN",
         "marker": {
          "color": "#E377C2",
          "symbol": "circle"
         },
         "mode": "lines",
         "name": "SWEDEN",
         "showlegend": false,
         "type": "scatter",
         "xaxis": "x",
         "yaxis": "y"
        },
        {
         "hovertemplate": "Country=SWITZERLAND<br>Average Temperature evolution=%{x}<br>Greenhouse Gases Emissions=%{y}<extra></extra>",
         "legendgroup": "SWITZERLAND",
         "marker": {
          "color": "#7F7F7F",
          "symbol": "circle"
         },
         "mode": "markers",
         "name": "SWITZERLAND",
         "orientation": "v",
         "showlegend": true,
         "type": "scatter",
         "x": [
          0.5668333333333329
         ],
         "xaxis": "x",
         "y": [
          60854063645
         ],
         "yaxis": "y"
        },
        {
         "hovertemplate": "Country=SWITZERLAND<extra></extra>",
         "legendgroup": "SWITZERLAND",
         "marker": {
          "color": "#7F7F7F",
          "symbol": "circle"
         },
         "mode": "lines",
         "name": "SWITZERLAND",
         "showlegend": false,
         "type": "scatter",
         "xaxis": "x",
         "yaxis": "y"
        },
        {
         "hovertemplate": "Country=SYRIA<br>Average Temperature evolution=%{x}<br>Greenhouse Gases Emissions=%{y}<extra></extra>",
         "legendgroup": "SYRIA",
         "marker": {
          "color": "#BCBD22",
          "symbol": "circle"
         },
         "mode": "markers",
         "name": "SYRIA",
         "orientation": "v",
         "showlegend": true,
         "type": "scatter",
         "x": [
          1.4958333333333338
         ],
         "xaxis": "x",
         "y": [
          12792926705
         ],
         "yaxis": "y"
        },
        {
         "hovertemplate": "Country=SYRIA<extra></extra>",
         "legendgroup": "SYRIA",
         "marker": {
          "color": "#BCBD22",
          "symbol": "circle"
         },
         "mode": "lines",
         "name": "SYRIA",
         "showlegend": false,
         "type": "scatter",
         "xaxis": "x",
         "yaxis": "y"
        },
        {
         "hovertemplate": "Country=TAIWAN<br>Average Temperature evolution=%{x}<br>Greenhouse Gases Emissions=%{y}<extra></extra>",
         "legendgroup": "TAIWAN",
         "marker": {
          "color": "#17BECF",
          "symbol": "circle"
         },
         "mode": "markers",
         "name": "TAIWAN",
         "orientation": "v",
         "showlegend": true,
         "type": "scatter",
         "x": [
          0.33958333333332996
         ],
         "xaxis": "x",
         "y": [
          54792207813
         ],
         "yaxis": "y"
        },
        {
         "hovertemplate": "Country=TAIWAN<extra></extra>",
         "legendgroup": "TAIWAN",
         "marker": {
          "color": "#17BECF",
          "symbol": "circle"
         },
         "mode": "lines",
         "name": "TAIWAN",
         "showlegend": false,
         "type": "scatter",
         "xaxis": "x",
         "yaxis": "y"
        },
        {
         "hovertemplate": "Country=TAJIKISTAN<br>Average Temperature evolution=%{x}<br>Greenhouse Gases Emissions=%{y}<extra></extra>",
         "legendgroup": "TAJIKISTAN",
         "marker": {
          "color": "#1F77B4",
          "symbol": "circle"
         },
         "mode": "markers",
         "name": "TAJIKISTAN",
         "orientation": "v",
         "showlegend": true,
         "type": "scatter",
         "x": [
          2.1189166666666663
         ],
         "xaxis": "x",
         "y": [
          4871211128
         ],
         "yaxis": "y"
        },
        {
         "hovertemplate": "Country=TAJIKISTAN<extra></extra>",
         "legendgroup": "TAJIKISTAN",
         "marker": {
          "color": "#1F77B4",
          "symbol": "circle"
         },
         "mode": "lines",
         "name": "TAJIKISTAN",
         "showlegend": false,
         "type": "scatter",
         "xaxis": "x",
         "yaxis": "y"
        },
        {
         "hovertemplate": "Country=TANZANIA<br>Average Temperature evolution=%{x}<br>Greenhouse Gases Emissions=%{y}<extra></extra>",
         "legendgroup": "TANZANIA",
         "marker": {
          "color": "#FF7F0E",
          "symbol": "circle"
         },
         "mode": "markers",
         "name": "TANZANIA",
         "orientation": "v",
         "showlegend": true,
         "type": "scatter",
         "x": [
          0.06775000000000322
         ],
         "xaxis": "x",
         "y": [
          1147153401
         ],
         "yaxis": "y"
        },
        {
         "hovertemplate": "Country=TANZANIA<extra></extra>",
         "legendgroup": "TANZANIA",
         "marker": {
          "color": "#FF7F0E",
          "symbol": "circle"
         },
         "mode": "lines",
         "name": "TANZANIA",
         "showlegend": false,
         "type": "scatter",
         "xaxis": "x",
         "yaxis": "y"
        },
        {
         "hovertemplate": "Country=THAILAND<br>Average Temperature evolution=%{x}<br>Greenhouse Gases Emissions=%{y}<extra></extra>",
         "legendgroup": "THAILAND",
         "marker": {
          "color": "#2CA02C",
          "symbol": "circle"
         },
         "mode": "markers",
         "name": "THAILAND",
         "orientation": "v",
         "showlegend": true,
         "type": "scatter",
         "x": [
          0.05258333333333054
         ],
         "xaxis": "x",
         "y": [
          27191045556
         ],
         "yaxis": "y"
        },
        {
         "hovertemplate": "Country=THAILAND<extra></extra>",
         "legendgroup": "THAILAND",
         "marker": {
          "color": "#2CA02C",
          "symbol": "circle"
         },
         "mode": "lines",
         "name": "THAILAND",
         "showlegend": false,
         "type": "scatter",
         "xaxis": "x",
         "yaxis": "y"
        },
        {
         "hovertemplate": "Country=THE GAMBIA<br>Average Temperature evolution=%{x}<br>Greenhouse Gases Emissions=%{y}<extra></extra>",
         "legendgroup": "THE GAMBIA",
         "marker": {
          "color": "#D62728",
          "symbol": "circle"
         },
         "mode": "markers",
         "name": "THE GAMBIA",
         "orientation": "v",
         "showlegend": true,
         "type": "scatter",
         "x": [
          0.44908333333333417
         ],
         "xaxis": "x",
         "y": [
          81164928
         ],
         "yaxis": "y"
        },
        {
         "hovertemplate": "Country=THE GAMBIA<extra></extra>",
         "legendgroup": "THE GAMBIA",
         "marker": {
          "color": "#D62728",
          "symbol": "circle"
         },
         "mode": "lines",
         "name": "THE GAMBIA",
         "showlegend": false,
         "type": "scatter",
         "xaxis": "x",
         "yaxis": "y"
        },
        {
         "hovertemplate": "Country=TOGO<br>Average Temperature evolution=%{x}<br>Greenhouse Gases Emissions=%{y}<extra></extra>",
         "legendgroup": "TOGO",
         "marker": {
          "color": "#9467BD",
          "symbol": "circle"
         },
         "mode": "markers",
         "name": "TOGO",
         "orientation": "v",
         "showlegend": true,
         "type": "scatter",
         "x": [
          0.1279166666666721
         ],
         "xaxis": "x",
         "y": [
          387998659
         ],
         "yaxis": "y"
        },
        {
         "hovertemplate": "Country=TOGO<extra></extra>",
         "legendgroup": "TOGO",
         "marker": {
          "color": "#9467BD",
          "symbol": "circle"
         },
         "mode": "lines",
         "name": "TOGO",
         "showlegend": false,
         "type": "scatter",
         "xaxis": "x",
         "yaxis": "y"
        },
        {
         "hovertemplate": "Country=TONGA<br>Average Temperature evolution=%{x}<br>Greenhouse Gases Emissions=%{y}<extra></extra>",
         "legendgroup": "TONGA",
         "marker": {
          "color": "#8C564B",
          "symbol": "circle"
         },
         "mode": "markers",
         "name": "TONGA",
         "orientation": "v",
         "showlegend": true,
         "type": "scatter",
         "x": [
          0.5730833333333331
         ],
         "xaxis": "x",
         "y": [
          28941936
         ],
         "yaxis": "y"
        },
        {
         "hovertemplate": "Country=TONGA<extra></extra>",
         "legendgroup": "TONGA",
         "marker": {
          "color": "#8C564B",
          "symbol": "circle"
         },
         "mode": "lines",
         "name": "TONGA",
         "showlegend": false,
         "type": "scatter",
         "xaxis": "x",
         "yaxis": "y"
        },
        {
         "hovertemplate": "Country=TRINIDAD AND TOBAGO<br>Average Temperature evolution=%{x}<br>Greenhouse Gases Emissions=%{y}<extra></extra>",
         "legendgroup": "TRINIDAD AND TOBAGO",
         "marker": {
          "color": "#E377C2",
          "symbol": "circle"
         },
         "mode": "markers",
         "name": "TRINIDAD AND TOBAGO",
         "orientation": "v",
         "showlegend": true,
         "type": "scatter",
         "x": [
          0.5271666666666627
         ],
         "xaxis": "x",
         "y": [
          19600359186
         ],
         "yaxis": "y"
        },
        {
         "hovertemplate": "Country=TRINIDAD AND TOBAGO<extra></extra>",
         "legendgroup": "TRINIDAD AND TOBAGO",
         "marker": {
          "color": "#E377C2",
          "symbol": "circle"
         },
         "mode": "lines",
         "name": "TRINIDAD AND TOBAGO",
         "showlegend": false,
         "type": "scatter",
         "xaxis": "x",
         "yaxis": "y"
        },
        {
         "hovertemplate": "Country=TUNISIA<br>Average Temperature evolution=%{x}<br>Greenhouse Gases Emissions=%{y}<extra></extra>",
         "legendgroup": "TUNISIA",
         "marker": {
          "color": "#7F7F7F",
          "symbol": "circle"
         },
         "mode": "markers",
         "name": "TUNISIA",
         "orientation": "v",
         "showlegend": true,
         "type": "scatter",
         "x": [
          0.9944999999999987
         ],
         "xaxis": "x",
         "y": [
          5999953146
         ],
         "yaxis": "y"
        },
        {
         "hovertemplate": "Country=TUNISIA<extra></extra>",
         "legendgroup": "TUNISIA",
         "marker": {
          "color": "#7F7F7F",
          "symbol": "circle"
         },
         "mode": "lines",
         "name": "TUNISIA",
         "showlegend": false,
         "type": "scatter",
         "xaxis": "x",
         "yaxis": "y"
        },
        {
         "hovertemplate": "Country=TURKEY<br>Average Temperature evolution=%{x}<br>Greenhouse Gases Emissions=%{y}<extra></extra>",
         "legendgroup": "TURKEY",
         "marker": {
          "color": "#BCBD22",
          "symbol": "circle"
         },
         "mode": "markers",
         "name": "TURKEY",
         "orientation": "v",
         "showlegend": true,
         "type": "scatter",
         "x": [
          1.240916666666666
         ],
         "xaxis": "x",
         "y": [
          69000493925
         ],
         "yaxis": "y"
        },
        {
         "hovertemplate": "Country=TURKEY<extra></extra>",
         "legendgroup": "TURKEY",
         "marker": {
          "color": "#BCBD22",
          "symbol": "circle"
         },
         "mode": "lines",
         "name": "TURKEY",
         "showlegend": false,
         "type": "scatter",
         "xaxis": "x",
         "yaxis": "y"
        },
        {
         "hovertemplate": "Country=TURKMENISTAN<br>Average Temperature evolution=%{x}<br>Greenhouse Gases Emissions=%{y}<extra></extra>",
         "legendgroup": "TURKMENISTAN",
         "marker": {
          "color": "#17BECF",
          "symbol": "circle"
         },
         "mode": "markers",
         "name": "TURKMENISTAN",
         "orientation": "v",
         "showlegend": true,
         "type": "scatter",
         "x": [
          2.7934166666666638
         ],
         "xaxis": "x",
         "y": [
          22635030063
         ],
         "yaxis": "y"
        },
        {
         "hovertemplate": "Country=TURKMENISTAN<extra></extra>",
         "legendgroup": "TURKMENISTAN",
         "marker": {
          "color": "#17BECF",
          "symbol": "circle"
         },
         "mode": "lines",
         "name": "TURKMENISTAN",
         "showlegend": false,
         "type": "scatter",
         "xaxis": "x",
         "yaxis": "y"
        },
        {
         "hovertemplate": "Country=TURKS AND CAICOS ISLANDS<br>Average Temperature evolution=%{x}<br>Greenhouse Gases Emissions=%{y}<extra></extra>",
         "legendgroup": "TURKS AND CAICOS ISLANDS",
         "marker": {
          "color": "#1F77B4",
          "symbol": "circle"
         },
         "mode": "markers",
         "name": "TURKS AND CAICOS ISLANDS",
         "orientation": "v",
         "showlegend": true,
         "type": "scatter",
         "x": [
          0.15483333333333588
         ],
         "xaxis": "x",
         "y": [
          2663728
         ],
         "yaxis": "y"
        },
        {
         "hovertemplate": "Country=TURKS AND CAICOS ISLANDS<extra></extra>",
         "legendgroup": "TURKS AND CAICOS ISLANDS",
         "marker": {
          "color": "#1F77B4",
          "symbol": "circle"
         },
         "mode": "lines",
         "name": "TURKS AND CAICOS ISLANDS",
         "showlegend": false,
         "type": "scatter",
         "xaxis": "x",
         "yaxis": "y"
        },
        {
         "hovertemplate": "Country=UGANDA<br>Average Temperature evolution=%{x}<br>Greenhouse Gases Emissions=%{y}<extra></extra>",
         "legendgroup": "UGANDA",
         "marker": {
          "color": "#FF7F0E",
          "symbol": "circle"
         },
         "mode": "markers",
         "name": "UGANDA",
         "orientation": "v",
         "showlegend": true,
         "type": "scatter",
         "x": [
          0.22208333333333047
         ],
         "xaxis": "x",
         "y": [
          797994001
         ],
         "yaxis": "y"
        },
        {
         "hovertemplate": "Country=UGANDA<extra></extra>",
         "legendgroup": "UGANDA",
         "marker": {
          "color": "#FF7F0E",
          "symbol": "circle"
         },
         "mode": "lines",
         "name": "UGANDA",
         "showlegend": false,
         "type": "scatter",
         "xaxis": "x",
         "yaxis": "y"
        },
        {
         "hovertemplate": "Country=UKRAINE<br>Average Temperature evolution=%{x}<br>Greenhouse Gases Emissions=%{y}<extra></extra>",
         "legendgroup": "UKRAINE",
         "marker": {
          "color": "#2CA02C",
          "symbol": "circle"
         },
         "mode": "markers",
         "name": "UKRAINE",
         "orientation": "v",
         "showlegend": true,
         "type": "scatter",
         "x": [
          1.0772500000000012
         ],
         "xaxis": "x",
         "y": [
          423102062610
         ],
         "yaxis": "y"
        },
        {
         "hovertemplate": "Country=UKRAINE<extra></extra>",
         "legendgroup": "UKRAINE",
         "marker": {
          "color": "#2CA02C",
          "symbol": "circle"
         },
         "mode": "lines",
         "name": "UKRAINE",
         "showlegend": false,
         "type": "scatter",
         "xaxis": "x",
         "yaxis": "y"
        },
        {
         "hovertemplate": "Country=UNITED ARAB EMIRATES<br>Average Temperature evolution=%{x}<br>Greenhouse Gases Emissions=%{y}<extra></extra>",
         "legendgroup": "UNITED ARAB EMIRATES",
         "marker": {
          "color": "#D62728",
          "symbol": "circle"
         },
         "mode": "markers",
         "name": "UNITED ARAB EMIRATES",
         "orientation": "v",
         "showlegend": true,
         "type": "scatter",
         "x": [
          1.3803333333333363
         ],
         "xaxis": "x",
         "y": [
          19832300841
         ],
         "yaxis": "y"
        },
        {
         "hovertemplate": "Country=UNITED ARAB EMIRATES<extra></extra>",
         "legendgroup": "UNITED ARAB EMIRATES",
         "marker": {
          "color": "#D62728",
          "symbol": "circle"
         },
         "mode": "lines",
         "name": "UNITED ARAB EMIRATES",
         "showlegend": false,
         "type": "scatter",
         "xaxis": "x",
         "yaxis": "y"
        },
        {
         "hovertemplate": "Country=UNITED KINGDOM<br>Average Temperature evolution=%{x}<br>Greenhouse Gases Emissions=%{y}<extra></extra>",
         "legendgroup": "UNITED KINGDOM",
         "marker": {
          "color": "#9467BD",
          "symbol": "circle"
         },
         "mode": "markers",
         "name": "UNITED KINGDOM",
         "orientation": "v",
         "showlegend": true,
         "type": "scatter",
         "x": [
          -0.24883333333333213
         ],
         "xaxis": "x",
         "y": [
          2744666757254
         ],
         "yaxis": "y"
        },
        {
         "hovertemplate": "Country=UNITED KINGDOM<extra></extra>",
         "legendgroup": "UNITED KINGDOM",
         "marker": {
          "color": "#9467BD",
          "symbol": "circle"
         },
         "mode": "lines",
         "name": "UNITED KINGDOM",
         "showlegend": false,
         "type": "scatter",
         "xaxis": "x",
         "yaxis": "y"
        },
        {
         "hovertemplate": "Country=UNITED STATES<br>Average Temperature evolution=%{x}<br>Greenhouse Gases Emissions=%{y}<extra></extra>",
         "legendgroup": "UNITED STATES",
         "marker": {
          "color": "#8C564B",
          "symbol": "circle"
         },
         "mode": "markers",
         "name": "UNITED STATES",
         "orientation": "v",
         "showlegend": true,
         "type": "scatter",
         "x": [
          0.761666666666667
         ],
         "xaxis": "x",
         "y": [
          9335760067776
         ],
         "yaxis": "y"
        },
        {
         "hovertemplate": "Country=UNITED STATES<extra></extra>",
         "legendgroup": "UNITED STATES",
         "marker": {
          "color": "#8C564B",
          "symbol": "circle"
         },
         "mode": "lines",
         "name": "UNITED STATES",
         "showlegend": false,
         "type": "scatter",
         "xaxis": "x",
         "yaxis": "y"
        },
        {
         "hovertemplate": "Country=URUGUAY<br>Average Temperature evolution=%{x}<br>Greenhouse Gases Emissions=%{y}<extra></extra>",
         "legendgroup": "URUGUAY",
         "marker": {
          "color": "#E377C2",
          "symbol": "circle"
         },
         "mode": "markers",
         "name": "URUGUAY",
         "orientation": "v",
         "showlegend": true,
         "type": "scatter",
         "x": [
          0.467500000000001
         ],
         "xaxis": "x",
         "y": [
          6052978621
         ],
         "yaxis": "y"
        },
        {
         "hovertemplate": "Country=URUGUAY<extra></extra>",
         "legendgroup": "URUGUAY",
         "marker": {
          "color": "#E377C2",
          "symbol": "circle"
         },
         "mode": "lines",
         "name": "URUGUAY",
         "showlegend": false,
         "type": "scatter",
         "xaxis": "x",
         "yaxis": "y"
        },
        {
         "hovertemplate": "Country=UZBEKISTAN<br>Average Temperature evolution=%{x}<br>Greenhouse Gases Emissions=%{y}<extra></extra>",
         "legendgroup": "UZBEKISTAN",
         "marker": {
          "color": "#7F7F7F",
          "symbol": "circle"
         },
         "mode": "markers",
         "name": "UZBEKISTAN",
         "orientation": "v",
         "showlegend": true,
         "type": "scatter",
         "x": [
          2.815000000000002
         ],
         "xaxis": "x",
         "y": [
          76538958170
         ],
         "yaxis": "y"
        },
        {
         "hovertemplate": "Country=UZBEKISTAN<extra></extra>",
         "legendgroup": "UZBEKISTAN",
         "marker": {
          "color": "#7F7F7F",
          "symbol": "circle"
         },
         "mode": "lines",
         "name": "UZBEKISTAN",
         "showlegend": false,
         "type": "scatter",
         "xaxis": "x",
         "yaxis": "y"
        },
        {
         "hovertemplate": "Country=VENEZUELA<br>Average Temperature evolution=%{x}<br>Greenhouse Gases Emissions=%{y}<extra></extra>",
         "legendgroup": "VENEZUELA",
         "marker": {
          "color": "#BCBD22",
          "symbol": "circle"
         },
         "mode": "markers",
         "name": "VENEZUELA",
         "orientation": "v",
         "showlegend": true,
         "type": "scatter",
         "x": [
          0.4248333333333289
         ],
         "xaxis": "x",
         "y": [
          103847138454
         ],
         "yaxis": "y"
        },
        {
         "hovertemplate": "Country=VENEZUELA<extra></extra>",
         "legendgroup": "VENEZUELA",
         "marker": {
          "color": "#BCBD22",
          "symbol": "circle"
         },
         "mode": "lines",
         "name": "VENEZUELA",
         "showlegend": false,
         "type": "scatter",
         "xaxis": "x",
         "yaxis": "y"
        },
        {
         "hovertemplate": "Country=VIETNAM<br>Average Temperature evolution=%{x}<br>Greenhouse Gases Emissions=%{y}<extra></extra>",
         "legendgroup": "VIETNAM",
         "marker": {
          "color": "#17BECF",
          "symbol": "circle"
         },
         "mode": "markers",
         "name": "VIETNAM",
         "orientation": "v",
         "showlegend": true,
         "type": "scatter",
         "x": [
          -0.062416666666663886
         ],
         "xaxis": "x",
         "y": [
          17294780521
         ],
         "yaxis": "y"
        },
        {
         "hovertemplate": "Country=VIETNAM<extra></extra>",
         "legendgroup": "VIETNAM",
         "marker": {
          "color": "#17BECF",
          "symbol": "circle"
         },
         "mode": "lines",
         "name": "VIETNAM",
         "showlegend": false,
         "type": "scatter",
         "xaxis": "x",
         "yaxis": "y"
        },
        {
         "hovertemplate": "Country=VIRGIN ISLANDS, BRITISH<br>Average Temperature evolution=%{x}<br>Greenhouse Gases Emissions=%{y}<extra></extra>",
         "legendgroup": "VIRGIN ISLANDS, BRITISH",
         "marker": {
          "color": "#1F77B4",
          "symbol": "circle"
         },
         "mode": "markers",
         "name": "VIRGIN ISLANDS, BRITISH",
         "orientation": "v",
         "showlegend": true,
         "type": "scatter",
         "x": [
          0.5604166666666612
         ],
         "xaxis": "x",
         "y": [
          0
         ],
         "yaxis": "y"
        },
        {
         "hovertemplate": "Country=VIRGIN ISLANDS, BRITISH<extra></extra>",
         "legendgroup": "VIRGIN ISLANDS, BRITISH",
         "marker": {
          "color": "#1F77B4",
          "symbol": "circle"
         },
         "mode": "lines",
         "name": "VIRGIN ISLANDS, BRITISH",
         "showlegend": false,
         "type": "scatter",
         "xaxis": "x",
         "yaxis": "y"
        },
        {
         "hovertemplate": "Country=YEMEN<br>Average Temperature evolution=%{x}<br>Greenhouse Gases Emissions=%{y}<extra></extra>",
         "legendgroup": "YEMEN",
         "marker": {
          "color": "#FF7F0E",
          "symbol": "circle"
         },
         "mode": "markers",
         "name": "YEMEN",
         "orientation": "v",
         "showlegend": true,
         "type": "scatter",
         "x": [
          1.3079166666666675
         ],
         "xaxis": "x",
         "y": [
          4750984077
         ],
         "yaxis": "y"
        },
        {
         "hovertemplate": "Country=YEMEN<extra></extra>",
         "legendgroup": "YEMEN",
         "marker": {
          "color": "#FF7F0E",
          "symbol": "circle"
         },
         "mode": "lines",
         "name": "YEMEN",
         "showlegend": false,
         "type": "scatter",
         "xaxis": "x",
         "yaxis": "y"
        },
        {
         "hovertemplate": "Country=ZAMBIA<br>Average Temperature evolution=%{x}<br>Greenhouse Gases Emissions=%{y}<extra></extra>",
         "legendgroup": "ZAMBIA",
         "marker": {
          "color": "#2CA02C",
          "symbol": "circle"
         },
         "mode": "markers",
         "name": "ZAMBIA",
         "orientation": "v",
         "showlegend": true,
         "type": "scatter",
         "x": [
          -0.1258333333333359
         ],
         "xaxis": "x",
         "y": [
          3330755484
         ],
         "yaxis": "y"
        },
        {
         "hovertemplate": "Country=ZAMBIA<extra></extra>",
         "legendgroup": "ZAMBIA",
         "marker": {
          "color": "#2CA02C",
          "symbol": "circle"
         },
         "mode": "lines",
         "name": "ZAMBIA",
         "showlegend": false,
         "type": "scatter",
         "xaxis": "x",
         "yaxis": "y"
        },
        {
         "hovertemplate": "Country=ZIMBABWE<br>Average Temperature evolution=%{x}<br>Greenhouse Gases Emissions=%{y}<extra></extra>",
         "legendgroup": "ZIMBABWE",
         "marker": {
          "color": "#D62728",
          "symbol": "circle"
         },
         "mode": "markers",
         "name": "ZIMBABWE",
         "orientation": "v",
         "showlegend": true,
         "type": "scatter",
         "x": [
          -0.38608333333333156
         ],
         "xaxis": "x",
         "y": [
          12340662375
         ],
         "yaxis": "y"
        },
        {
         "hovertemplate": "Country=ZIMBABWE<extra></extra>",
         "legendgroup": "ZIMBABWE",
         "marker": {
          "color": "#D62728",
          "symbol": "circle"
         },
         "mode": "lines",
         "name": "ZIMBABWE",
         "showlegend": false,
         "type": "scatter",
         "xaxis": "x",
         "yaxis": "y"
        }
       ],
       "layout": {
        "legend": {
         "title": {
          "text": "Country"
         },
         "tracegroupgap": 0
        },
        "margin": {
         "t": 60
        },
        "template": {
         "data": {
          "bar": [
           {
            "error_x": {
             "color": "rgb(36,36,36)"
            },
            "error_y": {
             "color": "rgb(36,36,36)"
            },
            "marker": {
             "line": {
              "color": "white",
              "width": 0.5
             },
             "pattern": {
              "fillmode": "overlay",
              "size": 10,
              "solidity": 0.2
             }
            },
            "type": "bar"
           }
          ],
          "barpolar": [
           {
            "marker": {
             "line": {
              "color": "white",
              "width": 0.5
             },
             "pattern": {
              "fillmode": "overlay",
              "size": 10,
              "solidity": 0.2
             }
            },
            "type": "barpolar"
           }
          ],
          "carpet": [
           {
            "aaxis": {
             "endlinecolor": "rgb(36,36,36)",
             "gridcolor": "white",
             "linecolor": "white",
             "minorgridcolor": "white",
             "startlinecolor": "rgb(36,36,36)"
            },
            "baxis": {
             "endlinecolor": "rgb(36,36,36)",
             "gridcolor": "white",
             "linecolor": "white",
             "minorgridcolor": "white",
             "startlinecolor": "rgb(36,36,36)"
            },
            "type": "carpet"
           }
          ],
          "choropleth": [
           {
            "colorbar": {
             "outlinewidth": 1,
             "tickcolor": "rgb(36,36,36)",
             "ticks": "outside"
            },
            "type": "choropleth"
           }
          ],
          "contour": [
           {
            "colorbar": {
             "outlinewidth": 1,
             "tickcolor": "rgb(36,36,36)",
             "ticks": "outside"
            },
            "colorscale": [
             [
              0,
              "#440154"
             ],
             [
              0.1111111111111111,
              "#482878"
             ],
             [
              0.2222222222222222,
              "#3e4989"
             ],
             [
              0.3333333333333333,
              "#31688e"
             ],
             [
              0.4444444444444444,
              "#26828e"
             ],
             [
              0.5555555555555556,
              "#1f9e89"
             ],
             [
              0.6666666666666666,
              "#35b779"
             ],
             [
              0.7777777777777778,
              "#6ece58"
             ],
             [
              0.8888888888888888,
              "#b5de2b"
             ],
             [
              1,
              "#fde725"
             ]
            ],
            "type": "contour"
           }
          ],
          "contourcarpet": [
           {
            "colorbar": {
             "outlinewidth": 1,
             "tickcolor": "rgb(36,36,36)",
             "ticks": "outside"
            },
            "type": "contourcarpet"
           }
          ],
          "heatmap": [
           {
            "colorbar": {
             "outlinewidth": 1,
             "tickcolor": "rgb(36,36,36)",
             "ticks": "outside"
            },
            "colorscale": [
             [
              0,
              "#440154"
             ],
             [
              0.1111111111111111,
              "#482878"
             ],
             [
              0.2222222222222222,
              "#3e4989"
             ],
             [
              0.3333333333333333,
              "#31688e"
             ],
             [
              0.4444444444444444,
              "#26828e"
             ],
             [
              0.5555555555555556,
              "#1f9e89"
             ],
             [
              0.6666666666666666,
              "#35b779"
             ],
             [
              0.7777777777777778,
              "#6ece58"
             ],
             [
              0.8888888888888888,
              "#b5de2b"
             ],
             [
              1,
              "#fde725"
             ]
            ],
            "type": "heatmap"
           }
          ],
          "heatmapgl": [
           {
            "colorbar": {
             "outlinewidth": 1,
             "tickcolor": "rgb(36,36,36)",
             "ticks": "outside"
            },
            "colorscale": [
             [
              0,
              "#440154"
             ],
             [
              0.1111111111111111,
              "#482878"
             ],
             [
              0.2222222222222222,
              "#3e4989"
             ],
             [
              0.3333333333333333,
              "#31688e"
             ],
             [
              0.4444444444444444,
              "#26828e"
             ],
             [
              0.5555555555555556,
              "#1f9e89"
             ],
             [
              0.6666666666666666,
              "#35b779"
             ],
             [
              0.7777777777777778,
              "#6ece58"
             ],
             [
              0.8888888888888888,
              "#b5de2b"
             ],
             [
              1,
              "#fde725"
             ]
            ],
            "type": "heatmapgl"
           }
          ],
          "histogram": [
           {
            "marker": {
             "line": {
              "color": "white",
              "width": 0.6
             }
            },
            "type": "histogram"
           }
          ],
          "histogram2d": [
           {
            "colorbar": {
             "outlinewidth": 1,
             "tickcolor": "rgb(36,36,36)",
             "ticks": "outside"
            },
            "colorscale": [
             [
              0,
              "#440154"
             ],
             [
              0.1111111111111111,
              "#482878"
             ],
             [
              0.2222222222222222,
              "#3e4989"
             ],
             [
              0.3333333333333333,
              "#31688e"
             ],
             [
              0.4444444444444444,
              "#26828e"
             ],
             [
              0.5555555555555556,
              "#1f9e89"
             ],
             [
              0.6666666666666666,
              "#35b779"
             ],
             [
              0.7777777777777778,
              "#6ece58"
             ],
             [
              0.8888888888888888,
              "#b5de2b"
             ],
             [
              1,
              "#fde725"
             ]
            ],
            "type": "histogram2d"
           }
          ],
          "histogram2dcontour": [
           {
            "colorbar": {
             "outlinewidth": 1,
             "tickcolor": "rgb(36,36,36)",
             "ticks": "outside"
            },
            "colorscale": [
             [
              0,
              "#440154"
             ],
             [
              0.1111111111111111,
              "#482878"
             ],
             [
              0.2222222222222222,
              "#3e4989"
             ],
             [
              0.3333333333333333,
              "#31688e"
             ],
             [
              0.4444444444444444,
              "#26828e"
             ],
             [
              0.5555555555555556,
              "#1f9e89"
             ],
             [
              0.6666666666666666,
              "#35b779"
             ],
             [
              0.7777777777777778,
              "#6ece58"
             ],
             [
              0.8888888888888888,
              "#b5de2b"
             ],
             [
              1,
              "#fde725"
             ]
            ],
            "type": "histogram2dcontour"
           }
          ],
          "mesh3d": [
           {
            "colorbar": {
             "outlinewidth": 1,
             "tickcolor": "rgb(36,36,36)",
             "ticks": "outside"
            },
            "type": "mesh3d"
           }
          ],
          "parcoords": [
           {
            "line": {
             "colorbar": {
              "outlinewidth": 1,
              "tickcolor": "rgb(36,36,36)",
              "ticks": "outside"
             }
            },
            "type": "parcoords"
           }
          ],
          "pie": [
           {
            "automargin": true,
            "type": "pie"
           }
          ],
          "scatter": [
           {
            "marker": {
             "colorbar": {
              "outlinewidth": 1,
              "tickcolor": "rgb(36,36,36)",
              "ticks": "outside"
             }
            },
            "type": "scatter"
           }
          ],
          "scatter3d": [
           {
            "line": {
             "colorbar": {
              "outlinewidth": 1,
              "tickcolor": "rgb(36,36,36)",
              "ticks": "outside"
             }
            },
            "marker": {
             "colorbar": {
              "outlinewidth": 1,
              "tickcolor": "rgb(36,36,36)",
              "ticks": "outside"
             }
            },
            "type": "scatter3d"
           }
          ],
          "scattercarpet": [
           {
            "marker": {
             "colorbar": {
              "outlinewidth": 1,
              "tickcolor": "rgb(36,36,36)",
              "ticks": "outside"
             }
            },
            "type": "scattercarpet"
           }
          ],
          "scattergeo": [
           {
            "marker": {
             "colorbar": {
              "outlinewidth": 1,
              "tickcolor": "rgb(36,36,36)",
              "ticks": "outside"
             }
            },
            "type": "scattergeo"
           }
          ],
          "scattergl": [
           {
            "marker": {
             "colorbar": {
              "outlinewidth": 1,
              "tickcolor": "rgb(36,36,36)",
              "ticks": "outside"
             }
            },
            "type": "scattergl"
           }
          ],
          "scattermapbox": [
           {
            "marker": {
             "colorbar": {
              "outlinewidth": 1,
              "tickcolor": "rgb(36,36,36)",
              "ticks": "outside"
             }
            },
            "type": "scattermapbox"
           }
          ],
          "scatterpolar": [
           {
            "marker": {
             "colorbar": {
              "outlinewidth": 1,
              "tickcolor": "rgb(36,36,36)",
              "ticks": "outside"
             }
            },
            "type": "scatterpolar"
           }
          ],
          "scatterpolargl": [
           {
            "marker": {
             "colorbar": {
              "outlinewidth": 1,
              "tickcolor": "rgb(36,36,36)",
              "ticks": "outside"
             }
            },
            "type": "scatterpolargl"
           }
          ],
          "scatterternary": [
           {
            "marker": {
             "colorbar": {
              "outlinewidth": 1,
              "tickcolor": "rgb(36,36,36)",
              "ticks": "outside"
             }
            },
            "type": "scatterternary"
           }
          ],
          "surface": [
           {
            "colorbar": {
             "outlinewidth": 1,
             "tickcolor": "rgb(36,36,36)",
             "ticks": "outside"
            },
            "colorscale": [
             [
              0,
              "#440154"
             ],
             [
              0.1111111111111111,
              "#482878"
             ],
             [
              0.2222222222222222,
              "#3e4989"
             ],
             [
              0.3333333333333333,
              "#31688e"
             ],
             [
              0.4444444444444444,
              "#26828e"
             ],
             [
              0.5555555555555556,
              "#1f9e89"
             ],
             [
              0.6666666666666666,
              "#35b779"
             ],
             [
              0.7777777777777778,
              "#6ece58"
             ],
             [
              0.8888888888888888,
              "#b5de2b"
             ],
             [
              1,
              "#fde725"
             ]
            ],
            "type": "surface"
           }
          ],
          "table": [
           {
            "cells": {
             "fill": {
              "color": "rgb(237,237,237)"
             },
             "line": {
              "color": "white"
             }
            },
            "header": {
             "fill": {
              "color": "rgb(217,217,217)"
             },
             "line": {
              "color": "white"
             }
            },
            "type": "table"
           }
          ]
         },
         "layout": {
          "annotationdefaults": {
           "arrowhead": 0,
           "arrowwidth": 1
          },
          "autotypenumbers": "strict",
          "coloraxis": {
           "colorbar": {
            "outlinewidth": 1,
            "tickcolor": "rgb(36,36,36)",
            "ticks": "outside"
           }
          },
          "colorscale": {
           "diverging": [
            [
             0,
             "rgb(103,0,31)"
            ],
            [
             0.1,
             "rgb(178,24,43)"
            ],
            [
             0.2,
             "rgb(214,96,77)"
            ],
            [
             0.3,
             "rgb(244,165,130)"
            ],
            [
             0.4,
             "rgb(253,219,199)"
            ],
            [
             0.5,
             "rgb(247,247,247)"
            ],
            [
             0.6,
             "rgb(209,229,240)"
            ],
            [
             0.7,
             "rgb(146,197,222)"
            ],
            [
             0.8,
             "rgb(67,147,195)"
            ],
            [
             0.9,
             "rgb(33,102,172)"
            ],
            [
             1,
             "rgb(5,48,97)"
            ]
           ],
           "sequential": [
            [
             0,
             "#440154"
            ],
            [
             0.1111111111111111,
             "#482878"
            ],
            [
             0.2222222222222222,
             "#3e4989"
            ],
            [
             0.3333333333333333,
             "#31688e"
            ],
            [
             0.4444444444444444,
             "#26828e"
            ],
            [
             0.5555555555555556,
             "#1f9e89"
            ],
            [
             0.6666666666666666,
             "#35b779"
            ],
            [
             0.7777777777777778,
             "#6ece58"
            ],
            [
             0.8888888888888888,
             "#b5de2b"
            ],
            [
             1,
             "#fde725"
            ]
           ],
           "sequentialminus": [
            [
             0,
             "#440154"
            ],
            [
             0.1111111111111111,
             "#482878"
            ],
            [
             0.2222222222222222,
             "#3e4989"
            ],
            [
             0.3333333333333333,
             "#31688e"
            ],
            [
             0.4444444444444444,
             "#26828e"
            ],
            [
             0.5555555555555556,
             "#1f9e89"
            ],
            [
             0.6666666666666666,
             "#35b779"
            ],
            [
             0.7777777777777778,
             "#6ece58"
            ],
            [
             0.8888888888888888,
             "#b5de2b"
            ],
            [
             1,
             "#fde725"
            ]
           ]
          },
          "colorway": [
           "#1F77B4",
           "#FF7F0E",
           "#2CA02C",
           "#D62728",
           "#9467BD",
           "#8C564B",
           "#E377C2",
           "#7F7F7F",
           "#BCBD22",
           "#17BECF"
          ],
          "font": {
           "color": "rgb(36,36,36)"
          },
          "geo": {
           "bgcolor": "white",
           "lakecolor": "white",
           "landcolor": "white",
           "showlakes": true,
           "showland": true,
           "subunitcolor": "white"
          },
          "hoverlabel": {
           "align": "left"
          },
          "hovermode": "closest",
          "mapbox": {
           "style": "light"
          },
          "paper_bgcolor": "white",
          "plot_bgcolor": "white",
          "polar": {
           "angularaxis": {
            "gridcolor": "rgb(232,232,232)",
            "linecolor": "rgb(36,36,36)",
            "showgrid": false,
            "showline": true,
            "ticks": "outside"
           },
           "bgcolor": "white",
           "radialaxis": {
            "gridcolor": "rgb(232,232,232)",
            "linecolor": "rgb(36,36,36)",
            "showgrid": false,
            "showline": true,
            "ticks": "outside"
           }
          },
          "scene": {
           "xaxis": {
            "backgroundcolor": "white",
            "gridcolor": "rgb(232,232,232)",
            "gridwidth": 2,
            "linecolor": "rgb(36,36,36)",
            "showbackground": true,
            "showgrid": false,
            "showline": true,
            "ticks": "outside",
            "zeroline": false,
            "zerolinecolor": "rgb(36,36,36)"
           },
           "yaxis": {
            "backgroundcolor": "white",
            "gridcolor": "rgb(232,232,232)",
            "gridwidth": 2,
            "linecolor": "rgb(36,36,36)",
            "showbackground": true,
            "showgrid": false,
            "showline": true,
            "ticks": "outside",
            "zeroline": false,
            "zerolinecolor": "rgb(36,36,36)"
           },
           "zaxis": {
            "backgroundcolor": "white",
            "gridcolor": "rgb(232,232,232)",
            "gridwidth": 2,
            "linecolor": "rgb(36,36,36)",
            "showbackground": true,
            "showgrid": false,
            "showline": true,
            "ticks": "outside",
            "zeroline": false,
            "zerolinecolor": "rgb(36,36,36)"
           }
          },
          "shapedefaults": {
           "fillcolor": "black",
           "line": {
            "width": 0
           },
           "opacity": 0.3
          },
          "ternary": {
           "aaxis": {
            "gridcolor": "rgb(232,232,232)",
            "linecolor": "rgb(36,36,36)",
            "showgrid": false,
            "showline": true,
            "ticks": "outside"
           },
           "baxis": {
            "gridcolor": "rgb(232,232,232)",
            "linecolor": "rgb(36,36,36)",
            "showgrid": false,
            "showline": true,
            "ticks": "outside"
           },
           "bgcolor": "white",
           "caxis": {
            "gridcolor": "rgb(232,232,232)",
            "linecolor": "rgb(36,36,36)",
            "showgrid": false,
            "showline": true,
            "ticks": "outside"
           }
          },
          "title": {
           "x": 0.05
          },
          "xaxis": {
           "automargin": true,
           "gridcolor": "rgb(232,232,232)",
           "linecolor": "rgb(36,36,36)",
           "showgrid": false,
           "showline": true,
           "ticks": "outside",
           "title": {
            "standoff": 15
           },
           "zeroline": false,
           "zerolinecolor": "rgb(36,36,36)"
          },
          "yaxis": {
           "automargin": true,
           "gridcolor": "rgb(232,232,232)",
           "linecolor": "rgb(36,36,36)",
           "showgrid": false,
           "showline": true,
           "ticks": "outside",
           "title": {
            "standoff": 15
           },
           "zeroline": false,
           "zerolinecolor": "rgb(36,36,36)"
          }
         }
        },
        "xaxis": {
         "anchor": "y",
         "domain": [
          0,
          1
         ],
         "title": {
          "text": "Average Temperature evolution"
         }
        },
        "yaxis": {
         "anchor": "x",
         "domain": [
          0,
          1
         ],
         "title": {
          "text": "Greenhouse Gases Emissions"
         }
        }
       }
      },
      "text/html": [
       "<div>                            <div id=\"238c901c-aeb0-4f42-b8a6-bd94dba813ad\" class=\"plotly-graph-div\" style=\"height:525px; width:100%;\"></div>            <script type=\"text/javascript\">                require([\"plotly\"], function(Plotly) {                    window.PLOTLYENV=window.PLOTLYENV || {};                                    if (document.getElementById(\"238c901c-aeb0-4f42-b8a6-bd94dba813ad\")) {                    Plotly.newPlot(                        \"238c901c-aeb0-4f42-b8a6-bd94dba813ad\",                        [{\"hovertemplate\":\"Country=AFGHANISTAN<br>Average Temperature evolution=%{x}<br>Greenhouse Gases Emissions=%{y}<extra></extra>\",\"legendgroup\":\"AFGHANISTAN\",\"marker\":{\"color\":\"#1F77B4\",\"symbol\":\"circle\"},\"mode\":\"markers\",\"name\":\"AFGHANISTAN\",\"orientation\":\"v\",\"showlegend\":true,\"x\":[2.147750000000002],\"xaxis\":\"x\",\"y\":[1438653192.0],\"yaxis\":\"y\",\"type\":\"scatter\"},{\"hovertemplate\":\"Country=AFGHANISTAN<extra></extra>\",\"legendgroup\":\"AFGHANISTAN\",\"marker\":{\"color\":\"#1F77B4\",\"symbol\":\"circle\"},\"mode\":\"lines\",\"name\":\"AFGHANISTAN\",\"showlegend\":false,\"xaxis\":\"x\",\"yaxis\":\"y\",\"type\":\"scatter\"},{\"hovertemplate\":\"Country=ALBANIA<br>Average Temperature evolution=%{x}<br>Greenhouse Gases Emissions=%{y}<extra></extra>\",\"legendgroup\":\"ALBANIA\",\"marker\":{\"color\":\"#FF7F0E\",\"symbol\":\"circle\"},\"mode\":\"markers\",\"name\":\"ALBANIA\",\"orientation\":\"v\",\"showlegend\":true,\"x\":[1.228333333333334],\"xaxis\":\"x\",\"y\":[4387324896.0],\"yaxis\":\"y\",\"type\":\"scatter\"},{\"hovertemplate\":\"Country=ALBANIA<extra></extra>\",\"legendgroup\":\"ALBANIA\",\"marker\":{\"color\":\"#FF7F0E\",\"symbol\":\"circle\"},\"mode\":\"lines\",\"name\":\"ALBANIA\",\"showlegend\":false,\"xaxis\":\"x\",\"yaxis\":\"y\",\"type\":\"scatter\"},{\"hovertemplate\":\"Country=ALGERIA<br>Average Temperature evolution=%{x}<br>Greenhouse Gases Emissions=%{y}<extra></extra>\",\"legendgroup\":\"ALGERIA\",\"marker\":{\"color\":\"#2CA02C\",\"symbol\":\"circle\"},\"mode\":\"markers\",\"name\":\"ALGERIA\",\"orientation\":\"v\",\"showlegend\":true,\"x\":[0.84408333333333],\"xaxis\":\"x\",\"y\":[30475901144.0],\"yaxis\":\"y\",\"type\":\"scatter\"},{\"hovertemplate\":\"Country=ALGERIA<extra></extra>\",\"legendgroup\":\"ALGERIA\",\"marker\":{\"color\":\"#2CA02C\",\"symbol\":\"circle\"},\"mode\":\"lines\",\"name\":\"ALGERIA\",\"showlegend\":false,\"xaxis\":\"x\",\"yaxis\":\"y\",\"type\":\"scatter\"},{\"hovertemplate\":\"Country=AMERICAN SAMOA<br>Average Temperature evolution=%{x}<br>Greenhouse Gases Emissions=%{y}<extra></extra>\",\"legendgroup\":\"AMERICAN SAMOA\",\"marker\":{\"color\":\"#D62728\",\"symbol\":\"circle\"},\"mode\":\"markers\",\"name\":\"AMERICAN SAMOA\",\"orientation\":\"v\",\"showlegend\":true,\"x\":[0.36883333333333845],\"xaxis\":\"x\",\"y\":[0.0],\"yaxis\":\"y\",\"type\":\"scatter\"},{\"hovertemplate\":\"Country=AMERICAN SAMOA<extra></extra>\",\"legendgroup\":\"AMERICAN SAMOA\",\"marker\":{\"color\":\"#D62728\",\"symbol\":\"circle\"},\"mode\":\"lines\",\"name\":\"AMERICAN SAMOA\",\"showlegend\":false,\"xaxis\":\"x\",\"yaxis\":\"y\",\"type\":\"scatter\"},{\"hovertemplate\":\"Country=ANDORRA<br>Average Temperature evolution=%{x}<br>Greenhouse Gases Emissions=%{y}<extra></extra>\",\"legendgroup\":\"ANDORRA\",\"marker\":{\"color\":\"#9467BD\",\"symbol\":\"circle\"},\"mode\":\"markers\",\"name\":\"ANDORRA\",\"orientation\":\"v\",\"showlegend\":true,\"x\":[-0.006000000000000311],\"xaxis\":\"x\",\"y\":[28036928.0],\"yaxis\":\"y\",\"type\":\"scatter\"},{\"hovertemplate\":\"Country=ANDORRA<extra></extra>\",\"legendgroup\":\"ANDORRA\",\"marker\":{\"color\":\"#9467BD\",\"symbol\":\"circle\"},\"mode\":\"lines\",\"name\":\"ANDORRA\",\"showlegend\":false,\"xaxis\":\"x\",\"yaxis\":\"y\",\"type\":\"scatter\"},{\"hovertemplate\":\"Country=ANGOLA<br>Average Temperature evolution=%{x}<br>Greenhouse Gases Emissions=%{y}<extra></extra>\",\"legendgroup\":\"ANGOLA\",\"marker\":{\"color\":\"#8C564B\",\"symbol\":\"circle\"},\"mode\":\"markers\",\"name\":\"ANGOLA\",\"orientation\":\"v\",\"showlegend\":true,\"x\":[0.43241666666666223],\"xaxis\":\"x\",\"y\":[3030333308.0],\"yaxis\":\"y\",\"type\":\"scatter\"},{\"hovertemplate\":\"Country=ANGOLA<extra></extra>\",\"legendgroup\":\"ANGOLA\",\"marker\":{\"color\":\"#8C564B\",\"symbol\":\"circle\"},\"mode\":\"lines\",\"name\":\"ANGOLA\",\"showlegend\":false,\"xaxis\":\"x\",\"yaxis\":\"y\",\"type\":\"scatter\"},{\"hovertemplate\":\"Country=ANGUILLA<br>Average Temperature evolution=%{x}<br>Greenhouse Gases Emissions=%{y}<extra></extra>\",\"legendgroup\":\"ANGUILLA\",\"marker\":{\"color\":\"#E377C2\",\"symbol\":\"circle\"},\"mode\":\"markers\",\"name\":\"ANGUILLA\",\"orientation\":\"v\",\"showlegend\":true,\"x\":[0.639666666666667],\"xaxis\":\"x\",\"y\":[4063376.0],\"yaxis\":\"y\",\"type\":\"scatter\"},{\"hovertemplate\":\"Country=ANGUILLA<extra></extra>\",\"legendgroup\":\"ANGUILLA\",\"marker\":{\"color\":\"#E377C2\",\"symbol\":\"circle\"},\"mode\":\"lines\",\"name\":\"ANGUILLA\",\"showlegend\":false,\"xaxis\":\"x\",\"yaxis\":\"y\",\"type\":\"scatter\"},{\"hovertemplate\":\"Country=ANTIGUA AND BARBUDA<br>Average Temperature evolution=%{x}<br>Greenhouse Gases Emissions=%{y}<extra></extra>\",\"legendgroup\":\"ANTIGUA AND BARBUDA\",\"marker\":{\"color\":\"#7F7F7F\",\"symbol\":\"circle\"},\"mode\":\"markers\",\"name\":\"ANTIGUA AND BARBUDA\",\"orientation\":\"v\",\"showlegend\":true,\"x\":[0.6602499999999942],\"xaxis\":\"x\",\"y\":[297593744.0],\"yaxis\":\"y\",\"type\":\"scatter\"},{\"hovertemplate\":\"Country=ANTIGUA AND BARBUDA<extra></extra>\",\"legendgroup\":\"ANTIGUA AND BARBUDA\",\"marker\":{\"color\":\"#7F7F7F\",\"symbol\":\"circle\"},\"mode\":\"lines\",\"name\":\"ANTIGUA AND BARBUDA\",\"showlegend\":false,\"xaxis\":\"x\",\"yaxis\":\"y\",\"type\":\"scatter\"},{\"hovertemplate\":\"Country=ARGENTINA<br>Average Temperature evolution=%{x}<br>Greenhouse Gases Emissions=%{y}<extra></extra>\",\"legendgroup\":\"ARGENTINA\",\"marker\":{\"color\":\"#BCBD22\",\"symbol\":\"circle\"},\"mode\":\"markers\",\"name\":\"ARGENTINA\",\"orientation\":\"v\",\"showlegend\":true,\"x\":[-0.020833333333331816],\"xaxis\":\"x\",\"y\":[117606430083.0],\"yaxis\":\"y\",\"type\":\"scatter\"},{\"hovertemplate\":\"Country=ARGENTINA<extra></extra>\",\"legendgroup\":\"ARGENTINA\",\"marker\":{\"color\":\"#BCBD22\",\"symbol\":\"circle\"},\"mode\":\"lines\",\"name\":\"ARGENTINA\",\"showlegend\":false,\"xaxis\":\"x\",\"yaxis\":\"y\",\"type\":\"scatter\"},{\"hovertemplate\":\"Country=ARMENIA<br>Average Temperature evolution=%{x}<br>Greenhouse Gases Emissions=%{y}<extra></extra>\",\"legendgroup\":\"ARMENIA\",\"marker\":{\"color\":\"#17BECF\",\"symbol\":\"circle\"},\"mode\":\"markers\",\"name\":\"ARMENIA\",\"orientation\":\"v\",\"showlegend\":true,\"x\":[1.895833333333334],\"xaxis\":\"x\",\"y\":[3915964549.0],\"yaxis\":\"y\",\"type\":\"scatter\"},{\"hovertemplate\":\"Country=ARMENIA<extra></extra>\",\"legendgroup\":\"ARMENIA\",\"marker\":{\"color\":\"#17BECF\",\"symbol\":\"circle\"},\"mode\":\"lines\",\"name\":\"ARMENIA\",\"showlegend\":false,\"xaxis\":\"x\",\"yaxis\":\"y\",\"type\":\"scatter\"},{\"hovertemplate\":\"Country=ARUBA<br>Average Temperature evolution=%{x}<br>Greenhouse Gases Emissions=%{y}<extra></extra>\",\"legendgroup\":\"ARUBA\",\"marker\":{\"color\":\"#1F77B4\",\"symbol\":\"circle\"},\"mode\":\"markers\",\"name\":\"ARUBA\",\"orientation\":\"v\",\"showlegend\":true,\"x\":[0.31250000000000006],\"xaxis\":\"x\",\"y\":[680850880.0],\"yaxis\":\"y\",\"type\":\"scatter\"},{\"hovertemplate\":\"Country=ARUBA<extra></extra>\",\"legendgroup\":\"ARUBA\",\"marker\":{\"color\":\"#1F77B4\",\"symbol\":\"circle\"},\"mode\":\"lines\",\"name\":\"ARUBA\",\"showlegend\":false,\"xaxis\":\"x\",\"yaxis\":\"y\",\"type\":\"scatter\"},{\"hovertemplate\":\"Country=AUSTRALIA<br>Average Temperature evolution=%{x}<br>Greenhouse Gases Emissions=%{y}<extra></extra>\",\"legendgroup\":\"AUSTRALIA\",\"marker\":{\"color\":\"#FF7F0E\",\"symbol\":\"circle\"},\"mode\":\"markers\",\"name\":\"AUSTRALIA\",\"orientation\":\"v\",\"showlegend\":true,\"x\":[0.7247500000000002],\"xaxis\":\"x\",\"y\":[242422416648.0],\"yaxis\":\"y\",\"type\":\"scatter\"},{\"hovertemplate\":\"Country=AUSTRALIA<extra></extra>\",\"legendgroup\":\"AUSTRALIA\",\"marker\":{\"color\":\"#FF7F0E\",\"symbol\":\"circle\"},\"mode\":\"lines\",\"name\":\"AUSTRALIA\",\"showlegend\":false,\"xaxis\":\"x\",\"yaxis\":\"y\",\"type\":\"scatter\"},{\"hovertemplate\":\"Country=AUSTRIA<br>Average Temperature evolution=%{x}<br>Greenhouse Gases Emissions=%{y}<extra></extra>\",\"legendgroup\":\"AUSTRIA\",\"marker\":{\"color\":\"#2CA02C\",\"symbol\":\"circle\"},\"mode\":\"markers\",\"name\":\"AUSTRIA\",\"orientation\":\"v\",\"showlegend\":true,\"x\":[1.1220833333333338],\"xaxis\":\"x\",\"y\":[137227402232.0],\"yaxis\":\"y\",\"type\":\"scatter\"},{\"hovertemplate\":\"Country=AUSTRIA<extra></extra>\",\"legendgroup\":\"AUSTRIA\",\"marker\":{\"color\":\"#2CA02C\",\"symbol\":\"circle\"},\"mode\":\"lines\",\"name\":\"AUSTRIA\",\"showlegend\":false,\"xaxis\":\"x\",\"yaxis\":\"y\",\"type\":\"scatter\"},{\"hovertemplate\":\"Country=AZERBAIJAN<br>Average Temperature evolution=%{x}<br>Greenhouse Gases Emissions=%{y}<extra></extra>\",\"legendgroup\":\"AZERBAIJAN\",\"marker\":{\"color\":\"#D62728\",\"symbol\":\"circle\"},\"mode\":\"markers\",\"name\":\"AZERBAIJAN\",\"orientation\":\"v\",\"showlegend\":true,\"x\":[2.008666666666665],\"xaxis\":\"x\",\"y\":[37945403248.0],\"yaxis\":\"y\",\"type\":\"scatter\"},{\"hovertemplate\":\"Country=AZERBAIJAN<extra></extra>\",\"legendgroup\":\"AZERBAIJAN\",\"marker\":{\"color\":\"#D62728\",\"symbol\":\"circle\"},\"mode\":\"lines\",\"name\":\"AZERBAIJAN\",\"showlegend\":false,\"xaxis\":\"x\",\"yaxis\":\"y\",\"type\":\"scatter\"},{\"hovertemplate\":\"Country=BAHAMAS<br>Average Temperature evolution=%{x}<br>Greenhouse Gases Emissions=%{y}<extra></extra>\",\"legendgroup\":\"BAHAMAS\",\"marker\":{\"color\":\"#9467BD\",\"symbol\":\"circle\"},\"mode\":\"markers\",\"name\":\"BAHAMAS\",\"orientation\":\"v\",\"showlegend\":true,\"x\":[-0.135499999999997],\"xaxis\":\"x\",\"y\":[2801799151.0],\"yaxis\":\"y\",\"type\":\"scatter\"},{\"hovertemplate\":\"Country=BAHAMAS<extra></extra>\",\"legendgroup\":\"BAHAMAS\",\"marker\":{\"color\":\"#9467BD\",\"symbol\":\"circle\"},\"mode\":\"lines\",\"name\":\"BAHAMAS\",\"showlegend\":false,\"xaxis\":\"x\",\"yaxis\":\"y\",\"type\":\"scatter\"},{\"hovertemplate\":\"Country=BAHRAIN<br>Average Temperature evolution=%{x}<br>Greenhouse Gases Emissions=%{y}<extra></extra>\",\"legendgroup\":\"BAHRAIN\",\"marker\":{\"color\":\"#8C564B\",\"symbol\":\"circle\"},\"mode\":\"markers\",\"name\":\"BAHRAIN\",\"orientation\":\"v\",\"showlegend\":true,\"x\":[1.674],\"xaxis\":\"x\",\"y\":[7295437192.0],\"yaxis\":\"y\",\"type\":\"scatter\"},{\"hovertemplate\":\"Country=BAHRAIN<extra></extra>\",\"legendgroup\":\"BAHRAIN\",\"marker\":{\"color\":\"#8C564B\",\"symbol\":\"circle\"},\"mode\":\"lines\",\"name\":\"BAHRAIN\",\"showlegend\":false,\"xaxis\":\"x\",\"yaxis\":\"y\",\"type\":\"scatter\"},{\"hovertemplate\":\"Country=BANGLADESH<br>Average Temperature evolution=%{x}<br>Greenhouse Gases Emissions=%{y}<extra></extra>\",\"legendgroup\":\"BANGLADESH\",\"marker\":{\"color\":\"#E377C2\",\"symbol\":\"circle\"},\"mode\":\"markers\",\"name\":\"BANGLADESH\",\"orientation\":\"v\",\"showlegend\":true,\"x\":[0.4899999999999983],\"xaxis\":\"x\",\"y\":[5319912307.0],\"yaxis\":\"y\",\"type\":\"scatter\"},{\"hovertemplate\":\"Country=BANGLADESH<extra></extra>\",\"legendgroup\":\"BANGLADESH\",\"marker\":{\"color\":\"#E377C2\",\"symbol\":\"circle\"},\"mode\":\"lines\",\"name\":\"BANGLADESH\",\"showlegend\":false,\"xaxis\":\"x\",\"yaxis\":\"y\",\"type\":\"scatter\"},{\"hovertemplate\":\"Country=BARBADOS<br>Average Temperature evolution=%{x}<br>Greenhouse Gases Emissions=%{y}<extra></extra>\",\"legendgroup\":\"BARBADOS\",\"marker\":{\"color\":\"#7F7F7F\",\"symbol\":\"circle\"},\"mode\":\"markers\",\"name\":\"BARBADOS\",\"orientation\":\"v\",\"showlegend\":true,\"x\":[0.576666666666668],\"xaxis\":\"x\",\"y\":[487590628.0],\"yaxis\":\"y\",\"type\":\"scatter\"},{\"hovertemplate\":\"Country=BARBADOS<extra></extra>\",\"legendgroup\":\"BARBADOS\",\"marker\":{\"color\":\"#7F7F7F\",\"symbol\":\"circle\"},\"mode\":\"lines\",\"name\":\"BARBADOS\",\"showlegend\":false,\"xaxis\":\"x\",\"yaxis\":\"y\",\"type\":\"scatter\"},{\"hovertemplate\":\"Country=BELARUS<br>Average Temperature evolution=%{x}<br>Greenhouse Gases Emissions=%{y}<extra></extra>\",\"legendgroup\":\"BELARUS\",\"marker\":{\"color\":\"#BCBD22\",\"symbol\":\"circle\"},\"mode\":\"markers\",\"name\":\"BELARUS\",\"orientation\":\"v\",\"showlegend\":true,\"x\":[0.74525],\"xaxis\":\"x\",\"y\":[59258725973.0],\"yaxis\":\"y\",\"type\":\"scatter\"},{\"hovertemplate\":\"Country=BELARUS<extra></extra>\",\"legendgroup\":\"BELARUS\",\"marker\":{\"color\":\"#BCBD22\",\"symbol\":\"circle\"},\"mode\":\"lines\",\"name\":\"BELARUS\",\"showlegend\":false,\"xaxis\":\"x\",\"yaxis\":\"y\",\"type\":\"scatter\"},{\"hovertemplate\":\"Country=BELGIUM<br>Average Temperature evolution=%{x}<br>Greenhouse Gases Emissions=%{y}<extra></extra>\",\"legendgroup\":\"BELGIUM\",\"marker\":{\"color\":\"#17BECF\",\"symbol\":\"circle\"},\"mode\":\"markers\",\"name\":\"BELGIUM\",\"orientation\":\"v\",\"showlegend\":true,\"x\":[0.5796666666666668],\"xaxis\":\"x\",\"y\":[375773208983.0],\"yaxis\":\"y\",\"type\":\"scatter\"},{\"hovertemplate\":\"Country=BELGIUM<extra></extra>\",\"legendgroup\":\"BELGIUM\",\"marker\":{\"color\":\"#17BECF\",\"symbol\":\"circle\"},\"mode\":\"lines\",\"name\":\"BELGIUM\",\"showlegend\":false,\"xaxis\":\"x\",\"yaxis\":\"y\",\"type\":\"scatter\"},{\"hovertemplate\":\"Country=BELIZE<br>Average Temperature evolution=%{x}<br>Greenhouse Gases Emissions=%{y}<extra></extra>\",\"legendgroup\":\"BELIZE\",\"marker\":{\"color\":\"#1F77B4\",\"symbol\":\"circle\"},\"mode\":\"markers\",\"name\":\"BELIZE\",\"orientation\":\"v\",\"showlegend\":true,\"x\":[0.06399999999999943],\"xaxis\":\"x\",\"y\":[143471248.0],\"yaxis\":\"y\",\"type\":\"scatter\"},{\"hovertemplate\":\"Country=BELIZE<extra></extra>\",\"legendgroup\":\"BELIZE\",\"marker\":{\"color\":\"#1F77B4\",\"symbol\":\"circle\"},\"mode\":\"lines\",\"name\":\"BELIZE\",\"showlegend\":false,\"xaxis\":\"x\",\"yaxis\":\"y\",\"type\":\"scatter\"},{\"hovertemplate\":\"Country=BENIN<br>Average Temperature evolution=%{x}<br>Greenhouse Gases Emissions=%{y}<extra></extra>\",\"legendgroup\":\"BENIN\",\"marker\":{\"color\":\"#FF7F0E\",\"symbol\":\"circle\"},\"mode\":\"markers\",\"name\":\"BENIN\",\"orientation\":\"v\",\"showlegend\":true,\"x\":[0.0014999999999964625],\"xaxis\":\"x\",\"y\":[309019501.0],\"yaxis\":\"y\",\"type\":\"scatter\"},{\"hovertemplate\":\"Country=BENIN<extra></extra>\",\"legendgroup\":\"BENIN\",\"marker\":{\"color\":\"#FF7F0E\",\"symbol\":\"circle\"},\"mode\":\"lines\",\"name\":\"BENIN\",\"showlegend\":false,\"xaxis\":\"x\",\"yaxis\":\"y\",\"type\":\"scatter\"},{\"hovertemplate\":\"Country=BHUTAN<br>Average Temperature evolution=%{x}<br>Greenhouse Gases Emissions=%{y}<extra></extra>\",\"legendgroup\":\"BHUTAN\",\"marker\":{\"color\":\"#2CA02C\",\"symbol\":\"circle\"},\"mode\":\"markers\",\"name\":\"BHUTAN\",\"orientation\":\"v\",\"showlegend\":true,\"x\":[0.22224999999999895],\"xaxis\":\"x\",\"y\":[24456162.0],\"yaxis\":\"y\",\"type\":\"scatter\"},{\"hovertemplate\":\"Country=BHUTAN<extra></extra>\",\"legendgroup\":\"BHUTAN\",\"marker\":{\"color\":\"#2CA02C\",\"symbol\":\"circle\"},\"mode\":\"lines\",\"name\":\"BHUTAN\",\"showlegend\":false,\"xaxis\":\"x\",\"yaxis\":\"y\",\"type\":\"scatter\"},{\"hovertemplate\":\"Country=BOLIVIA<br>Average Temperature evolution=%{x}<br>Greenhouse Gases Emissions=%{y}<extra></extra>\",\"legendgroup\":\"BOLIVIA\",\"marker\":{\"color\":\"#D62728\",\"symbol\":\"circle\"},\"mode\":\"markers\",\"name\":\"BOLIVIA\",\"orientation\":\"v\",\"showlegend\":true,\"x\":[0.29925000000000074],\"xaxis\":\"x\",\"y\":[3264756988.0],\"yaxis\":\"y\",\"type\":\"scatter\"},{\"hovertemplate\":\"Country=BOLIVIA<extra></extra>\",\"legendgroup\":\"BOLIVIA\",\"marker\":{\"color\":\"#D62728\",\"symbol\":\"circle\"},\"mode\":\"lines\",\"name\":\"BOLIVIA\",\"showlegend\":false,\"xaxis\":\"x\",\"yaxis\":\"y\",\"type\":\"scatter\"},{\"hovertemplate\":\"Country=BOSNIA AND HERZEGOVINA<br>Average Temperature evolution=%{x}<br>Greenhouse Gases Emissions=%{y}<extra></extra>\",\"legendgroup\":\"BOSNIA AND HERZEGOVINA\",\"marker\":{\"color\":\"#9467BD\",\"symbol\":\"circle\"},\"mode\":\"markers\",\"name\":\"BOSNIA AND HERZEGOVINA\",\"orientation\":\"v\",\"showlegend\":true,\"x\":[1.4973333333333334],\"xaxis\":\"x\",\"y\":[9821514401.0],\"yaxis\":\"y\",\"type\":\"scatter\"},{\"hovertemplate\":\"Country=BOSNIA AND HERZEGOVINA<extra></extra>\",\"legendgroup\":\"BOSNIA AND HERZEGOVINA\",\"marker\":{\"color\":\"#9467BD\",\"symbol\":\"circle\"},\"mode\":\"lines\",\"name\":\"BOSNIA AND HERZEGOVINA\",\"showlegend\":false,\"xaxis\":\"x\",\"yaxis\":\"y\",\"type\":\"scatter\"},{\"hovertemplate\":\"Country=BOTSWANA<br>Average Temperature evolution=%{x}<br>Greenhouse Gases Emissions=%{y}<extra></extra>\",\"legendgroup\":\"BOTSWANA\",\"marker\":{\"color\":\"#8C564B\",\"symbol\":\"circle\"},\"mode\":\"markers\",\"name\":\"BOTSWANA\",\"orientation\":\"v\",\"showlegend\":true,\"x\":[-0.4016666666666674],\"xaxis\":\"x\",\"y\":[457831456.0],\"yaxis\":\"y\",\"type\":\"scatter\"},{\"hovertemplate\":\"Country=BOTSWANA<extra></extra>\",\"legendgroup\":\"BOTSWANA\",\"marker\":{\"color\":\"#8C564B\",\"symbol\":\"circle\"},\"mode\":\"lines\",\"name\":\"BOTSWANA\",\"showlegend\":false,\"xaxis\":\"x\",\"yaxis\":\"y\",\"type\":\"scatter\"},{\"hovertemplate\":\"Country=BRAZIL<br>Average Temperature evolution=%{x}<br>Greenhouse Gases Emissions=%{y}<extra></extra>\",\"legendgroup\":\"BRAZIL\",\"marker\":{\"color\":\"#E377C2\",\"symbol\":\"circle\"},\"mode\":\"markers\",\"name\":\"BRAZIL\",\"orientation\":\"v\",\"showlegend\":true,\"x\":[0.5796666666666679],\"xaxis\":\"x\",\"y\":[130918820247.0],\"yaxis\":\"y\",\"type\":\"scatter\"},{\"hovertemplate\":\"Country=BRAZIL<extra></extra>\",\"legendgroup\":\"BRAZIL\",\"marker\":{\"color\":\"#E377C2\",\"symbol\":\"circle\"},\"mode\":\"lines\",\"name\":\"BRAZIL\",\"showlegend\":false,\"xaxis\":\"x\",\"yaxis\":\"y\",\"type\":\"scatter\"},{\"hovertemplate\":\"Country=BRITISH VIRGIN ISLANDS<br>Average Temperature evolution=%{x}<br>Greenhouse Gases Emissions=%{y}<extra></extra>\",\"legendgroup\":\"BRITISH VIRGIN ISLANDS\",\"marker\":{\"color\":\"#7F7F7F\",\"symbol\":\"circle\"},\"mode\":\"markers\",\"name\":\"BRITISH VIRGIN ISLANDS\",\"orientation\":\"v\",\"showlegend\":true,\"x\":[0.5604166666666612],\"xaxis\":\"x\",\"y\":[21866752.0],\"yaxis\":\"y\",\"type\":\"scatter\"},{\"hovertemplate\":\"Country=BRITISH VIRGIN ISLANDS<extra></extra>\",\"legendgroup\":\"BRITISH VIRGIN ISLANDS\",\"marker\":{\"color\":\"#7F7F7F\",\"symbol\":\"circle\"},\"mode\":\"lines\",\"name\":\"BRITISH VIRGIN ISLANDS\",\"showlegend\":false,\"xaxis\":\"x\",\"yaxis\":\"y\",\"type\":\"scatter\"},{\"hovertemplate\":\"Country=BULGARIA<br>Average Temperature evolution=%{x}<br>Greenhouse Gases Emissions=%{y}<extra></extra>\",\"legendgroup\":\"BULGARIA\",\"marker\":{\"color\":\"#BCBD22\",\"symbol\":\"circle\"},\"mode\":\"markers\",\"name\":\"BULGARIA\",\"orientation\":\"v\",\"showlegend\":true,\"x\":[1.606416666666668],\"xaxis\":\"x\",\"y\":[63609762131.0],\"yaxis\":\"y\",\"type\":\"scatter\"},{\"hovertemplate\":\"Country=BULGARIA<extra></extra>\",\"legendgroup\":\"BULGARIA\",\"marker\":{\"color\":\"#BCBD22\",\"symbol\":\"circle\"},\"mode\":\"lines\",\"name\":\"BULGARIA\",\"showlegend\":false,\"xaxis\":\"x\",\"yaxis\":\"y\",\"type\":\"scatter\"},{\"hovertemplate\":\"Country=BURKINA FASO<br>Average Temperature evolution=%{x}<br>Greenhouse Gases Emissions=%{y}<extra></extra>\",\"legendgroup\":\"BURKINA FASO\",\"marker\":{\"color\":\"#17BECF\",\"symbol\":\"circle\"},\"mode\":\"markers\",\"name\":\"BURKINA FASO\",\"orientation\":\"v\",\"showlegend\":true,\"x\":[-0.005333333333328999],\"xaxis\":\"x\",\"y\":[225012897.0],\"yaxis\":\"y\",\"type\":\"scatter\"},{\"hovertemplate\":\"Country=BURKINA FASO<extra></extra>\",\"legendgroup\":\"BURKINA FASO\",\"marker\":{\"color\":\"#17BECF\",\"symbol\":\"circle\"},\"mode\":\"lines\",\"name\":\"BURKINA FASO\",\"showlegend\":false,\"xaxis\":\"x\",\"yaxis\":\"y\",\"type\":\"scatter\"},{\"hovertemplate\":\"Country=BURUNDI<br>Average Temperature evolution=%{x}<br>Greenhouse Gases Emissions=%{y}<extra></extra>\",\"legendgroup\":\"BURUNDI\",\"marker\":{\"color\":\"#1F77B4\",\"symbol\":\"circle\"},\"mode\":\"markers\",\"name\":\"BURUNDI\",\"orientation\":\"v\",\"showlegend\":true,\"x\":[0.14266666666666705],\"xaxis\":\"x\",\"y\":[89977565.0],\"yaxis\":\"y\",\"type\":\"scatter\"},{\"hovertemplate\":\"Country=BURUNDI<extra></extra>\",\"legendgroup\":\"BURUNDI\",\"marker\":{\"color\":\"#1F77B4\",\"symbol\":\"circle\"},\"mode\":\"lines\",\"name\":\"BURUNDI\",\"showlegend\":false,\"xaxis\":\"x\",\"yaxis\":\"y\",\"type\":\"scatter\"},{\"hovertemplate\":\"Country=CAMBODIA<br>Average Temperature evolution=%{x}<br>Greenhouse Gases Emissions=%{y}<extra></extra>\",\"legendgroup\":\"CAMBODIA\",\"marker\":{\"color\":\"#FF7F0E\",\"symbol\":\"circle\"},\"mode\":\"markers\",\"name\":\"CAMBODIA\",\"orientation\":\"v\",\"showlegend\":true,\"x\":[0.07325000000000176],\"xaxis\":\"x\",\"y\":[417769830.0],\"yaxis\":\"y\",\"type\":\"scatter\"},{\"hovertemplate\":\"Country=CAMBODIA<extra></extra>\",\"legendgroup\":\"CAMBODIA\",\"marker\":{\"color\":\"#FF7F0E\",\"symbol\":\"circle\"},\"mode\":\"lines\",\"name\":\"CAMBODIA\",\"showlegend\":false,\"xaxis\":\"x\",\"yaxis\":\"y\",\"type\":\"scatter\"},{\"hovertemplate\":\"Country=CAMEROON<br>Average Temperature evolution=%{x}<br>Greenhouse Gases Emissions=%{y}<extra></extra>\",\"legendgroup\":\"CAMEROON\",\"marker\":{\"color\":\"#2CA02C\",\"symbol\":\"circle\"},\"mode\":\"markers\",\"name\":\"CAMEROON\",\"orientation\":\"v\",\"showlegend\":true,\"x\":[-0.06408333333333227],\"xaxis\":\"x\",\"y\":[1544771416.0],\"yaxis\":\"y\",\"type\":\"scatter\"},{\"hovertemplate\":\"Country=CAMEROON<extra></extra>\",\"legendgroup\":\"CAMEROON\",\"marker\":{\"color\":\"#2CA02C\",\"symbol\":\"circle\"},\"mode\":\"lines\",\"name\":\"CAMEROON\",\"showlegend\":false,\"xaxis\":\"x\",\"yaxis\":\"y\",\"type\":\"scatter\"},{\"hovertemplate\":\"Country=CANADA<br>Average Temperature evolution=%{x}<br>Greenhouse Gases Emissions=%{y}<extra></extra>\",\"legendgroup\":\"CANADA\",\"marker\":{\"color\":\"#D62728\",\"symbol\":\"circle\"},\"mode\":\"markers\",\"name\":\"CANADA\",\"orientation\":\"v\",\"showlegend\":true,\"x\":[0.9226666666666661],\"xaxis\":\"x\",\"y\":[594489000075.0],\"yaxis\":\"y\",\"type\":\"scatter\"},{\"hovertemplate\":\"Country=CANADA<extra></extra>\",\"legendgroup\":\"CANADA\",\"marker\":{\"color\":\"#D62728\",\"symbol\":\"circle\"},\"mode\":\"lines\",\"name\":\"CANADA\",\"showlegend\":false,\"xaxis\":\"x\",\"yaxis\":\"y\",\"type\":\"scatter\"},{\"hovertemplate\":\"Country=CAPE VERDE<br>Average Temperature evolution=%{x}<br>Greenhouse Gases Emissions=%{y}<extra></extra>\",\"legendgroup\":\"CAPE VERDE\",\"marker\":{\"color\":\"#9467BD\",\"symbol\":\"circle\"},\"mode\":\"markers\",\"name\":\"CAPE VERDE\",\"orientation\":\"v\",\"showlegend\":true,\"x\":[0.5867500000000023],\"xaxis\":\"x\",\"y\":[68201880.0],\"yaxis\":\"y\",\"type\":\"scatter\"},{\"hovertemplate\":\"Country=CAPE VERDE<extra></extra>\",\"legendgroup\":\"CAPE VERDE\",\"marker\":{\"color\":\"#9467BD\",\"symbol\":\"circle\"},\"mode\":\"lines\",\"name\":\"CAPE VERDE\",\"showlegend\":false,\"xaxis\":\"x\",\"yaxis\":\"y\",\"type\":\"scatter\"},{\"hovertemplate\":\"Country=CAYMAN ISLANDS<br>Average Temperature evolution=%{x}<br>Greenhouse Gases Emissions=%{y}<extra></extra>\",\"legendgroup\":\"CAYMAN ISLANDS\",\"marker\":{\"color\":\"#8C564B\",\"symbol\":\"circle\"},\"mode\":\"markers\",\"name\":\"CAYMAN ISLANDS\",\"orientation\":\"v\",\"showlegend\":true,\"x\":[0.07075000000000028],\"xaxis\":\"x\",\"y\":[75328176.0],\"yaxis\":\"y\",\"type\":\"scatter\"},{\"hovertemplate\":\"Country=CAYMAN ISLANDS<extra></extra>\",\"legendgroup\":\"CAYMAN ISLANDS\",\"marker\":{\"color\":\"#8C564B\",\"symbol\":\"circle\"},\"mode\":\"lines\",\"name\":\"CAYMAN ISLANDS\",\"showlegend\":false,\"xaxis\":\"x\",\"yaxis\":\"y\",\"type\":\"scatter\"},{\"hovertemplate\":\"Country=CENTRAL AFRICAN REPUBLIC<br>Average Temperature evolution=%{x}<br>Greenhouse Gases Emissions=%{y}<extra></extra>\",\"legendgroup\":\"CENTRAL AFRICAN REPUBLIC\",\"marker\":{\"color\":\"#E377C2\",\"symbol\":\"circle\"},\"mode\":\"markers\",\"name\":\"CENTRAL AFRICAN REPUBLIC\",\"orientation\":\"v\",\"showlegend\":true,\"x\":[0.12899999999999684],\"xaxis\":\"x\",\"y\":[122091808.0],\"yaxis\":\"y\",\"type\":\"scatter\"},{\"hovertemplate\":\"Country=CENTRAL AFRICAN REPUBLIC<extra></extra>\",\"legendgroup\":\"CENTRAL AFRICAN REPUBLIC\",\"marker\":{\"color\":\"#E377C2\",\"symbol\":\"circle\"},\"mode\":\"lines\",\"name\":\"CENTRAL AFRICAN REPUBLIC\",\"showlegend\":false,\"xaxis\":\"x\",\"yaxis\":\"y\",\"type\":\"scatter\"},{\"hovertemplate\":\"Country=CHAD<br>Average Temperature evolution=%{x}<br>Greenhouse Gases Emissions=%{y}<extra></extra>\",\"legendgroup\":\"CHAD\",\"marker\":{\"color\":\"#7F7F7F\",\"symbol\":\"circle\"},\"mode\":\"markers\",\"name\":\"CHAD\",\"orientation\":\"v\",\"showlegend\":true,\"x\":[0.5178333333333321],\"xaxis\":\"x\",\"y\":[118424144.0],\"yaxis\":\"y\",\"type\":\"scatter\"},{\"hovertemplate\":\"Country=CHAD<extra></extra>\",\"legendgroup\":\"CHAD\",\"marker\":{\"color\":\"#7F7F7F\",\"symbol\":\"circle\"},\"mode\":\"lines\",\"name\":\"CHAD\",\"showlegend\":false,\"xaxis\":\"x\",\"yaxis\":\"y\",\"type\":\"scatter\"},{\"hovertemplate\":\"Country=CHILE<br>Average Temperature evolution=%{x}<br>Greenhouse Gases Emissions=%{y}<extra></extra>\",\"legendgroup\":\"CHILE\",\"marker\":{\"color\":\"#BCBD22\",\"symbol\":\"circle\"},\"mode\":\"markers\",\"name\":\"CHILE\",\"orientation\":\"v\",\"showlegend\":true,\"x\":[0.1949166666666678],\"xaxis\":\"x\",\"y\":[34621927092.0],\"yaxis\":\"y\",\"type\":\"scatter\"},{\"hovertemplate\":\"Country=CHILE<extra></extra>\",\"legendgroup\":\"CHILE\",\"marker\":{\"color\":\"#BCBD22\",\"symbol\":\"circle\"},\"mode\":\"lines\",\"name\":\"CHILE\",\"showlegend\":false,\"xaxis\":\"x\",\"yaxis\":\"y\",\"type\":\"scatter\"},{\"hovertemplate\":\"Country=CHINA<br>Average Temperature evolution=%{x}<br>Greenhouse Gases Emissions=%{y}<extra></extra>\",\"legendgroup\":\"CHINA\",\"marker\":{\"color\":\"#17BECF\",\"symbol\":\"circle\"},\"mode\":\"markers\",\"name\":\"CHINA\",\"orientation\":\"v\",\"showlegend\":true,\"x\":[0.2625833333333325],\"xaxis\":\"x\",\"y\":[1170042995201.0],\"yaxis\":\"y\",\"type\":\"scatter\"},{\"hovertemplate\":\"Country=CHINA<extra></extra>\",\"legendgroup\":\"CHINA\",\"marker\":{\"color\":\"#17BECF\",\"symbol\":\"circle\"},\"mode\":\"lines\",\"name\":\"CHINA\",\"showlegend\":false,\"xaxis\":\"x\",\"yaxis\":\"y\",\"type\":\"scatter\"},{\"hovertemplate\":\"Country=CHRISTMAS ISLAND<br>Average Temperature evolution=%{x}<br>Greenhouse Gases Emissions=%{y}<extra></extra>\",\"legendgroup\":\"CHRISTMAS ISLAND\",\"marker\":{\"color\":\"#1F77B4\",\"symbol\":\"circle\"},\"mode\":\"markers\",\"name\":\"CHRISTMAS ISLAND\",\"orientation\":\"v\",\"showlegend\":true,\"x\":[0.5783333333333334],\"xaxis\":\"x\",\"y\":[32536320.0],\"yaxis\":\"y\",\"type\":\"scatter\"},{\"hovertemplate\":\"Country=CHRISTMAS ISLAND<extra></extra>\",\"legendgroup\":\"CHRISTMAS ISLAND\",\"marker\":{\"color\":\"#1F77B4\",\"symbol\":\"circle\"},\"mode\":\"lines\",\"name\":\"CHRISTMAS ISLAND\",\"showlegend\":false,\"xaxis\":\"x\",\"yaxis\":\"y\",\"type\":\"scatter\"},{\"hovertemplate\":\"Country=COLOMBIA<br>Average Temperature evolution=%{x}<br>Greenhouse Gases Emissions=%{y}<extra></extra>\",\"legendgroup\":\"COLOMBIA\",\"marker\":{\"color\":\"#FF7F0E\",\"symbol\":\"circle\"},\"mode\":\"markers\",\"name\":\"COLOMBIA\",\"orientation\":\"v\",\"showlegend\":true,\"x\":[0.2765833333333276],\"xaxis\":\"x\",\"y\":[37933646111.0],\"yaxis\":\"y\",\"type\":\"scatter\"},{\"hovertemplate\":\"Country=COLOMBIA<extra></extra>\",\"legendgroup\":\"COLOMBIA\",\"marker\":{\"color\":\"#FF7F0E\",\"symbol\":\"circle\"},\"mode\":\"lines\",\"name\":\"COLOMBIA\",\"showlegend\":false,\"xaxis\":\"x\",\"yaxis\":\"y\",\"type\":\"scatter\"},{\"hovertemplate\":\"Country=COMOROS<br>Average Temperature evolution=%{x}<br>Greenhouse Gases Emissions=%{y}<extra></extra>\",\"legendgroup\":\"COMOROS\",\"marker\":{\"color\":\"#2CA02C\",\"symbol\":\"circle\"},\"mode\":\"markers\",\"name\":\"COMOROS\",\"orientation\":\"v\",\"showlegend\":true,\"x\":[0.1992500000000031],\"xaxis\":\"x\",\"y\":[26402784.0],\"yaxis\":\"y\",\"type\":\"scatter\"},{\"hovertemplate\":\"Country=COMOROS<extra></extra>\",\"legendgroup\":\"COMOROS\",\"marker\":{\"color\":\"#2CA02C\",\"symbol\":\"circle\"},\"mode\":\"lines\",\"name\":\"COMOROS\",\"showlegend\":false,\"xaxis\":\"x\",\"yaxis\":\"y\",\"type\":\"scatter\"},{\"hovertemplate\":\"Country=COSTA RICA<br>Average Temperature evolution=%{x}<br>Greenhouse Gases Emissions=%{y}<extra></extra>\",\"legendgroup\":\"COSTA RICA\",\"marker\":{\"color\":\"#D62728\",\"symbol\":\"circle\"},\"mode\":\"markers\",\"name\":\"COSTA RICA\",\"orientation\":\"v\",\"showlegend\":true,\"x\":[0.8344166666666624],\"xaxis\":\"x\",\"y\":[1659665553.0],\"yaxis\":\"y\",\"type\":\"scatter\"},{\"hovertemplate\":\"Country=COSTA RICA<extra></extra>\",\"legendgroup\":\"COSTA RICA\",\"marker\":{\"color\":\"#D62728\",\"symbol\":\"circle\"},\"mode\":\"lines\",\"name\":\"COSTA RICA\",\"showlegend\":false,\"xaxis\":\"x\",\"yaxis\":\"y\",\"type\":\"scatter\"},{\"hovertemplate\":\"Country=CROATIA<br>Average Temperature evolution=%{x}<br>Greenhouse Gases Emissions=%{y}<extra></extra>\",\"legendgroup\":\"CROATIA\",\"marker\":{\"color\":\"#9467BD\",\"symbol\":\"circle\"},\"mode\":\"markers\",\"name\":\"CROATIA\",\"orientation\":\"v\",\"showlegend\":true,\"x\":[1.4178333333333322],\"xaxis\":\"x\",\"y\":[11051731793.0],\"yaxis\":\"y\",\"type\":\"scatter\"},{\"hovertemplate\":\"Country=CROATIA<extra></extra>\",\"legendgroup\":\"CROATIA\",\"marker\":{\"color\":\"#9467BD\",\"symbol\":\"circle\"},\"mode\":\"lines\",\"name\":\"CROATIA\",\"showlegend\":false,\"xaxis\":\"x\",\"yaxis\":\"y\",\"type\":\"scatter\"},{\"hovertemplate\":\"Country=CUBA<br>Average Temperature evolution=%{x}<br>Greenhouse Gases Emissions=%{y}<extra></extra>\",\"legendgroup\":\"CUBA\",\"marker\":{\"color\":\"#8C564B\",\"symbol\":\"circle\"},\"mode\":\"markers\",\"name\":\"CUBA\",\"orientation\":\"v\",\"showlegend\":true,\"x\":[0.10316666666666671],\"xaxis\":\"x\",\"y\":[23345578988.0],\"yaxis\":\"y\",\"type\":\"scatter\"},{\"hovertemplate\":\"Country=CUBA<extra></extra>\",\"legendgroup\":\"CUBA\",\"marker\":{\"color\":\"#8C564B\",\"symbol\":\"circle\"},\"mode\":\"lines\",\"name\":\"CUBA\",\"showlegend\":false,\"xaxis\":\"x\",\"yaxis\":\"y\",\"type\":\"scatter\"},{\"hovertemplate\":\"Country=CYPRUS<br>Average Temperature evolution=%{x}<br>Greenhouse Gases Emissions=%{y}<extra></extra>\",\"legendgroup\":\"CYPRUS\",\"marker\":{\"color\":\"#E377C2\",\"symbol\":\"circle\"},\"mode\":\"markers\",\"name\":\"CYPRUS\",\"orientation\":\"v\",\"showlegend\":true,\"x\":[1.209416666666666],\"xaxis\":\"x\",\"y\":[2212290284.0],\"yaxis\":\"y\",\"type\":\"scatter\"},{\"hovertemplate\":\"Country=CYPRUS<extra></extra>\",\"legendgroup\":\"CYPRUS\",\"marker\":{\"color\":\"#E377C2\",\"symbol\":\"circle\"},\"mode\":\"lines\",\"name\":\"CYPRUS\",\"showlegend\":false,\"xaxis\":\"x\",\"yaxis\":\"y\",\"type\":\"scatter\"},{\"hovertemplate\":\"Country=CZECH REPUBLIC<br>Average Temperature evolution=%{x}<br>Greenhouse Gases Emissions=%{y}<extra></extra>\",\"legendgroup\":\"CZECH REPUBLIC\",\"marker\":{\"color\":\"#7F7F7F\",\"symbol\":\"circle\"},\"mode\":\"markers\",\"name\":\"CZECH REPUBLIC\",\"orientation\":\"v\",\"showlegend\":true,\"x\":[1.1612500000000014],\"xaxis\":\"x\",\"y\":[132007772069.0],\"yaxis\":\"y\",\"type\":\"scatter\"},{\"hovertemplate\":\"Country=CZECH REPUBLIC<extra></extra>\",\"legendgroup\":\"CZECH REPUBLIC\",\"marker\":{\"color\":\"#7F7F7F\",\"symbol\":\"circle\"},\"mode\":\"lines\",\"name\":\"CZECH REPUBLIC\",\"showlegend\":false,\"xaxis\":\"x\",\"yaxis\":\"y\",\"type\":\"scatter\"},{\"hovertemplate\":\"Country=C\\u00d4TE D'IVOIRE<br>Average Temperature evolution=%{x}<br>Greenhouse Gases Emissions=%{y}<extra></extra>\",\"legendgroup\":\"C\\u00d4TE D'IVOIRE\",\"marker\":{\"color\":\"#BCBD22\",\"symbol\":\"circle\"},\"mode\":\"markers\",\"name\":\"C\\u00d4TE D'IVOIRE\",\"orientation\":\"v\",\"showlegend\":true,\"x\":[0.22650000000000198],\"xaxis\":\"x\",\"y\":[0.0],\"yaxis\":\"y\",\"type\":\"scatter\"},{\"hovertemplate\":\"Country=C\\u00d4TE D'IVOIRE<extra></extra>\",\"legendgroup\":\"C\\u00d4TE D'IVOIRE\",\"marker\":{\"color\":\"#BCBD22\",\"symbol\":\"circle\"},\"mode\":\"lines\",\"name\":\"C\\u00d4TE D'IVOIRE\",\"showlegend\":false,\"xaxis\":\"x\",\"yaxis\":\"y\",\"type\":\"scatter\"},{\"hovertemplate\":\"Country=DEM. REP. KOREA<br>Average Temperature evolution=%{x}<br>Greenhouse Gases Emissions=%{y}<extra></extra>\",\"legendgroup\":\"DEM. REP. KOREA\",\"marker\":{\"color\":\"#17BECF\",\"symbol\":\"circle\"},\"mode\":\"markers\",\"name\":\"DEM. REP. KOREA\",\"orientation\":\"v\",\"showlegend\":true,\"x\":[0.3877499999999985],\"xaxis\":\"x\",\"y\":[74982435038.0],\"yaxis\":\"y\",\"type\":\"scatter\"},{\"hovertemplate\":\"Country=DEM. REP. KOREA<extra></extra>\",\"legendgroup\":\"DEM. REP. KOREA\",\"marker\":{\"color\":\"#17BECF\",\"symbol\":\"circle\"},\"mode\":\"lines\",\"name\":\"DEM. REP. KOREA\",\"showlegend\":false,\"xaxis\":\"x\",\"yaxis\":\"y\",\"type\":\"scatter\"},{\"hovertemplate\":\"Country=DEMOCRATIC REPUBLIC OF THE CONGO<br>Average Temperature evolution=%{x}<br>Greenhouse Gases Emissions=%{y}<extra></extra>\",\"legendgroup\":\"DEMOCRATIC REPUBLIC OF THE CONGO\",\"marker\":{\"color\":\"#1F77B4\",\"symbol\":\"circle\"},\"mode\":\"markers\",\"name\":\"DEMOCRATIC REPUBLIC OF THE CONGO\",\"orientation\":\"v\",\"showlegend\":true,\"x\":[0.12858333333332847],\"xaxis\":\"x\",\"y\":[0.0],\"yaxis\":\"y\",\"type\":\"scatter\"},{\"hovertemplate\":\"Country=DEMOCRATIC REPUBLIC OF THE CONGO<extra></extra>\",\"legendgroup\":\"DEMOCRATIC REPUBLIC OF THE CONGO\",\"marker\":{\"color\":\"#1F77B4\",\"symbol\":\"circle\"},\"mode\":\"lines\",\"name\":\"DEMOCRATIC REPUBLIC OF THE CONGO\",\"showlegend\":false,\"xaxis\":\"x\",\"yaxis\":\"y\",\"type\":\"scatter\"},{\"hovertemplate\":\"Country=DENMARK<br>Average Temperature evolution=%{x}<br>Greenhouse Gases Emissions=%{y}<extra></extra>\",\"legendgroup\":\"DENMARK\",\"marker\":{\"color\":\"#FF7F0E\",\"symbol\":\"circle\"},\"mode\":\"markers\",\"name\":\"DENMARK\",\"orientation\":\"v\",\"showlegend\":true,\"x\":[0.34600000000000003],\"xaxis\":\"x\",\"y\":[90364582843.0],\"yaxis\":\"y\",\"type\":\"scatter\"},{\"hovertemplate\":\"Country=DENMARK<extra></extra>\",\"legendgroup\":\"DENMARK\",\"marker\":{\"color\":\"#FF7F0E\",\"symbol\":\"circle\"},\"mode\":\"lines\",\"name\":\"DENMARK\",\"showlegend\":false,\"xaxis\":\"x\",\"yaxis\":\"y\",\"type\":\"scatter\"},{\"hovertemplate\":\"Country=DJIBOUTI<br>Average Temperature evolution=%{x}<br>Greenhouse Gases Emissions=%{y}<extra></extra>\",\"legendgroup\":\"DJIBOUTI\",\"marker\":{\"color\":\"#2CA02C\",\"symbol\":\"circle\"},\"mode\":\"markers\",\"name\":\"DJIBOUTI\",\"orientation\":\"v\",\"showlegend\":true,\"x\":[1.1611666666666665],\"xaxis\":\"x\",\"y\":[175674144.0],\"yaxis\":\"y\",\"type\":\"scatter\"},{\"hovertemplate\":\"Country=DJIBOUTI<extra></extra>\",\"legendgroup\":\"DJIBOUTI\",\"marker\":{\"color\":\"#2CA02C\",\"symbol\":\"circle\"},\"mode\":\"lines\",\"name\":\"DJIBOUTI\",\"showlegend\":false,\"xaxis\":\"x\",\"yaxis\":\"y\",\"type\":\"scatter\"},{\"hovertemplate\":\"Country=DOMINICA<br>Average Temperature evolution=%{x}<br>Greenhouse Gases Emissions=%{y}<extra></extra>\",\"legendgroup\":\"DOMINICA\",\"marker\":{\"color\":\"#D62728\",\"symbol\":\"circle\"},\"mode\":\"markers\",\"name\":\"DOMINICA\",\"orientation\":\"v\",\"showlegend\":true,\"x\":[0.5978333333333374],\"xaxis\":\"x\",\"y\":[26611632.0],\"yaxis\":\"y\",\"type\":\"scatter\"},{\"hovertemplate\":\"Country=DOMINICA<extra></extra>\",\"legendgroup\":\"DOMINICA\",\"marker\":{\"color\":\"#D62728\",\"symbol\":\"circle\"},\"mode\":\"lines\",\"name\":\"DOMINICA\",\"showlegend\":false,\"xaxis\":\"x\",\"yaxis\":\"y\",\"type\":\"scatter\"},{\"hovertemplate\":\"Country=DOMINICAN REPUBLIC<br>Average Temperature evolution=%{x}<br>Greenhouse Gases Emissions=%{y}<extra></extra>\",\"legendgroup\":\"DOMINICAN REPUBLIC\",\"marker\":{\"color\":\"#9467BD\",\"symbol\":\"circle\"},\"mode\":\"markers\",\"name\":\"DOMINICAN REPUBLIC\",\"orientation\":\"v\",\"showlegend\":true,\"x\":[0.295333333333332],\"xaxis\":\"x\",\"y\":[4441986873.0],\"yaxis\":\"y\",\"type\":\"scatter\"},{\"hovertemplate\":\"Country=DOMINICAN REPUBLIC<extra></extra>\",\"legendgroup\":\"DOMINICAN REPUBLIC\",\"marker\":{\"color\":\"#9467BD\",\"symbol\":\"circle\"},\"mode\":\"lines\",\"name\":\"DOMINICAN REPUBLIC\",\"showlegend\":false,\"xaxis\":\"x\",\"yaxis\":\"y\",\"type\":\"scatter\"},{\"hovertemplate\":\"Country=ECUADOR<br>Average Temperature evolution=%{x}<br>Greenhouse Gases Emissions=%{y}<extra></extra>\",\"legendgroup\":\"ECUADOR\",\"marker\":{\"color\":\"#8C564B\",\"symbol\":\"circle\"},\"mode\":\"markers\",\"name\":\"ECUADOR\",\"orientation\":\"v\",\"showlegend\":true,\"x\":[0.29566666666666563],\"xaxis\":\"x\",\"y\":[8365825027.0],\"yaxis\":\"y\",\"type\":\"scatter\"},{\"hovertemplate\":\"Country=ECUADOR<extra></extra>\",\"legendgroup\":\"ECUADOR\",\"marker\":{\"color\":\"#8C564B\",\"symbol\":\"circle\"},\"mode\":\"lines\",\"name\":\"ECUADOR\",\"showlegend\":false,\"xaxis\":\"x\",\"yaxis\":\"y\",\"type\":\"scatter\"},{\"hovertemplate\":\"Country=EGYPT<br>Average Temperature evolution=%{x}<br>Greenhouse Gases Emissions=%{y}<extra></extra>\",\"legendgroup\":\"EGYPT\",\"marker\":{\"color\":\"#E377C2\",\"symbol\":\"circle\"},\"mode\":\"markers\",\"name\":\"EGYPT\",\"orientation\":\"v\",\"showlegend\":true,\"x\":[0.9889166666666689],\"xaxis\":\"x\",\"y\":[40314686259.0],\"yaxis\":\"y\",\"type\":\"scatter\"},{\"hovertemplate\":\"Country=EGYPT<extra></extra>\",\"legendgroup\":\"EGYPT\",\"marker\":{\"color\":\"#E377C2\",\"symbol\":\"circle\"},\"mode\":\"lines\",\"name\":\"EGYPT\",\"showlegend\":false,\"xaxis\":\"x\",\"yaxis\":\"y\",\"type\":\"scatter\"},{\"hovertemplate\":\"Country=EL SALVADOR<br>Average Temperature evolution=%{x}<br>Greenhouse Gases Emissions=%{y}<extra></extra>\",\"legendgroup\":\"EL SALVADOR\",\"marker\":{\"color\":\"#7F7F7F\",\"symbol\":\"circle\"},\"mode\":\"markers\",\"name\":\"EL SALVADOR\",\"orientation\":\"v\",\"showlegend\":true,\"x\":[0.445583333333335],\"xaxis\":\"x\",\"y\":[1685255119.0],\"yaxis\":\"y\",\"type\":\"scatter\"},{\"hovertemplate\":\"Country=EL SALVADOR<extra></extra>\",\"legendgroup\":\"EL SALVADOR\",\"marker\":{\"color\":\"#7F7F7F\",\"symbol\":\"circle\"},\"mode\":\"lines\",\"name\":\"EL SALVADOR\",\"showlegend\":false,\"xaxis\":\"x\",\"yaxis\":\"y\",\"type\":\"scatter\"},{\"hovertemplate\":\"Country=EQUATORIAL GUINEA<br>Average Temperature evolution=%{x}<br>Greenhouse Gases Emissions=%{y}<extra></extra>\",\"legendgroup\":\"EQUATORIAL GUINEA\",\"marker\":{\"color\":\"#BCBD22\",\"symbol\":\"circle\"},\"mode\":\"markers\",\"name\":\"EQUATORIAL GUINEA\",\"orientation\":\"v\",\"showlegend\":true,\"x\":[-0.2659166666666692],\"xaxis\":\"x\",\"y\":[59576640.0],\"yaxis\":\"y\",\"type\":\"scatter\"},{\"hovertemplate\":\"Country=EQUATORIAL GUINEA<extra></extra>\",\"legendgroup\":\"EQUATORIAL GUINEA\",\"marker\":{\"color\":\"#BCBD22\",\"symbol\":\"circle\"},\"mode\":\"lines\",\"name\":\"EQUATORIAL GUINEA\",\"showlegend\":false,\"xaxis\":\"x\",\"yaxis\":\"y\",\"type\":\"scatter\"},{\"hovertemplate\":\"Country=ERITREA<br>Average Temperature evolution=%{x}<br>Greenhouse Gases Emissions=%{y}<extra></extra>\",\"legendgroup\":\"ERITREA\",\"marker\":{\"color\":\"#17BECF\",\"symbol\":\"circle\"},\"mode\":\"markers\",\"name\":\"ERITREA\",\"orientation\":\"v\",\"showlegend\":true,\"x\":[0.8258333333333316],\"xaxis\":\"x\",\"y\":[27218264.0],\"yaxis\":\"y\",\"type\":\"scatter\"},{\"hovertemplate\":\"Country=ERITREA<extra></extra>\",\"legendgroup\":\"ERITREA\",\"marker\":{\"color\":\"#17BECF\",\"symbol\":\"circle\"},\"mode\":\"lines\",\"name\":\"ERITREA\",\"showlegend\":false,\"xaxis\":\"x\",\"yaxis\":\"y\",\"type\":\"scatter\"},{\"hovertemplate\":\"Country=ESTONIA<br>Average Temperature evolution=%{x}<br>Greenhouse Gases Emissions=%{y}<extra></extra>\",\"legendgroup\":\"ESTONIA\",\"marker\":{\"color\":\"#1F77B4\",\"symbol\":\"circle\"},\"mode\":\"markers\",\"name\":\"ESTONIA\",\"orientation\":\"v\",\"showlegend\":true,\"x\":[0.26233333333333375],\"xaxis\":\"x\",\"y\":[16444370948.0],\"yaxis\":\"y\",\"type\":\"scatter\"},{\"hovertemplate\":\"Country=ESTONIA<extra></extra>\",\"legendgroup\":\"ESTONIA\",\"marker\":{\"color\":\"#1F77B4\",\"symbol\":\"circle\"},\"mode\":\"lines\",\"name\":\"ESTONIA\",\"showlegend\":false,\"xaxis\":\"x\",\"yaxis\":\"y\",\"type\":\"scatter\"},{\"hovertemplate\":\"Country=ETHIOPIA<br>Average Temperature evolution=%{x}<br>Greenhouse Gases Emissions=%{y}<extra></extra>\",\"legendgroup\":\"ETHIOPIA\",\"marker\":{\"color\":\"#FF7F0E\",\"symbol\":\"circle\"},\"mode\":\"markers\",\"name\":\"ETHIOPIA\",\"orientation\":\"v\",\"showlegend\":true,\"x\":[0.8258333333333351],\"xaxis\":\"x\",\"y\":[1292017060.0],\"yaxis\":\"y\",\"type\":\"scatter\"},{\"hovertemplate\":\"Country=ETHIOPIA<extra></extra>\",\"legendgroup\":\"ETHIOPIA\",\"marker\":{\"color\":\"#FF7F0E\",\"symbol\":\"circle\"},\"mode\":\"lines\",\"name\":\"ETHIOPIA\",\"showlegend\":false,\"xaxis\":\"x\",\"yaxis\":\"y\",\"type\":\"scatter\"},{\"hovertemplate\":\"Country=FALKLAND ISLANDS (MALVINAS)<br>Average Temperature evolution=%{x}<br>Greenhouse Gases Emissions=%{y}<extra></extra>\",\"legendgroup\":\"FALKLAND ISLANDS (MALVINAS)\",\"marker\":{\"color\":\"#2CA02C\",\"symbol\":\"circle\"},\"mode\":\"markers\",\"name\":\"FALKLAND ISLANDS (MALVINAS)\",\"orientation\":\"v\",\"showlegend\":true,\"x\":[0.42758333333333365],\"xaxis\":\"x\",\"y\":[0.0],\"yaxis\":\"y\",\"type\":\"scatter\"},{\"hovertemplate\":\"Country=FALKLAND ISLANDS (MALVINAS)<extra></extra>\",\"legendgroup\":\"FALKLAND ISLANDS (MALVINAS)\",\"marker\":{\"color\":\"#2CA02C\",\"symbol\":\"circle\"},\"mode\":\"lines\",\"name\":\"FALKLAND ISLANDS (MALVINAS)\",\"showlegend\":false,\"xaxis\":\"x\",\"yaxis\":\"y\",\"type\":\"scatter\"},{\"hovertemplate\":\"Country=FAROE ISLANDS<br>Average Temperature evolution=%{x}<br>Greenhouse Gases Emissions=%{y}<extra></extra>\",\"legendgroup\":\"FAROE ISLANDS\",\"marker\":{\"color\":\"#D62728\",\"symbol\":\"circle\"},\"mode\":\"markers\",\"name\":\"FAROE ISLANDS\",\"orientation\":\"v\",\"showlegend\":true,\"x\":[0.05283333333333298],\"xaxis\":\"x\",\"y\":[0.0],\"yaxis\":\"y\",\"type\":\"scatter\"},{\"hovertemplate\":\"Country=FAROE ISLANDS<extra></extra>\",\"legendgroup\":\"FAROE ISLANDS\",\"marker\":{\"color\":\"#D62728\",\"symbol\":\"circle\"},\"mode\":\"lines\",\"name\":\"FAROE ISLANDS\",\"showlegend\":false,\"xaxis\":\"x\",\"yaxis\":\"y\",\"type\":\"scatter\"},{\"hovertemplate\":\"Country=FEDERATED STATES OF MICRONESIA<br>Average Temperature evolution=%{x}<br>Greenhouse Gases Emissions=%{y}<extra></extra>\",\"legendgroup\":\"FEDERATED STATES OF MICRONESIA\",\"marker\":{\"color\":\"#9467BD\",\"symbol\":\"circle\"},\"mode\":\"markers\",\"name\":\"FEDERATED STATES OF MICRONESIA\",\"orientation\":\"v\",\"showlegend\":true,\"x\":[0.6786666666666685],\"xaxis\":\"x\",\"y\":[0.0],\"yaxis\":\"y\",\"type\":\"scatter\"},{\"hovertemplate\":\"Country=FEDERATED STATES OF MICRONESIA<extra></extra>\",\"legendgroup\":\"FEDERATED STATES OF MICRONESIA\",\"marker\":{\"color\":\"#9467BD\",\"symbol\":\"circle\"},\"mode\":\"lines\",\"name\":\"FEDERATED STATES OF MICRONESIA\",\"showlegend\":false,\"xaxis\":\"x\",\"yaxis\":\"y\",\"type\":\"scatter\"},{\"hovertemplate\":\"Country=FIJI<br>Average Temperature evolution=%{x}<br>Greenhouse Gases Emissions=%{y}<extra></extra>\",\"legendgroup\":\"FIJI\",\"marker\":{\"color\":\"#8C564B\",\"symbol\":\"circle\"},\"mode\":\"markers\",\"name\":\"FIJI\",\"orientation\":\"v\",\"showlegend\":true,\"x\":[0.6230000000000046],\"xaxis\":\"x\",\"y\":[519129258.0],\"yaxis\":\"y\",\"type\":\"scatter\"},{\"hovertemplate\":\"Country=FIJI<extra></extra>\",\"legendgroup\":\"FIJI\",\"marker\":{\"color\":\"#8C564B\",\"symbol\":\"circle\"},\"mode\":\"lines\",\"name\":\"FIJI\",\"showlegend\":false,\"xaxis\":\"x\",\"yaxis\":\"y\",\"type\":\"scatter\"},{\"hovertemplate\":\"Country=FINLAND<br>Average Temperature evolution=%{x}<br>Greenhouse Gases Emissions=%{y}<extra></extra>\",\"legendgroup\":\"FINLAND\",\"marker\":{\"color\":\"#E377C2\",\"symbol\":\"circle\"},\"mode\":\"markers\",\"name\":\"FINLAND\",\"orientation\":\"v\",\"showlegend\":true,\"x\":[0.5447499999999996],\"xaxis\":\"x\",\"y\":[43719702699.0],\"yaxis\":\"y\",\"type\":\"scatter\"},{\"hovertemplate\":\"Country=FINLAND<extra></extra>\",\"legendgroup\":\"FINLAND\",\"marker\":{\"color\":\"#E377C2\",\"symbol\":\"circle\"},\"mode\":\"lines\",\"name\":\"FINLAND\",\"showlegend\":false,\"xaxis\":\"x\",\"yaxis\":\"y\",\"type\":\"scatter\"},{\"hovertemplate\":\"Country=FRANCE<br>Average Temperature evolution=%{x}<br>Greenhouse Gases Emissions=%{y}<extra></extra>\",\"legendgroup\":\"FRANCE\",\"marker\":{\"color\":\"#7F7F7F\",\"symbol\":\"circle\"},\"mode\":\"markers\",\"name\":\"FRANCE\",\"orientation\":\"v\",\"showlegend\":true,\"x\":[0.2121666666666668],\"xaxis\":\"x\",\"y\":[1055914787866.0],\"yaxis\":\"y\",\"type\":\"scatter\"},{\"hovertemplate\":\"Country=FRANCE<extra></extra>\",\"legendgroup\":\"FRANCE\",\"marker\":{\"color\":\"#7F7F7F\",\"symbol\":\"circle\"},\"mode\":\"lines\",\"name\":\"FRANCE\",\"showlegend\":false,\"xaxis\":\"x\",\"yaxis\":\"y\",\"type\":\"scatter\"},{\"hovertemplate\":\"Country=FRENCH GUIANA<br>Average Temperature evolution=%{x}<br>Greenhouse Gases Emissions=%{y}<extra></extra>\",\"legendgroup\":\"FRENCH GUIANA\",\"marker\":{\"color\":\"#BCBD22\",\"symbol\":\"circle\"},\"mode\":\"markers\",\"name\":\"FRENCH GUIANA\",\"orientation\":\"v\",\"showlegend\":true,\"x\":[0.5699999999999996],\"xaxis\":\"x\",\"y\":[181822336.0],\"yaxis\":\"y\",\"type\":\"scatter\"},{\"hovertemplate\":\"Country=FRENCH GUIANA<extra></extra>\",\"legendgroup\":\"FRENCH GUIANA\",\"marker\":{\"color\":\"#BCBD22\",\"symbol\":\"circle\"},\"mode\":\"lines\",\"name\":\"FRENCH GUIANA\",\"showlegend\":false,\"xaxis\":\"x\",\"yaxis\":\"y\",\"type\":\"scatter\"},{\"hovertemplate\":\"Country=FRENCH POLYNESIA<br>Average Temperature evolution=%{x}<br>Greenhouse Gases Emissions=%{y}<extra></extra>\",\"legendgroup\":\"FRENCH POLYNESIA\",\"marker\":{\"color\":\"#17BECF\",\"symbol\":\"circle\"},\"mode\":\"markers\",\"name\":\"FRENCH POLYNESIA\",\"orientation\":\"v\",\"showlegend\":true,\"x\":[0.37341666666666784],\"xaxis\":\"x\",\"y\":[209643088.0],\"yaxis\":\"y\",\"type\":\"scatter\"},{\"hovertemplate\":\"Country=FRENCH POLYNESIA<extra></extra>\",\"legendgroup\":\"FRENCH POLYNESIA\",\"marker\":{\"color\":\"#17BECF\",\"symbol\":\"circle\"},\"mode\":\"lines\",\"name\":\"FRENCH POLYNESIA\",\"showlegend\":false,\"xaxis\":\"x\",\"yaxis\":\"y\",\"type\":\"scatter\"},{\"hovertemplate\":\"Country=GABON<br>Average Temperature evolution=%{x}<br>Greenhouse Gases Emissions=%{y}<extra></extra>\",\"legendgroup\":\"GABON\",\"marker\":{\"color\":\"#1F77B4\",\"symbol\":\"circle\"},\"mode\":\"markers\",\"name\":\"GABON\",\"orientation\":\"v\",\"showlegend\":true,\"x\":[-0.2661666666666632],\"xaxis\":\"x\",\"y\":[2733599490.0],\"yaxis\":\"y\",\"type\":\"scatter\"},{\"hovertemplate\":\"Country=GABON<extra></extra>\",\"legendgroup\":\"GABON\",\"marker\":{\"color\":\"#1F77B4\",\"symbol\":\"circle\"},\"mode\":\"lines\",\"name\":\"GABON\",\"showlegend\":false,\"xaxis\":\"x\",\"yaxis\":\"y\",\"type\":\"scatter\"},{\"hovertemplate\":\"Country=GEORGIA<br>Average Temperature evolution=%{x}<br>Greenhouse Gases Emissions=%{y}<extra></extra>\",\"legendgroup\":\"GEORGIA\",\"marker\":{\"color\":\"#FF7F0E\",\"symbol\":\"circle\"},\"mode\":\"markers\",\"name\":\"GEORGIA\",\"orientation\":\"v\",\"showlegend\":true,\"x\":[1.6639166666666674],\"xaxis\":\"x\",\"y\":[10178562886.0],\"yaxis\":\"y\",\"type\":\"scatter\"},{\"hovertemplate\":\"Country=GEORGIA<extra></extra>\",\"legendgroup\":\"GEORGIA\",\"marker\":{\"color\":\"#FF7F0E\",\"symbol\":\"circle\"},\"mode\":\"lines\",\"name\":\"GEORGIA\",\"showlegend\":false,\"xaxis\":\"x\",\"yaxis\":\"y\",\"type\":\"scatter\"},{\"hovertemplate\":\"Country=GERMANY<br>Average Temperature evolution=%{x}<br>Greenhouse Gases Emissions=%{y}<extra></extra>\",\"legendgroup\":\"GERMANY\",\"marker\":{\"color\":\"#2CA02C\",\"symbol\":\"circle\"},\"mode\":\"markers\",\"name\":\"GERMANY\",\"orientation\":\"v\",\"showlegend\":true,\"x\":[0.8439166666666669],\"xaxis\":\"x\",\"y\":[2629957446676.0],\"yaxis\":\"y\",\"type\":\"scatter\"},{\"hovertemplate\":\"Country=GERMANY<extra></extra>\",\"legendgroup\":\"GERMANY\",\"marker\":{\"color\":\"#2CA02C\",\"symbol\":\"circle\"},\"mode\":\"lines\",\"name\":\"GERMANY\",\"showlegend\":false,\"xaxis\":\"x\",\"yaxis\":\"y\",\"type\":\"scatter\"},{\"hovertemplate\":\"Country=GHANA<br>Average Temperature evolution=%{x}<br>Greenhouse Gases Emissions=%{y}<extra></extra>\",\"legendgroup\":\"GHANA\",\"marker\":{\"color\":\"#D62728\",\"symbol\":\"circle\"},\"mode\":\"markers\",\"name\":\"GHANA\",\"orientation\":\"v\",\"showlegend\":true,\"x\":[0.15391666666667111],\"xaxis\":\"x\",\"y\":[2571990500.0],\"yaxis\":\"y\",\"type\":\"scatter\"},{\"hovertemplate\":\"Country=GHANA<extra></extra>\",\"legendgroup\":\"GHANA\",\"marker\":{\"color\":\"#D62728\",\"symbol\":\"circle\"},\"mode\":\"lines\",\"name\":\"GHANA\",\"showlegend\":false,\"xaxis\":\"x\",\"yaxis\":\"y\",\"type\":\"scatter\"},{\"hovertemplate\":\"Country=GREECE<br>Average Temperature evolution=%{x}<br>Greenhouse Gases Emissions=%{y}<extra></extra>\",\"legendgroup\":\"GREECE\",\"marker\":{\"color\":\"#9467BD\",\"symbol\":\"circle\"},\"mode\":\"markers\",\"name\":\"GREECE\",\"orientation\":\"v\",\"showlegend\":true,\"x\":[1.2915833333333353],\"xaxis\":\"x\",\"y\":[36327738344.0],\"yaxis\":\"y\",\"type\":\"scatter\"},{\"hovertemplate\":\"Country=GREECE<extra></extra>\",\"legendgroup\":\"GREECE\",\"marker\":{\"color\":\"#9467BD\",\"symbol\":\"circle\"},\"mode\":\"lines\",\"name\":\"GREECE\",\"showlegend\":false,\"xaxis\":\"x\",\"yaxis\":\"y\",\"type\":\"scatter\"},{\"hovertemplate\":\"Country=GREENLAND<br>Average Temperature evolution=%{x}<br>Greenhouse Gases Emissions=%{y}<extra></extra>\",\"legendgroup\":\"GREENLAND\",\"marker\":{\"color\":\"#8C564B\",\"symbol\":\"circle\"},\"mode\":\"markers\",\"name\":\"GREENLAND\",\"orientation\":\"v\",\"showlegend\":true,\"x\":[1.7919166666666686],\"xaxis\":\"x\",\"y\":[436884368.0],\"yaxis\":\"y\",\"type\":\"scatter\"},{\"hovertemplate\":\"Country=GREENLAND<extra></extra>\",\"legendgroup\":\"GREENLAND\",\"marker\":{\"color\":\"#8C564B\",\"symbol\":\"circle\"},\"mode\":\"lines\",\"name\":\"GREENLAND\",\"showlegend\":false,\"xaxis\":\"x\",\"yaxis\":\"y\",\"type\":\"scatter\"},{\"hovertemplate\":\"Country=GRENADA<br>Average Temperature evolution=%{x}<br>Greenhouse Gases Emissions=%{y}<extra></extra>\",\"legendgroup\":\"GRENADA\",\"marker\":{\"color\":\"#E377C2\",\"symbol\":\"circle\"},\"mode\":\"markers\",\"name\":\"GRENADA\",\"orientation\":\"v\",\"showlegend\":true,\"x\":[0.5485000000000004],\"xaxis\":\"x\",\"y\":[47419488.0],\"yaxis\":\"y\",\"type\":\"scatter\"},{\"hovertemplate\":\"Country=GRENADA<extra></extra>\",\"legendgroup\":\"GRENADA\",\"marker\":{\"color\":\"#E377C2\",\"symbol\":\"circle\"},\"mode\":\"lines\",\"name\":\"GRENADA\",\"showlegend\":false,\"xaxis\":\"x\",\"yaxis\":\"y\",\"type\":\"scatter\"},{\"hovertemplate\":\"Country=GUADELOUPE<br>Average Temperature evolution=%{x}<br>Greenhouse Gases Emissions=%{y}<extra></extra>\",\"legendgroup\":\"GUADELOUPE\",\"marker\":{\"color\":\"#7F7F7F\",\"symbol\":\"circle\"},\"mode\":\"markers\",\"name\":\"GUADELOUPE\",\"orientation\":\"v\",\"showlegend\":true,\"x\":[0.6531666666666706],\"xaxis\":\"x\",\"y\":[472568064.0],\"yaxis\":\"y\",\"type\":\"scatter\"},{\"hovertemplate\":\"Country=GUADELOUPE<extra></extra>\",\"legendgroup\":\"GUADELOUPE\",\"marker\":{\"color\":\"#7F7F7F\",\"symbol\":\"circle\"},\"mode\":\"lines\",\"name\":\"GUADELOUPE\",\"showlegend\":false,\"xaxis\":\"x\",\"yaxis\":\"y\",\"type\":\"scatter\"},{\"hovertemplate\":\"Country=GUAM<br>Average Temperature evolution=%{x}<br>Greenhouse Gases Emissions=%{y}<extra></extra>\",\"legendgroup\":\"GUAM\",\"marker\":{\"color\":\"#BCBD22\",\"symbol\":\"circle\"},\"mode\":\"markers\",\"name\":\"GUAM\",\"orientation\":\"v\",\"showlegend\":true,\"x\":[0.5476666666666642],\"xaxis\":\"x\",\"y\":[0.0],\"yaxis\":\"y\",\"type\":\"scatter\"},{\"hovertemplate\":\"Country=GUAM<extra></extra>\",\"legendgroup\":\"GUAM\",\"marker\":{\"color\":\"#BCBD22\",\"symbol\":\"circle\"},\"mode\":\"lines\",\"name\":\"GUAM\",\"showlegend\":false,\"xaxis\":\"x\",\"yaxis\":\"y\",\"type\":\"scatter\"},{\"hovertemplate\":\"Country=GUATEMALA<br>Average Temperature evolution=%{x}<br>Greenhouse Gases Emissions=%{y}<extra></extra>\",\"legendgroup\":\"GUATEMALA\",\"marker\":{\"color\":\"#17BECF\",\"symbol\":\"circle\"},\"mode\":\"markers\",\"name\":\"GUATEMALA\",\"orientation\":\"v\",\"showlegend\":true,\"x\":[0.054666666666665545],\"xaxis\":\"x\",\"y\":[2914525407.0],\"yaxis\":\"y\",\"type\":\"scatter\"},{\"hovertemplate\":\"Country=GUATEMALA<extra></extra>\",\"legendgroup\":\"GUATEMALA\",\"marker\":{\"color\":\"#17BECF\",\"symbol\":\"circle\"},\"mode\":\"lines\",\"name\":\"GUATEMALA\",\"showlegend\":false,\"xaxis\":\"x\",\"yaxis\":\"y\",\"type\":\"scatter\"},{\"hovertemplate\":\"Country=GUINEA<br>Average Temperature evolution=%{x}<br>Greenhouse Gases Emissions=%{y}<extra></extra>\",\"legendgroup\":\"GUINEA\",\"marker\":{\"color\":\"#1F77B4\",\"symbol\":\"circle\"},\"mode\":\"markers\",\"name\":\"GUINEA\",\"orientation\":\"v\",\"showlegend\":true,\"x\":[0.3604166666666655],\"xaxis\":\"x\",\"y\":[722297735.0],\"yaxis\":\"y\",\"type\":\"scatter\"},{\"hovertemplate\":\"Country=GUINEA<extra></extra>\",\"legendgroup\":\"GUINEA\",\"marker\":{\"color\":\"#1F77B4\",\"symbol\":\"circle\"},\"mode\":\"lines\",\"name\":\"GUINEA\",\"showlegend\":false,\"xaxis\":\"x\",\"yaxis\":\"y\",\"type\":\"scatter\"},{\"hovertemplate\":\"Country=GUINEA-BISSAU<br>Average Temperature evolution=%{x}<br>Greenhouse Gases Emissions=%{y}<extra></extra>\",\"legendgroup\":\"GUINEA-BISSAU\",\"marker\":{\"color\":\"#FF7F0E\",\"symbol\":\"circle\"},\"mode\":\"markers\",\"name\":\"GUINEA-BISSAU\",\"orientation\":\"v\",\"showlegend\":true,\"x\":[0.42108333333333237],\"xaxis\":\"x\",\"y\":[86419104.0],\"yaxis\":\"y\",\"type\":\"scatter\"},{\"hovertemplate\":\"Country=GUINEA-BISSAU<extra></extra>\",\"legendgroup\":\"GUINEA-BISSAU\",\"marker\":{\"color\":\"#FF7F0E\",\"symbol\":\"circle\"},\"mode\":\"lines\",\"name\":\"GUINEA-BISSAU\",\"showlegend\":false,\"xaxis\":\"x\",\"yaxis\":\"y\",\"type\":\"scatter\"},{\"hovertemplate\":\"Country=GUYANA<br>Average Temperature evolution=%{x}<br>Greenhouse Gases Emissions=%{y}<extra></extra>\",\"legendgroup\":\"GUYANA\",\"marker\":{\"color\":\"#2CA02C\",\"symbol\":\"circle\"},\"mode\":\"markers\",\"name\":\"GUYANA\",\"orientation\":\"v\",\"showlegend\":true,\"x\":[0.6232499999999981],\"xaxis\":\"x\",\"y\":[1314251152.0],\"yaxis\":\"y\",\"type\":\"scatter\"},{\"hovertemplate\":\"Country=GUYANA<extra></extra>\",\"legendgroup\":\"GUYANA\",\"marker\":{\"color\":\"#2CA02C\",\"symbol\":\"circle\"},\"mode\":\"lines\",\"name\":\"GUYANA\",\"showlegend\":false,\"xaxis\":\"x\",\"yaxis\":\"y\",\"type\":\"scatter\"},{\"hovertemplate\":\"Country=HAITI<br>Average Temperature evolution=%{x}<br>Greenhouse Gases Emissions=%{y}<extra></extra>\",\"legendgroup\":\"HAITI\",\"marker\":{\"color\":\"#D62728\",\"symbol\":\"circle\"},\"mode\":\"markers\",\"name\":\"HAITI\",\"orientation\":\"v\",\"showlegend\":true,\"x\":[0.2567499999999968],\"xaxis\":\"x\",\"y\":[542813266.0],\"yaxis\":\"y\",\"type\":\"scatter\"},{\"hovertemplate\":\"Country=HAITI<extra></extra>\",\"legendgroup\":\"HAITI\",\"marker\":{\"color\":\"#D62728\",\"symbol\":\"circle\"},\"mode\":\"lines\",\"name\":\"HAITI\",\"showlegend\":false,\"xaxis\":\"x\",\"yaxis\":\"y\",\"type\":\"scatter\"},{\"hovertemplate\":\"Country=HEARD ISLAND AND MCDONALD ISLANDS<br>Average Temperature evolution=%{x}<br>Greenhouse Gases Emissions=%{y}<extra></extra>\",\"legendgroup\":\"HEARD ISLAND AND MCDONALD ISLANDS\",\"marker\":{\"color\":\"#9467BD\",\"symbol\":\"circle\"},\"mode\":\"markers\",\"name\":\"HEARD ISLAND AND MCDONALD ISLANDS\",\"orientation\":\"v\",\"showlegend\":true,\"x\":[1.5748],\"xaxis\":\"x\",\"y\":[0.0],\"yaxis\":\"y\",\"type\":\"scatter\"},{\"hovertemplate\":\"Country=HEARD ISLAND AND MCDONALD ISLANDS<extra></extra>\",\"legendgroup\":\"HEARD ISLAND AND MCDONALD ISLANDS\",\"marker\":{\"color\":\"#9467BD\",\"symbol\":\"circle\"},\"mode\":\"lines\",\"name\":\"HEARD ISLAND AND MCDONALD ISLANDS\",\"showlegend\":false,\"xaxis\":\"x\",\"yaxis\":\"y\",\"type\":\"scatter\"},{\"hovertemplate\":\"Country=HONDURAS<br>Average Temperature evolution=%{x}<br>Greenhouse Gases Emissions=%{y}<extra></extra>\",\"legendgroup\":\"HONDURAS\",\"marker\":{\"color\":\"#8C564B\",\"symbol\":\"circle\"},\"mode\":\"markers\",\"name\":\"HONDURAS\",\"orientation\":\"v\",\"showlegend\":true,\"x\":[0.48116666666666696],\"xaxis\":\"x\",\"y\":[1482600934.0],\"yaxis\":\"y\",\"type\":\"scatter\"},{\"hovertemplate\":\"Country=HONDURAS<extra></extra>\",\"legendgroup\":\"HONDURAS\",\"marker\":{\"color\":\"#8C564B\",\"symbol\":\"circle\"},\"mode\":\"lines\",\"name\":\"HONDURAS\",\"showlegend\":false,\"xaxis\":\"x\",\"yaxis\":\"y\",\"type\":\"scatter\"},{\"hovertemplate\":\"Country=HONG KONG<br>Average Temperature evolution=%{x}<br>Greenhouse Gases Emissions=%{y}<extra></extra>\",\"legendgroup\":\"HONG KONG\",\"marker\":{\"color\":\"#E377C2\",\"symbol\":\"circle\"},\"mode\":\"markers\",\"name\":\"HONG KONG\",\"orientation\":\"v\",\"showlegend\":true,\"x\":[-0.0715833333333328],\"xaxis\":\"x\",\"y\":[11435529215.0],\"yaxis\":\"y\",\"type\":\"scatter\"},{\"hovertemplate\":\"Country=HONG KONG<extra></extra>\",\"legendgroup\":\"HONG KONG\",\"marker\":{\"color\":\"#E377C2\",\"symbol\":\"circle\"},\"mode\":\"lines\",\"name\":\"HONG KONG\",\"showlegend\":false,\"xaxis\":\"x\",\"yaxis\":\"y\",\"type\":\"scatter\"},{\"hovertemplate\":\"Country=HUNGARY<br>Average Temperature evolution=%{x}<br>Greenhouse Gases Emissions=%{y}<extra></extra>\",\"legendgroup\":\"HUNGARY\",\"marker\":{\"color\":\"#7F7F7F\",\"symbol\":\"circle\"},\"mode\":\"markers\",\"name\":\"HUNGARY\",\"orientation\":\"v\",\"showlegend\":true,\"x\":[1.4114999999999984],\"xaxis\":\"x\",\"y\":[112431356586.0],\"yaxis\":\"y\",\"type\":\"scatter\"},{\"hovertemplate\":\"Country=HUNGARY<extra></extra>\",\"legendgroup\":\"HUNGARY\",\"marker\":{\"color\":\"#7F7F7F\",\"symbol\":\"circle\"},\"mode\":\"lines\",\"name\":\"HUNGARY\",\"showlegend\":false,\"xaxis\":\"x\",\"yaxis\":\"y\",\"type\":\"scatter\"},{\"hovertemplate\":\"Country=ICELAND<br>Average Temperature evolution=%{x}<br>Greenhouse Gases Emissions=%{y}<extra></extra>\",\"legendgroup\":\"ICELAND\",\"marker\":{\"color\":\"#BCBD22\",\"symbol\":\"circle\"},\"mode\":\"markers\",\"name\":\"ICELAND\",\"orientation\":\"v\",\"showlegend\":true,\"x\":[0.8549166666666665],\"xaxis\":\"x\",\"y\":[1794444798.0],\"yaxis\":\"y\",\"type\":\"scatter\"},{\"hovertemplate\":\"Country=ICELAND<extra></extra>\",\"legendgroup\":\"ICELAND\",\"marker\":{\"color\":\"#BCBD22\",\"symbol\":\"circle\"},\"mode\":\"lines\",\"name\":\"ICELAND\",\"showlegend\":false,\"xaxis\":\"x\",\"yaxis\":\"y\",\"type\":\"scatter\"},{\"hovertemplate\":\"Country=INDIA<br>Average Temperature evolution=%{x}<br>Greenhouse Gases Emissions=%{y}<extra></extra>\",\"legendgroup\":\"INDIA\",\"marker\":{\"color\":\"#17BECF\",\"symbol\":\"circle\"},\"mode\":\"markers\",\"name\":\"INDIA\",\"orientation\":\"v\",\"showlegend\":true,\"x\":[0.4507499999999996],\"xaxis\":\"x\",\"y\":[385598110245.0],\"yaxis\":\"y\",\"type\":\"scatter\"},{\"hovertemplate\":\"Country=INDIA<extra></extra>\",\"legendgroup\":\"INDIA\",\"marker\":{\"color\":\"#17BECF\",\"symbol\":\"circle\"},\"mode\":\"lines\",\"name\":\"INDIA\",\"showlegend\":false,\"xaxis\":\"x\",\"yaxis\":\"y\",\"type\":\"scatter\"},{\"hovertemplate\":\"Country=INDONESIA<br>Average Temperature evolution=%{x}<br>Greenhouse Gases Emissions=%{y}<extra></extra>\",\"legendgroup\":\"INDONESIA\",\"marker\":{\"color\":\"#1F77B4\",\"symbol\":\"circle\"},\"mode\":\"markers\",\"name\":\"INDONESIA\",\"orientation\":\"v\",\"showlegend\":true,\"x\":[0.4326666666666695],\"xaxis\":\"x\",\"y\":[93923394279.0],\"yaxis\":\"y\",\"type\":\"scatter\"},{\"hovertemplate\":\"Country=INDONESIA<extra></extra>\",\"legendgroup\":\"INDONESIA\",\"marker\":{\"color\":\"#1F77B4\",\"symbol\":\"circle\"},\"mode\":\"lines\",\"name\":\"INDONESIA\",\"showlegend\":false,\"xaxis\":\"x\",\"yaxis\":\"y\",\"type\":\"scatter\"},{\"hovertemplate\":\"Country=IRAN<br>Average Temperature evolution=%{x}<br>Greenhouse Gases Emissions=%{y}<extra></extra>\",\"legendgroup\":\"IRAN\",\"marker\":{\"color\":\"#FF7F0E\",\"symbol\":\"circle\"},\"mode\":\"markers\",\"name\":\"IRAN\",\"orientation\":\"v\",\"showlegend\":true,\"x\":[2.1165833333333337],\"xaxis\":\"x\",\"y\":[145620650439.0],\"yaxis\":\"y\",\"type\":\"scatter\"},{\"hovertemplate\":\"Country=IRAN<extra></extra>\",\"legendgroup\":\"IRAN\",\"marker\":{\"color\":\"#FF7F0E\",\"symbol\":\"circle\"},\"mode\":\"lines\",\"name\":\"IRAN\",\"showlegend\":false,\"xaxis\":\"x\",\"yaxis\":\"y\",\"type\":\"scatter\"},{\"hovertemplate\":\"Country=IRAQ<br>Average Temperature evolution=%{x}<br>Greenhouse Gases Emissions=%{y}<extra></extra>\",\"legendgroup\":\"IRAQ\",\"marker\":{\"color\":\"#2CA02C\",\"symbol\":\"circle\"},\"mode\":\"markers\",\"name\":\"IRAQ\",\"orientation\":\"v\",\"showlegend\":true,\"x\":[1.933833333333332],\"xaxis\":\"x\",\"y\":[34703738415.0],\"yaxis\":\"y\",\"type\":\"scatter\"},{\"hovertemplate\":\"Country=IRAQ<extra></extra>\",\"legendgroup\":\"IRAQ\",\"marker\":{\"color\":\"#2CA02C\",\"symbol\":\"circle\"},\"mode\":\"lines\",\"name\":\"IRAQ\",\"showlegend\":false,\"xaxis\":\"x\",\"yaxis\":\"y\",\"type\":\"scatter\"},{\"hovertemplate\":\"Country=IRELAND<br>Average Temperature evolution=%{x}<br>Greenhouse Gases Emissions=%{y}<extra></extra>\",\"legendgroup\":\"IRELAND\",\"marker\":{\"color\":\"#D62728\",\"symbol\":\"circle\"},\"mode\":\"markers\",\"name\":\"IRELAND\",\"orientation\":\"v\",\"showlegend\":true,\"x\":[-0.44583333333333297],\"xaxis\":\"x\",\"y\":[34289900779.0],\"yaxis\":\"y\",\"type\":\"scatter\"},{\"hovertemplate\":\"Country=IRELAND<extra></extra>\",\"legendgroup\":\"IRELAND\",\"marker\":{\"color\":\"#D62728\",\"symbol\":\"circle\"},\"mode\":\"lines\",\"name\":\"IRELAND\",\"showlegend\":false,\"xaxis\":\"x\",\"yaxis\":\"y\",\"type\":\"scatter\"},{\"hovertemplate\":\"Country=ISRAEL<br>Average Temperature evolution=%{x}<br>Greenhouse Gases Emissions=%{y}<extra></extra>\",\"legendgroup\":\"ISRAEL\",\"marker\":{\"color\":\"#9467BD\",\"symbol\":\"circle\"},\"mode\":\"markers\",\"name\":\"ISRAEL\",\"orientation\":\"v\",\"showlegend\":true,\"x\":[1.3533333333333326],\"xaxis\":\"x\",\"y\":[17836125259.0],\"yaxis\":\"y\",\"type\":\"scatter\"},{\"hovertemplate\":\"Country=ISRAEL<extra></extra>\",\"legendgroup\":\"ISRAEL\",\"marker\":{\"color\":\"#9467BD\",\"symbol\":\"circle\"},\"mode\":\"lines\",\"name\":\"ISRAEL\",\"showlegend\":false,\"xaxis\":\"x\",\"yaxis\":\"y\",\"type\":\"scatter\"},{\"hovertemplate\":\"Country=ITALY<br>Average Temperature evolution=%{x}<br>Greenhouse Gases Emissions=%{y}<extra></extra>\",\"legendgroup\":\"ITALY\",\"marker\":{\"color\":\"#8C564B\",\"symbol\":\"circle\"},\"mode\":\"markers\",\"name\":\"ITALY\",\"orientation\":\"v\",\"showlegend\":true,\"x\":[0.7708333333333339],\"xaxis\":\"x\",\"y\":[364733477281.0],\"yaxis\":\"y\",\"type\":\"scatter\"},{\"hovertemplate\":\"Country=ITALY<extra></extra>\",\"legendgroup\":\"ITALY\",\"marker\":{\"color\":\"#8C564B\",\"symbol\":\"circle\"},\"mode\":\"lines\",\"name\":\"ITALY\",\"showlegend\":false,\"xaxis\":\"x\",\"yaxis\":\"y\",\"type\":\"scatter\"},{\"hovertemplate\":\"Country=JAMAICA<br>Average Temperature evolution=%{x}<br>Greenhouse Gases Emissions=%{y}<extra></extra>\",\"legendgroup\":\"JAMAICA\",\"marker\":{\"color\":\"#E377C2\",\"symbol\":\"circle\"},\"mode\":\"markers\",\"name\":\"JAMAICA\",\"orientation\":\"v\",\"showlegend\":true,\"x\":[0.43191666666666606],\"xaxis\":\"x\",\"y\":[5019864038.0],\"yaxis\":\"y\",\"type\":\"scatter\"},{\"hovertemplate\":\"Country=JAMAICA<extra></extra>\",\"legendgroup\":\"JAMAICA\",\"marker\":{\"color\":\"#E377C2\",\"symbol\":\"circle\"},\"mode\":\"lines\",\"name\":\"JAMAICA\",\"showlegend\":false,\"xaxis\":\"x\",\"yaxis\":\"y\",\"type\":\"scatter\"},{\"hovertemplate\":\"Country=JAPAN<br>Average Temperature evolution=%{x}<br>Greenhouse Gases Emissions=%{y}<extra></extra>\",\"legendgroup\":\"JAPAN\",\"marker\":{\"color\":\"#7F7F7F\",\"symbol\":\"circle\"},\"mode\":\"markers\",\"name\":\"JAPAN\",\"orientation\":\"v\",\"showlegend\":true,\"x\":[0.7312499999999994],\"xaxis\":\"x\",\"y\":[880908690865.0],\"yaxis\":\"y\",\"type\":\"scatter\"},{\"hovertemplate\":\"Country=JAPAN<extra></extra>\",\"legendgroup\":\"JAPAN\",\"marker\":{\"color\":\"#7F7F7F\",\"symbol\":\"circle\"},\"mode\":\"lines\",\"name\":\"JAPAN\",\"showlegend\":false,\"xaxis\":\"x\",\"yaxis\":\"y\",\"type\":\"scatter\"},{\"hovertemplate\":\"Country=JORDAN<br>Average Temperature evolution=%{x}<br>Greenhouse Gases Emissions=%{y}<extra></extra>\",\"legendgroup\":\"JORDAN\",\"marker\":{\"color\":\"#BCBD22\",\"symbol\":\"circle\"},\"mode\":\"markers\",\"name\":\"JORDAN\",\"orientation\":\"v\",\"showlegend\":true,\"x\":[1.4626666666666646],\"xaxis\":\"x\",\"y\":[3311197250.0],\"yaxis\":\"y\",\"type\":\"scatter\"},{\"hovertemplate\":\"Country=JORDAN<extra></extra>\",\"legendgroup\":\"JORDAN\",\"marker\":{\"color\":\"#BCBD22\",\"symbol\":\"circle\"},\"mode\":\"lines\",\"name\":\"JORDAN\",\"showlegend\":false,\"xaxis\":\"x\",\"yaxis\":\"y\",\"type\":\"scatter\"},{\"hovertemplate\":\"Country=KAZAKHSTAN<br>Average Temperature evolution=%{x}<br>Greenhouse Gases Emissions=%{y}<extra></extra>\",\"legendgroup\":\"KAZAKHSTAN\",\"marker\":{\"color\":\"#17BECF\",\"symbol\":\"circle\"},\"mode\":\"markers\",\"name\":\"KAZAKHSTAN\",\"orientation\":\"v\",\"showlegend\":true,\"x\":[2.1831666666666663],\"xaxis\":\"x\",\"y\":[175508369644.0],\"yaxis\":\"y\",\"type\":\"scatter\"},{\"hovertemplate\":\"Country=KAZAKHSTAN<extra></extra>\",\"legendgroup\":\"KAZAKHSTAN\",\"marker\":{\"color\":\"#17BECF\",\"symbol\":\"circle\"},\"mode\":\"lines\",\"name\":\"KAZAKHSTAN\",\"showlegend\":false,\"xaxis\":\"x\",\"yaxis\":\"y\",\"type\":\"scatter\"},{\"hovertemplate\":\"Country=KENYA<br>Average Temperature evolution=%{x}<br>Greenhouse Gases Emissions=%{y}<extra></extra>\",\"legendgroup\":\"KENYA\",\"marker\":{\"color\":\"#1F77B4\",\"symbol\":\"circle\"},\"mode\":\"markers\",\"name\":\"KENYA\",\"orientation\":\"v\",\"showlegend\":true,\"x\":[0.3429166666666672],\"xaxis\":\"x\",\"y\":[4207302273.0],\"yaxis\":\"y\",\"type\":\"scatter\"},{\"hovertemplate\":\"Country=KENYA<extra></extra>\",\"legendgroup\":\"KENYA\",\"marker\":{\"color\":\"#1F77B4\",\"symbol\":\"circle\"},\"mode\":\"lines\",\"name\":\"KENYA\",\"showlegend\":false,\"xaxis\":\"x\",\"yaxis\":\"y\",\"type\":\"scatter\"},{\"hovertemplate\":\"Country=KIRIBATI<br>Average Temperature evolution=%{x}<br>Greenhouse Gases Emissions=%{y}<extra></extra>\",\"legendgroup\":\"KIRIBATI\",\"marker\":{\"color\":\"#FF7F0E\",\"symbol\":\"circle\"},\"mode\":\"markers\",\"name\":\"KIRIBATI\",\"orientation\":\"v\",\"showlegend\":true,\"x\":[0.6258333333333328],\"xaxis\":\"x\",\"y\":[18257712.0],\"yaxis\":\"y\",\"type\":\"scatter\"},{\"hovertemplate\":\"Country=KIRIBATI<extra></extra>\",\"legendgroup\":\"KIRIBATI\",\"marker\":{\"color\":\"#FF7F0E\",\"symbol\":\"circle\"},\"mode\":\"lines\",\"name\":\"KIRIBATI\",\"showlegend\":false,\"xaxis\":\"x\",\"yaxis\":\"y\",\"type\":\"scatter\"},{\"hovertemplate\":\"Country=KUWAIT<br>Average Temperature evolution=%{x}<br>Greenhouse Gases Emissions=%{y}<extra></extra>\",\"legendgroup\":\"KUWAIT\",\"marker\":{\"color\":\"#2CA02C\",\"symbol\":\"circle\"},\"mode\":\"markers\",\"name\":\"KUWAIT\",\"orientation\":\"v\",\"showlegend\":true,\"x\":[1.7408333333333381],\"xaxis\":\"x\",\"y\":[21827550292.0],\"yaxis\":\"y\",\"type\":\"scatter\"},{\"hovertemplate\":\"Country=KUWAIT<extra></extra>\",\"legendgroup\":\"KUWAIT\",\"marker\":{\"color\":\"#2CA02C\",\"symbol\":\"circle\"},\"mode\":\"lines\",\"name\":\"KUWAIT\",\"showlegend\":false,\"xaxis\":\"x\",\"yaxis\":\"y\",\"type\":\"scatter\"},{\"hovertemplate\":\"Country=KYRGYZSTAN<br>Average Temperature evolution=%{x}<br>Greenhouse Gases Emissions=%{y}<extra></extra>\",\"legendgroup\":\"KYRGYZSTAN\",\"marker\":{\"color\":\"#D62728\",\"symbol\":\"circle\"},\"mode\":\"markers\",\"name\":\"KYRGYZSTAN\",\"orientation\":\"v\",\"showlegend\":true,\"x\":[2.1594999999999995],\"xaxis\":\"x\",\"y\":[321930327.0],\"yaxis\":\"y\",\"type\":\"scatter\"},{\"hovertemplate\":\"Country=KYRGYZSTAN<extra></extra>\",\"legendgroup\":\"KYRGYZSTAN\",\"marker\":{\"color\":\"#D62728\",\"symbol\":\"circle\"},\"mode\":\"lines\",\"name\":\"KYRGYZSTAN\",\"showlegend\":false,\"xaxis\":\"x\",\"yaxis\":\"y\",\"type\":\"scatter\"},{\"hovertemplate\":\"Country=LAOS<br>Average Temperature evolution=%{x}<br>Greenhouse Gases Emissions=%{y}<extra></extra>\",\"legendgroup\":\"LAOS\",\"marker\":{\"color\":\"#9467BD\",\"symbol\":\"circle\"},\"mode\":\"markers\",\"name\":\"LAOS\",\"orientation\":\"v\",\"showlegend\":true,\"x\":[-0.058583333333334695],\"xaxis\":\"x\",\"y\":[227442331.0],\"yaxis\":\"y\",\"type\":\"scatter\"},{\"hovertemplate\":\"Country=LAOS<extra></extra>\",\"legendgroup\":\"LAOS\",\"marker\":{\"color\":\"#9467BD\",\"symbol\":\"circle\"},\"mode\":\"lines\",\"name\":\"LAOS\",\"showlegend\":false,\"xaxis\":\"x\",\"yaxis\":\"y\",\"type\":\"scatter\"},{\"hovertemplate\":\"Country=LATVIA<br>Average Temperature evolution=%{x}<br>Greenhouse Gases Emissions=%{y}<extra></extra>\",\"legendgroup\":\"LATVIA\",\"marker\":{\"color\":\"#8C564B\",\"symbol\":\"circle\"},\"mode\":\"markers\",\"name\":\"LATVIA\",\"orientation\":\"v\",\"showlegend\":true,\"x\":[0.31533333333333186],\"xaxis\":\"x\",\"y\":[9671352782.0],\"yaxis\":\"y\",\"type\":\"scatter\"},{\"hovertemplate\":\"Country=LATVIA<extra></extra>\",\"legendgroup\":\"LATVIA\",\"marker\":{\"color\":\"#8C564B\",\"symbol\":\"circle\"},\"mode\":\"lines\",\"name\":\"LATVIA\",\"showlegend\":false,\"xaxis\":\"x\",\"yaxis\":\"y\",\"type\":\"scatter\"},{\"hovertemplate\":\"Country=LEBANON<br>Average Temperature evolution=%{x}<br>Greenhouse Gases Emissions=%{y}<extra></extra>\",\"legendgroup\":\"LEBANON\",\"marker\":{\"color\":\"#E377C2\",\"symbol\":\"circle\"},\"mode\":\"markers\",\"name\":\"LEBANON\",\"orientation\":\"v\",\"showlegend\":true,\"x\":[1.357583333333338],\"xaxis\":\"x\",\"y\":[5380291315.0],\"yaxis\":\"y\",\"type\":\"scatter\"},{\"hovertemplate\":\"Country=LEBANON<extra></extra>\",\"legendgroup\":\"LEBANON\",\"marker\":{\"color\":\"#E377C2\",\"symbol\":\"circle\"},\"mode\":\"lines\",\"name\":\"LEBANON\",\"showlegend\":false,\"xaxis\":\"x\",\"yaxis\":\"y\",\"type\":\"scatter\"},{\"hovertemplate\":\"Country=LESOTHO<br>Average Temperature evolution=%{x}<br>Greenhouse Gases Emissions=%{y}<extra></extra>\",\"legendgroup\":\"LESOTHO\",\"marker\":{\"color\":\"#7F7F7F\",\"symbol\":\"circle\"},\"mode\":\"markers\",\"name\":\"LESOTHO\",\"orientation\":\"v\",\"showlegend\":true,\"x\":[-0.09924999999999962],\"xaxis\":\"x\",\"y\":[107468784.0],\"yaxis\":\"y\",\"type\":\"scatter\"},{\"hovertemplate\":\"Country=LESOTHO<extra></extra>\",\"legendgroup\":\"LESOTHO\",\"marker\":{\"color\":\"#7F7F7F\",\"symbol\":\"circle\"},\"mode\":\"lines\",\"name\":\"LESOTHO\",\"showlegend\":false,\"xaxis\":\"x\",\"yaxis\":\"y\",\"type\":\"scatter\"},{\"hovertemplate\":\"Country=LIBERIA<br>Average Temperature evolution=%{x}<br>Greenhouse Gases Emissions=%{y}<extra></extra>\",\"legendgroup\":\"LIBERIA\",\"marker\":{\"color\":\"#BCBD22\",\"symbol\":\"circle\"},\"mode\":\"markers\",\"name\":\"LIBERIA\",\"orientation\":\"v\",\"showlegend\":true,\"x\":[0.3810833333333333],\"xaxis\":\"x\",\"y\":[824554509.0],\"yaxis\":\"y\",\"type\":\"scatter\"},{\"hovertemplate\":\"Country=LIBERIA<extra></extra>\",\"legendgroup\":\"LIBERIA\",\"marker\":{\"color\":\"#BCBD22\",\"symbol\":\"circle\"},\"mode\":\"lines\",\"name\":\"LIBERIA\",\"showlegend\":false,\"xaxis\":\"x\",\"yaxis\":\"y\",\"type\":\"scatter\"},{\"hovertemplate\":\"Country=LIBYA<br>Average Temperature evolution=%{x}<br>Greenhouse Gases Emissions=%{y}<extra></extra>\",\"legendgroup\":\"LIBYA\",\"marker\":{\"color\":\"#17BECF\",\"symbol\":\"circle\"},\"mode\":\"markers\",\"name\":\"LIBYA\",\"orientation\":\"v\",\"showlegend\":true,\"x\":[1.0565],\"xaxis\":\"x\",\"y\":[16086228557.0],\"yaxis\":\"y\",\"type\":\"scatter\"},{\"hovertemplate\":\"Country=LIBYA<extra></extra>\",\"legendgroup\":\"LIBYA\",\"marker\":{\"color\":\"#17BECF\",\"symbol\":\"circle\"},\"mode\":\"lines\",\"name\":\"LIBYA\",\"showlegend\":false,\"xaxis\":\"x\",\"yaxis\":\"y\",\"type\":\"scatter\"},{\"hovertemplate\":\"Country=LIECHTENSTEIN<br>Average Temperature evolution=%{x}<br>Greenhouse Gases Emissions=%{y}<extra></extra>\",\"legendgroup\":\"LIECHTENSTEIN\",\"marker\":{\"color\":\"#1F77B4\",\"symbol\":\"circle\"},\"mode\":\"markers\",\"name\":\"LIECHTENSTEIN\",\"orientation\":\"v\",\"showlegend\":true,\"x\":[0.7790833333333329],\"xaxis\":\"x\",\"y\":[0.0],\"yaxis\":\"y\",\"type\":\"scatter\"},{\"hovertemplate\":\"Country=LIECHTENSTEIN<extra></extra>\",\"legendgroup\":\"LIECHTENSTEIN\",\"marker\":{\"color\":\"#1F77B4\",\"symbol\":\"circle\"},\"mode\":\"lines\",\"name\":\"LIECHTENSTEIN\",\"showlegend\":false,\"xaxis\":\"x\",\"yaxis\":\"y\",\"type\":\"scatter\"},{\"hovertemplate\":\"Country=LITHUANIA<br>Average Temperature evolution=%{x}<br>Greenhouse Gases Emissions=%{y}<extra></extra>\",\"legendgroup\":\"LITHUANIA\",\"marker\":{\"color\":\"#FF7F0E\",\"symbol\":\"circle\"},\"mode\":\"markers\",\"name\":\"LITHUANIA\",\"orientation\":\"v\",\"showlegend\":true,\"x\":[0.435083333333331],\"xaxis\":\"x\",\"y\":[15334666468.0],\"yaxis\":\"y\",\"type\":\"scatter\"},{\"hovertemplate\":\"Country=LITHUANIA<extra></extra>\",\"legendgroup\":\"LITHUANIA\",\"marker\":{\"color\":\"#FF7F0E\",\"symbol\":\"circle\"},\"mode\":\"lines\",\"name\":\"LITHUANIA\",\"showlegend\":false,\"xaxis\":\"x\",\"yaxis\":\"y\",\"type\":\"scatter\"},{\"hovertemplate\":\"Country=LUXEMBOURG<br>Average Temperature evolution=%{x}<br>Greenhouse Gases Emissions=%{y}<extra></extra>\",\"legendgroup\":\"LUXEMBOURG\",\"marker\":{\"color\":\"#2CA02C\",\"symbol\":\"circle\"},\"mode\":\"markers\",\"name\":\"LUXEMBOURG\",\"orientation\":\"v\",\"showlegend\":true,\"x\":[0.6720000000000004],\"xaxis\":\"x\",\"y\":[14407184605.0],\"yaxis\":\"y\",\"type\":\"scatter\"},{\"hovertemplate\":\"Country=LUXEMBOURG<extra></extra>\",\"legendgroup\":\"LUXEMBOURG\",\"marker\":{\"color\":\"#2CA02C\",\"symbol\":\"circle\"},\"mode\":\"lines\",\"name\":\"LUXEMBOURG\",\"showlegend\":false,\"xaxis\":\"x\",\"yaxis\":\"y\",\"type\":\"scatter\"},{\"hovertemplate\":\"Country=MACAU<br>Average Temperature evolution=%{x}<br>Greenhouse Gases Emissions=%{y}<extra></extra>\",\"legendgroup\":\"MACAU\",\"marker\":{\"color\":\"#D62728\",\"symbol\":\"circle\"},\"mode\":\"markers\",\"name\":\"MACAU\",\"orientation\":\"v\",\"showlegend\":true,\"x\":[-0.13866666666666913],\"xaxis\":\"x\",\"y\":[0.0],\"yaxis\":\"y\",\"type\":\"scatter\"},{\"hovertemplate\":\"Country=MACAU<extra></extra>\",\"legendgroup\":\"MACAU\",\"marker\":{\"color\":\"#D62728\",\"symbol\":\"circle\"},\"mode\":\"lines\",\"name\":\"MACAU\",\"showlegend\":false,\"xaxis\":\"x\",\"yaxis\":\"y\",\"type\":\"scatter\"},{\"hovertemplate\":\"Country=MACEDONIA<br>Average Temperature evolution=%{x}<br>Greenhouse Gases Emissions=%{y}<extra></extra>\",\"legendgroup\":\"MACEDONIA\",\"marker\":{\"color\":\"#9467BD\",\"symbol\":\"circle\"},\"mode\":\"markers\",\"name\":\"MACEDONIA\",\"orientation\":\"v\",\"showlegend\":true,\"x\":[1.4010833333333341],\"xaxis\":\"x\",\"y\":[7241044406.0],\"yaxis\":\"y\",\"type\":\"scatter\"},{\"hovertemplate\":\"Country=MACEDONIA<extra></extra>\",\"legendgroup\":\"MACEDONIA\",\"marker\":{\"color\":\"#9467BD\",\"symbol\":\"circle\"},\"mode\":\"lines\",\"name\":\"MACEDONIA\",\"showlegend\":false,\"xaxis\":\"x\",\"yaxis\":\"y\",\"type\":\"scatter\"},{\"hovertemplate\":\"Country=MADAGASCAR<br>Average Temperature evolution=%{x}<br>Greenhouse Gases Emissions=%{y}<extra></extra>\",\"legendgroup\":\"MADAGASCAR\",\"marker\":{\"color\":\"#8C564B\",\"symbol\":\"circle\"},\"mode\":\"markers\",\"name\":\"MADAGASCAR\",\"orientation\":\"v\",\"showlegend\":true,\"x\":[0.3317499999999996],\"xaxis\":\"x\",\"y\":[907826189.0],\"yaxis\":\"y\",\"type\":\"scatter\"},{\"hovertemplate\":\"Country=MADAGASCAR<extra></extra>\",\"legendgroup\":\"MADAGASCAR\",\"marker\":{\"color\":\"#8C564B\",\"symbol\":\"circle\"},\"mode\":\"lines\",\"name\":\"MADAGASCAR\",\"showlegend\":false,\"xaxis\":\"x\",\"yaxis\":\"y\",\"type\":\"scatter\"},{\"hovertemplate\":\"Country=MALAWI<br>Average Temperature evolution=%{x}<br>Greenhouse Gases Emissions=%{y}<extra></extra>\",\"legendgroup\":\"MALAWI\",\"marker\":{\"color\":\"#E377C2\",\"symbol\":\"circle\"},\"mode\":\"markers\",\"name\":\"MALAWI\",\"orientation\":\"v\",\"showlegend\":true,\"x\":[-0.11466666666666799],\"xaxis\":\"x\",\"y\":[458373388.0],\"yaxis\":\"y\",\"type\":\"scatter\"},{\"hovertemplate\":\"Country=MALAWI<extra></extra>\",\"legendgroup\":\"MALAWI\",\"marker\":{\"color\":\"#E377C2\",\"symbol\":\"circle\"},\"mode\":\"lines\",\"name\":\"MALAWI\",\"showlegend\":false,\"xaxis\":\"x\",\"yaxis\":\"y\",\"type\":\"scatter\"},{\"hovertemplate\":\"Country=MALAYSIA<br>Average Temperature evolution=%{x}<br>Greenhouse Gases Emissions=%{y}<extra></extra>\",\"legendgroup\":\"MALAYSIA\",\"marker\":{\"color\":\"#7F7F7F\",\"symbol\":\"circle\"},\"mode\":\"markers\",\"name\":\"MALAYSIA\",\"orientation\":\"v\",\"showlegend\":true,\"x\":[0.39099999999999796],\"xaxis\":\"x\",\"y\":[23028983573.0],\"yaxis\":\"y\",\"type\":\"scatter\"},{\"hovertemplate\":\"Country=MALAYSIA<extra></extra>\",\"legendgroup\":\"MALAYSIA\",\"marker\":{\"color\":\"#7F7F7F\",\"symbol\":\"circle\"},\"mode\":\"lines\",\"name\":\"MALAYSIA\",\"showlegend\":false,\"xaxis\":\"x\",\"yaxis\":\"y\",\"type\":\"scatter\"},{\"hovertemplate\":\"Country=MALI<br>Average Temperature evolution=%{x}<br>Greenhouse Gases Emissions=%{y}<extra></extra>\",\"legendgroup\":\"MALI\",\"marker\":{\"color\":\"#BCBD22\",\"symbol\":\"circle\"},\"mode\":\"markers\",\"name\":\"MALI\",\"orientation\":\"v\",\"showlegend\":true,\"x\":[0.4104999999999989],\"xaxis\":\"x\",\"y\":[241886161.0],\"yaxis\":\"y\",\"type\":\"scatter\"},{\"hovertemplate\":\"Country=MALI<extra></extra>\",\"legendgroup\":\"MALI\",\"marker\":{\"color\":\"#BCBD22\",\"symbol\":\"circle\"},\"mode\":\"lines\",\"name\":\"MALI\",\"showlegend\":false,\"xaxis\":\"x\",\"yaxis\":\"y\",\"type\":\"scatter\"},{\"hovertemplate\":\"Country=MALTA<br>Average Temperature evolution=%{x}<br>Greenhouse Gases Emissions=%{y}<extra></extra>\",\"legendgroup\":\"MALTA\",\"marker\":{\"color\":\"#17BECF\",\"symbol\":\"circle\"},\"mode\":\"markers\",\"name\":\"MALTA\",\"orientation\":\"v\",\"showlegend\":true,\"x\":[0.8186666666666687],\"xaxis\":\"x\",\"y\":[886167296.0],\"yaxis\":\"y\",\"type\":\"scatter\"},{\"hovertemplate\":\"Country=MALTA<extra></extra>\",\"legendgroup\":\"MALTA\",\"marker\":{\"color\":\"#17BECF\",\"symbol\":\"circle\"},\"mode\":\"lines\",\"name\":\"MALTA\",\"showlegend\":false,\"xaxis\":\"x\",\"yaxis\":\"y\",\"type\":\"scatter\"},{\"hovertemplate\":\"Country=MARTINIQUE<br>Average Temperature evolution=%{x}<br>Greenhouse Gases Emissions=%{y}<extra></extra>\",\"legendgroup\":\"MARTINIQUE\",\"marker\":{\"color\":\"#1F77B4\",\"symbol\":\"circle\"},\"mode\":\"markers\",\"name\":\"MARTINIQUE\",\"orientation\":\"v\",\"showlegend\":true,\"x\":[0.5978333333333374],\"xaxis\":\"x\",\"y\":[640291328.0],\"yaxis\":\"y\",\"type\":\"scatter\"},{\"hovertemplate\":\"Country=MARTINIQUE<extra></extra>\",\"legendgroup\":\"MARTINIQUE\",\"marker\":{\"color\":\"#1F77B4\",\"symbol\":\"circle\"},\"mode\":\"lines\",\"name\":\"MARTINIQUE\",\"showlegend\":false,\"xaxis\":\"x\",\"yaxis\":\"y\",\"type\":\"scatter\"},{\"hovertemplate\":\"Country=MAURITANIA<br>Average Temperature evolution=%{x}<br>Greenhouse Gases Emissions=%{y}<extra></extra>\",\"legendgroup\":\"MAURITANIA\",\"marker\":{\"color\":\"#FF7F0E\",\"symbol\":\"circle\"},\"mode\":\"markers\",\"name\":\"MAURITANIA\",\"orientation\":\"v\",\"showlegend\":true,\"x\":[0.7479166666666688],\"xaxis\":\"x\",\"y\":[454372640.0],\"yaxis\":\"y\",\"type\":\"scatter\"},{\"hovertemplate\":\"Country=MAURITANIA<extra></extra>\",\"legendgroup\":\"MAURITANIA\",\"marker\":{\"color\":\"#FF7F0E\",\"symbol\":\"circle\"},\"mode\":\"lines\",\"name\":\"MAURITANIA\",\"showlegend\":false,\"xaxis\":\"x\",\"yaxis\":\"y\",\"type\":\"scatter\"},{\"hovertemplate\":\"Country=MAURITIUS<br>Average Temperature evolution=%{x}<br>Greenhouse Gases Emissions=%{y}<extra></extra>\",\"legendgroup\":\"MAURITIUS\",\"marker\":{\"color\":\"#2CA02C\",\"symbol\":\"circle\"},\"mode\":\"markers\",\"name\":\"MAURITIUS\",\"orientation\":\"v\",\"showlegend\":true,\"x\":[0.4380000000000023],\"xaxis\":\"x\",\"y\":[597649696.0],\"yaxis\":\"y\",\"type\":\"scatter\"},{\"hovertemplate\":\"Country=MAURITIUS<extra></extra>\",\"legendgroup\":\"MAURITIUS\",\"marker\":{\"color\":\"#2CA02C\",\"symbol\":\"circle\"},\"mode\":\"lines\",\"name\":\"MAURITIUS\",\"showlegend\":false,\"xaxis\":\"x\",\"yaxis\":\"y\",\"type\":\"scatter\"},{\"hovertemplate\":\"Country=MAYOTTE<br>Average Temperature evolution=%{x}<br>Greenhouse Gases Emissions=%{y}<extra></extra>\",\"legendgroup\":\"MAYOTTE\",\"marker\":{\"color\":\"#D62728\",\"symbol\":\"circle\"},\"mode\":\"markers\",\"name\":\"MAYOTTE\",\"orientation\":\"v\",\"showlegend\":true,\"x\":[0.15366666666666595],\"xaxis\":\"x\",\"y\":[0.0],\"yaxis\":\"y\",\"type\":\"scatter\"},{\"hovertemplate\":\"Country=MAYOTTE<extra></extra>\",\"legendgroup\":\"MAYOTTE\",\"marker\":{\"color\":\"#D62728\",\"symbol\":\"circle\"},\"mode\":\"lines\",\"name\":\"MAYOTTE\",\"showlegend\":false,\"xaxis\":\"x\",\"yaxis\":\"y\",\"type\":\"scatter\"},{\"hovertemplate\":\"Country=MEXICO<br>Average Temperature evolution=%{x}<br>Greenhouse Gases Emissions=%{y}<extra></extra>\",\"legendgroup\":\"MEXICO\",\"marker\":{\"color\":\"#9467BD\",\"symbol\":\"circle\"},\"mode\":\"markers\",\"name\":\"MEXICO\",\"orientation\":\"v\",\"showlegend\":true,\"x\":[0.3159999999999957],\"xaxis\":\"x\",\"y\":[223507522009.0],\"yaxis\":\"y\",\"type\":\"scatter\"},{\"hovertemplate\":\"Country=MEXICO<extra></extra>\",\"legendgroup\":\"MEXICO\",\"marker\":{\"color\":\"#9467BD\",\"symbol\":\"circle\"},\"mode\":\"lines\",\"name\":\"MEXICO\",\"showlegend\":false,\"xaxis\":\"x\",\"yaxis\":\"y\",\"type\":\"scatter\"},{\"hovertemplate\":\"Country=MOLDOVA<br>Average Temperature evolution=%{x}<br>Greenhouse Gases Emissions=%{y}<extra></extra>\",\"legendgroup\":\"MOLDOVA\",\"marker\":{\"color\":\"#8C564B\",\"symbol\":\"circle\"},\"mode\":\"markers\",\"name\":\"MOLDOVA\",\"orientation\":\"v\",\"showlegend\":true,\"x\":[1.335583333333332],\"xaxis\":\"x\",\"y\":[592568119.0],\"yaxis\":\"y\",\"type\":\"scatter\"},{\"hovertemplate\":\"Country=MOLDOVA<extra></extra>\",\"legendgroup\":\"MOLDOVA\",\"marker\":{\"color\":\"#8C564B\",\"symbol\":\"circle\"},\"mode\":\"lines\",\"name\":\"MOLDOVA\",\"showlegend\":false,\"xaxis\":\"x\",\"yaxis\":\"y\",\"type\":\"scatter\"},{\"hovertemplate\":\"Country=MONACO<br>Average Temperature evolution=%{x}<br>Greenhouse Gases Emissions=%{y}<extra></extra>\",\"legendgroup\":\"MONACO\",\"marker\":{\"color\":\"#E377C2\",\"symbol\":\"circle\"},\"mode\":\"markers\",\"name\":\"MONACO\",\"orientation\":\"v\",\"showlegend\":true,\"x\":[0.1173333333333326],\"xaxis\":\"x\",\"y\":[0.0],\"yaxis\":\"y\",\"type\":\"scatter\"},{\"hovertemplate\":\"Country=MONACO<extra></extra>\",\"legendgroup\":\"MONACO\",\"marker\":{\"color\":\"#E377C2\",\"symbol\":\"circle\"},\"mode\":\"lines\",\"name\":\"MONACO\",\"showlegend\":false,\"xaxis\":\"x\",\"yaxis\":\"y\",\"type\":\"scatter\"},{\"hovertemplate\":\"Country=MONGOLIA<br>Average Temperature evolution=%{x}<br>Greenhouse Gases Emissions=%{y}<extra></extra>\",\"legendgroup\":\"MONGOLIA\",\"marker\":{\"color\":\"#7F7F7F\",\"symbol\":\"circle\"},\"mode\":\"markers\",\"name\":\"MONGOLIA\",\"orientation\":\"v\",\"showlegend\":true,\"x\":[0.7463333333333334],\"xaxis\":\"x\",\"y\":[4026998777.0],\"yaxis\":\"y\",\"type\":\"scatter\"},{\"hovertemplate\":\"Country=MONGOLIA<extra></extra>\",\"legendgroup\":\"MONGOLIA\",\"marker\":{\"color\":\"#7F7F7F\",\"symbol\":\"circle\"},\"mode\":\"lines\",\"name\":\"MONGOLIA\",\"showlegend\":false,\"xaxis\":\"x\",\"yaxis\":\"y\",\"type\":\"scatter\"},{\"hovertemplate\":\"Country=MONTENEGRO<br>Average Temperature evolution=%{x}<br>Greenhouse Gases Emissions=%{y}<extra></extra>\",\"legendgroup\":\"MONTENEGRO\",\"marker\":{\"color\":\"#BCBD22\",\"symbol\":\"circle\"},\"mode\":\"markers\",\"name\":\"MONTENEGRO\",\"orientation\":\"v\",\"showlegend\":true,\"x\":[1.319499999999998],\"xaxis\":\"x\",\"y\":[1282882588.0],\"yaxis\":\"y\",\"type\":\"scatter\"},{\"hovertemplate\":\"Country=MONTENEGRO<extra></extra>\",\"legendgroup\":\"MONTENEGRO\",\"marker\":{\"color\":\"#BCBD22\",\"symbol\":\"circle\"},\"mode\":\"lines\",\"name\":\"MONTENEGRO\",\"showlegend\":false,\"xaxis\":\"x\",\"yaxis\":\"y\",\"type\":\"scatter\"},{\"hovertemplate\":\"Country=MONTSERRAT<br>Average Temperature evolution=%{x}<br>Greenhouse Gases Emissions=%{y}<extra></extra>\",\"legendgroup\":\"MONTSERRAT\",\"marker\":{\"color\":\"#17BECF\",\"symbol\":\"circle\"},\"mode\":\"markers\",\"name\":\"MONTSERRAT\",\"orientation\":\"v\",\"showlegend\":true,\"x\":[0.6666666666666645],\"xaxis\":\"x\",\"y\":[11937312.0],\"yaxis\":\"y\",\"type\":\"scatter\"},{\"hovertemplate\":\"Country=MONTSERRAT<extra></extra>\",\"legendgroup\":\"MONTSERRAT\",\"marker\":{\"color\":\"#17BECF\",\"symbol\":\"circle\"},\"mode\":\"lines\",\"name\":\"MONTSERRAT\",\"showlegend\":false,\"xaxis\":\"x\",\"yaxis\":\"y\",\"type\":\"scatter\"},{\"hovertemplate\":\"Country=MOROCCO<br>Average Temperature evolution=%{x}<br>Greenhouse Gases Emissions=%{y}<extra></extra>\",\"legendgroup\":\"MOROCCO\",\"marker\":{\"color\":\"#1F77B4\",\"symbol\":\"circle\"},\"mode\":\"markers\",\"name\":\"MOROCCO\",\"orientation\":\"v\",\"showlegend\":true,\"x\":[0.4147500000000016],\"xaxis\":\"x\",\"y\":[11247726955.0],\"yaxis\":\"y\",\"type\":\"scatter\"},{\"hovertemplate\":\"Country=MOROCCO<extra></extra>\",\"legendgroup\":\"MOROCCO\",\"marker\":{\"color\":\"#1F77B4\",\"symbol\":\"circle\"},\"mode\":\"lines\",\"name\":\"MOROCCO\",\"showlegend\":false,\"xaxis\":\"x\",\"yaxis\":\"y\",\"type\":\"scatter\"},{\"hovertemplate\":\"Country=MOZAMBIQUE<br>Average Temperature evolution=%{x}<br>Greenhouse Gases Emissions=%{y}<extra></extra>\",\"legendgroup\":\"MOZAMBIQUE\",\"marker\":{\"color\":\"#FF7F0E\",\"symbol\":\"circle\"},\"mode\":\"markers\",\"name\":\"MOZAMBIQUE\",\"orientation\":\"v\",\"showlegend\":true,\"x\":[0.1219166666666675],\"xaxis\":\"x\",\"y\":[2652509379.0],\"yaxis\":\"y\",\"type\":\"scatter\"},{\"hovertemplate\":\"Country=MOZAMBIQUE<extra></extra>\",\"legendgroup\":\"MOZAMBIQUE\",\"marker\":{\"color\":\"#FF7F0E\",\"symbol\":\"circle\"},\"mode\":\"lines\",\"name\":\"MOZAMBIQUE\",\"showlegend\":false,\"xaxis\":\"x\",\"yaxis\":\"y\",\"type\":\"scatter\"},{\"hovertemplate\":\"Country=MYANMAR<br>Average Temperature evolution=%{x}<br>Greenhouse Gases Emissions=%{y}<extra></extra>\",\"legendgroup\":\"MYANMAR\",\"marker\":{\"color\":\"#2CA02C\",\"symbol\":\"circle\"},\"mode\":\"markers\",\"name\":\"MYANMAR\",\"orientation\":\"v\",\"showlegend\":true,\"x\":[0.22533333333333488],\"xaxis\":\"x\",\"y\":[6688744202.0],\"yaxis\":\"y\",\"type\":\"scatter\"},{\"hovertemplate\":\"Country=MYANMAR<extra></extra>\",\"legendgroup\":\"MYANMAR\",\"marker\":{\"color\":\"#2CA02C\",\"symbol\":\"circle\"},\"mode\":\"lines\",\"name\":\"MYANMAR\",\"showlegend\":false,\"xaxis\":\"x\",\"yaxis\":\"y\",\"type\":\"scatter\"},{\"hovertemplate\":\"Country=NEPAL<br>Average Temperature evolution=%{x}<br>Greenhouse Gases Emissions=%{y}<extra></extra>\",\"legendgroup\":\"NEPAL\",\"marker\":{\"color\":\"#D62728\",\"symbol\":\"circle\"},\"mode\":\"markers\",\"name\":\"NEPAL\",\"orientation\":\"v\",\"showlegend\":true,\"x\":[0.4339999999999995],\"xaxis\":\"x\",\"y\":[376690599.0],\"yaxis\":\"y\",\"type\":\"scatter\"},{\"hovertemplate\":\"Country=NEPAL<extra></extra>\",\"legendgroup\":\"NEPAL\",\"marker\":{\"color\":\"#D62728\",\"symbol\":\"circle\"},\"mode\":\"lines\",\"name\":\"NEPAL\",\"showlegend\":false,\"xaxis\":\"x\",\"yaxis\":\"y\",\"type\":\"scatter\"},{\"hovertemplate\":\"Country=NETHERLANDS<br>Average Temperature evolution=%{x}<br>Greenhouse Gases Emissions=%{y}<extra></extra>\",\"legendgroup\":\"NETHERLANDS\",\"marker\":{\"color\":\"#9467BD\",\"symbol\":\"circle\"},\"mode\":\"markers\",\"name\":\"NETHERLANDS\",\"orientation\":\"v\",\"showlegend\":true,\"x\":[0.6192500000000012],\"xaxis\":\"x\",\"y\":[233850390606.0],\"yaxis\":\"y\",\"type\":\"scatter\"},{\"hovertemplate\":\"Country=NETHERLANDS<extra></extra>\",\"legendgroup\":\"NETHERLANDS\",\"marker\":{\"color\":\"#9467BD\",\"symbol\":\"circle\"},\"mode\":\"lines\",\"name\":\"NETHERLANDS\",\"showlegend\":false,\"xaxis\":\"x\",\"yaxis\":\"y\",\"type\":\"scatter\"},{\"hovertemplate\":\"Country=NEW CALEDONIA<br>Average Temperature evolution=%{x}<br>Greenhouse Gases Emissions=%{y}<extra></extra>\",\"legendgroup\":\"NEW CALEDONIA\",\"marker\":{\"color\":\"#8C564B\",\"symbol\":\"circle\"},\"mode\":\"markers\",\"name\":\"NEW CALEDONIA\",\"orientation\":\"v\",\"showlegend\":true,\"x\":[0.3516666666666666],\"xaxis\":\"x\",\"y\":[1645765265.0],\"yaxis\":\"y\",\"type\":\"scatter\"},{\"hovertemplate\":\"Country=NEW CALEDONIA<extra></extra>\",\"legendgroup\":\"NEW CALEDONIA\",\"marker\":{\"color\":\"#8C564B\",\"symbol\":\"circle\"},\"mode\":\"lines\",\"name\":\"NEW CALEDONIA\",\"showlegend\":false,\"xaxis\":\"x\",\"yaxis\":\"y\",\"type\":\"scatter\"},{\"hovertemplate\":\"Country=NEW ZEALAND<br>Average Temperature evolution=%{x}<br>Greenhouse Gases Emissions=%{y}<extra></extra>\",\"legendgroup\":\"NEW ZEALAND\",\"marker\":{\"color\":\"#E377C2\",\"symbol\":\"circle\"},\"mode\":\"markers\",\"name\":\"NEW ZEALAND\",\"orientation\":\"v\",\"showlegend\":true,\"x\":[0.650916666666667],\"xaxis\":\"x\",\"y\":[31349577768.0],\"yaxis\":\"y\",\"type\":\"scatter\"},{\"hovertemplate\":\"Country=NEW ZEALAND<extra></extra>\",\"legendgroup\":\"NEW ZEALAND\",\"marker\":{\"color\":\"#E377C2\",\"symbol\":\"circle\"},\"mode\":\"lines\",\"name\":\"NEW ZEALAND\",\"showlegend\":false,\"xaxis\":\"x\",\"yaxis\":\"y\",\"type\":\"scatter\"},{\"hovertemplate\":\"Country=NICARAGUA<br>Average Temperature evolution=%{x}<br>Greenhouse Gases Emissions=%{y}<extra></extra>\",\"legendgroup\":\"NICARAGUA\",\"marker\":{\"color\":\"#7F7F7F\",\"symbol\":\"circle\"},\"mode\":\"markers\",\"name\":\"NICARAGUA\",\"orientation\":\"v\",\"showlegend\":true,\"x\":[0.5964999999999989],\"xaxis\":\"x\",\"y\":[1494121469.0],\"yaxis\":\"y\",\"type\":\"scatter\"},{\"hovertemplate\":\"Country=NICARAGUA<extra></extra>\",\"legendgroup\":\"NICARAGUA\",\"marker\":{\"color\":\"#7F7F7F\",\"symbol\":\"circle\"},\"mode\":\"lines\",\"name\":\"NICARAGUA\",\"showlegend\":false,\"xaxis\":\"x\",\"yaxis\":\"y\",\"type\":\"scatter\"},{\"hovertemplate\":\"Country=NIGER<br>Average Temperature evolution=%{x}<br>Greenhouse Gases Emissions=%{y}<extra></extra>\",\"legendgroup\":\"NIGER\",\"marker\":{\"color\":\"#BCBD22\",\"symbol\":\"circle\"},\"mode\":\"markers\",\"name\":\"NIGER\",\"orientation\":\"v\",\"showlegend\":true,\"x\":[0.5090833333333362],\"xaxis\":\"x\",\"y\":[316854458.0],\"yaxis\":\"y\",\"type\":\"scatter\"},{\"hovertemplate\":\"Country=NIGER<extra></extra>\",\"legendgroup\":\"NIGER\",\"marker\":{\"color\":\"#BCBD22\",\"symbol\":\"circle\"},\"mode\":\"lines\",\"name\":\"NIGER\",\"showlegend\":false,\"xaxis\":\"x\",\"yaxis\":\"y\",\"type\":\"scatter\"},{\"hovertemplate\":\"Country=NIGERIA<br>Average Temperature evolution=%{x}<br>Greenhouse Gases Emissions=%{y}<extra></extra>\",\"legendgroup\":\"NIGERIA\",\"marker\":{\"color\":\"#17BECF\",\"symbol\":\"circle\"},\"mode\":\"markers\",\"name\":\"NIGERIA\",\"orientation\":\"v\",\"showlegend\":true,\"x\":[-0.0350000000000002],\"xaxis\":\"x\",\"y\":[31417093281.0],\"yaxis\":\"y\",\"type\":\"scatter\"},{\"hovertemplate\":\"Country=NIGERIA<extra></extra>\",\"legendgroup\":\"NIGERIA\",\"marker\":{\"color\":\"#17BECF\",\"symbol\":\"circle\"},\"mode\":\"lines\",\"name\":\"NIGERIA\",\"showlegend\":false,\"xaxis\":\"x\",\"yaxis\":\"y\",\"type\":\"scatter\"},{\"hovertemplate\":\"Country=NIUE<br>Average Temperature evolution=%{x}<br>Greenhouse Gases Emissions=%{y}<extra></extra>\",\"legendgroup\":\"NIUE\",\"marker\":{\"color\":\"#1F77B4\",\"symbol\":\"circle\"},\"mode\":\"markers\",\"name\":\"NIUE\",\"orientation\":\"v\",\"showlegend\":true,\"x\":[0.4654999999999986],\"xaxis\":\"x\",\"y\":[2059168.0],\"yaxis\":\"y\",\"type\":\"scatter\"},{\"hovertemplate\":\"Country=NIUE<extra></extra>\",\"legendgroup\":\"NIUE\",\"marker\":{\"color\":\"#1F77B4\",\"symbol\":\"circle\"},\"mode\":\"lines\",\"name\":\"NIUE\",\"showlegend\":false,\"xaxis\":\"x\",\"yaxis\":\"y\",\"type\":\"scatter\"},{\"hovertemplate\":\"Country=NORTHERN MARIANA ISLANDS<br>Average Temperature evolution=%{x}<br>Greenhouse Gases Emissions=%{y}<extra></extra>\",\"legendgroup\":\"NORTHERN MARIANA ISLANDS\",\"marker\":{\"color\":\"#FF7F0E\",\"symbol\":\"circle\"},\"mode\":\"markers\",\"name\":\"NORTHERN MARIANA ISLANDS\",\"orientation\":\"v\",\"showlegend\":true,\"x\":[0.5476666666666642],\"xaxis\":\"x\",\"y\":[0.0],\"yaxis\":\"y\",\"type\":\"scatter\"},{\"hovertemplate\":\"Country=NORTHERN MARIANA ISLANDS<extra></extra>\",\"legendgroup\":\"NORTHERN MARIANA ISLANDS\",\"marker\":{\"color\":\"#FF7F0E\",\"symbol\":\"circle\"},\"mode\":\"lines\",\"name\":\"NORTHERN MARIANA ISLANDS\",\"showlegend\":false,\"xaxis\":\"x\",\"yaxis\":\"y\",\"type\":\"scatter\"},{\"hovertemplate\":\"Country=NORWAY<br>Average Temperature evolution=%{x}<br>Greenhouse Gases Emissions=%{y}<extra></extra>\",\"legendgroup\":\"NORWAY\",\"marker\":{\"color\":\"#2CA02C\",\"symbol\":\"circle\"},\"mode\":\"markers\",\"name\":\"NORWAY\",\"orientation\":\"v\",\"showlegend\":true,\"x\":[0.5795833333333331],\"xaxis\":\"x\",\"y\":[49087775729.0],\"yaxis\":\"y\",\"type\":\"scatter\"},{\"hovertemplate\":\"Country=NORWAY<extra></extra>\",\"legendgroup\":\"NORWAY\",\"marker\":{\"color\":\"#2CA02C\",\"symbol\":\"circle\"},\"mode\":\"lines\",\"name\":\"NORWAY\",\"showlegend\":false,\"xaxis\":\"x\",\"yaxis\":\"y\",\"type\":\"scatter\"},{\"hovertemplate\":\"Country=OMAN<br>Average Temperature evolution=%{x}<br>Greenhouse Gases Emissions=%{y}<extra></extra>\",\"legendgroup\":\"OMAN\",\"marker\":{\"color\":\"#D62728\",\"symbol\":\"circle\"},\"mode\":\"markers\",\"name\":\"OMAN\",\"orientation\":\"v\",\"showlegend\":true,\"x\":[1.0814999999999988],\"xaxis\":\"x\",\"y\":[3428731247.0],\"yaxis\":\"y\",\"type\":\"scatter\"},{\"hovertemplate\":\"Country=OMAN<extra></extra>\",\"legendgroup\":\"OMAN\",\"marker\":{\"color\":\"#D62728\",\"symbol\":\"circle\"},\"mode\":\"lines\",\"name\":\"OMAN\",\"showlegend\":false,\"xaxis\":\"x\",\"yaxis\":\"y\",\"type\":\"scatter\"},{\"hovertemplate\":\"Country=PAKISTAN<br>Average Temperature evolution=%{x}<br>Greenhouse Gases Emissions=%{y}<extra></extra>\",\"legendgroup\":\"PAKISTAN\",\"marker\":{\"color\":\"#9467BD\",\"symbol\":\"circle\"},\"mode\":\"markers\",\"name\":\"PAKISTAN\",\"orientation\":\"v\",\"showlegend\":true,\"x\":[1.2865000000000009],\"xaxis\":\"x\",\"y\":[24570778283.0],\"yaxis\":\"y\",\"type\":\"scatter\"},{\"hovertemplate\":\"Country=PAKISTAN<extra></extra>\",\"legendgroup\":\"PAKISTAN\",\"marker\":{\"color\":\"#9467BD\",\"symbol\":\"circle\"},\"mode\":\"lines\",\"name\":\"PAKISTAN\",\"showlegend\":false,\"xaxis\":\"x\",\"yaxis\":\"y\",\"type\":\"scatter\"},{\"hovertemplate\":\"Country=PALAU<br>Average Temperature evolution=%{x}<br>Greenhouse Gases Emissions=%{y}<extra></extra>\",\"legendgroup\":\"PALAU\",\"marker\":{\"color\":\"#8C564B\",\"symbol\":\"circle\"},\"mode\":\"markers\",\"name\":\"PALAU\",\"orientation\":\"v\",\"showlegend\":true,\"x\":[0.4648333333333314],\"xaxis\":\"x\",\"y\":[110462272.0],\"yaxis\":\"y\",\"type\":\"scatter\"},{\"hovertemplate\":\"Country=PALAU<extra></extra>\",\"legendgroup\":\"PALAU\",\"marker\":{\"color\":\"#8C564B\",\"symbol\":\"circle\"},\"mode\":\"lines\",\"name\":\"PALAU\",\"showlegend\":false,\"xaxis\":\"x\",\"yaxis\":\"y\",\"type\":\"scatter\"},{\"hovertemplate\":\"Country=PALESTINE<br>Average Temperature evolution=%{x}<br>Greenhouse Gases Emissions=%{y}<extra></extra>\",\"legendgroup\":\"PALESTINE\",\"marker\":{\"color\":\"#E377C2\",\"symbol\":\"circle\"},\"mode\":\"markers\",\"name\":\"PALESTINE\",\"orientation\":\"v\",\"showlegend\":true,\"x\":[0.9117499999999972],\"xaxis\":\"x\",\"y\":[63885504.0],\"yaxis\":\"y\",\"type\":\"scatter\"},{\"hovertemplate\":\"Country=PALESTINE<extra></extra>\",\"legendgroup\":\"PALESTINE\",\"marker\":{\"color\":\"#E377C2\",\"symbol\":\"circle\"},\"mode\":\"lines\",\"name\":\"PALESTINE\",\"showlegend\":false,\"xaxis\":\"x\",\"yaxis\":\"y\",\"type\":\"scatter\"},{\"hovertemplate\":\"Country=PANAMA<br>Average Temperature evolution=%{x}<br>Greenhouse Gases Emissions=%{y}<extra></extra>\",\"legendgroup\":\"PANAMA\",\"marker\":{\"color\":\"#7F7F7F\",\"symbol\":\"circle\"},\"mode\":\"markers\",\"name\":\"PANAMA\",\"orientation\":\"v\",\"showlegend\":true,\"x\":[0.6132500000000005],\"xaxis\":\"x\",\"y\":[2419946736.0],\"yaxis\":\"y\",\"type\":\"scatter\"},{\"hovertemplate\":\"Country=PANAMA<extra></extra>\",\"legendgroup\":\"PANAMA\",\"marker\":{\"color\":\"#7F7F7F\",\"symbol\":\"circle\"},\"mode\":\"lines\",\"name\":\"PANAMA\",\"showlegend\":false,\"xaxis\":\"x\",\"yaxis\":\"y\",\"type\":\"scatter\"},{\"hovertemplate\":\"Country=PAPUA NEW GUINEA<br>Average Temperature evolution=%{x}<br>Greenhouse Gases Emissions=%{y}<extra></extra>\",\"legendgroup\":\"PAPUA NEW GUINEA\",\"marker\":{\"color\":\"#BCBD22\",\"symbol\":\"circle\"},\"mode\":\"markers\",\"name\":\"PAPUA NEW GUINEA\",\"orientation\":\"v\",\"showlegend\":true,\"x\":[0.2003333333333333],\"xaxis\":\"x\",\"y\":[1002682912.0],\"yaxis\":\"y\",\"type\":\"scatter\"},{\"hovertemplate\":\"Country=PAPUA NEW GUINEA<extra></extra>\",\"legendgroup\":\"PAPUA NEW GUINEA\",\"marker\":{\"color\":\"#BCBD22\",\"symbol\":\"circle\"},\"mode\":\"lines\",\"name\":\"PAPUA NEW GUINEA\",\"showlegend\":false,\"xaxis\":\"x\",\"yaxis\":\"y\",\"type\":\"scatter\"},{\"hovertemplate\":\"Country=PARAGUAY<br>Average Temperature evolution=%{x}<br>Greenhouse Gases Emissions=%{y}<extra></extra>\",\"legendgroup\":\"PARAGUAY\",\"marker\":{\"color\":\"#17BECF\",\"symbol\":\"circle\"},\"mode\":\"markers\",\"name\":\"PARAGUAY\",\"orientation\":\"v\",\"showlegend\":true,\"x\":[0.2961666666666717],\"xaxis\":\"x\",\"y\":[955241532.0],\"yaxis\":\"y\",\"type\":\"scatter\"},{\"hovertemplate\":\"Country=PARAGUAY<extra></extra>\",\"legendgroup\":\"PARAGUAY\",\"marker\":{\"color\":\"#17BECF\",\"symbol\":\"circle\"},\"mode\":\"lines\",\"name\":\"PARAGUAY\",\"showlegend\":false,\"xaxis\":\"x\",\"yaxis\":\"y\",\"type\":\"scatter\"},{\"hovertemplate\":\"Country=PERU<br>Average Temperature evolution=%{x}<br>Greenhouse Gases Emissions=%{y}<extra></extra>\",\"legendgroup\":\"PERU\",\"marker\":{\"color\":\"#1F77B4\",\"symbol\":\"circle\"},\"mode\":\"markers\",\"name\":\"PERU\",\"orientation\":\"v\",\"showlegend\":true,\"x\":[0.38049999999999795],\"xaxis\":\"x\",\"y\":[27358416734.0],\"yaxis\":\"y\",\"type\":\"scatter\"},{\"hovertemplate\":\"Country=PERU<extra></extra>\",\"legendgroup\":\"PERU\",\"marker\":{\"color\":\"#1F77B4\",\"symbol\":\"circle\"},\"mode\":\"lines\",\"name\":\"PERU\",\"showlegend\":false,\"xaxis\":\"x\",\"yaxis\":\"y\",\"type\":\"scatter\"},{\"hovertemplate\":\"Country=PHILIPPINES<br>Average Temperature evolution=%{x}<br>Greenhouse Gases Emissions=%{y}<extra></extra>\",\"legendgroup\":\"PHILIPPINES\",\"marker\":{\"color\":\"#FF7F0E\",\"symbol\":\"circle\"},\"mode\":\"markers\",\"name\":\"PHILIPPINES\",\"orientation\":\"v\",\"showlegend\":true,\"x\":[0.456583333333331],\"xaxis\":\"x\",\"y\":[25224501113.0],\"yaxis\":\"y\",\"type\":\"scatter\"},{\"hovertemplate\":\"Country=PHILIPPINES<extra></extra>\",\"legendgroup\":\"PHILIPPINES\",\"marker\":{\"color\":\"#FF7F0E\",\"symbol\":\"circle\"},\"mode\":\"lines\",\"name\":\"PHILIPPINES\",\"showlegend\":false,\"xaxis\":\"x\",\"yaxis\":\"y\",\"type\":\"scatter\"},{\"hovertemplate\":\"Country=POLAND<br>Average Temperature evolution=%{x}<br>Greenhouse Gases Emissions=%{y}<extra></extra>\",\"legendgroup\":\"POLAND\",\"marker\":{\"color\":\"#2CA02C\",\"symbol\":\"circle\"},\"mode\":\"markers\",\"name\":\"POLAND\",\"orientation\":\"v\",\"showlegend\":true,\"x\":[1.0158333333333345],\"xaxis\":\"x\",\"y\":[628205834654.0],\"yaxis\":\"y\",\"type\":\"scatter\"},{\"hovertemplate\":\"Country=POLAND<extra></extra>\",\"legendgroup\":\"POLAND\",\"marker\":{\"color\":\"#2CA02C\",\"symbol\":\"circle\"},\"mode\":\"lines\",\"name\":\"POLAND\",\"showlegend\":false,\"xaxis\":\"x\",\"yaxis\":\"y\",\"type\":\"scatter\"},{\"hovertemplate\":\"Country=PORTUGAL<br>Average Temperature evolution=%{x}<br>Greenhouse Gases Emissions=%{y}<extra></extra>\",\"legendgroup\":\"PORTUGAL\",\"marker\":{\"color\":\"#D62728\",\"symbol\":\"circle\"},\"mode\":\"markers\",\"name\":\"PORTUGAL\",\"orientation\":\"v\",\"showlegend\":true,\"x\":[-0.36566666666666786],\"xaxis\":\"x\",\"y\":[31071820488.0],\"yaxis\":\"y\",\"type\":\"scatter\"},{\"hovertemplate\":\"Country=PORTUGAL<extra></extra>\",\"legendgroup\":\"PORTUGAL\",\"marker\":{\"color\":\"#D62728\",\"symbol\":\"circle\"},\"mode\":\"lines\",\"name\":\"PORTUGAL\",\"showlegend\":false,\"xaxis\":\"x\",\"yaxis\":\"y\",\"type\":\"scatter\"},{\"hovertemplate\":\"Country=PUERTO RICO<br>Average Temperature evolution=%{x}<br>Greenhouse Gases Emissions=%{y}<extra></extra>\",\"legendgroup\":\"PUERTO RICO\",\"marker\":{\"color\":\"#9467BD\",\"symbol\":\"circle\"},\"mode\":\"markers\",\"name\":\"PUERTO RICO\",\"orientation\":\"v\",\"showlegend\":true,\"x\":[0.4984166666666673],\"xaxis\":\"x\",\"y\":[0.0],\"yaxis\":\"y\",\"type\":\"scatter\"},{\"hovertemplate\":\"Country=PUERTO RICO<extra></extra>\",\"legendgroup\":\"PUERTO RICO\",\"marker\":{\"color\":\"#9467BD\",\"symbol\":\"circle\"},\"mode\":\"lines\",\"name\":\"PUERTO RICO\",\"showlegend\":false,\"xaxis\":\"x\",\"yaxis\":\"y\",\"type\":\"scatter\"},{\"hovertemplate\":\"Country=QATAR<br>Average Temperature evolution=%{x}<br>Greenhouse Gases Emissions=%{y}<extra></extra>\",\"legendgroup\":\"QATAR\",\"marker\":{\"color\":\"#8C564B\",\"symbol\":\"circle\"},\"mode\":\"markers\",\"name\":\"QATAR\",\"orientation\":\"v\",\"showlegend\":true,\"x\":[1.5969999999999978],\"xaxis\":\"x\",\"y\":[8349834565.0],\"yaxis\":\"y\",\"type\":\"scatter\"},{\"hovertemplate\":\"Country=QATAR<extra></extra>\",\"legendgroup\":\"QATAR\",\"marker\":{\"color\":\"#8C564B\",\"symbol\":\"circle\"},\"mode\":\"lines\",\"name\":\"QATAR\",\"showlegend\":false,\"xaxis\":\"x\",\"yaxis\":\"y\",\"type\":\"scatter\"},{\"hovertemplate\":\"Country=REPUBLIC OF CONGO<br>Average Temperature evolution=%{x}<br>Greenhouse Gases Emissions=%{y}<extra></extra>\",\"legendgroup\":\"REPUBLIC OF CONGO\",\"marker\":{\"color\":\"#E377C2\",\"symbol\":\"circle\"},\"mode\":\"markers\",\"name\":\"REPUBLIC OF CONGO\",\"orientation\":\"v\",\"showlegend\":true,\"x\":[-0.19366666666666174],\"xaxis\":\"x\",\"y\":[606449419.0],\"yaxis\":\"y\",\"type\":\"scatter\"},{\"hovertemplate\":\"Country=REPUBLIC OF CONGO<extra></extra>\",\"legendgroup\":\"REPUBLIC OF CONGO\",\"marker\":{\"color\":\"#E377C2\",\"symbol\":\"circle\"},\"mode\":\"lines\",\"name\":\"REPUBLIC OF CONGO\",\"showlegend\":false,\"xaxis\":\"x\",\"yaxis\":\"y\",\"type\":\"scatter\"},{\"hovertemplate\":\"Country=REPUBLIC OF KOREA<br>Average Temperature evolution=%{x}<br>Greenhouse Gases Emissions=%{y}<extra></extra>\",\"legendgroup\":\"REPUBLIC OF KOREA\",\"marker\":{\"color\":\"#7F7F7F\",\"symbol\":\"circle\"},\"mode\":\"markers\",\"name\":\"REPUBLIC OF KOREA\",\"orientation\":\"v\",\"showlegend\":true,\"x\":[0.5174999999999996],\"xaxis\":\"x\",\"y\":[82943136277.0],\"yaxis\":\"y\",\"type\":\"scatter\"},{\"hovertemplate\":\"Country=REPUBLIC OF KOREA<extra></extra>\",\"legendgroup\":\"REPUBLIC OF KOREA\",\"marker\":{\"color\":\"#7F7F7F\",\"symbol\":\"circle\"},\"mode\":\"lines\",\"name\":\"REPUBLIC OF KOREA\",\"showlegend\":false,\"xaxis\":\"x\",\"yaxis\":\"y\",\"type\":\"scatter\"},{\"hovertemplate\":\"Country=ROMANIA<br>Average Temperature evolution=%{x}<br>Greenhouse Gases Emissions=%{y}<extra></extra>\",\"legendgroup\":\"ROMANIA\",\"marker\":{\"color\":\"#BCBD22\",\"symbol\":\"circle\"},\"mode\":\"markers\",\"name\":\"ROMANIA\",\"orientation\":\"v\",\"showlegend\":true,\"x\":[1.4840833333333339],\"xaxis\":\"x\",\"y\":[162663288592.0],\"yaxis\":\"y\",\"type\":\"scatter\"},{\"hovertemplate\":\"Country=ROMANIA<extra></extra>\",\"legendgroup\":\"ROMANIA\",\"marker\":{\"color\":\"#BCBD22\",\"symbol\":\"circle\"},\"mode\":\"lines\",\"name\":\"ROMANIA\",\"showlegend\":false,\"xaxis\":\"x\",\"yaxis\":\"y\",\"type\":\"scatter\"},{\"hovertemplate\":\"Country=RUSSIAN FEDERATION<br>Average Temperature evolution=%{x}<br>Greenhouse Gases Emissions=%{y}<extra></extra>\",\"legendgroup\":\"RUSSIAN FEDERATION\",\"marker\":{\"color\":\"#17BECF\",\"symbol\":\"circle\"},\"mode\":\"markers\",\"name\":\"RUSSIAN FEDERATION\",\"orientation\":\"v\",\"showlegend\":true,\"x\":[0.382083333333333],\"xaxis\":\"x\",\"y\":[1415979765750.0],\"yaxis\":\"y\",\"type\":\"scatter\"},{\"hovertemplate\":\"Country=RUSSIAN FEDERATION<extra></extra>\",\"legendgroup\":\"RUSSIAN FEDERATION\",\"marker\":{\"color\":\"#17BECF\",\"symbol\":\"circle\"},\"mode\":\"lines\",\"name\":\"RUSSIAN FEDERATION\",\"showlegend\":false,\"xaxis\":\"x\",\"yaxis\":\"y\",\"type\":\"scatter\"},{\"hovertemplate\":\"Country=RWANDA<br>Average Temperature evolution=%{x}<br>Greenhouse Gases Emissions=%{y}<extra></extra>\",\"legendgroup\":\"RWANDA\",\"marker\":{\"color\":\"#1F77B4\",\"symbol\":\"circle\"},\"mode\":\"markers\",\"name\":\"RWANDA\",\"orientation\":\"v\",\"showlegend\":true,\"x\":[0.10483333333333206],\"xaxis\":\"x\",\"y\":[200404026.0],\"yaxis\":\"y\",\"type\":\"scatter\"},{\"hovertemplate\":\"Country=RWANDA<extra></extra>\",\"legendgroup\":\"RWANDA\",\"marker\":{\"color\":\"#1F77B4\",\"symbol\":\"circle\"},\"mode\":\"lines\",\"name\":\"RWANDA\",\"showlegend\":false,\"xaxis\":\"x\",\"yaxis\":\"y\",\"type\":\"scatter\"},{\"hovertemplate\":\"Country=SAINT KITTS AND NEVIS<br>Average Temperature evolution=%{x}<br>Greenhouse Gases Emissions=%{y}<extra></extra>\",\"legendgroup\":\"SAINT KITTS AND NEVIS\",\"marker\":{\"color\":\"#FF7F0E\",\"symbol\":\"circle\"},\"mode\":\"markers\",\"name\":\"SAINT KITTS AND NEVIS\",\"orientation\":\"v\",\"showlegend\":true,\"x\":[0.6330833333333313],\"xaxis\":\"x\",\"y\":[16187552.0],\"yaxis\":\"y\",\"type\":\"scatter\"},{\"hovertemplate\":\"Country=SAINT KITTS AND NEVIS<extra></extra>\",\"legendgroup\":\"SAINT KITTS AND NEVIS\",\"marker\":{\"color\":\"#FF7F0E\",\"symbol\":\"circle\"},\"mode\":\"lines\",\"name\":\"SAINT KITTS AND NEVIS\",\"showlegend\":false,\"xaxis\":\"x\",\"yaxis\":\"y\",\"type\":\"scatter\"},{\"hovertemplate\":\"Country=SAINT LUCIA<br>Average Temperature evolution=%{x}<br>Greenhouse Gases Emissions=%{y}<extra></extra>\",\"legendgroup\":\"SAINT LUCIA\",\"marker\":{\"color\":\"#2CA02C\",\"symbol\":\"circle\"},\"mode\":\"markers\",\"name\":\"SAINT LUCIA\",\"orientation\":\"v\",\"showlegend\":true,\"x\":[0.5617500000000034],\"xaxis\":\"x\",\"y\":[72246752.0],\"yaxis\":\"y\",\"type\":\"scatter\"},{\"hovertemplate\":\"Country=SAINT LUCIA<extra></extra>\",\"legendgroup\":\"SAINT LUCIA\",\"marker\":{\"color\":\"#2CA02C\",\"symbol\":\"circle\"},\"mode\":\"lines\",\"name\":\"SAINT LUCIA\",\"showlegend\":false,\"xaxis\":\"x\",\"yaxis\":\"y\",\"type\":\"scatter\"},{\"hovertemplate\":\"Country=SAINT PIERRE AND MIQUELON<br>Average Temperature evolution=%{x}<br>Greenhouse Gases Emissions=%{y}<extra></extra>\",\"legendgroup\":\"SAINT PIERRE AND MIQUELON\",\"marker\":{\"color\":\"#D62728\",\"symbol\":\"circle\"},\"mode\":\"markers\",\"name\":\"SAINT PIERRE AND MIQUELON\",\"orientation\":\"v\",\"showlegend\":true,\"x\":[1.034583333333332],\"xaxis\":\"x\",\"y\":[53695920.0],\"yaxis\":\"y\",\"type\":\"scatter\"},{\"hovertemplate\":\"Country=SAINT PIERRE AND MIQUELON<extra></extra>\",\"legendgroup\":\"SAINT PIERRE AND MIQUELON\",\"marker\":{\"color\":\"#D62728\",\"symbol\":\"circle\"},\"mode\":\"lines\",\"name\":\"SAINT PIERRE AND MIQUELON\",\"showlegend\":false,\"xaxis\":\"x\",\"yaxis\":\"y\",\"type\":\"scatter\"},{\"hovertemplate\":\"Country=SAINT VINCENT AND THE GRENADINES<br>Average Temperature evolution=%{x}<br>Greenhouse Gases Emissions=%{y}<extra></extra>\",\"legendgroup\":\"SAINT VINCENT AND THE GRENADINES\",\"marker\":{\"color\":\"#9467BD\",\"symbol\":\"circle\"},\"mode\":\"markers\",\"name\":\"SAINT VINCENT AND THE GRENADINES\",\"orientation\":\"v\",\"showlegend\":true,\"x\":[0.5476666666666679],\"xaxis\":\"x\",\"y\":[34514880.0],\"yaxis\":\"y\",\"type\":\"scatter\"},{\"hovertemplate\":\"Country=SAINT VINCENT AND THE GRENADINES<extra></extra>\",\"legendgroup\":\"SAINT VINCENT AND THE GRENADINES\",\"marker\":{\"color\":\"#9467BD\",\"symbol\":\"circle\"},\"mode\":\"lines\",\"name\":\"SAINT VINCENT AND THE GRENADINES\",\"showlegend\":false,\"xaxis\":\"x\",\"yaxis\":\"y\",\"type\":\"scatter\"},{\"hovertemplate\":\"Country=SAMOA<br>Average Temperature evolution=%{x}<br>Greenhouse Gases Emissions=%{y}<extra></extra>\",\"legendgroup\":\"SAMOA\",\"marker\":{\"color\":\"#8C564B\",\"symbol\":\"circle\"},\"mode\":\"markers\",\"name\":\"SAMOA\",\"orientation\":\"v\",\"showlegend\":true,\"x\":[0.26966666666666583],\"xaxis\":\"x\",\"y\":[52875184.0],\"yaxis\":\"y\",\"type\":\"scatter\"},{\"hovertemplate\":\"Country=SAMOA<extra></extra>\",\"legendgroup\":\"SAMOA\",\"marker\":{\"color\":\"#8C564B\",\"symbol\":\"circle\"},\"mode\":\"lines\",\"name\":\"SAMOA\",\"showlegend\":false,\"xaxis\":\"x\",\"yaxis\":\"y\",\"type\":\"scatter\"},{\"hovertemplate\":\"Country=SAN MARINO<br>Average Temperature evolution=%{x}<br>Greenhouse Gases Emissions=%{y}<extra></extra>\",\"legendgroup\":\"SAN MARINO\",\"marker\":{\"color\":\"#E377C2\",\"symbol\":\"circle\"},\"mode\":\"markers\",\"name\":\"SAN MARINO\",\"orientation\":\"v\",\"showlegend\":true,\"x\":[1.0814166666666658],\"xaxis\":\"x\",\"y\":[0.0],\"yaxis\":\"y\",\"type\":\"scatter\"},{\"hovertemplate\":\"Country=SAN MARINO<extra></extra>\",\"legendgroup\":\"SAN MARINO\",\"marker\":{\"color\":\"#E377C2\",\"symbol\":\"circle\"},\"mode\":\"lines\",\"name\":\"SAN MARINO\",\"showlegend\":false,\"xaxis\":\"x\",\"yaxis\":\"y\",\"type\":\"scatter\"},{\"hovertemplate\":\"Country=SAO TOME AND PRINCIPE<br>Average Temperature evolution=%{x}<br>Greenhouse Gases Emissions=%{y}<extra></extra>\",\"legendgroup\":\"SAO TOME AND PRINCIPE\",\"marker\":{\"color\":\"#7F7F7F\",\"symbol\":\"circle\"},\"mode\":\"markers\",\"name\":\"SAO TOME AND PRINCIPE\",\"orientation\":\"v\",\"showlegend\":true,\"x\":[-0.19274999999999684],\"xaxis\":\"x\",\"y\":[23024576.0],\"yaxis\":\"y\",\"type\":\"scatter\"},{\"hovertemplate\":\"Country=SAO TOME AND PRINCIPE<extra></extra>\",\"legendgroup\":\"SAO TOME AND PRINCIPE\",\"marker\":{\"color\":\"#7F7F7F\",\"symbol\":\"circle\"},\"mode\":\"lines\",\"name\":\"SAO TOME AND PRINCIPE\",\"showlegend\":false,\"xaxis\":\"x\",\"yaxis\":\"y\",\"type\":\"scatter\"},{\"hovertemplate\":\"Country=SAUDI ARABIA<br>Average Temperature evolution=%{x}<br>Greenhouse Gases Emissions=%{y}<extra></extra>\",\"legendgroup\":\"SAUDI ARABIA\",\"marker\":{\"color\":\"#BCBD22\",\"symbol\":\"circle\"},\"mode\":\"markers\",\"name\":\"SAUDI ARABIA\",\"orientation\":\"v\",\"showlegend\":true,\"x\":[1.5474166666666667],\"xaxis\":\"x\",\"y\":[81137571609.0],\"yaxis\":\"y\",\"type\":\"scatter\"},{\"hovertemplate\":\"Country=SAUDI ARABIA<extra></extra>\",\"legendgroup\":\"SAUDI ARABIA\",\"marker\":{\"color\":\"#BCBD22\",\"symbol\":\"circle\"},\"mode\":\"lines\",\"name\":\"SAUDI ARABIA\",\"showlegend\":false,\"xaxis\":\"x\",\"yaxis\":\"y\",\"type\":\"scatter\"},{\"hovertemplate\":\"Country=SENEGAL<br>Average Temperature evolution=%{x}<br>Greenhouse Gases Emissions=%{y}<extra></extra>\",\"legendgroup\":\"SENEGAL\",\"marker\":{\"color\":\"#17BECF\",\"symbol\":\"circle\"},\"mode\":\"markers\",\"name\":\"SENEGAL\",\"orientation\":\"v\",\"showlegend\":true,\"x\":[0.4518333333333295],\"xaxis\":\"x\",\"y\":[1577765408.0],\"yaxis\":\"y\",\"type\":\"scatter\"},{\"hovertemplate\":\"Country=SENEGAL<extra></extra>\",\"legendgroup\":\"SENEGAL\",\"marker\":{\"color\":\"#17BECF\",\"symbol\":\"circle\"},\"mode\":\"lines\",\"name\":\"SENEGAL\",\"showlegend\":false,\"xaxis\":\"x\",\"yaxis\":\"y\",\"type\":\"scatter\"},{\"hovertemplate\":\"Country=SERBIA<br>Average Temperature evolution=%{x}<br>Greenhouse Gases Emissions=%{y}<extra></extra>\",\"legendgroup\":\"SERBIA\",\"marker\":{\"color\":\"#1F77B4\",\"symbol\":\"circle\"},\"mode\":\"markers\",\"name\":\"SERBIA\",\"orientation\":\"v\",\"showlegend\":true,\"x\":[1.6924999999999986],\"xaxis\":\"x\",\"y\":[29020903804.0],\"yaxis\":\"y\",\"type\":\"scatter\"},{\"hovertemplate\":\"Country=SERBIA<extra></extra>\",\"legendgroup\":\"SERBIA\",\"marker\":{\"color\":\"#1F77B4\",\"symbol\":\"circle\"},\"mode\":\"lines\",\"name\":\"SERBIA\",\"showlegend\":false,\"xaxis\":\"x\",\"yaxis\":\"y\",\"type\":\"scatter\"},{\"hovertemplate\":\"Country=SEYCHELLES<br>Average Temperature evolution=%{x}<br>Greenhouse Gases Emissions=%{y}<extra></extra>\",\"legendgroup\":\"SEYCHELLES\",\"marker\":{\"color\":\"#FF7F0E\",\"symbol\":\"circle\"},\"mode\":\"markers\",\"name\":\"SEYCHELLES\",\"orientation\":\"v\",\"showlegend\":true,\"x\":[0.42991666666666334],\"xaxis\":\"x\",\"y\":[54315136.0],\"yaxis\":\"y\",\"type\":\"scatter\"},{\"hovertemplate\":\"Country=SEYCHELLES<extra></extra>\",\"legendgroup\":\"SEYCHELLES\",\"marker\":{\"color\":\"#FF7F0E\",\"symbol\":\"circle\"},\"mode\":\"lines\",\"name\":\"SEYCHELLES\",\"showlegend\":false,\"xaxis\":\"x\",\"yaxis\":\"y\",\"type\":\"scatter\"},{\"hovertemplate\":\"Country=SIERRA LEONE<br>Average Temperature evolution=%{x}<br>Greenhouse Gases Emissions=%{y}<extra></extra>\",\"legendgroup\":\"SIERRA LEONE\",\"marker\":{\"color\":\"#2CA02C\",\"symbol\":\"circle\"},\"mode\":\"markers\",\"name\":\"SIERRA LEONE\",\"orientation\":\"v\",\"showlegend\":true,\"x\":[0.4414166666666654],\"xaxis\":\"x\",\"y\":[538164656.0],\"yaxis\":\"y\",\"type\":\"scatter\"},{\"hovertemplate\":\"Country=SIERRA LEONE<extra></extra>\",\"legendgroup\":\"SIERRA LEONE\",\"marker\":{\"color\":\"#2CA02C\",\"symbol\":\"circle\"},\"mode\":\"lines\",\"name\":\"SIERRA LEONE\",\"showlegend\":false,\"xaxis\":\"x\",\"yaxis\":\"y\",\"type\":\"scatter\"},{\"hovertemplate\":\"Country=SINGAPORE<br>Average Temperature evolution=%{x}<br>Greenhouse Gases Emissions=%{y}<extra></extra>\",\"legendgroup\":\"SINGAPORE\",\"marker\":{\"color\":\"#D62728\",\"symbol\":\"circle\"},\"mode\":\"markers\",\"name\":\"SINGAPORE\",\"orientation\":\"v\",\"showlegend\":true,\"x\":[0.35691666666667027],\"xaxis\":\"x\",\"y\":[16553406994.0],\"yaxis\":\"y\",\"type\":\"scatter\"},{\"hovertemplate\":\"Country=SINGAPORE<extra></extra>\",\"legendgroup\":\"SINGAPORE\",\"marker\":{\"color\":\"#D62728\",\"symbol\":\"circle\"},\"mode\":\"lines\",\"name\":\"SINGAPORE\",\"showlegend\":false,\"xaxis\":\"x\",\"yaxis\":\"y\",\"type\":\"scatter\"},{\"hovertemplate\":\"Country=SLOVAKIA<br>Average Temperature evolution=%{x}<br>Greenhouse Gases Emissions=%{y}<extra></extra>\",\"legendgroup\":\"SLOVAKIA\",\"marker\":{\"color\":\"#9467BD\",\"symbol\":\"circle\"},\"mode\":\"markers\",\"name\":\"SLOVAKIA\",\"orientation\":\"v\",\"showlegend\":true,\"x\":[1.2280833333333327],\"xaxis\":\"x\",\"y\":[42556606401.0],\"yaxis\":\"y\",\"type\":\"scatter\"},{\"hovertemplate\":\"Country=SLOVAKIA<extra></extra>\",\"legendgroup\":\"SLOVAKIA\",\"marker\":{\"color\":\"#9467BD\",\"symbol\":\"circle\"},\"mode\":\"lines\",\"name\":\"SLOVAKIA\",\"showlegend\":false,\"xaxis\":\"x\",\"yaxis\":\"y\",\"type\":\"scatter\"},{\"hovertemplate\":\"Country=SLOVENIA<br>Average Temperature evolution=%{x}<br>Greenhouse Gases Emissions=%{y}<extra></extra>\",\"legendgroup\":\"SLOVENIA\",\"marker\":{\"color\":\"#8C564B\",\"symbol\":\"circle\"},\"mode\":\"markers\",\"name\":\"SLOVENIA\",\"orientation\":\"v\",\"showlegend\":true,\"x\":[1.3048333333333324],\"xaxis\":\"x\",\"y\":[8453121825.0],\"yaxis\":\"y\",\"type\":\"scatter\"},{\"hovertemplate\":\"Country=SLOVENIA<extra></extra>\",\"legendgroup\":\"SLOVENIA\",\"marker\":{\"color\":\"#8C564B\",\"symbol\":\"circle\"},\"mode\":\"lines\",\"name\":\"SLOVENIA\",\"showlegend\":false,\"xaxis\":\"x\",\"yaxis\":\"y\",\"type\":\"scatter\"},{\"hovertemplate\":\"Country=SOLOMON ISLANDS<br>Average Temperature evolution=%{x}<br>Greenhouse Gases Emissions=%{y}<extra></extra>\",\"legendgroup\":\"SOLOMON ISLANDS\",\"marker\":{\"color\":\"#E377C2\",\"symbol\":\"circle\"},\"mode\":\"markers\",\"name\":\"SOLOMON ISLANDS\",\"orientation\":\"v\",\"showlegend\":true,\"x\":[0.7314166666666712],\"xaxis\":\"x\",\"y\":[60499968.0],\"yaxis\":\"y\",\"type\":\"scatter\"},{\"hovertemplate\":\"Country=SOLOMON ISLANDS<extra></extra>\",\"legendgroup\":\"SOLOMON ISLANDS\",\"marker\":{\"color\":\"#E377C2\",\"symbol\":\"circle\"},\"mode\":\"lines\",\"name\":\"SOLOMON ISLANDS\",\"showlegend\":false,\"xaxis\":\"x\",\"yaxis\":\"y\",\"type\":\"scatter\"},{\"hovertemplate\":\"Country=SOMALIA<br>Average Temperature evolution=%{x}<br>Greenhouse Gases Emissions=%{y}<extra></extra>\",\"legendgroup\":\"SOMALIA\",\"marker\":{\"color\":\"#7F7F7F\",\"symbol\":\"circle\"},\"mode\":\"markers\",\"name\":\"SOMALIA\",\"orientation\":\"v\",\"showlegend\":true,\"x\":[0.7276666666666677],\"xaxis\":\"x\",\"y\":[352507758.0],\"yaxis\":\"y\",\"type\":\"scatter\"},{\"hovertemplate\":\"Country=SOMALIA<extra></extra>\",\"legendgroup\":\"SOMALIA\",\"marker\":{\"color\":\"#7F7F7F\",\"symbol\":\"circle\"},\"mode\":\"lines\",\"name\":\"SOMALIA\",\"showlegend\":false,\"xaxis\":\"x\",\"yaxis\":\"y\",\"type\":\"scatter\"},{\"hovertemplate\":\"Country=SOUTH AFRICA<br>Average Temperature evolution=%{x}<br>Greenhouse Gases Emissions=%{y}<extra></extra>\",\"legendgroup\":\"SOUTH AFRICA\",\"marker\":{\"color\":\"#BCBD22\",\"symbol\":\"circle\"},\"mode\":\"markers\",\"name\":\"SOUTH AFRICA\",\"orientation\":\"v\",\"showlegend\":true,\"x\":[-0.08141666666666192],\"xaxis\":\"x\",\"y\":[272546282418.0],\"yaxis\":\"y\",\"type\":\"scatter\"},{\"hovertemplate\":\"Country=SOUTH AFRICA<extra></extra>\",\"legendgroup\":\"SOUTH AFRICA\",\"marker\":{\"color\":\"#BCBD22\",\"symbol\":\"circle\"},\"mode\":\"lines\",\"name\":\"SOUTH AFRICA\",\"showlegend\":false,\"xaxis\":\"x\",\"yaxis\":\"y\",\"type\":\"scatter\"},{\"hovertemplate\":\"Country=SOUTH GEORGIA AND THE SOUTH SANDWICH ISLANDS<br>Average Temperature evolution=%{x}<br>Greenhouse Gases Emissions=%{y}<extra></extra>\",\"legendgroup\":\"SOUTH GEORGIA AND THE SOUTH SANDWICH ISLANDS\",\"marker\":{\"color\":\"#17BECF\",\"symbol\":\"circle\"},\"mode\":\"markers\",\"name\":\"SOUTH GEORGIA AND THE SOUTH SANDWICH ISLANDS\",\"orientation\":\"v\",\"showlegend\":true,\"x\":[0.70275],\"xaxis\":\"x\",\"y\":[0.0],\"yaxis\":\"y\",\"type\":\"scatter\"},{\"hovertemplate\":\"Country=SOUTH GEORGIA AND THE SOUTH SANDWICH ISLANDS<extra></extra>\",\"legendgroup\":\"SOUTH GEORGIA AND THE SOUTH SANDWICH ISLANDS\",\"marker\":{\"color\":\"#17BECF\",\"symbol\":\"circle\"},\"mode\":\"lines\",\"name\":\"SOUTH GEORGIA AND THE SOUTH SANDWICH ISLANDS\",\"showlegend\":false,\"xaxis\":\"x\",\"yaxis\":\"y\",\"type\":\"scatter\"},{\"hovertemplate\":\"Country=SPAIN<br>Average Temperature evolution=%{x}<br>Greenhouse Gases Emissions=%{y}<extra></extra>\",\"legendgroup\":\"SPAIN\",\"marker\":{\"color\":\"#1F77B4\",\"symbol\":\"circle\"},\"mode\":\"markers\",\"name\":\"SPAIN\",\"orientation\":\"v\",\"showlegend\":true,\"x\":[-0.04133333333333422],\"xaxis\":\"x\",\"y\":[197132913987.0],\"yaxis\":\"y\",\"type\":\"scatter\"},{\"hovertemplate\":\"Country=SPAIN<extra></extra>\",\"legendgroup\":\"SPAIN\",\"marker\":{\"color\":\"#1F77B4\",\"symbol\":\"circle\"},\"mode\":\"lines\",\"name\":\"SPAIN\",\"showlegend\":false,\"xaxis\":\"x\",\"yaxis\":\"y\",\"type\":\"scatter\"},{\"hovertemplate\":\"Country=SRI LANKA<br>Average Temperature evolution=%{x}<br>Greenhouse Gases Emissions=%{y}<extra></extra>\",\"legendgroup\":\"SRI LANKA\",\"marker\":{\"color\":\"#FF7F0E\",\"symbol\":\"circle\"},\"mode\":\"markers\",\"name\":\"SRI LANKA\",\"orientation\":\"v\",\"showlegend\":true,\"x\":[0.46008333333333673],\"xaxis\":\"x\",\"y\":[3727251672.0],\"yaxis\":\"y\",\"type\":\"scatter\"},{\"hovertemplate\":\"Country=SRI LANKA<extra></extra>\",\"legendgroup\":\"SRI LANKA\",\"marker\":{\"color\":\"#FF7F0E\",\"symbol\":\"circle\"},\"mode\":\"lines\",\"name\":\"SRI LANKA\",\"showlegend\":false,\"xaxis\":\"x\",\"yaxis\":\"y\",\"type\":\"scatter\"},{\"hovertemplate\":\"Country=SUDAN<br>Average Temperature evolution=%{x}<br>Greenhouse Gases Emissions=%{y}<extra></extra>\",\"legendgroup\":\"SUDAN\",\"marker\":{\"color\":\"#2CA02C\",\"symbol\":\"circle\"},\"mode\":\"markers\",\"name\":\"SUDAN\",\"orientation\":\"v\",\"showlegend\":true,\"x\":[0.6981666666666653],\"xaxis\":\"x\",\"y\":[3401459744.0],\"yaxis\":\"y\",\"type\":\"scatter\"},{\"hovertemplate\":\"Country=SUDAN<extra></extra>\",\"legendgroup\":\"SUDAN\",\"marker\":{\"color\":\"#2CA02C\",\"symbol\":\"circle\"},\"mode\":\"lines\",\"name\":\"SUDAN\",\"showlegend\":false,\"xaxis\":\"x\",\"yaxis\":\"y\",\"type\":\"scatter\"},{\"hovertemplate\":\"Country=SURINAME<br>Average Temperature evolution=%{x}<br>Greenhouse Gases Emissions=%{y}<extra></extra>\",\"legendgroup\":\"SURINAME\",\"marker\":{\"color\":\"#D62728\",\"symbol\":\"circle\"},\"mode\":\"markers\",\"name\":\"SURINAME\",\"orientation\":\"v\",\"showlegend\":true,\"x\":[0.5871666666666648],\"xaxis\":\"x\",\"y\":[1387767433.0],\"yaxis\":\"y\",\"type\":\"scatter\"},{\"hovertemplate\":\"Country=SURINAME<extra></extra>\",\"legendgroup\":\"SURINAME\",\"marker\":{\"color\":\"#D62728\",\"symbol\":\"circle\"},\"mode\":\"lines\",\"name\":\"SURINAME\",\"showlegend\":false,\"xaxis\":\"x\",\"yaxis\":\"y\",\"type\":\"scatter\"},{\"hovertemplate\":\"Country=SVALBARD AND JAN MAYEN<br>Average Temperature evolution=%{x}<br>Greenhouse Gases Emissions=%{y}<extra></extra>\",\"legendgroup\":\"SVALBARD AND JAN MAYEN\",\"marker\":{\"color\":\"#9467BD\",\"symbol\":\"circle\"},\"mode\":\"markers\",\"name\":\"SVALBARD AND JAN MAYEN\",\"orientation\":\"v\",\"showlegend\":true,\"x\":[1.3470833333333323],\"xaxis\":\"x\",\"y\":[0.0],\"yaxis\":\"y\",\"type\":\"scatter\"},{\"hovertemplate\":\"Country=SVALBARD AND JAN MAYEN<extra></extra>\",\"legendgroup\":\"SVALBARD AND JAN MAYEN\",\"marker\":{\"color\":\"#9467BD\",\"symbol\":\"circle\"},\"mode\":\"lines\",\"name\":\"SVALBARD AND JAN MAYEN\",\"showlegend\":false,\"xaxis\":\"x\",\"yaxis\":\"y\",\"type\":\"scatter\"},{\"hovertemplate\":\"Country=SWAZILAND<br>Average Temperature evolution=%{x}<br>Greenhouse Gases Emissions=%{y}<extra></extra>\",\"legendgroup\":\"SWAZILAND\",\"marker\":{\"color\":\"#8C564B\",\"symbol\":\"circle\"},\"mode\":\"markers\",\"name\":\"SWAZILAND\",\"orientation\":\"v\",\"showlegend\":true,\"x\":[0.09075000000000366],\"xaxis\":\"x\",\"y\":[238119696.0],\"yaxis\":\"y\",\"type\":\"scatter\"},{\"hovertemplate\":\"Country=SWAZILAND<extra></extra>\",\"legendgroup\":\"SWAZILAND\",\"marker\":{\"color\":\"#8C564B\",\"symbol\":\"circle\"},\"mode\":\"lines\",\"name\":\"SWAZILAND\",\"showlegend\":false,\"xaxis\":\"x\",\"yaxis\":\"y\",\"type\":\"scatter\"},{\"hovertemplate\":\"Country=SWEDEN<br>Average Temperature evolution=%{x}<br>Greenhouse Gases Emissions=%{y}<extra></extra>\",\"legendgroup\":\"SWEDEN\",\"marker\":{\"color\":\"#E377C2\",\"symbol\":\"circle\"},\"mode\":\"markers\",\"name\":\"SWEDEN\",\"orientation\":\"v\",\"showlegend\":true,\"x\":[0.3976666666666664],\"xaxis\":\"x\",\"y\":[122610257089.0],\"yaxis\":\"y\",\"type\":\"scatter\"},{\"hovertemplate\":\"Country=SWEDEN<extra></extra>\",\"legendgroup\":\"SWEDEN\",\"marker\":{\"color\":\"#E377C2\",\"symbol\":\"circle\"},\"mode\":\"lines\",\"name\":\"SWEDEN\",\"showlegend\":false,\"xaxis\":\"x\",\"yaxis\":\"y\",\"type\":\"scatter\"},{\"hovertemplate\":\"Country=SWITZERLAND<br>Average Temperature evolution=%{x}<br>Greenhouse Gases Emissions=%{y}<extra></extra>\",\"legendgroup\":\"SWITZERLAND\",\"marker\":{\"color\":\"#7F7F7F\",\"symbol\":\"circle\"},\"mode\":\"markers\",\"name\":\"SWITZERLAND\",\"orientation\":\"v\",\"showlegend\":true,\"x\":[0.5668333333333329],\"xaxis\":\"x\",\"y\":[60854063645.0],\"yaxis\":\"y\",\"type\":\"scatter\"},{\"hovertemplate\":\"Country=SWITZERLAND<extra></extra>\",\"legendgroup\":\"SWITZERLAND\",\"marker\":{\"color\":\"#7F7F7F\",\"symbol\":\"circle\"},\"mode\":\"lines\",\"name\":\"SWITZERLAND\",\"showlegend\":false,\"xaxis\":\"x\",\"yaxis\":\"y\",\"type\":\"scatter\"},{\"hovertemplate\":\"Country=SYRIA<br>Average Temperature evolution=%{x}<br>Greenhouse Gases Emissions=%{y}<extra></extra>\",\"legendgroup\":\"SYRIA\",\"marker\":{\"color\":\"#BCBD22\",\"symbol\":\"circle\"},\"mode\":\"markers\",\"name\":\"SYRIA\",\"orientation\":\"v\",\"showlegend\":true,\"x\":[1.4958333333333338],\"xaxis\":\"x\",\"y\":[12792926705.0],\"yaxis\":\"y\",\"type\":\"scatter\"},{\"hovertemplate\":\"Country=SYRIA<extra></extra>\",\"legendgroup\":\"SYRIA\",\"marker\":{\"color\":\"#BCBD22\",\"symbol\":\"circle\"},\"mode\":\"lines\",\"name\":\"SYRIA\",\"showlegend\":false,\"xaxis\":\"x\",\"yaxis\":\"y\",\"type\":\"scatter\"},{\"hovertemplate\":\"Country=TAIWAN<br>Average Temperature evolution=%{x}<br>Greenhouse Gases Emissions=%{y}<extra></extra>\",\"legendgroup\":\"TAIWAN\",\"marker\":{\"color\":\"#17BECF\",\"symbol\":\"circle\"},\"mode\":\"markers\",\"name\":\"TAIWAN\",\"orientation\":\"v\",\"showlegend\":true,\"x\":[0.33958333333332996],\"xaxis\":\"x\",\"y\":[54792207813.0],\"yaxis\":\"y\",\"type\":\"scatter\"},{\"hovertemplate\":\"Country=TAIWAN<extra></extra>\",\"legendgroup\":\"TAIWAN\",\"marker\":{\"color\":\"#17BECF\",\"symbol\":\"circle\"},\"mode\":\"lines\",\"name\":\"TAIWAN\",\"showlegend\":false,\"xaxis\":\"x\",\"yaxis\":\"y\",\"type\":\"scatter\"},{\"hovertemplate\":\"Country=TAJIKISTAN<br>Average Temperature evolution=%{x}<br>Greenhouse Gases Emissions=%{y}<extra></extra>\",\"legendgroup\":\"TAJIKISTAN\",\"marker\":{\"color\":\"#1F77B4\",\"symbol\":\"circle\"},\"mode\":\"markers\",\"name\":\"TAJIKISTAN\",\"orientation\":\"v\",\"showlegend\":true,\"x\":[2.1189166666666663],\"xaxis\":\"x\",\"y\":[4871211128.0],\"yaxis\":\"y\",\"type\":\"scatter\"},{\"hovertemplate\":\"Country=TAJIKISTAN<extra></extra>\",\"legendgroup\":\"TAJIKISTAN\",\"marker\":{\"color\":\"#1F77B4\",\"symbol\":\"circle\"},\"mode\":\"lines\",\"name\":\"TAJIKISTAN\",\"showlegend\":false,\"xaxis\":\"x\",\"yaxis\":\"y\",\"type\":\"scatter\"},{\"hovertemplate\":\"Country=TANZANIA<br>Average Temperature evolution=%{x}<br>Greenhouse Gases Emissions=%{y}<extra></extra>\",\"legendgroup\":\"TANZANIA\",\"marker\":{\"color\":\"#FF7F0E\",\"symbol\":\"circle\"},\"mode\":\"markers\",\"name\":\"TANZANIA\",\"orientation\":\"v\",\"showlegend\":true,\"x\":[0.06775000000000322],\"xaxis\":\"x\",\"y\":[1147153401.0],\"yaxis\":\"y\",\"type\":\"scatter\"},{\"hovertemplate\":\"Country=TANZANIA<extra></extra>\",\"legendgroup\":\"TANZANIA\",\"marker\":{\"color\":\"#FF7F0E\",\"symbol\":\"circle\"},\"mode\":\"lines\",\"name\":\"TANZANIA\",\"showlegend\":false,\"xaxis\":\"x\",\"yaxis\":\"y\",\"type\":\"scatter\"},{\"hovertemplate\":\"Country=THAILAND<br>Average Temperature evolution=%{x}<br>Greenhouse Gases Emissions=%{y}<extra></extra>\",\"legendgroup\":\"THAILAND\",\"marker\":{\"color\":\"#2CA02C\",\"symbol\":\"circle\"},\"mode\":\"markers\",\"name\":\"THAILAND\",\"orientation\":\"v\",\"showlegend\":true,\"x\":[0.05258333333333054],\"xaxis\":\"x\",\"y\":[27191045556.0],\"yaxis\":\"y\",\"type\":\"scatter\"},{\"hovertemplate\":\"Country=THAILAND<extra></extra>\",\"legendgroup\":\"THAILAND\",\"marker\":{\"color\":\"#2CA02C\",\"symbol\":\"circle\"},\"mode\":\"lines\",\"name\":\"THAILAND\",\"showlegend\":false,\"xaxis\":\"x\",\"yaxis\":\"y\",\"type\":\"scatter\"},{\"hovertemplate\":\"Country=THE GAMBIA<br>Average Temperature evolution=%{x}<br>Greenhouse Gases Emissions=%{y}<extra></extra>\",\"legendgroup\":\"THE GAMBIA\",\"marker\":{\"color\":\"#D62728\",\"symbol\":\"circle\"},\"mode\":\"markers\",\"name\":\"THE GAMBIA\",\"orientation\":\"v\",\"showlegend\":true,\"x\":[0.44908333333333417],\"xaxis\":\"x\",\"y\":[81164928.0],\"yaxis\":\"y\",\"type\":\"scatter\"},{\"hovertemplate\":\"Country=THE GAMBIA<extra></extra>\",\"legendgroup\":\"THE GAMBIA\",\"marker\":{\"color\":\"#D62728\",\"symbol\":\"circle\"},\"mode\":\"lines\",\"name\":\"THE GAMBIA\",\"showlegend\":false,\"xaxis\":\"x\",\"yaxis\":\"y\",\"type\":\"scatter\"},{\"hovertemplate\":\"Country=TOGO<br>Average Temperature evolution=%{x}<br>Greenhouse Gases Emissions=%{y}<extra></extra>\",\"legendgroup\":\"TOGO\",\"marker\":{\"color\":\"#9467BD\",\"symbol\":\"circle\"},\"mode\":\"markers\",\"name\":\"TOGO\",\"orientation\":\"v\",\"showlegend\":true,\"x\":[0.1279166666666721],\"xaxis\":\"x\",\"y\":[387998659.0],\"yaxis\":\"y\",\"type\":\"scatter\"},{\"hovertemplate\":\"Country=TOGO<extra></extra>\",\"legendgroup\":\"TOGO\",\"marker\":{\"color\":\"#9467BD\",\"symbol\":\"circle\"},\"mode\":\"lines\",\"name\":\"TOGO\",\"showlegend\":false,\"xaxis\":\"x\",\"yaxis\":\"y\",\"type\":\"scatter\"},{\"hovertemplate\":\"Country=TONGA<br>Average Temperature evolution=%{x}<br>Greenhouse Gases Emissions=%{y}<extra></extra>\",\"legendgroup\":\"TONGA\",\"marker\":{\"color\":\"#8C564B\",\"symbol\":\"circle\"},\"mode\":\"markers\",\"name\":\"TONGA\",\"orientation\":\"v\",\"showlegend\":true,\"x\":[0.5730833333333331],\"xaxis\":\"x\",\"y\":[28941936.0],\"yaxis\":\"y\",\"type\":\"scatter\"},{\"hovertemplate\":\"Country=TONGA<extra></extra>\",\"legendgroup\":\"TONGA\",\"marker\":{\"color\":\"#8C564B\",\"symbol\":\"circle\"},\"mode\":\"lines\",\"name\":\"TONGA\",\"showlegend\":false,\"xaxis\":\"x\",\"yaxis\":\"y\",\"type\":\"scatter\"},{\"hovertemplate\":\"Country=TRINIDAD AND TOBAGO<br>Average Temperature evolution=%{x}<br>Greenhouse Gases Emissions=%{y}<extra></extra>\",\"legendgroup\":\"TRINIDAD AND TOBAGO\",\"marker\":{\"color\":\"#E377C2\",\"symbol\":\"circle\"},\"mode\":\"markers\",\"name\":\"TRINIDAD AND TOBAGO\",\"orientation\":\"v\",\"showlegend\":true,\"x\":[0.5271666666666627],\"xaxis\":\"x\",\"y\":[19600359186.0],\"yaxis\":\"y\",\"type\":\"scatter\"},{\"hovertemplate\":\"Country=TRINIDAD AND TOBAGO<extra></extra>\",\"legendgroup\":\"TRINIDAD AND TOBAGO\",\"marker\":{\"color\":\"#E377C2\",\"symbol\":\"circle\"},\"mode\":\"lines\",\"name\":\"TRINIDAD AND TOBAGO\",\"showlegend\":false,\"xaxis\":\"x\",\"yaxis\":\"y\",\"type\":\"scatter\"},{\"hovertemplate\":\"Country=TUNISIA<br>Average Temperature evolution=%{x}<br>Greenhouse Gases Emissions=%{y}<extra></extra>\",\"legendgroup\":\"TUNISIA\",\"marker\":{\"color\":\"#7F7F7F\",\"symbol\":\"circle\"},\"mode\":\"markers\",\"name\":\"TUNISIA\",\"orientation\":\"v\",\"showlegend\":true,\"x\":[0.9944999999999987],\"xaxis\":\"x\",\"y\":[5999953146.0],\"yaxis\":\"y\",\"type\":\"scatter\"},{\"hovertemplate\":\"Country=TUNISIA<extra></extra>\",\"legendgroup\":\"TUNISIA\",\"marker\":{\"color\":\"#7F7F7F\",\"symbol\":\"circle\"},\"mode\":\"lines\",\"name\":\"TUNISIA\",\"showlegend\":false,\"xaxis\":\"x\",\"yaxis\":\"y\",\"type\":\"scatter\"},{\"hovertemplate\":\"Country=TURKEY<br>Average Temperature evolution=%{x}<br>Greenhouse Gases Emissions=%{y}<extra></extra>\",\"legendgroup\":\"TURKEY\",\"marker\":{\"color\":\"#BCBD22\",\"symbol\":\"circle\"},\"mode\":\"markers\",\"name\":\"TURKEY\",\"orientation\":\"v\",\"showlegend\":true,\"x\":[1.240916666666666],\"xaxis\":\"x\",\"y\":[69000493925.0],\"yaxis\":\"y\",\"type\":\"scatter\"},{\"hovertemplate\":\"Country=TURKEY<extra></extra>\",\"legendgroup\":\"TURKEY\",\"marker\":{\"color\":\"#BCBD22\",\"symbol\":\"circle\"},\"mode\":\"lines\",\"name\":\"TURKEY\",\"showlegend\":false,\"xaxis\":\"x\",\"yaxis\":\"y\",\"type\":\"scatter\"},{\"hovertemplate\":\"Country=TURKMENISTAN<br>Average Temperature evolution=%{x}<br>Greenhouse Gases Emissions=%{y}<extra></extra>\",\"legendgroup\":\"TURKMENISTAN\",\"marker\":{\"color\":\"#17BECF\",\"symbol\":\"circle\"},\"mode\":\"markers\",\"name\":\"TURKMENISTAN\",\"orientation\":\"v\",\"showlegend\":true,\"x\":[2.7934166666666638],\"xaxis\":\"x\",\"y\":[22635030063.0],\"yaxis\":\"y\",\"type\":\"scatter\"},{\"hovertemplate\":\"Country=TURKMENISTAN<extra></extra>\",\"legendgroup\":\"TURKMENISTAN\",\"marker\":{\"color\":\"#17BECF\",\"symbol\":\"circle\"},\"mode\":\"lines\",\"name\":\"TURKMENISTAN\",\"showlegend\":false,\"xaxis\":\"x\",\"yaxis\":\"y\",\"type\":\"scatter\"},{\"hovertemplate\":\"Country=TURKS AND CAICOS ISLANDS<br>Average Temperature evolution=%{x}<br>Greenhouse Gases Emissions=%{y}<extra></extra>\",\"legendgroup\":\"TURKS AND CAICOS ISLANDS\",\"marker\":{\"color\":\"#1F77B4\",\"symbol\":\"circle\"},\"mode\":\"markers\",\"name\":\"TURKS AND CAICOS ISLANDS\",\"orientation\":\"v\",\"showlegend\":true,\"x\":[0.15483333333333588],\"xaxis\":\"x\",\"y\":[2663728.0],\"yaxis\":\"y\",\"type\":\"scatter\"},{\"hovertemplate\":\"Country=TURKS AND CAICOS ISLANDS<extra></extra>\",\"legendgroup\":\"TURKS AND CAICOS ISLANDS\",\"marker\":{\"color\":\"#1F77B4\",\"symbol\":\"circle\"},\"mode\":\"lines\",\"name\":\"TURKS AND CAICOS ISLANDS\",\"showlegend\":false,\"xaxis\":\"x\",\"yaxis\":\"y\",\"type\":\"scatter\"},{\"hovertemplate\":\"Country=UGANDA<br>Average Temperature evolution=%{x}<br>Greenhouse Gases Emissions=%{y}<extra></extra>\",\"legendgroup\":\"UGANDA\",\"marker\":{\"color\":\"#FF7F0E\",\"symbol\":\"circle\"},\"mode\":\"markers\",\"name\":\"UGANDA\",\"orientation\":\"v\",\"showlegend\":true,\"x\":[0.22208333333333047],\"xaxis\":\"x\",\"y\":[797994001.0],\"yaxis\":\"y\",\"type\":\"scatter\"},{\"hovertemplate\":\"Country=UGANDA<extra></extra>\",\"legendgroup\":\"UGANDA\",\"marker\":{\"color\":\"#FF7F0E\",\"symbol\":\"circle\"},\"mode\":\"lines\",\"name\":\"UGANDA\",\"showlegend\":false,\"xaxis\":\"x\",\"yaxis\":\"y\",\"type\":\"scatter\"},{\"hovertemplate\":\"Country=UKRAINE<br>Average Temperature evolution=%{x}<br>Greenhouse Gases Emissions=%{y}<extra></extra>\",\"legendgroup\":\"UKRAINE\",\"marker\":{\"color\":\"#2CA02C\",\"symbol\":\"circle\"},\"mode\":\"markers\",\"name\":\"UKRAINE\",\"orientation\":\"v\",\"showlegend\":true,\"x\":[1.0772500000000012],\"xaxis\":\"x\",\"y\":[423102062610.0],\"yaxis\":\"y\",\"type\":\"scatter\"},{\"hovertemplate\":\"Country=UKRAINE<extra></extra>\",\"legendgroup\":\"UKRAINE\",\"marker\":{\"color\":\"#2CA02C\",\"symbol\":\"circle\"},\"mode\":\"lines\",\"name\":\"UKRAINE\",\"showlegend\":false,\"xaxis\":\"x\",\"yaxis\":\"y\",\"type\":\"scatter\"},{\"hovertemplate\":\"Country=UNITED ARAB EMIRATES<br>Average Temperature evolution=%{x}<br>Greenhouse Gases Emissions=%{y}<extra></extra>\",\"legendgroup\":\"UNITED ARAB EMIRATES\",\"marker\":{\"color\":\"#D62728\",\"symbol\":\"circle\"},\"mode\":\"markers\",\"name\":\"UNITED ARAB EMIRATES\",\"orientation\":\"v\",\"showlegend\":true,\"x\":[1.3803333333333363],\"xaxis\":\"x\",\"y\":[19832300841.0],\"yaxis\":\"y\",\"type\":\"scatter\"},{\"hovertemplate\":\"Country=UNITED ARAB EMIRATES<extra></extra>\",\"legendgroup\":\"UNITED ARAB EMIRATES\",\"marker\":{\"color\":\"#D62728\",\"symbol\":\"circle\"},\"mode\":\"lines\",\"name\":\"UNITED ARAB EMIRATES\",\"showlegend\":false,\"xaxis\":\"x\",\"yaxis\":\"y\",\"type\":\"scatter\"},{\"hovertemplate\":\"Country=UNITED KINGDOM<br>Average Temperature evolution=%{x}<br>Greenhouse Gases Emissions=%{y}<extra></extra>\",\"legendgroup\":\"UNITED KINGDOM\",\"marker\":{\"color\":\"#9467BD\",\"symbol\":\"circle\"},\"mode\":\"markers\",\"name\":\"UNITED KINGDOM\",\"orientation\":\"v\",\"showlegend\":true,\"x\":[-0.24883333333333213],\"xaxis\":\"x\",\"y\":[2744666757254.0],\"yaxis\":\"y\",\"type\":\"scatter\"},{\"hovertemplate\":\"Country=UNITED KINGDOM<extra></extra>\",\"legendgroup\":\"UNITED KINGDOM\",\"marker\":{\"color\":\"#9467BD\",\"symbol\":\"circle\"},\"mode\":\"lines\",\"name\":\"UNITED KINGDOM\",\"showlegend\":false,\"xaxis\":\"x\",\"yaxis\":\"y\",\"type\":\"scatter\"},{\"hovertemplate\":\"Country=UNITED STATES<br>Average Temperature evolution=%{x}<br>Greenhouse Gases Emissions=%{y}<extra></extra>\",\"legendgroup\":\"UNITED STATES\",\"marker\":{\"color\":\"#8C564B\",\"symbol\":\"circle\"},\"mode\":\"markers\",\"name\":\"UNITED STATES\",\"orientation\":\"v\",\"showlegend\":true,\"x\":[0.761666666666667],\"xaxis\":\"x\",\"y\":[9335760067776.0],\"yaxis\":\"y\",\"type\":\"scatter\"},{\"hovertemplate\":\"Country=UNITED STATES<extra></extra>\",\"legendgroup\":\"UNITED STATES\",\"marker\":{\"color\":\"#8C564B\",\"symbol\":\"circle\"},\"mode\":\"lines\",\"name\":\"UNITED STATES\",\"showlegend\":false,\"xaxis\":\"x\",\"yaxis\":\"y\",\"type\":\"scatter\"},{\"hovertemplate\":\"Country=URUGUAY<br>Average Temperature evolution=%{x}<br>Greenhouse Gases Emissions=%{y}<extra></extra>\",\"legendgroup\":\"URUGUAY\",\"marker\":{\"color\":\"#E377C2\",\"symbol\":\"circle\"},\"mode\":\"markers\",\"name\":\"URUGUAY\",\"orientation\":\"v\",\"showlegend\":true,\"x\":[0.467500000000001],\"xaxis\":\"x\",\"y\":[6052978621.0],\"yaxis\":\"y\",\"type\":\"scatter\"},{\"hovertemplate\":\"Country=URUGUAY<extra></extra>\",\"legendgroup\":\"URUGUAY\",\"marker\":{\"color\":\"#E377C2\",\"symbol\":\"circle\"},\"mode\":\"lines\",\"name\":\"URUGUAY\",\"showlegend\":false,\"xaxis\":\"x\",\"yaxis\":\"y\",\"type\":\"scatter\"},{\"hovertemplate\":\"Country=UZBEKISTAN<br>Average Temperature evolution=%{x}<br>Greenhouse Gases Emissions=%{y}<extra></extra>\",\"legendgroup\":\"UZBEKISTAN\",\"marker\":{\"color\":\"#7F7F7F\",\"symbol\":\"circle\"},\"mode\":\"markers\",\"name\":\"UZBEKISTAN\",\"orientation\":\"v\",\"showlegend\":true,\"x\":[2.815000000000002],\"xaxis\":\"x\",\"y\":[76538958170.0],\"yaxis\":\"y\",\"type\":\"scatter\"},{\"hovertemplate\":\"Country=UZBEKISTAN<extra></extra>\",\"legendgroup\":\"UZBEKISTAN\",\"marker\":{\"color\":\"#7F7F7F\",\"symbol\":\"circle\"},\"mode\":\"lines\",\"name\":\"UZBEKISTAN\",\"showlegend\":false,\"xaxis\":\"x\",\"yaxis\":\"y\",\"type\":\"scatter\"},{\"hovertemplate\":\"Country=VENEZUELA<br>Average Temperature evolution=%{x}<br>Greenhouse Gases Emissions=%{y}<extra></extra>\",\"legendgroup\":\"VENEZUELA\",\"marker\":{\"color\":\"#BCBD22\",\"symbol\":\"circle\"},\"mode\":\"markers\",\"name\":\"VENEZUELA\",\"orientation\":\"v\",\"showlegend\":true,\"x\":[0.4248333333333289],\"xaxis\":\"x\",\"y\":[103847138454.0],\"yaxis\":\"y\",\"type\":\"scatter\"},{\"hovertemplate\":\"Country=VENEZUELA<extra></extra>\",\"legendgroup\":\"VENEZUELA\",\"marker\":{\"color\":\"#BCBD22\",\"symbol\":\"circle\"},\"mode\":\"lines\",\"name\":\"VENEZUELA\",\"showlegend\":false,\"xaxis\":\"x\",\"yaxis\":\"y\",\"type\":\"scatter\"},{\"hovertemplate\":\"Country=VIETNAM<br>Average Temperature evolution=%{x}<br>Greenhouse Gases Emissions=%{y}<extra></extra>\",\"legendgroup\":\"VIETNAM\",\"marker\":{\"color\":\"#17BECF\",\"symbol\":\"circle\"},\"mode\":\"markers\",\"name\":\"VIETNAM\",\"orientation\":\"v\",\"showlegend\":true,\"x\":[-0.062416666666663886],\"xaxis\":\"x\",\"y\":[17294780521.0],\"yaxis\":\"y\",\"type\":\"scatter\"},{\"hovertemplate\":\"Country=VIETNAM<extra></extra>\",\"legendgroup\":\"VIETNAM\",\"marker\":{\"color\":\"#17BECF\",\"symbol\":\"circle\"},\"mode\":\"lines\",\"name\":\"VIETNAM\",\"showlegend\":false,\"xaxis\":\"x\",\"yaxis\":\"y\",\"type\":\"scatter\"},{\"hovertemplate\":\"Country=VIRGIN ISLANDS, BRITISH<br>Average Temperature evolution=%{x}<br>Greenhouse Gases Emissions=%{y}<extra></extra>\",\"legendgroup\":\"VIRGIN ISLANDS, BRITISH\",\"marker\":{\"color\":\"#1F77B4\",\"symbol\":\"circle\"},\"mode\":\"markers\",\"name\":\"VIRGIN ISLANDS, BRITISH\",\"orientation\":\"v\",\"showlegend\":true,\"x\":[0.5604166666666612],\"xaxis\":\"x\",\"y\":[0.0],\"yaxis\":\"y\",\"type\":\"scatter\"},{\"hovertemplate\":\"Country=VIRGIN ISLANDS, BRITISH<extra></extra>\",\"legendgroup\":\"VIRGIN ISLANDS, BRITISH\",\"marker\":{\"color\":\"#1F77B4\",\"symbol\":\"circle\"},\"mode\":\"lines\",\"name\":\"VIRGIN ISLANDS, BRITISH\",\"showlegend\":false,\"xaxis\":\"x\",\"yaxis\":\"y\",\"type\":\"scatter\"},{\"hovertemplate\":\"Country=YEMEN<br>Average Temperature evolution=%{x}<br>Greenhouse Gases Emissions=%{y}<extra></extra>\",\"legendgroup\":\"YEMEN\",\"marker\":{\"color\":\"#FF7F0E\",\"symbol\":\"circle\"},\"mode\":\"markers\",\"name\":\"YEMEN\",\"orientation\":\"v\",\"showlegend\":true,\"x\":[1.3079166666666675],\"xaxis\":\"x\",\"y\":[4750984077.0],\"yaxis\":\"y\",\"type\":\"scatter\"},{\"hovertemplate\":\"Country=YEMEN<extra></extra>\",\"legendgroup\":\"YEMEN\",\"marker\":{\"color\":\"#FF7F0E\",\"symbol\":\"circle\"},\"mode\":\"lines\",\"name\":\"YEMEN\",\"showlegend\":false,\"xaxis\":\"x\",\"yaxis\":\"y\",\"type\":\"scatter\"},{\"hovertemplate\":\"Country=ZAMBIA<br>Average Temperature evolution=%{x}<br>Greenhouse Gases Emissions=%{y}<extra></extra>\",\"legendgroup\":\"ZAMBIA\",\"marker\":{\"color\":\"#2CA02C\",\"symbol\":\"circle\"},\"mode\":\"markers\",\"name\":\"ZAMBIA\",\"orientation\":\"v\",\"showlegend\":true,\"x\":[-0.1258333333333359],\"xaxis\":\"x\",\"y\":[3330755484.0],\"yaxis\":\"y\",\"type\":\"scatter\"},{\"hovertemplate\":\"Country=ZAMBIA<extra></extra>\",\"legendgroup\":\"ZAMBIA\",\"marker\":{\"color\":\"#2CA02C\",\"symbol\":\"circle\"},\"mode\":\"lines\",\"name\":\"ZAMBIA\",\"showlegend\":false,\"xaxis\":\"x\",\"yaxis\":\"y\",\"type\":\"scatter\"},{\"hovertemplate\":\"Country=ZIMBABWE<br>Average Temperature evolution=%{x}<br>Greenhouse Gases Emissions=%{y}<extra></extra>\",\"legendgroup\":\"ZIMBABWE\",\"marker\":{\"color\":\"#D62728\",\"symbol\":\"circle\"},\"mode\":\"markers\",\"name\":\"ZIMBABWE\",\"orientation\":\"v\",\"showlegend\":true,\"x\":[-0.38608333333333156],\"xaxis\":\"x\",\"y\":[12340662375.0],\"yaxis\":\"y\",\"type\":\"scatter\"},{\"hovertemplate\":\"Country=ZIMBABWE<extra></extra>\",\"legendgroup\":\"ZIMBABWE\",\"marker\":{\"color\":\"#D62728\",\"symbol\":\"circle\"},\"mode\":\"lines\",\"name\":\"ZIMBABWE\",\"showlegend\":false,\"xaxis\":\"x\",\"yaxis\":\"y\",\"type\":\"scatter\"}],                        {\"template\":{\"data\":{\"barpolar\":[{\"marker\":{\"line\":{\"color\":\"white\",\"width\":0.5},\"pattern\":{\"fillmode\":\"overlay\",\"size\":10,\"solidity\":0.2}},\"type\":\"barpolar\"}],\"bar\":[{\"error_x\":{\"color\":\"rgb(36,36,36)\"},\"error_y\":{\"color\":\"rgb(36,36,36)\"},\"marker\":{\"line\":{\"color\":\"white\",\"width\":0.5},\"pattern\":{\"fillmode\":\"overlay\",\"size\":10,\"solidity\":0.2}},\"type\":\"bar\"}],\"carpet\":[{\"aaxis\":{\"endlinecolor\":\"rgb(36,36,36)\",\"gridcolor\":\"white\",\"linecolor\":\"white\",\"minorgridcolor\":\"white\",\"startlinecolor\":\"rgb(36,36,36)\"},\"baxis\":{\"endlinecolor\":\"rgb(36,36,36)\",\"gridcolor\":\"white\",\"linecolor\":\"white\",\"minorgridcolor\":\"white\",\"startlinecolor\":\"rgb(36,36,36)\"},\"type\":\"carpet\"}],\"choropleth\":[{\"colorbar\":{\"outlinewidth\":1,\"tickcolor\":\"rgb(36,36,36)\",\"ticks\":\"outside\"},\"type\":\"choropleth\"}],\"contourcarpet\":[{\"colorbar\":{\"outlinewidth\":1,\"tickcolor\":\"rgb(36,36,36)\",\"ticks\":\"outside\"},\"type\":\"contourcarpet\"}],\"contour\":[{\"colorbar\":{\"outlinewidth\":1,\"tickcolor\":\"rgb(36,36,36)\",\"ticks\":\"outside\"},\"colorscale\":[[0.0,\"#440154\"],[0.1111111111111111,\"#482878\"],[0.2222222222222222,\"#3e4989\"],[0.3333333333333333,\"#31688e\"],[0.4444444444444444,\"#26828e\"],[0.5555555555555556,\"#1f9e89\"],[0.6666666666666666,\"#35b779\"],[0.7777777777777778,\"#6ece58\"],[0.8888888888888888,\"#b5de2b\"],[1.0,\"#fde725\"]],\"type\":\"contour\"}],\"heatmapgl\":[{\"colorbar\":{\"outlinewidth\":1,\"tickcolor\":\"rgb(36,36,36)\",\"ticks\":\"outside\"},\"colorscale\":[[0.0,\"#440154\"],[0.1111111111111111,\"#482878\"],[0.2222222222222222,\"#3e4989\"],[0.3333333333333333,\"#31688e\"],[0.4444444444444444,\"#26828e\"],[0.5555555555555556,\"#1f9e89\"],[0.6666666666666666,\"#35b779\"],[0.7777777777777778,\"#6ece58\"],[0.8888888888888888,\"#b5de2b\"],[1.0,\"#fde725\"]],\"type\":\"heatmapgl\"}],\"heatmap\":[{\"colorbar\":{\"outlinewidth\":1,\"tickcolor\":\"rgb(36,36,36)\",\"ticks\":\"outside\"},\"colorscale\":[[0.0,\"#440154\"],[0.1111111111111111,\"#482878\"],[0.2222222222222222,\"#3e4989\"],[0.3333333333333333,\"#31688e\"],[0.4444444444444444,\"#26828e\"],[0.5555555555555556,\"#1f9e89\"],[0.6666666666666666,\"#35b779\"],[0.7777777777777778,\"#6ece58\"],[0.8888888888888888,\"#b5de2b\"],[1.0,\"#fde725\"]],\"type\":\"heatmap\"}],\"histogram2dcontour\":[{\"colorbar\":{\"outlinewidth\":1,\"tickcolor\":\"rgb(36,36,36)\",\"ticks\":\"outside\"},\"colorscale\":[[0.0,\"#440154\"],[0.1111111111111111,\"#482878\"],[0.2222222222222222,\"#3e4989\"],[0.3333333333333333,\"#31688e\"],[0.4444444444444444,\"#26828e\"],[0.5555555555555556,\"#1f9e89\"],[0.6666666666666666,\"#35b779\"],[0.7777777777777778,\"#6ece58\"],[0.8888888888888888,\"#b5de2b\"],[1.0,\"#fde725\"]],\"type\":\"histogram2dcontour\"}],\"histogram2d\":[{\"colorbar\":{\"outlinewidth\":1,\"tickcolor\":\"rgb(36,36,36)\",\"ticks\":\"outside\"},\"colorscale\":[[0.0,\"#440154\"],[0.1111111111111111,\"#482878\"],[0.2222222222222222,\"#3e4989\"],[0.3333333333333333,\"#31688e\"],[0.4444444444444444,\"#26828e\"],[0.5555555555555556,\"#1f9e89\"],[0.6666666666666666,\"#35b779\"],[0.7777777777777778,\"#6ece58\"],[0.8888888888888888,\"#b5de2b\"],[1.0,\"#fde725\"]],\"type\":\"histogram2d\"}],\"histogram\":[{\"marker\":{\"line\":{\"color\":\"white\",\"width\":0.6}},\"type\":\"histogram\"}],\"mesh3d\":[{\"colorbar\":{\"outlinewidth\":1,\"tickcolor\":\"rgb(36,36,36)\",\"ticks\":\"outside\"},\"type\":\"mesh3d\"}],\"parcoords\":[{\"line\":{\"colorbar\":{\"outlinewidth\":1,\"tickcolor\":\"rgb(36,36,36)\",\"ticks\":\"outside\"}},\"type\":\"parcoords\"}],\"pie\":[{\"automargin\":true,\"type\":\"pie\"}],\"scatter3d\":[{\"line\":{\"colorbar\":{\"outlinewidth\":1,\"tickcolor\":\"rgb(36,36,36)\",\"ticks\":\"outside\"}},\"marker\":{\"colorbar\":{\"outlinewidth\":1,\"tickcolor\":\"rgb(36,36,36)\",\"ticks\":\"outside\"}},\"type\":\"scatter3d\"}],\"scattercarpet\":[{\"marker\":{\"colorbar\":{\"outlinewidth\":1,\"tickcolor\":\"rgb(36,36,36)\",\"ticks\":\"outside\"}},\"type\":\"scattercarpet\"}],\"scattergeo\":[{\"marker\":{\"colorbar\":{\"outlinewidth\":1,\"tickcolor\":\"rgb(36,36,36)\",\"ticks\":\"outside\"}},\"type\":\"scattergeo\"}],\"scattergl\":[{\"marker\":{\"colorbar\":{\"outlinewidth\":1,\"tickcolor\":\"rgb(36,36,36)\",\"ticks\":\"outside\"}},\"type\":\"scattergl\"}],\"scattermapbox\":[{\"marker\":{\"colorbar\":{\"outlinewidth\":1,\"tickcolor\":\"rgb(36,36,36)\",\"ticks\":\"outside\"}},\"type\":\"scattermapbox\"}],\"scatterpolargl\":[{\"marker\":{\"colorbar\":{\"outlinewidth\":1,\"tickcolor\":\"rgb(36,36,36)\",\"ticks\":\"outside\"}},\"type\":\"scatterpolargl\"}],\"scatterpolar\":[{\"marker\":{\"colorbar\":{\"outlinewidth\":1,\"tickcolor\":\"rgb(36,36,36)\",\"ticks\":\"outside\"}},\"type\":\"scatterpolar\"}],\"scatter\":[{\"marker\":{\"colorbar\":{\"outlinewidth\":1,\"tickcolor\":\"rgb(36,36,36)\",\"ticks\":\"outside\"}},\"type\":\"scatter\"}],\"scatterternary\":[{\"marker\":{\"colorbar\":{\"outlinewidth\":1,\"tickcolor\":\"rgb(36,36,36)\",\"ticks\":\"outside\"}},\"type\":\"scatterternary\"}],\"surface\":[{\"colorbar\":{\"outlinewidth\":1,\"tickcolor\":\"rgb(36,36,36)\",\"ticks\":\"outside\"},\"colorscale\":[[0.0,\"#440154\"],[0.1111111111111111,\"#482878\"],[0.2222222222222222,\"#3e4989\"],[0.3333333333333333,\"#31688e\"],[0.4444444444444444,\"#26828e\"],[0.5555555555555556,\"#1f9e89\"],[0.6666666666666666,\"#35b779\"],[0.7777777777777778,\"#6ece58\"],[0.8888888888888888,\"#b5de2b\"],[1.0,\"#fde725\"]],\"type\":\"surface\"}],\"table\":[{\"cells\":{\"fill\":{\"color\":\"rgb(237,237,237)\"},\"line\":{\"color\":\"white\"}},\"header\":{\"fill\":{\"color\":\"rgb(217,217,217)\"},\"line\":{\"color\":\"white\"}},\"type\":\"table\"}]},\"layout\":{\"annotationdefaults\":{\"arrowhead\":0,\"arrowwidth\":1},\"autotypenumbers\":\"strict\",\"coloraxis\":{\"colorbar\":{\"outlinewidth\":1,\"tickcolor\":\"rgb(36,36,36)\",\"ticks\":\"outside\"}},\"colorscale\":{\"diverging\":[[0.0,\"rgb(103,0,31)\"],[0.1,\"rgb(178,24,43)\"],[0.2,\"rgb(214,96,77)\"],[0.3,\"rgb(244,165,130)\"],[0.4,\"rgb(253,219,199)\"],[0.5,\"rgb(247,247,247)\"],[0.6,\"rgb(209,229,240)\"],[0.7,\"rgb(146,197,222)\"],[0.8,\"rgb(67,147,195)\"],[0.9,\"rgb(33,102,172)\"],[1.0,\"rgb(5,48,97)\"]],\"sequential\":[[0.0,\"#440154\"],[0.1111111111111111,\"#482878\"],[0.2222222222222222,\"#3e4989\"],[0.3333333333333333,\"#31688e\"],[0.4444444444444444,\"#26828e\"],[0.5555555555555556,\"#1f9e89\"],[0.6666666666666666,\"#35b779\"],[0.7777777777777778,\"#6ece58\"],[0.8888888888888888,\"#b5de2b\"],[1.0,\"#fde725\"]],\"sequentialminus\":[[0.0,\"#440154\"],[0.1111111111111111,\"#482878\"],[0.2222222222222222,\"#3e4989\"],[0.3333333333333333,\"#31688e\"],[0.4444444444444444,\"#26828e\"],[0.5555555555555556,\"#1f9e89\"],[0.6666666666666666,\"#35b779\"],[0.7777777777777778,\"#6ece58\"],[0.8888888888888888,\"#b5de2b\"],[1.0,\"#fde725\"]]},\"colorway\":[\"#1F77B4\",\"#FF7F0E\",\"#2CA02C\",\"#D62728\",\"#9467BD\",\"#8C564B\",\"#E377C2\",\"#7F7F7F\",\"#BCBD22\",\"#17BECF\"],\"font\":{\"color\":\"rgb(36,36,36)\"},\"geo\":{\"bgcolor\":\"white\",\"lakecolor\":\"white\",\"landcolor\":\"white\",\"showlakes\":true,\"showland\":true,\"subunitcolor\":\"white\"},\"hoverlabel\":{\"align\":\"left\"},\"hovermode\":\"closest\",\"mapbox\":{\"style\":\"light\"},\"paper_bgcolor\":\"white\",\"plot_bgcolor\":\"white\",\"polar\":{\"angularaxis\":{\"gridcolor\":\"rgb(232,232,232)\",\"linecolor\":\"rgb(36,36,36)\",\"showgrid\":false,\"showline\":true,\"ticks\":\"outside\"},\"bgcolor\":\"white\",\"radialaxis\":{\"gridcolor\":\"rgb(232,232,232)\",\"linecolor\":\"rgb(36,36,36)\",\"showgrid\":false,\"showline\":true,\"ticks\":\"outside\"}},\"scene\":{\"xaxis\":{\"backgroundcolor\":\"white\",\"gridcolor\":\"rgb(232,232,232)\",\"gridwidth\":2,\"linecolor\":\"rgb(36,36,36)\",\"showbackground\":true,\"showgrid\":false,\"showline\":true,\"ticks\":\"outside\",\"zeroline\":false,\"zerolinecolor\":\"rgb(36,36,36)\"},\"yaxis\":{\"backgroundcolor\":\"white\",\"gridcolor\":\"rgb(232,232,232)\",\"gridwidth\":2,\"linecolor\":\"rgb(36,36,36)\",\"showbackground\":true,\"showgrid\":false,\"showline\":true,\"ticks\":\"outside\",\"zeroline\":false,\"zerolinecolor\":\"rgb(36,36,36)\"},\"zaxis\":{\"backgroundcolor\":\"white\",\"gridcolor\":\"rgb(232,232,232)\",\"gridwidth\":2,\"linecolor\":\"rgb(36,36,36)\",\"showbackground\":true,\"showgrid\":false,\"showline\":true,\"ticks\":\"outside\",\"zeroline\":false,\"zerolinecolor\":\"rgb(36,36,36)\"}},\"shapedefaults\":{\"fillcolor\":\"black\",\"line\":{\"width\":0},\"opacity\":0.3},\"ternary\":{\"aaxis\":{\"gridcolor\":\"rgb(232,232,232)\",\"linecolor\":\"rgb(36,36,36)\",\"showgrid\":false,\"showline\":true,\"ticks\":\"outside\"},\"baxis\":{\"gridcolor\":\"rgb(232,232,232)\",\"linecolor\":\"rgb(36,36,36)\",\"showgrid\":false,\"showline\":true,\"ticks\":\"outside\"},\"bgcolor\":\"white\",\"caxis\":{\"gridcolor\":\"rgb(232,232,232)\",\"linecolor\":\"rgb(36,36,36)\",\"showgrid\":false,\"showline\":true,\"ticks\":\"outside\"}},\"title\":{\"x\":0.05},\"xaxis\":{\"automargin\":true,\"gridcolor\":\"rgb(232,232,232)\",\"linecolor\":\"rgb(36,36,36)\",\"showgrid\":false,\"showline\":true,\"ticks\":\"outside\",\"title\":{\"standoff\":15},\"zeroline\":false,\"zerolinecolor\":\"rgb(36,36,36)\"},\"yaxis\":{\"automargin\":true,\"gridcolor\":\"rgb(232,232,232)\",\"linecolor\":\"rgb(36,36,36)\",\"showgrid\":false,\"showline\":true,\"ticks\":\"outside\",\"title\":{\"standoff\":15},\"zeroline\":false,\"zerolinecolor\":\"rgb(36,36,36)\"}}},\"xaxis\":{\"anchor\":\"y\",\"domain\":[0.0,1.0],\"title\":{\"text\":\"Average Temperature evolution\"}},\"yaxis\":{\"anchor\":\"x\",\"domain\":[0.0,1.0],\"title\":{\"text\":\"Greenhouse Gases Emissions\"}},\"legend\":{\"title\":{\"text\":\"Country\"},\"tracegroupgap\":0},\"margin\":{\"t\":60}},                        {\"responsive\": true}                    ).then(function(){\n",
       "                            \n",
       "var gd = document.getElementById('238c901c-aeb0-4f42-b8a6-bd94dba813ad');\n",
       "var x = new MutationObserver(function (mutations, observer) {{\n",
       "        var display = window.getComputedStyle(gd).display;\n",
       "        if (!display || display === 'none') {{\n",
       "            console.log([gd, 'removed!']);\n",
       "            Plotly.purge(gd);\n",
       "            observer.disconnect();\n",
       "        }}\n",
       "}});\n",
       "\n",
       "// Listen for the removal of the full notebook cells\n",
       "var notebookContainer = gd.closest('#notebook-container');\n",
       "if (notebookContainer) {{\n",
       "    x.observe(notebookContainer, {childList: true});\n",
       "}}\n",
       "\n",
       "// Listen for the clearing of the current output cell\n",
       "var outputEl = gd.closest('.output');\n",
       "if (outputEl) {{\n",
       "    x.observe(outputEl, {childList: true});\n",
       "}}\n",
       "\n",
       "                        })                };                });            </script>        </div>"
      ]
     },
     "metadata": {},
     "output_type": "display_data"
    }
   ],
   "source": [
    "fig = px.scatter(df, x=\"temp_diff\", y=\"GHG\", color=\"Country\", trendline=\"ols\", template=\"simple_white\",\n",
    "                labels={\n",
    "                     \"temp_diff\": \"Average Temperature evolution\",\n",
    "                     \"GHG\": \"Greenhouse Gases Emissions\"\n",
    "\n",
    "                 },)\n",
    "fig.show()"
   ]
  },
  {
   "cell_type": "code",
   "execution_count": null,
   "id": "fddd9baa",
   "metadata": {},
   "outputs": [],
   "source": [
    "import plotly.graph_objs as go\n",
    "import statsmodels.api as sm\n",
    "\n",
    "fig = px.scatter(df, x=\"temp_diff\", y =\"GHG\", size=np.log(df[\"GHG\"]), color=\"temp_diff\", hover_name=df.index, log_x=False,marginal_x = \"box\",marginal_y = \"box\", template=\"simple_white\", color_discrete_sequence=[\"#0d0887\", \"#9c179e\"])\n",
    "\n",
    "# linear regression\n",
    "regline = sm.OLS(df[\"AverageTemperature\"],sm.add_constant(np.log(df[\"GHG\"]))).fit().fittedvalues\n",
    "\n",
    "# add linear regression line for whole sample\n",
    "fig.add_traces(go.Scatter(x=np.log(df[\"GHG\"]), y=regline,\n",
    "                          mode = 'lines',\n",
    "                          marker_color='#fb9f3a',\n",
    "                          name='OLS Trendline')\n",
    "                          )\n",
    "\n",
    "fig.show()"
   ]
  },
  {
   "cell_type": "code",
   "execution_count": 45,
   "id": "ba8c8d4d",
   "metadata": {
    "scrolled": true
   },
   "outputs": [
    {
     "ename": "KeyError",
     "evalue": "'GHG'",
     "output_type": "error",
     "traceback": [
      "\u001b[1;31m---------------------------------------------------------------------------\u001b[0m",
      "\u001b[1;31mKeyError\u001b[0m                                  Traceback (most recent call last)",
      "File \u001b[1;32m~\\miniconda3\\envs\\data_vis\\lib\\site-packages\\pandas\\core\\indexes\\base.py:3621\u001b[0m, in \u001b[0;36mIndex.get_loc\u001b[1;34m(self, key, method, tolerance)\u001b[0m\n\u001b[0;32m   3620\u001b[0m \u001b[38;5;28;01mtry\u001b[39;00m:\n\u001b[1;32m-> 3621\u001b[0m     \u001b[38;5;28;01mreturn\u001b[39;00m \u001b[38;5;28;43mself\u001b[39;49m\u001b[38;5;241;43m.\u001b[39;49m\u001b[43m_engine\u001b[49m\u001b[38;5;241;43m.\u001b[39;49m\u001b[43mget_loc\u001b[49m\u001b[43m(\u001b[49m\u001b[43mcasted_key\u001b[49m\u001b[43m)\u001b[49m\n\u001b[0;32m   3622\u001b[0m \u001b[38;5;28;01mexcept\u001b[39;00m \u001b[38;5;167;01mKeyError\u001b[39;00m \u001b[38;5;28;01mas\u001b[39;00m err:\n",
      "File \u001b[1;32m~\\miniconda3\\envs\\data_vis\\lib\\site-packages\\pandas\\_libs\\index.pyx:136\u001b[0m, in \u001b[0;36mpandas._libs.index.IndexEngine.get_loc\u001b[1;34m()\u001b[0m\n",
      "File \u001b[1;32m~\\miniconda3\\envs\\data_vis\\lib\\site-packages\\pandas\\_libs\\index.pyx:163\u001b[0m, in \u001b[0;36mpandas._libs.index.IndexEngine.get_loc\u001b[1;34m()\u001b[0m\n",
      "File \u001b[1;32mpandas\\_libs\\hashtable_class_helper.pxi:5198\u001b[0m, in \u001b[0;36mpandas._libs.hashtable.PyObjectHashTable.get_item\u001b[1;34m()\u001b[0m\n",
      "File \u001b[1;32mpandas\\_libs\\hashtable_class_helper.pxi:5206\u001b[0m, in \u001b[0;36mpandas._libs.hashtable.PyObjectHashTable.get_item\u001b[1;34m()\u001b[0m\n",
      "\u001b[1;31mKeyError\u001b[0m: 'GHG'",
      "\nThe above exception was the direct cause of the following exception:\n",
      "\u001b[1;31mKeyError\u001b[0m                                  Traceback (most recent call last)",
      "Input \u001b[1;32mIn [45]\u001b[0m, in \u001b[0;36m<cell line: 2>\u001b[1;34m()\u001b[0m\n\u001b[0;32m      1\u001b[0m df \u001b[38;5;241m=\u001b[39m df\u001b[38;5;241m.\u001b[39mdropna()\n\u001b[1;32m----> 2\u001b[0m df\u001b[38;5;241m=\u001b[39m df[\u001b[43mdf\u001b[49m\u001b[43m[\u001b[49m\u001b[38;5;124;43m'\u001b[39;49m\u001b[38;5;124;43mGHG\u001b[39;49m\u001b[38;5;124;43m'\u001b[39;49m\u001b[43m]\u001b[49m \u001b[38;5;241m!=\u001b[39m \u001b[38;5;241m0\u001b[39m]\n\u001b[0;32m      3\u001b[0m df\n",
      "File \u001b[1;32m~\\miniconda3\\envs\\data_vis\\lib\\site-packages\\pandas\\core\\frame.py:3505\u001b[0m, in \u001b[0;36mDataFrame.__getitem__\u001b[1;34m(self, key)\u001b[0m\n\u001b[0;32m   3503\u001b[0m \u001b[38;5;28;01mif\u001b[39;00m \u001b[38;5;28mself\u001b[39m\u001b[38;5;241m.\u001b[39mcolumns\u001b[38;5;241m.\u001b[39mnlevels \u001b[38;5;241m>\u001b[39m \u001b[38;5;241m1\u001b[39m:\n\u001b[0;32m   3504\u001b[0m     \u001b[38;5;28;01mreturn\u001b[39;00m \u001b[38;5;28mself\u001b[39m\u001b[38;5;241m.\u001b[39m_getitem_multilevel(key)\n\u001b[1;32m-> 3505\u001b[0m indexer \u001b[38;5;241m=\u001b[39m \u001b[38;5;28;43mself\u001b[39;49m\u001b[38;5;241;43m.\u001b[39;49m\u001b[43mcolumns\u001b[49m\u001b[38;5;241;43m.\u001b[39;49m\u001b[43mget_loc\u001b[49m\u001b[43m(\u001b[49m\u001b[43mkey\u001b[49m\u001b[43m)\u001b[49m\n\u001b[0;32m   3506\u001b[0m \u001b[38;5;28;01mif\u001b[39;00m is_integer(indexer):\n\u001b[0;32m   3507\u001b[0m     indexer \u001b[38;5;241m=\u001b[39m [indexer]\n",
      "File \u001b[1;32m~\\miniconda3\\envs\\data_vis\\lib\\site-packages\\pandas\\core\\indexes\\base.py:3623\u001b[0m, in \u001b[0;36mIndex.get_loc\u001b[1;34m(self, key, method, tolerance)\u001b[0m\n\u001b[0;32m   3621\u001b[0m     \u001b[38;5;28;01mreturn\u001b[39;00m \u001b[38;5;28mself\u001b[39m\u001b[38;5;241m.\u001b[39m_engine\u001b[38;5;241m.\u001b[39mget_loc(casted_key)\n\u001b[0;32m   3622\u001b[0m \u001b[38;5;28;01mexcept\u001b[39;00m \u001b[38;5;167;01mKeyError\u001b[39;00m \u001b[38;5;28;01mas\u001b[39;00m err:\n\u001b[1;32m-> 3623\u001b[0m     \u001b[38;5;28;01mraise\u001b[39;00m \u001b[38;5;167;01mKeyError\u001b[39;00m(key) \u001b[38;5;28;01mfrom\u001b[39;00m \u001b[38;5;21;01merr\u001b[39;00m\n\u001b[0;32m   3624\u001b[0m \u001b[38;5;28;01mexcept\u001b[39;00m \u001b[38;5;167;01mTypeError\u001b[39;00m:\n\u001b[0;32m   3625\u001b[0m     \u001b[38;5;66;03m# If we have a listlike key, _check_indexing_error will raise\u001b[39;00m\n\u001b[0;32m   3626\u001b[0m     \u001b[38;5;66;03m#  InvalidIndexError. Otherwise we fall through and re-raise\u001b[39;00m\n\u001b[0;32m   3627\u001b[0m     \u001b[38;5;66;03m#  the TypeError.\u001b[39;00m\n\u001b[0;32m   3628\u001b[0m     \u001b[38;5;28mself\u001b[39m\u001b[38;5;241m.\u001b[39m_check_indexing_error(key)\n",
      "\u001b[1;31mKeyError\u001b[0m: 'GHG'"
     ]
    }
   ],
   "source": [
    "df = df.dropna()\n",
    "df= df[df['GHG'] != 0]\n",
    "df"
   ]
  },
  {
   "cell_type": "code",
   "execution_count": 23,
   "id": "18245ea2",
   "metadata": {},
   "outputs": [],
   "source": [
    "df = df.loc[(df['year'] == 1949)].groupby('Country')[['AverageTemperature', 'GHG']].mean().reset_index()"
   ]
  },
  {
   "cell_type": "code",
   "execution_count": 56,
   "id": "dda5e42e",
   "metadata": {},
   "outputs": [
    {
     "data": {
      "application/vnd.plotly.v1+json": {
       "config": {
        "plotlyServerURL": "https://plot.ly"
       },
       "data": [
        {
         "hovertemplate": "Country=AFGHANISTAN<br>AverageTemperature=%{x}<br>GHG=%{y}<extra></extra>",
         "legendgroup": "AFGHANISTAN",
         "marker": {
          "color": "#1F77B4",
          "symbol": "circle"
         },
         "mode": "markers",
         "name": "AFGHANISTAN",
         "orientation": "v",
         "showlegend": true,
         "type": "scatter",
         "x": [
          728.7558333333334
         ],
         "xaxis": "x",
         "y": [
          1438653192
         ],
         "yaxis": "y"
        },
        {
         "hovertemplate": "Country=AFGHANISTAN<extra></extra>",
         "legendgroup": "AFGHANISTAN",
         "marker": {
          "color": "#1F77B4",
          "symbol": "circle"
         },
         "mode": "lines",
         "name": "AFGHANISTAN",
         "showlegend": false,
         "type": "scatter",
         "xaxis": "x",
         "yaxis": "y"
        },
        {
         "hovertemplate": "Country=ALBANIA<br>AverageTemperature=%{x}<br>GHG=%{y}<extra></extra>",
         "legendgroup": "ALBANIA",
         "marker": {
          "color": "#FF7F0E",
          "symbol": "circle"
         },
         "mode": "markers",
         "name": "ALBANIA",
         "orientation": "v",
         "showlegend": true,
         "type": "scatter",
         "x": [
          658.3026666666667
         ],
         "xaxis": "x",
         "y": [
          4387324896
         ],
         "yaxis": "y"
        },
        {
         "hovertemplate": "Country=ALBANIA<extra></extra>",
         "legendgroup": "ALBANIA",
         "marker": {
          "color": "#FF7F0E",
          "symbol": "circle"
         },
         "mode": "lines",
         "name": "ALBANIA",
         "showlegend": false,
         "type": "scatter",
         "xaxis": "x",
         "yaxis": "y"
        },
        {
         "hovertemplate": "Country=ALGERIA<br>AverageTemperature=%{x}<br>GHG=%{y}<extra></extra>",
         "legendgroup": "ALGERIA",
         "marker": {
          "color": "#2CA02C",
          "symbol": "circle"
         },
         "mode": "markers",
         "name": "ALGERIA",
         "orientation": "v",
         "showlegend": true,
         "type": "scatter",
         "x": [
          1188.2471666666668
         ],
         "xaxis": "x",
         "y": [
          30475901144
         ],
         "yaxis": "y"
        },
        {
         "hovertemplate": "Country=ALGERIA<extra></extra>",
         "legendgroup": "ALGERIA",
         "marker": {
          "color": "#2CA02C",
          "symbol": "circle"
         },
         "mode": "lines",
         "name": "ALGERIA",
         "showlegend": false,
         "type": "scatter",
         "xaxis": "x",
         "yaxis": "y"
        },
        {
         "hovertemplate": "Country=AMERICAN SAMOA<br>AverageTemperature=%{x}<br>GHG=%{y}<extra></extra>",
         "legendgroup": "AMERICAN SAMOA",
         "marker": {
          "color": "#D62728",
          "symbol": "circle"
         },
         "mode": "markers",
         "name": "AMERICAN SAMOA",
         "orientation": "v",
         "showlegend": true,
         "type": "scatter",
         "x": [
          1369.1746666666666
         ],
         "xaxis": "x",
         "y": [
          0
         ],
         "yaxis": "y"
        },
        {
         "hovertemplate": "Country=AMERICAN SAMOA<extra></extra>",
         "legendgroup": "AMERICAN SAMOA",
         "marker": {
          "color": "#D62728",
          "symbol": "circle"
         },
         "mode": "lines",
         "name": "AMERICAN SAMOA",
         "showlegend": false,
         "type": "scatter",
         "xaxis": "x",
         "yaxis": "y"
        },
        {
         "hovertemplate": "Country=ANDORRA<br>AverageTemperature=%{x}<br>GHG=%{y}<extra></extra>",
         "legendgroup": "ANDORRA",
         "marker": {
          "color": "#9467BD",
          "symbol": "circle"
         },
         "mode": "markers",
         "name": "ANDORRA",
         "orientation": "v",
         "showlegend": true,
         "type": "scatter",
         "x": [
          588.0630833333333
         ],
         "xaxis": "x",
         "y": [
          28036928
         ],
         "yaxis": "y"
        },
        {
         "hovertemplate": "Country=ANDORRA<extra></extra>",
         "legendgroup": "ANDORRA",
         "marker": {
          "color": "#9467BD",
          "symbol": "circle"
         },
         "mode": "lines",
         "name": "ANDORRA",
         "showlegend": false,
         "type": "scatter",
         "xaxis": "x",
         "yaxis": "y"
        },
        {
         "hovertemplate": "Country=ANGOLA<br>AverageTemperature=%{x}<br>GHG=%{y}<extra></extra>",
         "legendgroup": "ANGOLA",
         "marker": {
          "color": "#8C564B",
          "symbol": "circle"
         },
         "mode": "markers",
         "name": "ANGOLA",
         "orientation": "v",
         "showlegend": true,
         "type": "scatter",
         "x": [
          1125.3215833333334
         ],
         "xaxis": "x",
         "y": [
          3030333308
         ],
         "yaxis": "y"
        },
        {
         "hovertemplate": "Country=ANGOLA<extra></extra>",
         "legendgroup": "ANGOLA",
         "marker": {
          "color": "#8C564B",
          "symbol": "circle"
         },
         "mode": "lines",
         "name": "ANGOLA",
         "showlegend": false,
         "type": "scatter",
         "xaxis": "x",
         "yaxis": "y"
        },
        {
         "hovertemplate": "Country=ANGUILLA<br>AverageTemperature=%{x}<br>GHG=%{y}<extra></extra>",
         "legendgroup": "ANGUILLA",
         "marker": {
          "color": "#E377C2",
          "symbol": "circle"
         },
         "mode": "markers",
         "name": "ANGUILLA",
         "orientation": "v",
         "showlegend": true,
         "type": "scatter",
         "x": [
          1374.0374166666666
         ],
         "xaxis": "x",
         "y": [
          4063376
         ],
         "yaxis": "y"
        },
        {
         "hovertemplate": "Country=ANGUILLA<extra></extra>",
         "legendgroup": "ANGUILLA",
         "marker": {
          "color": "#E377C2",
          "symbol": "circle"
         },
         "mode": "lines",
         "name": "ANGUILLA",
         "showlegend": false,
         "type": "scatter",
         "xaxis": "x",
         "yaxis": "y"
        },
        {
         "hovertemplate": "Country=ANTIGUA AND BARBUDA<br>AverageTemperature=%{x}<br>GHG=%{y}<extra></extra>",
         "legendgroup": "ANTIGUA AND BARBUDA",
         "marker": {
          "color": "#7F7F7F",
          "symbol": "circle"
         },
         "mode": "markers",
         "name": "ANTIGUA AND BARBUDA",
         "orientation": "v",
         "showlegend": true,
         "type": "scatter",
         "x": [
          1365.4910833333333
         ],
         "xaxis": "x",
         "y": [
          297593744
         ],
         "yaxis": "y"
        },
        {
         "hovertemplate": "Country=ANTIGUA AND BARBUDA<extra></extra>",
         "legendgroup": "ANTIGUA AND BARBUDA",
         "marker": {
          "color": "#7F7F7F",
          "symbol": "circle"
         },
         "mode": "lines",
         "name": "ANTIGUA AND BARBUDA",
         "showlegend": false,
         "type": "scatter",
         "xaxis": "x",
         "yaxis": "y"
        },
        {
         "hovertemplate": "Country=ARGENTINA<br>AverageTemperature=%{x}<br>GHG=%{y}<extra></extra>",
         "legendgroup": "ARGENTINA",
         "marker": {
          "color": "#BCBD22",
          "symbol": "circle"
         },
         "mode": "markers",
         "name": "ARGENTINA",
         "orientation": "v",
         "showlegend": true,
         "type": "scatter",
         "x": [
          762.1304166666666
         ],
         "xaxis": "x",
         "y": [
          117606430083
         ],
         "yaxis": "y"
        },
        {
         "hovertemplate": "Country=ARGENTINA<extra></extra>",
         "legendgroup": "ARGENTINA",
         "marker": {
          "color": "#BCBD22",
          "symbol": "circle"
         },
         "mode": "lines",
         "name": "ARGENTINA",
         "showlegend": false,
         "type": "scatter",
         "xaxis": "x",
         "yaxis": "y"
        },
        {
         "hovertemplate": "Country=ARMENIA<br>AverageTemperature=%{x}<br>GHG=%{y}<extra></extra>",
         "legendgroup": "ARMENIA",
         "marker": {
          "color": "#17BECF",
          "symbol": "circle"
         },
         "mode": "markers",
         "name": "ARMENIA",
         "orientation": "v",
         "showlegend": true,
         "type": "scatter",
         "x": [
          460.3186666666667
         ],
         "xaxis": "x",
         "y": [
          3915964549
         ],
         "yaxis": "y"
        },
        {
         "hovertemplate": "Country=ARMENIA<extra></extra>",
         "legendgroup": "ARMENIA",
         "marker": {
          "color": "#17BECF",
          "symbol": "circle"
         },
         "mode": "lines",
         "name": "ARMENIA",
         "showlegend": false,
         "type": "scatter",
         "xaxis": "x",
         "yaxis": "y"
        },
        {
         "hovertemplate": "Country=ARUBA<br>AverageTemperature=%{x}<br>GHG=%{y}<extra></extra>",
         "legendgroup": "ARUBA",
         "marker": {
          "color": "#1F77B4",
          "symbol": "circle"
         },
         "mode": "markers",
         "name": "ARUBA",
         "orientation": "v",
         "showlegend": true,
         "type": "scatter",
         "x": [
          1441.8318333333334
         ],
         "xaxis": "x",
         "y": [
          680850880
         ],
         "yaxis": "y"
        },
        {
         "hovertemplate": "Country=ARUBA<extra></extra>",
         "legendgroup": "ARUBA",
         "marker": {
          "color": "#1F77B4",
          "symbol": "circle"
         },
         "mode": "lines",
         "name": "ARUBA",
         "showlegend": false,
         "type": "scatter",
         "xaxis": "x",
         "yaxis": "y"
        },
        {
         "hovertemplate": "Country=AUSTRALIA<br>AverageTemperature=%{x}<br>GHG=%{y}<extra></extra>",
         "legendgroup": "AUSTRALIA",
         "marker": {
          "color": "#FF7F0E",
          "symbol": "circle"
         },
         "mode": "markers",
         "name": "AUSTRALIA",
         "orientation": "v",
         "showlegend": true,
         "type": "scatter",
         "x": [
          1115.3233333333333
         ],
         "xaxis": "x",
         "y": [
          242422416648
         ],
         "yaxis": "y"
        },
        {
         "hovertemplate": "Country=AUSTRALIA<extra></extra>",
         "legendgroup": "AUSTRALIA",
         "marker": {
          "color": "#FF7F0E",
          "symbol": "circle"
         },
         "mode": "lines",
         "name": "AUSTRALIA",
         "showlegend": false,
         "type": "scatter",
         "xaxis": "x",
         "yaxis": "y"
        },
        {
         "hovertemplate": "Country=AUSTRIA<br>AverageTemperature=%{x}<br>GHG=%{y}<extra></extra>",
         "legendgroup": "AUSTRIA",
         "marker": {
          "color": "#2CA02C",
          "symbol": "circle"
         },
         "mode": "markers",
         "name": "AUSTRIA",
         "orientation": "v",
         "showlegend": true,
         "type": "scatter",
         "x": [
          334.66358333333335
         ],
         "xaxis": "x",
         "y": [
          137227402232
         ],
         "yaxis": "y"
        },
        {
         "hovertemplate": "Country=AUSTRIA<extra></extra>",
         "legendgroup": "AUSTRIA",
         "marker": {
          "color": "#2CA02C",
          "symbol": "circle"
         },
         "mode": "lines",
         "name": "AUSTRIA",
         "showlegend": false,
         "type": "scatter",
         "xaxis": "x",
         "yaxis": "y"
        },
        {
         "hovertemplate": "Country=AZERBAIJAN<br>AverageTemperature=%{x}<br>GHG=%{y}<extra></extra>",
         "legendgroup": "AZERBAIJAN",
         "marker": {
          "color": "#D62728",
          "symbol": "circle"
         },
         "mode": "markers",
         "name": "AZERBAIJAN",
         "orientation": "v",
         "showlegend": true,
         "type": "scatter",
         "x": [
          594.5205
         ],
         "xaxis": "x",
         "y": [
          37945403248
         ],
         "yaxis": "y"
        },
        {
         "hovertemplate": "Country=AZERBAIJAN<extra></extra>",
         "legendgroup": "AZERBAIJAN",
         "marker": {
          "color": "#D62728",
          "symbol": "circle"
         },
         "mode": "lines",
         "name": "AZERBAIJAN",
         "showlegend": false,
         "type": "scatter",
         "xaxis": "x",
         "yaxis": "y"
        },
        {
         "hovertemplate": "Country=BAHAMAS<br>AverageTemperature=%{x}<br>GHG=%{y}<extra></extra>",
         "legendgroup": "BAHAMAS",
         "marker": {
          "color": "#9467BD",
          "symbol": "circle"
         },
         "mode": "markers",
         "name": "BAHAMAS",
         "orientation": "v",
         "showlegend": true,
         "type": "scatter",
         "x": [
          1296.46425
         ],
         "xaxis": "x",
         "y": [
          2801799151
         ],
         "yaxis": "y"
        },
        {
         "hovertemplate": "Country=BAHAMAS<extra></extra>",
         "legendgroup": "BAHAMAS",
         "marker": {
          "color": "#9467BD",
          "symbol": "circle"
         },
         "mode": "lines",
         "name": "BAHAMAS",
         "showlegend": false,
         "type": "scatter",
         "xaxis": "x",
         "yaxis": "y"
        },
        {
         "hovertemplate": "Country=BAHRAIN<br>AverageTemperature=%{x}<br>GHG=%{y}<extra></extra>",
         "legendgroup": "BAHRAIN",
         "marker": {
          "color": "#8C564B",
          "symbol": "circle"
         },
         "mode": "markers",
         "name": "BAHRAIN",
         "orientation": "v",
         "showlegend": true,
         "type": "scatter",
         "x": [
          1334.9695833333333
         ],
         "xaxis": "x",
         "y": [
          7295437192
         ],
         "yaxis": "y"
        },
        {
         "hovertemplate": "Country=BAHRAIN<extra></extra>",
         "legendgroup": "BAHRAIN",
         "marker": {
          "color": "#8C564B",
          "symbol": "circle"
         },
         "mode": "lines",
         "name": "BAHRAIN",
         "showlegend": false,
         "type": "scatter",
         "xaxis": "x",
         "yaxis": "y"
        },
        {
         "hovertemplate": "Country=BANGLADESH<br>AverageTemperature=%{x}<br>GHG=%{y}<extra></extra>",
         "legendgroup": "BANGLADESH",
         "marker": {
          "color": "#E377C2",
          "symbol": "circle"
         },
         "mode": "markers",
         "name": "BANGLADESH",
         "orientation": "v",
         "showlegend": true,
         "type": "scatter",
         "x": [
          1286.1580833333333
         ],
         "xaxis": "x",
         "y": [
          5319912307
         ],
         "yaxis": "y"
        },
        {
         "hovertemplate": "Country=BANGLADESH<extra></extra>",
         "legendgroup": "BANGLADESH",
         "marker": {
          "color": "#E377C2",
          "symbol": "circle"
         },
         "mode": "lines",
         "name": "BANGLADESH",
         "showlegend": false,
         "type": "scatter",
         "xaxis": "x",
         "yaxis": "y"
        },
        {
         "hovertemplate": "Country=BARBADOS<br>AverageTemperature=%{x}<br>GHG=%{y}<extra></extra>",
         "legendgroup": "BARBADOS",
         "marker": {
          "color": "#7F7F7F",
          "symbol": "circle"
         },
         "mode": "markers",
         "name": "BARBADOS",
         "orientation": "v",
         "showlegend": true,
         "type": "scatter",
         "x": [
          1367.5654166666666
         ],
         "xaxis": "x",
         "y": [
          487590628
         ],
         "yaxis": "y"
        },
        {
         "hovertemplate": "Country=BARBADOS<extra></extra>",
         "legendgroup": "BARBADOS",
         "marker": {
          "color": "#7F7F7F",
          "symbol": "circle"
         },
         "mode": "lines",
         "name": "BARBADOS",
         "showlegend": false,
         "type": "scatter",
         "xaxis": "x",
         "yaxis": "y"
        },
        {
         "hovertemplate": "Country=BELARUS<br>AverageTemperature=%{x}<br>GHG=%{y}<extra></extra>",
         "legendgroup": "BELARUS",
         "marker": {
          "color": "#BCBD22",
          "symbol": "circle"
         },
         "mode": "markers",
         "name": "BELARUS",
         "orientation": "v",
         "showlegend": true,
         "type": "scatter",
         "x": [
          317.2535
         ],
         "xaxis": "x",
         "y": [
          59258725973
         ],
         "yaxis": "y"
        },
        {
         "hovertemplate": "Country=BELARUS<extra></extra>",
         "legendgroup": "BELARUS",
         "marker": {
          "color": "#BCBD22",
          "symbol": "circle"
         },
         "mode": "lines",
         "name": "BELARUS",
         "showlegend": false,
         "type": "scatter",
         "xaxis": "x",
         "yaxis": "y"
        },
        {
         "hovertemplate": "Country=BELGIUM<br>AverageTemperature=%{x}<br>GHG=%{y}<extra></extra>",
         "legendgroup": "BELGIUM",
         "marker": {
          "color": "#17BECF",
          "symbol": "circle"
         },
         "mode": "markers",
         "name": "BELGIUM",
         "orientation": "v",
         "showlegend": true,
         "type": "scatter",
         "x": [
          500.9923333333333
         ],
         "xaxis": "x",
         "y": [
          375773208983
         ],
         "yaxis": "y"
        },
        {
         "hovertemplate": "Country=BELGIUM<extra></extra>",
         "legendgroup": "BELGIUM",
         "marker": {
          "color": "#17BECF",
          "symbol": "circle"
         },
         "mode": "lines",
         "name": "BELGIUM",
         "showlegend": false,
         "type": "scatter",
         "xaxis": "x",
         "yaxis": "y"
        },
        {
         "hovertemplate": "Country=BELIZE<br>AverageTemperature=%{x}<br>GHG=%{y}<extra></extra>",
         "legendgroup": "BELIZE",
         "marker": {
          "color": "#1F77B4",
          "symbol": "circle"
         },
         "mode": "markers",
         "name": "BELIZE",
         "orientation": "v",
         "showlegend": true,
         "type": "scatter",
         "x": [
          1295.9045
         ],
         "xaxis": "x",
         "y": [
          143471248
         ],
         "yaxis": "y"
        },
        {
         "hovertemplate": "Country=BELIZE<extra></extra>",
         "legendgroup": "BELIZE",
         "marker": {
          "color": "#1F77B4",
          "symbol": "circle"
         },
         "mode": "lines",
         "name": "BELIZE",
         "showlegend": false,
         "type": "scatter",
         "xaxis": "x",
         "yaxis": "y"
        },
        {
         "hovertemplate": "Country=BENIN<br>AverageTemperature=%{x}<br>GHG=%{y}<extra></extra>",
         "legendgroup": "BENIN",
         "marker": {
          "color": "#FF7F0E",
          "symbol": "circle"
         },
         "mode": "markers",
         "name": "BENIN",
         "orientation": "v",
         "showlegend": true,
         "type": "scatter",
         "x": [
          1395.4139166666666
         ],
         "xaxis": "x",
         "y": [
          309019501
         ],
         "yaxis": "y"
        },
        {
         "hovertemplate": "Country=BENIN<extra></extra>",
         "legendgroup": "BENIN",
         "marker": {
          "color": "#FF7F0E",
          "symbol": "circle"
         },
         "mode": "lines",
         "name": "BENIN",
         "showlegend": false,
         "type": "scatter",
         "xaxis": "x",
         "yaxis": "y"
        },
        {
         "hovertemplate": "Country=BHUTAN<br>AverageTemperature=%{x}<br>GHG=%{y}<extra></extra>",
         "legendgroup": "BHUTAN",
         "marker": {
          "color": "#2CA02C",
          "symbol": "circle"
         },
         "mode": "markers",
         "name": "BHUTAN",
         "orientation": "v",
         "showlegend": true,
         "type": "scatter",
         "x": [
          619.1555833333333
         ],
         "xaxis": "x",
         "y": [
          24456162
         ],
         "yaxis": "y"
        },
        {
         "hovertemplate": "Country=BHUTAN<extra></extra>",
         "legendgroup": "BHUTAN",
         "marker": {
          "color": "#2CA02C",
          "symbol": "circle"
         },
         "mode": "lines",
         "name": "BHUTAN",
         "showlegend": false,
         "type": "scatter",
         "xaxis": "x",
         "yaxis": "y"
        },
        {
         "hovertemplate": "Country=BOLIVIA<br>AverageTemperature=%{x}<br>GHG=%{y}<extra></extra>",
         "legendgroup": "BOLIVIA",
         "marker": {
          "color": "#D62728",
          "symbol": "circle"
         },
         "mode": "markers",
         "name": "BOLIVIA",
         "orientation": "v",
         "showlegend": true,
         "type": "scatter",
         "x": [
          1081.24125
         ],
         "xaxis": "x",
         "y": [
          3264756988
         ],
         "yaxis": "y"
        },
        {
         "hovertemplate": "Country=BOLIVIA<extra></extra>",
         "legendgroup": "BOLIVIA",
         "marker": {
          "color": "#D62728",
          "symbol": "circle"
         },
         "mode": "lines",
         "name": "BOLIVIA",
         "showlegend": false,
         "type": "scatter",
         "xaxis": "x",
         "yaxis": "y"
        },
        {
         "hovertemplate": "Country=BOSNIA AND HERZEGOVINA<br>AverageTemperature=%{x}<br>GHG=%{y}<extra></extra>",
         "legendgroup": "BOSNIA AND HERZEGOVINA",
         "marker": {
          "color": "#9467BD",
          "symbol": "circle"
         },
         "mode": "markers",
         "name": "BOSNIA AND HERZEGOVINA",
         "orientation": "v",
         "showlegend": true,
         "type": "scatter",
         "x": [
          547.131
         ],
         "xaxis": "x",
         "y": [
          9821514401
         ],
         "yaxis": "y"
        },
        {
         "hovertemplate": "Country=BOSNIA AND HERZEGOVINA<extra></extra>",
         "legendgroup": "BOSNIA AND HERZEGOVINA",
         "marker": {
          "color": "#9467BD",
          "symbol": "circle"
         },
         "mode": "lines",
         "name": "BOSNIA AND HERZEGOVINA",
         "showlegend": false,
         "type": "scatter",
         "xaxis": "x",
         "yaxis": "y"
        },
        {
         "hovertemplate": "Country=BOTSWANA<br>AverageTemperature=%{x}<br>GHG=%{y}<extra></extra>",
         "legendgroup": "BOTSWANA",
         "marker": {
          "color": "#8C564B",
          "symbol": "circle"
         },
         "mode": "markers",
         "name": "BOTSWANA",
         "orientation": "v",
         "showlegend": true,
         "type": "scatter",
         "x": [
          1132.5926666666667
         ],
         "xaxis": "x",
         "y": [
          457831456
         ],
         "yaxis": "y"
        },
        {
         "hovertemplate": "Country=BOTSWANA<extra></extra>",
         "legendgroup": "BOTSWANA",
         "marker": {
          "color": "#8C564B",
          "symbol": "circle"
         },
         "mode": "lines",
         "name": "BOTSWANA",
         "showlegend": false,
         "type": "scatter",
         "xaxis": "x",
         "yaxis": "y"
        },
        {
         "hovertemplate": "Country=BRAZIL<br>AverageTemperature=%{x}<br>GHG=%{y}<extra></extra>",
         "legendgroup": "BRAZIL",
         "marker": {
          "color": "#E377C2",
          "symbol": "circle"
         },
         "mode": "markers",
         "name": "BRAZIL",
         "orientation": "v",
         "showlegend": true,
         "type": "scatter",
         "x": [
          1278.4686666666666
         ],
         "xaxis": "x",
         "y": [
          130918820247
         ],
         "yaxis": "y"
        },
        {
         "hovertemplate": "Country=BRAZIL<extra></extra>",
         "legendgroup": "BRAZIL",
         "marker": {
          "color": "#E377C2",
          "symbol": "circle"
         },
         "mode": "lines",
         "name": "BRAZIL",
         "showlegend": false,
         "type": "scatter",
         "xaxis": "x",
         "yaxis": "y"
        },
        {
         "hovertemplate": "Country=BRITISH VIRGIN ISLANDS<br>AverageTemperature=%{x}<br>GHG=%{y}<extra></extra>",
         "legendgroup": "BRITISH VIRGIN ISLANDS",
         "marker": {
          "color": "#7F7F7F",
          "symbol": "circle"
         },
         "mode": "markers",
         "name": "BRITISH VIRGIN ISLANDS",
         "orientation": "v",
         "showlegend": true,
         "type": "scatter",
         "x": [
          1359.8878333333332
         ],
         "xaxis": "x",
         "y": [
          21866752
         ],
         "yaxis": "y"
        },
        {
         "hovertemplate": "Country=BRITISH VIRGIN ISLANDS<extra></extra>",
         "legendgroup": "BRITISH VIRGIN ISLANDS",
         "marker": {
          "color": "#7F7F7F",
          "symbol": "circle"
         },
         "mode": "lines",
         "name": "BRITISH VIRGIN ISLANDS",
         "showlegend": false,
         "type": "scatter",
         "xaxis": "x",
         "yaxis": "y"
        },
        {
         "hovertemplate": "Country=BULGARIA<br>AverageTemperature=%{x}<br>GHG=%{y}<extra></extra>",
         "legendgroup": "BULGARIA",
         "marker": {
          "color": "#BCBD22",
          "symbol": "circle"
         },
         "mode": "markers",
         "name": "BULGARIA",
         "orientation": "v",
         "showlegend": true,
         "type": "scatter",
         "x": [
          550.7455833333333
         ],
         "xaxis": "x",
         "y": [
          63609762131
         ],
         "yaxis": "y"
        },
        {
         "hovertemplate": "Country=BULGARIA<extra></extra>",
         "legendgroup": "BULGARIA",
         "marker": {
          "color": "#BCBD22",
          "symbol": "circle"
         },
         "mode": "lines",
         "name": "BULGARIA",
         "showlegend": false,
         "type": "scatter",
         "xaxis": "x",
         "yaxis": "y"
        },
        {
         "hovertemplate": "Country=BURKINA FASO<br>AverageTemperature=%{x}<br>GHG=%{y}<extra></extra>",
         "legendgroup": "BURKINA FASO",
         "marker": {
          "color": "#17BECF",
          "symbol": "circle"
         },
         "mode": "markers",
         "name": "BURKINA FASO",
         "orientation": "v",
         "showlegend": true,
         "type": "scatter",
         "x": [
          1443.56725
         ],
         "xaxis": "x",
         "y": [
          225012897
         ],
         "yaxis": "y"
        },
        {
         "hovertemplate": "Country=BURKINA FASO<extra></extra>",
         "legendgroup": "BURKINA FASO",
         "marker": {
          "color": "#17BECF",
          "symbol": "circle"
         },
         "mode": "lines",
         "name": "BURKINA FASO",
         "showlegend": false,
         "type": "scatter",
         "xaxis": "x",
         "yaxis": "y"
        },
        {
         "hovertemplate": "Country=BURUNDI<br>AverageTemperature=%{x}<br>GHG=%{y}<extra></extra>",
         "legendgroup": "BURUNDI",
         "marker": {
          "color": "#1F77B4",
          "symbol": "circle"
         },
         "mode": "markers",
         "name": "BURUNDI",
         "orientation": "v",
         "showlegend": true,
         "type": "scatter",
         "x": [
          1033.10925
         ],
         "xaxis": "x",
         "y": [
          89977565
         ],
         "yaxis": "y"
        },
        {
         "hovertemplate": "Country=BURUNDI<extra></extra>",
         "legendgroup": "BURUNDI",
         "marker": {
          "color": "#1F77B4",
          "symbol": "circle"
         },
         "mode": "lines",
         "name": "BURUNDI",
         "showlegend": false,
         "type": "scatter",
         "xaxis": "x",
         "yaxis": "y"
        },
        {
         "hovertemplate": "Country=CAMBODIA<br>AverageTemperature=%{x}<br>GHG=%{y}<extra></extra>",
         "legendgroup": "CAMBODIA",
         "marker": {
          "color": "#FF7F0E",
          "symbol": "circle"
         },
         "mode": "markers",
         "name": "CAMBODIA",
         "orientation": "v",
         "showlegend": true,
         "type": "scatter",
         "x": [
          1376.9951666666666
         ],
         "xaxis": "x",
         "y": [
          417769830
         ],
         "yaxis": "y"
        },
        {
         "hovertemplate": "Country=CAMBODIA<extra></extra>",
         "legendgroup": "CAMBODIA",
         "marker": {
          "color": "#FF7F0E",
          "symbol": "circle"
         },
         "mode": "lines",
         "name": "CAMBODIA",
         "showlegend": false,
         "type": "scatter",
         "xaxis": "x",
         "yaxis": "y"
        },
        {
         "hovertemplate": "Country=CAMEROON<br>AverageTemperature=%{x}<br>GHG=%{y}<extra></extra>",
         "legendgroup": "CAMEROON",
         "marker": {
          "color": "#2CA02C",
          "symbol": "circle"
         },
         "mode": "markers",
         "name": "CAMEROON",
         "orientation": "v",
         "showlegend": true,
         "type": "scatter",
         "x": [
          1250.4056666666665
         ],
         "xaxis": "x",
         "y": [
          1544771416
         ],
         "yaxis": "y"
        },
        {
         "hovertemplate": "Country=CAMEROON<extra></extra>",
         "legendgroup": "CAMEROON",
         "marker": {
          "color": "#2CA02C",
          "symbol": "circle"
         },
         "mode": "lines",
         "name": "CAMEROON",
         "showlegend": false,
         "type": "scatter",
         "xaxis": "x",
         "yaxis": "y"
        },
        {
         "hovertemplate": "Country=CANADA<br>AverageTemperature=%{x}<br>GHG=%{y}<extra></extra>",
         "legendgroup": "CANADA",
         "marker": {
          "color": "#D62728",
          "symbol": "circle"
         },
         "mode": "markers",
         "name": "CANADA",
         "orientation": "v",
         "showlegend": true,
         "type": "scatter",
         "x": [
          -240.359
         ],
         "xaxis": "x",
         "y": [
          594489000075
         ],
         "yaxis": "y"
        },
        {
         "hovertemplate": "Country=CANADA<extra></extra>",
         "legendgroup": "CANADA",
         "marker": {
          "color": "#D62728",
          "symbol": "circle"
         },
         "mode": "lines",
         "name": "CANADA",
         "showlegend": false,
         "type": "scatter",
         "xaxis": "x",
         "yaxis": "y"
        },
        {
         "hovertemplate": "Country=CAPE VERDE<br>AverageTemperature=%{x}<br>GHG=%{y}<extra></extra>",
         "legendgroup": "CAPE VERDE",
         "marker": {
          "color": "#9467BD",
          "symbol": "circle"
         },
         "mode": "markers",
         "name": "CAPE VERDE",
         "orientation": "v",
         "showlegend": true,
         "type": "scatter",
         "x": [
          1245.7734166666667
         ],
         "xaxis": "x",
         "y": [
          68201880
         ],
         "yaxis": "y"
        },
        {
         "hovertemplate": "Country=CAPE VERDE<extra></extra>",
         "legendgroup": "CAPE VERDE",
         "marker": {
          "color": "#9467BD",
          "symbol": "circle"
         },
         "mode": "lines",
         "name": "CAPE VERDE",
         "showlegend": false,
         "type": "scatter",
         "xaxis": "x",
         "yaxis": "y"
        },
        {
         "hovertemplate": "Country=CAYMAN ISLANDS<br>AverageTemperature=%{x}<br>GHG=%{y}<extra></extra>",
         "legendgroup": "CAYMAN ISLANDS",
         "marker": {
          "color": "#8C564B",
          "symbol": "circle"
         },
         "mode": "markers",
         "name": "CAYMAN ISLANDS",
         "orientation": "v",
         "showlegend": true,
         "type": "scatter",
         "x": [
          1379.03075
         ],
         "xaxis": "x",
         "y": [
          75328176
         ],
         "yaxis": "y"
        },
        {
         "hovertemplate": "Country=CAYMAN ISLANDS<extra></extra>",
         "legendgroup": "CAYMAN ISLANDS",
         "marker": {
          "color": "#8C564B",
          "symbol": "circle"
         },
         "mode": "lines",
         "name": "CAYMAN ISLANDS",
         "showlegend": false,
         "type": "scatter",
         "xaxis": "x",
         "yaxis": "y"
        },
        {
         "hovertemplate": "Country=CENTRAL AFRICAN REPUBLIC<br>AverageTemperature=%{x}<br>GHG=%{y}<extra></extra>",
         "legendgroup": "CENTRAL AFRICAN REPUBLIC",
         "marker": {
          "color": "#E377C2",
          "symbol": "circle"
         },
         "mode": "markers",
         "name": "CENTRAL AFRICAN REPUBLIC",
         "orientation": "v",
         "showlegend": true,
         "type": "scatter",
         "x": [
          1297.1726666666666
         ],
         "xaxis": "x",
         "y": [
          122091808
         ],
         "yaxis": "y"
        },
        {
         "hovertemplate": "Country=CENTRAL AFRICAN REPUBLIC<extra></extra>",
         "legendgroup": "CENTRAL AFRICAN REPUBLIC",
         "marker": {
          "color": "#E377C2",
          "symbol": "circle"
         },
         "mode": "lines",
         "name": "CENTRAL AFRICAN REPUBLIC",
         "showlegend": false,
         "type": "scatter",
         "xaxis": "x",
         "yaxis": "y"
        },
        {
         "hovertemplate": "Country=CHAD<br>AverageTemperature=%{x}<br>GHG=%{y}<extra></extra>",
         "legendgroup": "CHAD",
         "marker": {
          "color": "#7F7F7F",
          "symbol": "circle"
         },
         "mode": "markers",
         "name": "CHAD",
         "orientation": "v",
         "showlegend": true,
         "type": "scatter",
         "x": [
          1390.9705
         ],
         "xaxis": "x",
         "y": [
          118424144
         ],
         "yaxis": "y"
        },
        {
         "hovertemplate": "Country=CHAD<extra></extra>",
         "legendgroup": "CHAD",
         "marker": {
          "color": "#7F7F7F",
          "symbol": "circle"
         },
         "mode": "lines",
         "name": "CHAD",
         "showlegend": false,
         "type": "scatter",
         "xaxis": "x",
         "yaxis": "y"
        },
        {
         "hovertemplate": "Country=CHILE<br>AverageTemperature=%{x}<br>GHG=%{y}<extra></extra>",
         "legendgroup": "CHILE",
         "marker": {
          "color": "#BCBD22",
          "symbol": "circle"
         },
         "mode": "markers",
         "name": "CHILE",
         "orientation": "v",
         "showlegend": true,
         "type": "scatter",
         "x": [
          495.2341666666667
         ],
         "xaxis": "x",
         "y": [
          34621927092
         ],
         "yaxis": "y"
        },
        {
         "hovertemplate": "Country=CHILE<extra></extra>",
         "legendgroup": "CHILE",
         "marker": {
          "color": "#BCBD22",
          "symbol": "circle"
         },
         "mode": "lines",
         "name": "CHILE",
         "showlegend": false,
         "type": "scatter",
         "xaxis": "x",
         "yaxis": "y"
        },
        {
         "hovertemplate": "Country=CHINA<br>AverageTemperature=%{x}<br>GHG=%{y}<extra></extra>",
         "legendgroup": "CHINA",
         "marker": {
          "color": "#17BECF",
          "symbol": "circle"
         },
         "mode": "markers",
         "name": "CHINA",
         "orientation": "v",
         "showlegend": true,
         "type": "scatter",
         "x": [
          353.9099166666667
         ],
         "xaxis": "x",
         "y": [
          1170042995201
         ],
         "yaxis": "y"
        },
        {
         "hovertemplate": "Country=CHINA<extra></extra>",
         "legendgroup": "CHINA",
         "marker": {
          "color": "#17BECF",
          "symbol": "circle"
         },
         "mode": "lines",
         "name": "CHINA",
         "showlegend": false,
         "type": "scatter",
         "xaxis": "x",
         "yaxis": "y"
        },
        {
         "hovertemplate": "Country=CHRISTMAS ISLAND<br>AverageTemperature=%{x}<br>GHG=%{y}<extra></extra>",
         "legendgroup": "CHRISTMAS ISLAND",
         "marker": {
          "color": "#1F77B4",
          "symbol": "circle"
         },
         "mode": "markers",
         "name": "CHRISTMAS ISLAND",
         "orientation": "v",
         "showlegend": true,
         "type": "scatter",
         "x": [
          1331.9494166666666
         ],
         "xaxis": "x",
         "y": [
          32536320
         ],
         "yaxis": "y"
        },
        {
         "hovertemplate": "Country=CHRISTMAS ISLAND<extra></extra>",
         "legendgroup": "CHRISTMAS ISLAND",
         "marker": {
          "color": "#1F77B4",
          "symbol": "circle"
         },
         "mode": "lines",
         "name": "CHRISTMAS ISLAND",
         "showlegend": false,
         "type": "scatter",
         "xaxis": "x",
         "yaxis": "y"
        },
        {
         "hovertemplate": "Country=COLOMBIA<br>AverageTemperature=%{x}<br>GHG=%{y}<extra></extra>",
         "legendgroup": "COLOMBIA",
         "marker": {
          "color": "#FF7F0E",
          "symbol": "circle"
         },
         "mode": "markers",
         "name": "COLOMBIA",
         "orientation": "v",
         "showlegend": true,
         "type": "scatter",
         "x": [
          1278.7568333333334
         ],
         "xaxis": "x",
         "y": [
          37933646111
         ],
         "yaxis": "y"
        },
        {
         "hovertemplate": "Country=COLOMBIA<extra></extra>",
         "legendgroup": "COLOMBIA",
         "marker": {
          "color": "#FF7F0E",
          "symbol": "circle"
         },
         "mode": "lines",
         "name": "COLOMBIA",
         "showlegend": false,
         "type": "scatter",
         "xaxis": "x",
         "yaxis": "y"
        },
        {
         "hovertemplate": "Country=COMOROS<br>AverageTemperature=%{x}<br>GHG=%{y}<extra></extra>",
         "legendgroup": "COMOROS",
         "marker": {
          "color": "#2CA02C",
          "symbol": "circle"
         },
         "mode": "markers",
         "name": "COMOROS",
         "orientation": "v",
         "showlegend": true,
         "type": "scatter",
         "x": [
          1322.0335
         ],
         "xaxis": "x",
         "y": [
          26402784
         ],
         "yaxis": "y"
        },
        {
         "hovertemplate": "Country=COMOROS<extra></extra>",
         "legendgroup": "COMOROS",
         "marker": {
          "color": "#2CA02C",
          "symbol": "circle"
         },
         "mode": "lines",
         "name": "COMOROS",
         "showlegend": false,
         "type": "scatter",
         "xaxis": "x",
         "yaxis": "y"
        },
        {
         "hovertemplate": "Country=COSTA RICA<br>AverageTemperature=%{x}<br>GHG=%{y}<extra></extra>",
         "legendgroup": "COSTA RICA",
         "marker": {
          "color": "#D62728",
          "symbol": "circle"
         },
         "mode": "markers",
         "name": "COSTA RICA",
         "orientation": "v",
         "showlegend": true,
         "type": "scatter",
         "x": [
          1323.1939166666666
         ],
         "xaxis": "x",
         "y": [
          1659665553
         ],
         "yaxis": "y"
        },
        {
         "hovertemplate": "Country=COSTA RICA<extra></extra>",
         "legendgroup": "COSTA RICA",
         "marker": {
          "color": "#D62728",
          "symbol": "circle"
         },
         "mode": "lines",
         "name": "COSTA RICA",
         "showlegend": false,
         "type": "scatter",
         "xaxis": "x",
         "yaxis": "y"
        },
        {
         "hovertemplate": "Country=CROATIA<br>AverageTemperature=%{x}<br>GHG=%{y}<extra></extra>",
         "legendgroup": "CROATIA",
         "marker": {
          "color": "#9467BD",
          "symbol": "circle"
         },
         "mode": "markers",
         "name": "CROATIA",
         "orientation": "v",
         "showlegend": true,
         "type": "scatter",
         "x": [
          594.2913333333333
         ],
         "xaxis": "x",
         "y": [
          11051731793
         ],
         "yaxis": "y"
        },
        {
         "hovertemplate": "Country=CROATIA<extra></extra>",
         "legendgroup": "CROATIA",
         "marker": {
          "color": "#9467BD",
          "symbol": "circle"
         },
         "mode": "lines",
         "name": "CROATIA",
         "showlegend": false,
         "type": "scatter",
         "xaxis": "x",
         "yaxis": "y"
        },
        {
         "hovertemplate": "Country=CUBA<br>AverageTemperature=%{x}<br>GHG=%{y}<extra></extra>",
         "legendgroup": "CUBA",
         "marker": {
          "color": "#8C564B",
          "symbol": "circle"
         },
         "mode": "markers",
         "name": "CUBA",
         "orientation": "v",
         "showlegend": true,
         "type": "scatter",
         "x": [
          1311.6375
         ],
         "xaxis": "x",
         "y": [
          23345578988
         ],
         "yaxis": "y"
        },
        {
         "hovertemplate": "Country=CUBA<extra></extra>",
         "legendgroup": "CUBA",
         "marker": {
          "color": "#8C564B",
          "symbol": "circle"
         },
         "mode": "lines",
         "name": "CUBA",
         "showlegend": false,
         "type": "scatter",
         "xaxis": "x",
         "yaxis": "y"
        },
        {
         "hovertemplate": "Country=CYPRUS<br>AverageTemperature=%{x}<br>GHG=%{y}<extra></extra>",
         "legendgroup": "CYPRUS",
         "marker": {
          "color": "#E377C2",
          "symbol": "circle"
         },
         "mode": "markers",
         "name": "CYPRUS",
         "orientation": "v",
         "showlegend": true,
         "type": "scatter",
         "x": [
          974.1995
         ],
         "xaxis": "x",
         "y": [
          2212290284
         ],
         "yaxis": "y"
        },
        {
         "hovertemplate": "Country=CYPRUS<extra></extra>",
         "legendgroup": "CYPRUS",
         "marker": {
          "color": "#E377C2",
          "symbol": "circle"
         },
         "mode": "lines",
         "name": "CYPRUS",
         "showlegend": false,
         "type": "scatter",
         "xaxis": "x",
         "yaxis": "y"
        },
        {
         "hovertemplate": "Country=CZECH REPUBLIC<br>AverageTemperature=%{x}<br>GHG=%{y}<extra></extra>",
         "legendgroup": "CZECH REPUBLIC",
         "marker": {
          "color": "#7F7F7F",
          "symbol": "circle"
         },
         "mode": "markers",
         "name": "CZECH REPUBLIC",
         "orientation": "v",
         "showlegend": true,
         "type": "scatter",
         "x": [
          407.30016666666666
         ],
         "xaxis": "x",
         "y": [
          132007772069
         ],
         "yaxis": "y"
        },
        {
         "hovertemplate": "Country=CZECH REPUBLIC<extra></extra>",
         "legendgroup": "CZECH REPUBLIC",
         "marker": {
          "color": "#7F7F7F",
          "symbol": "circle"
         },
         "mode": "lines",
         "name": "CZECH REPUBLIC",
         "showlegend": false,
         "type": "scatter",
         "xaxis": "x",
         "yaxis": "y"
        },
        {
         "hovertemplate": "Country=CÔTE D'IVOIRE<br>AverageTemperature=%{x}<br>GHG=%{y}<extra></extra>",
         "legendgroup": "CÔTE D'IVOIRE",
         "marker": {
          "color": "#BCBD22",
          "symbol": "circle"
         },
         "mode": "markers",
         "name": "CÔTE D'IVOIRE",
         "orientation": "v",
         "showlegend": true,
         "type": "scatter",
         "x": [
          1336.3745
         ],
         "xaxis": "x",
         "y": [
          0
         ],
         "yaxis": "y"
        },
        {
         "hovertemplate": "Country=CÔTE D'IVOIRE<extra></extra>",
         "legendgroup": "CÔTE D'IVOIRE",
         "marker": {
          "color": "#BCBD22",
          "symbol": "circle"
         },
         "mode": "lines",
         "name": "CÔTE D'IVOIRE",
         "showlegend": false,
         "type": "scatter",
         "xaxis": "x",
         "yaxis": "y"
        },
        {
         "hovertemplate": "Country=DEM. REP. KOREA<br>AverageTemperature=%{x}<br>GHG=%{y}<extra></extra>",
         "legendgroup": "DEM. REP. KOREA",
         "marker": {
          "color": "#17BECF",
          "symbol": "circle"
         },
         "mode": "markers",
         "name": "DEM. REP. KOREA",
         "orientation": "v",
         "showlegend": true,
         "type": "scatter",
         "x": [
          365.3860833333333
         ],
         "xaxis": "x",
         "y": [
          74982435038
         ],
         "yaxis": "y"
        },
        {
         "hovertemplate": "Country=DEM. REP. KOREA<extra></extra>",
         "legendgroup": "DEM. REP. KOREA",
         "marker": {
          "color": "#17BECF",
          "symbol": "circle"
         },
         "mode": "lines",
         "name": "DEM. REP. KOREA",
         "showlegend": false,
         "type": "scatter",
         "xaxis": "x",
         "yaxis": "y"
        },
        {
         "hovertemplate": "Country=DEMOCRATIC REPUBLIC OF THE CONGO<br>AverageTemperature=%{x}<br>GHG=%{y}<extra></extra>",
         "legendgroup": "DEMOCRATIC REPUBLIC OF THE CONGO",
         "marker": {
          "color": "#1F77B4",
          "symbol": "circle"
         },
         "mode": "markers",
         "name": "DEMOCRATIC REPUBLIC OF THE CONGO",
         "orientation": "v",
         "showlegend": true,
         "type": "scatter",
         "x": [
          1222.6075
         ],
         "xaxis": "x",
         "y": [
          0
         ],
         "yaxis": "y"
        },
        {
         "hovertemplate": "Country=DEMOCRATIC REPUBLIC OF THE CONGO<extra></extra>",
         "legendgroup": "DEMOCRATIC REPUBLIC OF THE CONGO",
         "marker": {
          "color": "#1F77B4",
          "symbol": "circle"
         },
         "mode": "lines",
         "name": "DEMOCRATIC REPUBLIC OF THE CONGO",
         "showlegend": false,
         "type": "scatter",
         "xaxis": "x",
         "yaxis": "y"
        },
        {
         "hovertemplate": "Country=DENMARK<br>AverageTemperature=%{x}<br>GHG=%{y}<extra></extra>",
         "legendgroup": "DENMARK",
         "marker": {
          "color": "#FF7F0E",
          "symbol": "circle"
         },
         "mode": "markers",
         "name": "DENMARK",
         "orientation": "v",
         "showlegend": true,
         "type": "scatter",
         "x": [
          416.45391666666666
         ],
         "xaxis": "x",
         "y": [
          90364582843
         ],
         "yaxis": "y"
        },
        {
         "hovertemplate": "Country=DENMARK<extra></extra>",
         "legendgroup": "DENMARK",
         "marker": {
          "color": "#FF7F0E",
          "symbol": "circle"
         },
         "mode": "lines",
         "name": "DENMARK",
         "showlegend": false,
         "type": "scatter",
         "xaxis": "x",
         "yaxis": "y"
        },
        {
         "hovertemplate": "Country=DJIBOUTI<br>AverageTemperature=%{x}<br>GHG=%{y}<extra></extra>",
         "legendgroup": "DJIBOUTI",
         "marker": {
          "color": "#2CA02C",
          "symbol": "circle"
         },
         "mode": "markers",
         "name": "DJIBOUTI",
         "orientation": "v",
         "showlegend": true,
         "type": "scatter",
         "x": [
          1474.7299166666667
         ],
         "xaxis": "x",
         "y": [
          175674144
         ],
         "yaxis": "y"
        },
        {
         "hovertemplate": "Country=DJIBOUTI<extra></extra>",
         "legendgroup": "DJIBOUTI",
         "marker": {
          "color": "#2CA02C",
          "symbol": "circle"
         },
         "mode": "lines",
         "name": "DJIBOUTI",
         "showlegend": false,
         "type": "scatter",
         "xaxis": "x",
         "yaxis": "y"
        },
        {
         "hovertemplate": "Country=DOMINICA<br>AverageTemperature=%{x}<br>GHG=%{y}<extra></extra>",
         "legendgroup": "DOMINICA",
         "marker": {
          "color": "#D62728",
          "symbol": "circle"
         },
         "mode": "markers",
         "name": "DOMINICA",
         "orientation": "v",
         "showlegend": true,
         "type": "scatter",
         "x": [
          1349.39625
         ],
         "xaxis": "x",
         "y": [
          26611632
         ],
         "yaxis": "y"
        },
        {
         "hovertemplate": "Country=DOMINICA<extra></extra>",
         "legendgroup": "DOMINICA",
         "marker": {
          "color": "#D62728",
          "symbol": "circle"
         },
         "mode": "lines",
         "name": "DOMINICA",
         "showlegend": false,
         "type": "scatter",
         "xaxis": "x",
         "yaxis": "y"
        },
        {
         "hovertemplate": "Country=DOMINICAN REPUBLIC<br>AverageTemperature=%{x}<br>GHG=%{y}<extra></extra>",
         "legendgroup": "DOMINICAN REPUBLIC",
         "marker": {
          "color": "#9467BD",
          "symbol": "circle"
         },
         "mode": "markers",
         "name": "DOMINICAN REPUBLIC",
         "orientation": "v",
         "showlegend": true,
         "type": "scatter",
         "x": [
          1320.5200833333333
         ],
         "xaxis": "x",
         "y": [
          4441986873
         ],
         "yaxis": "y"
        },
        {
         "hovertemplate": "Country=DOMINICAN REPUBLIC<extra></extra>",
         "legendgroup": "DOMINICAN REPUBLIC",
         "marker": {
          "color": "#9467BD",
          "symbol": "circle"
         },
         "mode": "lines",
         "name": "DOMINICAN REPUBLIC",
         "showlegend": false,
         "type": "scatter",
         "xaxis": "x",
         "yaxis": "y"
        },
        {
         "hovertemplate": "Country=ECUADOR<br>AverageTemperature=%{x}<br>GHG=%{y}<extra></extra>",
         "legendgroup": "ECUADOR",
         "marker": {
          "color": "#8C564B",
          "symbol": "circle"
         },
         "mode": "markers",
         "name": "ECUADOR",
         "orientation": "v",
         "showlegend": true,
         "type": "scatter",
         "x": [
          1127.92975
         ],
         "xaxis": "x",
         "y": [
          8365825027
         ],
         "yaxis": "y"
        },
        {
         "hovertemplate": "Country=ECUADOR<extra></extra>",
         "legendgroup": "ECUADOR",
         "marker": {
          "color": "#8C564B",
          "symbol": "circle"
         },
         "mode": "lines",
         "name": "ECUADOR",
         "showlegend": false,
         "type": "scatter",
         "xaxis": "x",
         "yaxis": "y"
        },
        {
         "hovertemplate": "Country=EGYPT<br>AverageTemperature=%{x}<br>GHG=%{y}<extra></extra>",
         "legendgroup": "EGYPT",
         "marker": {
          "color": "#E377C2",
          "symbol": "circle"
         },
         "mode": "markers",
         "name": "EGYPT",
         "orientation": "v",
         "showlegend": true,
         "type": "scatter",
         "x": [
          1171.2639166666665
         ],
         "xaxis": "x",
         "y": [
          40314686259
         ],
         "yaxis": "y"
        },
        {
         "hovertemplate": "Country=EGYPT<extra></extra>",
         "legendgroup": "EGYPT",
         "marker": {
          "color": "#E377C2",
          "symbol": "circle"
         },
         "mode": "lines",
         "name": "EGYPT",
         "showlegend": false,
         "type": "scatter",
         "xaxis": "x",
         "yaxis": "y"
        },
        {
         "hovertemplate": "Country=EL SALVADOR<br>AverageTemperature=%{x}<br>GHG=%{y}<extra></extra>",
         "legendgroup": "EL SALVADOR",
         "marker": {
          "color": "#7F7F7F",
          "symbol": "circle"
         },
         "mode": "markers",
         "name": "EL SALVADOR",
         "orientation": "v",
         "showlegend": true,
         "type": "scatter",
         "x": [
          1289.7040833333333
         ],
         "xaxis": "x",
         "y": [
          1685255119
         ],
         "yaxis": "y"
        },
        {
         "hovertemplate": "Country=EL SALVADOR<extra></extra>",
         "legendgroup": "EL SALVADOR",
         "marker": {
          "color": "#7F7F7F",
          "symbol": "circle"
         },
         "mode": "lines",
         "name": "EL SALVADOR",
         "showlegend": false,
         "type": "scatter",
         "xaxis": "x",
         "yaxis": "y"
        },
        {
         "hovertemplate": "Country=EQUATORIAL GUINEA<br>AverageTemperature=%{x}<br>GHG=%{y}<extra></extra>",
         "legendgroup": "EQUATORIAL GUINEA",
         "marker": {
          "color": "#BCBD22",
          "symbol": "circle"
         },
         "mode": "markers",
         "name": "EQUATORIAL GUINEA",
         "orientation": "v",
         "showlegend": true,
         "type": "scatter",
         "x": [
          1280.857
         ],
         "xaxis": "x",
         "y": [
          59576640
         ],
         "yaxis": "y"
        },
        {
         "hovertemplate": "Country=EQUATORIAL GUINEA<extra></extra>",
         "legendgroup": "EQUATORIAL GUINEA",
         "marker": {
          "color": "#BCBD22",
          "symbol": "circle"
         },
         "mode": "lines",
         "name": "EQUATORIAL GUINEA",
         "showlegend": false,
         "type": "scatter",
         "xaxis": "x",
         "yaxis": "y"
        },
        {
         "hovertemplate": "Country=ERITREA<br>AverageTemperature=%{x}<br>GHG=%{y}<extra></extra>",
         "legendgroup": "ERITREA",
         "marker": {
          "color": "#17BECF",
          "symbol": "circle"
         },
         "mode": "markers",
         "name": "ERITREA",
         "orientation": "v",
         "showlegend": true,
         "type": "scatter",
         "x": [
          1372.2099166666667
         ],
         "xaxis": "x",
         "y": [
          27218264
         ],
         "yaxis": "y"
        },
        {
         "hovertemplate": "Country=ERITREA<extra></extra>",
         "legendgroup": "ERITREA",
         "marker": {
          "color": "#17BECF",
          "symbol": "circle"
         },
         "mode": "lines",
         "name": "ERITREA",
         "showlegend": false,
         "type": "scatter",
         "xaxis": "x",
         "yaxis": "y"
        },
        {
         "hovertemplate": "Country=ESTONIA<br>AverageTemperature=%{x}<br>GHG=%{y}<extra></extra>",
         "legendgroup": "ESTONIA",
         "marker": {
          "color": "#1F77B4",
          "symbol": "circle"
         },
         "mode": "markers",
         "name": "ESTONIA",
         "orientation": "v",
         "showlegend": true,
         "type": "scatter",
         "x": [
          265.62575
         ],
         "xaxis": "x",
         "y": [
          16444370948
         ],
         "yaxis": "y"
        },
        {
         "hovertemplate": "Country=ESTONIA<extra></extra>",
         "legendgroup": "ESTONIA",
         "marker": {
          "color": "#1F77B4",
          "symbol": "circle"
         },
         "mode": "lines",
         "name": "ESTONIA",
         "showlegend": false,
         "type": "scatter",
         "xaxis": "x",
         "yaxis": "y"
        },
        {
         "hovertemplate": "Country=ETHIOPIA<br>AverageTemperature=%{x}<br>GHG=%{y}<extra></extra>",
         "legendgroup": "ETHIOPIA",
         "marker": {
          "color": "#FF7F0E",
          "symbol": "circle"
         },
         "mode": "markers",
         "name": "ETHIOPIA",
         "orientation": "v",
         "showlegend": true,
         "type": "scatter",
         "x": [
          1179.9220833333334
         ],
         "xaxis": "x",
         "y": [
          1292017060
         ],
         "yaxis": "y"
        },
        {
         "hovertemplate": "Country=ETHIOPIA<extra></extra>",
         "legendgroup": "ETHIOPIA",
         "marker": {
          "color": "#FF7F0E",
          "symbol": "circle"
         },
         "mode": "lines",
         "name": "ETHIOPIA",
         "showlegend": false,
         "type": "scatter",
         "xaxis": "x",
         "yaxis": "y"
        },
        {
         "hovertemplate": "Country=FALKLAND ISLANDS (MALVINAS)<br>AverageTemperature=%{x}<br>GHG=%{y}<extra></extra>",
         "legendgroup": "FALKLAND ISLANDS (MALVINAS)",
         "marker": {
          "color": "#2CA02C",
          "symbol": "circle"
         },
         "mode": "markers",
         "name": "FALKLAND ISLANDS (MALVINAS)",
         "orientation": "v",
         "showlegend": true,
         "type": "scatter",
         "x": [
          326.3706666666667
         ],
         "xaxis": "x",
         "y": [
          0
         ],
         "yaxis": "y"
        },
        {
         "hovertemplate": "Country=FALKLAND ISLANDS (MALVINAS)<extra></extra>",
         "legendgroup": "FALKLAND ISLANDS (MALVINAS)",
         "marker": {
          "color": "#2CA02C",
          "symbol": "circle"
         },
         "mode": "lines",
         "name": "FALKLAND ISLANDS (MALVINAS)",
         "showlegend": false,
         "type": "scatter",
         "xaxis": "x",
         "yaxis": "y"
        },
        {
         "hovertemplate": "Country=FAROE ISLANDS<br>AverageTemperature=%{x}<br>GHG=%{y}<extra></extra>",
         "legendgroup": "FAROE ISLANDS",
         "marker": {
          "color": "#D62728",
          "symbol": "circle"
         },
         "mode": "markers",
         "name": "FAROE ISLANDS",
         "orientation": "v",
         "showlegend": true,
         "type": "scatter",
         "x": [
          351.5875
         ],
         "xaxis": "x",
         "y": [
          0
         ],
         "yaxis": "y"
        },
        {
         "hovertemplate": "Country=FAROE ISLANDS<extra></extra>",
         "legendgroup": "FAROE ISLANDS",
         "marker": {
          "color": "#D62728",
          "symbol": "circle"
         },
         "mode": "lines",
         "name": "FAROE ISLANDS",
         "showlegend": false,
         "type": "scatter",
         "xaxis": "x",
         "yaxis": "y"
        },
        {
         "hovertemplate": "Country=FEDERATED STATES OF MICRONESIA<br>AverageTemperature=%{x}<br>GHG=%{y}<extra></extra>",
         "legendgroup": "FEDERATED STATES OF MICRONESIA",
         "marker": {
          "color": "#9467BD",
          "symbol": "circle"
         },
         "mode": "markers",
         "name": "FEDERATED STATES OF MICRONESIA",
         "orientation": "v",
         "showlegend": true,
         "type": "scatter",
         "x": [
          1380.1954166666667
         ],
         "xaxis": "x",
         "y": [
          0
         ],
         "yaxis": "y"
        },
        {
         "hovertemplate": "Country=FEDERATED STATES OF MICRONESIA<extra></extra>",
         "legendgroup": "FEDERATED STATES OF MICRONESIA",
         "marker": {
          "color": "#9467BD",
          "symbol": "circle"
         },
         "mode": "lines",
         "name": "FEDERATED STATES OF MICRONESIA",
         "showlegend": false,
         "type": "scatter",
         "xaxis": "x",
         "yaxis": "y"
        },
        {
         "hovertemplate": "Country=FIJI<br>AverageTemperature=%{x}<br>GHG=%{y}<extra></extra>",
         "legendgroup": "FIJI",
         "marker": {
          "color": "#8C564B",
          "symbol": "circle"
         },
         "mode": "markers",
         "name": "FIJI",
         "orientation": "v",
         "showlegend": true,
         "type": "scatter",
         "x": [
          1290.2811666666666
         ],
         "xaxis": "x",
         "y": [
          519129258
         ],
         "yaxis": "y"
        },
        {
         "hovertemplate": "Country=FIJI<extra></extra>",
         "legendgroup": "FIJI",
         "marker": {
          "color": "#8C564B",
          "symbol": "circle"
         },
         "mode": "lines",
         "name": "FIJI",
         "showlegend": false,
         "type": "scatter",
         "xaxis": "x",
         "yaxis": "y"
        },
        {
         "hovertemplate": "Country=FINLAND<br>AverageTemperature=%{x}<br>GHG=%{y}<extra></extra>",
         "legendgroup": "FINLAND",
         "marker": {
          "color": "#E377C2",
          "symbol": "circle"
         },
         "mode": "markers",
         "name": "FINLAND",
         "orientation": "v",
         "showlegend": true,
         "type": "scatter",
         "x": [
          82.61291666666666
         ],
         "xaxis": "x",
         "y": [
          43719702699
         ],
         "yaxis": "y"
        },
        {
         "hovertemplate": "Country=FINLAND<extra></extra>",
         "legendgroup": "FINLAND",
         "marker": {
          "color": "#E377C2",
          "symbol": "circle"
         },
         "mode": "lines",
         "name": "FINLAND",
         "showlegend": false,
         "type": "scatter",
         "xaxis": "x",
         "yaxis": "y"
        },
        {
         "hovertemplate": "Country=FRANCE<br>AverageTemperature=%{x}<br>GHG=%{y}<extra></extra>",
         "legendgroup": "FRANCE",
         "marker": {
          "color": "#7F7F7F",
          "symbol": "circle"
         },
         "mode": "markers",
         "name": "FRANCE",
         "orientation": "v",
         "showlegend": true,
         "type": "scatter",
         "x": [
          548.3181666666667
         ],
         "xaxis": "x",
         "y": [
          1055914787866
         ],
         "yaxis": "y"
        },
        {
         "hovertemplate": "Country=FRANCE<extra></extra>",
         "legendgroup": "FRANCE",
         "marker": {
          "color": "#7F7F7F",
          "symbol": "circle"
         },
         "mode": "lines",
         "name": "FRANCE",
         "showlegend": false,
         "type": "scatter",
         "xaxis": "x",
         "yaxis": "y"
        },
        {
         "hovertemplate": "Country=FRENCH GUIANA<br>AverageTemperature=%{x}<br>GHG=%{y}<extra></extra>",
         "legendgroup": "FRENCH GUIANA",
         "marker": {
          "color": "#BCBD22",
          "symbol": "circle"
         },
         "mode": "markers",
         "name": "FRENCH GUIANA",
         "orientation": "v",
         "showlegend": true,
         "type": "scatter",
         "x": [
          1329.47625
         ],
         "xaxis": "x",
         "y": [
          181822336
         ],
         "yaxis": "y"
        },
        {
         "hovertemplate": "Country=FRENCH GUIANA<extra></extra>",
         "legendgroup": "FRENCH GUIANA",
         "marker": {
          "color": "#BCBD22",
          "symbol": "circle"
         },
         "mode": "lines",
         "name": "FRENCH GUIANA",
         "showlegend": false,
         "type": "scatter",
         "xaxis": "x",
         "yaxis": "y"
        },
        {
         "hovertemplate": "Country=FRENCH POLYNESIA<br>AverageTemperature=%{x}<br>GHG=%{y}<extra></extra>",
         "legendgroup": "FRENCH POLYNESIA",
         "marker": {
          "color": "#17BECF",
          "symbol": "circle"
         },
         "mode": "markers",
         "name": "FRENCH POLYNESIA",
         "orientation": "v",
         "showlegend": true,
         "type": "scatter",
         "x": [
          1343.8093333333334
         ],
         "xaxis": "x",
         "y": [
          209643088
         ],
         "yaxis": "y"
        },
        {
         "hovertemplate": "Country=FRENCH POLYNESIA<extra></extra>",
         "legendgroup": "FRENCH POLYNESIA",
         "marker": {
          "color": "#17BECF",
          "symbol": "circle"
         },
         "mode": "lines",
         "name": "FRENCH POLYNESIA",
         "showlegend": false,
         "type": "scatter",
         "xaxis": "x",
         "yaxis": "y"
        },
        {
         "hovertemplate": "Country=GABON<br>AverageTemperature=%{x}<br>GHG=%{y}<extra></extra>",
         "legendgroup": "GABON",
         "marker": {
          "color": "#1F77B4",
          "symbol": "circle"
         },
         "mode": "markers",
         "name": "GABON",
         "orientation": "v",
         "showlegend": true,
         "type": "scatter",
         "x": [
          1247.0793333333334
         ],
         "xaxis": "x",
         "y": [
          2733599490
         ],
         "yaxis": "y"
        },
        {
         "hovertemplate": "Country=GABON<extra></extra>",
         "legendgroup": "GABON",
         "marker": {
          "color": "#1F77B4",
          "symbol": "circle"
         },
         "mode": "lines",
         "name": "GABON",
         "showlegend": false,
         "type": "scatter",
         "xaxis": "x",
         "yaxis": "y"
        },
        {
         "hovertemplate": "Country=GEORGIA<br>AverageTemperature=%{x}<br>GHG=%{y}<extra></extra>",
         "legendgroup": "GEORGIA",
         "marker": {
          "color": "#FF7F0E",
          "symbol": "circle"
         },
         "mode": "markers",
         "name": "GEORGIA",
         "orientation": "v",
         "showlegend": true,
         "type": "scatter",
         "x": [
          437.86133333333333
         ],
         "xaxis": "x",
         "y": [
          10178562886
         ],
         "yaxis": "y"
        },
        {
         "hovertemplate": "Country=GEORGIA<extra></extra>",
         "legendgroup": "GEORGIA",
         "marker": {
          "color": "#FF7F0E",
          "symbol": "circle"
         },
         "mode": "lines",
         "name": "GEORGIA",
         "showlegend": false,
         "type": "scatter",
         "xaxis": "x",
         "yaxis": "y"
        },
        {
         "hovertemplate": "Country=GERMANY<br>AverageTemperature=%{x}<br>GHG=%{y}<extra></extra>",
         "legendgroup": "GERMANY",
         "marker": {
          "color": "#2CA02C",
          "symbol": "circle"
         },
         "mode": "markers",
         "name": "GERMANY",
         "orientation": "v",
         "showlegend": true,
         "type": "scatter",
         "x": [
          434.48675
         ],
         "xaxis": "x",
         "y": [
          2629957446676
         ],
         "yaxis": "y"
        },
        {
         "hovertemplate": "Country=GERMANY<extra></extra>",
         "legendgroup": "GERMANY",
         "marker": {
          "color": "#2CA02C",
          "symbol": "circle"
         },
         "mode": "lines",
         "name": "GERMANY",
         "showlegend": false,
         "type": "scatter",
         "xaxis": "x",
         "yaxis": "y"
        },
        {
         "hovertemplate": "Country=GHANA<br>AverageTemperature=%{x}<br>GHG=%{y}<extra></extra>",
         "legendgroup": "GHANA",
         "marker": {
          "color": "#D62728",
          "symbol": "circle"
         },
         "mode": "markers",
         "name": "GHANA",
         "orientation": "v",
         "showlegend": true,
         "type": "scatter",
         "x": [
          1372.9875
         ],
         "xaxis": "x",
         "y": [
          2571990500
         ],
         "yaxis": "y"
        },
        {
         "hovertemplate": "Country=GHANA<extra></extra>",
         "legendgroup": "GHANA",
         "marker": {
          "color": "#D62728",
          "symbol": "circle"
         },
         "mode": "lines",
         "name": "GHANA",
         "showlegend": false,
         "type": "scatter",
         "xaxis": "x",
         "yaxis": "y"
        },
        {
         "hovertemplate": "Country=GREECE<br>AverageTemperature=%{x}<br>GHG=%{y}<extra></extra>",
         "legendgroup": "GREECE",
         "marker": {
          "color": "#9467BD",
          "symbol": "circle"
         },
         "mode": "markers",
         "name": "GREECE",
         "orientation": "v",
         "showlegend": true,
         "type": "scatter",
         "x": [
          767.2105
         ],
         "xaxis": "x",
         "y": [
          36327738344
         ],
         "yaxis": "y"
        },
        {
         "hovertemplate": "Country=GREECE<extra></extra>",
         "legendgroup": "GREECE",
         "marker": {
          "color": "#9467BD",
          "symbol": "circle"
         },
         "mode": "lines",
         "name": "GREECE",
         "showlegend": false,
         "type": "scatter",
         "xaxis": "x",
         "yaxis": "y"
        },
        {
         "hovertemplate": "Country=GREENLAND<br>AverageTemperature=%{x}<br>GHG=%{y}<extra></extra>",
         "legendgroup": "GREENLAND",
         "marker": {
          "color": "#8C564B",
          "symbol": "circle"
         },
         "mode": "markers",
         "name": "GREENLAND",
         "orientation": "v",
         "showlegend": true,
         "type": "scatter",
         "x": [
          -938.91075
         ],
         "xaxis": "x",
         "y": [
          436884368
         ],
         "yaxis": "y"
        },
        {
         "hovertemplate": "Country=GREENLAND<extra></extra>",
         "legendgroup": "GREENLAND",
         "marker": {
          "color": "#8C564B",
          "symbol": "circle"
         },
         "mode": "lines",
         "name": "GREENLAND",
         "showlegend": false,
         "type": "scatter",
         "xaxis": "x",
         "yaxis": "y"
        },
        {
         "hovertemplate": "Country=GRENADA<br>AverageTemperature=%{x}<br>GHG=%{y}<extra></extra>",
         "legendgroup": "GRENADA",
         "marker": {
          "color": "#E377C2",
          "symbol": "circle"
         },
         "mode": "markers",
         "name": "GRENADA",
         "orientation": "v",
         "showlegend": true,
         "type": "scatter",
         "x": [
          1382.29775
         ],
         "xaxis": "x",
         "y": [
          47419488
         ],
         "yaxis": "y"
        },
        {
         "hovertemplate": "Country=GRENADA<extra></extra>",
         "legendgroup": "GRENADA",
         "marker": {
          "color": "#E377C2",
          "symbol": "circle"
         },
         "mode": "lines",
         "name": "GRENADA",
         "showlegend": false,
         "type": "scatter",
         "xaxis": "x",
         "yaxis": "y"
        },
        {
         "hovertemplate": "Country=GUADELOUPE<br>AverageTemperature=%{x}<br>GHG=%{y}<extra></extra>",
         "legendgroup": "GUADELOUPE",
         "marker": {
          "color": "#7F7F7F",
          "symbol": "circle"
         },
         "mode": "markers",
         "name": "GUADELOUPE",
         "orientation": "v",
         "showlegend": true,
         "type": "scatter",
         "x": [
          1360.15125
         ],
         "xaxis": "x",
         "y": [
          472568064
         ],
         "yaxis": "y"
        },
        {
         "hovertemplate": "Country=GUADELOUPE<extra></extra>",
         "legendgroup": "GUADELOUPE",
         "marker": {
          "color": "#7F7F7F",
          "symbol": "circle"
         },
         "mode": "lines",
         "name": "GUADELOUPE",
         "showlegend": false,
         "type": "scatter",
         "xaxis": "x",
         "yaxis": "y"
        },
        {
         "hovertemplate": "Country=GUAM<br>AverageTemperature=%{x}<br>GHG=%{y}<extra></extra>",
         "legendgroup": "GUAM",
         "marker": {
          "color": "#BCBD22",
          "symbol": "circle"
         },
         "mode": "markers",
         "name": "GUAM",
         "orientation": "v",
         "showlegend": true,
         "type": "scatter",
         "x": [
          1385.93375
         ],
         "xaxis": "x",
         "y": [
          0
         ],
         "yaxis": "y"
        },
        {
         "hovertemplate": "Country=GUAM<extra></extra>",
         "legendgroup": "GUAM",
         "marker": {
          "color": "#BCBD22",
          "symbol": "circle"
         },
         "mode": "lines",
         "name": "GUAM",
         "showlegend": false,
         "type": "scatter",
         "xaxis": "x",
         "yaxis": "y"
        },
        {
         "hovertemplate": "Country=GUATEMALA<br>AverageTemperature=%{x}<br>GHG=%{y}<extra></extra>",
         "legendgroup": "GUATEMALA",
         "marker": {
          "color": "#17BECF",
          "symbol": "circle"
         },
         "mode": "markers",
         "name": "GUATEMALA",
         "orientation": "v",
         "showlegend": true,
         "type": "scatter",
         "x": [
          1197.84875
         ],
         "xaxis": "x",
         "y": [
          2914525407
         ],
         "yaxis": "y"
        },
        {
         "hovertemplate": "Country=GUATEMALA<extra></extra>",
         "legendgroup": "GUATEMALA",
         "marker": {
          "color": "#17BECF",
          "symbol": "circle"
         },
         "mode": "lines",
         "name": "GUATEMALA",
         "showlegend": false,
         "type": "scatter",
         "xaxis": "x",
         "yaxis": "y"
        },
        {
         "hovertemplate": "Country=GUINEA<br>AverageTemperature=%{x}<br>GHG=%{y}<extra></extra>",
         "legendgroup": "GUINEA",
         "marker": {
          "color": "#1F77B4",
          "symbol": "circle"
         },
         "mode": "markers",
         "name": "GUINEA",
         "orientation": "v",
         "showlegend": true,
         "type": "scatter",
         "x": [
          1311.6966666666667
         ],
         "xaxis": "x",
         "y": [
          722297735
         ],
         "yaxis": "y"
        },
        {
         "hovertemplate": "Country=GUINEA<extra></extra>",
         "legendgroup": "GUINEA",
         "marker": {
          "color": "#1F77B4",
          "symbol": "circle"
         },
         "mode": "lines",
         "name": "GUINEA",
         "showlegend": false,
         "type": "scatter",
         "xaxis": "x",
         "yaxis": "y"
        },
        {
         "hovertemplate": "Country=GUINEA-BISSAU<br>AverageTemperature=%{x}<br>GHG=%{y}<extra></extra>",
         "legendgroup": "GUINEA-BISSAU",
         "marker": {
          "color": "#FF7F0E",
          "symbol": "circle"
         },
         "mode": "markers",
         "name": "GUINEA-BISSAU",
         "orientation": "v",
         "showlegend": true,
         "type": "scatter",
         "x": [
          1378.2430833333333
         ],
         "xaxis": "x",
         "y": [
          86419104
         ],
         "yaxis": "y"
        },
        {
         "hovertemplate": "Country=GUINEA-BISSAU<extra></extra>",
         "legendgroup": "GUINEA-BISSAU",
         "marker": {
          "color": "#FF7F0E",
          "symbol": "circle"
         },
         "mode": "lines",
         "name": "GUINEA-BISSAU",
         "showlegend": false,
         "type": "scatter",
         "xaxis": "x",
         "yaxis": "y"
        },
        {
         "hovertemplate": "Country=GUYANA<br>AverageTemperature=%{x}<br>GHG=%{y}<extra></extra>",
         "legendgroup": "GUYANA",
         "marker": {
          "color": "#2CA02C",
          "symbol": "circle"
         },
         "mode": "markers",
         "name": "GUYANA",
         "orientation": "v",
         "showlegend": true,
         "type": "scatter",
         "x": [
          1341.16875
         ],
         "xaxis": "x",
         "y": [
          1314251152
         ],
         "yaxis": "y"
        },
        {
         "hovertemplate": "Country=GUYANA<extra></extra>",
         "legendgroup": "GUYANA",
         "marker": {
          "color": "#2CA02C",
          "symbol": "circle"
         },
         "mode": "lines",
         "name": "GUYANA",
         "showlegend": false,
         "type": "scatter",
         "xaxis": "x",
         "yaxis": "y"
        },
        {
         "hovertemplate": "Country=HAITI<br>AverageTemperature=%{x}<br>GHG=%{y}<extra></extra>",
         "legendgroup": "HAITI",
         "marker": {
          "color": "#D62728",
          "symbol": "circle"
         },
         "mode": "markers",
         "name": "HAITI",
         "orientation": "v",
         "showlegend": true,
         "type": "scatter",
         "x": [
          1358.3891666666666
         ],
         "xaxis": "x",
         "y": [
          542813266
         ],
         "yaxis": "y"
        },
        {
         "hovertemplate": "Country=HAITI<extra></extra>",
         "legendgroup": "HAITI",
         "marker": {
          "color": "#D62728",
          "symbol": "circle"
         },
         "mode": "lines",
         "name": "HAITI",
         "showlegend": false,
         "type": "scatter",
         "xaxis": "x",
         "yaxis": "y"
        },
        {
         "hovertemplate": "Country=HEARD ISLAND AND MCDONALD ISLANDS<br>AverageTemperature=%{x}<br>GHG=%{y}<extra></extra>",
         "legendgroup": "HEARD ISLAND AND MCDONALD ISLANDS",
         "marker": {
          "color": "#9467BD",
          "symbol": "circle"
         },
         "mode": "markers",
         "name": "HEARD ISLAND AND MCDONALD ISLANDS",
         "orientation": "v",
         "showlegend": true,
         "type": "scatter",
         "x": [
          128.33994696969697
         ],
         "xaxis": "x",
         "y": [
          0
         ],
         "yaxis": "y"
        },
        {
         "hovertemplate": "Country=HEARD ISLAND AND MCDONALD ISLANDS<extra></extra>",
         "legendgroup": "HEARD ISLAND AND MCDONALD ISLANDS",
         "marker": {
          "color": "#9467BD",
          "symbol": "circle"
         },
         "mode": "lines",
         "name": "HEARD ISLAND AND MCDONALD ISLANDS",
         "showlegend": false,
         "type": "scatter",
         "xaxis": "x",
         "yaxis": "y"
        },
        {
         "hovertemplate": "Country=HONDURAS<br>AverageTemperature=%{x}<br>GHG=%{y}<extra></extra>",
         "legendgroup": "HONDURAS",
         "marker": {
          "color": "#8C564B",
          "symbol": "circle"
         },
         "mode": "markers",
         "name": "HONDURAS",
         "orientation": "v",
         "showlegend": true,
         "type": "scatter",
         "x": [
          1279.0983333333334
         ],
         "xaxis": "x",
         "y": [
          1482600934
         ],
         "yaxis": "y"
        },
        {
         "hovertemplate": "Country=HONDURAS<extra></extra>",
         "legendgroup": "HONDURAS",
         "marker": {
          "color": "#8C564B",
          "symbol": "circle"
         },
         "mode": "lines",
         "name": "HONDURAS",
         "showlegend": false,
         "type": "scatter",
         "xaxis": "x",
         "yaxis": "y"
        },
        {
         "hovertemplate": "Country=HONG KONG<br>AverageTemperature=%{x}<br>GHG=%{y}<extra></extra>",
         "legendgroup": "HONG KONG",
         "marker": {
          "color": "#E377C2",
          "symbol": "circle"
         },
         "mode": "markers",
         "name": "HONG KONG",
         "orientation": "v",
         "showlegend": true,
         "type": "scatter",
         "x": [
          1172.6038333333333
         ],
         "xaxis": "x",
         "y": [
          11435529215
         ],
         "yaxis": "y"
        },
        {
         "hovertemplate": "Country=HONG KONG<extra></extra>",
         "legendgroup": "HONG KONG",
         "marker": {
          "color": "#E377C2",
          "symbol": "circle"
         },
         "mode": "lines",
         "name": "HONG KONG",
         "showlegend": false,
         "type": "scatter",
         "xaxis": "x",
         "yaxis": "y"
        },
        {
         "hovertemplate": "Country=HUNGARY<br>AverageTemperature=%{x}<br>GHG=%{y}<extra></extra>",
         "legendgroup": "HUNGARY",
         "marker": {
          "color": "#7F7F7F",
          "symbol": "circle"
         },
         "mode": "markers",
         "name": "HUNGARY",
         "orientation": "v",
         "showlegend": true,
         "type": "scatter",
         "x": [
          512.6545
         ],
         "xaxis": "x",
         "y": [
          112431356586
         ],
         "yaxis": "y"
        },
        {
         "hovertemplate": "Country=HUNGARY<extra></extra>",
         "legendgroup": "HUNGARY",
         "marker": {
          "color": "#7F7F7F",
          "symbol": "circle"
         },
         "mode": "lines",
         "name": "HUNGARY",
         "showlegend": false,
         "type": "scatter",
         "xaxis": "x",
         "yaxis": "y"
        },
        {
         "hovertemplate": "Country=ICELAND<br>AverageTemperature=%{x}<br>GHG=%{y}<extra></extra>",
         "legendgroup": "ICELAND",
         "marker": {
          "color": "#BCBD22",
          "symbol": "circle"
         },
         "mode": "markers",
         "name": "ICELAND",
         "orientation": "v",
         "showlegend": true,
         "type": "scatter",
         "x": [
          84.21175
         ],
         "xaxis": "x",
         "y": [
          1794444798
         ],
         "yaxis": "y"
        },
        {
         "hovertemplate": "Country=ICELAND<extra></extra>",
         "legendgroup": "ICELAND",
         "marker": {
          "color": "#BCBD22",
          "symbol": "circle"
         },
         "mode": "lines",
         "name": "ICELAND",
         "showlegend": false,
         "type": "scatter",
         "xaxis": "x",
         "yaxis": "y"
        },
        {
         "hovertemplate": "Country=INDIA<br>AverageTemperature=%{x}<br>GHG=%{y}<extra></extra>",
         "legendgroup": "INDIA",
         "marker": {
          "color": "#17BECF",
          "symbol": "circle"
         },
         "mode": "markers",
         "name": "INDIA",
         "orientation": "v",
         "showlegend": true,
         "type": "scatter",
         "x": [
          1236.15875
         ],
         "xaxis": "x",
         "y": [
          385598110245
         ],
         "yaxis": "y"
        },
        {
         "hovertemplate": "Country=INDIA<extra></extra>",
         "legendgroup": "INDIA",
         "marker": {
          "color": "#17BECF",
          "symbol": "circle"
         },
         "mode": "lines",
         "name": "INDIA",
         "showlegend": false,
         "type": "scatter",
         "xaxis": "x",
         "yaxis": "y"
        },
        {
         "hovertemplate": "Country=INDONESIA<br>AverageTemperature=%{x}<br>GHG=%{y}<extra></extra>",
         "legendgroup": "INDONESIA",
         "marker": {
          "color": "#1F77B4",
          "symbol": "circle"
         },
         "mode": "markers",
         "name": "INDONESIA",
         "orientation": "v",
         "showlegend": true,
         "type": "scatter",
         "x": [
          1326.9144166666667
         ],
         "xaxis": "x",
         "y": [
          93923394279
         ],
         "yaxis": "y"
        },
        {
         "hovertemplate": "Country=INDONESIA<extra></extra>",
         "legendgroup": "INDONESIA",
         "marker": {
          "color": "#1F77B4",
          "symbol": "circle"
         },
         "mode": "lines",
         "name": "INDONESIA",
         "showlegend": false,
         "type": "scatter",
         "xaxis": "x",
         "yaxis": "y"
        },
        {
         "hovertemplate": "Country=IRAN<br>AverageTemperature=%{x}<br>GHG=%{y}<extra></extra>",
         "legendgroup": "IRAN",
         "marker": {
          "color": "#FF7F0E",
          "symbol": "circle"
         },
         "mode": "markers",
         "name": "IRAN",
         "orientation": "v",
         "showlegend": true,
         "type": "scatter",
         "x": [
          911.9254166666667
         ],
         "xaxis": "x",
         "y": [
          145620650439
         ],
         "yaxis": "y"
        },
        {
         "hovertemplate": "Country=IRAN<extra></extra>",
         "legendgroup": "IRAN",
         "marker": {
          "color": "#FF7F0E",
          "symbol": "circle"
         },
         "mode": "lines",
         "name": "IRAN",
         "showlegend": false,
         "type": "scatter",
         "xaxis": "x",
         "yaxis": "y"
        },
        {
         "hovertemplate": "Country=IRAQ<br>AverageTemperature=%{x}<br>GHG=%{y}<extra></extra>",
         "legendgroup": "IRAQ",
         "marker": {
          "color": "#2CA02C",
          "symbol": "circle"
         },
         "mode": "markers",
         "name": "IRAQ",
         "orientation": "v",
         "showlegend": true,
         "type": "scatter",
         "x": [
          1129.8071666666667
         ],
         "xaxis": "x",
         "y": [
          34703738415
         ],
         "yaxis": "y"
        },
        {
         "hovertemplate": "Country=IRAQ<extra></extra>",
         "legendgroup": "IRAQ",
         "marker": {
          "color": "#2CA02C",
          "symbol": "circle"
         },
         "mode": "lines",
         "name": "IRAQ",
         "showlegend": false,
         "type": "scatter",
         "xaxis": "x",
         "yaxis": "y"
        },
        {
         "hovertemplate": "Country=IRELAND<br>AverageTemperature=%{x}<br>GHG=%{y}<extra></extra>",
         "legendgroup": "IRELAND",
         "marker": {
          "color": "#D62728",
          "symbol": "circle"
         },
         "mode": "markers",
         "name": "IRELAND",
         "orientation": "v",
         "showlegend": true,
         "type": "scatter",
         "x": [
          494.82716666666664
         ],
         "xaxis": "x",
         "y": [
          34289900779
         ],
         "yaxis": "y"
        },
        {
         "hovertemplate": "Country=IRELAND<extra></extra>",
         "legendgroup": "IRELAND",
         "marker": {
          "color": "#D62728",
          "symbol": "circle"
         },
         "mode": "lines",
         "name": "IRELAND",
         "showlegend": false,
         "type": "scatter",
         "xaxis": "x",
         "yaxis": "y"
        },
        {
         "hovertemplate": "Country=ISRAEL<br>AverageTemperature=%{x}<br>GHG=%{y}<extra></extra>",
         "legendgroup": "ISRAEL",
         "marker": {
          "color": "#9467BD",
          "symbol": "circle"
         },
         "mode": "markers",
         "name": "ISRAEL",
         "orientation": "v",
         "showlegend": true,
         "type": "scatter",
         "x": [
          1019.7719166666666
         ],
         "xaxis": "x",
         "y": [
          17836125259
         ],
         "yaxis": "y"
        },
        {
         "hovertemplate": "Country=ISRAEL<extra></extra>",
         "legendgroup": "ISRAEL",
         "marker": {
          "color": "#9467BD",
          "symbol": "circle"
         },
         "mode": "lines",
         "name": "ISRAEL",
         "showlegend": false,
         "type": "scatter",
         "xaxis": "x",
         "yaxis": "y"
        },
        {
         "hovertemplate": "Country=ITALY<br>AverageTemperature=%{x}<br>GHG=%{y}<extra></extra>",
         "legendgroup": "ITALY",
         "marker": {
          "color": "#8C564B",
          "symbol": "circle"
         },
         "mode": "markers",
         "name": "ITALY",
         "orientation": "v",
         "showlegend": true,
         "type": "scatter",
         "x": [
          666.71075
         ],
         "xaxis": "x",
         "y": [
          364733477281
         ],
         "yaxis": "y"
        },
        {
         "hovertemplate": "Country=ITALY<extra></extra>",
         "legendgroup": "ITALY",
         "marker": {
          "color": "#8C564B",
          "symbol": "circle"
         },
         "mode": "lines",
         "name": "ITALY",
         "showlegend": false,
         "type": "scatter",
         "xaxis": "x",
         "yaxis": "y"
        },
        {
         "hovertemplate": "Country=JAMAICA<br>AverageTemperature=%{x}<br>GHG=%{y}<extra></extra>",
         "legendgroup": "JAMAICA",
         "marker": {
          "color": "#E377C2",
          "symbol": "circle"
         },
         "mode": "markers",
         "name": "JAMAICA",
         "orientation": "v",
         "showlegend": true,
         "type": "scatter",
         "x": [
          1347.952
         ],
         "xaxis": "x",
         "y": [
          5019864038
         ],
         "yaxis": "y"
        },
        {
         "hovertemplate": "Country=JAMAICA<extra></extra>",
         "legendgroup": "JAMAICA",
         "marker": {
          "color": "#E377C2",
          "symbol": "circle"
         },
         "mode": "lines",
         "name": "JAMAICA",
         "showlegend": false,
         "type": "scatter",
         "xaxis": "x",
         "yaxis": "y"
        },
        {
         "hovertemplate": "Country=JAPAN<br>AverageTemperature=%{x}<br>GHG=%{y}<extra></extra>",
         "legendgroup": "JAPAN",
         "marker": {
          "color": "#7F7F7F",
          "symbol": "circle"
         },
         "mode": "markers",
         "name": "JAPAN",
         "orientation": "v",
         "showlegend": true,
         "type": "scatter",
         "x": [
          629.9704166666667
         ],
         "xaxis": "x",
         "y": [
          880908690865
         ],
         "yaxis": "y"
        },
        {
         "hovertemplate": "Country=JAPAN<extra></extra>",
         "legendgroup": "JAPAN",
         "marker": {
          "color": "#7F7F7F",
          "symbol": "circle"
         },
         "mode": "lines",
         "name": "JAPAN",
         "showlegend": false,
         "type": "scatter",
         "xaxis": "x",
         "yaxis": "y"
        },
        {
         "hovertemplate": "Country=JORDAN<br>AverageTemperature=%{x}<br>GHG=%{y}<extra></extra>",
         "legendgroup": "JORDAN",
         "marker": {
          "color": "#BCBD22",
          "symbol": "circle"
         },
         "mode": "markers",
         "name": "JORDAN",
         "orientation": "v",
         "showlegend": true,
         "type": "scatter",
         "x": [
          1006.2500833333334
         ],
         "xaxis": "x",
         "y": [
          3311197250
         ],
         "yaxis": "y"
        },
        {
         "hovertemplate": "Country=JORDAN<extra></extra>",
         "legendgroup": "JORDAN",
         "marker": {
          "color": "#BCBD22",
          "symbol": "circle"
         },
         "mode": "lines",
         "name": "JORDAN",
         "showlegend": false,
         "type": "scatter",
         "xaxis": "x",
         "yaxis": "y"
        },
        {
         "hovertemplate": "Country=KAZAKHSTAN<br>AverageTemperature=%{x}<br>GHG=%{y}<extra></extra>",
         "legendgroup": "KAZAKHSTAN",
         "marker": {
          "color": "#17BECF",
          "symbol": "circle"
         },
         "mode": "markers",
         "name": "KAZAKHSTAN",
         "orientation": "v",
         "showlegend": true,
         "type": "scatter",
         "x": [
          292.1711666666667
         ],
         "xaxis": "x",
         "y": [
          175508369644
         ],
         "yaxis": "y"
        },
        {
         "hovertemplate": "Country=KAZAKHSTAN<extra></extra>",
         "legendgroup": "KAZAKHSTAN",
         "marker": {
          "color": "#17BECF",
          "symbol": "circle"
         },
         "mode": "lines",
         "name": "KAZAKHSTAN",
         "showlegend": false,
         "type": "scatter",
         "xaxis": "x",
         "yaxis": "y"
        },
        {
         "hovertemplate": "Country=KENYA<br>AverageTemperature=%{x}<br>GHG=%{y}<extra></extra>",
         "legendgroup": "KENYA",
         "marker": {
          "color": "#1F77B4",
          "symbol": "circle"
         },
         "mode": "markers",
         "name": "KENYA",
         "orientation": "v",
         "showlegend": true,
         "type": "scatter",
         "x": [
          1237.5715
         ],
         "xaxis": "x",
         "y": [
          4207302273
         ],
         "yaxis": "y"
        },
        {
         "hovertemplate": "Country=KENYA<extra></extra>",
         "legendgroup": "KENYA",
         "marker": {
          "color": "#1F77B4",
          "symbol": "circle"
         },
         "mode": "lines",
         "name": "KENYA",
         "showlegend": false,
         "type": "scatter",
         "xaxis": "x",
         "yaxis": "y"
        },
        {
         "hovertemplate": "Country=KIRIBATI<br>AverageTemperature=%{x}<br>GHG=%{y}<extra></extra>",
         "legendgroup": "KIRIBATI",
         "marker": {
          "color": "#FF7F0E",
          "symbol": "circle"
         },
         "mode": "markers",
         "name": "KIRIBATI",
         "orientation": "v",
         "showlegend": true,
         "type": "scatter",
         "x": [
          1373.6976666666667
         ],
         "xaxis": "x",
         "y": [
          18257712
         ],
         "yaxis": "y"
        },
        {
         "hovertemplate": "Country=KIRIBATI<extra></extra>",
         "legendgroup": "KIRIBATI",
         "marker": {
          "color": "#FF7F0E",
          "symbol": "circle"
         },
         "mode": "lines",
         "name": "KIRIBATI",
         "showlegend": false,
         "type": "scatter",
         "xaxis": "x",
         "yaxis": "y"
        },
        {
         "hovertemplate": "Country=KUWAIT<br>AverageTemperature=%{x}<br>GHG=%{y}<extra></extra>",
         "legendgroup": "KUWAIT",
         "marker": {
          "color": "#2CA02C",
          "symbol": "circle"
         },
         "mode": "markers",
         "name": "KUWAIT",
         "orientation": "v",
         "showlegend": true,
         "type": "scatter",
         "x": [
          1294.8755833333332
         ],
         "xaxis": "x",
         "y": [
          21827550292
         ],
         "yaxis": "y"
        },
        {
         "hovertemplate": "Country=KUWAIT<extra></extra>",
         "legendgroup": "KUWAIT",
         "marker": {
          "color": "#2CA02C",
          "symbol": "circle"
         },
         "mode": "lines",
         "name": "KUWAIT",
         "showlegend": false,
         "type": "scatter",
         "xaxis": "x",
         "yaxis": "y"
        },
        {
         "hovertemplate": "Country=KYRGYZSTAN<br>AverageTemperature=%{x}<br>GHG=%{y}<extra></extra>",
         "legendgroup": "KYRGYZSTAN",
         "marker": {
          "color": "#D62728",
          "symbol": "circle"
         },
         "mode": "markers",
         "name": "KYRGYZSTAN",
         "orientation": "v",
         "showlegend": true,
         "type": "scatter",
         "x": [
          185.47175
         ],
         "xaxis": "x",
         "y": [
          321930327
         ],
         "yaxis": "y"
        },
        {
         "hovertemplate": "Country=KYRGYZSTAN<extra></extra>",
         "legendgroup": "KYRGYZSTAN",
         "marker": {
          "color": "#D62728",
          "symbol": "circle"
         },
         "mode": "lines",
         "name": "KYRGYZSTAN",
         "showlegend": false,
         "type": "scatter",
         "xaxis": "x",
         "yaxis": "y"
        },
        {
         "hovertemplate": "Country=LAOS<br>AverageTemperature=%{x}<br>GHG=%{y}<extra></extra>",
         "legendgroup": "LAOS",
         "marker": {
          "color": "#9467BD",
          "symbol": "circle"
         },
         "mode": "markers",
         "name": "LAOS",
         "orientation": "v",
         "showlegend": true,
         "type": "scatter",
         "x": [
          1220.1534166666668
         ],
         "xaxis": "x",
         "y": [
          227442331
         ],
         "yaxis": "y"
        },
        {
         "hovertemplate": "Country=LAOS<extra></extra>",
         "legendgroup": "LAOS",
         "marker": {
          "color": "#9467BD",
          "symbol": "circle"
         },
         "mode": "lines",
         "name": "LAOS",
         "showlegend": false,
         "type": "scatter",
         "xaxis": "x",
         "yaxis": "y"
        },
        {
         "hovertemplate": "Country=LATVIA<br>AverageTemperature=%{x}<br>GHG=%{y}<extra></extra>",
         "legendgroup": "LATVIA",
         "marker": {
          "color": "#8C564B",
          "symbol": "circle"
         },
         "mode": "markers",
         "name": "LATVIA",
         "orientation": "v",
         "showlegend": true,
         "type": "scatter",
         "x": [
          291.4945
         ],
         "xaxis": "x",
         "y": [
          9671352782
         ],
         "yaxis": "y"
        },
        {
         "hovertemplate": "Country=LATVIA<extra></extra>",
         "legendgroup": "LATVIA",
         "marker": {
          "color": "#8C564B",
          "symbol": "circle"
         },
         "mode": "lines",
         "name": "LATVIA",
         "showlegend": false,
         "type": "scatter",
         "xaxis": "x",
         "yaxis": "y"
        },
        {
         "hovertemplate": "Country=LEBANON<br>AverageTemperature=%{x}<br>GHG=%{y}<extra></extra>",
         "legendgroup": "LEBANON",
         "marker": {
          "color": "#E377C2",
          "symbol": "circle"
         },
         "mode": "markers",
         "name": "LEBANON",
         "orientation": "v",
         "showlegend": true,
         "type": "scatter",
         "x": [
          918.6716666666666
         ],
         "xaxis": "x",
         "y": [
          5380291315
         ],
         "yaxis": "y"
        },
        {
         "hovertemplate": "Country=LEBANON<extra></extra>",
         "legendgroup": "LEBANON",
         "marker": {
          "color": "#E377C2",
          "symbol": "circle"
         },
         "mode": "lines",
         "name": "LEBANON",
         "showlegend": false,
         "type": "scatter",
         "xaxis": "x",
         "yaxis": "y"
        },
        {
         "hovertemplate": "Country=LESOTHO<br>AverageTemperature=%{x}<br>GHG=%{y}<extra></extra>",
         "legendgroup": "LESOTHO",
         "marker": {
          "color": "#7F7F7F",
          "symbol": "circle"
         },
         "mode": "markers",
         "name": "LESOTHO",
         "orientation": "v",
         "showlegend": true,
         "type": "scatter",
         "x": [
          715.3545
         ],
         "xaxis": "x",
         "y": [
          107468784
         ],
         "yaxis": "y"
        },
        {
         "hovertemplate": "Country=LESOTHO<extra></extra>",
         "legendgroup": "LESOTHO",
         "marker": {
          "color": "#7F7F7F",
          "symbol": "circle"
         },
         "mode": "lines",
         "name": "LESOTHO",
         "showlegend": false,
         "type": "scatter",
         "xaxis": "x",
         "yaxis": "y"
        },
        {
         "hovertemplate": "Country=LIBERIA<br>AverageTemperature=%{x}<br>GHG=%{y}<extra></extra>",
         "legendgroup": "LIBERIA",
         "marker": {
          "color": "#BCBD22",
          "symbol": "circle"
         },
         "mode": "markers",
         "name": "LIBERIA",
         "orientation": "v",
         "showlegend": true,
         "type": "scatter",
         "x": [
          1308.2475
         ],
         "xaxis": "x",
         "y": [
          824554509
         ],
         "yaxis": "y"
        },
        {
         "hovertemplate": "Country=LIBERIA<extra></extra>",
         "legendgroup": "LIBERIA",
         "marker": {
          "color": "#BCBD22",
          "symbol": "circle"
         },
         "mode": "lines",
         "name": "LIBERIA",
         "showlegend": false,
         "type": "scatter",
         "xaxis": "x",
         "yaxis": "y"
        },
        {
         "hovertemplate": "Country=LIBYA<br>AverageTemperature=%{x}<br>GHG=%{y}<extra></extra>",
         "legendgroup": "LIBYA",
         "marker": {
          "color": "#17BECF",
          "symbol": "circle"
         },
         "mode": "markers",
         "name": "LIBYA",
         "orientation": "v",
         "showlegend": true,
         "type": "scatter",
         "x": [
          1151.8415
         ],
         "xaxis": "x",
         "y": [
          16086228557
         ],
         "yaxis": "y"
        },
        {
         "hovertemplate": "Country=LIBYA<extra></extra>",
         "legendgroup": "LIBYA",
         "marker": {
          "color": "#17BECF",
          "symbol": "circle"
         },
         "mode": "lines",
         "name": "LIBYA",
         "showlegend": false,
         "type": "scatter",
         "xaxis": "x",
         "yaxis": "y"
        },
        {
         "hovertemplate": "Country=LIECHTENSTEIN<br>AverageTemperature=%{x}<br>GHG=%{y}<extra></extra>",
         "legendgroup": "LIECHTENSTEIN",
         "marker": {
          "color": "#1F77B4",
          "symbol": "circle"
         },
         "mode": "markers",
         "name": "LIECHTENSTEIN",
         "orientation": "v",
         "showlegend": true,
         "type": "scatter",
         "x": [
          255.9775833333333
         ],
         "xaxis": "x",
         "y": [
          0
         ],
         "yaxis": "y"
        },
        {
         "hovertemplate": "Country=LIECHTENSTEIN<extra></extra>",
         "legendgroup": "LIECHTENSTEIN",
         "marker": {
          "color": "#1F77B4",
          "symbol": "circle"
         },
         "mode": "lines",
         "name": "LIECHTENSTEIN",
         "showlegend": false,
         "type": "scatter",
         "xaxis": "x",
         "yaxis": "y"
        },
        {
         "hovertemplate": "Country=LITHUANIA<br>AverageTemperature=%{x}<br>GHG=%{y}<extra></extra>",
         "legendgroup": "LITHUANIA",
         "marker": {
          "color": "#FF7F0E",
          "symbol": "circle"
         },
         "mode": "markers",
         "name": "LITHUANIA",
         "orientation": "v",
         "showlegend": true,
         "type": "scatter",
         "x": [
          321.6773333333333
         ],
         "xaxis": "x",
         "y": [
          15334666468
         ],
         "yaxis": "y"
        },
        {
         "hovertemplate": "Country=LITHUANIA<extra></extra>",
         "legendgroup": "LITHUANIA",
         "marker": {
          "color": "#FF7F0E",
          "symbol": "circle"
         },
         "mode": "lines",
         "name": "LITHUANIA",
         "showlegend": false,
         "type": "scatter",
         "xaxis": "x",
         "yaxis": "y"
        },
        {
         "hovertemplate": "Country=LUXEMBOURG<br>AverageTemperature=%{x}<br>GHG=%{y}<extra></extra>",
         "legendgroup": "LUXEMBOURG",
         "marker": {
          "color": "#2CA02C",
          "symbol": "circle"
         },
         "mode": "markers",
         "name": "LUXEMBOURG",
         "orientation": "v",
         "showlegend": true,
         "type": "scatter",
         "x": [
          485.30649999999997
         ],
         "xaxis": "x",
         "y": [
          14407184605
         ],
         "yaxis": "y"
        },
        {
         "hovertemplate": "Country=LUXEMBOURG<extra></extra>",
         "legendgroup": "LUXEMBOURG",
         "marker": {
          "color": "#2CA02C",
          "symbol": "circle"
         },
         "mode": "lines",
         "name": "LUXEMBOURG",
         "showlegend": false,
         "type": "scatter",
         "xaxis": "x",
         "yaxis": "y"
        },
        {
         "hovertemplate": "Country=MACAU<br>AverageTemperature=%{x}<br>GHG=%{y}<extra></extra>",
         "legendgroup": "MACAU",
         "marker": {
          "color": "#D62728",
          "symbol": "circle"
         },
         "mode": "markers",
         "name": "MACAU",
         "orientation": "v",
         "showlegend": true,
         "type": "scatter",
         "x": [
          1159.95625
         ],
         "xaxis": "x",
         "y": [
          0
         ],
         "yaxis": "y"
        },
        {
         "hovertemplate": "Country=MACAU<extra></extra>",
         "legendgroup": "MACAU",
         "marker": {
          "color": "#D62728",
          "symbol": "circle"
         },
         "mode": "lines",
         "name": "MACAU",
         "showlegend": false,
         "type": "scatter",
         "xaxis": "x",
         "yaxis": "y"
        },
        {
         "hovertemplate": "Country=MACEDONIA<br>AverageTemperature=%{x}<br>GHG=%{y}<extra></extra>",
         "legendgroup": "MACEDONIA",
         "marker": {
          "color": "#9467BD",
          "symbol": "circle"
         },
         "mode": "markers",
         "name": "MACEDONIA",
         "orientation": "v",
         "showlegend": true,
         "type": "scatter",
         "x": [
          543.8925833333333
         ],
         "xaxis": "x",
         "y": [
          7241044406
         ],
         "yaxis": "y"
        },
        {
         "hovertemplate": "Country=MACEDONIA<extra></extra>",
         "legendgroup": "MACEDONIA",
         "marker": {
          "color": "#9467BD",
          "symbol": "circle"
         },
         "mode": "lines",
         "name": "MACEDONIA",
         "showlegend": false,
         "type": "scatter",
         "xaxis": "x",
         "yaxis": "y"
        },
        {
         "hovertemplate": "Country=MADAGASCAR<br>AverageTemperature=%{x}<br>GHG=%{y}<extra></extra>",
         "legendgroup": "MADAGASCAR",
         "marker": {
          "color": "#8C564B",
          "symbol": "circle"
         },
         "mode": "markers",
         "name": "MADAGASCAR",
         "orientation": "v",
         "showlegend": true,
         "type": "scatter",
         "x": [
          1172.1561666666666
         ],
         "xaxis": "x",
         "y": [
          907826189
         ],
         "yaxis": "y"
        },
        {
         "hovertemplate": "Country=MADAGASCAR<extra></extra>",
         "legendgroup": "MADAGASCAR",
         "marker": {
          "color": "#8C564B",
          "symbol": "circle"
         },
         "mode": "lines",
         "name": "MADAGASCAR",
         "showlegend": false,
         "type": "scatter",
         "xaxis": "x",
         "yaxis": "y"
        },
        {
         "hovertemplate": "Country=MALAWI<br>AverageTemperature=%{x}<br>GHG=%{y}<extra></extra>",
         "legendgroup": "MALAWI",
         "marker": {
          "color": "#E377C2",
          "symbol": "circle"
         },
         "mode": "markers",
         "name": "MALAWI",
         "orientation": "v",
         "showlegend": true,
         "type": "scatter",
         "x": [
          1102.89525
         ],
         "xaxis": "x",
         "y": [
          458373388
         ],
         "yaxis": "y"
        },
        {
         "hovertemplate": "Country=MALAWI<extra></extra>",
         "legendgroup": "MALAWI",
         "marker": {
          "color": "#E377C2",
          "symbol": "circle"
         },
         "mode": "lines",
         "name": "MALAWI",
         "showlegend": false,
         "type": "scatter",
         "xaxis": "x",
         "yaxis": "y"
        },
        {
         "hovertemplate": "Country=MALAYSIA<br>AverageTemperature=%{x}<br>GHG=%{y}<extra></extra>",
         "legendgroup": "MALAYSIA",
         "marker": {
          "color": "#7F7F7F",
          "symbol": "circle"
         },
         "mode": "markers",
         "name": "MALAYSIA",
         "orientation": "v",
         "showlegend": true,
         "type": "scatter",
         "x": [
          1335.2595
         ],
         "xaxis": "x",
         "y": [
          23028983573
         ],
         "yaxis": "y"
        },
        {
         "hovertemplate": "Country=MALAYSIA<extra></extra>",
         "legendgroup": "MALAYSIA",
         "marker": {
          "color": "#7F7F7F",
          "symbol": "circle"
         },
         "mode": "lines",
         "name": "MALAYSIA",
         "showlegend": false,
         "type": "scatter",
         "xaxis": "x",
         "yaxis": "y"
        },
        {
         "hovertemplate": "Country=MALI<br>AverageTemperature=%{x}<br>GHG=%{y}<extra></extra>",
         "legendgroup": "MALI",
         "marker": {
          "color": "#BCBD22",
          "symbol": "circle"
         },
         "mode": "markers",
         "name": "MALI",
         "orientation": "v",
         "showlegend": true,
         "type": "scatter",
         "x": [
          1462.3483333333334
         ],
         "xaxis": "x",
         "y": [
          241886161
         ],
         "yaxis": "y"
        },
        {
         "hovertemplate": "Country=MALI<extra></extra>",
         "legendgroup": "MALI",
         "marker": {
          "color": "#BCBD22",
          "symbol": "circle"
         },
         "mode": "lines",
         "name": "MALI",
         "showlegend": false,
         "type": "scatter",
         "xaxis": "x",
         "yaxis": "y"
        },
        {
         "hovertemplate": "Country=MALTA<br>AverageTemperature=%{x}<br>GHG=%{y}<extra></extra>",
         "legendgroup": "MALTA",
         "marker": {
          "color": "#17BECF",
          "symbol": "circle"
         },
         "mode": "markers",
         "name": "MALTA",
         "orientation": "v",
         "showlegend": true,
         "type": "scatter",
         "x": [
          957.1983333333333
         ],
         "xaxis": "x",
         "y": [
          886167296
         ],
         "yaxis": "y"
        },
        {
         "hovertemplate": "Country=MALTA<extra></extra>",
         "legendgroup": "MALTA",
         "marker": {
          "color": "#17BECF",
          "symbol": "circle"
         },
         "mode": "lines",
         "name": "MALTA",
         "showlegend": false,
         "type": "scatter",
         "xaxis": "x",
         "yaxis": "y"
        },
        {
         "hovertemplate": "Country=MARTINIQUE<br>AverageTemperature=%{x}<br>GHG=%{y}<extra></extra>",
         "legendgroup": "MARTINIQUE",
         "marker": {
          "color": "#1F77B4",
          "symbol": "circle"
         },
         "mode": "markers",
         "name": "MARTINIQUE",
         "orientation": "v",
         "showlegend": true,
         "type": "scatter",
         "x": [
          1349.39625
         ],
         "xaxis": "x",
         "y": [
          640291328
         ],
         "yaxis": "y"
        },
        {
         "hovertemplate": "Country=MARTINIQUE<extra></extra>",
         "legendgroup": "MARTINIQUE",
         "marker": {
          "color": "#1F77B4",
          "symbol": "circle"
         },
         "mode": "lines",
         "name": "MARTINIQUE",
         "showlegend": false,
         "type": "scatter",
         "xaxis": "x",
         "yaxis": "y"
        },
        {
         "hovertemplate": "Country=MAURITANIA<br>AverageTemperature=%{x}<br>GHG=%{y}<extra></extra>",
         "legendgroup": "MAURITANIA",
         "marker": {
          "color": "#FF7F0E",
          "symbol": "circle"
         },
         "mode": "markers",
         "name": "MAURITANIA",
         "orientation": "v",
         "showlegend": true,
         "type": "scatter",
         "x": [
          1420.57525
         ],
         "xaxis": "x",
         "y": [
          454372640
         ],
         "yaxis": "y"
        },
        {
         "hovertemplate": "Country=MAURITANIA<extra></extra>",
         "legendgroup": "MAURITANIA",
         "marker": {
          "color": "#FF7F0E",
          "symbol": "circle"
         },
         "mode": "lines",
         "name": "MAURITANIA",
         "showlegend": false,
         "type": "scatter",
         "xaxis": "x",
         "yaxis": "y"
        },
        {
         "hovertemplate": "Country=MAURITIUS<br>AverageTemperature=%{x}<br>GHG=%{y}<extra></extra>",
         "legendgroup": "MAURITIUS",
         "marker": {
          "color": "#2CA02C",
          "symbol": "circle"
         },
         "mode": "markers",
         "name": "MAURITIUS",
         "orientation": "v",
         "showlegend": true,
         "type": "scatter",
         "x": [
          1210.4385
         ],
         "xaxis": "x",
         "y": [
          597649696
         ],
         "yaxis": "y"
        },
        {
         "hovertemplate": "Country=MAURITIUS<extra></extra>",
         "legendgroup": "MAURITIUS",
         "marker": {
          "color": "#2CA02C",
          "symbol": "circle"
         },
         "mode": "lines",
         "name": "MAURITIUS",
         "showlegend": false,
         "type": "scatter",
         "xaxis": "x",
         "yaxis": "y"
        },
        {
         "hovertemplate": "Country=MAYOTTE<br>AverageTemperature=%{x}<br>GHG=%{y}<extra></extra>",
         "legendgroup": "MAYOTTE",
         "marker": {
          "color": "#D62728",
          "symbol": "circle"
         },
         "mode": "markers",
         "name": "MAYOTTE",
         "orientation": "v",
         "showlegend": true,
         "type": "scatter",
         "x": [
          1354.5216666666668
         ],
         "xaxis": "x",
         "y": [
          0
         ],
         "yaxis": "y"
        },
        {
         "hovertemplate": "Country=MAYOTTE<extra></extra>",
         "legendgroup": "MAYOTTE",
         "marker": {
          "color": "#D62728",
          "symbol": "circle"
         },
         "mode": "lines",
         "name": "MAYOTTE",
         "showlegend": false,
         "type": "scatter",
         "xaxis": "x",
         "yaxis": "y"
        },
        {
         "hovertemplate": "Country=MEXICO<br>AverageTemperature=%{x}<br>GHG=%{y}<extra></extra>",
         "legendgroup": "MEXICO",
         "marker": {
          "color": "#9467BD",
          "symbol": "circle"
         },
         "mode": "markers",
         "name": "MEXICO",
         "orientation": "v",
         "showlegend": true,
         "type": "scatter",
         "x": [
          1062.0435
         ],
         "xaxis": "x",
         "y": [
          223507522009
         ],
         "yaxis": "y"
        },
        {
         "hovertemplate": "Country=MEXICO<extra></extra>",
         "legendgroup": "MEXICO",
         "marker": {
          "color": "#9467BD",
          "symbol": "circle"
         },
         "mode": "lines",
         "name": "MEXICO",
         "showlegend": false,
         "type": "scatter",
         "xaxis": "x",
         "yaxis": "y"
        },
        {
         "hovertemplate": "Country=MOLDOVA<br>AverageTemperature=%{x}<br>GHG=%{y}<extra></extra>",
         "legendgroup": "MOLDOVA",
         "marker": {
          "color": "#8C564B",
          "symbol": "circle"
         },
         "mode": "markers",
         "name": "MOLDOVA",
         "orientation": "v",
         "showlegend": true,
         "type": "scatter",
         "x": [
          474.471
         ],
         "xaxis": "x",
         "y": [
          592568119
         ],
         "yaxis": "y"
        },
        {
         "hovertemplate": "Country=MOLDOVA<extra></extra>",
         "legendgroup": "MOLDOVA",
         "marker": {
          "color": "#8C564B",
          "symbol": "circle"
         },
         "mode": "lines",
         "name": "MOLDOVA",
         "showlegend": false,
         "type": "scatter",
         "xaxis": "x",
         "yaxis": "y"
        },
        {
         "hovertemplate": "Country=MONACO<br>AverageTemperature=%{x}<br>GHG=%{y}<extra></extra>",
         "legendgroup": "MONACO",
         "marker": {
          "color": "#E377C2",
          "symbol": "circle"
         },
         "mode": "markers",
         "name": "MONACO",
         "orientation": "v",
         "showlegend": true,
         "type": "scatter",
         "x": [
          477.7955
         ],
         "xaxis": "x",
         "y": [
          0
         ],
         "yaxis": "y"
        },
        {
         "hovertemplate": "Country=MONACO<extra></extra>",
         "legendgroup": "MONACO",
         "marker": {
          "color": "#E377C2",
          "symbol": "circle"
         },
         "mode": "lines",
         "name": "MONACO",
         "showlegend": false,
         "type": "scatter",
         "xaxis": "x",
         "yaxis": "y"
        },
        {
         "hovertemplate": "Country=MONGOLIA<br>AverageTemperature=%{x}<br>GHG=%{y}<extra></extra>",
         "legendgroup": "MONGOLIA",
         "marker": {
          "color": "#7F7F7F",
          "symbol": "circle"
         },
         "mode": "markers",
         "name": "MONGOLIA",
         "orientation": "v",
         "showlegend": true,
         "type": "scatter",
         "x": [
          -16.072833333333328
         ],
         "xaxis": "x",
         "y": [
          4026998777
         ],
         "yaxis": "y"
        },
        {
         "hovertemplate": "Country=MONGOLIA<extra></extra>",
         "legendgroup": "MONGOLIA",
         "marker": {
          "color": "#7F7F7F",
          "symbol": "circle"
         },
         "mode": "lines",
         "name": "MONGOLIA",
         "showlegend": false,
         "type": "scatter",
         "xaxis": "x",
         "yaxis": "y"
        },
        {
         "hovertemplate": "Country=MONTENEGRO<br>AverageTemperature=%{x}<br>GHG=%{y}<extra></extra>",
         "legendgroup": "MONTENEGRO",
         "marker": {
          "color": "#BCBD22",
          "symbol": "circle"
         },
         "mode": "markers",
         "name": "MONTENEGRO",
         "orientation": "v",
         "showlegend": true,
         "type": "scatter",
         "x": [
          536.9315833333334
         ],
         "xaxis": "x",
         "y": [
          1282882588
         ],
         "yaxis": "y"
        },
        {
         "hovertemplate": "Country=MONTENEGRO<extra></extra>",
         "legendgroup": "MONTENEGRO",
         "marker": {
          "color": "#BCBD22",
          "symbol": "circle"
         },
         "mode": "lines",
         "name": "MONTENEGRO",
         "showlegend": false,
         "type": "scatter",
         "xaxis": "x",
         "yaxis": "y"
        },
        {
         "hovertemplate": "Country=MONTSERRAT<br>AverageTemperature=%{x}<br>GHG=%{y}<extra></extra>",
         "legendgroup": "MONTSERRAT",
         "marker": {
          "color": "#17BECF",
          "symbol": "circle"
         },
         "mode": "markers",
         "name": "MONTSERRAT",
         "orientation": "v",
         "showlegend": true,
         "type": "scatter",
         "x": [
          1362.7745
         ],
         "xaxis": "x",
         "y": [
          11937312
         ],
         "yaxis": "y"
        },
        {
         "hovertemplate": "Country=MONTSERRAT<extra></extra>",
         "legendgroup": "MONTSERRAT",
         "marker": {
          "color": "#17BECF",
          "symbol": "circle"
         },
         "mode": "lines",
         "name": "MONTSERRAT",
         "showlegend": false,
         "type": "scatter",
         "xaxis": "x",
         "yaxis": "y"
        },
        {
         "hovertemplate": "Country=MOROCCO<br>AverageTemperature=%{x}<br>GHG=%{y}<extra></extra>",
         "legendgroup": "MOROCCO",
         "marker": {
          "color": "#1F77B4",
          "symbol": "circle"
         },
         "mode": "markers",
         "name": "MOROCCO",
         "orientation": "v",
         "showlegend": true,
         "type": "scatter",
         "x": [
          913.8159166666667
         ],
         "xaxis": "x",
         "y": [
          11247726955
         ],
         "yaxis": "y"
        },
        {
         "hovertemplate": "Country=MOROCCO<extra></extra>",
         "legendgroup": "MOROCCO",
         "marker": {
          "color": "#1F77B4",
          "symbol": "circle"
         },
         "mode": "lines",
         "name": "MOROCCO",
         "showlegend": false,
         "type": "scatter",
         "xaxis": "x",
         "yaxis": "y"
        },
        {
         "hovertemplate": "Country=MOZAMBIQUE<br>AverageTemperature=%{x}<br>GHG=%{y}<extra></extra>",
         "legendgroup": "MOZAMBIQUE",
         "marker": {
          "color": "#FF7F0E",
          "symbol": "circle"
         },
         "mode": "markers",
         "name": "MOZAMBIQUE",
         "orientation": "v",
         "showlegend": true,
         "type": "scatter",
         "x": [
          1215.1775833333334
         ],
         "xaxis": "x",
         "y": [
          2652509379
         ],
         "yaxis": "y"
        },
        {
         "hovertemplate": "Country=MOZAMBIQUE<extra></extra>",
         "legendgroup": "MOZAMBIQUE",
         "marker": {
          "color": "#FF7F0E",
          "symbol": "circle"
         },
         "mode": "lines",
         "name": "MOZAMBIQUE",
         "showlegend": false,
         "type": "scatter",
         "xaxis": "x",
         "yaxis": "y"
        },
        {
         "hovertemplate": "Country=MYANMAR<br>AverageTemperature=%{x}<br>GHG=%{y}<extra></extra>",
         "legendgroup": "MYANMAR",
         "marker": {
          "color": "#2CA02C",
          "symbol": "circle"
         },
         "mode": "markers",
         "name": "MYANMAR",
         "orientation": "v",
         "showlegend": true,
         "type": "scatter",
         "x": [
          1226.2796666666666
         ],
         "xaxis": "x",
         "y": [
          6688744202
         ],
         "yaxis": "y"
        },
        {
         "hovertemplate": "Country=MYANMAR<extra></extra>",
         "legendgroup": "MYANMAR",
         "marker": {
          "color": "#2CA02C",
          "symbol": "circle"
         },
         "mode": "lines",
         "name": "MYANMAR",
         "showlegend": false,
         "type": "scatter",
         "xaxis": "x",
         "yaxis": "y"
        },
        {
         "hovertemplate": "Country=NEPAL<br>AverageTemperature=%{x}<br>GHG=%{y}<extra></extra>",
         "legendgroup": "NEPAL",
         "marker": {
          "color": "#D62728",
          "symbol": "circle"
         },
         "mode": "markers",
         "name": "NEPAL",
         "orientation": "v",
         "showlegend": true,
         "type": "scatter",
         "x": [
          772.1416666666667
         ],
         "xaxis": "x",
         "y": [
          376690599
         ],
         "yaxis": "y"
        },
        {
         "hovertemplate": "Country=NEPAL<extra></extra>",
         "legendgroup": "NEPAL",
         "marker": {
          "color": "#D62728",
          "symbol": "circle"
         },
         "mode": "lines",
         "name": "NEPAL",
         "showlegend": false,
         "type": "scatter",
         "xaxis": "x",
         "yaxis": "y"
        },
        {
         "hovertemplate": "Country=NETHERLANDS<br>AverageTemperature=%{x}<br>GHG=%{y}<extra></extra>",
         "legendgroup": "NETHERLANDS",
         "marker": {
          "color": "#9467BD",
          "symbol": "circle"
         },
         "mode": "markers",
         "name": "NETHERLANDS",
         "orientation": "v",
         "showlegend": true,
         "type": "scatter",
         "x": [
          481.9766666666667
         ],
         "xaxis": "x",
         "y": [
          233850390606
         ],
         "yaxis": "y"
        },
        {
         "hovertemplate": "Country=NETHERLANDS<extra></extra>",
         "legendgroup": "NETHERLANDS",
         "marker": {
          "color": "#9467BD",
          "symbol": "circle"
         },
         "mode": "lines",
         "name": "NETHERLANDS",
         "showlegend": false,
         "type": "scatter",
         "xaxis": "x",
         "yaxis": "y"
        },
        {
         "hovertemplate": "Country=NEW CALEDONIA<br>AverageTemperature=%{x}<br>GHG=%{y}<extra></extra>",
         "legendgroup": "NEW CALEDONIA",
         "marker": {
          "color": "#8C564B",
          "symbol": "circle"
         },
         "mode": "markers",
         "name": "NEW CALEDONIA",
         "orientation": "v",
         "showlegend": true,
         "type": "scatter",
         "x": [
          1172.41
         ],
         "xaxis": "x",
         "y": [
          1645765265
         ],
         "yaxis": "y"
        },
        {
         "hovertemplate": "Country=NEW CALEDONIA<extra></extra>",
         "legendgroup": "NEW CALEDONIA",
         "marker": {
          "color": "#8C564B",
          "symbol": "circle"
         },
         "mode": "lines",
         "name": "NEW CALEDONIA",
         "showlegend": false,
         "type": "scatter",
         "xaxis": "x",
         "yaxis": "y"
        },
        {
         "hovertemplate": "Country=NEW ZEALAND<br>AverageTemperature=%{x}<br>GHG=%{y}<extra></extra>",
         "legendgroup": "NEW ZEALAND",
         "marker": {
          "color": "#E377C2",
          "symbol": "circle"
         },
         "mode": "markers",
         "name": "NEW ZEALAND",
         "orientation": "v",
         "showlegend": true,
         "type": "scatter",
         "x": [
          546.83775
         ],
         "xaxis": "x",
         "y": [
          31349577768
         ],
         "yaxis": "y"
        },
        {
         "hovertemplate": "Country=NEW ZEALAND<extra></extra>",
         "legendgroup": "NEW ZEALAND",
         "marker": {
          "color": "#E377C2",
          "symbol": "circle"
         },
         "mode": "lines",
         "name": "NEW ZEALAND",
         "showlegend": false,
         "type": "scatter",
         "xaxis": "x",
         "yaxis": "y"
        },
        {
         "hovertemplate": "Country=NICARAGUA<br>AverageTemperature=%{x}<br>GHG=%{y}<extra></extra>",
         "legendgroup": "NICARAGUA",
         "marker": {
          "color": "#7F7F7F",
          "symbol": "circle"
         },
         "mode": "markers",
         "name": "NICARAGUA",
         "orientation": "v",
         "showlegend": true,
         "type": "scatter",
         "x": [
          1342.8915
         ],
         "xaxis": "x",
         "y": [
          1494121469
         ],
         "yaxis": "y"
        },
        {
         "hovertemplate": "Country=NICARAGUA<extra></extra>",
         "legendgroup": "NICARAGUA",
         "marker": {
          "color": "#7F7F7F",
          "symbol": "circle"
         },
         "mode": "lines",
         "name": "NICARAGUA",
         "showlegend": false,
         "type": "scatter",
         "xaxis": "x",
         "yaxis": "y"
        },
        {
         "hovertemplate": "Country=NIGER<br>AverageTemperature=%{x}<br>GHG=%{y}<extra></extra>",
         "legendgroup": "NIGER",
         "marker": {
          "color": "#BCBD22",
          "symbol": "circle"
         },
         "mode": "markers",
         "name": "NIGER",
         "orientation": "v",
         "showlegend": true,
         "type": "scatter",
         "x": [
          1407.9079166666666
         ],
         "xaxis": "x",
         "y": [
          316854458
         ],
         "yaxis": "y"
        },
        {
         "hovertemplate": "Country=NIGER<extra></extra>",
         "legendgroup": "NIGER",
         "marker": {
          "color": "#BCBD22",
          "symbol": "circle"
         },
         "mode": "lines",
         "name": "NIGER",
         "showlegend": false,
         "type": "scatter",
         "xaxis": "x",
         "yaxis": "y"
        },
        {
         "hovertemplate": "Country=NIGERIA<br>AverageTemperature=%{x}<br>GHG=%{y}<extra></extra>",
         "legendgroup": "NIGERIA",
         "marker": {
          "color": "#17BECF",
          "symbol": "circle"
         },
         "mode": "markers",
         "name": "NIGERIA",
         "orientation": "v",
         "showlegend": true,
         "type": "scatter",
         "x": [
          1371.7046666666668
         ],
         "xaxis": "x",
         "y": [
          31417093281
         ],
         "yaxis": "y"
        },
        {
         "hovertemplate": "Country=NIGERIA<extra></extra>",
         "legendgroup": "NIGERIA",
         "marker": {
          "color": "#17BECF",
          "symbol": "circle"
         },
         "mode": "lines",
         "name": "NIGERIA",
         "showlegend": false,
         "type": "scatter",
         "xaxis": "x",
         "yaxis": "y"
        },
        {
         "hovertemplate": "Country=NIUE<br>AverageTemperature=%{x}<br>GHG=%{y}<extra></extra>",
         "legendgroup": "NIUE",
         "marker": {
          "color": "#1F77B4",
          "symbol": "circle"
         },
         "mode": "markers",
         "name": "NIUE",
         "orientation": "v",
         "showlegend": true,
         "type": "scatter",
         "x": [
          1292.1993333333332
         ],
         "xaxis": "x",
         "y": [
          2059168
         ],
         "yaxis": "y"
        },
        {
         "hovertemplate": "Country=NIUE<extra></extra>",
         "legendgroup": "NIUE",
         "marker": {
          "color": "#1F77B4",
          "symbol": "circle"
         },
         "mode": "lines",
         "name": "NIUE",
         "showlegend": false,
         "type": "scatter",
         "xaxis": "x",
         "yaxis": "y"
        },
        {
         "hovertemplate": "Country=NORTHERN MARIANA ISLANDS<br>AverageTemperature=%{x}<br>GHG=%{y}<extra></extra>",
         "legendgroup": "NORTHERN MARIANA ISLANDS",
         "marker": {
          "color": "#FF7F0E",
          "symbol": "circle"
         },
         "mode": "markers",
         "name": "NORTHERN MARIANA ISLANDS",
         "orientation": "v",
         "showlegend": true,
         "type": "scatter",
         "x": [
          1385.93375
         ],
         "xaxis": "x",
         "y": [
          0
         ],
         "yaxis": "y"
        },
        {
         "hovertemplate": "Country=NORTHERN MARIANA ISLANDS<extra></extra>",
         "legendgroup": "NORTHERN MARIANA ISLANDS",
         "marker": {
          "color": "#FF7F0E",
          "symbol": "circle"
         },
         "mode": "lines",
         "name": "NORTHERN MARIANA ISLANDS",
         "showlegend": false,
         "type": "scatter",
         "xaxis": "x",
         "yaxis": "y"
        },
        {
         "hovertemplate": "Country=NORWAY<br>AverageTemperature=%{x}<br>GHG=%{y}<extra></extra>",
         "legendgroup": "NORWAY",
         "marker": {
          "color": "#2CA02C",
          "symbol": "circle"
         },
         "mode": "markers",
         "name": "NORWAY",
         "orientation": "v",
         "showlegend": true,
         "type": "scatter",
         "x": [
          21.475583333333336
         ],
         "xaxis": "x",
         "y": [
          49087775729
         ],
         "yaxis": "y"
        },
        {
         "hovertemplate": "Country=NORWAY<extra></extra>",
         "legendgroup": "NORWAY",
         "marker": {
          "color": "#2CA02C",
          "symbol": "circle"
         },
         "mode": "lines",
         "name": "NORWAY",
         "showlegend": false,
         "type": "scatter",
         "xaxis": "x",
         "yaxis": "y"
        },
        {
         "hovertemplate": "Country=OMAN<br>AverageTemperature=%{x}<br>GHG=%{y}<extra></extra>",
         "legendgroup": "OMAN",
         "marker": {
          "color": "#D62728",
          "symbol": "circle"
         },
         "mode": "markers",
         "name": "OMAN",
         "orientation": "v",
         "showlegend": true,
         "type": "scatter",
         "x": [
          1379.8576666666668
         ],
         "xaxis": "x",
         "y": [
          3428731247
         ],
         "yaxis": "y"
        },
        {
         "hovertemplate": "Country=OMAN<extra></extra>",
         "legendgroup": "OMAN",
         "marker": {
          "color": "#D62728",
          "symbol": "circle"
         },
         "mode": "lines",
         "name": "OMAN",
         "showlegend": false,
         "type": "scatter",
         "xaxis": "x",
         "yaxis": "y"
        },
        {
         "hovertemplate": "Country=PAKISTAN<br>AverageTemperature=%{x}<br>GHG=%{y}<extra></extra>",
         "legendgroup": "PAKISTAN",
         "marker": {
          "color": "#9467BD",
          "symbol": "circle"
         },
         "mode": "markers",
         "name": "PAKISTAN",
         "orientation": "v",
         "showlegend": true,
         "type": "scatter",
         "x": [
          1063.2931666666666
         ],
         "xaxis": "x",
         "y": [
          24570778283
         ],
         "yaxis": "y"
        },
        {
         "hovertemplate": "Country=PAKISTAN<extra></extra>",
         "legendgroup": "PAKISTAN",
         "marker": {
          "color": "#9467BD",
          "symbol": "circle"
         },
         "mode": "lines",
         "name": "PAKISTAN",
         "showlegend": false,
         "type": "scatter",
         "xaxis": "x",
         "yaxis": "y"
        },
        {
         "hovertemplate": "Country=PALAU<br>AverageTemperature=%{x}<br>GHG=%{y}<extra></extra>",
         "legendgroup": "PALAU",
         "marker": {
          "color": "#8C564B",
          "symbol": "circle"
         },
         "mode": "markers",
         "name": "PALAU",
         "orientation": "v",
         "showlegend": true,
         "type": "scatter",
         "x": [
          1402.43925
         ],
         "xaxis": "x",
         "y": [
          110462272
         ],
         "yaxis": "y"
        },
        {
         "hovertemplate": "Country=PALAU<extra></extra>",
         "legendgroup": "PALAU",
         "marker": {
          "color": "#8C564B",
          "symbol": "circle"
         },
         "mode": "lines",
         "name": "PALAU",
         "showlegend": false,
         "type": "scatter",
         "xaxis": "x",
         "yaxis": "y"
        },
        {
         "hovertemplate": "Country=PALESTINE<br>AverageTemperature=%{x}<br>GHG=%{y}<extra></extra>",
         "legendgroup": "PALESTINE",
         "marker": {
          "color": "#E377C2",
          "symbol": "circle"
         },
         "mode": "markers",
         "name": "PALESTINE",
         "orientation": "v",
         "showlegend": true,
         "type": "scatter",
         "x": [
          1194.2305833333332
         ],
         "xaxis": "x",
         "y": [
          63885504
         ],
         "yaxis": "y"
        },
        {
         "hovertemplate": "Country=PALESTINE<extra></extra>",
         "legendgroup": "PALESTINE",
         "marker": {
          "color": "#E377C2",
          "symbol": "circle"
         },
         "mode": "lines",
         "name": "PALESTINE",
         "showlegend": false,
         "type": "scatter",
         "xaxis": "x",
         "yaxis": "y"
        },
        {
         "hovertemplate": "Country=PANAMA<br>AverageTemperature=%{x}<br>GHG=%{y}<extra></extra>",
         "legendgroup": "PANAMA",
         "marker": {
          "color": "#7F7F7F",
          "symbol": "circle"
         },
         "mode": "markers",
         "name": "PANAMA",
         "orientation": "v",
         "showlegend": true,
         "type": "scatter",
         "x": [
          1357.617
         ],
         "xaxis": "x",
         "y": [
          2419946736
         ],
         "yaxis": "y"
        },
        {
         "hovertemplate": "Country=PANAMA<extra></extra>",
         "legendgroup": "PANAMA",
         "marker": {
          "color": "#7F7F7F",
          "symbol": "circle"
         },
         "mode": "lines",
         "name": "PANAMA",
         "showlegend": false,
         "type": "scatter",
         "xaxis": "x",
         "yaxis": "y"
        },
        {
         "hovertemplate": "Country=PAPUA NEW GUINEA<br>AverageTemperature=%{x}<br>GHG=%{y}<extra></extra>",
         "legendgroup": "PAPUA NEW GUINEA",
         "marker": {
          "color": "#BCBD22",
          "symbol": "circle"
         },
         "mode": "markers",
         "name": "PAPUA NEW GUINEA",
         "orientation": "v",
         "showlegend": true,
         "type": "scatter",
         "x": [
          1257.8650833333334
         ],
         "xaxis": "x",
         "y": [
          1002682912
         ],
         "yaxis": "y"
        },
        {
         "hovertemplate": "Country=PAPUA NEW GUINEA<extra></extra>",
         "legendgroup": "PAPUA NEW GUINEA",
         "marker": {
          "color": "#BCBD22",
          "symbol": "circle"
         },
         "mode": "lines",
         "name": "PAPUA NEW GUINEA",
         "showlegend": false,
         "type": "scatter",
         "xaxis": "x",
         "yaxis": "y"
        },
        {
         "hovertemplate": "Country=PARAGUAY<br>AverageTemperature=%{x}<br>GHG=%{y}<extra></extra>",
         "legendgroup": "PARAGUAY",
         "marker": {
          "color": "#17BECF",
          "symbol": "circle"
         },
         "mode": "markers",
         "name": "PARAGUAY",
         "orientation": "v",
         "showlegend": true,
         "type": "scatter",
         "x": [
          1201.8638333333333
         ],
         "xaxis": "x",
         "y": [
          955241532
         ],
         "yaxis": "y"
        },
        {
         "hovertemplate": "Country=PARAGUAY<extra></extra>",
         "legendgroup": "PARAGUAY",
         "marker": {
          "color": "#17BECF",
          "symbol": "circle"
         },
         "mode": "lines",
         "name": "PARAGUAY",
         "showlegend": false,
         "type": "scatter",
         "xaxis": "x",
         "yaxis": "y"
        },
        {
         "hovertemplate": "Country=PERU<br>AverageTemperature=%{x}<br>GHG=%{y}<extra></extra>",
         "legendgroup": "PERU",
         "marker": {
          "color": "#1F77B4",
          "symbol": "circle"
         },
         "mode": "markers",
         "name": "PERU",
         "orientation": "v",
         "showlegend": true,
         "type": "scatter",
         "x": [
          1030.2881666666667
         ],
         "xaxis": "x",
         "y": [
          27358416734
         ],
         "yaxis": "y"
        },
        {
         "hovertemplate": "Country=PERU<extra></extra>",
         "legendgroup": "PERU",
         "marker": {
          "color": "#1F77B4",
          "symbol": "circle"
         },
         "mode": "lines",
         "name": "PERU",
         "showlegend": false,
         "type": "scatter",
         "xaxis": "x",
         "yaxis": "y"
        },
        {
         "hovertemplate": "Country=PHILIPPINES<br>AverageTemperature=%{x}<br>GHG=%{y}<extra></extra>",
         "legendgroup": "PHILIPPINES",
         "marker": {
          "color": "#FF7F0E",
          "symbol": "circle"
         },
         "mode": "markers",
         "name": "PHILIPPINES",
         "orientation": "v",
         "showlegend": true,
         "type": "scatter",
         "x": [
          1367.7394166666666
         ],
         "xaxis": "x",
         "y": [
          25224501113
         ],
         "yaxis": "y"
        },
        {
         "hovertemplate": "Country=PHILIPPINES<extra></extra>",
         "legendgroup": "PHILIPPINES",
         "marker": {
          "color": "#FF7F0E",
          "symbol": "circle"
         },
         "mode": "lines",
         "name": "PHILIPPINES",
         "showlegend": false,
         "type": "scatter",
         "xaxis": "x",
         "yaxis": "y"
        },
        {
         "hovertemplate": "Country=POLAND<br>AverageTemperature=%{x}<br>GHG=%{y}<extra></extra>",
         "legendgroup": "POLAND",
         "marker": {
          "color": "#2CA02C",
          "symbol": "circle"
         },
         "mode": "markers",
         "name": "POLAND",
         "orientation": "v",
         "showlegend": true,
         "type": "scatter",
         "x": [
          399.68491666666665
         ],
         "xaxis": "x",
         "y": [
          628205834654
         ],
         "yaxis": "y"
        },
        {
         "hovertemplate": "Country=POLAND<extra></extra>",
         "legendgroup": "POLAND",
         "marker": {
          "color": "#2CA02C",
          "symbol": "circle"
         },
         "mode": "lines",
         "name": "POLAND",
         "showlegend": false,
         "type": "scatter",
         "xaxis": "x",
         "yaxis": "y"
        },
        {
         "hovertemplate": "Country=PORTUGAL<br>AverageTemperature=%{x}<br>GHG=%{y}<extra></extra>",
         "legendgroup": "PORTUGAL",
         "marker": {
          "color": "#D62728",
          "symbol": "circle"
         },
         "mode": "markers",
         "name": "PORTUGAL",
         "orientation": "v",
         "showlegend": true,
         "type": "scatter",
         "x": [
          764.407
         ],
         "xaxis": "x",
         "y": [
          31071820488
         ],
         "yaxis": "y"
        },
        {
         "hovertemplate": "Country=PORTUGAL<extra></extra>",
         "legendgroup": "PORTUGAL",
         "marker": {
          "color": "#D62728",
          "symbol": "circle"
         },
         "mode": "lines",
         "name": "PORTUGAL",
         "showlegend": false,
         "type": "scatter",
         "xaxis": "x",
         "yaxis": "y"
        },
        {
         "hovertemplate": "Country=PUERTO RICO<br>AverageTemperature=%{x}<br>GHG=%{y}<extra></extra>",
         "legendgroup": "PUERTO RICO",
         "marker": {
          "color": "#9467BD",
          "symbol": "circle"
         },
         "mode": "markers",
         "name": "PUERTO RICO",
         "orientation": "v",
         "showlegend": true,
         "type": "scatter",
         "x": [
          1314.7359999999999
         ],
         "xaxis": "x",
         "y": [
          0
         ],
         "yaxis": "y"
        },
        {
         "hovertemplate": "Country=PUERTO RICO<extra></extra>",
         "legendgroup": "PUERTO RICO",
         "marker": {
          "color": "#9467BD",
          "symbol": "circle"
         },
         "mode": "lines",
         "name": "PUERTO RICO",
         "showlegend": false,
         "type": "scatter",
         "xaxis": "x",
         "yaxis": "y"
        },
        {
         "hovertemplate": "Country=QATAR<br>AverageTemperature=%{x}<br>GHG=%{y}<extra></extra>",
         "legendgroup": "QATAR",
         "marker": {
          "color": "#8C564B",
          "symbol": "circle"
         },
         "mode": "markers",
         "name": "QATAR",
         "orientation": "v",
         "showlegend": true,
         "type": "scatter",
         "x": [
          1378.19725
         ],
         "xaxis": "x",
         "y": [
          8349834565
         ],
         "yaxis": "y"
        },
        {
         "hovertemplate": "Country=QATAR<extra></extra>",
         "legendgroup": "QATAR",
         "marker": {
          "color": "#8C564B",
          "symbol": "circle"
         },
         "mode": "lines",
         "name": "QATAR",
         "showlegend": false,
         "type": "scatter",
         "xaxis": "x",
         "yaxis": "y"
        },
        {
         "hovertemplate": "Country=REPUBLIC OF CONGO<br>AverageTemperature=%{x}<br>GHG=%{y}<extra></extra>",
         "legendgroup": "REPUBLIC OF CONGO",
         "marker": {
          "color": "#E377C2",
          "symbol": "circle"
         },
         "mode": "markers",
         "name": "REPUBLIC OF CONGO",
         "orientation": "v",
         "showlegend": true,
         "type": "scatter",
         "x": [
          1257.3243333333332
         ],
         "xaxis": "x",
         "y": [
          606449419
         ],
         "yaxis": "y"
        },
        {
         "hovertemplate": "Country=REPUBLIC OF CONGO<extra></extra>",
         "legendgroup": "REPUBLIC OF CONGO",
         "marker": {
          "color": "#E377C2",
          "symbol": "circle"
         },
         "mode": "lines",
         "name": "REPUBLIC OF CONGO",
         "showlegend": false,
         "type": "scatter",
         "xaxis": "x",
         "yaxis": "y"
        },
        {
         "hovertemplate": "Country=REPUBLIC OF KOREA<br>AverageTemperature=%{x}<br>GHG=%{y}<extra></extra>",
         "legendgroup": "REPUBLIC OF KOREA",
         "marker": {
          "color": "#7F7F7F",
          "symbol": "circle"
         },
         "mode": "markers",
         "name": "REPUBLIC OF KOREA",
         "orientation": "v",
         "showlegend": true,
         "type": "scatter",
         "x": [
          624.7038333333334
         ],
         "xaxis": "x",
         "y": [
          82943136277
         ],
         "yaxis": "y"
        },
        {
         "hovertemplate": "Country=REPUBLIC OF KOREA<extra></extra>",
         "legendgroup": "REPUBLIC OF KOREA",
         "marker": {
          "color": "#7F7F7F",
          "symbol": "circle"
         },
         "mode": "lines",
         "name": "REPUBLIC OF KOREA",
         "showlegend": false,
         "type": "scatter",
         "xaxis": "x",
         "yaxis": "y"
        },
        {
         "hovertemplate": "Country=ROMANIA<br>AverageTemperature=%{x}<br>GHG=%{y}<extra></extra>",
         "legendgroup": "ROMANIA",
         "marker": {
          "color": "#BCBD22",
          "symbol": "circle"
         },
         "mode": "markers",
         "name": "ROMANIA",
         "orientation": "v",
         "showlegend": true,
         "type": "scatter",
         "x": [
          464.76616666666666
         ],
         "xaxis": "x",
         "y": [
          162663288592
         ],
         "yaxis": "y"
        },
        {
         "hovertemplate": "Country=ROMANIA<extra></extra>",
         "legendgroup": "ROMANIA",
         "marker": {
          "color": "#BCBD22",
          "symbol": "circle"
         },
         "mode": "lines",
         "name": "ROMANIA",
         "showlegend": false,
         "type": "scatter",
         "xaxis": "x",
         "yaxis": "y"
        },
        {
         "hovertemplate": "Country=RUSSIAN FEDERATION<br>AverageTemperature=%{x}<br>GHG=%{y}<extra></extra>",
         "legendgroup": "RUSSIAN FEDERATION",
         "marker": {
          "color": "#17BECF",
          "symbol": "circle"
         },
         "mode": "markers",
         "name": "RUSSIAN FEDERATION",
         "orientation": "v",
         "showlegend": true,
         "type": "scatter",
         "x": [
          -261.81191666666666
         ],
         "xaxis": "x",
         "y": [
          1415979765750
         ],
         "yaxis": "y"
        },
        {
         "hovertemplate": "Country=RUSSIAN FEDERATION<extra></extra>",
         "legendgroup": "RUSSIAN FEDERATION",
         "marker": {
          "color": "#17BECF",
          "symbol": "circle"
         },
         "mode": "lines",
         "name": "RUSSIAN FEDERATION",
         "showlegend": false,
         "type": "scatter",
         "xaxis": "x",
         "yaxis": "y"
        },
        {
         "hovertemplate": "Country=RWANDA<br>AverageTemperature=%{x}<br>GHG=%{y}<extra></extra>",
         "legendgroup": "RWANDA",
         "marker": {
          "color": "#1F77B4",
          "symbol": "circle"
         },
         "mode": "markers",
         "name": "RWANDA",
         "orientation": "v",
         "showlegend": true,
         "type": "scatter",
         "x": [
          990.7985833333333
         ],
         "xaxis": "x",
         "y": [
          200404026
         ],
         "yaxis": "y"
        },
        {
         "hovertemplate": "Country=RWANDA<extra></extra>",
         "legendgroup": "RWANDA",
         "marker": {
          "color": "#1F77B4",
          "symbol": "circle"
         },
         "mode": "lines",
         "name": "RWANDA",
         "showlegend": false,
         "type": "scatter",
         "xaxis": "x",
         "yaxis": "y"
        },
        {
         "hovertemplate": "Country=SAINT KITTS AND NEVIS<br>AverageTemperature=%{x}<br>GHG=%{y}<extra></extra>",
         "legendgroup": "SAINT KITTS AND NEVIS",
         "marker": {
          "color": "#FF7F0E",
          "symbol": "circle"
         },
         "mode": "markers",
         "name": "SAINT KITTS AND NEVIS",
         "orientation": "v",
         "showlegend": true,
         "type": "scatter",
         "x": [
          1335.659
         ],
         "xaxis": "x",
         "y": [
          16187552
         ],
         "yaxis": "y"
        },
        {
         "hovertemplate": "Country=SAINT KITTS AND NEVIS<extra></extra>",
         "legendgroup": "SAINT KITTS AND NEVIS",
         "marker": {
          "color": "#FF7F0E",
          "symbol": "circle"
         },
         "mode": "lines",
         "name": "SAINT KITTS AND NEVIS",
         "showlegend": false,
         "type": "scatter",
         "xaxis": "x",
         "yaxis": "y"
        },
        {
         "hovertemplate": "Country=SAINT LUCIA<br>AverageTemperature=%{x}<br>GHG=%{y}<extra></extra>",
         "legendgroup": "SAINT LUCIA",
         "marker": {
          "color": "#2CA02C",
          "symbol": "circle"
         },
         "mode": "markers",
         "name": "SAINT LUCIA",
         "orientation": "v",
         "showlegend": true,
         "type": "scatter",
         "x": [
          1377.1066666666666
         ],
         "xaxis": "x",
         "y": [
          72246752
         ],
         "yaxis": "y"
        },
        {
         "hovertemplate": "Country=SAINT LUCIA<extra></extra>",
         "legendgroup": "SAINT LUCIA",
         "marker": {
          "color": "#2CA02C",
          "symbol": "circle"
         },
         "mode": "lines",
         "name": "SAINT LUCIA",
         "showlegend": false,
         "type": "scatter",
         "xaxis": "x",
         "yaxis": "y"
        },
        {
         "hovertemplate": "Country=SAINT PIERRE AND MIQUELON<br>AverageTemperature=%{x}<br>GHG=%{y}<extra></extra>",
         "legendgroup": "SAINT PIERRE AND MIQUELON",
         "marker": {
          "color": "#D62728",
          "symbol": "circle"
         },
         "mode": "markers",
         "name": "SAINT PIERRE AND MIQUELON",
         "orientation": "v",
         "showlegend": true,
         "type": "scatter",
         "x": [
          244.99725
         ],
         "xaxis": "x",
         "y": [
          53695920
         ],
         "yaxis": "y"
        },
        {
         "hovertemplate": "Country=SAINT PIERRE AND MIQUELON<extra></extra>",
         "legendgroup": "SAINT PIERRE AND MIQUELON",
         "marker": {
          "color": "#D62728",
          "symbol": "circle"
         },
         "mode": "lines",
         "name": "SAINT PIERRE AND MIQUELON",
         "showlegend": false,
         "type": "scatter",
         "xaxis": "x",
         "yaxis": "y"
        },
        {
         "hovertemplate": "Country=SAINT VINCENT AND THE GRENADINES<br>AverageTemperature=%{x}<br>GHG=%{y}<extra></extra>",
         "legendgroup": "SAINT VINCENT AND THE GRENADINES",
         "marker": {
          "color": "#9467BD",
          "symbol": "circle"
         },
         "mode": "markers",
         "name": "SAINT VINCENT AND THE GRENADINES",
         "orientation": "v",
         "showlegend": true,
         "type": "scatter",
         "x": [
          1384.4374166666666
         ],
         "xaxis": "x",
         "y": [
          34514880
         ],
         "yaxis": "y"
        },
        {
         "hovertemplate": "Country=SAINT VINCENT AND THE GRENADINES<extra></extra>",
         "legendgroup": "SAINT VINCENT AND THE GRENADINES",
         "marker": {
          "color": "#9467BD",
          "symbol": "circle"
         },
         "mode": "lines",
         "name": "SAINT VINCENT AND THE GRENADINES",
         "showlegend": false,
         "type": "scatter",
         "xaxis": "x",
         "yaxis": "y"
        },
        {
         "hovertemplate": "Country=SAMOA<br>AverageTemperature=%{x}<br>GHG=%{y}<extra></extra>",
         "legendgroup": "SAMOA",
         "marker": {
          "color": "#8C564B",
          "symbol": "circle"
         },
         "mode": "markers",
         "name": "SAMOA",
         "orientation": "v",
         "showlegend": true,
         "type": "scatter",
         "x": [
          1354.9333333333334
         ],
         "xaxis": "x",
         "y": [
          52875184
         ],
         "yaxis": "y"
        },
        {
         "hovertemplate": "Country=SAMOA<extra></extra>",
         "legendgroup": "SAMOA",
         "marker": {
          "color": "#8C564B",
          "symbol": "circle"
         },
         "mode": "lines",
         "name": "SAMOA",
         "showlegend": false,
         "type": "scatter",
         "xaxis": "x",
         "yaxis": "y"
        },
        {
         "hovertemplate": "Country=SAN MARINO<br>AverageTemperature=%{x}<br>GHG=%{y}<extra></extra>",
         "legendgroup": "SAN MARINO",
         "marker": {
          "color": "#E377C2",
          "symbol": "circle"
         },
         "mode": "markers",
         "name": "SAN MARINO",
         "orientation": "v",
         "showlegend": true,
         "type": "scatter",
         "x": [
          722.1416666666667
         ],
         "xaxis": "x",
         "y": [
          0
         ],
         "yaxis": "y"
        },
        {
         "hovertemplate": "Country=SAN MARINO<extra></extra>",
         "legendgroup": "SAN MARINO",
         "marker": {
          "color": "#E377C2",
          "symbol": "circle"
         },
         "mode": "lines",
         "name": "SAN MARINO",
         "showlegend": false,
         "type": "scatter",
         "xaxis": "x",
         "yaxis": "y"
        },
        {
         "hovertemplate": "Country=SAO TOME AND PRINCIPE<br>AverageTemperature=%{x}<br>GHG=%{y}<extra></extra>",
         "legendgroup": "SAO TOME AND PRINCIPE",
         "marker": {
          "color": "#7F7F7F",
          "symbol": "circle"
         },
         "mode": "markers",
         "name": "SAO TOME AND PRINCIPE",
         "orientation": "v",
         "showlegend": true,
         "type": "scatter",
         "x": [
          1325.6784166666666
         ],
         "xaxis": "x",
         "y": [
          23024576
         ],
         "yaxis": "y"
        },
        {
         "hovertemplate": "Country=SAO TOME AND PRINCIPE<extra></extra>",
         "legendgroup": "SAO TOME AND PRINCIPE",
         "marker": {
          "color": "#7F7F7F",
          "symbol": "circle"
         },
         "mode": "lines",
         "name": "SAO TOME AND PRINCIPE",
         "showlegend": false,
         "type": "scatter",
         "xaxis": "x",
         "yaxis": "y"
        },
        {
         "hovertemplate": "Country=SAUDI ARABIA<br>AverageTemperature=%{x}<br>GHG=%{y}<extra></extra>",
         "legendgroup": "SAUDI ARABIA",
         "marker": {
          "color": "#BCBD22",
          "symbol": "circle"
         },
         "mode": "markers",
         "name": "SAUDI ARABIA",
         "orientation": "v",
         "showlegend": true,
         "type": "scatter",
         "x": [
          1314.982
         ],
         "xaxis": "x",
         "y": [
          81137571609
         ],
         "yaxis": "y"
        },
        {
         "hovertemplate": "Country=SAUDI ARABIA<extra></extra>",
         "legendgroup": "SAUDI ARABIA",
         "marker": {
          "color": "#BCBD22",
          "symbol": "circle"
         },
         "mode": "lines",
         "name": "SAUDI ARABIA",
         "showlegend": false,
         "type": "scatter",
         "xaxis": "x",
         "yaxis": "y"
        },
        {
         "hovertemplate": "Country=SENEGAL<br>AverageTemperature=%{x}<br>GHG=%{y}<extra></extra>",
         "legendgroup": "SENEGAL",
         "marker": {
          "color": "#17BECF",
          "symbol": "circle"
         },
         "mode": "markers",
         "name": "SENEGAL",
         "orientation": "v",
         "showlegend": true,
         "type": "scatter",
         "x": [
          1438.9200833333332
         ],
         "xaxis": "x",
         "y": [
          1577765408
         ],
         "yaxis": "y"
        },
        {
         "hovertemplate": "Country=SENEGAL<extra></extra>",
         "legendgroup": "SENEGAL",
         "marker": {
          "color": "#17BECF",
          "symbol": "circle"
         },
         "mode": "lines",
         "name": "SENEGAL",
         "showlegend": false,
         "type": "scatter",
         "xaxis": "x",
         "yaxis": "y"
        },
        {
         "hovertemplate": "Country=SERBIA<br>AverageTemperature=%{x}<br>GHG=%{y}<extra></extra>",
         "legendgroup": "SERBIA",
         "marker": {
          "color": "#1F77B4",
          "symbol": "circle"
         },
         "mode": "markers",
         "name": "SERBIA",
         "orientation": "v",
         "showlegend": true,
         "type": "scatter",
         "x": [
          525.2611666666667
         ],
         "xaxis": "x",
         "y": [
          29020903804
         ],
         "yaxis": "y"
        },
        {
         "hovertemplate": "Country=SERBIA<extra></extra>",
         "legendgroup": "SERBIA",
         "marker": {
          "color": "#1F77B4",
          "symbol": "circle"
         },
         "mode": "lines",
         "name": "SERBIA",
         "showlegend": false,
         "type": "scatter",
         "xaxis": "x",
         "yaxis": "y"
        },
        {
         "hovertemplate": "Country=SEYCHELLES<br>AverageTemperature=%{x}<br>GHG=%{y}<extra></extra>",
         "legendgroup": "SEYCHELLES",
         "marker": {
          "color": "#FF7F0E",
          "symbol": "circle"
         },
         "mode": "markers",
         "name": "SEYCHELLES",
         "orientation": "v",
         "showlegend": true,
         "type": "scatter",
         "x": [
          1374.5938333333334
         ],
         "xaxis": "x",
         "y": [
          54315136
         ],
         "yaxis": "y"
        },
        {
         "hovertemplate": "Country=SEYCHELLES<extra></extra>",
         "legendgroup": "SEYCHELLES",
         "marker": {
          "color": "#FF7F0E",
          "symbol": "circle"
         },
         "mode": "lines",
         "name": "SEYCHELLES",
         "showlegend": false,
         "type": "scatter",
         "xaxis": "x",
         "yaxis": "y"
        },
        {
         "hovertemplate": "Country=SIERRA LEONE<br>AverageTemperature=%{x}<br>GHG=%{y}<extra></extra>",
         "legendgroup": "SIERRA LEONE",
         "marker": {
          "color": "#2CA02C",
          "symbol": "circle"
         },
         "mode": "markers",
         "name": "SIERRA LEONE",
         "orientation": "v",
         "showlegend": true,
         "type": "scatter",
         "x": [
          1341.34825
         ],
         "xaxis": "x",
         "y": [
          538164656
         ],
         "yaxis": "y"
        },
        {
         "hovertemplate": "Country=SIERRA LEONE<extra></extra>",
         "legendgroup": "SIERRA LEONE",
         "marker": {
          "color": "#2CA02C",
          "symbol": "circle"
         },
         "mode": "lines",
         "name": "SIERRA LEONE",
         "showlegend": false,
         "type": "scatter",
         "xaxis": "x",
         "yaxis": "y"
        },
        {
         "hovertemplate": "Country=SINGAPORE<br>AverageTemperature=%{x}<br>GHG=%{y}<extra></extra>",
         "legendgroup": "SINGAPORE",
         "marker": {
          "color": "#D62728",
          "symbol": "circle"
         },
         "mode": "markers",
         "name": "SINGAPORE",
         "orientation": "v",
         "showlegend": true,
         "type": "scatter",
         "x": [
          1371.1077500000001
         ],
         "xaxis": "x",
         "y": [
          16553406994
         ],
         "yaxis": "y"
        },
        {
         "hovertemplate": "Country=SINGAPORE<extra></extra>",
         "legendgroup": "SINGAPORE",
         "marker": {
          "color": "#D62728",
          "symbol": "circle"
         },
         "mode": "lines",
         "name": "SINGAPORE",
         "showlegend": false,
         "type": "scatter",
         "xaxis": "x",
         "yaxis": "y"
        },
        {
         "hovertemplate": "Country=SLOVAKIA<br>AverageTemperature=%{x}<br>GHG=%{y}<extra></extra>",
         "legendgroup": "SLOVAKIA",
         "marker": {
          "color": "#9467BD",
          "symbol": "circle"
         },
         "mode": "markers",
         "name": "SLOVAKIA",
         "orientation": "v",
         "showlegend": true,
         "type": "scatter",
         "x": [
          402.039
         ],
         "xaxis": "x",
         "y": [
          42556606401
         ],
         "yaxis": "y"
        },
        {
         "hovertemplate": "Country=SLOVAKIA<extra></extra>",
         "legendgroup": "SLOVAKIA",
         "marker": {
          "color": "#9467BD",
          "symbol": "circle"
         },
         "mode": "lines",
         "name": "SLOVAKIA",
         "showlegend": false,
         "type": "scatter",
         "xaxis": "x",
         "yaxis": "y"
        },
        {
         "hovertemplate": "Country=SLOVENIA<br>AverageTemperature=%{x}<br>GHG=%{y}<extra></extra>",
         "legendgroup": "SLOVENIA",
         "marker": {
          "color": "#8C564B",
          "symbol": "circle"
         },
         "mode": "markers",
         "name": "SLOVENIA",
         "orientation": "v",
         "showlegend": true,
         "type": "scatter",
         "x": [
          508.7029166666667
         ],
         "xaxis": "x",
         "y": [
          8453121825
         ],
         "yaxis": "y"
        },
        {
         "hovertemplate": "Country=SLOVENIA<extra></extra>",
         "legendgroup": "SLOVENIA",
         "marker": {
          "color": "#8C564B",
          "symbol": "circle"
         },
         "mode": "lines",
         "name": "SLOVENIA",
         "showlegend": false,
         "type": "scatter",
         "xaxis": "x",
         "yaxis": "y"
        },
        {
         "hovertemplate": "Country=SOLOMON ISLANDS<br>AverageTemperature=%{x}<br>GHG=%{y}<extra></extra>",
         "legendgroup": "SOLOMON ISLANDS",
         "marker": {
          "color": "#E377C2",
          "symbol": "circle"
         },
         "mode": "markers",
         "name": "SOLOMON ISLANDS",
         "orientation": "v",
         "showlegend": true,
         "type": "scatter",
         "x": [
          1368.0038333333334
         ],
         "xaxis": "x",
         "y": [
          60499968
         ],
         "yaxis": "y"
        },
        {
         "hovertemplate": "Country=SOLOMON ISLANDS<extra></extra>",
         "legendgroup": "SOLOMON ISLANDS",
         "marker": {
          "color": "#E377C2",
          "symbol": "circle"
         },
         "mode": "lines",
         "name": "SOLOMON ISLANDS",
         "showlegend": false,
         "type": "scatter",
         "xaxis": "x",
         "yaxis": "y"
        },
        {
         "hovertemplate": "Country=SOMALIA<br>AverageTemperature=%{x}<br>GHG=%{y}<extra></extra>",
         "legendgroup": "SOMALIA",
         "marker": {
          "color": "#7F7F7F",
          "symbol": "circle"
         },
         "mode": "markers",
         "name": "SOMALIA",
         "orientation": "v",
         "showlegend": true,
         "type": "scatter",
         "x": [
          1378.1606666666667
         ],
         "xaxis": "x",
         "y": [
          352507758
         ],
         "yaxis": "y"
        },
        {
         "hovertemplate": "Country=SOMALIA<extra></extra>",
         "legendgroup": "SOMALIA",
         "marker": {
          "color": "#7F7F7F",
          "symbol": "circle"
         },
         "mode": "lines",
         "name": "SOMALIA",
         "showlegend": false,
         "type": "scatter",
         "xaxis": "x",
         "yaxis": "y"
        },
        {
         "hovertemplate": "Country=SOUTH AFRICA<br>AverageTemperature=%{x}<br>GHG=%{y}<extra></extra>",
         "legendgroup": "SOUTH AFRICA",
         "marker": {
          "color": "#BCBD22",
          "symbol": "circle"
         },
         "mode": "markers",
         "name": "SOUTH AFRICA",
         "orientation": "v",
         "showlegend": true,
         "type": "scatter",
         "x": [
          895.8650833333334
         ],
         "xaxis": "x",
         "y": [
          272546282418
         ],
         "yaxis": "y"
        },
        {
         "hovertemplate": "Country=SOUTH AFRICA<extra></extra>",
         "legendgroup": "SOUTH AFRICA",
         "marker": {
          "color": "#BCBD22",
          "symbol": "circle"
         },
         "mode": "lines",
         "name": "SOUTH AFRICA",
         "showlegend": false,
         "type": "scatter",
         "xaxis": "x",
         "yaxis": "y"
        },
        {
         "hovertemplate": "Country=SOUTH GEORGIA AND THE SOUTH SANDWICH ISLANDS<br>AverageTemperature=%{x}<br>GHG=%{y}<extra></extra>",
         "legendgroup": "SOUTH GEORGIA AND THE SOUTH SANDWICH ISLANDS",
         "marker": {
          "color": "#17BECF",
          "symbol": "circle"
         },
         "mode": "markers",
         "name": "SOUTH GEORGIA AND THE SOUTH SANDWICH ISLANDS",
         "orientation": "v",
         "showlegend": true,
         "type": "scatter",
         "x": [
          81.571
         ],
         "xaxis": "x",
         "y": [
          0
         ],
         "yaxis": "y"
        },
        {
         "hovertemplate": "Country=SOUTH GEORGIA AND THE SOUTH SANDWICH ISLANDS<extra></extra>",
         "legendgroup": "SOUTH GEORGIA AND THE SOUTH SANDWICH ISLANDS",
         "marker": {
          "color": "#17BECF",
          "symbol": "circle"
         },
         "mode": "lines",
         "name": "SOUTH GEORGIA AND THE SOUTH SANDWICH ISLANDS",
         "showlegend": false,
         "type": "scatter",
         "xaxis": "x",
         "yaxis": "y"
        },
        {
         "hovertemplate": "Country=SPAIN<br>AverageTemperature=%{x}<br>GHG=%{y}<extra></extra>",
         "legendgroup": "SPAIN",
         "marker": {
          "color": "#1F77B4",
          "symbol": "circle"
         },
         "mode": "markers",
         "name": "SPAIN",
         "orientation": "v",
         "showlegend": true,
         "type": "scatter",
         "x": [
          709.7966666666666
         ],
         "xaxis": "x",
         "y": [
          197132913987
         ],
         "yaxis": "y"
        },
        {
         "hovertemplate": "Country=SPAIN<extra></extra>",
         "legendgroup": "SPAIN",
         "marker": {
          "color": "#1F77B4",
          "symbol": "circle"
         },
         "mode": "lines",
         "name": "SPAIN",
         "showlegend": false,
         "type": "scatter",
         "xaxis": "x",
         "yaxis": "y"
        },
        {
         "hovertemplate": "Country=SRI LANKA<br>AverageTemperature=%{x}<br>GHG=%{y}<extra></extra>",
         "legendgroup": "SRI LANKA",
         "marker": {
          "color": "#FF7F0E",
          "symbol": "circle"
         },
         "mode": "markers",
         "name": "SRI LANKA",
         "orientation": "v",
         "showlegend": true,
         "type": "scatter",
         "x": [
          1392.1555833333332
         ],
         "xaxis": "x",
         "y": [
          3727251672
         ],
         "yaxis": "y"
        },
        {
         "hovertemplate": "Country=SRI LANKA<extra></extra>",
         "legendgroup": "SRI LANKA",
         "marker": {
          "color": "#FF7F0E",
          "symbol": "circle"
         },
         "mode": "lines",
         "name": "SRI LANKA",
         "showlegend": false,
         "type": "scatter",
         "xaxis": "x",
         "yaxis": "y"
        },
        {
         "hovertemplate": "Country=SUDAN<br>AverageTemperature=%{x}<br>GHG=%{y}<extra></extra>",
         "legendgroup": "SUDAN",
         "marker": {
          "color": "#2CA02C",
          "symbol": "circle"
         },
         "mode": "markers",
         "name": "SUDAN",
         "orientation": "v",
         "showlegend": true,
         "type": "scatter",
         "x": [
          1389.93875
         ],
         "xaxis": "x",
         "y": [
          3401459744
         ],
         "yaxis": "y"
        },
        {
         "hovertemplate": "Country=SUDAN<extra></extra>",
         "legendgroup": "SUDAN",
         "marker": {
          "color": "#2CA02C",
          "symbol": "circle"
         },
         "mode": "lines",
         "name": "SUDAN",
         "showlegend": false,
         "type": "scatter",
         "xaxis": "x",
         "yaxis": "y"
        },
        {
         "hovertemplate": "Country=SURINAME<br>AverageTemperature=%{x}<br>GHG=%{y}<extra></extra>",
         "legendgroup": "SURINAME",
         "marker": {
          "color": "#D62728",
          "symbol": "circle"
         },
         "mode": "markers",
         "name": "SURINAME",
         "orientation": "v",
         "showlegend": true,
         "type": "scatter",
         "x": [
          1353.0716666666667
         ],
         "xaxis": "x",
         "y": [
          1387767433
         ],
         "yaxis": "y"
        },
        {
         "hovertemplate": "Country=SURINAME<extra></extra>",
         "legendgroup": "SURINAME",
         "marker": {
          "color": "#D62728",
          "symbol": "circle"
         },
         "mode": "lines",
         "name": "SURINAME",
         "showlegend": false,
         "type": "scatter",
         "xaxis": "x",
         "yaxis": "y"
        },
        {
         "hovertemplate": "Country=SVALBARD AND JAN MAYEN<br>AverageTemperature=%{x}<br>GHG=%{y}<extra></extra>",
         "legendgroup": "SVALBARD AND JAN MAYEN",
         "marker": {
          "color": "#9467BD",
          "symbol": "circle"
         },
         "mode": "markers",
         "name": "SVALBARD AND JAN MAYEN",
         "orientation": "v",
         "showlegend": true,
         "type": "scatter",
         "x": [
          -369.4155
         ],
         "xaxis": "x",
         "y": [
          0
         ],
         "yaxis": "y"
        },
        {
         "hovertemplate": "Country=SVALBARD AND JAN MAYEN<extra></extra>",
         "legendgroup": "SVALBARD AND JAN MAYEN",
         "marker": {
          "color": "#9467BD",
          "symbol": "circle"
         },
         "mode": "lines",
         "name": "SVALBARD AND JAN MAYEN",
         "showlegend": false,
         "type": "scatter",
         "xaxis": "x",
         "yaxis": "y"
        },
        {
         "hovertemplate": "Country=SWAZILAND<br>AverageTemperature=%{x}<br>GHG=%{y}<extra></extra>",
         "legendgroup": "SWAZILAND",
         "marker": {
          "color": "#8C564B",
          "symbol": "circle"
         },
         "mode": "markers",
         "name": "SWAZILAND",
         "orientation": "v",
         "showlegend": true,
         "type": "scatter",
         "x": [
          975.9055
         ],
         "xaxis": "x",
         "y": [
          238119696
         ],
         "yaxis": "y"
        },
        {
         "hovertemplate": "Country=SWAZILAND<extra></extra>",
         "legendgroup": "SWAZILAND",
         "marker": {
          "color": "#8C564B",
          "symbol": "circle"
         },
         "mode": "lines",
         "name": "SWAZILAND",
         "showlegend": false,
         "type": "scatter",
         "xaxis": "x",
         "yaxis": "y"
        },
        {
         "hovertemplate": "Country=SWEDEN<br>AverageTemperature=%{x}<br>GHG=%{y}<extra></extra>",
         "legendgroup": "SWEDEN",
         "marker": {
          "color": "#E377C2",
          "symbol": "circle"
         },
         "mode": "markers",
         "name": "SWEDEN",
         "orientation": "v",
         "showlegend": true,
         "type": "scatter",
         "x": [
          138.95366666666666
         ],
         "xaxis": "x",
         "y": [
          122610257089
         ],
         "yaxis": "y"
        },
        {
         "hovertemplate": "Country=SWEDEN<extra></extra>",
         "legendgroup": "SWEDEN",
         "marker": {
          "color": "#E377C2",
          "symbol": "circle"
         },
         "mode": "lines",
         "name": "SWEDEN",
         "showlegend": false,
         "type": "scatter",
         "xaxis": "x",
         "yaxis": "y"
        },
        {
         "hovertemplate": "Country=SWITZERLAND<br>AverageTemperature=%{x}<br>GHG=%{y}<extra></extra>",
         "legendgroup": "SWITZERLAND",
         "marker": {
          "color": "#7F7F7F",
          "symbol": "circle"
         },
         "mode": "markers",
         "name": "SWITZERLAND",
         "orientation": "v",
         "showlegend": true,
         "type": "scatter",
         "x": [
          374.9535
         ],
         "xaxis": "x",
         "y": [
          60854063645
         ],
         "yaxis": "y"
        },
        {
         "hovertemplate": "Country=SWITZERLAND<extra></extra>",
         "legendgroup": "SWITZERLAND",
         "marker": {
          "color": "#7F7F7F",
          "symbol": "circle"
         },
         "mode": "lines",
         "name": "SWITZERLAND",
         "showlegend": false,
         "type": "scatter",
         "xaxis": "x",
         "yaxis": "y"
        },
        {
         "hovertemplate": "Country=SYRIA<br>AverageTemperature=%{x}<br>GHG=%{y}<extra></extra>",
         "legendgroup": "SYRIA",
         "marker": {
          "color": "#BCBD22",
          "symbol": "circle"
         },
         "mode": "markers",
         "name": "SYRIA",
         "orientation": "v",
         "showlegend": true,
         "type": "scatter",
         "x": [
          934.74275
         ],
         "xaxis": "x",
         "y": [
          12792926705
         ],
         "yaxis": "y"
        },
        {
         "hovertemplate": "Country=SYRIA<extra></extra>",
         "legendgroup": "SYRIA",
         "marker": {
          "color": "#BCBD22",
          "symbol": "circle"
         },
         "mode": "lines",
         "name": "SYRIA",
         "showlegend": false,
         "type": "scatter",
         "xaxis": "x",
         "yaxis": "y"
        },
        {
         "hovertemplate": "Country=TAIWAN<br>AverageTemperature=%{x}<br>GHG=%{y}<extra></extra>",
         "legendgroup": "TAIWAN",
         "marker": {
          "color": "#17BECF",
          "symbol": "circle"
         },
         "mode": "markers",
         "name": "TAIWAN",
         "orientation": "v",
         "showlegend": true,
         "type": "scatter",
         "x": [
          1138.1124166666666
         ],
         "xaxis": "x",
         "y": [
          54792207813
         ],
         "yaxis": "y"
        },
        {
         "hovertemplate": "Country=TAIWAN<extra></extra>",
         "legendgroup": "TAIWAN",
         "marker": {
          "color": "#17BECF",
          "symbol": "circle"
         },
         "mode": "lines",
         "name": "TAIWAN",
         "showlegend": false,
         "type": "scatter",
         "xaxis": "x",
         "yaxis": "y"
        },
        {
         "hovertemplate": "Country=TAJIKISTAN<br>AverageTemperature=%{x}<br>GHG=%{y}<extra></extra>",
         "legendgroup": "TAJIKISTAN",
         "marker": {
          "color": "#1F77B4",
          "symbol": "circle"
         },
         "mode": "markers",
         "name": "TAJIKISTAN",
         "orientation": "v",
         "showlegend": true,
         "type": "scatter",
         "x": [
          224.49191666666667
         ],
         "xaxis": "x",
         "y": [
          4871211128
         ],
         "yaxis": "y"
        },
        {
         "hovertemplate": "Country=TAJIKISTAN<extra></extra>",
         "legendgroup": "TAJIKISTAN",
         "marker": {
          "color": "#1F77B4",
          "symbol": "circle"
         },
         "mode": "lines",
         "name": "TAJIKISTAN",
         "showlegend": false,
         "type": "scatter",
         "xaxis": "x",
         "yaxis": "y"
        },
        {
         "hovertemplate": "Country=TANZANIA<br>AverageTemperature=%{x}<br>GHG=%{y}<extra></extra>",
         "legendgroup": "TANZANIA",
         "marker": {
          "color": "#FF7F0E",
          "symbol": "circle"
         },
         "mode": "markers",
         "name": "TANZANIA",
         "orientation": "v",
         "showlegend": true,
         "type": "scatter",
         "x": [
          1146.9088333333334
         ],
         "xaxis": "x",
         "y": [
          1147153401
         ],
         "yaxis": "y"
        },
        {
         "hovertemplate": "Country=TANZANIA<extra></extra>",
         "legendgroup": "TANZANIA",
         "marker": {
          "color": "#FF7F0E",
          "symbol": "circle"
         },
         "mode": "lines",
         "name": "TANZANIA",
         "showlegend": false,
         "type": "scatter",
         "xaxis": "x",
         "yaxis": "y"
        },
        {
         "hovertemplate": "Country=THAILAND<br>AverageTemperature=%{x}<br>GHG=%{y}<extra></extra>",
         "legendgroup": "THAILAND",
         "marker": {
          "color": "#2CA02C",
          "symbol": "circle"
         },
         "mode": "markers",
         "name": "THAILAND",
         "orientation": "v",
         "showlegend": true,
         "type": "scatter",
         "x": [
          1344.3069166666667
         ],
         "xaxis": "x",
         "y": [
          27191045556
         ],
         "yaxis": "y"
        },
        {
         "hovertemplate": "Country=THAILAND<extra></extra>",
         "legendgroup": "THAILAND",
         "marker": {
          "color": "#2CA02C",
          "symbol": "circle"
         },
         "mode": "lines",
         "name": "THAILAND",
         "showlegend": false,
         "type": "scatter",
         "xaxis": "x",
         "yaxis": "y"
        },
        {
         "hovertemplate": "Country=THE GAMBIA<br>AverageTemperature=%{x}<br>GHG=%{y}<extra></extra>",
         "legendgroup": "THE GAMBIA",
         "marker": {
          "color": "#D62728",
          "symbol": "circle"
         },
         "mode": "markers",
         "name": "THE GAMBIA",
         "orientation": "v",
         "showlegend": true,
         "type": "scatter",
         "x": [
          1417.0750833333334
         ],
         "xaxis": "x",
         "y": [
          81164928
         ],
         "yaxis": "y"
        },
        {
         "hovertemplate": "Country=THE GAMBIA<extra></extra>",
         "legendgroup": "THE GAMBIA",
         "marker": {
          "color": "#D62728",
          "symbol": "circle"
         },
         "mode": "lines",
         "name": "THE GAMBIA",
         "showlegend": false,
         "type": "scatter",
         "xaxis": "x",
         "yaxis": "y"
        },
        {
         "hovertemplate": "Country=TOGO<br>AverageTemperature=%{x}<br>GHG=%{y}<extra></extra>",
         "legendgroup": "TOGO",
         "marker": {
          "color": "#9467BD",
          "symbol": "circle"
         },
         "mode": "markers",
         "name": "TOGO",
         "orientation": "v",
         "showlegend": true,
         "type": "scatter",
         "x": [
          1380.7593333333334
         ],
         "xaxis": "x",
         "y": [
          387998659
         ],
         "yaxis": "y"
        },
        {
         "hovertemplate": "Country=TOGO<extra></extra>",
         "legendgroup": "TOGO",
         "marker": {
          "color": "#9467BD",
          "symbol": "circle"
         },
         "mode": "lines",
         "name": "TOGO",
         "showlegend": false,
         "type": "scatter",
         "xaxis": "x",
         "yaxis": "y"
        },
        {
         "hovertemplate": "Country=TONGA<br>AverageTemperature=%{x}<br>GHG=%{y}<extra></extra>",
         "legendgroup": "TONGA",
         "marker": {
          "color": "#8C564B",
          "symbol": "circle"
         },
         "mode": "markers",
         "name": "TONGA",
         "orientation": "v",
         "showlegend": true,
         "type": "scatter",
         "x": [
          1198.2170833333332
         ],
         "xaxis": "x",
         "y": [
          28941936
         ],
         "yaxis": "y"
        },
        {
         "hovertemplate": "Country=TONGA<extra></extra>",
         "legendgroup": "TONGA",
         "marker": {
          "color": "#8C564B",
          "symbol": "circle"
         },
         "mode": "lines",
         "name": "TONGA",
         "showlegend": false,
         "type": "scatter",
         "xaxis": "x",
         "yaxis": "y"
        },
        {
         "hovertemplate": "Country=TRINIDAD AND TOBAGO<br>AverageTemperature=%{x}<br>GHG=%{y}<extra></extra>",
         "legendgroup": "TRINIDAD AND TOBAGO",
         "marker": {
          "color": "#E377C2",
          "symbol": "circle"
         },
         "mode": "markers",
         "name": "TRINIDAD AND TOBAGO",
         "orientation": "v",
         "showlegend": true,
         "type": "scatter",
         "x": [
          1350.6669166666666
         ],
         "xaxis": "x",
         "y": [
          19600359186
         ],
         "yaxis": "y"
        },
        {
         "hovertemplate": "Country=TRINIDAD AND TOBAGO<extra></extra>",
         "legendgroup": "TRINIDAD AND TOBAGO",
         "marker": {
          "color": "#E377C2",
          "symbol": "circle"
         },
         "mode": "lines",
         "name": "TRINIDAD AND TOBAGO",
         "showlegend": false,
         "type": "scatter",
         "xaxis": "x",
         "yaxis": "y"
        },
        {
         "hovertemplate": "Country=TUNISIA<br>AverageTemperature=%{x}<br>GHG=%{y}<extra></extra>",
         "legendgroup": "TUNISIA",
         "marker": {
          "color": "#7F7F7F",
          "symbol": "circle"
         },
         "mode": "markers",
         "name": "TUNISIA",
         "orientation": "v",
         "showlegend": true,
         "type": "scatter",
         "x": [
          1033.8710833333332
         ],
         "xaxis": "x",
         "y": [
          5999953146
         ],
         "yaxis": "y"
        },
        {
         "hovertemplate": "Country=TUNISIA<extra></extra>",
         "legendgroup": "TUNISIA",
         "marker": {
          "color": "#7F7F7F",
          "symbol": "circle"
         },
         "mode": "lines",
         "name": "TUNISIA",
         "showlegend": false,
         "type": "scatter",
         "xaxis": "x",
         "yaxis": "y"
        },
        {
         "hovertemplate": "Country=TURKEY<br>AverageTemperature=%{x}<br>GHG=%{y}<extra></extra>",
         "legendgroup": "TURKEY",
         "marker": {
          "color": "#BCBD22",
          "symbol": "circle"
         },
         "mode": "markers",
         "name": "TURKEY",
         "orientation": "v",
         "showlegend": true,
         "type": "scatter",
         "x": [
          610.981
         ],
         "xaxis": "x",
         "y": [
          69000493925
         ],
         "yaxis": "y"
        },
        {
         "hovertemplate": "Country=TURKEY<extra></extra>",
         "legendgroup": "TURKEY",
         "marker": {
          "color": "#BCBD22",
          "symbol": "circle"
         },
         "mode": "lines",
         "name": "TURKEY",
         "showlegend": false,
         "type": "scatter",
         "xaxis": "x",
         "yaxis": "y"
        },
        {
         "hovertemplate": "Country=TURKMENISTAN<br>AverageTemperature=%{x}<br>GHG=%{y}<extra></extra>",
         "legendgroup": "TURKMENISTAN",
         "marker": {
          "color": "#17BECF",
          "symbol": "circle"
         },
         "mode": "markers",
         "name": "TURKMENISTAN",
         "orientation": "v",
         "showlegend": true,
         "type": "scatter",
         "x": [
          775.6345
         ],
         "xaxis": "x",
         "y": [
          22635030063
         ],
         "yaxis": "y"
        },
        {
         "hovertemplate": "Country=TURKMENISTAN<extra></extra>",
         "legendgroup": "TURKMENISTAN",
         "marker": {
          "color": "#17BECF",
          "symbol": "circle"
         },
         "mode": "lines",
         "name": "TURKMENISTAN",
         "showlegend": false,
         "type": "scatter",
         "xaxis": "x",
         "yaxis": "y"
        },
        {
         "hovertemplate": "Country=TURKS AND CAICOS ISLANDS<br>AverageTemperature=%{x}<br>GHG=%{y}<extra></extra>",
         "legendgroup": "TURKS AND CAICOS ISLANDS",
         "marker": {
          "color": "#1F77B4",
          "symbol": "circle"
         },
         "mode": "markers",
         "name": "TURKS AND CAICOS ISLANDS",
         "orientation": "v",
         "showlegend": true,
         "type": "scatter",
         "x": [
          1376.7065
         ],
         "xaxis": "x",
         "y": [
          2663728
         ],
         "yaxis": "y"
        },
        {
         "hovertemplate": "Country=TURKS AND CAICOS ISLANDS<extra></extra>",
         "legendgroup": "TURKS AND CAICOS ISLANDS",
         "marker": {
          "color": "#1F77B4",
          "symbol": "circle"
         },
         "mode": "lines",
         "name": "TURKS AND CAICOS ISLANDS",
         "showlegend": false,
         "type": "scatter",
         "xaxis": "x",
         "yaxis": "y"
        },
        {
         "hovertemplate": "Country=UGANDA<br>AverageTemperature=%{x}<br>GHG=%{y}<extra></extra>",
         "legendgroup": "UGANDA",
         "marker": {
          "color": "#FF7F0E",
          "symbol": "circle"
         },
         "mode": "markers",
         "name": "UGANDA",
         "orientation": "v",
         "showlegend": true,
         "type": "scatter",
         "x": [
          1183.672
         ],
         "xaxis": "x",
         "y": [
          797994001
         ],
         "yaxis": "y"
        },
        {
         "hovertemplate": "Country=UGANDA<extra></extra>",
         "legendgroup": "UGANDA",
         "marker": {
          "color": "#FF7F0E",
          "symbol": "circle"
         },
         "mode": "lines",
         "name": "UGANDA",
         "showlegend": false,
         "type": "scatter",
         "xaxis": "x",
         "yaxis": "y"
        },
        {
         "hovertemplate": "Country=UKRAINE<br>AverageTemperature=%{x}<br>GHG=%{y}<extra></extra>",
         "legendgroup": "UKRAINE",
         "marker": {
          "color": "#2CA02C",
          "symbol": "circle"
         },
         "mode": "markers",
         "name": "UKRAINE",
         "orientation": "v",
         "showlegend": true,
         "type": "scatter",
         "x": [
          410.8190833333333
         ],
         "xaxis": "x",
         "y": [
          423102062610
         ],
         "yaxis": "y"
        },
        {
         "hovertemplate": "Country=UKRAINE<extra></extra>",
         "legendgroup": "UKRAINE",
         "marker": {
          "color": "#2CA02C",
          "symbol": "circle"
         },
         "mode": "lines",
         "name": "UKRAINE",
         "showlegend": false,
         "type": "scatter",
         "xaxis": "x",
         "yaxis": "y"
        },
        {
         "hovertemplate": "Country=UNITED ARAB EMIRATES<br>AverageTemperature=%{x}<br>GHG=%{y}<extra></extra>",
         "legendgroup": "UNITED ARAB EMIRATES",
         "marker": {
          "color": "#D62728",
          "symbol": "circle"
         },
         "mode": "markers",
         "name": "UNITED ARAB EMIRATES",
         "orientation": "v",
         "showlegend": true,
         "type": "scatter",
         "x": [
          1422.627
         ],
         "xaxis": "x",
         "y": [
          19832300841
         ],
         "yaxis": "y"
        },
        {
         "hovertemplate": "Country=UNITED ARAB EMIRATES<extra></extra>",
         "legendgroup": "UNITED ARAB EMIRATES",
         "marker": {
          "color": "#D62728",
          "symbol": "circle"
         },
         "mode": "lines",
         "name": "UNITED ARAB EMIRATES",
         "showlegend": false,
         "type": "scatter",
         "xaxis": "x",
         "yaxis": "y"
        },
        {
         "hovertemplate": "Country=UNITED KINGDOM<br>AverageTemperature=%{x}<br>GHG=%{y}<extra></extra>",
         "legendgroup": "UNITED KINGDOM",
         "marker": {
          "color": "#9467BD",
          "symbol": "circle"
         },
         "mode": "markers",
         "name": "UNITED KINGDOM",
         "orientation": "v",
         "showlegend": true,
         "type": "scatter",
         "x": [
          455.8238333333333
         ],
         "xaxis": "x",
         "y": [
          2744666757254
         ],
         "yaxis": "y"
        },
        {
         "hovertemplate": "Country=UNITED KINGDOM<extra></extra>",
         "legendgroup": "UNITED KINGDOM",
         "marker": {
          "color": "#9467BD",
          "symbol": "circle"
         },
         "mode": "lines",
         "name": "UNITED KINGDOM",
         "showlegend": false,
         "type": "scatter",
         "xaxis": "x",
         "yaxis": "y"
        },
        {
         "hovertemplate": "Country=UNITED STATES<br>AverageTemperature=%{x}<br>GHG=%{y}<extra></extra>",
         "legendgroup": "UNITED STATES",
         "marker": {
          "color": "#8C564B",
          "symbol": "circle"
         },
         "mode": "markers",
         "name": "UNITED STATES",
         "orientation": "v",
         "showlegend": true,
         "type": "scatter",
         "x": [
          457.18916666666667
         ],
         "xaxis": "x",
         "y": [
          9335760067776
         ],
         "yaxis": "y"
        },
        {
         "hovertemplate": "Country=UNITED STATES<extra></extra>",
         "legendgroup": "UNITED STATES",
         "marker": {
          "color": "#8C564B",
          "symbol": "circle"
         },
         "mode": "lines",
         "name": "UNITED STATES",
         "showlegend": false,
         "type": "scatter",
         "xaxis": "x",
         "yaxis": "y"
        },
        {
         "hovertemplate": "Country=URUGUAY<br>AverageTemperature=%{x}<br>GHG=%{y}<extra></extra>",
         "legendgroup": "URUGUAY",
         "marker": {
          "color": "#E377C2",
          "symbol": "circle"
         },
         "mode": "markers",
         "name": "URUGUAY",
         "orientation": "v",
         "showlegend": true,
         "type": "scatter",
         "x": [
          893.579
         ],
         "xaxis": "x",
         "y": [
          6052978621
         ],
         "yaxis": "y"
        },
        {
         "hovertemplate": "Country=URUGUAY<extra></extra>",
         "legendgroup": "URUGUAY",
         "marker": {
          "color": "#E377C2",
          "symbol": "circle"
         },
         "mode": "lines",
         "name": "URUGUAY",
         "showlegend": false,
         "type": "scatter",
         "xaxis": "x",
         "yaxis": "y"
        },
        {
         "hovertemplate": "Country=UZBEKISTAN<br>AverageTemperature=%{x}<br>GHG=%{y}<extra></extra>",
         "legendgroup": "UZBEKISTAN",
         "marker": {
          "color": "#7F7F7F",
          "symbol": "circle"
         },
         "mode": "markers",
         "name": "UZBEKISTAN",
         "orientation": "v",
         "showlegend": true,
         "type": "scatter",
         "x": [
          649.1770833333334
         ],
         "xaxis": "x",
         "y": [
          76538958170
         ],
         "yaxis": "y"
        },
        {
         "hovertemplate": "Country=UZBEKISTAN<extra></extra>",
         "legendgroup": "UZBEKISTAN",
         "marker": {
          "color": "#7F7F7F",
          "symbol": "circle"
         },
         "mode": "lines",
         "name": "UZBEKISTAN",
         "showlegend": false,
         "type": "scatter",
         "xaxis": "x",
         "yaxis": "y"
        },
        {
         "hovertemplate": "Country=VENEZUELA<br>AverageTemperature=%{x}<br>GHG=%{y}<extra></extra>",
         "legendgroup": "VENEZUELA",
         "marker": {
          "color": "#BCBD22",
          "symbol": "circle"
         },
         "mode": "markers",
         "name": "VENEZUELA",
         "orientation": "v",
         "showlegend": true,
         "type": "scatter",
         "x": [
          1294.9859999999999
         ],
         "xaxis": "x",
         "y": [
          103847138454
         ],
         "yaxis": "y"
        },
        {
         "hovertemplate": "Country=VENEZUELA<extra></extra>",
         "legendgroup": "VENEZUELA",
         "marker": {
          "color": "#BCBD22",
          "symbol": "circle"
         },
         "mode": "lines",
         "name": "VENEZUELA",
         "showlegend": false,
         "type": "scatter",
         "xaxis": "x",
         "yaxis": "y"
        },
        {
         "hovertemplate": "Country=VIETNAM<br>AverageTemperature=%{x}<br>GHG=%{y}<extra></extra>",
         "legendgroup": "VIETNAM",
         "marker": {
          "color": "#17BECF",
          "symbol": "circle"
         },
         "mode": "markers",
         "name": "VIETNAM",
         "orientation": "v",
         "showlegend": true,
         "type": "scatter",
         "x": [
          1224.618
         ],
         "xaxis": "x",
         "y": [
          17294780521
         ],
         "yaxis": "y"
        },
        {
         "hovertemplate": "Country=VIETNAM<extra></extra>",
         "legendgroup": "VIETNAM",
         "marker": {
          "color": "#17BECF",
          "symbol": "circle"
         },
         "mode": "lines",
         "name": "VIETNAM",
         "showlegend": false,
         "type": "scatter",
         "xaxis": "x",
         "yaxis": "y"
        },
        {
         "hovertemplate": "Country=VIRGIN ISLANDS, BRITISH<br>AverageTemperature=%{x}<br>GHG=%{y}<extra></extra>",
         "legendgroup": "VIRGIN ISLANDS, BRITISH",
         "marker": {
          "color": "#1F77B4",
          "symbol": "circle"
         },
         "mode": "markers",
         "name": "VIRGIN ISLANDS, BRITISH",
         "orientation": "v",
         "showlegend": true,
         "type": "scatter",
         "x": [
          1359.8878333333332
         ],
         "xaxis": "x",
         "y": [
          0
         ],
         "yaxis": "y"
        },
        {
         "hovertemplate": "Country=VIRGIN ISLANDS, BRITISH<extra></extra>",
         "legendgroup": "VIRGIN ISLANDS, BRITISH",
         "marker": {
          "color": "#1F77B4",
          "symbol": "circle"
         },
         "mode": "lines",
         "name": "VIRGIN ISLANDS, BRITISH",
         "showlegend": false,
         "type": "scatter",
         "xaxis": "x",
         "yaxis": "y"
        },
        {
         "hovertemplate": "Country=YEMEN<br>AverageTemperature=%{x}<br>GHG=%{y}<extra></extra>",
         "legendgroup": "YEMEN",
         "marker": {
          "color": "#FF7F0E",
          "symbol": "circle"
         },
         "mode": "markers",
         "name": "YEMEN",
         "orientation": "v",
         "showlegend": true,
         "type": "scatter",
         "x": [
          1345.1595
         ],
         "xaxis": "x",
         "y": [
          4750984077
         ],
         "yaxis": "y"
        },
        {
         "hovertemplate": "Country=YEMEN<extra></extra>",
         "legendgroup": "YEMEN",
         "marker": {
          "color": "#FF7F0E",
          "symbol": "circle"
         },
         "mode": "lines",
         "name": "YEMEN",
         "showlegend": false,
         "type": "scatter",
         "xaxis": "x",
         "yaxis": "y"
        },
        {
         "hovertemplate": "Country=ZAMBIA<br>AverageTemperature=%{x}<br>GHG=%{y}<extra></extra>",
         "legendgroup": "ZAMBIA",
         "marker": {
          "color": "#2CA02C",
          "symbol": "circle"
         },
         "mode": "markers",
         "name": "ZAMBIA",
         "orientation": "v",
         "showlegend": true,
         "type": "scatter",
         "x": [
          1097.1050833333334
         ],
         "xaxis": "x",
         "y": [
          3330755484
         ],
         "yaxis": "y"
        },
        {
         "hovertemplate": "Country=ZAMBIA<extra></extra>",
         "legendgroup": "ZAMBIA",
         "marker": {
          "color": "#2CA02C",
          "symbol": "circle"
         },
         "mode": "lines",
         "name": "ZAMBIA",
         "showlegend": false,
         "type": "scatter",
         "xaxis": "x",
         "yaxis": "y"
        },
        {
         "hovertemplate": "Country=ZIMBABWE<br>AverageTemperature=%{x}<br>GHG=%{y}<extra></extra>",
         "legendgroup": "ZIMBABWE",
         "marker": {
          "color": "#D62728",
          "symbol": "circle"
         },
         "mode": "markers",
         "name": "ZIMBABWE",
         "orientation": "v",
         "showlegend": true,
         "type": "scatter",
         "x": [
          1091.0711666666666
         ],
         "xaxis": "x",
         "y": [
          12340662375
         ],
         "yaxis": "y"
        },
        {
         "hovertemplate": "Country=ZIMBABWE<extra></extra>",
         "legendgroup": "ZIMBABWE",
         "marker": {
          "color": "#D62728",
          "symbol": "circle"
         },
         "mode": "lines",
         "name": "ZIMBABWE",
         "showlegend": false,
         "type": "scatter",
         "xaxis": "x",
         "yaxis": "y"
        }
       ],
       "layout": {
        "legend": {
         "title": {
          "text": "Country"
         },
         "tracegroupgap": 0
        },
        "margin": {
         "t": 60
        },
        "template": {
         "data": {
          "bar": [
           {
            "error_x": {
             "color": "rgb(36,36,36)"
            },
            "error_y": {
             "color": "rgb(36,36,36)"
            },
            "marker": {
             "line": {
              "color": "white",
              "width": 0.5
             },
             "pattern": {
              "fillmode": "overlay",
              "size": 10,
              "solidity": 0.2
             }
            },
            "type": "bar"
           }
          ],
          "barpolar": [
           {
            "marker": {
             "line": {
              "color": "white",
              "width": 0.5
             },
             "pattern": {
              "fillmode": "overlay",
              "size": 10,
              "solidity": 0.2
             }
            },
            "type": "barpolar"
           }
          ],
          "carpet": [
           {
            "aaxis": {
             "endlinecolor": "rgb(36,36,36)",
             "gridcolor": "white",
             "linecolor": "white",
             "minorgridcolor": "white",
             "startlinecolor": "rgb(36,36,36)"
            },
            "baxis": {
             "endlinecolor": "rgb(36,36,36)",
             "gridcolor": "white",
             "linecolor": "white",
             "minorgridcolor": "white",
             "startlinecolor": "rgb(36,36,36)"
            },
            "type": "carpet"
           }
          ],
          "choropleth": [
           {
            "colorbar": {
             "outlinewidth": 1,
             "tickcolor": "rgb(36,36,36)",
             "ticks": "outside"
            },
            "type": "choropleth"
           }
          ],
          "contour": [
           {
            "colorbar": {
             "outlinewidth": 1,
             "tickcolor": "rgb(36,36,36)",
             "ticks": "outside"
            },
            "colorscale": [
             [
              0,
              "#440154"
             ],
             [
              0.1111111111111111,
              "#482878"
             ],
             [
              0.2222222222222222,
              "#3e4989"
             ],
             [
              0.3333333333333333,
              "#31688e"
             ],
             [
              0.4444444444444444,
              "#26828e"
             ],
             [
              0.5555555555555556,
              "#1f9e89"
             ],
             [
              0.6666666666666666,
              "#35b779"
             ],
             [
              0.7777777777777778,
              "#6ece58"
             ],
             [
              0.8888888888888888,
              "#b5de2b"
             ],
             [
              1,
              "#fde725"
             ]
            ],
            "type": "contour"
           }
          ],
          "contourcarpet": [
           {
            "colorbar": {
             "outlinewidth": 1,
             "tickcolor": "rgb(36,36,36)",
             "ticks": "outside"
            },
            "type": "contourcarpet"
           }
          ],
          "heatmap": [
           {
            "colorbar": {
             "outlinewidth": 1,
             "tickcolor": "rgb(36,36,36)",
             "ticks": "outside"
            },
            "colorscale": [
             [
              0,
              "#440154"
             ],
             [
              0.1111111111111111,
              "#482878"
             ],
             [
              0.2222222222222222,
              "#3e4989"
             ],
             [
              0.3333333333333333,
              "#31688e"
             ],
             [
              0.4444444444444444,
              "#26828e"
             ],
             [
              0.5555555555555556,
              "#1f9e89"
             ],
             [
              0.6666666666666666,
              "#35b779"
             ],
             [
              0.7777777777777778,
              "#6ece58"
             ],
             [
              0.8888888888888888,
              "#b5de2b"
             ],
             [
              1,
              "#fde725"
             ]
            ],
            "type": "heatmap"
           }
          ],
          "heatmapgl": [
           {
            "colorbar": {
             "outlinewidth": 1,
             "tickcolor": "rgb(36,36,36)",
             "ticks": "outside"
            },
            "colorscale": [
             [
              0,
              "#440154"
             ],
             [
              0.1111111111111111,
              "#482878"
             ],
             [
              0.2222222222222222,
              "#3e4989"
             ],
             [
              0.3333333333333333,
              "#31688e"
             ],
             [
              0.4444444444444444,
              "#26828e"
             ],
             [
              0.5555555555555556,
              "#1f9e89"
             ],
             [
              0.6666666666666666,
              "#35b779"
             ],
             [
              0.7777777777777778,
              "#6ece58"
             ],
             [
              0.8888888888888888,
              "#b5de2b"
             ],
             [
              1,
              "#fde725"
             ]
            ],
            "type": "heatmapgl"
           }
          ],
          "histogram": [
           {
            "marker": {
             "line": {
              "color": "white",
              "width": 0.6
             }
            },
            "type": "histogram"
           }
          ],
          "histogram2d": [
           {
            "colorbar": {
             "outlinewidth": 1,
             "tickcolor": "rgb(36,36,36)",
             "ticks": "outside"
            },
            "colorscale": [
             [
              0,
              "#440154"
             ],
             [
              0.1111111111111111,
              "#482878"
             ],
             [
              0.2222222222222222,
              "#3e4989"
             ],
             [
              0.3333333333333333,
              "#31688e"
             ],
             [
              0.4444444444444444,
              "#26828e"
             ],
             [
              0.5555555555555556,
              "#1f9e89"
             ],
             [
              0.6666666666666666,
              "#35b779"
             ],
             [
              0.7777777777777778,
              "#6ece58"
             ],
             [
              0.8888888888888888,
              "#b5de2b"
             ],
             [
              1,
              "#fde725"
             ]
            ],
            "type": "histogram2d"
           }
          ],
          "histogram2dcontour": [
           {
            "colorbar": {
             "outlinewidth": 1,
             "tickcolor": "rgb(36,36,36)",
             "ticks": "outside"
            },
            "colorscale": [
             [
              0,
              "#440154"
             ],
             [
              0.1111111111111111,
              "#482878"
             ],
             [
              0.2222222222222222,
              "#3e4989"
             ],
             [
              0.3333333333333333,
              "#31688e"
             ],
             [
              0.4444444444444444,
              "#26828e"
             ],
             [
              0.5555555555555556,
              "#1f9e89"
             ],
             [
              0.6666666666666666,
              "#35b779"
             ],
             [
              0.7777777777777778,
              "#6ece58"
             ],
             [
              0.8888888888888888,
              "#b5de2b"
             ],
             [
              1,
              "#fde725"
             ]
            ],
            "type": "histogram2dcontour"
           }
          ],
          "mesh3d": [
           {
            "colorbar": {
             "outlinewidth": 1,
             "tickcolor": "rgb(36,36,36)",
             "ticks": "outside"
            },
            "type": "mesh3d"
           }
          ],
          "parcoords": [
           {
            "line": {
             "colorbar": {
              "outlinewidth": 1,
              "tickcolor": "rgb(36,36,36)",
              "ticks": "outside"
             }
            },
            "type": "parcoords"
           }
          ],
          "pie": [
           {
            "automargin": true,
            "type": "pie"
           }
          ],
          "scatter": [
           {
            "marker": {
             "colorbar": {
              "outlinewidth": 1,
              "tickcolor": "rgb(36,36,36)",
              "ticks": "outside"
             }
            },
            "type": "scatter"
           }
          ],
          "scatter3d": [
           {
            "line": {
             "colorbar": {
              "outlinewidth": 1,
              "tickcolor": "rgb(36,36,36)",
              "ticks": "outside"
             }
            },
            "marker": {
             "colorbar": {
              "outlinewidth": 1,
              "tickcolor": "rgb(36,36,36)",
              "ticks": "outside"
             }
            },
            "type": "scatter3d"
           }
          ],
          "scattercarpet": [
           {
            "marker": {
             "colorbar": {
              "outlinewidth": 1,
              "tickcolor": "rgb(36,36,36)",
              "ticks": "outside"
             }
            },
            "type": "scattercarpet"
           }
          ],
          "scattergeo": [
           {
            "marker": {
             "colorbar": {
              "outlinewidth": 1,
              "tickcolor": "rgb(36,36,36)",
              "ticks": "outside"
             }
            },
            "type": "scattergeo"
           }
          ],
          "scattergl": [
           {
            "marker": {
             "colorbar": {
              "outlinewidth": 1,
              "tickcolor": "rgb(36,36,36)",
              "ticks": "outside"
             }
            },
            "type": "scattergl"
           }
          ],
          "scattermapbox": [
           {
            "marker": {
             "colorbar": {
              "outlinewidth": 1,
              "tickcolor": "rgb(36,36,36)",
              "ticks": "outside"
             }
            },
            "type": "scattermapbox"
           }
          ],
          "scatterpolar": [
           {
            "marker": {
             "colorbar": {
              "outlinewidth": 1,
              "tickcolor": "rgb(36,36,36)",
              "ticks": "outside"
             }
            },
            "type": "scatterpolar"
           }
          ],
          "scatterpolargl": [
           {
            "marker": {
             "colorbar": {
              "outlinewidth": 1,
              "tickcolor": "rgb(36,36,36)",
              "ticks": "outside"
             }
            },
            "type": "scatterpolargl"
           }
          ],
          "scatterternary": [
           {
            "marker": {
             "colorbar": {
              "outlinewidth": 1,
              "tickcolor": "rgb(36,36,36)",
              "ticks": "outside"
             }
            },
            "type": "scatterternary"
           }
          ],
          "surface": [
           {
            "colorbar": {
             "outlinewidth": 1,
             "tickcolor": "rgb(36,36,36)",
             "ticks": "outside"
            },
            "colorscale": [
             [
              0,
              "#440154"
             ],
             [
              0.1111111111111111,
              "#482878"
             ],
             [
              0.2222222222222222,
              "#3e4989"
             ],
             [
              0.3333333333333333,
              "#31688e"
             ],
             [
              0.4444444444444444,
              "#26828e"
             ],
             [
              0.5555555555555556,
              "#1f9e89"
             ],
             [
              0.6666666666666666,
              "#35b779"
             ],
             [
              0.7777777777777778,
              "#6ece58"
             ],
             [
              0.8888888888888888,
              "#b5de2b"
             ],
             [
              1,
              "#fde725"
             ]
            ],
            "type": "surface"
           }
          ],
          "table": [
           {
            "cells": {
             "fill": {
              "color": "rgb(237,237,237)"
             },
             "line": {
              "color": "white"
             }
            },
            "header": {
             "fill": {
              "color": "rgb(217,217,217)"
             },
             "line": {
              "color": "white"
             }
            },
            "type": "table"
           }
          ]
         },
         "layout": {
          "annotationdefaults": {
           "arrowhead": 0,
           "arrowwidth": 1
          },
          "autotypenumbers": "strict",
          "coloraxis": {
           "colorbar": {
            "outlinewidth": 1,
            "tickcolor": "rgb(36,36,36)",
            "ticks": "outside"
           }
          },
          "colorscale": {
           "diverging": [
            [
             0,
             "rgb(103,0,31)"
            ],
            [
             0.1,
             "rgb(178,24,43)"
            ],
            [
             0.2,
             "rgb(214,96,77)"
            ],
            [
             0.3,
             "rgb(244,165,130)"
            ],
            [
             0.4,
             "rgb(253,219,199)"
            ],
            [
             0.5,
             "rgb(247,247,247)"
            ],
            [
             0.6,
             "rgb(209,229,240)"
            ],
            [
             0.7,
             "rgb(146,197,222)"
            ],
            [
             0.8,
             "rgb(67,147,195)"
            ],
            [
             0.9,
             "rgb(33,102,172)"
            ],
            [
             1,
             "rgb(5,48,97)"
            ]
           ],
           "sequential": [
            [
             0,
             "#440154"
            ],
            [
             0.1111111111111111,
             "#482878"
            ],
            [
             0.2222222222222222,
             "#3e4989"
            ],
            [
             0.3333333333333333,
             "#31688e"
            ],
            [
             0.4444444444444444,
             "#26828e"
            ],
            [
             0.5555555555555556,
             "#1f9e89"
            ],
            [
             0.6666666666666666,
             "#35b779"
            ],
            [
             0.7777777777777778,
             "#6ece58"
            ],
            [
             0.8888888888888888,
             "#b5de2b"
            ],
            [
             1,
             "#fde725"
            ]
           ],
           "sequentialminus": [
            [
             0,
             "#440154"
            ],
            [
             0.1111111111111111,
             "#482878"
            ],
            [
             0.2222222222222222,
             "#3e4989"
            ],
            [
             0.3333333333333333,
             "#31688e"
            ],
            [
             0.4444444444444444,
             "#26828e"
            ],
            [
             0.5555555555555556,
             "#1f9e89"
            ],
            [
             0.6666666666666666,
             "#35b779"
            ],
            [
             0.7777777777777778,
             "#6ece58"
            ],
            [
             0.8888888888888888,
             "#b5de2b"
            ],
            [
             1,
             "#fde725"
            ]
           ]
          },
          "colorway": [
           "#1F77B4",
           "#FF7F0E",
           "#2CA02C",
           "#D62728",
           "#9467BD",
           "#8C564B",
           "#E377C2",
           "#7F7F7F",
           "#BCBD22",
           "#17BECF"
          ],
          "font": {
           "color": "rgb(36,36,36)"
          },
          "geo": {
           "bgcolor": "white",
           "lakecolor": "white",
           "landcolor": "white",
           "showlakes": true,
           "showland": true,
           "subunitcolor": "white"
          },
          "hoverlabel": {
           "align": "left"
          },
          "hovermode": "closest",
          "mapbox": {
           "style": "light"
          },
          "paper_bgcolor": "white",
          "plot_bgcolor": "white",
          "polar": {
           "angularaxis": {
            "gridcolor": "rgb(232,232,232)",
            "linecolor": "rgb(36,36,36)",
            "showgrid": false,
            "showline": true,
            "ticks": "outside"
           },
           "bgcolor": "white",
           "radialaxis": {
            "gridcolor": "rgb(232,232,232)",
            "linecolor": "rgb(36,36,36)",
            "showgrid": false,
            "showline": true,
            "ticks": "outside"
           }
          },
          "scene": {
           "xaxis": {
            "backgroundcolor": "white",
            "gridcolor": "rgb(232,232,232)",
            "gridwidth": 2,
            "linecolor": "rgb(36,36,36)",
            "showbackground": true,
            "showgrid": false,
            "showline": true,
            "ticks": "outside",
            "zeroline": false,
            "zerolinecolor": "rgb(36,36,36)"
           },
           "yaxis": {
            "backgroundcolor": "white",
            "gridcolor": "rgb(232,232,232)",
            "gridwidth": 2,
            "linecolor": "rgb(36,36,36)",
            "showbackground": true,
            "showgrid": false,
            "showline": true,
            "ticks": "outside",
            "zeroline": false,
            "zerolinecolor": "rgb(36,36,36)"
           },
           "zaxis": {
            "backgroundcolor": "white",
            "gridcolor": "rgb(232,232,232)",
            "gridwidth": 2,
            "linecolor": "rgb(36,36,36)",
            "showbackground": true,
            "showgrid": false,
            "showline": true,
            "ticks": "outside",
            "zeroline": false,
            "zerolinecolor": "rgb(36,36,36)"
           }
          },
          "shapedefaults": {
           "fillcolor": "black",
           "line": {
            "width": 0
           },
           "opacity": 0.3
          },
          "ternary": {
           "aaxis": {
            "gridcolor": "rgb(232,232,232)",
            "linecolor": "rgb(36,36,36)",
            "showgrid": false,
            "showline": true,
            "ticks": "outside"
           },
           "baxis": {
            "gridcolor": "rgb(232,232,232)",
            "linecolor": "rgb(36,36,36)",
            "showgrid": false,
            "showline": true,
            "ticks": "outside"
           },
           "bgcolor": "white",
           "caxis": {
            "gridcolor": "rgb(232,232,232)",
            "linecolor": "rgb(36,36,36)",
            "showgrid": false,
            "showline": true,
            "ticks": "outside"
           }
          },
          "title": {
           "x": 0.05
          },
          "xaxis": {
           "automargin": true,
           "gridcolor": "rgb(232,232,232)",
           "linecolor": "rgb(36,36,36)",
           "showgrid": false,
           "showline": true,
           "ticks": "outside",
           "title": {
            "standoff": 15
           },
           "zeroline": false,
           "zerolinecolor": "rgb(36,36,36)"
          },
          "yaxis": {
           "automargin": true,
           "gridcolor": "rgb(232,232,232)",
           "linecolor": "rgb(36,36,36)",
           "showgrid": false,
           "showline": true,
           "ticks": "outside",
           "title": {
            "standoff": 15
           },
           "zeroline": false,
           "zerolinecolor": "rgb(36,36,36)"
          }
         }
        },
        "xaxis": {
         "anchor": "y",
         "domain": [
          0,
          1
         ],
         "title": {
          "text": "AverageTemperature"
         }
        },
        "yaxis": {
         "anchor": "x",
         "domain": [
          0,
          1
         ],
         "title": {
          "text": "GHG"
         }
        }
       }
      },
      "text/html": [
       "<div>                            <div id=\"67ae6eeb-f29e-4476-82c0-4bf51cc6be80\" class=\"plotly-graph-div\" style=\"height:525px; width:100%;\"></div>            <script type=\"text/javascript\">                require([\"plotly\"], function(Plotly) {                    window.PLOTLYENV=window.PLOTLYENV || {};                                    if (document.getElementById(\"67ae6eeb-f29e-4476-82c0-4bf51cc6be80\")) {                    Plotly.newPlot(                        \"67ae6eeb-f29e-4476-82c0-4bf51cc6be80\",                        [{\"hovertemplate\":\"Country=AFGHANISTAN<br>AverageTemperature=%{x}<br>GHG=%{y}<extra></extra>\",\"legendgroup\":\"AFGHANISTAN\",\"marker\":{\"color\":\"#1F77B4\",\"symbol\":\"circle\"},\"mode\":\"markers\",\"name\":\"AFGHANISTAN\",\"orientation\":\"v\",\"showlegend\":true,\"x\":[728.7558333333334],\"xaxis\":\"x\",\"y\":[1438653192.0],\"yaxis\":\"y\",\"type\":\"scatter\"},{\"hovertemplate\":\"Country=AFGHANISTAN<extra></extra>\",\"legendgroup\":\"AFGHANISTAN\",\"marker\":{\"color\":\"#1F77B4\",\"symbol\":\"circle\"},\"mode\":\"lines\",\"name\":\"AFGHANISTAN\",\"showlegend\":false,\"xaxis\":\"x\",\"yaxis\":\"y\",\"type\":\"scatter\"},{\"hovertemplate\":\"Country=ALBANIA<br>AverageTemperature=%{x}<br>GHG=%{y}<extra></extra>\",\"legendgroup\":\"ALBANIA\",\"marker\":{\"color\":\"#FF7F0E\",\"symbol\":\"circle\"},\"mode\":\"markers\",\"name\":\"ALBANIA\",\"orientation\":\"v\",\"showlegend\":true,\"x\":[658.3026666666667],\"xaxis\":\"x\",\"y\":[4387324896.0],\"yaxis\":\"y\",\"type\":\"scatter\"},{\"hovertemplate\":\"Country=ALBANIA<extra></extra>\",\"legendgroup\":\"ALBANIA\",\"marker\":{\"color\":\"#FF7F0E\",\"symbol\":\"circle\"},\"mode\":\"lines\",\"name\":\"ALBANIA\",\"showlegend\":false,\"xaxis\":\"x\",\"yaxis\":\"y\",\"type\":\"scatter\"},{\"hovertemplate\":\"Country=ALGERIA<br>AverageTemperature=%{x}<br>GHG=%{y}<extra></extra>\",\"legendgroup\":\"ALGERIA\",\"marker\":{\"color\":\"#2CA02C\",\"symbol\":\"circle\"},\"mode\":\"markers\",\"name\":\"ALGERIA\",\"orientation\":\"v\",\"showlegend\":true,\"x\":[1188.2471666666668],\"xaxis\":\"x\",\"y\":[30475901144.0],\"yaxis\":\"y\",\"type\":\"scatter\"},{\"hovertemplate\":\"Country=ALGERIA<extra></extra>\",\"legendgroup\":\"ALGERIA\",\"marker\":{\"color\":\"#2CA02C\",\"symbol\":\"circle\"},\"mode\":\"lines\",\"name\":\"ALGERIA\",\"showlegend\":false,\"xaxis\":\"x\",\"yaxis\":\"y\",\"type\":\"scatter\"},{\"hovertemplate\":\"Country=AMERICAN SAMOA<br>AverageTemperature=%{x}<br>GHG=%{y}<extra></extra>\",\"legendgroup\":\"AMERICAN SAMOA\",\"marker\":{\"color\":\"#D62728\",\"symbol\":\"circle\"},\"mode\":\"markers\",\"name\":\"AMERICAN SAMOA\",\"orientation\":\"v\",\"showlegend\":true,\"x\":[1369.1746666666666],\"xaxis\":\"x\",\"y\":[0.0],\"yaxis\":\"y\",\"type\":\"scatter\"},{\"hovertemplate\":\"Country=AMERICAN SAMOA<extra></extra>\",\"legendgroup\":\"AMERICAN SAMOA\",\"marker\":{\"color\":\"#D62728\",\"symbol\":\"circle\"},\"mode\":\"lines\",\"name\":\"AMERICAN SAMOA\",\"showlegend\":false,\"xaxis\":\"x\",\"yaxis\":\"y\",\"type\":\"scatter\"},{\"hovertemplate\":\"Country=ANDORRA<br>AverageTemperature=%{x}<br>GHG=%{y}<extra></extra>\",\"legendgroup\":\"ANDORRA\",\"marker\":{\"color\":\"#9467BD\",\"symbol\":\"circle\"},\"mode\":\"markers\",\"name\":\"ANDORRA\",\"orientation\":\"v\",\"showlegend\":true,\"x\":[588.0630833333333],\"xaxis\":\"x\",\"y\":[28036928.0],\"yaxis\":\"y\",\"type\":\"scatter\"},{\"hovertemplate\":\"Country=ANDORRA<extra></extra>\",\"legendgroup\":\"ANDORRA\",\"marker\":{\"color\":\"#9467BD\",\"symbol\":\"circle\"},\"mode\":\"lines\",\"name\":\"ANDORRA\",\"showlegend\":false,\"xaxis\":\"x\",\"yaxis\":\"y\",\"type\":\"scatter\"},{\"hovertemplate\":\"Country=ANGOLA<br>AverageTemperature=%{x}<br>GHG=%{y}<extra></extra>\",\"legendgroup\":\"ANGOLA\",\"marker\":{\"color\":\"#8C564B\",\"symbol\":\"circle\"},\"mode\":\"markers\",\"name\":\"ANGOLA\",\"orientation\":\"v\",\"showlegend\":true,\"x\":[1125.3215833333334],\"xaxis\":\"x\",\"y\":[3030333308.0],\"yaxis\":\"y\",\"type\":\"scatter\"},{\"hovertemplate\":\"Country=ANGOLA<extra></extra>\",\"legendgroup\":\"ANGOLA\",\"marker\":{\"color\":\"#8C564B\",\"symbol\":\"circle\"},\"mode\":\"lines\",\"name\":\"ANGOLA\",\"showlegend\":false,\"xaxis\":\"x\",\"yaxis\":\"y\",\"type\":\"scatter\"},{\"hovertemplate\":\"Country=ANGUILLA<br>AverageTemperature=%{x}<br>GHG=%{y}<extra></extra>\",\"legendgroup\":\"ANGUILLA\",\"marker\":{\"color\":\"#E377C2\",\"symbol\":\"circle\"},\"mode\":\"markers\",\"name\":\"ANGUILLA\",\"orientation\":\"v\",\"showlegend\":true,\"x\":[1374.0374166666666],\"xaxis\":\"x\",\"y\":[4063376.0],\"yaxis\":\"y\",\"type\":\"scatter\"},{\"hovertemplate\":\"Country=ANGUILLA<extra></extra>\",\"legendgroup\":\"ANGUILLA\",\"marker\":{\"color\":\"#E377C2\",\"symbol\":\"circle\"},\"mode\":\"lines\",\"name\":\"ANGUILLA\",\"showlegend\":false,\"xaxis\":\"x\",\"yaxis\":\"y\",\"type\":\"scatter\"},{\"hovertemplate\":\"Country=ANTIGUA AND BARBUDA<br>AverageTemperature=%{x}<br>GHG=%{y}<extra></extra>\",\"legendgroup\":\"ANTIGUA AND BARBUDA\",\"marker\":{\"color\":\"#7F7F7F\",\"symbol\":\"circle\"},\"mode\":\"markers\",\"name\":\"ANTIGUA AND BARBUDA\",\"orientation\":\"v\",\"showlegend\":true,\"x\":[1365.4910833333333],\"xaxis\":\"x\",\"y\":[297593744.0],\"yaxis\":\"y\",\"type\":\"scatter\"},{\"hovertemplate\":\"Country=ANTIGUA AND BARBUDA<extra></extra>\",\"legendgroup\":\"ANTIGUA AND BARBUDA\",\"marker\":{\"color\":\"#7F7F7F\",\"symbol\":\"circle\"},\"mode\":\"lines\",\"name\":\"ANTIGUA AND BARBUDA\",\"showlegend\":false,\"xaxis\":\"x\",\"yaxis\":\"y\",\"type\":\"scatter\"},{\"hovertemplate\":\"Country=ARGENTINA<br>AverageTemperature=%{x}<br>GHG=%{y}<extra></extra>\",\"legendgroup\":\"ARGENTINA\",\"marker\":{\"color\":\"#BCBD22\",\"symbol\":\"circle\"},\"mode\":\"markers\",\"name\":\"ARGENTINA\",\"orientation\":\"v\",\"showlegend\":true,\"x\":[762.1304166666666],\"xaxis\":\"x\",\"y\":[117606430083.0],\"yaxis\":\"y\",\"type\":\"scatter\"},{\"hovertemplate\":\"Country=ARGENTINA<extra></extra>\",\"legendgroup\":\"ARGENTINA\",\"marker\":{\"color\":\"#BCBD22\",\"symbol\":\"circle\"},\"mode\":\"lines\",\"name\":\"ARGENTINA\",\"showlegend\":false,\"xaxis\":\"x\",\"yaxis\":\"y\",\"type\":\"scatter\"},{\"hovertemplate\":\"Country=ARMENIA<br>AverageTemperature=%{x}<br>GHG=%{y}<extra></extra>\",\"legendgroup\":\"ARMENIA\",\"marker\":{\"color\":\"#17BECF\",\"symbol\":\"circle\"},\"mode\":\"markers\",\"name\":\"ARMENIA\",\"orientation\":\"v\",\"showlegend\":true,\"x\":[460.3186666666667],\"xaxis\":\"x\",\"y\":[3915964549.0],\"yaxis\":\"y\",\"type\":\"scatter\"},{\"hovertemplate\":\"Country=ARMENIA<extra></extra>\",\"legendgroup\":\"ARMENIA\",\"marker\":{\"color\":\"#17BECF\",\"symbol\":\"circle\"},\"mode\":\"lines\",\"name\":\"ARMENIA\",\"showlegend\":false,\"xaxis\":\"x\",\"yaxis\":\"y\",\"type\":\"scatter\"},{\"hovertemplate\":\"Country=ARUBA<br>AverageTemperature=%{x}<br>GHG=%{y}<extra></extra>\",\"legendgroup\":\"ARUBA\",\"marker\":{\"color\":\"#1F77B4\",\"symbol\":\"circle\"},\"mode\":\"markers\",\"name\":\"ARUBA\",\"orientation\":\"v\",\"showlegend\":true,\"x\":[1441.8318333333334],\"xaxis\":\"x\",\"y\":[680850880.0],\"yaxis\":\"y\",\"type\":\"scatter\"},{\"hovertemplate\":\"Country=ARUBA<extra></extra>\",\"legendgroup\":\"ARUBA\",\"marker\":{\"color\":\"#1F77B4\",\"symbol\":\"circle\"},\"mode\":\"lines\",\"name\":\"ARUBA\",\"showlegend\":false,\"xaxis\":\"x\",\"yaxis\":\"y\",\"type\":\"scatter\"},{\"hovertemplate\":\"Country=AUSTRALIA<br>AverageTemperature=%{x}<br>GHG=%{y}<extra></extra>\",\"legendgroup\":\"AUSTRALIA\",\"marker\":{\"color\":\"#FF7F0E\",\"symbol\":\"circle\"},\"mode\":\"markers\",\"name\":\"AUSTRALIA\",\"orientation\":\"v\",\"showlegend\":true,\"x\":[1115.3233333333333],\"xaxis\":\"x\",\"y\":[242422416648.0],\"yaxis\":\"y\",\"type\":\"scatter\"},{\"hovertemplate\":\"Country=AUSTRALIA<extra></extra>\",\"legendgroup\":\"AUSTRALIA\",\"marker\":{\"color\":\"#FF7F0E\",\"symbol\":\"circle\"},\"mode\":\"lines\",\"name\":\"AUSTRALIA\",\"showlegend\":false,\"xaxis\":\"x\",\"yaxis\":\"y\",\"type\":\"scatter\"},{\"hovertemplate\":\"Country=AUSTRIA<br>AverageTemperature=%{x}<br>GHG=%{y}<extra></extra>\",\"legendgroup\":\"AUSTRIA\",\"marker\":{\"color\":\"#2CA02C\",\"symbol\":\"circle\"},\"mode\":\"markers\",\"name\":\"AUSTRIA\",\"orientation\":\"v\",\"showlegend\":true,\"x\":[334.66358333333335],\"xaxis\":\"x\",\"y\":[137227402232.0],\"yaxis\":\"y\",\"type\":\"scatter\"},{\"hovertemplate\":\"Country=AUSTRIA<extra></extra>\",\"legendgroup\":\"AUSTRIA\",\"marker\":{\"color\":\"#2CA02C\",\"symbol\":\"circle\"},\"mode\":\"lines\",\"name\":\"AUSTRIA\",\"showlegend\":false,\"xaxis\":\"x\",\"yaxis\":\"y\",\"type\":\"scatter\"},{\"hovertemplate\":\"Country=AZERBAIJAN<br>AverageTemperature=%{x}<br>GHG=%{y}<extra></extra>\",\"legendgroup\":\"AZERBAIJAN\",\"marker\":{\"color\":\"#D62728\",\"symbol\":\"circle\"},\"mode\":\"markers\",\"name\":\"AZERBAIJAN\",\"orientation\":\"v\",\"showlegend\":true,\"x\":[594.5205],\"xaxis\":\"x\",\"y\":[37945403248.0],\"yaxis\":\"y\",\"type\":\"scatter\"},{\"hovertemplate\":\"Country=AZERBAIJAN<extra></extra>\",\"legendgroup\":\"AZERBAIJAN\",\"marker\":{\"color\":\"#D62728\",\"symbol\":\"circle\"},\"mode\":\"lines\",\"name\":\"AZERBAIJAN\",\"showlegend\":false,\"xaxis\":\"x\",\"yaxis\":\"y\",\"type\":\"scatter\"},{\"hovertemplate\":\"Country=BAHAMAS<br>AverageTemperature=%{x}<br>GHG=%{y}<extra></extra>\",\"legendgroup\":\"BAHAMAS\",\"marker\":{\"color\":\"#9467BD\",\"symbol\":\"circle\"},\"mode\":\"markers\",\"name\":\"BAHAMAS\",\"orientation\":\"v\",\"showlegend\":true,\"x\":[1296.46425],\"xaxis\":\"x\",\"y\":[2801799151.0],\"yaxis\":\"y\",\"type\":\"scatter\"},{\"hovertemplate\":\"Country=BAHAMAS<extra></extra>\",\"legendgroup\":\"BAHAMAS\",\"marker\":{\"color\":\"#9467BD\",\"symbol\":\"circle\"},\"mode\":\"lines\",\"name\":\"BAHAMAS\",\"showlegend\":false,\"xaxis\":\"x\",\"yaxis\":\"y\",\"type\":\"scatter\"},{\"hovertemplate\":\"Country=BAHRAIN<br>AverageTemperature=%{x}<br>GHG=%{y}<extra></extra>\",\"legendgroup\":\"BAHRAIN\",\"marker\":{\"color\":\"#8C564B\",\"symbol\":\"circle\"},\"mode\":\"markers\",\"name\":\"BAHRAIN\",\"orientation\":\"v\",\"showlegend\":true,\"x\":[1334.9695833333333],\"xaxis\":\"x\",\"y\":[7295437192.0],\"yaxis\":\"y\",\"type\":\"scatter\"},{\"hovertemplate\":\"Country=BAHRAIN<extra></extra>\",\"legendgroup\":\"BAHRAIN\",\"marker\":{\"color\":\"#8C564B\",\"symbol\":\"circle\"},\"mode\":\"lines\",\"name\":\"BAHRAIN\",\"showlegend\":false,\"xaxis\":\"x\",\"yaxis\":\"y\",\"type\":\"scatter\"},{\"hovertemplate\":\"Country=BANGLADESH<br>AverageTemperature=%{x}<br>GHG=%{y}<extra></extra>\",\"legendgroup\":\"BANGLADESH\",\"marker\":{\"color\":\"#E377C2\",\"symbol\":\"circle\"},\"mode\":\"markers\",\"name\":\"BANGLADESH\",\"orientation\":\"v\",\"showlegend\":true,\"x\":[1286.1580833333333],\"xaxis\":\"x\",\"y\":[5319912307.0],\"yaxis\":\"y\",\"type\":\"scatter\"},{\"hovertemplate\":\"Country=BANGLADESH<extra></extra>\",\"legendgroup\":\"BANGLADESH\",\"marker\":{\"color\":\"#E377C2\",\"symbol\":\"circle\"},\"mode\":\"lines\",\"name\":\"BANGLADESH\",\"showlegend\":false,\"xaxis\":\"x\",\"yaxis\":\"y\",\"type\":\"scatter\"},{\"hovertemplate\":\"Country=BARBADOS<br>AverageTemperature=%{x}<br>GHG=%{y}<extra></extra>\",\"legendgroup\":\"BARBADOS\",\"marker\":{\"color\":\"#7F7F7F\",\"symbol\":\"circle\"},\"mode\":\"markers\",\"name\":\"BARBADOS\",\"orientation\":\"v\",\"showlegend\":true,\"x\":[1367.5654166666666],\"xaxis\":\"x\",\"y\":[487590628.0],\"yaxis\":\"y\",\"type\":\"scatter\"},{\"hovertemplate\":\"Country=BARBADOS<extra></extra>\",\"legendgroup\":\"BARBADOS\",\"marker\":{\"color\":\"#7F7F7F\",\"symbol\":\"circle\"},\"mode\":\"lines\",\"name\":\"BARBADOS\",\"showlegend\":false,\"xaxis\":\"x\",\"yaxis\":\"y\",\"type\":\"scatter\"},{\"hovertemplate\":\"Country=BELARUS<br>AverageTemperature=%{x}<br>GHG=%{y}<extra></extra>\",\"legendgroup\":\"BELARUS\",\"marker\":{\"color\":\"#BCBD22\",\"symbol\":\"circle\"},\"mode\":\"markers\",\"name\":\"BELARUS\",\"orientation\":\"v\",\"showlegend\":true,\"x\":[317.2535],\"xaxis\":\"x\",\"y\":[59258725973.0],\"yaxis\":\"y\",\"type\":\"scatter\"},{\"hovertemplate\":\"Country=BELARUS<extra></extra>\",\"legendgroup\":\"BELARUS\",\"marker\":{\"color\":\"#BCBD22\",\"symbol\":\"circle\"},\"mode\":\"lines\",\"name\":\"BELARUS\",\"showlegend\":false,\"xaxis\":\"x\",\"yaxis\":\"y\",\"type\":\"scatter\"},{\"hovertemplate\":\"Country=BELGIUM<br>AverageTemperature=%{x}<br>GHG=%{y}<extra></extra>\",\"legendgroup\":\"BELGIUM\",\"marker\":{\"color\":\"#17BECF\",\"symbol\":\"circle\"},\"mode\":\"markers\",\"name\":\"BELGIUM\",\"orientation\":\"v\",\"showlegend\":true,\"x\":[500.9923333333333],\"xaxis\":\"x\",\"y\":[375773208983.0],\"yaxis\":\"y\",\"type\":\"scatter\"},{\"hovertemplate\":\"Country=BELGIUM<extra></extra>\",\"legendgroup\":\"BELGIUM\",\"marker\":{\"color\":\"#17BECF\",\"symbol\":\"circle\"},\"mode\":\"lines\",\"name\":\"BELGIUM\",\"showlegend\":false,\"xaxis\":\"x\",\"yaxis\":\"y\",\"type\":\"scatter\"},{\"hovertemplate\":\"Country=BELIZE<br>AverageTemperature=%{x}<br>GHG=%{y}<extra></extra>\",\"legendgroup\":\"BELIZE\",\"marker\":{\"color\":\"#1F77B4\",\"symbol\":\"circle\"},\"mode\":\"markers\",\"name\":\"BELIZE\",\"orientation\":\"v\",\"showlegend\":true,\"x\":[1295.9045],\"xaxis\":\"x\",\"y\":[143471248.0],\"yaxis\":\"y\",\"type\":\"scatter\"},{\"hovertemplate\":\"Country=BELIZE<extra></extra>\",\"legendgroup\":\"BELIZE\",\"marker\":{\"color\":\"#1F77B4\",\"symbol\":\"circle\"},\"mode\":\"lines\",\"name\":\"BELIZE\",\"showlegend\":false,\"xaxis\":\"x\",\"yaxis\":\"y\",\"type\":\"scatter\"},{\"hovertemplate\":\"Country=BENIN<br>AverageTemperature=%{x}<br>GHG=%{y}<extra></extra>\",\"legendgroup\":\"BENIN\",\"marker\":{\"color\":\"#FF7F0E\",\"symbol\":\"circle\"},\"mode\":\"markers\",\"name\":\"BENIN\",\"orientation\":\"v\",\"showlegend\":true,\"x\":[1395.4139166666666],\"xaxis\":\"x\",\"y\":[309019501.0],\"yaxis\":\"y\",\"type\":\"scatter\"},{\"hovertemplate\":\"Country=BENIN<extra></extra>\",\"legendgroup\":\"BENIN\",\"marker\":{\"color\":\"#FF7F0E\",\"symbol\":\"circle\"},\"mode\":\"lines\",\"name\":\"BENIN\",\"showlegend\":false,\"xaxis\":\"x\",\"yaxis\":\"y\",\"type\":\"scatter\"},{\"hovertemplate\":\"Country=BHUTAN<br>AverageTemperature=%{x}<br>GHG=%{y}<extra></extra>\",\"legendgroup\":\"BHUTAN\",\"marker\":{\"color\":\"#2CA02C\",\"symbol\":\"circle\"},\"mode\":\"markers\",\"name\":\"BHUTAN\",\"orientation\":\"v\",\"showlegend\":true,\"x\":[619.1555833333333],\"xaxis\":\"x\",\"y\":[24456162.0],\"yaxis\":\"y\",\"type\":\"scatter\"},{\"hovertemplate\":\"Country=BHUTAN<extra></extra>\",\"legendgroup\":\"BHUTAN\",\"marker\":{\"color\":\"#2CA02C\",\"symbol\":\"circle\"},\"mode\":\"lines\",\"name\":\"BHUTAN\",\"showlegend\":false,\"xaxis\":\"x\",\"yaxis\":\"y\",\"type\":\"scatter\"},{\"hovertemplate\":\"Country=BOLIVIA<br>AverageTemperature=%{x}<br>GHG=%{y}<extra></extra>\",\"legendgroup\":\"BOLIVIA\",\"marker\":{\"color\":\"#D62728\",\"symbol\":\"circle\"},\"mode\":\"markers\",\"name\":\"BOLIVIA\",\"orientation\":\"v\",\"showlegend\":true,\"x\":[1081.24125],\"xaxis\":\"x\",\"y\":[3264756988.0],\"yaxis\":\"y\",\"type\":\"scatter\"},{\"hovertemplate\":\"Country=BOLIVIA<extra></extra>\",\"legendgroup\":\"BOLIVIA\",\"marker\":{\"color\":\"#D62728\",\"symbol\":\"circle\"},\"mode\":\"lines\",\"name\":\"BOLIVIA\",\"showlegend\":false,\"xaxis\":\"x\",\"yaxis\":\"y\",\"type\":\"scatter\"},{\"hovertemplate\":\"Country=BOSNIA AND HERZEGOVINA<br>AverageTemperature=%{x}<br>GHG=%{y}<extra></extra>\",\"legendgroup\":\"BOSNIA AND HERZEGOVINA\",\"marker\":{\"color\":\"#9467BD\",\"symbol\":\"circle\"},\"mode\":\"markers\",\"name\":\"BOSNIA AND HERZEGOVINA\",\"orientation\":\"v\",\"showlegend\":true,\"x\":[547.131],\"xaxis\":\"x\",\"y\":[9821514401.0],\"yaxis\":\"y\",\"type\":\"scatter\"},{\"hovertemplate\":\"Country=BOSNIA AND HERZEGOVINA<extra></extra>\",\"legendgroup\":\"BOSNIA AND HERZEGOVINA\",\"marker\":{\"color\":\"#9467BD\",\"symbol\":\"circle\"},\"mode\":\"lines\",\"name\":\"BOSNIA AND HERZEGOVINA\",\"showlegend\":false,\"xaxis\":\"x\",\"yaxis\":\"y\",\"type\":\"scatter\"},{\"hovertemplate\":\"Country=BOTSWANA<br>AverageTemperature=%{x}<br>GHG=%{y}<extra></extra>\",\"legendgroup\":\"BOTSWANA\",\"marker\":{\"color\":\"#8C564B\",\"symbol\":\"circle\"},\"mode\":\"markers\",\"name\":\"BOTSWANA\",\"orientation\":\"v\",\"showlegend\":true,\"x\":[1132.5926666666667],\"xaxis\":\"x\",\"y\":[457831456.0],\"yaxis\":\"y\",\"type\":\"scatter\"},{\"hovertemplate\":\"Country=BOTSWANA<extra></extra>\",\"legendgroup\":\"BOTSWANA\",\"marker\":{\"color\":\"#8C564B\",\"symbol\":\"circle\"},\"mode\":\"lines\",\"name\":\"BOTSWANA\",\"showlegend\":false,\"xaxis\":\"x\",\"yaxis\":\"y\",\"type\":\"scatter\"},{\"hovertemplate\":\"Country=BRAZIL<br>AverageTemperature=%{x}<br>GHG=%{y}<extra></extra>\",\"legendgroup\":\"BRAZIL\",\"marker\":{\"color\":\"#E377C2\",\"symbol\":\"circle\"},\"mode\":\"markers\",\"name\":\"BRAZIL\",\"orientation\":\"v\",\"showlegend\":true,\"x\":[1278.4686666666666],\"xaxis\":\"x\",\"y\":[130918820247.0],\"yaxis\":\"y\",\"type\":\"scatter\"},{\"hovertemplate\":\"Country=BRAZIL<extra></extra>\",\"legendgroup\":\"BRAZIL\",\"marker\":{\"color\":\"#E377C2\",\"symbol\":\"circle\"},\"mode\":\"lines\",\"name\":\"BRAZIL\",\"showlegend\":false,\"xaxis\":\"x\",\"yaxis\":\"y\",\"type\":\"scatter\"},{\"hovertemplate\":\"Country=BRITISH VIRGIN ISLANDS<br>AverageTemperature=%{x}<br>GHG=%{y}<extra></extra>\",\"legendgroup\":\"BRITISH VIRGIN ISLANDS\",\"marker\":{\"color\":\"#7F7F7F\",\"symbol\":\"circle\"},\"mode\":\"markers\",\"name\":\"BRITISH VIRGIN ISLANDS\",\"orientation\":\"v\",\"showlegend\":true,\"x\":[1359.8878333333332],\"xaxis\":\"x\",\"y\":[21866752.0],\"yaxis\":\"y\",\"type\":\"scatter\"},{\"hovertemplate\":\"Country=BRITISH VIRGIN ISLANDS<extra></extra>\",\"legendgroup\":\"BRITISH VIRGIN ISLANDS\",\"marker\":{\"color\":\"#7F7F7F\",\"symbol\":\"circle\"},\"mode\":\"lines\",\"name\":\"BRITISH VIRGIN ISLANDS\",\"showlegend\":false,\"xaxis\":\"x\",\"yaxis\":\"y\",\"type\":\"scatter\"},{\"hovertemplate\":\"Country=BULGARIA<br>AverageTemperature=%{x}<br>GHG=%{y}<extra></extra>\",\"legendgroup\":\"BULGARIA\",\"marker\":{\"color\":\"#BCBD22\",\"symbol\":\"circle\"},\"mode\":\"markers\",\"name\":\"BULGARIA\",\"orientation\":\"v\",\"showlegend\":true,\"x\":[550.7455833333333],\"xaxis\":\"x\",\"y\":[63609762131.0],\"yaxis\":\"y\",\"type\":\"scatter\"},{\"hovertemplate\":\"Country=BULGARIA<extra></extra>\",\"legendgroup\":\"BULGARIA\",\"marker\":{\"color\":\"#BCBD22\",\"symbol\":\"circle\"},\"mode\":\"lines\",\"name\":\"BULGARIA\",\"showlegend\":false,\"xaxis\":\"x\",\"yaxis\":\"y\",\"type\":\"scatter\"},{\"hovertemplate\":\"Country=BURKINA FASO<br>AverageTemperature=%{x}<br>GHG=%{y}<extra></extra>\",\"legendgroup\":\"BURKINA FASO\",\"marker\":{\"color\":\"#17BECF\",\"symbol\":\"circle\"},\"mode\":\"markers\",\"name\":\"BURKINA FASO\",\"orientation\":\"v\",\"showlegend\":true,\"x\":[1443.56725],\"xaxis\":\"x\",\"y\":[225012897.0],\"yaxis\":\"y\",\"type\":\"scatter\"},{\"hovertemplate\":\"Country=BURKINA FASO<extra></extra>\",\"legendgroup\":\"BURKINA FASO\",\"marker\":{\"color\":\"#17BECF\",\"symbol\":\"circle\"},\"mode\":\"lines\",\"name\":\"BURKINA FASO\",\"showlegend\":false,\"xaxis\":\"x\",\"yaxis\":\"y\",\"type\":\"scatter\"},{\"hovertemplate\":\"Country=BURUNDI<br>AverageTemperature=%{x}<br>GHG=%{y}<extra></extra>\",\"legendgroup\":\"BURUNDI\",\"marker\":{\"color\":\"#1F77B4\",\"symbol\":\"circle\"},\"mode\":\"markers\",\"name\":\"BURUNDI\",\"orientation\":\"v\",\"showlegend\":true,\"x\":[1033.10925],\"xaxis\":\"x\",\"y\":[89977565.0],\"yaxis\":\"y\",\"type\":\"scatter\"},{\"hovertemplate\":\"Country=BURUNDI<extra></extra>\",\"legendgroup\":\"BURUNDI\",\"marker\":{\"color\":\"#1F77B4\",\"symbol\":\"circle\"},\"mode\":\"lines\",\"name\":\"BURUNDI\",\"showlegend\":false,\"xaxis\":\"x\",\"yaxis\":\"y\",\"type\":\"scatter\"},{\"hovertemplate\":\"Country=CAMBODIA<br>AverageTemperature=%{x}<br>GHG=%{y}<extra></extra>\",\"legendgroup\":\"CAMBODIA\",\"marker\":{\"color\":\"#FF7F0E\",\"symbol\":\"circle\"},\"mode\":\"markers\",\"name\":\"CAMBODIA\",\"orientation\":\"v\",\"showlegend\":true,\"x\":[1376.9951666666666],\"xaxis\":\"x\",\"y\":[417769830.0],\"yaxis\":\"y\",\"type\":\"scatter\"},{\"hovertemplate\":\"Country=CAMBODIA<extra></extra>\",\"legendgroup\":\"CAMBODIA\",\"marker\":{\"color\":\"#FF7F0E\",\"symbol\":\"circle\"},\"mode\":\"lines\",\"name\":\"CAMBODIA\",\"showlegend\":false,\"xaxis\":\"x\",\"yaxis\":\"y\",\"type\":\"scatter\"},{\"hovertemplate\":\"Country=CAMEROON<br>AverageTemperature=%{x}<br>GHG=%{y}<extra></extra>\",\"legendgroup\":\"CAMEROON\",\"marker\":{\"color\":\"#2CA02C\",\"symbol\":\"circle\"},\"mode\":\"markers\",\"name\":\"CAMEROON\",\"orientation\":\"v\",\"showlegend\":true,\"x\":[1250.4056666666665],\"xaxis\":\"x\",\"y\":[1544771416.0],\"yaxis\":\"y\",\"type\":\"scatter\"},{\"hovertemplate\":\"Country=CAMEROON<extra></extra>\",\"legendgroup\":\"CAMEROON\",\"marker\":{\"color\":\"#2CA02C\",\"symbol\":\"circle\"},\"mode\":\"lines\",\"name\":\"CAMEROON\",\"showlegend\":false,\"xaxis\":\"x\",\"yaxis\":\"y\",\"type\":\"scatter\"},{\"hovertemplate\":\"Country=CANADA<br>AverageTemperature=%{x}<br>GHG=%{y}<extra></extra>\",\"legendgroup\":\"CANADA\",\"marker\":{\"color\":\"#D62728\",\"symbol\":\"circle\"},\"mode\":\"markers\",\"name\":\"CANADA\",\"orientation\":\"v\",\"showlegend\":true,\"x\":[-240.359],\"xaxis\":\"x\",\"y\":[594489000075.0],\"yaxis\":\"y\",\"type\":\"scatter\"},{\"hovertemplate\":\"Country=CANADA<extra></extra>\",\"legendgroup\":\"CANADA\",\"marker\":{\"color\":\"#D62728\",\"symbol\":\"circle\"},\"mode\":\"lines\",\"name\":\"CANADA\",\"showlegend\":false,\"xaxis\":\"x\",\"yaxis\":\"y\",\"type\":\"scatter\"},{\"hovertemplate\":\"Country=CAPE VERDE<br>AverageTemperature=%{x}<br>GHG=%{y}<extra></extra>\",\"legendgroup\":\"CAPE VERDE\",\"marker\":{\"color\":\"#9467BD\",\"symbol\":\"circle\"},\"mode\":\"markers\",\"name\":\"CAPE VERDE\",\"orientation\":\"v\",\"showlegend\":true,\"x\":[1245.7734166666667],\"xaxis\":\"x\",\"y\":[68201880.0],\"yaxis\":\"y\",\"type\":\"scatter\"},{\"hovertemplate\":\"Country=CAPE VERDE<extra></extra>\",\"legendgroup\":\"CAPE VERDE\",\"marker\":{\"color\":\"#9467BD\",\"symbol\":\"circle\"},\"mode\":\"lines\",\"name\":\"CAPE VERDE\",\"showlegend\":false,\"xaxis\":\"x\",\"yaxis\":\"y\",\"type\":\"scatter\"},{\"hovertemplate\":\"Country=CAYMAN ISLANDS<br>AverageTemperature=%{x}<br>GHG=%{y}<extra></extra>\",\"legendgroup\":\"CAYMAN ISLANDS\",\"marker\":{\"color\":\"#8C564B\",\"symbol\":\"circle\"},\"mode\":\"markers\",\"name\":\"CAYMAN ISLANDS\",\"orientation\":\"v\",\"showlegend\":true,\"x\":[1379.03075],\"xaxis\":\"x\",\"y\":[75328176.0],\"yaxis\":\"y\",\"type\":\"scatter\"},{\"hovertemplate\":\"Country=CAYMAN ISLANDS<extra></extra>\",\"legendgroup\":\"CAYMAN ISLANDS\",\"marker\":{\"color\":\"#8C564B\",\"symbol\":\"circle\"},\"mode\":\"lines\",\"name\":\"CAYMAN ISLANDS\",\"showlegend\":false,\"xaxis\":\"x\",\"yaxis\":\"y\",\"type\":\"scatter\"},{\"hovertemplate\":\"Country=CENTRAL AFRICAN REPUBLIC<br>AverageTemperature=%{x}<br>GHG=%{y}<extra></extra>\",\"legendgroup\":\"CENTRAL AFRICAN REPUBLIC\",\"marker\":{\"color\":\"#E377C2\",\"symbol\":\"circle\"},\"mode\":\"markers\",\"name\":\"CENTRAL AFRICAN REPUBLIC\",\"orientation\":\"v\",\"showlegend\":true,\"x\":[1297.1726666666666],\"xaxis\":\"x\",\"y\":[122091808.0],\"yaxis\":\"y\",\"type\":\"scatter\"},{\"hovertemplate\":\"Country=CENTRAL AFRICAN REPUBLIC<extra></extra>\",\"legendgroup\":\"CENTRAL AFRICAN REPUBLIC\",\"marker\":{\"color\":\"#E377C2\",\"symbol\":\"circle\"},\"mode\":\"lines\",\"name\":\"CENTRAL AFRICAN REPUBLIC\",\"showlegend\":false,\"xaxis\":\"x\",\"yaxis\":\"y\",\"type\":\"scatter\"},{\"hovertemplate\":\"Country=CHAD<br>AverageTemperature=%{x}<br>GHG=%{y}<extra></extra>\",\"legendgroup\":\"CHAD\",\"marker\":{\"color\":\"#7F7F7F\",\"symbol\":\"circle\"},\"mode\":\"markers\",\"name\":\"CHAD\",\"orientation\":\"v\",\"showlegend\":true,\"x\":[1390.9705],\"xaxis\":\"x\",\"y\":[118424144.0],\"yaxis\":\"y\",\"type\":\"scatter\"},{\"hovertemplate\":\"Country=CHAD<extra></extra>\",\"legendgroup\":\"CHAD\",\"marker\":{\"color\":\"#7F7F7F\",\"symbol\":\"circle\"},\"mode\":\"lines\",\"name\":\"CHAD\",\"showlegend\":false,\"xaxis\":\"x\",\"yaxis\":\"y\",\"type\":\"scatter\"},{\"hovertemplate\":\"Country=CHILE<br>AverageTemperature=%{x}<br>GHG=%{y}<extra></extra>\",\"legendgroup\":\"CHILE\",\"marker\":{\"color\":\"#BCBD22\",\"symbol\":\"circle\"},\"mode\":\"markers\",\"name\":\"CHILE\",\"orientation\":\"v\",\"showlegend\":true,\"x\":[495.2341666666667],\"xaxis\":\"x\",\"y\":[34621927092.0],\"yaxis\":\"y\",\"type\":\"scatter\"},{\"hovertemplate\":\"Country=CHILE<extra></extra>\",\"legendgroup\":\"CHILE\",\"marker\":{\"color\":\"#BCBD22\",\"symbol\":\"circle\"},\"mode\":\"lines\",\"name\":\"CHILE\",\"showlegend\":false,\"xaxis\":\"x\",\"yaxis\":\"y\",\"type\":\"scatter\"},{\"hovertemplate\":\"Country=CHINA<br>AverageTemperature=%{x}<br>GHG=%{y}<extra></extra>\",\"legendgroup\":\"CHINA\",\"marker\":{\"color\":\"#17BECF\",\"symbol\":\"circle\"},\"mode\":\"markers\",\"name\":\"CHINA\",\"orientation\":\"v\",\"showlegend\":true,\"x\":[353.9099166666667],\"xaxis\":\"x\",\"y\":[1170042995201.0],\"yaxis\":\"y\",\"type\":\"scatter\"},{\"hovertemplate\":\"Country=CHINA<extra></extra>\",\"legendgroup\":\"CHINA\",\"marker\":{\"color\":\"#17BECF\",\"symbol\":\"circle\"},\"mode\":\"lines\",\"name\":\"CHINA\",\"showlegend\":false,\"xaxis\":\"x\",\"yaxis\":\"y\",\"type\":\"scatter\"},{\"hovertemplate\":\"Country=CHRISTMAS ISLAND<br>AverageTemperature=%{x}<br>GHG=%{y}<extra></extra>\",\"legendgroup\":\"CHRISTMAS ISLAND\",\"marker\":{\"color\":\"#1F77B4\",\"symbol\":\"circle\"},\"mode\":\"markers\",\"name\":\"CHRISTMAS ISLAND\",\"orientation\":\"v\",\"showlegend\":true,\"x\":[1331.9494166666666],\"xaxis\":\"x\",\"y\":[32536320.0],\"yaxis\":\"y\",\"type\":\"scatter\"},{\"hovertemplate\":\"Country=CHRISTMAS ISLAND<extra></extra>\",\"legendgroup\":\"CHRISTMAS ISLAND\",\"marker\":{\"color\":\"#1F77B4\",\"symbol\":\"circle\"},\"mode\":\"lines\",\"name\":\"CHRISTMAS ISLAND\",\"showlegend\":false,\"xaxis\":\"x\",\"yaxis\":\"y\",\"type\":\"scatter\"},{\"hovertemplate\":\"Country=COLOMBIA<br>AverageTemperature=%{x}<br>GHG=%{y}<extra></extra>\",\"legendgroup\":\"COLOMBIA\",\"marker\":{\"color\":\"#FF7F0E\",\"symbol\":\"circle\"},\"mode\":\"markers\",\"name\":\"COLOMBIA\",\"orientation\":\"v\",\"showlegend\":true,\"x\":[1278.7568333333334],\"xaxis\":\"x\",\"y\":[37933646111.0],\"yaxis\":\"y\",\"type\":\"scatter\"},{\"hovertemplate\":\"Country=COLOMBIA<extra></extra>\",\"legendgroup\":\"COLOMBIA\",\"marker\":{\"color\":\"#FF7F0E\",\"symbol\":\"circle\"},\"mode\":\"lines\",\"name\":\"COLOMBIA\",\"showlegend\":false,\"xaxis\":\"x\",\"yaxis\":\"y\",\"type\":\"scatter\"},{\"hovertemplate\":\"Country=COMOROS<br>AverageTemperature=%{x}<br>GHG=%{y}<extra></extra>\",\"legendgroup\":\"COMOROS\",\"marker\":{\"color\":\"#2CA02C\",\"symbol\":\"circle\"},\"mode\":\"markers\",\"name\":\"COMOROS\",\"orientation\":\"v\",\"showlegend\":true,\"x\":[1322.0335],\"xaxis\":\"x\",\"y\":[26402784.0],\"yaxis\":\"y\",\"type\":\"scatter\"},{\"hovertemplate\":\"Country=COMOROS<extra></extra>\",\"legendgroup\":\"COMOROS\",\"marker\":{\"color\":\"#2CA02C\",\"symbol\":\"circle\"},\"mode\":\"lines\",\"name\":\"COMOROS\",\"showlegend\":false,\"xaxis\":\"x\",\"yaxis\":\"y\",\"type\":\"scatter\"},{\"hovertemplate\":\"Country=COSTA RICA<br>AverageTemperature=%{x}<br>GHG=%{y}<extra></extra>\",\"legendgroup\":\"COSTA RICA\",\"marker\":{\"color\":\"#D62728\",\"symbol\":\"circle\"},\"mode\":\"markers\",\"name\":\"COSTA RICA\",\"orientation\":\"v\",\"showlegend\":true,\"x\":[1323.1939166666666],\"xaxis\":\"x\",\"y\":[1659665553.0],\"yaxis\":\"y\",\"type\":\"scatter\"},{\"hovertemplate\":\"Country=COSTA RICA<extra></extra>\",\"legendgroup\":\"COSTA RICA\",\"marker\":{\"color\":\"#D62728\",\"symbol\":\"circle\"},\"mode\":\"lines\",\"name\":\"COSTA RICA\",\"showlegend\":false,\"xaxis\":\"x\",\"yaxis\":\"y\",\"type\":\"scatter\"},{\"hovertemplate\":\"Country=CROATIA<br>AverageTemperature=%{x}<br>GHG=%{y}<extra></extra>\",\"legendgroup\":\"CROATIA\",\"marker\":{\"color\":\"#9467BD\",\"symbol\":\"circle\"},\"mode\":\"markers\",\"name\":\"CROATIA\",\"orientation\":\"v\",\"showlegend\":true,\"x\":[594.2913333333333],\"xaxis\":\"x\",\"y\":[11051731793.0],\"yaxis\":\"y\",\"type\":\"scatter\"},{\"hovertemplate\":\"Country=CROATIA<extra></extra>\",\"legendgroup\":\"CROATIA\",\"marker\":{\"color\":\"#9467BD\",\"symbol\":\"circle\"},\"mode\":\"lines\",\"name\":\"CROATIA\",\"showlegend\":false,\"xaxis\":\"x\",\"yaxis\":\"y\",\"type\":\"scatter\"},{\"hovertemplate\":\"Country=CUBA<br>AverageTemperature=%{x}<br>GHG=%{y}<extra></extra>\",\"legendgroup\":\"CUBA\",\"marker\":{\"color\":\"#8C564B\",\"symbol\":\"circle\"},\"mode\":\"markers\",\"name\":\"CUBA\",\"orientation\":\"v\",\"showlegend\":true,\"x\":[1311.6375],\"xaxis\":\"x\",\"y\":[23345578988.0],\"yaxis\":\"y\",\"type\":\"scatter\"},{\"hovertemplate\":\"Country=CUBA<extra></extra>\",\"legendgroup\":\"CUBA\",\"marker\":{\"color\":\"#8C564B\",\"symbol\":\"circle\"},\"mode\":\"lines\",\"name\":\"CUBA\",\"showlegend\":false,\"xaxis\":\"x\",\"yaxis\":\"y\",\"type\":\"scatter\"},{\"hovertemplate\":\"Country=CYPRUS<br>AverageTemperature=%{x}<br>GHG=%{y}<extra></extra>\",\"legendgroup\":\"CYPRUS\",\"marker\":{\"color\":\"#E377C2\",\"symbol\":\"circle\"},\"mode\":\"markers\",\"name\":\"CYPRUS\",\"orientation\":\"v\",\"showlegend\":true,\"x\":[974.1995],\"xaxis\":\"x\",\"y\":[2212290284.0],\"yaxis\":\"y\",\"type\":\"scatter\"},{\"hovertemplate\":\"Country=CYPRUS<extra></extra>\",\"legendgroup\":\"CYPRUS\",\"marker\":{\"color\":\"#E377C2\",\"symbol\":\"circle\"},\"mode\":\"lines\",\"name\":\"CYPRUS\",\"showlegend\":false,\"xaxis\":\"x\",\"yaxis\":\"y\",\"type\":\"scatter\"},{\"hovertemplate\":\"Country=CZECH REPUBLIC<br>AverageTemperature=%{x}<br>GHG=%{y}<extra></extra>\",\"legendgroup\":\"CZECH REPUBLIC\",\"marker\":{\"color\":\"#7F7F7F\",\"symbol\":\"circle\"},\"mode\":\"markers\",\"name\":\"CZECH REPUBLIC\",\"orientation\":\"v\",\"showlegend\":true,\"x\":[407.30016666666666],\"xaxis\":\"x\",\"y\":[132007772069.0],\"yaxis\":\"y\",\"type\":\"scatter\"},{\"hovertemplate\":\"Country=CZECH REPUBLIC<extra></extra>\",\"legendgroup\":\"CZECH REPUBLIC\",\"marker\":{\"color\":\"#7F7F7F\",\"symbol\":\"circle\"},\"mode\":\"lines\",\"name\":\"CZECH REPUBLIC\",\"showlegend\":false,\"xaxis\":\"x\",\"yaxis\":\"y\",\"type\":\"scatter\"},{\"hovertemplate\":\"Country=C\\u00d4TE D'IVOIRE<br>AverageTemperature=%{x}<br>GHG=%{y}<extra></extra>\",\"legendgroup\":\"C\\u00d4TE D'IVOIRE\",\"marker\":{\"color\":\"#BCBD22\",\"symbol\":\"circle\"},\"mode\":\"markers\",\"name\":\"C\\u00d4TE D'IVOIRE\",\"orientation\":\"v\",\"showlegend\":true,\"x\":[1336.3745],\"xaxis\":\"x\",\"y\":[0.0],\"yaxis\":\"y\",\"type\":\"scatter\"},{\"hovertemplate\":\"Country=C\\u00d4TE D'IVOIRE<extra></extra>\",\"legendgroup\":\"C\\u00d4TE D'IVOIRE\",\"marker\":{\"color\":\"#BCBD22\",\"symbol\":\"circle\"},\"mode\":\"lines\",\"name\":\"C\\u00d4TE D'IVOIRE\",\"showlegend\":false,\"xaxis\":\"x\",\"yaxis\":\"y\",\"type\":\"scatter\"},{\"hovertemplate\":\"Country=DEM. REP. KOREA<br>AverageTemperature=%{x}<br>GHG=%{y}<extra></extra>\",\"legendgroup\":\"DEM. REP. KOREA\",\"marker\":{\"color\":\"#17BECF\",\"symbol\":\"circle\"},\"mode\":\"markers\",\"name\":\"DEM. REP. KOREA\",\"orientation\":\"v\",\"showlegend\":true,\"x\":[365.3860833333333],\"xaxis\":\"x\",\"y\":[74982435038.0],\"yaxis\":\"y\",\"type\":\"scatter\"},{\"hovertemplate\":\"Country=DEM. REP. KOREA<extra></extra>\",\"legendgroup\":\"DEM. REP. KOREA\",\"marker\":{\"color\":\"#17BECF\",\"symbol\":\"circle\"},\"mode\":\"lines\",\"name\":\"DEM. REP. KOREA\",\"showlegend\":false,\"xaxis\":\"x\",\"yaxis\":\"y\",\"type\":\"scatter\"},{\"hovertemplate\":\"Country=DEMOCRATIC REPUBLIC OF THE CONGO<br>AverageTemperature=%{x}<br>GHG=%{y}<extra></extra>\",\"legendgroup\":\"DEMOCRATIC REPUBLIC OF THE CONGO\",\"marker\":{\"color\":\"#1F77B4\",\"symbol\":\"circle\"},\"mode\":\"markers\",\"name\":\"DEMOCRATIC REPUBLIC OF THE CONGO\",\"orientation\":\"v\",\"showlegend\":true,\"x\":[1222.6075],\"xaxis\":\"x\",\"y\":[0.0],\"yaxis\":\"y\",\"type\":\"scatter\"},{\"hovertemplate\":\"Country=DEMOCRATIC REPUBLIC OF THE CONGO<extra></extra>\",\"legendgroup\":\"DEMOCRATIC REPUBLIC OF THE CONGO\",\"marker\":{\"color\":\"#1F77B4\",\"symbol\":\"circle\"},\"mode\":\"lines\",\"name\":\"DEMOCRATIC REPUBLIC OF THE CONGO\",\"showlegend\":false,\"xaxis\":\"x\",\"yaxis\":\"y\",\"type\":\"scatter\"},{\"hovertemplate\":\"Country=DENMARK<br>AverageTemperature=%{x}<br>GHG=%{y}<extra></extra>\",\"legendgroup\":\"DENMARK\",\"marker\":{\"color\":\"#FF7F0E\",\"symbol\":\"circle\"},\"mode\":\"markers\",\"name\":\"DENMARK\",\"orientation\":\"v\",\"showlegend\":true,\"x\":[416.45391666666666],\"xaxis\":\"x\",\"y\":[90364582843.0],\"yaxis\":\"y\",\"type\":\"scatter\"},{\"hovertemplate\":\"Country=DENMARK<extra></extra>\",\"legendgroup\":\"DENMARK\",\"marker\":{\"color\":\"#FF7F0E\",\"symbol\":\"circle\"},\"mode\":\"lines\",\"name\":\"DENMARK\",\"showlegend\":false,\"xaxis\":\"x\",\"yaxis\":\"y\",\"type\":\"scatter\"},{\"hovertemplate\":\"Country=DJIBOUTI<br>AverageTemperature=%{x}<br>GHG=%{y}<extra></extra>\",\"legendgroup\":\"DJIBOUTI\",\"marker\":{\"color\":\"#2CA02C\",\"symbol\":\"circle\"},\"mode\":\"markers\",\"name\":\"DJIBOUTI\",\"orientation\":\"v\",\"showlegend\":true,\"x\":[1474.7299166666667],\"xaxis\":\"x\",\"y\":[175674144.0],\"yaxis\":\"y\",\"type\":\"scatter\"},{\"hovertemplate\":\"Country=DJIBOUTI<extra></extra>\",\"legendgroup\":\"DJIBOUTI\",\"marker\":{\"color\":\"#2CA02C\",\"symbol\":\"circle\"},\"mode\":\"lines\",\"name\":\"DJIBOUTI\",\"showlegend\":false,\"xaxis\":\"x\",\"yaxis\":\"y\",\"type\":\"scatter\"},{\"hovertemplate\":\"Country=DOMINICA<br>AverageTemperature=%{x}<br>GHG=%{y}<extra></extra>\",\"legendgroup\":\"DOMINICA\",\"marker\":{\"color\":\"#D62728\",\"symbol\":\"circle\"},\"mode\":\"markers\",\"name\":\"DOMINICA\",\"orientation\":\"v\",\"showlegend\":true,\"x\":[1349.39625],\"xaxis\":\"x\",\"y\":[26611632.0],\"yaxis\":\"y\",\"type\":\"scatter\"},{\"hovertemplate\":\"Country=DOMINICA<extra></extra>\",\"legendgroup\":\"DOMINICA\",\"marker\":{\"color\":\"#D62728\",\"symbol\":\"circle\"},\"mode\":\"lines\",\"name\":\"DOMINICA\",\"showlegend\":false,\"xaxis\":\"x\",\"yaxis\":\"y\",\"type\":\"scatter\"},{\"hovertemplate\":\"Country=DOMINICAN REPUBLIC<br>AverageTemperature=%{x}<br>GHG=%{y}<extra></extra>\",\"legendgroup\":\"DOMINICAN REPUBLIC\",\"marker\":{\"color\":\"#9467BD\",\"symbol\":\"circle\"},\"mode\":\"markers\",\"name\":\"DOMINICAN REPUBLIC\",\"orientation\":\"v\",\"showlegend\":true,\"x\":[1320.5200833333333],\"xaxis\":\"x\",\"y\":[4441986873.0],\"yaxis\":\"y\",\"type\":\"scatter\"},{\"hovertemplate\":\"Country=DOMINICAN REPUBLIC<extra></extra>\",\"legendgroup\":\"DOMINICAN REPUBLIC\",\"marker\":{\"color\":\"#9467BD\",\"symbol\":\"circle\"},\"mode\":\"lines\",\"name\":\"DOMINICAN REPUBLIC\",\"showlegend\":false,\"xaxis\":\"x\",\"yaxis\":\"y\",\"type\":\"scatter\"},{\"hovertemplate\":\"Country=ECUADOR<br>AverageTemperature=%{x}<br>GHG=%{y}<extra></extra>\",\"legendgroup\":\"ECUADOR\",\"marker\":{\"color\":\"#8C564B\",\"symbol\":\"circle\"},\"mode\":\"markers\",\"name\":\"ECUADOR\",\"orientation\":\"v\",\"showlegend\":true,\"x\":[1127.92975],\"xaxis\":\"x\",\"y\":[8365825027.0],\"yaxis\":\"y\",\"type\":\"scatter\"},{\"hovertemplate\":\"Country=ECUADOR<extra></extra>\",\"legendgroup\":\"ECUADOR\",\"marker\":{\"color\":\"#8C564B\",\"symbol\":\"circle\"},\"mode\":\"lines\",\"name\":\"ECUADOR\",\"showlegend\":false,\"xaxis\":\"x\",\"yaxis\":\"y\",\"type\":\"scatter\"},{\"hovertemplate\":\"Country=EGYPT<br>AverageTemperature=%{x}<br>GHG=%{y}<extra></extra>\",\"legendgroup\":\"EGYPT\",\"marker\":{\"color\":\"#E377C2\",\"symbol\":\"circle\"},\"mode\":\"markers\",\"name\":\"EGYPT\",\"orientation\":\"v\",\"showlegend\":true,\"x\":[1171.2639166666665],\"xaxis\":\"x\",\"y\":[40314686259.0],\"yaxis\":\"y\",\"type\":\"scatter\"},{\"hovertemplate\":\"Country=EGYPT<extra></extra>\",\"legendgroup\":\"EGYPT\",\"marker\":{\"color\":\"#E377C2\",\"symbol\":\"circle\"},\"mode\":\"lines\",\"name\":\"EGYPT\",\"showlegend\":false,\"xaxis\":\"x\",\"yaxis\":\"y\",\"type\":\"scatter\"},{\"hovertemplate\":\"Country=EL SALVADOR<br>AverageTemperature=%{x}<br>GHG=%{y}<extra></extra>\",\"legendgroup\":\"EL SALVADOR\",\"marker\":{\"color\":\"#7F7F7F\",\"symbol\":\"circle\"},\"mode\":\"markers\",\"name\":\"EL SALVADOR\",\"orientation\":\"v\",\"showlegend\":true,\"x\":[1289.7040833333333],\"xaxis\":\"x\",\"y\":[1685255119.0],\"yaxis\":\"y\",\"type\":\"scatter\"},{\"hovertemplate\":\"Country=EL SALVADOR<extra></extra>\",\"legendgroup\":\"EL SALVADOR\",\"marker\":{\"color\":\"#7F7F7F\",\"symbol\":\"circle\"},\"mode\":\"lines\",\"name\":\"EL SALVADOR\",\"showlegend\":false,\"xaxis\":\"x\",\"yaxis\":\"y\",\"type\":\"scatter\"},{\"hovertemplate\":\"Country=EQUATORIAL GUINEA<br>AverageTemperature=%{x}<br>GHG=%{y}<extra></extra>\",\"legendgroup\":\"EQUATORIAL GUINEA\",\"marker\":{\"color\":\"#BCBD22\",\"symbol\":\"circle\"},\"mode\":\"markers\",\"name\":\"EQUATORIAL GUINEA\",\"orientation\":\"v\",\"showlegend\":true,\"x\":[1280.857],\"xaxis\":\"x\",\"y\":[59576640.0],\"yaxis\":\"y\",\"type\":\"scatter\"},{\"hovertemplate\":\"Country=EQUATORIAL GUINEA<extra></extra>\",\"legendgroup\":\"EQUATORIAL GUINEA\",\"marker\":{\"color\":\"#BCBD22\",\"symbol\":\"circle\"},\"mode\":\"lines\",\"name\":\"EQUATORIAL GUINEA\",\"showlegend\":false,\"xaxis\":\"x\",\"yaxis\":\"y\",\"type\":\"scatter\"},{\"hovertemplate\":\"Country=ERITREA<br>AverageTemperature=%{x}<br>GHG=%{y}<extra></extra>\",\"legendgroup\":\"ERITREA\",\"marker\":{\"color\":\"#17BECF\",\"symbol\":\"circle\"},\"mode\":\"markers\",\"name\":\"ERITREA\",\"orientation\":\"v\",\"showlegend\":true,\"x\":[1372.2099166666667],\"xaxis\":\"x\",\"y\":[27218264.0],\"yaxis\":\"y\",\"type\":\"scatter\"},{\"hovertemplate\":\"Country=ERITREA<extra></extra>\",\"legendgroup\":\"ERITREA\",\"marker\":{\"color\":\"#17BECF\",\"symbol\":\"circle\"},\"mode\":\"lines\",\"name\":\"ERITREA\",\"showlegend\":false,\"xaxis\":\"x\",\"yaxis\":\"y\",\"type\":\"scatter\"},{\"hovertemplate\":\"Country=ESTONIA<br>AverageTemperature=%{x}<br>GHG=%{y}<extra></extra>\",\"legendgroup\":\"ESTONIA\",\"marker\":{\"color\":\"#1F77B4\",\"symbol\":\"circle\"},\"mode\":\"markers\",\"name\":\"ESTONIA\",\"orientation\":\"v\",\"showlegend\":true,\"x\":[265.62575],\"xaxis\":\"x\",\"y\":[16444370948.0],\"yaxis\":\"y\",\"type\":\"scatter\"},{\"hovertemplate\":\"Country=ESTONIA<extra></extra>\",\"legendgroup\":\"ESTONIA\",\"marker\":{\"color\":\"#1F77B4\",\"symbol\":\"circle\"},\"mode\":\"lines\",\"name\":\"ESTONIA\",\"showlegend\":false,\"xaxis\":\"x\",\"yaxis\":\"y\",\"type\":\"scatter\"},{\"hovertemplate\":\"Country=ETHIOPIA<br>AverageTemperature=%{x}<br>GHG=%{y}<extra></extra>\",\"legendgroup\":\"ETHIOPIA\",\"marker\":{\"color\":\"#FF7F0E\",\"symbol\":\"circle\"},\"mode\":\"markers\",\"name\":\"ETHIOPIA\",\"orientation\":\"v\",\"showlegend\":true,\"x\":[1179.9220833333334],\"xaxis\":\"x\",\"y\":[1292017060.0],\"yaxis\":\"y\",\"type\":\"scatter\"},{\"hovertemplate\":\"Country=ETHIOPIA<extra></extra>\",\"legendgroup\":\"ETHIOPIA\",\"marker\":{\"color\":\"#FF7F0E\",\"symbol\":\"circle\"},\"mode\":\"lines\",\"name\":\"ETHIOPIA\",\"showlegend\":false,\"xaxis\":\"x\",\"yaxis\":\"y\",\"type\":\"scatter\"},{\"hovertemplate\":\"Country=FALKLAND ISLANDS (MALVINAS)<br>AverageTemperature=%{x}<br>GHG=%{y}<extra></extra>\",\"legendgroup\":\"FALKLAND ISLANDS (MALVINAS)\",\"marker\":{\"color\":\"#2CA02C\",\"symbol\":\"circle\"},\"mode\":\"markers\",\"name\":\"FALKLAND ISLANDS (MALVINAS)\",\"orientation\":\"v\",\"showlegend\":true,\"x\":[326.3706666666667],\"xaxis\":\"x\",\"y\":[0.0],\"yaxis\":\"y\",\"type\":\"scatter\"},{\"hovertemplate\":\"Country=FALKLAND ISLANDS (MALVINAS)<extra></extra>\",\"legendgroup\":\"FALKLAND ISLANDS (MALVINAS)\",\"marker\":{\"color\":\"#2CA02C\",\"symbol\":\"circle\"},\"mode\":\"lines\",\"name\":\"FALKLAND ISLANDS (MALVINAS)\",\"showlegend\":false,\"xaxis\":\"x\",\"yaxis\":\"y\",\"type\":\"scatter\"},{\"hovertemplate\":\"Country=FAROE ISLANDS<br>AverageTemperature=%{x}<br>GHG=%{y}<extra></extra>\",\"legendgroup\":\"FAROE ISLANDS\",\"marker\":{\"color\":\"#D62728\",\"symbol\":\"circle\"},\"mode\":\"markers\",\"name\":\"FAROE ISLANDS\",\"orientation\":\"v\",\"showlegend\":true,\"x\":[351.5875],\"xaxis\":\"x\",\"y\":[0.0],\"yaxis\":\"y\",\"type\":\"scatter\"},{\"hovertemplate\":\"Country=FAROE ISLANDS<extra></extra>\",\"legendgroup\":\"FAROE ISLANDS\",\"marker\":{\"color\":\"#D62728\",\"symbol\":\"circle\"},\"mode\":\"lines\",\"name\":\"FAROE ISLANDS\",\"showlegend\":false,\"xaxis\":\"x\",\"yaxis\":\"y\",\"type\":\"scatter\"},{\"hovertemplate\":\"Country=FEDERATED STATES OF MICRONESIA<br>AverageTemperature=%{x}<br>GHG=%{y}<extra></extra>\",\"legendgroup\":\"FEDERATED STATES OF MICRONESIA\",\"marker\":{\"color\":\"#9467BD\",\"symbol\":\"circle\"},\"mode\":\"markers\",\"name\":\"FEDERATED STATES OF MICRONESIA\",\"orientation\":\"v\",\"showlegend\":true,\"x\":[1380.1954166666667],\"xaxis\":\"x\",\"y\":[0.0],\"yaxis\":\"y\",\"type\":\"scatter\"},{\"hovertemplate\":\"Country=FEDERATED STATES OF MICRONESIA<extra></extra>\",\"legendgroup\":\"FEDERATED STATES OF MICRONESIA\",\"marker\":{\"color\":\"#9467BD\",\"symbol\":\"circle\"},\"mode\":\"lines\",\"name\":\"FEDERATED STATES OF MICRONESIA\",\"showlegend\":false,\"xaxis\":\"x\",\"yaxis\":\"y\",\"type\":\"scatter\"},{\"hovertemplate\":\"Country=FIJI<br>AverageTemperature=%{x}<br>GHG=%{y}<extra></extra>\",\"legendgroup\":\"FIJI\",\"marker\":{\"color\":\"#8C564B\",\"symbol\":\"circle\"},\"mode\":\"markers\",\"name\":\"FIJI\",\"orientation\":\"v\",\"showlegend\":true,\"x\":[1290.2811666666666],\"xaxis\":\"x\",\"y\":[519129258.0],\"yaxis\":\"y\",\"type\":\"scatter\"},{\"hovertemplate\":\"Country=FIJI<extra></extra>\",\"legendgroup\":\"FIJI\",\"marker\":{\"color\":\"#8C564B\",\"symbol\":\"circle\"},\"mode\":\"lines\",\"name\":\"FIJI\",\"showlegend\":false,\"xaxis\":\"x\",\"yaxis\":\"y\",\"type\":\"scatter\"},{\"hovertemplate\":\"Country=FINLAND<br>AverageTemperature=%{x}<br>GHG=%{y}<extra></extra>\",\"legendgroup\":\"FINLAND\",\"marker\":{\"color\":\"#E377C2\",\"symbol\":\"circle\"},\"mode\":\"markers\",\"name\":\"FINLAND\",\"orientation\":\"v\",\"showlegend\":true,\"x\":[82.61291666666666],\"xaxis\":\"x\",\"y\":[43719702699.0],\"yaxis\":\"y\",\"type\":\"scatter\"},{\"hovertemplate\":\"Country=FINLAND<extra></extra>\",\"legendgroup\":\"FINLAND\",\"marker\":{\"color\":\"#E377C2\",\"symbol\":\"circle\"},\"mode\":\"lines\",\"name\":\"FINLAND\",\"showlegend\":false,\"xaxis\":\"x\",\"yaxis\":\"y\",\"type\":\"scatter\"},{\"hovertemplate\":\"Country=FRANCE<br>AverageTemperature=%{x}<br>GHG=%{y}<extra></extra>\",\"legendgroup\":\"FRANCE\",\"marker\":{\"color\":\"#7F7F7F\",\"symbol\":\"circle\"},\"mode\":\"markers\",\"name\":\"FRANCE\",\"orientation\":\"v\",\"showlegend\":true,\"x\":[548.3181666666667],\"xaxis\":\"x\",\"y\":[1055914787866.0],\"yaxis\":\"y\",\"type\":\"scatter\"},{\"hovertemplate\":\"Country=FRANCE<extra></extra>\",\"legendgroup\":\"FRANCE\",\"marker\":{\"color\":\"#7F7F7F\",\"symbol\":\"circle\"},\"mode\":\"lines\",\"name\":\"FRANCE\",\"showlegend\":false,\"xaxis\":\"x\",\"yaxis\":\"y\",\"type\":\"scatter\"},{\"hovertemplate\":\"Country=FRENCH GUIANA<br>AverageTemperature=%{x}<br>GHG=%{y}<extra></extra>\",\"legendgroup\":\"FRENCH GUIANA\",\"marker\":{\"color\":\"#BCBD22\",\"symbol\":\"circle\"},\"mode\":\"markers\",\"name\":\"FRENCH GUIANA\",\"orientation\":\"v\",\"showlegend\":true,\"x\":[1329.47625],\"xaxis\":\"x\",\"y\":[181822336.0],\"yaxis\":\"y\",\"type\":\"scatter\"},{\"hovertemplate\":\"Country=FRENCH GUIANA<extra></extra>\",\"legendgroup\":\"FRENCH GUIANA\",\"marker\":{\"color\":\"#BCBD22\",\"symbol\":\"circle\"},\"mode\":\"lines\",\"name\":\"FRENCH GUIANA\",\"showlegend\":false,\"xaxis\":\"x\",\"yaxis\":\"y\",\"type\":\"scatter\"},{\"hovertemplate\":\"Country=FRENCH POLYNESIA<br>AverageTemperature=%{x}<br>GHG=%{y}<extra></extra>\",\"legendgroup\":\"FRENCH POLYNESIA\",\"marker\":{\"color\":\"#17BECF\",\"symbol\":\"circle\"},\"mode\":\"markers\",\"name\":\"FRENCH POLYNESIA\",\"orientation\":\"v\",\"showlegend\":true,\"x\":[1343.8093333333334],\"xaxis\":\"x\",\"y\":[209643088.0],\"yaxis\":\"y\",\"type\":\"scatter\"},{\"hovertemplate\":\"Country=FRENCH POLYNESIA<extra></extra>\",\"legendgroup\":\"FRENCH POLYNESIA\",\"marker\":{\"color\":\"#17BECF\",\"symbol\":\"circle\"},\"mode\":\"lines\",\"name\":\"FRENCH POLYNESIA\",\"showlegend\":false,\"xaxis\":\"x\",\"yaxis\":\"y\",\"type\":\"scatter\"},{\"hovertemplate\":\"Country=GABON<br>AverageTemperature=%{x}<br>GHG=%{y}<extra></extra>\",\"legendgroup\":\"GABON\",\"marker\":{\"color\":\"#1F77B4\",\"symbol\":\"circle\"},\"mode\":\"markers\",\"name\":\"GABON\",\"orientation\":\"v\",\"showlegend\":true,\"x\":[1247.0793333333334],\"xaxis\":\"x\",\"y\":[2733599490.0],\"yaxis\":\"y\",\"type\":\"scatter\"},{\"hovertemplate\":\"Country=GABON<extra></extra>\",\"legendgroup\":\"GABON\",\"marker\":{\"color\":\"#1F77B4\",\"symbol\":\"circle\"},\"mode\":\"lines\",\"name\":\"GABON\",\"showlegend\":false,\"xaxis\":\"x\",\"yaxis\":\"y\",\"type\":\"scatter\"},{\"hovertemplate\":\"Country=GEORGIA<br>AverageTemperature=%{x}<br>GHG=%{y}<extra></extra>\",\"legendgroup\":\"GEORGIA\",\"marker\":{\"color\":\"#FF7F0E\",\"symbol\":\"circle\"},\"mode\":\"markers\",\"name\":\"GEORGIA\",\"orientation\":\"v\",\"showlegend\":true,\"x\":[437.86133333333333],\"xaxis\":\"x\",\"y\":[10178562886.0],\"yaxis\":\"y\",\"type\":\"scatter\"},{\"hovertemplate\":\"Country=GEORGIA<extra></extra>\",\"legendgroup\":\"GEORGIA\",\"marker\":{\"color\":\"#FF7F0E\",\"symbol\":\"circle\"},\"mode\":\"lines\",\"name\":\"GEORGIA\",\"showlegend\":false,\"xaxis\":\"x\",\"yaxis\":\"y\",\"type\":\"scatter\"},{\"hovertemplate\":\"Country=GERMANY<br>AverageTemperature=%{x}<br>GHG=%{y}<extra></extra>\",\"legendgroup\":\"GERMANY\",\"marker\":{\"color\":\"#2CA02C\",\"symbol\":\"circle\"},\"mode\":\"markers\",\"name\":\"GERMANY\",\"orientation\":\"v\",\"showlegend\":true,\"x\":[434.48675],\"xaxis\":\"x\",\"y\":[2629957446676.0],\"yaxis\":\"y\",\"type\":\"scatter\"},{\"hovertemplate\":\"Country=GERMANY<extra></extra>\",\"legendgroup\":\"GERMANY\",\"marker\":{\"color\":\"#2CA02C\",\"symbol\":\"circle\"},\"mode\":\"lines\",\"name\":\"GERMANY\",\"showlegend\":false,\"xaxis\":\"x\",\"yaxis\":\"y\",\"type\":\"scatter\"},{\"hovertemplate\":\"Country=GHANA<br>AverageTemperature=%{x}<br>GHG=%{y}<extra></extra>\",\"legendgroup\":\"GHANA\",\"marker\":{\"color\":\"#D62728\",\"symbol\":\"circle\"},\"mode\":\"markers\",\"name\":\"GHANA\",\"orientation\":\"v\",\"showlegend\":true,\"x\":[1372.9875],\"xaxis\":\"x\",\"y\":[2571990500.0],\"yaxis\":\"y\",\"type\":\"scatter\"},{\"hovertemplate\":\"Country=GHANA<extra></extra>\",\"legendgroup\":\"GHANA\",\"marker\":{\"color\":\"#D62728\",\"symbol\":\"circle\"},\"mode\":\"lines\",\"name\":\"GHANA\",\"showlegend\":false,\"xaxis\":\"x\",\"yaxis\":\"y\",\"type\":\"scatter\"},{\"hovertemplate\":\"Country=GREECE<br>AverageTemperature=%{x}<br>GHG=%{y}<extra></extra>\",\"legendgroup\":\"GREECE\",\"marker\":{\"color\":\"#9467BD\",\"symbol\":\"circle\"},\"mode\":\"markers\",\"name\":\"GREECE\",\"orientation\":\"v\",\"showlegend\":true,\"x\":[767.2105],\"xaxis\":\"x\",\"y\":[36327738344.0],\"yaxis\":\"y\",\"type\":\"scatter\"},{\"hovertemplate\":\"Country=GREECE<extra></extra>\",\"legendgroup\":\"GREECE\",\"marker\":{\"color\":\"#9467BD\",\"symbol\":\"circle\"},\"mode\":\"lines\",\"name\":\"GREECE\",\"showlegend\":false,\"xaxis\":\"x\",\"yaxis\":\"y\",\"type\":\"scatter\"},{\"hovertemplate\":\"Country=GREENLAND<br>AverageTemperature=%{x}<br>GHG=%{y}<extra></extra>\",\"legendgroup\":\"GREENLAND\",\"marker\":{\"color\":\"#8C564B\",\"symbol\":\"circle\"},\"mode\":\"markers\",\"name\":\"GREENLAND\",\"orientation\":\"v\",\"showlegend\":true,\"x\":[-938.91075],\"xaxis\":\"x\",\"y\":[436884368.0],\"yaxis\":\"y\",\"type\":\"scatter\"},{\"hovertemplate\":\"Country=GREENLAND<extra></extra>\",\"legendgroup\":\"GREENLAND\",\"marker\":{\"color\":\"#8C564B\",\"symbol\":\"circle\"},\"mode\":\"lines\",\"name\":\"GREENLAND\",\"showlegend\":false,\"xaxis\":\"x\",\"yaxis\":\"y\",\"type\":\"scatter\"},{\"hovertemplate\":\"Country=GRENADA<br>AverageTemperature=%{x}<br>GHG=%{y}<extra></extra>\",\"legendgroup\":\"GRENADA\",\"marker\":{\"color\":\"#E377C2\",\"symbol\":\"circle\"},\"mode\":\"markers\",\"name\":\"GRENADA\",\"orientation\":\"v\",\"showlegend\":true,\"x\":[1382.29775],\"xaxis\":\"x\",\"y\":[47419488.0],\"yaxis\":\"y\",\"type\":\"scatter\"},{\"hovertemplate\":\"Country=GRENADA<extra></extra>\",\"legendgroup\":\"GRENADA\",\"marker\":{\"color\":\"#E377C2\",\"symbol\":\"circle\"},\"mode\":\"lines\",\"name\":\"GRENADA\",\"showlegend\":false,\"xaxis\":\"x\",\"yaxis\":\"y\",\"type\":\"scatter\"},{\"hovertemplate\":\"Country=GUADELOUPE<br>AverageTemperature=%{x}<br>GHG=%{y}<extra></extra>\",\"legendgroup\":\"GUADELOUPE\",\"marker\":{\"color\":\"#7F7F7F\",\"symbol\":\"circle\"},\"mode\":\"markers\",\"name\":\"GUADELOUPE\",\"orientation\":\"v\",\"showlegend\":true,\"x\":[1360.15125],\"xaxis\":\"x\",\"y\":[472568064.0],\"yaxis\":\"y\",\"type\":\"scatter\"},{\"hovertemplate\":\"Country=GUADELOUPE<extra></extra>\",\"legendgroup\":\"GUADELOUPE\",\"marker\":{\"color\":\"#7F7F7F\",\"symbol\":\"circle\"},\"mode\":\"lines\",\"name\":\"GUADELOUPE\",\"showlegend\":false,\"xaxis\":\"x\",\"yaxis\":\"y\",\"type\":\"scatter\"},{\"hovertemplate\":\"Country=GUAM<br>AverageTemperature=%{x}<br>GHG=%{y}<extra></extra>\",\"legendgroup\":\"GUAM\",\"marker\":{\"color\":\"#BCBD22\",\"symbol\":\"circle\"},\"mode\":\"markers\",\"name\":\"GUAM\",\"orientation\":\"v\",\"showlegend\":true,\"x\":[1385.93375],\"xaxis\":\"x\",\"y\":[0.0],\"yaxis\":\"y\",\"type\":\"scatter\"},{\"hovertemplate\":\"Country=GUAM<extra></extra>\",\"legendgroup\":\"GUAM\",\"marker\":{\"color\":\"#BCBD22\",\"symbol\":\"circle\"},\"mode\":\"lines\",\"name\":\"GUAM\",\"showlegend\":false,\"xaxis\":\"x\",\"yaxis\":\"y\",\"type\":\"scatter\"},{\"hovertemplate\":\"Country=GUATEMALA<br>AverageTemperature=%{x}<br>GHG=%{y}<extra></extra>\",\"legendgroup\":\"GUATEMALA\",\"marker\":{\"color\":\"#17BECF\",\"symbol\":\"circle\"},\"mode\":\"markers\",\"name\":\"GUATEMALA\",\"orientation\":\"v\",\"showlegend\":true,\"x\":[1197.84875],\"xaxis\":\"x\",\"y\":[2914525407.0],\"yaxis\":\"y\",\"type\":\"scatter\"},{\"hovertemplate\":\"Country=GUATEMALA<extra></extra>\",\"legendgroup\":\"GUATEMALA\",\"marker\":{\"color\":\"#17BECF\",\"symbol\":\"circle\"},\"mode\":\"lines\",\"name\":\"GUATEMALA\",\"showlegend\":false,\"xaxis\":\"x\",\"yaxis\":\"y\",\"type\":\"scatter\"},{\"hovertemplate\":\"Country=GUINEA<br>AverageTemperature=%{x}<br>GHG=%{y}<extra></extra>\",\"legendgroup\":\"GUINEA\",\"marker\":{\"color\":\"#1F77B4\",\"symbol\":\"circle\"},\"mode\":\"markers\",\"name\":\"GUINEA\",\"orientation\":\"v\",\"showlegend\":true,\"x\":[1311.6966666666667],\"xaxis\":\"x\",\"y\":[722297735.0],\"yaxis\":\"y\",\"type\":\"scatter\"},{\"hovertemplate\":\"Country=GUINEA<extra></extra>\",\"legendgroup\":\"GUINEA\",\"marker\":{\"color\":\"#1F77B4\",\"symbol\":\"circle\"},\"mode\":\"lines\",\"name\":\"GUINEA\",\"showlegend\":false,\"xaxis\":\"x\",\"yaxis\":\"y\",\"type\":\"scatter\"},{\"hovertemplate\":\"Country=GUINEA-BISSAU<br>AverageTemperature=%{x}<br>GHG=%{y}<extra></extra>\",\"legendgroup\":\"GUINEA-BISSAU\",\"marker\":{\"color\":\"#FF7F0E\",\"symbol\":\"circle\"},\"mode\":\"markers\",\"name\":\"GUINEA-BISSAU\",\"orientation\":\"v\",\"showlegend\":true,\"x\":[1378.2430833333333],\"xaxis\":\"x\",\"y\":[86419104.0],\"yaxis\":\"y\",\"type\":\"scatter\"},{\"hovertemplate\":\"Country=GUINEA-BISSAU<extra></extra>\",\"legendgroup\":\"GUINEA-BISSAU\",\"marker\":{\"color\":\"#FF7F0E\",\"symbol\":\"circle\"},\"mode\":\"lines\",\"name\":\"GUINEA-BISSAU\",\"showlegend\":false,\"xaxis\":\"x\",\"yaxis\":\"y\",\"type\":\"scatter\"},{\"hovertemplate\":\"Country=GUYANA<br>AverageTemperature=%{x}<br>GHG=%{y}<extra></extra>\",\"legendgroup\":\"GUYANA\",\"marker\":{\"color\":\"#2CA02C\",\"symbol\":\"circle\"},\"mode\":\"markers\",\"name\":\"GUYANA\",\"orientation\":\"v\",\"showlegend\":true,\"x\":[1341.16875],\"xaxis\":\"x\",\"y\":[1314251152.0],\"yaxis\":\"y\",\"type\":\"scatter\"},{\"hovertemplate\":\"Country=GUYANA<extra></extra>\",\"legendgroup\":\"GUYANA\",\"marker\":{\"color\":\"#2CA02C\",\"symbol\":\"circle\"},\"mode\":\"lines\",\"name\":\"GUYANA\",\"showlegend\":false,\"xaxis\":\"x\",\"yaxis\":\"y\",\"type\":\"scatter\"},{\"hovertemplate\":\"Country=HAITI<br>AverageTemperature=%{x}<br>GHG=%{y}<extra></extra>\",\"legendgroup\":\"HAITI\",\"marker\":{\"color\":\"#D62728\",\"symbol\":\"circle\"},\"mode\":\"markers\",\"name\":\"HAITI\",\"orientation\":\"v\",\"showlegend\":true,\"x\":[1358.3891666666666],\"xaxis\":\"x\",\"y\":[542813266.0],\"yaxis\":\"y\",\"type\":\"scatter\"},{\"hovertemplate\":\"Country=HAITI<extra></extra>\",\"legendgroup\":\"HAITI\",\"marker\":{\"color\":\"#D62728\",\"symbol\":\"circle\"},\"mode\":\"lines\",\"name\":\"HAITI\",\"showlegend\":false,\"xaxis\":\"x\",\"yaxis\":\"y\",\"type\":\"scatter\"},{\"hovertemplate\":\"Country=HEARD ISLAND AND MCDONALD ISLANDS<br>AverageTemperature=%{x}<br>GHG=%{y}<extra></extra>\",\"legendgroup\":\"HEARD ISLAND AND MCDONALD ISLANDS\",\"marker\":{\"color\":\"#9467BD\",\"symbol\":\"circle\"},\"mode\":\"markers\",\"name\":\"HEARD ISLAND AND MCDONALD ISLANDS\",\"orientation\":\"v\",\"showlegend\":true,\"x\":[128.33994696969697],\"xaxis\":\"x\",\"y\":[0.0],\"yaxis\":\"y\",\"type\":\"scatter\"},{\"hovertemplate\":\"Country=HEARD ISLAND AND MCDONALD ISLANDS<extra></extra>\",\"legendgroup\":\"HEARD ISLAND AND MCDONALD ISLANDS\",\"marker\":{\"color\":\"#9467BD\",\"symbol\":\"circle\"},\"mode\":\"lines\",\"name\":\"HEARD ISLAND AND MCDONALD ISLANDS\",\"showlegend\":false,\"xaxis\":\"x\",\"yaxis\":\"y\",\"type\":\"scatter\"},{\"hovertemplate\":\"Country=HONDURAS<br>AverageTemperature=%{x}<br>GHG=%{y}<extra></extra>\",\"legendgroup\":\"HONDURAS\",\"marker\":{\"color\":\"#8C564B\",\"symbol\":\"circle\"},\"mode\":\"markers\",\"name\":\"HONDURAS\",\"orientation\":\"v\",\"showlegend\":true,\"x\":[1279.0983333333334],\"xaxis\":\"x\",\"y\":[1482600934.0],\"yaxis\":\"y\",\"type\":\"scatter\"},{\"hovertemplate\":\"Country=HONDURAS<extra></extra>\",\"legendgroup\":\"HONDURAS\",\"marker\":{\"color\":\"#8C564B\",\"symbol\":\"circle\"},\"mode\":\"lines\",\"name\":\"HONDURAS\",\"showlegend\":false,\"xaxis\":\"x\",\"yaxis\":\"y\",\"type\":\"scatter\"},{\"hovertemplate\":\"Country=HONG KONG<br>AverageTemperature=%{x}<br>GHG=%{y}<extra></extra>\",\"legendgroup\":\"HONG KONG\",\"marker\":{\"color\":\"#E377C2\",\"symbol\":\"circle\"},\"mode\":\"markers\",\"name\":\"HONG KONG\",\"orientation\":\"v\",\"showlegend\":true,\"x\":[1172.6038333333333],\"xaxis\":\"x\",\"y\":[11435529215.0],\"yaxis\":\"y\",\"type\":\"scatter\"},{\"hovertemplate\":\"Country=HONG KONG<extra></extra>\",\"legendgroup\":\"HONG KONG\",\"marker\":{\"color\":\"#E377C2\",\"symbol\":\"circle\"},\"mode\":\"lines\",\"name\":\"HONG KONG\",\"showlegend\":false,\"xaxis\":\"x\",\"yaxis\":\"y\",\"type\":\"scatter\"},{\"hovertemplate\":\"Country=HUNGARY<br>AverageTemperature=%{x}<br>GHG=%{y}<extra></extra>\",\"legendgroup\":\"HUNGARY\",\"marker\":{\"color\":\"#7F7F7F\",\"symbol\":\"circle\"},\"mode\":\"markers\",\"name\":\"HUNGARY\",\"orientation\":\"v\",\"showlegend\":true,\"x\":[512.6545],\"xaxis\":\"x\",\"y\":[112431356586.0],\"yaxis\":\"y\",\"type\":\"scatter\"},{\"hovertemplate\":\"Country=HUNGARY<extra></extra>\",\"legendgroup\":\"HUNGARY\",\"marker\":{\"color\":\"#7F7F7F\",\"symbol\":\"circle\"},\"mode\":\"lines\",\"name\":\"HUNGARY\",\"showlegend\":false,\"xaxis\":\"x\",\"yaxis\":\"y\",\"type\":\"scatter\"},{\"hovertemplate\":\"Country=ICELAND<br>AverageTemperature=%{x}<br>GHG=%{y}<extra></extra>\",\"legendgroup\":\"ICELAND\",\"marker\":{\"color\":\"#BCBD22\",\"symbol\":\"circle\"},\"mode\":\"markers\",\"name\":\"ICELAND\",\"orientation\":\"v\",\"showlegend\":true,\"x\":[84.21175],\"xaxis\":\"x\",\"y\":[1794444798.0],\"yaxis\":\"y\",\"type\":\"scatter\"},{\"hovertemplate\":\"Country=ICELAND<extra></extra>\",\"legendgroup\":\"ICELAND\",\"marker\":{\"color\":\"#BCBD22\",\"symbol\":\"circle\"},\"mode\":\"lines\",\"name\":\"ICELAND\",\"showlegend\":false,\"xaxis\":\"x\",\"yaxis\":\"y\",\"type\":\"scatter\"},{\"hovertemplate\":\"Country=INDIA<br>AverageTemperature=%{x}<br>GHG=%{y}<extra></extra>\",\"legendgroup\":\"INDIA\",\"marker\":{\"color\":\"#17BECF\",\"symbol\":\"circle\"},\"mode\":\"markers\",\"name\":\"INDIA\",\"orientation\":\"v\",\"showlegend\":true,\"x\":[1236.15875],\"xaxis\":\"x\",\"y\":[385598110245.0],\"yaxis\":\"y\",\"type\":\"scatter\"},{\"hovertemplate\":\"Country=INDIA<extra></extra>\",\"legendgroup\":\"INDIA\",\"marker\":{\"color\":\"#17BECF\",\"symbol\":\"circle\"},\"mode\":\"lines\",\"name\":\"INDIA\",\"showlegend\":false,\"xaxis\":\"x\",\"yaxis\":\"y\",\"type\":\"scatter\"},{\"hovertemplate\":\"Country=INDONESIA<br>AverageTemperature=%{x}<br>GHG=%{y}<extra></extra>\",\"legendgroup\":\"INDONESIA\",\"marker\":{\"color\":\"#1F77B4\",\"symbol\":\"circle\"},\"mode\":\"markers\",\"name\":\"INDONESIA\",\"orientation\":\"v\",\"showlegend\":true,\"x\":[1326.9144166666667],\"xaxis\":\"x\",\"y\":[93923394279.0],\"yaxis\":\"y\",\"type\":\"scatter\"},{\"hovertemplate\":\"Country=INDONESIA<extra></extra>\",\"legendgroup\":\"INDONESIA\",\"marker\":{\"color\":\"#1F77B4\",\"symbol\":\"circle\"},\"mode\":\"lines\",\"name\":\"INDONESIA\",\"showlegend\":false,\"xaxis\":\"x\",\"yaxis\":\"y\",\"type\":\"scatter\"},{\"hovertemplate\":\"Country=IRAN<br>AverageTemperature=%{x}<br>GHG=%{y}<extra></extra>\",\"legendgroup\":\"IRAN\",\"marker\":{\"color\":\"#FF7F0E\",\"symbol\":\"circle\"},\"mode\":\"markers\",\"name\":\"IRAN\",\"orientation\":\"v\",\"showlegend\":true,\"x\":[911.9254166666667],\"xaxis\":\"x\",\"y\":[145620650439.0],\"yaxis\":\"y\",\"type\":\"scatter\"},{\"hovertemplate\":\"Country=IRAN<extra></extra>\",\"legendgroup\":\"IRAN\",\"marker\":{\"color\":\"#FF7F0E\",\"symbol\":\"circle\"},\"mode\":\"lines\",\"name\":\"IRAN\",\"showlegend\":false,\"xaxis\":\"x\",\"yaxis\":\"y\",\"type\":\"scatter\"},{\"hovertemplate\":\"Country=IRAQ<br>AverageTemperature=%{x}<br>GHG=%{y}<extra></extra>\",\"legendgroup\":\"IRAQ\",\"marker\":{\"color\":\"#2CA02C\",\"symbol\":\"circle\"},\"mode\":\"markers\",\"name\":\"IRAQ\",\"orientation\":\"v\",\"showlegend\":true,\"x\":[1129.8071666666667],\"xaxis\":\"x\",\"y\":[34703738415.0],\"yaxis\":\"y\",\"type\":\"scatter\"},{\"hovertemplate\":\"Country=IRAQ<extra></extra>\",\"legendgroup\":\"IRAQ\",\"marker\":{\"color\":\"#2CA02C\",\"symbol\":\"circle\"},\"mode\":\"lines\",\"name\":\"IRAQ\",\"showlegend\":false,\"xaxis\":\"x\",\"yaxis\":\"y\",\"type\":\"scatter\"},{\"hovertemplate\":\"Country=IRELAND<br>AverageTemperature=%{x}<br>GHG=%{y}<extra></extra>\",\"legendgroup\":\"IRELAND\",\"marker\":{\"color\":\"#D62728\",\"symbol\":\"circle\"},\"mode\":\"markers\",\"name\":\"IRELAND\",\"orientation\":\"v\",\"showlegend\":true,\"x\":[494.82716666666664],\"xaxis\":\"x\",\"y\":[34289900779.0],\"yaxis\":\"y\",\"type\":\"scatter\"},{\"hovertemplate\":\"Country=IRELAND<extra></extra>\",\"legendgroup\":\"IRELAND\",\"marker\":{\"color\":\"#D62728\",\"symbol\":\"circle\"},\"mode\":\"lines\",\"name\":\"IRELAND\",\"showlegend\":false,\"xaxis\":\"x\",\"yaxis\":\"y\",\"type\":\"scatter\"},{\"hovertemplate\":\"Country=ISRAEL<br>AverageTemperature=%{x}<br>GHG=%{y}<extra></extra>\",\"legendgroup\":\"ISRAEL\",\"marker\":{\"color\":\"#9467BD\",\"symbol\":\"circle\"},\"mode\":\"markers\",\"name\":\"ISRAEL\",\"orientation\":\"v\",\"showlegend\":true,\"x\":[1019.7719166666666],\"xaxis\":\"x\",\"y\":[17836125259.0],\"yaxis\":\"y\",\"type\":\"scatter\"},{\"hovertemplate\":\"Country=ISRAEL<extra></extra>\",\"legendgroup\":\"ISRAEL\",\"marker\":{\"color\":\"#9467BD\",\"symbol\":\"circle\"},\"mode\":\"lines\",\"name\":\"ISRAEL\",\"showlegend\":false,\"xaxis\":\"x\",\"yaxis\":\"y\",\"type\":\"scatter\"},{\"hovertemplate\":\"Country=ITALY<br>AverageTemperature=%{x}<br>GHG=%{y}<extra></extra>\",\"legendgroup\":\"ITALY\",\"marker\":{\"color\":\"#8C564B\",\"symbol\":\"circle\"},\"mode\":\"markers\",\"name\":\"ITALY\",\"orientation\":\"v\",\"showlegend\":true,\"x\":[666.71075],\"xaxis\":\"x\",\"y\":[364733477281.0],\"yaxis\":\"y\",\"type\":\"scatter\"},{\"hovertemplate\":\"Country=ITALY<extra></extra>\",\"legendgroup\":\"ITALY\",\"marker\":{\"color\":\"#8C564B\",\"symbol\":\"circle\"},\"mode\":\"lines\",\"name\":\"ITALY\",\"showlegend\":false,\"xaxis\":\"x\",\"yaxis\":\"y\",\"type\":\"scatter\"},{\"hovertemplate\":\"Country=JAMAICA<br>AverageTemperature=%{x}<br>GHG=%{y}<extra></extra>\",\"legendgroup\":\"JAMAICA\",\"marker\":{\"color\":\"#E377C2\",\"symbol\":\"circle\"},\"mode\":\"markers\",\"name\":\"JAMAICA\",\"orientation\":\"v\",\"showlegend\":true,\"x\":[1347.952],\"xaxis\":\"x\",\"y\":[5019864038.0],\"yaxis\":\"y\",\"type\":\"scatter\"},{\"hovertemplate\":\"Country=JAMAICA<extra></extra>\",\"legendgroup\":\"JAMAICA\",\"marker\":{\"color\":\"#E377C2\",\"symbol\":\"circle\"},\"mode\":\"lines\",\"name\":\"JAMAICA\",\"showlegend\":false,\"xaxis\":\"x\",\"yaxis\":\"y\",\"type\":\"scatter\"},{\"hovertemplate\":\"Country=JAPAN<br>AverageTemperature=%{x}<br>GHG=%{y}<extra></extra>\",\"legendgroup\":\"JAPAN\",\"marker\":{\"color\":\"#7F7F7F\",\"symbol\":\"circle\"},\"mode\":\"markers\",\"name\":\"JAPAN\",\"orientation\":\"v\",\"showlegend\":true,\"x\":[629.9704166666667],\"xaxis\":\"x\",\"y\":[880908690865.0],\"yaxis\":\"y\",\"type\":\"scatter\"},{\"hovertemplate\":\"Country=JAPAN<extra></extra>\",\"legendgroup\":\"JAPAN\",\"marker\":{\"color\":\"#7F7F7F\",\"symbol\":\"circle\"},\"mode\":\"lines\",\"name\":\"JAPAN\",\"showlegend\":false,\"xaxis\":\"x\",\"yaxis\":\"y\",\"type\":\"scatter\"},{\"hovertemplate\":\"Country=JORDAN<br>AverageTemperature=%{x}<br>GHG=%{y}<extra></extra>\",\"legendgroup\":\"JORDAN\",\"marker\":{\"color\":\"#BCBD22\",\"symbol\":\"circle\"},\"mode\":\"markers\",\"name\":\"JORDAN\",\"orientation\":\"v\",\"showlegend\":true,\"x\":[1006.2500833333334],\"xaxis\":\"x\",\"y\":[3311197250.0],\"yaxis\":\"y\",\"type\":\"scatter\"},{\"hovertemplate\":\"Country=JORDAN<extra></extra>\",\"legendgroup\":\"JORDAN\",\"marker\":{\"color\":\"#BCBD22\",\"symbol\":\"circle\"},\"mode\":\"lines\",\"name\":\"JORDAN\",\"showlegend\":false,\"xaxis\":\"x\",\"yaxis\":\"y\",\"type\":\"scatter\"},{\"hovertemplate\":\"Country=KAZAKHSTAN<br>AverageTemperature=%{x}<br>GHG=%{y}<extra></extra>\",\"legendgroup\":\"KAZAKHSTAN\",\"marker\":{\"color\":\"#17BECF\",\"symbol\":\"circle\"},\"mode\":\"markers\",\"name\":\"KAZAKHSTAN\",\"orientation\":\"v\",\"showlegend\":true,\"x\":[292.1711666666667],\"xaxis\":\"x\",\"y\":[175508369644.0],\"yaxis\":\"y\",\"type\":\"scatter\"},{\"hovertemplate\":\"Country=KAZAKHSTAN<extra></extra>\",\"legendgroup\":\"KAZAKHSTAN\",\"marker\":{\"color\":\"#17BECF\",\"symbol\":\"circle\"},\"mode\":\"lines\",\"name\":\"KAZAKHSTAN\",\"showlegend\":false,\"xaxis\":\"x\",\"yaxis\":\"y\",\"type\":\"scatter\"},{\"hovertemplate\":\"Country=KENYA<br>AverageTemperature=%{x}<br>GHG=%{y}<extra></extra>\",\"legendgroup\":\"KENYA\",\"marker\":{\"color\":\"#1F77B4\",\"symbol\":\"circle\"},\"mode\":\"markers\",\"name\":\"KENYA\",\"orientation\":\"v\",\"showlegend\":true,\"x\":[1237.5715],\"xaxis\":\"x\",\"y\":[4207302273.0],\"yaxis\":\"y\",\"type\":\"scatter\"},{\"hovertemplate\":\"Country=KENYA<extra></extra>\",\"legendgroup\":\"KENYA\",\"marker\":{\"color\":\"#1F77B4\",\"symbol\":\"circle\"},\"mode\":\"lines\",\"name\":\"KENYA\",\"showlegend\":false,\"xaxis\":\"x\",\"yaxis\":\"y\",\"type\":\"scatter\"},{\"hovertemplate\":\"Country=KIRIBATI<br>AverageTemperature=%{x}<br>GHG=%{y}<extra></extra>\",\"legendgroup\":\"KIRIBATI\",\"marker\":{\"color\":\"#FF7F0E\",\"symbol\":\"circle\"},\"mode\":\"markers\",\"name\":\"KIRIBATI\",\"orientation\":\"v\",\"showlegend\":true,\"x\":[1373.6976666666667],\"xaxis\":\"x\",\"y\":[18257712.0],\"yaxis\":\"y\",\"type\":\"scatter\"},{\"hovertemplate\":\"Country=KIRIBATI<extra></extra>\",\"legendgroup\":\"KIRIBATI\",\"marker\":{\"color\":\"#FF7F0E\",\"symbol\":\"circle\"},\"mode\":\"lines\",\"name\":\"KIRIBATI\",\"showlegend\":false,\"xaxis\":\"x\",\"yaxis\":\"y\",\"type\":\"scatter\"},{\"hovertemplate\":\"Country=KUWAIT<br>AverageTemperature=%{x}<br>GHG=%{y}<extra></extra>\",\"legendgroup\":\"KUWAIT\",\"marker\":{\"color\":\"#2CA02C\",\"symbol\":\"circle\"},\"mode\":\"markers\",\"name\":\"KUWAIT\",\"orientation\":\"v\",\"showlegend\":true,\"x\":[1294.8755833333332],\"xaxis\":\"x\",\"y\":[21827550292.0],\"yaxis\":\"y\",\"type\":\"scatter\"},{\"hovertemplate\":\"Country=KUWAIT<extra></extra>\",\"legendgroup\":\"KUWAIT\",\"marker\":{\"color\":\"#2CA02C\",\"symbol\":\"circle\"},\"mode\":\"lines\",\"name\":\"KUWAIT\",\"showlegend\":false,\"xaxis\":\"x\",\"yaxis\":\"y\",\"type\":\"scatter\"},{\"hovertemplate\":\"Country=KYRGYZSTAN<br>AverageTemperature=%{x}<br>GHG=%{y}<extra></extra>\",\"legendgroup\":\"KYRGYZSTAN\",\"marker\":{\"color\":\"#D62728\",\"symbol\":\"circle\"},\"mode\":\"markers\",\"name\":\"KYRGYZSTAN\",\"orientation\":\"v\",\"showlegend\":true,\"x\":[185.47175],\"xaxis\":\"x\",\"y\":[321930327.0],\"yaxis\":\"y\",\"type\":\"scatter\"},{\"hovertemplate\":\"Country=KYRGYZSTAN<extra></extra>\",\"legendgroup\":\"KYRGYZSTAN\",\"marker\":{\"color\":\"#D62728\",\"symbol\":\"circle\"},\"mode\":\"lines\",\"name\":\"KYRGYZSTAN\",\"showlegend\":false,\"xaxis\":\"x\",\"yaxis\":\"y\",\"type\":\"scatter\"},{\"hovertemplate\":\"Country=LAOS<br>AverageTemperature=%{x}<br>GHG=%{y}<extra></extra>\",\"legendgroup\":\"LAOS\",\"marker\":{\"color\":\"#9467BD\",\"symbol\":\"circle\"},\"mode\":\"markers\",\"name\":\"LAOS\",\"orientation\":\"v\",\"showlegend\":true,\"x\":[1220.1534166666668],\"xaxis\":\"x\",\"y\":[227442331.0],\"yaxis\":\"y\",\"type\":\"scatter\"},{\"hovertemplate\":\"Country=LAOS<extra></extra>\",\"legendgroup\":\"LAOS\",\"marker\":{\"color\":\"#9467BD\",\"symbol\":\"circle\"},\"mode\":\"lines\",\"name\":\"LAOS\",\"showlegend\":false,\"xaxis\":\"x\",\"yaxis\":\"y\",\"type\":\"scatter\"},{\"hovertemplate\":\"Country=LATVIA<br>AverageTemperature=%{x}<br>GHG=%{y}<extra></extra>\",\"legendgroup\":\"LATVIA\",\"marker\":{\"color\":\"#8C564B\",\"symbol\":\"circle\"},\"mode\":\"markers\",\"name\":\"LATVIA\",\"orientation\":\"v\",\"showlegend\":true,\"x\":[291.4945],\"xaxis\":\"x\",\"y\":[9671352782.0],\"yaxis\":\"y\",\"type\":\"scatter\"},{\"hovertemplate\":\"Country=LATVIA<extra></extra>\",\"legendgroup\":\"LATVIA\",\"marker\":{\"color\":\"#8C564B\",\"symbol\":\"circle\"},\"mode\":\"lines\",\"name\":\"LATVIA\",\"showlegend\":false,\"xaxis\":\"x\",\"yaxis\":\"y\",\"type\":\"scatter\"},{\"hovertemplate\":\"Country=LEBANON<br>AverageTemperature=%{x}<br>GHG=%{y}<extra></extra>\",\"legendgroup\":\"LEBANON\",\"marker\":{\"color\":\"#E377C2\",\"symbol\":\"circle\"},\"mode\":\"markers\",\"name\":\"LEBANON\",\"orientation\":\"v\",\"showlegend\":true,\"x\":[918.6716666666666],\"xaxis\":\"x\",\"y\":[5380291315.0],\"yaxis\":\"y\",\"type\":\"scatter\"},{\"hovertemplate\":\"Country=LEBANON<extra></extra>\",\"legendgroup\":\"LEBANON\",\"marker\":{\"color\":\"#E377C2\",\"symbol\":\"circle\"},\"mode\":\"lines\",\"name\":\"LEBANON\",\"showlegend\":false,\"xaxis\":\"x\",\"yaxis\":\"y\",\"type\":\"scatter\"},{\"hovertemplate\":\"Country=LESOTHO<br>AverageTemperature=%{x}<br>GHG=%{y}<extra></extra>\",\"legendgroup\":\"LESOTHO\",\"marker\":{\"color\":\"#7F7F7F\",\"symbol\":\"circle\"},\"mode\":\"markers\",\"name\":\"LESOTHO\",\"orientation\":\"v\",\"showlegend\":true,\"x\":[715.3545],\"xaxis\":\"x\",\"y\":[107468784.0],\"yaxis\":\"y\",\"type\":\"scatter\"},{\"hovertemplate\":\"Country=LESOTHO<extra></extra>\",\"legendgroup\":\"LESOTHO\",\"marker\":{\"color\":\"#7F7F7F\",\"symbol\":\"circle\"},\"mode\":\"lines\",\"name\":\"LESOTHO\",\"showlegend\":false,\"xaxis\":\"x\",\"yaxis\":\"y\",\"type\":\"scatter\"},{\"hovertemplate\":\"Country=LIBERIA<br>AverageTemperature=%{x}<br>GHG=%{y}<extra></extra>\",\"legendgroup\":\"LIBERIA\",\"marker\":{\"color\":\"#BCBD22\",\"symbol\":\"circle\"},\"mode\":\"markers\",\"name\":\"LIBERIA\",\"orientation\":\"v\",\"showlegend\":true,\"x\":[1308.2475],\"xaxis\":\"x\",\"y\":[824554509.0],\"yaxis\":\"y\",\"type\":\"scatter\"},{\"hovertemplate\":\"Country=LIBERIA<extra></extra>\",\"legendgroup\":\"LIBERIA\",\"marker\":{\"color\":\"#BCBD22\",\"symbol\":\"circle\"},\"mode\":\"lines\",\"name\":\"LIBERIA\",\"showlegend\":false,\"xaxis\":\"x\",\"yaxis\":\"y\",\"type\":\"scatter\"},{\"hovertemplate\":\"Country=LIBYA<br>AverageTemperature=%{x}<br>GHG=%{y}<extra></extra>\",\"legendgroup\":\"LIBYA\",\"marker\":{\"color\":\"#17BECF\",\"symbol\":\"circle\"},\"mode\":\"markers\",\"name\":\"LIBYA\",\"orientation\":\"v\",\"showlegend\":true,\"x\":[1151.8415],\"xaxis\":\"x\",\"y\":[16086228557.0],\"yaxis\":\"y\",\"type\":\"scatter\"},{\"hovertemplate\":\"Country=LIBYA<extra></extra>\",\"legendgroup\":\"LIBYA\",\"marker\":{\"color\":\"#17BECF\",\"symbol\":\"circle\"},\"mode\":\"lines\",\"name\":\"LIBYA\",\"showlegend\":false,\"xaxis\":\"x\",\"yaxis\":\"y\",\"type\":\"scatter\"},{\"hovertemplate\":\"Country=LIECHTENSTEIN<br>AverageTemperature=%{x}<br>GHG=%{y}<extra></extra>\",\"legendgroup\":\"LIECHTENSTEIN\",\"marker\":{\"color\":\"#1F77B4\",\"symbol\":\"circle\"},\"mode\":\"markers\",\"name\":\"LIECHTENSTEIN\",\"orientation\":\"v\",\"showlegend\":true,\"x\":[255.9775833333333],\"xaxis\":\"x\",\"y\":[0.0],\"yaxis\":\"y\",\"type\":\"scatter\"},{\"hovertemplate\":\"Country=LIECHTENSTEIN<extra></extra>\",\"legendgroup\":\"LIECHTENSTEIN\",\"marker\":{\"color\":\"#1F77B4\",\"symbol\":\"circle\"},\"mode\":\"lines\",\"name\":\"LIECHTENSTEIN\",\"showlegend\":false,\"xaxis\":\"x\",\"yaxis\":\"y\",\"type\":\"scatter\"},{\"hovertemplate\":\"Country=LITHUANIA<br>AverageTemperature=%{x}<br>GHG=%{y}<extra></extra>\",\"legendgroup\":\"LITHUANIA\",\"marker\":{\"color\":\"#FF7F0E\",\"symbol\":\"circle\"},\"mode\":\"markers\",\"name\":\"LITHUANIA\",\"orientation\":\"v\",\"showlegend\":true,\"x\":[321.6773333333333],\"xaxis\":\"x\",\"y\":[15334666468.0],\"yaxis\":\"y\",\"type\":\"scatter\"},{\"hovertemplate\":\"Country=LITHUANIA<extra></extra>\",\"legendgroup\":\"LITHUANIA\",\"marker\":{\"color\":\"#FF7F0E\",\"symbol\":\"circle\"},\"mode\":\"lines\",\"name\":\"LITHUANIA\",\"showlegend\":false,\"xaxis\":\"x\",\"yaxis\":\"y\",\"type\":\"scatter\"},{\"hovertemplate\":\"Country=LUXEMBOURG<br>AverageTemperature=%{x}<br>GHG=%{y}<extra></extra>\",\"legendgroup\":\"LUXEMBOURG\",\"marker\":{\"color\":\"#2CA02C\",\"symbol\":\"circle\"},\"mode\":\"markers\",\"name\":\"LUXEMBOURG\",\"orientation\":\"v\",\"showlegend\":true,\"x\":[485.30649999999997],\"xaxis\":\"x\",\"y\":[14407184605.0],\"yaxis\":\"y\",\"type\":\"scatter\"},{\"hovertemplate\":\"Country=LUXEMBOURG<extra></extra>\",\"legendgroup\":\"LUXEMBOURG\",\"marker\":{\"color\":\"#2CA02C\",\"symbol\":\"circle\"},\"mode\":\"lines\",\"name\":\"LUXEMBOURG\",\"showlegend\":false,\"xaxis\":\"x\",\"yaxis\":\"y\",\"type\":\"scatter\"},{\"hovertemplate\":\"Country=MACAU<br>AverageTemperature=%{x}<br>GHG=%{y}<extra></extra>\",\"legendgroup\":\"MACAU\",\"marker\":{\"color\":\"#D62728\",\"symbol\":\"circle\"},\"mode\":\"markers\",\"name\":\"MACAU\",\"orientation\":\"v\",\"showlegend\":true,\"x\":[1159.95625],\"xaxis\":\"x\",\"y\":[0.0],\"yaxis\":\"y\",\"type\":\"scatter\"},{\"hovertemplate\":\"Country=MACAU<extra></extra>\",\"legendgroup\":\"MACAU\",\"marker\":{\"color\":\"#D62728\",\"symbol\":\"circle\"},\"mode\":\"lines\",\"name\":\"MACAU\",\"showlegend\":false,\"xaxis\":\"x\",\"yaxis\":\"y\",\"type\":\"scatter\"},{\"hovertemplate\":\"Country=MACEDONIA<br>AverageTemperature=%{x}<br>GHG=%{y}<extra></extra>\",\"legendgroup\":\"MACEDONIA\",\"marker\":{\"color\":\"#9467BD\",\"symbol\":\"circle\"},\"mode\":\"markers\",\"name\":\"MACEDONIA\",\"orientation\":\"v\",\"showlegend\":true,\"x\":[543.8925833333333],\"xaxis\":\"x\",\"y\":[7241044406.0],\"yaxis\":\"y\",\"type\":\"scatter\"},{\"hovertemplate\":\"Country=MACEDONIA<extra></extra>\",\"legendgroup\":\"MACEDONIA\",\"marker\":{\"color\":\"#9467BD\",\"symbol\":\"circle\"},\"mode\":\"lines\",\"name\":\"MACEDONIA\",\"showlegend\":false,\"xaxis\":\"x\",\"yaxis\":\"y\",\"type\":\"scatter\"},{\"hovertemplate\":\"Country=MADAGASCAR<br>AverageTemperature=%{x}<br>GHG=%{y}<extra></extra>\",\"legendgroup\":\"MADAGASCAR\",\"marker\":{\"color\":\"#8C564B\",\"symbol\":\"circle\"},\"mode\":\"markers\",\"name\":\"MADAGASCAR\",\"orientation\":\"v\",\"showlegend\":true,\"x\":[1172.1561666666666],\"xaxis\":\"x\",\"y\":[907826189.0],\"yaxis\":\"y\",\"type\":\"scatter\"},{\"hovertemplate\":\"Country=MADAGASCAR<extra></extra>\",\"legendgroup\":\"MADAGASCAR\",\"marker\":{\"color\":\"#8C564B\",\"symbol\":\"circle\"},\"mode\":\"lines\",\"name\":\"MADAGASCAR\",\"showlegend\":false,\"xaxis\":\"x\",\"yaxis\":\"y\",\"type\":\"scatter\"},{\"hovertemplate\":\"Country=MALAWI<br>AverageTemperature=%{x}<br>GHG=%{y}<extra></extra>\",\"legendgroup\":\"MALAWI\",\"marker\":{\"color\":\"#E377C2\",\"symbol\":\"circle\"},\"mode\":\"markers\",\"name\":\"MALAWI\",\"orientation\":\"v\",\"showlegend\":true,\"x\":[1102.89525],\"xaxis\":\"x\",\"y\":[458373388.0],\"yaxis\":\"y\",\"type\":\"scatter\"},{\"hovertemplate\":\"Country=MALAWI<extra></extra>\",\"legendgroup\":\"MALAWI\",\"marker\":{\"color\":\"#E377C2\",\"symbol\":\"circle\"},\"mode\":\"lines\",\"name\":\"MALAWI\",\"showlegend\":false,\"xaxis\":\"x\",\"yaxis\":\"y\",\"type\":\"scatter\"},{\"hovertemplate\":\"Country=MALAYSIA<br>AverageTemperature=%{x}<br>GHG=%{y}<extra></extra>\",\"legendgroup\":\"MALAYSIA\",\"marker\":{\"color\":\"#7F7F7F\",\"symbol\":\"circle\"},\"mode\":\"markers\",\"name\":\"MALAYSIA\",\"orientation\":\"v\",\"showlegend\":true,\"x\":[1335.2595],\"xaxis\":\"x\",\"y\":[23028983573.0],\"yaxis\":\"y\",\"type\":\"scatter\"},{\"hovertemplate\":\"Country=MALAYSIA<extra></extra>\",\"legendgroup\":\"MALAYSIA\",\"marker\":{\"color\":\"#7F7F7F\",\"symbol\":\"circle\"},\"mode\":\"lines\",\"name\":\"MALAYSIA\",\"showlegend\":false,\"xaxis\":\"x\",\"yaxis\":\"y\",\"type\":\"scatter\"},{\"hovertemplate\":\"Country=MALI<br>AverageTemperature=%{x}<br>GHG=%{y}<extra></extra>\",\"legendgroup\":\"MALI\",\"marker\":{\"color\":\"#BCBD22\",\"symbol\":\"circle\"},\"mode\":\"markers\",\"name\":\"MALI\",\"orientation\":\"v\",\"showlegend\":true,\"x\":[1462.3483333333334],\"xaxis\":\"x\",\"y\":[241886161.0],\"yaxis\":\"y\",\"type\":\"scatter\"},{\"hovertemplate\":\"Country=MALI<extra></extra>\",\"legendgroup\":\"MALI\",\"marker\":{\"color\":\"#BCBD22\",\"symbol\":\"circle\"},\"mode\":\"lines\",\"name\":\"MALI\",\"showlegend\":false,\"xaxis\":\"x\",\"yaxis\":\"y\",\"type\":\"scatter\"},{\"hovertemplate\":\"Country=MALTA<br>AverageTemperature=%{x}<br>GHG=%{y}<extra></extra>\",\"legendgroup\":\"MALTA\",\"marker\":{\"color\":\"#17BECF\",\"symbol\":\"circle\"},\"mode\":\"markers\",\"name\":\"MALTA\",\"orientation\":\"v\",\"showlegend\":true,\"x\":[957.1983333333333],\"xaxis\":\"x\",\"y\":[886167296.0],\"yaxis\":\"y\",\"type\":\"scatter\"},{\"hovertemplate\":\"Country=MALTA<extra></extra>\",\"legendgroup\":\"MALTA\",\"marker\":{\"color\":\"#17BECF\",\"symbol\":\"circle\"},\"mode\":\"lines\",\"name\":\"MALTA\",\"showlegend\":false,\"xaxis\":\"x\",\"yaxis\":\"y\",\"type\":\"scatter\"},{\"hovertemplate\":\"Country=MARTINIQUE<br>AverageTemperature=%{x}<br>GHG=%{y}<extra></extra>\",\"legendgroup\":\"MARTINIQUE\",\"marker\":{\"color\":\"#1F77B4\",\"symbol\":\"circle\"},\"mode\":\"markers\",\"name\":\"MARTINIQUE\",\"orientation\":\"v\",\"showlegend\":true,\"x\":[1349.39625],\"xaxis\":\"x\",\"y\":[640291328.0],\"yaxis\":\"y\",\"type\":\"scatter\"},{\"hovertemplate\":\"Country=MARTINIQUE<extra></extra>\",\"legendgroup\":\"MARTINIQUE\",\"marker\":{\"color\":\"#1F77B4\",\"symbol\":\"circle\"},\"mode\":\"lines\",\"name\":\"MARTINIQUE\",\"showlegend\":false,\"xaxis\":\"x\",\"yaxis\":\"y\",\"type\":\"scatter\"},{\"hovertemplate\":\"Country=MAURITANIA<br>AverageTemperature=%{x}<br>GHG=%{y}<extra></extra>\",\"legendgroup\":\"MAURITANIA\",\"marker\":{\"color\":\"#FF7F0E\",\"symbol\":\"circle\"},\"mode\":\"markers\",\"name\":\"MAURITANIA\",\"orientation\":\"v\",\"showlegend\":true,\"x\":[1420.57525],\"xaxis\":\"x\",\"y\":[454372640.0],\"yaxis\":\"y\",\"type\":\"scatter\"},{\"hovertemplate\":\"Country=MAURITANIA<extra></extra>\",\"legendgroup\":\"MAURITANIA\",\"marker\":{\"color\":\"#FF7F0E\",\"symbol\":\"circle\"},\"mode\":\"lines\",\"name\":\"MAURITANIA\",\"showlegend\":false,\"xaxis\":\"x\",\"yaxis\":\"y\",\"type\":\"scatter\"},{\"hovertemplate\":\"Country=MAURITIUS<br>AverageTemperature=%{x}<br>GHG=%{y}<extra></extra>\",\"legendgroup\":\"MAURITIUS\",\"marker\":{\"color\":\"#2CA02C\",\"symbol\":\"circle\"},\"mode\":\"markers\",\"name\":\"MAURITIUS\",\"orientation\":\"v\",\"showlegend\":true,\"x\":[1210.4385],\"xaxis\":\"x\",\"y\":[597649696.0],\"yaxis\":\"y\",\"type\":\"scatter\"},{\"hovertemplate\":\"Country=MAURITIUS<extra></extra>\",\"legendgroup\":\"MAURITIUS\",\"marker\":{\"color\":\"#2CA02C\",\"symbol\":\"circle\"},\"mode\":\"lines\",\"name\":\"MAURITIUS\",\"showlegend\":false,\"xaxis\":\"x\",\"yaxis\":\"y\",\"type\":\"scatter\"},{\"hovertemplate\":\"Country=MAYOTTE<br>AverageTemperature=%{x}<br>GHG=%{y}<extra></extra>\",\"legendgroup\":\"MAYOTTE\",\"marker\":{\"color\":\"#D62728\",\"symbol\":\"circle\"},\"mode\":\"markers\",\"name\":\"MAYOTTE\",\"orientation\":\"v\",\"showlegend\":true,\"x\":[1354.5216666666668],\"xaxis\":\"x\",\"y\":[0.0],\"yaxis\":\"y\",\"type\":\"scatter\"},{\"hovertemplate\":\"Country=MAYOTTE<extra></extra>\",\"legendgroup\":\"MAYOTTE\",\"marker\":{\"color\":\"#D62728\",\"symbol\":\"circle\"},\"mode\":\"lines\",\"name\":\"MAYOTTE\",\"showlegend\":false,\"xaxis\":\"x\",\"yaxis\":\"y\",\"type\":\"scatter\"},{\"hovertemplate\":\"Country=MEXICO<br>AverageTemperature=%{x}<br>GHG=%{y}<extra></extra>\",\"legendgroup\":\"MEXICO\",\"marker\":{\"color\":\"#9467BD\",\"symbol\":\"circle\"},\"mode\":\"markers\",\"name\":\"MEXICO\",\"orientation\":\"v\",\"showlegend\":true,\"x\":[1062.0435],\"xaxis\":\"x\",\"y\":[223507522009.0],\"yaxis\":\"y\",\"type\":\"scatter\"},{\"hovertemplate\":\"Country=MEXICO<extra></extra>\",\"legendgroup\":\"MEXICO\",\"marker\":{\"color\":\"#9467BD\",\"symbol\":\"circle\"},\"mode\":\"lines\",\"name\":\"MEXICO\",\"showlegend\":false,\"xaxis\":\"x\",\"yaxis\":\"y\",\"type\":\"scatter\"},{\"hovertemplate\":\"Country=MOLDOVA<br>AverageTemperature=%{x}<br>GHG=%{y}<extra></extra>\",\"legendgroup\":\"MOLDOVA\",\"marker\":{\"color\":\"#8C564B\",\"symbol\":\"circle\"},\"mode\":\"markers\",\"name\":\"MOLDOVA\",\"orientation\":\"v\",\"showlegend\":true,\"x\":[474.471],\"xaxis\":\"x\",\"y\":[592568119.0],\"yaxis\":\"y\",\"type\":\"scatter\"},{\"hovertemplate\":\"Country=MOLDOVA<extra></extra>\",\"legendgroup\":\"MOLDOVA\",\"marker\":{\"color\":\"#8C564B\",\"symbol\":\"circle\"},\"mode\":\"lines\",\"name\":\"MOLDOVA\",\"showlegend\":false,\"xaxis\":\"x\",\"yaxis\":\"y\",\"type\":\"scatter\"},{\"hovertemplate\":\"Country=MONACO<br>AverageTemperature=%{x}<br>GHG=%{y}<extra></extra>\",\"legendgroup\":\"MONACO\",\"marker\":{\"color\":\"#E377C2\",\"symbol\":\"circle\"},\"mode\":\"markers\",\"name\":\"MONACO\",\"orientation\":\"v\",\"showlegend\":true,\"x\":[477.7955],\"xaxis\":\"x\",\"y\":[0.0],\"yaxis\":\"y\",\"type\":\"scatter\"},{\"hovertemplate\":\"Country=MONACO<extra></extra>\",\"legendgroup\":\"MONACO\",\"marker\":{\"color\":\"#E377C2\",\"symbol\":\"circle\"},\"mode\":\"lines\",\"name\":\"MONACO\",\"showlegend\":false,\"xaxis\":\"x\",\"yaxis\":\"y\",\"type\":\"scatter\"},{\"hovertemplate\":\"Country=MONGOLIA<br>AverageTemperature=%{x}<br>GHG=%{y}<extra></extra>\",\"legendgroup\":\"MONGOLIA\",\"marker\":{\"color\":\"#7F7F7F\",\"symbol\":\"circle\"},\"mode\":\"markers\",\"name\":\"MONGOLIA\",\"orientation\":\"v\",\"showlegend\":true,\"x\":[-16.072833333333328],\"xaxis\":\"x\",\"y\":[4026998777.0],\"yaxis\":\"y\",\"type\":\"scatter\"},{\"hovertemplate\":\"Country=MONGOLIA<extra></extra>\",\"legendgroup\":\"MONGOLIA\",\"marker\":{\"color\":\"#7F7F7F\",\"symbol\":\"circle\"},\"mode\":\"lines\",\"name\":\"MONGOLIA\",\"showlegend\":false,\"xaxis\":\"x\",\"yaxis\":\"y\",\"type\":\"scatter\"},{\"hovertemplate\":\"Country=MONTENEGRO<br>AverageTemperature=%{x}<br>GHG=%{y}<extra></extra>\",\"legendgroup\":\"MONTENEGRO\",\"marker\":{\"color\":\"#BCBD22\",\"symbol\":\"circle\"},\"mode\":\"markers\",\"name\":\"MONTENEGRO\",\"orientation\":\"v\",\"showlegend\":true,\"x\":[536.9315833333334],\"xaxis\":\"x\",\"y\":[1282882588.0],\"yaxis\":\"y\",\"type\":\"scatter\"},{\"hovertemplate\":\"Country=MONTENEGRO<extra></extra>\",\"legendgroup\":\"MONTENEGRO\",\"marker\":{\"color\":\"#BCBD22\",\"symbol\":\"circle\"},\"mode\":\"lines\",\"name\":\"MONTENEGRO\",\"showlegend\":false,\"xaxis\":\"x\",\"yaxis\":\"y\",\"type\":\"scatter\"},{\"hovertemplate\":\"Country=MONTSERRAT<br>AverageTemperature=%{x}<br>GHG=%{y}<extra></extra>\",\"legendgroup\":\"MONTSERRAT\",\"marker\":{\"color\":\"#17BECF\",\"symbol\":\"circle\"},\"mode\":\"markers\",\"name\":\"MONTSERRAT\",\"orientation\":\"v\",\"showlegend\":true,\"x\":[1362.7745],\"xaxis\":\"x\",\"y\":[11937312.0],\"yaxis\":\"y\",\"type\":\"scatter\"},{\"hovertemplate\":\"Country=MONTSERRAT<extra></extra>\",\"legendgroup\":\"MONTSERRAT\",\"marker\":{\"color\":\"#17BECF\",\"symbol\":\"circle\"},\"mode\":\"lines\",\"name\":\"MONTSERRAT\",\"showlegend\":false,\"xaxis\":\"x\",\"yaxis\":\"y\",\"type\":\"scatter\"},{\"hovertemplate\":\"Country=MOROCCO<br>AverageTemperature=%{x}<br>GHG=%{y}<extra></extra>\",\"legendgroup\":\"MOROCCO\",\"marker\":{\"color\":\"#1F77B4\",\"symbol\":\"circle\"},\"mode\":\"markers\",\"name\":\"MOROCCO\",\"orientation\":\"v\",\"showlegend\":true,\"x\":[913.8159166666667],\"xaxis\":\"x\",\"y\":[11247726955.0],\"yaxis\":\"y\",\"type\":\"scatter\"},{\"hovertemplate\":\"Country=MOROCCO<extra></extra>\",\"legendgroup\":\"MOROCCO\",\"marker\":{\"color\":\"#1F77B4\",\"symbol\":\"circle\"},\"mode\":\"lines\",\"name\":\"MOROCCO\",\"showlegend\":false,\"xaxis\":\"x\",\"yaxis\":\"y\",\"type\":\"scatter\"},{\"hovertemplate\":\"Country=MOZAMBIQUE<br>AverageTemperature=%{x}<br>GHG=%{y}<extra></extra>\",\"legendgroup\":\"MOZAMBIQUE\",\"marker\":{\"color\":\"#FF7F0E\",\"symbol\":\"circle\"},\"mode\":\"markers\",\"name\":\"MOZAMBIQUE\",\"orientation\":\"v\",\"showlegend\":true,\"x\":[1215.1775833333334],\"xaxis\":\"x\",\"y\":[2652509379.0],\"yaxis\":\"y\",\"type\":\"scatter\"},{\"hovertemplate\":\"Country=MOZAMBIQUE<extra></extra>\",\"legendgroup\":\"MOZAMBIQUE\",\"marker\":{\"color\":\"#FF7F0E\",\"symbol\":\"circle\"},\"mode\":\"lines\",\"name\":\"MOZAMBIQUE\",\"showlegend\":false,\"xaxis\":\"x\",\"yaxis\":\"y\",\"type\":\"scatter\"},{\"hovertemplate\":\"Country=MYANMAR<br>AverageTemperature=%{x}<br>GHG=%{y}<extra></extra>\",\"legendgroup\":\"MYANMAR\",\"marker\":{\"color\":\"#2CA02C\",\"symbol\":\"circle\"},\"mode\":\"markers\",\"name\":\"MYANMAR\",\"orientation\":\"v\",\"showlegend\":true,\"x\":[1226.2796666666666],\"xaxis\":\"x\",\"y\":[6688744202.0],\"yaxis\":\"y\",\"type\":\"scatter\"},{\"hovertemplate\":\"Country=MYANMAR<extra></extra>\",\"legendgroup\":\"MYANMAR\",\"marker\":{\"color\":\"#2CA02C\",\"symbol\":\"circle\"},\"mode\":\"lines\",\"name\":\"MYANMAR\",\"showlegend\":false,\"xaxis\":\"x\",\"yaxis\":\"y\",\"type\":\"scatter\"},{\"hovertemplate\":\"Country=NEPAL<br>AverageTemperature=%{x}<br>GHG=%{y}<extra></extra>\",\"legendgroup\":\"NEPAL\",\"marker\":{\"color\":\"#D62728\",\"symbol\":\"circle\"},\"mode\":\"markers\",\"name\":\"NEPAL\",\"orientation\":\"v\",\"showlegend\":true,\"x\":[772.1416666666667],\"xaxis\":\"x\",\"y\":[376690599.0],\"yaxis\":\"y\",\"type\":\"scatter\"},{\"hovertemplate\":\"Country=NEPAL<extra></extra>\",\"legendgroup\":\"NEPAL\",\"marker\":{\"color\":\"#D62728\",\"symbol\":\"circle\"},\"mode\":\"lines\",\"name\":\"NEPAL\",\"showlegend\":false,\"xaxis\":\"x\",\"yaxis\":\"y\",\"type\":\"scatter\"},{\"hovertemplate\":\"Country=NETHERLANDS<br>AverageTemperature=%{x}<br>GHG=%{y}<extra></extra>\",\"legendgroup\":\"NETHERLANDS\",\"marker\":{\"color\":\"#9467BD\",\"symbol\":\"circle\"},\"mode\":\"markers\",\"name\":\"NETHERLANDS\",\"orientation\":\"v\",\"showlegend\":true,\"x\":[481.9766666666667],\"xaxis\":\"x\",\"y\":[233850390606.0],\"yaxis\":\"y\",\"type\":\"scatter\"},{\"hovertemplate\":\"Country=NETHERLANDS<extra></extra>\",\"legendgroup\":\"NETHERLANDS\",\"marker\":{\"color\":\"#9467BD\",\"symbol\":\"circle\"},\"mode\":\"lines\",\"name\":\"NETHERLANDS\",\"showlegend\":false,\"xaxis\":\"x\",\"yaxis\":\"y\",\"type\":\"scatter\"},{\"hovertemplate\":\"Country=NEW CALEDONIA<br>AverageTemperature=%{x}<br>GHG=%{y}<extra></extra>\",\"legendgroup\":\"NEW CALEDONIA\",\"marker\":{\"color\":\"#8C564B\",\"symbol\":\"circle\"},\"mode\":\"markers\",\"name\":\"NEW CALEDONIA\",\"orientation\":\"v\",\"showlegend\":true,\"x\":[1172.41],\"xaxis\":\"x\",\"y\":[1645765265.0],\"yaxis\":\"y\",\"type\":\"scatter\"},{\"hovertemplate\":\"Country=NEW CALEDONIA<extra></extra>\",\"legendgroup\":\"NEW CALEDONIA\",\"marker\":{\"color\":\"#8C564B\",\"symbol\":\"circle\"},\"mode\":\"lines\",\"name\":\"NEW CALEDONIA\",\"showlegend\":false,\"xaxis\":\"x\",\"yaxis\":\"y\",\"type\":\"scatter\"},{\"hovertemplate\":\"Country=NEW ZEALAND<br>AverageTemperature=%{x}<br>GHG=%{y}<extra></extra>\",\"legendgroup\":\"NEW ZEALAND\",\"marker\":{\"color\":\"#E377C2\",\"symbol\":\"circle\"},\"mode\":\"markers\",\"name\":\"NEW ZEALAND\",\"orientation\":\"v\",\"showlegend\":true,\"x\":[546.83775],\"xaxis\":\"x\",\"y\":[31349577768.0],\"yaxis\":\"y\",\"type\":\"scatter\"},{\"hovertemplate\":\"Country=NEW ZEALAND<extra></extra>\",\"legendgroup\":\"NEW ZEALAND\",\"marker\":{\"color\":\"#E377C2\",\"symbol\":\"circle\"},\"mode\":\"lines\",\"name\":\"NEW ZEALAND\",\"showlegend\":false,\"xaxis\":\"x\",\"yaxis\":\"y\",\"type\":\"scatter\"},{\"hovertemplate\":\"Country=NICARAGUA<br>AverageTemperature=%{x}<br>GHG=%{y}<extra></extra>\",\"legendgroup\":\"NICARAGUA\",\"marker\":{\"color\":\"#7F7F7F\",\"symbol\":\"circle\"},\"mode\":\"markers\",\"name\":\"NICARAGUA\",\"orientation\":\"v\",\"showlegend\":true,\"x\":[1342.8915],\"xaxis\":\"x\",\"y\":[1494121469.0],\"yaxis\":\"y\",\"type\":\"scatter\"},{\"hovertemplate\":\"Country=NICARAGUA<extra></extra>\",\"legendgroup\":\"NICARAGUA\",\"marker\":{\"color\":\"#7F7F7F\",\"symbol\":\"circle\"},\"mode\":\"lines\",\"name\":\"NICARAGUA\",\"showlegend\":false,\"xaxis\":\"x\",\"yaxis\":\"y\",\"type\":\"scatter\"},{\"hovertemplate\":\"Country=NIGER<br>AverageTemperature=%{x}<br>GHG=%{y}<extra></extra>\",\"legendgroup\":\"NIGER\",\"marker\":{\"color\":\"#BCBD22\",\"symbol\":\"circle\"},\"mode\":\"markers\",\"name\":\"NIGER\",\"orientation\":\"v\",\"showlegend\":true,\"x\":[1407.9079166666666],\"xaxis\":\"x\",\"y\":[316854458.0],\"yaxis\":\"y\",\"type\":\"scatter\"},{\"hovertemplate\":\"Country=NIGER<extra></extra>\",\"legendgroup\":\"NIGER\",\"marker\":{\"color\":\"#BCBD22\",\"symbol\":\"circle\"},\"mode\":\"lines\",\"name\":\"NIGER\",\"showlegend\":false,\"xaxis\":\"x\",\"yaxis\":\"y\",\"type\":\"scatter\"},{\"hovertemplate\":\"Country=NIGERIA<br>AverageTemperature=%{x}<br>GHG=%{y}<extra></extra>\",\"legendgroup\":\"NIGERIA\",\"marker\":{\"color\":\"#17BECF\",\"symbol\":\"circle\"},\"mode\":\"markers\",\"name\":\"NIGERIA\",\"orientation\":\"v\",\"showlegend\":true,\"x\":[1371.7046666666668],\"xaxis\":\"x\",\"y\":[31417093281.0],\"yaxis\":\"y\",\"type\":\"scatter\"},{\"hovertemplate\":\"Country=NIGERIA<extra></extra>\",\"legendgroup\":\"NIGERIA\",\"marker\":{\"color\":\"#17BECF\",\"symbol\":\"circle\"},\"mode\":\"lines\",\"name\":\"NIGERIA\",\"showlegend\":false,\"xaxis\":\"x\",\"yaxis\":\"y\",\"type\":\"scatter\"},{\"hovertemplate\":\"Country=NIUE<br>AverageTemperature=%{x}<br>GHG=%{y}<extra></extra>\",\"legendgroup\":\"NIUE\",\"marker\":{\"color\":\"#1F77B4\",\"symbol\":\"circle\"},\"mode\":\"markers\",\"name\":\"NIUE\",\"orientation\":\"v\",\"showlegend\":true,\"x\":[1292.1993333333332],\"xaxis\":\"x\",\"y\":[2059168.0],\"yaxis\":\"y\",\"type\":\"scatter\"},{\"hovertemplate\":\"Country=NIUE<extra></extra>\",\"legendgroup\":\"NIUE\",\"marker\":{\"color\":\"#1F77B4\",\"symbol\":\"circle\"},\"mode\":\"lines\",\"name\":\"NIUE\",\"showlegend\":false,\"xaxis\":\"x\",\"yaxis\":\"y\",\"type\":\"scatter\"},{\"hovertemplate\":\"Country=NORTHERN MARIANA ISLANDS<br>AverageTemperature=%{x}<br>GHG=%{y}<extra></extra>\",\"legendgroup\":\"NORTHERN MARIANA ISLANDS\",\"marker\":{\"color\":\"#FF7F0E\",\"symbol\":\"circle\"},\"mode\":\"markers\",\"name\":\"NORTHERN MARIANA ISLANDS\",\"orientation\":\"v\",\"showlegend\":true,\"x\":[1385.93375],\"xaxis\":\"x\",\"y\":[0.0],\"yaxis\":\"y\",\"type\":\"scatter\"},{\"hovertemplate\":\"Country=NORTHERN MARIANA ISLANDS<extra></extra>\",\"legendgroup\":\"NORTHERN MARIANA ISLANDS\",\"marker\":{\"color\":\"#FF7F0E\",\"symbol\":\"circle\"},\"mode\":\"lines\",\"name\":\"NORTHERN MARIANA ISLANDS\",\"showlegend\":false,\"xaxis\":\"x\",\"yaxis\":\"y\",\"type\":\"scatter\"},{\"hovertemplate\":\"Country=NORWAY<br>AverageTemperature=%{x}<br>GHG=%{y}<extra></extra>\",\"legendgroup\":\"NORWAY\",\"marker\":{\"color\":\"#2CA02C\",\"symbol\":\"circle\"},\"mode\":\"markers\",\"name\":\"NORWAY\",\"orientation\":\"v\",\"showlegend\":true,\"x\":[21.475583333333336],\"xaxis\":\"x\",\"y\":[49087775729.0],\"yaxis\":\"y\",\"type\":\"scatter\"},{\"hovertemplate\":\"Country=NORWAY<extra></extra>\",\"legendgroup\":\"NORWAY\",\"marker\":{\"color\":\"#2CA02C\",\"symbol\":\"circle\"},\"mode\":\"lines\",\"name\":\"NORWAY\",\"showlegend\":false,\"xaxis\":\"x\",\"yaxis\":\"y\",\"type\":\"scatter\"},{\"hovertemplate\":\"Country=OMAN<br>AverageTemperature=%{x}<br>GHG=%{y}<extra></extra>\",\"legendgroup\":\"OMAN\",\"marker\":{\"color\":\"#D62728\",\"symbol\":\"circle\"},\"mode\":\"markers\",\"name\":\"OMAN\",\"orientation\":\"v\",\"showlegend\":true,\"x\":[1379.8576666666668],\"xaxis\":\"x\",\"y\":[3428731247.0],\"yaxis\":\"y\",\"type\":\"scatter\"},{\"hovertemplate\":\"Country=OMAN<extra></extra>\",\"legendgroup\":\"OMAN\",\"marker\":{\"color\":\"#D62728\",\"symbol\":\"circle\"},\"mode\":\"lines\",\"name\":\"OMAN\",\"showlegend\":false,\"xaxis\":\"x\",\"yaxis\":\"y\",\"type\":\"scatter\"},{\"hovertemplate\":\"Country=PAKISTAN<br>AverageTemperature=%{x}<br>GHG=%{y}<extra></extra>\",\"legendgroup\":\"PAKISTAN\",\"marker\":{\"color\":\"#9467BD\",\"symbol\":\"circle\"},\"mode\":\"markers\",\"name\":\"PAKISTAN\",\"orientation\":\"v\",\"showlegend\":true,\"x\":[1063.2931666666666],\"xaxis\":\"x\",\"y\":[24570778283.0],\"yaxis\":\"y\",\"type\":\"scatter\"},{\"hovertemplate\":\"Country=PAKISTAN<extra></extra>\",\"legendgroup\":\"PAKISTAN\",\"marker\":{\"color\":\"#9467BD\",\"symbol\":\"circle\"},\"mode\":\"lines\",\"name\":\"PAKISTAN\",\"showlegend\":false,\"xaxis\":\"x\",\"yaxis\":\"y\",\"type\":\"scatter\"},{\"hovertemplate\":\"Country=PALAU<br>AverageTemperature=%{x}<br>GHG=%{y}<extra></extra>\",\"legendgroup\":\"PALAU\",\"marker\":{\"color\":\"#8C564B\",\"symbol\":\"circle\"},\"mode\":\"markers\",\"name\":\"PALAU\",\"orientation\":\"v\",\"showlegend\":true,\"x\":[1402.43925],\"xaxis\":\"x\",\"y\":[110462272.0],\"yaxis\":\"y\",\"type\":\"scatter\"},{\"hovertemplate\":\"Country=PALAU<extra></extra>\",\"legendgroup\":\"PALAU\",\"marker\":{\"color\":\"#8C564B\",\"symbol\":\"circle\"},\"mode\":\"lines\",\"name\":\"PALAU\",\"showlegend\":false,\"xaxis\":\"x\",\"yaxis\":\"y\",\"type\":\"scatter\"},{\"hovertemplate\":\"Country=PALESTINE<br>AverageTemperature=%{x}<br>GHG=%{y}<extra></extra>\",\"legendgroup\":\"PALESTINE\",\"marker\":{\"color\":\"#E377C2\",\"symbol\":\"circle\"},\"mode\":\"markers\",\"name\":\"PALESTINE\",\"orientation\":\"v\",\"showlegend\":true,\"x\":[1194.2305833333332],\"xaxis\":\"x\",\"y\":[63885504.0],\"yaxis\":\"y\",\"type\":\"scatter\"},{\"hovertemplate\":\"Country=PALESTINE<extra></extra>\",\"legendgroup\":\"PALESTINE\",\"marker\":{\"color\":\"#E377C2\",\"symbol\":\"circle\"},\"mode\":\"lines\",\"name\":\"PALESTINE\",\"showlegend\":false,\"xaxis\":\"x\",\"yaxis\":\"y\",\"type\":\"scatter\"},{\"hovertemplate\":\"Country=PANAMA<br>AverageTemperature=%{x}<br>GHG=%{y}<extra></extra>\",\"legendgroup\":\"PANAMA\",\"marker\":{\"color\":\"#7F7F7F\",\"symbol\":\"circle\"},\"mode\":\"markers\",\"name\":\"PANAMA\",\"orientation\":\"v\",\"showlegend\":true,\"x\":[1357.617],\"xaxis\":\"x\",\"y\":[2419946736.0],\"yaxis\":\"y\",\"type\":\"scatter\"},{\"hovertemplate\":\"Country=PANAMA<extra></extra>\",\"legendgroup\":\"PANAMA\",\"marker\":{\"color\":\"#7F7F7F\",\"symbol\":\"circle\"},\"mode\":\"lines\",\"name\":\"PANAMA\",\"showlegend\":false,\"xaxis\":\"x\",\"yaxis\":\"y\",\"type\":\"scatter\"},{\"hovertemplate\":\"Country=PAPUA NEW GUINEA<br>AverageTemperature=%{x}<br>GHG=%{y}<extra></extra>\",\"legendgroup\":\"PAPUA NEW GUINEA\",\"marker\":{\"color\":\"#BCBD22\",\"symbol\":\"circle\"},\"mode\":\"markers\",\"name\":\"PAPUA NEW GUINEA\",\"orientation\":\"v\",\"showlegend\":true,\"x\":[1257.8650833333334],\"xaxis\":\"x\",\"y\":[1002682912.0],\"yaxis\":\"y\",\"type\":\"scatter\"},{\"hovertemplate\":\"Country=PAPUA NEW GUINEA<extra></extra>\",\"legendgroup\":\"PAPUA NEW GUINEA\",\"marker\":{\"color\":\"#BCBD22\",\"symbol\":\"circle\"},\"mode\":\"lines\",\"name\":\"PAPUA NEW GUINEA\",\"showlegend\":false,\"xaxis\":\"x\",\"yaxis\":\"y\",\"type\":\"scatter\"},{\"hovertemplate\":\"Country=PARAGUAY<br>AverageTemperature=%{x}<br>GHG=%{y}<extra></extra>\",\"legendgroup\":\"PARAGUAY\",\"marker\":{\"color\":\"#17BECF\",\"symbol\":\"circle\"},\"mode\":\"markers\",\"name\":\"PARAGUAY\",\"orientation\":\"v\",\"showlegend\":true,\"x\":[1201.8638333333333],\"xaxis\":\"x\",\"y\":[955241532.0],\"yaxis\":\"y\",\"type\":\"scatter\"},{\"hovertemplate\":\"Country=PARAGUAY<extra></extra>\",\"legendgroup\":\"PARAGUAY\",\"marker\":{\"color\":\"#17BECF\",\"symbol\":\"circle\"},\"mode\":\"lines\",\"name\":\"PARAGUAY\",\"showlegend\":false,\"xaxis\":\"x\",\"yaxis\":\"y\",\"type\":\"scatter\"},{\"hovertemplate\":\"Country=PERU<br>AverageTemperature=%{x}<br>GHG=%{y}<extra></extra>\",\"legendgroup\":\"PERU\",\"marker\":{\"color\":\"#1F77B4\",\"symbol\":\"circle\"},\"mode\":\"markers\",\"name\":\"PERU\",\"orientation\":\"v\",\"showlegend\":true,\"x\":[1030.2881666666667],\"xaxis\":\"x\",\"y\":[27358416734.0],\"yaxis\":\"y\",\"type\":\"scatter\"},{\"hovertemplate\":\"Country=PERU<extra></extra>\",\"legendgroup\":\"PERU\",\"marker\":{\"color\":\"#1F77B4\",\"symbol\":\"circle\"},\"mode\":\"lines\",\"name\":\"PERU\",\"showlegend\":false,\"xaxis\":\"x\",\"yaxis\":\"y\",\"type\":\"scatter\"},{\"hovertemplate\":\"Country=PHILIPPINES<br>AverageTemperature=%{x}<br>GHG=%{y}<extra></extra>\",\"legendgroup\":\"PHILIPPINES\",\"marker\":{\"color\":\"#FF7F0E\",\"symbol\":\"circle\"},\"mode\":\"markers\",\"name\":\"PHILIPPINES\",\"orientation\":\"v\",\"showlegend\":true,\"x\":[1367.7394166666666],\"xaxis\":\"x\",\"y\":[25224501113.0],\"yaxis\":\"y\",\"type\":\"scatter\"},{\"hovertemplate\":\"Country=PHILIPPINES<extra></extra>\",\"legendgroup\":\"PHILIPPINES\",\"marker\":{\"color\":\"#FF7F0E\",\"symbol\":\"circle\"},\"mode\":\"lines\",\"name\":\"PHILIPPINES\",\"showlegend\":false,\"xaxis\":\"x\",\"yaxis\":\"y\",\"type\":\"scatter\"},{\"hovertemplate\":\"Country=POLAND<br>AverageTemperature=%{x}<br>GHG=%{y}<extra></extra>\",\"legendgroup\":\"POLAND\",\"marker\":{\"color\":\"#2CA02C\",\"symbol\":\"circle\"},\"mode\":\"markers\",\"name\":\"POLAND\",\"orientation\":\"v\",\"showlegend\":true,\"x\":[399.68491666666665],\"xaxis\":\"x\",\"y\":[628205834654.0],\"yaxis\":\"y\",\"type\":\"scatter\"},{\"hovertemplate\":\"Country=POLAND<extra></extra>\",\"legendgroup\":\"POLAND\",\"marker\":{\"color\":\"#2CA02C\",\"symbol\":\"circle\"},\"mode\":\"lines\",\"name\":\"POLAND\",\"showlegend\":false,\"xaxis\":\"x\",\"yaxis\":\"y\",\"type\":\"scatter\"},{\"hovertemplate\":\"Country=PORTUGAL<br>AverageTemperature=%{x}<br>GHG=%{y}<extra></extra>\",\"legendgroup\":\"PORTUGAL\",\"marker\":{\"color\":\"#D62728\",\"symbol\":\"circle\"},\"mode\":\"markers\",\"name\":\"PORTUGAL\",\"orientation\":\"v\",\"showlegend\":true,\"x\":[764.407],\"xaxis\":\"x\",\"y\":[31071820488.0],\"yaxis\":\"y\",\"type\":\"scatter\"},{\"hovertemplate\":\"Country=PORTUGAL<extra></extra>\",\"legendgroup\":\"PORTUGAL\",\"marker\":{\"color\":\"#D62728\",\"symbol\":\"circle\"},\"mode\":\"lines\",\"name\":\"PORTUGAL\",\"showlegend\":false,\"xaxis\":\"x\",\"yaxis\":\"y\",\"type\":\"scatter\"},{\"hovertemplate\":\"Country=PUERTO RICO<br>AverageTemperature=%{x}<br>GHG=%{y}<extra></extra>\",\"legendgroup\":\"PUERTO RICO\",\"marker\":{\"color\":\"#9467BD\",\"symbol\":\"circle\"},\"mode\":\"markers\",\"name\":\"PUERTO RICO\",\"orientation\":\"v\",\"showlegend\":true,\"x\":[1314.7359999999999],\"xaxis\":\"x\",\"y\":[0.0],\"yaxis\":\"y\",\"type\":\"scatter\"},{\"hovertemplate\":\"Country=PUERTO RICO<extra></extra>\",\"legendgroup\":\"PUERTO RICO\",\"marker\":{\"color\":\"#9467BD\",\"symbol\":\"circle\"},\"mode\":\"lines\",\"name\":\"PUERTO RICO\",\"showlegend\":false,\"xaxis\":\"x\",\"yaxis\":\"y\",\"type\":\"scatter\"},{\"hovertemplate\":\"Country=QATAR<br>AverageTemperature=%{x}<br>GHG=%{y}<extra></extra>\",\"legendgroup\":\"QATAR\",\"marker\":{\"color\":\"#8C564B\",\"symbol\":\"circle\"},\"mode\":\"markers\",\"name\":\"QATAR\",\"orientation\":\"v\",\"showlegend\":true,\"x\":[1378.19725],\"xaxis\":\"x\",\"y\":[8349834565.0],\"yaxis\":\"y\",\"type\":\"scatter\"},{\"hovertemplate\":\"Country=QATAR<extra></extra>\",\"legendgroup\":\"QATAR\",\"marker\":{\"color\":\"#8C564B\",\"symbol\":\"circle\"},\"mode\":\"lines\",\"name\":\"QATAR\",\"showlegend\":false,\"xaxis\":\"x\",\"yaxis\":\"y\",\"type\":\"scatter\"},{\"hovertemplate\":\"Country=REPUBLIC OF CONGO<br>AverageTemperature=%{x}<br>GHG=%{y}<extra></extra>\",\"legendgroup\":\"REPUBLIC OF CONGO\",\"marker\":{\"color\":\"#E377C2\",\"symbol\":\"circle\"},\"mode\":\"markers\",\"name\":\"REPUBLIC OF CONGO\",\"orientation\":\"v\",\"showlegend\":true,\"x\":[1257.3243333333332],\"xaxis\":\"x\",\"y\":[606449419.0],\"yaxis\":\"y\",\"type\":\"scatter\"},{\"hovertemplate\":\"Country=REPUBLIC OF CONGO<extra></extra>\",\"legendgroup\":\"REPUBLIC OF CONGO\",\"marker\":{\"color\":\"#E377C2\",\"symbol\":\"circle\"},\"mode\":\"lines\",\"name\":\"REPUBLIC OF CONGO\",\"showlegend\":false,\"xaxis\":\"x\",\"yaxis\":\"y\",\"type\":\"scatter\"},{\"hovertemplate\":\"Country=REPUBLIC OF KOREA<br>AverageTemperature=%{x}<br>GHG=%{y}<extra></extra>\",\"legendgroup\":\"REPUBLIC OF KOREA\",\"marker\":{\"color\":\"#7F7F7F\",\"symbol\":\"circle\"},\"mode\":\"markers\",\"name\":\"REPUBLIC OF KOREA\",\"orientation\":\"v\",\"showlegend\":true,\"x\":[624.7038333333334],\"xaxis\":\"x\",\"y\":[82943136277.0],\"yaxis\":\"y\",\"type\":\"scatter\"},{\"hovertemplate\":\"Country=REPUBLIC OF KOREA<extra></extra>\",\"legendgroup\":\"REPUBLIC OF KOREA\",\"marker\":{\"color\":\"#7F7F7F\",\"symbol\":\"circle\"},\"mode\":\"lines\",\"name\":\"REPUBLIC OF KOREA\",\"showlegend\":false,\"xaxis\":\"x\",\"yaxis\":\"y\",\"type\":\"scatter\"},{\"hovertemplate\":\"Country=ROMANIA<br>AverageTemperature=%{x}<br>GHG=%{y}<extra></extra>\",\"legendgroup\":\"ROMANIA\",\"marker\":{\"color\":\"#BCBD22\",\"symbol\":\"circle\"},\"mode\":\"markers\",\"name\":\"ROMANIA\",\"orientation\":\"v\",\"showlegend\":true,\"x\":[464.76616666666666],\"xaxis\":\"x\",\"y\":[162663288592.0],\"yaxis\":\"y\",\"type\":\"scatter\"},{\"hovertemplate\":\"Country=ROMANIA<extra></extra>\",\"legendgroup\":\"ROMANIA\",\"marker\":{\"color\":\"#BCBD22\",\"symbol\":\"circle\"},\"mode\":\"lines\",\"name\":\"ROMANIA\",\"showlegend\":false,\"xaxis\":\"x\",\"yaxis\":\"y\",\"type\":\"scatter\"},{\"hovertemplate\":\"Country=RUSSIAN FEDERATION<br>AverageTemperature=%{x}<br>GHG=%{y}<extra></extra>\",\"legendgroup\":\"RUSSIAN FEDERATION\",\"marker\":{\"color\":\"#17BECF\",\"symbol\":\"circle\"},\"mode\":\"markers\",\"name\":\"RUSSIAN FEDERATION\",\"orientation\":\"v\",\"showlegend\":true,\"x\":[-261.81191666666666],\"xaxis\":\"x\",\"y\":[1415979765750.0],\"yaxis\":\"y\",\"type\":\"scatter\"},{\"hovertemplate\":\"Country=RUSSIAN FEDERATION<extra></extra>\",\"legendgroup\":\"RUSSIAN FEDERATION\",\"marker\":{\"color\":\"#17BECF\",\"symbol\":\"circle\"},\"mode\":\"lines\",\"name\":\"RUSSIAN FEDERATION\",\"showlegend\":false,\"xaxis\":\"x\",\"yaxis\":\"y\",\"type\":\"scatter\"},{\"hovertemplate\":\"Country=RWANDA<br>AverageTemperature=%{x}<br>GHG=%{y}<extra></extra>\",\"legendgroup\":\"RWANDA\",\"marker\":{\"color\":\"#1F77B4\",\"symbol\":\"circle\"},\"mode\":\"markers\",\"name\":\"RWANDA\",\"orientation\":\"v\",\"showlegend\":true,\"x\":[990.7985833333333],\"xaxis\":\"x\",\"y\":[200404026.0],\"yaxis\":\"y\",\"type\":\"scatter\"},{\"hovertemplate\":\"Country=RWANDA<extra></extra>\",\"legendgroup\":\"RWANDA\",\"marker\":{\"color\":\"#1F77B4\",\"symbol\":\"circle\"},\"mode\":\"lines\",\"name\":\"RWANDA\",\"showlegend\":false,\"xaxis\":\"x\",\"yaxis\":\"y\",\"type\":\"scatter\"},{\"hovertemplate\":\"Country=SAINT KITTS AND NEVIS<br>AverageTemperature=%{x}<br>GHG=%{y}<extra></extra>\",\"legendgroup\":\"SAINT KITTS AND NEVIS\",\"marker\":{\"color\":\"#FF7F0E\",\"symbol\":\"circle\"},\"mode\":\"markers\",\"name\":\"SAINT KITTS AND NEVIS\",\"orientation\":\"v\",\"showlegend\":true,\"x\":[1335.659],\"xaxis\":\"x\",\"y\":[16187552.0],\"yaxis\":\"y\",\"type\":\"scatter\"},{\"hovertemplate\":\"Country=SAINT KITTS AND NEVIS<extra></extra>\",\"legendgroup\":\"SAINT KITTS AND NEVIS\",\"marker\":{\"color\":\"#FF7F0E\",\"symbol\":\"circle\"},\"mode\":\"lines\",\"name\":\"SAINT KITTS AND NEVIS\",\"showlegend\":false,\"xaxis\":\"x\",\"yaxis\":\"y\",\"type\":\"scatter\"},{\"hovertemplate\":\"Country=SAINT LUCIA<br>AverageTemperature=%{x}<br>GHG=%{y}<extra></extra>\",\"legendgroup\":\"SAINT LUCIA\",\"marker\":{\"color\":\"#2CA02C\",\"symbol\":\"circle\"},\"mode\":\"markers\",\"name\":\"SAINT LUCIA\",\"orientation\":\"v\",\"showlegend\":true,\"x\":[1377.1066666666666],\"xaxis\":\"x\",\"y\":[72246752.0],\"yaxis\":\"y\",\"type\":\"scatter\"},{\"hovertemplate\":\"Country=SAINT LUCIA<extra></extra>\",\"legendgroup\":\"SAINT LUCIA\",\"marker\":{\"color\":\"#2CA02C\",\"symbol\":\"circle\"},\"mode\":\"lines\",\"name\":\"SAINT LUCIA\",\"showlegend\":false,\"xaxis\":\"x\",\"yaxis\":\"y\",\"type\":\"scatter\"},{\"hovertemplate\":\"Country=SAINT PIERRE AND MIQUELON<br>AverageTemperature=%{x}<br>GHG=%{y}<extra></extra>\",\"legendgroup\":\"SAINT PIERRE AND MIQUELON\",\"marker\":{\"color\":\"#D62728\",\"symbol\":\"circle\"},\"mode\":\"markers\",\"name\":\"SAINT PIERRE AND MIQUELON\",\"orientation\":\"v\",\"showlegend\":true,\"x\":[244.99725],\"xaxis\":\"x\",\"y\":[53695920.0],\"yaxis\":\"y\",\"type\":\"scatter\"},{\"hovertemplate\":\"Country=SAINT PIERRE AND MIQUELON<extra></extra>\",\"legendgroup\":\"SAINT PIERRE AND MIQUELON\",\"marker\":{\"color\":\"#D62728\",\"symbol\":\"circle\"},\"mode\":\"lines\",\"name\":\"SAINT PIERRE AND MIQUELON\",\"showlegend\":false,\"xaxis\":\"x\",\"yaxis\":\"y\",\"type\":\"scatter\"},{\"hovertemplate\":\"Country=SAINT VINCENT AND THE GRENADINES<br>AverageTemperature=%{x}<br>GHG=%{y}<extra></extra>\",\"legendgroup\":\"SAINT VINCENT AND THE GRENADINES\",\"marker\":{\"color\":\"#9467BD\",\"symbol\":\"circle\"},\"mode\":\"markers\",\"name\":\"SAINT VINCENT AND THE GRENADINES\",\"orientation\":\"v\",\"showlegend\":true,\"x\":[1384.4374166666666],\"xaxis\":\"x\",\"y\":[34514880.0],\"yaxis\":\"y\",\"type\":\"scatter\"},{\"hovertemplate\":\"Country=SAINT VINCENT AND THE GRENADINES<extra></extra>\",\"legendgroup\":\"SAINT VINCENT AND THE GRENADINES\",\"marker\":{\"color\":\"#9467BD\",\"symbol\":\"circle\"},\"mode\":\"lines\",\"name\":\"SAINT VINCENT AND THE GRENADINES\",\"showlegend\":false,\"xaxis\":\"x\",\"yaxis\":\"y\",\"type\":\"scatter\"},{\"hovertemplate\":\"Country=SAMOA<br>AverageTemperature=%{x}<br>GHG=%{y}<extra></extra>\",\"legendgroup\":\"SAMOA\",\"marker\":{\"color\":\"#8C564B\",\"symbol\":\"circle\"},\"mode\":\"markers\",\"name\":\"SAMOA\",\"orientation\":\"v\",\"showlegend\":true,\"x\":[1354.9333333333334],\"xaxis\":\"x\",\"y\":[52875184.0],\"yaxis\":\"y\",\"type\":\"scatter\"},{\"hovertemplate\":\"Country=SAMOA<extra></extra>\",\"legendgroup\":\"SAMOA\",\"marker\":{\"color\":\"#8C564B\",\"symbol\":\"circle\"},\"mode\":\"lines\",\"name\":\"SAMOA\",\"showlegend\":false,\"xaxis\":\"x\",\"yaxis\":\"y\",\"type\":\"scatter\"},{\"hovertemplate\":\"Country=SAN MARINO<br>AverageTemperature=%{x}<br>GHG=%{y}<extra></extra>\",\"legendgroup\":\"SAN MARINO\",\"marker\":{\"color\":\"#E377C2\",\"symbol\":\"circle\"},\"mode\":\"markers\",\"name\":\"SAN MARINO\",\"orientation\":\"v\",\"showlegend\":true,\"x\":[722.1416666666667],\"xaxis\":\"x\",\"y\":[0.0],\"yaxis\":\"y\",\"type\":\"scatter\"},{\"hovertemplate\":\"Country=SAN MARINO<extra></extra>\",\"legendgroup\":\"SAN MARINO\",\"marker\":{\"color\":\"#E377C2\",\"symbol\":\"circle\"},\"mode\":\"lines\",\"name\":\"SAN MARINO\",\"showlegend\":false,\"xaxis\":\"x\",\"yaxis\":\"y\",\"type\":\"scatter\"},{\"hovertemplate\":\"Country=SAO TOME AND PRINCIPE<br>AverageTemperature=%{x}<br>GHG=%{y}<extra></extra>\",\"legendgroup\":\"SAO TOME AND PRINCIPE\",\"marker\":{\"color\":\"#7F7F7F\",\"symbol\":\"circle\"},\"mode\":\"markers\",\"name\":\"SAO TOME AND PRINCIPE\",\"orientation\":\"v\",\"showlegend\":true,\"x\":[1325.6784166666666],\"xaxis\":\"x\",\"y\":[23024576.0],\"yaxis\":\"y\",\"type\":\"scatter\"},{\"hovertemplate\":\"Country=SAO TOME AND PRINCIPE<extra></extra>\",\"legendgroup\":\"SAO TOME AND PRINCIPE\",\"marker\":{\"color\":\"#7F7F7F\",\"symbol\":\"circle\"},\"mode\":\"lines\",\"name\":\"SAO TOME AND PRINCIPE\",\"showlegend\":false,\"xaxis\":\"x\",\"yaxis\":\"y\",\"type\":\"scatter\"},{\"hovertemplate\":\"Country=SAUDI ARABIA<br>AverageTemperature=%{x}<br>GHG=%{y}<extra></extra>\",\"legendgroup\":\"SAUDI ARABIA\",\"marker\":{\"color\":\"#BCBD22\",\"symbol\":\"circle\"},\"mode\":\"markers\",\"name\":\"SAUDI ARABIA\",\"orientation\":\"v\",\"showlegend\":true,\"x\":[1314.982],\"xaxis\":\"x\",\"y\":[81137571609.0],\"yaxis\":\"y\",\"type\":\"scatter\"},{\"hovertemplate\":\"Country=SAUDI ARABIA<extra></extra>\",\"legendgroup\":\"SAUDI ARABIA\",\"marker\":{\"color\":\"#BCBD22\",\"symbol\":\"circle\"},\"mode\":\"lines\",\"name\":\"SAUDI ARABIA\",\"showlegend\":false,\"xaxis\":\"x\",\"yaxis\":\"y\",\"type\":\"scatter\"},{\"hovertemplate\":\"Country=SENEGAL<br>AverageTemperature=%{x}<br>GHG=%{y}<extra></extra>\",\"legendgroup\":\"SENEGAL\",\"marker\":{\"color\":\"#17BECF\",\"symbol\":\"circle\"},\"mode\":\"markers\",\"name\":\"SENEGAL\",\"orientation\":\"v\",\"showlegend\":true,\"x\":[1438.9200833333332],\"xaxis\":\"x\",\"y\":[1577765408.0],\"yaxis\":\"y\",\"type\":\"scatter\"},{\"hovertemplate\":\"Country=SENEGAL<extra></extra>\",\"legendgroup\":\"SENEGAL\",\"marker\":{\"color\":\"#17BECF\",\"symbol\":\"circle\"},\"mode\":\"lines\",\"name\":\"SENEGAL\",\"showlegend\":false,\"xaxis\":\"x\",\"yaxis\":\"y\",\"type\":\"scatter\"},{\"hovertemplate\":\"Country=SERBIA<br>AverageTemperature=%{x}<br>GHG=%{y}<extra></extra>\",\"legendgroup\":\"SERBIA\",\"marker\":{\"color\":\"#1F77B4\",\"symbol\":\"circle\"},\"mode\":\"markers\",\"name\":\"SERBIA\",\"orientation\":\"v\",\"showlegend\":true,\"x\":[525.2611666666667],\"xaxis\":\"x\",\"y\":[29020903804.0],\"yaxis\":\"y\",\"type\":\"scatter\"},{\"hovertemplate\":\"Country=SERBIA<extra></extra>\",\"legendgroup\":\"SERBIA\",\"marker\":{\"color\":\"#1F77B4\",\"symbol\":\"circle\"},\"mode\":\"lines\",\"name\":\"SERBIA\",\"showlegend\":false,\"xaxis\":\"x\",\"yaxis\":\"y\",\"type\":\"scatter\"},{\"hovertemplate\":\"Country=SEYCHELLES<br>AverageTemperature=%{x}<br>GHG=%{y}<extra></extra>\",\"legendgroup\":\"SEYCHELLES\",\"marker\":{\"color\":\"#FF7F0E\",\"symbol\":\"circle\"},\"mode\":\"markers\",\"name\":\"SEYCHELLES\",\"orientation\":\"v\",\"showlegend\":true,\"x\":[1374.5938333333334],\"xaxis\":\"x\",\"y\":[54315136.0],\"yaxis\":\"y\",\"type\":\"scatter\"},{\"hovertemplate\":\"Country=SEYCHELLES<extra></extra>\",\"legendgroup\":\"SEYCHELLES\",\"marker\":{\"color\":\"#FF7F0E\",\"symbol\":\"circle\"},\"mode\":\"lines\",\"name\":\"SEYCHELLES\",\"showlegend\":false,\"xaxis\":\"x\",\"yaxis\":\"y\",\"type\":\"scatter\"},{\"hovertemplate\":\"Country=SIERRA LEONE<br>AverageTemperature=%{x}<br>GHG=%{y}<extra></extra>\",\"legendgroup\":\"SIERRA LEONE\",\"marker\":{\"color\":\"#2CA02C\",\"symbol\":\"circle\"},\"mode\":\"markers\",\"name\":\"SIERRA LEONE\",\"orientation\":\"v\",\"showlegend\":true,\"x\":[1341.34825],\"xaxis\":\"x\",\"y\":[538164656.0],\"yaxis\":\"y\",\"type\":\"scatter\"},{\"hovertemplate\":\"Country=SIERRA LEONE<extra></extra>\",\"legendgroup\":\"SIERRA LEONE\",\"marker\":{\"color\":\"#2CA02C\",\"symbol\":\"circle\"},\"mode\":\"lines\",\"name\":\"SIERRA LEONE\",\"showlegend\":false,\"xaxis\":\"x\",\"yaxis\":\"y\",\"type\":\"scatter\"},{\"hovertemplate\":\"Country=SINGAPORE<br>AverageTemperature=%{x}<br>GHG=%{y}<extra></extra>\",\"legendgroup\":\"SINGAPORE\",\"marker\":{\"color\":\"#D62728\",\"symbol\":\"circle\"},\"mode\":\"markers\",\"name\":\"SINGAPORE\",\"orientation\":\"v\",\"showlegend\":true,\"x\":[1371.1077500000001],\"xaxis\":\"x\",\"y\":[16553406994.0],\"yaxis\":\"y\",\"type\":\"scatter\"},{\"hovertemplate\":\"Country=SINGAPORE<extra></extra>\",\"legendgroup\":\"SINGAPORE\",\"marker\":{\"color\":\"#D62728\",\"symbol\":\"circle\"},\"mode\":\"lines\",\"name\":\"SINGAPORE\",\"showlegend\":false,\"xaxis\":\"x\",\"yaxis\":\"y\",\"type\":\"scatter\"},{\"hovertemplate\":\"Country=SLOVAKIA<br>AverageTemperature=%{x}<br>GHG=%{y}<extra></extra>\",\"legendgroup\":\"SLOVAKIA\",\"marker\":{\"color\":\"#9467BD\",\"symbol\":\"circle\"},\"mode\":\"markers\",\"name\":\"SLOVAKIA\",\"orientation\":\"v\",\"showlegend\":true,\"x\":[402.039],\"xaxis\":\"x\",\"y\":[42556606401.0],\"yaxis\":\"y\",\"type\":\"scatter\"},{\"hovertemplate\":\"Country=SLOVAKIA<extra></extra>\",\"legendgroup\":\"SLOVAKIA\",\"marker\":{\"color\":\"#9467BD\",\"symbol\":\"circle\"},\"mode\":\"lines\",\"name\":\"SLOVAKIA\",\"showlegend\":false,\"xaxis\":\"x\",\"yaxis\":\"y\",\"type\":\"scatter\"},{\"hovertemplate\":\"Country=SLOVENIA<br>AverageTemperature=%{x}<br>GHG=%{y}<extra></extra>\",\"legendgroup\":\"SLOVENIA\",\"marker\":{\"color\":\"#8C564B\",\"symbol\":\"circle\"},\"mode\":\"markers\",\"name\":\"SLOVENIA\",\"orientation\":\"v\",\"showlegend\":true,\"x\":[508.7029166666667],\"xaxis\":\"x\",\"y\":[8453121825.0],\"yaxis\":\"y\",\"type\":\"scatter\"},{\"hovertemplate\":\"Country=SLOVENIA<extra></extra>\",\"legendgroup\":\"SLOVENIA\",\"marker\":{\"color\":\"#8C564B\",\"symbol\":\"circle\"},\"mode\":\"lines\",\"name\":\"SLOVENIA\",\"showlegend\":false,\"xaxis\":\"x\",\"yaxis\":\"y\",\"type\":\"scatter\"},{\"hovertemplate\":\"Country=SOLOMON ISLANDS<br>AverageTemperature=%{x}<br>GHG=%{y}<extra></extra>\",\"legendgroup\":\"SOLOMON ISLANDS\",\"marker\":{\"color\":\"#E377C2\",\"symbol\":\"circle\"},\"mode\":\"markers\",\"name\":\"SOLOMON ISLANDS\",\"orientation\":\"v\",\"showlegend\":true,\"x\":[1368.0038333333334],\"xaxis\":\"x\",\"y\":[60499968.0],\"yaxis\":\"y\",\"type\":\"scatter\"},{\"hovertemplate\":\"Country=SOLOMON ISLANDS<extra></extra>\",\"legendgroup\":\"SOLOMON ISLANDS\",\"marker\":{\"color\":\"#E377C2\",\"symbol\":\"circle\"},\"mode\":\"lines\",\"name\":\"SOLOMON ISLANDS\",\"showlegend\":false,\"xaxis\":\"x\",\"yaxis\":\"y\",\"type\":\"scatter\"},{\"hovertemplate\":\"Country=SOMALIA<br>AverageTemperature=%{x}<br>GHG=%{y}<extra></extra>\",\"legendgroup\":\"SOMALIA\",\"marker\":{\"color\":\"#7F7F7F\",\"symbol\":\"circle\"},\"mode\":\"markers\",\"name\":\"SOMALIA\",\"orientation\":\"v\",\"showlegend\":true,\"x\":[1378.1606666666667],\"xaxis\":\"x\",\"y\":[352507758.0],\"yaxis\":\"y\",\"type\":\"scatter\"},{\"hovertemplate\":\"Country=SOMALIA<extra></extra>\",\"legendgroup\":\"SOMALIA\",\"marker\":{\"color\":\"#7F7F7F\",\"symbol\":\"circle\"},\"mode\":\"lines\",\"name\":\"SOMALIA\",\"showlegend\":false,\"xaxis\":\"x\",\"yaxis\":\"y\",\"type\":\"scatter\"},{\"hovertemplate\":\"Country=SOUTH AFRICA<br>AverageTemperature=%{x}<br>GHG=%{y}<extra></extra>\",\"legendgroup\":\"SOUTH AFRICA\",\"marker\":{\"color\":\"#BCBD22\",\"symbol\":\"circle\"},\"mode\":\"markers\",\"name\":\"SOUTH AFRICA\",\"orientation\":\"v\",\"showlegend\":true,\"x\":[895.8650833333334],\"xaxis\":\"x\",\"y\":[272546282418.0],\"yaxis\":\"y\",\"type\":\"scatter\"},{\"hovertemplate\":\"Country=SOUTH AFRICA<extra></extra>\",\"legendgroup\":\"SOUTH AFRICA\",\"marker\":{\"color\":\"#BCBD22\",\"symbol\":\"circle\"},\"mode\":\"lines\",\"name\":\"SOUTH AFRICA\",\"showlegend\":false,\"xaxis\":\"x\",\"yaxis\":\"y\",\"type\":\"scatter\"},{\"hovertemplate\":\"Country=SOUTH GEORGIA AND THE SOUTH SANDWICH ISLANDS<br>AverageTemperature=%{x}<br>GHG=%{y}<extra></extra>\",\"legendgroup\":\"SOUTH GEORGIA AND THE SOUTH SANDWICH ISLANDS\",\"marker\":{\"color\":\"#17BECF\",\"symbol\":\"circle\"},\"mode\":\"markers\",\"name\":\"SOUTH GEORGIA AND THE SOUTH SANDWICH ISLANDS\",\"orientation\":\"v\",\"showlegend\":true,\"x\":[81.571],\"xaxis\":\"x\",\"y\":[0.0],\"yaxis\":\"y\",\"type\":\"scatter\"},{\"hovertemplate\":\"Country=SOUTH GEORGIA AND THE SOUTH SANDWICH ISLANDS<extra></extra>\",\"legendgroup\":\"SOUTH GEORGIA AND THE SOUTH SANDWICH ISLANDS\",\"marker\":{\"color\":\"#17BECF\",\"symbol\":\"circle\"},\"mode\":\"lines\",\"name\":\"SOUTH GEORGIA AND THE SOUTH SANDWICH ISLANDS\",\"showlegend\":false,\"xaxis\":\"x\",\"yaxis\":\"y\",\"type\":\"scatter\"},{\"hovertemplate\":\"Country=SPAIN<br>AverageTemperature=%{x}<br>GHG=%{y}<extra></extra>\",\"legendgroup\":\"SPAIN\",\"marker\":{\"color\":\"#1F77B4\",\"symbol\":\"circle\"},\"mode\":\"markers\",\"name\":\"SPAIN\",\"orientation\":\"v\",\"showlegend\":true,\"x\":[709.7966666666666],\"xaxis\":\"x\",\"y\":[197132913987.0],\"yaxis\":\"y\",\"type\":\"scatter\"},{\"hovertemplate\":\"Country=SPAIN<extra></extra>\",\"legendgroup\":\"SPAIN\",\"marker\":{\"color\":\"#1F77B4\",\"symbol\":\"circle\"},\"mode\":\"lines\",\"name\":\"SPAIN\",\"showlegend\":false,\"xaxis\":\"x\",\"yaxis\":\"y\",\"type\":\"scatter\"},{\"hovertemplate\":\"Country=SRI LANKA<br>AverageTemperature=%{x}<br>GHG=%{y}<extra></extra>\",\"legendgroup\":\"SRI LANKA\",\"marker\":{\"color\":\"#FF7F0E\",\"symbol\":\"circle\"},\"mode\":\"markers\",\"name\":\"SRI LANKA\",\"orientation\":\"v\",\"showlegend\":true,\"x\":[1392.1555833333332],\"xaxis\":\"x\",\"y\":[3727251672.0],\"yaxis\":\"y\",\"type\":\"scatter\"},{\"hovertemplate\":\"Country=SRI LANKA<extra></extra>\",\"legendgroup\":\"SRI LANKA\",\"marker\":{\"color\":\"#FF7F0E\",\"symbol\":\"circle\"},\"mode\":\"lines\",\"name\":\"SRI LANKA\",\"showlegend\":false,\"xaxis\":\"x\",\"yaxis\":\"y\",\"type\":\"scatter\"},{\"hovertemplate\":\"Country=SUDAN<br>AverageTemperature=%{x}<br>GHG=%{y}<extra></extra>\",\"legendgroup\":\"SUDAN\",\"marker\":{\"color\":\"#2CA02C\",\"symbol\":\"circle\"},\"mode\":\"markers\",\"name\":\"SUDAN\",\"orientation\":\"v\",\"showlegend\":true,\"x\":[1389.93875],\"xaxis\":\"x\",\"y\":[3401459744.0],\"yaxis\":\"y\",\"type\":\"scatter\"},{\"hovertemplate\":\"Country=SUDAN<extra></extra>\",\"legendgroup\":\"SUDAN\",\"marker\":{\"color\":\"#2CA02C\",\"symbol\":\"circle\"},\"mode\":\"lines\",\"name\":\"SUDAN\",\"showlegend\":false,\"xaxis\":\"x\",\"yaxis\":\"y\",\"type\":\"scatter\"},{\"hovertemplate\":\"Country=SURINAME<br>AverageTemperature=%{x}<br>GHG=%{y}<extra></extra>\",\"legendgroup\":\"SURINAME\",\"marker\":{\"color\":\"#D62728\",\"symbol\":\"circle\"},\"mode\":\"markers\",\"name\":\"SURINAME\",\"orientation\":\"v\",\"showlegend\":true,\"x\":[1353.0716666666667],\"xaxis\":\"x\",\"y\":[1387767433.0],\"yaxis\":\"y\",\"type\":\"scatter\"},{\"hovertemplate\":\"Country=SURINAME<extra></extra>\",\"legendgroup\":\"SURINAME\",\"marker\":{\"color\":\"#D62728\",\"symbol\":\"circle\"},\"mode\":\"lines\",\"name\":\"SURINAME\",\"showlegend\":false,\"xaxis\":\"x\",\"yaxis\":\"y\",\"type\":\"scatter\"},{\"hovertemplate\":\"Country=SVALBARD AND JAN MAYEN<br>AverageTemperature=%{x}<br>GHG=%{y}<extra></extra>\",\"legendgroup\":\"SVALBARD AND JAN MAYEN\",\"marker\":{\"color\":\"#9467BD\",\"symbol\":\"circle\"},\"mode\":\"markers\",\"name\":\"SVALBARD AND JAN MAYEN\",\"orientation\":\"v\",\"showlegend\":true,\"x\":[-369.4155],\"xaxis\":\"x\",\"y\":[0.0],\"yaxis\":\"y\",\"type\":\"scatter\"},{\"hovertemplate\":\"Country=SVALBARD AND JAN MAYEN<extra></extra>\",\"legendgroup\":\"SVALBARD AND JAN MAYEN\",\"marker\":{\"color\":\"#9467BD\",\"symbol\":\"circle\"},\"mode\":\"lines\",\"name\":\"SVALBARD AND JAN MAYEN\",\"showlegend\":false,\"xaxis\":\"x\",\"yaxis\":\"y\",\"type\":\"scatter\"},{\"hovertemplate\":\"Country=SWAZILAND<br>AverageTemperature=%{x}<br>GHG=%{y}<extra></extra>\",\"legendgroup\":\"SWAZILAND\",\"marker\":{\"color\":\"#8C564B\",\"symbol\":\"circle\"},\"mode\":\"markers\",\"name\":\"SWAZILAND\",\"orientation\":\"v\",\"showlegend\":true,\"x\":[975.9055],\"xaxis\":\"x\",\"y\":[238119696.0],\"yaxis\":\"y\",\"type\":\"scatter\"},{\"hovertemplate\":\"Country=SWAZILAND<extra></extra>\",\"legendgroup\":\"SWAZILAND\",\"marker\":{\"color\":\"#8C564B\",\"symbol\":\"circle\"},\"mode\":\"lines\",\"name\":\"SWAZILAND\",\"showlegend\":false,\"xaxis\":\"x\",\"yaxis\":\"y\",\"type\":\"scatter\"},{\"hovertemplate\":\"Country=SWEDEN<br>AverageTemperature=%{x}<br>GHG=%{y}<extra></extra>\",\"legendgroup\":\"SWEDEN\",\"marker\":{\"color\":\"#E377C2\",\"symbol\":\"circle\"},\"mode\":\"markers\",\"name\":\"SWEDEN\",\"orientation\":\"v\",\"showlegend\":true,\"x\":[138.95366666666666],\"xaxis\":\"x\",\"y\":[122610257089.0],\"yaxis\":\"y\",\"type\":\"scatter\"},{\"hovertemplate\":\"Country=SWEDEN<extra></extra>\",\"legendgroup\":\"SWEDEN\",\"marker\":{\"color\":\"#E377C2\",\"symbol\":\"circle\"},\"mode\":\"lines\",\"name\":\"SWEDEN\",\"showlegend\":false,\"xaxis\":\"x\",\"yaxis\":\"y\",\"type\":\"scatter\"},{\"hovertemplate\":\"Country=SWITZERLAND<br>AverageTemperature=%{x}<br>GHG=%{y}<extra></extra>\",\"legendgroup\":\"SWITZERLAND\",\"marker\":{\"color\":\"#7F7F7F\",\"symbol\":\"circle\"},\"mode\":\"markers\",\"name\":\"SWITZERLAND\",\"orientation\":\"v\",\"showlegend\":true,\"x\":[374.9535],\"xaxis\":\"x\",\"y\":[60854063645.0],\"yaxis\":\"y\",\"type\":\"scatter\"},{\"hovertemplate\":\"Country=SWITZERLAND<extra></extra>\",\"legendgroup\":\"SWITZERLAND\",\"marker\":{\"color\":\"#7F7F7F\",\"symbol\":\"circle\"},\"mode\":\"lines\",\"name\":\"SWITZERLAND\",\"showlegend\":false,\"xaxis\":\"x\",\"yaxis\":\"y\",\"type\":\"scatter\"},{\"hovertemplate\":\"Country=SYRIA<br>AverageTemperature=%{x}<br>GHG=%{y}<extra></extra>\",\"legendgroup\":\"SYRIA\",\"marker\":{\"color\":\"#BCBD22\",\"symbol\":\"circle\"},\"mode\":\"markers\",\"name\":\"SYRIA\",\"orientation\":\"v\",\"showlegend\":true,\"x\":[934.74275],\"xaxis\":\"x\",\"y\":[12792926705.0],\"yaxis\":\"y\",\"type\":\"scatter\"},{\"hovertemplate\":\"Country=SYRIA<extra></extra>\",\"legendgroup\":\"SYRIA\",\"marker\":{\"color\":\"#BCBD22\",\"symbol\":\"circle\"},\"mode\":\"lines\",\"name\":\"SYRIA\",\"showlegend\":false,\"xaxis\":\"x\",\"yaxis\":\"y\",\"type\":\"scatter\"},{\"hovertemplate\":\"Country=TAIWAN<br>AverageTemperature=%{x}<br>GHG=%{y}<extra></extra>\",\"legendgroup\":\"TAIWAN\",\"marker\":{\"color\":\"#17BECF\",\"symbol\":\"circle\"},\"mode\":\"markers\",\"name\":\"TAIWAN\",\"orientation\":\"v\",\"showlegend\":true,\"x\":[1138.1124166666666],\"xaxis\":\"x\",\"y\":[54792207813.0],\"yaxis\":\"y\",\"type\":\"scatter\"},{\"hovertemplate\":\"Country=TAIWAN<extra></extra>\",\"legendgroup\":\"TAIWAN\",\"marker\":{\"color\":\"#17BECF\",\"symbol\":\"circle\"},\"mode\":\"lines\",\"name\":\"TAIWAN\",\"showlegend\":false,\"xaxis\":\"x\",\"yaxis\":\"y\",\"type\":\"scatter\"},{\"hovertemplate\":\"Country=TAJIKISTAN<br>AverageTemperature=%{x}<br>GHG=%{y}<extra></extra>\",\"legendgroup\":\"TAJIKISTAN\",\"marker\":{\"color\":\"#1F77B4\",\"symbol\":\"circle\"},\"mode\":\"markers\",\"name\":\"TAJIKISTAN\",\"orientation\":\"v\",\"showlegend\":true,\"x\":[224.49191666666667],\"xaxis\":\"x\",\"y\":[4871211128.0],\"yaxis\":\"y\",\"type\":\"scatter\"},{\"hovertemplate\":\"Country=TAJIKISTAN<extra></extra>\",\"legendgroup\":\"TAJIKISTAN\",\"marker\":{\"color\":\"#1F77B4\",\"symbol\":\"circle\"},\"mode\":\"lines\",\"name\":\"TAJIKISTAN\",\"showlegend\":false,\"xaxis\":\"x\",\"yaxis\":\"y\",\"type\":\"scatter\"},{\"hovertemplate\":\"Country=TANZANIA<br>AverageTemperature=%{x}<br>GHG=%{y}<extra></extra>\",\"legendgroup\":\"TANZANIA\",\"marker\":{\"color\":\"#FF7F0E\",\"symbol\":\"circle\"},\"mode\":\"markers\",\"name\":\"TANZANIA\",\"orientation\":\"v\",\"showlegend\":true,\"x\":[1146.9088333333334],\"xaxis\":\"x\",\"y\":[1147153401.0],\"yaxis\":\"y\",\"type\":\"scatter\"},{\"hovertemplate\":\"Country=TANZANIA<extra></extra>\",\"legendgroup\":\"TANZANIA\",\"marker\":{\"color\":\"#FF7F0E\",\"symbol\":\"circle\"},\"mode\":\"lines\",\"name\":\"TANZANIA\",\"showlegend\":false,\"xaxis\":\"x\",\"yaxis\":\"y\",\"type\":\"scatter\"},{\"hovertemplate\":\"Country=THAILAND<br>AverageTemperature=%{x}<br>GHG=%{y}<extra></extra>\",\"legendgroup\":\"THAILAND\",\"marker\":{\"color\":\"#2CA02C\",\"symbol\":\"circle\"},\"mode\":\"markers\",\"name\":\"THAILAND\",\"orientation\":\"v\",\"showlegend\":true,\"x\":[1344.3069166666667],\"xaxis\":\"x\",\"y\":[27191045556.0],\"yaxis\":\"y\",\"type\":\"scatter\"},{\"hovertemplate\":\"Country=THAILAND<extra></extra>\",\"legendgroup\":\"THAILAND\",\"marker\":{\"color\":\"#2CA02C\",\"symbol\":\"circle\"},\"mode\":\"lines\",\"name\":\"THAILAND\",\"showlegend\":false,\"xaxis\":\"x\",\"yaxis\":\"y\",\"type\":\"scatter\"},{\"hovertemplate\":\"Country=THE GAMBIA<br>AverageTemperature=%{x}<br>GHG=%{y}<extra></extra>\",\"legendgroup\":\"THE GAMBIA\",\"marker\":{\"color\":\"#D62728\",\"symbol\":\"circle\"},\"mode\":\"markers\",\"name\":\"THE GAMBIA\",\"orientation\":\"v\",\"showlegend\":true,\"x\":[1417.0750833333334],\"xaxis\":\"x\",\"y\":[81164928.0],\"yaxis\":\"y\",\"type\":\"scatter\"},{\"hovertemplate\":\"Country=THE GAMBIA<extra></extra>\",\"legendgroup\":\"THE GAMBIA\",\"marker\":{\"color\":\"#D62728\",\"symbol\":\"circle\"},\"mode\":\"lines\",\"name\":\"THE GAMBIA\",\"showlegend\":false,\"xaxis\":\"x\",\"yaxis\":\"y\",\"type\":\"scatter\"},{\"hovertemplate\":\"Country=TOGO<br>AverageTemperature=%{x}<br>GHG=%{y}<extra></extra>\",\"legendgroup\":\"TOGO\",\"marker\":{\"color\":\"#9467BD\",\"symbol\":\"circle\"},\"mode\":\"markers\",\"name\":\"TOGO\",\"orientation\":\"v\",\"showlegend\":true,\"x\":[1380.7593333333334],\"xaxis\":\"x\",\"y\":[387998659.0],\"yaxis\":\"y\",\"type\":\"scatter\"},{\"hovertemplate\":\"Country=TOGO<extra></extra>\",\"legendgroup\":\"TOGO\",\"marker\":{\"color\":\"#9467BD\",\"symbol\":\"circle\"},\"mode\":\"lines\",\"name\":\"TOGO\",\"showlegend\":false,\"xaxis\":\"x\",\"yaxis\":\"y\",\"type\":\"scatter\"},{\"hovertemplate\":\"Country=TONGA<br>AverageTemperature=%{x}<br>GHG=%{y}<extra></extra>\",\"legendgroup\":\"TONGA\",\"marker\":{\"color\":\"#8C564B\",\"symbol\":\"circle\"},\"mode\":\"markers\",\"name\":\"TONGA\",\"orientation\":\"v\",\"showlegend\":true,\"x\":[1198.2170833333332],\"xaxis\":\"x\",\"y\":[28941936.0],\"yaxis\":\"y\",\"type\":\"scatter\"},{\"hovertemplate\":\"Country=TONGA<extra></extra>\",\"legendgroup\":\"TONGA\",\"marker\":{\"color\":\"#8C564B\",\"symbol\":\"circle\"},\"mode\":\"lines\",\"name\":\"TONGA\",\"showlegend\":false,\"xaxis\":\"x\",\"yaxis\":\"y\",\"type\":\"scatter\"},{\"hovertemplate\":\"Country=TRINIDAD AND TOBAGO<br>AverageTemperature=%{x}<br>GHG=%{y}<extra></extra>\",\"legendgroup\":\"TRINIDAD AND TOBAGO\",\"marker\":{\"color\":\"#E377C2\",\"symbol\":\"circle\"},\"mode\":\"markers\",\"name\":\"TRINIDAD AND TOBAGO\",\"orientation\":\"v\",\"showlegend\":true,\"x\":[1350.6669166666666],\"xaxis\":\"x\",\"y\":[19600359186.0],\"yaxis\":\"y\",\"type\":\"scatter\"},{\"hovertemplate\":\"Country=TRINIDAD AND TOBAGO<extra></extra>\",\"legendgroup\":\"TRINIDAD AND TOBAGO\",\"marker\":{\"color\":\"#E377C2\",\"symbol\":\"circle\"},\"mode\":\"lines\",\"name\":\"TRINIDAD AND TOBAGO\",\"showlegend\":false,\"xaxis\":\"x\",\"yaxis\":\"y\",\"type\":\"scatter\"},{\"hovertemplate\":\"Country=TUNISIA<br>AverageTemperature=%{x}<br>GHG=%{y}<extra></extra>\",\"legendgroup\":\"TUNISIA\",\"marker\":{\"color\":\"#7F7F7F\",\"symbol\":\"circle\"},\"mode\":\"markers\",\"name\":\"TUNISIA\",\"orientation\":\"v\",\"showlegend\":true,\"x\":[1033.8710833333332],\"xaxis\":\"x\",\"y\":[5999953146.0],\"yaxis\":\"y\",\"type\":\"scatter\"},{\"hovertemplate\":\"Country=TUNISIA<extra></extra>\",\"legendgroup\":\"TUNISIA\",\"marker\":{\"color\":\"#7F7F7F\",\"symbol\":\"circle\"},\"mode\":\"lines\",\"name\":\"TUNISIA\",\"showlegend\":false,\"xaxis\":\"x\",\"yaxis\":\"y\",\"type\":\"scatter\"},{\"hovertemplate\":\"Country=TURKEY<br>AverageTemperature=%{x}<br>GHG=%{y}<extra></extra>\",\"legendgroup\":\"TURKEY\",\"marker\":{\"color\":\"#BCBD22\",\"symbol\":\"circle\"},\"mode\":\"markers\",\"name\":\"TURKEY\",\"orientation\":\"v\",\"showlegend\":true,\"x\":[610.981],\"xaxis\":\"x\",\"y\":[69000493925.0],\"yaxis\":\"y\",\"type\":\"scatter\"},{\"hovertemplate\":\"Country=TURKEY<extra></extra>\",\"legendgroup\":\"TURKEY\",\"marker\":{\"color\":\"#BCBD22\",\"symbol\":\"circle\"},\"mode\":\"lines\",\"name\":\"TURKEY\",\"showlegend\":false,\"xaxis\":\"x\",\"yaxis\":\"y\",\"type\":\"scatter\"},{\"hovertemplate\":\"Country=TURKMENISTAN<br>AverageTemperature=%{x}<br>GHG=%{y}<extra></extra>\",\"legendgroup\":\"TURKMENISTAN\",\"marker\":{\"color\":\"#17BECF\",\"symbol\":\"circle\"},\"mode\":\"markers\",\"name\":\"TURKMENISTAN\",\"orientation\":\"v\",\"showlegend\":true,\"x\":[775.6345],\"xaxis\":\"x\",\"y\":[22635030063.0],\"yaxis\":\"y\",\"type\":\"scatter\"},{\"hovertemplate\":\"Country=TURKMENISTAN<extra></extra>\",\"legendgroup\":\"TURKMENISTAN\",\"marker\":{\"color\":\"#17BECF\",\"symbol\":\"circle\"},\"mode\":\"lines\",\"name\":\"TURKMENISTAN\",\"showlegend\":false,\"xaxis\":\"x\",\"yaxis\":\"y\",\"type\":\"scatter\"},{\"hovertemplate\":\"Country=TURKS AND CAICOS ISLANDS<br>AverageTemperature=%{x}<br>GHG=%{y}<extra></extra>\",\"legendgroup\":\"TURKS AND CAICOS ISLANDS\",\"marker\":{\"color\":\"#1F77B4\",\"symbol\":\"circle\"},\"mode\":\"markers\",\"name\":\"TURKS AND CAICOS ISLANDS\",\"orientation\":\"v\",\"showlegend\":true,\"x\":[1376.7065],\"xaxis\":\"x\",\"y\":[2663728.0],\"yaxis\":\"y\",\"type\":\"scatter\"},{\"hovertemplate\":\"Country=TURKS AND CAICOS ISLANDS<extra></extra>\",\"legendgroup\":\"TURKS AND CAICOS ISLANDS\",\"marker\":{\"color\":\"#1F77B4\",\"symbol\":\"circle\"},\"mode\":\"lines\",\"name\":\"TURKS AND CAICOS ISLANDS\",\"showlegend\":false,\"xaxis\":\"x\",\"yaxis\":\"y\",\"type\":\"scatter\"},{\"hovertemplate\":\"Country=UGANDA<br>AverageTemperature=%{x}<br>GHG=%{y}<extra></extra>\",\"legendgroup\":\"UGANDA\",\"marker\":{\"color\":\"#FF7F0E\",\"symbol\":\"circle\"},\"mode\":\"markers\",\"name\":\"UGANDA\",\"orientation\":\"v\",\"showlegend\":true,\"x\":[1183.672],\"xaxis\":\"x\",\"y\":[797994001.0],\"yaxis\":\"y\",\"type\":\"scatter\"},{\"hovertemplate\":\"Country=UGANDA<extra></extra>\",\"legendgroup\":\"UGANDA\",\"marker\":{\"color\":\"#FF7F0E\",\"symbol\":\"circle\"},\"mode\":\"lines\",\"name\":\"UGANDA\",\"showlegend\":false,\"xaxis\":\"x\",\"yaxis\":\"y\",\"type\":\"scatter\"},{\"hovertemplate\":\"Country=UKRAINE<br>AverageTemperature=%{x}<br>GHG=%{y}<extra></extra>\",\"legendgroup\":\"UKRAINE\",\"marker\":{\"color\":\"#2CA02C\",\"symbol\":\"circle\"},\"mode\":\"markers\",\"name\":\"UKRAINE\",\"orientation\":\"v\",\"showlegend\":true,\"x\":[410.8190833333333],\"xaxis\":\"x\",\"y\":[423102062610.0],\"yaxis\":\"y\",\"type\":\"scatter\"},{\"hovertemplate\":\"Country=UKRAINE<extra></extra>\",\"legendgroup\":\"UKRAINE\",\"marker\":{\"color\":\"#2CA02C\",\"symbol\":\"circle\"},\"mode\":\"lines\",\"name\":\"UKRAINE\",\"showlegend\":false,\"xaxis\":\"x\",\"yaxis\":\"y\",\"type\":\"scatter\"},{\"hovertemplate\":\"Country=UNITED ARAB EMIRATES<br>AverageTemperature=%{x}<br>GHG=%{y}<extra></extra>\",\"legendgroup\":\"UNITED ARAB EMIRATES\",\"marker\":{\"color\":\"#D62728\",\"symbol\":\"circle\"},\"mode\":\"markers\",\"name\":\"UNITED ARAB EMIRATES\",\"orientation\":\"v\",\"showlegend\":true,\"x\":[1422.627],\"xaxis\":\"x\",\"y\":[19832300841.0],\"yaxis\":\"y\",\"type\":\"scatter\"},{\"hovertemplate\":\"Country=UNITED ARAB EMIRATES<extra></extra>\",\"legendgroup\":\"UNITED ARAB EMIRATES\",\"marker\":{\"color\":\"#D62728\",\"symbol\":\"circle\"},\"mode\":\"lines\",\"name\":\"UNITED ARAB EMIRATES\",\"showlegend\":false,\"xaxis\":\"x\",\"yaxis\":\"y\",\"type\":\"scatter\"},{\"hovertemplate\":\"Country=UNITED KINGDOM<br>AverageTemperature=%{x}<br>GHG=%{y}<extra></extra>\",\"legendgroup\":\"UNITED KINGDOM\",\"marker\":{\"color\":\"#9467BD\",\"symbol\":\"circle\"},\"mode\":\"markers\",\"name\":\"UNITED KINGDOM\",\"orientation\":\"v\",\"showlegend\":true,\"x\":[455.8238333333333],\"xaxis\":\"x\",\"y\":[2744666757254.0],\"yaxis\":\"y\",\"type\":\"scatter\"},{\"hovertemplate\":\"Country=UNITED KINGDOM<extra></extra>\",\"legendgroup\":\"UNITED KINGDOM\",\"marker\":{\"color\":\"#9467BD\",\"symbol\":\"circle\"},\"mode\":\"lines\",\"name\":\"UNITED KINGDOM\",\"showlegend\":false,\"xaxis\":\"x\",\"yaxis\":\"y\",\"type\":\"scatter\"},{\"hovertemplate\":\"Country=UNITED STATES<br>AverageTemperature=%{x}<br>GHG=%{y}<extra></extra>\",\"legendgroup\":\"UNITED STATES\",\"marker\":{\"color\":\"#8C564B\",\"symbol\":\"circle\"},\"mode\":\"markers\",\"name\":\"UNITED STATES\",\"orientation\":\"v\",\"showlegend\":true,\"x\":[457.18916666666667],\"xaxis\":\"x\",\"y\":[9335760067776.0],\"yaxis\":\"y\",\"type\":\"scatter\"},{\"hovertemplate\":\"Country=UNITED STATES<extra></extra>\",\"legendgroup\":\"UNITED STATES\",\"marker\":{\"color\":\"#8C564B\",\"symbol\":\"circle\"},\"mode\":\"lines\",\"name\":\"UNITED STATES\",\"showlegend\":false,\"xaxis\":\"x\",\"yaxis\":\"y\",\"type\":\"scatter\"},{\"hovertemplate\":\"Country=URUGUAY<br>AverageTemperature=%{x}<br>GHG=%{y}<extra></extra>\",\"legendgroup\":\"URUGUAY\",\"marker\":{\"color\":\"#E377C2\",\"symbol\":\"circle\"},\"mode\":\"markers\",\"name\":\"URUGUAY\",\"orientation\":\"v\",\"showlegend\":true,\"x\":[893.579],\"xaxis\":\"x\",\"y\":[6052978621.0],\"yaxis\":\"y\",\"type\":\"scatter\"},{\"hovertemplate\":\"Country=URUGUAY<extra></extra>\",\"legendgroup\":\"URUGUAY\",\"marker\":{\"color\":\"#E377C2\",\"symbol\":\"circle\"},\"mode\":\"lines\",\"name\":\"URUGUAY\",\"showlegend\":false,\"xaxis\":\"x\",\"yaxis\":\"y\",\"type\":\"scatter\"},{\"hovertemplate\":\"Country=UZBEKISTAN<br>AverageTemperature=%{x}<br>GHG=%{y}<extra></extra>\",\"legendgroup\":\"UZBEKISTAN\",\"marker\":{\"color\":\"#7F7F7F\",\"symbol\":\"circle\"},\"mode\":\"markers\",\"name\":\"UZBEKISTAN\",\"orientation\":\"v\",\"showlegend\":true,\"x\":[649.1770833333334],\"xaxis\":\"x\",\"y\":[76538958170.0],\"yaxis\":\"y\",\"type\":\"scatter\"},{\"hovertemplate\":\"Country=UZBEKISTAN<extra></extra>\",\"legendgroup\":\"UZBEKISTAN\",\"marker\":{\"color\":\"#7F7F7F\",\"symbol\":\"circle\"},\"mode\":\"lines\",\"name\":\"UZBEKISTAN\",\"showlegend\":false,\"xaxis\":\"x\",\"yaxis\":\"y\",\"type\":\"scatter\"},{\"hovertemplate\":\"Country=VENEZUELA<br>AverageTemperature=%{x}<br>GHG=%{y}<extra></extra>\",\"legendgroup\":\"VENEZUELA\",\"marker\":{\"color\":\"#BCBD22\",\"symbol\":\"circle\"},\"mode\":\"markers\",\"name\":\"VENEZUELA\",\"orientation\":\"v\",\"showlegend\":true,\"x\":[1294.9859999999999],\"xaxis\":\"x\",\"y\":[103847138454.0],\"yaxis\":\"y\",\"type\":\"scatter\"},{\"hovertemplate\":\"Country=VENEZUELA<extra></extra>\",\"legendgroup\":\"VENEZUELA\",\"marker\":{\"color\":\"#BCBD22\",\"symbol\":\"circle\"},\"mode\":\"lines\",\"name\":\"VENEZUELA\",\"showlegend\":false,\"xaxis\":\"x\",\"yaxis\":\"y\",\"type\":\"scatter\"},{\"hovertemplate\":\"Country=VIETNAM<br>AverageTemperature=%{x}<br>GHG=%{y}<extra></extra>\",\"legendgroup\":\"VIETNAM\",\"marker\":{\"color\":\"#17BECF\",\"symbol\":\"circle\"},\"mode\":\"markers\",\"name\":\"VIETNAM\",\"orientation\":\"v\",\"showlegend\":true,\"x\":[1224.618],\"xaxis\":\"x\",\"y\":[17294780521.0],\"yaxis\":\"y\",\"type\":\"scatter\"},{\"hovertemplate\":\"Country=VIETNAM<extra></extra>\",\"legendgroup\":\"VIETNAM\",\"marker\":{\"color\":\"#17BECF\",\"symbol\":\"circle\"},\"mode\":\"lines\",\"name\":\"VIETNAM\",\"showlegend\":false,\"xaxis\":\"x\",\"yaxis\":\"y\",\"type\":\"scatter\"},{\"hovertemplate\":\"Country=VIRGIN ISLANDS, BRITISH<br>AverageTemperature=%{x}<br>GHG=%{y}<extra></extra>\",\"legendgroup\":\"VIRGIN ISLANDS, BRITISH\",\"marker\":{\"color\":\"#1F77B4\",\"symbol\":\"circle\"},\"mode\":\"markers\",\"name\":\"VIRGIN ISLANDS, BRITISH\",\"orientation\":\"v\",\"showlegend\":true,\"x\":[1359.8878333333332],\"xaxis\":\"x\",\"y\":[0.0],\"yaxis\":\"y\",\"type\":\"scatter\"},{\"hovertemplate\":\"Country=VIRGIN ISLANDS, BRITISH<extra></extra>\",\"legendgroup\":\"VIRGIN ISLANDS, BRITISH\",\"marker\":{\"color\":\"#1F77B4\",\"symbol\":\"circle\"},\"mode\":\"lines\",\"name\":\"VIRGIN ISLANDS, BRITISH\",\"showlegend\":false,\"xaxis\":\"x\",\"yaxis\":\"y\",\"type\":\"scatter\"},{\"hovertemplate\":\"Country=YEMEN<br>AverageTemperature=%{x}<br>GHG=%{y}<extra></extra>\",\"legendgroup\":\"YEMEN\",\"marker\":{\"color\":\"#FF7F0E\",\"symbol\":\"circle\"},\"mode\":\"markers\",\"name\":\"YEMEN\",\"orientation\":\"v\",\"showlegend\":true,\"x\":[1345.1595],\"xaxis\":\"x\",\"y\":[4750984077.0],\"yaxis\":\"y\",\"type\":\"scatter\"},{\"hovertemplate\":\"Country=YEMEN<extra></extra>\",\"legendgroup\":\"YEMEN\",\"marker\":{\"color\":\"#FF7F0E\",\"symbol\":\"circle\"},\"mode\":\"lines\",\"name\":\"YEMEN\",\"showlegend\":false,\"xaxis\":\"x\",\"yaxis\":\"y\",\"type\":\"scatter\"},{\"hovertemplate\":\"Country=ZAMBIA<br>AverageTemperature=%{x}<br>GHG=%{y}<extra></extra>\",\"legendgroup\":\"ZAMBIA\",\"marker\":{\"color\":\"#2CA02C\",\"symbol\":\"circle\"},\"mode\":\"markers\",\"name\":\"ZAMBIA\",\"orientation\":\"v\",\"showlegend\":true,\"x\":[1097.1050833333334],\"xaxis\":\"x\",\"y\":[3330755484.0],\"yaxis\":\"y\",\"type\":\"scatter\"},{\"hovertemplate\":\"Country=ZAMBIA<extra></extra>\",\"legendgroup\":\"ZAMBIA\",\"marker\":{\"color\":\"#2CA02C\",\"symbol\":\"circle\"},\"mode\":\"lines\",\"name\":\"ZAMBIA\",\"showlegend\":false,\"xaxis\":\"x\",\"yaxis\":\"y\",\"type\":\"scatter\"},{\"hovertemplate\":\"Country=ZIMBABWE<br>AverageTemperature=%{x}<br>GHG=%{y}<extra></extra>\",\"legendgroup\":\"ZIMBABWE\",\"marker\":{\"color\":\"#D62728\",\"symbol\":\"circle\"},\"mode\":\"markers\",\"name\":\"ZIMBABWE\",\"orientation\":\"v\",\"showlegend\":true,\"x\":[1091.0711666666666],\"xaxis\":\"x\",\"y\":[12340662375.0],\"yaxis\":\"y\",\"type\":\"scatter\"},{\"hovertemplate\":\"Country=ZIMBABWE<extra></extra>\",\"legendgroup\":\"ZIMBABWE\",\"marker\":{\"color\":\"#D62728\",\"symbol\":\"circle\"},\"mode\":\"lines\",\"name\":\"ZIMBABWE\",\"showlegend\":false,\"xaxis\":\"x\",\"yaxis\":\"y\",\"type\":\"scatter\"}],                        {\"template\":{\"data\":{\"barpolar\":[{\"marker\":{\"line\":{\"color\":\"white\",\"width\":0.5},\"pattern\":{\"fillmode\":\"overlay\",\"size\":10,\"solidity\":0.2}},\"type\":\"barpolar\"}],\"bar\":[{\"error_x\":{\"color\":\"rgb(36,36,36)\"},\"error_y\":{\"color\":\"rgb(36,36,36)\"},\"marker\":{\"line\":{\"color\":\"white\",\"width\":0.5},\"pattern\":{\"fillmode\":\"overlay\",\"size\":10,\"solidity\":0.2}},\"type\":\"bar\"}],\"carpet\":[{\"aaxis\":{\"endlinecolor\":\"rgb(36,36,36)\",\"gridcolor\":\"white\",\"linecolor\":\"white\",\"minorgridcolor\":\"white\",\"startlinecolor\":\"rgb(36,36,36)\"},\"baxis\":{\"endlinecolor\":\"rgb(36,36,36)\",\"gridcolor\":\"white\",\"linecolor\":\"white\",\"minorgridcolor\":\"white\",\"startlinecolor\":\"rgb(36,36,36)\"},\"type\":\"carpet\"}],\"choropleth\":[{\"colorbar\":{\"outlinewidth\":1,\"tickcolor\":\"rgb(36,36,36)\",\"ticks\":\"outside\"},\"type\":\"choropleth\"}],\"contourcarpet\":[{\"colorbar\":{\"outlinewidth\":1,\"tickcolor\":\"rgb(36,36,36)\",\"ticks\":\"outside\"},\"type\":\"contourcarpet\"}],\"contour\":[{\"colorbar\":{\"outlinewidth\":1,\"tickcolor\":\"rgb(36,36,36)\",\"ticks\":\"outside\"},\"colorscale\":[[0.0,\"#440154\"],[0.1111111111111111,\"#482878\"],[0.2222222222222222,\"#3e4989\"],[0.3333333333333333,\"#31688e\"],[0.4444444444444444,\"#26828e\"],[0.5555555555555556,\"#1f9e89\"],[0.6666666666666666,\"#35b779\"],[0.7777777777777778,\"#6ece58\"],[0.8888888888888888,\"#b5de2b\"],[1.0,\"#fde725\"]],\"type\":\"contour\"}],\"heatmapgl\":[{\"colorbar\":{\"outlinewidth\":1,\"tickcolor\":\"rgb(36,36,36)\",\"ticks\":\"outside\"},\"colorscale\":[[0.0,\"#440154\"],[0.1111111111111111,\"#482878\"],[0.2222222222222222,\"#3e4989\"],[0.3333333333333333,\"#31688e\"],[0.4444444444444444,\"#26828e\"],[0.5555555555555556,\"#1f9e89\"],[0.6666666666666666,\"#35b779\"],[0.7777777777777778,\"#6ece58\"],[0.8888888888888888,\"#b5de2b\"],[1.0,\"#fde725\"]],\"type\":\"heatmapgl\"}],\"heatmap\":[{\"colorbar\":{\"outlinewidth\":1,\"tickcolor\":\"rgb(36,36,36)\",\"ticks\":\"outside\"},\"colorscale\":[[0.0,\"#440154\"],[0.1111111111111111,\"#482878\"],[0.2222222222222222,\"#3e4989\"],[0.3333333333333333,\"#31688e\"],[0.4444444444444444,\"#26828e\"],[0.5555555555555556,\"#1f9e89\"],[0.6666666666666666,\"#35b779\"],[0.7777777777777778,\"#6ece58\"],[0.8888888888888888,\"#b5de2b\"],[1.0,\"#fde725\"]],\"type\":\"heatmap\"}],\"histogram2dcontour\":[{\"colorbar\":{\"outlinewidth\":1,\"tickcolor\":\"rgb(36,36,36)\",\"ticks\":\"outside\"},\"colorscale\":[[0.0,\"#440154\"],[0.1111111111111111,\"#482878\"],[0.2222222222222222,\"#3e4989\"],[0.3333333333333333,\"#31688e\"],[0.4444444444444444,\"#26828e\"],[0.5555555555555556,\"#1f9e89\"],[0.6666666666666666,\"#35b779\"],[0.7777777777777778,\"#6ece58\"],[0.8888888888888888,\"#b5de2b\"],[1.0,\"#fde725\"]],\"type\":\"histogram2dcontour\"}],\"histogram2d\":[{\"colorbar\":{\"outlinewidth\":1,\"tickcolor\":\"rgb(36,36,36)\",\"ticks\":\"outside\"},\"colorscale\":[[0.0,\"#440154\"],[0.1111111111111111,\"#482878\"],[0.2222222222222222,\"#3e4989\"],[0.3333333333333333,\"#31688e\"],[0.4444444444444444,\"#26828e\"],[0.5555555555555556,\"#1f9e89\"],[0.6666666666666666,\"#35b779\"],[0.7777777777777778,\"#6ece58\"],[0.8888888888888888,\"#b5de2b\"],[1.0,\"#fde725\"]],\"type\":\"histogram2d\"}],\"histogram\":[{\"marker\":{\"line\":{\"color\":\"white\",\"width\":0.6}},\"type\":\"histogram\"}],\"mesh3d\":[{\"colorbar\":{\"outlinewidth\":1,\"tickcolor\":\"rgb(36,36,36)\",\"ticks\":\"outside\"},\"type\":\"mesh3d\"}],\"parcoords\":[{\"line\":{\"colorbar\":{\"outlinewidth\":1,\"tickcolor\":\"rgb(36,36,36)\",\"ticks\":\"outside\"}},\"type\":\"parcoords\"}],\"pie\":[{\"automargin\":true,\"type\":\"pie\"}],\"scatter3d\":[{\"line\":{\"colorbar\":{\"outlinewidth\":1,\"tickcolor\":\"rgb(36,36,36)\",\"ticks\":\"outside\"}},\"marker\":{\"colorbar\":{\"outlinewidth\":1,\"tickcolor\":\"rgb(36,36,36)\",\"ticks\":\"outside\"}},\"type\":\"scatter3d\"}],\"scattercarpet\":[{\"marker\":{\"colorbar\":{\"outlinewidth\":1,\"tickcolor\":\"rgb(36,36,36)\",\"ticks\":\"outside\"}},\"type\":\"scattercarpet\"}],\"scattergeo\":[{\"marker\":{\"colorbar\":{\"outlinewidth\":1,\"tickcolor\":\"rgb(36,36,36)\",\"ticks\":\"outside\"}},\"type\":\"scattergeo\"}],\"scattergl\":[{\"marker\":{\"colorbar\":{\"outlinewidth\":1,\"tickcolor\":\"rgb(36,36,36)\",\"ticks\":\"outside\"}},\"type\":\"scattergl\"}],\"scattermapbox\":[{\"marker\":{\"colorbar\":{\"outlinewidth\":1,\"tickcolor\":\"rgb(36,36,36)\",\"ticks\":\"outside\"}},\"type\":\"scattermapbox\"}],\"scatterpolargl\":[{\"marker\":{\"colorbar\":{\"outlinewidth\":1,\"tickcolor\":\"rgb(36,36,36)\",\"ticks\":\"outside\"}},\"type\":\"scatterpolargl\"}],\"scatterpolar\":[{\"marker\":{\"colorbar\":{\"outlinewidth\":1,\"tickcolor\":\"rgb(36,36,36)\",\"ticks\":\"outside\"}},\"type\":\"scatterpolar\"}],\"scatter\":[{\"marker\":{\"colorbar\":{\"outlinewidth\":1,\"tickcolor\":\"rgb(36,36,36)\",\"ticks\":\"outside\"}},\"type\":\"scatter\"}],\"scatterternary\":[{\"marker\":{\"colorbar\":{\"outlinewidth\":1,\"tickcolor\":\"rgb(36,36,36)\",\"ticks\":\"outside\"}},\"type\":\"scatterternary\"}],\"surface\":[{\"colorbar\":{\"outlinewidth\":1,\"tickcolor\":\"rgb(36,36,36)\",\"ticks\":\"outside\"},\"colorscale\":[[0.0,\"#440154\"],[0.1111111111111111,\"#482878\"],[0.2222222222222222,\"#3e4989\"],[0.3333333333333333,\"#31688e\"],[0.4444444444444444,\"#26828e\"],[0.5555555555555556,\"#1f9e89\"],[0.6666666666666666,\"#35b779\"],[0.7777777777777778,\"#6ece58\"],[0.8888888888888888,\"#b5de2b\"],[1.0,\"#fde725\"]],\"type\":\"surface\"}],\"table\":[{\"cells\":{\"fill\":{\"color\":\"rgb(237,237,237)\"},\"line\":{\"color\":\"white\"}},\"header\":{\"fill\":{\"color\":\"rgb(217,217,217)\"},\"line\":{\"color\":\"white\"}},\"type\":\"table\"}]},\"layout\":{\"annotationdefaults\":{\"arrowhead\":0,\"arrowwidth\":1},\"autotypenumbers\":\"strict\",\"coloraxis\":{\"colorbar\":{\"outlinewidth\":1,\"tickcolor\":\"rgb(36,36,36)\",\"ticks\":\"outside\"}},\"colorscale\":{\"diverging\":[[0.0,\"rgb(103,0,31)\"],[0.1,\"rgb(178,24,43)\"],[0.2,\"rgb(214,96,77)\"],[0.3,\"rgb(244,165,130)\"],[0.4,\"rgb(253,219,199)\"],[0.5,\"rgb(247,247,247)\"],[0.6,\"rgb(209,229,240)\"],[0.7,\"rgb(146,197,222)\"],[0.8,\"rgb(67,147,195)\"],[0.9,\"rgb(33,102,172)\"],[1.0,\"rgb(5,48,97)\"]],\"sequential\":[[0.0,\"#440154\"],[0.1111111111111111,\"#482878\"],[0.2222222222222222,\"#3e4989\"],[0.3333333333333333,\"#31688e\"],[0.4444444444444444,\"#26828e\"],[0.5555555555555556,\"#1f9e89\"],[0.6666666666666666,\"#35b779\"],[0.7777777777777778,\"#6ece58\"],[0.8888888888888888,\"#b5de2b\"],[1.0,\"#fde725\"]],\"sequentialminus\":[[0.0,\"#440154\"],[0.1111111111111111,\"#482878\"],[0.2222222222222222,\"#3e4989\"],[0.3333333333333333,\"#31688e\"],[0.4444444444444444,\"#26828e\"],[0.5555555555555556,\"#1f9e89\"],[0.6666666666666666,\"#35b779\"],[0.7777777777777778,\"#6ece58\"],[0.8888888888888888,\"#b5de2b\"],[1.0,\"#fde725\"]]},\"colorway\":[\"#1F77B4\",\"#FF7F0E\",\"#2CA02C\",\"#D62728\",\"#9467BD\",\"#8C564B\",\"#E377C2\",\"#7F7F7F\",\"#BCBD22\",\"#17BECF\"],\"font\":{\"color\":\"rgb(36,36,36)\"},\"geo\":{\"bgcolor\":\"white\",\"lakecolor\":\"white\",\"landcolor\":\"white\",\"showlakes\":true,\"showland\":true,\"subunitcolor\":\"white\"},\"hoverlabel\":{\"align\":\"left\"},\"hovermode\":\"closest\",\"mapbox\":{\"style\":\"light\"},\"paper_bgcolor\":\"white\",\"plot_bgcolor\":\"white\",\"polar\":{\"angularaxis\":{\"gridcolor\":\"rgb(232,232,232)\",\"linecolor\":\"rgb(36,36,36)\",\"showgrid\":false,\"showline\":true,\"ticks\":\"outside\"},\"bgcolor\":\"white\",\"radialaxis\":{\"gridcolor\":\"rgb(232,232,232)\",\"linecolor\":\"rgb(36,36,36)\",\"showgrid\":false,\"showline\":true,\"ticks\":\"outside\"}},\"scene\":{\"xaxis\":{\"backgroundcolor\":\"white\",\"gridcolor\":\"rgb(232,232,232)\",\"gridwidth\":2,\"linecolor\":\"rgb(36,36,36)\",\"showbackground\":true,\"showgrid\":false,\"showline\":true,\"ticks\":\"outside\",\"zeroline\":false,\"zerolinecolor\":\"rgb(36,36,36)\"},\"yaxis\":{\"backgroundcolor\":\"white\",\"gridcolor\":\"rgb(232,232,232)\",\"gridwidth\":2,\"linecolor\":\"rgb(36,36,36)\",\"showbackground\":true,\"showgrid\":false,\"showline\":true,\"ticks\":\"outside\",\"zeroline\":false,\"zerolinecolor\":\"rgb(36,36,36)\"},\"zaxis\":{\"backgroundcolor\":\"white\",\"gridcolor\":\"rgb(232,232,232)\",\"gridwidth\":2,\"linecolor\":\"rgb(36,36,36)\",\"showbackground\":true,\"showgrid\":false,\"showline\":true,\"ticks\":\"outside\",\"zeroline\":false,\"zerolinecolor\":\"rgb(36,36,36)\"}},\"shapedefaults\":{\"fillcolor\":\"black\",\"line\":{\"width\":0},\"opacity\":0.3},\"ternary\":{\"aaxis\":{\"gridcolor\":\"rgb(232,232,232)\",\"linecolor\":\"rgb(36,36,36)\",\"showgrid\":false,\"showline\":true,\"ticks\":\"outside\"},\"baxis\":{\"gridcolor\":\"rgb(232,232,232)\",\"linecolor\":\"rgb(36,36,36)\",\"showgrid\":false,\"showline\":true,\"ticks\":\"outside\"},\"bgcolor\":\"white\",\"caxis\":{\"gridcolor\":\"rgb(232,232,232)\",\"linecolor\":\"rgb(36,36,36)\",\"showgrid\":false,\"showline\":true,\"ticks\":\"outside\"}},\"title\":{\"x\":0.05},\"xaxis\":{\"automargin\":true,\"gridcolor\":\"rgb(232,232,232)\",\"linecolor\":\"rgb(36,36,36)\",\"showgrid\":false,\"showline\":true,\"ticks\":\"outside\",\"title\":{\"standoff\":15},\"zeroline\":false,\"zerolinecolor\":\"rgb(36,36,36)\"},\"yaxis\":{\"automargin\":true,\"gridcolor\":\"rgb(232,232,232)\",\"linecolor\":\"rgb(36,36,36)\",\"showgrid\":false,\"showline\":true,\"ticks\":\"outside\",\"title\":{\"standoff\":15},\"zeroline\":false,\"zerolinecolor\":\"rgb(36,36,36)\"}}},\"xaxis\":{\"anchor\":\"y\",\"domain\":[0.0,1.0],\"title\":{\"text\":\"AverageTemperature\"}},\"yaxis\":{\"anchor\":\"x\",\"domain\":[0.0,1.0],\"title\":{\"text\":\"GHG\"}},\"legend\":{\"title\":{\"text\":\"Country\"},\"tracegroupgap\":0},\"margin\":{\"t\":60}},                        {\"responsive\": true}                    ).then(function(){\n",
       "                            \n",
       "var gd = document.getElementById('67ae6eeb-f29e-4476-82c0-4bf51cc6be80');\n",
       "var x = new MutationObserver(function (mutations, observer) {{\n",
       "        var display = window.getComputedStyle(gd).display;\n",
       "        if (!display || display === 'none') {{\n",
       "            console.log([gd, 'removed!']);\n",
       "            Plotly.purge(gd);\n",
       "            observer.disconnect();\n",
       "        }}\n",
       "}});\n",
       "\n",
       "// Listen for the removal of the full notebook cells\n",
       "var notebookContainer = gd.closest('#notebook-container');\n",
       "if (notebookContainer) {{\n",
       "    x.observe(notebookContainer, {childList: true});\n",
       "}}\n",
       "\n",
       "// Listen for the clearing of the current output cell\n",
       "var outputEl = gd.closest('.output');\n",
       "if (outputEl) {{\n",
       "    x.observe(outputEl, {childList: true});\n",
       "}}\n",
       "\n",
       "                        })                };                });            </script>        </div>"
      ]
     },
     "metadata": {},
     "output_type": "display_data"
    }
   ],
   "source": [
    "fig = px.scatter(df, x=\"AverageTemperature\", y=\"GHG\", color=\"Country\", marginal_y=\"violin\",\n",
    "           marginal_x=\"box\", trendline=\"ols\", template=\"simple_white\")\n",
    "fig.show()"
   ]
  },
  {
   "cell_type": "code",
   "execution_count": 25,
   "id": "49dd905b",
   "metadata": {},
   "outputs": [
    {
     "data": {
      "application/vnd.plotly.v1+json": {
       "config": {
        "plotlyServerURL": "https://plot.ly"
       },
       "data": [
        {
         "hovertemplate": "<b>%{hovertext}</b><br><br>AverageTemperature(above Average)=False<br>AverageTemperature=%{x}<br>GHG=%{y}<br>size=%{marker.size}<extra></extra>",
         "hovertext": [
          0,
          1,
          3,
          5,
          8,
          11,
          12,
          13,
          14,
          17,
          18,
          23,
          25,
          26,
          27,
          28,
          31,
          32,
          35,
          37,
          39,
          40,
          42,
          44,
          51,
          52,
          55,
          59,
          60,
          62,
          63,
          66,
          67,
          68,
          74,
          75,
          76
         ],
         "legendgroup": "False",
         "marker": {
          "color": "#0d0887",
          "size": [
           9.592605086913911,
           15.784967576388784,
           20.08107676980715,
           21.2208282794972,
           22.25498961859955,
           18.532775811522946,
           22.193947713072166,
           19.087616753495507,
           21.30706019652562,
           15.038264291359877,
           20.328164455419742,
           12.625151333590619,
           18.57877012547175,
           23.181332039096855,
           24.07943060240522,
           17.87824445965597,
           20.442349857441666,
           12.05645832750408,
           20.59174638928828,
           19.23056337163939,
           21.22425536615002,
           22.11325304311299,
           13.111585504232451,
           12.28384816969974,
           21.32429452683904,
           19.320443770674036,
           19.830822287216268,
           22.419676174144847,
           19.13752304465051,
           15.471040903723889,
           20.363838926963176,
           20.848629835021793,
           20.623304532612508,
           19.953272203244882,
           18.976667646870585,
           24.37778684647327,
           25.214940517211346
          ],
          "sizemode": "area",
          "sizeref": 0.06303735129302837,
          "symbol": "circle"
         },
         "mode": "markers",
         "name": "False",
         "orientation": "v",
         "showlegend": true,
         "type": "scatter",
         "x": [
          13.350083333333332,
          12.51825,
          14.771333333333333,
          6.962833333333333,
          10.454583333333334,
          10.300416666666663,
          -4.948583333333334,
          9.369166666666668,
          6.9755,
          7.137250000000001,
          9.236916666666668,
          6.746416666666666,
          3.045916666666667,
          11.525916666666667,
          9.1765,
          14.381749999999998,
          10.288833333333336,
          1.248333333333333,
          16.7755,
          10.576583333333334,
          13.354666666666668,
          12.102583333333332,
          7.181750000000001,
          10.12075,
          10.1195,
          10.464666666666666,
          1.2173333333333334,
          8.606333333333334,
          15.758666666666668,
          12.057833333333331,
          8.988166666666666,
          14.510083333333334,
          4.023333333333333,
          7.995833333333334,
          10.961,
          9.814333333333332,
          8.888083333333332
         ],
         "xaxis": "x",
         "y": [
          14656,
          7166784,
          526139408,
          1644707312,
          4626144416,
          111861920,
          4352201792,
          194825872,
          1792828176,
          3396528,
          673611744,
          304112,
          117127088,
          11682198672,
          28678989040,
          58133024,
          755091776,
          172208,
          876762224,
          224764416,
          1650353536,
          4014798688,
          494640,
          216176,
          1823994160,
          245902032,
          409653520,
          5454332992,
          204795616,
          5235856,
          698076272,
          1133560992,
          904872432,
          463016016,
          174366096,
          38649004176,
          89270820848
         ],
         "yaxis": "y"
        },
        {
         "alignmentgroup": "True",
         "hovertemplate": "<b>%{hovertext}</b><br><br>AverageTemperature(above Average)=False<br>AverageTemperature=%{x}<extra></extra>",
         "hovertext": [
          0,
          1,
          3,
          5,
          8,
          11,
          12,
          13,
          14,
          17,
          18,
          23,
          25,
          26,
          27,
          28,
          31,
          32,
          35,
          37,
          39,
          40,
          42,
          44,
          51,
          52,
          55,
          59,
          60,
          62,
          63,
          66,
          67,
          68,
          74,
          75,
          76
         ],
         "legendgroup": "False",
         "marker": {
          "color": "#0d0887",
          "symbol": "circle"
         },
         "name": "False",
         "notched": true,
         "offsetgroup": "False",
         "showlegend": false,
         "type": "box",
         "x": [
          13.350083333333332,
          12.51825,
          14.771333333333333,
          6.962833333333333,
          10.454583333333334,
          10.300416666666663,
          -4.948583333333334,
          9.369166666666668,
          6.9755,
          7.137250000000001,
          9.236916666666668,
          6.746416666666666,
          3.045916666666667,
          11.525916666666667,
          9.1765,
          14.381749999999998,
          10.288833333333336,
          1.248333333333333,
          16.7755,
          10.576583333333334,
          13.354666666666668,
          12.102583333333332,
          7.181750000000001,
          10.12075,
          10.1195,
          10.464666666666666,
          1.2173333333333334,
          8.606333333333334,
          15.758666666666668,
          12.057833333333331,
          8.988166666666666,
          14.510083333333334,
          4.023333333333333,
          7.995833333333334,
          10.961,
          9.814333333333332,
          8.888083333333332
         ],
         "xaxis": "x3",
         "yaxis": "y3"
        },
        {
         "alignmentgroup": "True",
         "hovertemplate": "<b>%{hovertext}</b><br><br>AverageTemperature(above Average)=False<br>GHG=%{y}<extra></extra>",
         "hovertext": [
          0,
          1,
          3,
          5,
          8,
          11,
          12,
          13,
          14,
          17,
          18,
          23,
          25,
          26,
          27,
          28,
          31,
          32,
          35,
          37,
          39,
          40,
          42,
          44,
          51,
          52,
          55,
          59,
          60,
          62,
          63,
          66,
          67,
          68,
          74,
          75,
          76
         ],
         "legendgroup": "False",
         "marker": {
          "color": "#0d0887",
          "symbol": "circle"
         },
         "name": "False",
         "notched": true,
         "offsetgroup": "False",
         "showlegend": false,
         "type": "box",
         "xaxis": "x2",
         "y": [
          14656,
          7166784,
          526139408,
          1644707312,
          4626144416,
          111861920,
          4352201792,
          194825872,
          1792828176,
          3396528,
          673611744,
          304112,
          117127088,
          11682198672,
          28678989040,
          58133024,
          755091776,
          172208,
          876762224,
          224764416,
          1650353536,
          4014798688,
          494640,
          216176,
          1823994160,
          245902032,
          409653520,
          5454332992,
          204795616,
          5235856,
          698076272,
          1133560992,
          904872432,
          463016016,
          174366096,
          38649004176,
          89270820848
         ],
         "yaxis": "y2"
        },
        {
         "hovertemplate": "<b>%{hovertext}</b><br><br>AverageTemperature(above Average)=True<br>AverageTemperature=%{x}<br>GHG=%{y}<br>size=%{marker.size}<extra></extra>",
         "hovertext": [
          2,
          4,
          6,
          7,
          9,
          10,
          15,
          16,
          19,
          20,
          21,
          22,
          24,
          29,
          30,
          33,
          34,
          36,
          38,
          41,
          43,
          45,
          46,
          47,
          48,
          49,
          50,
          53,
          54,
          56,
          57,
          58,
          61,
          64,
          65,
          69,
          70,
          71,
          72,
          73,
          77,
          78,
          79,
          80
         ],
         "legendgroup": "True",
         "marker": {
          "color": "#9c179e",
          "size": [
           15.803707046006815,
           20.97430792058933,
           17.646253744145152,
           10.69121737558202,
           14.572781173525458,
           19.27723675792811,
           18.03394262602661,
           13.971501828578866,
           10.914360926896231,
           16.877768876221687,
           17.982078536727776,
           11.150749704960461,
           10.604205998592391,
           11.7028182872605,
           12.380697995689658,
           21.47843631060827,
           20.166374131327395,
           18.676077530281106,
           14.288529636170468,
           16.17670563298545,
           14.05563550574088,
           10.40353530313024,
           18.00087587110596,
           20.918170322271962,
           15.928545470503629,
           13.879633992965513,
           17.63602756251517,
           10.69121737558202,
           17.207287169864365,
           10.771260083255557,
           19.059639833715387,
           14.981676816730412,
           12.468990602835337,
           18.61154279335995,
           21.08232077684655,
           13.203522999558135,
           18.853139399209343,
           13.268905758820988,
           19.060200539833072,
           14.177572565584484,
           14.30886932040759,
           19.47060815090865,
           18.71345829238856,
           18.354468460188638
          ],
          "sizemode": "area",
          "sizeref": 0.06303735129302837,
          "symbol": "circle"
         },
         "mode": "markers",
         "name": "True",
         "orientation": "v",
         "showlegend": true,
         "type": "scatter",
         "x": [
          23.18816666666667,
          20.984916666666667,
          25.39675,
          26.32541666666667,
          20.777916666666663,
          24.61683333333333,
          24.75358333333333,
          25.681833333333334,
          25.585083333333333,
          21.73033333333333,
          21.8925,
          26.69141666666667,
          22.93675,
          23.374166666666667,
          23.27308333333333,
          24.04725,
          25.757583333333333,
          21.055,
          18.87708333333333,
          24.63525,
          17.01975,
          22.98858333333333,
          25.980416666666667,
          20.916083333333336,
          18.15033333333333,
          23.79833333333333,
          23.7055,
          25.78483333333333,
          27.0685,
          26.09858333333333,
          19.85141666666667,
          26.55316666666667,
          26.396,
          25.0955,
          17.666999999999998,
          17.2775,
          22.36491666666667,
          26.249583333333334,
          26.09991666666667,
          20.146,
          17.28925,
          24.96366666666667,
          24.04433333333333,
          21.535083333333333
         ],
         "xaxis": "x",
         "y": [
          7302352,
          1285364176,
          46096784,
          43968,
          2132448,
          235503600,
          67926896,
          1168816,
          54960,
          21375776,
          64493728,
          69616,
          40304,
          120912,
          238160,
          2127974256,
          572987312,
          129097376,
          1604832,
          10603616,
          1271408,
          32976,
          65717504,
          1215194912,
          8273312,
          1066224,
          45627792,
          43968,
          29718704,
          47632,
          189450784,
          3209664,
          260144,
          121029248,
          1431975472,
          542272,
          154104176,
          578912,
          189557040,
          1436288,
          1637808,
          285744368,
          134014464,
          93593216
         ],
         "yaxis": "y"
        },
        {
         "alignmentgroup": "True",
         "hovertemplate": "<b>%{hovertext}</b><br><br>AverageTemperature(above Average)=True<br>AverageTemperature=%{x}<extra></extra>",
         "hovertext": [
          2,
          4,
          6,
          7,
          9,
          10,
          15,
          16,
          19,
          20,
          21,
          22,
          24,
          29,
          30,
          33,
          34,
          36,
          38,
          41,
          43,
          45,
          46,
          47,
          48,
          49,
          50,
          53,
          54,
          56,
          57,
          58,
          61,
          64,
          65,
          69,
          70,
          71,
          72,
          73,
          77,
          78,
          79,
          80
         ],
         "legendgroup": "True",
         "marker": {
          "color": "#9c179e",
          "symbol": "circle"
         },
         "name": "True",
         "notched": true,
         "offsetgroup": "True",
         "showlegend": false,
         "type": "box",
         "x": [
          23.18816666666667,
          20.984916666666667,
          25.39675,
          26.32541666666667,
          20.777916666666663,
          24.61683333333333,
          24.75358333333333,
          25.681833333333334,
          25.585083333333333,
          21.73033333333333,
          21.8925,
          26.69141666666667,
          22.93675,
          23.374166666666667,
          23.27308333333333,
          24.04725,
          25.757583333333333,
          21.055,
          18.87708333333333,
          24.63525,
          17.01975,
          22.98858333333333,
          25.980416666666667,
          20.916083333333336,
          18.15033333333333,
          23.79833333333333,
          23.7055,
          25.78483333333333,
          27.0685,
          26.09858333333333,
          19.85141666666667,
          26.55316666666667,
          26.396,
          25.0955,
          17.666999999999998,
          17.2775,
          22.36491666666667,
          26.249583333333334,
          26.09991666666667,
          20.146,
          17.28925,
          24.96366666666667,
          24.04433333333333,
          21.535083333333333
         ],
         "xaxis": "x3",
         "yaxis": "y3"
        },
        {
         "alignmentgroup": "True",
         "hovertemplate": "<b>%{hovertext}</b><br><br>AverageTemperature(above Average)=True<br>GHG=%{y}<extra></extra>",
         "hovertext": [
          2,
          4,
          6,
          7,
          9,
          10,
          15,
          16,
          19,
          20,
          21,
          22,
          24,
          29,
          30,
          33,
          34,
          36,
          38,
          41,
          43,
          45,
          46,
          47,
          48,
          49,
          50,
          53,
          54,
          56,
          57,
          58,
          61,
          64,
          65,
          69,
          70,
          71,
          72,
          73,
          77,
          78,
          79,
          80
         ],
         "legendgroup": "True",
         "marker": {
          "color": "#9c179e",
          "symbol": "circle"
         },
         "name": "True",
         "notched": true,
         "offsetgroup": "True",
         "showlegend": false,
         "type": "box",
         "xaxis": "x2",
         "y": [
          7302352,
          1285364176,
          46096784,
          43968,
          2132448,
          235503600,
          67926896,
          1168816,
          54960,
          21375776,
          64493728,
          69616,
          40304,
          120912,
          238160,
          2127974256,
          572987312,
          129097376,
          1604832,
          10603616,
          1271408,
          32976,
          65717504,
          1215194912,
          8273312,
          1066224,
          45627792,
          43968,
          29718704,
          47632,
          189450784,
          3209664,
          260144,
          121029248,
          1431975472,
          542272,
          154104176,
          578912,
          189557040,
          1436288,
          1637808,
          285744368,
          134014464,
          93593216
         ],
         "yaxis": "y2"
        },
        {
         "marker": {
          "color": "#fb9f3a"
         },
         "mode": "lines",
         "name": "OLS Trendline",
         "type": "scatter",
         "x": [
          9.592605086913911,
          15.784967576388784,
          15.803707046006815,
          20.08107676980715,
          20.97430792058933,
          21.2208282794972,
          17.646253744145152,
          10.69121737558202,
          22.25498961859955,
          14.572781173525458,
          19.27723675792811,
          18.532775811522946,
          22.193947713072166,
          19.087616753495507,
          21.30706019652562,
          18.03394262602661,
          13.971501828578866,
          15.038264291359877,
          20.328164455419742,
          10.914360926896231,
          16.877768876221687,
          17.982078536727776,
          11.150749704960461,
          12.625151333590619,
          10.604205998592391,
          18.57877012547175,
          23.181332039096855,
          24.07943060240522,
          17.87824445965597,
          11.7028182872605,
          12.380697995689658,
          20.442349857441666,
          12.05645832750408,
          21.47843631060827,
          20.166374131327395,
          20.59174638928828,
          18.676077530281106,
          19.23056337163939,
          14.288529636170468,
          21.22425536615002,
          22.11325304311299,
          16.17670563298545,
          13.111585504232451,
          14.05563550574088,
          12.28384816969974,
          10.40353530313024,
          18.00087587110596,
          20.918170322271962,
          15.928545470503629,
          13.879633992965513,
          17.63602756251517,
          21.32429452683904,
          19.320443770674036,
          10.69121737558202,
          17.207287169864365,
          19.830822287216268,
          10.771260083255557,
          19.059639833715387,
          14.981676816730412,
          22.419676174144847,
          19.13752304465051,
          12.468990602835337,
          15.471040903723889,
          20.363838926963176,
          18.61154279335995,
          21.08232077684655,
          20.848629835021793,
          20.623304532612508,
          19.953272203244882,
          13.203522999558135,
          18.853139399209343,
          13.268905758820988,
          19.060200539833072,
          14.177572565584484,
          18.976667646870585,
          24.37778684647327,
          25.214940517211346,
          14.30886932040759,
          19.47060815090865,
          18.71345829238856,
          18.354468460188638
         ],
         "y": [
          23.162690535755388,
          18.15229507003602,
          18.137132496177696,
          14.67620560345118,
          13.953469924568491,
          13.754004132541795,
          16.6462818495271,
          22.27377583816102,
          12.917238311246976,
          19.13310542583096,
          15.326612674666432,
          15.928974657934294,
          12.966628844697352,
          15.480038965849102,
          13.684231730358647,
          16.33259307255542,
          19.619615591970568,
          18.756471385603078,
          14.47628077318928,
          22.093224806206806,
          17.26808218893911,
          16.374557605203215,
          21.901956729802514,
          20.708981472411814,
          22.344178920906227,
          15.891759507424347,
          12.16771147536615,
          11.441037451192397,
          16.458572355604534,
          21.455264223311858,
          20.906774786010743,
          14.383890506709498,
          21.16912521624551,
          13.5455670274457,
          14.607189373518702,
          14.263010033863997,
          15.813025650892788,
          15.364377279601666,
          19.363100458632722,
          13.751231190961727,
          13.031920921696782,
          17.835330004464076,
          20.315395411018066,
          19.551540928175715,
          20.985138404067726,
          22.506546602765173,
          16.35934821151928,
          13.998892260315758,
          18.036122602601615,
          19.69394815693022,
          16.654556109013292,
          13.670287002380618,
          15.291652799317175,
          22.27377583816102,
          17.0014606907395,
          14.87869276840325,
          22.209011280163477,
          15.502675791818085,
          18.802257727533462,
          12.783986297565347,
          15.439658536677051,
          20.835335027881083,
          18.40630099749295,
          14.447415665442929,
          15.865242321638524,
          13.866074019346465,
          14.05515920893099,
          14.237475550298639,
          14.779615476805692,
          20.241006482641804,
          15.669760461437596,
          20.188103655796052,
          15.502222110465544,
          19.452878601352637,
          15.569810664728807,
          11.199629947192355,
          10.522267960857462,
          19.34664311107772,
          15.170151041124097,
          15.782779940747966,
          16.07324759837477
         ]
        }
       ],
       "layout": {
        "legend": {
         "itemsizing": "constant",
         "title": {
          "text": "AverageTemperature(above Average)"
         },
         "tracegroupgap": 0
        },
        "margin": {
         "t": 60
        },
        "template": {
         "data": {
          "bar": [
           {
            "error_x": {
             "color": "rgb(36,36,36)"
            },
            "error_y": {
             "color": "rgb(36,36,36)"
            },
            "marker": {
             "line": {
              "color": "white",
              "width": 0.5
             },
             "pattern": {
              "fillmode": "overlay",
              "size": 10,
              "solidity": 0.2
             }
            },
            "type": "bar"
           }
          ],
          "barpolar": [
           {
            "marker": {
             "line": {
              "color": "white",
              "width": 0.5
             },
             "pattern": {
              "fillmode": "overlay",
              "size": 10,
              "solidity": 0.2
             }
            },
            "type": "barpolar"
           }
          ],
          "carpet": [
           {
            "aaxis": {
             "endlinecolor": "rgb(36,36,36)",
             "gridcolor": "white",
             "linecolor": "white",
             "minorgridcolor": "white",
             "startlinecolor": "rgb(36,36,36)"
            },
            "baxis": {
             "endlinecolor": "rgb(36,36,36)",
             "gridcolor": "white",
             "linecolor": "white",
             "minorgridcolor": "white",
             "startlinecolor": "rgb(36,36,36)"
            },
            "type": "carpet"
           }
          ],
          "choropleth": [
           {
            "colorbar": {
             "outlinewidth": 1,
             "tickcolor": "rgb(36,36,36)",
             "ticks": "outside"
            },
            "type": "choropleth"
           }
          ],
          "contour": [
           {
            "colorbar": {
             "outlinewidth": 1,
             "tickcolor": "rgb(36,36,36)",
             "ticks": "outside"
            },
            "colorscale": [
             [
              0,
              "#440154"
             ],
             [
              0.1111111111111111,
              "#482878"
             ],
             [
              0.2222222222222222,
              "#3e4989"
             ],
             [
              0.3333333333333333,
              "#31688e"
             ],
             [
              0.4444444444444444,
              "#26828e"
             ],
             [
              0.5555555555555556,
              "#1f9e89"
             ],
             [
              0.6666666666666666,
              "#35b779"
             ],
             [
              0.7777777777777778,
              "#6ece58"
             ],
             [
              0.8888888888888888,
              "#b5de2b"
             ],
             [
              1,
              "#fde725"
             ]
            ],
            "type": "contour"
           }
          ],
          "contourcarpet": [
           {
            "colorbar": {
             "outlinewidth": 1,
             "tickcolor": "rgb(36,36,36)",
             "ticks": "outside"
            },
            "type": "contourcarpet"
           }
          ],
          "heatmap": [
           {
            "colorbar": {
             "outlinewidth": 1,
             "tickcolor": "rgb(36,36,36)",
             "ticks": "outside"
            },
            "colorscale": [
             [
              0,
              "#440154"
             ],
             [
              0.1111111111111111,
              "#482878"
             ],
             [
              0.2222222222222222,
              "#3e4989"
             ],
             [
              0.3333333333333333,
              "#31688e"
             ],
             [
              0.4444444444444444,
              "#26828e"
             ],
             [
              0.5555555555555556,
              "#1f9e89"
             ],
             [
              0.6666666666666666,
              "#35b779"
             ],
             [
              0.7777777777777778,
              "#6ece58"
             ],
             [
              0.8888888888888888,
              "#b5de2b"
             ],
             [
              1,
              "#fde725"
             ]
            ],
            "type": "heatmap"
           }
          ],
          "heatmapgl": [
           {
            "colorbar": {
             "outlinewidth": 1,
             "tickcolor": "rgb(36,36,36)",
             "ticks": "outside"
            },
            "colorscale": [
             [
              0,
              "#440154"
             ],
             [
              0.1111111111111111,
              "#482878"
             ],
             [
              0.2222222222222222,
              "#3e4989"
             ],
             [
              0.3333333333333333,
              "#31688e"
             ],
             [
              0.4444444444444444,
              "#26828e"
             ],
             [
              0.5555555555555556,
              "#1f9e89"
             ],
             [
              0.6666666666666666,
              "#35b779"
             ],
             [
              0.7777777777777778,
              "#6ece58"
             ],
             [
              0.8888888888888888,
              "#b5de2b"
             ],
             [
              1,
              "#fde725"
             ]
            ],
            "type": "heatmapgl"
           }
          ],
          "histogram": [
           {
            "marker": {
             "line": {
              "color": "white",
              "width": 0.6
             }
            },
            "type": "histogram"
           }
          ],
          "histogram2d": [
           {
            "colorbar": {
             "outlinewidth": 1,
             "tickcolor": "rgb(36,36,36)",
             "ticks": "outside"
            },
            "colorscale": [
             [
              0,
              "#440154"
             ],
             [
              0.1111111111111111,
              "#482878"
             ],
             [
              0.2222222222222222,
              "#3e4989"
             ],
             [
              0.3333333333333333,
              "#31688e"
             ],
             [
              0.4444444444444444,
              "#26828e"
             ],
             [
              0.5555555555555556,
              "#1f9e89"
             ],
             [
              0.6666666666666666,
              "#35b779"
             ],
             [
              0.7777777777777778,
              "#6ece58"
             ],
             [
              0.8888888888888888,
              "#b5de2b"
             ],
             [
              1,
              "#fde725"
             ]
            ],
            "type": "histogram2d"
           }
          ],
          "histogram2dcontour": [
           {
            "colorbar": {
             "outlinewidth": 1,
             "tickcolor": "rgb(36,36,36)",
             "ticks": "outside"
            },
            "colorscale": [
             [
              0,
              "#440154"
             ],
             [
              0.1111111111111111,
              "#482878"
             ],
             [
              0.2222222222222222,
              "#3e4989"
             ],
             [
              0.3333333333333333,
              "#31688e"
             ],
             [
              0.4444444444444444,
              "#26828e"
             ],
             [
              0.5555555555555556,
              "#1f9e89"
             ],
             [
              0.6666666666666666,
              "#35b779"
             ],
             [
              0.7777777777777778,
              "#6ece58"
             ],
             [
              0.8888888888888888,
              "#b5de2b"
             ],
             [
              1,
              "#fde725"
             ]
            ],
            "type": "histogram2dcontour"
           }
          ],
          "mesh3d": [
           {
            "colorbar": {
             "outlinewidth": 1,
             "tickcolor": "rgb(36,36,36)",
             "ticks": "outside"
            },
            "type": "mesh3d"
           }
          ],
          "parcoords": [
           {
            "line": {
             "colorbar": {
              "outlinewidth": 1,
              "tickcolor": "rgb(36,36,36)",
              "ticks": "outside"
             }
            },
            "type": "parcoords"
           }
          ],
          "pie": [
           {
            "automargin": true,
            "type": "pie"
           }
          ],
          "scatter": [
           {
            "marker": {
             "colorbar": {
              "outlinewidth": 1,
              "tickcolor": "rgb(36,36,36)",
              "ticks": "outside"
             }
            },
            "type": "scatter"
           }
          ],
          "scatter3d": [
           {
            "line": {
             "colorbar": {
              "outlinewidth": 1,
              "tickcolor": "rgb(36,36,36)",
              "ticks": "outside"
             }
            },
            "marker": {
             "colorbar": {
              "outlinewidth": 1,
              "tickcolor": "rgb(36,36,36)",
              "ticks": "outside"
             }
            },
            "type": "scatter3d"
           }
          ],
          "scattercarpet": [
           {
            "marker": {
             "colorbar": {
              "outlinewidth": 1,
              "tickcolor": "rgb(36,36,36)",
              "ticks": "outside"
             }
            },
            "type": "scattercarpet"
           }
          ],
          "scattergeo": [
           {
            "marker": {
             "colorbar": {
              "outlinewidth": 1,
              "tickcolor": "rgb(36,36,36)",
              "ticks": "outside"
             }
            },
            "type": "scattergeo"
           }
          ],
          "scattergl": [
           {
            "marker": {
             "colorbar": {
              "outlinewidth": 1,
              "tickcolor": "rgb(36,36,36)",
              "ticks": "outside"
             }
            },
            "type": "scattergl"
           }
          ],
          "scattermapbox": [
           {
            "marker": {
             "colorbar": {
              "outlinewidth": 1,
              "tickcolor": "rgb(36,36,36)",
              "ticks": "outside"
             }
            },
            "type": "scattermapbox"
           }
          ],
          "scatterpolar": [
           {
            "marker": {
             "colorbar": {
              "outlinewidth": 1,
              "tickcolor": "rgb(36,36,36)",
              "ticks": "outside"
             }
            },
            "type": "scatterpolar"
           }
          ],
          "scatterpolargl": [
           {
            "marker": {
             "colorbar": {
              "outlinewidth": 1,
              "tickcolor": "rgb(36,36,36)",
              "ticks": "outside"
             }
            },
            "type": "scatterpolargl"
           }
          ],
          "scatterternary": [
           {
            "marker": {
             "colorbar": {
              "outlinewidth": 1,
              "tickcolor": "rgb(36,36,36)",
              "ticks": "outside"
             }
            },
            "type": "scatterternary"
           }
          ],
          "surface": [
           {
            "colorbar": {
             "outlinewidth": 1,
             "tickcolor": "rgb(36,36,36)",
             "ticks": "outside"
            },
            "colorscale": [
             [
              0,
              "#440154"
             ],
             [
              0.1111111111111111,
              "#482878"
             ],
             [
              0.2222222222222222,
              "#3e4989"
             ],
             [
              0.3333333333333333,
              "#31688e"
             ],
             [
              0.4444444444444444,
              "#26828e"
             ],
             [
              0.5555555555555556,
              "#1f9e89"
             ],
             [
              0.6666666666666666,
              "#35b779"
             ],
             [
              0.7777777777777778,
              "#6ece58"
             ],
             [
              0.8888888888888888,
              "#b5de2b"
             ],
             [
              1,
              "#fde725"
             ]
            ],
            "type": "surface"
           }
          ],
          "table": [
           {
            "cells": {
             "fill": {
              "color": "rgb(237,237,237)"
             },
             "line": {
              "color": "white"
             }
            },
            "header": {
             "fill": {
              "color": "rgb(217,217,217)"
             },
             "line": {
              "color": "white"
             }
            },
            "type": "table"
           }
          ]
         },
         "layout": {
          "annotationdefaults": {
           "arrowhead": 0,
           "arrowwidth": 1
          },
          "autotypenumbers": "strict",
          "coloraxis": {
           "colorbar": {
            "outlinewidth": 1,
            "tickcolor": "rgb(36,36,36)",
            "ticks": "outside"
           }
          },
          "colorscale": {
           "diverging": [
            [
             0,
             "rgb(103,0,31)"
            ],
            [
             0.1,
             "rgb(178,24,43)"
            ],
            [
             0.2,
             "rgb(214,96,77)"
            ],
            [
             0.3,
             "rgb(244,165,130)"
            ],
            [
             0.4,
             "rgb(253,219,199)"
            ],
            [
             0.5,
             "rgb(247,247,247)"
            ],
            [
             0.6,
             "rgb(209,229,240)"
            ],
            [
             0.7,
             "rgb(146,197,222)"
            ],
            [
             0.8,
             "rgb(67,147,195)"
            ],
            [
             0.9,
             "rgb(33,102,172)"
            ],
            [
             1,
             "rgb(5,48,97)"
            ]
           ],
           "sequential": [
            [
             0,
             "#440154"
            ],
            [
             0.1111111111111111,
             "#482878"
            ],
            [
             0.2222222222222222,
             "#3e4989"
            ],
            [
             0.3333333333333333,
             "#31688e"
            ],
            [
             0.4444444444444444,
             "#26828e"
            ],
            [
             0.5555555555555556,
             "#1f9e89"
            ],
            [
             0.6666666666666666,
             "#35b779"
            ],
            [
             0.7777777777777778,
             "#6ece58"
            ],
            [
             0.8888888888888888,
             "#b5de2b"
            ],
            [
             1,
             "#fde725"
            ]
           ],
           "sequentialminus": [
            [
             0,
             "#440154"
            ],
            [
             0.1111111111111111,
             "#482878"
            ],
            [
             0.2222222222222222,
             "#3e4989"
            ],
            [
             0.3333333333333333,
             "#31688e"
            ],
            [
             0.4444444444444444,
             "#26828e"
            ],
            [
             0.5555555555555556,
             "#1f9e89"
            ],
            [
             0.6666666666666666,
             "#35b779"
            ],
            [
             0.7777777777777778,
             "#6ece58"
            ],
            [
             0.8888888888888888,
             "#b5de2b"
            ],
            [
             1,
             "#fde725"
            ]
           ]
          },
          "colorway": [
           "#1F77B4",
           "#FF7F0E",
           "#2CA02C",
           "#D62728",
           "#9467BD",
           "#8C564B",
           "#E377C2",
           "#7F7F7F",
           "#BCBD22",
           "#17BECF"
          ],
          "font": {
           "color": "rgb(36,36,36)"
          },
          "geo": {
           "bgcolor": "white",
           "lakecolor": "white",
           "landcolor": "white",
           "showlakes": true,
           "showland": true,
           "subunitcolor": "white"
          },
          "hoverlabel": {
           "align": "left"
          },
          "hovermode": "closest",
          "mapbox": {
           "style": "light"
          },
          "paper_bgcolor": "white",
          "plot_bgcolor": "white",
          "polar": {
           "angularaxis": {
            "gridcolor": "rgb(232,232,232)",
            "linecolor": "rgb(36,36,36)",
            "showgrid": false,
            "showline": true,
            "ticks": "outside"
           },
           "bgcolor": "white",
           "radialaxis": {
            "gridcolor": "rgb(232,232,232)",
            "linecolor": "rgb(36,36,36)",
            "showgrid": false,
            "showline": true,
            "ticks": "outside"
           }
          },
          "scene": {
           "xaxis": {
            "backgroundcolor": "white",
            "gridcolor": "rgb(232,232,232)",
            "gridwidth": 2,
            "linecolor": "rgb(36,36,36)",
            "showbackground": true,
            "showgrid": false,
            "showline": true,
            "ticks": "outside",
            "zeroline": false,
            "zerolinecolor": "rgb(36,36,36)"
           },
           "yaxis": {
            "backgroundcolor": "white",
            "gridcolor": "rgb(232,232,232)",
            "gridwidth": 2,
            "linecolor": "rgb(36,36,36)",
            "showbackground": true,
            "showgrid": false,
            "showline": true,
            "ticks": "outside",
            "zeroline": false,
            "zerolinecolor": "rgb(36,36,36)"
           },
           "zaxis": {
            "backgroundcolor": "white",
            "gridcolor": "rgb(232,232,232)",
            "gridwidth": 2,
            "linecolor": "rgb(36,36,36)",
            "showbackground": true,
            "showgrid": false,
            "showline": true,
            "ticks": "outside",
            "zeroline": false,
            "zerolinecolor": "rgb(36,36,36)"
           }
          },
          "shapedefaults": {
           "fillcolor": "black",
           "line": {
            "width": 0
           },
           "opacity": 0.3
          },
          "ternary": {
           "aaxis": {
            "gridcolor": "rgb(232,232,232)",
            "linecolor": "rgb(36,36,36)",
            "showgrid": false,
            "showline": true,
            "ticks": "outside"
           },
           "baxis": {
            "gridcolor": "rgb(232,232,232)",
            "linecolor": "rgb(36,36,36)",
            "showgrid": false,
            "showline": true,
            "ticks": "outside"
           },
           "bgcolor": "white",
           "caxis": {
            "gridcolor": "rgb(232,232,232)",
            "linecolor": "rgb(36,36,36)",
            "showgrid": false,
            "showline": true,
            "ticks": "outside"
           }
          },
          "title": {
           "x": 0.05
          },
          "xaxis": {
           "automargin": true,
           "gridcolor": "rgb(232,232,232)",
           "linecolor": "rgb(36,36,36)",
           "showgrid": false,
           "showline": true,
           "ticks": "outside",
           "title": {
            "standoff": 15
           },
           "zeroline": false,
           "zerolinecolor": "rgb(36,36,36)"
          },
          "yaxis": {
           "automargin": true,
           "gridcolor": "rgb(232,232,232)",
           "linecolor": "rgb(36,36,36)",
           "showgrid": false,
           "showline": true,
           "ticks": "outside",
           "title": {
            "standoff": 15
           },
           "zeroline": false,
           "zerolinecolor": "rgb(36,36,36)"
          }
         }
        },
        "xaxis": {
         "anchor": "y",
         "domain": [
          0,
          0.7363
         ],
         "title": {
          "text": "AverageTemperature"
         }
        },
        "xaxis2": {
         "anchor": "y2",
         "domain": [
          0.7413,
          1
         ],
         "matches": "x2",
         "showline": false,
         "showticklabels": false,
         "ticks": ""
        },
        "xaxis3": {
         "anchor": "y3",
         "domain": [
          0,
          0.7363
         ],
         "matches": "x",
         "showticklabels": false
        },
        "xaxis4": {
         "anchor": "y4",
         "domain": [
          0.7413,
          1
         ],
         "matches": "x2",
         "showline": false,
         "showticklabels": false,
         "ticks": ""
        },
        "yaxis": {
         "anchor": "x",
         "domain": [
          0,
          0.7326
         ],
         "title": {
          "text": "GHG"
         }
        },
        "yaxis2": {
         "anchor": "x2",
         "domain": [
          0,
          0.7326
         ],
         "matches": "y",
         "showticklabels": false
        },
        "yaxis3": {
         "anchor": "x3",
         "domain": [
          0.7426,
          1
         ],
         "matches": "y3",
         "showline": false,
         "showticklabels": false,
         "ticks": ""
        },
        "yaxis4": {
         "anchor": "x4",
         "domain": [
          0.7426,
          1
         ],
         "matches": "y3",
         "showline": false,
         "showticklabels": false,
         "ticks": ""
        }
       }
      },
      "text/html": [
       "<div>                            <div id=\"7263f266-7be7-474a-a5c0-a56fbef94e49\" class=\"plotly-graph-div\" style=\"height:525px; width:100%;\"></div>            <script type=\"text/javascript\">                require([\"plotly\"], function(Plotly) {                    window.PLOTLYENV=window.PLOTLYENV || {};                                    if (document.getElementById(\"7263f266-7be7-474a-a5c0-a56fbef94e49\")) {                    Plotly.newPlot(                        \"7263f266-7be7-474a-a5c0-a56fbef94e49\",                        [{\"hovertemplate\":\"<b>%{hovertext}</b><br><br>AverageTemperature(above Average)=False<br>AverageTemperature=%{x}<br>GHG=%{y}<br>size=%{marker.size}<extra></extra>\",\"hovertext\":[0.0,1.0,3.0,5.0,8.0,11.0,12.0,13.0,14.0,17.0,18.0,23.0,25.0,26.0,27.0,28.0,31.0,32.0,35.0,37.0,39.0,40.0,42.0,44.0,51.0,52.0,55.0,59.0,60.0,62.0,63.0,66.0,67.0,68.0,74.0,75.0,76.0],\"legendgroup\":\"False\",\"marker\":{\"color\":\"#0d0887\",\"size\":[9.592605086913911,15.784967576388784,20.08107676980715,21.2208282794972,22.25498961859955,18.532775811522946,22.193947713072166,19.087616753495507,21.30706019652562,15.038264291359877,20.328164455419742,12.625151333590619,18.57877012547175,23.181332039096855,24.07943060240522,17.87824445965597,20.442349857441666,12.05645832750408,20.59174638928828,19.23056337163939,21.22425536615002,22.11325304311299,13.111585504232451,12.28384816969974,21.32429452683904,19.320443770674036,19.830822287216268,22.419676174144847,19.13752304465051,15.471040903723889,20.363838926963176,20.848629835021793,20.623304532612508,19.953272203244882,18.976667646870585,24.37778684647327,25.214940517211346],\"sizemode\":\"area\",\"sizeref\":0.06303735129302837,\"symbol\":\"circle\"},\"mode\":\"markers\",\"name\":\"False\",\"orientation\":\"v\",\"showlegend\":true,\"x\":[13.350083333333332,12.51825,14.771333333333333,6.962833333333333,10.454583333333334,10.300416666666663,-4.948583333333334,9.369166666666668,6.9755,7.137250000000001,9.236916666666668,6.746416666666666,3.045916666666667,11.525916666666667,9.1765,14.381749999999998,10.288833333333336,1.248333333333333,16.7755,10.576583333333334,13.354666666666668,12.102583333333332,7.181750000000001,10.12075,10.1195,10.464666666666666,1.2173333333333334,8.606333333333334,15.758666666666668,12.057833333333331,8.988166666666666,14.510083333333334,4.023333333333333,7.995833333333334,10.961,9.814333333333332,8.888083333333332],\"xaxis\":\"x\",\"y\":[14656.0,7166784.0,526139408.0,1644707312.0,4626144416.0,111861920.0,4352201792.0,194825872.0,1792828176.0,3396528.0,673611744.0,304112.0,117127088.0,11682198672.0,28678989040.0,58133024.0,755091776.0,172208.0,876762224.0,224764416.0,1650353536.0,4014798688.0,494640.0,216176.0,1823994160.0,245902032.0,409653520.0,5454332992.0,204795616.0,5235856.0,698076272.0,1133560992.0,904872432.0,463016016.0,174366096.0,38649004176.0,89270820848.0],\"yaxis\":\"y\",\"type\":\"scatter\"},{\"alignmentgroup\":\"True\",\"hovertemplate\":\"<b>%{hovertext}</b><br><br>AverageTemperature(above Average)=False<br>AverageTemperature=%{x}<extra></extra>\",\"hovertext\":[0.0,1.0,3.0,5.0,8.0,11.0,12.0,13.0,14.0,17.0,18.0,23.0,25.0,26.0,27.0,28.0,31.0,32.0,35.0,37.0,39.0,40.0,42.0,44.0,51.0,52.0,55.0,59.0,60.0,62.0,63.0,66.0,67.0,68.0,74.0,75.0,76.0],\"legendgroup\":\"False\",\"marker\":{\"color\":\"#0d0887\",\"symbol\":\"circle\"},\"name\":\"False\",\"notched\":true,\"offsetgroup\":\"False\",\"showlegend\":false,\"x\":[13.350083333333332,12.51825,14.771333333333333,6.962833333333333,10.454583333333334,10.300416666666663,-4.948583333333334,9.369166666666668,6.9755,7.137250000000001,9.236916666666668,6.746416666666666,3.045916666666667,11.525916666666667,9.1765,14.381749999999998,10.288833333333336,1.248333333333333,16.7755,10.576583333333334,13.354666666666668,12.102583333333332,7.181750000000001,10.12075,10.1195,10.464666666666666,1.2173333333333334,8.606333333333334,15.758666666666668,12.057833333333331,8.988166666666666,14.510083333333334,4.023333333333333,7.995833333333334,10.961,9.814333333333332,8.888083333333332],\"xaxis\":\"x3\",\"yaxis\":\"y3\",\"type\":\"box\"},{\"alignmentgroup\":\"True\",\"hovertemplate\":\"<b>%{hovertext}</b><br><br>AverageTemperature(above Average)=False<br>GHG=%{y}<extra></extra>\",\"hovertext\":[0.0,1.0,3.0,5.0,8.0,11.0,12.0,13.0,14.0,17.0,18.0,23.0,25.0,26.0,27.0,28.0,31.0,32.0,35.0,37.0,39.0,40.0,42.0,44.0,51.0,52.0,55.0,59.0,60.0,62.0,63.0,66.0,67.0,68.0,74.0,75.0,76.0],\"legendgroup\":\"False\",\"marker\":{\"color\":\"#0d0887\",\"symbol\":\"circle\"},\"name\":\"False\",\"notched\":true,\"offsetgroup\":\"False\",\"showlegend\":false,\"xaxis\":\"x2\",\"y\":[14656.0,7166784.0,526139408.0,1644707312.0,4626144416.0,111861920.0,4352201792.0,194825872.0,1792828176.0,3396528.0,673611744.0,304112.0,117127088.0,11682198672.0,28678989040.0,58133024.0,755091776.0,172208.0,876762224.0,224764416.0,1650353536.0,4014798688.0,494640.0,216176.0,1823994160.0,245902032.0,409653520.0,5454332992.0,204795616.0,5235856.0,698076272.0,1133560992.0,904872432.0,463016016.0,174366096.0,38649004176.0,89270820848.0],\"yaxis\":\"y2\",\"type\":\"box\"},{\"hovertemplate\":\"<b>%{hovertext}</b><br><br>AverageTemperature(above Average)=True<br>AverageTemperature=%{x}<br>GHG=%{y}<br>size=%{marker.size}<extra></extra>\",\"hovertext\":[2.0,4.0,6.0,7.0,9.0,10.0,15.0,16.0,19.0,20.0,21.0,22.0,24.0,29.0,30.0,33.0,34.0,36.0,38.0,41.0,43.0,45.0,46.0,47.0,48.0,49.0,50.0,53.0,54.0,56.0,57.0,58.0,61.0,64.0,65.0,69.0,70.0,71.0,72.0,73.0,77.0,78.0,79.0,80.0],\"legendgroup\":\"True\",\"marker\":{\"color\":\"#9c179e\",\"size\":[15.803707046006815,20.97430792058933,17.646253744145152,10.69121737558202,14.572781173525458,19.27723675792811,18.03394262602661,13.971501828578866,10.914360926896231,16.877768876221687,17.982078536727776,11.150749704960461,10.604205998592391,11.7028182872605,12.380697995689658,21.47843631060827,20.166374131327395,18.676077530281106,14.288529636170468,16.17670563298545,14.05563550574088,10.40353530313024,18.00087587110596,20.918170322271962,15.928545470503629,13.879633992965513,17.63602756251517,10.69121737558202,17.207287169864365,10.771260083255557,19.059639833715387,14.981676816730412,12.468990602835337,18.61154279335995,21.08232077684655,13.203522999558135,18.853139399209343,13.268905758820988,19.060200539833072,14.177572565584484,14.30886932040759,19.47060815090865,18.71345829238856,18.354468460188638],\"sizemode\":\"area\",\"sizeref\":0.06303735129302837,\"symbol\":\"circle\"},\"mode\":\"markers\",\"name\":\"True\",\"orientation\":\"v\",\"showlegend\":true,\"x\":[23.18816666666667,20.984916666666667,25.39675,26.32541666666667,20.777916666666663,24.61683333333333,24.75358333333333,25.681833333333334,25.585083333333333,21.73033333333333,21.8925,26.69141666666667,22.93675,23.374166666666667,23.27308333333333,24.04725,25.757583333333333,21.055,18.87708333333333,24.63525,17.01975,22.98858333333333,25.980416666666667,20.916083333333336,18.15033333333333,23.79833333333333,23.7055,25.78483333333333,27.0685,26.09858333333333,19.85141666666667,26.55316666666667,26.396,25.0955,17.666999999999998,17.2775,22.36491666666667,26.249583333333334,26.09991666666667,20.146,17.28925,24.96366666666667,24.04433333333333,21.535083333333333],\"xaxis\":\"x\",\"y\":[7302352.0,1285364176.0,46096784.0,43968.0,2132448.0,235503600.0,67926896.0,1168816.0,54960.0,21375776.0,64493728.0,69616.0,40304.0,120912.0,238160.0,2127974256.0,572987312.0,129097376.0,1604832.0,10603616.0,1271408.0,32976.0,65717504.0,1215194912.0,8273312.0,1066224.0,45627792.0,43968.0,29718704.0,47632.0,189450784.0,3209664.0,260144.0,121029248.0,1431975472.0,542272.0,154104176.0,578912.0,189557040.0,1436288.0,1637808.0,285744368.0,134014464.0,93593216.0],\"yaxis\":\"y\",\"type\":\"scatter\"},{\"alignmentgroup\":\"True\",\"hovertemplate\":\"<b>%{hovertext}</b><br><br>AverageTemperature(above Average)=True<br>AverageTemperature=%{x}<extra></extra>\",\"hovertext\":[2.0,4.0,6.0,7.0,9.0,10.0,15.0,16.0,19.0,20.0,21.0,22.0,24.0,29.0,30.0,33.0,34.0,36.0,38.0,41.0,43.0,45.0,46.0,47.0,48.0,49.0,50.0,53.0,54.0,56.0,57.0,58.0,61.0,64.0,65.0,69.0,70.0,71.0,72.0,73.0,77.0,78.0,79.0,80.0],\"legendgroup\":\"True\",\"marker\":{\"color\":\"#9c179e\",\"symbol\":\"circle\"},\"name\":\"True\",\"notched\":true,\"offsetgroup\":\"True\",\"showlegend\":false,\"x\":[23.18816666666667,20.984916666666667,25.39675,26.32541666666667,20.777916666666663,24.61683333333333,24.75358333333333,25.681833333333334,25.585083333333333,21.73033333333333,21.8925,26.69141666666667,22.93675,23.374166666666667,23.27308333333333,24.04725,25.757583333333333,21.055,18.87708333333333,24.63525,17.01975,22.98858333333333,25.980416666666667,20.916083333333336,18.15033333333333,23.79833333333333,23.7055,25.78483333333333,27.0685,26.09858333333333,19.85141666666667,26.55316666666667,26.396,25.0955,17.666999999999998,17.2775,22.36491666666667,26.249583333333334,26.09991666666667,20.146,17.28925,24.96366666666667,24.04433333333333,21.535083333333333],\"xaxis\":\"x3\",\"yaxis\":\"y3\",\"type\":\"box\"},{\"alignmentgroup\":\"True\",\"hovertemplate\":\"<b>%{hovertext}</b><br><br>AverageTemperature(above Average)=True<br>GHG=%{y}<extra></extra>\",\"hovertext\":[2.0,4.0,6.0,7.0,9.0,10.0,15.0,16.0,19.0,20.0,21.0,22.0,24.0,29.0,30.0,33.0,34.0,36.0,38.0,41.0,43.0,45.0,46.0,47.0,48.0,49.0,50.0,53.0,54.0,56.0,57.0,58.0,61.0,64.0,65.0,69.0,70.0,71.0,72.0,73.0,77.0,78.0,79.0,80.0],\"legendgroup\":\"True\",\"marker\":{\"color\":\"#9c179e\",\"symbol\":\"circle\"},\"name\":\"True\",\"notched\":true,\"offsetgroup\":\"True\",\"showlegend\":false,\"xaxis\":\"x2\",\"y\":[7302352.0,1285364176.0,46096784.0,43968.0,2132448.0,235503600.0,67926896.0,1168816.0,54960.0,21375776.0,64493728.0,69616.0,40304.0,120912.0,238160.0,2127974256.0,572987312.0,129097376.0,1604832.0,10603616.0,1271408.0,32976.0,65717504.0,1215194912.0,8273312.0,1066224.0,45627792.0,43968.0,29718704.0,47632.0,189450784.0,3209664.0,260144.0,121029248.0,1431975472.0,542272.0,154104176.0,578912.0,189557040.0,1436288.0,1637808.0,285744368.0,134014464.0,93593216.0],\"yaxis\":\"y2\",\"type\":\"box\"},{\"marker\":{\"color\":\"#fb9f3a\"},\"mode\":\"lines\",\"name\":\"OLS Trendline\",\"x\":[9.592605086913911,15.784967576388784,15.803707046006815,20.08107676980715,20.97430792058933,21.2208282794972,17.646253744145152,10.69121737558202,22.25498961859955,14.572781173525458,19.27723675792811,18.532775811522946,22.193947713072166,19.087616753495507,21.30706019652562,18.03394262602661,13.971501828578866,15.038264291359877,20.328164455419742,10.914360926896231,16.877768876221687,17.982078536727776,11.150749704960461,12.625151333590619,10.604205998592391,18.57877012547175,23.181332039096855,24.07943060240522,17.87824445965597,11.7028182872605,12.380697995689658,20.442349857441666,12.05645832750408,21.47843631060827,20.166374131327395,20.59174638928828,18.676077530281106,19.23056337163939,14.288529636170468,21.22425536615002,22.11325304311299,16.17670563298545,13.111585504232451,14.05563550574088,12.28384816969974,10.40353530313024,18.00087587110596,20.918170322271962,15.928545470503629,13.879633992965513,17.63602756251517,21.32429452683904,19.320443770674036,10.69121737558202,17.207287169864365,19.830822287216268,10.771260083255557,19.059639833715387,14.981676816730412,22.419676174144847,19.13752304465051,12.468990602835337,15.471040903723889,20.363838926963176,18.61154279335995,21.08232077684655,20.848629835021793,20.623304532612508,19.953272203244882,13.203522999558135,18.853139399209343,13.268905758820988,19.060200539833072,14.177572565584484,18.976667646870585,24.37778684647327,25.214940517211346,14.30886932040759,19.47060815090865,18.71345829238856,18.354468460188638],\"y\":[23.162690535755388,18.15229507003602,18.137132496177696,14.67620560345118,13.953469924568491,13.754004132541795,16.6462818495271,22.27377583816102,12.917238311246976,19.13310542583096,15.326612674666432,15.928974657934294,12.966628844697352,15.480038965849102,13.684231730358647,16.33259307255542,19.619615591970568,18.756471385603078,14.47628077318928,22.093224806206806,17.26808218893911,16.374557605203215,21.901956729802514,20.708981472411814,22.344178920906227,15.891759507424347,12.16771147536615,11.441037451192397,16.458572355604534,21.455264223311858,20.906774786010743,14.383890506709498,21.16912521624551,13.5455670274457,14.607189373518702,14.263010033863997,15.813025650892788,15.364377279601666,19.363100458632722,13.751231190961727,13.031920921696782,17.835330004464076,20.315395411018066,19.551540928175715,20.985138404067726,22.506546602765173,16.35934821151928,13.998892260315758,18.036122602601615,19.69394815693022,16.654556109013292,13.670287002380618,15.291652799317175,22.27377583816102,17.0014606907395,14.87869276840325,22.209011280163477,15.502675791818085,18.802257727533462,12.783986297565347,15.439658536677051,20.835335027881083,18.40630099749295,14.447415665442929,15.865242321638524,13.866074019346465,14.05515920893099,14.237475550298639,14.779615476805692,20.241006482641804,15.669760461437596,20.188103655796052,15.502222110465544,19.452878601352637,15.569810664728807,11.199629947192355,10.522267960857462,19.34664311107772,15.170151041124097,15.782779940747966,16.07324759837477],\"type\":\"scatter\"}],                        {\"template\":{\"data\":{\"barpolar\":[{\"marker\":{\"line\":{\"color\":\"white\",\"width\":0.5},\"pattern\":{\"fillmode\":\"overlay\",\"size\":10,\"solidity\":0.2}},\"type\":\"barpolar\"}],\"bar\":[{\"error_x\":{\"color\":\"rgb(36,36,36)\"},\"error_y\":{\"color\":\"rgb(36,36,36)\"},\"marker\":{\"line\":{\"color\":\"white\",\"width\":0.5},\"pattern\":{\"fillmode\":\"overlay\",\"size\":10,\"solidity\":0.2}},\"type\":\"bar\"}],\"carpet\":[{\"aaxis\":{\"endlinecolor\":\"rgb(36,36,36)\",\"gridcolor\":\"white\",\"linecolor\":\"white\",\"minorgridcolor\":\"white\",\"startlinecolor\":\"rgb(36,36,36)\"},\"baxis\":{\"endlinecolor\":\"rgb(36,36,36)\",\"gridcolor\":\"white\",\"linecolor\":\"white\",\"minorgridcolor\":\"white\",\"startlinecolor\":\"rgb(36,36,36)\"},\"type\":\"carpet\"}],\"choropleth\":[{\"colorbar\":{\"outlinewidth\":1,\"tickcolor\":\"rgb(36,36,36)\",\"ticks\":\"outside\"},\"type\":\"choropleth\"}],\"contourcarpet\":[{\"colorbar\":{\"outlinewidth\":1,\"tickcolor\":\"rgb(36,36,36)\",\"ticks\":\"outside\"},\"type\":\"contourcarpet\"}],\"contour\":[{\"colorbar\":{\"outlinewidth\":1,\"tickcolor\":\"rgb(36,36,36)\",\"ticks\":\"outside\"},\"colorscale\":[[0.0,\"#440154\"],[0.1111111111111111,\"#482878\"],[0.2222222222222222,\"#3e4989\"],[0.3333333333333333,\"#31688e\"],[0.4444444444444444,\"#26828e\"],[0.5555555555555556,\"#1f9e89\"],[0.6666666666666666,\"#35b779\"],[0.7777777777777778,\"#6ece58\"],[0.8888888888888888,\"#b5de2b\"],[1.0,\"#fde725\"]],\"type\":\"contour\"}],\"heatmapgl\":[{\"colorbar\":{\"outlinewidth\":1,\"tickcolor\":\"rgb(36,36,36)\",\"ticks\":\"outside\"},\"colorscale\":[[0.0,\"#440154\"],[0.1111111111111111,\"#482878\"],[0.2222222222222222,\"#3e4989\"],[0.3333333333333333,\"#31688e\"],[0.4444444444444444,\"#26828e\"],[0.5555555555555556,\"#1f9e89\"],[0.6666666666666666,\"#35b779\"],[0.7777777777777778,\"#6ece58\"],[0.8888888888888888,\"#b5de2b\"],[1.0,\"#fde725\"]],\"type\":\"heatmapgl\"}],\"heatmap\":[{\"colorbar\":{\"outlinewidth\":1,\"tickcolor\":\"rgb(36,36,36)\",\"ticks\":\"outside\"},\"colorscale\":[[0.0,\"#440154\"],[0.1111111111111111,\"#482878\"],[0.2222222222222222,\"#3e4989\"],[0.3333333333333333,\"#31688e\"],[0.4444444444444444,\"#26828e\"],[0.5555555555555556,\"#1f9e89\"],[0.6666666666666666,\"#35b779\"],[0.7777777777777778,\"#6ece58\"],[0.8888888888888888,\"#b5de2b\"],[1.0,\"#fde725\"]],\"type\":\"heatmap\"}],\"histogram2dcontour\":[{\"colorbar\":{\"outlinewidth\":1,\"tickcolor\":\"rgb(36,36,36)\",\"ticks\":\"outside\"},\"colorscale\":[[0.0,\"#440154\"],[0.1111111111111111,\"#482878\"],[0.2222222222222222,\"#3e4989\"],[0.3333333333333333,\"#31688e\"],[0.4444444444444444,\"#26828e\"],[0.5555555555555556,\"#1f9e89\"],[0.6666666666666666,\"#35b779\"],[0.7777777777777778,\"#6ece58\"],[0.8888888888888888,\"#b5de2b\"],[1.0,\"#fde725\"]],\"type\":\"histogram2dcontour\"}],\"histogram2d\":[{\"colorbar\":{\"outlinewidth\":1,\"tickcolor\":\"rgb(36,36,36)\",\"ticks\":\"outside\"},\"colorscale\":[[0.0,\"#440154\"],[0.1111111111111111,\"#482878\"],[0.2222222222222222,\"#3e4989\"],[0.3333333333333333,\"#31688e\"],[0.4444444444444444,\"#26828e\"],[0.5555555555555556,\"#1f9e89\"],[0.6666666666666666,\"#35b779\"],[0.7777777777777778,\"#6ece58\"],[0.8888888888888888,\"#b5de2b\"],[1.0,\"#fde725\"]],\"type\":\"histogram2d\"}],\"histogram\":[{\"marker\":{\"line\":{\"color\":\"white\",\"width\":0.6}},\"type\":\"histogram\"}],\"mesh3d\":[{\"colorbar\":{\"outlinewidth\":1,\"tickcolor\":\"rgb(36,36,36)\",\"ticks\":\"outside\"},\"type\":\"mesh3d\"}],\"parcoords\":[{\"line\":{\"colorbar\":{\"outlinewidth\":1,\"tickcolor\":\"rgb(36,36,36)\",\"ticks\":\"outside\"}},\"type\":\"parcoords\"}],\"pie\":[{\"automargin\":true,\"type\":\"pie\"}],\"scatter3d\":[{\"line\":{\"colorbar\":{\"outlinewidth\":1,\"tickcolor\":\"rgb(36,36,36)\",\"ticks\":\"outside\"}},\"marker\":{\"colorbar\":{\"outlinewidth\":1,\"tickcolor\":\"rgb(36,36,36)\",\"ticks\":\"outside\"}},\"type\":\"scatter3d\"}],\"scattercarpet\":[{\"marker\":{\"colorbar\":{\"outlinewidth\":1,\"tickcolor\":\"rgb(36,36,36)\",\"ticks\":\"outside\"}},\"type\":\"scattercarpet\"}],\"scattergeo\":[{\"marker\":{\"colorbar\":{\"outlinewidth\":1,\"tickcolor\":\"rgb(36,36,36)\",\"ticks\":\"outside\"}},\"type\":\"scattergeo\"}],\"scattergl\":[{\"marker\":{\"colorbar\":{\"outlinewidth\":1,\"tickcolor\":\"rgb(36,36,36)\",\"ticks\":\"outside\"}},\"type\":\"scattergl\"}],\"scattermapbox\":[{\"marker\":{\"colorbar\":{\"outlinewidth\":1,\"tickcolor\":\"rgb(36,36,36)\",\"ticks\":\"outside\"}},\"type\":\"scattermapbox\"}],\"scatterpolargl\":[{\"marker\":{\"colorbar\":{\"outlinewidth\":1,\"tickcolor\":\"rgb(36,36,36)\",\"ticks\":\"outside\"}},\"type\":\"scatterpolargl\"}],\"scatterpolar\":[{\"marker\":{\"colorbar\":{\"outlinewidth\":1,\"tickcolor\":\"rgb(36,36,36)\",\"ticks\":\"outside\"}},\"type\":\"scatterpolar\"}],\"scatter\":[{\"marker\":{\"colorbar\":{\"outlinewidth\":1,\"tickcolor\":\"rgb(36,36,36)\",\"ticks\":\"outside\"}},\"type\":\"scatter\"}],\"scatterternary\":[{\"marker\":{\"colorbar\":{\"outlinewidth\":1,\"tickcolor\":\"rgb(36,36,36)\",\"ticks\":\"outside\"}},\"type\":\"scatterternary\"}],\"surface\":[{\"colorbar\":{\"outlinewidth\":1,\"tickcolor\":\"rgb(36,36,36)\",\"ticks\":\"outside\"},\"colorscale\":[[0.0,\"#440154\"],[0.1111111111111111,\"#482878\"],[0.2222222222222222,\"#3e4989\"],[0.3333333333333333,\"#31688e\"],[0.4444444444444444,\"#26828e\"],[0.5555555555555556,\"#1f9e89\"],[0.6666666666666666,\"#35b779\"],[0.7777777777777778,\"#6ece58\"],[0.8888888888888888,\"#b5de2b\"],[1.0,\"#fde725\"]],\"type\":\"surface\"}],\"table\":[{\"cells\":{\"fill\":{\"color\":\"rgb(237,237,237)\"},\"line\":{\"color\":\"white\"}},\"header\":{\"fill\":{\"color\":\"rgb(217,217,217)\"},\"line\":{\"color\":\"white\"}},\"type\":\"table\"}]},\"layout\":{\"annotationdefaults\":{\"arrowhead\":0,\"arrowwidth\":1},\"autotypenumbers\":\"strict\",\"coloraxis\":{\"colorbar\":{\"outlinewidth\":1,\"tickcolor\":\"rgb(36,36,36)\",\"ticks\":\"outside\"}},\"colorscale\":{\"diverging\":[[0.0,\"rgb(103,0,31)\"],[0.1,\"rgb(178,24,43)\"],[0.2,\"rgb(214,96,77)\"],[0.3,\"rgb(244,165,130)\"],[0.4,\"rgb(253,219,199)\"],[0.5,\"rgb(247,247,247)\"],[0.6,\"rgb(209,229,240)\"],[0.7,\"rgb(146,197,222)\"],[0.8,\"rgb(67,147,195)\"],[0.9,\"rgb(33,102,172)\"],[1.0,\"rgb(5,48,97)\"]],\"sequential\":[[0.0,\"#440154\"],[0.1111111111111111,\"#482878\"],[0.2222222222222222,\"#3e4989\"],[0.3333333333333333,\"#31688e\"],[0.4444444444444444,\"#26828e\"],[0.5555555555555556,\"#1f9e89\"],[0.6666666666666666,\"#35b779\"],[0.7777777777777778,\"#6ece58\"],[0.8888888888888888,\"#b5de2b\"],[1.0,\"#fde725\"]],\"sequentialminus\":[[0.0,\"#440154\"],[0.1111111111111111,\"#482878\"],[0.2222222222222222,\"#3e4989\"],[0.3333333333333333,\"#31688e\"],[0.4444444444444444,\"#26828e\"],[0.5555555555555556,\"#1f9e89\"],[0.6666666666666666,\"#35b779\"],[0.7777777777777778,\"#6ece58\"],[0.8888888888888888,\"#b5de2b\"],[1.0,\"#fde725\"]]},\"colorway\":[\"#1F77B4\",\"#FF7F0E\",\"#2CA02C\",\"#D62728\",\"#9467BD\",\"#8C564B\",\"#E377C2\",\"#7F7F7F\",\"#BCBD22\",\"#17BECF\"],\"font\":{\"color\":\"rgb(36,36,36)\"},\"geo\":{\"bgcolor\":\"white\",\"lakecolor\":\"white\",\"landcolor\":\"white\",\"showlakes\":true,\"showland\":true,\"subunitcolor\":\"white\"},\"hoverlabel\":{\"align\":\"left\"},\"hovermode\":\"closest\",\"mapbox\":{\"style\":\"light\"},\"paper_bgcolor\":\"white\",\"plot_bgcolor\":\"white\",\"polar\":{\"angularaxis\":{\"gridcolor\":\"rgb(232,232,232)\",\"linecolor\":\"rgb(36,36,36)\",\"showgrid\":false,\"showline\":true,\"ticks\":\"outside\"},\"bgcolor\":\"white\",\"radialaxis\":{\"gridcolor\":\"rgb(232,232,232)\",\"linecolor\":\"rgb(36,36,36)\",\"showgrid\":false,\"showline\":true,\"ticks\":\"outside\"}},\"scene\":{\"xaxis\":{\"backgroundcolor\":\"white\",\"gridcolor\":\"rgb(232,232,232)\",\"gridwidth\":2,\"linecolor\":\"rgb(36,36,36)\",\"showbackground\":true,\"showgrid\":false,\"showline\":true,\"ticks\":\"outside\",\"zeroline\":false,\"zerolinecolor\":\"rgb(36,36,36)\"},\"yaxis\":{\"backgroundcolor\":\"white\",\"gridcolor\":\"rgb(232,232,232)\",\"gridwidth\":2,\"linecolor\":\"rgb(36,36,36)\",\"showbackground\":true,\"showgrid\":false,\"showline\":true,\"ticks\":\"outside\",\"zeroline\":false,\"zerolinecolor\":\"rgb(36,36,36)\"},\"zaxis\":{\"backgroundcolor\":\"white\",\"gridcolor\":\"rgb(232,232,232)\",\"gridwidth\":2,\"linecolor\":\"rgb(36,36,36)\",\"showbackground\":true,\"showgrid\":false,\"showline\":true,\"ticks\":\"outside\",\"zeroline\":false,\"zerolinecolor\":\"rgb(36,36,36)\"}},\"shapedefaults\":{\"fillcolor\":\"black\",\"line\":{\"width\":0},\"opacity\":0.3},\"ternary\":{\"aaxis\":{\"gridcolor\":\"rgb(232,232,232)\",\"linecolor\":\"rgb(36,36,36)\",\"showgrid\":false,\"showline\":true,\"ticks\":\"outside\"},\"baxis\":{\"gridcolor\":\"rgb(232,232,232)\",\"linecolor\":\"rgb(36,36,36)\",\"showgrid\":false,\"showline\":true,\"ticks\":\"outside\"},\"bgcolor\":\"white\",\"caxis\":{\"gridcolor\":\"rgb(232,232,232)\",\"linecolor\":\"rgb(36,36,36)\",\"showgrid\":false,\"showline\":true,\"ticks\":\"outside\"}},\"title\":{\"x\":0.05},\"xaxis\":{\"automargin\":true,\"gridcolor\":\"rgb(232,232,232)\",\"linecolor\":\"rgb(36,36,36)\",\"showgrid\":false,\"showline\":true,\"ticks\":\"outside\",\"title\":{\"standoff\":15},\"zeroline\":false,\"zerolinecolor\":\"rgb(36,36,36)\"},\"yaxis\":{\"automargin\":true,\"gridcolor\":\"rgb(232,232,232)\",\"linecolor\":\"rgb(36,36,36)\",\"showgrid\":false,\"showline\":true,\"ticks\":\"outside\",\"title\":{\"standoff\":15},\"zeroline\":false,\"zerolinecolor\":\"rgb(36,36,36)\"}}},\"xaxis\":{\"anchor\":\"y\",\"domain\":[0.0,0.7363],\"title\":{\"text\":\"AverageTemperature\"}},\"yaxis\":{\"anchor\":\"x\",\"domain\":[0.0,0.7326],\"title\":{\"text\":\"GHG\"}},\"xaxis2\":{\"anchor\":\"y2\",\"domain\":[0.7413,1.0],\"matches\":\"x2\",\"showticklabels\":false,\"showline\":false,\"ticks\":\"\"},\"yaxis2\":{\"anchor\":\"x2\",\"domain\":[0.0,0.7326],\"matches\":\"y\",\"showticklabels\":false},\"xaxis3\":{\"anchor\":\"y3\",\"domain\":[0.0,0.7363],\"matches\":\"x\",\"showticklabels\":false},\"yaxis3\":{\"anchor\":\"x3\",\"domain\":[0.7426,1.0],\"matches\":\"y3\",\"showticklabels\":false,\"showline\":false,\"ticks\":\"\"},\"xaxis4\":{\"anchor\":\"y4\",\"domain\":[0.7413,1.0],\"matches\":\"x2\",\"showticklabels\":false,\"showline\":false,\"ticks\":\"\"},\"yaxis4\":{\"anchor\":\"x4\",\"domain\":[0.7426,1.0],\"matches\":\"y3\",\"showticklabels\":false,\"showline\":false,\"ticks\":\"\"},\"legend\":{\"title\":{\"text\":\"AverageTemperature(above Average)\"},\"tracegroupgap\":0,\"itemsizing\":\"constant\"},\"margin\":{\"t\":60}},                        {\"responsive\": true}                    ).then(function(){\n",
       "                            \n",
       "var gd = document.getElementById('7263f266-7be7-474a-a5c0-a56fbef94e49');\n",
       "var x = new MutationObserver(function (mutations, observer) {{\n",
       "        var display = window.getComputedStyle(gd).display;\n",
       "        if (!display || display === 'none') {{\n",
       "            console.log([gd, 'removed!']);\n",
       "            Plotly.purge(gd);\n",
       "            observer.disconnect();\n",
       "        }}\n",
       "}});\n",
       "\n",
       "// Listen for the removal of the full notebook cells\n",
       "var notebookContainer = gd.closest('#notebook-container');\n",
       "if (notebookContainer) {{\n",
       "    x.observe(notebookContainer, {childList: true});\n",
       "}}\n",
       "\n",
       "// Listen for the clearing of the current output cell\n",
       "var outputEl = gd.closest('.output');\n",
       "if (outputEl) {{\n",
       "    x.observe(outputEl, {childList: true});\n",
       "}}\n",
       "\n",
       "                        })                };                });            </script>        </div>"
      ]
     },
     "metadata": {},
     "output_type": "display_data"
    }
   ],
   "source": [
    "import plotly.graph_objs as go\n",
    "import statsmodels.api as sm\n",
    "\n",
    "col_name = str(\"AverageTemperature\") + \"(above Average)\"\n",
    "df[col_name] = (df[(\"AverageTemperature\")] > df[(\"AverageTemperature\")].mean())#.astype(int)\n",
    "\n",
    "fig = px.scatter(df, x=\"AverageTemperature\", y =\"GHG\", size=np.log(df[\"GHG\"]), color=col_name, hover_name=df.index, log_x=False,marginal_x = \"box\",marginal_y = \"box\", template=\"simple_white\", color_discrete_sequence=[\"#0d0887\", \"#9c179e\"])\n",
    "\n",
    "# linear regression\n",
    "regline = sm.OLS(df[\"AverageTemperature\"],sm.add_constant(np.log(df[\"GHG\"]))).fit().fittedvalues\n",
    "\n",
    "# add linear regression line for whole sample\n",
    "fig.add_traces(go.Scatter(x=np.log(df[\"GHG\"]), y=regline,\n",
    "                          mode = 'lines',\n",
    "                          marker_color='#fb9f3a',\n",
    "                          name='OLS Trendline')\n",
    "                          )\n",
    "\n",
    "fig.show()"
   ]
  },
  {
   "cell_type": "code",
   "execution_count": 26,
   "id": "04b6ccd2",
   "metadata": {},
   "outputs": [
    {
     "ename": "ValueError",
     "evalue": "\n    Invalid element(s) received for the 'size' property of scatter.marker\n        Invalid elements include: [-4.948583333333334]\n\n    The 'size' property is a number and may be specified as:\n      - An int or float in the interval [0, inf]\n      - A tuple, list, or one-dimensional numpy array of the above",
     "output_type": "error",
     "traceback": [
      "\u001b[1;31m---------------------------------------------------------------------------\u001b[0m",
      "\u001b[1;31mValueError\u001b[0m                                Traceback (most recent call last)",
      "Input \u001b[1;32mIn [26]\u001b[0m, in \u001b[0;36m<cell line: 7>\u001b[1;34m()\u001b[0m\n\u001b[0;32m      2\u001b[0m df[col_name] \u001b[38;5;241m=\u001b[39m (df[(\u001b[38;5;124m\"\u001b[39m\u001b[38;5;124mAverageTemperature\u001b[39m\u001b[38;5;124m\"\u001b[39m)] \u001b[38;5;241m>\u001b[39m df[(\u001b[38;5;124m\"\u001b[39m\u001b[38;5;124mAverageTemperature\u001b[39m\u001b[38;5;124m\"\u001b[39m)]\u001b[38;5;241m.\u001b[39mmean())\u001b[38;5;66;03m#.astype(int)\u001b[39;00m\n\u001b[0;32m      5\u001b[0m size \u001b[38;5;241m=\u001b[39m df[\u001b[38;5;124m\"\u001b[39m\u001b[38;5;124mAverageTemperature\u001b[39m\u001b[38;5;124m\"\u001b[39m]\n\u001b[1;32m----> 7\u001b[0m fig \u001b[38;5;241m=\u001b[39m \u001b[43mpx\u001b[49m\u001b[38;5;241;43m.\u001b[39;49m\u001b[43mscatter\u001b[49m\u001b[43m(\u001b[49m\u001b[43mdf\u001b[49m\u001b[43m,\u001b[49m\u001b[43m \u001b[49m\u001b[43mx\u001b[49m\u001b[38;5;241;43m=\u001b[39;49m\u001b[38;5;124;43m\"\u001b[39;49m\u001b[38;5;124;43mAverageTemperature\u001b[39;49m\u001b[38;5;124;43m\"\u001b[39;49m\u001b[43m,\u001b[49m\u001b[43m \u001b[49m\u001b[43my\u001b[49m\u001b[43m \u001b[49m\u001b[38;5;241;43m=\u001b[39;49m\u001b[38;5;124;43m\"\u001b[39;49m\u001b[38;5;124;43mGHG\u001b[39;49m\u001b[38;5;124;43m\"\u001b[39;49m\u001b[43m,\u001b[49m\u001b[43m \u001b[49m\u001b[43msize\u001b[49m\u001b[38;5;241;43m=\u001b[39;49m\u001b[43msize\u001b[49m\u001b[43m,\u001b[49m\u001b[43m \u001b[49m\u001b[43mcolor\u001b[49m\u001b[38;5;241;43m=\u001b[39;49m\u001b[43mcol_name\u001b[49m\u001b[43m,\u001b[49m\u001b[43mhover_name\u001b[49m\u001b[38;5;241;43m=\u001b[39;49m\u001b[43mdf\u001b[49m\u001b[38;5;241;43m.\u001b[39;49m\u001b[43mindex\u001b[49m\u001b[43m,\u001b[49m\u001b[43m \u001b[49m\u001b[43mlog_x\u001b[49m\u001b[38;5;241;43m=\u001b[39;49m\u001b[38;5;28;43;01mFalse\u001b[39;49;00m\u001b[43m,\u001b[49m\u001b[43m \u001b[49m\u001b[43mtrendline\u001b[49m\u001b[43m \u001b[49m\u001b[38;5;241;43m=\u001b[39;49m\u001b[43m \u001b[49m\u001b[38;5;124;43m\"\u001b[39;49m\u001b[38;5;124;43mols\u001b[39;49m\u001b[38;5;124;43m\"\u001b[39;49m\u001b[43m,\u001b[49m\u001b[43m  \u001b[49m\u001b[43mtrendline_color_override\u001b[49m\u001b[38;5;241;43m=\u001b[39;49m\u001b[38;5;124;43m\"\u001b[39;49m\u001b[38;5;124;43m#bd3786\u001b[39;49m\u001b[38;5;124;43m\"\u001b[39;49m\u001b[43m,\u001b[49m\u001b[43mmarginal_x\u001b[49m\u001b[43m \u001b[49m\u001b[38;5;241;43m=\u001b[39;49m\u001b[43m \u001b[49m\u001b[38;5;124;43m\"\u001b[39;49m\u001b[38;5;124;43mbox\u001b[39;49m\u001b[38;5;124;43m\"\u001b[39;49m\u001b[43m,\u001b[49m\u001b[43mmarginal_y\u001b[49m\u001b[43m \u001b[49m\u001b[38;5;241;43m=\u001b[39;49m\u001b[43m \u001b[49m\u001b[38;5;124;43m\"\u001b[39;49m\u001b[38;5;124;43mbox\u001b[39;49m\u001b[38;5;124;43m\"\u001b[39;49m\u001b[43m,\u001b[49m\u001b[43m \u001b[49m\u001b[43mtemplate\u001b[49m\u001b[38;5;241;43m=\u001b[39;49m\u001b[38;5;124;43m\"\u001b[39;49m\u001b[38;5;124;43msimple_white\u001b[39;49m\u001b[38;5;124;43m\"\u001b[39;49m\u001b[43m,\u001b[49m\u001b[43m \u001b[49m\u001b[43mcolor_discrete_sequence\u001b[49m\u001b[38;5;241;43m=\u001b[39;49m\u001b[43mpx\u001b[49m\u001b[38;5;241;43m.\u001b[39;49m\u001b[43mcolors\u001b[49m\u001b[38;5;241;43m.\u001b[39;49m\u001b[43mqualitative\u001b[49m\u001b[38;5;241;43m.\u001b[39;49m\u001b[43mG10\u001b[49m\u001b[43m)\u001b[49m\n\u001b[0;32m      8\u001b[0m fig\u001b[38;5;241m.\u001b[39mshow()\n",
      "File \u001b[1;32m~\\miniconda3\\envs\\data_vis\\lib\\site-packages\\plotly\\express\\_chart_types.py:66\u001b[0m, in \u001b[0;36mscatter\u001b[1;34m(data_frame, x, y, color, symbol, size, hover_name, hover_data, custom_data, text, facet_row, facet_col, facet_col_wrap, facet_row_spacing, facet_col_spacing, error_x, error_x_minus, error_y, error_y_minus, animation_frame, animation_group, category_orders, labels, orientation, color_discrete_sequence, color_discrete_map, color_continuous_scale, range_color, color_continuous_midpoint, symbol_sequence, symbol_map, opacity, size_max, marginal_x, marginal_y, trendline, trendline_options, trendline_color_override, trendline_scope, log_x, log_y, range_x, range_y, render_mode, title, template, width, height)\u001b[0m\n\u001b[0;32m     12\u001b[0m \u001b[38;5;28;01mdef\u001b[39;00m \u001b[38;5;21mscatter\u001b[39m(\n\u001b[0;32m     13\u001b[0m     data_frame\u001b[38;5;241m=\u001b[39m\u001b[38;5;28;01mNone\u001b[39;00m,\n\u001b[0;32m     14\u001b[0m     x\u001b[38;5;241m=\u001b[39m\u001b[38;5;28;01mNone\u001b[39;00m,\n\u001b[1;32m   (...)\u001b[0m\n\u001b[0;32m     60\u001b[0m     height\u001b[38;5;241m=\u001b[39m\u001b[38;5;28;01mNone\u001b[39;00m,\n\u001b[0;32m     61\u001b[0m ):\n\u001b[0;32m     62\u001b[0m     \u001b[38;5;124;03m\"\"\"\u001b[39;00m\n\u001b[0;32m     63\u001b[0m \u001b[38;5;124;03m    In a scatter plot, each row of `data_frame` is represented by a symbol\u001b[39;00m\n\u001b[0;32m     64\u001b[0m \u001b[38;5;124;03m    mark in 2D space.\u001b[39;00m\n\u001b[0;32m     65\u001b[0m \u001b[38;5;124;03m    \"\"\"\u001b[39;00m\n\u001b[1;32m---> 66\u001b[0m     \u001b[38;5;28;01mreturn\u001b[39;00m \u001b[43mmake_figure\u001b[49m\u001b[43m(\u001b[49m\u001b[43margs\u001b[49m\u001b[38;5;241;43m=\u001b[39;49m\u001b[38;5;28;43mlocals\u001b[39;49m\u001b[43m(\u001b[49m\u001b[43m)\u001b[49m\u001b[43m,\u001b[49m\u001b[43m \u001b[49m\u001b[43mconstructor\u001b[49m\u001b[38;5;241;43m=\u001b[39;49m\u001b[43mgo\u001b[49m\u001b[38;5;241;43m.\u001b[39;49m\u001b[43mScatter\u001b[49m\u001b[43m)\u001b[49m\n",
      "File \u001b[1;32m~\\miniconda3\\envs\\data_vis\\lib\\site-packages\\plotly\\express\\_core.py:2126\u001b[0m, in \u001b[0;36mmake_figure\u001b[1;34m(args, constructor, trace_patch, layout_patch)\u001b[0m\n\u001b[0;32m   2121\u001b[0m         group[var] \u001b[38;5;241m=\u001b[39m \u001b[38;5;241m100.0\u001b[39m \u001b[38;5;241m*\u001b[39m group[var] \u001b[38;5;241m/\u001b[39m group_sum\n\u001b[0;32m   2123\u001b[0m patch, fit_results \u001b[38;5;241m=\u001b[39m make_trace_kwargs(\n\u001b[0;32m   2124\u001b[0m     args, trace_spec, group, mapping_labels\u001b[38;5;241m.\u001b[39mcopy(), sizeref\n\u001b[0;32m   2125\u001b[0m )\n\u001b[1;32m-> 2126\u001b[0m \u001b[43mtrace\u001b[49m\u001b[38;5;241;43m.\u001b[39;49m\u001b[43mupdate\u001b[49m\u001b[43m(\u001b[49m\u001b[43mpatch\u001b[49m\u001b[43m)\u001b[49m\n\u001b[0;32m   2127\u001b[0m \u001b[38;5;28;01mif\u001b[39;00m fit_results \u001b[38;5;129;01mis\u001b[39;00m \u001b[38;5;129;01mnot\u001b[39;00m \u001b[38;5;28;01mNone\u001b[39;00m:\n\u001b[0;32m   2128\u001b[0m     trendline_rows\u001b[38;5;241m.\u001b[39mappend(mapping_labels\u001b[38;5;241m.\u001b[39mcopy())\n",
      "File \u001b[1;32m~\\miniconda3\\envs\\data_vis\\lib\\site-packages\\plotly\\basedatatypes.py:5092\u001b[0m, in \u001b[0;36mBasePlotlyType.update\u001b[1;34m(self, dict1, overwrite, **kwargs)\u001b[0m\n\u001b[0;32m   5090\u001b[0m         BaseFigure\u001b[38;5;241m.\u001b[39m_perform_update(\u001b[38;5;28mself\u001b[39m, kwargs, overwrite\u001b[38;5;241m=\u001b[39moverwrite)\n\u001b[0;32m   5091\u001b[0m \u001b[38;5;28;01melse\u001b[39;00m:\n\u001b[1;32m-> 5092\u001b[0m     \u001b[43mBaseFigure\u001b[49m\u001b[38;5;241;43m.\u001b[39;49m\u001b[43m_perform_update\u001b[49m\u001b[43m(\u001b[49m\u001b[38;5;28;43mself\u001b[39;49m\u001b[43m,\u001b[49m\u001b[43m \u001b[49m\u001b[43mdict1\u001b[49m\u001b[43m,\u001b[49m\u001b[43m \u001b[49m\u001b[43moverwrite\u001b[49m\u001b[38;5;241;43m=\u001b[39;49m\u001b[43moverwrite\u001b[49m\u001b[43m)\u001b[49m\n\u001b[0;32m   5093\u001b[0m     BaseFigure\u001b[38;5;241m.\u001b[39m_perform_update(\u001b[38;5;28mself\u001b[39m, kwargs, overwrite\u001b[38;5;241m=\u001b[39moverwrite)\n\u001b[0;32m   5095\u001b[0m \u001b[38;5;28;01mreturn\u001b[39;00m \u001b[38;5;28mself\u001b[39m\n",
      "File \u001b[1;32m~\\miniconda3\\envs\\data_vis\\lib\\site-packages\\plotly\\basedatatypes.py:3908\u001b[0m, in \u001b[0;36mBaseFigure._perform_update\u001b[1;34m(plotly_obj, update_obj, overwrite)\u001b[0m\n\u001b[0;32m   3902\u001b[0m validator \u001b[38;5;241m=\u001b[39m plotly_obj\u001b[38;5;241m.\u001b[39m_get_prop_validator(key)\n\u001b[0;32m   3904\u001b[0m \u001b[38;5;28;01mif\u001b[39;00m \u001b[38;5;28misinstance\u001b[39m(validator, CompoundValidator) \u001b[38;5;129;01mand\u001b[39;00m \u001b[38;5;28misinstance\u001b[39m(val, \u001b[38;5;28mdict\u001b[39m):\n\u001b[0;32m   3905\u001b[0m \n\u001b[0;32m   3906\u001b[0m     \u001b[38;5;66;03m# Update compound objects recursively\u001b[39;00m\n\u001b[0;32m   3907\u001b[0m     \u001b[38;5;66;03m# plotly_obj[key].update(val)\u001b[39;00m\n\u001b[1;32m-> 3908\u001b[0m     \u001b[43mBaseFigure\u001b[49m\u001b[38;5;241;43m.\u001b[39;49m\u001b[43m_perform_update\u001b[49m\u001b[43m(\u001b[49m\u001b[43mplotly_obj\u001b[49m\u001b[43m[\u001b[49m\u001b[43mkey\u001b[49m\u001b[43m]\u001b[49m\u001b[43m,\u001b[49m\u001b[43m \u001b[49m\u001b[43mval\u001b[49m\u001b[43m)\u001b[49m\n\u001b[0;32m   3909\u001b[0m \u001b[38;5;28;01melif\u001b[39;00m \u001b[38;5;28misinstance\u001b[39m(validator, CompoundArrayValidator):\n\u001b[0;32m   3910\u001b[0m     \u001b[38;5;28;01mif\u001b[39;00m plotly_obj[key]:\n\u001b[0;32m   3911\u001b[0m         \u001b[38;5;66;03m# plotly_obj has an existing non-empty array for key\u001b[39;00m\n\u001b[0;32m   3912\u001b[0m         \u001b[38;5;66;03m# In this case we merge val into the existing elements\u001b[39;00m\n",
      "File \u001b[1;32m~\\miniconda3\\envs\\data_vis\\lib\\site-packages\\plotly\\basedatatypes.py:3929\u001b[0m, in \u001b[0;36mBaseFigure._perform_update\u001b[1;34m(plotly_obj, update_obj, overwrite)\u001b[0m\n\u001b[0;32m   3926\u001b[0m                 plotly_obj[key] \u001b[38;5;241m=\u001b[39m val\n\u001b[0;32m   3927\u001b[0m         \u001b[38;5;28;01melse\u001b[39;00m:\n\u001b[0;32m   3928\u001b[0m             \u001b[38;5;66;03m# Assign non-compound value\u001b[39;00m\n\u001b[1;32m-> 3929\u001b[0m             plotly_obj[key] \u001b[38;5;241m=\u001b[39m val\n\u001b[0;32m   3931\u001b[0m \u001b[38;5;28;01melif\u001b[39;00m \u001b[38;5;28misinstance\u001b[39m(plotly_obj, \u001b[38;5;28mtuple\u001b[39m):\n\u001b[0;32m   3933\u001b[0m     \u001b[38;5;28;01mif\u001b[39;00m \u001b[38;5;28mlen\u001b[39m(update_obj) \u001b[38;5;241m==\u001b[39m \u001b[38;5;241m0\u001b[39m:\n\u001b[0;32m   3934\u001b[0m         \u001b[38;5;66;03m# Nothing to do\u001b[39;00m\n",
      "File \u001b[1;32m~\\miniconda3\\envs\\data_vis\\lib\\site-packages\\plotly\\basedatatypes.py:4827\u001b[0m, in \u001b[0;36mBasePlotlyType.__setitem__\u001b[1;34m(self, prop, value)\u001b[0m\n\u001b[0;32m   4823\u001b[0m         \u001b[38;5;28mself\u001b[39m\u001b[38;5;241m.\u001b[39m_set_array_prop(prop, value)\n\u001b[0;32m   4825\u001b[0m     \u001b[38;5;66;03m# ### Handle simple property ###\u001b[39;00m\n\u001b[0;32m   4826\u001b[0m     \u001b[38;5;28;01melse\u001b[39;00m:\n\u001b[1;32m-> 4827\u001b[0m         \u001b[38;5;28;43mself\u001b[39;49m\u001b[38;5;241;43m.\u001b[39;49m\u001b[43m_set_prop\u001b[49m\u001b[43m(\u001b[49m\u001b[43mprop\u001b[49m\u001b[43m,\u001b[49m\u001b[43m \u001b[49m\u001b[43mvalue\u001b[49m\u001b[43m)\u001b[49m\n\u001b[0;32m   4828\u001b[0m \u001b[38;5;28;01melse\u001b[39;00m:\n\u001b[0;32m   4829\u001b[0m     \u001b[38;5;66;03m# Make sure properties dict is initialized\u001b[39;00m\n\u001b[0;32m   4830\u001b[0m     \u001b[38;5;28mself\u001b[39m\u001b[38;5;241m.\u001b[39m_init_props()\n",
      "File \u001b[1;32m~\\miniconda3\\envs\\data_vis\\lib\\site-packages\\plotly\\basedatatypes.py:5171\u001b[0m, in \u001b[0;36mBasePlotlyType._set_prop\u001b[1;34m(self, prop, val)\u001b[0m\n\u001b[0;32m   5169\u001b[0m         \u001b[38;5;28;01mreturn\u001b[39;00m\n\u001b[0;32m   5170\u001b[0m     \u001b[38;5;28;01melse\u001b[39;00m:\n\u001b[1;32m-> 5171\u001b[0m         \u001b[38;5;28;01mraise\u001b[39;00m err\n\u001b[0;32m   5173\u001b[0m \u001b[38;5;66;03m# val is None\u001b[39;00m\n\u001b[0;32m   5174\u001b[0m \u001b[38;5;66;03m# -----------\u001b[39;00m\n\u001b[0;32m   5175\u001b[0m \u001b[38;5;28;01mif\u001b[39;00m val \u001b[38;5;129;01mis\u001b[39;00m \u001b[38;5;28;01mNone\u001b[39;00m:\n\u001b[0;32m   5176\u001b[0m     \u001b[38;5;66;03m# Check if we should send null update\u001b[39;00m\n",
      "File \u001b[1;32m~\\miniconda3\\envs\\data_vis\\lib\\site-packages\\plotly\\basedatatypes.py:5166\u001b[0m, in \u001b[0;36mBasePlotlyType._set_prop\u001b[1;34m(self, prop, val)\u001b[0m\n\u001b[0;32m   5163\u001b[0m validator \u001b[38;5;241m=\u001b[39m \u001b[38;5;28mself\u001b[39m\u001b[38;5;241m.\u001b[39m_get_validator(prop)\n\u001b[0;32m   5165\u001b[0m \u001b[38;5;28;01mtry\u001b[39;00m:\n\u001b[1;32m-> 5166\u001b[0m     val \u001b[38;5;241m=\u001b[39m \u001b[43mvalidator\u001b[49m\u001b[38;5;241;43m.\u001b[39;49m\u001b[43mvalidate_coerce\u001b[49m\u001b[43m(\u001b[49m\u001b[43mval\u001b[49m\u001b[43m)\u001b[49m\n\u001b[0;32m   5167\u001b[0m \u001b[38;5;28;01mexcept\u001b[39;00m \u001b[38;5;167;01mValueError\u001b[39;00m \u001b[38;5;28;01mas\u001b[39;00m err:\n\u001b[0;32m   5168\u001b[0m     \u001b[38;5;28;01mif\u001b[39;00m \u001b[38;5;28mself\u001b[39m\u001b[38;5;241m.\u001b[39m_skip_invalid:\n",
      "File \u001b[1;32m~\\miniconda3\\envs\\data_vis\\lib\\site-packages\\_plotly_utils\\basevalidators.py:785\u001b[0m, in \u001b[0;36mNumberValidator.validate_coerce\u001b[1;34m(self, v)\u001b[0m\n\u001b[0;32m    780\u001b[0m             v_invalid \u001b[38;5;241m=\u001b[39m np\u001b[38;5;241m.\u001b[39mlogical_not(v_valid)\n\u001b[0;32m    781\u001b[0m             some_invalid_els \u001b[38;5;241m=\u001b[39m np\u001b[38;5;241m.\u001b[39marray(v, dtype\u001b[38;5;241m=\u001b[39m\u001b[38;5;124m\"\u001b[39m\u001b[38;5;124mobject\u001b[39m\u001b[38;5;124m\"\u001b[39m)[v_invalid][\n\u001b[0;32m    782\u001b[0m                 :\u001b[38;5;241m10\u001b[39m\n\u001b[0;32m    783\u001b[0m             ]\u001b[38;5;241m.\u001b[39mtolist()\n\u001b[1;32m--> 785\u001b[0m             \u001b[38;5;28;43mself\u001b[39;49m\u001b[38;5;241;43m.\u001b[39;49m\u001b[43mraise_invalid_elements\u001b[49m\u001b[43m(\u001b[49m\u001b[43msome_invalid_els\u001b[49m\u001b[43m)\u001b[49m\n\u001b[0;32m    787\u001b[0m     v \u001b[38;5;241m=\u001b[39m v_array  \u001b[38;5;66;03m# Always numeric numpy array\u001b[39;00m\n\u001b[0;32m    788\u001b[0m \u001b[38;5;28;01melif\u001b[39;00m \u001b[38;5;28mself\u001b[39m\u001b[38;5;241m.\u001b[39marray_ok \u001b[38;5;129;01mand\u001b[39;00m is_simple_array(v):\n\u001b[0;32m    789\u001b[0m     \u001b[38;5;66;03m# Check numeric\u001b[39;00m\n",
      "File \u001b[1;32m~\\miniconda3\\envs\\data_vis\\lib\\site-packages\\_plotly_utils\\basevalidators.py:305\u001b[0m, in \u001b[0;36mBaseValidator.raise_invalid_elements\u001b[1;34m(self, invalid_els)\u001b[0m\n\u001b[0;32m    303\u001b[0m     \u001b[38;5;28;01mdef\u001b[39;00m \u001b[38;5;21mraise_invalid_elements\u001b[39m(\u001b[38;5;28mself\u001b[39m, invalid_els):\n\u001b[0;32m    304\u001b[0m         \u001b[38;5;28;01mif\u001b[39;00m invalid_els:\n\u001b[1;32m--> 305\u001b[0m             \u001b[38;5;28;01mraise\u001b[39;00m \u001b[38;5;167;01mValueError\u001b[39;00m(\n\u001b[0;32m    306\u001b[0m                 \u001b[38;5;124;03m\"\"\"\u001b[39;00m\n\u001b[0;32m    307\u001b[0m \u001b[38;5;124;03m    Invalid element(s) received for the '{name}' property of {pname}\u001b[39;00m\n\u001b[0;32m    308\u001b[0m \u001b[38;5;124;03m        Invalid elements include: {invalid}\u001b[39;00m\n\u001b[0;32m    309\u001b[0m \n\u001b[0;32m    310\u001b[0m \u001b[38;5;124;03m{valid_clr_desc}\"\"\"\u001b[39;00m\u001b[38;5;241m.\u001b[39mformat(\n\u001b[0;32m    311\u001b[0m                     name\u001b[38;5;241m=\u001b[39m\u001b[38;5;28mself\u001b[39m\u001b[38;5;241m.\u001b[39mplotly_name,\n\u001b[0;32m    312\u001b[0m                     pname\u001b[38;5;241m=\u001b[39m\u001b[38;5;28mself\u001b[39m\u001b[38;5;241m.\u001b[39mparent_name,\n\u001b[0;32m    313\u001b[0m                     invalid\u001b[38;5;241m=\u001b[39minvalid_els[:\u001b[38;5;241m10\u001b[39m],\n\u001b[0;32m    314\u001b[0m                     valid_clr_desc\u001b[38;5;241m=\u001b[39m\u001b[38;5;28mself\u001b[39m\u001b[38;5;241m.\u001b[39mdescription(),\n\u001b[0;32m    315\u001b[0m                 )\n\u001b[0;32m    316\u001b[0m             )\n",
      "\u001b[1;31mValueError\u001b[0m: \n    Invalid element(s) received for the 'size' property of scatter.marker\n        Invalid elements include: [-4.948583333333334]\n\n    The 'size' property is a number and may be specified as:\n      - An int or float in the interval [0, inf]\n      - A tuple, list, or one-dimensional numpy array of the above"
     ]
    }
   ],
   "source": [
    "col_name = str(\"AverageTemperature\") + \": above Average\"\n",
    "df[col_name] = (df[(\"AverageTemperature\")] > df[(\"AverageTemperature\")].mean())#.astype(int)\n",
    "\n",
    "    \n",
    "size = df[\"AverageTemperature\"]\n",
    "    \n",
    "fig = px.scatter(df, x=\"AverageTemperature\", y =\"GHG\", size=size, color=col_name,hover_name=df.index, log_x=False, trendline = \"ols\",  trendline_color_override=\"#bd3786\",marginal_x = \"box\",marginal_y = \"box\", template=\"simple_white\", color_discrete_sequence=px.colors.qualitative.G10)\n",
    "fig.show()"
   ]
  },
  {
   "cell_type": "code",
   "execution_count": 27,
   "id": "55b1239d",
   "metadata": {},
   "outputs": [],
   "source": [
    "def scatter_plot(df, x, y, size):\n",
    "    '''insert x and y as string while x entails color coding (abv avg...)'''\n",
    "    \n",
    "    # feature engineering\n",
    "    col_name = str(y) + \" above avg\"\n",
    "    df[col_name] = (df[y] > df[y].mean()).astype(int)\n",
    "    \n",
    "    size = df[size] * 1/4\n",
    "    \n",
    "    # plotting\n",
    "    fig = px.scatter(df, x=x, y =y, size=size, color_continuous_scale=px.colors.sequential.Plasma, color=col_name,hover_name=df.index, log_x=False, trendline = \"ols\",  trendline_color_override=\"#bd3786\",marginal_x = \"box\",marginal_y = \"box\", template=\"simple_white\")\n",
    "    fig.show()"
   ]
  },
  {
   "cell_type": "code",
   "execution_count": 28,
   "id": "eaee5521",
   "metadata": {},
   "outputs": [
    {
     "ename": "ValueError",
     "evalue": "\n    Invalid element(s) received for the 'size' property of scatter.marker\n        Invalid elements include: [-1.2371458333333334]\n\n    The 'size' property is a number and may be specified as:\n      - An int or float in the interval [0, inf]\n      - A tuple, list, or one-dimensional numpy array of the above",
     "output_type": "error",
     "traceback": [
      "\u001b[1;31m---------------------------------------------------------------------------\u001b[0m",
      "\u001b[1;31mValueError\u001b[0m                                Traceback (most recent call last)",
      "Input \u001b[1;32mIn [28]\u001b[0m, in \u001b[0;36m<cell line: 1>\u001b[1;34m()\u001b[0m\n\u001b[1;32m----> 1\u001b[0m \u001b[43mscatter_plot\u001b[49m\u001b[43m(\u001b[49m\u001b[43mdf\u001b[49m\u001b[43m \u001b[49m\u001b[43m,\u001b[49m\u001b[43m \u001b[49m\u001b[38;5;124;43m\"\u001b[39;49m\u001b[38;5;124;43mAverageTemperature\u001b[39;49m\u001b[38;5;124;43m\"\u001b[39;49m\u001b[43m,\u001b[49m\u001b[43m \u001b[49m\u001b[38;5;124;43m\"\u001b[39;49m\u001b[38;5;124;43mGHG\u001b[39;49m\u001b[38;5;124;43m\"\u001b[39;49m\u001b[43m,\u001b[49m\u001b[43m \u001b[49m\u001b[38;5;124;43m\"\u001b[39;49m\u001b[38;5;124;43mAverageTemperature\u001b[39;49m\u001b[38;5;124;43m\"\u001b[39;49m\u001b[43m)\u001b[49m\n",
      "Input \u001b[1;32mIn [27]\u001b[0m, in \u001b[0;36mscatter_plot\u001b[1;34m(df, x, y, size)\u001b[0m\n\u001b[0;32m      8\u001b[0m size \u001b[38;5;241m=\u001b[39m df[size] \u001b[38;5;241m*\u001b[39m \u001b[38;5;241m1\u001b[39m\u001b[38;5;241m/\u001b[39m\u001b[38;5;241m4\u001b[39m\n\u001b[0;32m     10\u001b[0m \u001b[38;5;66;03m# plotting\u001b[39;00m\n\u001b[1;32m---> 11\u001b[0m fig \u001b[38;5;241m=\u001b[39m \u001b[43mpx\u001b[49m\u001b[38;5;241;43m.\u001b[39;49m\u001b[43mscatter\u001b[49m\u001b[43m(\u001b[49m\u001b[43mdf\u001b[49m\u001b[43m,\u001b[49m\u001b[43m \u001b[49m\u001b[43mx\u001b[49m\u001b[38;5;241;43m=\u001b[39;49m\u001b[43mx\u001b[49m\u001b[43m,\u001b[49m\u001b[43m \u001b[49m\u001b[43my\u001b[49m\u001b[43m \u001b[49m\u001b[38;5;241;43m=\u001b[39;49m\u001b[43my\u001b[49m\u001b[43m,\u001b[49m\u001b[43m \u001b[49m\u001b[43msize\u001b[49m\u001b[38;5;241;43m=\u001b[39;49m\u001b[43msize\u001b[49m\u001b[43m,\u001b[49m\u001b[43m \u001b[49m\u001b[43mcolor_continuous_scale\u001b[49m\u001b[38;5;241;43m=\u001b[39;49m\u001b[43mpx\u001b[49m\u001b[38;5;241;43m.\u001b[39;49m\u001b[43mcolors\u001b[49m\u001b[38;5;241;43m.\u001b[39;49m\u001b[43msequential\u001b[49m\u001b[38;5;241;43m.\u001b[39;49m\u001b[43mPlasma\u001b[49m\u001b[43m,\u001b[49m\u001b[43m \u001b[49m\u001b[43mcolor\u001b[49m\u001b[38;5;241;43m=\u001b[39;49m\u001b[43mcol_name\u001b[49m\u001b[43m,\u001b[49m\u001b[43mhover_name\u001b[49m\u001b[38;5;241;43m=\u001b[39;49m\u001b[43mdf\u001b[49m\u001b[38;5;241;43m.\u001b[39;49m\u001b[43mindex\u001b[49m\u001b[43m,\u001b[49m\u001b[43m \u001b[49m\u001b[43mlog_x\u001b[49m\u001b[38;5;241;43m=\u001b[39;49m\u001b[38;5;28;43;01mFalse\u001b[39;49;00m\u001b[43m,\u001b[49m\u001b[43m \u001b[49m\u001b[43mtrendline\u001b[49m\u001b[43m \u001b[49m\u001b[38;5;241;43m=\u001b[39;49m\u001b[43m \u001b[49m\u001b[38;5;124;43m\"\u001b[39;49m\u001b[38;5;124;43mols\u001b[39;49m\u001b[38;5;124;43m\"\u001b[39;49m\u001b[43m,\u001b[49m\u001b[43m  \u001b[49m\u001b[43mtrendline_color_override\u001b[49m\u001b[38;5;241;43m=\u001b[39;49m\u001b[38;5;124;43m\"\u001b[39;49m\u001b[38;5;124;43m#bd3786\u001b[39;49m\u001b[38;5;124;43m\"\u001b[39;49m\u001b[43m,\u001b[49m\u001b[43mmarginal_x\u001b[49m\u001b[43m \u001b[49m\u001b[38;5;241;43m=\u001b[39;49m\u001b[43m \u001b[49m\u001b[38;5;124;43m\"\u001b[39;49m\u001b[38;5;124;43mbox\u001b[39;49m\u001b[38;5;124;43m\"\u001b[39;49m\u001b[43m,\u001b[49m\u001b[43mmarginal_y\u001b[49m\u001b[43m \u001b[49m\u001b[38;5;241;43m=\u001b[39;49m\u001b[43m \u001b[49m\u001b[38;5;124;43m\"\u001b[39;49m\u001b[38;5;124;43mbox\u001b[39;49m\u001b[38;5;124;43m\"\u001b[39;49m\u001b[43m,\u001b[49m\u001b[43m \u001b[49m\u001b[43mtemplate\u001b[49m\u001b[38;5;241;43m=\u001b[39;49m\u001b[38;5;124;43m\"\u001b[39;49m\u001b[38;5;124;43msimple_white\u001b[39;49m\u001b[38;5;124;43m\"\u001b[39;49m\u001b[43m)\u001b[49m\n\u001b[0;32m     12\u001b[0m fig\u001b[38;5;241m.\u001b[39mshow()\n",
      "File \u001b[1;32m~\\miniconda3\\envs\\data_vis\\lib\\site-packages\\plotly\\express\\_chart_types.py:66\u001b[0m, in \u001b[0;36mscatter\u001b[1;34m(data_frame, x, y, color, symbol, size, hover_name, hover_data, custom_data, text, facet_row, facet_col, facet_col_wrap, facet_row_spacing, facet_col_spacing, error_x, error_x_minus, error_y, error_y_minus, animation_frame, animation_group, category_orders, labels, orientation, color_discrete_sequence, color_discrete_map, color_continuous_scale, range_color, color_continuous_midpoint, symbol_sequence, symbol_map, opacity, size_max, marginal_x, marginal_y, trendline, trendline_options, trendline_color_override, trendline_scope, log_x, log_y, range_x, range_y, render_mode, title, template, width, height)\u001b[0m\n\u001b[0;32m     12\u001b[0m \u001b[38;5;28;01mdef\u001b[39;00m \u001b[38;5;21mscatter\u001b[39m(\n\u001b[0;32m     13\u001b[0m     data_frame\u001b[38;5;241m=\u001b[39m\u001b[38;5;28;01mNone\u001b[39;00m,\n\u001b[0;32m     14\u001b[0m     x\u001b[38;5;241m=\u001b[39m\u001b[38;5;28;01mNone\u001b[39;00m,\n\u001b[1;32m   (...)\u001b[0m\n\u001b[0;32m     60\u001b[0m     height\u001b[38;5;241m=\u001b[39m\u001b[38;5;28;01mNone\u001b[39;00m,\n\u001b[0;32m     61\u001b[0m ):\n\u001b[0;32m     62\u001b[0m     \u001b[38;5;124;03m\"\"\"\u001b[39;00m\n\u001b[0;32m     63\u001b[0m \u001b[38;5;124;03m    In a scatter plot, each row of `data_frame` is represented by a symbol\u001b[39;00m\n\u001b[0;32m     64\u001b[0m \u001b[38;5;124;03m    mark in 2D space.\u001b[39;00m\n\u001b[0;32m     65\u001b[0m \u001b[38;5;124;03m    \"\"\"\u001b[39;00m\n\u001b[1;32m---> 66\u001b[0m     \u001b[38;5;28;01mreturn\u001b[39;00m \u001b[43mmake_figure\u001b[49m\u001b[43m(\u001b[49m\u001b[43margs\u001b[49m\u001b[38;5;241;43m=\u001b[39;49m\u001b[38;5;28;43mlocals\u001b[39;49m\u001b[43m(\u001b[49m\u001b[43m)\u001b[49m\u001b[43m,\u001b[49m\u001b[43m \u001b[49m\u001b[43mconstructor\u001b[49m\u001b[38;5;241;43m=\u001b[39;49m\u001b[43mgo\u001b[49m\u001b[38;5;241;43m.\u001b[39;49m\u001b[43mScatter\u001b[49m\u001b[43m)\u001b[49m\n",
      "File \u001b[1;32m~\\miniconda3\\envs\\data_vis\\lib\\site-packages\\plotly\\express\\_core.py:2126\u001b[0m, in \u001b[0;36mmake_figure\u001b[1;34m(args, constructor, trace_patch, layout_patch)\u001b[0m\n\u001b[0;32m   2121\u001b[0m         group[var] \u001b[38;5;241m=\u001b[39m \u001b[38;5;241m100.0\u001b[39m \u001b[38;5;241m*\u001b[39m group[var] \u001b[38;5;241m/\u001b[39m group_sum\n\u001b[0;32m   2123\u001b[0m patch, fit_results \u001b[38;5;241m=\u001b[39m make_trace_kwargs(\n\u001b[0;32m   2124\u001b[0m     args, trace_spec, group, mapping_labels\u001b[38;5;241m.\u001b[39mcopy(), sizeref\n\u001b[0;32m   2125\u001b[0m )\n\u001b[1;32m-> 2126\u001b[0m \u001b[43mtrace\u001b[49m\u001b[38;5;241;43m.\u001b[39;49m\u001b[43mupdate\u001b[49m\u001b[43m(\u001b[49m\u001b[43mpatch\u001b[49m\u001b[43m)\u001b[49m\n\u001b[0;32m   2127\u001b[0m \u001b[38;5;28;01mif\u001b[39;00m fit_results \u001b[38;5;129;01mis\u001b[39;00m \u001b[38;5;129;01mnot\u001b[39;00m \u001b[38;5;28;01mNone\u001b[39;00m:\n\u001b[0;32m   2128\u001b[0m     trendline_rows\u001b[38;5;241m.\u001b[39mappend(mapping_labels\u001b[38;5;241m.\u001b[39mcopy())\n",
      "File \u001b[1;32m~\\miniconda3\\envs\\data_vis\\lib\\site-packages\\plotly\\basedatatypes.py:5092\u001b[0m, in \u001b[0;36mBasePlotlyType.update\u001b[1;34m(self, dict1, overwrite, **kwargs)\u001b[0m\n\u001b[0;32m   5090\u001b[0m         BaseFigure\u001b[38;5;241m.\u001b[39m_perform_update(\u001b[38;5;28mself\u001b[39m, kwargs, overwrite\u001b[38;5;241m=\u001b[39moverwrite)\n\u001b[0;32m   5091\u001b[0m \u001b[38;5;28;01melse\u001b[39;00m:\n\u001b[1;32m-> 5092\u001b[0m     \u001b[43mBaseFigure\u001b[49m\u001b[38;5;241;43m.\u001b[39;49m\u001b[43m_perform_update\u001b[49m\u001b[43m(\u001b[49m\u001b[38;5;28;43mself\u001b[39;49m\u001b[43m,\u001b[49m\u001b[43m \u001b[49m\u001b[43mdict1\u001b[49m\u001b[43m,\u001b[49m\u001b[43m \u001b[49m\u001b[43moverwrite\u001b[49m\u001b[38;5;241;43m=\u001b[39;49m\u001b[43moverwrite\u001b[49m\u001b[43m)\u001b[49m\n\u001b[0;32m   5093\u001b[0m     BaseFigure\u001b[38;5;241m.\u001b[39m_perform_update(\u001b[38;5;28mself\u001b[39m, kwargs, overwrite\u001b[38;5;241m=\u001b[39moverwrite)\n\u001b[0;32m   5095\u001b[0m \u001b[38;5;28;01mreturn\u001b[39;00m \u001b[38;5;28mself\u001b[39m\n",
      "File \u001b[1;32m~\\miniconda3\\envs\\data_vis\\lib\\site-packages\\plotly\\basedatatypes.py:3908\u001b[0m, in \u001b[0;36mBaseFigure._perform_update\u001b[1;34m(plotly_obj, update_obj, overwrite)\u001b[0m\n\u001b[0;32m   3902\u001b[0m validator \u001b[38;5;241m=\u001b[39m plotly_obj\u001b[38;5;241m.\u001b[39m_get_prop_validator(key)\n\u001b[0;32m   3904\u001b[0m \u001b[38;5;28;01mif\u001b[39;00m \u001b[38;5;28misinstance\u001b[39m(validator, CompoundValidator) \u001b[38;5;129;01mand\u001b[39;00m \u001b[38;5;28misinstance\u001b[39m(val, \u001b[38;5;28mdict\u001b[39m):\n\u001b[0;32m   3905\u001b[0m \n\u001b[0;32m   3906\u001b[0m     \u001b[38;5;66;03m# Update compound objects recursively\u001b[39;00m\n\u001b[0;32m   3907\u001b[0m     \u001b[38;5;66;03m# plotly_obj[key].update(val)\u001b[39;00m\n\u001b[1;32m-> 3908\u001b[0m     \u001b[43mBaseFigure\u001b[49m\u001b[38;5;241;43m.\u001b[39;49m\u001b[43m_perform_update\u001b[49m\u001b[43m(\u001b[49m\u001b[43mplotly_obj\u001b[49m\u001b[43m[\u001b[49m\u001b[43mkey\u001b[49m\u001b[43m]\u001b[49m\u001b[43m,\u001b[49m\u001b[43m \u001b[49m\u001b[43mval\u001b[49m\u001b[43m)\u001b[49m\n\u001b[0;32m   3909\u001b[0m \u001b[38;5;28;01melif\u001b[39;00m \u001b[38;5;28misinstance\u001b[39m(validator, CompoundArrayValidator):\n\u001b[0;32m   3910\u001b[0m     \u001b[38;5;28;01mif\u001b[39;00m plotly_obj[key]:\n\u001b[0;32m   3911\u001b[0m         \u001b[38;5;66;03m# plotly_obj has an existing non-empty array for key\u001b[39;00m\n\u001b[0;32m   3912\u001b[0m         \u001b[38;5;66;03m# In this case we merge val into the existing elements\u001b[39;00m\n",
      "File \u001b[1;32m~\\miniconda3\\envs\\data_vis\\lib\\site-packages\\plotly\\basedatatypes.py:3929\u001b[0m, in \u001b[0;36mBaseFigure._perform_update\u001b[1;34m(plotly_obj, update_obj, overwrite)\u001b[0m\n\u001b[0;32m   3926\u001b[0m                 plotly_obj[key] \u001b[38;5;241m=\u001b[39m val\n\u001b[0;32m   3927\u001b[0m         \u001b[38;5;28;01melse\u001b[39;00m:\n\u001b[0;32m   3928\u001b[0m             \u001b[38;5;66;03m# Assign non-compound value\u001b[39;00m\n\u001b[1;32m-> 3929\u001b[0m             plotly_obj[key] \u001b[38;5;241m=\u001b[39m val\n\u001b[0;32m   3931\u001b[0m \u001b[38;5;28;01melif\u001b[39;00m \u001b[38;5;28misinstance\u001b[39m(plotly_obj, \u001b[38;5;28mtuple\u001b[39m):\n\u001b[0;32m   3933\u001b[0m     \u001b[38;5;28;01mif\u001b[39;00m \u001b[38;5;28mlen\u001b[39m(update_obj) \u001b[38;5;241m==\u001b[39m \u001b[38;5;241m0\u001b[39m:\n\u001b[0;32m   3934\u001b[0m         \u001b[38;5;66;03m# Nothing to do\u001b[39;00m\n",
      "File \u001b[1;32m~\\miniconda3\\envs\\data_vis\\lib\\site-packages\\plotly\\basedatatypes.py:4827\u001b[0m, in \u001b[0;36mBasePlotlyType.__setitem__\u001b[1;34m(self, prop, value)\u001b[0m\n\u001b[0;32m   4823\u001b[0m         \u001b[38;5;28mself\u001b[39m\u001b[38;5;241m.\u001b[39m_set_array_prop(prop, value)\n\u001b[0;32m   4825\u001b[0m     \u001b[38;5;66;03m# ### Handle simple property ###\u001b[39;00m\n\u001b[0;32m   4826\u001b[0m     \u001b[38;5;28;01melse\u001b[39;00m:\n\u001b[1;32m-> 4827\u001b[0m         \u001b[38;5;28;43mself\u001b[39;49m\u001b[38;5;241;43m.\u001b[39;49m\u001b[43m_set_prop\u001b[49m\u001b[43m(\u001b[49m\u001b[43mprop\u001b[49m\u001b[43m,\u001b[49m\u001b[43m \u001b[49m\u001b[43mvalue\u001b[49m\u001b[43m)\u001b[49m\n\u001b[0;32m   4828\u001b[0m \u001b[38;5;28;01melse\u001b[39;00m:\n\u001b[0;32m   4829\u001b[0m     \u001b[38;5;66;03m# Make sure properties dict is initialized\u001b[39;00m\n\u001b[0;32m   4830\u001b[0m     \u001b[38;5;28mself\u001b[39m\u001b[38;5;241m.\u001b[39m_init_props()\n",
      "File \u001b[1;32m~\\miniconda3\\envs\\data_vis\\lib\\site-packages\\plotly\\basedatatypes.py:5171\u001b[0m, in \u001b[0;36mBasePlotlyType._set_prop\u001b[1;34m(self, prop, val)\u001b[0m\n\u001b[0;32m   5169\u001b[0m         \u001b[38;5;28;01mreturn\u001b[39;00m\n\u001b[0;32m   5170\u001b[0m     \u001b[38;5;28;01melse\u001b[39;00m:\n\u001b[1;32m-> 5171\u001b[0m         \u001b[38;5;28;01mraise\u001b[39;00m err\n\u001b[0;32m   5173\u001b[0m \u001b[38;5;66;03m# val is None\u001b[39;00m\n\u001b[0;32m   5174\u001b[0m \u001b[38;5;66;03m# -----------\u001b[39;00m\n\u001b[0;32m   5175\u001b[0m \u001b[38;5;28;01mif\u001b[39;00m val \u001b[38;5;129;01mis\u001b[39;00m \u001b[38;5;28;01mNone\u001b[39;00m:\n\u001b[0;32m   5176\u001b[0m     \u001b[38;5;66;03m# Check if we should send null update\u001b[39;00m\n",
      "File \u001b[1;32m~\\miniconda3\\envs\\data_vis\\lib\\site-packages\\plotly\\basedatatypes.py:5166\u001b[0m, in \u001b[0;36mBasePlotlyType._set_prop\u001b[1;34m(self, prop, val)\u001b[0m\n\u001b[0;32m   5163\u001b[0m validator \u001b[38;5;241m=\u001b[39m \u001b[38;5;28mself\u001b[39m\u001b[38;5;241m.\u001b[39m_get_validator(prop)\n\u001b[0;32m   5165\u001b[0m \u001b[38;5;28;01mtry\u001b[39;00m:\n\u001b[1;32m-> 5166\u001b[0m     val \u001b[38;5;241m=\u001b[39m \u001b[43mvalidator\u001b[49m\u001b[38;5;241;43m.\u001b[39;49m\u001b[43mvalidate_coerce\u001b[49m\u001b[43m(\u001b[49m\u001b[43mval\u001b[49m\u001b[43m)\u001b[49m\n\u001b[0;32m   5167\u001b[0m \u001b[38;5;28;01mexcept\u001b[39;00m \u001b[38;5;167;01mValueError\u001b[39;00m \u001b[38;5;28;01mas\u001b[39;00m err:\n\u001b[0;32m   5168\u001b[0m     \u001b[38;5;28;01mif\u001b[39;00m \u001b[38;5;28mself\u001b[39m\u001b[38;5;241m.\u001b[39m_skip_invalid:\n",
      "File \u001b[1;32m~\\miniconda3\\envs\\data_vis\\lib\\site-packages\\_plotly_utils\\basevalidators.py:785\u001b[0m, in \u001b[0;36mNumberValidator.validate_coerce\u001b[1;34m(self, v)\u001b[0m\n\u001b[0;32m    780\u001b[0m             v_invalid \u001b[38;5;241m=\u001b[39m np\u001b[38;5;241m.\u001b[39mlogical_not(v_valid)\n\u001b[0;32m    781\u001b[0m             some_invalid_els \u001b[38;5;241m=\u001b[39m np\u001b[38;5;241m.\u001b[39marray(v, dtype\u001b[38;5;241m=\u001b[39m\u001b[38;5;124m\"\u001b[39m\u001b[38;5;124mobject\u001b[39m\u001b[38;5;124m\"\u001b[39m)[v_invalid][\n\u001b[0;32m    782\u001b[0m                 :\u001b[38;5;241m10\u001b[39m\n\u001b[0;32m    783\u001b[0m             ]\u001b[38;5;241m.\u001b[39mtolist()\n\u001b[1;32m--> 785\u001b[0m             \u001b[38;5;28;43mself\u001b[39;49m\u001b[38;5;241;43m.\u001b[39;49m\u001b[43mraise_invalid_elements\u001b[49m\u001b[43m(\u001b[49m\u001b[43msome_invalid_els\u001b[49m\u001b[43m)\u001b[49m\n\u001b[0;32m    787\u001b[0m     v \u001b[38;5;241m=\u001b[39m v_array  \u001b[38;5;66;03m# Always numeric numpy array\u001b[39;00m\n\u001b[0;32m    788\u001b[0m \u001b[38;5;28;01melif\u001b[39;00m \u001b[38;5;28mself\u001b[39m\u001b[38;5;241m.\u001b[39marray_ok \u001b[38;5;129;01mand\u001b[39;00m is_simple_array(v):\n\u001b[0;32m    789\u001b[0m     \u001b[38;5;66;03m# Check numeric\u001b[39;00m\n",
      "File \u001b[1;32m~\\miniconda3\\envs\\data_vis\\lib\\site-packages\\_plotly_utils\\basevalidators.py:305\u001b[0m, in \u001b[0;36mBaseValidator.raise_invalid_elements\u001b[1;34m(self, invalid_els)\u001b[0m\n\u001b[0;32m    303\u001b[0m     \u001b[38;5;28;01mdef\u001b[39;00m \u001b[38;5;21mraise_invalid_elements\u001b[39m(\u001b[38;5;28mself\u001b[39m, invalid_els):\n\u001b[0;32m    304\u001b[0m         \u001b[38;5;28;01mif\u001b[39;00m invalid_els:\n\u001b[1;32m--> 305\u001b[0m             \u001b[38;5;28;01mraise\u001b[39;00m \u001b[38;5;167;01mValueError\u001b[39;00m(\n\u001b[0;32m    306\u001b[0m                 \u001b[38;5;124;03m\"\"\"\u001b[39;00m\n\u001b[0;32m    307\u001b[0m \u001b[38;5;124;03m    Invalid element(s) received for the '{name}' property of {pname}\u001b[39;00m\n\u001b[0;32m    308\u001b[0m \u001b[38;5;124;03m        Invalid elements include: {invalid}\u001b[39;00m\n\u001b[0;32m    309\u001b[0m \n\u001b[0;32m    310\u001b[0m \u001b[38;5;124;03m{valid_clr_desc}\"\"\"\u001b[39;00m\u001b[38;5;241m.\u001b[39mformat(\n\u001b[0;32m    311\u001b[0m                     name\u001b[38;5;241m=\u001b[39m\u001b[38;5;28mself\u001b[39m\u001b[38;5;241m.\u001b[39mplotly_name,\n\u001b[0;32m    312\u001b[0m                     pname\u001b[38;5;241m=\u001b[39m\u001b[38;5;28mself\u001b[39m\u001b[38;5;241m.\u001b[39mparent_name,\n\u001b[0;32m    313\u001b[0m                     invalid\u001b[38;5;241m=\u001b[39minvalid_els[:\u001b[38;5;241m10\u001b[39m],\n\u001b[0;32m    314\u001b[0m                     valid_clr_desc\u001b[38;5;241m=\u001b[39m\u001b[38;5;28mself\u001b[39m\u001b[38;5;241m.\u001b[39mdescription(),\n\u001b[0;32m    315\u001b[0m                 )\n\u001b[0;32m    316\u001b[0m             )\n",
      "\u001b[1;31mValueError\u001b[0m: \n    Invalid element(s) received for the 'size' property of scatter.marker\n        Invalid elements include: [-1.2371458333333334]\n\n    The 'size' property is a number and may be specified as:\n      - An int or float in the interval [0, inf]\n      - A tuple, list, or one-dimensional numpy array of the above"
     ]
    }
   ],
   "source": [
    "scatter_plot(df , \"AverageTemperature\", \"GHG\", \"AverageTemperature\")"
   ]
  },
  {
   "cell_type": "code",
   "execution_count": 29,
   "id": "e9550e7e",
   "metadata": {},
   "outputs": [
    {
     "data": {
      "application/vnd.plotly.v1+json": {
       "config": {
        "plotlyServerURL": "https://plot.ly"
       },
       "data": [
        {
         "marker": {
          "color": "#0d0887"
         },
         "name": "GHG EMission",
         "type": "bar",
         "x": [
          "AFGHANISTAN",
          "ALBANIA",
          "ALGERIA",
          "ARGENTINA",
          "AUSTRALIA",
          "AUSTRIA",
          "BAHRAIN",
          "BARBADOS",
          "BELGIUM",
          "BOLIVIA",
          "BRAZIL",
          "BULGARIA",
          "CANADA",
          "CHILE",
          "CHINA",
          "COLOMBIA",
          "CUBA",
          "DEM. REP. KOREA",
          "DENMARK",
          "DOMINICAN REPUBLIC",
          "ECUADOR",
          "EGYPT",
          "ERITREA",
          "ESTONIA",
          "ETHIOPIA",
          "FINLAND",
          "FRANCE",
          "GERMANY",
          "GREECE",
          "GUATEMALA",
          "HONG KONG",
          "HUNGARY",
          "ICELAND",
          "INDIA",
          "INDONESIA",
          "IRAN",
          "IRAQ",
          "IRELAND",
          "ISRAEL",
          "ITALY",
          "JAPAN",
          "KUWAIT",
          "LATVIA",
          "LEBANON",
          "LUXEMBOURG",
          "MADAGASCAR",
          "MALAYSIA",
          "MEXICO",
          "MOROCCO",
          "MOZAMBIQUE",
          "MYANMAR",
          "NETHERLANDS",
          "NEW ZEALAND",
          "NICARAGUA",
          "NIGERIA",
          "NORWAY",
          "PANAMA",
          "PERU",
          "PHILIPPINES",
          "POLAND",
          "PORTUGAL",
          "QATAR",
          "REPUBLIC OF KOREA",
          "ROMANIA",
          "SAUDI ARABIA",
          "SOUTH AFRICA",
          "SPAIN",
          "SWEDEN",
          "SWITZERLAND",
          "SYRIA",
          "TAIWAN",
          "THAILAND",
          "TRINIDAD AND TOBAGO",
          "TUNISIA",
          "TURKEY",
          "UNITED KINGDOM",
          "UNITED STATES",
          "URUGUAY",
          "VENEZUELA",
          "VIETNAM",
          "ZIMBABWE"
         ],
         "y": [
          9.592605086913911,
          15.784967576388784,
          15.803707046006815,
          20.08107676980715,
          20.97430792058933,
          21.2208282794972,
          17.646253744145152,
          10.69121737558202,
          22.25498961859955,
          14.572781173525458,
          19.27723675792811,
          18.532775811522946,
          22.193947713072166,
          19.087616753495507,
          21.30706019652562,
          18.03394262602661,
          13.971501828578866,
          15.038264291359877,
          20.328164455419742,
          10.914360926896231,
          16.877768876221687,
          17.982078536727776,
          11.150749704960461,
          12.625151333590619,
          10.604205998592391,
          18.57877012547175,
          23.181332039096855,
          24.07943060240522,
          17.87824445965597,
          11.7028182872605,
          12.380697995689658,
          20.442349857441666,
          12.05645832750408,
          21.47843631060827,
          20.166374131327395,
          20.59174638928828,
          18.676077530281106,
          19.23056337163939,
          14.288529636170468,
          21.22425536615002,
          22.11325304311299,
          16.17670563298545,
          13.111585504232451,
          14.05563550574088,
          12.28384816969974,
          10.40353530313024,
          18.00087587110596,
          20.918170322271962,
          15.928545470503629,
          13.879633992965513,
          17.63602756251517,
          21.32429452683904,
          19.320443770674036,
          10.69121737558202,
          17.207287169864365,
          19.830822287216268,
          10.771260083255557,
          19.059639833715387,
          14.981676816730412,
          22.419676174144847,
          19.13752304465051,
          12.468990602835337,
          15.471040903723889,
          20.363838926963176,
          18.61154279335995,
          21.08232077684655,
          20.848629835021793,
          20.623304532612508,
          19.953272203244882,
          13.203522999558135,
          18.853139399209343,
          13.268905758820988,
          19.060200539833072,
          14.177572565584484,
          18.976667646870585,
          24.37778684647327,
          25.214940517211346,
          14.30886932040759,
          19.47060815090865,
          18.71345829238856,
          18.354468460188638
         ]
        },
        {
         "marker": {
          "color": "#fdca26"
         },
         "name": "Average Temperature",
         "type": "bar",
         "x": [
          "AFGHANISTAN",
          "ALBANIA",
          "ALGERIA",
          "ARGENTINA",
          "AUSTRALIA",
          "AUSTRIA",
          "BAHRAIN",
          "BARBADOS",
          "BELGIUM",
          "BOLIVIA",
          "BRAZIL",
          "BULGARIA",
          "CANADA",
          "CHILE",
          "CHINA",
          "COLOMBIA",
          "CUBA",
          "DEM. REP. KOREA",
          "DENMARK",
          "DOMINICAN REPUBLIC",
          "ECUADOR",
          "EGYPT",
          "ERITREA",
          "ESTONIA",
          "ETHIOPIA",
          "FINLAND",
          "FRANCE",
          "GERMANY",
          "GREECE",
          "GUATEMALA",
          "HONG KONG",
          "HUNGARY",
          "ICELAND",
          "INDIA",
          "INDONESIA",
          "IRAN",
          "IRAQ",
          "IRELAND",
          "ISRAEL",
          "ITALY",
          "JAPAN",
          "KUWAIT",
          "LATVIA",
          "LEBANON",
          "LUXEMBOURG",
          "MADAGASCAR",
          "MALAYSIA",
          "MEXICO",
          "MOROCCO",
          "MOZAMBIQUE",
          "MYANMAR",
          "NETHERLANDS",
          "NEW ZEALAND",
          "NICARAGUA",
          "NIGERIA",
          "NORWAY",
          "PANAMA",
          "PERU",
          "PHILIPPINES",
          "POLAND",
          "PORTUGAL",
          "QATAR",
          "REPUBLIC OF KOREA",
          "ROMANIA",
          "SAUDI ARABIA",
          "SOUTH AFRICA",
          "SPAIN",
          "SWEDEN",
          "SWITZERLAND",
          "SYRIA",
          "TAIWAN",
          "THAILAND",
          "TRINIDAD AND TOBAGO",
          "TUNISIA",
          "TURKEY",
          "UNITED KINGDOM",
          "UNITED STATES",
          "URUGUAY",
          "VENEZUELA",
          "VIETNAM",
          "ZIMBABWE"
         ],
         "y": [
          13.350083333333332,
          12.51825,
          23.18816666666667,
          14.771333333333333,
          20.984916666666667,
          6.962833333333333,
          25.39675,
          26.32541666666667,
          10.454583333333334,
          20.777916666666663,
          24.61683333333333,
          10.300416666666663,
          -4.948583333333334,
          9.369166666666668,
          6.9755,
          24.75358333333333,
          25.681833333333334,
          7.137250000000001,
          9.236916666666668,
          25.585083333333333,
          21.73033333333333,
          21.8925,
          26.69141666666667,
          6.746416666666666,
          22.93675,
          3.045916666666667,
          11.525916666666667,
          9.1765,
          14.381749999999998,
          23.374166666666667,
          23.27308333333333,
          10.288833333333336,
          1.248333333333333,
          24.04725,
          25.757583333333333,
          16.7755,
          21.055,
          10.576583333333334,
          18.87708333333333,
          13.354666666666668,
          12.102583333333332,
          24.63525,
          7.181750000000001,
          17.01975,
          10.12075,
          22.98858333333333,
          25.980416666666667,
          20.916083333333336,
          18.15033333333333,
          23.79833333333333,
          23.7055,
          10.1195,
          10.464666666666666,
          25.78483333333333,
          27.0685,
          1.2173333333333334,
          26.09858333333333,
          19.85141666666667,
          26.55316666666667,
          8.606333333333334,
          15.758666666666668,
          26.396,
          12.057833333333331,
          8.988166666666666,
          25.0955,
          17.666999999999998,
          14.510083333333334,
          4.023333333333333,
          7.995833333333334,
          17.2775,
          22.36491666666667,
          26.249583333333334,
          26.09991666666667,
          20.146,
          10.961,
          9.814333333333332,
          8.888083333333332,
          17.28925,
          24.96366666666667,
          24.04433333333333,
          21.535083333333333
         ]
        }
       ],
       "layout": {
        "template": {
         "data": {
          "bar": [
           {
            "error_x": {
             "color": "#2a3f5f"
            },
            "error_y": {
             "color": "#2a3f5f"
            },
            "marker": {
             "line": {
              "color": "#E5ECF6",
              "width": 0.5
             },
             "pattern": {
              "fillmode": "overlay",
              "size": 10,
              "solidity": 0.2
             }
            },
            "type": "bar"
           }
          ],
          "barpolar": [
           {
            "marker": {
             "line": {
              "color": "#E5ECF6",
              "width": 0.5
             },
             "pattern": {
              "fillmode": "overlay",
              "size": 10,
              "solidity": 0.2
             }
            },
            "type": "barpolar"
           }
          ],
          "carpet": [
           {
            "aaxis": {
             "endlinecolor": "#2a3f5f",
             "gridcolor": "white",
             "linecolor": "white",
             "minorgridcolor": "white",
             "startlinecolor": "#2a3f5f"
            },
            "baxis": {
             "endlinecolor": "#2a3f5f",
             "gridcolor": "white",
             "linecolor": "white",
             "minorgridcolor": "white",
             "startlinecolor": "#2a3f5f"
            },
            "type": "carpet"
           }
          ],
          "choropleth": [
           {
            "colorbar": {
             "outlinewidth": 0,
             "ticks": ""
            },
            "type": "choropleth"
           }
          ],
          "contour": [
           {
            "colorbar": {
             "outlinewidth": 0,
             "ticks": ""
            },
            "colorscale": [
             [
              0,
              "#0d0887"
             ],
             [
              0.1111111111111111,
              "#46039f"
             ],
             [
              0.2222222222222222,
              "#7201a8"
             ],
             [
              0.3333333333333333,
              "#9c179e"
             ],
             [
              0.4444444444444444,
              "#bd3786"
             ],
             [
              0.5555555555555556,
              "#d8576b"
             ],
             [
              0.6666666666666666,
              "#ed7953"
             ],
             [
              0.7777777777777778,
              "#fb9f3a"
             ],
             [
              0.8888888888888888,
              "#fdca26"
             ],
             [
              1,
              "#f0f921"
             ]
            ],
            "type": "contour"
           }
          ],
          "contourcarpet": [
           {
            "colorbar": {
             "outlinewidth": 0,
             "ticks": ""
            },
            "type": "contourcarpet"
           }
          ],
          "heatmap": [
           {
            "colorbar": {
             "outlinewidth": 0,
             "ticks": ""
            },
            "colorscale": [
             [
              0,
              "#0d0887"
             ],
             [
              0.1111111111111111,
              "#46039f"
             ],
             [
              0.2222222222222222,
              "#7201a8"
             ],
             [
              0.3333333333333333,
              "#9c179e"
             ],
             [
              0.4444444444444444,
              "#bd3786"
             ],
             [
              0.5555555555555556,
              "#d8576b"
             ],
             [
              0.6666666666666666,
              "#ed7953"
             ],
             [
              0.7777777777777778,
              "#fb9f3a"
             ],
             [
              0.8888888888888888,
              "#fdca26"
             ],
             [
              1,
              "#f0f921"
             ]
            ],
            "type": "heatmap"
           }
          ],
          "heatmapgl": [
           {
            "colorbar": {
             "outlinewidth": 0,
             "ticks": ""
            },
            "colorscale": [
             [
              0,
              "#0d0887"
             ],
             [
              0.1111111111111111,
              "#46039f"
             ],
             [
              0.2222222222222222,
              "#7201a8"
             ],
             [
              0.3333333333333333,
              "#9c179e"
             ],
             [
              0.4444444444444444,
              "#bd3786"
             ],
             [
              0.5555555555555556,
              "#d8576b"
             ],
             [
              0.6666666666666666,
              "#ed7953"
             ],
             [
              0.7777777777777778,
              "#fb9f3a"
             ],
             [
              0.8888888888888888,
              "#fdca26"
             ],
             [
              1,
              "#f0f921"
             ]
            ],
            "type": "heatmapgl"
           }
          ],
          "histogram": [
           {
            "marker": {
             "pattern": {
              "fillmode": "overlay",
              "size": 10,
              "solidity": 0.2
             }
            },
            "type": "histogram"
           }
          ],
          "histogram2d": [
           {
            "colorbar": {
             "outlinewidth": 0,
             "ticks": ""
            },
            "colorscale": [
             [
              0,
              "#0d0887"
             ],
             [
              0.1111111111111111,
              "#46039f"
             ],
             [
              0.2222222222222222,
              "#7201a8"
             ],
             [
              0.3333333333333333,
              "#9c179e"
             ],
             [
              0.4444444444444444,
              "#bd3786"
             ],
             [
              0.5555555555555556,
              "#d8576b"
             ],
             [
              0.6666666666666666,
              "#ed7953"
             ],
             [
              0.7777777777777778,
              "#fb9f3a"
             ],
             [
              0.8888888888888888,
              "#fdca26"
             ],
             [
              1,
              "#f0f921"
             ]
            ],
            "type": "histogram2d"
           }
          ],
          "histogram2dcontour": [
           {
            "colorbar": {
             "outlinewidth": 0,
             "ticks": ""
            },
            "colorscale": [
             [
              0,
              "#0d0887"
             ],
             [
              0.1111111111111111,
              "#46039f"
             ],
             [
              0.2222222222222222,
              "#7201a8"
             ],
             [
              0.3333333333333333,
              "#9c179e"
             ],
             [
              0.4444444444444444,
              "#bd3786"
             ],
             [
              0.5555555555555556,
              "#d8576b"
             ],
             [
              0.6666666666666666,
              "#ed7953"
             ],
             [
              0.7777777777777778,
              "#fb9f3a"
             ],
             [
              0.8888888888888888,
              "#fdca26"
             ],
             [
              1,
              "#f0f921"
             ]
            ],
            "type": "histogram2dcontour"
           }
          ],
          "mesh3d": [
           {
            "colorbar": {
             "outlinewidth": 0,
             "ticks": ""
            },
            "type": "mesh3d"
           }
          ],
          "parcoords": [
           {
            "line": {
             "colorbar": {
              "outlinewidth": 0,
              "ticks": ""
             }
            },
            "type": "parcoords"
           }
          ],
          "pie": [
           {
            "automargin": true,
            "type": "pie"
           }
          ],
          "scatter": [
           {
            "marker": {
             "colorbar": {
              "outlinewidth": 0,
              "ticks": ""
             }
            },
            "type": "scatter"
           }
          ],
          "scatter3d": [
           {
            "line": {
             "colorbar": {
              "outlinewidth": 0,
              "ticks": ""
             }
            },
            "marker": {
             "colorbar": {
              "outlinewidth": 0,
              "ticks": ""
             }
            },
            "type": "scatter3d"
           }
          ],
          "scattercarpet": [
           {
            "marker": {
             "colorbar": {
              "outlinewidth": 0,
              "ticks": ""
             }
            },
            "type": "scattercarpet"
           }
          ],
          "scattergeo": [
           {
            "marker": {
             "colorbar": {
              "outlinewidth": 0,
              "ticks": ""
             }
            },
            "type": "scattergeo"
           }
          ],
          "scattergl": [
           {
            "marker": {
             "colorbar": {
              "outlinewidth": 0,
              "ticks": ""
             }
            },
            "type": "scattergl"
           }
          ],
          "scattermapbox": [
           {
            "marker": {
             "colorbar": {
              "outlinewidth": 0,
              "ticks": ""
             }
            },
            "type": "scattermapbox"
           }
          ],
          "scatterpolar": [
           {
            "marker": {
             "colorbar": {
              "outlinewidth": 0,
              "ticks": ""
             }
            },
            "type": "scatterpolar"
           }
          ],
          "scatterpolargl": [
           {
            "marker": {
             "colorbar": {
              "outlinewidth": 0,
              "ticks": ""
             }
            },
            "type": "scatterpolargl"
           }
          ],
          "scatterternary": [
           {
            "marker": {
             "colorbar": {
              "outlinewidth": 0,
              "ticks": ""
             }
            },
            "type": "scatterternary"
           }
          ],
          "surface": [
           {
            "colorbar": {
             "outlinewidth": 0,
             "ticks": ""
            },
            "colorscale": [
             [
              0,
              "#0d0887"
             ],
             [
              0.1111111111111111,
              "#46039f"
             ],
             [
              0.2222222222222222,
              "#7201a8"
             ],
             [
              0.3333333333333333,
              "#9c179e"
             ],
             [
              0.4444444444444444,
              "#bd3786"
             ],
             [
              0.5555555555555556,
              "#d8576b"
             ],
             [
              0.6666666666666666,
              "#ed7953"
             ],
             [
              0.7777777777777778,
              "#fb9f3a"
             ],
             [
              0.8888888888888888,
              "#fdca26"
             ],
             [
              1,
              "#f0f921"
             ]
            ],
            "type": "surface"
           }
          ],
          "table": [
           {
            "cells": {
             "fill": {
              "color": "#EBF0F8"
             },
             "line": {
              "color": "white"
             }
            },
            "header": {
             "fill": {
              "color": "#C8D4E3"
             },
             "line": {
              "color": "white"
             }
            },
            "type": "table"
           }
          ]
         },
         "layout": {
          "annotationdefaults": {
           "arrowcolor": "#2a3f5f",
           "arrowhead": 0,
           "arrowwidth": 1
          },
          "autotypenumbers": "strict",
          "coloraxis": {
           "colorbar": {
            "outlinewidth": 0,
            "ticks": ""
           }
          },
          "colorscale": {
           "diverging": [
            [
             0,
             "#8e0152"
            ],
            [
             0.1,
             "#c51b7d"
            ],
            [
             0.2,
             "#de77ae"
            ],
            [
             0.3,
             "#f1b6da"
            ],
            [
             0.4,
             "#fde0ef"
            ],
            [
             0.5,
             "#f7f7f7"
            ],
            [
             0.6,
             "#e6f5d0"
            ],
            [
             0.7,
             "#b8e186"
            ],
            [
             0.8,
             "#7fbc41"
            ],
            [
             0.9,
             "#4d9221"
            ],
            [
             1,
             "#276419"
            ]
           ],
           "sequential": [
            [
             0,
             "#0d0887"
            ],
            [
             0.1111111111111111,
             "#46039f"
            ],
            [
             0.2222222222222222,
             "#7201a8"
            ],
            [
             0.3333333333333333,
             "#9c179e"
            ],
            [
             0.4444444444444444,
             "#bd3786"
            ],
            [
             0.5555555555555556,
             "#d8576b"
            ],
            [
             0.6666666666666666,
             "#ed7953"
            ],
            [
             0.7777777777777778,
             "#fb9f3a"
            ],
            [
             0.8888888888888888,
             "#fdca26"
            ],
            [
             1,
             "#f0f921"
            ]
           ],
           "sequentialminus": [
            [
             0,
             "#0d0887"
            ],
            [
             0.1111111111111111,
             "#46039f"
            ],
            [
             0.2222222222222222,
             "#7201a8"
            ],
            [
             0.3333333333333333,
             "#9c179e"
            ],
            [
             0.4444444444444444,
             "#bd3786"
            ],
            [
             0.5555555555555556,
             "#d8576b"
            ],
            [
             0.6666666666666666,
             "#ed7953"
            ],
            [
             0.7777777777777778,
             "#fb9f3a"
            ],
            [
             0.8888888888888888,
             "#fdca26"
            ],
            [
             1,
             "#f0f921"
            ]
           ]
          },
          "colorway": [
           "#636efa",
           "#EF553B",
           "#00cc96",
           "#ab63fa",
           "#FFA15A",
           "#19d3f3",
           "#FF6692",
           "#B6E880",
           "#FF97FF",
           "#FECB52"
          ],
          "font": {
           "color": "#2a3f5f"
          },
          "geo": {
           "bgcolor": "white",
           "lakecolor": "white",
           "landcolor": "#E5ECF6",
           "showlakes": true,
           "showland": true,
           "subunitcolor": "white"
          },
          "hoverlabel": {
           "align": "left"
          },
          "hovermode": "closest",
          "mapbox": {
           "style": "light"
          },
          "paper_bgcolor": "white",
          "plot_bgcolor": "#E5ECF6",
          "polar": {
           "angularaxis": {
            "gridcolor": "white",
            "linecolor": "white",
            "ticks": ""
           },
           "bgcolor": "#E5ECF6",
           "radialaxis": {
            "gridcolor": "white",
            "linecolor": "white",
            "ticks": ""
           }
          },
          "scene": {
           "xaxis": {
            "backgroundcolor": "#E5ECF6",
            "gridcolor": "white",
            "gridwidth": 2,
            "linecolor": "white",
            "showbackground": true,
            "ticks": "",
            "zerolinecolor": "white"
           },
           "yaxis": {
            "backgroundcolor": "#E5ECF6",
            "gridcolor": "white",
            "gridwidth": 2,
            "linecolor": "white",
            "showbackground": true,
            "ticks": "",
            "zerolinecolor": "white"
           },
           "zaxis": {
            "backgroundcolor": "#E5ECF6",
            "gridcolor": "white",
            "gridwidth": 2,
            "linecolor": "white",
            "showbackground": true,
            "ticks": "",
            "zerolinecolor": "white"
           }
          },
          "shapedefaults": {
           "line": {
            "color": "#2a3f5f"
           }
          },
          "ternary": {
           "aaxis": {
            "gridcolor": "white",
            "linecolor": "white",
            "ticks": ""
           },
           "baxis": {
            "gridcolor": "white",
            "linecolor": "white",
            "ticks": ""
           },
           "bgcolor": "#E5ECF6",
           "caxis": {
            "gridcolor": "white",
            "linecolor": "white",
            "ticks": ""
           }
          },
          "title": {
           "x": 0.05
          },
          "xaxis": {
           "automargin": true,
           "gridcolor": "white",
           "linecolor": "white",
           "ticks": "",
           "title": {
            "standoff": 15
           },
           "zerolinecolor": "white",
           "zerolinewidth": 2
          },
          "yaxis": {
           "automargin": true,
           "gridcolor": "white",
           "linecolor": "white",
           "ticks": "",
           "title": {
            "standoff": 15
           },
           "zerolinecolor": "white",
           "zerolinewidth": 2
          }
         }
        }
       }
      },
      "text/html": [
       "<div>                            <div id=\"24f89ed3-ce64-474f-bcec-5dca77c17ecc\" class=\"plotly-graph-div\" style=\"height:525px; width:100%;\"></div>            <script type=\"text/javascript\">                require([\"plotly\"], function(Plotly) {                    window.PLOTLYENV=window.PLOTLYENV || {};                                    if (document.getElementById(\"24f89ed3-ce64-474f-bcec-5dca77c17ecc\")) {                    Plotly.newPlot(                        \"24f89ed3-ce64-474f-bcec-5dca77c17ecc\",                        [{\"marker\":{\"color\":\"#0d0887\"},\"name\":\"GHG EMission\",\"x\":[\"AFGHANISTAN\",\"ALBANIA\",\"ALGERIA\",\"ARGENTINA\",\"AUSTRALIA\",\"AUSTRIA\",\"BAHRAIN\",\"BARBADOS\",\"BELGIUM\",\"BOLIVIA\",\"BRAZIL\",\"BULGARIA\",\"CANADA\",\"CHILE\",\"CHINA\",\"COLOMBIA\",\"CUBA\",\"DEM. REP. KOREA\",\"DENMARK\",\"DOMINICAN REPUBLIC\",\"ECUADOR\",\"EGYPT\",\"ERITREA\",\"ESTONIA\",\"ETHIOPIA\",\"FINLAND\",\"FRANCE\",\"GERMANY\",\"GREECE\",\"GUATEMALA\",\"HONG KONG\",\"HUNGARY\",\"ICELAND\",\"INDIA\",\"INDONESIA\",\"IRAN\",\"IRAQ\",\"IRELAND\",\"ISRAEL\",\"ITALY\",\"JAPAN\",\"KUWAIT\",\"LATVIA\",\"LEBANON\",\"LUXEMBOURG\",\"MADAGASCAR\",\"MALAYSIA\",\"MEXICO\",\"MOROCCO\",\"MOZAMBIQUE\",\"MYANMAR\",\"NETHERLANDS\",\"NEW ZEALAND\",\"NICARAGUA\",\"NIGERIA\",\"NORWAY\",\"PANAMA\",\"PERU\",\"PHILIPPINES\",\"POLAND\",\"PORTUGAL\",\"QATAR\",\"REPUBLIC OF KOREA\",\"ROMANIA\",\"SAUDI ARABIA\",\"SOUTH AFRICA\",\"SPAIN\",\"SWEDEN\",\"SWITZERLAND\",\"SYRIA\",\"TAIWAN\",\"THAILAND\",\"TRINIDAD AND TOBAGO\",\"TUNISIA\",\"TURKEY\",\"UNITED KINGDOM\",\"UNITED STATES\",\"URUGUAY\",\"VENEZUELA\",\"VIETNAM\",\"ZIMBABWE\"],\"y\":[9.592605086913911,15.784967576388784,15.803707046006815,20.08107676980715,20.97430792058933,21.2208282794972,17.646253744145152,10.69121737558202,22.25498961859955,14.572781173525458,19.27723675792811,18.532775811522946,22.193947713072166,19.087616753495507,21.30706019652562,18.03394262602661,13.971501828578866,15.038264291359877,20.328164455419742,10.914360926896231,16.877768876221687,17.982078536727776,11.150749704960461,12.625151333590619,10.604205998592391,18.57877012547175,23.181332039096855,24.07943060240522,17.87824445965597,11.7028182872605,12.380697995689658,20.442349857441666,12.05645832750408,21.47843631060827,20.166374131327395,20.59174638928828,18.676077530281106,19.23056337163939,14.288529636170468,21.22425536615002,22.11325304311299,16.17670563298545,13.111585504232451,14.05563550574088,12.28384816969974,10.40353530313024,18.00087587110596,20.918170322271962,15.928545470503629,13.879633992965513,17.63602756251517,21.32429452683904,19.320443770674036,10.69121737558202,17.207287169864365,19.830822287216268,10.771260083255557,19.059639833715387,14.981676816730412,22.419676174144847,19.13752304465051,12.468990602835337,15.471040903723889,20.363838926963176,18.61154279335995,21.08232077684655,20.848629835021793,20.623304532612508,19.953272203244882,13.203522999558135,18.853139399209343,13.268905758820988,19.060200539833072,14.177572565584484,18.976667646870585,24.37778684647327,25.214940517211346,14.30886932040759,19.47060815090865,18.71345829238856,18.354468460188638],\"type\":\"bar\"},{\"marker\":{\"color\":\"#fdca26\"},\"name\":\"Average Temperature\",\"x\":[\"AFGHANISTAN\",\"ALBANIA\",\"ALGERIA\",\"ARGENTINA\",\"AUSTRALIA\",\"AUSTRIA\",\"BAHRAIN\",\"BARBADOS\",\"BELGIUM\",\"BOLIVIA\",\"BRAZIL\",\"BULGARIA\",\"CANADA\",\"CHILE\",\"CHINA\",\"COLOMBIA\",\"CUBA\",\"DEM. REP. KOREA\",\"DENMARK\",\"DOMINICAN REPUBLIC\",\"ECUADOR\",\"EGYPT\",\"ERITREA\",\"ESTONIA\",\"ETHIOPIA\",\"FINLAND\",\"FRANCE\",\"GERMANY\",\"GREECE\",\"GUATEMALA\",\"HONG KONG\",\"HUNGARY\",\"ICELAND\",\"INDIA\",\"INDONESIA\",\"IRAN\",\"IRAQ\",\"IRELAND\",\"ISRAEL\",\"ITALY\",\"JAPAN\",\"KUWAIT\",\"LATVIA\",\"LEBANON\",\"LUXEMBOURG\",\"MADAGASCAR\",\"MALAYSIA\",\"MEXICO\",\"MOROCCO\",\"MOZAMBIQUE\",\"MYANMAR\",\"NETHERLANDS\",\"NEW ZEALAND\",\"NICARAGUA\",\"NIGERIA\",\"NORWAY\",\"PANAMA\",\"PERU\",\"PHILIPPINES\",\"POLAND\",\"PORTUGAL\",\"QATAR\",\"REPUBLIC OF KOREA\",\"ROMANIA\",\"SAUDI ARABIA\",\"SOUTH AFRICA\",\"SPAIN\",\"SWEDEN\",\"SWITZERLAND\",\"SYRIA\",\"TAIWAN\",\"THAILAND\",\"TRINIDAD AND TOBAGO\",\"TUNISIA\",\"TURKEY\",\"UNITED KINGDOM\",\"UNITED STATES\",\"URUGUAY\",\"VENEZUELA\",\"VIETNAM\",\"ZIMBABWE\"],\"y\":[13.350083333333332,12.51825,23.18816666666667,14.771333333333333,20.984916666666667,6.962833333333333,25.39675,26.32541666666667,10.454583333333334,20.777916666666663,24.61683333333333,10.300416666666663,-4.948583333333334,9.369166666666668,6.9755,24.75358333333333,25.681833333333334,7.137250000000001,9.236916666666668,25.585083333333333,21.73033333333333,21.8925,26.69141666666667,6.746416666666666,22.93675,3.045916666666667,11.525916666666667,9.1765,14.381749999999998,23.374166666666667,23.27308333333333,10.288833333333336,1.248333333333333,24.04725,25.757583333333333,16.7755,21.055,10.576583333333334,18.87708333333333,13.354666666666668,12.102583333333332,24.63525,7.181750000000001,17.01975,10.12075,22.98858333333333,25.980416666666667,20.916083333333336,18.15033333333333,23.79833333333333,23.7055,10.1195,10.464666666666666,25.78483333333333,27.0685,1.2173333333333334,26.09858333333333,19.85141666666667,26.55316666666667,8.606333333333334,15.758666666666668,26.396,12.057833333333331,8.988166666666666,25.0955,17.666999999999998,14.510083333333334,4.023333333333333,7.995833333333334,17.2775,22.36491666666667,26.249583333333334,26.09991666666667,20.146,10.961,9.814333333333332,8.888083333333332,17.28925,24.96366666666667,24.04433333333333,21.535083333333333],\"type\":\"bar\"}],                        {\"template\":{\"data\":{\"bar\":[{\"error_x\":{\"color\":\"#2a3f5f\"},\"error_y\":{\"color\":\"#2a3f5f\"},\"marker\":{\"line\":{\"color\":\"#E5ECF6\",\"width\":0.5},\"pattern\":{\"fillmode\":\"overlay\",\"size\":10,\"solidity\":0.2}},\"type\":\"bar\"}],\"barpolar\":[{\"marker\":{\"line\":{\"color\":\"#E5ECF6\",\"width\":0.5},\"pattern\":{\"fillmode\":\"overlay\",\"size\":10,\"solidity\":0.2}},\"type\":\"barpolar\"}],\"carpet\":[{\"aaxis\":{\"endlinecolor\":\"#2a3f5f\",\"gridcolor\":\"white\",\"linecolor\":\"white\",\"minorgridcolor\":\"white\",\"startlinecolor\":\"#2a3f5f\"},\"baxis\":{\"endlinecolor\":\"#2a3f5f\",\"gridcolor\":\"white\",\"linecolor\":\"white\",\"minorgridcolor\":\"white\",\"startlinecolor\":\"#2a3f5f\"},\"type\":\"carpet\"}],\"choropleth\":[{\"colorbar\":{\"outlinewidth\":0,\"ticks\":\"\"},\"type\":\"choropleth\"}],\"contour\":[{\"colorbar\":{\"outlinewidth\":0,\"ticks\":\"\"},\"colorscale\":[[0.0,\"#0d0887\"],[0.1111111111111111,\"#46039f\"],[0.2222222222222222,\"#7201a8\"],[0.3333333333333333,\"#9c179e\"],[0.4444444444444444,\"#bd3786\"],[0.5555555555555556,\"#d8576b\"],[0.6666666666666666,\"#ed7953\"],[0.7777777777777778,\"#fb9f3a\"],[0.8888888888888888,\"#fdca26\"],[1.0,\"#f0f921\"]],\"type\":\"contour\"}],\"contourcarpet\":[{\"colorbar\":{\"outlinewidth\":0,\"ticks\":\"\"},\"type\":\"contourcarpet\"}],\"heatmap\":[{\"colorbar\":{\"outlinewidth\":0,\"ticks\":\"\"},\"colorscale\":[[0.0,\"#0d0887\"],[0.1111111111111111,\"#46039f\"],[0.2222222222222222,\"#7201a8\"],[0.3333333333333333,\"#9c179e\"],[0.4444444444444444,\"#bd3786\"],[0.5555555555555556,\"#d8576b\"],[0.6666666666666666,\"#ed7953\"],[0.7777777777777778,\"#fb9f3a\"],[0.8888888888888888,\"#fdca26\"],[1.0,\"#f0f921\"]],\"type\":\"heatmap\"}],\"heatmapgl\":[{\"colorbar\":{\"outlinewidth\":0,\"ticks\":\"\"},\"colorscale\":[[0.0,\"#0d0887\"],[0.1111111111111111,\"#46039f\"],[0.2222222222222222,\"#7201a8\"],[0.3333333333333333,\"#9c179e\"],[0.4444444444444444,\"#bd3786\"],[0.5555555555555556,\"#d8576b\"],[0.6666666666666666,\"#ed7953\"],[0.7777777777777778,\"#fb9f3a\"],[0.8888888888888888,\"#fdca26\"],[1.0,\"#f0f921\"]],\"type\":\"heatmapgl\"}],\"histogram\":[{\"marker\":{\"pattern\":{\"fillmode\":\"overlay\",\"size\":10,\"solidity\":0.2}},\"type\":\"histogram\"}],\"histogram2d\":[{\"colorbar\":{\"outlinewidth\":0,\"ticks\":\"\"},\"colorscale\":[[0.0,\"#0d0887\"],[0.1111111111111111,\"#46039f\"],[0.2222222222222222,\"#7201a8\"],[0.3333333333333333,\"#9c179e\"],[0.4444444444444444,\"#bd3786\"],[0.5555555555555556,\"#d8576b\"],[0.6666666666666666,\"#ed7953\"],[0.7777777777777778,\"#fb9f3a\"],[0.8888888888888888,\"#fdca26\"],[1.0,\"#f0f921\"]],\"type\":\"histogram2d\"}],\"histogram2dcontour\":[{\"colorbar\":{\"outlinewidth\":0,\"ticks\":\"\"},\"colorscale\":[[0.0,\"#0d0887\"],[0.1111111111111111,\"#46039f\"],[0.2222222222222222,\"#7201a8\"],[0.3333333333333333,\"#9c179e\"],[0.4444444444444444,\"#bd3786\"],[0.5555555555555556,\"#d8576b\"],[0.6666666666666666,\"#ed7953\"],[0.7777777777777778,\"#fb9f3a\"],[0.8888888888888888,\"#fdca26\"],[1.0,\"#f0f921\"]],\"type\":\"histogram2dcontour\"}],\"mesh3d\":[{\"colorbar\":{\"outlinewidth\":0,\"ticks\":\"\"},\"type\":\"mesh3d\"}],\"parcoords\":[{\"line\":{\"colorbar\":{\"outlinewidth\":0,\"ticks\":\"\"}},\"type\":\"parcoords\"}],\"pie\":[{\"automargin\":true,\"type\":\"pie\"}],\"scatter\":[{\"marker\":{\"colorbar\":{\"outlinewidth\":0,\"ticks\":\"\"}},\"type\":\"scatter\"}],\"scatter3d\":[{\"line\":{\"colorbar\":{\"outlinewidth\":0,\"ticks\":\"\"}},\"marker\":{\"colorbar\":{\"outlinewidth\":0,\"ticks\":\"\"}},\"type\":\"scatter3d\"}],\"scattercarpet\":[{\"marker\":{\"colorbar\":{\"outlinewidth\":0,\"ticks\":\"\"}},\"type\":\"scattercarpet\"}],\"scattergeo\":[{\"marker\":{\"colorbar\":{\"outlinewidth\":0,\"ticks\":\"\"}},\"type\":\"scattergeo\"}],\"scattergl\":[{\"marker\":{\"colorbar\":{\"outlinewidth\":0,\"ticks\":\"\"}},\"type\":\"scattergl\"}],\"scattermapbox\":[{\"marker\":{\"colorbar\":{\"outlinewidth\":0,\"ticks\":\"\"}},\"type\":\"scattermapbox\"}],\"scatterpolar\":[{\"marker\":{\"colorbar\":{\"outlinewidth\":0,\"ticks\":\"\"}},\"type\":\"scatterpolar\"}],\"scatterpolargl\":[{\"marker\":{\"colorbar\":{\"outlinewidth\":0,\"ticks\":\"\"}},\"type\":\"scatterpolargl\"}],\"scatterternary\":[{\"marker\":{\"colorbar\":{\"outlinewidth\":0,\"ticks\":\"\"}},\"type\":\"scatterternary\"}],\"surface\":[{\"colorbar\":{\"outlinewidth\":0,\"ticks\":\"\"},\"colorscale\":[[0.0,\"#0d0887\"],[0.1111111111111111,\"#46039f\"],[0.2222222222222222,\"#7201a8\"],[0.3333333333333333,\"#9c179e\"],[0.4444444444444444,\"#bd3786\"],[0.5555555555555556,\"#d8576b\"],[0.6666666666666666,\"#ed7953\"],[0.7777777777777778,\"#fb9f3a\"],[0.8888888888888888,\"#fdca26\"],[1.0,\"#f0f921\"]],\"type\":\"surface\"}],\"table\":[{\"cells\":{\"fill\":{\"color\":\"#EBF0F8\"},\"line\":{\"color\":\"white\"}},\"header\":{\"fill\":{\"color\":\"#C8D4E3\"},\"line\":{\"color\":\"white\"}},\"type\":\"table\"}]},\"layout\":{\"annotationdefaults\":{\"arrowcolor\":\"#2a3f5f\",\"arrowhead\":0,\"arrowwidth\":1},\"autotypenumbers\":\"strict\",\"coloraxis\":{\"colorbar\":{\"outlinewidth\":0,\"ticks\":\"\"}},\"colorscale\":{\"diverging\":[[0,\"#8e0152\"],[0.1,\"#c51b7d\"],[0.2,\"#de77ae\"],[0.3,\"#f1b6da\"],[0.4,\"#fde0ef\"],[0.5,\"#f7f7f7\"],[0.6,\"#e6f5d0\"],[0.7,\"#b8e186\"],[0.8,\"#7fbc41\"],[0.9,\"#4d9221\"],[1,\"#276419\"]],\"sequential\":[[0.0,\"#0d0887\"],[0.1111111111111111,\"#46039f\"],[0.2222222222222222,\"#7201a8\"],[0.3333333333333333,\"#9c179e\"],[0.4444444444444444,\"#bd3786\"],[0.5555555555555556,\"#d8576b\"],[0.6666666666666666,\"#ed7953\"],[0.7777777777777778,\"#fb9f3a\"],[0.8888888888888888,\"#fdca26\"],[1.0,\"#f0f921\"]],\"sequentialminus\":[[0.0,\"#0d0887\"],[0.1111111111111111,\"#46039f\"],[0.2222222222222222,\"#7201a8\"],[0.3333333333333333,\"#9c179e\"],[0.4444444444444444,\"#bd3786\"],[0.5555555555555556,\"#d8576b\"],[0.6666666666666666,\"#ed7953\"],[0.7777777777777778,\"#fb9f3a\"],[0.8888888888888888,\"#fdca26\"],[1.0,\"#f0f921\"]]},\"colorway\":[\"#636efa\",\"#EF553B\",\"#00cc96\",\"#ab63fa\",\"#FFA15A\",\"#19d3f3\",\"#FF6692\",\"#B6E880\",\"#FF97FF\",\"#FECB52\"],\"font\":{\"color\":\"#2a3f5f\"},\"geo\":{\"bgcolor\":\"white\",\"lakecolor\":\"white\",\"landcolor\":\"#E5ECF6\",\"showlakes\":true,\"showland\":true,\"subunitcolor\":\"white\"},\"hoverlabel\":{\"align\":\"left\"},\"hovermode\":\"closest\",\"mapbox\":{\"style\":\"light\"},\"paper_bgcolor\":\"white\",\"plot_bgcolor\":\"#E5ECF6\",\"polar\":{\"angularaxis\":{\"gridcolor\":\"white\",\"linecolor\":\"white\",\"ticks\":\"\"},\"bgcolor\":\"#E5ECF6\",\"radialaxis\":{\"gridcolor\":\"white\",\"linecolor\":\"white\",\"ticks\":\"\"}},\"scene\":{\"xaxis\":{\"backgroundcolor\":\"#E5ECF6\",\"gridcolor\":\"white\",\"gridwidth\":2,\"linecolor\":\"white\",\"showbackground\":true,\"ticks\":\"\",\"zerolinecolor\":\"white\"},\"yaxis\":{\"backgroundcolor\":\"#E5ECF6\",\"gridcolor\":\"white\",\"gridwidth\":2,\"linecolor\":\"white\",\"showbackground\":true,\"ticks\":\"\",\"zerolinecolor\":\"white\"},\"zaxis\":{\"backgroundcolor\":\"#E5ECF6\",\"gridcolor\":\"white\",\"gridwidth\":2,\"linecolor\":\"white\",\"showbackground\":true,\"ticks\":\"\",\"zerolinecolor\":\"white\"}},\"shapedefaults\":{\"line\":{\"color\":\"#2a3f5f\"}},\"ternary\":{\"aaxis\":{\"gridcolor\":\"white\",\"linecolor\":\"white\",\"ticks\":\"\"},\"baxis\":{\"gridcolor\":\"white\",\"linecolor\":\"white\",\"ticks\":\"\"},\"bgcolor\":\"#E5ECF6\",\"caxis\":{\"gridcolor\":\"white\",\"linecolor\":\"white\",\"ticks\":\"\"}},\"title\":{\"x\":0.05},\"xaxis\":{\"automargin\":true,\"gridcolor\":\"white\",\"linecolor\":\"white\",\"ticks\":\"\",\"title\":{\"standoff\":15},\"zerolinecolor\":\"white\",\"zerolinewidth\":2},\"yaxis\":{\"automargin\":true,\"gridcolor\":\"white\",\"linecolor\":\"white\",\"ticks\":\"\",\"title\":{\"standoff\":15},\"zerolinecolor\":\"white\",\"zerolinewidth\":2}}}},                        {\"responsive\": true}                    ).then(function(){\n",
       "                            \n",
       "var gd = document.getElementById('24f89ed3-ce64-474f-bcec-5dca77c17ecc');\n",
       "var x = new MutationObserver(function (mutations, observer) {{\n",
       "        var display = window.getComputedStyle(gd).display;\n",
       "        if (!display || display === 'none') {{\n",
       "            console.log([gd, 'removed!']);\n",
       "            Plotly.purge(gd);\n",
       "            observer.disconnect();\n",
       "        }}\n",
       "}});\n",
       "\n",
       "// Listen for the removal of the full notebook cells\n",
       "var notebookContainer = gd.closest('#notebook-container');\n",
       "if (notebookContainer) {{\n",
       "    x.observe(notebookContainer, {childList: true});\n",
       "}}\n",
       "\n",
       "// Listen for the clearing of the current output cell\n",
       "var outputEl = gd.closest('.output');\n",
       "if (outputEl) {{\n",
       "    x.observe(outputEl, {childList: true});\n",
       "}}\n",
       "\n",
       "                        })                };                });            </script>        </div>"
      ]
     },
     "metadata": {},
     "output_type": "display_data"
    }
   ],
   "source": [
    "fig = go.Figure()\n",
    "fig.add_trace(go.Bar(\n",
    "    x=df[\"Country\"],\n",
    "    y=np.log(df[\"GHG\"]),\n",
    "    name=\"GHG EMission\",\n",
    "    marker_color='#0d0887'\n",
    "))\n",
    "fig.add_trace(go.Bar(\n",
    "    x=df[\"Country\"],\n",
    "    y=df[\"AverageTemperature\"],\n",
    "    name=\"Average Temperature\",\n",
    "    marker_color='#fdca26'\n",
    "))"
   ]
  },
  {
   "cell_type": "code",
   "execution_count": 30,
   "id": "ba7c0650",
   "metadata": {},
   "outputs": [],
   "source": [
    "def get_temperature_diff_between(df_by_year,start_date,end_date):\n",
    "    df = df_by_year.loc[(df_by_year[\"year\"] >= start_date) & \n",
    "                        (df_by_year[\"year\"] <= end_date)].groupby([\"Country\"]).sum()[[\"temp_diff\"]]\n",
    "    \n",
    "    return df"
   ]
  },
  {
   "cell_type": "code",
   "execution_count": null,
   "id": "500770c8",
   "metadata": {},
   "outputs": [],
   "source": []
  }
 ],
 "metadata": {
  "kernelspec": {
   "display_name": "Python 3 (ipykernel)",
   "language": "python",
   "name": "python3"
  },
  "language_info": {
   "codemirror_mode": {
    "name": "ipython",
    "version": 3
   },
   "file_extension": ".py",
   "mimetype": "text/x-python",
   "name": "python",
   "nbconvert_exporter": "python",
   "pygments_lexer": "ipython3",
   "version": "3.10.4"
  }
 },
 "nbformat": 4,
 "nbformat_minor": 5
}
