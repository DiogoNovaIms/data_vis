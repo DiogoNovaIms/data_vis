{
 "cells": [
  {
   "cell_type": "code",
   "execution_count": 10,
   "id": "efab08c5",
   "metadata": {},
   "outputs": [],
   "source": [
    "import pandas as pd\n",
    "import numpy as np\n",
    "import warnings\n",
    "from datetime import datetime\n",
    "import plotly.graph_objects as go\n",
    "import matplotlib.pyplot as plt\n",
    "import seaborn as sns\n",
    "import plotly.express as px"
   ]
  },
  {
   "cell_type": "code",
   "execution_count": 11,
   "id": "b5f75aca",
   "metadata": {
    "scrolled": true
   },
   "outputs": [
    {
     "data": {
      "text/html": [
       "<div>\n",
       "<style scoped>\n",
       "    .dataframe tbody tr th:only-of-type {\n",
       "        vertical-align: middle;\n",
       "    }\n",
       "\n",
       "    .dataframe tbody tr th {\n",
       "        vertical-align: top;\n",
       "    }\n",
       "\n",
       "    .dataframe thead th {\n",
       "        text-align: right;\n",
       "    }\n",
       "</style>\n",
       "<table border=\"1\" class=\"dataframe\">\n",
       "  <thead>\n",
       "    <tr style=\"text-align: right;\">\n",
       "      <th></th>\n",
       "      <th>Unnamed: 0</th>\n",
       "      <th>dt</th>\n",
       "      <th>AverageTemperature</th>\n",
       "      <th>AverageTemperatureUncertainty</th>\n",
       "      <th>Country</th>\n",
       "      <th>year</th>\n",
       "      <th>country_code</th>\n",
       "      <th>continent</th>\n",
       "      <th>Latitude</th>\n",
       "      <th>Longitude</th>\n",
       "      <th>GHG</th>\n",
       "    </tr>\n",
       "  </thead>\n",
       "  <tbody>\n",
       "    <tr>\n",
       "      <th>0</th>\n",
       "      <td>0</td>\n",
       "      <td>1838-04-01</td>\n",
       "      <td>13.008</td>\n",
       "      <td>2.586</td>\n",
       "      <td>AFGHANISTAN</td>\n",
       "      <td>1838</td>\n",
       "      <td>AF</td>\n",
       "      <td>AS</td>\n",
       "      <td>33.0</td>\n",
       "      <td>65.0</td>\n",
       "      <td>0.0</td>\n",
       "    </tr>\n",
       "    <tr>\n",
       "      <th>1</th>\n",
       "      <td>1</td>\n",
       "      <td>1838-05-01</td>\n",
       "      <td>NaN</td>\n",
       "      <td>NaN</td>\n",
       "      <td>AFGHANISTAN</td>\n",
       "      <td>1838</td>\n",
       "      <td>AF</td>\n",
       "      <td>AS</td>\n",
       "      <td>33.0</td>\n",
       "      <td>65.0</td>\n",
       "      <td>0.0</td>\n",
       "    </tr>\n",
       "    <tr>\n",
       "      <th>2</th>\n",
       "      <td>2</td>\n",
       "      <td>1838-06-01</td>\n",
       "      <td>23.950</td>\n",
       "      <td>2.510</td>\n",
       "      <td>AFGHANISTAN</td>\n",
       "      <td>1838</td>\n",
       "      <td>AF</td>\n",
       "      <td>AS</td>\n",
       "      <td>33.0</td>\n",
       "      <td>65.0</td>\n",
       "      <td>0.0</td>\n",
       "    </tr>\n",
       "    <tr>\n",
       "      <th>3</th>\n",
       "      <td>3</td>\n",
       "      <td>1838-07-01</td>\n",
       "      <td>26.877</td>\n",
       "      <td>2.883</td>\n",
       "      <td>AFGHANISTAN</td>\n",
       "      <td>1838</td>\n",
       "      <td>AF</td>\n",
       "      <td>AS</td>\n",
       "      <td>33.0</td>\n",
       "      <td>65.0</td>\n",
       "      <td>0.0</td>\n",
       "    </tr>\n",
       "    <tr>\n",
       "      <th>4</th>\n",
       "      <td>4</td>\n",
       "      <td>1838-08-01</td>\n",
       "      <td>24.938</td>\n",
       "      <td>2.992</td>\n",
       "      <td>AFGHANISTAN</td>\n",
       "      <td>1838</td>\n",
       "      <td>AF</td>\n",
       "      <td>AS</td>\n",
       "      <td>33.0</td>\n",
       "      <td>65.0</td>\n",
       "      <td>0.0</td>\n",
       "    </tr>\n",
       "  </tbody>\n",
       "</table>\n",
       "</div>"
      ],
      "text/plain": [
       "   Unnamed: 0          dt  AverageTemperature  AverageTemperatureUncertainty  \\\n",
       "0           0  1838-04-01              13.008                          2.586   \n",
       "1           1  1838-05-01                 NaN                            NaN   \n",
       "2           2  1838-06-01              23.950                          2.510   \n",
       "3           3  1838-07-01              26.877                          2.883   \n",
       "4           4  1838-08-01              24.938                          2.992   \n",
       "\n",
       "       Country  year country_code continent  Latitude  Longitude  GHG  \n",
       "0  AFGHANISTAN  1838           AF        AS      33.0       65.0  0.0  \n",
       "1  AFGHANISTAN  1838           AF        AS      33.0       65.0  0.0  \n",
       "2  AFGHANISTAN  1838           AF        AS      33.0       65.0  0.0  \n",
       "3  AFGHANISTAN  1838           AF        AS      33.0       65.0  0.0  \n",
       "4  AFGHANISTAN  1838           AF        AS      33.0       65.0  0.0  "
      ]
     },
     "execution_count": 11,
     "metadata": {},
     "output_type": "execute_result"
    }
   ],
   "source": [
    "df = pd.read_csv(\"GlobalLandTemperaturesByCountry+GHG.csv\")\n",
    "df.head()"
   ]
  },
  {
   "cell_type": "code",
   "execution_count": 12,
   "id": "5683fd17",
   "metadata": {},
   "outputs": [
    {
     "name": "stdout",
     "output_type": "stream",
     "text": [
      "<class 'pandas.core.frame.DataFrame'>\n",
      "RangeIndex: 505976 entries, 0 to 505975\n",
      "Data columns (total 11 columns):\n",
      " #   Column                         Non-Null Count   Dtype  \n",
      "---  ------                         --------------   -----  \n",
      " 0   Unnamed: 0                     505976 non-null  int64  \n",
      " 1   dt                             505976 non-null  object \n",
      " 2   AverageTemperature             477890 non-null  float64\n",
      " 3   AverageTemperatureUncertainty  477890 non-null  float64\n",
      " 4   Country                        505976 non-null  object \n",
      " 5   year                           505976 non-null  int64  \n",
      " 6   country_code                   505976 non-null  object \n",
      " 7   continent                      423813 non-null  object \n",
      " 8   Latitude                       505976 non-null  float64\n",
      " 9   Longitude                      505976 non-null  float64\n",
      " 10  GHG                            466425 non-null  float64\n",
      "dtypes: float64(5), int64(2), object(4)\n",
      "memory usage: 42.5+ MB\n"
     ]
    }
   ],
   "source": [
    "df.info()"
   ]
  },
  {
   "cell_type": "code",
   "execution_count": 13,
   "id": "ba8c8d4d",
   "metadata": {},
   "outputs": [
    {
     "data": {
      "text/html": [
       "<div>\n",
       "<style scoped>\n",
       "    .dataframe tbody tr th:only-of-type {\n",
       "        vertical-align: middle;\n",
       "    }\n",
       "\n",
       "    .dataframe tbody tr th {\n",
       "        vertical-align: top;\n",
       "    }\n",
       "\n",
       "    .dataframe thead th {\n",
       "        text-align: right;\n",
       "    }\n",
       "</style>\n",
       "<table border=\"1\" class=\"dataframe\">\n",
       "  <thead>\n",
       "    <tr style=\"text-align: right;\">\n",
       "      <th></th>\n",
       "      <th>Unnamed: 0</th>\n",
       "      <th>dt</th>\n",
       "      <th>AverageTemperature</th>\n",
       "      <th>AverageTemperatureUncertainty</th>\n",
       "      <th>Country</th>\n",
       "      <th>year</th>\n",
       "      <th>country_code</th>\n",
       "      <th>continent</th>\n",
       "      <th>Latitude</th>\n",
       "      <th>Longitude</th>\n",
       "      <th>GHG</th>\n",
       "    </tr>\n",
       "  </thead>\n",
       "  <tbody>\n",
       "    <tr>\n",
       "      <th>1329</th>\n",
       "      <td>1329</td>\n",
       "      <td>1949-01-01</td>\n",
       "      <td>-1.374</td>\n",
       "      <td>0.698</td>\n",
       "      <td>AFGHANISTAN</td>\n",
       "      <td>1949</td>\n",
       "      <td>AF</td>\n",
       "      <td>AS</td>\n",
       "      <td>33.0</td>\n",
       "      <td>65.0</td>\n",
       "      <td>14656.0</td>\n",
       "    </tr>\n",
       "    <tr>\n",
       "      <th>1330</th>\n",
       "      <td>1330</td>\n",
       "      <td>1949-02-01</td>\n",
       "      <td>3.089</td>\n",
       "      <td>0.370</td>\n",
       "      <td>AFGHANISTAN</td>\n",
       "      <td>1949</td>\n",
       "      <td>AF</td>\n",
       "      <td>AS</td>\n",
       "      <td>33.0</td>\n",
       "      <td>65.0</td>\n",
       "      <td>14656.0</td>\n",
       "    </tr>\n",
       "    <tr>\n",
       "      <th>1331</th>\n",
       "      <td>1331</td>\n",
       "      <td>1949-03-01</td>\n",
       "      <td>7.789</td>\n",
       "      <td>0.422</td>\n",
       "      <td>AFGHANISTAN</td>\n",
       "      <td>1949</td>\n",
       "      <td>AF</td>\n",
       "      <td>AS</td>\n",
       "      <td>33.0</td>\n",
       "      <td>65.0</td>\n",
       "      <td>14656.0</td>\n",
       "    </tr>\n",
       "    <tr>\n",
       "      <th>1332</th>\n",
       "      <td>1332</td>\n",
       "      <td>1949-04-01</td>\n",
       "      <td>15.152</td>\n",
       "      <td>0.456</td>\n",
       "      <td>AFGHANISTAN</td>\n",
       "      <td>1949</td>\n",
       "      <td>AF</td>\n",
       "      <td>AS</td>\n",
       "      <td>33.0</td>\n",
       "      <td>65.0</td>\n",
       "      <td>14656.0</td>\n",
       "    </tr>\n",
       "    <tr>\n",
       "      <th>1333</th>\n",
       "      <td>1333</td>\n",
       "      <td>1949-05-01</td>\n",
       "      <td>20.991</td>\n",
       "      <td>0.262</td>\n",
       "      <td>AFGHANISTAN</td>\n",
       "      <td>1949</td>\n",
       "      <td>AF</td>\n",
       "      <td>AS</td>\n",
       "      <td>33.0</td>\n",
       "      <td>65.0</td>\n",
       "      <td>14656.0</td>\n",
       "    </tr>\n",
       "    <tr>\n",
       "      <th>...</th>\n",
       "      <td>...</td>\n",
       "      <td>...</td>\n",
       "      <td>...</td>\n",
       "      <td>...</td>\n",
       "      <td>...</td>\n",
       "      <td>...</td>\n",
       "      <td>...</td>\n",
       "      <td>...</td>\n",
       "      <td>...</td>\n",
       "      <td>...</td>\n",
       "      <td>...</td>\n",
       "    </tr>\n",
       "    <tr>\n",
       "      <th>505970</th>\n",
       "      <td>505970</td>\n",
       "      <td>2013-04-01</td>\n",
       "      <td>21.142</td>\n",
       "      <td>0.495</td>\n",
       "      <td>ZIMBABWE</td>\n",
       "      <td>2013</td>\n",
       "      <td>ZW</td>\n",
       "      <td>AF</td>\n",
       "      <td>-20.0</td>\n",
       "      <td>30.0</td>\n",
       "      <td>658883535.0</td>\n",
       "    </tr>\n",
       "    <tr>\n",
       "      <th>505971</th>\n",
       "      <td>505971</td>\n",
       "      <td>2013-05-01</td>\n",
       "      <td>19.059</td>\n",
       "      <td>1.022</td>\n",
       "      <td>ZIMBABWE</td>\n",
       "      <td>2013</td>\n",
       "      <td>ZW</td>\n",
       "      <td>AF</td>\n",
       "      <td>-20.0</td>\n",
       "      <td>30.0</td>\n",
       "      <td>658883535.0</td>\n",
       "    </tr>\n",
       "    <tr>\n",
       "      <th>505972</th>\n",
       "      <td>505972</td>\n",
       "      <td>2013-06-01</td>\n",
       "      <td>17.613</td>\n",
       "      <td>0.473</td>\n",
       "      <td>ZIMBABWE</td>\n",
       "      <td>2013</td>\n",
       "      <td>ZW</td>\n",
       "      <td>AF</td>\n",
       "      <td>-20.0</td>\n",
       "      <td>30.0</td>\n",
       "      <td>658883535.0</td>\n",
       "    </tr>\n",
       "    <tr>\n",
       "      <th>505973</th>\n",
       "      <td>505973</td>\n",
       "      <td>2013-07-01</td>\n",
       "      <td>17.000</td>\n",
       "      <td>0.453</td>\n",
       "      <td>ZIMBABWE</td>\n",
       "      <td>2013</td>\n",
       "      <td>ZW</td>\n",
       "      <td>AF</td>\n",
       "      <td>-20.0</td>\n",
       "      <td>30.0</td>\n",
       "      <td>658883535.0</td>\n",
       "    </tr>\n",
       "    <tr>\n",
       "      <th>505974</th>\n",
       "      <td>505974</td>\n",
       "      <td>2013-08-01</td>\n",
       "      <td>19.759</td>\n",
       "      <td>0.717</td>\n",
       "      <td>ZIMBABWE</td>\n",
       "      <td>2013</td>\n",
       "      <td>ZW</td>\n",
       "      <td>AF</td>\n",
       "      <td>-20.0</td>\n",
       "      <td>30.0</td>\n",
       "      <td>658883535.0</td>\n",
       "    </tr>\n",
       "  </tbody>\n",
       "</table>\n",
       "<p>164176 rows × 11 columns</p>\n",
       "</div>"
      ],
      "text/plain": [
       "        Unnamed: 0          dt  AverageTemperature  \\\n",
       "1329          1329  1949-01-01              -1.374   \n",
       "1330          1330  1949-02-01               3.089   \n",
       "1331          1331  1949-03-01               7.789   \n",
       "1332          1332  1949-04-01              15.152   \n",
       "1333          1333  1949-05-01              20.991   \n",
       "...            ...         ...                 ...   \n",
       "505970      505970  2013-04-01              21.142   \n",
       "505971      505971  2013-05-01              19.059   \n",
       "505972      505972  2013-06-01              17.613   \n",
       "505973      505973  2013-07-01              17.000   \n",
       "505974      505974  2013-08-01              19.759   \n",
       "\n",
       "        AverageTemperatureUncertainty      Country  year country_code  \\\n",
       "1329                            0.698  AFGHANISTAN  1949           AF   \n",
       "1330                            0.370  AFGHANISTAN  1949           AF   \n",
       "1331                            0.422  AFGHANISTAN  1949           AF   \n",
       "1332                            0.456  AFGHANISTAN  1949           AF   \n",
       "1333                            0.262  AFGHANISTAN  1949           AF   \n",
       "...                               ...          ...   ...          ...   \n",
       "505970                          0.495     ZIMBABWE  2013           ZW   \n",
       "505971                          1.022     ZIMBABWE  2013           ZW   \n",
       "505972                          0.473     ZIMBABWE  2013           ZW   \n",
       "505973                          0.453     ZIMBABWE  2013           ZW   \n",
       "505974                          0.717     ZIMBABWE  2013           ZW   \n",
       "\n",
       "       continent  Latitude  Longitude          GHG  \n",
       "1329          AS      33.0       65.0      14656.0  \n",
       "1330          AS      33.0       65.0      14656.0  \n",
       "1331          AS      33.0       65.0      14656.0  \n",
       "1332          AS      33.0       65.0      14656.0  \n",
       "1333          AS      33.0       65.0      14656.0  \n",
       "...          ...       ...        ...          ...  \n",
       "505970        AF     -20.0       30.0  658883535.0  \n",
       "505971        AF     -20.0       30.0  658883535.0  \n",
       "505972        AF     -20.0       30.0  658883535.0  \n",
       "505973        AF     -20.0       30.0  658883535.0  \n",
       "505974        AF     -20.0       30.0  658883535.0  \n",
       "\n",
       "[164176 rows x 11 columns]"
      ]
     },
     "execution_count": 13,
     "metadata": {},
     "output_type": "execute_result"
    }
   ],
   "source": [
    "df = df.dropna()\n",
    "df= df[df['GHG'] != 0]\n",
    "df"
   ]
  },
  {
   "cell_type": "code",
   "execution_count": 14,
   "id": "18245ea2",
   "metadata": {},
   "outputs": [],
   "source": [
    "df = df.loc[(df['year'] == 1949)].groupby('Country')[['AverageTemperature', 'GHG']].mean().reset_index()"
   ]
  },
  {
   "cell_type": "code",
   "execution_count": 15,
   "id": "dda5e42e",
   "metadata": {},
   "outputs": [
    {
     "data": {
      "application/vnd.plotly.v1+json": {
       "config": {
        "plotlyServerURL": "https://plot.ly"
       },
       "data": [
        {
         "hovertemplate": "Country=AFGHANISTAN<br>AverageTemperature=%{x}<br>GHG=%{y}<extra></extra>",
         "legendgroup": "AFGHANISTAN",
         "marker": {
          "color": "#1F77B4",
          "symbol": "circle"
         },
         "mode": "markers",
         "name": "AFGHANISTAN",
         "orientation": "v",
         "showlegend": true,
         "type": "scatter",
         "x": [
          13.350083333333332
         ],
         "xaxis": "x",
         "y": [
          14656
         ],
         "yaxis": "y"
        },
        {
         "alignmentgroup": "True",
         "hovertemplate": "Country=AFGHANISTAN<br>AverageTemperature=%{x}<extra></extra>",
         "legendgroup": "AFGHANISTAN",
         "marker": {
          "color": "#1F77B4",
          "symbol": "circle"
         },
         "name": "AFGHANISTAN",
         "notched": true,
         "offsetgroup": "AFGHANISTAN",
         "showlegend": false,
         "type": "box",
         "x": [
          13.350083333333332
         ],
         "xaxis": "x3",
         "yaxis": "y3"
        },
        {
         "alignmentgroup": "True",
         "hovertemplate": "Country=AFGHANISTAN<br>GHG=%{y}<extra></extra>",
         "legendgroup": "AFGHANISTAN",
         "marker": {
          "color": "#1F77B4",
          "symbol": "circle"
         },
         "name": "AFGHANISTAN",
         "offsetgroup": "AFGHANISTAN",
         "scalegroup": "y",
         "showlegend": false,
         "type": "violin",
         "xaxis": "x2",
         "y": [
          14656
         ],
         "yaxis": "y2"
        },
        {
         "hovertemplate": "Country=AFGHANISTAN<extra></extra>",
         "legendgroup": "AFGHANISTAN",
         "marker": {
          "color": "#1F77B4",
          "symbol": "circle"
         },
         "mode": "lines",
         "name": "AFGHANISTAN",
         "showlegend": false,
         "type": "scatter",
         "xaxis": "x",
         "yaxis": "y"
        },
        {
         "hovertemplate": "Country=ALBANIA<br>AverageTemperature=%{x}<br>GHG=%{y}<extra></extra>",
         "legendgroup": "ALBANIA",
         "marker": {
          "color": "#FF7F0E",
          "symbol": "circle"
         },
         "mode": "markers",
         "name": "ALBANIA",
         "orientation": "v",
         "showlegend": true,
         "type": "scatter",
         "x": [
          12.51825
         ],
         "xaxis": "x",
         "y": [
          7166784
         ],
         "yaxis": "y"
        },
        {
         "alignmentgroup": "True",
         "hovertemplate": "Country=ALBANIA<br>AverageTemperature=%{x}<extra></extra>",
         "legendgroup": "ALBANIA",
         "marker": {
          "color": "#FF7F0E",
          "symbol": "circle"
         },
         "name": "ALBANIA",
         "notched": true,
         "offsetgroup": "ALBANIA",
         "showlegend": false,
         "type": "box",
         "x": [
          12.51825
         ],
         "xaxis": "x3",
         "yaxis": "y3"
        },
        {
         "alignmentgroup": "True",
         "hovertemplate": "Country=ALBANIA<br>GHG=%{y}<extra></extra>",
         "legendgroup": "ALBANIA",
         "marker": {
          "color": "#FF7F0E",
          "symbol": "circle"
         },
         "name": "ALBANIA",
         "offsetgroup": "ALBANIA",
         "scalegroup": "y",
         "showlegend": false,
         "type": "violin",
         "xaxis": "x2",
         "y": [
          7166784
         ],
         "yaxis": "y2"
        },
        {
         "hovertemplate": "Country=ALBANIA<extra></extra>",
         "legendgroup": "ALBANIA",
         "marker": {
          "color": "#FF7F0E",
          "symbol": "circle"
         },
         "mode": "lines",
         "name": "ALBANIA",
         "showlegend": false,
         "type": "scatter",
         "xaxis": "x",
         "yaxis": "y"
        },
        {
         "hovertemplate": "Country=ALGERIA<br>AverageTemperature=%{x}<br>GHG=%{y}<extra></extra>",
         "legendgroup": "ALGERIA",
         "marker": {
          "color": "#2CA02C",
          "symbol": "circle"
         },
         "mode": "markers",
         "name": "ALGERIA",
         "orientation": "v",
         "showlegend": true,
         "type": "scatter",
         "x": [
          23.18816666666667
         ],
         "xaxis": "x",
         "y": [
          7302352
         ],
         "yaxis": "y"
        },
        {
         "alignmentgroup": "True",
         "hovertemplate": "Country=ALGERIA<br>AverageTemperature=%{x}<extra></extra>",
         "legendgroup": "ALGERIA",
         "marker": {
          "color": "#2CA02C",
          "symbol": "circle"
         },
         "name": "ALGERIA",
         "notched": true,
         "offsetgroup": "ALGERIA",
         "showlegend": false,
         "type": "box",
         "x": [
          23.18816666666667
         ],
         "xaxis": "x3",
         "yaxis": "y3"
        },
        {
         "alignmentgroup": "True",
         "hovertemplate": "Country=ALGERIA<br>GHG=%{y}<extra></extra>",
         "legendgroup": "ALGERIA",
         "marker": {
          "color": "#2CA02C",
          "symbol": "circle"
         },
         "name": "ALGERIA",
         "offsetgroup": "ALGERIA",
         "scalegroup": "y",
         "showlegend": false,
         "type": "violin",
         "xaxis": "x2",
         "y": [
          7302352
         ],
         "yaxis": "y2"
        },
        {
         "hovertemplate": "Country=ALGERIA<extra></extra>",
         "legendgroup": "ALGERIA",
         "marker": {
          "color": "#2CA02C",
          "symbol": "circle"
         },
         "mode": "lines",
         "name": "ALGERIA",
         "showlegend": false,
         "type": "scatter",
         "xaxis": "x",
         "yaxis": "y"
        },
        {
         "hovertemplate": "Country=ARGENTINA<br>AverageTemperature=%{x}<br>GHG=%{y}<extra></extra>",
         "legendgroup": "ARGENTINA",
         "marker": {
          "color": "#D62728",
          "symbol": "circle"
         },
         "mode": "markers",
         "name": "ARGENTINA",
         "orientation": "v",
         "showlegend": true,
         "type": "scatter",
         "x": [
          14.771333333333333
         ],
         "xaxis": "x",
         "y": [
          526139408
         ],
         "yaxis": "y"
        },
        {
         "alignmentgroup": "True",
         "hovertemplate": "Country=ARGENTINA<br>AverageTemperature=%{x}<extra></extra>",
         "legendgroup": "ARGENTINA",
         "marker": {
          "color": "#D62728",
          "symbol": "circle"
         },
         "name": "ARGENTINA",
         "notched": true,
         "offsetgroup": "ARGENTINA",
         "showlegend": false,
         "type": "box",
         "x": [
          14.771333333333333
         ],
         "xaxis": "x3",
         "yaxis": "y3"
        },
        {
         "alignmentgroup": "True",
         "hovertemplate": "Country=ARGENTINA<br>GHG=%{y}<extra></extra>",
         "legendgroup": "ARGENTINA",
         "marker": {
          "color": "#D62728",
          "symbol": "circle"
         },
         "name": "ARGENTINA",
         "offsetgroup": "ARGENTINA",
         "scalegroup": "y",
         "showlegend": false,
         "type": "violin",
         "xaxis": "x2",
         "y": [
          526139408
         ],
         "yaxis": "y2"
        },
        {
         "hovertemplate": "Country=ARGENTINA<extra></extra>",
         "legendgroup": "ARGENTINA",
         "marker": {
          "color": "#D62728",
          "symbol": "circle"
         },
         "mode": "lines",
         "name": "ARGENTINA",
         "showlegend": false,
         "type": "scatter",
         "xaxis": "x",
         "yaxis": "y"
        },
        {
         "hovertemplate": "Country=AUSTRALIA<br>AverageTemperature=%{x}<br>GHG=%{y}<extra></extra>",
         "legendgroup": "AUSTRALIA",
         "marker": {
          "color": "#9467BD",
          "symbol": "circle"
         },
         "mode": "markers",
         "name": "AUSTRALIA",
         "orientation": "v",
         "showlegend": true,
         "type": "scatter",
         "x": [
          20.984916666666667
         ],
         "xaxis": "x",
         "y": [
          1285364176
         ],
         "yaxis": "y"
        },
        {
         "alignmentgroup": "True",
         "hovertemplate": "Country=AUSTRALIA<br>AverageTemperature=%{x}<extra></extra>",
         "legendgroup": "AUSTRALIA",
         "marker": {
          "color": "#9467BD",
          "symbol": "circle"
         },
         "name": "AUSTRALIA",
         "notched": true,
         "offsetgroup": "AUSTRALIA",
         "showlegend": false,
         "type": "box",
         "x": [
          20.984916666666667
         ],
         "xaxis": "x3",
         "yaxis": "y3"
        },
        {
         "alignmentgroup": "True",
         "hovertemplate": "Country=AUSTRALIA<br>GHG=%{y}<extra></extra>",
         "legendgroup": "AUSTRALIA",
         "marker": {
          "color": "#9467BD",
          "symbol": "circle"
         },
         "name": "AUSTRALIA",
         "offsetgroup": "AUSTRALIA",
         "scalegroup": "y",
         "showlegend": false,
         "type": "violin",
         "xaxis": "x2",
         "y": [
          1285364176
         ],
         "yaxis": "y2"
        },
        {
         "hovertemplate": "Country=AUSTRALIA<extra></extra>",
         "legendgroup": "AUSTRALIA",
         "marker": {
          "color": "#9467BD",
          "symbol": "circle"
         },
         "mode": "lines",
         "name": "AUSTRALIA",
         "showlegend": false,
         "type": "scatter",
         "xaxis": "x",
         "yaxis": "y"
        },
        {
         "hovertemplate": "Country=AUSTRIA<br>AverageTemperature=%{x}<br>GHG=%{y}<extra></extra>",
         "legendgroup": "AUSTRIA",
         "marker": {
          "color": "#8C564B",
          "symbol": "circle"
         },
         "mode": "markers",
         "name": "AUSTRIA",
         "orientation": "v",
         "showlegend": true,
         "type": "scatter",
         "x": [
          6.962833333333333
         ],
         "xaxis": "x",
         "y": [
          1644707312
         ],
         "yaxis": "y"
        },
        {
         "alignmentgroup": "True",
         "hovertemplate": "Country=AUSTRIA<br>AverageTemperature=%{x}<extra></extra>",
         "legendgroup": "AUSTRIA",
         "marker": {
          "color": "#8C564B",
          "symbol": "circle"
         },
         "name": "AUSTRIA",
         "notched": true,
         "offsetgroup": "AUSTRIA",
         "showlegend": false,
         "type": "box",
         "x": [
          6.962833333333333
         ],
         "xaxis": "x3",
         "yaxis": "y3"
        },
        {
         "alignmentgroup": "True",
         "hovertemplate": "Country=AUSTRIA<br>GHG=%{y}<extra></extra>",
         "legendgroup": "AUSTRIA",
         "marker": {
          "color": "#8C564B",
          "symbol": "circle"
         },
         "name": "AUSTRIA",
         "offsetgroup": "AUSTRIA",
         "scalegroup": "y",
         "showlegend": false,
         "type": "violin",
         "xaxis": "x2",
         "y": [
          1644707312
         ],
         "yaxis": "y2"
        },
        {
         "hovertemplate": "Country=AUSTRIA<extra></extra>",
         "legendgroup": "AUSTRIA",
         "marker": {
          "color": "#8C564B",
          "symbol": "circle"
         },
         "mode": "lines",
         "name": "AUSTRIA",
         "showlegend": false,
         "type": "scatter",
         "xaxis": "x",
         "yaxis": "y"
        },
        {
         "hovertemplate": "Country=BAHRAIN<br>AverageTemperature=%{x}<br>GHG=%{y}<extra></extra>",
         "legendgroup": "BAHRAIN",
         "marker": {
          "color": "#E377C2",
          "symbol": "circle"
         },
         "mode": "markers",
         "name": "BAHRAIN",
         "orientation": "v",
         "showlegend": true,
         "type": "scatter",
         "x": [
          25.39675
         ],
         "xaxis": "x",
         "y": [
          46096784
         ],
         "yaxis": "y"
        },
        {
         "alignmentgroup": "True",
         "hovertemplate": "Country=BAHRAIN<br>AverageTemperature=%{x}<extra></extra>",
         "legendgroup": "BAHRAIN",
         "marker": {
          "color": "#E377C2",
          "symbol": "circle"
         },
         "name": "BAHRAIN",
         "notched": true,
         "offsetgroup": "BAHRAIN",
         "showlegend": false,
         "type": "box",
         "x": [
          25.39675
         ],
         "xaxis": "x3",
         "yaxis": "y3"
        },
        {
         "alignmentgroup": "True",
         "hovertemplate": "Country=BAHRAIN<br>GHG=%{y}<extra></extra>",
         "legendgroup": "BAHRAIN",
         "marker": {
          "color": "#E377C2",
          "symbol": "circle"
         },
         "name": "BAHRAIN",
         "offsetgroup": "BAHRAIN",
         "scalegroup": "y",
         "showlegend": false,
         "type": "violin",
         "xaxis": "x2",
         "y": [
          46096784
         ],
         "yaxis": "y2"
        },
        {
         "hovertemplate": "Country=BAHRAIN<extra></extra>",
         "legendgroup": "BAHRAIN",
         "marker": {
          "color": "#E377C2",
          "symbol": "circle"
         },
         "mode": "lines",
         "name": "BAHRAIN",
         "showlegend": false,
         "type": "scatter",
         "xaxis": "x",
         "yaxis": "y"
        },
        {
         "hovertemplate": "Country=BELGIUM<br>AverageTemperature=%{x}<br>GHG=%{y}<extra></extra>",
         "legendgroup": "BELGIUM",
         "marker": {
          "color": "#7F7F7F",
          "symbol": "circle"
         },
         "mode": "markers",
         "name": "BELGIUM",
         "orientation": "v",
         "showlegend": true,
         "type": "scatter",
         "x": [
          10.454583333333334
         ],
         "xaxis": "x",
         "y": [
          4626144416
         ],
         "yaxis": "y"
        },
        {
         "alignmentgroup": "True",
         "hovertemplate": "Country=BELGIUM<br>AverageTemperature=%{x}<extra></extra>",
         "legendgroup": "BELGIUM",
         "marker": {
          "color": "#7F7F7F",
          "symbol": "circle"
         },
         "name": "BELGIUM",
         "notched": true,
         "offsetgroup": "BELGIUM",
         "showlegend": false,
         "type": "box",
         "x": [
          10.454583333333334
         ],
         "xaxis": "x3",
         "yaxis": "y3"
        },
        {
         "alignmentgroup": "True",
         "hovertemplate": "Country=BELGIUM<br>GHG=%{y}<extra></extra>",
         "legendgroup": "BELGIUM",
         "marker": {
          "color": "#7F7F7F",
          "symbol": "circle"
         },
         "name": "BELGIUM",
         "offsetgroup": "BELGIUM",
         "scalegroup": "y",
         "showlegend": false,
         "type": "violin",
         "xaxis": "x2",
         "y": [
          4626144416
         ],
         "yaxis": "y2"
        },
        {
         "hovertemplate": "Country=BELGIUM<extra></extra>",
         "legendgroup": "BELGIUM",
         "marker": {
          "color": "#7F7F7F",
          "symbol": "circle"
         },
         "mode": "lines",
         "name": "BELGIUM",
         "showlegend": false,
         "type": "scatter",
         "xaxis": "x",
         "yaxis": "y"
        },
        {
         "hovertemplate": "Country=BOLIVIA<br>AverageTemperature=%{x}<br>GHG=%{y}<extra></extra>",
         "legendgroup": "BOLIVIA",
         "marker": {
          "color": "#BCBD22",
          "symbol": "circle"
         },
         "mode": "markers",
         "name": "BOLIVIA",
         "orientation": "v",
         "showlegend": true,
         "type": "scatter",
         "x": [
          20.777916666666666
         ],
         "xaxis": "x",
         "y": [
          2132448
         ],
         "yaxis": "y"
        },
        {
         "alignmentgroup": "True",
         "hovertemplate": "Country=BOLIVIA<br>AverageTemperature=%{x}<extra></extra>",
         "legendgroup": "BOLIVIA",
         "marker": {
          "color": "#BCBD22",
          "symbol": "circle"
         },
         "name": "BOLIVIA",
         "notched": true,
         "offsetgroup": "BOLIVIA",
         "showlegend": false,
         "type": "box",
         "x": [
          20.777916666666666
         ],
         "xaxis": "x3",
         "yaxis": "y3"
        },
        {
         "alignmentgroup": "True",
         "hovertemplate": "Country=BOLIVIA<br>GHG=%{y}<extra></extra>",
         "legendgroup": "BOLIVIA",
         "marker": {
          "color": "#BCBD22",
          "symbol": "circle"
         },
         "name": "BOLIVIA",
         "offsetgroup": "BOLIVIA",
         "scalegroup": "y",
         "showlegend": false,
         "type": "violin",
         "xaxis": "x2",
         "y": [
          2132448
         ],
         "yaxis": "y2"
        },
        {
         "hovertemplate": "Country=BOLIVIA<extra></extra>",
         "legendgroup": "BOLIVIA",
         "marker": {
          "color": "#BCBD22",
          "symbol": "circle"
         },
         "mode": "lines",
         "name": "BOLIVIA",
         "showlegend": false,
         "type": "scatter",
         "xaxis": "x",
         "yaxis": "y"
        },
        {
         "hovertemplate": "Country=BRAZIL<br>AverageTemperature=%{x}<br>GHG=%{y}<extra></extra>",
         "legendgroup": "BRAZIL",
         "marker": {
          "color": "#17BECF",
          "symbol": "circle"
         },
         "mode": "markers",
         "name": "BRAZIL",
         "orientation": "v",
         "showlegend": true,
         "type": "scatter",
         "x": [
          24.616833333333332
         ],
         "xaxis": "x",
         "y": [
          235503600
         ],
         "yaxis": "y"
        },
        {
         "alignmentgroup": "True",
         "hovertemplate": "Country=BRAZIL<br>AverageTemperature=%{x}<extra></extra>",
         "legendgroup": "BRAZIL",
         "marker": {
          "color": "#17BECF",
          "symbol": "circle"
         },
         "name": "BRAZIL",
         "notched": true,
         "offsetgroup": "BRAZIL",
         "showlegend": false,
         "type": "box",
         "x": [
          24.616833333333332
         ],
         "xaxis": "x3",
         "yaxis": "y3"
        },
        {
         "alignmentgroup": "True",
         "hovertemplate": "Country=BRAZIL<br>GHG=%{y}<extra></extra>",
         "legendgroup": "BRAZIL",
         "marker": {
          "color": "#17BECF",
          "symbol": "circle"
         },
         "name": "BRAZIL",
         "offsetgroup": "BRAZIL",
         "scalegroup": "y",
         "showlegend": false,
         "type": "violin",
         "xaxis": "x2",
         "y": [
          235503600
         ],
         "yaxis": "y2"
        },
        {
         "hovertemplate": "Country=BRAZIL<extra></extra>",
         "legendgroup": "BRAZIL",
         "marker": {
          "color": "#17BECF",
          "symbol": "circle"
         },
         "mode": "lines",
         "name": "BRAZIL",
         "showlegend": false,
         "type": "scatter",
         "xaxis": "x",
         "yaxis": "y"
        },
        {
         "hovertemplate": "Country=BULGARIA<br>AverageTemperature=%{x}<br>GHG=%{y}<extra></extra>",
         "legendgroup": "BULGARIA",
         "marker": {
          "color": "#1F77B4",
          "symbol": "circle"
         },
         "mode": "markers",
         "name": "BULGARIA",
         "orientation": "v",
         "showlegend": true,
         "type": "scatter",
         "x": [
          10.300416666666665
         ],
         "xaxis": "x",
         "y": [
          111861920
         ],
         "yaxis": "y"
        },
        {
         "alignmentgroup": "True",
         "hovertemplate": "Country=BULGARIA<br>AverageTemperature=%{x}<extra></extra>",
         "legendgroup": "BULGARIA",
         "marker": {
          "color": "#1F77B4",
          "symbol": "circle"
         },
         "name": "BULGARIA",
         "notched": true,
         "offsetgroup": "BULGARIA",
         "showlegend": false,
         "type": "box",
         "x": [
          10.300416666666665
         ],
         "xaxis": "x3",
         "yaxis": "y3"
        },
        {
         "alignmentgroup": "True",
         "hovertemplate": "Country=BULGARIA<br>GHG=%{y}<extra></extra>",
         "legendgroup": "BULGARIA",
         "marker": {
          "color": "#1F77B4",
          "symbol": "circle"
         },
         "name": "BULGARIA",
         "offsetgroup": "BULGARIA",
         "scalegroup": "y",
         "showlegend": false,
         "type": "violin",
         "xaxis": "x2",
         "y": [
          111861920
         ],
         "yaxis": "y2"
        },
        {
         "hovertemplate": "Country=BULGARIA<extra></extra>",
         "legendgroup": "BULGARIA",
         "marker": {
          "color": "#1F77B4",
          "symbol": "circle"
         },
         "mode": "lines",
         "name": "BULGARIA",
         "showlegend": false,
         "type": "scatter",
         "xaxis": "x",
         "yaxis": "y"
        },
        {
         "hovertemplate": "Country=CHILE<br>AverageTemperature=%{x}<br>GHG=%{y}<extra></extra>",
         "legendgroup": "CHILE",
         "marker": {
          "color": "#FF7F0E",
          "symbol": "circle"
         },
         "mode": "markers",
         "name": "CHILE",
         "orientation": "v",
         "showlegend": true,
         "type": "scatter",
         "x": [
          9.369166666666667
         ],
         "xaxis": "x",
         "y": [
          194825872
         ],
         "yaxis": "y"
        },
        {
         "alignmentgroup": "True",
         "hovertemplate": "Country=CHILE<br>AverageTemperature=%{x}<extra></extra>",
         "legendgroup": "CHILE",
         "marker": {
          "color": "#FF7F0E",
          "symbol": "circle"
         },
         "name": "CHILE",
         "notched": true,
         "offsetgroup": "CHILE",
         "showlegend": false,
         "type": "box",
         "x": [
          9.369166666666667
         ],
         "xaxis": "x3",
         "yaxis": "y3"
        },
        {
         "alignmentgroup": "True",
         "hovertemplate": "Country=CHILE<br>GHG=%{y}<extra></extra>",
         "legendgroup": "CHILE",
         "marker": {
          "color": "#FF7F0E",
          "symbol": "circle"
         },
         "name": "CHILE",
         "offsetgroup": "CHILE",
         "scalegroup": "y",
         "showlegend": false,
         "type": "violin",
         "xaxis": "x2",
         "y": [
          194825872
         ],
         "yaxis": "y2"
        },
        {
         "hovertemplate": "Country=CHILE<extra></extra>",
         "legendgroup": "CHILE",
         "marker": {
          "color": "#FF7F0E",
          "symbol": "circle"
         },
         "mode": "lines",
         "name": "CHILE",
         "showlegend": false,
         "type": "scatter",
         "xaxis": "x",
         "yaxis": "y"
        },
        {
         "hovertemplate": "Country=CHINA<br>AverageTemperature=%{x}<br>GHG=%{y}<extra></extra>",
         "legendgroup": "CHINA",
         "marker": {
          "color": "#2CA02C",
          "symbol": "circle"
         },
         "mode": "markers",
         "name": "CHINA",
         "orientation": "v",
         "showlegend": true,
         "type": "scatter",
         "x": [
          6.9755
         ],
         "xaxis": "x",
         "y": [
          1792828176
         ],
         "yaxis": "y"
        },
        {
         "alignmentgroup": "True",
         "hovertemplate": "Country=CHINA<br>AverageTemperature=%{x}<extra></extra>",
         "legendgroup": "CHINA",
         "marker": {
          "color": "#2CA02C",
          "symbol": "circle"
         },
         "name": "CHINA",
         "notched": true,
         "offsetgroup": "CHINA",
         "showlegend": false,
         "type": "box",
         "x": [
          6.9755
         ],
         "xaxis": "x3",
         "yaxis": "y3"
        },
        {
         "alignmentgroup": "True",
         "hovertemplate": "Country=CHINA<br>GHG=%{y}<extra></extra>",
         "legendgroup": "CHINA",
         "marker": {
          "color": "#2CA02C",
          "symbol": "circle"
         },
         "name": "CHINA",
         "offsetgroup": "CHINA",
         "scalegroup": "y",
         "showlegend": false,
         "type": "violin",
         "xaxis": "x2",
         "y": [
          1792828176
         ],
         "yaxis": "y2"
        },
        {
         "hovertemplate": "Country=CHINA<extra></extra>",
         "legendgroup": "CHINA",
         "marker": {
          "color": "#2CA02C",
          "symbol": "circle"
         },
         "mode": "lines",
         "name": "CHINA",
         "showlegend": false,
         "type": "scatter",
         "xaxis": "x",
         "yaxis": "y"
        },
        {
         "hovertemplate": "Country=COLOMBIA<br>AverageTemperature=%{x}<br>GHG=%{y}<extra></extra>",
         "legendgroup": "COLOMBIA",
         "marker": {
          "color": "#D62728",
          "symbol": "circle"
         },
         "mode": "markers",
         "name": "COLOMBIA",
         "orientation": "v",
         "showlegend": true,
         "type": "scatter",
         "x": [
          24.753583333333335
         ],
         "xaxis": "x",
         "y": [
          67926896
         ],
         "yaxis": "y"
        },
        {
         "alignmentgroup": "True",
         "hovertemplate": "Country=COLOMBIA<br>AverageTemperature=%{x}<extra></extra>",
         "legendgroup": "COLOMBIA",
         "marker": {
          "color": "#D62728",
          "symbol": "circle"
         },
         "name": "COLOMBIA",
         "notched": true,
         "offsetgroup": "COLOMBIA",
         "showlegend": false,
         "type": "box",
         "x": [
          24.753583333333335
         ],
         "xaxis": "x3",
         "yaxis": "y3"
        },
        {
         "alignmentgroup": "True",
         "hovertemplate": "Country=COLOMBIA<br>GHG=%{y}<extra></extra>",
         "legendgroup": "COLOMBIA",
         "marker": {
          "color": "#D62728",
          "symbol": "circle"
         },
         "name": "COLOMBIA",
         "offsetgroup": "COLOMBIA",
         "scalegroup": "y",
         "showlegend": false,
         "type": "violin",
         "xaxis": "x2",
         "y": [
          67926896
         ],
         "yaxis": "y2"
        },
        {
         "hovertemplate": "Country=COLOMBIA<extra></extra>",
         "legendgroup": "COLOMBIA",
         "marker": {
          "color": "#D62728",
          "symbol": "circle"
         },
         "mode": "lines",
         "name": "COLOMBIA",
         "showlegend": false,
         "type": "scatter",
         "xaxis": "x",
         "yaxis": "y"
        },
        {
         "hovertemplate": "Country=DENMARK<br>AverageTemperature=%{x}<br>GHG=%{y}<extra></extra>",
         "legendgroup": "DENMARK",
         "marker": {
          "color": "#9467BD",
          "symbol": "circle"
         },
         "mode": "markers",
         "name": "DENMARK",
         "orientation": "v",
         "showlegend": true,
         "type": "scatter",
         "x": [
          9.236916666666668
         ],
         "xaxis": "x",
         "y": [
          673611744
         ],
         "yaxis": "y"
        },
        {
         "alignmentgroup": "True",
         "hovertemplate": "Country=DENMARK<br>AverageTemperature=%{x}<extra></extra>",
         "legendgroup": "DENMARK",
         "marker": {
          "color": "#9467BD",
          "symbol": "circle"
         },
         "name": "DENMARK",
         "notched": true,
         "offsetgroup": "DENMARK",
         "showlegend": false,
         "type": "box",
         "x": [
          9.236916666666668
         ],
         "xaxis": "x3",
         "yaxis": "y3"
        },
        {
         "alignmentgroup": "True",
         "hovertemplate": "Country=DENMARK<br>GHG=%{y}<extra></extra>",
         "legendgroup": "DENMARK",
         "marker": {
          "color": "#9467BD",
          "symbol": "circle"
         },
         "name": "DENMARK",
         "offsetgroup": "DENMARK",
         "scalegroup": "y",
         "showlegend": false,
         "type": "violin",
         "xaxis": "x2",
         "y": [
          673611744
         ],
         "yaxis": "y2"
        },
        {
         "hovertemplate": "Country=DENMARK<extra></extra>",
         "legendgroup": "DENMARK",
         "marker": {
          "color": "#9467BD",
          "symbol": "circle"
         },
         "mode": "lines",
         "name": "DENMARK",
         "showlegend": false,
         "type": "scatter",
         "xaxis": "x",
         "yaxis": "y"
        },
        {
         "hovertemplate": "Country=ECUADOR<br>AverageTemperature=%{x}<br>GHG=%{y}<extra></extra>",
         "legendgroup": "ECUADOR",
         "marker": {
          "color": "#8C564B",
          "symbol": "circle"
         },
         "mode": "markers",
         "name": "ECUADOR",
         "orientation": "v",
         "showlegend": true,
         "type": "scatter",
         "x": [
          21.730333333333334
         ],
         "xaxis": "x",
         "y": [
          21375776
         ],
         "yaxis": "y"
        },
        {
         "alignmentgroup": "True",
         "hovertemplate": "Country=ECUADOR<br>AverageTemperature=%{x}<extra></extra>",
         "legendgroup": "ECUADOR",
         "marker": {
          "color": "#8C564B",
          "symbol": "circle"
         },
         "name": "ECUADOR",
         "notched": true,
         "offsetgroup": "ECUADOR",
         "showlegend": false,
         "type": "box",
         "x": [
          21.730333333333334
         ],
         "xaxis": "x3",
         "yaxis": "y3"
        },
        {
         "alignmentgroup": "True",
         "hovertemplate": "Country=ECUADOR<br>GHG=%{y}<extra></extra>",
         "legendgroup": "ECUADOR",
         "marker": {
          "color": "#8C564B",
          "symbol": "circle"
         },
         "name": "ECUADOR",
         "offsetgroup": "ECUADOR",
         "scalegroup": "y",
         "showlegend": false,
         "type": "violin",
         "xaxis": "x2",
         "y": [
          21375776
         ],
         "yaxis": "y2"
        },
        {
         "hovertemplate": "Country=ECUADOR<extra></extra>",
         "legendgroup": "ECUADOR",
         "marker": {
          "color": "#8C564B",
          "symbol": "circle"
         },
         "mode": "lines",
         "name": "ECUADOR",
         "showlegend": false,
         "type": "scatter",
         "xaxis": "x",
         "yaxis": "y"
        },
        {
         "hovertemplate": "Country=EGYPT<br>AverageTemperature=%{x}<br>GHG=%{y}<extra></extra>",
         "legendgroup": "EGYPT",
         "marker": {
          "color": "#E377C2",
          "symbol": "circle"
         },
         "mode": "markers",
         "name": "EGYPT",
         "orientation": "v",
         "showlegend": true,
         "type": "scatter",
         "x": [
          21.8925
         ],
         "xaxis": "x",
         "y": [
          64493728
         ],
         "yaxis": "y"
        },
        {
         "alignmentgroup": "True",
         "hovertemplate": "Country=EGYPT<br>AverageTemperature=%{x}<extra></extra>",
         "legendgroup": "EGYPT",
         "marker": {
          "color": "#E377C2",
          "symbol": "circle"
         },
         "name": "EGYPT",
         "notched": true,
         "offsetgroup": "EGYPT",
         "showlegend": false,
         "type": "box",
         "x": [
          21.8925
         ],
         "xaxis": "x3",
         "yaxis": "y3"
        },
        {
         "alignmentgroup": "True",
         "hovertemplate": "Country=EGYPT<br>GHG=%{y}<extra></extra>",
         "legendgroup": "EGYPT",
         "marker": {
          "color": "#E377C2",
          "symbol": "circle"
         },
         "name": "EGYPT",
         "offsetgroup": "EGYPT",
         "scalegroup": "y",
         "showlegend": false,
         "type": "violin",
         "xaxis": "x2",
         "y": [
          64493728
         ],
         "yaxis": "y2"
        },
        {
         "hovertemplate": "Country=EGYPT<extra></extra>",
         "legendgroup": "EGYPT",
         "marker": {
          "color": "#E377C2",
          "symbol": "circle"
         },
         "mode": "lines",
         "name": "EGYPT",
         "showlegend": false,
         "type": "scatter",
         "xaxis": "x",
         "yaxis": "y"
        },
        {
         "hovertemplate": "Country=ERITREA<br>AverageTemperature=%{x}<br>GHG=%{y}<extra></extra>",
         "legendgroup": "ERITREA",
         "marker": {
          "color": "#7F7F7F",
          "symbol": "circle"
         },
         "mode": "markers",
         "name": "ERITREA",
         "orientation": "v",
         "showlegend": true,
         "type": "scatter",
         "x": [
          26.69141666666667
         ],
         "xaxis": "x",
         "y": [
          69616
         ],
         "yaxis": "y"
        },
        {
         "alignmentgroup": "True",
         "hovertemplate": "Country=ERITREA<br>AverageTemperature=%{x}<extra></extra>",
         "legendgroup": "ERITREA",
         "marker": {
          "color": "#7F7F7F",
          "symbol": "circle"
         },
         "name": "ERITREA",
         "notched": true,
         "offsetgroup": "ERITREA",
         "showlegend": false,
         "type": "box",
         "x": [
          26.69141666666667
         ],
         "xaxis": "x3",
         "yaxis": "y3"
        },
        {
         "alignmentgroup": "True",
         "hovertemplate": "Country=ERITREA<br>GHG=%{y}<extra></extra>",
         "legendgroup": "ERITREA",
         "marker": {
          "color": "#7F7F7F",
          "symbol": "circle"
         },
         "name": "ERITREA",
         "offsetgroup": "ERITREA",
         "scalegroup": "y",
         "showlegend": false,
         "type": "violin",
         "xaxis": "x2",
         "y": [
          69616
         ],
         "yaxis": "y2"
        },
        {
         "hovertemplate": "Country=ERITREA<extra></extra>",
         "legendgroup": "ERITREA",
         "marker": {
          "color": "#7F7F7F",
          "symbol": "circle"
         },
         "mode": "lines",
         "name": "ERITREA",
         "showlegend": false,
         "type": "scatter",
         "xaxis": "x",
         "yaxis": "y"
        },
        {
         "hovertemplate": "Country=ESTONIA<br>AverageTemperature=%{x}<br>GHG=%{y}<extra></extra>",
         "legendgroup": "ESTONIA",
         "marker": {
          "color": "#BCBD22",
          "symbol": "circle"
         },
         "mode": "markers",
         "name": "ESTONIA",
         "orientation": "v",
         "showlegend": true,
         "type": "scatter",
         "x": [
          6.746416666666666
         ],
         "xaxis": "x",
         "y": [
          304112
         ],
         "yaxis": "y"
        },
        {
         "alignmentgroup": "True",
         "hovertemplate": "Country=ESTONIA<br>AverageTemperature=%{x}<extra></extra>",
         "legendgroup": "ESTONIA",
         "marker": {
          "color": "#BCBD22",
          "symbol": "circle"
         },
         "name": "ESTONIA",
         "notched": true,
         "offsetgroup": "ESTONIA",
         "showlegend": false,
         "type": "box",
         "x": [
          6.746416666666666
         ],
         "xaxis": "x3",
         "yaxis": "y3"
        },
        {
         "alignmentgroup": "True",
         "hovertemplate": "Country=ESTONIA<br>GHG=%{y}<extra></extra>",
         "legendgroup": "ESTONIA",
         "marker": {
          "color": "#BCBD22",
          "symbol": "circle"
         },
         "name": "ESTONIA",
         "offsetgroup": "ESTONIA",
         "scalegroup": "y",
         "showlegend": false,
         "type": "violin",
         "xaxis": "x2",
         "y": [
          304112
         ],
         "yaxis": "y2"
        },
        {
         "hovertemplate": "Country=ESTONIA<extra></extra>",
         "legendgroup": "ESTONIA",
         "marker": {
          "color": "#BCBD22",
          "symbol": "circle"
         },
         "mode": "lines",
         "name": "ESTONIA",
         "showlegend": false,
         "type": "scatter",
         "xaxis": "x",
         "yaxis": "y"
        },
        {
         "hovertemplate": "Country=ETHIOPIA<br>AverageTemperature=%{x}<br>GHG=%{y}<extra></extra>",
         "legendgroup": "ETHIOPIA",
         "marker": {
          "color": "#17BECF",
          "symbol": "circle"
         },
         "mode": "markers",
         "name": "ETHIOPIA",
         "orientation": "v",
         "showlegend": true,
         "type": "scatter",
         "x": [
          22.93675
         ],
         "xaxis": "x",
         "y": [
          40304
         ],
         "yaxis": "y"
        },
        {
         "alignmentgroup": "True",
         "hovertemplate": "Country=ETHIOPIA<br>AverageTemperature=%{x}<extra></extra>",
         "legendgroup": "ETHIOPIA",
         "marker": {
          "color": "#17BECF",
          "symbol": "circle"
         },
         "name": "ETHIOPIA",
         "notched": true,
         "offsetgroup": "ETHIOPIA",
         "showlegend": false,
         "type": "box",
         "x": [
          22.93675
         ],
         "xaxis": "x3",
         "yaxis": "y3"
        },
        {
         "alignmentgroup": "True",
         "hovertemplate": "Country=ETHIOPIA<br>GHG=%{y}<extra></extra>",
         "legendgroup": "ETHIOPIA",
         "marker": {
          "color": "#17BECF",
          "symbol": "circle"
         },
         "name": "ETHIOPIA",
         "offsetgroup": "ETHIOPIA",
         "scalegroup": "y",
         "showlegend": false,
         "type": "violin",
         "xaxis": "x2",
         "y": [
          40304
         ],
         "yaxis": "y2"
        },
        {
         "hovertemplate": "Country=ETHIOPIA<extra></extra>",
         "legendgroup": "ETHIOPIA",
         "marker": {
          "color": "#17BECF",
          "symbol": "circle"
         },
         "mode": "lines",
         "name": "ETHIOPIA",
         "showlegend": false,
         "type": "scatter",
         "xaxis": "x",
         "yaxis": "y"
        },
        {
         "hovertemplate": "Country=FINLAND<br>AverageTemperature=%{x}<br>GHG=%{y}<extra></extra>",
         "legendgroup": "FINLAND",
         "marker": {
          "color": "#1F77B4",
          "symbol": "circle"
         },
         "mode": "markers",
         "name": "FINLAND",
         "orientation": "v",
         "showlegend": true,
         "type": "scatter",
         "x": [
          3.045916666666667
         ],
         "xaxis": "x",
         "y": [
          117127088
         ],
         "yaxis": "y"
        },
        {
         "alignmentgroup": "True",
         "hovertemplate": "Country=FINLAND<br>AverageTemperature=%{x}<extra></extra>",
         "legendgroup": "FINLAND",
         "marker": {
          "color": "#1F77B4",
          "symbol": "circle"
         },
         "name": "FINLAND",
         "notched": true,
         "offsetgroup": "FINLAND",
         "showlegend": false,
         "type": "box",
         "x": [
          3.045916666666667
         ],
         "xaxis": "x3",
         "yaxis": "y3"
        },
        {
         "alignmentgroup": "True",
         "hovertemplate": "Country=FINLAND<br>GHG=%{y}<extra></extra>",
         "legendgroup": "FINLAND",
         "marker": {
          "color": "#1F77B4",
          "symbol": "circle"
         },
         "name": "FINLAND",
         "offsetgroup": "FINLAND",
         "scalegroup": "y",
         "showlegend": false,
         "type": "violin",
         "xaxis": "x2",
         "y": [
          117127088
         ],
         "yaxis": "y2"
        },
        {
         "hovertemplate": "Country=FINLAND<extra></extra>",
         "legendgroup": "FINLAND",
         "marker": {
          "color": "#1F77B4",
          "symbol": "circle"
         },
         "mode": "lines",
         "name": "FINLAND",
         "showlegend": false,
         "type": "scatter",
         "xaxis": "x",
         "yaxis": "y"
        },
        {
         "hovertemplate": "Country=FRANCE<br>AverageTemperature=%{x}<br>GHG=%{y}<extra></extra>",
         "legendgroup": "FRANCE",
         "marker": {
          "color": "#FF7F0E",
          "symbol": "circle"
         },
         "mode": "markers",
         "name": "FRANCE",
         "orientation": "v",
         "showlegend": true,
         "type": "scatter",
         "x": [
          11.525916666666667
         ],
         "xaxis": "x",
         "y": [
          11682198672
         ],
         "yaxis": "y"
        },
        {
         "alignmentgroup": "True",
         "hovertemplate": "Country=FRANCE<br>AverageTemperature=%{x}<extra></extra>",
         "legendgroup": "FRANCE",
         "marker": {
          "color": "#FF7F0E",
          "symbol": "circle"
         },
         "name": "FRANCE",
         "notched": true,
         "offsetgroup": "FRANCE",
         "showlegend": false,
         "type": "box",
         "x": [
          11.525916666666667
         ],
         "xaxis": "x3",
         "yaxis": "y3"
        },
        {
         "alignmentgroup": "True",
         "hovertemplate": "Country=FRANCE<br>GHG=%{y}<extra></extra>",
         "legendgroup": "FRANCE",
         "marker": {
          "color": "#FF7F0E",
          "symbol": "circle"
         },
         "name": "FRANCE",
         "offsetgroup": "FRANCE",
         "scalegroup": "y",
         "showlegend": false,
         "type": "violin",
         "xaxis": "x2",
         "y": [
          11682198672
         ],
         "yaxis": "y2"
        },
        {
         "hovertemplate": "Country=FRANCE<extra></extra>",
         "legendgroup": "FRANCE",
         "marker": {
          "color": "#FF7F0E",
          "symbol": "circle"
         },
         "mode": "lines",
         "name": "FRANCE",
         "showlegend": false,
         "type": "scatter",
         "xaxis": "x",
         "yaxis": "y"
        },
        {
         "hovertemplate": "Country=GERMANY<br>AverageTemperature=%{x}<br>GHG=%{y}<extra></extra>",
         "legendgroup": "GERMANY",
         "marker": {
          "color": "#2CA02C",
          "symbol": "circle"
         },
         "mode": "markers",
         "name": "GERMANY",
         "orientation": "v",
         "showlegend": true,
         "type": "scatter",
         "x": [
          9.176499999999999
         ],
         "xaxis": "x",
         "y": [
          28678989040
         ],
         "yaxis": "y"
        },
        {
         "alignmentgroup": "True",
         "hovertemplate": "Country=GERMANY<br>AverageTemperature=%{x}<extra></extra>",
         "legendgroup": "GERMANY",
         "marker": {
          "color": "#2CA02C",
          "symbol": "circle"
         },
         "name": "GERMANY",
         "notched": true,
         "offsetgroup": "GERMANY",
         "showlegend": false,
         "type": "box",
         "x": [
          9.176499999999999
         ],
         "xaxis": "x3",
         "yaxis": "y3"
        },
        {
         "alignmentgroup": "True",
         "hovertemplate": "Country=GERMANY<br>GHG=%{y}<extra></extra>",
         "legendgroup": "GERMANY",
         "marker": {
          "color": "#2CA02C",
          "symbol": "circle"
         },
         "name": "GERMANY",
         "offsetgroup": "GERMANY",
         "scalegroup": "y",
         "showlegend": false,
         "type": "violin",
         "xaxis": "x2",
         "y": [
          28678989040
         ],
         "yaxis": "y2"
        },
        {
         "hovertemplate": "Country=GERMANY<extra></extra>",
         "legendgroup": "GERMANY",
         "marker": {
          "color": "#2CA02C",
          "symbol": "circle"
         },
         "mode": "lines",
         "name": "GERMANY",
         "showlegend": false,
         "type": "scatter",
         "xaxis": "x",
         "yaxis": "y"
        },
        {
         "hovertemplate": "Country=GREECE<br>AverageTemperature=%{x}<br>GHG=%{y}<extra></extra>",
         "legendgroup": "GREECE",
         "marker": {
          "color": "#D62728",
          "symbol": "circle"
         },
         "mode": "markers",
         "name": "GREECE",
         "orientation": "v",
         "showlegend": true,
         "type": "scatter",
         "x": [
          14.381749999999998
         ],
         "xaxis": "x",
         "y": [
          58133024
         ],
         "yaxis": "y"
        },
        {
         "alignmentgroup": "True",
         "hovertemplate": "Country=GREECE<br>AverageTemperature=%{x}<extra></extra>",
         "legendgroup": "GREECE",
         "marker": {
          "color": "#D62728",
          "symbol": "circle"
         },
         "name": "GREECE",
         "notched": true,
         "offsetgroup": "GREECE",
         "showlegend": false,
         "type": "box",
         "x": [
          14.381749999999998
         ],
         "xaxis": "x3",
         "yaxis": "y3"
        },
        {
         "alignmentgroup": "True",
         "hovertemplate": "Country=GREECE<br>GHG=%{y}<extra></extra>",
         "legendgroup": "GREECE",
         "marker": {
          "color": "#D62728",
          "symbol": "circle"
         },
         "name": "GREECE",
         "offsetgroup": "GREECE",
         "scalegroup": "y",
         "showlegend": false,
         "type": "violin",
         "xaxis": "x2",
         "y": [
          58133024
         ],
         "yaxis": "y2"
        },
        {
         "hovertemplate": "Country=GREECE<extra></extra>",
         "legendgroup": "GREECE",
         "marker": {
          "color": "#D62728",
          "symbol": "circle"
         },
         "mode": "lines",
         "name": "GREECE",
         "showlegend": false,
         "type": "scatter",
         "xaxis": "x",
         "yaxis": "y"
        },
        {
         "hovertemplate": "Country=HONG KONG<br>AverageTemperature=%{x}<br>GHG=%{y}<extra></extra>",
         "legendgroup": "HONG KONG",
         "marker": {
          "color": "#9467BD",
          "symbol": "circle"
         },
         "mode": "markers",
         "name": "HONG KONG",
         "orientation": "v",
         "showlegend": true,
         "type": "scatter",
         "x": [
          23.273083333333332
         ],
         "xaxis": "x",
         "y": [
          238160
         ],
         "yaxis": "y"
        },
        {
         "alignmentgroup": "True",
         "hovertemplate": "Country=HONG KONG<br>AverageTemperature=%{x}<extra></extra>",
         "legendgroup": "HONG KONG",
         "marker": {
          "color": "#9467BD",
          "symbol": "circle"
         },
         "name": "HONG KONG",
         "notched": true,
         "offsetgroup": "HONG KONG",
         "showlegend": false,
         "type": "box",
         "x": [
          23.273083333333332
         ],
         "xaxis": "x3",
         "yaxis": "y3"
        },
        {
         "alignmentgroup": "True",
         "hovertemplate": "Country=HONG KONG<br>GHG=%{y}<extra></extra>",
         "legendgroup": "HONG KONG",
         "marker": {
          "color": "#9467BD",
          "symbol": "circle"
         },
         "name": "HONG KONG",
         "offsetgroup": "HONG KONG",
         "scalegroup": "y",
         "showlegend": false,
         "type": "violin",
         "xaxis": "x2",
         "y": [
          238160
         ],
         "yaxis": "y2"
        },
        {
         "hovertemplate": "Country=HONG KONG<extra></extra>",
         "legendgroup": "HONG KONG",
         "marker": {
          "color": "#9467BD",
          "symbol": "circle"
         },
         "mode": "lines",
         "name": "HONG KONG",
         "showlegend": false,
         "type": "scatter",
         "xaxis": "x",
         "yaxis": "y"
        },
        {
         "hovertemplate": "Country=HUNGARY<br>AverageTemperature=%{x}<br>GHG=%{y}<extra></extra>",
         "legendgroup": "HUNGARY",
         "marker": {
          "color": "#8C564B",
          "symbol": "circle"
         },
         "mode": "markers",
         "name": "HUNGARY",
         "orientation": "v",
         "showlegend": true,
         "type": "scatter",
         "x": [
          10.288833333333335
         ],
         "xaxis": "x",
         "y": [
          755091776
         ],
         "yaxis": "y"
        },
        {
         "alignmentgroup": "True",
         "hovertemplate": "Country=HUNGARY<br>AverageTemperature=%{x}<extra></extra>",
         "legendgroup": "HUNGARY",
         "marker": {
          "color": "#8C564B",
          "symbol": "circle"
         },
         "name": "HUNGARY",
         "notched": true,
         "offsetgroup": "HUNGARY",
         "showlegend": false,
         "type": "box",
         "x": [
          10.288833333333335
         ],
         "xaxis": "x3",
         "yaxis": "y3"
        },
        {
         "alignmentgroup": "True",
         "hovertemplate": "Country=HUNGARY<br>GHG=%{y}<extra></extra>",
         "legendgroup": "HUNGARY",
         "marker": {
          "color": "#8C564B",
          "symbol": "circle"
         },
         "name": "HUNGARY",
         "offsetgroup": "HUNGARY",
         "scalegroup": "y",
         "showlegend": false,
         "type": "violin",
         "xaxis": "x2",
         "y": [
          755091776
         ],
         "yaxis": "y2"
        },
        {
         "hovertemplate": "Country=HUNGARY<extra></extra>",
         "legendgroup": "HUNGARY",
         "marker": {
          "color": "#8C564B",
          "symbol": "circle"
         },
         "mode": "lines",
         "name": "HUNGARY",
         "showlegend": false,
         "type": "scatter",
         "xaxis": "x",
         "yaxis": "y"
        },
        {
         "hovertemplate": "Country=ICELAND<br>AverageTemperature=%{x}<br>GHG=%{y}<extra></extra>",
         "legendgroup": "ICELAND",
         "marker": {
          "color": "#E377C2",
          "symbol": "circle"
         },
         "mode": "markers",
         "name": "ICELAND",
         "orientation": "v",
         "showlegend": true,
         "type": "scatter",
         "x": [
          1.248333333333333
         ],
         "xaxis": "x",
         "y": [
          172208
         ],
         "yaxis": "y"
        },
        {
         "alignmentgroup": "True",
         "hovertemplate": "Country=ICELAND<br>AverageTemperature=%{x}<extra></extra>",
         "legendgroup": "ICELAND",
         "marker": {
          "color": "#E377C2",
          "symbol": "circle"
         },
         "name": "ICELAND",
         "notched": true,
         "offsetgroup": "ICELAND",
         "showlegend": false,
         "type": "box",
         "x": [
          1.248333333333333
         ],
         "xaxis": "x3",
         "yaxis": "y3"
        },
        {
         "alignmentgroup": "True",
         "hovertemplate": "Country=ICELAND<br>GHG=%{y}<extra></extra>",
         "legendgroup": "ICELAND",
         "marker": {
          "color": "#E377C2",
          "symbol": "circle"
         },
         "name": "ICELAND",
         "offsetgroup": "ICELAND",
         "scalegroup": "y",
         "showlegend": false,
         "type": "violin",
         "xaxis": "x2",
         "y": [
          172208
         ],
         "yaxis": "y2"
        },
        {
         "hovertemplate": "Country=ICELAND<extra></extra>",
         "legendgroup": "ICELAND",
         "marker": {
          "color": "#E377C2",
          "symbol": "circle"
         },
         "mode": "lines",
         "name": "ICELAND",
         "showlegend": false,
         "type": "scatter",
         "xaxis": "x",
         "yaxis": "y"
        },
        {
         "hovertemplate": "Country=INDIA<br>AverageTemperature=%{x}<br>GHG=%{y}<extra></extra>",
         "legendgroup": "INDIA",
         "marker": {
          "color": "#7F7F7F",
          "symbol": "circle"
         },
         "mode": "markers",
         "name": "INDIA",
         "orientation": "v",
         "showlegend": true,
         "type": "scatter",
         "x": [
          24.047250000000002
         ],
         "xaxis": "x",
         "y": [
          2127974256
         ],
         "yaxis": "y"
        },
        {
         "alignmentgroup": "True",
         "hovertemplate": "Country=INDIA<br>AverageTemperature=%{x}<extra></extra>",
         "legendgroup": "INDIA",
         "marker": {
          "color": "#7F7F7F",
          "symbol": "circle"
         },
         "name": "INDIA",
         "notched": true,
         "offsetgroup": "INDIA",
         "showlegend": false,
         "type": "box",
         "x": [
          24.047250000000002
         ],
         "xaxis": "x3",
         "yaxis": "y3"
        },
        {
         "alignmentgroup": "True",
         "hovertemplate": "Country=INDIA<br>GHG=%{y}<extra></extra>",
         "legendgroup": "INDIA",
         "marker": {
          "color": "#7F7F7F",
          "symbol": "circle"
         },
         "name": "INDIA",
         "offsetgroup": "INDIA",
         "scalegroup": "y",
         "showlegend": false,
         "type": "violin",
         "xaxis": "x2",
         "y": [
          2127974256
         ],
         "yaxis": "y2"
        },
        {
         "hovertemplate": "Country=INDIA<extra></extra>",
         "legendgroup": "INDIA",
         "marker": {
          "color": "#7F7F7F",
          "symbol": "circle"
         },
         "mode": "lines",
         "name": "INDIA",
         "showlegend": false,
         "type": "scatter",
         "xaxis": "x",
         "yaxis": "y"
        },
        {
         "hovertemplate": "Country=INDONESIA<br>AverageTemperature=%{x}<br>GHG=%{y}<extra></extra>",
         "legendgroup": "INDONESIA",
         "marker": {
          "color": "#BCBD22",
          "symbol": "circle"
         },
         "mode": "markers",
         "name": "INDONESIA",
         "orientation": "v",
         "showlegend": true,
         "type": "scatter",
         "x": [
          25.757583333333333
         ],
         "xaxis": "x",
         "y": [
          572987312
         ],
         "yaxis": "y"
        },
        {
         "alignmentgroup": "True",
         "hovertemplate": "Country=INDONESIA<br>AverageTemperature=%{x}<extra></extra>",
         "legendgroup": "INDONESIA",
         "marker": {
          "color": "#BCBD22",
          "symbol": "circle"
         },
         "name": "INDONESIA",
         "notched": true,
         "offsetgroup": "INDONESIA",
         "showlegend": false,
         "type": "box",
         "x": [
          25.757583333333333
         ],
         "xaxis": "x3",
         "yaxis": "y3"
        },
        {
         "alignmentgroup": "True",
         "hovertemplate": "Country=INDONESIA<br>GHG=%{y}<extra></extra>",
         "legendgroup": "INDONESIA",
         "marker": {
          "color": "#BCBD22",
          "symbol": "circle"
         },
         "name": "INDONESIA",
         "offsetgroup": "INDONESIA",
         "scalegroup": "y",
         "showlegend": false,
         "type": "violin",
         "xaxis": "x2",
         "y": [
          572987312
         ],
         "yaxis": "y2"
        },
        {
         "hovertemplate": "Country=INDONESIA<extra></extra>",
         "legendgroup": "INDONESIA",
         "marker": {
          "color": "#BCBD22",
          "symbol": "circle"
         },
         "mode": "lines",
         "name": "INDONESIA",
         "showlegend": false,
         "type": "scatter",
         "xaxis": "x",
         "yaxis": "y"
        },
        {
         "hovertemplate": "Country=IRAN<br>AverageTemperature=%{x}<br>GHG=%{y}<extra></extra>",
         "legendgroup": "IRAN",
         "marker": {
          "color": "#17BECF",
          "symbol": "circle"
         },
         "mode": "markers",
         "name": "IRAN",
         "orientation": "v",
         "showlegend": true,
         "type": "scatter",
         "x": [
          16.7755
         ],
         "xaxis": "x",
         "y": [
          876762224
         ],
         "yaxis": "y"
        },
        {
         "alignmentgroup": "True",
         "hovertemplate": "Country=IRAN<br>AverageTemperature=%{x}<extra></extra>",
         "legendgroup": "IRAN",
         "marker": {
          "color": "#17BECF",
          "symbol": "circle"
         },
         "name": "IRAN",
         "notched": true,
         "offsetgroup": "IRAN",
         "showlegend": false,
         "type": "box",
         "x": [
          16.7755
         ],
         "xaxis": "x3",
         "yaxis": "y3"
        },
        {
         "alignmentgroup": "True",
         "hovertemplate": "Country=IRAN<br>GHG=%{y}<extra></extra>",
         "legendgroup": "IRAN",
         "marker": {
          "color": "#17BECF",
          "symbol": "circle"
         },
         "name": "IRAN",
         "offsetgroup": "IRAN",
         "scalegroup": "y",
         "showlegend": false,
         "type": "violin",
         "xaxis": "x2",
         "y": [
          876762224
         ],
         "yaxis": "y2"
        },
        {
         "hovertemplate": "Country=IRAN<extra></extra>",
         "legendgroup": "IRAN",
         "marker": {
          "color": "#17BECF",
          "symbol": "circle"
         },
         "mode": "lines",
         "name": "IRAN",
         "showlegend": false,
         "type": "scatter",
         "xaxis": "x",
         "yaxis": "y"
        },
        {
         "hovertemplate": "Country=IRAQ<br>AverageTemperature=%{x}<br>GHG=%{y}<extra></extra>",
         "legendgroup": "IRAQ",
         "marker": {
          "color": "#1F77B4",
          "symbol": "circle"
         },
         "mode": "markers",
         "name": "IRAQ",
         "orientation": "v",
         "showlegend": true,
         "type": "scatter",
         "x": [
          21.055
         ],
         "xaxis": "x",
         "y": [
          129097376
         ],
         "yaxis": "y"
        },
        {
         "alignmentgroup": "True",
         "hovertemplate": "Country=IRAQ<br>AverageTemperature=%{x}<extra></extra>",
         "legendgroup": "IRAQ",
         "marker": {
          "color": "#1F77B4",
          "symbol": "circle"
         },
         "name": "IRAQ",
         "notched": true,
         "offsetgroup": "IRAQ",
         "showlegend": false,
         "type": "box",
         "x": [
          21.055
         ],
         "xaxis": "x3",
         "yaxis": "y3"
        },
        {
         "alignmentgroup": "True",
         "hovertemplate": "Country=IRAQ<br>GHG=%{y}<extra></extra>",
         "legendgroup": "IRAQ",
         "marker": {
          "color": "#1F77B4",
          "symbol": "circle"
         },
         "name": "IRAQ",
         "offsetgroup": "IRAQ",
         "scalegroup": "y",
         "showlegend": false,
         "type": "violin",
         "xaxis": "x2",
         "y": [
          129097376
         ],
         "yaxis": "y2"
        },
        {
         "hovertemplate": "Country=IRAQ<extra></extra>",
         "legendgroup": "IRAQ",
         "marker": {
          "color": "#1F77B4",
          "symbol": "circle"
         },
         "mode": "lines",
         "name": "IRAQ",
         "showlegend": false,
         "type": "scatter",
         "xaxis": "x",
         "yaxis": "y"
        },
        {
         "hovertemplate": "Country=IRELAND<br>AverageTemperature=%{x}<br>GHG=%{y}<extra></extra>",
         "legendgroup": "IRELAND",
         "marker": {
          "color": "#FF7F0E",
          "symbol": "circle"
         },
         "mode": "markers",
         "name": "IRELAND",
         "orientation": "v",
         "showlegend": true,
         "type": "scatter",
         "x": [
          10.576583333333334
         ],
         "xaxis": "x",
         "y": [
          224764416
         ],
         "yaxis": "y"
        },
        {
         "alignmentgroup": "True",
         "hovertemplate": "Country=IRELAND<br>AverageTemperature=%{x}<extra></extra>",
         "legendgroup": "IRELAND",
         "marker": {
          "color": "#FF7F0E",
          "symbol": "circle"
         },
         "name": "IRELAND",
         "notched": true,
         "offsetgroup": "IRELAND",
         "showlegend": false,
         "type": "box",
         "x": [
          10.576583333333334
         ],
         "xaxis": "x3",
         "yaxis": "y3"
        },
        {
         "alignmentgroup": "True",
         "hovertemplate": "Country=IRELAND<br>GHG=%{y}<extra></extra>",
         "legendgroup": "IRELAND",
         "marker": {
          "color": "#FF7F0E",
          "symbol": "circle"
         },
         "name": "IRELAND",
         "offsetgroup": "IRELAND",
         "scalegroup": "y",
         "showlegend": false,
         "type": "violin",
         "xaxis": "x2",
         "y": [
          224764416
         ],
         "yaxis": "y2"
        },
        {
         "hovertemplate": "Country=IRELAND<extra></extra>",
         "legendgroup": "IRELAND",
         "marker": {
          "color": "#FF7F0E",
          "symbol": "circle"
         },
         "mode": "lines",
         "name": "IRELAND",
         "showlegend": false,
         "type": "scatter",
         "xaxis": "x",
         "yaxis": "y"
        },
        {
         "hovertemplate": "Country=ISRAEL<br>AverageTemperature=%{x}<br>GHG=%{y}<extra></extra>",
         "legendgroup": "ISRAEL",
         "marker": {
          "color": "#2CA02C",
          "symbol": "circle"
         },
         "mode": "markers",
         "name": "ISRAEL",
         "orientation": "v",
         "showlegend": true,
         "type": "scatter",
         "x": [
          18.877083333333335
         ],
         "xaxis": "x",
         "y": [
          1604832
         ],
         "yaxis": "y"
        },
        {
         "alignmentgroup": "True",
         "hovertemplate": "Country=ISRAEL<br>AverageTemperature=%{x}<extra></extra>",
         "legendgroup": "ISRAEL",
         "marker": {
          "color": "#2CA02C",
          "symbol": "circle"
         },
         "name": "ISRAEL",
         "notched": true,
         "offsetgroup": "ISRAEL",
         "showlegend": false,
         "type": "box",
         "x": [
          18.877083333333335
         ],
         "xaxis": "x3",
         "yaxis": "y3"
        },
        {
         "alignmentgroup": "True",
         "hovertemplate": "Country=ISRAEL<br>GHG=%{y}<extra></extra>",
         "legendgroup": "ISRAEL",
         "marker": {
          "color": "#2CA02C",
          "symbol": "circle"
         },
         "name": "ISRAEL",
         "offsetgroup": "ISRAEL",
         "scalegroup": "y",
         "showlegend": false,
         "type": "violin",
         "xaxis": "x2",
         "y": [
          1604832
         ],
         "yaxis": "y2"
        },
        {
         "hovertemplate": "Country=ISRAEL<extra></extra>",
         "legendgroup": "ISRAEL",
         "marker": {
          "color": "#2CA02C",
          "symbol": "circle"
         },
         "mode": "lines",
         "name": "ISRAEL",
         "showlegend": false,
         "type": "scatter",
         "xaxis": "x",
         "yaxis": "y"
        },
        {
         "hovertemplate": "Country=ITALY<br>AverageTemperature=%{x}<br>GHG=%{y}<extra></extra>",
         "legendgroup": "ITALY",
         "marker": {
          "color": "#D62728",
          "symbol": "circle"
         },
         "mode": "markers",
         "name": "ITALY",
         "orientation": "v",
         "showlegend": true,
         "type": "scatter",
         "x": [
          13.354666666666667
         ],
         "xaxis": "x",
         "y": [
          1650353536
         ],
         "yaxis": "y"
        },
        {
         "alignmentgroup": "True",
         "hovertemplate": "Country=ITALY<br>AverageTemperature=%{x}<extra></extra>",
         "legendgroup": "ITALY",
         "marker": {
          "color": "#D62728",
          "symbol": "circle"
         },
         "name": "ITALY",
         "notched": true,
         "offsetgroup": "ITALY",
         "showlegend": false,
         "type": "box",
         "x": [
          13.354666666666667
         ],
         "xaxis": "x3",
         "yaxis": "y3"
        },
        {
         "alignmentgroup": "True",
         "hovertemplate": "Country=ITALY<br>GHG=%{y}<extra></extra>",
         "legendgroup": "ITALY",
         "marker": {
          "color": "#D62728",
          "symbol": "circle"
         },
         "name": "ITALY",
         "offsetgroup": "ITALY",
         "scalegroup": "y",
         "showlegend": false,
         "type": "violin",
         "xaxis": "x2",
         "y": [
          1650353536
         ],
         "yaxis": "y2"
        },
        {
         "hovertemplate": "Country=ITALY<extra></extra>",
         "legendgroup": "ITALY",
         "marker": {
          "color": "#D62728",
          "symbol": "circle"
         },
         "mode": "lines",
         "name": "ITALY",
         "showlegend": false,
         "type": "scatter",
         "xaxis": "x",
         "yaxis": "y"
        },
        {
         "hovertemplate": "Country=JAPAN<br>AverageTemperature=%{x}<br>GHG=%{y}<extra></extra>",
         "legendgroup": "JAPAN",
         "marker": {
          "color": "#9467BD",
          "symbol": "circle"
         },
         "mode": "markers",
         "name": "JAPAN",
         "orientation": "v",
         "showlegend": true,
         "type": "scatter",
         "x": [
          12.102583333333333
         ],
         "xaxis": "x",
         "y": [
          4014798688
         ],
         "yaxis": "y"
        },
        {
         "alignmentgroup": "True",
         "hovertemplate": "Country=JAPAN<br>AverageTemperature=%{x}<extra></extra>",
         "legendgroup": "JAPAN",
         "marker": {
          "color": "#9467BD",
          "symbol": "circle"
         },
         "name": "JAPAN",
         "notched": true,
         "offsetgroup": "JAPAN",
         "showlegend": false,
         "type": "box",
         "x": [
          12.102583333333333
         ],
         "xaxis": "x3",
         "yaxis": "y3"
        },
        {
         "alignmentgroup": "True",
         "hovertemplate": "Country=JAPAN<br>GHG=%{y}<extra></extra>",
         "legendgroup": "JAPAN",
         "marker": {
          "color": "#9467BD",
          "symbol": "circle"
         },
         "name": "JAPAN",
         "offsetgroup": "JAPAN",
         "scalegroup": "y",
         "showlegend": false,
         "type": "violin",
         "xaxis": "x2",
         "y": [
          4014798688
         ],
         "yaxis": "y2"
        },
        {
         "hovertemplate": "Country=JAPAN<extra></extra>",
         "legendgroup": "JAPAN",
         "marker": {
          "color": "#9467BD",
          "symbol": "circle"
         },
         "mode": "lines",
         "name": "JAPAN",
         "showlegend": false,
         "type": "scatter",
         "xaxis": "x",
         "yaxis": "y"
        },
        {
         "hovertemplate": "Country=KUWAIT<br>AverageTemperature=%{x}<br>GHG=%{y}<extra></extra>",
         "legendgroup": "KUWAIT",
         "marker": {
          "color": "#8C564B",
          "symbol": "circle"
         },
         "mode": "markers",
         "name": "KUWAIT",
         "orientation": "v",
         "showlegend": true,
         "type": "scatter",
         "x": [
          24.63525
         ],
         "xaxis": "x",
         "y": [
          10603616
         ],
         "yaxis": "y"
        },
        {
         "alignmentgroup": "True",
         "hovertemplate": "Country=KUWAIT<br>AverageTemperature=%{x}<extra></extra>",
         "legendgroup": "KUWAIT",
         "marker": {
          "color": "#8C564B",
          "symbol": "circle"
         },
         "name": "KUWAIT",
         "notched": true,
         "offsetgroup": "KUWAIT",
         "showlegend": false,
         "type": "box",
         "x": [
          24.63525
         ],
         "xaxis": "x3",
         "yaxis": "y3"
        },
        {
         "alignmentgroup": "True",
         "hovertemplate": "Country=KUWAIT<br>GHG=%{y}<extra></extra>",
         "legendgroup": "KUWAIT",
         "marker": {
          "color": "#8C564B",
          "symbol": "circle"
         },
         "name": "KUWAIT",
         "offsetgroup": "KUWAIT",
         "scalegroup": "y",
         "showlegend": false,
         "type": "violin",
         "xaxis": "x2",
         "y": [
          10603616
         ],
         "yaxis": "y2"
        },
        {
         "hovertemplate": "Country=KUWAIT<extra></extra>",
         "legendgroup": "KUWAIT",
         "marker": {
          "color": "#8C564B",
          "symbol": "circle"
         },
         "mode": "lines",
         "name": "KUWAIT",
         "showlegend": false,
         "type": "scatter",
         "xaxis": "x",
         "yaxis": "y"
        },
        {
         "hovertemplate": "Country=LATVIA<br>AverageTemperature=%{x}<br>GHG=%{y}<extra></extra>",
         "legendgroup": "LATVIA",
         "marker": {
          "color": "#E377C2",
          "symbol": "circle"
         },
         "mode": "markers",
         "name": "LATVIA",
         "orientation": "v",
         "showlegend": true,
         "type": "scatter",
         "x": [
          7.181750000000001
         ],
         "xaxis": "x",
         "y": [
          494640
         ],
         "yaxis": "y"
        },
        {
         "alignmentgroup": "True",
         "hovertemplate": "Country=LATVIA<br>AverageTemperature=%{x}<extra></extra>",
         "legendgroup": "LATVIA",
         "marker": {
          "color": "#E377C2",
          "symbol": "circle"
         },
         "name": "LATVIA",
         "notched": true,
         "offsetgroup": "LATVIA",
         "showlegend": false,
         "type": "box",
         "x": [
          7.181750000000001
         ],
         "xaxis": "x3",
         "yaxis": "y3"
        },
        {
         "alignmentgroup": "True",
         "hovertemplate": "Country=LATVIA<br>GHG=%{y}<extra></extra>",
         "legendgroup": "LATVIA",
         "marker": {
          "color": "#E377C2",
          "symbol": "circle"
         },
         "name": "LATVIA",
         "offsetgroup": "LATVIA",
         "scalegroup": "y",
         "showlegend": false,
         "type": "violin",
         "xaxis": "x2",
         "y": [
          494640
         ],
         "yaxis": "y2"
        },
        {
         "hovertemplate": "Country=LATVIA<extra></extra>",
         "legendgroup": "LATVIA",
         "marker": {
          "color": "#E377C2",
          "symbol": "circle"
         },
         "mode": "lines",
         "name": "LATVIA",
         "showlegend": false,
         "type": "scatter",
         "xaxis": "x",
         "yaxis": "y"
        },
        {
         "hovertemplate": "Country=LEBANON<br>AverageTemperature=%{x}<br>GHG=%{y}<extra></extra>",
         "legendgroup": "LEBANON",
         "marker": {
          "color": "#7F7F7F",
          "symbol": "circle"
         },
         "mode": "markers",
         "name": "LEBANON",
         "orientation": "v",
         "showlegend": true,
         "type": "scatter",
         "x": [
          17.01975
         ],
         "xaxis": "x",
         "y": [
          1271408
         ],
         "yaxis": "y"
        },
        {
         "alignmentgroup": "True",
         "hovertemplate": "Country=LEBANON<br>AverageTemperature=%{x}<extra></extra>",
         "legendgroup": "LEBANON",
         "marker": {
          "color": "#7F7F7F",
          "symbol": "circle"
         },
         "name": "LEBANON",
         "notched": true,
         "offsetgroup": "LEBANON",
         "showlegend": false,
         "type": "box",
         "x": [
          17.01975
         ],
         "xaxis": "x3",
         "yaxis": "y3"
        },
        {
         "alignmentgroup": "True",
         "hovertemplate": "Country=LEBANON<br>GHG=%{y}<extra></extra>",
         "legendgroup": "LEBANON",
         "marker": {
          "color": "#7F7F7F",
          "symbol": "circle"
         },
         "name": "LEBANON",
         "offsetgroup": "LEBANON",
         "scalegroup": "y",
         "showlegend": false,
         "type": "violin",
         "xaxis": "x2",
         "y": [
          1271408
         ],
         "yaxis": "y2"
        },
        {
         "hovertemplate": "Country=LEBANON<extra></extra>",
         "legendgroup": "LEBANON",
         "marker": {
          "color": "#7F7F7F",
          "symbol": "circle"
         },
         "mode": "lines",
         "name": "LEBANON",
         "showlegend": false,
         "type": "scatter",
         "xaxis": "x",
         "yaxis": "y"
        },
        {
         "hovertemplate": "Country=LUXEMBOURG<br>AverageTemperature=%{x}<br>GHG=%{y}<extra></extra>",
         "legendgroup": "LUXEMBOURG",
         "marker": {
          "color": "#BCBD22",
          "symbol": "circle"
         },
         "mode": "markers",
         "name": "LUXEMBOURG",
         "orientation": "v",
         "showlegend": true,
         "type": "scatter",
         "x": [
          10.12075
         ],
         "xaxis": "x",
         "y": [
          216176
         ],
         "yaxis": "y"
        },
        {
         "alignmentgroup": "True",
         "hovertemplate": "Country=LUXEMBOURG<br>AverageTemperature=%{x}<extra></extra>",
         "legendgroup": "LUXEMBOURG",
         "marker": {
          "color": "#BCBD22",
          "symbol": "circle"
         },
         "name": "LUXEMBOURG",
         "notched": true,
         "offsetgroup": "LUXEMBOURG",
         "showlegend": false,
         "type": "box",
         "x": [
          10.12075
         ],
         "xaxis": "x3",
         "yaxis": "y3"
        },
        {
         "alignmentgroup": "True",
         "hovertemplate": "Country=LUXEMBOURG<br>GHG=%{y}<extra></extra>",
         "legendgroup": "LUXEMBOURG",
         "marker": {
          "color": "#BCBD22",
          "symbol": "circle"
         },
         "name": "LUXEMBOURG",
         "offsetgroup": "LUXEMBOURG",
         "scalegroup": "y",
         "showlegend": false,
         "type": "violin",
         "xaxis": "x2",
         "y": [
          216176
         ],
         "yaxis": "y2"
        },
        {
         "hovertemplate": "Country=LUXEMBOURG<extra></extra>",
         "legendgroup": "LUXEMBOURG",
         "marker": {
          "color": "#BCBD22",
          "symbol": "circle"
         },
         "mode": "lines",
         "name": "LUXEMBOURG",
         "showlegend": false,
         "type": "scatter",
         "xaxis": "x",
         "yaxis": "y"
        },
        {
         "hovertemplate": "Country=MADAGASCAR<br>AverageTemperature=%{x}<br>GHG=%{y}<extra></extra>",
         "legendgroup": "MADAGASCAR",
         "marker": {
          "color": "#17BECF",
          "symbol": "circle"
         },
         "mode": "markers",
         "name": "MADAGASCAR",
         "orientation": "v",
         "showlegend": true,
         "type": "scatter",
         "x": [
          22.988583333333334
         ],
         "xaxis": "x",
         "y": [
          32976
         ],
         "yaxis": "y"
        },
        {
         "alignmentgroup": "True",
         "hovertemplate": "Country=MADAGASCAR<br>AverageTemperature=%{x}<extra></extra>",
         "legendgroup": "MADAGASCAR",
         "marker": {
          "color": "#17BECF",
          "symbol": "circle"
         },
         "name": "MADAGASCAR",
         "notched": true,
         "offsetgroup": "MADAGASCAR",
         "showlegend": false,
         "type": "box",
         "x": [
          22.988583333333334
         ],
         "xaxis": "x3",
         "yaxis": "y3"
        },
        {
         "alignmentgroup": "True",
         "hovertemplate": "Country=MADAGASCAR<br>GHG=%{y}<extra></extra>",
         "legendgroup": "MADAGASCAR",
         "marker": {
          "color": "#17BECF",
          "symbol": "circle"
         },
         "name": "MADAGASCAR",
         "offsetgroup": "MADAGASCAR",
         "scalegroup": "y",
         "showlegend": false,
         "type": "violin",
         "xaxis": "x2",
         "y": [
          32976
         ],
         "yaxis": "y2"
        },
        {
         "hovertemplate": "Country=MADAGASCAR<extra></extra>",
         "legendgroup": "MADAGASCAR",
         "marker": {
          "color": "#17BECF",
          "symbol": "circle"
         },
         "mode": "lines",
         "name": "MADAGASCAR",
         "showlegend": false,
         "type": "scatter",
         "xaxis": "x",
         "yaxis": "y"
        },
        {
         "hovertemplate": "Country=MALAYSIA<br>AverageTemperature=%{x}<br>GHG=%{y}<extra></extra>",
         "legendgroup": "MALAYSIA",
         "marker": {
          "color": "#1F77B4",
          "symbol": "circle"
         },
         "mode": "markers",
         "name": "MALAYSIA",
         "orientation": "v",
         "showlegend": true,
         "type": "scatter",
         "x": [
          25.980416666666667
         ],
         "xaxis": "x",
         "y": [
          65717504
         ],
         "yaxis": "y"
        },
        {
         "alignmentgroup": "True",
         "hovertemplate": "Country=MALAYSIA<br>AverageTemperature=%{x}<extra></extra>",
         "legendgroup": "MALAYSIA",
         "marker": {
          "color": "#1F77B4",
          "symbol": "circle"
         },
         "name": "MALAYSIA",
         "notched": true,
         "offsetgroup": "MALAYSIA",
         "showlegend": false,
         "type": "box",
         "x": [
          25.980416666666667
         ],
         "xaxis": "x3",
         "yaxis": "y3"
        },
        {
         "alignmentgroup": "True",
         "hovertemplate": "Country=MALAYSIA<br>GHG=%{y}<extra></extra>",
         "legendgroup": "MALAYSIA",
         "marker": {
          "color": "#1F77B4",
          "symbol": "circle"
         },
         "name": "MALAYSIA",
         "offsetgroup": "MALAYSIA",
         "scalegroup": "y",
         "showlegend": false,
         "type": "violin",
         "xaxis": "x2",
         "y": [
          65717504
         ],
         "yaxis": "y2"
        },
        {
         "hovertemplate": "Country=MALAYSIA<extra></extra>",
         "legendgroup": "MALAYSIA",
         "marker": {
          "color": "#1F77B4",
          "symbol": "circle"
         },
         "mode": "lines",
         "name": "MALAYSIA",
         "showlegend": false,
         "type": "scatter",
         "xaxis": "x",
         "yaxis": "y"
        },
        {
         "hovertemplate": "Country=MOROCCO<br>AverageTemperature=%{x}<br>GHG=%{y}<extra></extra>",
         "legendgroup": "MOROCCO",
         "marker": {
          "color": "#FF7F0E",
          "symbol": "circle"
         },
         "mode": "markers",
         "name": "MOROCCO",
         "orientation": "v",
         "showlegend": true,
         "type": "scatter",
         "x": [
          18.150333333333332
         ],
         "xaxis": "x",
         "y": [
          8273312
         ],
         "yaxis": "y"
        },
        {
         "alignmentgroup": "True",
         "hovertemplate": "Country=MOROCCO<br>AverageTemperature=%{x}<extra></extra>",
         "legendgroup": "MOROCCO",
         "marker": {
          "color": "#FF7F0E",
          "symbol": "circle"
         },
         "name": "MOROCCO",
         "notched": true,
         "offsetgroup": "MOROCCO",
         "showlegend": false,
         "type": "box",
         "x": [
          18.150333333333332
         ],
         "xaxis": "x3",
         "yaxis": "y3"
        },
        {
         "alignmentgroup": "True",
         "hovertemplate": "Country=MOROCCO<br>GHG=%{y}<extra></extra>",
         "legendgroup": "MOROCCO",
         "marker": {
          "color": "#FF7F0E",
          "symbol": "circle"
         },
         "name": "MOROCCO",
         "offsetgroup": "MOROCCO",
         "scalegroup": "y",
         "showlegend": false,
         "type": "violin",
         "xaxis": "x2",
         "y": [
          8273312
         ],
         "yaxis": "y2"
        },
        {
         "hovertemplate": "Country=MOROCCO<extra></extra>",
         "legendgroup": "MOROCCO",
         "marker": {
          "color": "#FF7F0E",
          "symbol": "circle"
         },
         "mode": "lines",
         "name": "MOROCCO",
         "showlegend": false,
         "type": "scatter",
         "xaxis": "x",
         "yaxis": "y"
        },
        {
         "hovertemplate": "Country=MOZAMBIQUE<br>AverageTemperature=%{x}<br>GHG=%{y}<extra></extra>",
         "legendgroup": "MOZAMBIQUE",
         "marker": {
          "color": "#2CA02C",
          "symbol": "circle"
         },
         "mode": "markers",
         "name": "MOZAMBIQUE",
         "orientation": "v",
         "showlegend": true,
         "type": "scatter",
         "x": [
          23.798333333333332
         ],
         "xaxis": "x",
         "y": [
          1066224
         ],
         "yaxis": "y"
        },
        {
         "alignmentgroup": "True",
         "hovertemplate": "Country=MOZAMBIQUE<br>AverageTemperature=%{x}<extra></extra>",
         "legendgroup": "MOZAMBIQUE",
         "marker": {
          "color": "#2CA02C",
          "symbol": "circle"
         },
         "name": "MOZAMBIQUE",
         "notched": true,
         "offsetgroup": "MOZAMBIQUE",
         "showlegend": false,
         "type": "box",
         "x": [
          23.798333333333332
         ],
         "xaxis": "x3",
         "yaxis": "y3"
        },
        {
         "alignmentgroup": "True",
         "hovertemplate": "Country=MOZAMBIQUE<br>GHG=%{y}<extra></extra>",
         "legendgroup": "MOZAMBIQUE",
         "marker": {
          "color": "#2CA02C",
          "symbol": "circle"
         },
         "name": "MOZAMBIQUE",
         "offsetgroup": "MOZAMBIQUE",
         "scalegroup": "y",
         "showlegend": false,
         "type": "violin",
         "xaxis": "x2",
         "y": [
          1066224
         ],
         "yaxis": "y2"
        },
        {
         "hovertemplate": "Country=MOZAMBIQUE<extra></extra>",
         "legendgroup": "MOZAMBIQUE",
         "marker": {
          "color": "#2CA02C",
          "symbol": "circle"
         },
         "mode": "lines",
         "name": "MOZAMBIQUE",
         "showlegend": false,
         "type": "scatter",
         "xaxis": "x",
         "yaxis": "y"
        },
        {
         "hovertemplate": "Country=NETHERLANDS<br>AverageTemperature=%{x}<br>GHG=%{y}<extra></extra>",
         "legendgroup": "NETHERLANDS",
         "marker": {
          "color": "#D62728",
          "symbol": "circle"
         },
         "mode": "markers",
         "name": "NETHERLANDS",
         "orientation": "v",
         "showlegend": true,
         "type": "scatter",
         "x": [
          10.1195
         ],
         "xaxis": "x",
         "y": [
          1823994160
         ],
         "yaxis": "y"
        },
        {
         "alignmentgroup": "True",
         "hovertemplate": "Country=NETHERLANDS<br>AverageTemperature=%{x}<extra></extra>",
         "legendgroup": "NETHERLANDS",
         "marker": {
          "color": "#D62728",
          "symbol": "circle"
         },
         "name": "NETHERLANDS",
         "notched": true,
         "offsetgroup": "NETHERLANDS",
         "showlegend": false,
         "type": "box",
         "x": [
          10.1195
         ],
         "xaxis": "x3",
         "yaxis": "y3"
        },
        {
         "alignmentgroup": "True",
         "hovertemplate": "Country=NETHERLANDS<br>GHG=%{y}<extra></extra>",
         "legendgroup": "NETHERLANDS",
         "marker": {
          "color": "#D62728",
          "symbol": "circle"
         },
         "name": "NETHERLANDS",
         "offsetgroup": "NETHERLANDS",
         "scalegroup": "y",
         "showlegend": false,
         "type": "violin",
         "xaxis": "x2",
         "y": [
          1823994160
         ],
         "yaxis": "y2"
        },
        {
         "hovertemplate": "Country=NETHERLANDS<extra></extra>",
         "legendgroup": "NETHERLANDS",
         "marker": {
          "color": "#D62728",
          "symbol": "circle"
         },
         "mode": "lines",
         "name": "NETHERLANDS",
         "showlegend": false,
         "type": "scatter",
         "xaxis": "x",
         "yaxis": "y"
        },
        {
         "hovertemplate": "Country=NEW ZEALAND<br>AverageTemperature=%{x}<br>GHG=%{y}<extra></extra>",
         "legendgroup": "NEW ZEALAND",
         "marker": {
          "color": "#9467BD",
          "symbol": "circle"
         },
         "mode": "markers",
         "name": "NEW ZEALAND",
         "orientation": "v",
         "showlegend": true,
         "type": "scatter",
         "x": [
          10.464666666666666
         ],
         "xaxis": "x",
         "y": [
          245902032
         ],
         "yaxis": "y"
        },
        {
         "alignmentgroup": "True",
         "hovertemplate": "Country=NEW ZEALAND<br>AverageTemperature=%{x}<extra></extra>",
         "legendgroup": "NEW ZEALAND",
         "marker": {
          "color": "#9467BD",
          "symbol": "circle"
         },
         "name": "NEW ZEALAND",
         "notched": true,
         "offsetgroup": "NEW ZEALAND",
         "showlegend": false,
         "type": "box",
         "x": [
          10.464666666666666
         ],
         "xaxis": "x3",
         "yaxis": "y3"
        },
        {
         "alignmentgroup": "True",
         "hovertemplate": "Country=NEW ZEALAND<br>GHG=%{y}<extra></extra>",
         "legendgroup": "NEW ZEALAND",
         "marker": {
          "color": "#9467BD",
          "symbol": "circle"
         },
         "name": "NEW ZEALAND",
         "offsetgroup": "NEW ZEALAND",
         "scalegroup": "y",
         "showlegend": false,
         "type": "violin",
         "xaxis": "x2",
         "y": [
          245902032
         ],
         "yaxis": "y2"
        },
        {
         "hovertemplate": "Country=NEW ZEALAND<extra></extra>",
         "legendgroup": "NEW ZEALAND",
         "marker": {
          "color": "#9467BD",
          "symbol": "circle"
         },
         "mode": "lines",
         "name": "NEW ZEALAND",
         "showlegend": false,
         "type": "scatter",
         "xaxis": "x",
         "yaxis": "y"
        },
        {
         "hovertemplate": "Country=NIGERIA<br>AverageTemperature=%{x}<br>GHG=%{y}<extra></extra>",
         "legendgroup": "NIGERIA",
         "marker": {
          "color": "#8C564B",
          "symbol": "circle"
         },
         "mode": "markers",
         "name": "NIGERIA",
         "orientation": "v",
         "showlegend": true,
         "type": "scatter",
         "x": [
          27.0685
         ],
         "xaxis": "x",
         "y": [
          29718704
         ],
         "yaxis": "y"
        },
        {
         "alignmentgroup": "True",
         "hovertemplate": "Country=NIGERIA<br>AverageTemperature=%{x}<extra></extra>",
         "legendgroup": "NIGERIA",
         "marker": {
          "color": "#8C564B",
          "symbol": "circle"
         },
         "name": "NIGERIA",
         "notched": true,
         "offsetgroup": "NIGERIA",
         "showlegend": false,
         "type": "box",
         "x": [
          27.0685
         ],
         "xaxis": "x3",
         "yaxis": "y3"
        },
        {
         "alignmentgroup": "True",
         "hovertemplate": "Country=NIGERIA<br>GHG=%{y}<extra></extra>",
         "legendgroup": "NIGERIA",
         "marker": {
          "color": "#8C564B",
          "symbol": "circle"
         },
         "name": "NIGERIA",
         "offsetgroup": "NIGERIA",
         "scalegroup": "y",
         "showlegend": false,
         "type": "violin",
         "xaxis": "x2",
         "y": [
          29718704
         ],
         "yaxis": "y2"
        },
        {
         "hovertemplate": "Country=NIGERIA<extra></extra>",
         "legendgroup": "NIGERIA",
         "marker": {
          "color": "#8C564B",
          "symbol": "circle"
         },
         "mode": "lines",
         "name": "NIGERIA",
         "showlegend": false,
         "type": "scatter",
         "xaxis": "x",
         "yaxis": "y"
        },
        {
         "hovertemplate": "Country=NORTH KOREA<br>AverageTemperature=%{x}<br>GHG=%{y}<extra></extra>",
         "legendgroup": "NORTH KOREA",
         "marker": {
          "color": "#E377C2",
          "symbol": "circle"
         },
         "mode": "markers",
         "name": "NORTH KOREA",
         "orientation": "v",
         "showlegend": true,
         "type": "scatter",
         "x": [
          7.137250000000001
         ],
         "xaxis": "x",
         "y": [
          3396528
         ],
         "yaxis": "y"
        },
        {
         "alignmentgroup": "True",
         "hovertemplate": "Country=NORTH KOREA<br>AverageTemperature=%{x}<extra></extra>",
         "legendgroup": "NORTH KOREA",
         "marker": {
          "color": "#E377C2",
          "symbol": "circle"
         },
         "name": "NORTH KOREA",
         "notched": true,
         "offsetgroup": "NORTH KOREA",
         "showlegend": false,
         "type": "box",
         "x": [
          7.137250000000001
         ],
         "xaxis": "x3",
         "yaxis": "y3"
        },
        {
         "alignmentgroup": "True",
         "hovertemplate": "Country=NORTH KOREA<br>GHG=%{y}<extra></extra>",
         "legendgroup": "NORTH KOREA",
         "marker": {
          "color": "#E377C2",
          "symbol": "circle"
         },
         "name": "NORTH KOREA",
         "offsetgroup": "NORTH KOREA",
         "scalegroup": "y",
         "showlegend": false,
         "type": "violin",
         "xaxis": "x2",
         "y": [
          3396528
         ],
         "yaxis": "y2"
        },
        {
         "hovertemplate": "Country=NORTH KOREA<extra></extra>",
         "legendgroup": "NORTH KOREA",
         "marker": {
          "color": "#E377C2",
          "symbol": "circle"
         },
         "mode": "lines",
         "name": "NORTH KOREA",
         "showlegend": false,
         "type": "scatter",
         "xaxis": "x",
         "yaxis": "y"
        },
        {
         "hovertemplate": "Country=NORWAY<br>AverageTemperature=%{x}<br>GHG=%{y}<extra></extra>",
         "legendgroup": "NORWAY",
         "marker": {
          "color": "#7F7F7F",
          "symbol": "circle"
         },
         "mode": "markers",
         "name": "NORWAY",
         "orientation": "v",
         "showlegend": true,
         "type": "scatter",
         "x": [
          1.2173333333333334
         ],
         "xaxis": "x",
         "y": [
          409653520
         ],
         "yaxis": "y"
        },
        {
         "alignmentgroup": "True",
         "hovertemplate": "Country=NORWAY<br>AverageTemperature=%{x}<extra></extra>",
         "legendgroup": "NORWAY",
         "marker": {
          "color": "#7F7F7F",
          "symbol": "circle"
         },
         "name": "NORWAY",
         "notched": true,
         "offsetgroup": "NORWAY",
         "showlegend": false,
         "type": "box",
         "x": [
          1.2173333333333334
         ],
         "xaxis": "x3",
         "yaxis": "y3"
        },
        {
         "alignmentgroup": "True",
         "hovertemplate": "Country=NORWAY<br>GHG=%{y}<extra></extra>",
         "legendgroup": "NORWAY",
         "marker": {
          "color": "#7F7F7F",
          "symbol": "circle"
         },
         "name": "NORWAY",
         "offsetgroup": "NORWAY",
         "scalegroup": "y",
         "showlegend": false,
         "type": "violin",
         "xaxis": "x2",
         "y": [
          409653520
         ],
         "yaxis": "y2"
        },
        {
         "hovertemplate": "Country=NORWAY<extra></extra>",
         "legendgroup": "NORWAY",
         "marker": {
          "color": "#7F7F7F",
          "symbol": "circle"
         },
         "mode": "lines",
         "name": "NORWAY",
         "showlegend": false,
         "type": "scatter",
         "xaxis": "x",
         "yaxis": "y"
        },
        {
         "hovertemplate": "Country=PERU<br>AverageTemperature=%{x}<br>GHG=%{y}<extra></extra>",
         "legendgroup": "PERU",
         "marker": {
          "color": "#BCBD22",
          "symbol": "circle"
         },
         "mode": "markers",
         "name": "PERU",
         "orientation": "v",
         "showlegend": true,
         "type": "scatter",
         "x": [
          19.85141666666667
         ],
         "xaxis": "x",
         "y": [
          189450784
         ],
         "yaxis": "y"
        },
        {
         "alignmentgroup": "True",
         "hovertemplate": "Country=PERU<br>AverageTemperature=%{x}<extra></extra>",
         "legendgroup": "PERU",
         "marker": {
          "color": "#BCBD22",
          "symbol": "circle"
         },
         "name": "PERU",
         "notched": true,
         "offsetgroup": "PERU",
         "showlegend": false,
         "type": "box",
         "x": [
          19.85141666666667
         ],
         "xaxis": "x3",
         "yaxis": "y3"
        },
        {
         "alignmentgroup": "True",
         "hovertemplate": "Country=PERU<br>GHG=%{y}<extra></extra>",
         "legendgroup": "PERU",
         "marker": {
          "color": "#BCBD22",
          "symbol": "circle"
         },
         "name": "PERU",
         "offsetgroup": "PERU",
         "scalegroup": "y",
         "showlegend": false,
         "type": "violin",
         "xaxis": "x2",
         "y": [
          189450784
         ],
         "yaxis": "y2"
        },
        {
         "hovertemplate": "Country=PERU<extra></extra>",
         "legendgroup": "PERU",
         "marker": {
          "color": "#BCBD22",
          "symbol": "circle"
         },
         "mode": "lines",
         "name": "PERU",
         "showlegend": false,
         "type": "scatter",
         "xaxis": "x",
         "yaxis": "y"
        },
        {
         "hovertemplate": "Country=PHILIPPINES<br>AverageTemperature=%{x}<br>GHG=%{y}<extra></extra>",
         "legendgroup": "PHILIPPINES",
         "marker": {
          "color": "#17BECF",
          "symbol": "circle"
         },
         "mode": "markers",
         "name": "PHILIPPINES",
         "orientation": "v",
         "showlegend": true,
         "type": "scatter",
         "x": [
          26.55316666666667
         ],
         "xaxis": "x",
         "y": [
          3209664
         ],
         "yaxis": "y"
        },
        {
         "alignmentgroup": "True",
         "hovertemplate": "Country=PHILIPPINES<br>AverageTemperature=%{x}<extra></extra>",
         "legendgroup": "PHILIPPINES",
         "marker": {
          "color": "#17BECF",
          "symbol": "circle"
         },
         "name": "PHILIPPINES",
         "notched": true,
         "offsetgroup": "PHILIPPINES",
         "showlegend": false,
         "type": "box",
         "x": [
          26.55316666666667
         ],
         "xaxis": "x3",
         "yaxis": "y3"
        },
        {
         "alignmentgroup": "True",
         "hovertemplate": "Country=PHILIPPINES<br>GHG=%{y}<extra></extra>",
         "legendgroup": "PHILIPPINES",
         "marker": {
          "color": "#17BECF",
          "symbol": "circle"
         },
         "name": "PHILIPPINES",
         "offsetgroup": "PHILIPPINES",
         "scalegroup": "y",
         "showlegend": false,
         "type": "violin",
         "xaxis": "x2",
         "y": [
          3209664
         ],
         "yaxis": "y2"
        },
        {
         "hovertemplate": "Country=PHILIPPINES<extra></extra>",
         "legendgroup": "PHILIPPINES",
         "marker": {
          "color": "#17BECF",
          "symbol": "circle"
         },
         "mode": "lines",
         "name": "PHILIPPINES",
         "showlegend": false,
         "type": "scatter",
         "xaxis": "x",
         "yaxis": "y"
        },
        {
         "hovertemplate": "Country=POLAND<br>AverageTemperature=%{x}<br>GHG=%{y}<extra></extra>",
         "legendgroup": "POLAND",
         "marker": {
          "color": "#1F77B4",
          "symbol": "circle"
         },
         "mode": "markers",
         "name": "POLAND",
         "orientation": "v",
         "showlegend": true,
         "type": "scatter",
         "x": [
          8.606333333333334
         ],
         "xaxis": "x",
         "y": [
          5454332992
         ],
         "yaxis": "y"
        },
        {
         "alignmentgroup": "True",
         "hovertemplate": "Country=POLAND<br>AverageTemperature=%{x}<extra></extra>",
         "legendgroup": "POLAND",
         "marker": {
          "color": "#1F77B4",
          "symbol": "circle"
         },
         "name": "POLAND",
         "notched": true,
         "offsetgroup": "POLAND",
         "showlegend": false,
         "type": "box",
         "x": [
          8.606333333333334
         ],
         "xaxis": "x3",
         "yaxis": "y3"
        },
        {
         "alignmentgroup": "True",
         "hovertemplate": "Country=POLAND<br>GHG=%{y}<extra></extra>",
         "legendgroup": "POLAND",
         "marker": {
          "color": "#1F77B4",
          "symbol": "circle"
         },
         "name": "POLAND",
         "offsetgroup": "POLAND",
         "scalegroup": "y",
         "showlegend": false,
         "type": "violin",
         "xaxis": "x2",
         "y": [
          5454332992
         ],
         "yaxis": "y2"
        },
        {
         "hovertemplate": "Country=POLAND<extra></extra>",
         "legendgroup": "POLAND",
         "marker": {
          "color": "#1F77B4",
          "symbol": "circle"
         },
         "mode": "lines",
         "name": "POLAND",
         "showlegend": false,
         "type": "scatter",
         "xaxis": "x",
         "yaxis": "y"
        },
        {
         "hovertemplate": "Country=PORTUGAL<br>AverageTemperature=%{x}<br>GHG=%{y}<extra></extra>",
         "legendgroup": "PORTUGAL",
         "marker": {
          "color": "#FF7F0E",
          "symbol": "circle"
         },
         "mode": "markers",
         "name": "PORTUGAL",
         "orientation": "v",
         "showlegend": true,
         "type": "scatter",
         "x": [
          15.758666666666668
         ],
         "xaxis": "x",
         "y": [
          204795616
         ],
         "yaxis": "y"
        },
        {
         "alignmentgroup": "True",
         "hovertemplate": "Country=PORTUGAL<br>AverageTemperature=%{x}<extra></extra>",
         "legendgroup": "PORTUGAL",
         "marker": {
          "color": "#FF7F0E",
          "symbol": "circle"
         },
         "name": "PORTUGAL",
         "notched": true,
         "offsetgroup": "PORTUGAL",
         "showlegend": false,
         "type": "box",
         "x": [
          15.758666666666668
         ],
         "xaxis": "x3",
         "yaxis": "y3"
        },
        {
         "alignmentgroup": "True",
         "hovertemplate": "Country=PORTUGAL<br>GHG=%{y}<extra></extra>",
         "legendgroup": "PORTUGAL",
         "marker": {
          "color": "#FF7F0E",
          "symbol": "circle"
         },
         "name": "PORTUGAL",
         "offsetgroup": "PORTUGAL",
         "scalegroup": "y",
         "showlegend": false,
         "type": "violin",
         "xaxis": "x2",
         "y": [
          204795616
         ],
         "yaxis": "y2"
        },
        {
         "hovertemplate": "Country=PORTUGAL<extra></extra>",
         "legendgroup": "PORTUGAL",
         "marker": {
          "color": "#FF7F0E",
          "symbol": "circle"
         },
         "mode": "lines",
         "name": "PORTUGAL",
         "showlegend": false,
         "type": "scatter",
         "xaxis": "x",
         "yaxis": "y"
        },
        {
         "hovertemplate": "Country=QATAR<br>AverageTemperature=%{x}<br>GHG=%{y}<extra></extra>",
         "legendgroup": "QATAR",
         "marker": {
          "color": "#2CA02C",
          "symbol": "circle"
         },
         "mode": "markers",
         "name": "QATAR",
         "orientation": "v",
         "showlegend": true,
         "type": "scatter",
         "x": [
          26.396
         ],
         "xaxis": "x",
         "y": [
          260144
         ],
         "yaxis": "y"
        },
        {
         "alignmentgroup": "True",
         "hovertemplate": "Country=QATAR<br>AverageTemperature=%{x}<extra></extra>",
         "legendgroup": "QATAR",
         "marker": {
          "color": "#2CA02C",
          "symbol": "circle"
         },
         "name": "QATAR",
         "notched": true,
         "offsetgroup": "QATAR",
         "showlegend": false,
         "type": "box",
         "x": [
          26.396
         ],
         "xaxis": "x3",
         "yaxis": "y3"
        },
        {
         "alignmentgroup": "True",
         "hovertemplate": "Country=QATAR<br>GHG=%{y}<extra></extra>",
         "legendgroup": "QATAR",
         "marker": {
          "color": "#2CA02C",
          "symbol": "circle"
         },
         "name": "QATAR",
         "offsetgroup": "QATAR",
         "scalegroup": "y",
         "showlegend": false,
         "type": "violin",
         "xaxis": "x2",
         "y": [
          260144
         ],
         "yaxis": "y2"
        },
        {
         "hovertemplate": "Country=QATAR<extra></extra>",
         "legendgroup": "QATAR",
         "marker": {
          "color": "#2CA02C",
          "symbol": "circle"
         },
         "mode": "lines",
         "name": "QATAR",
         "showlegend": false,
         "type": "scatter",
         "xaxis": "x",
         "yaxis": "y"
        },
        {
         "hovertemplate": "Country=ROMANIA<br>AverageTemperature=%{x}<br>GHG=%{y}<extra></extra>",
         "legendgroup": "ROMANIA",
         "marker": {
          "color": "#D62728",
          "symbol": "circle"
         },
         "mode": "markers",
         "name": "ROMANIA",
         "orientation": "v",
         "showlegend": true,
         "type": "scatter",
         "x": [
          8.988166666666666
         ],
         "xaxis": "x",
         "y": [
          698076272
         ],
         "yaxis": "y"
        },
        {
         "alignmentgroup": "True",
         "hovertemplate": "Country=ROMANIA<br>AverageTemperature=%{x}<extra></extra>",
         "legendgroup": "ROMANIA",
         "marker": {
          "color": "#D62728",
          "symbol": "circle"
         },
         "name": "ROMANIA",
         "notched": true,
         "offsetgroup": "ROMANIA",
         "showlegend": false,
         "type": "box",
         "x": [
          8.988166666666666
         ],
         "xaxis": "x3",
         "yaxis": "y3"
        },
        {
         "alignmentgroup": "True",
         "hovertemplate": "Country=ROMANIA<br>GHG=%{y}<extra></extra>",
         "legendgroup": "ROMANIA",
         "marker": {
          "color": "#D62728",
          "symbol": "circle"
         },
         "name": "ROMANIA",
         "offsetgroup": "ROMANIA",
         "scalegroup": "y",
         "showlegend": false,
         "type": "violin",
         "xaxis": "x2",
         "y": [
          698076272
         ],
         "yaxis": "y2"
        },
        {
         "hovertemplate": "Country=ROMANIA<extra></extra>",
         "legendgroup": "ROMANIA",
         "marker": {
          "color": "#D62728",
          "symbol": "circle"
         },
         "mode": "lines",
         "name": "ROMANIA",
         "showlegend": false,
         "type": "scatter",
         "xaxis": "x",
         "yaxis": "y"
        },
        {
         "hovertemplate": "Country=SAUDI ARABIA<br>AverageTemperature=%{x}<br>GHG=%{y}<extra></extra>",
         "legendgroup": "SAUDI ARABIA",
         "marker": {
          "color": "#9467BD",
          "symbol": "circle"
         },
         "mode": "markers",
         "name": "SAUDI ARABIA",
         "orientation": "v",
         "showlegend": true,
         "type": "scatter",
         "x": [
          25.0955
         ],
         "xaxis": "x",
         "y": [
          121029248
         ],
         "yaxis": "y"
        },
        {
         "alignmentgroup": "True",
         "hovertemplate": "Country=SAUDI ARABIA<br>AverageTemperature=%{x}<extra></extra>",
         "legendgroup": "SAUDI ARABIA",
         "marker": {
          "color": "#9467BD",
          "symbol": "circle"
         },
         "name": "SAUDI ARABIA",
         "notched": true,
         "offsetgroup": "SAUDI ARABIA",
         "showlegend": false,
         "type": "box",
         "x": [
          25.0955
         ],
         "xaxis": "x3",
         "yaxis": "y3"
        },
        {
         "alignmentgroup": "True",
         "hovertemplate": "Country=SAUDI ARABIA<br>GHG=%{y}<extra></extra>",
         "legendgroup": "SAUDI ARABIA",
         "marker": {
          "color": "#9467BD",
          "symbol": "circle"
         },
         "name": "SAUDI ARABIA",
         "offsetgroup": "SAUDI ARABIA",
         "scalegroup": "y",
         "showlegend": false,
         "type": "violin",
         "xaxis": "x2",
         "y": [
          121029248
         ],
         "yaxis": "y2"
        },
        {
         "hovertemplate": "Country=SAUDI ARABIA<extra></extra>",
         "legendgroup": "SAUDI ARABIA",
         "marker": {
          "color": "#9467BD",
          "symbol": "circle"
         },
         "mode": "lines",
         "name": "SAUDI ARABIA",
         "showlegend": false,
         "type": "scatter",
         "xaxis": "x",
         "yaxis": "y"
        },
        {
         "hovertemplate": "Country=SOUTH AFRICA<br>AverageTemperature=%{x}<br>GHG=%{y}<extra></extra>",
         "legendgroup": "SOUTH AFRICA",
         "marker": {
          "color": "#8C564B",
          "symbol": "circle"
         },
         "mode": "markers",
         "name": "SOUTH AFRICA",
         "orientation": "v",
         "showlegend": true,
         "type": "scatter",
         "x": [
          17.666999999999998
         ],
         "xaxis": "x",
         "y": [
          1431975472
         ],
         "yaxis": "y"
        },
        {
         "alignmentgroup": "True",
         "hovertemplate": "Country=SOUTH AFRICA<br>AverageTemperature=%{x}<extra></extra>",
         "legendgroup": "SOUTH AFRICA",
         "marker": {
          "color": "#8C564B",
          "symbol": "circle"
         },
         "name": "SOUTH AFRICA",
         "notched": true,
         "offsetgroup": "SOUTH AFRICA",
         "showlegend": false,
         "type": "box",
         "x": [
          17.666999999999998
         ],
         "xaxis": "x3",
         "yaxis": "y3"
        },
        {
         "alignmentgroup": "True",
         "hovertemplate": "Country=SOUTH AFRICA<br>GHG=%{y}<extra></extra>",
         "legendgroup": "SOUTH AFRICA",
         "marker": {
          "color": "#8C564B",
          "symbol": "circle"
         },
         "name": "SOUTH AFRICA",
         "offsetgroup": "SOUTH AFRICA",
         "scalegroup": "y",
         "showlegend": false,
         "type": "violin",
         "xaxis": "x2",
         "y": [
          1431975472
         ],
         "yaxis": "y2"
        },
        {
         "hovertemplate": "Country=SOUTH AFRICA<extra></extra>",
         "legendgroup": "SOUTH AFRICA",
         "marker": {
          "color": "#8C564B",
          "symbol": "circle"
         },
         "mode": "lines",
         "name": "SOUTH AFRICA",
         "showlegend": false,
         "type": "scatter",
         "xaxis": "x",
         "yaxis": "y"
        },
        {
         "hovertemplate": "Country=SOUTH KOREA<br>AverageTemperature=%{x}<br>GHG=%{y}<extra></extra>",
         "legendgroup": "SOUTH KOREA",
         "marker": {
          "color": "#E377C2",
          "symbol": "circle"
         },
         "mode": "markers",
         "name": "SOUTH KOREA",
         "orientation": "v",
         "showlegend": true,
         "type": "scatter",
         "x": [
          12.057833333333333
         ],
         "xaxis": "x",
         "y": [
          5235856
         ],
         "yaxis": "y"
        },
        {
         "alignmentgroup": "True",
         "hovertemplate": "Country=SOUTH KOREA<br>AverageTemperature=%{x}<extra></extra>",
         "legendgroup": "SOUTH KOREA",
         "marker": {
          "color": "#E377C2",
          "symbol": "circle"
         },
         "name": "SOUTH KOREA",
         "notched": true,
         "offsetgroup": "SOUTH KOREA",
         "showlegend": false,
         "type": "box",
         "x": [
          12.057833333333333
         ],
         "xaxis": "x3",
         "yaxis": "y3"
        },
        {
         "alignmentgroup": "True",
         "hovertemplate": "Country=SOUTH KOREA<br>GHG=%{y}<extra></extra>",
         "legendgroup": "SOUTH KOREA",
         "marker": {
          "color": "#E377C2",
          "symbol": "circle"
         },
         "name": "SOUTH KOREA",
         "offsetgroup": "SOUTH KOREA",
         "scalegroup": "y",
         "showlegend": false,
         "type": "violin",
         "xaxis": "x2",
         "y": [
          5235856
         ],
         "yaxis": "y2"
        },
        {
         "hovertemplate": "Country=SOUTH KOREA<extra></extra>",
         "legendgroup": "SOUTH KOREA",
         "marker": {
          "color": "#E377C2",
          "symbol": "circle"
         },
         "mode": "lines",
         "name": "SOUTH KOREA",
         "showlegend": false,
         "type": "scatter",
         "xaxis": "x",
         "yaxis": "y"
        },
        {
         "hovertemplate": "Country=SPAIN<br>AverageTemperature=%{x}<br>GHG=%{y}<extra></extra>",
         "legendgroup": "SPAIN",
         "marker": {
          "color": "#7F7F7F",
          "symbol": "circle"
         },
         "mode": "markers",
         "name": "SPAIN",
         "orientation": "v",
         "showlegend": true,
         "type": "scatter",
         "x": [
          14.510083333333334
         ],
         "xaxis": "x",
         "y": [
          1133560992
         ],
         "yaxis": "y"
        },
        {
         "alignmentgroup": "True",
         "hovertemplate": "Country=SPAIN<br>AverageTemperature=%{x}<extra></extra>",
         "legendgroup": "SPAIN",
         "marker": {
          "color": "#7F7F7F",
          "symbol": "circle"
         },
         "name": "SPAIN",
         "notched": true,
         "offsetgroup": "SPAIN",
         "showlegend": false,
         "type": "box",
         "x": [
          14.510083333333334
         ],
         "xaxis": "x3",
         "yaxis": "y3"
        },
        {
         "alignmentgroup": "True",
         "hovertemplate": "Country=SPAIN<br>GHG=%{y}<extra></extra>",
         "legendgroup": "SPAIN",
         "marker": {
          "color": "#7F7F7F",
          "symbol": "circle"
         },
         "name": "SPAIN",
         "offsetgroup": "SPAIN",
         "scalegroup": "y",
         "showlegend": false,
         "type": "violin",
         "xaxis": "x2",
         "y": [
          1133560992
         ],
         "yaxis": "y2"
        },
        {
         "hovertemplate": "Country=SPAIN<extra></extra>",
         "legendgroup": "SPAIN",
         "marker": {
          "color": "#7F7F7F",
          "symbol": "circle"
         },
         "mode": "lines",
         "name": "SPAIN",
         "showlegend": false,
         "type": "scatter",
         "xaxis": "x",
         "yaxis": "y"
        },
        {
         "hovertemplate": "Country=SWEDEN<br>AverageTemperature=%{x}<br>GHG=%{y}<extra></extra>",
         "legendgroup": "SWEDEN",
         "marker": {
          "color": "#BCBD22",
          "symbol": "circle"
         },
         "mode": "markers",
         "name": "SWEDEN",
         "orientation": "v",
         "showlegend": true,
         "type": "scatter",
         "x": [
          4.023333333333333
         ],
         "xaxis": "x",
         "y": [
          904872432
         ],
         "yaxis": "y"
        },
        {
         "alignmentgroup": "True",
         "hovertemplate": "Country=SWEDEN<br>AverageTemperature=%{x}<extra></extra>",
         "legendgroup": "SWEDEN",
         "marker": {
          "color": "#BCBD22",
          "symbol": "circle"
         },
         "name": "SWEDEN",
         "notched": true,
         "offsetgroup": "SWEDEN",
         "showlegend": false,
         "type": "box",
         "x": [
          4.023333333333333
         ],
         "xaxis": "x3",
         "yaxis": "y3"
        },
        {
         "alignmentgroup": "True",
         "hovertemplate": "Country=SWEDEN<br>GHG=%{y}<extra></extra>",
         "legendgroup": "SWEDEN",
         "marker": {
          "color": "#BCBD22",
          "symbol": "circle"
         },
         "name": "SWEDEN",
         "offsetgroup": "SWEDEN",
         "scalegroup": "y",
         "showlegend": false,
         "type": "violin",
         "xaxis": "x2",
         "y": [
          904872432
         ],
         "yaxis": "y2"
        },
        {
         "hovertemplate": "Country=SWEDEN<extra></extra>",
         "legendgroup": "SWEDEN",
         "marker": {
          "color": "#BCBD22",
          "symbol": "circle"
         },
         "mode": "lines",
         "name": "SWEDEN",
         "showlegend": false,
         "type": "scatter",
         "xaxis": "x",
         "yaxis": "y"
        },
        {
         "hovertemplate": "Country=SWITZERLAND<br>AverageTemperature=%{x}<br>GHG=%{y}<extra></extra>",
         "legendgroup": "SWITZERLAND",
         "marker": {
          "color": "#17BECF",
          "symbol": "circle"
         },
         "mode": "markers",
         "name": "SWITZERLAND",
         "orientation": "v",
         "showlegend": true,
         "type": "scatter",
         "x": [
          7.995833333333334
         ],
         "xaxis": "x",
         "y": [
          463016016
         ],
         "yaxis": "y"
        },
        {
         "alignmentgroup": "True",
         "hovertemplate": "Country=SWITZERLAND<br>AverageTemperature=%{x}<extra></extra>",
         "legendgroup": "SWITZERLAND",
         "marker": {
          "color": "#17BECF",
          "symbol": "circle"
         },
         "name": "SWITZERLAND",
         "notched": true,
         "offsetgroup": "SWITZERLAND",
         "showlegend": false,
         "type": "box",
         "x": [
          7.995833333333334
         ],
         "xaxis": "x3",
         "yaxis": "y3"
        },
        {
         "alignmentgroup": "True",
         "hovertemplate": "Country=SWITZERLAND<br>GHG=%{y}<extra></extra>",
         "legendgroup": "SWITZERLAND",
         "marker": {
          "color": "#17BECF",
          "symbol": "circle"
         },
         "name": "SWITZERLAND",
         "offsetgroup": "SWITZERLAND",
         "scalegroup": "y",
         "showlegend": false,
         "type": "violin",
         "xaxis": "x2",
         "y": [
          463016016
         ],
         "yaxis": "y2"
        },
        {
         "hovertemplate": "Country=SWITZERLAND<extra></extra>",
         "legendgroup": "SWITZERLAND",
         "marker": {
          "color": "#17BECF",
          "symbol": "circle"
         },
         "mode": "lines",
         "name": "SWITZERLAND",
         "showlegend": false,
         "type": "scatter",
         "xaxis": "x",
         "yaxis": "y"
        },
        {
         "hovertemplate": "Country=SYRIA<br>AverageTemperature=%{x}<br>GHG=%{y}<extra></extra>",
         "legendgroup": "SYRIA",
         "marker": {
          "color": "#1F77B4",
          "symbol": "circle"
         },
         "mode": "markers",
         "name": "SYRIA",
         "orientation": "v",
         "showlegend": true,
         "type": "scatter",
         "x": [
          17.2775
         ],
         "xaxis": "x",
         "y": [
          542272
         ],
         "yaxis": "y"
        },
        {
         "alignmentgroup": "True",
         "hovertemplate": "Country=SYRIA<br>AverageTemperature=%{x}<extra></extra>",
         "legendgroup": "SYRIA",
         "marker": {
          "color": "#1F77B4",
          "symbol": "circle"
         },
         "name": "SYRIA",
         "notched": true,
         "offsetgroup": "SYRIA",
         "showlegend": false,
         "type": "box",
         "x": [
          17.2775
         ],
         "xaxis": "x3",
         "yaxis": "y3"
        },
        {
         "alignmentgroup": "True",
         "hovertemplate": "Country=SYRIA<br>GHG=%{y}<extra></extra>",
         "legendgroup": "SYRIA",
         "marker": {
          "color": "#1F77B4",
          "symbol": "circle"
         },
         "name": "SYRIA",
         "offsetgroup": "SYRIA",
         "scalegroup": "y",
         "showlegend": false,
         "type": "violin",
         "xaxis": "x2",
         "y": [
          542272
         ],
         "yaxis": "y2"
        },
        {
         "hovertemplate": "Country=SYRIA<extra></extra>",
         "legendgroup": "SYRIA",
         "marker": {
          "color": "#1F77B4",
          "symbol": "circle"
         },
         "mode": "lines",
         "name": "SYRIA",
         "showlegend": false,
         "type": "scatter",
         "xaxis": "x",
         "yaxis": "y"
        },
        {
         "hovertemplate": "Country=TAIWAN<br>AverageTemperature=%{x}<br>GHG=%{y}<extra></extra>",
         "legendgroup": "TAIWAN",
         "marker": {
          "color": "#FF7F0E",
          "symbol": "circle"
         },
         "mode": "markers",
         "name": "TAIWAN",
         "orientation": "v",
         "showlegend": true,
         "type": "scatter",
         "x": [
          22.36491666666667
         ],
         "xaxis": "x",
         "y": [
          154104176
         ],
         "yaxis": "y"
        },
        {
         "alignmentgroup": "True",
         "hovertemplate": "Country=TAIWAN<br>AverageTemperature=%{x}<extra></extra>",
         "legendgroup": "TAIWAN",
         "marker": {
          "color": "#FF7F0E",
          "symbol": "circle"
         },
         "name": "TAIWAN",
         "notched": true,
         "offsetgroup": "TAIWAN",
         "showlegend": false,
         "type": "box",
         "x": [
          22.36491666666667
         ],
         "xaxis": "x3",
         "yaxis": "y3"
        },
        {
         "alignmentgroup": "True",
         "hovertemplate": "Country=TAIWAN<br>GHG=%{y}<extra></extra>",
         "legendgroup": "TAIWAN",
         "marker": {
          "color": "#FF7F0E",
          "symbol": "circle"
         },
         "name": "TAIWAN",
         "offsetgroup": "TAIWAN",
         "scalegroup": "y",
         "showlegend": false,
         "type": "violin",
         "xaxis": "x2",
         "y": [
          154104176
         ],
         "yaxis": "y2"
        },
        {
         "hovertemplate": "Country=TAIWAN<extra></extra>",
         "legendgroup": "TAIWAN",
         "marker": {
          "color": "#FF7F0E",
          "symbol": "circle"
         },
         "mode": "lines",
         "name": "TAIWAN",
         "showlegend": false,
         "type": "scatter",
         "xaxis": "x",
         "yaxis": "y"
        },
        {
         "hovertemplate": "Country=THAILAND<br>AverageTemperature=%{x}<br>GHG=%{y}<extra></extra>",
         "legendgroup": "THAILAND",
         "marker": {
          "color": "#2CA02C",
          "symbol": "circle"
         },
         "mode": "markers",
         "name": "THAILAND",
         "orientation": "v",
         "showlegend": true,
         "type": "scatter",
         "x": [
          26.249583333333334
         ],
         "xaxis": "x",
         "y": [
          578912
         ],
         "yaxis": "y"
        },
        {
         "alignmentgroup": "True",
         "hovertemplate": "Country=THAILAND<br>AverageTemperature=%{x}<extra></extra>",
         "legendgroup": "THAILAND",
         "marker": {
          "color": "#2CA02C",
          "symbol": "circle"
         },
         "name": "THAILAND",
         "notched": true,
         "offsetgroup": "THAILAND",
         "showlegend": false,
         "type": "box",
         "x": [
          26.249583333333334
         ],
         "xaxis": "x3",
         "yaxis": "y3"
        },
        {
         "alignmentgroup": "True",
         "hovertemplate": "Country=THAILAND<br>GHG=%{y}<extra></extra>",
         "legendgroup": "THAILAND",
         "marker": {
          "color": "#2CA02C",
          "symbol": "circle"
         },
         "name": "THAILAND",
         "offsetgroup": "THAILAND",
         "scalegroup": "y",
         "showlegend": false,
         "type": "violin",
         "xaxis": "x2",
         "y": [
          578912
         ],
         "yaxis": "y2"
        },
        {
         "hovertemplate": "Country=THAILAND<extra></extra>",
         "legendgroup": "THAILAND",
         "marker": {
          "color": "#2CA02C",
          "symbol": "circle"
         },
         "mode": "lines",
         "name": "THAILAND",
         "showlegend": false,
         "type": "scatter",
         "xaxis": "x",
         "yaxis": "y"
        },
        {
         "hovertemplate": "Country=TUNISIA<br>AverageTemperature=%{x}<br>GHG=%{y}<extra></extra>",
         "legendgroup": "TUNISIA",
         "marker": {
          "color": "#D62728",
          "symbol": "circle"
         },
         "mode": "markers",
         "name": "TUNISIA",
         "orientation": "v",
         "showlegend": true,
         "type": "scatter",
         "x": [
          20.146
         ],
         "xaxis": "x",
         "y": [
          1436288
         ],
         "yaxis": "y"
        },
        {
         "alignmentgroup": "True",
         "hovertemplate": "Country=TUNISIA<br>AverageTemperature=%{x}<extra></extra>",
         "legendgroup": "TUNISIA",
         "marker": {
          "color": "#D62728",
          "symbol": "circle"
         },
         "name": "TUNISIA",
         "notched": true,
         "offsetgroup": "TUNISIA",
         "showlegend": false,
         "type": "box",
         "x": [
          20.146
         ],
         "xaxis": "x3",
         "yaxis": "y3"
        },
        {
         "alignmentgroup": "True",
         "hovertemplate": "Country=TUNISIA<br>GHG=%{y}<extra></extra>",
         "legendgroup": "TUNISIA",
         "marker": {
          "color": "#D62728",
          "symbol": "circle"
         },
         "name": "TUNISIA",
         "offsetgroup": "TUNISIA",
         "scalegroup": "y",
         "showlegend": false,
         "type": "violin",
         "xaxis": "x2",
         "y": [
          1436288
         ],
         "yaxis": "y2"
        },
        {
         "hovertemplate": "Country=TUNISIA<extra></extra>",
         "legendgroup": "TUNISIA",
         "marker": {
          "color": "#D62728",
          "symbol": "circle"
         },
         "mode": "lines",
         "name": "TUNISIA",
         "showlegend": false,
         "type": "scatter",
         "xaxis": "x",
         "yaxis": "y"
        },
        {
         "hovertemplate": "Country=TURKEY<br>AverageTemperature=%{x}<br>GHG=%{y}<extra></extra>",
         "legendgroup": "TURKEY",
         "marker": {
          "color": "#9467BD",
          "symbol": "circle"
         },
         "mode": "markers",
         "name": "TURKEY",
         "orientation": "v",
         "showlegend": true,
         "type": "scatter",
         "x": [
          10.961
         ],
         "xaxis": "x",
         "y": [
          174366096
         ],
         "yaxis": "y"
        },
        {
         "alignmentgroup": "True",
         "hovertemplate": "Country=TURKEY<br>AverageTemperature=%{x}<extra></extra>",
         "legendgroup": "TURKEY",
         "marker": {
          "color": "#9467BD",
          "symbol": "circle"
         },
         "name": "TURKEY",
         "notched": true,
         "offsetgroup": "TURKEY",
         "showlegend": false,
         "type": "box",
         "x": [
          10.961
         ],
         "xaxis": "x3",
         "yaxis": "y3"
        },
        {
         "alignmentgroup": "True",
         "hovertemplate": "Country=TURKEY<br>GHG=%{y}<extra></extra>",
         "legendgroup": "TURKEY",
         "marker": {
          "color": "#9467BD",
          "symbol": "circle"
         },
         "name": "TURKEY",
         "offsetgroup": "TURKEY",
         "scalegroup": "y",
         "showlegend": false,
         "type": "violin",
         "xaxis": "x2",
         "y": [
          174366096
         ],
         "yaxis": "y2"
        },
        {
         "hovertemplate": "Country=TURKEY<extra></extra>",
         "legendgroup": "TURKEY",
         "marker": {
          "color": "#9467BD",
          "symbol": "circle"
         },
         "mode": "lines",
         "name": "TURKEY",
         "showlegend": false,
         "type": "scatter",
         "xaxis": "x",
         "yaxis": "y"
        },
        {
         "hovertemplate": "Country=UNITED KINGDOM<br>AverageTemperature=%{x}<br>GHG=%{y}<extra></extra>",
         "legendgroup": "UNITED KINGDOM",
         "marker": {
          "color": "#8C564B",
          "symbol": "circle"
         },
         "mode": "markers",
         "name": "UNITED KINGDOM",
         "orientation": "v",
         "showlegend": true,
         "type": "scatter",
         "x": [
          9.814333333333332
         ],
         "xaxis": "x",
         "y": [
          38649004176
         ],
         "yaxis": "y"
        },
        {
         "alignmentgroup": "True",
         "hovertemplate": "Country=UNITED KINGDOM<br>AverageTemperature=%{x}<extra></extra>",
         "legendgroup": "UNITED KINGDOM",
         "marker": {
          "color": "#8C564B",
          "symbol": "circle"
         },
         "name": "UNITED KINGDOM",
         "notched": true,
         "offsetgroup": "UNITED KINGDOM",
         "showlegend": false,
         "type": "box",
         "x": [
          9.814333333333332
         ],
         "xaxis": "x3",
         "yaxis": "y3"
        },
        {
         "alignmentgroup": "True",
         "hovertemplate": "Country=UNITED KINGDOM<br>GHG=%{y}<extra></extra>",
         "legendgroup": "UNITED KINGDOM",
         "marker": {
          "color": "#8C564B",
          "symbol": "circle"
         },
         "name": "UNITED KINGDOM",
         "offsetgroup": "UNITED KINGDOM",
         "scalegroup": "y",
         "showlegend": false,
         "type": "violin",
         "xaxis": "x2",
         "y": [
          38649004176
         ],
         "yaxis": "y2"
        },
        {
         "hovertemplate": "Country=UNITED KINGDOM<extra></extra>",
         "legendgroup": "UNITED KINGDOM",
         "marker": {
          "color": "#8C564B",
          "symbol": "circle"
         },
         "mode": "lines",
         "name": "UNITED KINGDOM",
         "showlegend": false,
         "type": "scatter",
         "xaxis": "x",
         "yaxis": "y"
        },
        {
         "hovertemplate": "Country=URUGUAY<br>AverageTemperature=%{x}<br>GHG=%{y}<extra></extra>",
         "legendgroup": "URUGUAY",
         "marker": {
          "color": "#E377C2",
          "symbol": "circle"
         },
         "mode": "markers",
         "name": "URUGUAY",
         "orientation": "v",
         "showlegend": true,
         "type": "scatter",
         "x": [
          17.28925
         ],
         "xaxis": "x",
         "y": [
          1637808
         ],
         "yaxis": "y"
        },
        {
         "alignmentgroup": "True",
         "hovertemplate": "Country=URUGUAY<br>AverageTemperature=%{x}<extra></extra>",
         "legendgroup": "URUGUAY",
         "marker": {
          "color": "#E377C2",
          "symbol": "circle"
         },
         "name": "URUGUAY",
         "notched": true,
         "offsetgroup": "URUGUAY",
         "showlegend": false,
         "type": "box",
         "x": [
          17.28925
         ],
         "xaxis": "x3",
         "yaxis": "y3"
        },
        {
         "alignmentgroup": "True",
         "hovertemplate": "Country=URUGUAY<br>GHG=%{y}<extra></extra>",
         "legendgroup": "URUGUAY",
         "marker": {
          "color": "#E377C2",
          "symbol": "circle"
         },
         "name": "URUGUAY",
         "offsetgroup": "URUGUAY",
         "scalegroup": "y",
         "showlegend": false,
         "type": "violin",
         "xaxis": "x2",
         "y": [
          1637808
         ],
         "yaxis": "y2"
        },
        {
         "hovertemplate": "Country=URUGUAY<extra></extra>",
         "legendgroup": "URUGUAY",
         "marker": {
          "color": "#E377C2",
          "symbol": "circle"
         },
         "mode": "lines",
         "name": "URUGUAY",
         "showlegend": false,
         "type": "scatter",
         "xaxis": "x",
         "yaxis": "y"
        },
        {
         "hovertemplate": "Country=VENEZUELA<br>AverageTemperature=%{x}<br>GHG=%{y}<extra></extra>",
         "legendgroup": "VENEZUELA",
         "marker": {
          "color": "#7F7F7F",
          "symbol": "circle"
         },
         "mode": "markers",
         "name": "VENEZUELA",
         "orientation": "v",
         "showlegend": true,
         "type": "scatter",
         "x": [
          24.96366666666667
         ],
         "xaxis": "x",
         "y": [
          285744368
         ],
         "yaxis": "y"
        },
        {
         "alignmentgroup": "True",
         "hovertemplate": "Country=VENEZUELA<br>AverageTemperature=%{x}<extra></extra>",
         "legendgroup": "VENEZUELA",
         "marker": {
          "color": "#7F7F7F",
          "symbol": "circle"
         },
         "name": "VENEZUELA",
         "notched": true,
         "offsetgroup": "VENEZUELA",
         "showlegend": false,
         "type": "box",
         "x": [
          24.96366666666667
         ],
         "xaxis": "x3",
         "yaxis": "y3"
        },
        {
         "alignmentgroup": "True",
         "hovertemplate": "Country=VENEZUELA<br>GHG=%{y}<extra></extra>",
         "legendgroup": "VENEZUELA",
         "marker": {
          "color": "#7F7F7F",
          "symbol": "circle"
         },
         "name": "VENEZUELA",
         "offsetgroup": "VENEZUELA",
         "scalegroup": "y",
         "showlegend": false,
         "type": "violin",
         "xaxis": "x2",
         "y": [
          285744368
         ],
         "yaxis": "y2"
        },
        {
         "hovertemplate": "Country=VENEZUELA<extra></extra>",
         "legendgroup": "VENEZUELA",
         "marker": {
          "color": "#7F7F7F",
          "symbol": "circle"
         },
         "mode": "lines",
         "name": "VENEZUELA",
         "showlegend": false,
         "type": "scatter",
         "xaxis": "x",
         "yaxis": "y"
        },
        {
         "hovertemplate": "Country=VIETNAM<br>AverageTemperature=%{x}<br>GHG=%{y}<extra></extra>",
         "legendgroup": "VIETNAM",
         "marker": {
          "color": "#BCBD22",
          "symbol": "circle"
         },
         "mode": "markers",
         "name": "VIETNAM",
         "orientation": "v",
         "showlegend": true,
         "type": "scatter",
         "x": [
          24.04433333333333
         ],
         "xaxis": "x",
         "y": [
          134014464
         ],
         "yaxis": "y"
        },
        {
         "alignmentgroup": "True",
         "hovertemplate": "Country=VIETNAM<br>AverageTemperature=%{x}<extra></extra>",
         "legendgroup": "VIETNAM",
         "marker": {
          "color": "#BCBD22",
          "symbol": "circle"
         },
         "name": "VIETNAM",
         "notched": true,
         "offsetgroup": "VIETNAM",
         "showlegend": false,
         "type": "box",
         "x": [
          24.04433333333333
         ],
         "xaxis": "x3",
         "yaxis": "y3"
        },
        {
         "alignmentgroup": "True",
         "hovertemplate": "Country=VIETNAM<br>GHG=%{y}<extra></extra>",
         "legendgroup": "VIETNAM",
         "marker": {
          "color": "#BCBD22",
          "symbol": "circle"
         },
         "name": "VIETNAM",
         "offsetgroup": "VIETNAM",
         "scalegroup": "y",
         "showlegend": false,
         "type": "violin",
         "xaxis": "x2",
         "y": [
          134014464
         ],
         "yaxis": "y2"
        },
        {
         "hovertemplate": "Country=VIETNAM<extra></extra>",
         "legendgroup": "VIETNAM",
         "marker": {
          "color": "#BCBD22",
          "symbol": "circle"
         },
         "mode": "lines",
         "name": "VIETNAM",
         "showlegend": false,
         "type": "scatter",
         "xaxis": "x",
         "yaxis": "y"
        },
        {
         "hovertemplate": "Country=ZIMBABWE<br>AverageTemperature=%{x}<br>GHG=%{y}<extra></extra>",
         "legendgroup": "ZIMBABWE",
         "marker": {
          "color": "#17BECF",
          "symbol": "circle"
         },
         "mode": "markers",
         "name": "ZIMBABWE",
         "orientation": "v",
         "showlegend": true,
         "type": "scatter",
         "x": [
          21.535083333333333
         ],
         "xaxis": "x",
         "y": [
          93593216
         ],
         "yaxis": "y"
        },
        {
         "alignmentgroup": "True",
         "hovertemplate": "Country=ZIMBABWE<br>AverageTemperature=%{x}<extra></extra>",
         "legendgroup": "ZIMBABWE",
         "marker": {
          "color": "#17BECF",
          "symbol": "circle"
         },
         "name": "ZIMBABWE",
         "notched": true,
         "offsetgroup": "ZIMBABWE",
         "showlegend": false,
         "type": "box",
         "x": [
          21.535083333333333
         ],
         "xaxis": "x3",
         "yaxis": "y3"
        },
        {
         "alignmentgroup": "True",
         "hovertemplate": "Country=ZIMBABWE<br>GHG=%{y}<extra></extra>",
         "legendgroup": "ZIMBABWE",
         "marker": {
          "color": "#17BECF",
          "symbol": "circle"
         },
         "name": "ZIMBABWE",
         "offsetgroup": "ZIMBABWE",
         "scalegroup": "y",
         "showlegend": false,
         "type": "violin",
         "xaxis": "x2",
         "y": [
          93593216
         ],
         "yaxis": "y2"
        },
        {
         "hovertemplate": "Country=ZIMBABWE<extra></extra>",
         "legendgroup": "ZIMBABWE",
         "marker": {
          "color": "#17BECF",
          "symbol": "circle"
         },
         "mode": "lines",
         "name": "ZIMBABWE",
         "showlegend": false,
         "type": "scatter",
         "xaxis": "x",
         "yaxis": "y"
        }
       ],
       "layout": {
        "legend": {
         "title": {
          "text": "Country"
         },
         "tracegroupgap": 0
        },
        "margin": {
         "t": 60
        },
        "template": {
         "data": {
          "bar": [
           {
            "error_x": {
             "color": "rgb(36,36,36)"
            },
            "error_y": {
             "color": "rgb(36,36,36)"
            },
            "marker": {
             "line": {
              "color": "white",
              "width": 0.5
             },
             "pattern": {
              "fillmode": "overlay",
              "size": 10,
              "solidity": 0.2
             }
            },
            "type": "bar"
           }
          ],
          "barpolar": [
           {
            "marker": {
             "line": {
              "color": "white",
              "width": 0.5
             },
             "pattern": {
              "fillmode": "overlay",
              "size": 10,
              "solidity": 0.2
             }
            },
            "type": "barpolar"
           }
          ],
          "carpet": [
           {
            "aaxis": {
             "endlinecolor": "rgb(36,36,36)",
             "gridcolor": "white",
             "linecolor": "white",
             "minorgridcolor": "white",
             "startlinecolor": "rgb(36,36,36)"
            },
            "baxis": {
             "endlinecolor": "rgb(36,36,36)",
             "gridcolor": "white",
             "linecolor": "white",
             "minorgridcolor": "white",
             "startlinecolor": "rgb(36,36,36)"
            },
            "type": "carpet"
           }
          ],
          "choropleth": [
           {
            "colorbar": {
             "outlinewidth": 1,
             "tickcolor": "rgb(36,36,36)",
             "ticks": "outside"
            },
            "type": "choropleth"
           }
          ],
          "contour": [
           {
            "colorbar": {
             "outlinewidth": 1,
             "tickcolor": "rgb(36,36,36)",
             "ticks": "outside"
            },
            "colorscale": [
             [
              0,
              "#440154"
             ],
             [
              0.1111111111111111,
              "#482878"
             ],
             [
              0.2222222222222222,
              "#3e4989"
             ],
             [
              0.3333333333333333,
              "#31688e"
             ],
             [
              0.4444444444444444,
              "#26828e"
             ],
             [
              0.5555555555555556,
              "#1f9e89"
             ],
             [
              0.6666666666666666,
              "#35b779"
             ],
             [
              0.7777777777777778,
              "#6ece58"
             ],
             [
              0.8888888888888888,
              "#b5de2b"
             ],
             [
              1,
              "#fde725"
             ]
            ],
            "type": "contour"
           }
          ],
          "contourcarpet": [
           {
            "colorbar": {
             "outlinewidth": 1,
             "tickcolor": "rgb(36,36,36)",
             "ticks": "outside"
            },
            "type": "contourcarpet"
           }
          ],
          "heatmap": [
           {
            "colorbar": {
             "outlinewidth": 1,
             "tickcolor": "rgb(36,36,36)",
             "ticks": "outside"
            },
            "colorscale": [
             [
              0,
              "#440154"
             ],
             [
              0.1111111111111111,
              "#482878"
             ],
             [
              0.2222222222222222,
              "#3e4989"
             ],
             [
              0.3333333333333333,
              "#31688e"
             ],
             [
              0.4444444444444444,
              "#26828e"
             ],
             [
              0.5555555555555556,
              "#1f9e89"
             ],
             [
              0.6666666666666666,
              "#35b779"
             ],
             [
              0.7777777777777778,
              "#6ece58"
             ],
             [
              0.8888888888888888,
              "#b5de2b"
             ],
             [
              1,
              "#fde725"
             ]
            ],
            "type": "heatmap"
           }
          ],
          "heatmapgl": [
           {
            "colorbar": {
             "outlinewidth": 1,
             "tickcolor": "rgb(36,36,36)",
             "ticks": "outside"
            },
            "colorscale": [
             [
              0,
              "#440154"
             ],
             [
              0.1111111111111111,
              "#482878"
             ],
             [
              0.2222222222222222,
              "#3e4989"
             ],
             [
              0.3333333333333333,
              "#31688e"
             ],
             [
              0.4444444444444444,
              "#26828e"
             ],
             [
              0.5555555555555556,
              "#1f9e89"
             ],
             [
              0.6666666666666666,
              "#35b779"
             ],
             [
              0.7777777777777778,
              "#6ece58"
             ],
             [
              0.8888888888888888,
              "#b5de2b"
             ],
             [
              1,
              "#fde725"
             ]
            ],
            "type": "heatmapgl"
           }
          ],
          "histogram": [
           {
            "marker": {
             "line": {
              "color": "white",
              "width": 0.6
             }
            },
            "type": "histogram"
           }
          ],
          "histogram2d": [
           {
            "colorbar": {
             "outlinewidth": 1,
             "tickcolor": "rgb(36,36,36)",
             "ticks": "outside"
            },
            "colorscale": [
             [
              0,
              "#440154"
             ],
             [
              0.1111111111111111,
              "#482878"
             ],
             [
              0.2222222222222222,
              "#3e4989"
             ],
             [
              0.3333333333333333,
              "#31688e"
             ],
             [
              0.4444444444444444,
              "#26828e"
             ],
             [
              0.5555555555555556,
              "#1f9e89"
             ],
             [
              0.6666666666666666,
              "#35b779"
             ],
             [
              0.7777777777777778,
              "#6ece58"
             ],
             [
              0.8888888888888888,
              "#b5de2b"
             ],
             [
              1,
              "#fde725"
             ]
            ],
            "type": "histogram2d"
           }
          ],
          "histogram2dcontour": [
           {
            "colorbar": {
             "outlinewidth": 1,
             "tickcolor": "rgb(36,36,36)",
             "ticks": "outside"
            },
            "colorscale": [
             [
              0,
              "#440154"
             ],
             [
              0.1111111111111111,
              "#482878"
             ],
             [
              0.2222222222222222,
              "#3e4989"
             ],
             [
              0.3333333333333333,
              "#31688e"
             ],
             [
              0.4444444444444444,
              "#26828e"
             ],
             [
              0.5555555555555556,
              "#1f9e89"
             ],
             [
              0.6666666666666666,
              "#35b779"
             ],
             [
              0.7777777777777778,
              "#6ece58"
             ],
             [
              0.8888888888888888,
              "#b5de2b"
             ],
             [
              1,
              "#fde725"
             ]
            ],
            "type": "histogram2dcontour"
           }
          ],
          "mesh3d": [
           {
            "colorbar": {
             "outlinewidth": 1,
             "tickcolor": "rgb(36,36,36)",
             "ticks": "outside"
            },
            "type": "mesh3d"
           }
          ],
          "parcoords": [
           {
            "line": {
             "colorbar": {
              "outlinewidth": 1,
              "tickcolor": "rgb(36,36,36)",
              "ticks": "outside"
             }
            },
            "type": "parcoords"
           }
          ],
          "pie": [
           {
            "automargin": true,
            "type": "pie"
           }
          ],
          "scatter": [
           {
            "marker": {
             "colorbar": {
              "outlinewidth": 1,
              "tickcolor": "rgb(36,36,36)",
              "ticks": "outside"
             }
            },
            "type": "scatter"
           }
          ],
          "scatter3d": [
           {
            "line": {
             "colorbar": {
              "outlinewidth": 1,
              "tickcolor": "rgb(36,36,36)",
              "ticks": "outside"
             }
            },
            "marker": {
             "colorbar": {
              "outlinewidth": 1,
              "tickcolor": "rgb(36,36,36)",
              "ticks": "outside"
             }
            },
            "type": "scatter3d"
           }
          ],
          "scattercarpet": [
           {
            "marker": {
             "colorbar": {
              "outlinewidth": 1,
              "tickcolor": "rgb(36,36,36)",
              "ticks": "outside"
             }
            },
            "type": "scattercarpet"
           }
          ],
          "scattergeo": [
           {
            "marker": {
             "colorbar": {
              "outlinewidth": 1,
              "tickcolor": "rgb(36,36,36)",
              "ticks": "outside"
             }
            },
            "type": "scattergeo"
           }
          ],
          "scattergl": [
           {
            "marker": {
             "colorbar": {
              "outlinewidth": 1,
              "tickcolor": "rgb(36,36,36)",
              "ticks": "outside"
             }
            },
            "type": "scattergl"
           }
          ],
          "scattermapbox": [
           {
            "marker": {
             "colorbar": {
              "outlinewidth": 1,
              "tickcolor": "rgb(36,36,36)",
              "ticks": "outside"
             }
            },
            "type": "scattermapbox"
           }
          ],
          "scatterpolar": [
           {
            "marker": {
             "colorbar": {
              "outlinewidth": 1,
              "tickcolor": "rgb(36,36,36)",
              "ticks": "outside"
             }
            },
            "type": "scatterpolar"
           }
          ],
          "scatterpolargl": [
           {
            "marker": {
             "colorbar": {
              "outlinewidth": 1,
              "tickcolor": "rgb(36,36,36)",
              "ticks": "outside"
             }
            },
            "type": "scatterpolargl"
           }
          ],
          "scatterternary": [
           {
            "marker": {
             "colorbar": {
              "outlinewidth": 1,
              "tickcolor": "rgb(36,36,36)",
              "ticks": "outside"
             }
            },
            "type": "scatterternary"
           }
          ],
          "surface": [
           {
            "colorbar": {
             "outlinewidth": 1,
             "tickcolor": "rgb(36,36,36)",
             "ticks": "outside"
            },
            "colorscale": [
             [
              0,
              "#440154"
             ],
             [
              0.1111111111111111,
              "#482878"
             ],
             [
              0.2222222222222222,
              "#3e4989"
             ],
             [
              0.3333333333333333,
              "#31688e"
             ],
             [
              0.4444444444444444,
              "#26828e"
             ],
             [
              0.5555555555555556,
              "#1f9e89"
             ],
             [
              0.6666666666666666,
              "#35b779"
             ],
             [
              0.7777777777777778,
              "#6ece58"
             ],
             [
              0.8888888888888888,
              "#b5de2b"
             ],
             [
              1,
              "#fde725"
             ]
            ],
            "type": "surface"
           }
          ],
          "table": [
           {
            "cells": {
             "fill": {
              "color": "rgb(237,237,237)"
             },
             "line": {
              "color": "white"
             }
            },
            "header": {
             "fill": {
              "color": "rgb(217,217,217)"
             },
             "line": {
              "color": "white"
             }
            },
            "type": "table"
           }
          ]
         },
         "layout": {
          "annotationdefaults": {
           "arrowhead": 0,
           "arrowwidth": 1
          },
          "autotypenumbers": "strict",
          "coloraxis": {
           "colorbar": {
            "outlinewidth": 1,
            "tickcolor": "rgb(36,36,36)",
            "ticks": "outside"
           }
          },
          "colorscale": {
           "diverging": [
            [
             0,
             "rgb(103,0,31)"
            ],
            [
             0.1,
             "rgb(178,24,43)"
            ],
            [
             0.2,
             "rgb(214,96,77)"
            ],
            [
             0.3,
             "rgb(244,165,130)"
            ],
            [
             0.4,
             "rgb(253,219,199)"
            ],
            [
             0.5,
             "rgb(247,247,247)"
            ],
            [
             0.6,
             "rgb(209,229,240)"
            ],
            [
             0.7,
             "rgb(146,197,222)"
            ],
            [
             0.8,
             "rgb(67,147,195)"
            ],
            [
             0.9,
             "rgb(33,102,172)"
            ],
            [
             1,
             "rgb(5,48,97)"
            ]
           ],
           "sequential": [
            [
             0,
             "#440154"
            ],
            [
             0.1111111111111111,
             "#482878"
            ],
            [
             0.2222222222222222,
             "#3e4989"
            ],
            [
             0.3333333333333333,
             "#31688e"
            ],
            [
             0.4444444444444444,
             "#26828e"
            ],
            [
             0.5555555555555556,
             "#1f9e89"
            ],
            [
             0.6666666666666666,
             "#35b779"
            ],
            [
             0.7777777777777778,
             "#6ece58"
            ],
            [
             0.8888888888888888,
             "#b5de2b"
            ],
            [
             1,
             "#fde725"
            ]
           ],
           "sequentialminus": [
            [
             0,
             "#440154"
            ],
            [
             0.1111111111111111,
             "#482878"
            ],
            [
             0.2222222222222222,
             "#3e4989"
            ],
            [
             0.3333333333333333,
             "#31688e"
            ],
            [
             0.4444444444444444,
             "#26828e"
            ],
            [
             0.5555555555555556,
             "#1f9e89"
            ],
            [
             0.6666666666666666,
             "#35b779"
            ],
            [
             0.7777777777777778,
             "#6ece58"
            ],
            [
             0.8888888888888888,
             "#b5de2b"
            ],
            [
             1,
             "#fde725"
            ]
           ]
          },
          "colorway": [
           "#1F77B4",
           "#FF7F0E",
           "#2CA02C",
           "#D62728",
           "#9467BD",
           "#8C564B",
           "#E377C2",
           "#7F7F7F",
           "#BCBD22",
           "#17BECF"
          ],
          "font": {
           "color": "rgb(36,36,36)"
          },
          "geo": {
           "bgcolor": "white",
           "lakecolor": "white",
           "landcolor": "white",
           "showlakes": true,
           "showland": true,
           "subunitcolor": "white"
          },
          "hoverlabel": {
           "align": "left"
          },
          "hovermode": "closest",
          "mapbox": {
           "style": "light"
          },
          "paper_bgcolor": "white",
          "plot_bgcolor": "white",
          "polar": {
           "angularaxis": {
            "gridcolor": "rgb(232,232,232)",
            "linecolor": "rgb(36,36,36)",
            "showgrid": false,
            "showline": true,
            "ticks": "outside"
           },
           "bgcolor": "white",
           "radialaxis": {
            "gridcolor": "rgb(232,232,232)",
            "linecolor": "rgb(36,36,36)",
            "showgrid": false,
            "showline": true,
            "ticks": "outside"
           }
          },
          "scene": {
           "xaxis": {
            "backgroundcolor": "white",
            "gridcolor": "rgb(232,232,232)",
            "gridwidth": 2,
            "linecolor": "rgb(36,36,36)",
            "showbackground": true,
            "showgrid": false,
            "showline": true,
            "ticks": "outside",
            "zeroline": false,
            "zerolinecolor": "rgb(36,36,36)"
           },
           "yaxis": {
            "backgroundcolor": "white",
            "gridcolor": "rgb(232,232,232)",
            "gridwidth": 2,
            "linecolor": "rgb(36,36,36)",
            "showbackground": true,
            "showgrid": false,
            "showline": true,
            "ticks": "outside",
            "zeroline": false,
            "zerolinecolor": "rgb(36,36,36)"
           },
           "zaxis": {
            "backgroundcolor": "white",
            "gridcolor": "rgb(232,232,232)",
            "gridwidth": 2,
            "linecolor": "rgb(36,36,36)",
            "showbackground": true,
            "showgrid": false,
            "showline": true,
            "ticks": "outside",
            "zeroline": false,
            "zerolinecolor": "rgb(36,36,36)"
           }
          },
          "shapedefaults": {
           "fillcolor": "black",
           "line": {
            "width": 0
           },
           "opacity": 0.3
          },
          "ternary": {
           "aaxis": {
            "gridcolor": "rgb(232,232,232)",
            "linecolor": "rgb(36,36,36)",
            "showgrid": false,
            "showline": true,
            "ticks": "outside"
           },
           "baxis": {
            "gridcolor": "rgb(232,232,232)",
            "linecolor": "rgb(36,36,36)",
            "showgrid": false,
            "showline": true,
            "ticks": "outside"
           },
           "bgcolor": "white",
           "caxis": {
            "gridcolor": "rgb(232,232,232)",
            "linecolor": "rgb(36,36,36)",
            "showgrid": false,
            "showline": true,
            "ticks": "outside"
           }
          },
          "title": {
           "x": 0.05
          },
          "xaxis": {
           "automargin": true,
           "gridcolor": "rgb(232,232,232)",
           "linecolor": "rgb(36,36,36)",
           "showgrid": false,
           "showline": true,
           "ticks": "outside",
           "title": {
            "standoff": 15
           },
           "zeroline": false,
           "zerolinecolor": "rgb(36,36,36)"
          },
          "yaxis": {
           "automargin": true,
           "gridcolor": "rgb(232,232,232)",
           "linecolor": "rgb(36,36,36)",
           "showgrid": false,
           "showline": true,
           "ticks": "outside",
           "title": {
            "standoff": 15
           },
           "zeroline": false,
           "zerolinecolor": "rgb(36,36,36)"
          }
         }
        },
        "xaxis": {
         "anchor": "y",
         "domain": [
          0,
          0.7363
         ],
         "title": {
          "text": "AverageTemperature"
         }
        },
        "xaxis2": {
         "anchor": "y2",
         "domain": [
          0.7413,
          1
         ],
         "matches": "x2",
         "showline": false,
         "showticklabels": false,
         "ticks": ""
        },
        "xaxis3": {
         "anchor": "y3",
         "domain": [
          0,
          0.7363
         ],
         "matches": "x",
         "showticklabels": false
        },
        "xaxis4": {
         "anchor": "y4",
         "domain": [
          0.7413,
          1
         ],
         "matches": "x2",
         "showline": false,
         "showticklabels": false,
         "ticks": ""
        },
        "yaxis": {
         "anchor": "x",
         "domain": [
          0,
          0.7326
         ],
         "title": {
          "text": "GHG"
         }
        },
        "yaxis2": {
         "anchor": "x2",
         "domain": [
          0,
          0.7326
         ],
         "matches": "y",
         "showticklabels": false
        },
        "yaxis3": {
         "anchor": "x3",
         "domain": [
          0.7426,
          1
         ],
         "matches": "y3",
         "showline": false,
         "showticklabels": false,
         "ticks": ""
        },
        "yaxis4": {
         "anchor": "x4",
         "domain": [
          0.7426,
          1
         ],
         "matches": "y3",
         "showline": false,
         "showticklabels": false,
         "ticks": ""
        }
       }
      },
      "text/html": [
       "<div>                            <div id=\"aa78f35c-1a49-4372-b025-f1789dfed49f\" class=\"plotly-graph-div\" style=\"height:525px; width:100%;\"></div>            <script type=\"text/javascript\">                require([\"plotly\"], function(Plotly) {                    window.PLOTLYENV=window.PLOTLYENV || {};                                    if (document.getElementById(\"aa78f35c-1a49-4372-b025-f1789dfed49f\")) {                    Plotly.newPlot(                        \"aa78f35c-1a49-4372-b025-f1789dfed49f\",                        [{\"hovertemplate\":\"Country=AFGHANISTAN<br>AverageTemperature=%{x}<br>GHG=%{y}<extra></extra>\",\"legendgroup\":\"AFGHANISTAN\",\"marker\":{\"color\":\"#1F77B4\",\"symbol\":\"circle\"},\"mode\":\"markers\",\"name\":\"AFGHANISTAN\",\"orientation\":\"v\",\"showlegend\":true,\"x\":[13.350083333333332],\"xaxis\":\"x\",\"y\":[14656.0],\"yaxis\":\"y\",\"type\":\"scatter\"},{\"alignmentgroup\":\"True\",\"hovertemplate\":\"Country=AFGHANISTAN<br>AverageTemperature=%{x}<extra></extra>\",\"legendgroup\":\"AFGHANISTAN\",\"marker\":{\"color\":\"#1F77B4\",\"symbol\":\"circle\"},\"name\":\"AFGHANISTAN\",\"notched\":true,\"offsetgroup\":\"AFGHANISTAN\",\"showlegend\":false,\"x\":[13.350083333333332],\"xaxis\":\"x3\",\"yaxis\":\"y3\",\"type\":\"box\"},{\"alignmentgroup\":\"True\",\"hovertemplate\":\"Country=AFGHANISTAN<br>GHG=%{y}<extra></extra>\",\"legendgroup\":\"AFGHANISTAN\",\"marker\":{\"color\":\"#1F77B4\",\"symbol\":\"circle\"},\"name\":\"AFGHANISTAN\",\"offsetgroup\":\"AFGHANISTAN\",\"scalegroup\":\"y\",\"showlegend\":false,\"xaxis\":\"x2\",\"y\":[14656.0],\"yaxis\":\"y2\",\"type\":\"violin\"},{\"hovertemplate\":\"Country=AFGHANISTAN<extra></extra>\",\"legendgroup\":\"AFGHANISTAN\",\"marker\":{\"color\":\"#1F77B4\",\"symbol\":\"circle\"},\"mode\":\"lines\",\"name\":\"AFGHANISTAN\",\"showlegend\":false,\"xaxis\":\"x\",\"yaxis\":\"y\",\"type\":\"scatter\"},{\"hovertemplate\":\"Country=ALBANIA<br>AverageTemperature=%{x}<br>GHG=%{y}<extra></extra>\",\"legendgroup\":\"ALBANIA\",\"marker\":{\"color\":\"#FF7F0E\",\"symbol\":\"circle\"},\"mode\":\"markers\",\"name\":\"ALBANIA\",\"orientation\":\"v\",\"showlegend\":true,\"x\":[12.51825],\"xaxis\":\"x\",\"y\":[7166784.0],\"yaxis\":\"y\",\"type\":\"scatter\"},{\"alignmentgroup\":\"True\",\"hovertemplate\":\"Country=ALBANIA<br>AverageTemperature=%{x}<extra></extra>\",\"legendgroup\":\"ALBANIA\",\"marker\":{\"color\":\"#FF7F0E\",\"symbol\":\"circle\"},\"name\":\"ALBANIA\",\"notched\":true,\"offsetgroup\":\"ALBANIA\",\"showlegend\":false,\"x\":[12.51825],\"xaxis\":\"x3\",\"yaxis\":\"y3\",\"type\":\"box\"},{\"alignmentgroup\":\"True\",\"hovertemplate\":\"Country=ALBANIA<br>GHG=%{y}<extra></extra>\",\"legendgroup\":\"ALBANIA\",\"marker\":{\"color\":\"#FF7F0E\",\"symbol\":\"circle\"},\"name\":\"ALBANIA\",\"offsetgroup\":\"ALBANIA\",\"scalegroup\":\"y\",\"showlegend\":false,\"xaxis\":\"x2\",\"y\":[7166784.0],\"yaxis\":\"y2\",\"type\":\"violin\"},{\"hovertemplate\":\"Country=ALBANIA<extra></extra>\",\"legendgroup\":\"ALBANIA\",\"marker\":{\"color\":\"#FF7F0E\",\"symbol\":\"circle\"},\"mode\":\"lines\",\"name\":\"ALBANIA\",\"showlegend\":false,\"xaxis\":\"x\",\"yaxis\":\"y\",\"type\":\"scatter\"},{\"hovertemplate\":\"Country=ALGERIA<br>AverageTemperature=%{x}<br>GHG=%{y}<extra></extra>\",\"legendgroup\":\"ALGERIA\",\"marker\":{\"color\":\"#2CA02C\",\"symbol\":\"circle\"},\"mode\":\"markers\",\"name\":\"ALGERIA\",\"orientation\":\"v\",\"showlegend\":true,\"x\":[23.18816666666667],\"xaxis\":\"x\",\"y\":[7302352.0],\"yaxis\":\"y\",\"type\":\"scatter\"},{\"alignmentgroup\":\"True\",\"hovertemplate\":\"Country=ALGERIA<br>AverageTemperature=%{x}<extra></extra>\",\"legendgroup\":\"ALGERIA\",\"marker\":{\"color\":\"#2CA02C\",\"symbol\":\"circle\"},\"name\":\"ALGERIA\",\"notched\":true,\"offsetgroup\":\"ALGERIA\",\"showlegend\":false,\"x\":[23.18816666666667],\"xaxis\":\"x3\",\"yaxis\":\"y3\",\"type\":\"box\"},{\"alignmentgroup\":\"True\",\"hovertemplate\":\"Country=ALGERIA<br>GHG=%{y}<extra></extra>\",\"legendgroup\":\"ALGERIA\",\"marker\":{\"color\":\"#2CA02C\",\"symbol\":\"circle\"},\"name\":\"ALGERIA\",\"offsetgroup\":\"ALGERIA\",\"scalegroup\":\"y\",\"showlegend\":false,\"xaxis\":\"x2\",\"y\":[7302352.0],\"yaxis\":\"y2\",\"type\":\"violin\"},{\"hovertemplate\":\"Country=ALGERIA<extra></extra>\",\"legendgroup\":\"ALGERIA\",\"marker\":{\"color\":\"#2CA02C\",\"symbol\":\"circle\"},\"mode\":\"lines\",\"name\":\"ALGERIA\",\"showlegend\":false,\"xaxis\":\"x\",\"yaxis\":\"y\",\"type\":\"scatter\"},{\"hovertemplate\":\"Country=ARGENTINA<br>AverageTemperature=%{x}<br>GHG=%{y}<extra></extra>\",\"legendgroup\":\"ARGENTINA\",\"marker\":{\"color\":\"#D62728\",\"symbol\":\"circle\"},\"mode\":\"markers\",\"name\":\"ARGENTINA\",\"orientation\":\"v\",\"showlegend\":true,\"x\":[14.771333333333333],\"xaxis\":\"x\",\"y\":[526139408.0],\"yaxis\":\"y\",\"type\":\"scatter\"},{\"alignmentgroup\":\"True\",\"hovertemplate\":\"Country=ARGENTINA<br>AverageTemperature=%{x}<extra></extra>\",\"legendgroup\":\"ARGENTINA\",\"marker\":{\"color\":\"#D62728\",\"symbol\":\"circle\"},\"name\":\"ARGENTINA\",\"notched\":true,\"offsetgroup\":\"ARGENTINA\",\"showlegend\":false,\"x\":[14.771333333333333],\"xaxis\":\"x3\",\"yaxis\":\"y3\",\"type\":\"box\"},{\"alignmentgroup\":\"True\",\"hovertemplate\":\"Country=ARGENTINA<br>GHG=%{y}<extra></extra>\",\"legendgroup\":\"ARGENTINA\",\"marker\":{\"color\":\"#D62728\",\"symbol\":\"circle\"},\"name\":\"ARGENTINA\",\"offsetgroup\":\"ARGENTINA\",\"scalegroup\":\"y\",\"showlegend\":false,\"xaxis\":\"x2\",\"y\":[526139408.0],\"yaxis\":\"y2\",\"type\":\"violin\"},{\"hovertemplate\":\"Country=ARGENTINA<extra></extra>\",\"legendgroup\":\"ARGENTINA\",\"marker\":{\"color\":\"#D62728\",\"symbol\":\"circle\"},\"mode\":\"lines\",\"name\":\"ARGENTINA\",\"showlegend\":false,\"xaxis\":\"x\",\"yaxis\":\"y\",\"type\":\"scatter\"},{\"hovertemplate\":\"Country=AUSTRALIA<br>AverageTemperature=%{x}<br>GHG=%{y}<extra></extra>\",\"legendgroup\":\"AUSTRALIA\",\"marker\":{\"color\":\"#9467BD\",\"symbol\":\"circle\"},\"mode\":\"markers\",\"name\":\"AUSTRALIA\",\"orientation\":\"v\",\"showlegend\":true,\"x\":[20.984916666666667],\"xaxis\":\"x\",\"y\":[1285364176.0],\"yaxis\":\"y\",\"type\":\"scatter\"},{\"alignmentgroup\":\"True\",\"hovertemplate\":\"Country=AUSTRALIA<br>AverageTemperature=%{x}<extra></extra>\",\"legendgroup\":\"AUSTRALIA\",\"marker\":{\"color\":\"#9467BD\",\"symbol\":\"circle\"},\"name\":\"AUSTRALIA\",\"notched\":true,\"offsetgroup\":\"AUSTRALIA\",\"showlegend\":false,\"x\":[20.984916666666667],\"xaxis\":\"x3\",\"yaxis\":\"y3\",\"type\":\"box\"},{\"alignmentgroup\":\"True\",\"hovertemplate\":\"Country=AUSTRALIA<br>GHG=%{y}<extra></extra>\",\"legendgroup\":\"AUSTRALIA\",\"marker\":{\"color\":\"#9467BD\",\"symbol\":\"circle\"},\"name\":\"AUSTRALIA\",\"offsetgroup\":\"AUSTRALIA\",\"scalegroup\":\"y\",\"showlegend\":false,\"xaxis\":\"x2\",\"y\":[1285364176.0],\"yaxis\":\"y2\",\"type\":\"violin\"},{\"hovertemplate\":\"Country=AUSTRALIA<extra></extra>\",\"legendgroup\":\"AUSTRALIA\",\"marker\":{\"color\":\"#9467BD\",\"symbol\":\"circle\"},\"mode\":\"lines\",\"name\":\"AUSTRALIA\",\"showlegend\":false,\"xaxis\":\"x\",\"yaxis\":\"y\",\"type\":\"scatter\"},{\"hovertemplate\":\"Country=AUSTRIA<br>AverageTemperature=%{x}<br>GHG=%{y}<extra></extra>\",\"legendgroup\":\"AUSTRIA\",\"marker\":{\"color\":\"#8C564B\",\"symbol\":\"circle\"},\"mode\":\"markers\",\"name\":\"AUSTRIA\",\"orientation\":\"v\",\"showlegend\":true,\"x\":[6.962833333333333],\"xaxis\":\"x\",\"y\":[1644707312.0],\"yaxis\":\"y\",\"type\":\"scatter\"},{\"alignmentgroup\":\"True\",\"hovertemplate\":\"Country=AUSTRIA<br>AverageTemperature=%{x}<extra></extra>\",\"legendgroup\":\"AUSTRIA\",\"marker\":{\"color\":\"#8C564B\",\"symbol\":\"circle\"},\"name\":\"AUSTRIA\",\"notched\":true,\"offsetgroup\":\"AUSTRIA\",\"showlegend\":false,\"x\":[6.962833333333333],\"xaxis\":\"x3\",\"yaxis\":\"y3\",\"type\":\"box\"},{\"alignmentgroup\":\"True\",\"hovertemplate\":\"Country=AUSTRIA<br>GHG=%{y}<extra></extra>\",\"legendgroup\":\"AUSTRIA\",\"marker\":{\"color\":\"#8C564B\",\"symbol\":\"circle\"},\"name\":\"AUSTRIA\",\"offsetgroup\":\"AUSTRIA\",\"scalegroup\":\"y\",\"showlegend\":false,\"xaxis\":\"x2\",\"y\":[1644707312.0],\"yaxis\":\"y2\",\"type\":\"violin\"},{\"hovertemplate\":\"Country=AUSTRIA<extra></extra>\",\"legendgroup\":\"AUSTRIA\",\"marker\":{\"color\":\"#8C564B\",\"symbol\":\"circle\"},\"mode\":\"lines\",\"name\":\"AUSTRIA\",\"showlegend\":false,\"xaxis\":\"x\",\"yaxis\":\"y\",\"type\":\"scatter\"},{\"hovertemplate\":\"Country=BAHRAIN<br>AverageTemperature=%{x}<br>GHG=%{y}<extra></extra>\",\"legendgroup\":\"BAHRAIN\",\"marker\":{\"color\":\"#E377C2\",\"symbol\":\"circle\"},\"mode\":\"markers\",\"name\":\"BAHRAIN\",\"orientation\":\"v\",\"showlegend\":true,\"x\":[25.39675],\"xaxis\":\"x\",\"y\":[46096784.0],\"yaxis\":\"y\",\"type\":\"scatter\"},{\"alignmentgroup\":\"True\",\"hovertemplate\":\"Country=BAHRAIN<br>AverageTemperature=%{x}<extra></extra>\",\"legendgroup\":\"BAHRAIN\",\"marker\":{\"color\":\"#E377C2\",\"symbol\":\"circle\"},\"name\":\"BAHRAIN\",\"notched\":true,\"offsetgroup\":\"BAHRAIN\",\"showlegend\":false,\"x\":[25.39675],\"xaxis\":\"x3\",\"yaxis\":\"y3\",\"type\":\"box\"},{\"alignmentgroup\":\"True\",\"hovertemplate\":\"Country=BAHRAIN<br>GHG=%{y}<extra></extra>\",\"legendgroup\":\"BAHRAIN\",\"marker\":{\"color\":\"#E377C2\",\"symbol\":\"circle\"},\"name\":\"BAHRAIN\",\"offsetgroup\":\"BAHRAIN\",\"scalegroup\":\"y\",\"showlegend\":false,\"xaxis\":\"x2\",\"y\":[46096784.0],\"yaxis\":\"y2\",\"type\":\"violin\"},{\"hovertemplate\":\"Country=BAHRAIN<extra></extra>\",\"legendgroup\":\"BAHRAIN\",\"marker\":{\"color\":\"#E377C2\",\"symbol\":\"circle\"},\"mode\":\"lines\",\"name\":\"BAHRAIN\",\"showlegend\":false,\"xaxis\":\"x\",\"yaxis\":\"y\",\"type\":\"scatter\"},{\"hovertemplate\":\"Country=BELGIUM<br>AverageTemperature=%{x}<br>GHG=%{y}<extra></extra>\",\"legendgroup\":\"BELGIUM\",\"marker\":{\"color\":\"#7F7F7F\",\"symbol\":\"circle\"},\"mode\":\"markers\",\"name\":\"BELGIUM\",\"orientation\":\"v\",\"showlegend\":true,\"x\":[10.454583333333334],\"xaxis\":\"x\",\"y\":[4626144416.0],\"yaxis\":\"y\",\"type\":\"scatter\"},{\"alignmentgroup\":\"True\",\"hovertemplate\":\"Country=BELGIUM<br>AverageTemperature=%{x}<extra></extra>\",\"legendgroup\":\"BELGIUM\",\"marker\":{\"color\":\"#7F7F7F\",\"symbol\":\"circle\"},\"name\":\"BELGIUM\",\"notched\":true,\"offsetgroup\":\"BELGIUM\",\"showlegend\":false,\"x\":[10.454583333333334],\"xaxis\":\"x3\",\"yaxis\":\"y3\",\"type\":\"box\"},{\"alignmentgroup\":\"True\",\"hovertemplate\":\"Country=BELGIUM<br>GHG=%{y}<extra></extra>\",\"legendgroup\":\"BELGIUM\",\"marker\":{\"color\":\"#7F7F7F\",\"symbol\":\"circle\"},\"name\":\"BELGIUM\",\"offsetgroup\":\"BELGIUM\",\"scalegroup\":\"y\",\"showlegend\":false,\"xaxis\":\"x2\",\"y\":[4626144416.0],\"yaxis\":\"y2\",\"type\":\"violin\"},{\"hovertemplate\":\"Country=BELGIUM<extra></extra>\",\"legendgroup\":\"BELGIUM\",\"marker\":{\"color\":\"#7F7F7F\",\"symbol\":\"circle\"},\"mode\":\"lines\",\"name\":\"BELGIUM\",\"showlegend\":false,\"xaxis\":\"x\",\"yaxis\":\"y\",\"type\":\"scatter\"},{\"hovertemplate\":\"Country=BOLIVIA<br>AverageTemperature=%{x}<br>GHG=%{y}<extra></extra>\",\"legendgroup\":\"BOLIVIA\",\"marker\":{\"color\":\"#BCBD22\",\"symbol\":\"circle\"},\"mode\":\"markers\",\"name\":\"BOLIVIA\",\"orientation\":\"v\",\"showlegend\":true,\"x\":[20.777916666666666],\"xaxis\":\"x\",\"y\":[2132448.0],\"yaxis\":\"y\",\"type\":\"scatter\"},{\"alignmentgroup\":\"True\",\"hovertemplate\":\"Country=BOLIVIA<br>AverageTemperature=%{x}<extra></extra>\",\"legendgroup\":\"BOLIVIA\",\"marker\":{\"color\":\"#BCBD22\",\"symbol\":\"circle\"},\"name\":\"BOLIVIA\",\"notched\":true,\"offsetgroup\":\"BOLIVIA\",\"showlegend\":false,\"x\":[20.777916666666666],\"xaxis\":\"x3\",\"yaxis\":\"y3\",\"type\":\"box\"},{\"alignmentgroup\":\"True\",\"hovertemplate\":\"Country=BOLIVIA<br>GHG=%{y}<extra></extra>\",\"legendgroup\":\"BOLIVIA\",\"marker\":{\"color\":\"#BCBD22\",\"symbol\":\"circle\"},\"name\":\"BOLIVIA\",\"offsetgroup\":\"BOLIVIA\",\"scalegroup\":\"y\",\"showlegend\":false,\"xaxis\":\"x2\",\"y\":[2132448.0],\"yaxis\":\"y2\",\"type\":\"violin\"},{\"hovertemplate\":\"Country=BOLIVIA<extra></extra>\",\"legendgroup\":\"BOLIVIA\",\"marker\":{\"color\":\"#BCBD22\",\"symbol\":\"circle\"},\"mode\":\"lines\",\"name\":\"BOLIVIA\",\"showlegend\":false,\"xaxis\":\"x\",\"yaxis\":\"y\",\"type\":\"scatter\"},{\"hovertemplate\":\"Country=BRAZIL<br>AverageTemperature=%{x}<br>GHG=%{y}<extra></extra>\",\"legendgroup\":\"BRAZIL\",\"marker\":{\"color\":\"#17BECF\",\"symbol\":\"circle\"},\"mode\":\"markers\",\"name\":\"BRAZIL\",\"orientation\":\"v\",\"showlegend\":true,\"x\":[24.616833333333332],\"xaxis\":\"x\",\"y\":[235503600.0],\"yaxis\":\"y\",\"type\":\"scatter\"},{\"alignmentgroup\":\"True\",\"hovertemplate\":\"Country=BRAZIL<br>AverageTemperature=%{x}<extra></extra>\",\"legendgroup\":\"BRAZIL\",\"marker\":{\"color\":\"#17BECF\",\"symbol\":\"circle\"},\"name\":\"BRAZIL\",\"notched\":true,\"offsetgroup\":\"BRAZIL\",\"showlegend\":false,\"x\":[24.616833333333332],\"xaxis\":\"x3\",\"yaxis\":\"y3\",\"type\":\"box\"},{\"alignmentgroup\":\"True\",\"hovertemplate\":\"Country=BRAZIL<br>GHG=%{y}<extra></extra>\",\"legendgroup\":\"BRAZIL\",\"marker\":{\"color\":\"#17BECF\",\"symbol\":\"circle\"},\"name\":\"BRAZIL\",\"offsetgroup\":\"BRAZIL\",\"scalegroup\":\"y\",\"showlegend\":false,\"xaxis\":\"x2\",\"y\":[235503600.0],\"yaxis\":\"y2\",\"type\":\"violin\"},{\"hovertemplate\":\"Country=BRAZIL<extra></extra>\",\"legendgroup\":\"BRAZIL\",\"marker\":{\"color\":\"#17BECF\",\"symbol\":\"circle\"},\"mode\":\"lines\",\"name\":\"BRAZIL\",\"showlegend\":false,\"xaxis\":\"x\",\"yaxis\":\"y\",\"type\":\"scatter\"},{\"hovertemplate\":\"Country=BULGARIA<br>AverageTemperature=%{x}<br>GHG=%{y}<extra></extra>\",\"legendgroup\":\"BULGARIA\",\"marker\":{\"color\":\"#1F77B4\",\"symbol\":\"circle\"},\"mode\":\"markers\",\"name\":\"BULGARIA\",\"orientation\":\"v\",\"showlegend\":true,\"x\":[10.300416666666665],\"xaxis\":\"x\",\"y\":[111861920.0],\"yaxis\":\"y\",\"type\":\"scatter\"},{\"alignmentgroup\":\"True\",\"hovertemplate\":\"Country=BULGARIA<br>AverageTemperature=%{x}<extra></extra>\",\"legendgroup\":\"BULGARIA\",\"marker\":{\"color\":\"#1F77B4\",\"symbol\":\"circle\"},\"name\":\"BULGARIA\",\"notched\":true,\"offsetgroup\":\"BULGARIA\",\"showlegend\":false,\"x\":[10.300416666666665],\"xaxis\":\"x3\",\"yaxis\":\"y3\",\"type\":\"box\"},{\"alignmentgroup\":\"True\",\"hovertemplate\":\"Country=BULGARIA<br>GHG=%{y}<extra></extra>\",\"legendgroup\":\"BULGARIA\",\"marker\":{\"color\":\"#1F77B4\",\"symbol\":\"circle\"},\"name\":\"BULGARIA\",\"offsetgroup\":\"BULGARIA\",\"scalegroup\":\"y\",\"showlegend\":false,\"xaxis\":\"x2\",\"y\":[111861920.0],\"yaxis\":\"y2\",\"type\":\"violin\"},{\"hovertemplate\":\"Country=BULGARIA<extra></extra>\",\"legendgroup\":\"BULGARIA\",\"marker\":{\"color\":\"#1F77B4\",\"symbol\":\"circle\"},\"mode\":\"lines\",\"name\":\"BULGARIA\",\"showlegend\":false,\"xaxis\":\"x\",\"yaxis\":\"y\",\"type\":\"scatter\"},{\"hovertemplate\":\"Country=CHILE<br>AverageTemperature=%{x}<br>GHG=%{y}<extra></extra>\",\"legendgroup\":\"CHILE\",\"marker\":{\"color\":\"#FF7F0E\",\"symbol\":\"circle\"},\"mode\":\"markers\",\"name\":\"CHILE\",\"orientation\":\"v\",\"showlegend\":true,\"x\":[9.369166666666667],\"xaxis\":\"x\",\"y\":[194825872.0],\"yaxis\":\"y\",\"type\":\"scatter\"},{\"alignmentgroup\":\"True\",\"hovertemplate\":\"Country=CHILE<br>AverageTemperature=%{x}<extra></extra>\",\"legendgroup\":\"CHILE\",\"marker\":{\"color\":\"#FF7F0E\",\"symbol\":\"circle\"},\"name\":\"CHILE\",\"notched\":true,\"offsetgroup\":\"CHILE\",\"showlegend\":false,\"x\":[9.369166666666667],\"xaxis\":\"x3\",\"yaxis\":\"y3\",\"type\":\"box\"},{\"alignmentgroup\":\"True\",\"hovertemplate\":\"Country=CHILE<br>GHG=%{y}<extra></extra>\",\"legendgroup\":\"CHILE\",\"marker\":{\"color\":\"#FF7F0E\",\"symbol\":\"circle\"},\"name\":\"CHILE\",\"offsetgroup\":\"CHILE\",\"scalegroup\":\"y\",\"showlegend\":false,\"xaxis\":\"x2\",\"y\":[194825872.0],\"yaxis\":\"y2\",\"type\":\"violin\"},{\"hovertemplate\":\"Country=CHILE<extra></extra>\",\"legendgroup\":\"CHILE\",\"marker\":{\"color\":\"#FF7F0E\",\"symbol\":\"circle\"},\"mode\":\"lines\",\"name\":\"CHILE\",\"showlegend\":false,\"xaxis\":\"x\",\"yaxis\":\"y\",\"type\":\"scatter\"},{\"hovertemplate\":\"Country=CHINA<br>AverageTemperature=%{x}<br>GHG=%{y}<extra></extra>\",\"legendgroup\":\"CHINA\",\"marker\":{\"color\":\"#2CA02C\",\"symbol\":\"circle\"},\"mode\":\"markers\",\"name\":\"CHINA\",\"orientation\":\"v\",\"showlegend\":true,\"x\":[6.9755],\"xaxis\":\"x\",\"y\":[1792828176.0],\"yaxis\":\"y\",\"type\":\"scatter\"},{\"alignmentgroup\":\"True\",\"hovertemplate\":\"Country=CHINA<br>AverageTemperature=%{x}<extra></extra>\",\"legendgroup\":\"CHINA\",\"marker\":{\"color\":\"#2CA02C\",\"symbol\":\"circle\"},\"name\":\"CHINA\",\"notched\":true,\"offsetgroup\":\"CHINA\",\"showlegend\":false,\"x\":[6.9755],\"xaxis\":\"x3\",\"yaxis\":\"y3\",\"type\":\"box\"},{\"alignmentgroup\":\"True\",\"hovertemplate\":\"Country=CHINA<br>GHG=%{y}<extra></extra>\",\"legendgroup\":\"CHINA\",\"marker\":{\"color\":\"#2CA02C\",\"symbol\":\"circle\"},\"name\":\"CHINA\",\"offsetgroup\":\"CHINA\",\"scalegroup\":\"y\",\"showlegend\":false,\"xaxis\":\"x2\",\"y\":[1792828176.0],\"yaxis\":\"y2\",\"type\":\"violin\"},{\"hovertemplate\":\"Country=CHINA<extra></extra>\",\"legendgroup\":\"CHINA\",\"marker\":{\"color\":\"#2CA02C\",\"symbol\":\"circle\"},\"mode\":\"lines\",\"name\":\"CHINA\",\"showlegend\":false,\"xaxis\":\"x\",\"yaxis\":\"y\",\"type\":\"scatter\"},{\"hovertemplate\":\"Country=COLOMBIA<br>AverageTemperature=%{x}<br>GHG=%{y}<extra></extra>\",\"legendgroup\":\"COLOMBIA\",\"marker\":{\"color\":\"#D62728\",\"symbol\":\"circle\"},\"mode\":\"markers\",\"name\":\"COLOMBIA\",\"orientation\":\"v\",\"showlegend\":true,\"x\":[24.753583333333335],\"xaxis\":\"x\",\"y\":[67926896.0],\"yaxis\":\"y\",\"type\":\"scatter\"},{\"alignmentgroup\":\"True\",\"hovertemplate\":\"Country=COLOMBIA<br>AverageTemperature=%{x}<extra></extra>\",\"legendgroup\":\"COLOMBIA\",\"marker\":{\"color\":\"#D62728\",\"symbol\":\"circle\"},\"name\":\"COLOMBIA\",\"notched\":true,\"offsetgroup\":\"COLOMBIA\",\"showlegend\":false,\"x\":[24.753583333333335],\"xaxis\":\"x3\",\"yaxis\":\"y3\",\"type\":\"box\"},{\"alignmentgroup\":\"True\",\"hovertemplate\":\"Country=COLOMBIA<br>GHG=%{y}<extra></extra>\",\"legendgroup\":\"COLOMBIA\",\"marker\":{\"color\":\"#D62728\",\"symbol\":\"circle\"},\"name\":\"COLOMBIA\",\"offsetgroup\":\"COLOMBIA\",\"scalegroup\":\"y\",\"showlegend\":false,\"xaxis\":\"x2\",\"y\":[67926896.0],\"yaxis\":\"y2\",\"type\":\"violin\"},{\"hovertemplate\":\"Country=COLOMBIA<extra></extra>\",\"legendgroup\":\"COLOMBIA\",\"marker\":{\"color\":\"#D62728\",\"symbol\":\"circle\"},\"mode\":\"lines\",\"name\":\"COLOMBIA\",\"showlegend\":false,\"xaxis\":\"x\",\"yaxis\":\"y\",\"type\":\"scatter\"},{\"hovertemplate\":\"Country=DENMARK<br>AverageTemperature=%{x}<br>GHG=%{y}<extra></extra>\",\"legendgroup\":\"DENMARK\",\"marker\":{\"color\":\"#9467BD\",\"symbol\":\"circle\"},\"mode\":\"markers\",\"name\":\"DENMARK\",\"orientation\":\"v\",\"showlegend\":true,\"x\":[9.236916666666668],\"xaxis\":\"x\",\"y\":[673611744.0],\"yaxis\":\"y\",\"type\":\"scatter\"},{\"alignmentgroup\":\"True\",\"hovertemplate\":\"Country=DENMARK<br>AverageTemperature=%{x}<extra></extra>\",\"legendgroup\":\"DENMARK\",\"marker\":{\"color\":\"#9467BD\",\"symbol\":\"circle\"},\"name\":\"DENMARK\",\"notched\":true,\"offsetgroup\":\"DENMARK\",\"showlegend\":false,\"x\":[9.236916666666668],\"xaxis\":\"x3\",\"yaxis\":\"y3\",\"type\":\"box\"},{\"alignmentgroup\":\"True\",\"hovertemplate\":\"Country=DENMARK<br>GHG=%{y}<extra></extra>\",\"legendgroup\":\"DENMARK\",\"marker\":{\"color\":\"#9467BD\",\"symbol\":\"circle\"},\"name\":\"DENMARK\",\"offsetgroup\":\"DENMARK\",\"scalegroup\":\"y\",\"showlegend\":false,\"xaxis\":\"x2\",\"y\":[673611744.0],\"yaxis\":\"y2\",\"type\":\"violin\"},{\"hovertemplate\":\"Country=DENMARK<extra></extra>\",\"legendgroup\":\"DENMARK\",\"marker\":{\"color\":\"#9467BD\",\"symbol\":\"circle\"},\"mode\":\"lines\",\"name\":\"DENMARK\",\"showlegend\":false,\"xaxis\":\"x\",\"yaxis\":\"y\",\"type\":\"scatter\"},{\"hovertemplate\":\"Country=ECUADOR<br>AverageTemperature=%{x}<br>GHG=%{y}<extra></extra>\",\"legendgroup\":\"ECUADOR\",\"marker\":{\"color\":\"#8C564B\",\"symbol\":\"circle\"},\"mode\":\"markers\",\"name\":\"ECUADOR\",\"orientation\":\"v\",\"showlegend\":true,\"x\":[21.730333333333334],\"xaxis\":\"x\",\"y\":[21375776.0],\"yaxis\":\"y\",\"type\":\"scatter\"},{\"alignmentgroup\":\"True\",\"hovertemplate\":\"Country=ECUADOR<br>AverageTemperature=%{x}<extra></extra>\",\"legendgroup\":\"ECUADOR\",\"marker\":{\"color\":\"#8C564B\",\"symbol\":\"circle\"},\"name\":\"ECUADOR\",\"notched\":true,\"offsetgroup\":\"ECUADOR\",\"showlegend\":false,\"x\":[21.730333333333334],\"xaxis\":\"x3\",\"yaxis\":\"y3\",\"type\":\"box\"},{\"alignmentgroup\":\"True\",\"hovertemplate\":\"Country=ECUADOR<br>GHG=%{y}<extra></extra>\",\"legendgroup\":\"ECUADOR\",\"marker\":{\"color\":\"#8C564B\",\"symbol\":\"circle\"},\"name\":\"ECUADOR\",\"offsetgroup\":\"ECUADOR\",\"scalegroup\":\"y\",\"showlegend\":false,\"xaxis\":\"x2\",\"y\":[21375776.0],\"yaxis\":\"y2\",\"type\":\"violin\"},{\"hovertemplate\":\"Country=ECUADOR<extra></extra>\",\"legendgroup\":\"ECUADOR\",\"marker\":{\"color\":\"#8C564B\",\"symbol\":\"circle\"},\"mode\":\"lines\",\"name\":\"ECUADOR\",\"showlegend\":false,\"xaxis\":\"x\",\"yaxis\":\"y\",\"type\":\"scatter\"},{\"hovertemplate\":\"Country=EGYPT<br>AverageTemperature=%{x}<br>GHG=%{y}<extra></extra>\",\"legendgroup\":\"EGYPT\",\"marker\":{\"color\":\"#E377C2\",\"symbol\":\"circle\"},\"mode\":\"markers\",\"name\":\"EGYPT\",\"orientation\":\"v\",\"showlegend\":true,\"x\":[21.8925],\"xaxis\":\"x\",\"y\":[64493728.0],\"yaxis\":\"y\",\"type\":\"scatter\"},{\"alignmentgroup\":\"True\",\"hovertemplate\":\"Country=EGYPT<br>AverageTemperature=%{x}<extra></extra>\",\"legendgroup\":\"EGYPT\",\"marker\":{\"color\":\"#E377C2\",\"symbol\":\"circle\"},\"name\":\"EGYPT\",\"notched\":true,\"offsetgroup\":\"EGYPT\",\"showlegend\":false,\"x\":[21.8925],\"xaxis\":\"x3\",\"yaxis\":\"y3\",\"type\":\"box\"},{\"alignmentgroup\":\"True\",\"hovertemplate\":\"Country=EGYPT<br>GHG=%{y}<extra></extra>\",\"legendgroup\":\"EGYPT\",\"marker\":{\"color\":\"#E377C2\",\"symbol\":\"circle\"},\"name\":\"EGYPT\",\"offsetgroup\":\"EGYPT\",\"scalegroup\":\"y\",\"showlegend\":false,\"xaxis\":\"x2\",\"y\":[64493728.0],\"yaxis\":\"y2\",\"type\":\"violin\"},{\"hovertemplate\":\"Country=EGYPT<extra></extra>\",\"legendgroup\":\"EGYPT\",\"marker\":{\"color\":\"#E377C2\",\"symbol\":\"circle\"},\"mode\":\"lines\",\"name\":\"EGYPT\",\"showlegend\":false,\"xaxis\":\"x\",\"yaxis\":\"y\",\"type\":\"scatter\"},{\"hovertemplate\":\"Country=ERITREA<br>AverageTemperature=%{x}<br>GHG=%{y}<extra></extra>\",\"legendgroup\":\"ERITREA\",\"marker\":{\"color\":\"#7F7F7F\",\"symbol\":\"circle\"},\"mode\":\"markers\",\"name\":\"ERITREA\",\"orientation\":\"v\",\"showlegend\":true,\"x\":[26.69141666666667],\"xaxis\":\"x\",\"y\":[69616.0],\"yaxis\":\"y\",\"type\":\"scatter\"},{\"alignmentgroup\":\"True\",\"hovertemplate\":\"Country=ERITREA<br>AverageTemperature=%{x}<extra></extra>\",\"legendgroup\":\"ERITREA\",\"marker\":{\"color\":\"#7F7F7F\",\"symbol\":\"circle\"},\"name\":\"ERITREA\",\"notched\":true,\"offsetgroup\":\"ERITREA\",\"showlegend\":false,\"x\":[26.69141666666667],\"xaxis\":\"x3\",\"yaxis\":\"y3\",\"type\":\"box\"},{\"alignmentgroup\":\"True\",\"hovertemplate\":\"Country=ERITREA<br>GHG=%{y}<extra></extra>\",\"legendgroup\":\"ERITREA\",\"marker\":{\"color\":\"#7F7F7F\",\"symbol\":\"circle\"},\"name\":\"ERITREA\",\"offsetgroup\":\"ERITREA\",\"scalegroup\":\"y\",\"showlegend\":false,\"xaxis\":\"x2\",\"y\":[69616.0],\"yaxis\":\"y2\",\"type\":\"violin\"},{\"hovertemplate\":\"Country=ERITREA<extra></extra>\",\"legendgroup\":\"ERITREA\",\"marker\":{\"color\":\"#7F7F7F\",\"symbol\":\"circle\"},\"mode\":\"lines\",\"name\":\"ERITREA\",\"showlegend\":false,\"xaxis\":\"x\",\"yaxis\":\"y\",\"type\":\"scatter\"},{\"hovertemplate\":\"Country=ESTONIA<br>AverageTemperature=%{x}<br>GHG=%{y}<extra></extra>\",\"legendgroup\":\"ESTONIA\",\"marker\":{\"color\":\"#BCBD22\",\"symbol\":\"circle\"},\"mode\":\"markers\",\"name\":\"ESTONIA\",\"orientation\":\"v\",\"showlegend\":true,\"x\":[6.746416666666666],\"xaxis\":\"x\",\"y\":[304112.0],\"yaxis\":\"y\",\"type\":\"scatter\"},{\"alignmentgroup\":\"True\",\"hovertemplate\":\"Country=ESTONIA<br>AverageTemperature=%{x}<extra></extra>\",\"legendgroup\":\"ESTONIA\",\"marker\":{\"color\":\"#BCBD22\",\"symbol\":\"circle\"},\"name\":\"ESTONIA\",\"notched\":true,\"offsetgroup\":\"ESTONIA\",\"showlegend\":false,\"x\":[6.746416666666666],\"xaxis\":\"x3\",\"yaxis\":\"y3\",\"type\":\"box\"},{\"alignmentgroup\":\"True\",\"hovertemplate\":\"Country=ESTONIA<br>GHG=%{y}<extra></extra>\",\"legendgroup\":\"ESTONIA\",\"marker\":{\"color\":\"#BCBD22\",\"symbol\":\"circle\"},\"name\":\"ESTONIA\",\"offsetgroup\":\"ESTONIA\",\"scalegroup\":\"y\",\"showlegend\":false,\"xaxis\":\"x2\",\"y\":[304112.0],\"yaxis\":\"y2\",\"type\":\"violin\"},{\"hovertemplate\":\"Country=ESTONIA<extra></extra>\",\"legendgroup\":\"ESTONIA\",\"marker\":{\"color\":\"#BCBD22\",\"symbol\":\"circle\"},\"mode\":\"lines\",\"name\":\"ESTONIA\",\"showlegend\":false,\"xaxis\":\"x\",\"yaxis\":\"y\",\"type\":\"scatter\"},{\"hovertemplate\":\"Country=ETHIOPIA<br>AverageTemperature=%{x}<br>GHG=%{y}<extra></extra>\",\"legendgroup\":\"ETHIOPIA\",\"marker\":{\"color\":\"#17BECF\",\"symbol\":\"circle\"},\"mode\":\"markers\",\"name\":\"ETHIOPIA\",\"orientation\":\"v\",\"showlegend\":true,\"x\":[22.93675],\"xaxis\":\"x\",\"y\":[40304.0],\"yaxis\":\"y\",\"type\":\"scatter\"},{\"alignmentgroup\":\"True\",\"hovertemplate\":\"Country=ETHIOPIA<br>AverageTemperature=%{x}<extra></extra>\",\"legendgroup\":\"ETHIOPIA\",\"marker\":{\"color\":\"#17BECF\",\"symbol\":\"circle\"},\"name\":\"ETHIOPIA\",\"notched\":true,\"offsetgroup\":\"ETHIOPIA\",\"showlegend\":false,\"x\":[22.93675],\"xaxis\":\"x3\",\"yaxis\":\"y3\",\"type\":\"box\"},{\"alignmentgroup\":\"True\",\"hovertemplate\":\"Country=ETHIOPIA<br>GHG=%{y}<extra></extra>\",\"legendgroup\":\"ETHIOPIA\",\"marker\":{\"color\":\"#17BECF\",\"symbol\":\"circle\"},\"name\":\"ETHIOPIA\",\"offsetgroup\":\"ETHIOPIA\",\"scalegroup\":\"y\",\"showlegend\":false,\"xaxis\":\"x2\",\"y\":[40304.0],\"yaxis\":\"y2\",\"type\":\"violin\"},{\"hovertemplate\":\"Country=ETHIOPIA<extra></extra>\",\"legendgroup\":\"ETHIOPIA\",\"marker\":{\"color\":\"#17BECF\",\"symbol\":\"circle\"},\"mode\":\"lines\",\"name\":\"ETHIOPIA\",\"showlegend\":false,\"xaxis\":\"x\",\"yaxis\":\"y\",\"type\":\"scatter\"},{\"hovertemplate\":\"Country=FINLAND<br>AverageTemperature=%{x}<br>GHG=%{y}<extra></extra>\",\"legendgroup\":\"FINLAND\",\"marker\":{\"color\":\"#1F77B4\",\"symbol\":\"circle\"},\"mode\":\"markers\",\"name\":\"FINLAND\",\"orientation\":\"v\",\"showlegend\":true,\"x\":[3.045916666666667],\"xaxis\":\"x\",\"y\":[117127088.0],\"yaxis\":\"y\",\"type\":\"scatter\"},{\"alignmentgroup\":\"True\",\"hovertemplate\":\"Country=FINLAND<br>AverageTemperature=%{x}<extra></extra>\",\"legendgroup\":\"FINLAND\",\"marker\":{\"color\":\"#1F77B4\",\"symbol\":\"circle\"},\"name\":\"FINLAND\",\"notched\":true,\"offsetgroup\":\"FINLAND\",\"showlegend\":false,\"x\":[3.045916666666667],\"xaxis\":\"x3\",\"yaxis\":\"y3\",\"type\":\"box\"},{\"alignmentgroup\":\"True\",\"hovertemplate\":\"Country=FINLAND<br>GHG=%{y}<extra></extra>\",\"legendgroup\":\"FINLAND\",\"marker\":{\"color\":\"#1F77B4\",\"symbol\":\"circle\"},\"name\":\"FINLAND\",\"offsetgroup\":\"FINLAND\",\"scalegroup\":\"y\",\"showlegend\":false,\"xaxis\":\"x2\",\"y\":[117127088.0],\"yaxis\":\"y2\",\"type\":\"violin\"},{\"hovertemplate\":\"Country=FINLAND<extra></extra>\",\"legendgroup\":\"FINLAND\",\"marker\":{\"color\":\"#1F77B4\",\"symbol\":\"circle\"},\"mode\":\"lines\",\"name\":\"FINLAND\",\"showlegend\":false,\"xaxis\":\"x\",\"yaxis\":\"y\",\"type\":\"scatter\"},{\"hovertemplate\":\"Country=FRANCE<br>AverageTemperature=%{x}<br>GHG=%{y}<extra></extra>\",\"legendgroup\":\"FRANCE\",\"marker\":{\"color\":\"#FF7F0E\",\"symbol\":\"circle\"},\"mode\":\"markers\",\"name\":\"FRANCE\",\"orientation\":\"v\",\"showlegend\":true,\"x\":[11.525916666666667],\"xaxis\":\"x\",\"y\":[11682198672.0],\"yaxis\":\"y\",\"type\":\"scatter\"},{\"alignmentgroup\":\"True\",\"hovertemplate\":\"Country=FRANCE<br>AverageTemperature=%{x}<extra></extra>\",\"legendgroup\":\"FRANCE\",\"marker\":{\"color\":\"#FF7F0E\",\"symbol\":\"circle\"},\"name\":\"FRANCE\",\"notched\":true,\"offsetgroup\":\"FRANCE\",\"showlegend\":false,\"x\":[11.525916666666667],\"xaxis\":\"x3\",\"yaxis\":\"y3\",\"type\":\"box\"},{\"alignmentgroup\":\"True\",\"hovertemplate\":\"Country=FRANCE<br>GHG=%{y}<extra></extra>\",\"legendgroup\":\"FRANCE\",\"marker\":{\"color\":\"#FF7F0E\",\"symbol\":\"circle\"},\"name\":\"FRANCE\",\"offsetgroup\":\"FRANCE\",\"scalegroup\":\"y\",\"showlegend\":false,\"xaxis\":\"x2\",\"y\":[11682198672.0],\"yaxis\":\"y2\",\"type\":\"violin\"},{\"hovertemplate\":\"Country=FRANCE<extra></extra>\",\"legendgroup\":\"FRANCE\",\"marker\":{\"color\":\"#FF7F0E\",\"symbol\":\"circle\"},\"mode\":\"lines\",\"name\":\"FRANCE\",\"showlegend\":false,\"xaxis\":\"x\",\"yaxis\":\"y\",\"type\":\"scatter\"},{\"hovertemplate\":\"Country=GERMANY<br>AverageTemperature=%{x}<br>GHG=%{y}<extra></extra>\",\"legendgroup\":\"GERMANY\",\"marker\":{\"color\":\"#2CA02C\",\"symbol\":\"circle\"},\"mode\":\"markers\",\"name\":\"GERMANY\",\"orientation\":\"v\",\"showlegend\":true,\"x\":[9.176499999999999],\"xaxis\":\"x\",\"y\":[28678989040.0],\"yaxis\":\"y\",\"type\":\"scatter\"},{\"alignmentgroup\":\"True\",\"hovertemplate\":\"Country=GERMANY<br>AverageTemperature=%{x}<extra></extra>\",\"legendgroup\":\"GERMANY\",\"marker\":{\"color\":\"#2CA02C\",\"symbol\":\"circle\"},\"name\":\"GERMANY\",\"notched\":true,\"offsetgroup\":\"GERMANY\",\"showlegend\":false,\"x\":[9.176499999999999],\"xaxis\":\"x3\",\"yaxis\":\"y3\",\"type\":\"box\"},{\"alignmentgroup\":\"True\",\"hovertemplate\":\"Country=GERMANY<br>GHG=%{y}<extra></extra>\",\"legendgroup\":\"GERMANY\",\"marker\":{\"color\":\"#2CA02C\",\"symbol\":\"circle\"},\"name\":\"GERMANY\",\"offsetgroup\":\"GERMANY\",\"scalegroup\":\"y\",\"showlegend\":false,\"xaxis\":\"x2\",\"y\":[28678989040.0],\"yaxis\":\"y2\",\"type\":\"violin\"},{\"hovertemplate\":\"Country=GERMANY<extra></extra>\",\"legendgroup\":\"GERMANY\",\"marker\":{\"color\":\"#2CA02C\",\"symbol\":\"circle\"},\"mode\":\"lines\",\"name\":\"GERMANY\",\"showlegend\":false,\"xaxis\":\"x\",\"yaxis\":\"y\",\"type\":\"scatter\"},{\"hovertemplate\":\"Country=GREECE<br>AverageTemperature=%{x}<br>GHG=%{y}<extra></extra>\",\"legendgroup\":\"GREECE\",\"marker\":{\"color\":\"#D62728\",\"symbol\":\"circle\"},\"mode\":\"markers\",\"name\":\"GREECE\",\"orientation\":\"v\",\"showlegend\":true,\"x\":[14.381749999999998],\"xaxis\":\"x\",\"y\":[58133024.0],\"yaxis\":\"y\",\"type\":\"scatter\"},{\"alignmentgroup\":\"True\",\"hovertemplate\":\"Country=GREECE<br>AverageTemperature=%{x}<extra></extra>\",\"legendgroup\":\"GREECE\",\"marker\":{\"color\":\"#D62728\",\"symbol\":\"circle\"},\"name\":\"GREECE\",\"notched\":true,\"offsetgroup\":\"GREECE\",\"showlegend\":false,\"x\":[14.381749999999998],\"xaxis\":\"x3\",\"yaxis\":\"y3\",\"type\":\"box\"},{\"alignmentgroup\":\"True\",\"hovertemplate\":\"Country=GREECE<br>GHG=%{y}<extra></extra>\",\"legendgroup\":\"GREECE\",\"marker\":{\"color\":\"#D62728\",\"symbol\":\"circle\"},\"name\":\"GREECE\",\"offsetgroup\":\"GREECE\",\"scalegroup\":\"y\",\"showlegend\":false,\"xaxis\":\"x2\",\"y\":[58133024.0],\"yaxis\":\"y2\",\"type\":\"violin\"},{\"hovertemplate\":\"Country=GREECE<extra></extra>\",\"legendgroup\":\"GREECE\",\"marker\":{\"color\":\"#D62728\",\"symbol\":\"circle\"},\"mode\":\"lines\",\"name\":\"GREECE\",\"showlegend\":false,\"xaxis\":\"x\",\"yaxis\":\"y\",\"type\":\"scatter\"},{\"hovertemplate\":\"Country=HONG KONG<br>AverageTemperature=%{x}<br>GHG=%{y}<extra></extra>\",\"legendgroup\":\"HONG KONG\",\"marker\":{\"color\":\"#9467BD\",\"symbol\":\"circle\"},\"mode\":\"markers\",\"name\":\"HONG KONG\",\"orientation\":\"v\",\"showlegend\":true,\"x\":[23.273083333333332],\"xaxis\":\"x\",\"y\":[238160.0],\"yaxis\":\"y\",\"type\":\"scatter\"},{\"alignmentgroup\":\"True\",\"hovertemplate\":\"Country=HONG KONG<br>AverageTemperature=%{x}<extra></extra>\",\"legendgroup\":\"HONG KONG\",\"marker\":{\"color\":\"#9467BD\",\"symbol\":\"circle\"},\"name\":\"HONG KONG\",\"notched\":true,\"offsetgroup\":\"HONG KONG\",\"showlegend\":false,\"x\":[23.273083333333332],\"xaxis\":\"x3\",\"yaxis\":\"y3\",\"type\":\"box\"},{\"alignmentgroup\":\"True\",\"hovertemplate\":\"Country=HONG KONG<br>GHG=%{y}<extra></extra>\",\"legendgroup\":\"HONG KONG\",\"marker\":{\"color\":\"#9467BD\",\"symbol\":\"circle\"},\"name\":\"HONG KONG\",\"offsetgroup\":\"HONG KONG\",\"scalegroup\":\"y\",\"showlegend\":false,\"xaxis\":\"x2\",\"y\":[238160.0],\"yaxis\":\"y2\",\"type\":\"violin\"},{\"hovertemplate\":\"Country=HONG KONG<extra></extra>\",\"legendgroup\":\"HONG KONG\",\"marker\":{\"color\":\"#9467BD\",\"symbol\":\"circle\"},\"mode\":\"lines\",\"name\":\"HONG KONG\",\"showlegend\":false,\"xaxis\":\"x\",\"yaxis\":\"y\",\"type\":\"scatter\"},{\"hovertemplate\":\"Country=HUNGARY<br>AverageTemperature=%{x}<br>GHG=%{y}<extra></extra>\",\"legendgroup\":\"HUNGARY\",\"marker\":{\"color\":\"#8C564B\",\"symbol\":\"circle\"},\"mode\":\"markers\",\"name\":\"HUNGARY\",\"orientation\":\"v\",\"showlegend\":true,\"x\":[10.288833333333335],\"xaxis\":\"x\",\"y\":[755091776.0],\"yaxis\":\"y\",\"type\":\"scatter\"},{\"alignmentgroup\":\"True\",\"hovertemplate\":\"Country=HUNGARY<br>AverageTemperature=%{x}<extra></extra>\",\"legendgroup\":\"HUNGARY\",\"marker\":{\"color\":\"#8C564B\",\"symbol\":\"circle\"},\"name\":\"HUNGARY\",\"notched\":true,\"offsetgroup\":\"HUNGARY\",\"showlegend\":false,\"x\":[10.288833333333335],\"xaxis\":\"x3\",\"yaxis\":\"y3\",\"type\":\"box\"},{\"alignmentgroup\":\"True\",\"hovertemplate\":\"Country=HUNGARY<br>GHG=%{y}<extra></extra>\",\"legendgroup\":\"HUNGARY\",\"marker\":{\"color\":\"#8C564B\",\"symbol\":\"circle\"},\"name\":\"HUNGARY\",\"offsetgroup\":\"HUNGARY\",\"scalegroup\":\"y\",\"showlegend\":false,\"xaxis\":\"x2\",\"y\":[755091776.0],\"yaxis\":\"y2\",\"type\":\"violin\"},{\"hovertemplate\":\"Country=HUNGARY<extra></extra>\",\"legendgroup\":\"HUNGARY\",\"marker\":{\"color\":\"#8C564B\",\"symbol\":\"circle\"},\"mode\":\"lines\",\"name\":\"HUNGARY\",\"showlegend\":false,\"xaxis\":\"x\",\"yaxis\":\"y\",\"type\":\"scatter\"},{\"hovertemplate\":\"Country=ICELAND<br>AverageTemperature=%{x}<br>GHG=%{y}<extra></extra>\",\"legendgroup\":\"ICELAND\",\"marker\":{\"color\":\"#E377C2\",\"symbol\":\"circle\"},\"mode\":\"markers\",\"name\":\"ICELAND\",\"orientation\":\"v\",\"showlegend\":true,\"x\":[1.248333333333333],\"xaxis\":\"x\",\"y\":[172208.0],\"yaxis\":\"y\",\"type\":\"scatter\"},{\"alignmentgroup\":\"True\",\"hovertemplate\":\"Country=ICELAND<br>AverageTemperature=%{x}<extra></extra>\",\"legendgroup\":\"ICELAND\",\"marker\":{\"color\":\"#E377C2\",\"symbol\":\"circle\"},\"name\":\"ICELAND\",\"notched\":true,\"offsetgroup\":\"ICELAND\",\"showlegend\":false,\"x\":[1.248333333333333],\"xaxis\":\"x3\",\"yaxis\":\"y3\",\"type\":\"box\"},{\"alignmentgroup\":\"True\",\"hovertemplate\":\"Country=ICELAND<br>GHG=%{y}<extra></extra>\",\"legendgroup\":\"ICELAND\",\"marker\":{\"color\":\"#E377C2\",\"symbol\":\"circle\"},\"name\":\"ICELAND\",\"offsetgroup\":\"ICELAND\",\"scalegroup\":\"y\",\"showlegend\":false,\"xaxis\":\"x2\",\"y\":[172208.0],\"yaxis\":\"y2\",\"type\":\"violin\"},{\"hovertemplate\":\"Country=ICELAND<extra></extra>\",\"legendgroup\":\"ICELAND\",\"marker\":{\"color\":\"#E377C2\",\"symbol\":\"circle\"},\"mode\":\"lines\",\"name\":\"ICELAND\",\"showlegend\":false,\"xaxis\":\"x\",\"yaxis\":\"y\",\"type\":\"scatter\"},{\"hovertemplate\":\"Country=INDIA<br>AverageTemperature=%{x}<br>GHG=%{y}<extra></extra>\",\"legendgroup\":\"INDIA\",\"marker\":{\"color\":\"#7F7F7F\",\"symbol\":\"circle\"},\"mode\":\"markers\",\"name\":\"INDIA\",\"orientation\":\"v\",\"showlegend\":true,\"x\":[24.047250000000002],\"xaxis\":\"x\",\"y\":[2127974256.0],\"yaxis\":\"y\",\"type\":\"scatter\"},{\"alignmentgroup\":\"True\",\"hovertemplate\":\"Country=INDIA<br>AverageTemperature=%{x}<extra></extra>\",\"legendgroup\":\"INDIA\",\"marker\":{\"color\":\"#7F7F7F\",\"symbol\":\"circle\"},\"name\":\"INDIA\",\"notched\":true,\"offsetgroup\":\"INDIA\",\"showlegend\":false,\"x\":[24.047250000000002],\"xaxis\":\"x3\",\"yaxis\":\"y3\",\"type\":\"box\"},{\"alignmentgroup\":\"True\",\"hovertemplate\":\"Country=INDIA<br>GHG=%{y}<extra></extra>\",\"legendgroup\":\"INDIA\",\"marker\":{\"color\":\"#7F7F7F\",\"symbol\":\"circle\"},\"name\":\"INDIA\",\"offsetgroup\":\"INDIA\",\"scalegroup\":\"y\",\"showlegend\":false,\"xaxis\":\"x2\",\"y\":[2127974256.0],\"yaxis\":\"y2\",\"type\":\"violin\"},{\"hovertemplate\":\"Country=INDIA<extra></extra>\",\"legendgroup\":\"INDIA\",\"marker\":{\"color\":\"#7F7F7F\",\"symbol\":\"circle\"},\"mode\":\"lines\",\"name\":\"INDIA\",\"showlegend\":false,\"xaxis\":\"x\",\"yaxis\":\"y\",\"type\":\"scatter\"},{\"hovertemplate\":\"Country=INDONESIA<br>AverageTemperature=%{x}<br>GHG=%{y}<extra></extra>\",\"legendgroup\":\"INDONESIA\",\"marker\":{\"color\":\"#BCBD22\",\"symbol\":\"circle\"},\"mode\":\"markers\",\"name\":\"INDONESIA\",\"orientation\":\"v\",\"showlegend\":true,\"x\":[25.757583333333333],\"xaxis\":\"x\",\"y\":[572987312.0],\"yaxis\":\"y\",\"type\":\"scatter\"},{\"alignmentgroup\":\"True\",\"hovertemplate\":\"Country=INDONESIA<br>AverageTemperature=%{x}<extra></extra>\",\"legendgroup\":\"INDONESIA\",\"marker\":{\"color\":\"#BCBD22\",\"symbol\":\"circle\"},\"name\":\"INDONESIA\",\"notched\":true,\"offsetgroup\":\"INDONESIA\",\"showlegend\":false,\"x\":[25.757583333333333],\"xaxis\":\"x3\",\"yaxis\":\"y3\",\"type\":\"box\"},{\"alignmentgroup\":\"True\",\"hovertemplate\":\"Country=INDONESIA<br>GHG=%{y}<extra></extra>\",\"legendgroup\":\"INDONESIA\",\"marker\":{\"color\":\"#BCBD22\",\"symbol\":\"circle\"},\"name\":\"INDONESIA\",\"offsetgroup\":\"INDONESIA\",\"scalegroup\":\"y\",\"showlegend\":false,\"xaxis\":\"x2\",\"y\":[572987312.0],\"yaxis\":\"y2\",\"type\":\"violin\"},{\"hovertemplate\":\"Country=INDONESIA<extra></extra>\",\"legendgroup\":\"INDONESIA\",\"marker\":{\"color\":\"#BCBD22\",\"symbol\":\"circle\"},\"mode\":\"lines\",\"name\":\"INDONESIA\",\"showlegend\":false,\"xaxis\":\"x\",\"yaxis\":\"y\",\"type\":\"scatter\"},{\"hovertemplate\":\"Country=IRAN<br>AverageTemperature=%{x}<br>GHG=%{y}<extra></extra>\",\"legendgroup\":\"IRAN\",\"marker\":{\"color\":\"#17BECF\",\"symbol\":\"circle\"},\"mode\":\"markers\",\"name\":\"IRAN\",\"orientation\":\"v\",\"showlegend\":true,\"x\":[16.7755],\"xaxis\":\"x\",\"y\":[876762224.0],\"yaxis\":\"y\",\"type\":\"scatter\"},{\"alignmentgroup\":\"True\",\"hovertemplate\":\"Country=IRAN<br>AverageTemperature=%{x}<extra></extra>\",\"legendgroup\":\"IRAN\",\"marker\":{\"color\":\"#17BECF\",\"symbol\":\"circle\"},\"name\":\"IRAN\",\"notched\":true,\"offsetgroup\":\"IRAN\",\"showlegend\":false,\"x\":[16.7755],\"xaxis\":\"x3\",\"yaxis\":\"y3\",\"type\":\"box\"},{\"alignmentgroup\":\"True\",\"hovertemplate\":\"Country=IRAN<br>GHG=%{y}<extra></extra>\",\"legendgroup\":\"IRAN\",\"marker\":{\"color\":\"#17BECF\",\"symbol\":\"circle\"},\"name\":\"IRAN\",\"offsetgroup\":\"IRAN\",\"scalegroup\":\"y\",\"showlegend\":false,\"xaxis\":\"x2\",\"y\":[876762224.0],\"yaxis\":\"y2\",\"type\":\"violin\"},{\"hovertemplate\":\"Country=IRAN<extra></extra>\",\"legendgroup\":\"IRAN\",\"marker\":{\"color\":\"#17BECF\",\"symbol\":\"circle\"},\"mode\":\"lines\",\"name\":\"IRAN\",\"showlegend\":false,\"xaxis\":\"x\",\"yaxis\":\"y\",\"type\":\"scatter\"},{\"hovertemplate\":\"Country=IRAQ<br>AverageTemperature=%{x}<br>GHG=%{y}<extra></extra>\",\"legendgroup\":\"IRAQ\",\"marker\":{\"color\":\"#1F77B4\",\"symbol\":\"circle\"},\"mode\":\"markers\",\"name\":\"IRAQ\",\"orientation\":\"v\",\"showlegend\":true,\"x\":[21.055],\"xaxis\":\"x\",\"y\":[129097376.0],\"yaxis\":\"y\",\"type\":\"scatter\"},{\"alignmentgroup\":\"True\",\"hovertemplate\":\"Country=IRAQ<br>AverageTemperature=%{x}<extra></extra>\",\"legendgroup\":\"IRAQ\",\"marker\":{\"color\":\"#1F77B4\",\"symbol\":\"circle\"},\"name\":\"IRAQ\",\"notched\":true,\"offsetgroup\":\"IRAQ\",\"showlegend\":false,\"x\":[21.055],\"xaxis\":\"x3\",\"yaxis\":\"y3\",\"type\":\"box\"},{\"alignmentgroup\":\"True\",\"hovertemplate\":\"Country=IRAQ<br>GHG=%{y}<extra></extra>\",\"legendgroup\":\"IRAQ\",\"marker\":{\"color\":\"#1F77B4\",\"symbol\":\"circle\"},\"name\":\"IRAQ\",\"offsetgroup\":\"IRAQ\",\"scalegroup\":\"y\",\"showlegend\":false,\"xaxis\":\"x2\",\"y\":[129097376.0],\"yaxis\":\"y2\",\"type\":\"violin\"},{\"hovertemplate\":\"Country=IRAQ<extra></extra>\",\"legendgroup\":\"IRAQ\",\"marker\":{\"color\":\"#1F77B4\",\"symbol\":\"circle\"},\"mode\":\"lines\",\"name\":\"IRAQ\",\"showlegend\":false,\"xaxis\":\"x\",\"yaxis\":\"y\",\"type\":\"scatter\"},{\"hovertemplate\":\"Country=IRELAND<br>AverageTemperature=%{x}<br>GHG=%{y}<extra></extra>\",\"legendgroup\":\"IRELAND\",\"marker\":{\"color\":\"#FF7F0E\",\"symbol\":\"circle\"},\"mode\":\"markers\",\"name\":\"IRELAND\",\"orientation\":\"v\",\"showlegend\":true,\"x\":[10.576583333333334],\"xaxis\":\"x\",\"y\":[224764416.0],\"yaxis\":\"y\",\"type\":\"scatter\"},{\"alignmentgroup\":\"True\",\"hovertemplate\":\"Country=IRELAND<br>AverageTemperature=%{x}<extra></extra>\",\"legendgroup\":\"IRELAND\",\"marker\":{\"color\":\"#FF7F0E\",\"symbol\":\"circle\"},\"name\":\"IRELAND\",\"notched\":true,\"offsetgroup\":\"IRELAND\",\"showlegend\":false,\"x\":[10.576583333333334],\"xaxis\":\"x3\",\"yaxis\":\"y3\",\"type\":\"box\"},{\"alignmentgroup\":\"True\",\"hovertemplate\":\"Country=IRELAND<br>GHG=%{y}<extra></extra>\",\"legendgroup\":\"IRELAND\",\"marker\":{\"color\":\"#FF7F0E\",\"symbol\":\"circle\"},\"name\":\"IRELAND\",\"offsetgroup\":\"IRELAND\",\"scalegroup\":\"y\",\"showlegend\":false,\"xaxis\":\"x2\",\"y\":[224764416.0],\"yaxis\":\"y2\",\"type\":\"violin\"},{\"hovertemplate\":\"Country=IRELAND<extra></extra>\",\"legendgroup\":\"IRELAND\",\"marker\":{\"color\":\"#FF7F0E\",\"symbol\":\"circle\"},\"mode\":\"lines\",\"name\":\"IRELAND\",\"showlegend\":false,\"xaxis\":\"x\",\"yaxis\":\"y\",\"type\":\"scatter\"},{\"hovertemplate\":\"Country=ISRAEL<br>AverageTemperature=%{x}<br>GHG=%{y}<extra></extra>\",\"legendgroup\":\"ISRAEL\",\"marker\":{\"color\":\"#2CA02C\",\"symbol\":\"circle\"},\"mode\":\"markers\",\"name\":\"ISRAEL\",\"orientation\":\"v\",\"showlegend\":true,\"x\":[18.877083333333335],\"xaxis\":\"x\",\"y\":[1604832.0],\"yaxis\":\"y\",\"type\":\"scatter\"},{\"alignmentgroup\":\"True\",\"hovertemplate\":\"Country=ISRAEL<br>AverageTemperature=%{x}<extra></extra>\",\"legendgroup\":\"ISRAEL\",\"marker\":{\"color\":\"#2CA02C\",\"symbol\":\"circle\"},\"name\":\"ISRAEL\",\"notched\":true,\"offsetgroup\":\"ISRAEL\",\"showlegend\":false,\"x\":[18.877083333333335],\"xaxis\":\"x3\",\"yaxis\":\"y3\",\"type\":\"box\"},{\"alignmentgroup\":\"True\",\"hovertemplate\":\"Country=ISRAEL<br>GHG=%{y}<extra></extra>\",\"legendgroup\":\"ISRAEL\",\"marker\":{\"color\":\"#2CA02C\",\"symbol\":\"circle\"},\"name\":\"ISRAEL\",\"offsetgroup\":\"ISRAEL\",\"scalegroup\":\"y\",\"showlegend\":false,\"xaxis\":\"x2\",\"y\":[1604832.0],\"yaxis\":\"y2\",\"type\":\"violin\"},{\"hovertemplate\":\"Country=ISRAEL<extra></extra>\",\"legendgroup\":\"ISRAEL\",\"marker\":{\"color\":\"#2CA02C\",\"symbol\":\"circle\"},\"mode\":\"lines\",\"name\":\"ISRAEL\",\"showlegend\":false,\"xaxis\":\"x\",\"yaxis\":\"y\",\"type\":\"scatter\"},{\"hovertemplate\":\"Country=ITALY<br>AverageTemperature=%{x}<br>GHG=%{y}<extra></extra>\",\"legendgroup\":\"ITALY\",\"marker\":{\"color\":\"#D62728\",\"symbol\":\"circle\"},\"mode\":\"markers\",\"name\":\"ITALY\",\"orientation\":\"v\",\"showlegend\":true,\"x\":[13.354666666666667],\"xaxis\":\"x\",\"y\":[1650353536.0],\"yaxis\":\"y\",\"type\":\"scatter\"},{\"alignmentgroup\":\"True\",\"hovertemplate\":\"Country=ITALY<br>AverageTemperature=%{x}<extra></extra>\",\"legendgroup\":\"ITALY\",\"marker\":{\"color\":\"#D62728\",\"symbol\":\"circle\"},\"name\":\"ITALY\",\"notched\":true,\"offsetgroup\":\"ITALY\",\"showlegend\":false,\"x\":[13.354666666666667],\"xaxis\":\"x3\",\"yaxis\":\"y3\",\"type\":\"box\"},{\"alignmentgroup\":\"True\",\"hovertemplate\":\"Country=ITALY<br>GHG=%{y}<extra></extra>\",\"legendgroup\":\"ITALY\",\"marker\":{\"color\":\"#D62728\",\"symbol\":\"circle\"},\"name\":\"ITALY\",\"offsetgroup\":\"ITALY\",\"scalegroup\":\"y\",\"showlegend\":false,\"xaxis\":\"x2\",\"y\":[1650353536.0],\"yaxis\":\"y2\",\"type\":\"violin\"},{\"hovertemplate\":\"Country=ITALY<extra></extra>\",\"legendgroup\":\"ITALY\",\"marker\":{\"color\":\"#D62728\",\"symbol\":\"circle\"},\"mode\":\"lines\",\"name\":\"ITALY\",\"showlegend\":false,\"xaxis\":\"x\",\"yaxis\":\"y\",\"type\":\"scatter\"},{\"hovertemplate\":\"Country=JAPAN<br>AverageTemperature=%{x}<br>GHG=%{y}<extra></extra>\",\"legendgroup\":\"JAPAN\",\"marker\":{\"color\":\"#9467BD\",\"symbol\":\"circle\"},\"mode\":\"markers\",\"name\":\"JAPAN\",\"orientation\":\"v\",\"showlegend\":true,\"x\":[12.102583333333333],\"xaxis\":\"x\",\"y\":[4014798688.0],\"yaxis\":\"y\",\"type\":\"scatter\"},{\"alignmentgroup\":\"True\",\"hovertemplate\":\"Country=JAPAN<br>AverageTemperature=%{x}<extra></extra>\",\"legendgroup\":\"JAPAN\",\"marker\":{\"color\":\"#9467BD\",\"symbol\":\"circle\"},\"name\":\"JAPAN\",\"notched\":true,\"offsetgroup\":\"JAPAN\",\"showlegend\":false,\"x\":[12.102583333333333],\"xaxis\":\"x3\",\"yaxis\":\"y3\",\"type\":\"box\"},{\"alignmentgroup\":\"True\",\"hovertemplate\":\"Country=JAPAN<br>GHG=%{y}<extra></extra>\",\"legendgroup\":\"JAPAN\",\"marker\":{\"color\":\"#9467BD\",\"symbol\":\"circle\"},\"name\":\"JAPAN\",\"offsetgroup\":\"JAPAN\",\"scalegroup\":\"y\",\"showlegend\":false,\"xaxis\":\"x2\",\"y\":[4014798688.0],\"yaxis\":\"y2\",\"type\":\"violin\"},{\"hovertemplate\":\"Country=JAPAN<extra></extra>\",\"legendgroup\":\"JAPAN\",\"marker\":{\"color\":\"#9467BD\",\"symbol\":\"circle\"},\"mode\":\"lines\",\"name\":\"JAPAN\",\"showlegend\":false,\"xaxis\":\"x\",\"yaxis\":\"y\",\"type\":\"scatter\"},{\"hovertemplate\":\"Country=KUWAIT<br>AverageTemperature=%{x}<br>GHG=%{y}<extra></extra>\",\"legendgroup\":\"KUWAIT\",\"marker\":{\"color\":\"#8C564B\",\"symbol\":\"circle\"},\"mode\":\"markers\",\"name\":\"KUWAIT\",\"orientation\":\"v\",\"showlegend\":true,\"x\":[24.63525],\"xaxis\":\"x\",\"y\":[10603616.0],\"yaxis\":\"y\",\"type\":\"scatter\"},{\"alignmentgroup\":\"True\",\"hovertemplate\":\"Country=KUWAIT<br>AverageTemperature=%{x}<extra></extra>\",\"legendgroup\":\"KUWAIT\",\"marker\":{\"color\":\"#8C564B\",\"symbol\":\"circle\"},\"name\":\"KUWAIT\",\"notched\":true,\"offsetgroup\":\"KUWAIT\",\"showlegend\":false,\"x\":[24.63525],\"xaxis\":\"x3\",\"yaxis\":\"y3\",\"type\":\"box\"},{\"alignmentgroup\":\"True\",\"hovertemplate\":\"Country=KUWAIT<br>GHG=%{y}<extra></extra>\",\"legendgroup\":\"KUWAIT\",\"marker\":{\"color\":\"#8C564B\",\"symbol\":\"circle\"},\"name\":\"KUWAIT\",\"offsetgroup\":\"KUWAIT\",\"scalegroup\":\"y\",\"showlegend\":false,\"xaxis\":\"x2\",\"y\":[10603616.0],\"yaxis\":\"y2\",\"type\":\"violin\"},{\"hovertemplate\":\"Country=KUWAIT<extra></extra>\",\"legendgroup\":\"KUWAIT\",\"marker\":{\"color\":\"#8C564B\",\"symbol\":\"circle\"},\"mode\":\"lines\",\"name\":\"KUWAIT\",\"showlegend\":false,\"xaxis\":\"x\",\"yaxis\":\"y\",\"type\":\"scatter\"},{\"hovertemplate\":\"Country=LATVIA<br>AverageTemperature=%{x}<br>GHG=%{y}<extra></extra>\",\"legendgroup\":\"LATVIA\",\"marker\":{\"color\":\"#E377C2\",\"symbol\":\"circle\"},\"mode\":\"markers\",\"name\":\"LATVIA\",\"orientation\":\"v\",\"showlegend\":true,\"x\":[7.181750000000001],\"xaxis\":\"x\",\"y\":[494640.0],\"yaxis\":\"y\",\"type\":\"scatter\"},{\"alignmentgroup\":\"True\",\"hovertemplate\":\"Country=LATVIA<br>AverageTemperature=%{x}<extra></extra>\",\"legendgroup\":\"LATVIA\",\"marker\":{\"color\":\"#E377C2\",\"symbol\":\"circle\"},\"name\":\"LATVIA\",\"notched\":true,\"offsetgroup\":\"LATVIA\",\"showlegend\":false,\"x\":[7.181750000000001],\"xaxis\":\"x3\",\"yaxis\":\"y3\",\"type\":\"box\"},{\"alignmentgroup\":\"True\",\"hovertemplate\":\"Country=LATVIA<br>GHG=%{y}<extra></extra>\",\"legendgroup\":\"LATVIA\",\"marker\":{\"color\":\"#E377C2\",\"symbol\":\"circle\"},\"name\":\"LATVIA\",\"offsetgroup\":\"LATVIA\",\"scalegroup\":\"y\",\"showlegend\":false,\"xaxis\":\"x2\",\"y\":[494640.0],\"yaxis\":\"y2\",\"type\":\"violin\"},{\"hovertemplate\":\"Country=LATVIA<extra></extra>\",\"legendgroup\":\"LATVIA\",\"marker\":{\"color\":\"#E377C2\",\"symbol\":\"circle\"},\"mode\":\"lines\",\"name\":\"LATVIA\",\"showlegend\":false,\"xaxis\":\"x\",\"yaxis\":\"y\",\"type\":\"scatter\"},{\"hovertemplate\":\"Country=LEBANON<br>AverageTemperature=%{x}<br>GHG=%{y}<extra></extra>\",\"legendgroup\":\"LEBANON\",\"marker\":{\"color\":\"#7F7F7F\",\"symbol\":\"circle\"},\"mode\":\"markers\",\"name\":\"LEBANON\",\"orientation\":\"v\",\"showlegend\":true,\"x\":[17.01975],\"xaxis\":\"x\",\"y\":[1271408.0],\"yaxis\":\"y\",\"type\":\"scatter\"},{\"alignmentgroup\":\"True\",\"hovertemplate\":\"Country=LEBANON<br>AverageTemperature=%{x}<extra></extra>\",\"legendgroup\":\"LEBANON\",\"marker\":{\"color\":\"#7F7F7F\",\"symbol\":\"circle\"},\"name\":\"LEBANON\",\"notched\":true,\"offsetgroup\":\"LEBANON\",\"showlegend\":false,\"x\":[17.01975],\"xaxis\":\"x3\",\"yaxis\":\"y3\",\"type\":\"box\"},{\"alignmentgroup\":\"True\",\"hovertemplate\":\"Country=LEBANON<br>GHG=%{y}<extra></extra>\",\"legendgroup\":\"LEBANON\",\"marker\":{\"color\":\"#7F7F7F\",\"symbol\":\"circle\"},\"name\":\"LEBANON\",\"offsetgroup\":\"LEBANON\",\"scalegroup\":\"y\",\"showlegend\":false,\"xaxis\":\"x2\",\"y\":[1271408.0],\"yaxis\":\"y2\",\"type\":\"violin\"},{\"hovertemplate\":\"Country=LEBANON<extra></extra>\",\"legendgroup\":\"LEBANON\",\"marker\":{\"color\":\"#7F7F7F\",\"symbol\":\"circle\"},\"mode\":\"lines\",\"name\":\"LEBANON\",\"showlegend\":false,\"xaxis\":\"x\",\"yaxis\":\"y\",\"type\":\"scatter\"},{\"hovertemplate\":\"Country=LUXEMBOURG<br>AverageTemperature=%{x}<br>GHG=%{y}<extra></extra>\",\"legendgroup\":\"LUXEMBOURG\",\"marker\":{\"color\":\"#BCBD22\",\"symbol\":\"circle\"},\"mode\":\"markers\",\"name\":\"LUXEMBOURG\",\"orientation\":\"v\",\"showlegend\":true,\"x\":[10.12075],\"xaxis\":\"x\",\"y\":[216176.0],\"yaxis\":\"y\",\"type\":\"scatter\"},{\"alignmentgroup\":\"True\",\"hovertemplate\":\"Country=LUXEMBOURG<br>AverageTemperature=%{x}<extra></extra>\",\"legendgroup\":\"LUXEMBOURG\",\"marker\":{\"color\":\"#BCBD22\",\"symbol\":\"circle\"},\"name\":\"LUXEMBOURG\",\"notched\":true,\"offsetgroup\":\"LUXEMBOURG\",\"showlegend\":false,\"x\":[10.12075],\"xaxis\":\"x3\",\"yaxis\":\"y3\",\"type\":\"box\"},{\"alignmentgroup\":\"True\",\"hovertemplate\":\"Country=LUXEMBOURG<br>GHG=%{y}<extra></extra>\",\"legendgroup\":\"LUXEMBOURG\",\"marker\":{\"color\":\"#BCBD22\",\"symbol\":\"circle\"},\"name\":\"LUXEMBOURG\",\"offsetgroup\":\"LUXEMBOURG\",\"scalegroup\":\"y\",\"showlegend\":false,\"xaxis\":\"x2\",\"y\":[216176.0],\"yaxis\":\"y2\",\"type\":\"violin\"},{\"hovertemplate\":\"Country=LUXEMBOURG<extra></extra>\",\"legendgroup\":\"LUXEMBOURG\",\"marker\":{\"color\":\"#BCBD22\",\"symbol\":\"circle\"},\"mode\":\"lines\",\"name\":\"LUXEMBOURG\",\"showlegend\":false,\"xaxis\":\"x\",\"yaxis\":\"y\",\"type\":\"scatter\"},{\"hovertemplate\":\"Country=MADAGASCAR<br>AverageTemperature=%{x}<br>GHG=%{y}<extra></extra>\",\"legendgroup\":\"MADAGASCAR\",\"marker\":{\"color\":\"#17BECF\",\"symbol\":\"circle\"},\"mode\":\"markers\",\"name\":\"MADAGASCAR\",\"orientation\":\"v\",\"showlegend\":true,\"x\":[22.988583333333334],\"xaxis\":\"x\",\"y\":[32976.0],\"yaxis\":\"y\",\"type\":\"scatter\"},{\"alignmentgroup\":\"True\",\"hovertemplate\":\"Country=MADAGASCAR<br>AverageTemperature=%{x}<extra></extra>\",\"legendgroup\":\"MADAGASCAR\",\"marker\":{\"color\":\"#17BECF\",\"symbol\":\"circle\"},\"name\":\"MADAGASCAR\",\"notched\":true,\"offsetgroup\":\"MADAGASCAR\",\"showlegend\":false,\"x\":[22.988583333333334],\"xaxis\":\"x3\",\"yaxis\":\"y3\",\"type\":\"box\"},{\"alignmentgroup\":\"True\",\"hovertemplate\":\"Country=MADAGASCAR<br>GHG=%{y}<extra></extra>\",\"legendgroup\":\"MADAGASCAR\",\"marker\":{\"color\":\"#17BECF\",\"symbol\":\"circle\"},\"name\":\"MADAGASCAR\",\"offsetgroup\":\"MADAGASCAR\",\"scalegroup\":\"y\",\"showlegend\":false,\"xaxis\":\"x2\",\"y\":[32976.0],\"yaxis\":\"y2\",\"type\":\"violin\"},{\"hovertemplate\":\"Country=MADAGASCAR<extra></extra>\",\"legendgroup\":\"MADAGASCAR\",\"marker\":{\"color\":\"#17BECF\",\"symbol\":\"circle\"},\"mode\":\"lines\",\"name\":\"MADAGASCAR\",\"showlegend\":false,\"xaxis\":\"x\",\"yaxis\":\"y\",\"type\":\"scatter\"},{\"hovertemplate\":\"Country=MALAYSIA<br>AverageTemperature=%{x}<br>GHG=%{y}<extra></extra>\",\"legendgroup\":\"MALAYSIA\",\"marker\":{\"color\":\"#1F77B4\",\"symbol\":\"circle\"},\"mode\":\"markers\",\"name\":\"MALAYSIA\",\"orientation\":\"v\",\"showlegend\":true,\"x\":[25.980416666666667],\"xaxis\":\"x\",\"y\":[65717504.0],\"yaxis\":\"y\",\"type\":\"scatter\"},{\"alignmentgroup\":\"True\",\"hovertemplate\":\"Country=MALAYSIA<br>AverageTemperature=%{x}<extra></extra>\",\"legendgroup\":\"MALAYSIA\",\"marker\":{\"color\":\"#1F77B4\",\"symbol\":\"circle\"},\"name\":\"MALAYSIA\",\"notched\":true,\"offsetgroup\":\"MALAYSIA\",\"showlegend\":false,\"x\":[25.980416666666667],\"xaxis\":\"x3\",\"yaxis\":\"y3\",\"type\":\"box\"},{\"alignmentgroup\":\"True\",\"hovertemplate\":\"Country=MALAYSIA<br>GHG=%{y}<extra></extra>\",\"legendgroup\":\"MALAYSIA\",\"marker\":{\"color\":\"#1F77B4\",\"symbol\":\"circle\"},\"name\":\"MALAYSIA\",\"offsetgroup\":\"MALAYSIA\",\"scalegroup\":\"y\",\"showlegend\":false,\"xaxis\":\"x2\",\"y\":[65717504.0],\"yaxis\":\"y2\",\"type\":\"violin\"},{\"hovertemplate\":\"Country=MALAYSIA<extra></extra>\",\"legendgroup\":\"MALAYSIA\",\"marker\":{\"color\":\"#1F77B4\",\"symbol\":\"circle\"},\"mode\":\"lines\",\"name\":\"MALAYSIA\",\"showlegend\":false,\"xaxis\":\"x\",\"yaxis\":\"y\",\"type\":\"scatter\"},{\"hovertemplate\":\"Country=MOROCCO<br>AverageTemperature=%{x}<br>GHG=%{y}<extra></extra>\",\"legendgroup\":\"MOROCCO\",\"marker\":{\"color\":\"#FF7F0E\",\"symbol\":\"circle\"},\"mode\":\"markers\",\"name\":\"MOROCCO\",\"orientation\":\"v\",\"showlegend\":true,\"x\":[18.150333333333332],\"xaxis\":\"x\",\"y\":[8273312.0],\"yaxis\":\"y\",\"type\":\"scatter\"},{\"alignmentgroup\":\"True\",\"hovertemplate\":\"Country=MOROCCO<br>AverageTemperature=%{x}<extra></extra>\",\"legendgroup\":\"MOROCCO\",\"marker\":{\"color\":\"#FF7F0E\",\"symbol\":\"circle\"},\"name\":\"MOROCCO\",\"notched\":true,\"offsetgroup\":\"MOROCCO\",\"showlegend\":false,\"x\":[18.150333333333332],\"xaxis\":\"x3\",\"yaxis\":\"y3\",\"type\":\"box\"},{\"alignmentgroup\":\"True\",\"hovertemplate\":\"Country=MOROCCO<br>GHG=%{y}<extra></extra>\",\"legendgroup\":\"MOROCCO\",\"marker\":{\"color\":\"#FF7F0E\",\"symbol\":\"circle\"},\"name\":\"MOROCCO\",\"offsetgroup\":\"MOROCCO\",\"scalegroup\":\"y\",\"showlegend\":false,\"xaxis\":\"x2\",\"y\":[8273312.0],\"yaxis\":\"y2\",\"type\":\"violin\"},{\"hovertemplate\":\"Country=MOROCCO<extra></extra>\",\"legendgroup\":\"MOROCCO\",\"marker\":{\"color\":\"#FF7F0E\",\"symbol\":\"circle\"},\"mode\":\"lines\",\"name\":\"MOROCCO\",\"showlegend\":false,\"xaxis\":\"x\",\"yaxis\":\"y\",\"type\":\"scatter\"},{\"hovertemplate\":\"Country=MOZAMBIQUE<br>AverageTemperature=%{x}<br>GHG=%{y}<extra></extra>\",\"legendgroup\":\"MOZAMBIQUE\",\"marker\":{\"color\":\"#2CA02C\",\"symbol\":\"circle\"},\"mode\":\"markers\",\"name\":\"MOZAMBIQUE\",\"orientation\":\"v\",\"showlegend\":true,\"x\":[23.798333333333332],\"xaxis\":\"x\",\"y\":[1066224.0],\"yaxis\":\"y\",\"type\":\"scatter\"},{\"alignmentgroup\":\"True\",\"hovertemplate\":\"Country=MOZAMBIQUE<br>AverageTemperature=%{x}<extra></extra>\",\"legendgroup\":\"MOZAMBIQUE\",\"marker\":{\"color\":\"#2CA02C\",\"symbol\":\"circle\"},\"name\":\"MOZAMBIQUE\",\"notched\":true,\"offsetgroup\":\"MOZAMBIQUE\",\"showlegend\":false,\"x\":[23.798333333333332],\"xaxis\":\"x3\",\"yaxis\":\"y3\",\"type\":\"box\"},{\"alignmentgroup\":\"True\",\"hovertemplate\":\"Country=MOZAMBIQUE<br>GHG=%{y}<extra></extra>\",\"legendgroup\":\"MOZAMBIQUE\",\"marker\":{\"color\":\"#2CA02C\",\"symbol\":\"circle\"},\"name\":\"MOZAMBIQUE\",\"offsetgroup\":\"MOZAMBIQUE\",\"scalegroup\":\"y\",\"showlegend\":false,\"xaxis\":\"x2\",\"y\":[1066224.0],\"yaxis\":\"y2\",\"type\":\"violin\"},{\"hovertemplate\":\"Country=MOZAMBIQUE<extra></extra>\",\"legendgroup\":\"MOZAMBIQUE\",\"marker\":{\"color\":\"#2CA02C\",\"symbol\":\"circle\"},\"mode\":\"lines\",\"name\":\"MOZAMBIQUE\",\"showlegend\":false,\"xaxis\":\"x\",\"yaxis\":\"y\",\"type\":\"scatter\"},{\"hovertemplate\":\"Country=NETHERLANDS<br>AverageTemperature=%{x}<br>GHG=%{y}<extra></extra>\",\"legendgroup\":\"NETHERLANDS\",\"marker\":{\"color\":\"#D62728\",\"symbol\":\"circle\"},\"mode\":\"markers\",\"name\":\"NETHERLANDS\",\"orientation\":\"v\",\"showlegend\":true,\"x\":[10.1195],\"xaxis\":\"x\",\"y\":[1823994160.0],\"yaxis\":\"y\",\"type\":\"scatter\"},{\"alignmentgroup\":\"True\",\"hovertemplate\":\"Country=NETHERLANDS<br>AverageTemperature=%{x}<extra></extra>\",\"legendgroup\":\"NETHERLANDS\",\"marker\":{\"color\":\"#D62728\",\"symbol\":\"circle\"},\"name\":\"NETHERLANDS\",\"notched\":true,\"offsetgroup\":\"NETHERLANDS\",\"showlegend\":false,\"x\":[10.1195],\"xaxis\":\"x3\",\"yaxis\":\"y3\",\"type\":\"box\"},{\"alignmentgroup\":\"True\",\"hovertemplate\":\"Country=NETHERLANDS<br>GHG=%{y}<extra></extra>\",\"legendgroup\":\"NETHERLANDS\",\"marker\":{\"color\":\"#D62728\",\"symbol\":\"circle\"},\"name\":\"NETHERLANDS\",\"offsetgroup\":\"NETHERLANDS\",\"scalegroup\":\"y\",\"showlegend\":false,\"xaxis\":\"x2\",\"y\":[1823994160.0],\"yaxis\":\"y2\",\"type\":\"violin\"},{\"hovertemplate\":\"Country=NETHERLANDS<extra></extra>\",\"legendgroup\":\"NETHERLANDS\",\"marker\":{\"color\":\"#D62728\",\"symbol\":\"circle\"},\"mode\":\"lines\",\"name\":\"NETHERLANDS\",\"showlegend\":false,\"xaxis\":\"x\",\"yaxis\":\"y\",\"type\":\"scatter\"},{\"hovertemplate\":\"Country=NEW ZEALAND<br>AverageTemperature=%{x}<br>GHG=%{y}<extra></extra>\",\"legendgroup\":\"NEW ZEALAND\",\"marker\":{\"color\":\"#9467BD\",\"symbol\":\"circle\"},\"mode\":\"markers\",\"name\":\"NEW ZEALAND\",\"orientation\":\"v\",\"showlegend\":true,\"x\":[10.464666666666666],\"xaxis\":\"x\",\"y\":[245902032.0],\"yaxis\":\"y\",\"type\":\"scatter\"},{\"alignmentgroup\":\"True\",\"hovertemplate\":\"Country=NEW ZEALAND<br>AverageTemperature=%{x}<extra></extra>\",\"legendgroup\":\"NEW ZEALAND\",\"marker\":{\"color\":\"#9467BD\",\"symbol\":\"circle\"},\"name\":\"NEW ZEALAND\",\"notched\":true,\"offsetgroup\":\"NEW ZEALAND\",\"showlegend\":false,\"x\":[10.464666666666666],\"xaxis\":\"x3\",\"yaxis\":\"y3\",\"type\":\"box\"},{\"alignmentgroup\":\"True\",\"hovertemplate\":\"Country=NEW ZEALAND<br>GHG=%{y}<extra></extra>\",\"legendgroup\":\"NEW ZEALAND\",\"marker\":{\"color\":\"#9467BD\",\"symbol\":\"circle\"},\"name\":\"NEW ZEALAND\",\"offsetgroup\":\"NEW ZEALAND\",\"scalegroup\":\"y\",\"showlegend\":false,\"xaxis\":\"x2\",\"y\":[245902032.0],\"yaxis\":\"y2\",\"type\":\"violin\"},{\"hovertemplate\":\"Country=NEW ZEALAND<extra></extra>\",\"legendgroup\":\"NEW ZEALAND\",\"marker\":{\"color\":\"#9467BD\",\"symbol\":\"circle\"},\"mode\":\"lines\",\"name\":\"NEW ZEALAND\",\"showlegend\":false,\"xaxis\":\"x\",\"yaxis\":\"y\",\"type\":\"scatter\"},{\"hovertemplate\":\"Country=NIGERIA<br>AverageTemperature=%{x}<br>GHG=%{y}<extra></extra>\",\"legendgroup\":\"NIGERIA\",\"marker\":{\"color\":\"#8C564B\",\"symbol\":\"circle\"},\"mode\":\"markers\",\"name\":\"NIGERIA\",\"orientation\":\"v\",\"showlegend\":true,\"x\":[27.0685],\"xaxis\":\"x\",\"y\":[29718704.0],\"yaxis\":\"y\",\"type\":\"scatter\"},{\"alignmentgroup\":\"True\",\"hovertemplate\":\"Country=NIGERIA<br>AverageTemperature=%{x}<extra></extra>\",\"legendgroup\":\"NIGERIA\",\"marker\":{\"color\":\"#8C564B\",\"symbol\":\"circle\"},\"name\":\"NIGERIA\",\"notched\":true,\"offsetgroup\":\"NIGERIA\",\"showlegend\":false,\"x\":[27.0685],\"xaxis\":\"x3\",\"yaxis\":\"y3\",\"type\":\"box\"},{\"alignmentgroup\":\"True\",\"hovertemplate\":\"Country=NIGERIA<br>GHG=%{y}<extra></extra>\",\"legendgroup\":\"NIGERIA\",\"marker\":{\"color\":\"#8C564B\",\"symbol\":\"circle\"},\"name\":\"NIGERIA\",\"offsetgroup\":\"NIGERIA\",\"scalegroup\":\"y\",\"showlegend\":false,\"xaxis\":\"x2\",\"y\":[29718704.0],\"yaxis\":\"y2\",\"type\":\"violin\"},{\"hovertemplate\":\"Country=NIGERIA<extra></extra>\",\"legendgroup\":\"NIGERIA\",\"marker\":{\"color\":\"#8C564B\",\"symbol\":\"circle\"},\"mode\":\"lines\",\"name\":\"NIGERIA\",\"showlegend\":false,\"xaxis\":\"x\",\"yaxis\":\"y\",\"type\":\"scatter\"},{\"hovertemplate\":\"Country=NORTH KOREA<br>AverageTemperature=%{x}<br>GHG=%{y}<extra></extra>\",\"legendgroup\":\"NORTH KOREA\",\"marker\":{\"color\":\"#E377C2\",\"symbol\":\"circle\"},\"mode\":\"markers\",\"name\":\"NORTH KOREA\",\"orientation\":\"v\",\"showlegend\":true,\"x\":[7.137250000000001],\"xaxis\":\"x\",\"y\":[3396528.0],\"yaxis\":\"y\",\"type\":\"scatter\"},{\"alignmentgroup\":\"True\",\"hovertemplate\":\"Country=NORTH KOREA<br>AverageTemperature=%{x}<extra></extra>\",\"legendgroup\":\"NORTH KOREA\",\"marker\":{\"color\":\"#E377C2\",\"symbol\":\"circle\"},\"name\":\"NORTH KOREA\",\"notched\":true,\"offsetgroup\":\"NORTH KOREA\",\"showlegend\":false,\"x\":[7.137250000000001],\"xaxis\":\"x3\",\"yaxis\":\"y3\",\"type\":\"box\"},{\"alignmentgroup\":\"True\",\"hovertemplate\":\"Country=NORTH KOREA<br>GHG=%{y}<extra></extra>\",\"legendgroup\":\"NORTH KOREA\",\"marker\":{\"color\":\"#E377C2\",\"symbol\":\"circle\"},\"name\":\"NORTH KOREA\",\"offsetgroup\":\"NORTH KOREA\",\"scalegroup\":\"y\",\"showlegend\":false,\"xaxis\":\"x2\",\"y\":[3396528.0],\"yaxis\":\"y2\",\"type\":\"violin\"},{\"hovertemplate\":\"Country=NORTH KOREA<extra></extra>\",\"legendgroup\":\"NORTH KOREA\",\"marker\":{\"color\":\"#E377C2\",\"symbol\":\"circle\"},\"mode\":\"lines\",\"name\":\"NORTH KOREA\",\"showlegend\":false,\"xaxis\":\"x\",\"yaxis\":\"y\",\"type\":\"scatter\"},{\"hovertemplate\":\"Country=NORWAY<br>AverageTemperature=%{x}<br>GHG=%{y}<extra></extra>\",\"legendgroup\":\"NORWAY\",\"marker\":{\"color\":\"#7F7F7F\",\"symbol\":\"circle\"},\"mode\":\"markers\",\"name\":\"NORWAY\",\"orientation\":\"v\",\"showlegend\":true,\"x\":[1.2173333333333334],\"xaxis\":\"x\",\"y\":[409653520.0],\"yaxis\":\"y\",\"type\":\"scatter\"},{\"alignmentgroup\":\"True\",\"hovertemplate\":\"Country=NORWAY<br>AverageTemperature=%{x}<extra></extra>\",\"legendgroup\":\"NORWAY\",\"marker\":{\"color\":\"#7F7F7F\",\"symbol\":\"circle\"},\"name\":\"NORWAY\",\"notched\":true,\"offsetgroup\":\"NORWAY\",\"showlegend\":false,\"x\":[1.2173333333333334],\"xaxis\":\"x3\",\"yaxis\":\"y3\",\"type\":\"box\"},{\"alignmentgroup\":\"True\",\"hovertemplate\":\"Country=NORWAY<br>GHG=%{y}<extra></extra>\",\"legendgroup\":\"NORWAY\",\"marker\":{\"color\":\"#7F7F7F\",\"symbol\":\"circle\"},\"name\":\"NORWAY\",\"offsetgroup\":\"NORWAY\",\"scalegroup\":\"y\",\"showlegend\":false,\"xaxis\":\"x2\",\"y\":[409653520.0],\"yaxis\":\"y2\",\"type\":\"violin\"},{\"hovertemplate\":\"Country=NORWAY<extra></extra>\",\"legendgroup\":\"NORWAY\",\"marker\":{\"color\":\"#7F7F7F\",\"symbol\":\"circle\"},\"mode\":\"lines\",\"name\":\"NORWAY\",\"showlegend\":false,\"xaxis\":\"x\",\"yaxis\":\"y\",\"type\":\"scatter\"},{\"hovertemplate\":\"Country=PERU<br>AverageTemperature=%{x}<br>GHG=%{y}<extra></extra>\",\"legendgroup\":\"PERU\",\"marker\":{\"color\":\"#BCBD22\",\"symbol\":\"circle\"},\"mode\":\"markers\",\"name\":\"PERU\",\"orientation\":\"v\",\"showlegend\":true,\"x\":[19.85141666666667],\"xaxis\":\"x\",\"y\":[189450784.0],\"yaxis\":\"y\",\"type\":\"scatter\"},{\"alignmentgroup\":\"True\",\"hovertemplate\":\"Country=PERU<br>AverageTemperature=%{x}<extra></extra>\",\"legendgroup\":\"PERU\",\"marker\":{\"color\":\"#BCBD22\",\"symbol\":\"circle\"},\"name\":\"PERU\",\"notched\":true,\"offsetgroup\":\"PERU\",\"showlegend\":false,\"x\":[19.85141666666667],\"xaxis\":\"x3\",\"yaxis\":\"y3\",\"type\":\"box\"},{\"alignmentgroup\":\"True\",\"hovertemplate\":\"Country=PERU<br>GHG=%{y}<extra></extra>\",\"legendgroup\":\"PERU\",\"marker\":{\"color\":\"#BCBD22\",\"symbol\":\"circle\"},\"name\":\"PERU\",\"offsetgroup\":\"PERU\",\"scalegroup\":\"y\",\"showlegend\":false,\"xaxis\":\"x2\",\"y\":[189450784.0],\"yaxis\":\"y2\",\"type\":\"violin\"},{\"hovertemplate\":\"Country=PERU<extra></extra>\",\"legendgroup\":\"PERU\",\"marker\":{\"color\":\"#BCBD22\",\"symbol\":\"circle\"},\"mode\":\"lines\",\"name\":\"PERU\",\"showlegend\":false,\"xaxis\":\"x\",\"yaxis\":\"y\",\"type\":\"scatter\"},{\"hovertemplate\":\"Country=PHILIPPINES<br>AverageTemperature=%{x}<br>GHG=%{y}<extra></extra>\",\"legendgroup\":\"PHILIPPINES\",\"marker\":{\"color\":\"#17BECF\",\"symbol\":\"circle\"},\"mode\":\"markers\",\"name\":\"PHILIPPINES\",\"orientation\":\"v\",\"showlegend\":true,\"x\":[26.55316666666667],\"xaxis\":\"x\",\"y\":[3209664.0],\"yaxis\":\"y\",\"type\":\"scatter\"},{\"alignmentgroup\":\"True\",\"hovertemplate\":\"Country=PHILIPPINES<br>AverageTemperature=%{x}<extra></extra>\",\"legendgroup\":\"PHILIPPINES\",\"marker\":{\"color\":\"#17BECF\",\"symbol\":\"circle\"},\"name\":\"PHILIPPINES\",\"notched\":true,\"offsetgroup\":\"PHILIPPINES\",\"showlegend\":false,\"x\":[26.55316666666667],\"xaxis\":\"x3\",\"yaxis\":\"y3\",\"type\":\"box\"},{\"alignmentgroup\":\"True\",\"hovertemplate\":\"Country=PHILIPPINES<br>GHG=%{y}<extra></extra>\",\"legendgroup\":\"PHILIPPINES\",\"marker\":{\"color\":\"#17BECF\",\"symbol\":\"circle\"},\"name\":\"PHILIPPINES\",\"offsetgroup\":\"PHILIPPINES\",\"scalegroup\":\"y\",\"showlegend\":false,\"xaxis\":\"x2\",\"y\":[3209664.0],\"yaxis\":\"y2\",\"type\":\"violin\"},{\"hovertemplate\":\"Country=PHILIPPINES<extra></extra>\",\"legendgroup\":\"PHILIPPINES\",\"marker\":{\"color\":\"#17BECF\",\"symbol\":\"circle\"},\"mode\":\"lines\",\"name\":\"PHILIPPINES\",\"showlegend\":false,\"xaxis\":\"x\",\"yaxis\":\"y\",\"type\":\"scatter\"},{\"hovertemplate\":\"Country=POLAND<br>AverageTemperature=%{x}<br>GHG=%{y}<extra></extra>\",\"legendgroup\":\"POLAND\",\"marker\":{\"color\":\"#1F77B4\",\"symbol\":\"circle\"},\"mode\":\"markers\",\"name\":\"POLAND\",\"orientation\":\"v\",\"showlegend\":true,\"x\":[8.606333333333334],\"xaxis\":\"x\",\"y\":[5454332992.0],\"yaxis\":\"y\",\"type\":\"scatter\"},{\"alignmentgroup\":\"True\",\"hovertemplate\":\"Country=POLAND<br>AverageTemperature=%{x}<extra></extra>\",\"legendgroup\":\"POLAND\",\"marker\":{\"color\":\"#1F77B4\",\"symbol\":\"circle\"},\"name\":\"POLAND\",\"notched\":true,\"offsetgroup\":\"POLAND\",\"showlegend\":false,\"x\":[8.606333333333334],\"xaxis\":\"x3\",\"yaxis\":\"y3\",\"type\":\"box\"},{\"alignmentgroup\":\"True\",\"hovertemplate\":\"Country=POLAND<br>GHG=%{y}<extra></extra>\",\"legendgroup\":\"POLAND\",\"marker\":{\"color\":\"#1F77B4\",\"symbol\":\"circle\"},\"name\":\"POLAND\",\"offsetgroup\":\"POLAND\",\"scalegroup\":\"y\",\"showlegend\":false,\"xaxis\":\"x2\",\"y\":[5454332992.0],\"yaxis\":\"y2\",\"type\":\"violin\"},{\"hovertemplate\":\"Country=POLAND<extra></extra>\",\"legendgroup\":\"POLAND\",\"marker\":{\"color\":\"#1F77B4\",\"symbol\":\"circle\"},\"mode\":\"lines\",\"name\":\"POLAND\",\"showlegend\":false,\"xaxis\":\"x\",\"yaxis\":\"y\",\"type\":\"scatter\"},{\"hovertemplate\":\"Country=PORTUGAL<br>AverageTemperature=%{x}<br>GHG=%{y}<extra></extra>\",\"legendgroup\":\"PORTUGAL\",\"marker\":{\"color\":\"#FF7F0E\",\"symbol\":\"circle\"},\"mode\":\"markers\",\"name\":\"PORTUGAL\",\"orientation\":\"v\",\"showlegend\":true,\"x\":[15.758666666666668],\"xaxis\":\"x\",\"y\":[204795616.0],\"yaxis\":\"y\",\"type\":\"scatter\"},{\"alignmentgroup\":\"True\",\"hovertemplate\":\"Country=PORTUGAL<br>AverageTemperature=%{x}<extra></extra>\",\"legendgroup\":\"PORTUGAL\",\"marker\":{\"color\":\"#FF7F0E\",\"symbol\":\"circle\"},\"name\":\"PORTUGAL\",\"notched\":true,\"offsetgroup\":\"PORTUGAL\",\"showlegend\":false,\"x\":[15.758666666666668],\"xaxis\":\"x3\",\"yaxis\":\"y3\",\"type\":\"box\"},{\"alignmentgroup\":\"True\",\"hovertemplate\":\"Country=PORTUGAL<br>GHG=%{y}<extra></extra>\",\"legendgroup\":\"PORTUGAL\",\"marker\":{\"color\":\"#FF7F0E\",\"symbol\":\"circle\"},\"name\":\"PORTUGAL\",\"offsetgroup\":\"PORTUGAL\",\"scalegroup\":\"y\",\"showlegend\":false,\"xaxis\":\"x2\",\"y\":[204795616.0],\"yaxis\":\"y2\",\"type\":\"violin\"},{\"hovertemplate\":\"Country=PORTUGAL<extra></extra>\",\"legendgroup\":\"PORTUGAL\",\"marker\":{\"color\":\"#FF7F0E\",\"symbol\":\"circle\"},\"mode\":\"lines\",\"name\":\"PORTUGAL\",\"showlegend\":false,\"xaxis\":\"x\",\"yaxis\":\"y\",\"type\":\"scatter\"},{\"hovertemplate\":\"Country=QATAR<br>AverageTemperature=%{x}<br>GHG=%{y}<extra></extra>\",\"legendgroup\":\"QATAR\",\"marker\":{\"color\":\"#2CA02C\",\"symbol\":\"circle\"},\"mode\":\"markers\",\"name\":\"QATAR\",\"orientation\":\"v\",\"showlegend\":true,\"x\":[26.396],\"xaxis\":\"x\",\"y\":[260144.0],\"yaxis\":\"y\",\"type\":\"scatter\"},{\"alignmentgroup\":\"True\",\"hovertemplate\":\"Country=QATAR<br>AverageTemperature=%{x}<extra></extra>\",\"legendgroup\":\"QATAR\",\"marker\":{\"color\":\"#2CA02C\",\"symbol\":\"circle\"},\"name\":\"QATAR\",\"notched\":true,\"offsetgroup\":\"QATAR\",\"showlegend\":false,\"x\":[26.396],\"xaxis\":\"x3\",\"yaxis\":\"y3\",\"type\":\"box\"},{\"alignmentgroup\":\"True\",\"hovertemplate\":\"Country=QATAR<br>GHG=%{y}<extra></extra>\",\"legendgroup\":\"QATAR\",\"marker\":{\"color\":\"#2CA02C\",\"symbol\":\"circle\"},\"name\":\"QATAR\",\"offsetgroup\":\"QATAR\",\"scalegroup\":\"y\",\"showlegend\":false,\"xaxis\":\"x2\",\"y\":[260144.0],\"yaxis\":\"y2\",\"type\":\"violin\"},{\"hovertemplate\":\"Country=QATAR<extra></extra>\",\"legendgroup\":\"QATAR\",\"marker\":{\"color\":\"#2CA02C\",\"symbol\":\"circle\"},\"mode\":\"lines\",\"name\":\"QATAR\",\"showlegend\":false,\"xaxis\":\"x\",\"yaxis\":\"y\",\"type\":\"scatter\"},{\"hovertemplate\":\"Country=ROMANIA<br>AverageTemperature=%{x}<br>GHG=%{y}<extra></extra>\",\"legendgroup\":\"ROMANIA\",\"marker\":{\"color\":\"#D62728\",\"symbol\":\"circle\"},\"mode\":\"markers\",\"name\":\"ROMANIA\",\"orientation\":\"v\",\"showlegend\":true,\"x\":[8.988166666666666],\"xaxis\":\"x\",\"y\":[698076272.0],\"yaxis\":\"y\",\"type\":\"scatter\"},{\"alignmentgroup\":\"True\",\"hovertemplate\":\"Country=ROMANIA<br>AverageTemperature=%{x}<extra></extra>\",\"legendgroup\":\"ROMANIA\",\"marker\":{\"color\":\"#D62728\",\"symbol\":\"circle\"},\"name\":\"ROMANIA\",\"notched\":true,\"offsetgroup\":\"ROMANIA\",\"showlegend\":false,\"x\":[8.988166666666666],\"xaxis\":\"x3\",\"yaxis\":\"y3\",\"type\":\"box\"},{\"alignmentgroup\":\"True\",\"hovertemplate\":\"Country=ROMANIA<br>GHG=%{y}<extra></extra>\",\"legendgroup\":\"ROMANIA\",\"marker\":{\"color\":\"#D62728\",\"symbol\":\"circle\"},\"name\":\"ROMANIA\",\"offsetgroup\":\"ROMANIA\",\"scalegroup\":\"y\",\"showlegend\":false,\"xaxis\":\"x2\",\"y\":[698076272.0],\"yaxis\":\"y2\",\"type\":\"violin\"},{\"hovertemplate\":\"Country=ROMANIA<extra></extra>\",\"legendgroup\":\"ROMANIA\",\"marker\":{\"color\":\"#D62728\",\"symbol\":\"circle\"},\"mode\":\"lines\",\"name\":\"ROMANIA\",\"showlegend\":false,\"xaxis\":\"x\",\"yaxis\":\"y\",\"type\":\"scatter\"},{\"hovertemplate\":\"Country=SAUDI ARABIA<br>AverageTemperature=%{x}<br>GHG=%{y}<extra></extra>\",\"legendgroup\":\"SAUDI ARABIA\",\"marker\":{\"color\":\"#9467BD\",\"symbol\":\"circle\"},\"mode\":\"markers\",\"name\":\"SAUDI ARABIA\",\"orientation\":\"v\",\"showlegend\":true,\"x\":[25.0955],\"xaxis\":\"x\",\"y\":[121029248.0],\"yaxis\":\"y\",\"type\":\"scatter\"},{\"alignmentgroup\":\"True\",\"hovertemplate\":\"Country=SAUDI ARABIA<br>AverageTemperature=%{x}<extra></extra>\",\"legendgroup\":\"SAUDI ARABIA\",\"marker\":{\"color\":\"#9467BD\",\"symbol\":\"circle\"},\"name\":\"SAUDI ARABIA\",\"notched\":true,\"offsetgroup\":\"SAUDI ARABIA\",\"showlegend\":false,\"x\":[25.0955],\"xaxis\":\"x3\",\"yaxis\":\"y3\",\"type\":\"box\"},{\"alignmentgroup\":\"True\",\"hovertemplate\":\"Country=SAUDI ARABIA<br>GHG=%{y}<extra></extra>\",\"legendgroup\":\"SAUDI ARABIA\",\"marker\":{\"color\":\"#9467BD\",\"symbol\":\"circle\"},\"name\":\"SAUDI ARABIA\",\"offsetgroup\":\"SAUDI ARABIA\",\"scalegroup\":\"y\",\"showlegend\":false,\"xaxis\":\"x2\",\"y\":[121029248.0],\"yaxis\":\"y2\",\"type\":\"violin\"},{\"hovertemplate\":\"Country=SAUDI ARABIA<extra></extra>\",\"legendgroup\":\"SAUDI ARABIA\",\"marker\":{\"color\":\"#9467BD\",\"symbol\":\"circle\"},\"mode\":\"lines\",\"name\":\"SAUDI ARABIA\",\"showlegend\":false,\"xaxis\":\"x\",\"yaxis\":\"y\",\"type\":\"scatter\"},{\"hovertemplate\":\"Country=SOUTH AFRICA<br>AverageTemperature=%{x}<br>GHG=%{y}<extra></extra>\",\"legendgroup\":\"SOUTH AFRICA\",\"marker\":{\"color\":\"#8C564B\",\"symbol\":\"circle\"},\"mode\":\"markers\",\"name\":\"SOUTH AFRICA\",\"orientation\":\"v\",\"showlegend\":true,\"x\":[17.666999999999998],\"xaxis\":\"x\",\"y\":[1431975472.0],\"yaxis\":\"y\",\"type\":\"scatter\"},{\"alignmentgroup\":\"True\",\"hovertemplate\":\"Country=SOUTH AFRICA<br>AverageTemperature=%{x}<extra></extra>\",\"legendgroup\":\"SOUTH AFRICA\",\"marker\":{\"color\":\"#8C564B\",\"symbol\":\"circle\"},\"name\":\"SOUTH AFRICA\",\"notched\":true,\"offsetgroup\":\"SOUTH AFRICA\",\"showlegend\":false,\"x\":[17.666999999999998],\"xaxis\":\"x3\",\"yaxis\":\"y3\",\"type\":\"box\"},{\"alignmentgroup\":\"True\",\"hovertemplate\":\"Country=SOUTH AFRICA<br>GHG=%{y}<extra></extra>\",\"legendgroup\":\"SOUTH AFRICA\",\"marker\":{\"color\":\"#8C564B\",\"symbol\":\"circle\"},\"name\":\"SOUTH AFRICA\",\"offsetgroup\":\"SOUTH AFRICA\",\"scalegroup\":\"y\",\"showlegend\":false,\"xaxis\":\"x2\",\"y\":[1431975472.0],\"yaxis\":\"y2\",\"type\":\"violin\"},{\"hovertemplate\":\"Country=SOUTH AFRICA<extra></extra>\",\"legendgroup\":\"SOUTH AFRICA\",\"marker\":{\"color\":\"#8C564B\",\"symbol\":\"circle\"},\"mode\":\"lines\",\"name\":\"SOUTH AFRICA\",\"showlegend\":false,\"xaxis\":\"x\",\"yaxis\":\"y\",\"type\":\"scatter\"},{\"hovertemplate\":\"Country=SOUTH KOREA<br>AverageTemperature=%{x}<br>GHG=%{y}<extra></extra>\",\"legendgroup\":\"SOUTH KOREA\",\"marker\":{\"color\":\"#E377C2\",\"symbol\":\"circle\"},\"mode\":\"markers\",\"name\":\"SOUTH KOREA\",\"orientation\":\"v\",\"showlegend\":true,\"x\":[12.057833333333333],\"xaxis\":\"x\",\"y\":[5235856.0],\"yaxis\":\"y\",\"type\":\"scatter\"},{\"alignmentgroup\":\"True\",\"hovertemplate\":\"Country=SOUTH KOREA<br>AverageTemperature=%{x}<extra></extra>\",\"legendgroup\":\"SOUTH KOREA\",\"marker\":{\"color\":\"#E377C2\",\"symbol\":\"circle\"},\"name\":\"SOUTH KOREA\",\"notched\":true,\"offsetgroup\":\"SOUTH KOREA\",\"showlegend\":false,\"x\":[12.057833333333333],\"xaxis\":\"x3\",\"yaxis\":\"y3\",\"type\":\"box\"},{\"alignmentgroup\":\"True\",\"hovertemplate\":\"Country=SOUTH KOREA<br>GHG=%{y}<extra></extra>\",\"legendgroup\":\"SOUTH KOREA\",\"marker\":{\"color\":\"#E377C2\",\"symbol\":\"circle\"},\"name\":\"SOUTH KOREA\",\"offsetgroup\":\"SOUTH KOREA\",\"scalegroup\":\"y\",\"showlegend\":false,\"xaxis\":\"x2\",\"y\":[5235856.0],\"yaxis\":\"y2\",\"type\":\"violin\"},{\"hovertemplate\":\"Country=SOUTH KOREA<extra></extra>\",\"legendgroup\":\"SOUTH KOREA\",\"marker\":{\"color\":\"#E377C2\",\"symbol\":\"circle\"},\"mode\":\"lines\",\"name\":\"SOUTH KOREA\",\"showlegend\":false,\"xaxis\":\"x\",\"yaxis\":\"y\",\"type\":\"scatter\"},{\"hovertemplate\":\"Country=SPAIN<br>AverageTemperature=%{x}<br>GHG=%{y}<extra></extra>\",\"legendgroup\":\"SPAIN\",\"marker\":{\"color\":\"#7F7F7F\",\"symbol\":\"circle\"},\"mode\":\"markers\",\"name\":\"SPAIN\",\"orientation\":\"v\",\"showlegend\":true,\"x\":[14.510083333333334],\"xaxis\":\"x\",\"y\":[1133560992.0],\"yaxis\":\"y\",\"type\":\"scatter\"},{\"alignmentgroup\":\"True\",\"hovertemplate\":\"Country=SPAIN<br>AverageTemperature=%{x}<extra></extra>\",\"legendgroup\":\"SPAIN\",\"marker\":{\"color\":\"#7F7F7F\",\"symbol\":\"circle\"},\"name\":\"SPAIN\",\"notched\":true,\"offsetgroup\":\"SPAIN\",\"showlegend\":false,\"x\":[14.510083333333334],\"xaxis\":\"x3\",\"yaxis\":\"y3\",\"type\":\"box\"},{\"alignmentgroup\":\"True\",\"hovertemplate\":\"Country=SPAIN<br>GHG=%{y}<extra></extra>\",\"legendgroup\":\"SPAIN\",\"marker\":{\"color\":\"#7F7F7F\",\"symbol\":\"circle\"},\"name\":\"SPAIN\",\"offsetgroup\":\"SPAIN\",\"scalegroup\":\"y\",\"showlegend\":false,\"xaxis\":\"x2\",\"y\":[1133560992.0],\"yaxis\":\"y2\",\"type\":\"violin\"},{\"hovertemplate\":\"Country=SPAIN<extra></extra>\",\"legendgroup\":\"SPAIN\",\"marker\":{\"color\":\"#7F7F7F\",\"symbol\":\"circle\"},\"mode\":\"lines\",\"name\":\"SPAIN\",\"showlegend\":false,\"xaxis\":\"x\",\"yaxis\":\"y\",\"type\":\"scatter\"},{\"hovertemplate\":\"Country=SWEDEN<br>AverageTemperature=%{x}<br>GHG=%{y}<extra></extra>\",\"legendgroup\":\"SWEDEN\",\"marker\":{\"color\":\"#BCBD22\",\"symbol\":\"circle\"},\"mode\":\"markers\",\"name\":\"SWEDEN\",\"orientation\":\"v\",\"showlegend\":true,\"x\":[4.023333333333333],\"xaxis\":\"x\",\"y\":[904872432.0],\"yaxis\":\"y\",\"type\":\"scatter\"},{\"alignmentgroup\":\"True\",\"hovertemplate\":\"Country=SWEDEN<br>AverageTemperature=%{x}<extra></extra>\",\"legendgroup\":\"SWEDEN\",\"marker\":{\"color\":\"#BCBD22\",\"symbol\":\"circle\"},\"name\":\"SWEDEN\",\"notched\":true,\"offsetgroup\":\"SWEDEN\",\"showlegend\":false,\"x\":[4.023333333333333],\"xaxis\":\"x3\",\"yaxis\":\"y3\",\"type\":\"box\"},{\"alignmentgroup\":\"True\",\"hovertemplate\":\"Country=SWEDEN<br>GHG=%{y}<extra></extra>\",\"legendgroup\":\"SWEDEN\",\"marker\":{\"color\":\"#BCBD22\",\"symbol\":\"circle\"},\"name\":\"SWEDEN\",\"offsetgroup\":\"SWEDEN\",\"scalegroup\":\"y\",\"showlegend\":false,\"xaxis\":\"x2\",\"y\":[904872432.0],\"yaxis\":\"y2\",\"type\":\"violin\"},{\"hovertemplate\":\"Country=SWEDEN<extra></extra>\",\"legendgroup\":\"SWEDEN\",\"marker\":{\"color\":\"#BCBD22\",\"symbol\":\"circle\"},\"mode\":\"lines\",\"name\":\"SWEDEN\",\"showlegend\":false,\"xaxis\":\"x\",\"yaxis\":\"y\",\"type\":\"scatter\"},{\"hovertemplate\":\"Country=SWITZERLAND<br>AverageTemperature=%{x}<br>GHG=%{y}<extra></extra>\",\"legendgroup\":\"SWITZERLAND\",\"marker\":{\"color\":\"#17BECF\",\"symbol\":\"circle\"},\"mode\":\"markers\",\"name\":\"SWITZERLAND\",\"orientation\":\"v\",\"showlegend\":true,\"x\":[7.995833333333334],\"xaxis\":\"x\",\"y\":[463016016.0],\"yaxis\":\"y\",\"type\":\"scatter\"},{\"alignmentgroup\":\"True\",\"hovertemplate\":\"Country=SWITZERLAND<br>AverageTemperature=%{x}<extra></extra>\",\"legendgroup\":\"SWITZERLAND\",\"marker\":{\"color\":\"#17BECF\",\"symbol\":\"circle\"},\"name\":\"SWITZERLAND\",\"notched\":true,\"offsetgroup\":\"SWITZERLAND\",\"showlegend\":false,\"x\":[7.995833333333334],\"xaxis\":\"x3\",\"yaxis\":\"y3\",\"type\":\"box\"},{\"alignmentgroup\":\"True\",\"hovertemplate\":\"Country=SWITZERLAND<br>GHG=%{y}<extra></extra>\",\"legendgroup\":\"SWITZERLAND\",\"marker\":{\"color\":\"#17BECF\",\"symbol\":\"circle\"},\"name\":\"SWITZERLAND\",\"offsetgroup\":\"SWITZERLAND\",\"scalegroup\":\"y\",\"showlegend\":false,\"xaxis\":\"x2\",\"y\":[463016016.0],\"yaxis\":\"y2\",\"type\":\"violin\"},{\"hovertemplate\":\"Country=SWITZERLAND<extra></extra>\",\"legendgroup\":\"SWITZERLAND\",\"marker\":{\"color\":\"#17BECF\",\"symbol\":\"circle\"},\"mode\":\"lines\",\"name\":\"SWITZERLAND\",\"showlegend\":false,\"xaxis\":\"x\",\"yaxis\":\"y\",\"type\":\"scatter\"},{\"hovertemplate\":\"Country=SYRIA<br>AverageTemperature=%{x}<br>GHG=%{y}<extra></extra>\",\"legendgroup\":\"SYRIA\",\"marker\":{\"color\":\"#1F77B4\",\"symbol\":\"circle\"},\"mode\":\"markers\",\"name\":\"SYRIA\",\"orientation\":\"v\",\"showlegend\":true,\"x\":[17.2775],\"xaxis\":\"x\",\"y\":[542272.0],\"yaxis\":\"y\",\"type\":\"scatter\"},{\"alignmentgroup\":\"True\",\"hovertemplate\":\"Country=SYRIA<br>AverageTemperature=%{x}<extra></extra>\",\"legendgroup\":\"SYRIA\",\"marker\":{\"color\":\"#1F77B4\",\"symbol\":\"circle\"},\"name\":\"SYRIA\",\"notched\":true,\"offsetgroup\":\"SYRIA\",\"showlegend\":false,\"x\":[17.2775],\"xaxis\":\"x3\",\"yaxis\":\"y3\",\"type\":\"box\"},{\"alignmentgroup\":\"True\",\"hovertemplate\":\"Country=SYRIA<br>GHG=%{y}<extra></extra>\",\"legendgroup\":\"SYRIA\",\"marker\":{\"color\":\"#1F77B4\",\"symbol\":\"circle\"},\"name\":\"SYRIA\",\"offsetgroup\":\"SYRIA\",\"scalegroup\":\"y\",\"showlegend\":false,\"xaxis\":\"x2\",\"y\":[542272.0],\"yaxis\":\"y2\",\"type\":\"violin\"},{\"hovertemplate\":\"Country=SYRIA<extra></extra>\",\"legendgroup\":\"SYRIA\",\"marker\":{\"color\":\"#1F77B4\",\"symbol\":\"circle\"},\"mode\":\"lines\",\"name\":\"SYRIA\",\"showlegend\":false,\"xaxis\":\"x\",\"yaxis\":\"y\",\"type\":\"scatter\"},{\"hovertemplate\":\"Country=TAIWAN<br>AverageTemperature=%{x}<br>GHG=%{y}<extra></extra>\",\"legendgroup\":\"TAIWAN\",\"marker\":{\"color\":\"#FF7F0E\",\"symbol\":\"circle\"},\"mode\":\"markers\",\"name\":\"TAIWAN\",\"orientation\":\"v\",\"showlegend\":true,\"x\":[22.36491666666667],\"xaxis\":\"x\",\"y\":[154104176.0],\"yaxis\":\"y\",\"type\":\"scatter\"},{\"alignmentgroup\":\"True\",\"hovertemplate\":\"Country=TAIWAN<br>AverageTemperature=%{x}<extra></extra>\",\"legendgroup\":\"TAIWAN\",\"marker\":{\"color\":\"#FF7F0E\",\"symbol\":\"circle\"},\"name\":\"TAIWAN\",\"notched\":true,\"offsetgroup\":\"TAIWAN\",\"showlegend\":false,\"x\":[22.36491666666667],\"xaxis\":\"x3\",\"yaxis\":\"y3\",\"type\":\"box\"},{\"alignmentgroup\":\"True\",\"hovertemplate\":\"Country=TAIWAN<br>GHG=%{y}<extra></extra>\",\"legendgroup\":\"TAIWAN\",\"marker\":{\"color\":\"#FF7F0E\",\"symbol\":\"circle\"},\"name\":\"TAIWAN\",\"offsetgroup\":\"TAIWAN\",\"scalegroup\":\"y\",\"showlegend\":false,\"xaxis\":\"x2\",\"y\":[154104176.0],\"yaxis\":\"y2\",\"type\":\"violin\"},{\"hovertemplate\":\"Country=TAIWAN<extra></extra>\",\"legendgroup\":\"TAIWAN\",\"marker\":{\"color\":\"#FF7F0E\",\"symbol\":\"circle\"},\"mode\":\"lines\",\"name\":\"TAIWAN\",\"showlegend\":false,\"xaxis\":\"x\",\"yaxis\":\"y\",\"type\":\"scatter\"},{\"hovertemplate\":\"Country=THAILAND<br>AverageTemperature=%{x}<br>GHG=%{y}<extra></extra>\",\"legendgroup\":\"THAILAND\",\"marker\":{\"color\":\"#2CA02C\",\"symbol\":\"circle\"},\"mode\":\"markers\",\"name\":\"THAILAND\",\"orientation\":\"v\",\"showlegend\":true,\"x\":[26.249583333333334],\"xaxis\":\"x\",\"y\":[578912.0],\"yaxis\":\"y\",\"type\":\"scatter\"},{\"alignmentgroup\":\"True\",\"hovertemplate\":\"Country=THAILAND<br>AverageTemperature=%{x}<extra></extra>\",\"legendgroup\":\"THAILAND\",\"marker\":{\"color\":\"#2CA02C\",\"symbol\":\"circle\"},\"name\":\"THAILAND\",\"notched\":true,\"offsetgroup\":\"THAILAND\",\"showlegend\":false,\"x\":[26.249583333333334],\"xaxis\":\"x3\",\"yaxis\":\"y3\",\"type\":\"box\"},{\"alignmentgroup\":\"True\",\"hovertemplate\":\"Country=THAILAND<br>GHG=%{y}<extra></extra>\",\"legendgroup\":\"THAILAND\",\"marker\":{\"color\":\"#2CA02C\",\"symbol\":\"circle\"},\"name\":\"THAILAND\",\"offsetgroup\":\"THAILAND\",\"scalegroup\":\"y\",\"showlegend\":false,\"xaxis\":\"x2\",\"y\":[578912.0],\"yaxis\":\"y2\",\"type\":\"violin\"},{\"hovertemplate\":\"Country=THAILAND<extra></extra>\",\"legendgroup\":\"THAILAND\",\"marker\":{\"color\":\"#2CA02C\",\"symbol\":\"circle\"},\"mode\":\"lines\",\"name\":\"THAILAND\",\"showlegend\":false,\"xaxis\":\"x\",\"yaxis\":\"y\",\"type\":\"scatter\"},{\"hovertemplate\":\"Country=TUNISIA<br>AverageTemperature=%{x}<br>GHG=%{y}<extra></extra>\",\"legendgroup\":\"TUNISIA\",\"marker\":{\"color\":\"#D62728\",\"symbol\":\"circle\"},\"mode\":\"markers\",\"name\":\"TUNISIA\",\"orientation\":\"v\",\"showlegend\":true,\"x\":[20.146],\"xaxis\":\"x\",\"y\":[1436288.0],\"yaxis\":\"y\",\"type\":\"scatter\"},{\"alignmentgroup\":\"True\",\"hovertemplate\":\"Country=TUNISIA<br>AverageTemperature=%{x}<extra></extra>\",\"legendgroup\":\"TUNISIA\",\"marker\":{\"color\":\"#D62728\",\"symbol\":\"circle\"},\"name\":\"TUNISIA\",\"notched\":true,\"offsetgroup\":\"TUNISIA\",\"showlegend\":false,\"x\":[20.146],\"xaxis\":\"x3\",\"yaxis\":\"y3\",\"type\":\"box\"},{\"alignmentgroup\":\"True\",\"hovertemplate\":\"Country=TUNISIA<br>GHG=%{y}<extra></extra>\",\"legendgroup\":\"TUNISIA\",\"marker\":{\"color\":\"#D62728\",\"symbol\":\"circle\"},\"name\":\"TUNISIA\",\"offsetgroup\":\"TUNISIA\",\"scalegroup\":\"y\",\"showlegend\":false,\"xaxis\":\"x2\",\"y\":[1436288.0],\"yaxis\":\"y2\",\"type\":\"violin\"},{\"hovertemplate\":\"Country=TUNISIA<extra></extra>\",\"legendgroup\":\"TUNISIA\",\"marker\":{\"color\":\"#D62728\",\"symbol\":\"circle\"},\"mode\":\"lines\",\"name\":\"TUNISIA\",\"showlegend\":false,\"xaxis\":\"x\",\"yaxis\":\"y\",\"type\":\"scatter\"},{\"hovertemplate\":\"Country=TURKEY<br>AverageTemperature=%{x}<br>GHG=%{y}<extra></extra>\",\"legendgroup\":\"TURKEY\",\"marker\":{\"color\":\"#9467BD\",\"symbol\":\"circle\"},\"mode\":\"markers\",\"name\":\"TURKEY\",\"orientation\":\"v\",\"showlegend\":true,\"x\":[10.961],\"xaxis\":\"x\",\"y\":[174366096.0],\"yaxis\":\"y\",\"type\":\"scatter\"},{\"alignmentgroup\":\"True\",\"hovertemplate\":\"Country=TURKEY<br>AverageTemperature=%{x}<extra></extra>\",\"legendgroup\":\"TURKEY\",\"marker\":{\"color\":\"#9467BD\",\"symbol\":\"circle\"},\"name\":\"TURKEY\",\"notched\":true,\"offsetgroup\":\"TURKEY\",\"showlegend\":false,\"x\":[10.961],\"xaxis\":\"x3\",\"yaxis\":\"y3\",\"type\":\"box\"},{\"alignmentgroup\":\"True\",\"hovertemplate\":\"Country=TURKEY<br>GHG=%{y}<extra></extra>\",\"legendgroup\":\"TURKEY\",\"marker\":{\"color\":\"#9467BD\",\"symbol\":\"circle\"},\"name\":\"TURKEY\",\"offsetgroup\":\"TURKEY\",\"scalegroup\":\"y\",\"showlegend\":false,\"xaxis\":\"x2\",\"y\":[174366096.0],\"yaxis\":\"y2\",\"type\":\"violin\"},{\"hovertemplate\":\"Country=TURKEY<extra></extra>\",\"legendgroup\":\"TURKEY\",\"marker\":{\"color\":\"#9467BD\",\"symbol\":\"circle\"},\"mode\":\"lines\",\"name\":\"TURKEY\",\"showlegend\":false,\"xaxis\":\"x\",\"yaxis\":\"y\",\"type\":\"scatter\"},{\"hovertemplate\":\"Country=UNITED KINGDOM<br>AverageTemperature=%{x}<br>GHG=%{y}<extra></extra>\",\"legendgroup\":\"UNITED KINGDOM\",\"marker\":{\"color\":\"#8C564B\",\"symbol\":\"circle\"},\"mode\":\"markers\",\"name\":\"UNITED KINGDOM\",\"orientation\":\"v\",\"showlegend\":true,\"x\":[9.814333333333332],\"xaxis\":\"x\",\"y\":[38649004176.0],\"yaxis\":\"y\",\"type\":\"scatter\"},{\"alignmentgroup\":\"True\",\"hovertemplate\":\"Country=UNITED KINGDOM<br>AverageTemperature=%{x}<extra></extra>\",\"legendgroup\":\"UNITED KINGDOM\",\"marker\":{\"color\":\"#8C564B\",\"symbol\":\"circle\"},\"name\":\"UNITED KINGDOM\",\"notched\":true,\"offsetgroup\":\"UNITED KINGDOM\",\"showlegend\":false,\"x\":[9.814333333333332],\"xaxis\":\"x3\",\"yaxis\":\"y3\",\"type\":\"box\"},{\"alignmentgroup\":\"True\",\"hovertemplate\":\"Country=UNITED KINGDOM<br>GHG=%{y}<extra></extra>\",\"legendgroup\":\"UNITED KINGDOM\",\"marker\":{\"color\":\"#8C564B\",\"symbol\":\"circle\"},\"name\":\"UNITED KINGDOM\",\"offsetgroup\":\"UNITED KINGDOM\",\"scalegroup\":\"y\",\"showlegend\":false,\"xaxis\":\"x2\",\"y\":[38649004176.0],\"yaxis\":\"y2\",\"type\":\"violin\"},{\"hovertemplate\":\"Country=UNITED KINGDOM<extra></extra>\",\"legendgroup\":\"UNITED KINGDOM\",\"marker\":{\"color\":\"#8C564B\",\"symbol\":\"circle\"},\"mode\":\"lines\",\"name\":\"UNITED KINGDOM\",\"showlegend\":false,\"xaxis\":\"x\",\"yaxis\":\"y\",\"type\":\"scatter\"},{\"hovertemplate\":\"Country=URUGUAY<br>AverageTemperature=%{x}<br>GHG=%{y}<extra></extra>\",\"legendgroup\":\"URUGUAY\",\"marker\":{\"color\":\"#E377C2\",\"symbol\":\"circle\"},\"mode\":\"markers\",\"name\":\"URUGUAY\",\"orientation\":\"v\",\"showlegend\":true,\"x\":[17.28925],\"xaxis\":\"x\",\"y\":[1637808.0],\"yaxis\":\"y\",\"type\":\"scatter\"},{\"alignmentgroup\":\"True\",\"hovertemplate\":\"Country=URUGUAY<br>AverageTemperature=%{x}<extra></extra>\",\"legendgroup\":\"URUGUAY\",\"marker\":{\"color\":\"#E377C2\",\"symbol\":\"circle\"},\"name\":\"URUGUAY\",\"notched\":true,\"offsetgroup\":\"URUGUAY\",\"showlegend\":false,\"x\":[17.28925],\"xaxis\":\"x3\",\"yaxis\":\"y3\",\"type\":\"box\"},{\"alignmentgroup\":\"True\",\"hovertemplate\":\"Country=URUGUAY<br>GHG=%{y}<extra></extra>\",\"legendgroup\":\"URUGUAY\",\"marker\":{\"color\":\"#E377C2\",\"symbol\":\"circle\"},\"name\":\"URUGUAY\",\"offsetgroup\":\"URUGUAY\",\"scalegroup\":\"y\",\"showlegend\":false,\"xaxis\":\"x2\",\"y\":[1637808.0],\"yaxis\":\"y2\",\"type\":\"violin\"},{\"hovertemplate\":\"Country=URUGUAY<extra></extra>\",\"legendgroup\":\"URUGUAY\",\"marker\":{\"color\":\"#E377C2\",\"symbol\":\"circle\"},\"mode\":\"lines\",\"name\":\"URUGUAY\",\"showlegend\":false,\"xaxis\":\"x\",\"yaxis\":\"y\",\"type\":\"scatter\"},{\"hovertemplate\":\"Country=VENEZUELA<br>AverageTemperature=%{x}<br>GHG=%{y}<extra></extra>\",\"legendgroup\":\"VENEZUELA\",\"marker\":{\"color\":\"#7F7F7F\",\"symbol\":\"circle\"},\"mode\":\"markers\",\"name\":\"VENEZUELA\",\"orientation\":\"v\",\"showlegend\":true,\"x\":[24.96366666666667],\"xaxis\":\"x\",\"y\":[285744368.0],\"yaxis\":\"y\",\"type\":\"scatter\"},{\"alignmentgroup\":\"True\",\"hovertemplate\":\"Country=VENEZUELA<br>AverageTemperature=%{x}<extra></extra>\",\"legendgroup\":\"VENEZUELA\",\"marker\":{\"color\":\"#7F7F7F\",\"symbol\":\"circle\"},\"name\":\"VENEZUELA\",\"notched\":true,\"offsetgroup\":\"VENEZUELA\",\"showlegend\":false,\"x\":[24.96366666666667],\"xaxis\":\"x3\",\"yaxis\":\"y3\",\"type\":\"box\"},{\"alignmentgroup\":\"True\",\"hovertemplate\":\"Country=VENEZUELA<br>GHG=%{y}<extra></extra>\",\"legendgroup\":\"VENEZUELA\",\"marker\":{\"color\":\"#7F7F7F\",\"symbol\":\"circle\"},\"name\":\"VENEZUELA\",\"offsetgroup\":\"VENEZUELA\",\"scalegroup\":\"y\",\"showlegend\":false,\"xaxis\":\"x2\",\"y\":[285744368.0],\"yaxis\":\"y2\",\"type\":\"violin\"},{\"hovertemplate\":\"Country=VENEZUELA<extra></extra>\",\"legendgroup\":\"VENEZUELA\",\"marker\":{\"color\":\"#7F7F7F\",\"symbol\":\"circle\"},\"mode\":\"lines\",\"name\":\"VENEZUELA\",\"showlegend\":false,\"xaxis\":\"x\",\"yaxis\":\"y\",\"type\":\"scatter\"},{\"hovertemplate\":\"Country=VIETNAM<br>AverageTemperature=%{x}<br>GHG=%{y}<extra></extra>\",\"legendgroup\":\"VIETNAM\",\"marker\":{\"color\":\"#BCBD22\",\"symbol\":\"circle\"},\"mode\":\"markers\",\"name\":\"VIETNAM\",\"orientation\":\"v\",\"showlegend\":true,\"x\":[24.04433333333333],\"xaxis\":\"x\",\"y\":[134014464.0],\"yaxis\":\"y\",\"type\":\"scatter\"},{\"alignmentgroup\":\"True\",\"hovertemplate\":\"Country=VIETNAM<br>AverageTemperature=%{x}<extra></extra>\",\"legendgroup\":\"VIETNAM\",\"marker\":{\"color\":\"#BCBD22\",\"symbol\":\"circle\"},\"name\":\"VIETNAM\",\"notched\":true,\"offsetgroup\":\"VIETNAM\",\"showlegend\":false,\"x\":[24.04433333333333],\"xaxis\":\"x3\",\"yaxis\":\"y3\",\"type\":\"box\"},{\"alignmentgroup\":\"True\",\"hovertemplate\":\"Country=VIETNAM<br>GHG=%{y}<extra></extra>\",\"legendgroup\":\"VIETNAM\",\"marker\":{\"color\":\"#BCBD22\",\"symbol\":\"circle\"},\"name\":\"VIETNAM\",\"offsetgroup\":\"VIETNAM\",\"scalegroup\":\"y\",\"showlegend\":false,\"xaxis\":\"x2\",\"y\":[134014464.0],\"yaxis\":\"y2\",\"type\":\"violin\"},{\"hovertemplate\":\"Country=VIETNAM<extra></extra>\",\"legendgroup\":\"VIETNAM\",\"marker\":{\"color\":\"#BCBD22\",\"symbol\":\"circle\"},\"mode\":\"lines\",\"name\":\"VIETNAM\",\"showlegend\":false,\"xaxis\":\"x\",\"yaxis\":\"y\",\"type\":\"scatter\"},{\"hovertemplate\":\"Country=ZIMBABWE<br>AverageTemperature=%{x}<br>GHG=%{y}<extra></extra>\",\"legendgroup\":\"ZIMBABWE\",\"marker\":{\"color\":\"#17BECF\",\"symbol\":\"circle\"},\"mode\":\"markers\",\"name\":\"ZIMBABWE\",\"orientation\":\"v\",\"showlegend\":true,\"x\":[21.535083333333333],\"xaxis\":\"x\",\"y\":[93593216.0],\"yaxis\":\"y\",\"type\":\"scatter\"},{\"alignmentgroup\":\"True\",\"hovertemplate\":\"Country=ZIMBABWE<br>AverageTemperature=%{x}<extra></extra>\",\"legendgroup\":\"ZIMBABWE\",\"marker\":{\"color\":\"#17BECF\",\"symbol\":\"circle\"},\"name\":\"ZIMBABWE\",\"notched\":true,\"offsetgroup\":\"ZIMBABWE\",\"showlegend\":false,\"x\":[21.535083333333333],\"xaxis\":\"x3\",\"yaxis\":\"y3\",\"type\":\"box\"},{\"alignmentgroup\":\"True\",\"hovertemplate\":\"Country=ZIMBABWE<br>GHG=%{y}<extra></extra>\",\"legendgroup\":\"ZIMBABWE\",\"marker\":{\"color\":\"#17BECF\",\"symbol\":\"circle\"},\"name\":\"ZIMBABWE\",\"offsetgroup\":\"ZIMBABWE\",\"scalegroup\":\"y\",\"showlegend\":false,\"xaxis\":\"x2\",\"y\":[93593216.0],\"yaxis\":\"y2\",\"type\":\"violin\"},{\"hovertemplate\":\"Country=ZIMBABWE<extra></extra>\",\"legendgroup\":\"ZIMBABWE\",\"marker\":{\"color\":\"#17BECF\",\"symbol\":\"circle\"},\"mode\":\"lines\",\"name\":\"ZIMBABWE\",\"showlegend\":false,\"xaxis\":\"x\",\"yaxis\":\"y\",\"type\":\"scatter\"}],                        {\"template\":{\"data\":{\"barpolar\":[{\"marker\":{\"line\":{\"color\":\"white\",\"width\":0.5},\"pattern\":{\"fillmode\":\"overlay\",\"size\":10,\"solidity\":0.2}},\"type\":\"barpolar\"}],\"bar\":[{\"error_x\":{\"color\":\"rgb(36,36,36)\"},\"error_y\":{\"color\":\"rgb(36,36,36)\"},\"marker\":{\"line\":{\"color\":\"white\",\"width\":0.5},\"pattern\":{\"fillmode\":\"overlay\",\"size\":10,\"solidity\":0.2}},\"type\":\"bar\"}],\"carpet\":[{\"aaxis\":{\"endlinecolor\":\"rgb(36,36,36)\",\"gridcolor\":\"white\",\"linecolor\":\"white\",\"minorgridcolor\":\"white\",\"startlinecolor\":\"rgb(36,36,36)\"},\"baxis\":{\"endlinecolor\":\"rgb(36,36,36)\",\"gridcolor\":\"white\",\"linecolor\":\"white\",\"minorgridcolor\":\"white\",\"startlinecolor\":\"rgb(36,36,36)\"},\"type\":\"carpet\"}],\"choropleth\":[{\"colorbar\":{\"outlinewidth\":1,\"tickcolor\":\"rgb(36,36,36)\",\"ticks\":\"outside\"},\"type\":\"choropleth\"}],\"contourcarpet\":[{\"colorbar\":{\"outlinewidth\":1,\"tickcolor\":\"rgb(36,36,36)\",\"ticks\":\"outside\"},\"type\":\"contourcarpet\"}],\"contour\":[{\"colorbar\":{\"outlinewidth\":1,\"tickcolor\":\"rgb(36,36,36)\",\"ticks\":\"outside\"},\"colorscale\":[[0.0,\"#440154\"],[0.1111111111111111,\"#482878\"],[0.2222222222222222,\"#3e4989\"],[0.3333333333333333,\"#31688e\"],[0.4444444444444444,\"#26828e\"],[0.5555555555555556,\"#1f9e89\"],[0.6666666666666666,\"#35b779\"],[0.7777777777777778,\"#6ece58\"],[0.8888888888888888,\"#b5de2b\"],[1.0,\"#fde725\"]],\"type\":\"contour\"}],\"heatmapgl\":[{\"colorbar\":{\"outlinewidth\":1,\"tickcolor\":\"rgb(36,36,36)\",\"ticks\":\"outside\"},\"colorscale\":[[0.0,\"#440154\"],[0.1111111111111111,\"#482878\"],[0.2222222222222222,\"#3e4989\"],[0.3333333333333333,\"#31688e\"],[0.4444444444444444,\"#26828e\"],[0.5555555555555556,\"#1f9e89\"],[0.6666666666666666,\"#35b779\"],[0.7777777777777778,\"#6ece58\"],[0.8888888888888888,\"#b5de2b\"],[1.0,\"#fde725\"]],\"type\":\"heatmapgl\"}],\"heatmap\":[{\"colorbar\":{\"outlinewidth\":1,\"tickcolor\":\"rgb(36,36,36)\",\"ticks\":\"outside\"},\"colorscale\":[[0.0,\"#440154\"],[0.1111111111111111,\"#482878\"],[0.2222222222222222,\"#3e4989\"],[0.3333333333333333,\"#31688e\"],[0.4444444444444444,\"#26828e\"],[0.5555555555555556,\"#1f9e89\"],[0.6666666666666666,\"#35b779\"],[0.7777777777777778,\"#6ece58\"],[0.8888888888888888,\"#b5de2b\"],[1.0,\"#fde725\"]],\"type\":\"heatmap\"}],\"histogram2dcontour\":[{\"colorbar\":{\"outlinewidth\":1,\"tickcolor\":\"rgb(36,36,36)\",\"ticks\":\"outside\"},\"colorscale\":[[0.0,\"#440154\"],[0.1111111111111111,\"#482878\"],[0.2222222222222222,\"#3e4989\"],[0.3333333333333333,\"#31688e\"],[0.4444444444444444,\"#26828e\"],[0.5555555555555556,\"#1f9e89\"],[0.6666666666666666,\"#35b779\"],[0.7777777777777778,\"#6ece58\"],[0.8888888888888888,\"#b5de2b\"],[1.0,\"#fde725\"]],\"type\":\"histogram2dcontour\"}],\"histogram2d\":[{\"colorbar\":{\"outlinewidth\":1,\"tickcolor\":\"rgb(36,36,36)\",\"ticks\":\"outside\"},\"colorscale\":[[0.0,\"#440154\"],[0.1111111111111111,\"#482878\"],[0.2222222222222222,\"#3e4989\"],[0.3333333333333333,\"#31688e\"],[0.4444444444444444,\"#26828e\"],[0.5555555555555556,\"#1f9e89\"],[0.6666666666666666,\"#35b779\"],[0.7777777777777778,\"#6ece58\"],[0.8888888888888888,\"#b5de2b\"],[1.0,\"#fde725\"]],\"type\":\"histogram2d\"}],\"histogram\":[{\"marker\":{\"line\":{\"color\":\"white\",\"width\":0.6}},\"type\":\"histogram\"}],\"mesh3d\":[{\"colorbar\":{\"outlinewidth\":1,\"tickcolor\":\"rgb(36,36,36)\",\"ticks\":\"outside\"},\"type\":\"mesh3d\"}],\"parcoords\":[{\"line\":{\"colorbar\":{\"outlinewidth\":1,\"tickcolor\":\"rgb(36,36,36)\",\"ticks\":\"outside\"}},\"type\":\"parcoords\"}],\"pie\":[{\"automargin\":true,\"type\":\"pie\"}],\"scatter3d\":[{\"line\":{\"colorbar\":{\"outlinewidth\":1,\"tickcolor\":\"rgb(36,36,36)\",\"ticks\":\"outside\"}},\"marker\":{\"colorbar\":{\"outlinewidth\":1,\"tickcolor\":\"rgb(36,36,36)\",\"ticks\":\"outside\"}},\"type\":\"scatter3d\"}],\"scattercarpet\":[{\"marker\":{\"colorbar\":{\"outlinewidth\":1,\"tickcolor\":\"rgb(36,36,36)\",\"ticks\":\"outside\"}},\"type\":\"scattercarpet\"}],\"scattergeo\":[{\"marker\":{\"colorbar\":{\"outlinewidth\":1,\"tickcolor\":\"rgb(36,36,36)\",\"ticks\":\"outside\"}},\"type\":\"scattergeo\"}],\"scattergl\":[{\"marker\":{\"colorbar\":{\"outlinewidth\":1,\"tickcolor\":\"rgb(36,36,36)\",\"ticks\":\"outside\"}},\"type\":\"scattergl\"}],\"scattermapbox\":[{\"marker\":{\"colorbar\":{\"outlinewidth\":1,\"tickcolor\":\"rgb(36,36,36)\",\"ticks\":\"outside\"}},\"type\":\"scattermapbox\"}],\"scatterpolargl\":[{\"marker\":{\"colorbar\":{\"outlinewidth\":1,\"tickcolor\":\"rgb(36,36,36)\",\"ticks\":\"outside\"}},\"type\":\"scatterpolargl\"}],\"scatterpolar\":[{\"marker\":{\"colorbar\":{\"outlinewidth\":1,\"tickcolor\":\"rgb(36,36,36)\",\"ticks\":\"outside\"}},\"type\":\"scatterpolar\"}],\"scatter\":[{\"marker\":{\"colorbar\":{\"outlinewidth\":1,\"tickcolor\":\"rgb(36,36,36)\",\"ticks\":\"outside\"}},\"type\":\"scatter\"}],\"scatterternary\":[{\"marker\":{\"colorbar\":{\"outlinewidth\":1,\"tickcolor\":\"rgb(36,36,36)\",\"ticks\":\"outside\"}},\"type\":\"scatterternary\"}],\"surface\":[{\"colorbar\":{\"outlinewidth\":1,\"tickcolor\":\"rgb(36,36,36)\",\"ticks\":\"outside\"},\"colorscale\":[[0.0,\"#440154\"],[0.1111111111111111,\"#482878\"],[0.2222222222222222,\"#3e4989\"],[0.3333333333333333,\"#31688e\"],[0.4444444444444444,\"#26828e\"],[0.5555555555555556,\"#1f9e89\"],[0.6666666666666666,\"#35b779\"],[0.7777777777777778,\"#6ece58\"],[0.8888888888888888,\"#b5de2b\"],[1.0,\"#fde725\"]],\"type\":\"surface\"}],\"table\":[{\"cells\":{\"fill\":{\"color\":\"rgb(237,237,237)\"},\"line\":{\"color\":\"white\"}},\"header\":{\"fill\":{\"color\":\"rgb(217,217,217)\"},\"line\":{\"color\":\"white\"}},\"type\":\"table\"}]},\"layout\":{\"annotationdefaults\":{\"arrowhead\":0,\"arrowwidth\":1},\"autotypenumbers\":\"strict\",\"coloraxis\":{\"colorbar\":{\"outlinewidth\":1,\"tickcolor\":\"rgb(36,36,36)\",\"ticks\":\"outside\"}},\"colorscale\":{\"diverging\":[[0.0,\"rgb(103,0,31)\"],[0.1,\"rgb(178,24,43)\"],[0.2,\"rgb(214,96,77)\"],[0.3,\"rgb(244,165,130)\"],[0.4,\"rgb(253,219,199)\"],[0.5,\"rgb(247,247,247)\"],[0.6,\"rgb(209,229,240)\"],[0.7,\"rgb(146,197,222)\"],[0.8,\"rgb(67,147,195)\"],[0.9,\"rgb(33,102,172)\"],[1.0,\"rgb(5,48,97)\"]],\"sequential\":[[0.0,\"#440154\"],[0.1111111111111111,\"#482878\"],[0.2222222222222222,\"#3e4989\"],[0.3333333333333333,\"#31688e\"],[0.4444444444444444,\"#26828e\"],[0.5555555555555556,\"#1f9e89\"],[0.6666666666666666,\"#35b779\"],[0.7777777777777778,\"#6ece58\"],[0.8888888888888888,\"#b5de2b\"],[1.0,\"#fde725\"]],\"sequentialminus\":[[0.0,\"#440154\"],[0.1111111111111111,\"#482878\"],[0.2222222222222222,\"#3e4989\"],[0.3333333333333333,\"#31688e\"],[0.4444444444444444,\"#26828e\"],[0.5555555555555556,\"#1f9e89\"],[0.6666666666666666,\"#35b779\"],[0.7777777777777778,\"#6ece58\"],[0.8888888888888888,\"#b5de2b\"],[1.0,\"#fde725\"]]},\"colorway\":[\"#1F77B4\",\"#FF7F0E\",\"#2CA02C\",\"#D62728\",\"#9467BD\",\"#8C564B\",\"#E377C2\",\"#7F7F7F\",\"#BCBD22\",\"#17BECF\"],\"font\":{\"color\":\"rgb(36,36,36)\"},\"geo\":{\"bgcolor\":\"white\",\"lakecolor\":\"white\",\"landcolor\":\"white\",\"showlakes\":true,\"showland\":true,\"subunitcolor\":\"white\"},\"hoverlabel\":{\"align\":\"left\"},\"hovermode\":\"closest\",\"mapbox\":{\"style\":\"light\"},\"paper_bgcolor\":\"white\",\"plot_bgcolor\":\"white\",\"polar\":{\"angularaxis\":{\"gridcolor\":\"rgb(232,232,232)\",\"linecolor\":\"rgb(36,36,36)\",\"showgrid\":false,\"showline\":true,\"ticks\":\"outside\"},\"bgcolor\":\"white\",\"radialaxis\":{\"gridcolor\":\"rgb(232,232,232)\",\"linecolor\":\"rgb(36,36,36)\",\"showgrid\":false,\"showline\":true,\"ticks\":\"outside\"}},\"scene\":{\"xaxis\":{\"backgroundcolor\":\"white\",\"gridcolor\":\"rgb(232,232,232)\",\"gridwidth\":2,\"linecolor\":\"rgb(36,36,36)\",\"showbackground\":true,\"showgrid\":false,\"showline\":true,\"ticks\":\"outside\",\"zeroline\":false,\"zerolinecolor\":\"rgb(36,36,36)\"},\"yaxis\":{\"backgroundcolor\":\"white\",\"gridcolor\":\"rgb(232,232,232)\",\"gridwidth\":2,\"linecolor\":\"rgb(36,36,36)\",\"showbackground\":true,\"showgrid\":false,\"showline\":true,\"ticks\":\"outside\",\"zeroline\":false,\"zerolinecolor\":\"rgb(36,36,36)\"},\"zaxis\":{\"backgroundcolor\":\"white\",\"gridcolor\":\"rgb(232,232,232)\",\"gridwidth\":2,\"linecolor\":\"rgb(36,36,36)\",\"showbackground\":true,\"showgrid\":false,\"showline\":true,\"ticks\":\"outside\",\"zeroline\":false,\"zerolinecolor\":\"rgb(36,36,36)\"}},\"shapedefaults\":{\"fillcolor\":\"black\",\"line\":{\"width\":0},\"opacity\":0.3},\"ternary\":{\"aaxis\":{\"gridcolor\":\"rgb(232,232,232)\",\"linecolor\":\"rgb(36,36,36)\",\"showgrid\":false,\"showline\":true,\"ticks\":\"outside\"},\"baxis\":{\"gridcolor\":\"rgb(232,232,232)\",\"linecolor\":\"rgb(36,36,36)\",\"showgrid\":false,\"showline\":true,\"ticks\":\"outside\"},\"bgcolor\":\"white\",\"caxis\":{\"gridcolor\":\"rgb(232,232,232)\",\"linecolor\":\"rgb(36,36,36)\",\"showgrid\":false,\"showline\":true,\"ticks\":\"outside\"}},\"title\":{\"x\":0.05},\"xaxis\":{\"automargin\":true,\"gridcolor\":\"rgb(232,232,232)\",\"linecolor\":\"rgb(36,36,36)\",\"showgrid\":false,\"showline\":true,\"ticks\":\"outside\",\"title\":{\"standoff\":15},\"zeroline\":false,\"zerolinecolor\":\"rgb(36,36,36)\"},\"yaxis\":{\"automargin\":true,\"gridcolor\":\"rgb(232,232,232)\",\"linecolor\":\"rgb(36,36,36)\",\"showgrid\":false,\"showline\":true,\"ticks\":\"outside\",\"title\":{\"standoff\":15},\"zeroline\":false,\"zerolinecolor\":\"rgb(36,36,36)\"}}},\"xaxis\":{\"anchor\":\"y\",\"domain\":[0.0,0.7363],\"title\":{\"text\":\"AverageTemperature\"}},\"yaxis\":{\"anchor\":\"x\",\"domain\":[0.0,0.7326],\"title\":{\"text\":\"GHG\"}},\"xaxis2\":{\"anchor\":\"y2\",\"domain\":[0.7413,1.0],\"matches\":\"x2\",\"showticklabels\":false,\"showline\":false,\"ticks\":\"\"},\"yaxis2\":{\"anchor\":\"x2\",\"domain\":[0.0,0.7326],\"matches\":\"y\",\"showticklabels\":false},\"xaxis3\":{\"anchor\":\"y3\",\"domain\":[0.0,0.7363],\"matches\":\"x\",\"showticklabels\":false},\"yaxis3\":{\"anchor\":\"x3\",\"domain\":[0.7426,1.0],\"matches\":\"y3\",\"showticklabels\":false,\"showline\":false,\"ticks\":\"\"},\"xaxis4\":{\"anchor\":\"y4\",\"domain\":[0.7413,1.0],\"matches\":\"x2\",\"showticklabels\":false,\"showline\":false,\"ticks\":\"\"},\"yaxis4\":{\"anchor\":\"x4\",\"domain\":[0.7426,1.0],\"matches\":\"y3\",\"showticklabels\":false,\"showline\":false,\"ticks\":\"\"},\"legend\":{\"title\":{\"text\":\"Country\"},\"tracegroupgap\":0},\"margin\":{\"t\":60}},                        {\"responsive\": true}                    ).then(function(){\n",
       "                            \n",
       "var gd = document.getElementById('aa78f35c-1a49-4372-b025-f1789dfed49f');\n",
       "var x = new MutationObserver(function (mutations, observer) {{\n",
       "        var display = window.getComputedStyle(gd).display;\n",
       "        if (!display || display === 'none') {{\n",
       "            console.log([gd, 'removed!']);\n",
       "            Plotly.purge(gd);\n",
       "            observer.disconnect();\n",
       "        }}\n",
       "}});\n",
       "\n",
       "// Listen for the removal of the full notebook cells\n",
       "var notebookContainer = gd.closest('#notebook-container');\n",
       "if (notebookContainer) {{\n",
       "    x.observe(notebookContainer, {childList: true});\n",
       "}}\n",
       "\n",
       "// Listen for the clearing of the current output cell\n",
       "var outputEl = gd.closest('.output');\n",
       "if (outputEl) {{\n",
       "    x.observe(outputEl, {childList: true});\n",
       "}}\n",
       "\n",
       "                        })                };                });            </script>        </div>"
      ]
     },
     "metadata": {},
     "output_type": "display_data"
    }
   ],
   "source": [
    "fig = px.scatter(df, x=\"AverageTemperature\", y=\"GHG\", color=\"Country\", marginal_y=\"violin\",\n",
    "           marginal_x=\"box\", trendline=\"ols\", template=\"simple_white\")\n",
    "fig.show()"
   ]
  },
  {
   "cell_type": "code",
   "execution_count": 16,
   "id": "49dd905b",
   "metadata": {},
   "outputs": [
    {
     "data": {
      "application/vnd.plotly.v1+json": {
       "config": {
        "plotlyServerURL": "https://plot.ly"
       },
       "data": [
        {
         "hovertemplate": "<b>%{hovertext}</b><br><br>AverageTemperature(above Average)=False<br>AverageTemperature=%{x}<br>GHG=%{y}<br>size=%{marker.size}<extra></extra>",
         "hovertext": [
          0,
          1,
          3,
          5,
          7,
          10,
          11,
          12,
          14,
          18,
          20,
          21,
          22,
          23,
          25,
          26,
          31,
          33,
          34,
          36,
          38,
          43,
          44,
          46,
          47,
          50,
          51,
          53,
          56,
          57,
          58,
          59,
          64,
          65
         ],
         "legendgroup": "False",
         "marker": {
          "color": "#0d0887",
          "size": [
           9.592605086913911,
           15.784967576388784,
           20.08107676980715,
           21.2208282794972,
           22.25498961859955,
           18.532775811522946,
           19.087616753495507,
           21.30706019652562,
           20.328164455419742,
           12.625151333590619,
           18.57877012547175,
           23.181332039096855,
           24.07943060240522,
           17.87824445965597,
           20.442349857441666,
           12.05645832750408,
           19.23056337163939,
           21.22425536615002,
           22.11325304311299,
           13.111585504232451,
           12.28384816969974,
           21.32429452683904,
           19.320443770674036,
           15.038264291359877,
           19.830822287216268,
           22.419676174144847,
           19.13752304465051,
           20.363838926963176,
           15.471040903723889,
           20.848629835021793,
           20.623304532612508,
           19.953272203244882,
           18.976667646870585,
           24.37778684647327
          ],
          "sizemode": "area",
          "sizeref": 0.060944467116183176,
          "symbol": "circle"
         },
         "mode": "markers",
         "name": "False",
         "orientation": "v",
         "showlegend": true,
         "type": "scatter",
         "x": [
          13.350083333333332,
          12.51825,
          14.771333333333333,
          6.962833333333333,
          10.454583333333334,
          10.300416666666665,
          9.369166666666667,
          6.9755,
          9.236916666666668,
          6.746416666666666,
          3.045916666666667,
          11.525916666666667,
          9.176499999999999,
          14.381749999999998,
          10.288833333333335,
          1.248333333333333,
          10.576583333333334,
          13.354666666666667,
          12.102583333333333,
          7.181750000000001,
          10.12075,
          10.1195,
          10.464666666666666,
          7.137250000000001,
          1.2173333333333334,
          8.606333333333334,
          15.758666666666668,
          8.988166666666666,
          12.057833333333333,
          14.510083333333334,
          4.023333333333333,
          7.995833333333334,
          10.961,
          9.814333333333332
         ],
         "xaxis": "x",
         "y": [
          14656,
          7166784,
          526139408,
          1644707312,
          4626144416,
          111861920,
          194825872,
          1792828176,
          673611744,
          304112,
          117127088,
          11682198672,
          28678989040,
          58133024,
          755091776,
          172208,
          224764416,
          1650353536,
          4014798688,
          494640,
          216176,
          1823994160,
          245902032,
          3396528,
          409653520,
          5454332992,
          204795616,
          698076272,
          5235856,
          1133560992,
          904872432,
          463016016,
          174366096,
          38649004176
         ],
         "yaxis": "y"
        },
        {
         "alignmentgroup": "True",
         "hovertemplate": "<b>%{hovertext}</b><br><br>AverageTemperature(above Average)=False<br>AverageTemperature=%{x}<extra></extra>",
         "hovertext": [
          0,
          1,
          3,
          5,
          7,
          10,
          11,
          12,
          14,
          18,
          20,
          21,
          22,
          23,
          25,
          26,
          31,
          33,
          34,
          36,
          38,
          43,
          44,
          46,
          47,
          50,
          51,
          53,
          56,
          57,
          58,
          59,
          64,
          65
         ],
         "legendgroup": "False",
         "marker": {
          "color": "#0d0887",
          "symbol": "circle"
         },
         "name": "False",
         "notched": true,
         "offsetgroup": "False",
         "showlegend": false,
         "type": "box",
         "x": [
          13.350083333333332,
          12.51825,
          14.771333333333333,
          6.962833333333333,
          10.454583333333334,
          10.300416666666665,
          9.369166666666667,
          6.9755,
          9.236916666666668,
          6.746416666666666,
          3.045916666666667,
          11.525916666666667,
          9.176499999999999,
          14.381749999999998,
          10.288833333333335,
          1.248333333333333,
          10.576583333333334,
          13.354666666666667,
          12.102583333333333,
          7.181750000000001,
          10.12075,
          10.1195,
          10.464666666666666,
          7.137250000000001,
          1.2173333333333334,
          8.606333333333334,
          15.758666666666668,
          8.988166666666666,
          12.057833333333333,
          14.510083333333334,
          4.023333333333333,
          7.995833333333334,
          10.961,
          9.814333333333332
         ],
         "xaxis": "x3",
         "yaxis": "y3"
        },
        {
         "alignmentgroup": "True",
         "hovertemplate": "<b>%{hovertext}</b><br><br>AverageTemperature(above Average)=False<br>GHG=%{y}<extra></extra>",
         "hovertext": [
          0,
          1,
          3,
          5,
          7,
          10,
          11,
          12,
          14,
          18,
          20,
          21,
          22,
          23,
          25,
          26,
          31,
          33,
          34,
          36,
          38,
          43,
          44,
          46,
          47,
          50,
          51,
          53,
          56,
          57,
          58,
          59,
          64,
          65
         ],
         "legendgroup": "False",
         "marker": {
          "color": "#0d0887",
          "symbol": "circle"
         },
         "name": "False",
         "notched": true,
         "offsetgroup": "False",
         "showlegend": false,
         "type": "box",
         "xaxis": "x2",
         "y": [
          14656,
          7166784,
          526139408,
          1644707312,
          4626144416,
          111861920,
          194825872,
          1792828176,
          673611744,
          304112,
          117127088,
          11682198672,
          28678989040,
          58133024,
          755091776,
          172208,
          224764416,
          1650353536,
          4014798688,
          494640,
          216176,
          1823994160,
          245902032,
          3396528,
          409653520,
          5454332992,
          204795616,
          698076272,
          5235856,
          1133560992,
          904872432,
          463016016,
          174366096,
          38649004176
         ],
         "yaxis": "y2"
        },
        {
         "hovertemplate": "<b>%{hovertext}</b><br><br>AverageTemperature(above Average)=True<br>AverageTemperature=%{x}<br>GHG=%{y}<br>size=%{marker.size}<extra></extra>",
         "hovertext": [
          2,
          4,
          6,
          8,
          9,
          13,
          15,
          16,
          17,
          19,
          24,
          27,
          28,
          29,
          30,
          32,
          35,
          37,
          39,
          40,
          41,
          42,
          45,
          48,
          49,
          52,
          54,
          55,
          60,
          61,
          62,
          63,
          66,
          67,
          68,
          69
         ],
         "legendgroup": "True",
         "marker": {
          "color": "#9c179e",
          "size": [
           15.803707046006815,
           20.97430792058933,
           17.646253744145152,
           14.572781173525458,
           19.27723675792811,
           18.03394262602661,
           16.877768876221687,
           17.982078536727776,
           11.150749704960461,
           10.604205998592391,
           12.380697995689658,
           21.47843631060827,
           20.166374131327395,
           20.59174638928828,
           18.676077530281106,
           14.288529636170468,
           16.17670563298545,
           14.05563550574088,
           10.40353530313024,
           18.00087587110596,
           15.928545470503629,
           13.879633992965513,
           17.207287169864365,
           19.059639833715387,
           14.981676816730412,
           12.468990602835337,
           18.61154279335995,
           21.08232077684655,
           13.203522999558135,
           18.853139399209343,
           13.268905758820988,
           14.177572565584484,
           14.30886932040759,
           19.47060815090865,
           18.71345829238856,
           18.354468460188638
          ],
          "sizemode": "area",
          "sizeref": 0.060944467116183176,
          "symbol": "circle"
         },
         "mode": "markers",
         "name": "True",
         "orientation": "v",
         "showlegend": true,
         "type": "scatter",
         "x": [
          23.18816666666667,
          20.984916666666667,
          25.39675,
          20.777916666666666,
          24.616833333333332,
          24.753583333333335,
          21.730333333333334,
          21.8925,
          26.69141666666667,
          22.93675,
          23.273083333333332,
          24.047250000000002,
          25.757583333333333,
          16.7755,
          21.055,
          18.877083333333335,
          24.63525,
          17.01975,
          22.988583333333334,
          25.980416666666667,
          18.150333333333332,
          23.798333333333332,
          27.0685,
          19.85141666666667,
          26.55316666666667,
          26.396,
          25.0955,
          17.666999999999998,
          17.2775,
          22.36491666666667,
          26.249583333333334,
          20.146,
          17.28925,
          24.96366666666667,
          24.04433333333333,
          21.535083333333333
         ],
         "xaxis": "x",
         "y": [
          7302352,
          1285364176,
          46096784,
          2132448,
          235503600,
          67926896,
          21375776,
          64493728,
          69616,
          40304,
          238160,
          2127974256,
          572987312,
          876762224,
          129097376,
          1604832,
          10603616,
          1271408,
          32976,
          65717504,
          8273312,
          1066224,
          29718704,
          189450784,
          3209664,
          260144,
          121029248,
          1431975472,
          542272,
          154104176,
          578912,
          1436288,
          1637808,
          285744368,
          134014464,
          93593216
         ],
         "yaxis": "y"
        },
        {
         "alignmentgroup": "True",
         "hovertemplate": "<b>%{hovertext}</b><br><br>AverageTemperature(above Average)=True<br>AverageTemperature=%{x}<extra></extra>",
         "hovertext": [
          2,
          4,
          6,
          8,
          9,
          13,
          15,
          16,
          17,
          19,
          24,
          27,
          28,
          29,
          30,
          32,
          35,
          37,
          39,
          40,
          41,
          42,
          45,
          48,
          49,
          52,
          54,
          55,
          60,
          61,
          62,
          63,
          66,
          67,
          68,
          69
         ],
         "legendgroup": "True",
         "marker": {
          "color": "#9c179e",
          "symbol": "circle"
         },
         "name": "True",
         "notched": true,
         "offsetgroup": "True",
         "showlegend": false,
         "type": "box",
         "x": [
          23.18816666666667,
          20.984916666666667,
          25.39675,
          20.777916666666666,
          24.616833333333332,
          24.753583333333335,
          21.730333333333334,
          21.8925,
          26.69141666666667,
          22.93675,
          23.273083333333332,
          24.047250000000002,
          25.757583333333333,
          16.7755,
          21.055,
          18.877083333333335,
          24.63525,
          17.01975,
          22.988583333333334,
          25.980416666666667,
          18.150333333333332,
          23.798333333333332,
          27.0685,
          19.85141666666667,
          26.55316666666667,
          26.396,
          25.0955,
          17.666999999999998,
          17.2775,
          22.36491666666667,
          26.249583333333334,
          20.146,
          17.28925,
          24.96366666666667,
          24.04433333333333,
          21.535083333333333
         ],
         "xaxis": "x3",
         "yaxis": "y3"
        },
        {
         "alignmentgroup": "True",
         "hovertemplate": "<b>%{hovertext}</b><br><br>AverageTemperature(above Average)=True<br>GHG=%{y}<extra></extra>",
         "hovertext": [
          2,
          4,
          6,
          8,
          9,
          13,
          15,
          16,
          17,
          19,
          24,
          27,
          28,
          29,
          30,
          32,
          35,
          37,
          39,
          40,
          41,
          42,
          45,
          48,
          49,
          52,
          54,
          55,
          60,
          61,
          62,
          63,
          66,
          67,
          68,
          69
         ],
         "legendgroup": "True",
         "marker": {
          "color": "#9c179e",
          "symbol": "circle"
         },
         "name": "True",
         "notched": true,
         "offsetgroup": "True",
         "showlegend": false,
         "type": "box",
         "xaxis": "x2",
         "y": [
          7302352,
          1285364176,
          46096784,
          2132448,
          235503600,
          67926896,
          21375776,
          64493728,
          69616,
          40304,
          238160,
          2127974256,
          572987312,
          876762224,
          129097376,
          1604832,
          10603616,
          1271408,
          32976,
          65717504,
          8273312,
          1066224,
          29718704,
          189450784,
          3209664,
          260144,
          121029248,
          1431975472,
          542272,
          154104176,
          578912,
          1436288,
          1637808,
          285744368,
          134014464,
          93593216
         ],
         "yaxis": "y2"
        },
        {
         "marker": {
          "color": "#fb9f3a"
         },
         "mode": "lines",
         "name": "OLS Trendline",
         "type": "scatter",
         "x": [
          9.592605086913911,
          15.784967576388784,
          15.803707046006815,
          20.08107676980715,
          20.97430792058933,
          21.2208282794972,
          17.646253744145152,
          22.25498961859955,
          14.572781173525458,
          19.27723675792811,
          18.532775811522946,
          19.087616753495507,
          21.30706019652562,
          18.03394262602661,
          20.328164455419742,
          16.877768876221687,
          17.982078536727776,
          11.150749704960461,
          12.625151333590619,
          10.604205998592391,
          18.57877012547175,
          23.181332039096855,
          24.07943060240522,
          17.87824445965597,
          12.380697995689658,
          20.442349857441666,
          12.05645832750408,
          21.47843631060827,
          20.166374131327395,
          20.59174638928828,
          18.676077530281106,
          19.23056337163939,
          14.288529636170468,
          21.22425536615002,
          22.11325304311299,
          16.17670563298545,
          13.111585504232451,
          14.05563550574088,
          12.28384816969974,
          10.40353530313024,
          18.00087587110596,
          15.928545470503629,
          13.879633992965513,
          21.32429452683904,
          19.320443770674036,
          17.207287169864365,
          15.038264291359877,
          19.830822287216268,
          19.059639833715387,
          14.981676816730412,
          22.419676174144847,
          19.13752304465051,
          12.468990602835337,
          20.363838926963176,
          18.61154279335995,
          21.08232077684655,
          15.471040903723889,
          20.848629835021793,
          20.623304532612508,
          19.953272203244882,
          13.203522999558135,
          18.853139399209343,
          13.268905758820988,
          14.177572565584484,
          18.976667646870585,
          24.37778684647327,
          14.30886932040759,
          19.47060815090865,
          18.71345829238856,
          18.354468460188638
         ],
         "y": [
          21.00012042250164,
          17.34521385892454,
          17.334153296720483,
          14.809529341818651,
          14.282319185544004,
          14.136815933859497,
          16.246630395377185,
          13.526424815363558,
          18.060680378792274,
          15.283978332890513,
          15.723380128888053,
          15.395897394470678,
          14.085919430291966,
          16.01780550965339,
          14.663691237951266,
          16.70021178576852,
          16.048417154355143,
          20.080459630488864,
          19.210226306940953,
          20.403045103009518,
          15.69623299074418,
          12.97967145611656,
          12.44958841602417,
          16.109702948017535,
          19.35450954467149,
          14.596295801068498,
          19.545884919326603,
          13.9847684260887,
          14.75918443920579,
          14.508117764697094,
          15.638799422679186,
          15.311526278635123,
          18.228453633564015,
          14.134793170895824,
          13.610081729978177,
          17.113999036360187,
          18.92311917358937,
          18.365914301826326,
          19.411673036843258,
          20.52148659334682,
          16.037322438741615,
          17.260470146249958,
          18.469795346473752,
          14.075747243652627,
          15.258476338337376,
          16.505720817854353,
          17.78593914626607,
          14.957236578360543,
          15.412410159656313,
          17.819338665882537,
          13.429222176819952,
          15.36644129731612,
          19.30239676381918,
          14.642635161144092,
          15.676889640096652,
          14.218566958836309,
          17.530502213466935,
          14.356497927602359,
          14.489491260617902,
          14.884963192788698,
          18.86885507718419,
          15.534292525997186,
          18.830264333121523,
          18.293943618404096,
          15.461382678756875,
          12.27349016651407,
          18.216448579669688,
          15.169845096243936,
          15.616736245174597,
          15.828622144327797
         ]
        }
       ],
       "layout": {
        "legend": {
         "itemsizing": "constant",
         "title": {
          "text": "AverageTemperature(above Average)"
         },
         "tracegroupgap": 0
        },
        "margin": {
         "t": 60
        },
        "template": {
         "data": {
          "bar": [
           {
            "error_x": {
             "color": "rgb(36,36,36)"
            },
            "error_y": {
             "color": "rgb(36,36,36)"
            },
            "marker": {
             "line": {
              "color": "white",
              "width": 0.5
             },
             "pattern": {
              "fillmode": "overlay",
              "size": 10,
              "solidity": 0.2
             }
            },
            "type": "bar"
           }
          ],
          "barpolar": [
           {
            "marker": {
             "line": {
              "color": "white",
              "width": 0.5
             },
             "pattern": {
              "fillmode": "overlay",
              "size": 10,
              "solidity": 0.2
             }
            },
            "type": "barpolar"
           }
          ],
          "carpet": [
           {
            "aaxis": {
             "endlinecolor": "rgb(36,36,36)",
             "gridcolor": "white",
             "linecolor": "white",
             "minorgridcolor": "white",
             "startlinecolor": "rgb(36,36,36)"
            },
            "baxis": {
             "endlinecolor": "rgb(36,36,36)",
             "gridcolor": "white",
             "linecolor": "white",
             "minorgridcolor": "white",
             "startlinecolor": "rgb(36,36,36)"
            },
            "type": "carpet"
           }
          ],
          "choropleth": [
           {
            "colorbar": {
             "outlinewidth": 1,
             "tickcolor": "rgb(36,36,36)",
             "ticks": "outside"
            },
            "type": "choropleth"
           }
          ],
          "contour": [
           {
            "colorbar": {
             "outlinewidth": 1,
             "tickcolor": "rgb(36,36,36)",
             "ticks": "outside"
            },
            "colorscale": [
             [
              0,
              "#440154"
             ],
             [
              0.1111111111111111,
              "#482878"
             ],
             [
              0.2222222222222222,
              "#3e4989"
             ],
             [
              0.3333333333333333,
              "#31688e"
             ],
             [
              0.4444444444444444,
              "#26828e"
             ],
             [
              0.5555555555555556,
              "#1f9e89"
             ],
             [
              0.6666666666666666,
              "#35b779"
             ],
             [
              0.7777777777777778,
              "#6ece58"
             ],
             [
              0.8888888888888888,
              "#b5de2b"
             ],
             [
              1,
              "#fde725"
             ]
            ],
            "type": "contour"
           }
          ],
          "contourcarpet": [
           {
            "colorbar": {
             "outlinewidth": 1,
             "tickcolor": "rgb(36,36,36)",
             "ticks": "outside"
            },
            "type": "contourcarpet"
           }
          ],
          "heatmap": [
           {
            "colorbar": {
             "outlinewidth": 1,
             "tickcolor": "rgb(36,36,36)",
             "ticks": "outside"
            },
            "colorscale": [
             [
              0,
              "#440154"
             ],
             [
              0.1111111111111111,
              "#482878"
             ],
             [
              0.2222222222222222,
              "#3e4989"
             ],
             [
              0.3333333333333333,
              "#31688e"
             ],
             [
              0.4444444444444444,
              "#26828e"
             ],
             [
              0.5555555555555556,
              "#1f9e89"
             ],
             [
              0.6666666666666666,
              "#35b779"
             ],
             [
              0.7777777777777778,
              "#6ece58"
             ],
             [
              0.8888888888888888,
              "#b5de2b"
             ],
             [
              1,
              "#fde725"
             ]
            ],
            "type": "heatmap"
           }
          ],
          "heatmapgl": [
           {
            "colorbar": {
             "outlinewidth": 1,
             "tickcolor": "rgb(36,36,36)",
             "ticks": "outside"
            },
            "colorscale": [
             [
              0,
              "#440154"
             ],
             [
              0.1111111111111111,
              "#482878"
             ],
             [
              0.2222222222222222,
              "#3e4989"
             ],
             [
              0.3333333333333333,
              "#31688e"
             ],
             [
              0.4444444444444444,
              "#26828e"
             ],
             [
              0.5555555555555556,
              "#1f9e89"
             ],
             [
              0.6666666666666666,
              "#35b779"
             ],
             [
              0.7777777777777778,
              "#6ece58"
             ],
             [
              0.8888888888888888,
              "#b5de2b"
             ],
             [
              1,
              "#fde725"
             ]
            ],
            "type": "heatmapgl"
           }
          ],
          "histogram": [
           {
            "marker": {
             "line": {
              "color": "white",
              "width": 0.6
             }
            },
            "type": "histogram"
           }
          ],
          "histogram2d": [
           {
            "colorbar": {
             "outlinewidth": 1,
             "tickcolor": "rgb(36,36,36)",
             "ticks": "outside"
            },
            "colorscale": [
             [
              0,
              "#440154"
             ],
             [
              0.1111111111111111,
              "#482878"
             ],
             [
              0.2222222222222222,
              "#3e4989"
             ],
             [
              0.3333333333333333,
              "#31688e"
             ],
             [
              0.4444444444444444,
              "#26828e"
             ],
             [
              0.5555555555555556,
              "#1f9e89"
             ],
             [
              0.6666666666666666,
              "#35b779"
             ],
             [
              0.7777777777777778,
              "#6ece58"
             ],
             [
              0.8888888888888888,
              "#b5de2b"
             ],
             [
              1,
              "#fde725"
             ]
            ],
            "type": "histogram2d"
           }
          ],
          "histogram2dcontour": [
           {
            "colorbar": {
             "outlinewidth": 1,
             "tickcolor": "rgb(36,36,36)",
             "ticks": "outside"
            },
            "colorscale": [
             [
              0,
              "#440154"
             ],
             [
              0.1111111111111111,
              "#482878"
             ],
             [
              0.2222222222222222,
              "#3e4989"
             ],
             [
              0.3333333333333333,
              "#31688e"
             ],
             [
              0.4444444444444444,
              "#26828e"
             ],
             [
              0.5555555555555556,
              "#1f9e89"
             ],
             [
              0.6666666666666666,
              "#35b779"
             ],
             [
              0.7777777777777778,
              "#6ece58"
             ],
             [
              0.8888888888888888,
              "#b5de2b"
             ],
             [
              1,
              "#fde725"
             ]
            ],
            "type": "histogram2dcontour"
           }
          ],
          "mesh3d": [
           {
            "colorbar": {
             "outlinewidth": 1,
             "tickcolor": "rgb(36,36,36)",
             "ticks": "outside"
            },
            "type": "mesh3d"
           }
          ],
          "parcoords": [
           {
            "line": {
             "colorbar": {
              "outlinewidth": 1,
              "tickcolor": "rgb(36,36,36)",
              "ticks": "outside"
             }
            },
            "type": "parcoords"
           }
          ],
          "pie": [
           {
            "automargin": true,
            "type": "pie"
           }
          ],
          "scatter": [
           {
            "marker": {
             "colorbar": {
              "outlinewidth": 1,
              "tickcolor": "rgb(36,36,36)",
              "ticks": "outside"
             }
            },
            "type": "scatter"
           }
          ],
          "scatter3d": [
           {
            "line": {
             "colorbar": {
              "outlinewidth": 1,
              "tickcolor": "rgb(36,36,36)",
              "ticks": "outside"
             }
            },
            "marker": {
             "colorbar": {
              "outlinewidth": 1,
              "tickcolor": "rgb(36,36,36)",
              "ticks": "outside"
             }
            },
            "type": "scatter3d"
           }
          ],
          "scattercarpet": [
           {
            "marker": {
             "colorbar": {
              "outlinewidth": 1,
              "tickcolor": "rgb(36,36,36)",
              "ticks": "outside"
             }
            },
            "type": "scattercarpet"
           }
          ],
          "scattergeo": [
           {
            "marker": {
             "colorbar": {
              "outlinewidth": 1,
              "tickcolor": "rgb(36,36,36)",
              "ticks": "outside"
             }
            },
            "type": "scattergeo"
           }
          ],
          "scattergl": [
           {
            "marker": {
             "colorbar": {
              "outlinewidth": 1,
              "tickcolor": "rgb(36,36,36)",
              "ticks": "outside"
             }
            },
            "type": "scattergl"
           }
          ],
          "scattermapbox": [
           {
            "marker": {
             "colorbar": {
              "outlinewidth": 1,
              "tickcolor": "rgb(36,36,36)",
              "ticks": "outside"
             }
            },
            "type": "scattermapbox"
           }
          ],
          "scatterpolar": [
           {
            "marker": {
             "colorbar": {
              "outlinewidth": 1,
              "tickcolor": "rgb(36,36,36)",
              "ticks": "outside"
             }
            },
            "type": "scatterpolar"
           }
          ],
          "scatterpolargl": [
           {
            "marker": {
             "colorbar": {
              "outlinewidth": 1,
              "tickcolor": "rgb(36,36,36)",
              "ticks": "outside"
             }
            },
            "type": "scatterpolargl"
           }
          ],
          "scatterternary": [
           {
            "marker": {
             "colorbar": {
              "outlinewidth": 1,
              "tickcolor": "rgb(36,36,36)",
              "ticks": "outside"
             }
            },
            "type": "scatterternary"
           }
          ],
          "surface": [
           {
            "colorbar": {
             "outlinewidth": 1,
             "tickcolor": "rgb(36,36,36)",
             "ticks": "outside"
            },
            "colorscale": [
             [
              0,
              "#440154"
             ],
             [
              0.1111111111111111,
              "#482878"
             ],
             [
              0.2222222222222222,
              "#3e4989"
             ],
             [
              0.3333333333333333,
              "#31688e"
             ],
             [
              0.4444444444444444,
              "#26828e"
             ],
             [
              0.5555555555555556,
              "#1f9e89"
             ],
             [
              0.6666666666666666,
              "#35b779"
             ],
             [
              0.7777777777777778,
              "#6ece58"
             ],
             [
              0.8888888888888888,
              "#b5de2b"
             ],
             [
              1,
              "#fde725"
             ]
            ],
            "type": "surface"
           }
          ],
          "table": [
           {
            "cells": {
             "fill": {
              "color": "rgb(237,237,237)"
             },
             "line": {
              "color": "white"
             }
            },
            "header": {
             "fill": {
              "color": "rgb(217,217,217)"
             },
             "line": {
              "color": "white"
             }
            },
            "type": "table"
           }
          ]
         },
         "layout": {
          "annotationdefaults": {
           "arrowhead": 0,
           "arrowwidth": 1
          },
          "autotypenumbers": "strict",
          "coloraxis": {
           "colorbar": {
            "outlinewidth": 1,
            "tickcolor": "rgb(36,36,36)",
            "ticks": "outside"
           }
          },
          "colorscale": {
           "diverging": [
            [
             0,
             "rgb(103,0,31)"
            ],
            [
             0.1,
             "rgb(178,24,43)"
            ],
            [
             0.2,
             "rgb(214,96,77)"
            ],
            [
             0.3,
             "rgb(244,165,130)"
            ],
            [
             0.4,
             "rgb(253,219,199)"
            ],
            [
             0.5,
             "rgb(247,247,247)"
            ],
            [
             0.6,
             "rgb(209,229,240)"
            ],
            [
             0.7,
             "rgb(146,197,222)"
            ],
            [
             0.8,
             "rgb(67,147,195)"
            ],
            [
             0.9,
             "rgb(33,102,172)"
            ],
            [
             1,
             "rgb(5,48,97)"
            ]
           ],
           "sequential": [
            [
             0,
             "#440154"
            ],
            [
             0.1111111111111111,
             "#482878"
            ],
            [
             0.2222222222222222,
             "#3e4989"
            ],
            [
             0.3333333333333333,
             "#31688e"
            ],
            [
             0.4444444444444444,
             "#26828e"
            ],
            [
             0.5555555555555556,
             "#1f9e89"
            ],
            [
             0.6666666666666666,
             "#35b779"
            ],
            [
             0.7777777777777778,
             "#6ece58"
            ],
            [
             0.8888888888888888,
             "#b5de2b"
            ],
            [
             1,
             "#fde725"
            ]
           ],
           "sequentialminus": [
            [
             0,
             "#440154"
            ],
            [
             0.1111111111111111,
             "#482878"
            ],
            [
             0.2222222222222222,
             "#3e4989"
            ],
            [
             0.3333333333333333,
             "#31688e"
            ],
            [
             0.4444444444444444,
             "#26828e"
            ],
            [
             0.5555555555555556,
             "#1f9e89"
            ],
            [
             0.6666666666666666,
             "#35b779"
            ],
            [
             0.7777777777777778,
             "#6ece58"
            ],
            [
             0.8888888888888888,
             "#b5de2b"
            ],
            [
             1,
             "#fde725"
            ]
           ]
          },
          "colorway": [
           "#1F77B4",
           "#FF7F0E",
           "#2CA02C",
           "#D62728",
           "#9467BD",
           "#8C564B",
           "#E377C2",
           "#7F7F7F",
           "#BCBD22",
           "#17BECF"
          ],
          "font": {
           "color": "rgb(36,36,36)"
          },
          "geo": {
           "bgcolor": "white",
           "lakecolor": "white",
           "landcolor": "white",
           "showlakes": true,
           "showland": true,
           "subunitcolor": "white"
          },
          "hoverlabel": {
           "align": "left"
          },
          "hovermode": "closest",
          "mapbox": {
           "style": "light"
          },
          "paper_bgcolor": "white",
          "plot_bgcolor": "white",
          "polar": {
           "angularaxis": {
            "gridcolor": "rgb(232,232,232)",
            "linecolor": "rgb(36,36,36)",
            "showgrid": false,
            "showline": true,
            "ticks": "outside"
           },
           "bgcolor": "white",
           "radialaxis": {
            "gridcolor": "rgb(232,232,232)",
            "linecolor": "rgb(36,36,36)",
            "showgrid": false,
            "showline": true,
            "ticks": "outside"
           }
          },
          "scene": {
           "xaxis": {
            "backgroundcolor": "white",
            "gridcolor": "rgb(232,232,232)",
            "gridwidth": 2,
            "linecolor": "rgb(36,36,36)",
            "showbackground": true,
            "showgrid": false,
            "showline": true,
            "ticks": "outside",
            "zeroline": false,
            "zerolinecolor": "rgb(36,36,36)"
           },
           "yaxis": {
            "backgroundcolor": "white",
            "gridcolor": "rgb(232,232,232)",
            "gridwidth": 2,
            "linecolor": "rgb(36,36,36)",
            "showbackground": true,
            "showgrid": false,
            "showline": true,
            "ticks": "outside",
            "zeroline": false,
            "zerolinecolor": "rgb(36,36,36)"
           },
           "zaxis": {
            "backgroundcolor": "white",
            "gridcolor": "rgb(232,232,232)",
            "gridwidth": 2,
            "linecolor": "rgb(36,36,36)",
            "showbackground": true,
            "showgrid": false,
            "showline": true,
            "ticks": "outside",
            "zeroline": false,
            "zerolinecolor": "rgb(36,36,36)"
           }
          },
          "shapedefaults": {
           "fillcolor": "black",
           "line": {
            "width": 0
           },
           "opacity": 0.3
          },
          "ternary": {
           "aaxis": {
            "gridcolor": "rgb(232,232,232)",
            "linecolor": "rgb(36,36,36)",
            "showgrid": false,
            "showline": true,
            "ticks": "outside"
           },
           "baxis": {
            "gridcolor": "rgb(232,232,232)",
            "linecolor": "rgb(36,36,36)",
            "showgrid": false,
            "showline": true,
            "ticks": "outside"
           },
           "bgcolor": "white",
           "caxis": {
            "gridcolor": "rgb(232,232,232)",
            "linecolor": "rgb(36,36,36)",
            "showgrid": false,
            "showline": true,
            "ticks": "outside"
           }
          },
          "title": {
           "x": 0.05
          },
          "xaxis": {
           "automargin": true,
           "gridcolor": "rgb(232,232,232)",
           "linecolor": "rgb(36,36,36)",
           "showgrid": false,
           "showline": true,
           "ticks": "outside",
           "title": {
            "standoff": 15
           },
           "zeroline": false,
           "zerolinecolor": "rgb(36,36,36)"
          },
          "yaxis": {
           "automargin": true,
           "gridcolor": "rgb(232,232,232)",
           "linecolor": "rgb(36,36,36)",
           "showgrid": false,
           "showline": true,
           "ticks": "outside",
           "title": {
            "standoff": 15
           },
           "zeroline": false,
           "zerolinecolor": "rgb(36,36,36)"
          }
         }
        },
        "xaxis": {
         "anchor": "y",
         "domain": [
          0,
          0.7363
         ],
         "title": {
          "text": "AverageTemperature"
         }
        },
        "xaxis2": {
         "anchor": "y2",
         "domain": [
          0.7413,
          1
         ],
         "matches": "x2",
         "showline": false,
         "showticklabels": false,
         "ticks": ""
        },
        "xaxis3": {
         "anchor": "y3",
         "domain": [
          0,
          0.7363
         ],
         "matches": "x",
         "showticklabels": false
        },
        "xaxis4": {
         "anchor": "y4",
         "domain": [
          0.7413,
          1
         ],
         "matches": "x2",
         "showline": false,
         "showticklabels": false,
         "ticks": ""
        },
        "yaxis": {
         "anchor": "x",
         "domain": [
          0,
          0.7326
         ],
         "title": {
          "text": "GHG"
         }
        },
        "yaxis2": {
         "anchor": "x2",
         "domain": [
          0,
          0.7326
         ],
         "matches": "y",
         "showticklabels": false
        },
        "yaxis3": {
         "anchor": "x3",
         "domain": [
          0.7426,
          1
         ],
         "matches": "y3",
         "showline": false,
         "showticklabels": false,
         "ticks": ""
        },
        "yaxis4": {
         "anchor": "x4",
         "domain": [
          0.7426,
          1
         ],
         "matches": "y3",
         "showline": false,
         "showticklabels": false,
         "ticks": ""
        }
       }
      },
      "text/html": [
       "<div>                            <div id=\"a8adf79d-153f-4235-9245-c44f97527d14\" class=\"plotly-graph-div\" style=\"height:525px; width:100%;\"></div>            <script type=\"text/javascript\">                require([\"plotly\"], function(Plotly) {                    window.PLOTLYENV=window.PLOTLYENV || {};                                    if (document.getElementById(\"a8adf79d-153f-4235-9245-c44f97527d14\")) {                    Plotly.newPlot(                        \"a8adf79d-153f-4235-9245-c44f97527d14\",                        [{\"hovertemplate\":\"<b>%{hovertext}</b><br><br>AverageTemperature(above Average)=False<br>AverageTemperature=%{x}<br>GHG=%{y}<br>size=%{marker.size}<extra></extra>\",\"hovertext\":[0.0,1.0,3.0,5.0,7.0,10.0,11.0,12.0,14.0,18.0,20.0,21.0,22.0,23.0,25.0,26.0,31.0,33.0,34.0,36.0,38.0,43.0,44.0,46.0,47.0,50.0,51.0,53.0,56.0,57.0,58.0,59.0,64.0,65.0],\"legendgroup\":\"False\",\"marker\":{\"color\":\"#0d0887\",\"size\":[9.592605086913911,15.784967576388784,20.08107676980715,21.2208282794972,22.25498961859955,18.532775811522946,19.087616753495507,21.30706019652562,20.328164455419742,12.625151333590619,18.57877012547175,23.181332039096855,24.07943060240522,17.87824445965597,20.442349857441666,12.05645832750408,19.23056337163939,21.22425536615002,22.11325304311299,13.111585504232451,12.28384816969974,21.32429452683904,19.320443770674036,15.038264291359877,19.830822287216268,22.419676174144847,19.13752304465051,20.363838926963176,15.471040903723889,20.848629835021793,20.623304532612508,19.953272203244882,18.976667646870585,24.37778684647327],\"sizemode\":\"area\",\"sizeref\":0.060944467116183176,\"symbol\":\"circle\"},\"mode\":\"markers\",\"name\":\"False\",\"orientation\":\"v\",\"showlegend\":true,\"x\":[13.350083333333332,12.51825,14.771333333333333,6.962833333333333,10.454583333333334,10.300416666666665,9.369166666666667,6.9755,9.236916666666668,6.746416666666666,3.045916666666667,11.525916666666667,9.176499999999999,14.381749999999998,10.288833333333335,1.248333333333333,10.576583333333334,13.354666666666667,12.102583333333333,7.181750000000001,10.12075,10.1195,10.464666666666666,7.137250000000001,1.2173333333333334,8.606333333333334,15.758666666666668,8.988166666666666,12.057833333333333,14.510083333333334,4.023333333333333,7.995833333333334,10.961,9.814333333333332],\"xaxis\":\"x\",\"y\":[14656.0,7166784.0,526139408.0,1644707312.0,4626144416.0,111861920.0,194825872.0,1792828176.0,673611744.0,304112.0,117127088.0,11682198672.0,28678989040.0,58133024.0,755091776.0,172208.0,224764416.0,1650353536.0,4014798688.0,494640.0,216176.0,1823994160.0,245902032.0,3396528.0,409653520.0,5454332992.0,204795616.0,698076272.0,5235856.0,1133560992.0,904872432.0,463016016.0,174366096.0,38649004176.0],\"yaxis\":\"y\",\"type\":\"scatter\"},{\"alignmentgroup\":\"True\",\"hovertemplate\":\"<b>%{hovertext}</b><br><br>AverageTemperature(above Average)=False<br>AverageTemperature=%{x}<extra></extra>\",\"hovertext\":[0.0,1.0,3.0,5.0,7.0,10.0,11.0,12.0,14.0,18.0,20.0,21.0,22.0,23.0,25.0,26.0,31.0,33.0,34.0,36.0,38.0,43.0,44.0,46.0,47.0,50.0,51.0,53.0,56.0,57.0,58.0,59.0,64.0,65.0],\"legendgroup\":\"False\",\"marker\":{\"color\":\"#0d0887\",\"symbol\":\"circle\"},\"name\":\"False\",\"notched\":true,\"offsetgroup\":\"False\",\"showlegend\":false,\"x\":[13.350083333333332,12.51825,14.771333333333333,6.962833333333333,10.454583333333334,10.300416666666665,9.369166666666667,6.9755,9.236916666666668,6.746416666666666,3.045916666666667,11.525916666666667,9.176499999999999,14.381749999999998,10.288833333333335,1.248333333333333,10.576583333333334,13.354666666666667,12.102583333333333,7.181750000000001,10.12075,10.1195,10.464666666666666,7.137250000000001,1.2173333333333334,8.606333333333334,15.758666666666668,8.988166666666666,12.057833333333333,14.510083333333334,4.023333333333333,7.995833333333334,10.961,9.814333333333332],\"xaxis\":\"x3\",\"yaxis\":\"y3\",\"type\":\"box\"},{\"alignmentgroup\":\"True\",\"hovertemplate\":\"<b>%{hovertext}</b><br><br>AverageTemperature(above Average)=False<br>GHG=%{y}<extra></extra>\",\"hovertext\":[0.0,1.0,3.0,5.0,7.0,10.0,11.0,12.0,14.0,18.0,20.0,21.0,22.0,23.0,25.0,26.0,31.0,33.0,34.0,36.0,38.0,43.0,44.0,46.0,47.0,50.0,51.0,53.0,56.0,57.0,58.0,59.0,64.0,65.0],\"legendgroup\":\"False\",\"marker\":{\"color\":\"#0d0887\",\"symbol\":\"circle\"},\"name\":\"False\",\"notched\":true,\"offsetgroup\":\"False\",\"showlegend\":false,\"xaxis\":\"x2\",\"y\":[14656.0,7166784.0,526139408.0,1644707312.0,4626144416.0,111861920.0,194825872.0,1792828176.0,673611744.0,304112.0,117127088.0,11682198672.0,28678989040.0,58133024.0,755091776.0,172208.0,224764416.0,1650353536.0,4014798688.0,494640.0,216176.0,1823994160.0,245902032.0,3396528.0,409653520.0,5454332992.0,204795616.0,698076272.0,5235856.0,1133560992.0,904872432.0,463016016.0,174366096.0,38649004176.0],\"yaxis\":\"y2\",\"type\":\"box\"},{\"hovertemplate\":\"<b>%{hovertext}</b><br><br>AverageTemperature(above Average)=True<br>AverageTemperature=%{x}<br>GHG=%{y}<br>size=%{marker.size}<extra></extra>\",\"hovertext\":[2.0,4.0,6.0,8.0,9.0,13.0,15.0,16.0,17.0,19.0,24.0,27.0,28.0,29.0,30.0,32.0,35.0,37.0,39.0,40.0,41.0,42.0,45.0,48.0,49.0,52.0,54.0,55.0,60.0,61.0,62.0,63.0,66.0,67.0,68.0,69.0],\"legendgroup\":\"True\",\"marker\":{\"color\":\"#9c179e\",\"size\":[15.803707046006815,20.97430792058933,17.646253744145152,14.572781173525458,19.27723675792811,18.03394262602661,16.877768876221687,17.982078536727776,11.150749704960461,10.604205998592391,12.380697995689658,21.47843631060827,20.166374131327395,20.59174638928828,18.676077530281106,14.288529636170468,16.17670563298545,14.05563550574088,10.40353530313024,18.00087587110596,15.928545470503629,13.879633992965513,17.207287169864365,19.059639833715387,14.981676816730412,12.468990602835337,18.61154279335995,21.08232077684655,13.203522999558135,18.853139399209343,13.268905758820988,14.177572565584484,14.30886932040759,19.47060815090865,18.71345829238856,18.354468460188638],\"sizemode\":\"area\",\"sizeref\":0.060944467116183176,\"symbol\":\"circle\"},\"mode\":\"markers\",\"name\":\"True\",\"orientation\":\"v\",\"showlegend\":true,\"x\":[23.18816666666667,20.984916666666667,25.39675,20.777916666666666,24.616833333333332,24.753583333333335,21.730333333333334,21.8925,26.69141666666667,22.93675,23.273083333333332,24.047250000000002,25.757583333333333,16.7755,21.055,18.877083333333335,24.63525,17.01975,22.988583333333334,25.980416666666667,18.150333333333332,23.798333333333332,27.0685,19.85141666666667,26.55316666666667,26.396,25.0955,17.666999999999998,17.2775,22.36491666666667,26.249583333333334,20.146,17.28925,24.96366666666667,24.04433333333333,21.535083333333333],\"xaxis\":\"x\",\"y\":[7302352.0,1285364176.0,46096784.0,2132448.0,235503600.0,67926896.0,21375776.0,64493728.0,69616.0,40304.0,238160.0,2127974256.0,572987312.0,876762224.0,129097376.0,1604832.0,10603616.0,1271408.0,32976.0,65717504.0,8273312.0,1066224.0,29718704.0,189450784.0,3209664.0,260144.0,121029248.0,1431975472.0,542272.0,154104176.0,578912.0,1436288.0,1637808.0,285744368.0,134014464.0,93593216.0],\"yaxis\":\"y\",\"type\":\"scatter\"},{\"alignmentgroup\":\"True\",\"hovertemplate\":\"<b>%{hovertext}</b><br><br>AverageTemperature(above Average)=True<br>AverageTemperature=%{x}<extra></extra>\",\"hovertext\":[2.0,4.0,6.0,8.0,9.0,13.0,15.0,16.0,17.0,19.0,24.0,27.0,28.0,29.0,30.0,32.0,35.0,37.0,39.0,40.0,41.0,42.0,45.0,48.0,49.0,52.0,54.0,55.0,60.0,61.0,62.0,63.0,66.0,67.0,68.0,69.0],\"legendgroup\":\"True\",\"marker\":{\"color\":\"#9c179e\",\"symbol\":\"circle\"},\"name\":\"True\",\"notched\":true,\"offsetgroup\":\"True\",\"showlegend\":false,\"x\":[23.18816666666667,20.984916666666667,25.39675,20.777916666666666,24.616833333333332,24.753583333333335,21.730333333333334,21.8925,26.69141666666667,22.93675,23.273083333333332,24.047250000000002,25.757583333333333,16.7755,21.055,18.877083333333335,24.63525,17.01975,22.988583333333334,25.980416666666667,18.150333333333332,23.798333333333332,27.0685,19.85141666666667,26.55316666666667,26.396,25.0955,17.666999999999998,17.2775,22.36491666666667,26.249583333333334,20.146,17.28925,24.96366666666667,24.04433333333333,21.535083333333333],\"xaxis\":\"x3\",\"yaxis\":\"y3\",\"type\":\"box\"},{\"alignmentgroup\":\"True\",\"hovertemplate\":\"<b>%{hovertext}</b><br><br>AverageTemperature(above Average)=True<br>GHG=%{y}<extra></extra>\",\"hovertext\":[2.0,4.0,6.0,8.0,9.0,13.0,15.0,16.0,17.0,19.0,24.0,27.0,28.0,29.0,30.0,32.0,35.0,37.0,39.0,40.0,41.0,42.0,45.0,48.0,49.0,52.0,54.0,55.0,60.0,61.0,62.0,63.0,66.0,67.0,68.0,69.0],\"legendgroup\":\"True\",\"marker\":{\"color\":\"#9c179e\",\"symbol\":\"circle\"},\"name\":\"True\",\"notched\":true,\"offsetgroup\":\"True\",\"showlegend\":false,\"xaxis\":\"x2\",\"y\":[7302352.0,1285364176.0,46096784.0,2132448.0,235503600.0,67926896.0,21375776.0,64493728.0,69616.0,40304.0,238160.0,2127974256.0,572987312.0,876762224.0,129097376.0,1604832.0,10603616.0,1271408.0,32976.0,65717504.0,8273312.0,1066224.0,29718704.0,189450784.0,3209664.0,260144.0,121029248.0,1431975472.0,542272.0,154104176.0,578912.0,1436288.0,1637808.0,285744368.0,134014464.0,93593216.0],\"yaxis\":\"y2\",\"type\":\"box\"},{\"marker\":{\"color\":\"#fb9f3a\"},\"mode\":\"lines\",\"name\":\"OLS Trendline\",\"x\":[9.592605086913911,15.784967576388784,15.803707046006815,20.08107676980715,20.97430792058933,21.2208282794972,17.646253744145152,22.25498961859955,14.572781173525458,19.27723675792811,18.532775811522946,19.087616753495507,21.30706019652562,18.03394262602661,20.328164455419742,16.877768876221687,17.982078536727776,11.150749704960461,12.625151333590619,10.604205998592391,18.57877012547175,23.181332039096855,24.07943060240522,17.87824445965597,12.380697995689658,20.442349857441666,12.05645832750408,21.47843631060827,20.166374131327395,20.59174638928828,18.676077530281106,19.23056337163939,14.288529636170468,21.22425536615002,22.11325304311299,16.17670563298545,13.111585504232451,14.05563550574088,12.28384816969974,10.40353530313024,18.00087587110596,15.928545470503629,13.879633992965513,21.32429452683904,19.320443770674036,17.207287169864365,15.038264291359877,19.830822287216268,19.059639833715387,14.981676816730412,22.419676174144847,19.13752304465051,12.468990602835337,20.363838926963176,18.61154279335995,21.08232077684655,15.471040903723889,20.848629835021793,20.623304532612508,19.953272203244882,13.203522999558135,18.853139399209343,13.268905758820988,14.177572565584484,18.976667646870585,24.37778684647327,14.30886932040759,19.47060815090865,18.71345829238856,18.354468460188638],\"y\":[21.00012042250164,17.34521385892454,17.334153296720483,14.809529341818651,14.282319185544004,14.136815933859497,16.246630395377185,13.526424815363558,18.060680378792274,15.283978332890513,15.723380128888053,15.395897394470678,14.085919430291966,16.01780550965339,14.663691237951266,16.70021178576852,16.048417154355143,20.080459630488864,19.210226306940953,20.403045103009518,15.69623299074418,12.97967145611656,12.44958841602417,16.109702948017535,19.35450954467149,14.596295801068498,19.545884919326603,13.9847684260887,14.75918443920579,14.508117764697094,15.638799422679186,15.311526278635123,18.228453633564015,14.134793170895824,13.610081729978177,17.113999036360187,18.92311917358937,18.365914301826326,19.411673036843258,20.52148659334682,16.037322438741615,17.260470146249958,18.469795346473752,14.075747243652627,15.258476338337376,16.505720817854353,17.78593914626607,14.957236578360543,15.412410159656313,17.819338665882537,13.429222176819952,15.36644129731612,19.30239676381918,14.642635161144092,15.676889640096652,14.218566958836309,17.530502213466935,14.356497927602359,14.489491260617902,14.884963192788698,18.86885507718419,15.534292525997186,18.830264333121523,18.293943618404096,15.461382678756875,12.27349016651407,18.216448579669688,15.169845096243936,15.616736245174597,15.828622144327797],\"type\":\"scatter\"}],                        {\"template\":{\"data\":{\"barpolar\":[{\"marker\":{\"line\":{\"color\":\"white\",\"width\":0.5},\"pattern\":{\"fillmode\":\"overlay\",\"size\":10,\"solidity\":0.2}},\"type\":\"barpolar\"}],\"bar\":[{\"error_x\":{\"color\":\"rgb(36,36,36)\"},\"error_y\":{\"color\":\"rgb(36,36,36)\"},\"marker\":{\"line\":{\"color\":\"white\",\"width\":0.5},\"pattern\":{\"fillmode\":\"overlay\",\"size\":10,\"solidity\":0.2}},\"type\":\"bar\"}],\"carpet\":[{\"aaxis\":{\"endlinecolor\":\"rgb(36,36,36)\",\"gridcolor\":\"white\",\"linecolor\":\"white\",\"minorgridcolor\":\"white\",\"startlinecolor\":\"rgb(36,36,36)\"},\"baxis\":{\"endlinecolor\":\"rgb(36,36,36)\",\"gridcolor\":\"white\",\"linecolor\":\"white\",\"minorgridcolor\":\"white\",\"startlinecolor\":\"rgb(36,36,36)\"},\"type\":\"carpet\"}],\"choropleth\":[{\"colorbar\":{\"outlinewidth\":1,\"tickcolor\":\"rgb(36,36,36)\",\"ticks\":\"outside\"},\"type\":\"choropleth\"}],\"contourcarpet\":[{\"colorbar\":{\"outlinewidth\":1,\"tickcolor\":\"rgb(36,36,36)\",\"ticks\":\"outside\"},\"type\":\"contourcarpet\"}],\"contour\":[{\"colorbar\":{\"outlinewidth\":1,\"tickcolor\":\"rgb(36,36,36)\",\"ticks\":\"outside\"},\"colorscale\":[[0.0,\"#440154\"],[0.1111111111111111,\"#482878\"],[0.2222222222222222,\"#3e4989\"],[0.3333333333333333,\"#31688e\"],[0.4444444444444444,\"#26828e\"],[0.5555555555555556,\"#1f9e89\"],[0.6666666666666666,\"#35b779\"],[0.7777777777777778,\"#6ece58\"],[0.8888888888888888,\"#b5de2b\"],[1.0,\"#fde725\"]],\"type\":\"contour\"}],\"heatmapgl\":[{\"colorbar\":{\"outlinewidth\":1,\"tickcolor\":\"rgb(36,36,36)\",\"ticks\":\"outside\"},\"colorscale\":[[0.0,\"#440154\"],[0.1111111111111111,\"#482878\"],[0.2222222222222222,\"#3e4989\"],[0.3333333333333333,\"#31688e\"],[0.4444444444444444,\"#26828e\"],[0.5555555555555556,\"#1f9e89\"],[0.6666666666666666,\"#35b779\"],[0.7777777777777778,\"#6ece58\"],[0.8888888888888888,\"#b5de2b\"],[1.0,\"#fde725\"]],\"type\":\"heatmapgl\"}],\"heatmap\":[{\"colorbar\":{\"outlinewidth\":1,\"tickcolor\":\"rgb(36,36,36)\",\"ticks\":\"outside\"},\"colorscale\":[[0.0,\"#440154\"],[0.1111111111111111,\"#482878\"],[0.2222222222222222,\"#3e4989\"],[0.3333333333333333,\"#31688e\"],[0.4444444444444444,\"#26828e\"],[0.5555555555555556,\"#1f9e89\"],[0.6666666666666666,\"#35b779\"],[0.7777777777777778,\"#6ece58\"],[0.8888888888888888,\"#b5de2b\"],[1.0,\"#fde725\"]],\"type\":\"heatmap\"}],\"histogram2dcontour\":[{\"colorbar\":{\"outlinewidth\":1,\"tickcolor\":\"rgb(36,36,36)\",\"ticks\":\"outside\"},\"colorscale\":[[0.0,\"#440154\"],[0.1111111111111111,\"#482878\"],[0.2222222222222222,\"#3e4989\"],[0.3333333333333333,\"#31688e\"],[0.4444444444444444,\"#26828e\"],[0.5555555555555556,\"#1f9e89\"],[0.6666666666666666,\"#35b779\"],[0.7777777777777778,\"#6ece58\"],[0.8888888888888888,\"#b5de2b\"],[1.0,\"#fde725\"]],\"type\":\"histogram2dcontour\"}],\"histogram2d\":[{\"colorbar\":{\"outlinewidth\":1,\"tickcolor\":\"rgb(36,36,36)\",\"ticks\":\"outside\"},\"colorscale\":[[0.0,\"#440154\"],[0.1111111111111111,\"#482878\"],[0.2222222222222222,\"#3e4989\"],[0.3333333333333333,\"#31688e\"],[0.4444444444444444,\"#26828e\"],[0.5555555555555556,\"#1f9e89\"],[0.6666666666666666,\"#35b779\"],[0.7777777777777778,\"#6ece58\"],[0.8888888888888888,\"#b5de2b\"],[1.0,\"#fde725\"]],\"type\":\"histogram2d\"}],\"histogram\":[{\"marker\":{\"line\":{\"color\":\"white\",\"width\":0.6}},\"type\":\"histogram\"}],\"mesh3d\":[{\"colorbar\":{\"outlinewidth\":1,\"tickcolor\":\"rgb(36,36,36)\",\"ticks\":\"outside\"},\"type\":\"mesh3d\"}],\"parcoords\":[{\"line\":{\"colorbar\":{\"outlinewidth\":1,\"tickcolor\":\"rgb(36,36,36)\",\"ticks\":\"outside\"}},\"type\":\"parcoords\"}],\"pie\":[{\"automargin\":true,\"type\":\"pie\"}],\"scatter3d\":[{\"line\":{\"colorbar\":{\"outlinewidth\":1,\"tickcolor\":\"rgb(36,36,36)\",\"ticks\":\"outside\"}},\"marker\":{\"colorbar\":{\"outlinewidth\":1,\"tickcolor\":\"rgb(36,36,36)\",\"ticks\":\"outside\"}},\"type\":\"scatter3d\"}],\"scattercarpet\":[{\"marker\":{\"colorbar\":{\"outlinewidth\":1,\"tickcolor\":\"rgb(36,36,36)\",\"ticks\":\"outside\"}},\"type\":\"scattercarpet\"}],\"scattergeo\":[{\"marker\":{\"colorbar\":{\"outlinewidth\":1,\"tickcolor\":\"rgb(36,36,36)\",\"ticks\":\"outside\"}},\"type\":\"scattergeo\"}],\"scattergl\":[{\"marker\":{\"colorbar\":{\"outlinewidth\":1,\"tickcolor\":\"rgb(36,36,36)\",\"ticks\":\"outside\"}},\"type\":\"scattergl\"}],\"scattermapbox\":[{\"marker\":{\"colorbar\":{\"outlinewidth\":1,\"tickcolor\":\"rgb(36,36,36)\",\"ticks\":\"outside\"}},\"type\":\"scattermapbox\"}],\"scatterpolargl\":[{\"marker\":{\"colorbar\":{\"outlinewidth\":1,\"tickcolor\":\"rgb(36,36,36)\",\"ticks\":\"outside\"}},\"type\":\"scatterpolargl\"}],\"scatterpolar\":[{\"marker\":{\"colorbar\":{\"outlinewidth\":1,\"tickcolor\":\"rgb(36,36,36)\",\"ticks\":\"outside\"}},\"type\":\"scatterpolar\"}],\"scatter\":[{\"marker\":{\"colorbar\":{\"outlinewidth\":1,\"tickcolor\":\"rgb(36,36,36)\",\"ticks\":\"outside\"}},\"type\":\"scatter\"}],\"scatterternary\":[{\"marker\":{\"colorbar\":{\"outlinewidth\":1,\"tickcolor\":\"rgb(36,36,36)\",\"ticks\":\"outside\"}},\"type\":\"scatterternary\"}],\"surface\":[{\"colorbar\":{\"outlinewidth\":1,\"tickcolor\":\"rgb(36,36,36)\",\"ticks\":\"outside\"},\"colorscale\":[[0.0,\"#440154\"],[0.1111111111111111,\"#482878\"],[0.2222222222222222,\"#3e4989\"],[0.3333333333333333,\"#31688e\"],[0.4444444444444444,\"#26828e\"],[0.5555555555555556,\"#1f9e89\"],[0.6666666666666666,\"#35b779\"],[0.7777777777777778,\"#6ece58\"],[0.8888888888888888,\"#b5de2b\"],[1.0,\"#fde725\"]],\"type\":\"surface\"}],\"table\":[{\"cells\":{\"fill\":{\"color\":\"rgb(237,237,237)\"},\"line\":{\"color\":\"white\"}},\"header\":{\"fill\":{\"color\":\"rgb(217,217,217)\"},\"line\":{\"color\":\"white\"}},\"type\":\"table\"}]},\"layout\":{\"annotationdefaults\":{\"arrowhead\":0,\"arrowwidth\":1},\"autotypenumbers\":\"strict\",\"coloraxis\":{\"colorbar\":{\"outlinewidth\":1,\"tickcolor\":\"rgb(36,36,36)\",\"ticks\":\"outside\"}},\"colorscale\":{\"diverging\":[[0.0,\"rgb(103,0,31)\"],[0.1,\"rgb(178,24,43)\"],[0.2,\"rgb(214,96,77)\"],[0.3,\"rgb(244,165,130)\"],[0.4,\"rgb(253,219,199)\"],[0.5,\"rgb(247,247,247)\"],[0.6,\"rgb(209,229,240)\"],[0.7,\"rgb(146,197,222)\"],[0.8,\"rgb(67,147,195)\"],[0.9,\"rgb(33,102,172)\"],[1.0,\"rgb(5,48,97)\"]],\"sequential\":[[0.0,\"#440154\"],[0.1111111111111111,\"#482878\"],[0.2222222222222222,\"#3e4989\"],[0.3333333333333333,\"#31688e\"],[0.4444444444444444,\"#26828e\"],[0.5555555555555556,\"#1f9e89\"],[0.6666666666666666,\"#35b779\"],[0.7777777777777778,\"#6ece58\"],[0.8888888888888888,\"#b5de2b\"],[1.0,\"#fde725\"]],\"sequentialminus\":[[0.0,\"#440154\"],[0.1111111111111111,\"#482878\"],[0.2222222222222222,\"#3e4989\"],[0.3333333333333333,\"#31688e\"],[0.4444444444444444,\"#26828e\"],[0.5555555555555556,\"#1f9e89\"],[0.6666666666666666,\"#35b779\"],[0.7777777777777778,\"#6ece58\"],[0.8888888888888888,\"#b5de2b\"],[1.0,\"#fde725\"]]},\"colorway\":[\"#1F77B4\",\"#FF7F0E\",\"#2CA02C\",\"#D62728\",\"#9467BD\",\"#8C564B\",\"#E377C2\",\"#7F7F7F\",\"#BCBD22\",\"#17BECF\"],\"font\":{\"color\":\"rgb(36,36,36)\"},\"geo\":{\"bgcolor\":\"white\",\"lakecolor\":\"white\",\"landcolor\":\"white\",\"showlakes\":true,\"showland\":true,\"subunitcolor\":\"white\"},\"hoverlabel\":{\"align\":\"left\"},\"hovermode\":\"closest\",\"mapbox\":{\"style\":\"light\"},\"paper_bgcolor\":\"white\",\"plot_bgcolor\":\"white\",\"polar\":{\"angularaxis\":{\"gridcolor\":\"rgb(232,232,232)\",\"linecolor\":\"rgb(36,36,36)\",\"showgrid\":false,\"showline\":true,\"ticks\":\"outside\"},\"bgcolor\":\"white\",\"radialaxis\":{\"gridcolor\":\"rgb(232,232,232)\",\"linecolor\":\"rgb(36,36,36)\",\"showgrid\":false,\"showline\":true,\"ticks\":\"outside\"}},\"scene\":{\"xaxis\":{\"backgroundcolor\":\"white\",\"gridcolor\":\"rgb(232,232,232)\",\"gridwidth\":2,\"linecolor\":\"rgb(36,36,36)\",\"showbackground\":true,\"showgrid\":false,\"showline\":true,\"ticks\":\"outside\",\"zeroline\":false,\"zerolinecolor\":\"rgb(36,36,36)\"},\"yaxis\":{\"backgroundcolor\":\"white\",\"gridcolor\":\"rgb(232,232,232)\",\"gridwidth\":2,\"linecolor\":\"rgb(36,36,36)\",\"showbackground\":true,\"showgrid\":false,\"showline\":true,\"ticks\":\"outside\",\"zeroline\":false,\"zerolinecolor\":\"rgb(36,36,36)\"},\"zaxis\":{\"backgroundcolor\":\"white\",\"gridcolor\":\"rgb(232,232,232)\",\"gridwidth\":2,\"linecolor\":\"rgb(36,36,36)\",\"showbackground\":true,\"showgrid\":false,\"showline\":true,\"ticks\":\"outside\",\"zeroline\":false,\"zerolinecolor\":\"rgb(36,36,36)\"}},\"shapedefaults\":{\"fillcolor\":\"black\",\"line\":{\"width\":0},\"opacity\":0.3},\"ternary\":{\"aaxis\":{\"gridcolor\":\"rgb(232,232,232)\",\"linecolor\":\"rgb(36,36,36)\",\"showgrid\":false,\"showline\":true,\"ticks\":\"outside\"},\"baxis\":{\"gridcolor\":\"rgb(232,232,232)\",\"linecolor\":\"rgb(36,36,36)\",\"showgrid\":false,\"showline\":true,\"ticks\":\"outside\"},\"bgcolor\":\"white\",\"caxis\":{\"gridcolor\":\"rgb(232,232,232)\",\"linecolor\":\"rgb(36,36,36)\",\"showgrid\":false,\"showline\":true,\"ticks\":\"outside\"}},\"title\":{\"x\":0.05},\"xaxis\":{\"automargin\":true,\"gridcolor\":\"rgb(232,232,232)\",\"linecolor\":\"rgb(36,36,36)\",\"showgrid\":false,\"showline\":true,\"ticks\":\"outside\",\"title\":{\"standoff\":15},\"zeroline\":false,\"zerolinecolor\":\"rgb(36,36,36)\"},\"yaxis\":{\"automargin\":true,\"gridcolor\":\"rgb(232,232,232)\",\"linecolor\":\"rgb(36,36,36)\",\"showgrid\":false,\"showline\":true,\"ticks\":\"outside\",\"title\":{\"standoff\":15},\"zeroline\":false,\"zerolinecolor\":\"rgb(36,36,36)\"}}},\"xaxis\":{\"anchor\":\"y\",\"domain\":[0.0,0.7363],\"title\":{\"text\":\"AverageTemperature\"}},\"yaxis\":{\"anchor\":\"x\",\"domain\":[0.0,0.7326],\"title\":{\"text\":\"GHG\"}},\"xaxis2\":{\"anchor\":\"y2\",\"domain\":[0.7413,1.0],\"matches\":\"x2\",\"showticklabels\":false,\"showline\":false,\"ticks\":\"\"},\"yaxis2\":{\"anchor\":\"x2\",\"domain\":[0.0,0.7326],\"matches\":\"y\",\"showticklabels\":false},\"xaxis3\":{\"anchor\":\"y3\",\"domain\":[0.0,0.7363],\"matches\":\"x\",\"showticklabels\":false},\"yaxis3\":{\"anchor\":\"x3\",\"domain\":[0.7426,1.0],\"matches\":\"y3\",\"showticklabels\":false,\"showline\":false,\"ticks\":\"\"},\"xaxis4\":{\"anchor\":\"y4\",\"domain\":[0.7413,1.0],\"matches\":\"x2\",\"showticklabels\":false,\"showline\":false,\"ticks\":\"\"},\"yaxis4\":{\"anchor\":\"x4\",\"domain\":[0.7426,1.0],\"matches\":\"y3\",\"showticklabels\":false,\"showline\":false,\"ticks\":\"\"},\"legend\":{\"title\":{\"text\":\"AverageTemperature(above Average)\"},\"tracegroupgap\":0,\"itemsizing\":\"constant\"},\"margin\":{\"t\":60}},                        {\"responsive\": true}                    ).then(function(){\n",
       "                            \n",
       "var gd = document.getElementById('a8adf79d-153f-4235-9245-c44f97527d14');\n",
       "var x = new MutationObserver(function (mutations, observer) {{\n",
       "        var display = window.getComputedStyle(gd).display;\n",
       "        if (!display || display === 'none') {{\n",
       "            console.log([gd, 'removed!']);\n",
       "            Plotly.purge(gd);\n",
       "            observer.disconnect();\n",
       "        }}\n",
       "}});\n",
       "\n",
       "// Listen for the removal of the full notebook cells\n",
       "var notebookContainer = gd.closest('#notebook-container');\n",
       "if (notebookContainer) {{\n",
       "    x.observe(notebookContainer, {childList: true});\n",
       "}}\n",
       "\n",
       "// Listen for the clearing of the current output cell\n",
       "var outputEl = gd.closest('.output');\n",
       "if (outputEl) {{\n",
       "    x.observe(outputEl, {childList: true});\n",
       "}}\n",
       "\n",
       "                        })                };                });            </script>        </div>"
      ]
     },
     "metadata": {},
     "output_type": "display_data"
    }
   ],
   "source": [
    "import plotly.graph_objs as go\n",
    "import statsmodels.api as sm\n",
    "\n",
    "col_name = str(\"AverageTemperature\") + \"(above Average)\"\n",
    "df[col_name] = (df[(\"AverageTemperature\")] > df[(\"AverageTemperature\")].mean())#.astype(int)\n",
    "\n",
    "fig = px.scatter(df, x=\"AverageTemperature\", y =\"GHG\", size=np.log(df[\"GHG\"]), color=col_name, hover_name=df.index, log_x=False,marginal_x = \"box\",marginal_y = \"box\", template=\"simple_white\", color_discrete_sequence=[\"#0d0887\", \"#9c179e\"])\n",
    "\n",
    "# linear regression\n",
    "regline = sm.OLS(df[\"AverageTemperature\"],sm.add_constant(np.log(df[\"GHG\"]))).fit().fittedvalues\n",
    "\n",
    "# add linear regression line for whole sample\n",
    "fig.add_traces(go.Scatter(x=np.log(df[\"GHG\"]), y=regline,\n",
    "                          mode = 'lines',\n",
    "                          marker_color='#fb9f3a',\n",
    "                          name='OLS Trendline')\n",
    "                          )\n",
    "\n",
    "fig.show()"
   ]
  },
  {
   "cell_type": "code",
   "execution_count": 17,
   "id": "04b6ccd2",
   "metadata": {},
   "outputs": [
    {
     "data": {
      "application/vnd.plotly.v1+json": {
       "config": {
        "plotlyServerURL": "https://plot.ly"
       },
       "data": [
        {
         "hovertemplate": "<b>%{hovertext}</b><br><br>AverageTemperature: above Average=False<br>AverageTemperature=%{marker.size}<br>GHG=%{y}<extra></extra>",
         "hovertext": [
          0,
          1,
          3,
          5,
          7,
          10,
          11,
          12,
          14,
          18,
          20,
          21,
          22,
          23,
          25,
          26,
          31,
          33,
          34,
          36,
          38,
          43,
          44,
          46,
          47,
          50,
          51,
          53,
          56,
          57,
          58,
          59,
          64,
          65
         ],
         "legendgroup": "False",
         "marker": {
          "color": "#3366CC",
          "size": [
           13.350083333333332,
           12.51825,
           14.771333333333333,
           6.962833333333333,
           10.454583333333334,
           10.300416666666665,
           9.369166666666667,
           6.9755,
           9.236916666666668,
           6.746416666666666,
           3.045916666666667,
           11.525916666666667,
           9.176499999999999,
           14.381749999999998,
           10.288833333333335,
           1.248333333333333,
           10.576583333333334,
           13.354666666666667,
           12.102583333333333,
           7.181750000000001,
           10.12075,
           10.1195,
           10.464666666666666,
           7.137250000000001,
           1.2173333333333334,
           8.606333333333334,
           15.758666666666668,
           8.988166666666666,
           12.057833333333333,
           14.510083333333334,
           4.023333333333333,
           7.995833333333334,
           10.961,
           9.814333333333332
          ],
          "sizemode": "area",
          "sizeref": 0.06767125,
          "symbol": "circle"
         },
         "mode": "markers",
         "name": "False",
         "orientation": "v",
         "showlegend": true,
         "type": "scatter",
         "x": [
          13.350083333333332,
          12.51825,
          14.771333333333333,
          6.962833333333333,
          10.454583333333334,
          10.300416666666665,
          9.369166666666667,
          6.9755,
          9.236916666666668,
          6.746416666666666,
          3.045916666666667,
          11.525916666666667,
          9.176499999999999,
          14.381749999999998,
          10.288833333333335,
          1.248333333333333,
          10.576583333333334,
          13.354666666666667,
          12.102583333333333,
          7.181750000000001,
          10.12075,
          10.1195,
          10.464666666666666,
          7.137250000000001,
          1.2173333333333334,
          8.606333333333334,
          15.758666666666668,
          8.988166666666666,
          12.057833333333333,
          14.510083333333334,
          4.023333333333333,
          7.995833333333334,
          10.961,
          9.814333333333332
         ],
         "xaxis": "x",
         "y": [
          14656,
          7166784,
          526139408,
          1644707312,
          4626144416,
          111861920,
          194825872,
          1792828176,
          673611744,
          304112,
          117127088,
          11682198672,
          28678989040,
          58133024,
          755091776,
          172208,
          224764416,
          1650353536,
          4014798688,
          494640,
          216176,
          1823994160,
          245902032,
          3396528,
          409653520,
          5454332992,
          204795616,
          698076272,
          5235856,
          1133560992,
          904872432,
          463016016,
          174366096,
          38649004176
         ],
         "yaxis": "y"
        },
        {
         "alignmentgroup": "True",
         "hovertemplate": "<b>%{hovertext}</b><br><br>AverageTemperature: above Average=False<br>AverageTemperature=%{x}<extra></extra>",
         "hovertext": [
          0,
          1,
          3,
          5,
          7,
          10,
          11,
          12,
          14,
          18,
          20,
          21,
          22,
          23,
          25,
          26,
          31,
          33,
          34,
          36,
          38,
          43,
          44,
          46,
          47,
          50,
          51,
          53,
          56,
          57,
          58,
          59,
          64,
          65
         ],
         "legendgroup": "False",
         "marker": {
          "color": "#3366CC",
          "symbol": "circle"
         },
         "name": "False",
         "notched": true,
         "offsetgroup": "False",
         "showlegend": false,
         "type": "box",
         "x": [
          13.350083333333332,
          12.51825,
          14.771333333333333,
          6.962833333333333,
          10.454583333333334,
          10.300416666666665,
          9.369166666666667,
          6.9755,
          9.236916666666668,
          6.746416666666666,
          3.045916666666667,
          11.525916666666667,
          9.176499999999999,
          14.381749999999998,
          10.288833333333335,
          1.248333333333333,
          10.576583333333334,
          13.354666666666667,
          12.102583333333333,
          7.181750000000001,
          10.12075,
          10.1195,
          10.464666666666666,
          7.137250000000001,
          1.2173333333333334,
          8.606333333333334,
          15.758666666666668,
          8.988166666666666,
          12.057833333333333,
          14.510083333333334,
          4.023333333333333,
          7.995833333333334,
          10.961,
          9.814333333333332
         ],
         "xaxis": "x3",
         "yaxis": "y3"
        },
        {
         "alignmentgroup": "True",
         "hovertemplate": "<b>%{hovertext}</b><br><br>AverageTemperature: above Average=False<br>GHG=%{y}<extra></extra>",
         "hovertext": [
          0,
          1,
          3,
          5,
          7,
          10,
          11,
          12,
          14,
          18,
          20,
          21,
          22,
          23,
          25,
          26,
          31,
          33,
          34,
          36,
          38,
          43,
          44,
          46,
          47,
          50,
          51,
          53,
          56,
          57,
          58,
          59,
          64,
          65
         ],
         "legendgroup": "False",
         "marker": {
          "color": "#3366CC",
          "symbol": "circle"
         },
         "name": "False",
         "notched": true,
         "offsetgroup": "False",
         "showlegend": false,
         "type": "box",
         "xaxis": "x2",
         "y": [
          14656,
          7166784,
          526139408,
          1644707312,
          4626144416,
          111861920,
          194825872,
          1792828176,
          673611744,
          304112,
          117127088,
          11682198672,
          28678989040,
          58133024,
          755091776,
          172208,
          224764416,
          1650353536,
          4014798688,
          494640,
          216176,
          1823994160,
          245902032,
          3396528,
          409653520,
          5454332992,
          204795616,
          698076272,
          5235856,
          1133560992,
          904872432,
          463016016,
          174366096,
          38649004176
         ],
         "yaxis": "y2"
        },
        {
         "hovertemplate": "<b>OLS trendline</b><br>GHG = 6.87748e+07 * AverageTemperature + 2.4869e+09<br>R<sup>2</sup>=0.000908<br><br>AverageTemperature: above Average=False<br>AverageTemperature=%{x}<br>GHG=%{y} <b>(trend)</b><extra></extra>",
         "legendgroup": "False",
         "line": {
          "color": "#bd3786"
         },
         "marker": {
          "color": "#3366CC",
          "symbol": "circle"
         },
         "mode": "lines",
         "name": "False",
         "showlegend": false,
         "type": "scatter",
         "x": [
          1.2173333333333334,
          1.248333333333333,
          3.045916666666667,
          4.023333333333333,
          6.746416666666666,
          6.962833333333333,
          6.9755,
          7.137250000000001,
          7.181750000000001,
          7.995833333333334,
          8.606333333333334,
          8.988166666666666,
          9.176499999999999,
          9.236916666666668,
          9.369166666666667,
          9.814333333333332,
          10.1195,
          10.12075,
          10.288833333333335,
          10.300416666666665,
          10.454583333333334,
          10.464666666666666,
          10.576583333333334,
          10.961,
          11.525916666666667,
          12.057833333333333,
          12.102583333333333,
          12.51825,
          13.350083333333332,
          13.354666666666667,
          14.381749999999998,
          14.510083333333334,
          14.771333333333333,
          15.758666666666668
         ],
         "xaxis": "x",
         "y": [
          2570625080.4103613,
          2572757100.5561986,
          2696385612.830016,
          2763607291.0303593,
          2950886920.8839374,
          2965770943.2461414,
          2966642091.26272,
          2977766422.1849527,
          2980826902.716881,
          3036815356.492919,
          3078802398.3972344,
          3105062926.107523,
          3118015521.617181,
          3122170668.406783,
          3131266141.4482994,
          3161882409.241482,
          3182870198.9566884,
          3182956167.510956,
          3194516072.441478,
          3195312714.3776913,
          3205915502.737367,
          3206608982.408459,
          3214306033.6338887,
          3240744229.6896634,
          3279596284.9816856,
          3316178770.441042,
          3319256444.6838236,
          3347843854.5962896,
          3405053061.842928,
          3405368279.8752427,
          3476005775.2984867,
          3484831880.203298,
          3502799308.0452347,
          3570703003.442768
         ],
         "yaxis": "y"
        },
        {
         "hovertemplate": "<b>%{hovertext}</b><br><br>AverageTemperature: above Average=True<br>AverageTemperature=%{marker.size}<br>GHG=%{y}<extra></extra>",
         "hovertext": [
          2,
          4,
          6,
          8,
          9,
          13,
          15,
          16,
          17,
          19,
          24,
          27,
          28,
          29,
          30,
          32,
          35,
          37,
          39,
          40,
          41,
          42,
          45,
          48,
          49,
          52,
          54,
          55,
          60,
          61,
          62,
          63,
          66,
          67,
          68,
          69
         ],
         "legendgroup": "True",
         "marker": {
          "color": "#DC3912",
          "size": [
           23.18816666666667,
           20.984916666666667,
           25.39675,
           20.777916666666666,
           24.616833333333332,
           24.753583333333335,
           21.730333333333334,
           21.8925,
           26.69141666666667,
           22.93675,
           23.273083333333332,
           24.047250000000002,
           25.757583333333333,
           16.7755,
           21.055,
           18.877083333333335,
           24.63525,
           17.01975,
           22.988583333333334,
           25.980416666666667,
           18.150333333333332,
           23.798333333333332,
           27.0685,
           19.85141666666667,
           26.55316666666667,
           26.396,
           25.0955,
           17.666999999999998,
           17.2775,
           22.36491666666667,
           26.249583333333334,
           20.146,
           17.28925,
           24.96366666666667,
           24.04433333333333,
           21.535083333333333
          ],
          "sizemode": "area",
          "sizeref": 0.06767125,
          "symbol": "circle"
         },
         "mode": "markers",
         "name": "True",
         "orientation": "v",
         "showlegend": true,
         "type": "scatter",
         "x": [
          23.18816666666667,
          20.984916666666667,
          25.39675,
          20.777916666666666,
          24.616833333333332,
          24.753583333333335,
          21.730333333333334,
          21.8925,
          26.69141666666667,
          22.93675,
          23.273083333333332,
          24.047250000000002,
          25.757583333333333,
          16.7755,
          21.055,
          18.877083333333335,
          24.63525,
          17.01975,
          22.988583333333334,
          25.980416666666667,
          18.150333333333332,
          23.798333333333332,
          27.0685,
          19.85141666666667,
          26.55316666666667,
          26.396,
          25.0955,
          17.666999999999998,
          17.2775,
          22.36491666666667,
          26.249583333333334,
          20.146,
          17.28925,
          24.96366666666667,
          24.04433333333333,
          21.535083333333333
         ],
         "xaxis": "x",
         "y": [
          7302352,
          1285364176,
          46096784,
          2132448,
          235503600,
          67926896,
          21375776,
          64493728,
          69616,
          40304,
          238160,
          2127974256,
          572987312,
          876762224,
          129097376,
          1604832,
          10603616,
          1271408,
          32976,
          65717504,
          8273312,
          1066224,
          29718704,
          189450784,
          3209664,
          260144,
          121029248,
          1431975472,
          542272,
          154104176,
          578912,
          1436288,
          1637808,
          285744368,
          134014464,
          93593216
         ],
         "yaxis": "y"
        },
        {
         "alignmentgroup": "True",
         "hovertemplate": "<b>%{hovertext}</b><br><br>AverageTemperature: above Average=True<br>AverageTemperature=%{x}<extra></extra>",
         "hovertext": [
          2,
          4,
          6,
          8,
          9,
          13,
          15,
          16,
          17,
          19,
          24,
          27,
          28,
          29,
          30,
          32,
          35,
          37,
          39,
          40,
          41,
          42,
          45,
          48,
          49,
          52,
          54,
          55,
          60,
          61,
          62,
          63,
          66,
          67,
          68,
          69
         ],
         "legendgroup": "True",
         "marker": {
          "color": "#DC3912",
          "symbol": "circle"
         },
         "name": "True",
         "notched": true,
         "offsetgroup": "True",
         "showlegend": false,
         "type": "box",
         "x": [
          23.18816666666667,
          20.984916666666667,
          25.39675,
          20.777916666666666,
          24.616833333333332,
          24.753583333333335,
          21.730333333333334,
          21.8925,
          26.69141666666667,
          22.93675,
          23.273083333333332,
          24.047250000000002,
          25.757583333333333,
          16.7755,
          21.055,
          18.877083333333335,
          24.63525,
          17.01975,
          22.988583333333334,
          25.980416666666667,
          18.150333333333332,
          23.798333333333332,
          27.0685,
          19.85141666666667,
          26.55316666666667,
          26.396,
          25.0955,
          17.666999999999998,
          17.2775,
          22.36491666666667,
          26.249583333333334,
          20.146,
          17.28925,
          24.96366666666667,
          24.04433333333333,
          21.535083333333333
         ],
         "xaxis": "x3",
         "yaxis": "y3"
        },
        {
         "alignmentgroup": "True",
         "hovertemplate": "<b>%{hovertext}</b><br><br>AverageTemperature: above Average=True<br>GHG=%{y}<extra></extra>",
         "hovertext": [
          2,
          4,
          6,
          8,
          9,
          13,
          15,
          16,
          17,
          19,
          24,
          27,
          28,
          29,
          30,
          32,
          35,
          37,
          39,
          40,
          41,
          42,
          45,
          48,
          49,
          52,
          54,
          55,
          60,
          61,
          62,
          63,
          66,
          67,
          68,
          69
         ],
         "legendgroup": "True",
         "marker": {
          "color": "#DC3912",
          "symbol": "circle"
         },
         "name": "True",
         "notched": true,
         "offsetgroup": "True",
         "showlegend": false,
         "type": "box",
         "xaxis": "x2",
         "y": [
          7302352,
          1285364176,
          46096784,
          2132448,
          235503600,
          67926896,
          21375776,
          64493728,
          69616,
          40304,
          238160,
          2127974256,
          572987312,
          876762224,
          129097376,
          1604832,
          10603616,
          1271408,
          32976,
          65717504,
          8273312,
          1066224,
          29718704,
          189450784,
          3209664,
          260144,
          121029248,
          1431975472,
          542272,
          154104176,
          578912,
          1436288,
          1637808,
          285744368,
          134014464,
          93593216
         ],
         "yaxis": "y2"
        },
        {
         "hovertemplate": "<b>OLS trendline</b><br>GHG = -2.21649e+07 * AverageTemperature + 7.21315e+08<br>R<sup>2</sup>=0.021603<br><br>AverageTemperature: above Average=True<br>AverageTemperature=%{x}<br>GHG=%{y} <b>(trend)</b><extra></extra>",
         "legendgroup": "True",
         "line": {
          "color": "#bd3786"
         },
         "marker": {
          "color": "#DC3912",
          "symbol": "circle"
         },
         "mode": "lines",
         "name": "True",
         "showlegend": false,
         "type": "scatter",
         "x": [
          16.7755,
          17.01975,
          17.2775,
          17.28925,
          17.666999999999998,
          18.150333333333332,
          18.877083333333335,
          19.85141666666667,
          20.146,
          20.777916666666666,
          20.984916666666667,
          21.055,
          21.535083333333333,
          21.730333333333334,
          21.8925,
          22.36491666666667,
          22.93675,
          22.988583333333334,
          23.18816666666667,
          23.273083333333332,
          23.798333333333332,
          24.04433333333333,
          24.047250000000002,
          24.616833333333332,
          24.63525,
          24.753583333333335,
          24.96366666666667,
          25.0955,
          25.39675,
          25.757583333333333,
          25.980416666666667,
          26.249583333333334,
          26.396,
          26.55316666666667,
          26.69141666666667,
          27.0685
         ],
         "xaxis": "x",
         "y": [
          349487688.769532,
          344073918.6048561,
          338360922.6583044,
          338100485.40370893,
          329727704.7293738,
          319014682.9091346,
          302906361.65149575,
          281310387.32007575,
          274780985.2279128,
          260774632.73431402,
          256186504.07888746,
          254633115.91495275,
          243992129.93109113,
          239664438.53026003,
          236070035.0022971,
          225598979.70937705,
          212924366.6523977,
          211775487.4158134,
          207351748.2331456,
          205469581.12369335,
          193827481.72145766,
          188374923.0295015,
          188310275.48403442,
          175685533.39070094,
          175277330.3178953,
          172654487.04466426,
          167998016.6983155,
          165075947.64320898,
          158398779.73283577,
          150400954.822209,
          145461882.34853327,
          139495837.43829668,
          136250530.65585518,
          132766951.49154985,
          129702657.83641589,
          121344653.74390185
         ],
         "yaxis": "y"
        }
       ],
       "layout": {
        "legend": {
         "itemsizing": "constant",
         "title": {
          "text": "AverageTemperature: above Average"
         },
         "tracegroupgap": 0
        },
        "margin": {
         "t": 60
        },
        "template": {
         "data": {
          "bar": [
           {
            "error_x": {
             "color": "rgb(36,36,36)"
            },
            "error_y": {
             "color": "rgb(36,36,36)"
            },
            "marker": {
             "line": {
              "color": "white",
              "width": 0.5
             },
             "pattern": {
              "fillmode": "overlay",
              "size": 10,
              "solidity": 0.2
             }
            },
            "type": "bar"
           }
          ],
          "barpolar": [
           {
            "marker": {
             "line": {
              "color": "white",
              "width": 0.5
             },
             "pattern": {
              "fillmode": "overlay",
              "size": 10,
              "solidity": 0.2
             }
            },
            "type": "barpolar"
           }
          ],
          "carpet": [
           {
            "aaxis": {
             "endlinecolor": "rgb(36,36,36)",
             "gridcolor": "white",
             "linecolor": "white",
             "minorgridcolor": "white",
             "startlinecolor": "rgb(36,36,36)"
            },
            "baxis": {
             "endlinecolor": "rgb(36,36,36)",
             "gridcolor": "white",
             "linecolor": "white",
             "minorgridcolor": "white",
             "startlinecolor": "rgb(36,36,36)"
            },
            "type": "carpet"
           }
          ],
          "choropleth": [
           {
            "colorbar": {
             "outlinewidth": 1,
             "tickcolor": "rgb(36,36,36)",
             "ticks": "outside"
            },
            "type": "choropleth"
           }
          ],
          "contour": [
           {
            "colorbar": {
             "outlinewidth": 1,
             "tickcolor": "rgb(36,36,36)",
             "ticks": "outside"
            },
            "colorscale": [
             [
              0,
              "#440154"
             ],
             [
              0.1111111111111111,
              "#482878"
             ],
             [
              0.2222222222222222,
              "#3e4989"
             ],
             [
              0.3333333333333333,
              "#31688e"
             ],
             [
              0.4444444444444444,
              "#26828e"
             ],
             [
              0.5555555555555556,
              "#1f9e89"
             ],
             [
              0.6666666666666666,
              "#35b779"
             ],
             [
              0.7777777777777778,
              "#6ece58"
             ],
             [
              0.8888888888888888,
              "#b5de2b"
             ],
             [
              1,
              "#fde725"
             ]
            ],
            "type": "contour"
           }
          ],
          "contourcarpet": [
           {
            "colorbar": {
             "outlinewidth": 1,
             "tickcolor": "rgb(36,36,36)",
             "ticks": "outside"
            },
            "type": "contourcarpet"
           }
          ],
          "heatmap": [
           {
            "colorbar": {
             "outlinewidth": 1,
             "tickcolor": "rgb(36,36,36)",
             "ticks": "outside"
            },
            "colorscale": [
             [
              0,
              "#440154"
             ],
             [
              0.1111111111111111,
              "#482878"
             ],
             [
              0.2222222222222222,
              "#3e4989"
             ],
             [
              0.3333333333333333,
              "#31688e"
             ],
             [
              0.4444444444444444,
              "#26828e"
             ],
             [
              0.5555555555555556,
              "#1f9e89"
             ],
             [
              0.6666666666666666,
              "#35b779"
             ],
             [
              0.7777777777777778,
              "#6ece58"
             ],
             [
              0.8888888888888888,
              "#b5de2b"
             ],
             [
              1,
              "#fde725"
             ]
            ],
            "type": "heatmap"
           }
          ],
          "heatmapgl": [
           {
            "colorbar": {
             "outlinewidth": 1,
             "tickcolor": "rgb(36,36,36)",
             "ticks": "outside"
            },
            "colorscale": [
             [
              0,
              "#440154"
             ],
             [
              0.1111111111111111,
              "#482878"
             ],
             [
              0.2222222222222222,
              "#3e4989"
             ],
             [
              0.3333333333333333,
              "#31688e"
             ],
             [
              0.4444444444444444,
              "#26828e"
             ],
             [
              0.5555555555555556,
              "#1f9e89"
             ],
             [
              0.6666666666666666,
              "#35b779"
             ],
             [
              0.7777777777777778,
              "#6ece58"
             ],
             [
              0.8888888888888888,
              "#b5de2b"
             ],
             [
              1,
              "#fde725"
             ]
            ],
            "type": "heatmapgl"
           }
          ],
          "histogram": [
           {
            "marker": {
             "line": {
              "color": "white",
              "width": 0.6
             }
            },
            "type": "histogram"
           }
          ],
          "histogram2d": [
           {
            "colorbar": {
             "outlinewidth": 1,
             "tickcolor": "rgb(36,36,36)",
             "ticks": "outside"
            },
            "colorscale": [
             [
              0,
              "#440154"
             ],
             [
              0.1111111111111111,
              "#482878"
             ],
             [
              0.2222222222222222,
              "#3e4989"
             ],
             [
              0.3333333333333333,
              "#31688e"
             ],
             [
              0.4444444444444444,
              "#26828e"
             ],
             [
              0.5555555555555556,
              "#1f9e89"
             ],
             [
              0.6666666666666666,
              "#35b779"
             ],
             [
              0.7777777777777778,
              "#6ece58"
             ],
             [
              0.8888888888888888,
              "#b5de2b"
             ],
             [
              1,
              "#fde725"
             ]
            ],
            "type": "histogram2d"
           }
          ],
          "histogram2dcontour": [
           {
            "colorbar": {
             "outlinewidth": 1,
             "tickcolor": "rgb(36,36,36)",
             "ticks": "outside"
            },
            "colorscale": [
             [
              0,
              "#440154"
             ],
             [
              0.1111111111111111,
              "#482878"
             ],
             [
              0.2222222222222222,
              "#3e4989"
             ],
             [
              0.3333333333333333,
              "#31688e"
             ],
             [
              0.4444444444444444,
              "#26828e"
             ],
             [
              0.5555555555555556,
              "#1f9e89"
             ],
             [
              0.6666666666666666,
              "#35b779"
             ],
             [
              0.7777777777777778,
              "#6ece58"
             ],
             [
              0.8888888888888888,
              "#b5de2b"
             ],
             [
              1,
              "#fde725"
             ]
            ],
            "type": "histogram2dcontour"
           }
          ],
          "mesh3d": [
           {
            "colorbar": {
             "outlinewidth": 1,
             "tickcolor": "rgb(36,36,36)",
             "ticks": "outside"
            },
            "type": "mesh3d"
           }
          ],
          "parcoords": [
           {
            "line": {
             "colorbar": {
              "outlinewidth": 1,
              "tickcolor": "rgb(36,36,36)",
              "ticks": "outside"
             }
            },
            "type": "parcoords"
           }
          ],
          "pie": [
           {
            "automargin": true,
            "type": "pie"
           }
          ],
          "scatter": [
           {
            "marker": {
             "colorbar": {
              "outlinewidth": 1,
              "tickcolor": "rgb(36,36,36)",
              "ticks": "outside"
             }
            },
            "type": "scatter"
           }
          ],
          "scatter3d": [
           {
            "line": {
             "colorbar": {
              "outlinewidth": 1,
              "tickcolor": "rgb(36,36,36)",
              "ticks": "outside"
             }
            },
            "marker": {
             "colorbar": {
              "outlinewidth": 1,
              "tickcolor": "rgb(36,36,36)",
              "ticks": "outside"
             }
            },
            "type": "scatter3d"
           }
          ],
          "scattercarpet": [
           {
            "marker": {
             "colorbar": {
              "outlinewidth": 1,
              "tickcolor": "rgb(36,36,36)",
              "ticks": "outside"
             }
            },
            "type": "scattercarpet"
           }
          ],
          "scattergeo": [
           {
            "marker": {
             "colorbar": {
              "outlinewidth": 1,
              "tickcolor": "rgb(36,36,36)",
              "ticks": "outside"
             }
            },
            "type": "scattergeo"
           }
          ],
          "scattergl": [
           {
            "marker": {
             "colorbar": {
              "outlinewidth": 1,
              "tickcolor": "rgb(36,36,36)",
              "ticks": "outside"
             }
            },
            "type": "scattergl"
           }
          ],
          "scattermapbox": [
           {
            "marker": {
             "colorbar": {
              "outlinewidth": 1,
              "tickcolor": "rgb(36,36,36)",
              "ticks": "outside"
             }
            },
            "type": "scattermapbox"
           }
          ],
          "scatterpolar": [
           {
            "marker": {
             "colorbar": {
              "outlinewidth": 1,
              "tickcolor": "rgb(36,36,36)",
              "ticks": "outside"
             }
            },
            "type": "scatterpolar"
           }
          ],
          "scatterpolargl": [
           {
            "marker": {
             "colorbar": {
              "outlinewidth": 1,
              "tickcolor": "rgb(36,36,36)",
              "ticks": "outside"
             }
            },
            "type": "scatterpolargl"
           }
          ],
          "scatterternary": [
           {
            "marker": {
             "colorbar": {
              "outlinewidth": 1,
              "tickcolor": "rgb(36,36,36)",
              "ticks": "outside"
             }
            },
            "type": "scatterternary"
           }
          ],
          "surface": [
           {
            "colorbar": {
             "outlinewidth": 1,
             "tickcolor": "rgb(36,36,36)",
             "ticks": "outside"
            },
            "colorscale": [
             [
              0,
              "#440154"
             ],
             [
              0.1111111111111111,
              "#482878"
             ],
             [
              0.2222222222222222,
              "#3e4989"
             ],
             [
              0.3333333333333333,
              "#31688e"
             ],
             [
              0.4444444444444444,
              "#26828e"
             ],
             [
              0.5555555555555556,
              "#1f9e89"
             ],
             [
              0.6666666666666666,
              "#35b779"
             ],
             [
              0.7777777777777778,
              "#6ece58"
             ],
             [
              0.8888888888888888,
              "#b5de2b"
             ],
             [
              1,
              "#fde725"
             ]
            ],
            "type": "surface"
           }
          ],
          "table": [
           {
            "cells": {
             "fill": {
              "color": "rgb(237,237,237)"
             },
             "line": {
              "color": "white"
             }
            },
            "header": {
             "fill": {
              "color": "rgb(217,217,217)"
             },
             "line": {
              "color": "white"
             }
            },
            "type": "table"
           }
          ]
         },
         "layout": {
          "annotationdefaults": {
           "arrowhead": 0,
           "arrowwidth": 1
          },
          "autotypenumbers": "strict",
          "coloraxis": {
           "colorbar": {
            "outlinewidth": 1,
            "tickcolor": "rgb(36,36,36)",
            "ticks": "outside"
           }
          },
          "colorscale": {
           "diverging": [
            [
             0,
             "rgb(103,0,31)"
            ],
            [
             0.1,
             "rgb(178,24,43)"
            ],
            [
             0.2,
             "rgb(214,96,77)"
            ],
            [
             0.3,
             "rgb(244,165,130)"
            ],
            [
             0.4,
             "rgb(253,219,199)"
            ],
            [
             0.5,
             "rgb(247,247,247)"
            ],
            [
             0.6,
             "rgb(209,229,240)"
            ],
            [
             0.7,
             "rgb(146,197,222)"
            ],
            [
             0.8,
             "rgb(67,147,195)"
            ],
            [
             0.9,
             "rgb(33,102,172)"
            ],
            [
             1,
             "rgb(5,48,97)"
            ]
           ],
           "sequential": [
            [
             0,
             "#440154"
            ],
            [
             0.1111111111111111,
             "#482878"
            ],
            [
             0.2222222222222222,
             "#3e4989"
            ],
            [
             0.3333333333333333,
             "#31688e"
            ],
            [
             0.4444444444444444,
             "#26828e"
            ],
            [
             0.5555555555555556,
             "#1f9e89"
            ],
            [
             0.6666666666666666,
             "#35b779"
            ],
            [
             0.7777777777777778,
             "#6ece58"
            ],
            [
             0.8888888888888888,
             "#b5de2b"
            ],
            [
             1,
             "#fde725"
            ]
           ],
           "sequentialminus": [
            [
             0,
             "#440154"
            ],
            [
             0.1111111111111111,
             "#482878"
            ],
            [
             0.2222222222222222,
             "#3e4989"
            ],
            [
             0.3333333333333333,
             "#31688e"
            ],
            [
             0.4444444444444444,
             "#26828e"
            ],
            [
             0.5555555555555556,
             "#1f9e89"
            ],
            [
             0.6666666666666666,
             "#35b779"
            ],
            [
             0.7777777777777778,
             "#6ece58"
            ],
            [
             0.8888888888888888,
             "#b5de2b"
            ],
            [
             1,
             "#fde725"
            ]
           ]
          },
          "colorway": [
           "#1F77B4",
           "#FF7F0E",
           "#2CA02C",
           "#D62728",
           "#9467BD",
           "#8C564B",
           "#E377C2",
           "#7F7F7F",
           "#BCBD22",
           "#17BECF"
          ],
          "font": {
           "color": "rgb(36,36,36)"
          },
          "geo": {
           "bgcolor": "white",
           "lakecolor": "white",
           "landcolor": "white",
           "showlakes": true,
           "showland": true,
           "subunitcolor": "white"
          },
          "hoverlabel": {
           "align": "left"
          },
          "hovermode": "closest",
          "mapbox": {
           "style": "light"
          },
          "paper_bgcolor": "white",
          "plot_bgcolor": "white",
          "polar": {
           "angularaxis": {
            "gridcolor": "rgb(232,232,232)",
            "linecolor": "rgb(36,36,36)",
            "showgrid": false,
            "showline": true,
            "ticks": "outside"
           },
           "bgcolor": "white",
           "radialaxis": {
            "gridcolor": "rgb(232,232,232)",
            "linecolor": "rgb(36,36,36)",
            "showgrid": false,
            "showline": true,
            "ticks": "outside"
           }
          },
          "scene": {
           "xaxis": {
            "backgroundcolor": "white",
            "gridcolor": "rgb(232,232,232)",
            "gridwidth": 2,
            "linecolor": "rgb(36,36,36)",
            "showbackground": true,
            "showgrid": false,
            "showline": true,
            "ticks": "outside",
            "zeroline": false,
            "zerolinecolor": "rgb(36,36,36)"
           },
           "yaxis": {
            "backgroundcolor": "white",
            "gridcolor": "rgb(232,232,232)",
            "gridwidth": 2,
            "linecolor": "rgb(36,36,36)",
            "showbackground": true,
            "showgrid": false,
            "showline": true,
            "ticks": "outside",
            "zeroline": false,
            "zerolinecolor": "rgb(36,36,36)"
           },
           "zaxis": {
            "backgroundcolor": "white",
            "gridcolor": "rgb(232,232,232)",
            "gridwidth": 2,
            "linecolor": "rgb(36,36,36)",
            "showbackground": true,
            "showgrid": false,
            "showline": true,
            "ticks": "outside",
            "zeroline": false,
            "zerolinecolor": "rgb(36,36,36)"
           }
          },
          "shapedefaults": {
           "fillcolor": "black",
           "line": {
            "width": 0
           },
           "opacity": 0.3
          },
          "ternary": {
           "aaxis": {
            "gridcolor": "rgb(232,232,232)",
            "linecolor": "rgb(36,36,36)",
            "showgrid": false,
            "showline": true,
            "ticks": "outside"
           },
           "baxis": {
            "gridcolor": "rgb(232,232,232)",
            "linecolor": "rgb(36,36,36)",
            "showgrid": false,
            "showline": true,
            "ticks": "outside"
           },
           "bgcolor": "white",
           "caxis": {
            "gridcolor": "rgb(232,232,232)",
            "linecolor": "rgb(36,36,36)",
            "showgrid": false,
            "showline": true,
            "ticks": "outside"
           }
          },
          "title": {
           "x": 0.05
          },
          "xaxis": {
           "automargin": true,
           "gridcolor": "rgb(232,232,232)",
           "linecolor": "rgb(36,36,36)",
           "showgrid": false,
           "showline": true,
           "ticks": "outside",
           "title": {
            "standoff": 15
           },
           "zeroline": false,
           "zerolinecolor": "rgb(36,36,36)"
          },
          "yaxis": {
           "automargin": true,
           "gridcolor": "rgb(232,232,232)",
           "linecolor": "rgb(36,36,36)",
           "showgrid": false,
           "showline": true,
           "ticks": "outside",
           "title": {
            "standoff": 15
           },
           "zeroline": false,
           "zerolinecolor": "rgb(36,36,36)"
          }
         }
        },
        "xaxis": {
         "anchor": "y",
         "domain": [
          0,
          0.7363
         ],
         "title": {
          "text": "AverageTemperature"
         }
        },
        "xaxis2": {
         "anchor": "y2",
         "domain": [
          0.7413,
          1
         ],
         "matches": "x2",
         "showline": false,
         "showticklabels": false,
         "ticks": ""
        },
        "xaxis3": {
         "anchor": "y3",
         "domain": [
          0,
          0.7363
         ],
         "matches": "x",
         "showticklabels": false
        },
        "xaxis4": {
         "anchor": "y4",
         "domain": [
          0.7413,
          1
         ],
         "matches": "x2",
         "showline": false,
         "showticklabels": false,
         "ticks": ""
        },
        "yaxis": {
         "anchor": "x",
         "domain": [
          0,
          0.7326
         ],
         "title": {
          "text": "GHG"
         }
        },
        "yaxis2": {
         "anchor": "x2",
         "domain": [
          0,
          0.7326
         ],
         "matches": "y",
         "showticklabels": false
        },
        "yaxis3": {
         "anchor": "x3",
         "domain": [
          0.7426,
          1
         ],
         "matches": "y3",
         "showline": false,
         "showticklabels": false,
         "ticks": ""
        },
        "yaxis4": {
         "anchor": "x4",
         "domain": [
          0.7426,
          1
         ],
         "matches": "y3",
         "showline": false,
         "showticklabels": false,
         "ticks": ""
        }
       }
      },
      "text/html": [
       "<div>                            <div id=\"9710a257-90d3-477a-bc98-8d049d6a1386\" class=\"plotly-graph-div\" style=\"height:525px; width:100%;\"></div>            <script type=\"text/javascript\">                require([\"plotly\"], function(Plotly) {                    window.PLOTLYENV=window.PLOTLYENV || {};                                    if (document.getElementById(\"9710a257-90d3-477a-bc98-8d049d6a1386\")) {                    Plotly.newPlot(                        \"9710a257-90d3-477a-bc98-8d049d6a1386\",                        [{\"hovertemplate\":\"<b>%{hovertext}</b><br><br>AverageTemperature: above Average=False<br>AverageTemperature=%{marker.size}<br>GHG=%{y}<extra></extra>\",\"hovertext\":[0.0,1.0,3.0,5.0,7.0,10.0,11.0,12.0,14.0,18.0,20.0,21.0,22.0,23.0,25.0,26.0,31.0,33.0,34.0,36.0,38.0,43.0,44.0,46.0,47.0,50.0,51.0,53.0,56.0,57.0,58.0,59.0,64.0,65.0],\"legendgroup\":\"False\",\"marker\":{\"color\":\"#3366CC\",\"size\":[13.350083333333332,12.51825,14.771333333333333,6.962833333333333,10.454583333333334,10.300416666666665,9.369166666666667,6.9755,9.236916666666668,6.746416666666666,3.045916666666667,11.525916666666667,9.176499999999999,14.381749999999998,10.288833333333335,1.248333333333333,10.576583333333334,13.354666666666667,12.102583333333333,7.181750000000001,10.12075,10.1195,10.464666666666666,7.137250000000001,1.2173333333333334,8.606333333333334,15.758666666666668,8.988166666666666,12.057833333333333,14.510083333333334,4.023333333333333,7.995833333333334,10.961,9.814333333333332],\"sizemode\":\"area\",\"sizeref\":0.06767125,\"symbol\":\"circle\"},\"mode\":\"markers\",\"name\":\"False\",\"orientation\":\"v\",\"showlegend\":true,\"x\":[13.350083333333332,12.51825,14.771333333333333,6.962833333333333,10.454583333333334,10.300416666666665,9.369166666666667,6.9755,9.236916666666668,6.746416666666666,3.045916666666667,11.525916666666667,9.176499999999999,14.381749999999998,10.288833333333335,1.248333333333333,10.576583333333334,13.354666666666667,12.102583333333333,7.181750000000001,10.12075,10.1195,10.464666666666666,7.137250000000001,1.2173333333333334,8.606333333333334,15.758666666666668,8.988166666666666,12.057833333333333,14.510083333333334,4.023333333333333,7.995833333333334,10.961,9.814333333333332],\"xaxis\":\"x\",\"y\":[14656.0,7166784.0,526139408.0,1644707312.0,4626144416.0,111861920.0,194825872.0,1792828176.0,673611744.0,304112.0,117127088.0,11682198672.0,28678989040.0,58133024.0,755091776.0,172208.0,224764416.0,1650353536.0,4014798688.0,494640.0,216176.0,1823994160.0,245902032.0,3396528.0,409653520.0,5454332992.0,204795616.0,698076272.0,5235856.0,1133560992.0,904872432.0,463016016.0,174366096.0,38649004176.0],\"yaxis\":\"y\",\"type\":\"scatter\"},{\"alignmentgroup\":\"True\",\"hovertemplate\":\"<b>%{hovertext}</b><br><br>AverageTemperature: above Average=False<br>AverageTemperature=%{x}<extra></extra>\",\"hovertext\":[0.0,1.0,3.0,5.0,7.0,10.0,11.0,12.0,14.0,18.0,20.0,21.0,22.0,23.0,25.0,26.0,31.0,33.0,34.0,36.0,38.0,43.0,44.0,46.0,47.0,50.0,51.0,53.0,56.0,57.0,58.0,59.0,64.0,65.0],\"legendgroup\":\"False\",\"marker\":{\"color\":\"#3366CC\",\"symbol\":\"circle\"},\"name\":\"False\",\"notched\":true,\"offsetgroup\":\"False\",\"showlegend\":false,\"x\":[13.350083333333332,12.51825,14.771333333333333,6.962833333333333,10.454583333333334,10.300416666666665,9.369166666666667,6.9755,9.236916666666668,6.746416666666666,3.045916666666667,11.525916666666667,9.176499999999999,14.381749999999998,10.288833333333335,1.248333333333333,10.576583333333334,13.354666666666667,12.102583333333333,7.181750000000001,10.12075,10.1195,10.464666666666666,7.137250000000001,1.2173333333333334,8.606333333333334,15.758666666666668,8.988166666666666,12.057833333333333,14.510083333333334,4.023333333333333,7.995833333333334,10.961,9.814333333333332],\"xaxis\":\"x3\",\"yaxis\":\"y3\",\"type\":\"box\"},{\"alignmentgroup\":\"True\",\"hovertemplate\":\"<b>%{hovertext}</b><br><br>AverageTemperature: above Average=False<br>GHG=%{y}<extra></extra>\",\"hovertext\":[0.0,1.0,3.0,5.0,7.0,10.0,11.0,12.0,14.0,18.0,20.0,21.0,22.0,23.0,25.0,26.0,31.0,33.0,34.0,36.0,38.0,43.0,44.0,46.0,47.0,50.0,51.0,53.0,56.0,57.0,58.0,59.0,64.0,65.0],\"legendgroup\":\"False\",\"marker\":{\"color\":\"#3366CC\",\"symbol\":\"circle\"},\"name\":\"False\",\"notched\":true,\"offsetgroup\":\"False\",\"showlegend\":false,\"xaxis\":\"x2\",\"y\":[14656.0,7166784.0,526139408.0,1644707312.0,4626144416.0,111861920.0,194825872.0,1792828176.0,673611744.0,304112.0,117127088.0,11682198672.0,28678989040.0,58133024.0,755091776.0,172208.0,224764416.0,1650353536.0,4014798688.0,494640.0,216176.0,1823994160.0,245902032.0,3396528.0,409653520.0,5454332992.0,204795616.0,698076272.0,5235856.0,1133560992.0,904872432.0,463016016.0,174366096.0,38649004176.0],\"yaxis\":\"y2\",\"type\":\"box\"},{\"hovertemplate\":\"<b>OLS trendline</b><br>GHG = 6.87748e+07 * AverageTemperature + 2.4869e+09<br>R<sup>2</sup>=0.000908<br><br>AverageTemperature: above Average=False<br>AverageTemperature=%{x}<br>GHG=%{y} <b>(trend)</b><extra></extra>\",\"legendgroup\":\"False\",\"line\":{\"color\":\"#bd3786\"},\"marker\":{\"color\":\"#3366CC\",\"symbol\":\"circle\"},\"mode\":\"lines\",\"name\":\"False\",\"showlegend\":false,\"x\":[1.2173333333333334,1.248333333333333,3.045916666666667,4.023333333333333,6.746416666666666,6.962833333333333,6.9755,7.137250000000001,7.181750000000001,7.995833333333334,8.606333333333334,8.988166666666666,9.176499999999999,9.236916666666668,9.369166666666667,9.814333333333332,10.1195,10.12075,10.288833333333335,10.300416666666665,10.454583333333334,10.464666666666666,10.576583333333334,10.961,11.525916666666667,12.057833333333333,12.102583333333333,12.51825,13.350083333333332,13.354666666666667,14.381749999999998,14.510083333333334,14.771333333333333,15.758666666666668],\"xaxis\":\"x\",\"y\":[2570625080.4103613,2572757100.5561986,2696385612.830016,2763607291.0303593,2950886920.8839374,2965770943.2461414,2966642091.26272,2977766422.1849527,2980826902.716881,3036815356.492919,3078802398.3972344,3105062926.107523,3118015521.617181,3122170668.406783,3131266141.4482994,3161882409.241482,3182870198.9566884,3182956167.510956,3194516072.441478,3195312714.3776913,3205915502.737367,3206608982.408459,3214306033.6338887,3240744229.6896634,3279596284.9816856,3316178770.441042,3319256444.6838236,3347843854.5962896,3405053061.842928,3405368279.8752427,3476005775.2984867,3484831880.203298,3502799308.0452347,3570703003.442768],\"yaxis\":\"y\",\"type\":\"scatter\"},{\"hovertemplate\":\"<b>%{hovertext}</b><br><br>AverageTemperature: above Average=True<br>AverageTemperature=%{marker.size}<br>GHG=%{y}<extra></extra>\",\"hovertext\":[2.0,4.0,6.0,8.0,9.0,13.0,15.0,16.0,17.0,19.0,24.0,27.0,28.0,29.0,30.0,32.0,35.0,37.0,39.0,40.0,41.0,42.0,45.0,48.0,49.0,52.0,54.0,55.0,60.0,61.0,62.0,63.0,66.0,67.0,68.0,69.0],\"legendgroup\":\"True\",\"marker\":{\"color\":\"#DC3912\",\"size\":[23.18816666666667,20.984916666666667,25.39675,20.777916666666666,24.616833333333332,24.753583333333335,21.730333333333334,21.8925,26.69141666666667,22.93675,23.273083333333332,24.047250000000002,25.757583333333333,16.7755,21.055,18.877083333333335,24.63525,17.01975,22.988583333333334,25.980416666666667,18.150333333333332,23.798333333333332,27.0685,19.85141666666667,26.55316666666667,26.396,25.0955,17.666999999999998,17.2775,22.36491666666667,26.249583333333334,20.146,17.28925,24.96366666666667,24.04433333333333,21.535083333333333],\"sizemode\":\"area\",\"sizeref\":0.06767125,\"symbol\":\"circle\"},\"mode\":\"markers\",\"name\":\"True\",\"orientation\":\"v\",\"showlegend\":true,\"x\":[23.18816666666667,20.984916666666667,25.39675,20.777916666666666,24.616833333333332,24.753583333333335,21.730333333333334,21.8925,26.69141666666667,22.93675,23.273083333333332,24.047250000000002,25.757583333333333,16.7755,21.055,18.877083333333335,24.63525,17.01975,22.988583333333334,25.980416666666667,18.150333333333332,23.798333333333332,27.0685,19.85141666666667,26.55316666666667,26.396,25.0955,17.666999999999998,17.2775,22.36491666666667,26.249583333333334,20.146,17.28925,24.96366666666667,24.04433333333333,21.535083333333333],\"xaxis\":\"x\",\"y\":[7302352.0,1285364176.0,46096784.0,2132448.0,235503600.0,67926896.0,21375776.0,64493728.0,69616.0,40304.0,238160.0,2127974256.0,572987312.0,876762224.0,129097376.0,1604832.0,10603616.0,1271408.0,32976.0,65717504.0,8273312.0,1066224.0,29718704.0,189450784.0,3209664.0,260144.0,121029248.0,1431975472.0,542272.0,154104176.0,578912.0,1436288.0,1637808.0,285744368.0,134014464.0,93593216.0],\"yaxis\":\"y\",\"type\":\"scatter\"},{\"alignmentgroup\":\"True\",\"hovertemplate\":\"<b>%{hovertext}</b><br><br>AverageTemperature: above Average=True<br>AverageTemperature=%{x}<extra></extra>\",\"hovertext\":[2.0,4.0,6.0,8.0,9.0,13.0,15.0,16.0,17.0,19.0,24.0,27.0,28.0,29.0,30.0,32.0,35.0,37.0,39.0,40.0,41.0,42.0,45.0,48.0,49.0,52.0,54.0,55.0,60.0,61.0,62.0,63.0,66.0,67.0,68.0,69.0],\"legendgroup\":\"True\",\"marker\":{\"color\":\"#DC3912\",\"symbol\":\"circle\"},\"name\":\"True\",\"notched\":true,\"offsetgroup\":\"True\",\"showlegend\":false,\"x\":[23.18816666666667,20.984916666666667,25.39675,20.777916666666666,24.616833333333332,24.753583333333335,21.730333333333334,21.8925,26.69141666666667,22.93675,23.273083333333332,24.047250000000002,25.757583333333333,16.7755,21.055,18.877083333333335,24.63525,17.01975,22.988583333333334,25.980416666666667,18.150333333333332,23.798333333333332,27.0685,19.85141666666667,26.55316666666667,26.396,25.0955,17.666999999999998,17.2775,22.36491666666667,26.249583333333334,20.146,17.28925,24.96366666666667,24.04433333333333,21.535083333333333],\"xaxis\":\"x3\",\"yaxis\":\"y3\",\"type\":\"box\"},{\"alignmentgroup\":\"True\",\"hovertemplate\":\"<b>%{hovertext}</b><br><br>AverageTemperature: above Average=True<br>GHG=%{y}<extra></extra>\",\"hovertext\":[2.0,4.0,6.0,8.0,9.0,13.0,15.0,16.0,17.0,19.0,24.0,27.0,28.0,29.0,30.0,32.0,35.0,37.0,39.0,40.0,41.0,42.0,45.0,48.0,49.0,52.0,54.0,55.0,60.0,61.0,62.0,63.0,66.0,67.0,68.0,69.0],\"legendgroup\":\"True\",\"marker\":{\"color\":\"#DC3912\",\"symbol\":\"circle\"},\"name\":\"True\",\"notched\":true,\"offsetgroup\":\"True\",\"showlegend\":false,\"xaxis\":\"x2\",\"y\":[7302352.0,1285364176.0,46096784.0,2132448.0,235503600.0,67926896.0,21375776.0,64493728.0,69616.0,40304.0,238160.0,2127974256.0,572987312.0,876762224.0,129097376.0,1604832.0,10603616.0,1271408.0,32976.0,65717504.0,8273312.0,1066224.0,29718704.0,189450784.0,3209664.0,260144.0,121029248.0,1431975472.0,542272.0,154104176.0,578912.0,1436288.0,1637808.0,285744368.0,134014464.0,93593216.0],\"yaxis\":\"y2\",\"type\":\"box\"},{\"hovertemplate\":\"<b>OLS trendline</b><br>GHG = -2.21649e+07 * AverageTemperature + 7.21315e+08<br>R<sup>2</sup>=0.021603<br><br>AverageTemperature: above Average=True<br>AverageTemperature=%{x}<br>GHG=%{y} <b>(trend)</b><extra></extra>\",\"legendgroup\":\"True\",\"line\":{\"color\":\"#bd3786\"},\"marker\":{\"color\":\"#DC3912\",\"symbol\":\"circle\"},\"mode\":\"lines\",\"name\":\"True\",\"showlegend\":false,\"x\":[16.7755,17.01975,17.2775,17.28925,17.666999999999998,18.150333333333332,18.877083333333335,19.85141666666667,20.146,20.777916666666666,20.984916666666667,21.055,21.535083333333333,21.730333333333334,21.8925,22.36491666666667,22.93675,22.988583333333334,23.18816666666667,23.273083333333332,23.798333333333332,24.04433333333333,24.047250000000002,24.616833333333332,24.63525,24.753583333333335,24.96366666666667,25.0955,25.39675,25.757583333333333,25.980416666666667,26.249583333333334,26.396,26.55316666666667,26.69141666666667,27.0685],\"xaxis\":\"x\",\"y\":[349487688.769532,344073918.6048561,338360922.6583044,338100485.40370893,329727704.7293738,319014682.9091346,302906361.65149575,281310387.32007575,274780985.2279128,260774632.73431402,256186504.07888746,254633115.91495275,243992129.93109113,239664438.53026003,236070035.0022971,225598979.70937705,212924366.6523977,211775487.4158134,207351748.2331456,205469581.12369335,193827481.72145766,188374923.0295015,188310275.48403442,175685533.39070094,175277330.3178953,172654487.04466426,167998016.6983155,165075947.64320898,158398779.73283577,150400954.822209,145461882.34853327,139495837.43829668,136250530.65585518,132766951.49154985,129702657.83641589,121344653.74390185],\"yaxis\":\"y\",\"type\":\"scatter\"}],                        {\"template\":{\"data\":{\"barpolar\":[{\"marker\":{\"line\":{\"color\":\"white\",\"width\":0.5},\"pattern\":{\"fillmode\":\"overlay\",\"size\":10,\"solidity\":0.2}},\"type\":\"barpolar\"}],\"bar\":[{\"error_x\":{\"color\":\"rgb(36,36,36)\"},\"error_y\":{\"color\":\"rgb(36,36,36)\"},\"marker\":{\"line\":{\"color\":\"white\",\"width\":0.5},\"pattern\":{\"fillmode\":\"overlay\",\"size\":10,\"solidity\":0.2}},\"type\":\"bar\"}],\"carpet\":[{\"aaxis\":{\"endlinecolor\":\"rgb(36,36,36)\",\"gridcolor\":\"white\",\"linecolor\":\"white\",\"minorgridcolor\":\"white\",\"startlinecolor\":\"rgb(36,36,36)\"},\"baxis\":{\"endlinecolor\":\"rgb(36,36,36)\",\"gridcolor\":\"white\",\"linecolor\":\"white\",\"minorgridcolor\":\"white\",\"startlinecolor\":\"rgb(36,36,36)\"},\"type\":\"carpet\"}],\"choropleth\":[{\"colorbar\":{\"outlinewidth\":1,\"tickcolor\":\"rgb(36,36,36)\",\"ticks\":\"outside\"},\"type\":\"choropleth\"}],\"contourcarpet\":[{\"colorbar\":{\"outlinewidth\":1,\"tickcolor\":\"rgb(36,36,36)\",\"ticks\":\"outside\"},\"type\":\"contourcarpet\"}],\"contour\":[{\"colorbar\":{\"outlinewidth\":1,\"tickcolor\":\"rgb(36,36,36)\",\"ticks\":\"outside\"},\"colorscale\":[[0.0,\"#440154\"],[0.1111111111111111,\"#482878\"],[0.2222222222222222,\"#3e4989\"],[0.3333333333333333,\"#31688e\"],[0.4444444444444444,\"#26828e\"],[0.5555555555555556,\"#1f9e89\"],[0.6666666666666666,\"#35b779\"],[0.7777777777777778,\"#6ece58\"],[0.8888888888888888,\"#b5de2b\"],[1.0,\"#fde725\"]],\"type\":\"contour\"}],\"heatmapgl\":[{\"colorbar\":{\"outlinewidth\":1,\"tickcolor\":\"rgb(36,36,36)\",\"ticks\":\"outside\"},\"colorscale\":[[0.0,\"#440154\"],[0.1111111111111111,\"#482878\"],[0.2222222222222222,\"#3e4989\"],[0.3333333333333333,\"#31688e\"],[0.4444444444444444,\"#26828e\"],[0.5555555555555556,\"#1f9e89\"],[0.6666666666666666,\"#35b779\"],[0.7777777777777778,\"#6ece58\"],[0.8888888888888888,\"#b5de2b\"],[1.0,\"#fde725\"]],\"type\":\"heatmapgl\"}],\"heatmap\":[{\"colorbar\":{\"outlinewidth\":1,\"tickcolor\":\"rgb(36,36,36)\",\"ticks\":\"outside\"},\"colorscale\":[[0.0,\"#440154\"],[0.1111111111111111,\"#482878\"],[0.2222222222222222,\"#3e4989\"],[0.3333333333333333,\"#31688e\"],[0.4444444444444444,\"#26828e\"],[0.5555555555555556,\"#1f9e89\"],[0.6666666666666666,\"#35b779\"],[0.7777777777777778,\"#6ece58\"],[0.8888888888888888,\"#b5de2b\"],[1.0,\"#fde725\"]],\"type\":\"heatmap\"}],\"histogram2dcontour\":[{\"colorbar\":{\"outlinewidth\":1,\"tickcolor\":\"rgb(36,36,36)\",\"ticks\":\"outside\"},\"colorscale\":[[0.0,\"#440154\"],[0.1111111111111111,\"#482878\"],[0.2222222222222222,\"#3e4989\"],[0.3333333333333333,\"#31688e\"],[0.4444444444444444,\"#26828e\"],[0.5555555555555556,\"#1f9e89\"],[0.6666666666666666,\"#35b779\"],[0.7777777777777778,\"#6ece58\"],[0.8888888888888888,\"#b5de2b\"],[1.0,\"#fde725\"]],\"type\":\"histogram2dcontour\"}],\"histogram2d\":[{\"colorbar\":{\"outlinewidth\":1,\"tickcolor\":\"rgb(36,36,36)\",\"ticks\":\"outside\"},\"colorscale\":[[0.0,\"#440154\"],[0.1111111111111111,\"#482878\"],[0.2222222222222222,\"#3e4989\"],[0.3333333333333333,\"#31688e\"],[0.4444444444444444,\"#26828e\"],[0.5555555555555556,\"#1f9e89\"],[0.6666666666666666,\"#35b779\"],[0.7777777777777778,\"#6ece58\"],[0.8888888888888888,\"#b5de2b\"],[1.0,\"#fde725\"]],\"type\":\"histogram2d\"}],\"histogram\":[{\"marker\":{\"line\":{\"color\":\"white\",\"width\":0.6}},\"type\":\"histogram\"}],\"mesh3d\":[{\"colorbar\":{\"outlinewidth\":1,\"tickcolor\":\"rgb(36,36,36)\",\"ticks\":\"outside\"},\"type\":\"mesh3d\"}],\"parcoords\":[{\"line\":{\"colorbar\":{\"outlinewidth\":1,\"tickcolor\":\"rgb(36,36,36)\",\"ticks\":\"outside\"}},\"type\":\"parcoords\"}],\"pie\":[{\"automargin\":true,\"type\":\"pie\"}],\"scatter3d\":[{\"line\":{\"colorbar\":{\"outlinewidth\":1,\"tickcolor\":\"rgb(36,36,36)\",\"ticks\":\"outside\"}},\"marker\":{\"colorbar\":{\"outlinewidth\":1,\"tickcolor\":\"rgb(36,36,36)\",\"ticks\":\"outside\"}},\"type\":\"scatter3d\"}],\"scattercarpet\":[{\"marker\":{\"colorbar\":{\"outlinewidth\":1,\"tickcolor\":\"rgb(36,36,36)\",\"ticks\":\"outside\"}},\"type\":\"scattercarpet\"}],\"scattergeo\":[{\"marker\":{\"colorbar\":{\"outlinewidth\":1,\"tickcolor\":\"rgb(36,36,36)\",\"ticks\":\"outside\"}},\"type\":\"scattergeo\"}],\"scattergl\":[{\"marker\":{\"colorbar\":{\"outlinewidth\":1,\"tickcolor\":\"rgb(36,36,36)\",\"ticks\":\"outside\"}},\"type\":\"scattergl\"}],\"scattermapbox\":[{\"marker\":{\"colorbar\":{\"outlinewidth\":1,\"tickcolor\":\"rgb(36,36,36)\",\"ticks\":\"outside\"}},\"type\":\"scattermapbox\"}],\"scatterpolargl\":[{\"marker\":{\"colorbar\":{\"outlinewidth\":1,\"tickcolor\":\"rgb(36,36,36)\",\"ticks\":\"outside\"}},\"type\":\"scatterpolargl\"}],\"scatterpolar\":[{\"marker\":{\"colorbar\":{\"outlinewidth\":1,\"tickcolor\":\"rgb(36,36,36)\",\"ticks\":\"outside\"}},\"type\":\"scatterpolar\"}],\"scatter\":[{\"marker\":{\"colorbar\":{\"outlinewidth\":1,\"tickcolor\":\"rgb(36,36,36)\",\"ticks\":\"outside\"}},\"type\":\"scatter\"}],\"scatterternary\":[{\"marker\":{\"colorbar\":{\"outlinewidth\":1,\"tickcolor\":\"rgb(36,36,36)\",\"ticks\":\"outside\"}},\"type\":\"scatterternary\"}],\"surface\":[{\"colorbar\":{\"outlinewidth\":1,\"tickcolor\":\"rgb(36,36,36)\",\"ticks\":\"outside\"},\"colorscale\":[[0.0,\"#440154\"],[0.1111111111111111,\"#482878\"],[0.2222222222222222,\"#3e4989\"],[0.3333333333333333,\"#31688e\"],[0.4444444444444444,\"#26828e\"],[0.5555555555555556,\"#1f9e89\"],[0.6666666666666666,\"#35b779\"],[0.7777777777777778,\"#6ece58\"],[0.8888888888888888,\"#b5de2b\"],[1.0,\"#fde725\"]],\"type\":\"surface\"}],\"table\":[{\"cells\":{\"fill\":{\"color\":\"rgb(237,237,237)\"},\"line\":{\"color\":\"white\"}},\"header\":{\"fill\":{\"color\":\"rgb(217,217,217)\"},\"line\":{\"color\":\"white\"}},\"type\":\"table\"}]},\"layout\":{\"annotationdefaults\":{\"arrowhead\":0,\"arrowwidth\":1},\"autotypenumbers\":\"strict\",\"coloraxis\":{\"colorbar\":{\"outlinewidth\":1,\"tickcolor\":\"rgb(36,36,36)\",\"ticks\":\"outside\"}},\"colorscale\":{\"diverging\":[[0.0,\"rgb(103,0,31)\"],[0.1,\"rgb(178,24,43)\"],[0.2,\"rgb(214,96,77)\"],[0.3,\"rgb(244,165,130)\"],[0.4,\"rgb(253,219,199)\"],[0.5,\"rgb(247,247,247)\"],[0.6,\"rgb(209,229,240)\"],[0.7,\"rgb(146,197,222)\"],[0.8,\"rgb(67,147,195)\"],[0.9,\"rgb(33,102,172)\"],[1.0,\"rgb(5,48,97)\"]],\"sequential\":[[0.0,\"#440154\"],[0.1111111111111111,\"#482878\"],[0.2222222222222222,\"#3e4989\"],[0.3333333333333333,\"#31688e\"],[0.4444444444444444,\"#26828e\"],[0.5555555555555556,\"#1f9e89\"],[0.6666666666666666,\"#35b779\"],[0.7777777777777778,\"#6ece58\"],[0.8888888888888888,\"#b5de2b\"],[1.0,\"#fde725\"]],\"sequentialminus\":[[0.0,\"#440154\"],[0.1111111111111111,\"#482878\"],[0.2222222222222222,\"#3e4989\"],[0.3333333333333333,\"#31688e\"],[0.4444444444444444,\"#26828e\"],[0.5555555555555556,\"#1f9e89\"],[0.6666666666666666,\"#35b779\"],[0.7777777777777778,\"#6ece58\"],[0.8888888888888888,\"#b5de2b\"],[1.0,\"#fde725\"]]},\"colorway\":[\"#1F77B4\",\"#FF7F0E\",\"#2CA02C\",\"#D62728\",\"#9467BD\",\"#8C564B\",\"#E377C2\",\"#7F7F7F\",\"#BCBD22\",\"#17BECF\"],\"font\":{\"color\":\"rgb(36,36,36)\"},\"geo\":{\"bgcolor\":\"white\",\"lakecolor\":\"white\",\"landcolor\":\"white\",\"showlakes\":true,\"showland\":true,\"subunitcolor\":\"white\"},\"hoverlabel\":{\"align\":\"left\"},\"hovermode\":\"closest\",\"mapbox\":{\"style\":\"light\"},\"paper_bgcolor\":\"white\",\"plot_bgcolor\":\"white\",\"polar\":{\"angularaxis\":{\"gridcolor\":\"rgb(232,232,232)\",\"linecolor\":\"rgb(36,36,36)\",\"showgrid\":false,\"showline\":true,\"ticks\":\"outside\"},\"bgcolor\":\"white\",\"radialaxis\":{\"gridcolor\":\"rgb(232,232,232)\",\"linecolor\":\"rgb(36,36,36)\",\"showgrid\":false,\"showline\":true,\"ticks\":\"outside\"}},\"scene\":{\"xaxis\":{\"backgroundcolor\":\"white\",\"gridcolor\":\"rgb(232,232,232)\",\"gridwidth\":2,\"linecolor\":\"rgb(36,36,36)\",\"showbackground\":true,\"showgrid\":false,\"showline\":true,\"ticks\":\"outside\",\"zeroline\":false,\"zerolinecolor\":\"rgb(36,36,36)\"},\"yaxis\":{\"backgroundcolor\":\"white\",\"gridcolor\":\"rgb(232,232,232)\",\"gridwidth\":2,\"linecolor\":\"rgb(36,36,36)\",\"showbackground\":true,\"showgrid\":false,\"showline\":true,\"ticks\":\"outside\",\"zeroline\":false,\"zerolinecolor\":\"rgb(36,36,36)\"},\"zaxis\":{\"backgroundcolor\":\"white\",\"gridcolor\":\"rgb(232,232,232)\",\"gridwidth\":2,\"linecolor\":\"rgb(36,36,36)\",\"showbackground\":true,\"showgrid\":false,\"showline\":true,\"ticks\":\"outside\",\"zeroline\":false,\"zerolinecolor\":\"rgb(36,36,36)\"}},\"shapedefaults\":{\"fillcolor\":\"black\",\"line\":{\"width\":0},\"opacity\":0.3},\"ternary\":{\"aaxis\":{\"gridcolor\":\"rgb(232,232,232)\",\"linecolor\":\"rgb(36,36,36)\",\"showgrid\":false,\"showline\":true,\"ticks\":\"outside\"},\"baxis\":{\"gridcolor\":\"rgb(232,232,232)\",\"linecolor\":\"rgb(36,36,36)\",\"showgrid\":false,\"showline\":true,\"ticks\":\"outside\"},\"bgcolor\":\"white\",\"caxis\":{\"gridcolor\":\"rgb(232,232,232)\",\"linecolor\":\"rgb(36,36,36)\",\"showgrid\":false,\"showline\":true,\"ticks\":\"outside\"}},\"title\":{\"x\":0.05},\"xaxis\":{\"automargin\":true,\"gridcolor\":\"rgb(232,232,232)\",\"linecolor\":\"rgb(36,36,36)\",\"showgrid\":false,\"showline\":true,\"ticks\":\"outside\",\"title\":{\"standoff\":15},\"zeroline\":false,\"zerolinecolor\":\"rgb(36,36,36)\"},\"yaxis\":{\"automargin\":true,\"gridcolor\":\"rgb(232,232,232)\",\"linecolor\":\"rgb(36,36,36)\",\"showgrid\":false,\"showline\":true,\"ticks\":\"outside\",\"title\":{\"standoff\":15},\"zeroline\":false,\"zerolinecolor\":\"rgb(36,36,36)\"}}},\"xaxis\":{\"anchor\":\"y\",\"domain\":[0.0,0.7363],\"title\":{\"text\":\"AverageTemperature\"}},\"yaxis\":{\"anchor\":\"x\",\"domain\":[0.0,0.7326],\"title\":{\"text\":\"GHG\"}},\"xaxis2\":{\"anchor\":\"y2\",\"domain\":[0.7413,1.0],\"matches\":\"x2\",\"showticklabels\":false,\"showline\":false,\"ticks\":\"\"},\"yaxis2\":{\"anchor\":\"x2\",\"domain\":[0.0,0.7326],\"matches\":\"y\",\"showticklabels\":false},\"xaxis3\":{\"anchor\":\"y3\",\"domain\":[0.0,0.7363],\"matches\":\"x\",\"showticklabels\":false},\"yaxis3\":{\"anchor\":\"x3\",\"domain\":[0.7426,1.0],\"matches\":\"y3\",\"showticklabels\":false,\"showline\":false,\"ticks\":\"\"},\"xaxis4\":{\"anchor\":\"y4\",\"domain\":[0.7413,1.0],\"matches\":\"x2\",\"showticklabels\":false,\"showline\":false,\"ticks\":\"\"},\"yaxis4\":{\"anchor\":\"x4\",\"domain\":[0.7426,1.0],\"matches\":\"y3\",\"showticklabels\":false,\"showline\":false,\"ticks\":\"\"},\"legend\":{\"title\":{\"text\":\"AverageTemperature: above Average\"},\"tracegroupgap\":0,\"itemsizing\":\"constant\"},\"margin\":{\"t\":60}},                        {\"responsive\": true}                    ).then(function(){\n",
       "                            \n",
       "var gd = document.getElementById('9710a257-90d3-477a-bc98-8d049d6a1386');\n",
       "var x = new MutationObserver(function (mutations, observer) {{\n",
       "        var display = window.getComputedStyle(gd).display;\n",
       "        if (!display || display === 'none') {{\n",
       "            console.log([gd, 'removed!']);\n",
       "            Plotly.purge(gd);\n",
       "            observer.disconnect();\n",
       "        }}\n",
       "}});\n",
       "\n",
       "// Listen for the removal of the full notebook cells\n",
       "var notebookContainer = gd.closest('#notebook-container');\n",
       "if (notebookContainer) {{\n",
       "    x.observe(notebookContainer, {childList: true});\n",
       "}}\n",
       "\n",
       "// Listen for the clearing of the current output cell\n",
       "var outputEl = gd.closest('.output');\n",
       "if (outputEl) {{\n",
       "    x.observe(outputEl, {childList: true});\n",
       "}}\n",
       "\n",
       "                        })                };                });            </script>        </div>"
      ]
     },
     "metadata": {},
     "output_type": "display_data"
    }
   ],
   "source": [
    "col_name = str(\"AverageTemperature\") + \": above Average\"\n",
    "df[col_name] = (df[(\"AverageTemperature\")] > df[(\"AverageTemperature\")].mean())#.astype(int)\n",
    "\n",
    "    \n",
    "size = df[\"AverageTemperature\"]\n",
    "    \n",
    "fig = px.scatter(df, x=\"AverageTemperature\", y =\"GHG\", size=size, color=col_name,hover_name=df.index, log_x=False, trendline = \"ols\",  trendline_color_override=\"#bd3786\",marginal_x = \"box\",marginal_y = \"box\", template=\"simple_white\", color_discrete_sequence=px.colors.qualitative.G10)\n",
    "fig.show()"
   ]
  },
  {
   "cell_type": "code",
   "execution_count": 18,
   "id": "55b1239d",
   "metadata": {},
   "outputs": [],
   "source": [
    "def scatter_plot(df, x, y, size):\n",
    "    '''insert x and y as string while x entails color coding (abv avg...)'''\n",
    "    \n",
    "    # feature engineering\n",
    "    col_name = str(y) + \" above avg\"\n",
    "    df[col_name] = (df[y] > df[y].mean()).astype(int)\n",
    "    \n",
    "    size = df[size] * 1/4\n",
    "    \n",
    "    # plotting\n",
    "    fig = px.scatter(df, x=x, y =y, size=size, color_continuous_scale=px.colors.sequential.Plasma, color=col_name,hover_name=df.index, log_x=False, trendline = \"ols\",  trendline_color_override=\"#bd3786\",marginal_x = \"box\",marginal_y = \"box\", template=\"simple_white\")\n",
    "    fig.show()"
   ]
  },
  {
   "cell_type": "code",
   "execution_count": 19,
   "id": "eaee5521",
   "metadata": {},
   "outputs": [
    {
     "data": {
      "application/vnd.plotly.v1+json": {
       "config": {
        "plotlyServerURL": "https://plot.ly"
       },
       "data": [
        {
         "hovertemplate": "<b>%{hovertext}</b><br><br>AverageTemperature=%{x}<br>GHG=%{y}<br>size=%{marker.size}<br>GHG above avg=%{marker.color}<extra></extra>",
         "hovertext": [
          0,
          1,
          2,
          3,
          4,
          5,
          6,
          7,
          8,
          9,
          10,
          11,
          12,
          13,
          14,
          15,
          16,
          17,
          18,
          19,
          20,
          21,
          22,
          23,
          24,
          25,
          26,
          27,
          28,
          29,
          30,
          31,
          32,
          33,
          34,
          35,
          36,
          37,
          38,
          39,
          40,
          41,
          42,
          43,
          44,
          45,
          46,
          47,
          48,
          49,
          50,
          51,
          52,
          53,
          54,
          55,
          56,
          57,
          58,
          59,
          60,
          61,
          62,
          63,
          64,
          65,
          66,
          67,
          68,
          69
         ],
         "legendgroup": "",
         "marker": {
          "color": [
           0,
           0,
           0,
           0,
           0,
           1,
           0,
           1,
           0,
           0,
           0,
           0,
           1,
           0,
           0,
           0,
           0,
           0,
           0,
           0,
           0,
           1,
           1,
           0,
           0,
           0,
           0,
           1,
           0,
           0,
           0,
           0,
           0,
           1,
           1,
           0,
           0,
           0,
           0,
           0,
           0,
           0,
           0,
           1,
           0,
           0,
           0,
           0,
           0,
           0,
           1,
           0,
           0,
           0,
           0,
           0,
           0,
           0,
           0,
           0,
           0,
           0,
           0,
           0,
           0,
           1,
           0,
           0,
           0,
           0
          ],
          "coloraxis": "coloraxis",
          "size": [
           3.337520833333333,
           3.1295625,
           5.797041666666668,
           3.692833333333333,
           5.246229166666667,
           1.7407083333333333,
           6.3491875,
           2.6136458333333334,
           5.1944791666666665,
           6.154208333333333,
           2.5751041666666663,
           2.3422916666666667,
           1.743875,
           6.188395833333334,
           2.309229166666667,
           5.4325833333333335,
           5.473125,
           6.672854166666667,
           1.6866041666666665,
           5.7341875,
           0.7614791666666667,
           2.881479166666667,
           2.2941249999999997,
           3.5954374999999996,
           5.818270833333333,
           2.5722083333333337,
           0.31208333333333327,
           6.0118125000000004,
           6.439395833333333,
           4.193875,
           5.26375,
           2.6441458333333334,
           4.719270833333334,
           3.3386666666666667,
           3.0256458333333334,
           6.1588125,
           1.7954375000000002,
           4.2549375,
           2.5301875,
           5.747145833333334,
           6.495104166666667,
           4.537583333333333,
           5.949583333333333,
           2.529875,
           2.6161666666666665,
           6.767125,
           1.7843125000000002,
           0.30433333333333334,
           4.962854166666667,
           6.638291666666667,
           2.1515833333333334,
           3.939666666666667,
           6.599,
           2.2470416666666666,
           6.273875,
           4.4167499999999995,
           3.0144583333333332,
           3.6275208333333335,
           1.0058333333333334,
           1.9989583333333334,
           4.319375,
           5.591229166666667,
           6.562395833333333,
           5.0365,
           2.74025,
           2.453583333333333,
           4.3223125,
           6.240916666666667,
           6.011083333333333,
           5.383770833333333
          ],
          "sizemode": "area",
          "sizeref": 0.0169178125,
          "symbol": "circle"
         },
         "mode": "markers",
         "name": "",
         "orientation": "v",
         "showlegend": false,
         "type": "scatter",
         "x": [
          13.350083333333332,
          12.51825,
          23.18816666666667,
          14.771333333333333,
          20.984916666666667,
          6.962833333333333,
          25.39675,
          10.454583333333334,
          20.777916666666666,
          24.616833333333332,
          10.300416666666665,
          9.369166666666667,
          6.9755,
          24.753583333333335,
          9.236916666666668,
          21.730333333333334,
          21.8925,
          26.69141666666667,
          6.746416666666666,
          22.93675,
          3.045916666666667,
          11.525916666666667,
          9.176499999999999,
          14.381749999999998,
          23.273083333333332,
          10.288833333333335,
          1.248333333333333,
          24.047250000000002,
          25.757583333333333,
          16.7755,
          21.055,
          10.576583333333334,
          18.877083333333335,
          13.354666666666667,
          12.102583333333333,
          24.63525,
          7.181750000000001,
          17.01975,
          10.12075,
          22.988583333333334,
          25.980416666666667,
          18.150333333333332,
          23.798333333333332,
          10.1195,
          10.464666666666666,
          27.0685,
          7.137250000000001,
          1.2173333333333334,
          19.85141666666667,
          26.55316666666667,
          8.606333333333334,
          15.758666666666668,
          26.396,
          8.988166666666666,
          25.0955,
          17.666999999999998,
          12.057833333333333,
          14.510083333333334,
          4.023333333333333,
          7.995833333333334,
          17.2775,
          22.36491666666667,
          26.249583333333334,
          20.146,
          10.961,
          9.814333333333332,
          17.28925,
          24.96366666666667,
          24.04433333333333,
          21.535083333333333
         ],
         "xaxis": "x",
         "y": [
          14656,
          7166784,
          7302352,
          526139408,
          1285364176,
          1644707312,
          46096784,
          4626144416,
          2132448,
          235503600,
          111861920,
          194825872,
          1792828176,
          67926896,
          673611744,
          21375776,
          64493728,
          69616,
          304112,
          40304,
          117127088,
          11682198672,
          28678989040,
          58133024,
          238160,
          755091776,
          172208,
          2127974256,
          572987312,
          876762224,
          129097376,
          224764416,
          1604832,
          1650353536,
          4014798688,
          10603616,
          494640,
          1271408,
          216176,
          32976,
          65717504,
          8273312,
          1066224,
          1823994160,
          245902032,
          29718704,
          3396528,
          409653520,
          189450784,
          3209664,
          5454332992,
          204795616,
          260144,
          698076272,
          121029248,
          1431975472,
          5235856,
          1133560992,
          904872432,
          463016016,
          542272,
          154104176,
          578912,
          1436288,
          174366096,
          38649004176,
          1637808,
          285744368,
          134014464,
          93593216
         ],
         "yaxis": "y"
        },
        {
         "alignmentgroup": "True",
         "hovertemplate": "<b>%{hovertext}</b><br><br>AverageTemperature=%{x}<extra></extra>",
         "hovertext": [
          0,
          1,
          2,
          3,
          4,
          5,
          6,
          7,
          8,
          9,
          10,
          11,
          12,
          13,
          14,
          15,
          16,
          17,
          18,
          19,
          20,
          21,
          22,
          23,
          24,
          25,
          26,
          27,
          28,
          29,
          30,
          31,
          32,
          33,
          34,
          35,
          36,
          37,
          38,
          39,
          40,
          41,
          42,
          43,
          44,
          45,
          46,
          47,
          48,
          49,
          50,
          51,
          52,
          53,
          54,
          55,
          56,
          57,
          58,
          59,
          60,
          61,
          62,
          63,
          64,
          65,
          66,
          67,
          68,
          69
         ],
         "legendgroup": "",
         "marker": {
          "color": "#0d0887",
          "symbol": "circle"
         },
         "name": "",
         "notched": true,
         "offsetgroup": "",
         "showlegend": false,
         "type": "box",
         "x": [
          13.350083333333332,
          12.51825,
          23.18816666666667,
          14.771333333333333,
          20.984916666666667,
          6.962833333333333,
          25.39675,
          10.454583333333334,
          20.777916666666666,
          24.616833333333332,
          10.300416666666665,
          9.369166666666667,
          6.9755,
          24.753583333333335,
          9.236916666666668,
          21.730333333333334,
          21.8925,
          26.69141666666667,
          6.746416666666666,
          22.93675,
          3.045916666666667,
          11.525916666666667,
          9.176499999999999,
          14.381749999999998,
          23.273083333333332,
          10.288833333333335,
          1.248333333333333,
          24.047250000000002,
          25.757583333333333,
          16.7755,
          21.055,
          10.576583333333334,
          18.877083333333335,
          13.354666666666667,
          12.102583333333333,
          24.63525,
          7.181750000000001,
          17.01975,
          10.12075,
          22.988583333333334,
          25.980416666666667,
          18.150333333333332,
          23.798333333333332,
          10.1195,
          10.464666666666666,
          27.0685,
          7.137250000000001,
          1.2173333333333334,
          19.85141666666667,
          26.55316666666667,
          8.606333333333334,
          15.758666666666668,
          26.396,
          8.988166666666666,
          25.0955,
          17.666999999999998,
          12.057833333333333,
          14.510083333333334,
          4.023333333333333,
          7.995833333333334,
          17.2775,
          22.36491666666667,
          26.249583333333334,
          20.146,
          10.961,
          9.814333333333332,
          17.28925,
          24.96366666666667,
          24.04433333333333,
          21.535083333333333
         ],
         "xaxis": "x3",
         "yaxis": "y3"
        },
        {
         "alignmentgroup": "True",
         "hovertemplate": "<b>%{hovertext}</b><br><br>GHG=%{y}<extra></extra>",
         "hovertext": [
          0,
          1,
          2,
          3,
          4,
          5,
          6,
          7,
          8,
          9,
          10,
          11,
          12,
          13,
          14,
          15,
          16,
          17,
          18,
          19,
          20,
          21,
          22,
          23,
          24,
          25,
          26,
          27,
          28,
          29,
          30,
          31,
          32,
          33,
          34,
          35,
          36,
          37,
          38,
          39,
          40,
          41,
          42,
          43,
          44,
          45,
          46,
          47,
          48,
          49,
          50,
          51,
          52,
          53,
          54,
          55,
          56,
          57,
          58,
          59,
          60,
          61,
          62,
          63,
          64,
          65,
          66,
          67,
          68,
          69
         ],
         "legendgroup": "",
         "marker": {
          "color": "#0d0887",
          "symbol": "circle"
         },
         "name": "",
         "notched": true,
         "offsetgroup": "",
         "showlegend": false,
         "type": "box",
         "xaxis": "x2",
         "y": [
          14656,
          7166784,
          7302352,
          526139408,
          1285364176,
          1644707312,
          46096784,
          4626144416,
          2132448,
          235503600,
          111861920,
          194825872,
          1792828176,
          67926896,
          673611744,
          21375776,
          64493728,
          69616,
          304112,
          40304,
          117127088,
          11682198672,
          28678989040,
          58133024,
          238160,
          755091776,
          172208,
          2127974256,
          572987312,
          876762224,
          129097376,
          224764416,
          1604832,
          1650353536,
          4014798688,
          10603616,
          494640,
          1271408,
          216176,
          32976,
          65717504,
          8273312,
          1066224,
          1823994160,
          245902032,
          29718704,
          3396528,
          409653520,
          189450784,
          3209664,
          5454332992,
          204795616,
          260144,
          698076272,
          121029248,
          1431975472,
          5235856,
          1133560992,
          904872432,
          463016016,
          542272,
          154104176,
          578912,
          1436288,
          174366096,
          38649004176,
          1637808,
          285744368,
          134014464,
          93593216
         ],
         "yaxis": "y2"
        },
        {
         "hovertemplate": "<b>OLS trendline</b><br>GHG = -1.7293e+08 * AverageTemperature + 4.45078e+09<br>R<sup>2</sup>=0.047110<br><br>AverageTemperature=%{x}<br>GHG=%{y} <b>(trend)</b><extra></extra>",
         "legendgroup": "",
         "line": {
          "color": "#bd3786"
         },
         "marker": {
          "symbol": "circle"
         },
         "mode": "lines",
         "name": "",
         "showlegend": false,
         "type": "scatter",
         "x": [
          1.2173333333333334,
          1.248333333333333,
          3.045916666666667,
          4.023333333333333,
          6.746416666666666,
          6.962833333333333,
          6.9755,
          7.137250000000001,
          7.181750000000001,
          7.995833333333334,
          8.606333333333334,
          8.988166666666666,
          9.176499999999999,
          9.236916666666668,
          9.369166666666667,
          9.814333333333332,
          10.1195,
          10.12075,
          10.288833333333335,
          10.300416666666665,
          10.454583333333334,
          10.464666666666666,
          10.576583333333334,
          10.961,
          11.525916666666667,
          12.057833333333333,
          12.102583333333333,
          12.51825,
          13.350083333333332,
          13.354666666666667,
          14.381749999999998,
          14.510083333333334,
          14.771333333333333,
          15.758666666666668,
          16.7755,
          17.01975,
          17.2775,
          17.28925,
          17.666999999999998,
          18.150333333333332,
          18.877083333333335,
          19.85141666666667,
          20.146,
          20.777916666666666,
          20.984916666666667,
          21.055,
          21.535083333333333,
          21.730333333333334,
          21.8925,
          22.36491666666667,
          22.93675,
          22.988583333333334,
          23.18816666666667,
          23.273083333333332,
          23.798333333333332,
          24.04433333333333,
          24.047250000000002,
          24.616833333333332,
          24.63525,
          24.753583333333335,
          24.96366666666667,
          25.0955,
          25.39675,
          25.757583333333333,
          25.980416666666667,
          26.249583333333334,
          26.396,
          26.55316666666667,
          26.69141666666667,
          27.0685
         ],
         "xaxis": "x",
         "y": [
          4240269335.003387,
          4234908500.7249594,
          3924052166.8003216,
          3755027367.7366676,
          3284124191.0802593,
          3246699227.045106,
          3244508778.6302643,
          3216537328.8065324,
          3208841937.6649184,
          3068062394.4768515,
          2962488545.2194276,
          2896458054.187825,
          2863889544.8618937,
          2853441682.3568926,
          2830571671.6045685,
          2753588938.4987593,
          2700816424.714881,
          2700600262.042364,
          2671533588.011211,
          2669530480.5792184,
          2642870417.6354237,
          2641126705.410452,
          2621772940.7977405,
          2555295713.576269,
          2457604596.4433074,
          2365620173.8648014,
          2357881550.1886835,
          2286000256.154281,
          2142151203.01647,
          2141358606.5505729,
          1963744943.9655676,
          1941552242.920463,
          1896374244.364358,
          1725634554.7654004,
          1549793426.095036,
          1507555239.8851662,
          1462982496.8121095,
          1460950567.6904473,
          1395626208.055735,
          1312043308.0157323,
          1186366330.2142034,
          1017874732.4094253,
          966932395.919527,
          857654959.5396414,
          821858420.9707847,
          809738900.4649844,
          726718023.3735266,
          692953413.926332,
          664909909.878428,
          583214830.5117421,
          484327613.2575183,
          475364067.77046967,
          440850094.39188194,
          426165443.5055442,
          335333888.5137963,
          292793074.56240225,
          292288694.9931946,
          193790570.5495019,
          190605773.84108114,
          170142374.17611456,
          133812634.348382,
          111014677.82023048,
          58919473.74357319,
          -3479484.3897390366,
          -42014083.4771471,
          -88561112.29252815,
          -113880966.66671562,
          -141059820.0245514,
          -164967411.60495853,
          -230176484.48099518
         ],
         "yaxis": "y"
        }
       ],
       "layout": {
        "coloraxis": {
         "colorbar": {
          "title": {
           "text": "GHG above avg"
          }
         },
         "colorscale": [
          [
           0,
           "#0d0887"
          ],
          [
           0.1111111111111111,
           "#46039f"
          ],
          [
           0.2222222222222222,
           "#7201a8"
          ],
          [
           0.3333333333333333,
           "#9c179e"
          ],
          [
           0.4444444444444444,
           "#bd3786"
          ],
          [
           0.5555555555555556,
           "#d8576b"
          ],
          [
           0.6666666666666666,
           "#ed7953"
          ],
          [
           0.7777777777777778,
           "#fb9f3a"
          ],
          [
           0.8888888888888888,
           "#fdca26"
          ],
          [
           1,
           "#f0f921"
          ]
         ]
        },
        "legend": {
         "itemsizing": "constant",
         "tracegroupgap": 0
        },
        "margin": {
         "t": 60
        },
        "template": {
         "data": {
          "bar": [
           {
            "error_x": {
             "color": "rgb(36,36,36)"
            },
            "error_y": {
             "color": "rgb(36,36,36)"
            },
            "marker": {
             "line": {
              "color": "white",
              "width": 0.5
             },
             "pattern": {
              "fillmode": "overlay",
              "size": 10,
              "solidity": 0.2
             }
            },
            "type": "bar"
           }
          ],
          "barpolar": [
           {
            "marker": {
             "line": {
              "color": "white",
              "width": 0.5
             },
             "pattern": {
              "fillmode": "overlay",
              "size": 10,
              "solidity": 0.2
             }
            },
            "type": "barpolar"
           }
          ],
          "carpet": [
           {
            "aaxis": {
             "endlinecolor": "rgb(36,36,36)",
             "gridcolor": "white",
             "linecolor": "white",
             "minorgridcolor": "white",
             "startlinecolor": "rgb(36,36,36)"
            },
            "baxis": {
             "endlinecolor": "rgb(36,36,36)",
             "gridcolor": "white",
             "linecolor": "white",
             "minorgridcolor": "white",
             "startlinecolor": "rgb(36,36,36)"
            },
            "type": "carpet"
           }
          ],
          "choropleth": [
           {
            "colorbar": {
             "outlinewidth": 1,
             "tickcolor": "rgb(36,36,36)",
             "ticks": "outside"
            },
            "type": "choropleth"
           }
          ],
          "contour": [
           {
            "colorbar": {
             "outlinewidth": 1,
             "tickcolor": "rgb(36,36,36)",
             "ticks": "outside"
            },
            "colorscale": [
             [
              0,
              "#440154"
             ],
             [
              0.1111111111111111,
              "#482878"
             ],
             [
              0.2222222222222222,
              "#3e4989"
             ],
             [
              0.3333333333333333,
              "#31688e"
             ],
             [
              0.4444444444444444,
              "#26828e"
             ],
             [
              0.5555555555555556,
              "#1f9e89"
             ],
             [
              0.6666666666666666,
              "#35b779"
             ],
             [
              0.7777777777777778,
              "#6ece58"
             ],
             [
              0.8888888888888888,
              "#b5de2b"
             ],
             [
              1,
              "#fde725"
             ]
            ],
            "type": "contour"
           }
          ],
          "contourcarpet": [
           {
            "colorbar": {
             "outlinewidth": 1,
             "tickcolor": "rgb(36,36,36)",
             "ticks": "outside"
            },
            "type": "contourcarpet"
           }
          ],
          "heatmap": [
           {
            "colorbar": {
             "outlinewidth": 1,
             "tickcolor": "rgb(36,36,36)",
             "ticks": "outside"
            },
            "colorscale": [
             [
              0,
              "#440154"
             ],
             [
              0.1111111111111111,
              "#482878"
             ],
             [
              0.2222222222222222,
              "#3e4989"
             ],
             [
              0.3333333333333333,
              "#31688e"
             ],
             [
              0.4444444444444444,
              "#26828e"
             ],
             [
              0.5555555555555556,
              "#1f9e89"
             ],
             [
              0.6666666666666666,
              "#35b779"
             ],
             [
              0.7777777777777778,
              "#6ece58"
             ],
             [
              0.8888888888888888,
              "#b5de2b"
             ],
             [
              1,
              "#fde725"
             ]
            ],
            "type": "heatmap"
           }
          ],
          "heatmapgl": [
           {
            "colorbar": {
             "outlinewidth": 1,
             "tickcolor": "rgb(36,36,36)",
             "ticks": "outside"
            },
            "colorscale": [
             [
              0,
              "#440154"
             ],
             [
              0.1111111111111111,
              "#482878"
             ],
             [
              0.2222222222222222,
              "#3e4989"
             ],
             [
              0.3333333333333333,
              "#31688e"
             ],
             [
              0.4444444444444444,
              "#26828e"
             ],
             [
              0.5555555555555556,
              "#1f9e89"
             ],
             [
              0.6666666666666666,
              "#35b779"
             ],
             [
              0.7777777777777778,
              "#6ece58"
             ],
             [
              0.8888888888888888,
              "#b5de2b"
             ],
             [
              1,
              "#fde725"
             ]
            ],
            "type": "heatmapgl"
           }
          ],
          "histogram": [
           {
            "marker": {
             "line": {
              "color": "white",
              "width": 0.6
             }
            },
            "type": "histogram"
           }
          ],
          "histogram2d": [
           {
            "colorbar": {
             "outlinewidth": 1,
             "tickcolor": "rgb(36,36,36)",
             "ticks": "outside"
            },
            "colorscale": [
             [
              0,
              "#440154"
             ],
             [
              0.1111111111111111,
              "#482878"
             ],
             [
              0.2222222222222222,
              "#3e4989"
             ],
             [
              0.3333333333333333,
              "#31688e"
             ],
             [
              0.4444444444444444,
              "#26828e"
             ],
             [
              0.5555555555555556,
              "#1f9e89"
             ],
             [
              0.6666666666666666,
              "#35b779"
             ],
             [
              0.7777777777777778,
              "#6ece58"
             ],
             [
              0.8888888888888888,
              "#b5de2b"
             ],
             [
              1,
              "#fde725"
             ]
            ],
            "type": "histogram2d"
           }
          ],
          "histogram2dcontour": [
           {
            "colorbar": {
             "outlinewidth": 1,
             "tickcolor": "rgb(36,36,36)",
             "ticks": "outside"
            },
            "colorscale": [
             [
              0,
              "#440154"
             ],
             [
              0.1111111111111111,
              "#482878"
             ],
             [
              0.2222222222222222,
              "#3e4989"
             ],
             [
              0.3333333333333333,
              "#31688e"
             ],
             [
              0.4444444444444444,
              "#26828e"
             ],
             [
              0.5555555555555556,
              "#1f9e89"
             ],
             [
              0.6666666666666666,
              "#35b779"
             ],
             [
              0.7777777777777778,
              "#6ece58"
             ],
             [
              0.8888888888888888,
              "#b5de2b"
             ],
             [
              1,
              "#fde725"
             ]
            ],
            "type": "histogram2dcontour"
           }
          ],
          "mesh3d": [
           {
            "colorbar": {
             "outlinewidth": 1,
             "tickcolor": "rgb(36,36,36)",
             "ticks": "outside"
            },
            "type": "mesh3d"
           }
          ],
          "parcoords": [
           {
            "line": {
             "colorbar": {
              "outlinewidth": 1,
              "tickcolor": "rgb(36,36,36)",
              "ticks": "outside"
             }
            },
            "type": "parcoords"
           }
          ],
          "pie": [
           {
            "automargin": true,
            "type": "pie"
           }
          ],
          "scatter": [
           {
            "marker": {
             "colorbar": {
              "outlinewidth": 1,
              "tickcolor": "rgb(36,36,36)",
              "ticks": "outside"
             }
            },
            "type": "scatter"
           }
          ],
          "scatter3d": [
           {
            "line": {
             "colorbar": {
              "outlinewidth": 1,
              "tickcolor": "rgb(36,36,36)",
              "ticks": "outside"
             }
            },
            "marker": {
             "colorbar": {
              "outlinewidth": 1,
              "tickcolor": "rgb(36,36,36)",
              "ticks": "outside"
             }
            },
            "type": "scatter3d"
           }
          ],
          "scattercarpet": [
           {
            "marker": {
             "colorbar": {
              "outlinewidth": 1,
              "tickcolor": "rgb(36,36,36)",
              "ticks": "outside"
             }
            },
            "type": "scattercarpet"
           }
          ],
          "scattergeo": [
           {
            "marker": {
             "colorbar": {
              "outlinewidth": 1,
              "tickcolor": "rgb(36,36,36)",
              "ticks": "outside"
             }
            },
            "type": "scattergeo"
           }
          ],
          "scattergl": [
           {
            "marker": {
             "colorbar": {
              "outlinewidth": 1,
              "tickcolor": "rgb(36,36,36)",
              "ticks": "outside"
             }
            },
            "type": "scattergl"
           }
          ],
          "scattermapbox": [
           {
            "marker": {
             "colorbar": {
              "outlinewidth": 1,
              "tickcolor": "rgb(36,36,36)",
              "ticks": "outside"
             }
            },
            "type": "scattermapbox"
           }
          ],
          "scatterpolar": [
           {
            "marker": {
             "colorbar": {
              "outlinewidth": 1,
              "tickcolor": "rgb(36,36,36)",
              "ticks": "outside"
             }
            },
            "type": "scatterpolar"
           }
          ],
          "scatterpolargl": [
           {
            "marker": {
             "colorbar": {
              "outlinewidth": 1,
              "tickcolor": "rgb(36,36,36)",
              "ticks": "outside"
             }
            },
            "type": "scatterpolargl"
           }
          ],
          "scatterternary": [
           {
            "marker": {
             "colorbar": {
              "outlinewidth": 1,
              "tickcolor": "rgb(36,36,36)",
              "ticks": "outside"
             }
            },
            "type": "scatterternary"
           }
          ],
          "surface": [
           {
            "colorbar": {
             "outlinewidth": 1,
             "tickcolor": "rgb(36,36,36)",
             "ticks": "outside"
            },
            "colorscale": [
             [
              0,
              "#440154"
             ],
             [
              0.1111111111111111,
              "#482878"
             ],
             [
              0.2222222222222222,
              "#3e4989"
             ],
             [
              0.3333333333333333,
              "#31688e"
             ],
             [
              0.4444444444444444,
              "#26828e"
             ],
             [
              0.5555555555555556,
              "#1f9e89"
             ],
             [
              0.6666666666666666,
              "#35b779"
             ],
             [
              0.7777777777777778,
              "#6ece58"
             ],
             [
              0.8888888888888888,
              "#b5de2b"
             ],
             [
              1,
              "#fde725"
             ]
            ],
            "type": "surface"
           }
          ],
          "table": [
           {
            "cells": {
             "fill": {
              "color": "rgb(237,237,237)"
             },
             "line": {
              "color": "white"
             }
            },
            "header": {
             "fill": {
              "color": "rgb(217,217,217)"
             },
             "line": {
              "color": "white"
             }
            },
            "type": "table"
           }
          ]
         },
         "layout": {
          "annotationdefaults": {
           "arrowhead": 0,
           "arrowwidth": 1
          },
          "autotypenumbers": "strict",
          "coloraxis": {
           "colorbar": {
            "outlinewidth": 1,
            "tickcolor": "rgb(36,36,36)",
            "ticks": "outside"
           }
          },
          "colorscale": {
           "diverging": [
            [
             0,
             "rgb(103,0,31)"
            ],
            [
             0.1,
             "rgb(178,24,43)"
            ],
            [
             0.2,
             "rgb(214,96,77)"
            ],
            [
             0.3,
             "rgb(244,165,130)"
            ],
            [
             0.4,
             "rgb(253,219,199)"
            ],
            [
             0.5,
             "rgb(247,247,247)"
            ],
            [
             0.6,
             "rgb(209,229,240)"
            ],
            [
             0.7,
             "rgb(146,197,222)"
            ],
            [
             0.8,
             "rgb(67,147,195)"
            ],
            [
             0.9,
             "rgb(33,102,172)"
            ],
            [
             1,
             "rgb(5,48,97)"
            ]
           ],
           "sequential": [
            [
             0,
             "#440154"
            ],
            [
             0.1111111111111111,
             "#482878"
            ],
            [
             0.2222222222222222,
             "#3e4989"
            ],
            [
             0.3333333333333333,
             "#31688e"
            ],
            [
             0.4444444444444444,
             "#26828e"
            ],
            [
             0.5555555555555556,
             "#1f9e89"
            ],
            [
             0.6666666666666666,
             "#35b779"
            ],
            [
             0.7777777777777778,
             "#6ece58"
            ],
            [
             0.8888888888888888,
             "#b5de2b"
            ],
            [
             1,
             "#fde725"
            ]
           ],
           "sequentialminus": [
            [
             0,
             "#440154"
            ],
            [
             0.1111111111111111,
             "#482878"
            ],
            [
             0.2222222222222222,
             "#3e4989"
            ],
            [
             0.3333333333333333,
             "#31688e"
            ],
            [
             0.4444444444444444,
             "#26828e"
            ],
            [
             0.5555555555555556,
             "#1f9e89"
            ],
            [
             0.6666666666666666,
             "#35b779"
            ],
            [
             0.7777777777777778,
             "#6ece58"
            ],
            [
             0.8888888888888888,
             "#b5de2b"
            ],
            [
             1,
             "#fde725"
            ]
           ]
          },
          "colorway": [
           "#1F77B4",
           "#FF7F0E",
           "#2CA02C",
           "#D62728",
           "#9467BD",
           "#8C564B",
           "#E377C2",
           "#7F7F7F",
           "#BCBD22",
           "#17BECF"
          ],
          "font": {
           "color": "rgb(36,36,36)"
          },
          "geo": {
           "bgcolor": "white",
           "lakecolor": "white",
           "landcolor": "white",
           "showlakes": true,
           "showland": true,
           "subunitcolor": "white"
          },
          "hoverlabel": {
           "align": "left"
          },
          "hovermode": "closest",
          "mapbox": {
           "style": "light"
          },
          "paper_bgcolor": "white",
          "plot_bgcolor": "white",
          "polar": {
           "angularaxis": {
            "gridcolor": "rgb(232,232,232)",
            "linecolor": "rgb(36,36,36)",
            "showgrid": false,
            "showline": true,
            "ticks": "outside"
           },
           "bgcolor": "white",
           "radialaxis": {
            "gridcolor": "rgb(232,232,232)",
            "linecolor": "rgb(36,36,36)",
            "showgrid": false,
            "showline": true,
            "ticks": "outside"
           }
          },
          "scene": {
           "xaxis": {
            "backgroundcolor": "white",
            "gridcolor": "rgb(232,232,232)",
            "gridwidth": 2,
            "linecolor": "rgb(36,36,36)",
            "showbackground": true,
            "showgrid": false,
            "showline": true,
            "ticks": "outside",
            "zeroline": false,
            "zerolinecolor": "rgb(36,36,36)"
           },
           "yaxis": {
            "backgroundcolor": "white",
            "gridcolor": "rgb(232,232,232)",
            "gridwidth": 2,
            "linecolor": "rgb(36,36,36)",
            "showbackground": true,
            "showgrid": false,
            "showline": true,
            "ticks": "outside",
            "zeroline": false,
            "zerolinecolor": "rgb(36,36,36)"
           },
           "zaxis": {
            "backgroundcolor": "white",
            "gridcolor": "rgb(232,232,232)",
            "gridwidth": 2,
            "linecolor": "rgb(36,36,36)",
            "showbackground": true,
            "showgrid": false,
            "showline": true,
            "ticks": "outside",
            "zeroline": false,
            "zerolinecolor": "rgb(36,36,36)"
           }
          },
          "shapedefaults": {
           "fillcolor": "black",
           "line": {
            "width": 0
           },
           "opacity": 0.3
          },
          "ternary": {
           "aaxis": {
            "gridcolor": "rgb(232,232,232)",
            "linecolor": "rgb(36,36,36)",
            "showgrid": false,
            "showline": true,
            "ticks": "outside"
           },
           "baxis": {
            "gridcolor": "rgb(232,232,232)",
            "linecolor": "rgb(36,36,36)",
            "showgrid": false,
            "showline": true,
            "ticks": "outside"
           },
           "bgcolor": "white",
           "caxis": {
            "gridcolor": "rgb(232,232,232)",
            "linecolor": "rgb(36,36,36)",
            "showgrid": false,
            "showline": true,
            "ticks": "outside"
           }
          },
          "title": {
           "x": 0.05
          },
          "xaxis": {
           "automargin": true,
           "gridcolor": "rgb(232,232,232)",
           "linecolor": "rgb(36,36,36)",
           "showgrid": false,
           "showline": true,
           "ticks": "outside",
           "title": {
            "standoff": 15
           },
           "zeroline": false,
           "zerolinecolor": "rgb(36,36,36)"
          },
          "yaxis": {
           "automargin": true,
           "gridcolor": "rgb(232,232,232)",
           "linecolor": "rgb(36,36,36)",
           "showgrid": false,
           "showline": true,
           "ticks": "outside",
           "title": {
            "standoff": 15
           },
           "zeroline": false,
           "zerolinecolor": "rgb(36,36,36)"
          }
         }
        },
        "xaxis": {
         "anchor": "y",
         "domain": [
          0,
          0.7363
         ],
         "title": {
          "text": "AverageTemperature"
         }
        },
        "xaxis2": {
         "anchor": "y2",
         "domain": [
          0.7413,
          1
         ],
         "matches": "x2",
         "showline": false,
         "showticklabels": false,
         "ticks": ""
        },
        "xaxis3": {
         "anchor": "y3",
         "domain": [
          0,
          0.7363
         ],
         "matches": "x",
         "showticklabels": false
        },
        "xaxis4": {
         "anchor": "y4",
         "domain": [
          0.7413,
          1
         ],
         "matches": "x2",
         "showline": false,
         "showticklabels": false,
         "ticks": ""
        },
        "yaxis": {
         "anchor": "x",
         "domain": [
          0,
          0.7326
         ],
         "title": {
          "text": "GHG"
         }
        },
        "yaxis2": {
         "anchor": "x2",
         "domain": [
          0,
          0.7326
         ],
         "matches": "y",
         "showticklabels": false
        },
        "yaxis3": {
         "anchor": "x3",
         "domain": [
          0.7426,
          1
         ],
         "matches": "y3",
         "showline": false,
         "showticklabels": false,
         "ticks": ""
        },
        "yaxis4": {
         "anchor": "x4",
         "domain": [
          0.7426,
          1
         ],
         "matches": "y3",
         "showline": false,
         "showticklabels": false,
         "ticks": ""
        }
       }
      },
      "text/html": [
       "<div>                            <div id=\"ccdc309e-dbd1-4206-981d-2727e9dd88c1\" class=\"plotly-graph-div\" style=\"height:525px; width:100%;\"></div>            <script type=\"text/javascript\">                require([\"plotly\"], function(Plotly) {                    window.PLOTLYENV=window.PLOTLYENV || {};                                    if (document.getElementById(\"ccdc309e-dbd1-4206-981d-2727e9dd88c1\")) {                    Plotly.newPlot(                        \"ccdc309e-dbd1-4206-981d-2727e9dd88c1\",                        [{\"hovertemplate\":\"<b>%{hovertext}</b><br><br>AverageTemperature=%{x}<br>GHG=%{y}<br>size=%{marker.size}<br>GHG above avg=%{marker.color}<extra></extra>\",\"hovertext\":[0.0,1.0,2.0,3.0,4.0,5.0,6.0,7.0,8.0,9.0,10.0,11.0,12.0,13.0,14.0,15.0,16.0,17.0,18.0,19.0,20.0,21.0,22.0,23.0,24.0,25.0,26.0,27.0,28.0,29.0,30.0,31.0,32.0,33.0,34.0,35.0,36.0,37.0,38.0,39.0,40.0,41.0,42.0,43.0,44.0,45.0,46.0,47.0,48.0,49.0,50.0,51.0,52.0,53.0,54.0,55.0,56.0,57.0,58.0,59.0,60.0,61.0,62.0,63.0,64.0,65.0,66.0,67.0,68.0,69.0],\"legendgroup\":\"\",\"marker\":{\"color\":[0,0,0,0,0,1,0,1,0,0,0,0,1,0,0,0,0,0,0,0,0,1,1,0,0,0,0,1,0,0,0,0,0,1,1,0,0,0,0,0,0,0,0,1,0,0,0,0,0,0,1,0,0,0,0,0,0,0,0,0,0,0,0,0,0,1,0,0,0,0],\"coloraxis\":\"coloraxis\",\"size\":[3.337520833333333,3.1295625,5.797041666666668,3.692833333333333,5.246229166666667,1.7407083333333333,6.3491875,2.6136458333333334,5.1944791666666665,6.154208333333333,2.5751041666666663,2.3422916666666667,1.743875,6.188395833333334,2.309229166666667,5.4325833333333335,5.473125,6.672854166666667,1.6866041666666665,5.7341875,0.7614791666666667,2.881479166666667,2.2941249999999997,3.5954374999999996,5.818270833333333,2.5722083333333337,0.31208333333333327,6.0118125000000004,6.439395833333333,4.193875,5.26375,2.6441458333333334,4.719270833333334,3.3386666666666667,3.0256458333333334,6.1588125,1.7954375000000002,4.2549375,2.5301875,5.747145833333334,6.495104166666667,4.537583333333333,5.949583333333333,2.529875,2.6161666666666665,6.767125,1.7843125000000002,0.30433333333333334,4.962854166666667,6.638291666666667,2.1515833333333334,3.939666666666667,6.599,2.2470416666666666,6.273875,4.4167499999999995,3.0144583333333332,3.6275208333333335,1.0058333333333334,1.9989583333333334,4.319375,5.591229166666667,6.562395833333333,5.0365,2.74025,2.453583333333333,4.3223125,6.240916666666667,6.011083333333333,5.383770833333333],\"sizemode\":\"area\",\"sizeref\":0.0169178125,\"symbol\":\"circle\"},\"mode\":\"markers\",\"name\":\"\",\"orientation\":\"v\",\"showlegend\":false,\"x\":[13.350083333333332,12.51825,23.18816666666667,14.771333333333333,20.984916666666667,6.962833333333333,25.39675,10.454583333333334,20.777916666666666,24.616833333333332,10.300416666666665,9.369166666666667,6.9755,24.753583333333335,9.236916666666668,21.730333333333334,21.8925,26.69141666666667,6.746416666666666,22.93675,3.045916666666667,11.525916666666667,9.176499999999999,14.381749999999998,23.273083333333332,10.288833333333335,1.248333333333333,24.047250000000002,25.757583333333333,16.7755,21.055,10.576583333333334,18.877083333333335,13.354666666666667,12.102583333333333,24.63525,7.181750000000001,17.01975,10.12075,22.988583333333334,25.980416666666667,18.150333333333332,23.798333333333332,10.1195,10.464666666666666,27.0685,7.137250000000001,1.2173333333333334,19.85141666666667,26.55316666666667,8.606333333333334,15.758666666666668,26.396,8.988166666666666,25.0955,17.666999999999998,12.057833333333333,14.510083333333334,4.023333333333333,7.995833333333334,17.2775,22.36491666666667,26.249583333333334,20.146,10.961,9.814333333333332,17.28925,24.96366666666667,24.04433333333333,21.535083333333333],\"xaxis\":\"x\",\"y\":[14656.0,7166784.0,7302352.0,526139408.0,1285364176.0,1644707312.0,46096784.0,4626144416.0,2132448.0,235503600.0,111861920.0,194825872.0,1792828176.0,67926896.0,673611744.0,21375776.0,64493728.0,69616.0,304112.0,40304.0,117127088.0,11682198672.0,28678989040.0,58133024.0,238160.0,755091776.0,172208.0,2127974256.0,572987312.0,876762224.0,129097376.0,224764416.0,1604832.0,1650353536.0,4014798688.0,10603616.0,494640.0,1271408.0,216176.0,32976.0,65717504.0,8273312.0,1066224.0,1823994160.0,245902032.0,29718704.0,3396528.0,409653520.0,189450784.0,3209664.0,5454332992.0,204795616.0,260144.0,698076272.0,121029248.0,1431975472.0,5235856.0,1133560992.0,904872432.0,463016016.0,542272.0,154104176.0,578912.0,1436288.0,174366096.0,38649004176.0,1637808.0,285744368.0,134014464.0,93593216.0],\"yaxis\":\"y\",\"type\":\"scatter\"},{\"alignmentgroup\":\"True\",\"hovertemplate\":\"<b>%{hovertext}</b><br><br>AverageTemperature=%{x}<extra></extra>\",\"hovertext\":[0.0,1.0,2.0,3.0,4.0,5.0,6.0,7.0,8.0,9.0,10.0,11.0,12.0,13.0,14.0,15.0,16.0,17.0,18.0,19.0,20.0,21.0,22.0,23.0,24.0,25.0,26.0,27.0,28.0,29.0,30.0,31.0,32.0,33.0,34.0,35.0,36.0,37.0,38.0,39.0,40.0,41.0,42.0,43.0,44.0,45.0,46.0,47.0,48.0,49.0,50.0,51.0,52.0,53.0,54.0,55.0,56.0,57.0,58.0,59.0,60.0,61.0,62.0,63.0,64.0,65.0,66.0,67.0,68.0,69.0],\"legendgroup\":\"\",\"marker\":{\"color\":\"#0d0887\",\"symbol\":\"circle\"},\"name\":\"\",\"notched\":true,\"offsetgroup\":\"\",\"showlegend\":false,\"x\":[13.350083333333332,12.51825,23.18816666666667,14.771333333333333,20.984916666666667,6.962833333333333,25.39675,10.454583333333334,20.777916666666666,24.616833333333332,10.300416666666665,9.369166666666667,6.9755,24.753583333333335,9.236916666666668,21.730333333333334,21.8925,26.69141666666667,6.746416666666666,22.93675,3.045916666666667,11.525916666666667,9.176499999999999,14.381749999999998,23.273083333333332,10.288833333333335,1.248333333333333,24.047250000000002,25.757583333333333,16.7755,21.055,10.576583333333334,18.877083333333335,13.354666666666667,12.102583333333333,24.63525,7.181750000000001,17.01975,10.12075,22.988583333333334,25.980416666666667,18.150333333333332,23.798333333333332,10.1195,10.464666666666666,27.0685,7.137250000000001,1.2173333333333334,19.85141666666667,26.55316666666667,8.606333333333334,15.758666666666668,26.396,8.988166666666666,25.0955,17.666999999999998,12.057833333333333,14.510083333333334,4.023333333333333,7.995833333333334,17.2775,22.36491666666667,26.249583333333334,20.146,10.961,9.814333333333332,17.28925,24.96366666666667,24.04433333333333,21.535083333333333],\"xaxis\":\"x3\",\"yaxis\":\"y3\",\"type\":\"box\"},{\"alignmentgroup\":\"True\",\"hovertemplate\":\"<b>%{hovertext}</b><br><br>GHG=%{y}<extra></extra>\",\"hovertext\":[0.0,1.0,2.0,3.0,4.0,5.0,6.0,7.0,8.0,9.0,10.0,11.0,12.0,13.0,14.0,15.0,16.0,17.0,18.0,19.0,20.0,21.0,22.0,23.0,24.0,25.0,26.0,27.0,28.0,29.0,30.0,31.0,32.0,33.0,34.0,35.0,36.0,37.0,38.0,39.0,40.0,41.0,42.0,43.0,44.0,45.0,46.0,47.0,48.0,49.0,50.0,51.0,52.0,53.0,54.0,55.0,56.0,57.0,58.0,59.0,60.0,61.0,62.0,63.0,64.0,65.0,66.0,67.0,68.0,69.0],\"legendgroup\":\"\",\"marker\":{\"color\":\"#0d0887\",\"symbol\":\"circle\"},\"name\":\"\",\"notched\":true,\"offsetgroup\":\"\",\"showlegend\":false,\"xaxis\":\"x2\",\"y\":[14656.0,7166784.0,7302352.0,526139408.0,1285364176.0,1644707312.0,46096784.0,4626144416.0,2132448.0,235503600.0,111861920.0,194825872.0,1792828176.0,67926896.0,673611744.0,21375776.0,64493728.0,69616.0,304112.0,40304.0,117127088.0,11682198672.0,28678989040.0,58133024.0,238160.0,755091776.0,172208.0,2127974256.0,572987312.0,876762224.0,129097376.0,224764416.0,1604832.0,1650353536.0,4014798688.0,10603616.0,494640.0,1271408.0,216176.0,32976.0,65717504.0,8273312.0,1066224.0,1823994160.0,245902032.0,29718704.0,3396528.0,409653520.0,189450784.0,3209664.0,5454332992.0,204795616.0,260144.0,698076272.0,121029248.0,1431975472.0,5235856.0,1133560992.0,904872432.0,463016016.0,542272.0,154104176.0,578912.0,1436288.0,174366096.0,38649004176.0,1637808.0,285744368.0,134014464.0,93593216.0],\"yaxis\":\"y2\",\"type\":\"box\"},{\"hovertemplate\":\"<b>OLS trendline</b><br>GHG = -1.7293e+08 * AverageTemperature + 4.45078e+09<br>R<sup>2</sup>=0.047110<br><br>AverageTemperature=%{x}<br>GHG=%{y} <b>(trend)</b><extra></extra>\",\"legendgroup\":\"\",\"line\":{\"color\":\"#bd3786\"},\"marker\":{\"symbol\":\"circle\"},\"mode\":\"lines\",\"name\":\"\",\"showlegend\":false,\"x\":[1.2173333333333334,1.248333333333333,3.045916666666667,4.023333333333333,6.746416666666666,6.962833333333333,6.9755,7.137250000000001,7.181750000000001,7.995833333333334,8.606333333333334,8.988166666666666,9.176499999999999,9.236916666666668,9.369166666666667,9.814333333333332,10.1195,10.12075,10.288833333333335,10.300416666666665,10.454583333333334,10.464666666666666,10.576583333333334,10.961,11.525916666666667,12.057833333333333,12.102583333333333,12.51825,13.350083333333332,13.354666666666667,14.381749999999998,14.510083333333334,14.771333333333333,15.758666666666668,16.7755,17.01975,17.2775,17.28925,17.666999999999998,18.150333333333332,18.877083333333335,19.85141666666667,20.146,20.777916666666666,20.984916666666667,21.055,21.535083333333333,21.730333333333334,21.8925,22.36491666666667,22.93675,22.988583333333334,23.18816666666667,23.273083333333332,23.798333333333332,24.04433333333333,24.047250000000002,24.616833333333332,24.63525,24.753583333333335,24.96366666666667,25.0955,25.39675,25.757583333333333,25.980416666666667,26.249583333333334,26.396,26.55316666666667,26.69141666666667,27.0685],\"xaxis\":\"x\",\"y\":[4240269335.003387,4234908500.7249594,3924052166.8003216,3755027367.7366676,3284124191.0802593,3246699227.045106,3244508778.6302643,3216537328.8065324,3208841937.6649184,3068062394.4768515,2962488545.2194276,2896458054.187825,2863889544.8618937,2853441682.3568926,2830571671.6045685,2753588938.4987593,2700816424.714881,2700600262.042364,2671533588.011211,2669530480.5792184,2642870417.6354237,2641126705.410452,2621772940.7977405,2555295713.576269,2457604596.4433074,2365620173.8648014,2357881550.1886835,2286000256.154281,2142151203.01647,2141358606.5505729,1963744943.9655676,1941552242.920463,1896374244.364358,1725634554.7654004,1549793426.095036,1507555239.8851662,1462982496.8121095,1460950567.6904473,1395626208.055735,1312043308.0157323,1186366330.2142034,1017874732.4094253,966932395.919527,857654959.5396414,821858420.9707847,809738900.4649844,726718023.3735266,692953413.926332,664909909.878428,583214830.5117421,484327613.2575183,475364067.77046967,440850094.39188194,426165443.5055442,335333888.5137963,292793074.56240225,292288694.9931946,193790570.5495019,190605773.84108114,170142374.17611456,133812634.348382,111014677.82023048,58919473.74357319,-3479484.3897390366,-42014083.4771471,-88561112.29252815,-113880966.66671562,-141059820.0245514,-164967411.60495853,-230176484.48099518],\"yaxis\":\"y\",\"type\":\"scatter\"}],                        {\"template\":{\"data\":{\"barpolar\":[{\"marker\":{\"line\":{\"color\":\"white\",\"width\":0.5},\"pattern\":{\"fillmode\":\"overlay\",\"size\":10,\"solidity\":0.2}},\"type\":\"barpolar\"}],\"bar\":[{\"error_x\":{\"color\":\"rgb(36,36,36)\"},\"error_y\":{\"color\":\"rgb(36,36,36)\"},\"marker\":{\"line\":{\"color\":\"white\",\"width\":0.5},\"pattern\":{\"fillmode\":\"overlay\",\"size\":10,\"solidity\":0.2}},\"type\":\"bar\"}],\"carpet\":[{\"aaxis\":{\"endlinecolor\":\"rgb(36,36,36)\",\"gridcolor\":\"white\",\"linecolor\":\"white\",\"minorgridcolor\":\"white\",\"startlinecolor\":\"rgb(36,36,36)\"},\"baxis\":{\"endlinecolor\":\"rgb(36,36,36)\",\"gridcolor\":\"white\",\"linecolor\":\"white\",\"minorgridcolor\":\"white\",\"startlinecolor\":\"rgb(36,36,36)\"},\"type\":\"carpet\"}],\"choropleth\":[{\"colorbar\":{\"outlinewidth\":1,\"tickcolor\":\"rgb(36,36,36)\",\"ticks\":\"outside\"},\"type\":\"choropleth\"}],\"contourcarpet\":[{\"colorbar\":{\"outlinewidth\":1,\"tickcolor\":\"rgb(36,36,36)\",\"ticks\":\"outside\"},\"type\":\"contourcarpet\"}],\"contour\":[{\"colorbar\":{\"outlinewidth\":1,\"tickcolor\":\"rgb(36,36,36)\",\"ticks\":\"outside\"},\"colorscale\":[[0.0,\"#440154\"],[0.1111111111111111,\"#482878\"],[0.2222222222222222,\"#3e4989\"],[0.3333333333333333,\"#31688e\"],[0.4444444444444444,\"#26828e\"],[0.5555555555555556,\"#1f9e89\"],[0.6666666666666666,\"#35b779\"],[0.7777777777777778,\"#6ece58\"],[0.8888888888888888,\"#b5de2b\"],[1.0,\"#fde725\"]],\"type\":\"contour\"}],\"heatmapgl\":[{\"colorbar\":{\"outlinewidth\":1,\"tickcolor\":\"rgb(36,36,36)\",\"ticks\":\"outside\"},\"colorscale\":[[0.0,\"#440154\"],[0.1111111111111111,\"#482878\"],[0.2222222222222222,\"#3e4989\"],[0.3333333333333333,\"#31688e\"],[0.4444444444444444,\"#26828e\"],[0.5555555555555556,\"#1f9e89\"],[0.6666666666666666,\"#35b779\"],[0.7777777777777778,\"#6ece58\"],[0.8888888888888888,\"#b5de2b\"],[1.0,\"#fde725\"]],\"type\":\"heatmapgl\"}],\"heatmap\":[{\"colorbar\":{\"outlinewidth\":1,\"tickcolor\":\"rgb(36,36,36)\",\"ticks\":\"outside\"},\"colorscale\":[[0.0,\"#440154\"],[0.1111111111111111,\"#482878\"],[0.2222222222222222,\"#3e4989\"],[0.3333333333333333,\"#31688e\"],[0.4444444444444444,\"#26828e\"],[0.5555555555555556,\"#1f9e89\"],[0.6666666666666666,\"#35b779\"],[0.7777777777777778,\"#6ece58\"],[0.8888888888888888,\"#b5de2b\"],[1.0,\"#fde725\"]],\"type\":\"heatmap\"}],\"histogram2dcontour\":[{\"colorbar\":{\"outlinewidth\":1,\"tickcolor\":\"rgb(36,36,36)\",\"ticks\":\"outside\"},\"colorscale\":[[0.0,\"#440154\"],[0.1111111111111111,\"#482878\"],[0.2222222222222222,\"#3e4989\"],[0.3333333333333333,\"#31688e\"],[0.4444444444444444,\"#26828e\"],[0.5555555555555556,\"#1f9e89\"],[0.6666666666666666,\"#35b779\"],[0.7777777777777778,\"#6ece58\"],[0.8888888888888888,\"#b5de2b\"],[1.0,\"#fde725\"]],\"type\":\"histogram2dcontour\"}],\"histogram2d\":[{\"colorbar\":{\"outlinewidth\":1,\"tickcolor\":\"rgb(36,36,36)\",\"ticks\":\"outside\"},\"colorscale\":[[0.0,\"#440154\"],[0.1111111111111111,\"#482878\"],[0.2222222222222222,\"#3e4989\"],[0.3333333333333333,\"#31688e\"],[0.4444444444444444,\"#26828e\"],[0.5555555555555556,\"#1f9e89\"],[0.6666666666666666,\"#35b779\"],[0.7777777777777778,\"#6ece58\"],[0.8888888888888888,\"#b5de2b\"],[1.0,\"#fde725\"]],\"type\":\"histogram2d\"}],\"histogram\":[{\"marker\":{\"line\":{\"color\":\"white\",\"width\":0.6}},\"type\":\"histogram\"}],\"mesh3d\":[{\"colorbar\":{\"outlinewidth\":1,\"tickcolor\":\"rgb(36,36,36)\",\"ticks\":\"outside\"},\"type\":\"mesh3d\"}],\"parcoords\":[{\"line\":{\"colorbar\":{\"outlinewidth\":1,\"tickcolor\":\"rgb(36,36,36)\",\"ticks\":\"outside\"}},\"type\":\"parcoords\"}],\"pie\":[{\"automargin\":true,\"type\":\"pie\"}],\"scatter3d\":[{\"line\":{\"colorbar\":{\"outlinewidth\":1,\"tickcolor\":\"rgb(36,36,36)\",\"ticks\":\"outside\"}},\"marker\":{\"colorbar\":{\"outlinewidth\":1,\"tickcolor\":\"rgb(36,36,36)\",\"ticks\":\"outside\"}},\"type\":\"scatter3d\"}],\"scattercarpet\":[{\"marker\":{\"colorbar\":{\"outlinewidth\":1,\"tickcolor\":\"rgb(36,36,36)\",\"ticks\":\"outside\"}},\"type\":\"scattercarpet\"}],\"scattergeo\":[{\"marker\":{\"colorbar\":{\"outlinewidth\":1,\"tickcolor\":\"rgb(36,36,36)\",\"ticks\":\"outside\"}},\"type\":\"scattergeo\"}],\"scattergl\":[{\"marker\":{\"colorbar\":{\"outlinewidth\":1,\"tickcolor\":\"rgb(36,36,36)\",\"ticks\":\"outside\"}},\"type\":\"scattergl\"}],\"scattermapbox\":[{\"marker\":{\"colorbar\":{\"outlinewidth\":1,\"tickcolor\":\"rgb(36,36,36)\",\"ticks\":\"outside\"}},\"type\":\"scattermapbox\"}],\"scatterpolargl\":[{\"marker\":{\"colorbar\":{\"outlinewidth\":1,\"tickcolor\":\"rgb(36,36,36)\",\"ticks\":\"outside\"}},\"type\":\"scatterpolargl\"}],\"scatterpolar\":[{\"marker\":{\"colorbar\":{\"outlinewidth\":1,\"tickcolor\":\"rgb(36,36,36)\",\"ticks\":\"outside\"}},\"type\":\"scatterpolar\"}],\"scatter\":[{\"marker\":{\"colorbar\":{\"outlinewidth\":1,\"tickcolor\":\"rgb(36,36,36)\",\"ticks\":\"outside\"}},\"type\":\"scatter\"}],\"scatterternary\":[{\"marker\":{\"colorbar\":{\"outlinewidth\":1,\"tickcolor\":\"rgb(36,36,36)\",\"ticks\":\"outside\"}},\"type\":\"scatterternary\"}],\"surface\":[{\"colorbar\":{\"outlinewidth\":1,\"tickcolor\":\"rgb(36,36,36)\",\"ticks\":\"outside\"},\"colorscale\":[[0.0,\"#440154\"],[0.1111111111111111,\"#482878\"],[0.2222222222222222,\"#3e4989\"],[0.3333333333333333,\"#31688e\"],[0.4444444444444444,\"#26828e\"],[0.5555555555555556,\"#1f9e89\"],[0.6666666666666666,\"#35b779\"],[0.7777777777777778,\"#6ece58\"],[0.8888888888888888,\"#b5de2b\"],[1.0,\"#fde725\"]],\"type\":\"surface\"}],\"table\":[{\"cells\":{\"fill\":{\"color\":\"rgb(237,237,237)\"},\"line\":{\"color\":\"white\"}},\"header\":{\"fill\":{\"color\":\"rgb(217,217,217)\"},\"line\":{\"color\":\"white\"}},\"type\":\"table\"}]},\"layout\":{\"annotationdefaults\":{\"arrowhead\":0,\"arrowwidth\":1},\"autotypenumbers\":\"strict\",\"coloraxis\":{\"colorbar\":{\"outlinewidth\":1,\"tickcolor\":\"rgb(36,36,36)\",\"ticks\":\"outside\"}},\"colorscale\":{\"diverging\":[[0.0,\"rgb(103,0,31)\"],[0.1,\"rgb(178,24,43)\"],[0.2,\"rgb(214,96,77)\"],[0.3,\"rgb(244,165,130)\"],[0.4,\"rgb(253,219,199)\"],[0.5,\"rgb(247,247,247)\"],[0.6,\"rgb(209,229,240)\"],[0.7,\"rgb(146,197,222)\"],[0.8,\"rgb(67,147,195)\"],[0.9,\"rgb(33,102,172)\"],[1.0,\"rgb(5,48,97)\"]],\"sequential\":[[0.0,\"#440154\"],[0.1111111111111111,\"#482878\"],[0.2222222222222222,\"#3e4989\"],[0.3333333333333333,\"#31688e\"],[0.4444444444444444,\"#26828e\"],[0.5555555555555556,\"#1f9e89\"],[0.6666666666666666,\"#35b779\"],[0.7777777777777778,\"#6ece58\"],[0.8888888888888888,\"#b5de2b\"],[1.0,\"#fde725\"]],\"sequentialminus\":[[0.0,\"#440154\"],[0.1111111111111111,\"#482878\"],[0.2222222222222222,\"#3e4989\"],[0.3333333333333333,\"#31688e\"],[0.4444444444444444,\"#26828e\"],[0.5555555555555556,\"#1f9e89\"],[0.6666666666666666,\"#35b779\"],[0.7777777777777778,\"#6ece58\"],[0.8888888888888888,\"#b5de2b\"],[1.0,\"#fde725\"]]},\"colorway\":[\"#1F77B4\",\"#FF7F0E\",\"#2CA02C\",\"#D62728\",\"#9467BD\",\"#8C564B\",\"#E377C2\",\"#7F7F7F\",\"#BCBD22\",\"#17BECF\"],\"font\":{\"color\":\"rgb(36,36,36)\"},\"geo\":{\"bgcolor\":\"white\",\"lakecolor\":\"white\",\"landcolor\":\"white\",\"showlakes\":true,\"showland\":true,\"subunitcolor\":\"white\"},\"hoverlabel\":{\"align\":\"left\"},\"hovermode\":\"closest\",\"mapbox\":{\"style\":\"light\"},\"paper_bgcolor\":\"white\",\"plot_bgcolor\":\"white\",\"polar\":{\"angularaxis\":{\"gridcolor\":\"rgb(232,232,232)\",\"linecolor\":\"rgb(36,36,36)\",\"showgrid\":false,\"showline\":true,\"ticks\":\"outside\"},\"bgcolor\":\"white\",\"radialaxis\":{\"gridcolor\":\"rgb(232,232,232)\",\"linecolor\":\"rgb(36,36,36)\",\"showgrid\":false,\"showline\":true,\"ticks\":\"outside\"}},\"scene\":{\"xaxis\":{\"backgroundcolor\":\"white\",\"gridcolor\":\"rgb(232,232,232)\",\"gridwidth\":2,\"linecolor\":\"rgb(36,36,36)\",\"showbackground\":true,\"showgrid\":false,\"showline\":true,\"ticks\":\"outside\",\"zeroline\":false,\"zerolinecolor\":\"rgb(36,36,36)\"},\"yaxis\":{\"backgroundcolor\":\"white\",\"gridcolor\":\"rgb(232,232,232)\",\"gridwidth\":2,\"linecolor\":\"rgb(36,36,36)\",\"showbackground\":true,\"showgrid\":false,\"showline\":true,\"ticks\":\"outside\",\"zeroline\":false,\"zerolinecolor\":\"rgb(36,36,36)\"},\"zaxis\":{\"backgroundcolor\":\"white\",\"gridcolor\":\"rgb(232,232,232)\",\"gridwidth\":2,\"linecolor\":\"rgb(36,36,36)\",\"showbackground\":true,\"showgrid\":false,\"showline\":true,\"ticks\":\"outside\",\"zeroline\":false,\"zerolinecolor\":\"rgb(36,36,36)\"}},\"shapedefaults\":{\"fillcolor\":\"black\",\"line\":{\"width\":0},\"opacity\":0.3},\"ternary\":{\"aaxis\":{\"gridcolor\":\"rgb(232,232,232)\",\"linecolor\":\"rgb(36,36,36)\",\"showgrid\":false,\"showline\":true,\"ticks\":\"outside\"},\"baxis\":{\"gridcolor\":\"rgb(232,232,232)\",\"linecolor\":\"rgb(36,36,36)\",\"showgrid\":false,\"showline\":true,\"ticks\":\"outside\"},\"bgcolor\":\"white\",\"caxis\":{\"gridcolor\":\"rgb(232,232,232)\",\"linecolor\":\"rgb(36,36,36)\",\"showgrid\":false,\"showline\":true,\"ticks\":\"outside\"}},\"title\":{\"x\":0.05},\"xaxis\":{\"automargin\":true,\"gridcolor\":\"rgb(232,232,232)\",\"linecolor\":\"rgb(36,36,36)\",\"showgrid\":false,\"showline\":true,\"ticks\":\"outside\",\"title\":{\"standoff\":15},\"zeroline\":false,\"zerolinecolor\":\"rgb(36,36,36)\"},\"yaxis\":{\"automargin\":true,\"gridcolor\":\"rgb(232,232,232)\",\"linecolor\":\"rgb(36,36,36)\",\"showgrid\":false,\"showline\":true,\"ticks\":\"outside\",\"title\":{\"standoff\":15},\"zeroline\":false,\"zerolinecolor\":\"rgb(36,36,36)\"}}},\"xaxis\":{\"anchor\":\"y\",\"domain\":[0.0,0.7363],\"title\":{\"text\":\"AverageTemperature\"}},\"yaxis\":{\"anchor\":\"x\",\"domain\":[0.0,0.7326],\"title\":{\"text\":\"GHG\"}},\"xaxis2\":{\"anchor\":\"y2\",\"domain\":[0.7413,1.0],\"matches\":\"x2\",\"showticklabels\":false,\"showline\":false,\"ticks\":\"\"},\"yaxis2\":{\"anchor\":\"x2\",\"domain\":[0.0,0.7326],\"matches\":\"y\",\"showticklabels\":false},\"xaxis3\":{\"anchor\":\"y3\",\"domain\":[0.0,0.7363],\"matches\":\"x\",\"showticklabels\":false},\"yaxis3\":{\"anchor\":\"x3\",\"domain\":[0.7426,1.0],\"matches\":\"y3\",\"showticklabels\":false,\"showline\":false,\"ticks\":\"\"},\"xaxis4\":{\"anchor\":\"y4\",\"domain\":[0.7413,1.0],\"matches\":\"x2\",\"showticklabels\":false,\"showline\":false,\"ticks\":\"\"},\"yaxis4\":{\"anchor\":\"x4\",\"domain\":[0.7426,1.0],\"matches\":\"y3\",\"showticklabels\":false,\"showline\":false,\"ticks\":\"\"},\"coloraxis\":{\"colorbar\":{\"title\":{\"text\":\"GHG above avg\"}},\"colorscale\":[[0.0,\"#0d0887\"],[0.1111111111111111,\"#46039f\"],[0.2222222222222222,\"#7201a8\"],[0.3333333333333333,\"#9c179e\"],[0.4444444444444444,\"#bd3786\"],[0.5555555555555556,\"#d8576b\"],[0.6666666666666666,\"#ed7953\"],[0.7777777777777778,\"#fb9f3a\"],[0.8888888888888888,\"#fdca26\"],[1.0,\"#f0f921\"]]},\"legend\":{\"tracegroupgap\":0,\"itemsizing\":\"constant\"},\"margin\":{\"t\":60}},                        {\"responsive\": true}                    ).then(function(){\n",
       "                            \n",
       "var gd = document.getElementById('ccdc309e-dbd1-4206-981d-2727e9dd88c1');\n",
       "var x = new MutationObserver(function (mutations, observer) {{\n",
       "        var display = window.getComputedStyle(gd).display;\n",
       "        if (!display || display === 'none') {{\n",
       "            console.log([gd, 'removed!']);\n",
       "            Plotly.purge(gd);\n",
       "            observer.disconnect();\n",
       "        }}\n",
       "}});\n",
       "\n",
       "// Listen for the removal of the full notebook cells\n",
       "var notebookContainer = gd.closest('#notebook-container');\n",
       "if (notebookContainer) {{\n",
       "    x.observe(notebookContainer, {childList: true});\n",
       "}}\n",
       "\n",
       "// Listen for the clearing of the current output cell\n",
       "var outputEl = gd.closest('.output');\n",
       "if (outputEl) {{\n",
       "    x.observe(outputEl, {childList: true});\n",
       "}}\n",
       "\n",
       "                        })                };                });            </script>        </div>"
      ]
     },
     "metadata": {},
     "output_type": "display_data"
    }
   ],
   "source": [
    "scatter_plot(df , \"AverageTemperature\", \"GHG\", \"AverageTemperature\")"
   ]
  },
  {
   "cell_type": "code",
   "execution_count": 20,
   "id": "e9550e7e",
   "metadata": {},
   "outputs": [
    {
     "data": {
      "application/vnd.plotly.v1+json": {
       "config": {
        "plotlyServerURL": "https://plot.ly"
       },
       "data": [
        {
         "marker": {
          "color": "#0d0887"
         },
         "name": "GHG EMission",
         "type": "bar",
         "x": [
          "AFGHANISTAN",
          "ALBANIA",
          "ALGERIA",
          "ARGENTINA",
          "AUSTRALIA",
          "AUSTRIA",
          "BAHRAIN",
          "BELGIUM",
          "BOLIVIA",
          "BRAZIL",
          "BULGARIA",
          "CHILE",
          "CHINA",
          "COLOMBIA",
          "DENMARK",
          "ECUADOR",
          "EGYPT",
          "ERITREA",
          "ESTONIA",
          "ETHIOPIA",
          "FINLAND",
          "FRANCE",
          "GERMANY",
          "GREECE",
          "HONG KONG",
          "HUNGARY",
          "ICELAND",
          "INDIA",
          "INDONESIA",
          "IRAN",
          "IRAQ",
          "IRELAND",
          "ISRAEL",
          "ITALY",
          "JAPAN",
          "KUWAIT",
          "LATVIA",
          "LEBANON",
          "LUXEMBOURG",
          "MADAGASCAR",
          "MALAYSIA",
          "MOROCCO",
          "MOZAMBIQUE",
          "NETHERLANDS",
          "NEW ZEALAND",
          "NIGERIA",
          "NORTH KOREA",
          "NORWAY",
          "PERU",
          "PHILIPPINES",
          "POLAND",
          "PORTUGAL",
          "QATAR",
          "ROMANIA",
          "SAUDI ARABIA",
          "SOUTH AFRICA",
          "SOUTH KOREA",
          "SPAIN",
          "SWEDEN",
          "SWITZERLAND",
          "SYRIA",
          "TAIWAN",
          "THAILAND",
          "TUNISIA",
          "TURKEY",
          "UNITED KINGDOM",
          "URUGUAY",
          "VENEZUELA",
          "VIETNAM",
          "ZIMBABWE"
         ],
         "y": [
          9.592605086913911,
          15.784967576388784,
          15.803707046006815,
          20.08107676980715,
          20.97430792058933,
          21.2208282794972,
          17.646253744145152,
          22.25498961859955,
          14.572781173525458,
          19.27723675792811,
          18.532775811522946,
          19.087616753495507,
          21.30706019652562,
          18.03394262602661,
          20.328164455419742,
          16.877768876221687,
          17.982078536727776,
          11.150749704960461,
          12.625151333590619,
          10.604205998592391,
          18.57877012547175,
          23.181332039096855,
          24.07943060240522,
          17.87824445965597,
          12.380697995689658,
          20.442349857441666,
          12.05645832750408,
          21.47843631060827,
          20.166374131327395,
          20.59174638928828,
          18.676077530281106,
          19.23056337163939,
          14.288529636170468,
          21.22425536615002,
          22.11325304311299,
          16.17670563298545,
          13.111585504232451,
          14.05563550574088,
          12.28384816969974,
          10.40353530313024,
          18.00087587110596,
          15.928545470503629,
          13.879633992965513,
          21.32429452683904,
          19.320443770674036,
          17.207287169864365,
          15.038264291359877,
          19.830822287216268,
          19.059639833715387,
          14.981676816730412,
          22.419676174144847,
          19.13752304465051,
          12.468990602835337,
          20.363838926963176,
          18.61154279335995,
          21.08232077684655,
          15.471040903723889,
          20.848629835021793,
          20.623304532612508,
          19.953272203244882,
          13.203522999558135,
          18.853139399209343,
          13.268905758820988,
          14.177572565584484,
          18.976667646870585,
          24.37778684647327,
          14.30886932040759,
          19.47060815090865,
          18.71345829238856,
          18.354468460188638
         ]
        },
        {
         "marker": {
          "color": "#fdca26"
         },
         "name": "Average Temperature",
         "type": "bar",
         "x": [
          "AFGHANISTAN",
          "ALBANIA",
          "ALGERIA",
          "ARGENTINA",
          "AUSTRALIA",
          "AUSTRIA",
          "BAHRAIN",
          "BELGIUM",
          "BOLIVIA",
          "BRAZIL",
          "BULGARIA",
          "CHILE",
          "CHINA",
          "COLOMBIA",
          "DENMARK",
          "ECUADOR",
          "EGYPT",
          "ERITREA",
          "ESTONIA",
          "ETHIOPIA",
          "FINLAND",
          "FRANCE",
          "GERMANY",
          "GREECE",
          "HONG KONG",
          "HUNGARY",
          "ICELAND",
          "INDIA",
          "INDONESIA",
          "IRAN",
          "IRAQ",
          "IRELAND",
          "ISRAEL",
          "ITALY",
          "JAPAN",
          "KUWAIT",
          "LATVIA",
          "LEBANON",
          "LUXEMBOURG",
          "MADAGASCAR",
          "MALAYSIA",
          "MOROCCO",
          "MOZAMBIQUE",
          "NETHERLANDS",
          "NEW ZEALAND",
          "NIGERIA",
          "NORTH KOREA",
          "NORWAY",
          "PERU",
          "PHILIPPINES",
          "POLAND",
          "PORTUGAL",
          "QATAR",
          "ROMANIA",
          "SAUDI ARABIA",
          "SOUTH AFRICA",
          "SOUTH KOREA",
          "SPAIN",
          "SWEDEN",
          "SWITZERLAND",
          "SYRIA",
          "TAIWAN",
          "THAILAND",
          "TUNISIA",
          "TURKEY",
          "UNITED KINGDOM",
          "URUGUAY",
          "VENEZUELA",
          "VIETNAM",
          "ZIMBABWE"
         ],
         "y": [
          13.350083333333332,
          12.51825,
          23.18816666666667,
          14.771333333333333,
          20.984916666666667,
          6.962833333333333,
          25.39675,
          10.454583333333334,
          20.777916666666666,
          24.616833333333332,
          10.300416666666665,
          9.369166666666667,
          6.9755,
          24.753583333333335,
          9.236916666666668,
          21.730333333333334,
          21.8925,
          26.69141666666667,
          6.746416666666666,
          22.93675,
          3.045916666666667,
          11.525916666666667,
          9.176499999999999,
          14.381749999999998,
          23.273083333333332,
          10.288833333333335,
          1.248333333333333,
          24.047250000000002,
          25.757583333333333,
          16.7755,
          21.055,
          10.576583333333334,
          18.877083333333335,
          13.354666666666667,
          12.102583333333333,
          24.63525,
          7.181750000000001,
          17.01975,
          10.12075,
          22.988583333333334,
          25.980416666666667,
          18.150333333333332,
          23.798333333333332,
          10.1195,
          10.464666666666666,
          27.0685,
          7.137250000000001,
          1.2173333333333334,
          19.85141666666667,
          26.55316666666667,
          8.606333333333334,
          15.758666666666668,
          26.396,
          8.988166666666666,
          25.0955,
          17.666999999999998,
          12.057833333333333,
          14.510083333333334,
          4.023333333333333,
          7.995833333333334,
          17.2775,
          22.36491666666667,
          26.249583333333334,
          20.146,
          10.961,
          9.814333333333332,
          17.28925,
          24.96366666666667,
          24.04433333333333,
          21.535083333333333
         ]
        }
       ],
       "layout": {
        "template": {
         "data": {
          "bar": [
           {
            "error_x": {
             "color": "#2a3f5f"
            },
            "error_y": {
             "color": "#2a3f5f"
            },
            "marker": {
             "line": {
              "color": "#E5ECF6",
              "width": 0.5
             },
             "pattern": {
              "fillmode": "overlay",
              "size": 10,
              "solidity": 0.2
             }
            },
            "type": "bar"
           }
          ],
          "barpolar": [
           {
            "marker": {
             "line": {
              "color": "#E5ECF6",
              "width": 0.5
             },
             "pattern": {
              "fillmode": "overlay",
              "size": 10,
              "solidity": 0.2
             }
            },
            "type": "barpolar"
           }
          ],
          "carpet": [
           {
            "aaxis": {
             "endlinecolor": "#2a3f5f",
             "gridcolor": "white",
             "linecolor": "white",
             "minorgridcolor": "white",
             "startlinecolor": "#2a3f5f"
            },
            "baxis": {
             "endlinecolor": "#2a3f5f",
             "gridcolor": "white",
             "linecolor": "white",
             "minorgridcolor": "white",
             "startlinecolor": "#2a3f5f"
            },
            "type": "carpet"
           }
          ],
          "choropleth": [
           {
            "colorbar": {
             "outlinewidth": 0,
             "ticks": ""
            },
            "type": "choropleth"
           }
          ],
          "contour": [
           {
            "colorbar": {
             "outlinewidth": 0,
             "ticks": ""
            },
            "colorscale": [
             [
              0,
              "#0d0887"
             ],
             [
              0.1111111111111111,
              "#46039f"
             ],
             [
              0.2222222222222222,
              "#7201a8"
             ],
             [
              0.3333333333333333,
              "#9c179e"
             ],
             [
              0.4444444444444444,
              "#bd3786"
             ],
             [
              0.5555555555555556,
              "#d8576b"
             ],
             [
              0.6666666666666666,
              "#ed7953"
             ],
             [
              0.7777777777777778,
              "#fb9f3a"
             ],
             [
              0.8888888888888888,
              "#fdca26"
             ],
             [
              1,
              "#f0f921"
             ]
            ],
            "type": "contour"
           }
          ],
          "contourcarpet": [
           {
            "colorbar": {
             "outlinewidth": 0,
             "ticks": ""
            },
            "type": "contourcarpet"
           }
          ],
          "heatmap": [
           {
            "colorbar": {
             "outlinewidth": 0,
             "ticks": ""
            },
            "colorscale": [
             [
              0,
              "#0d0887"
             ],
             [
              0.1111111111111111,
              "#46039f"
             ],
             [
              0.2222222222222222,
              "#7201a8"
             ],
             [
              0.3333333333333333,
              "#9c179e"
             ],
             [
              0.4444444444444444,
              "#bd3786"
             ],
             [
              0.5555555555555556,
              "#d8576b"
             ],
             [
              0.6666666666666666,
              "#ed7953"
             ],
             [
              0.7777777777777778,
              "#fb9f3a"
             ],
             [
              0.8888888888888888,
              "#fdca26"
             ],
             [
              1,
              "#f0f921"
             ]
            ],
            "type": "heatmap"
           }
          ],
          "heatmapgl": [
           {
            "colorbar": {
             "outlinewidth": 0,
             "ticks": ""
            },
            "colorscale": [
             [
              0,
              "#0d0887"
             ],
             [
              0.1111111111111111,
              "#46039f"
             ],
             [
              0.2222222222222222,
              "#7201a8"
             ],
             [
              0.3333333333333333,
              "#9c179e"
             ],
             [
              0.4444444444444444,
              "#bd3786"
             ],
             [
              0.5555555555555556,
              "#d8576b"
             ],
             [
              0.6666666666666666,
              "#ed7953"
             ],
             [
              0.7777777777777778,
              "#fb9f3a"
             ],
             [
              0.8888888888888888,
              "#fdca26"
             ],
             [
              1,
              "#f0f921"
             ]
            ],
            "type": "heatmapgl"
           }
          ],
          "histogram": [
           {
            "marker": {
             "pattern": {
              "fillmode": "overlay",
              "size": 10,
              "solidity": 0.2
             }
            },
            "type": "histogram"
           }
          ],
          "histogram2d": [
           {
            "colorbar": {
             "outlinewidth": 0,
             "ticks": ""
            },
            "colorscale": [
             [
              0,
              "#0d0887"
             ],
             [
              0.1111111111111111,
              "#46039f"
             ],
             [
              0.2222222222222222,
              "#7201a8"
             ],
             [
              0.3333333333333333,
              "#9c179e"
             ],
             [
              0.4444444444444444,
              "#bd3786"
             ],
             [
              0.5555555555555556,
              "#d8576b"
             ],
             [
              0.6666666666666666,
              "#ed7953"
             ],
             [
              0.7777777777777778,
              "#fb9f3a"
             ],
             [
              0.8888888888888888,
              "#fdca26"
             ],
             [
              1,
              "#f0f921"
             ]
            ],
            "type": "histogram2d"
           }
          ],
          "histogram2dcontour": [
           {
            "colorbar": {
             "outlinewidth": 0,
             "ticks": ""
            },
            "colorscale": [
             [
              0,
              "#0d0887"
             ],
             [
              0.1111111111111111,
              "#46039f"
             ],
             [
              0.2222222222222222,
              "#7201a8"
             ],
             [
              0.3333333333333333,
              "#9c179e"
             ],
             [
              0.4444444444444444,
              "#bd3786"
             ],
             [
              0.5555555555555556,
              "#d8576b"
             ],
             [
              0.6666666666666666,
              "#ed7953"
             ],
             [
              0.7777777777777778,
              "#fb9f3a"
             ],
             [
              0.8888888888888888,
              "#fdca26"
             ],
             [
              1,
              "#f0f921"
             ]
            ],
            "type": "histogram2dcontour"
           }
          ],
          "mesh3d": [
           {
            "colorbar": {
             "outlinewidth": 0,
             "ticks": ""
            },
            "type": "mesh3d"
           }
          ],
          "parcoords": [
           {
            "line": {
             "colorbar": {
              "outlinewidth": 0,
              "ticks": ""
             }
            },
            "type": "parcoords"
           }
          ],
          "pie": [
           {
            "automargin": true,
            "type": "pie"
           }
          ],
          "scatter": [
           {
            "marker": {
             "colorbar": {
              "outlinewidth": 0,
              "ticks": ""
             }
            },
            "type": "scatter"
           }
          ],
          "scatter3d": [
           {
            "line": {
             "colorbar": {
              "outlinewidth": 0,
              "ticks": ""
             }
            },
            "marker": {
             "colorbar": {
              "outlinewidth": 0,
              "ticks": ""
             }
            },
            "type": "scatter3d"
           }
          ],
          "scattercarpet": [
           {
            "marker": {
             "colorbar": {
              "outlinewidth": 0,
              "ticks": ""
             }
            },
            "type": "scattercarpet"
           }
          ],
          "scattergeo": [
           {
            "marker": {
             "colorbar": {
              "outlinewidth": 0,
              "ticks": ""
             }
            },
            "type": "scattergeo"
           }
          ],
          "scattergl": [
           {
            "marker": {
             "colorbar": {
              "outlinewidth": 0,
              "ticks": ""
             }
            },
            "type": "scattergl"
           }
          ],
          "scattermapbox": [
           {
            "marker": {
             "colorbar": {
              "outlinewidth": 0,
              "ticks": ""
             }
            },
            "type": "scattermapbox"
           }
          ],
          "scatterpolar": [
           {
            "marker": {
             "colorbar": {
              "outlinewidth": 0,
              "ticks": ""
             }
            },
            "type": "scatterpolar"
           }
          ],
          "scatterpolargl": [
           {
            "marker": {
             "colorbar": {
              "outlinewidth": 0,
              "ticks": ""
             }
            },
            "type": "scatterpolargl"
           }
          ],
          "scatterternary": [
           {
            "marker": {
             "colorbar": {
              "outlinewidth": 0,
              "ticks": ""
             }
            },
            "type": "scatterternary"
           }
          ],
          "surface": [
           {
            "colorbar": {
             "outlinewidth": 0,
             "ticks": ""
            },
            "colorscale": [
             [
              0,
              "#0d0887"
             ],
             [
              0.1111111111111111,
              "#46039f"
             ],
             [
              0.2222222222222222,
              "#7201a8"
             ],
             [
              0.3333333333333333,
              "#9c179e"
             ],
             [
              0.4444444444444444,
              "#bd3786"
             ],
             [
              0.5555555555555556,
              "#d8576b"
             ],
             [
              0.6666666666666666,
              "#ed7953"
             ],
             [
              0.7777777777777778,
              "#fb9f3a"
             ],
             [
              0.8888888888888888,
              "#fdca26"
             ],
             [
              1,
              "#f0f921"
             ]
            ],
            "type": "surface"
           }
          ],
          "table": [
           {
            "cells": {
             "fill": {
              "color": "#EBF0F8"
             },
             "line": {
              "color": "white"
             }
            },
            "header": {
             "fill": {
              "color": "#C8D4E3"
             },
             "line": {
              "color": "white"
             }
            },
            "type": "table"
           }
          ]
         },
         "layout": {
          "annotationdefaults": {
           "arrowcolor": "#2a3f5f",
           "arrowhead": 0,
           "arrowwidth": 1
          },
          "autotypenumbers": "strict",
          "coloraxis": {
           "colorbar": {
            "outlinewidth": 0,
            "ticks": ""
           }
          },
          "colorscale": {
           "diverging": [
            [
             0,
             "#8e0152"
            ],
            [
             0.1,
             "#c51b7d"
            ],
            [
             0.2,
             "#de77ae"
            ],
            [
             0.3,
             "#f1b6da"
            ],
            [
             0.4,
             "#fde0ef"
            ],
            [
             0.5,
             "#f7f7f7"
            ],
            [
             0.6,
             "#e6f5d0"
            ],
            [
             0.7,
             "#b8e186"
            ],
            [
             0.8,
             "#7fbc41"
            ],
            [
             0.9,
             "#4d9221"
            ],
            [
             1,
             "#276419"
            ]
           ],
           "sequential": [
            [
             0,
             "#0d0887"
            ],
            [
             0.1111111111111111,
             "#46039f"
            ],
            [
             0.2222222222222222,
             "#7201a8"
            ],
            [
             0.3333333333333333,
             "#9c179e"
            ],
            [
             0.4444444444444444,
             "#bd3786"
            ],
            [
             0.5555555555555556,
             "#d8576b"
            ],
            [
             0.6666666666666666,
             "#ed7953"
            ],
            [
             0.7777777777777778,
             "#fb9f3a"
            ],
            [
             0.8888888888888888,
             "#fdca26"
            ],
            [
             1,
             "#f0f921"
            ]
           ],
           "sequentialminus": [
            [
             0,
             "#0d0887"
            ],
            [
             0.1111111111111111,
             "#46039f"
            ],
            [
             0.2222222222222222,
             "#7201a8"
            ],
            [
             0.3333333333333333,
             "#9c179e"
            ],
            [
             0.4444444444444444,
             "#bd3786"
            ],
            [
             0.5555555555555556,
             "#d8576b"
            ],
            [
             0.6666666666666666,
             "#ed7953"
            ],
            [
             0.7777777777777778,
             "#fb9f3a"
            ],
            [
             0.8888888888888888,
             "#fdca26"
            ],
            [
             1,
             "#f0f921"
            ]
           ]
          },
          "colorway": [
           "#636efa",
           "#EF553B",
           "#00cc96",
           "#ab63fa",
           "#FFA15A",
           "#19d3f3",
           "#FF6692",
           "#B6E880",
           "#FF97FF",
           "#FECB52"
          ],
          "font": {
           "color": "#2a3f5f"
          },
          "geo": {
           "bgcolor": "white",
           "lakecolor": "white",
           "landcolor": "#E5ECF6",
           "showlakes": true,
           "showland": true,
           "subunitcolor": "white"
          },
          "hoverlabel": {
           "align": "left"
          },
          "hovermode": "closest",
          "mapbox": {
           "style": "light"
          },
          "paper_bgcolor": "white",
          "plot_bgcolor": "#E5ECF6",
          "polar": {
           "angularaxis": {
            "gridcolor": "white",
            "linecolor": "white",
            "ticks": ""
           },
           "bgcolor": "#E5ECF6",
           "radialaxis": {
            "gridcolor": "white",
            "linecolor": "white",
            "ticks": ""
           }
          },
          "scene": {
           "xaxis": {
            "backgroundcolor": "#E5ECF6",
            "gridcolor": "white",
            "gridwidth": 2,
            "linecolor": "white",
            "showbackground": true,
            "ticks": "",
            "zerolinecolor": "white"
           },
           "yaxis": {
            "backgroundcolor": "#E5ECF6",
            "gridcolor": "white",
            "gridwidth": 2,
            "linecolor": "white",
            "showbackground": true,
            "ticks": "",
            "zerolinecolor": "white"
           },
           "zaxis": {
            "backgroundcolor": "#E5ECF6",
            "gridcolor": "white",
            "gridwidth": 2,
            "linecolor": "white",
            "showbackground": true,
            "ticks": "",
            "zerolinecolor": "white"
           }
          },
          "shapedefaults": {
           "line": {
            "color": "#2a3f5f"
           }
          },
          "ternary": {
           "aaxis": {
            "gridcolor": "white",
            "linecolor": "white",
            "ticks": ""
           },
           "baxis": {
            "gridcolor": "white",
            "linecolor": "white",
            "ticks": ""
           },
           "bgcolor": "#E5ECF6",
           "caxis": {
            "gridcolor": "white",
            "linecolor": "white",
            "ticks": ""
           }
          },
          "title": {
           "x": 0.05
          },
          "xaxis": {
           "automargin": true,
           "gridcolor": "white",
           "linecolor": "white",
           "ticks": "",
           "title": {
            "standoff": 15
           },
           "zerolinecolor": "white",
           "zerolinewidth": 2
          },
          "yaxis": {
           "automargin": true,
           "gridcolor": "white",
           "linecolor": "white",
           "ticks": "",
           "title": {
            "standoff": 15
           },
           "zerolinecolor": "white",
           "zerolinewidth": 2
          }
         }
        }
       }
      },
      "text/html": [
       "<div>                            <div id=\"6e6cc0c9-b93b-4880-a96e-384fd2e21820\" class=\"plotly-graph-div\" style=\"height:525px; width:100%;\"></div>            <script type=\"text/javascript\">                require([\"plotly\"], function(Plotly) {                    window.PLOTLYENV=window.PLOTLYENV || {};                                    if (document.getElementById(\"6e6cc0c9-b93b-4880-a96e-384fd2e21820\")) {                    Plotly.newPlot(                        \"6e6cc0c9-b93b-4880-a96e-384fd2e21820\",                        [{\"marker\":{\"color\":\"#0d0887\"},\"name\":\"GHG EMission\",\"x\":[\"AFGHANISTAN\",\"ALBANIA\",\"ALGERIA\",\"ARGENTINA\",\"AUSTRALIA\",\"AUSTRIA\",\"BAHRAIN\",\"BELGIUM\",\"BOLIVIA\",\"BRAZIL\",\"BULGARIA\",\"CHILE\",\"CHINA\",\"COLOMBIA\",\"DENMARK\",\"ECUADOR\",\"EGYPT\",\"ERITREA\",\"ESTONIA\",\"ETHIOPIA\",\"FINLAND\",\"FRANCE\",\"GERMANY\",\"GREECE\",\"HONG KONG\",\"HUNGARY\",\"ICELAND\",\"INDIA\",\"INDONESIA\",\"IRAN\",\"IRAQ\",\"IRELAND\",\"ISRAEL\",\"ITALY\",\"JAPAN\",\"KUWAIT\",\"LATVIA\",\"LEBANON\",\"LUXEMBOURG\",\"MADAGASCAR\",\"MALAYSIA\",\"MOROCCO\",\"MOZAMBIQUE\",\"NETHERLANDS\",\"NEW ZEALAND\",\"NIGERIA\",\"NORTH KOREA\",\"NORWAY\",\"PERU\",\"PHILIPPINES\",\"POLAND\",\"PORTUGAL\",\"QATAR\",\"ROMANIA\",\"SAUDI ARABIA\",\"SOUTH AFRICA\",\"SOUTH KOREA\",\"SPAIN\",\"SWEDEN\",\"SWITZERLAND\",\"SYRIA\",\"TAIWAN\",\"THAILAND\",\"TUNISIA\",\"TURKEY\",\"UNITED KINGDOM\",\"URUGUAY\",\"VENEZUELA\",\"VIETNAM\",\"ZIMBABWE\"],\"y\":[9.592605086913911,15.784967576388784,15.803707046006815,20.08107676980715,20.97430792058933,21.2208282794972,17.646253744145152,22.25498961859955,14.572781173525458,19.27723675792811,18.532775811522946,19.087616753495507,21.30706019652562,18.03394262602661,20.328164455419742,16.877768876221687,17.982078536727776,11.150749704960461,12.625151333590619,10.604205998592391,18.57877012547175,23.181332039096855,24.07943060240522,17.87824445965597,12.380697995689658,20.442349857441666,12.05645832750408,21.47843631060827,20.166374131327395,20.59174638928828,18.676077530281106,19.23056337163939,14.288529636170468,21.22425536615002,22.11325304311299,16.17670563298545,13.111585504232451,14.05563550574088,12.28384816969974,10.40353530313024,18.00087587110596,15.928545470503629,13.879633992965513,21.32429452683904,19.320443770674036,17.207287169864365,15.038264291359877,19.830822287216268,19.059639833715387,14.981676816730412,22.419676174144847,19.13752304465051,12.468990602835337,20.363838926963176,18.61154279335995,21.08232077684655,15.471040903723889,20.848629835021793,20.623304532612508,19.953272203244882,13.203522999558135,18.853139399209343,13.268905758820988,14.177572565584484,18.976667646870585,24.37778684647327,14.30886932040759,19.47060815090865,18.71345829238856,18.354468460188638],\"type\":\"bar\"},{\"marker\":{\"color\":\"#fdca26\"},\"name\":\"Average Temperature\",\"x\":[\"AFGHANISTAN\",\"ALBANIA\",\"ALGERIA\",\"ARGENTINA\",\"AUSTRALIA\",\"AUSTRIA\",\"BAHRAIN\",\"BELGIUM\",\"BOLIVIA\",\"BRAZIL\",\"BULGARIA\",\"CHILE\",\"CHINA\",\"COLOMBIA\",\"DENMARK\",\"ECUADOR\",\"EGYPT\",\"ERITREA\",\"ESTONIA\",\"ETHIOPIA\",\"FINLAND\",\"FRANCE\",\"GERMANY\",\"GREECE\",\"HONG KONG\",\"HUNGARY\",\"ICELAND\",\"INDIA\",\"INDONESIA\",\"IRAN\",\"IRAQ\",\"IRELAND\",\"ISRAEL\",\"ITALY\",\"JAPAN\",\"KUWAIT\",\"LATVIA\",\"LEBANON\",\"LUXEMBOURG\",\"MADAGASCAR\",\"MALAYSIA\",\"MOROCCO\",\"MOZAMBIQUE\",\"NETHERLANDS\",\"NEW ZEALAND\",\"NIGERIA\",\"NORTH KOREA\",\"NORWAY\",\"PERU\",\"PHILIPPINES\",\"POLAND\",\"PORTUGAL\",\"QATAR\",\"ROMANIA\",\"SAUDI ARABIA\",\"SOUTH AFRICA\",\"SOUTH KOREA\",\"SPAIN\",\"SWEDEN\",\"SWITZERLAND\",\"SYRIA\",\"TAIWAN\",\"THAILAND\",\"TUNISIA\",\"TURKEY\",\"UNITED KINGDOM\",\"URUGUAY\",\"VENEZUELA\",\"VIETNAM\",\"ZIMBABWE\"],\"y\":[13.350083333333332,12.51825,23.18816666666667,14.771333333333333,20.984916666666667,6.962833333333333,25.39675,10.454583333333334,20.777916666666666,24.616833333333332,10.300416666666665,9.369166666666667,6.9755,24.753583333333335,9.236916666666668,21.730333333333334,21.8925,26.69141666666667,6.746416666666666,22.93675,3.045916666666667,11.525916666666667,9.176499999999999,14.381749999999998,23.273083333333332,10.288833333333335,1.248333333333333,24.047250000000002,25.757583333333333,16.7755,21.055,10.576583333333334,18.877083333333335,13.354666666666667,12.102583333333333,24.63525,7.181750000000001,17.01975,10.12075,22.988583333333334,25.980416666666667,18.150333333333332,23.798333333333332,10.1195,10.464666666666666,27.0685,7.137250000000001,1.2173333333333334,19.85141666666667,26.55316666666667,8.606333333333334,15.758666666666668,26.396,8.988166666666666,25.0955,17.666999999999998,12.057833333333333,14.510083333333334,4.023333333333333,7.995833333333334,17.2775,22.36491666666667,26.249583333333334,20.146,10.961,9.814333333333332,17.28925,24.96366666666667,24.04433333333333,21.535083333333333],\"type\":\"bar\"}],                        {\"template\":{\"data\":{\"bar\":[{\"error_x\":{\"color\":\"#2a3f5f\"},\"error_y\":{\"color\":\"#2a3f5f\"},\"marker\":{\"line\":{\"color\":\"#E5ECF6\",\"width\":0.5},\"pattern\":{\"fillmode\":\"overlay\",\"size\":10,\"solidity\":0.2}},\"type\":\"bar\"}],\"barpolar\":[{\"marker\":{\"line\":{\"color\":\"#E5ECF6\",\"width\":0.5},\"pattern\":{\"fillmode\":\"overlay\",\"size\":10,\"solidity\":0.2}},\"type\":\"barpolar\"}],\"carpet\":[{\"aaxis\":{\"endlinecolor\":\"#2a3f5f\",\"gridcolor\":\"white\",\"linecolor\":\"white\",\"minorgridcolor\":\"white\",\"startlinecolor\":\"#2a3f5f\"},\"baxis\":{\"endlinecolor\":\"#2a3f5f\",\"gridcolor\":\"white\",\"linecolor\":\"white\",\"minorgridcolor\":\"white\",\"startlinecolor\":\"#2a3f5f\"},\"type\":\"carpet\"}],\"choropleth\":[{\"colorbar\":{\"outlinewidth\":0,\"ticks\":\"\"},\"type\":\"choropleth\"}],\"contour\":[{\"colorbar\":{\"outlinewidth\":0,\"ticks\":\"\"},\"colorscale\":[[0.0,\"#0d0887\"],[0.1111111111111111,\"#46039f\"],[0.2222222222222222,\"#7201a8\"],[0.3333333333333333,\"#9c179e\"],[0.4444444444444444,\"#bd3786\"],[0.5555555555555556,\"#d8576b\"],[0.6666666666666666,\"#ed7953\"],[0.7777777777777778,\"#fb9f3a\"],[0.8888888888888888,\"#fdca26\"],[1.0,\"#f0f921\"]],\"type\":\"contour\"}],\"contourcarpet\":[{\"colorbar\":{\"outlinewidth\":0,\"ticks\":\"\"},\"type\":\"contourcarpet\"}],\"heatmap\":[{\"colorbar\":{\"outlinewidth\":0,\"ticks\":\"\"},\"colorscale\":[[0.0,\"#0d0887\"],[0.1111111111111111,\"#46039f\"],[0.2222222222222222,\"#7201a8\"],[0.3333333333333333,\"#9c179e\"],[0.4444444444444444,\"#bd3786\"],[0.5555555555555556,\"#d8576b\"],[0.6666666666666666,\"#ed7953\"],[0.7777777777777778,\"#fb9f3a\"],[0.8888888888888888,\"#fdca26\"],[1.0,\"#f0f921\"]],\"type\":\"heatmap\"}],\"heatmapgl\":[{\"colorbar\":{\"outlinewidth\":0,\"ticks\":\"\"},\"colorscale\":[[0.0,\"#0d0887\"],[0.1111111111111111,\"#46039f\"],[0.2222222222222222,\"#7201a8\"],[0.3333333333333333,\"#9c179e\"],[0.4444444444444444,\"#bd3786\"],[0.5555555555555556,\"#d8576b\"],[0.6666666666666666,\"#ed7953\"],[0.7777777777777778,\"#fb9f3a\"],[0.8888888888888888,\"#fdca26\"],[1.0,\"#f0f921\"]],\"type\":\"heatmapgl\"}],\"histogram\":[{\"marker\":{\"pattern\":{\"fillmode\":\"overlay\",\"size\":10,\"solidity\":0.2}},\"type\":\"histogram\"}],\"histogram2d\":[{\"colorbar\":{\"outlinewidth\":0,\"ticks\":\"\"},\"colorscale\":[[0.0,\"#0d0887\"],[0.1111111111111111,\"#46039f\"],[0.2222222222222222,\"#7201a8\"],[0.3333333333333333,\"#9c179e\"],[0.4444444444444444,\"#bd3786\"],[0.5555555555555556,\"#d8576b\"],[0.6666666666666666,\"#ed7953\"],[0.7777777777777778,\"#fb9f3a\"],[0.8888888888888888,\"#fdca26\"],[1.0,\"#f0f921\"]],\"type\":\"histogram2d\"}],\"histogram2dcontour\":[{\"colorbar\":{\"outlinewidth\":0,\"ticks\":\"\"},\"colorscale\":[[0.0,\"#0d0887\"],[0.1111111111111111,\"#46039f\"],[0.2222222222222222,\"#7201a8\"],[0.3333333333333333,\"#9c179e\"],[0.4444444444444444,\"#bd3786\"],[0.5555555555555556,\"#d8576b\"],[0.6666666666666666,\"#ed7953\"],[0.7777777777777778,\"#fb9f3a\"],[0.8888888888888888,\"#fdca26\"],[1.0,\"#f0f921\"]],\"type\":\"histogram2dcontour\"}],\"mesh3d\":[{\"colorbar\":{\"outlinewidth\":0,\"ticks\":\"\"},\"type\":\"mesh3d\"}],\"parcoords\":[{\"line\":{\"colorbar\":{\"outlinewidth\":0,\"ticks\":\"\"}},\"type\":\"parcoords\"}],\"pie\":[{\"automargin\":true,\"type\":\"pie\"}],\"scatter\":[{\"marker\":{\"colorbar\":{\"outlinewidth\":0,\"ticks\":\"\"}},\"type\":\"scatter\"}],\"scatter3d\":[{\"line\":{\"colorbar\":{\"outlinewidth\":0,\"ticks\":\"\"}},\"marker\":{\"colorbar\":{\"outlinewidth\":0,\"ticks\":\"\"}},\"type\":\"scatter3d\"}],\"scattercarpet\":[{\"marker\":{\"colorbar\":{\"outlinewidth\":0,\"ticks\":\"\"}},\"type\":\"scattercarpet\"}],\"scattergeo\":[{\"marker\":{\"colorbar\":{\"outlinewidth\":0,\"ticks\":\"\"}},\"type\":\"scattergeo\"}],\"scattergl\":[{\"marker\":{\"colorbar\":{\"outlinewidth\":0,\"ticks\":\"\"}},\"type\":\"scattergl\"}],\"scattermapbox\":[{\"marker\":{\"colorbar\":{\"outlinewidth\":0,\"ticks\":\"\"}},\"type\":\"scattermapbox\"}],\"scatterpolar\":[{\"marker\":{\"colorbar\":{\"outlinewidth\":0,\"ticks\":\"\"}},\"type\":\"scatterpolar\"}],\"scatterpolargl\":[{\"marker\":{\"colorbar\":{\"outlinewidth\":0,\"ticks\":\"\"}},\"type\":\"scatterpolargl\"}],\"scatterternary\":[{\"marker\":{\"colorbar\":{\"outlinewidth\":0,\"ticks\":\"\"}},\"type\":\"scatterternary\"}],\"surface\":[{\"colorbar\":{\"outlinewidth\":0,\"ticks\":\"\"},\"colorscale\":[[0.0,\"#0d0887\"],[0.1111111111111111,\"#46039f\"],[0.2222222222222222,\"#7201a8\"],[0.3333333333333333,\"#9c179e\"],[0.4444444444444444,\"#bd3786\"],[0.5555555555555556,\"#d8576b\"],[0.6666666666666666,\"#ed7953\"],[0.7777777777777778,\"#fb9f3a\"],[0.8888888888888888,\"#fdca26\"],[1.0,\"#f0f921\"]],\"type\":\"surface\"}],\"table\":[{\"cells\":{\"fill\":{\"color\":\"#EBF0F8\"},\"line\":{\"color\":\"white\"}},\"header\":{\"fill\":{\"color\":\"#C8D4E3\"},\"line\":{\"color\":\"white\"}},\"type\":\"table\"}]},\"layout\":{\"annotationdefaults\":{\"arrowcolor\":\"#2a3f5f\",\"arrowhead\":0,\"arrowwidth\":1},\"autotypenumbers\":\"strict\",\"coloraxis\":{\"colorbar\":{\"outlinewidth\":0,\"ticks\":\"\"}},\"colorscale\":{\"diverging\":[[0,\"#8e0152\"],[0.1,\"#c51b7d\"],[0.2,\"#de77ae\"],[0.3,\"#f1b6da\"],[0.4,\"#fde0ef\"],[0.5,\"#f7f7f7\"],[0.6,\"#e6f5d0\"],[0.7,\"#b8e186\"],[0.8,\"#7fbc41\"],[0.9,\"#4d9221\"],[1,\"#276419\"]],\"sequential\":[[0.0,\"#0d0887\"],[0.1111111111111111,\"#46039f\"],[0.2222222222222222,\"#7201a8\"],[0.3333333333333333,\"#9c179e\"],[0.4444444444444444,\"#bd3786\"],[0.5555555555555556,\"#d8576b\"],[0.6666666666666666,\"#ed7953\"],[0.7777777777777778,\"#fb9f3a\"],[0.8888888888888888,\"#fdca26\"],[1.0,\"#f0f921\"]],\"sequentialminus\":[[0.0,\"#0d0887\"],[0.1111111111111111,\"#46039f\"],[0.2222222222222222,\"#7201a8\"],[0.3333333333333333,\"#9c179e\"],[0.4444444444444444,\"#bd3786\"],[0.5555555555555556,\"#d8576b\"],[0.6666666666666666,\"#ed7953\"],[0.7777777777777778,\"#fb9f3a\"],[0.8888888888888888,\"#fdca26\"],[1.0,\"#f0f921\"]]},\"colorway\":[\"#636efa\",\"#EF553B\",\"#00cc96\",\"#ab63fa\",\"#FFA15A\",\"#19d3f3\",\"#FF6692\",\"#B6E880\",\"#FF97FF\",\"#FECB52\"],\"font\":{\"color\":\"#2a3f5f\"},\"geo\":{\"bgcolor\":\"white\",\"lakecolor\":\"white\",\"landcolor\":\"#E5ECF6\",\"showlakes\":true,\"showland\":true,\"subunitcolor\":\"white\"},\"hoverlabel\":{\"align\":\"left\"},\"hovermode\":\"closest\",\"mapbox\":{\"style\":\"light\"},\"paper_bgcolor\":\"white\",\"plot_bgcolor\":\"#E5ECF6\",\"polar\":{\"angularaxis\":{\"gridcolor\":\"white\",\"linecolor\":\"white\",\"ticks\":\"\"},\"bgcolor\":\"#E5ECF6\",\"radialaxis\":{\"gridcolor\":\"white\",\"linecolor\":\"white\",\"ticks\":\"\"}},\"scene\":{\"xaxis\":{\"backgroundcolor\":\"#E5ECF6\",\"gridcolor\":\"white\",\"gridwidth\":2,\"linecolor\":\"white\",\"showbackground\":true,\"ticks\":\"\",\"zerolinecolor\":\"white\"},\"yaxis\":{\"backgroundcolor\":\"#E5ECF6\",\"gridcolor\":\"white\",\"gridwidth\":2,\"linecolor\":\"white\",\"showbackground\":true,\"ticks\":\"\",\"zerolinecolor\":\"white\"},\"zaxis\":{\"backgroundcolor\":\"#E5ECF6\",\"gridcolor\":\"white\",\"gridwidth\":2,\"linecolor\":\"white\",\"showbackground\":true,\"ticks\":\"\",\"zerolinecolor\":\"white\"}},\"shapedefaults\":{\"line\":{\"color\":\"#2a3f5f\"}},\"ternary\":{\"aaxis\":{\"gridcolor\":\"white\",\"linecolor\":\"white\",\"ticks\":\"\"},\"baxis\":{\"gridcolor\":\"white\",\"linecolor\":\"white\",\"ticks\":\"\"},\"bgcolor\":\"#E5ECF6\",\"caxis\":{\"gridcolor\":\"white\",\"linecolor\":\"white\",\"ticks\":\"\"}},\"title\":{\"x\":0.05},\"xaxis\":{\"automargin\":true,\"gridcolor\":\"white\",\"linecolor\":\"white\",\"ticks\":\"\",\"title\":{\"standoff\":15},\"zerolinecolor\":\"white\",\"zerolinewidth\":2},\"yaxis\":{\"automargin\":true,\"gridcolor\":\"white\",\"linecolor\":\"white\",\"ticks\":\"\",\"title\":{\"standoff\":15},\"zerolinecolor\":\"white\",\"zerolinewidth\":2}}}},                        {\"responsive\": true}                    ).then(function(){\n",
       "                            \n",
       "var gd = document.getElementById('6e6cc0c9-b93b-4880-a96e-384fd2e21820');\n",
       "var x = new MutationObserver(function (mutations, observer) {{\n",
       "        var display = window.getComputedStyle(gd).display;\n",
       "        if (!display || display === 'none') {{\n",
       "            console.log([gd, 'removed!']);\n",
       "            Plotly.purge(gd);\n",
       "            observer.disconnect();\n",
       "        }}\n",
       "}});\n",
       "\n",
       "// Listen for the removal of the full notebook cells\n",
       "var notebookContainer = gd.closest('#notebook-container');\n",
       "if (notebookContainer) {{\n",
       "    x.observe(notebookContainer, {childList: true});\n",
       "}}\n",
       "\n",
       "// Listen for the clearing of the current output cell\n",
       "var outputEl = gd.closest('.output');\n",
       "if (outputEl) {{\n",
       "    x.observe(outputEl, {childList: true});\n",
       "}}\n",
       "\n",
       "                        })                };                });            </script>        </div>"
      ]
     },
     "metadata": {},
     "output_type": "display_data"
    }
   ],
   "source": [
    "fig = go.Figure()\n",
    "fig.add_trace(go.Bar(\n",
    "    x=df[\"Country\"],\n",
    "    y=np.log(df[\"GHG\"]),\n",
    "    name=\"GHG EMission\",\n",
    "    marker_color='#0d0887'\n",
    "))\n",
    "fig.add_trace(go.Bar(\n",
    "    x=df[\"Country\"],\n",
    "    y=df[\"AverageTemperature\"],\n",
    "    name=\"Average Temperature\",\n",
    "    marker_color='#fdca26'\n",
    "))"
   ]
  },
  {
   "cell_type": "code",
   "execution_count": null,
   "id": "ba7c0650",
   "metadata": {},
   "outputs": [],
   "source": []
  },
  {
   "cell_type": "code",
   "execution_count": null,
   "id": "b7246d67",
   "metadata": {},
   "outputs": [],
   "source": []
  }
 ],
 "metadata": {
  "kernelspec": {
   "display_name": "Python 3 (ipykernel)",
   "language": "python",
   "name": "python3"
  },
  "language_info": {
   "codemirror_mode": {
    "name": "ipython",
    "version": 3
   },
   "file_extension": ".py",
   "mimetype": "text/x-python",
   "name": "python",
   "nbconvert_exporter": "python",
   "pygments_lexer": "ipython3",
   "version": "3.10.4"
  }
 },
 "nbformat": 4,
 "nbformat_minor": 5
}
